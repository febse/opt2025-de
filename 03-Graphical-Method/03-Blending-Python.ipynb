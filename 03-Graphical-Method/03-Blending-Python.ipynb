{
 "cells": [
  {
   "cell_type": "markdown",
   "metadata": {},
   "source": [
    "# Umsetzung mit Gurobi in Python"
   ]
  },
  {
   "cell_type": "code",
   "execution_count": 16,
   "metadata": {},
   "outputs": [
    {
     "name": "stdout",
     "output_type": "stream",
     "text": [
      "Optimal objective value: 12000.0 EUR\n",
      "super_espresso, 200.0\n",
      "deluxe_espresso, 80.0\n"
     ]
    }
   ],
   "source": [
    "import gurobipy as gp\n",
    "from gurobipy import GRB\n",
    "import pandas as pd\n",
    "\n",
    "# Create a new model\n",
    "m = gp.Model(\"Coffee Blending\")\n",
    "m.Params.LogToConsole = 0\n",
    "\n",
    "# Create variables\n",
    "\n",
    "super_espresso = m.addVar(name=\"super_espresso\")\n",
    "deluxe_espresso = m.addVar(name=\"deluxe_espresso\")\n",
    "\n",
    "# Set objective\n",
    "m.setObjective(40 * super_espresso + 50 * deluxe_espresso, GRB.MAXIMIZE)\n",
    "\n",
    "# Add constraints\n",
    "arabica_constr = m.addConstr(0.5 * super_espresso + 0.25 * deluxe_espresso <= 120, \"Arabica\")\n",
    "robusta_constr = m.addConstr(0.5 * super_espresso + 0.75 * deluxe_espresso <= 160, \"Robusta\")\n",
    "demand_constr = m.addConstr(deluxe_espresso <= 150, \"Nachfrage Deluxe\")\n",
    "\n",
    "# Optimize model\n",
    "m.optimize()\n",
    "\n",
    "\n",
    "print(f\"Optimal objective value: {m.objVal} EUR\")\n",
    "\n",
    "# Print the solution\n",
    "for v in m.getVars():\n",
    "    print(f\"{v.varName}, {v.x}\")\n"
   ]
  },
  {
   "cell_type": "markdown",
   "metadata": {},
   "source": [
    "## Überprüfung des Modells\n",
    "\n",
    "Mit komplexen Methoden wird es schwierig, sicherzustellen, dass das Modell korrekt ist. Wir können uns das Modell als eine Textdatei ausgeben lassen und überprüfen, ob es unseren Erwartungen entspricht. Das können wir mit der Methode `write` machen."
   ]
  },
  {
   "cell_type": "code",
   "execution_count": 17,
   "metadata": {},
   "outputs": [
    {
     "name": "stdout",
     "output_type": "stream",
     "text": [
      "\\ Model Coffee Blending\n",
      "\\ LP format - for model browsing. Use MPS format to capture full model detail.\n",
      "Maximize\n",
      "  40 super_espresso + 50 deluxe_espresso\n",
      "Subject To\n",
      " Arabica: 0.5 super_espresso + 0.25 deluxe_espresso <= 120\n",
      " Robusta: 0.5 super_espresso + 0.75 deluxe_espresso <= 160\n",
      " Nachfrage_Deluxe: deluxe_espresso <= 150\n",
      "Bounds\n",
      "End\n",
      "\n"
     ]
    }
   ],
   "source": [
    "m.write(\"coffee_blending.lp\")\n",
    "\n",
    "with open(\"coffee_blending.lp\", \"r\") as f:\n",
    "    print(f.read())"
   ]
  },
  {
   "cell_type": "markdown",
   "metadata": {},
   "source": [
    "## Zugriff auf die Lösung\n",
    "\n",
    "Nachdem das Modell gelöst wurde, müssen wir auf die Lösung zugreifen, um sie zusammenzufassen und zu interpretieren. In der Regel sind wir an den Werten der Entscheidungsvariablen, dem Wert der Zielfunktion und den Schattenpreisen interessiert.\n",
    "\n",
    "Die Entscheidungsvariablen haben under anderem die folgenden Attribute:\n",
    "\n",
    "- `VarName`: Wert der Entscheidungsvariable im Optimum\n",
    "- `x`: Wert der Entscheidungsvariable im Optimum\n",
    "- `RC`: Reduzierte Kosten der Entscheidungsvariable\n",
    "- `SAObjLow`: Sensitivität des Zielfunktionswerts in Bezug auf den Koeffizienten der Entscheidungsvariable in der Zielfunktion\n",
    "- `SAObjUp`: Sensitivität des Zielfunktionswerts in Bezug auf den Koeffizienten der Entscheidungsvariable in der Zielfunktion\n",
    "- `SALBLow`: Sensitivität in Bezug auf den unteren Schrankenwert der Entscheidungsvariable\n",
    "- `SAUBUp`: Sensitivität in Bezug auf den oberen Schrankenwert der Entscheidungsvariable\n",
    "\n",
    "Die Einschränkungen haben unter anderem die folgenden Attribute:\n",
    "\n",
    "- `ConstrName`: Name der Einschränkung\n",
    "- `Slack`: Überschuss der Einschränkung\n",
    "- `Pi`: Schattenpreis der Einschränkung\n",
    "- `RHS`: Rechte Seite der Einschränkung\n",
    "- `SARHSLow`: Sensitivität des Zielfunktionswerts in Bezug auf den rechten Seitenwert der Einschränkung\n",
    "- `SARHSUp`: Sensitivität des Zielfunktionswerts in Bezug auf den rechten Seitenwert der Einschränkung\n",
    "\n",
    "Mehr Information über die Attribute des Modellobjekts, Einschränkungen und Variablen finden Sie [hier](https://www.gurobi.com/documentation/11.0/refman/attributes.html#sec:Attributes).\n"
   ]
  },
  {
   "cell_type": "code",
   "execution_count": 3,
   "metadata": {},
   "outputs": [
    {
     "name": "stdout",
     "output_type": "stream",
     "text": [
      "Name der Variable super_espresso:  super_espresso\n",
      "Wert von Super Espresso im Optimum:  200.0\n",
      "Reduced Cost von Super Espresso:  0.0\n",
      "Obere Schranke für den Zielfunktionskoeffizienten von Super Espresso:  100.00000000000003\n",
      "Untere Schranke für den Zielfunktionskoeffizienten von Super Espresso:  33.333333333333336\n"
     ]
    }
   ],
   "source": [
    "print(\"Name der Variable super_espresso: \", super_espresso.varName)\n",
    "print(\"Wert von Super Espresso im Optimum: \", super_espresso.x)\n",
    "print(\"Reduced Cost von Super Espresso: \", super_espresso.RC)\n",
    "print(\"Obere Schranke für den Zielfunktionskoeffizienten von Super Espresso: \", super_espresso.SAObjUp)\n",
    "print(\"Untere Schranke für den Zielfunktionskoeffizienten von Super Espresso: \", super_espresso.SAObjLow)\n"
   ]
  },
  {
   "cell_type": "code",
   "execution_count": 4,
   "metadata": {},
   "outputs": [
    {
     "name": "stdout",
     "output_type": "stream",
     "text": [
      "Arabica Constraint Name:  Arabica\n",
      "Arabica Constraint Slack:  0.0\n",
      "Arabica Constraint Shadow Price:  19.99999999999999\n",
      "Arabica Constraint RHS:  120.0\n",
      "Obere Schranke für die RHS des Arabica Constraints:  160.0\n",
      "Untere Schranke für die RHS des Arabica Constraints:  85.0\n"
     ]
    }
   ],
   "source": [
    "print(\"Arabica Constraint Name: \", arabica_constr.constrName)\n",
    "print(\"Arabica Constraint Slack: \", arabica_constr.Slack)\n",
    "print(\"Arabica Constraint Shadow Price: \", arabica_constr.Pi)\n",
    "print(\"Arabica Constraint RHS: \", arabica_constr.RHS)\n",
    "print(\"Obere Schranke für die RHS des Arabica Constraints: \", arabica_constr.SARHSUp)\n",
    "print(\"Untere Schranke für die RHS des Arabica Constraints: \", arabica_constr.SARHSLow)"
   ]
  },
  {
   "cell_type": "markdown",
   "metadata": {},
   "source": [
    "Es ist häufig bequemer, die Werte in einen `DataFrame` zu übertragen, um sie zu analysieren.\n",
    "\n",
    "Das Modellobjekt (in dem Code oben unter `m` gespeichert) hat zwei Methoden, die für uns interessant sind:\n",
    "\n",
    "- `getVars()`: erlaubt uns über die Entscheidungsvariablen zu iterieren\n",
    "- `getConstrs()`: erlaubt uns über die Einschränkungen zu iterieren"
   ]
  },
  {
   "cell_type": "code",
   "execution_count": 5,
   "metadata": {},
   "outputs": [
    {
     "name": "stdout",
     "output_type": "stream",
     "text": [
      "super_espresso 200.0 0.0 33.333333333333336 100.00000000000003\n",
      "deluxe_espresso 80.0 0.0 19.999999999999993 60.0\n"
     ]
    }
   ],
   "source": [
    "for v in m.getVars():\n",
    "    print(v.VarName, v.x, v.RC, v.SAObjLow, v.SAObjUp)"
   ]
  },
  {
   "cell_type": "code",
   "execution_count": 7,
   "metadata": {},
   "outputs": [
    {
     "name": "stdout",
     "output_type": "stream",
     "text": [
      "Arabica 19.99999999999999 85.0 160.0\n",
      "Robusta 60.00000000000001 120.0 195.0\n",
      "Nachfrage Deluxe 0.0 80.0 inf\n"
     ]
    }
   ],
   "source": [
    "for c in m.getConstrs():\n",
    "    print(c.ConstrName, c.Pi, c.SARHSLow, c.SARHSUp)"
   ]
  },
  {
   "cell_type": "markdown",
   "metadata": {},
   "source": [
    "Es ist häufig bequem, die Lösung in einen `DataFrame` zu übertragen, um sie zu analysieren. Das können wir leicht mit der Bibliothek `pandas` machen."
   ]
  },
  {
   "cell_type": "code",
   "execution_count": 8,
   "metadata": {},
   "outputs": [
    {
     "data": {
      "text/html": [
       "<div>\n",
       "<style scoped>\n",
       "    .dataframe tbody tr th:only-of-type {\n",
       "        vertical-align: middle;\n",
       "    }\n",
       "\n",
       "    .dataframe tbody tr th {\n",
       "        vertical-align: top;\n",
       "    }\n",
       "\n",
       "    .dataframe thead th {\n",
       "        text-align: right;\n",
       "    }\n",
       "</style>\n",
       "<table border=\"1\" class=\"dataframe\">\n",
       "  <thead>\n",
       "    <tr style=\"text-align: right;\">\n",
       "      <th></th>\n",
       "      <th>Name</th>\n",
       "      <th>Value</th>\n",
       "      <th>RC</th>\n",
       "    </tr>\n",
       "  </thead>\n",
       "  <tbody>\n",
       "    <tr>\n",
       "      <th>0</th>\n",
       "      <td>super_espresso</td>\n",
       "      <td>200.0</td>\n",
       "      <td>0.0</td>\n",
       "    </tr>\n",
       "    <tr>\n",
       "      <th>1</th>\n",
       "      <td>deluxe_espresso</td>\n",
       "      <td>80.0</td>\n",
       "      <td>0.0</td>\n",
       "    </tr>\n",
       "  </tbody>\n",
       "</table>\n",
       "</div>"
      ],
      "text/plain": [
       "              Name  Value   RC\n",
       "0   super_espresso  200.0  0.0\n",
       "1  deluxe_espresso   80.0  0.0"
      ]
     },
     "execution_count": 8,
     "metadata": {},
     "output_type": "execute_result"
    }
   ],
   "source": [
    "variables_df = pd.DataFrame(\n",
    "    [(v.varName, v.x, v.RC) for v in m.getVars()],\n",
    "    columns=[\"Name\", \"Value\", \"RC\"])\n",
    "\n",
    "variables_df"
   ]
  },
  {
   "cell_type": "code",
   "execution_count": 9,
   "metadata": {},
   "outputs": [
    {
     "name": "stdout",
     "output_type": "stream",
     "text": [
      "               Name  Slack  ShadowPrice  Lower  Upper\n",
      "0           Arabica    0.0         20.0   85.0  160.0\n",
      "1           Robusta    0.0         60.0  120.0  195.0\n",
      "2  Nachfrage Deluxe   70.0          0.0   80.0    inf\n"
     ]
    }
   ],
   "source": [
    "constr_df = pd.DataFrame(\n",
    "    [(c.constrName, c.slack, c.Pi, c.SARHSLow, c.SARHSUp) for c in m.getConstrs()],\n",
    "    columns=[\"Name\", \"Slack\", \"ShadowPrice\", \"Lower\", \"Upper\"])\n",
    "\n",
    "print(constr_df)"
   ]
  },
  {
   "cell_type": "markdown",
   "metadata": {},
   "source": [
    "## Verallgemeinerung und Trennung von Modell und Daten\n",
    "\n",
    "In der Implementation oben haben wir die Koeffizienten des Modells fest im Code eingegeben. Das funktioniert in dieser kleinen Aufgabe, allerdings ist es nicht flexibel.\n",
    "Stellen wir uns vor, daß wie den optimalen Plan jeden Monat neu berechnen müssen, weil sich die Preise oder die Nachfrage ändern. In diesem Fall wäre es besser, wenn wir\n",
    "das Modell und die Koeffizienten trennen. Danach können das Modell mit verschiedenen Koeffizienten laufen lassen. Das ist auch nützlich, wenn wir das Optimum unter verschiedenen Szenarien berechnen wollen (unterschiedliche Preise, Nachfrage, Verfügbarkeit von Ressourcen, etc).\n"
   ]
  },
  {
   "cell_type": "code",
   "execution_count": 10,
   "metadata": {},
   "outputs": [
    {
     "name": "stdout",
     "output_type": "stream",
     "text": [
      "[40, 50]\n",
      "{'arabica': 120, 'robusta': 160, 'demand': 150}\n",
      "{'arabica': [0.5, 0.25], 'robusta': [0.5, 0.75], 'demand': [0, 1]}\n"
     ]
    }
   ],
   "source": [
    "# Define the data\n",
    "\n",
    "# Define the objective function coefficients\n",
    "obj_coeffs = [40, 50]\n",
    "\n",
    "# Define the production constraints\n",
    "prod_constr_coeff = {\n",
    "    \"arabica\": [0.5, 0.25],\n",
    "    \"robusta\": [0.5, 0.75],\n",
    "    \"demand\": [0, 1],\n",
    "}\n",
    "\n",
    "prod_constr_rhs = {\n",
    "    \"arabica\": 120,\n",
    "    \"robusta\": 160,\n",
    "    \"demand\": 150,\n",
    "}\n",
    "\n",
    "print(obj_coeffs)\n",
    "print(prod_constr_rhs)\n",
    "print(prod_constr_coeff)"
   ]
  },
  {
   "cell_type": "markdown",
   "metadata": {},
   "source": [
    "Die `addVars` Methode erlaubt uns, Entscheidungsvariablen zum Modell hinzuzufügen. Es gibt mehrere Möglichkeiten, die Variablen zu definieren (siehe auch die [Dokumentation](https://www.gurobi.com/documentation/11.0/refman/py_model_addvars.html)).\n",
    "\n",
    "- `addVars(2, name=\"x\")`: fügt zwei Variablen hinzu, die den Namen `x` haben\n",
    "- `addVars([\"a\", \"b\"], name=\"x\")`: fügt zwei Variablen hinzu, die den Namen `x` haben, aber unterschiedliche Indizes haben"
   ]
  },
  {
   "cell_type": "code",
   "execution_count": 11,
   "metadata": {},
   "outputs": [
    {
     "name": "stdout",
     "output_type": "stream",
     "text": [
      "[0, 1, 2, 3, 4, 5, 6, 7, 8, 9]\n",
      "0\n",
      "1\n",
      "2\n",
      "3\n",
      "4\n",
      "5\n",
      "6\n",
      "7\n",
      "8\n",
      "9\n",
      "Über eine Dictionary iterieren\n",
      "\n",
      "Key= arabica Value= [0.5, 0.25]\n",
      "Key= robusta Value= [0.5, 0.75]\n",
      "Key= demand Value= [0, 1]\n"
     ]
    }
   ],
   "source": [
    "# Nützliche Funktionen\n",
    "\n",
    "print(list(range(10)))\n",
    "\n",
    "for i in range(10):\n",
    "    print(i)\n",
    "\n",
    "print(\"Über eine Dictionary iterieren\\n\")\n",
    "\n",
    "for key, value in prod_constr_coeff.items():\n",
    "    print(\"Key=\", key, \"Value=\", value)\n"
   ]
  },
  {
   "cell_type": "code",
   "execution_count": 19,
   "metadata": {},
   "outputs": [
    {
     "name": "stdout",
     "output_type": "stream",
     "text": [
      "Optimal objective value: 12000.0 EUR\n"
     ]
    }
   ],
   "source": [
    "mod1 = gp.Model(\"Coffee Blending\")\n",
    "mod1.Params.LogToConsole = 0\n",
    "\n",
    "# Create variables\n",
    "\n",
    "# The data is given as a pandas DataFrame\n",
    "# With as many columns as there are espresso types\n",
    "# and one column for the right-hand side\n",
    "# All constraints are of the form a_1 * x_1 + a_2 * x_2 + ... <= RHS\n",
    "\n",
    "n_vars = len(obj_coeffs)\n",
    "espresso = mod1.addVars(n_vars, name=\"espresso\")\n",
    "\n",
    "# Set objective\n",
    "mod1.setObjective(gp.quicksum([obj_coeffs[i] * espresso[i] for i in range(n_vars)]), GRB.MAXIMIZE)\n",
    "\n",
    "# Add constraints\n",
    "# Wir können über die Dictionary iterieren, um die Nebenbedingungen zu erstellen\n",
    "for key, value in prod_constr_coeff.items():\n",
    "    mod1.addConstr(\n",
    "        gp.quicksum([value[i] * espresso[i] for i in range(n_vars)]) <= prod_constr_rhs[key],\n",
    "        name=key\n",
    "    )\n",
    "\n",
    "mod1.optimize()\n",
    "\n",
    "print(\"Optimal objective value:\", m.objVal, \"EUR\")\n",
    "\n",
    "# Es ist bequem, die Ergebnisse für die Variablen in einem DataFrame zu speichern\n",
    "# Dasselbe gilt für die Ergebnisse der Nebenbedingungen\n",
    "\n",
    "vars_df = pd.DataFrame(columns=['Variable', 'Value', 'RC'], data=[(v.VarName, v.X, v.RC) for v in m.getVars()])\n",
    "constr_df = pd.DataFrame(columns=['Constraint', 'Shadow Price', 'Lower', 'Upper'], data=[(c.ConstrName, c.Pi, c.SARHSLow, c.SARHSUp) for c in m.getConstrs()])"
   ]
  },
  {
   "cell_type": "code",
   "execution_count": 20,
   "metadata": {},
   "outputs": [],
   "source": [
    "mod1.write(\"coffee_blending_1.lp\")"
   ]
  },
  {
   "cell_type": "code",
   "execution_count": 55,
   "metadata": {},
   "outputs": [
    {
     "data": {
      "text/html": [
       "<div>\n",
       "<style scoped>\n",
       "    .dataframe tbody tr th:only-of-type {\n",
       "        vertical-align: middle;\n",
       "    }\n",
       "\n",
       "    .dataframe tbody tr th {\n",
       "        vertical-align: top;\n",
       "    }\n",
       "\n",
       "    .dataframe thead th {\n",
       "        text-align: right;\n",
       "    }\n",
       "</style>\n",
       "<table border=\"1\" class=\"dataframe\">\n",
       "  <thead>\n",
       "    <tr style=\"text-align: right;\">\n",
       "      <th></th>\n",
       "      <th>Variable</th>\n",
       "      <th>Value</th>\n",
       "      <th>RC</th>\n",
       "    </tr>\n",
       "  </thead>\n",
       "  <tbody>\n",
       "    <tr>\n",
       "      <th>0</th>\n",
       "      <td>espresso[0]</td>\n",
       "      <td>200.0</td>\n",
       "      <td>0.0</td>\n",
       "    </tr>\n",
       "    <tr>\n",
       "      <th>1</th>\n",
       "      <td>espresso[1]</td>\n",
       "      <td>80.0</td>\n",
       "      <td>0.0</td>\n",
       "    </tr>\n",
       "  </tbody>\n",
       "</table>\n",
       "</div>"
      ],
      "text/plain": [
       "      Variable  Value   RC\n",
       "0  espresso[0]  200.0  0.0\n",
       "1  espresso[1]   80.0  0.0"
      ]
     },
     "execution_count": 55,
     "metadata": {},
     "output_type": "execute_result"
    }
   ],
   "source": [
    "vars_df"
   ]
  },
  {
   "cell_type": "code",
   "execution_count": 56,
   "metadata": {},
   "outputs": [
    {
     "data": {
      "text/html": [
       "<div>\n",
       "<style scoped>\n",
       "    .dataframe tbody tr th:only-of-type {\n",
       "        vertical-align: middle;\n",
       "    }\n",
       "\n",
       "    .dataframe tbody tr th {\n",
       "        vertical-align: top;\n",
       "    }\n",
       "\n",
       "    .dataframe thead th {\n",
       "        text-align: right;\n",
       "    }\n",
       "</style>\n",
       "<table border=\"1\" class=\"dataframe\">\n",
       "  <thead>\n",
       "    <tr style=\"text-align: right;\">\n",
       "      <th></th>\n",
       "      <th>Constraint</th>\n",
       "      <th>Shadow Price</th>\n",
       "      <th>Lower</th>\n",
       "      <th>Upper</th>\n",
       "    </tr>\n",
       "  </thead>\n",
       "  <tbody>\n",
       "    <tr>\n",
       "      <th>0</th>\n",
       "      <td>arabica</td>\n",
       "      <td>20.0</td>\n",
       "      <td>85.0</td>\n",
       "      <td>160.0</td>\n",
       "    </tr>\n",
       "    <tr>\n",
       "      <th>1</th>\n",
       "      <td>robusta</td>\n",
       "      <td>60.0</td>\n",
       "      <td>120.0</td>\n",
       "      <td>195.0</td>\n",
       "    </tr>\n",
       "    <tr>\n",
       "      <th>2</th>\n",
       "      <td>demand</td>\n",
       "      <td>0.0</td>\n",
       "      <td>80.0</td>\n",
       "      <td>inf</td>\n",
       "    </tr>\n",
       "  </tbody>\n",
       "</table>\n",
       "</div>"
      ],
      "text/plain": [
       "  Constraint  Shadow Price  Lower  Upper\n",
       "0    arabica          20.0   85.0  160.0\n",
       "1    robusta          60.0  120.0  195.0\n",
       "2     demand           0.0   80.0    inf"
      ]
     },
     "execution_count": 56,
     "metadata": {},
     "output_type": "execute_result"
    }
   ],
   "source": [
    "constr_df"
   ]
  },
  {
   "cell_type": "code",
   "execution_count": 22,
   "metadata": {},
   "outputs": [],
   "source": [
    "def build_espresso_blending_model(\n",
    "        name, \n",
    "        obj_coeffs,\n",
    "        constr_coeffs,\n",
    "        constr_rhs\n",
    "    ):\n",
    "    \"\"\"\n",
    "    Builds an espresso blending optimization model using Gurobi.\n",
    "\n",
    "    Parameters:\n",
    "    - name (str): The name of the optimization model.\n",
    "    - obj_coeffs (list): The coefficients of the objective function.\n",
    "    - constr_coeffs (dict): The constraints for the optimization problem.\n",
    "    - constr_rhs (dict): The constraints for the optimization problem.\n",
    "\n",
    "    Returns:\n",
    "    - m (gurobipy.Model): The built optimization model.\n",
    "    \"\"\"\n",
    "\n",
    "    m = gp.Model(name)\n",
    "    m.Params.LogToConsole = 0\n",
    "\n",
    "    # Create variables\n",
    "\n",
    "    # The data is given as a pandas DataFrame\n",
    "    # With as many columns as there are espresso types\n",
    "    # and one column for the right-hand side\n",
    "    # All constraints are of the form a_1 * x_1 + a_2 * x_2 + ... <= RHS\n",
    "\n",
    "    n_vars = len(obj_coeffs)\n",
    "    espresso = m.addVars(n_vars, name=\"espresso\")\n",
    "\n",
    "    # Set objective\n",
    "    m.setObjective(gp.quicksum([obj_coeffs[i] * espresso[i] for i in range(n_vars)]), GRB.MAXIMIZE)\n",
    "\n",
    "    # Add constraints\n",
    "    # Wir können über die Dictionary iterieren, um die Nebenbedingungen zu erstellen\n",
    "    for key, value in constr_coeffs.items():\n",
    "        m.addConstr(\n",
    "            gp.quicksum([value[i] * espresso[i] for i in range(n_vars)]) <= constr_rhs[key],\n",
    "            name=key\n",
    "        )\n",
    "\n",
    "    return m"
   ]
  },
  {
   "cell_type": "code",
   "execution_count": 23,
   "metadata": {},
   "outputs": [
    {
     "name": "stdout",
     "output_type": "stream",
     "text": [
      "espresso[0], 200.0\n",
      "espresso[1], 80.0\n"
     ]
    }
   ],
   "source": [
    "m2 = build_espresso_blending_model(\"Coffee Blending\", obj_coeffs, prod_constr_coeff, prod_constr_rhs)\n",
    "m2.optimize()\n",
    "\n",
    "# Print the solution\n",
    "for v in m2.getVars():\n",
    "    print(f\"{v.varName}, {v.x}\")"
   ]
  },
  {
   "cell_type": "markdown",
   "metadata": {},
   "source": [
    ":::{#exr-gurobi-python-solution-access}\n",
    "\n",
    "Die Manager des Unternehmens erwägen die Einführung eines neuen Essensangebots (Exotique) und möchten wissen, wie sich das auf den Gewinn auswirken würde. Sie haben die folgenden Informationen:\n",
    "\n",
    "- Der prognostizierte Gewinn pro kg beträgt 45€\n",
    "- Der Verbrauch von Robusta beträgt 0.4 kg pro kg Exotique\n",
    "- Der Verbrauch von Arabica beträgt 0.6 kg pro kg Exotique\n",
    "- Die maximale Nachfrage nach Exotique beträgt 100 kg\n",
    "\n",
    "Benutzen Sie die Funktion `build_espresso_blending_model`, um das Optimierungsmodell zu erstellen. Lösen Sie das Modell und beantworten Sie die folgenden Fragen:\n",
    "\n",
    "1. Wie viele kg Exotique sollten produziert werden?\n",
    "2. Wie hoch ist der maximale Gewinn, der durch die Einführung von Exotique erzielt werden kann?\n",
    "3. Wie viel Robusta und Arabica wird für die Produktion von Exotique verwendet?\n",
    "4. Auf wie viel Euro bewertet das Unternehmen einen Kilogramm Arabica (Schattenpreis)?\n",
    "6. Lohnt es sich, die Nachfrage nach Exotique zu erhöhen (z.B. durch Werbung)?\n",
    "\n",
    "- Erstellen Sie einen `DataFrame`, in dem Sie die Werte der Entscheidungsvariablen speichern.\n",
    "- Erstellen Sie einen `DataFrame`, in dem Sie die Werte der Einschränkungen speichern (Schattenpreise, Überschuss (slack), obere und untere Schranken der rechten Seiten).\n",
    "\n",
    ":::"
   ]
  },
  {
   "cell_type": "code",
   "execution_count": null,
   "metadata": {},
   "outputs": [],
   "source": []
  }
 ],
 "metadata": {
  "kernelspec": {
   "display_name": "opt2024",
   "language": "python",
   "name": "python3"
  },
  "language_info": {
   "codemirror_mode": {
    "name": "ipython",
    "version": 3
   },
   "file_extension": ".py",
   "mimetype": "text/x-python",
   "name": "python",
   "nbconvert_exporter": "python",
   "pygments_lexer": "ipython3",
   "version": "3.11.8"
  }
 },
 "nbformat": 4,
 "nbformat_minor": 2
}
