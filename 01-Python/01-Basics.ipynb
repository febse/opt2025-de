{
 "cells": [
  {
   "cell_type": "raw",
   "id": "97227c84",
   "metadata": {},
   "source": [
    "---\n",
    "code-fold: false\n",
    "---"
   ]
  },
  {
   "cell_type": "markdown",
   "id": "99363d32ecbb9d73",
   "metadata": {
    "collapsed": false
   },
   "source": [
    "# Python Basics\n",
    "\n",
    "Open in Colab [![Open In Colab](https://colab.research.google.com/assets/colab-badge.svg)](https://colab.research.google.com/github/febse/opt2025-de/blob/main/01-Python/01-Basics.ipynb)"
   ]
  },
  {
   "cell_type": "markdown",
   "id": "522932a9",
   "metadata": {},
   "source": [
    "\n",
    "## Arithmetische Operationen\n"
   ]
  },
  {
   "cell_type": "code",
   "execution_count": 1,
   "id": "initial_id",
   "metadata": {
    "ExecuteTime": {
     "end_time": "2024-01-22T16:31:02.270609379Z",
     "start_time": "2024-01-22T16:31:02.028245110Z"
    }
   },
   "outputs": [
    {
     "data": {
      "text/plain": [
       "2"
      ]
     },
     "execution_count": 1,
     "metadata": {},
     "output_type": "execute_result"
    }
   ],
   "source": [
    "# Addition\n",
    "1 + 1"
   ]
  },
  {
   "cell_type": "code",
   "execution_count": 2,
   "id": "d04b6d2e3ece3708",
   "metadata": {
    "ExecuteTime": {
     "end_time": "2024-01-22T16:31:02.380949774Z",
     "start_time": "2024-01-22T16:31:02.356553320Z"
    }
   },
   "outputs": [
    {
     "data": {
      "text/plain": [
       "0.5"
      ]
     },
     "execution_count": 2,
     "metadata": {},
     "output_type": "execute_result"
    }
   ],
   "source": [
    "# Division\n",
    "1 / 2"
   ]
  },
  {
   "cell_type": "code",
   "execution_count": 3,
   "id": "fe855d03391dd94",
   "metadata": {
    "ExecuteTime": {
     "end_time": "2024-01-22T16:31:02.426499917Z",
     "start_time": "2024-01-22T16:31:02.379252047Z"
    }
   },
   "outputs": [
    {
     "data": {
      "text/plain": [
       "6"
      ]
     },
     "execution_count": 3,
     "metadata": {},
     "output_type": "execute_result"
    }
   ],
   "source": [
    "# Multiplikation\n",
    "2 * 3"
   ]
  },
  {
   "cell_type": "code",
   "execution_count": 4,
   "id": "8c3ad557fec00261",
   "metadata": {
    "ExecuteTime": {
     "end_time": "2024-01-22T16:31:02.446783024Z",
     "start_time": "2024-01-22T16:31:02.421259492Z"
    }
   },
   "outputs": [
    {
     "data": {
      "text/plain": [
       "783.1098528099996"
      ]
     },
     "execution_count": 4,
     "metadata": {},
     "output_type": "execute_result"
    }
   ],
   "source": [
    "# Potenz\n",
    "2.3 ** 8"
   ]
  },
  {
   "cell_type": "code",
   "execution_count": 5,
   "id": "2702b9caad95811e",
   "metadata": {
    "ExecuteTime": {
     "end_time": "2024-01-22T16:31:02.282583332Z",
     "start_time": "2024-01-22T16:31:02.266615902Z"
    }
   },
   "outputs": [
    {
     "data": {
      "text/plain": [
       "int"
      ]
     },
     "execution_count": 5,
     "metadata": {},
     "output_type": "execute_result"
    }
   ],
   "source": [
    "# Datentypen\n",
    "type(1)"
   ]
  },
  {
   "cell_type": "code",
   "execution_count": 6,
   "id": "56600d0ec706f9ab",
   "metadata": {
    "ExecuteTime": {
     "end_time": "2024-01-22T16:31:02.338672321Z",
     "start_time": "2024-01-22T16:31:02.285376625Z"
    }
   },
   "outputs": [
    {
     "data": {
      "text/plain": [
       "float"
      ]
     },
     "execution_count": 6,
     "metadata": {},
     "output_type": "execute_result"
    }
   ],
   "source": [
    "type(1.0)"
   ]
  },
  {
   "cell_type": "markdown",
   "id": "9c4aa5391ef37cf",
   "metadata": {
    "collapsed": false
   },
   "source": [
    "### Zuweisung (Assignment)\n",
    "\n",
    "Wir können Werte Variablen zuweisen. In Python verwenden wir dazu das Gleichheitszeichen `=`. Der Wert auf der rechten Seite des Gleichheitszeichens wird der Variablen auf der linken Seite zugewiesen. Anders als in der Mathematik, wo die Gleichung `x = 3` bedeutet, dass `x` gleich `3` ist, bedeutet die Zuweisung `x = 3` in Python, dass der Wert `3` in der Variablen `x` gespeichert wird. Python speichert dann den Wert `3` im Speicher des Rechners und weist ihm den Namen `x` zu.\n"
   ]
  },
  {
   "cell_type": "code",
   "execution_count": 7,
   "id": "666d2d5517ee9e58",
   "metadata": {
    "ExecuteTime": {
     "end_time": "2024-01-22T16:31:02.570664044Z",
     "start_time": "2024-01-22T16:31:02.504913168Z"
    }
   },
   "outputs": [],
   "source": [
    "x = 2\n",
    "y = 5.3"
   ]
  },
  {
   "cell_type": "markdown",
   "id": "9c6772c7",
   "metadata": {},
   "source": [
    "Nach der Zuweisung können wir den Wert der Variablen abrufen, indem wir den Variablennamen verwenden."
   ]
  },
  {
   "cell_type": "code",
   "execution_count": 8,
   "id": "ce4c5851e059bda5",
   "metadata": {
    "ExecuteTime": {
     "end_time": "2024-01-22T16:31:02.645476557Z",
     "start_time": "2024-01-22T16:31:02.576462308Z"
    }
   },
   "outputs": [
    {
     "data": {
      "text/plain": [
       "7.3"
      ]
     },
     "execution_count": 8,
     "metadata": {},
     "output_type": "execute_result"
    }
   ],
   "source": [
    "x + y"
   ]
  },
  {
   "cell_type": "code",
   "execution_count": 9,
   "id": "77862dc7",
   "metadata": {},
   "outputs": [
    {
     "data": {
      "text/plain": [
       "0.37735849056603776"
      ]
     },
     "execution_count": 9,
     "metadata": {},
     "output_type": "execute_result"
    }
   ],
   "source": [
    "x / y"
   ]
  },
  {
   "cell_type": "code",
   "execution_count": 10,
   "id": "04db60ab",
   "metadata": {},
   "outputs": [
    {
     "data": {
      "text/plain": [
       "28.09"
      ]
     },
     "execution_count": 10,
     "metadata": {},
     "output_type": "execute_result"
    }
   ],
   "source": [
    "y ** x"
   ]
  },
  {
   "cell_type": "code",
   "execution_count": 11,
   "id": "f15a300c352a0fbf",
   "metadata": {
    "ExecuteTime": {
     "end_time": "2024-01-22T16:31:02.661959631Z",
     "start_time": "2024-01-22T16:31:02.635191379Z"
    }
   },
   "outputs": [
    {
     "data": {
      "text/plain": [
       "int"
      ]
     },
     "execution_count": 11,
     "metadata": {},
     "output_type": "execute_result"
    }
   ],
   "source": [
    "type(x)"
   ]
  },
  {
   "cell_type": "markdown",
   "id": "6ef4b02a",
   "metadata": {},
   "source": [
    "Wir können nicht nur numerische Werte zuweisen, sondern auch Zeichenketten (Strings), logische Werte (booleans), Listen und andere Datentypen. "
   ]
  },
  {
   "cell_type": "code",
   "execution_count": 12,
   "id": "feb418ad",
   "metadata": {},
   "outputs": [
    {
     "name": "stdout",
     "output_type": "stream",
     "text": [
      "x1 enthält Hallo\n",
      "<class 'str'>\n",
      "x2 enthält True\n",
      "<class 'bool'>\n"
     ]
    }
   ],
   "source": [
    "x1 = \"Hallo\"\n",
    "x2 = True\n",
    "print(\"x1 enthält\", x1)\n",
    "print(type(x1))\n",
    "\n",
    "x2 = True\n",
    "print(\"x2 enthält\", x2)\n",
    "print(type(x2))"
   ]
  },
  {
   "cell_type": "markdown",
   "id": "4b1b0e05",
   "metadata": {},
   "source": [
    ":::{#exr-arithmethic-operations}\n",
    "\n",
    "- Berechnen Sie die Summe der Zahlen 32.8 und 45.1\n",
    "- Berechnen Sie die Differenz der Zahlen 32.8 und 45.1\n",
    "- Speichern Sie die Zahl 32.8 in `a` und die Zahl 45.1 in `b`. Berechnen Sie das Verhältnis von `a` zu `b` und speichern Sie das Ergebnis in `c`. Geben Sie `c` aus in dem Format: `Das Verhältnis von a zu b ist: c`\n",
    "\n",
    ":::"
   ]
  },
  {
   "cell_type": "code",
   "execution_count": 13,
   "id": "b1d17e04",
   "metadata": {},
   "outputs": [
    {
     "name": "stdout",
     "output_type": "stream",
     "text": [
      "77.9\n",
      "-12.300000000000004\n",
      "Das Verhältnis von a zu b ist 0.7272727272727272\n"
     ]
    }
   ],
   "source": [
    "print(32.8 + 45.1)\n",
    "print(32.8 - 45.1)\n",
    "\n",
    "a = 32.8\n",
    "b = 45.1\n",
    "\n",
    "c = a / b\n",
    "\n",
    "print(\"Das Verhältnis von a zu b ist\", c)"
   ]
  },
  {
   "cell_type": "markdown",
   "id": "5cc05778ebf281f2",
   "metadata": {
    "collapsed": false
   },
   "source": [
    "### Logische Werte (Booleans)\n",
    "\n",
    "In Python gibt es auch logische Werte (Booleans). Diese können nur zwei Werte annehmen: `True` und `False`.\n",
    "In den meisten Fällen werden wir diese Werte verwenden, um Bedingungen zu formulieren."
   ]
  },
  {
   "cell_type": "code",
   "execution_count": 14,
   "id": "c3c2a7e51335f247",
   "metadata": {
    "ExecuteTime": {
     "end_time": "2024-01-22T16:31:03.534543513Z",
     "start_time": "2024-01-22T16:31:03.473201752Z"
    }
   },
   "outputs": [
    {
     "data": {
      "text/plain": [
       "False"
      ]
     },
     "execution_count": 14,
     "metadata": {},
     "output_type": "execute_result"
    }
   ],
   "source": [
    "1 > 2"
   ]
  },
  {
   "cell_type": "code",
   "execution_count": 15,
   "id": "c5c8ce126d48a102",
   "metadata": {
    "ExecuteTime": {
     "end_time": "2024-01-22T16:31:03.622791146Z",
     "start_time": "2024-01-22T16:31:03.534699600Z"
    }
   },
   "outputs": [
    {
     "data": {
      "text/plain": [
       "True"
      ]
     },
     "execution_count": 15,
     "metadata": {},
     "output_type": "execute_result"
    }
   ],
   "source": [
    "1 < 3"
   ]
  },
  {
   "cell_type": "code",
   "execution_count": 16,
   "id": "ec3fe58c2a850bae",
   "metadata": {
    "ExecuteTime": {
     "end_time": "2024-01-22T16:31:03.632399619Z",
     "start_time": "2024-01-22T16:31:03.577060719Z"
    }
   },
   "outputs": [
    {
     "data": {
      "text/plain": [
       "True"
      ]
     },
     "execution_count": 16,
     "metadata": {},
     "output_type": "execute_result"
    }
   ],
   "source": [
    "2 == 2"
   ]
  },
  {
   "cell_type": "code",
   "execution_count": 17,
   "id": "541ba5aa4c64c14d",
   "metadata": {
    "ExecuteTime": {
     "end_time": "2024-01-22T16:31:03.698442527Z",
     "start_time": "2024-01-22T16:31:03.602398089Z"
    }
   },
   "outputs": [
    {
     "data": {
      "text/plain": [
       "True"
      ]
     },
     "execution_count": 17,
     "metadata": {},
     "output_type": "execute_result"
    }
   ],
   "source": [
    "\"hallo\" == \"hallo\""
   ]
  },
  {
   "cell_type": "code",
   "execution_count": 18,
   "id": "881a18fedfd3f5b2",
   "metadata": {
    "ExecuteTime": {
     "end_time": "2024-01-22T16:31:03.701591073Z",
     "start_time": "2024-01-22T16:31:03.680729255Z"
    }
   },
   "outputs": [
    {
     "data": {
      "text/plain": [
       "False"
      ]
     },
     "execution_count": 18,
     "metadata": {},
     "output_type": "execute_result"
    }
   ],
   "source": [
    "\"hallo\" == \"Hallo\""
   ]
  },
  {
   "cell_type": "code",
   "execution_count": 19,
   "id": "7693c546",
   "metadata": {},
   "outputs": [
    {
     "name": "stdout",
     "output_type": "stream",
     "text": [
      "False\n",
      "<class 'bool'>\n"
     ]
    }
   ],
   "source": [
    "r = (1 > 2)\n",
    "print(r)\n",
    "print(type(r))"
   ]
  },
  {
   "cell_type": "markdown",
   "id": "da498429",
   "metadata": {},
   "source": [
    ":::{#exr-assignment}\n",
    "## Zuweisung (Assignment)\n",
    "\n",
    "Erstellen Sie zwei Variablen `a` und `b` und weisen Sie ihnen die Werte 28.2 und 32.1 zu. Überprüfen Sie, ob `a` kleiner als `b` ist. Speichern Sie das Ergebnis in einer Variablen `c` und geben Sie `c` aus.\n",
    ":::"
   ]
  },
  {
   "cell_type": "code",
   "execution_count": 20,
   "id": "a399f64d",
   "metadata": {},
   "outputs": [
    {
     "name": "stdout",
     "output_type": "stream",
     "text": [
      "True\n"
     ]
    }
   ],
   "source": [
    "a = 28.2\n",
    "b = 32.1\n",
    "\n",
    "c = a < b\n",
    "print(c)\n"
   ]
  },
  {
   "cell_type": "markdown",
   "id": "c209b07aa5a6762f",
   "metadata": {
    "collapsed": false
   },
   "source": [
    "## Listen und Tupel\n",
    "\n",
    "In vielen Fällen werden wir nicht nur einzelne Werte, sondern mehrere Werte zusammen verwenden wollen.\n",
    "Als Beispiel nehmen wir eine Liste mit monatlichem Stromverbrauch eines Unternehmens (für 12 Monate in EUR)."
   ]
  },
  {
   "cell_type": "code",
   "execution_count": 21,
   "id": "8b991750",
   "metadata": {},
   "outputs": [
    {
     "data": {
      "text/plain": [
       "[100, 120, 80, 90, 110, 100, 120, 80, 90.12, 110, 100, 120.22]"
      ]
     },
     "execution_count": 21,
     "metadata": {},
     "output_type": "execute_result"
    }
   ],
   "source": [
    "stromverbrauch = [100, 120, 80, 90, 110, 100, 120, 80, 90.12, 110, 100, 120.22]\n",
    "stromverbrauch"
   ]
  },
  {
   "cell_type": "markdown",
   "id": "ccad1cc6",
   "metadata": {},
   "source": [
    "Wir können auf einzelne Elemente einer Liste zugreifen, indem wir den Index des Elements in eckigen Klammern hinter den Namen der Liste schreiben. Wie in vielen anderen Programmiersprachen **beginnt der Index bei 0**.\n",
    "\n",
    "| Wert | 100 | 120 | 80 | 90 | 110 | 100 | 120 | 80 | 90.12 | 110 | 100 | 120.22 |\n",
    "|-----|-----|-----|-----|-----|-----|-----|-----|-----|-----|-----|-----|-----|\n",
    "|Index 0| 0  | 1   | 2   | 3   | 4   | 5   | 6   | 7   | 8   | 9   | 10  | 11  |\n",
    "|Index 1| 1| 2| 3| 4| 5| 6| 7| 8| 9| 10| 11| 12|"
   ]
  },
  {
   "cell_type": "code",
   "execution_count": 22,
   "id": "4de856e4",
   "metadata": {},
   "outputs": [
    {
     "data": {
      "text/plain": [
       "100"
      ]
     },
     "execution_count": 22,
     "metadata": {},
     "output_type": "execute_result"
    }
   ],
   "source": [
    "# Das erste Element\n",
    "stromverbrauch[0]"
   ]
  },
  {
   "cell_type": "code",
   "execution_count": 23,
   "id": "e5c97217",
   "metadata": {},
   "outputs": [
    {
     "data": {
      "text/plain": [
       "120"
      ]
     },
     "execution_count": 23,
     "metadata": {},
     "output_type": "execute_result"
    }
   ],
   "source": [
    "# Das zweite Element\n",
    "stromverbrauch[1]"
   ]
  },
  {
   "cell_type": "code",
   "execution_count": 24,
   "id": "beab8a6c",
   "metadata": {},
   "outputs": [
    {
     "data": {
      "text/plain": [
       "120.22"
      ]
     },
     "execution_count": 24,
     "metadata": {},
     "output_type": "execute_result"
    }
   ],
   "source": [
    "# Das zwölfte Element\n",
    "stromverbrauch[11]"
   ]
  },
  {
   "cell_type": "code",
   "execution_count": 25,
   "id": "1a8b00b7",
   "metadata": {},
   "outputs": [
    {
     "data": {
      "text/plain": [
       "120.22"
      ]
     },
     "execution_count": 25,
     "metadata": {},
     "output_type": "execute_result"
    }
   ],
   "source": [
    "# Das letzte Element\n",
    "stromverbrauch[-1]"
   ]
  },
  {
   "cell_type": "code",
   "execution_count": 26,
   "id": "062b87d1",
   "metadata": {},
   "outputs": [
    {
     "data": {
      "text/plain": [
       "[100, 120, 80]"
      ]
     },
     "execution_count": 26,
     "metadata": {},
     "output_type": "execute_result"
    }
   ],
   "source": [
    "# Die ersten drei Elemente (die obere Grenze ist exklusiv)\n",
    "stromverbrauch[:3]"
   ]
  },
  {
   "cell_type": "code",
   "execution_count": 27,
   "id": "7ad4de5a",
   "metadata": {},
   "outputs": [
    {
     "data": {
      "text/plain": [
       "[90, 110, 100, 120]"
      ]
     },
     "execution_count": 27,
     "metadata": {},
     "output_type": "execute_result"
    }
   ],
   "source": [
    "# Vom vierten bis zum siebten Element\n",
    "stromverbrauch[3:7]"
   ]
  },
  {
   "cell_type": "markdown",
   "id": "8a1cf5f1",
   "metadata": {},
   "source": [
    "Versuchen wir auf ein Element zuzugreifen, das nicht existiert, erhalten wir einen Fehler."
   ]
  },
  {
   "cell_type": "markdown",
   "id": "fdf8c4f4",
   "metadata": {},
   "source": [
    ":::{#exr-lists}\n",
    "## Listen\n",
    "\n",
    "Erstellen Sie eine Liste mit den Zahlen 1, 2, 3, 4, 5, 6, 7, 8, 9, 10 und speichern Sie diese in der Variable `numbers`.\n",
    "- Geben Sie die Liste aus (mit `print()`)\n",
    "- Geben Sie das erste Element der Liste aus\n",
    "- Geben Sie das letzte Element der Liste aus\n",
    "- Geben Sie das dritte Element der Liste aus\n",
    "- Ersetzen Sie das vierte Element der Liste durch die Zahl 42 und geben Sie die Liste aus\n",
    "- Berechnen Sie die Summe der esten 5 Elemente der Liste und geben Sie das Ergebnis aus. Benutzen Sie dazu die Funktion `sum()` und den Slicing Operator `[:]`\n",
    ":::"
   ]
  },
  {
   "cell_type": "code",
   "execution_count": 28,
   "id": "c49b349b",
   "metadata": {},
   "outputs": [
    {
     "name": "stdout",
     "output_type": "stream",
     "text": [
      "[1, 2, 3, 4, 5, 6, 7, 8, 9, 10]\n",
      "1\n",
      "10\n",
      "3\n",
      "[1, 2, 3, 42, 5, 6, 7, 8, 9, 10]\n",
      "[1, 2, 3, 42]\n",
      "48\n"
     ]
    }
   ],
   "source": [
    "numbers = [1, 2, 3, 4, 5, 6, 7, 8, 9, 10]\n",
    "\n",
    "print(numbers)\n",
    "\n",
    "# Das erste Element\n",
    "print(numbers[0])\n",
    "\n",
    "# Das letzte Element\n",
    "print(numbers[-1])\n",
    "\n",
    "# Das dritte Element (hat index 2)\n",
    "print(numbers[2])\n",
    "\n",
    "# Das vierte element had Indexwert 3\n",
    "numbers[3] = 42\n",
    "\n",
    "print(numbers)\n",
    "\n",
    "# Die ersten vier Elemente\n",
    "\n",
    "print(numbers[:4])\n",
    "print(sum(numbers[:4]))\n"
   ]
  },
  {
   "cell_type": "markdown",
   "id": "75c9dc2f",
   "metadata": {},
   "source": [
    "### Funktionen\n",
    "\n",
    "Sehr häufig möchten wir ein und dieselbe Operation mit verschiedenen Daten (Argumenten) ausführen, ohne dass wir den Code jedes Mal neu schreiben zu müssen.\n",
    "Dafür können wir Funktionen verwenden. In Python definieren wir eine Funktion mit dem Schlüsselwort `def` gefolgt von dem Namen der Funktion und den Argumenten in runden Klammern. Der Funktionskörper wird eingerückt. Mit dem Schlüsselwort `return` geben wir das Ergebnis der Funktion zurück.\n",
    "\n",
    "\n",
    "Als Beispiel nehmen wir eine Funktion, die einen numerischen Wert als Argument nimmt, es mit 1.955 multipliziert und das Ergebnis zurückgibt. Die Funktion nennen\n",
    "wir `eur_to_bgn`."
   ]
  },
  {
   "cell_type": "code",
   "execution_count": 29,
   "id": "d9876d0a",
   "metadata": {},
   "outputs": [
    {
     "data": {
      "text/plain": [
       "195.5"
      ]
     },
     "execution_count": 29,
     "metadata": {},
     "output_type": "execute_result"
    }
   ],
   "source": [
    "def eur_to_bgn(x):\n",
    "    return 1.955 * x\n",
    "    \n",
    "eur_to_bgn(100)"
   ]
  },
  {
   "cell_type": "markdown",
   "id": "7170c6cb",
   "metadata": {},
   "source": [
    "Funktionen können auch mehrere Argumente haben. Die Argumente werden durch Kommas getrennt."
   ]
  },
  {
   "cell_type": "code",
   "execution_count": 30,
   "id": "1ed0eb71",
   "metadata": {},
   "outputs": [
    {
     "data": {
      "text/plain": [
       "3"
      ]
     },
     "execution_count": 30,
     "metadata": {},
     "output_type": "execute_result"
    }
   ],
   "source": [
    "def my_simple_sum(x, y):\n",
    "    return x + y\n",
    "    \n",
    "my_simple_sum(1, 2)"
   ]
  },
  {
   "cell_type": "markdown",
   "id": "23db832f",
   "metadata": {},
   "source": [
    ":::{#exr-functions-vat}\n",
    "## Mehrwertsteuer\n",
    "\n",
    "- Schreiben Sie eine Funktion `calculate_vat1`, die einen numerischen Wert als Argument nimmt und den Mehrwertsteuerbetrag (20%) zurückgibt.\n",
    "- Schreiben Sie eine Funktion `calculate_vat2`, die einen numerischen Wert als Argument nimmt und eine Liste mit dem Netto- und Bruttowert zurückgibt.\n",
    "- Schreiben Sie eine Funktion `calculate_vat3`, die einen numerischen Wert als Argument nimmt, einen zweiten numerischen Wert als Mehrwertsteuersatz und eine Liste mit dem Netto- und Bruttowert zurückgibt.\n",
    "\n",
    ":::"
   ]
  },
  {
   "cell_type": "code",
   "execution_count": 31,
   "id": "fe5b5840",
   "metadata": {},
   "outputs": [
    {
     "name": "stdout",
     "output_type": "stream",
     "text": [
      "20.0\n",
      "[20.0, 120.0]\n",
      "[20.0, 120.0]\n"
     ]
    }
   ],
   "source": [
    "def calculate_vat1(amount):\n",
    "    return 0.2 * amount\n",
    "\n",
    "def calculate_vat2(amount):\n",
    "    vat = calculate_vat1(amount)\n",
    "    brutto = amount + vat\n",
    "    return [vat, brutto]\n",
    "\n",
    "def calculate_vat3(amount, vat_rate):\n",
    "    vat = vat_rate * amount\n",
    "    brutto = amount + vat\n",
    "    return [vat, brutto]\n",
    "\n",
    "# Nun können wir die Funktionen testen\n",
    "\n",
    "print(calculate_vat1(100))\n",
    "print(calculate_vat2(100))\n",
    "print(calculate_vat3(100, 0.2))\n"
   ]
  },
  {
   "cell_type": "markdown",
   "id": "66e71e0e",
   "metadata": {},
   "source": [
    "Schreiben Sie eine Funktion, die zwei numerische Argumente annimmt `amounts` und `vat_rate`. Das erste Argument ist eine Liste von numerischen Werten (Betrag ohne Mehrwertsteuer). Das zweite Argument ist der Mehrwertsteuersatz in Prozent. Die Funktion soll eine Liste von numerischen Werten (Betrag mit Mehrwertsteuer) zurückgeben."
   ]
  },
  {
   "cell_type": "markdown",
   "id": "3bada5fc",
   "metadata": {},
   "source": [
    ":::{#exr-functions}\n",
    "## Funktionen\n",
    "\n",
    "In dieser Aufgabe werden wir eine Funktion `is_in_words` schreiben, die einen Namen als Argument annimmt und `True` oder `False` zurückgibt, falls der Name einer Person entspricht, die in der Liste `words`.\n",
    "- Definieren Sie zuerst die Liste `words` mit den Namen: `[\"Alha\", \"Bravo\", \"Charlie\", \"Delta\", \"Echo\"]`\n",
    "- Schreiben Sie die Funktion `is_in_words`, die ein Wort als Argument annimmt und `True` zurückgibt, wenn das Wort in der Liste `words` enthalten ist, andernfalls `False`.\n",
    "- Benutzen Sie den `in` Operator, um zu überprüfen, ob das Wort in der Liste enthalten ist (schauen Sie sich das Beispiel im nächsten Block an).\n",
    "\n",
    ":::"
   ]
  },
  {
   "cell_type": "code",
   "execution_count": 32,
   "id": "cfd6cc4b",
   "metadata": {},
   "outputs": [
    {
     "name": "stdout",
     "output_type": "stream",
     "text": [
      "True\n",
      "False\n"
     ]
    }
   ],
   "source": [
    "# Beispiel mit dem in Operator\n",
    "\n",
    "numbers = [1, 2, 3, 4, 5, 6, 7, 8, 9, 10]\n",
    "\n",
    "print(1 in numbers)\n",
    "print(233 in numbers)"
   ]
  },
  {
   "cell_type": "markdown",
   "id": "e24924cd",
   "metadata": {},
   "source": [
    "## Klassen und Objekte\n",
    "\n",
    "Bisher haben wir verschiedene Datentypen gesehen, drei verschiedene Datenstrukturen (Listen, Tupel und Dictionaries) und Funktionen gesehen. In Python gibt es auch Objekte, die Daten und Funktionen zusammenbinden. Funktionen, die zu einem Objekt gehören, nennen wir Methoden. Objekte werden aus Klassen erstellt. Klassen sind wie Baupläne für Objekte.\n",
    "In den Übungen werden wir keine Klassen selber definieren, allerdings werden wir Objekte wie DataFrame, Series, etc. verwenden, die aus Klassen erstellt wurden. Deswegen ist es wichtig, dass Sie wissen, wie Sie mit Objekten umgehen können.\n",
    "\n",
    "Zuerst definieren wir eine Klasse `Person`. Diese hat zwei Attribute: `name` und `age`. Die Klasse erlaubt uns, ein Objekt zu erstellen, das diese beiden Attribute hat. Wir können auch eine Methode `say_hello` definieren, die uns erlaubt, \"Hallo\" und den Namen der Person auszugeben. Alle Methoden, wie z.B. `say_hello` erhalten das Argument `self`, das das Objekt selbst ist. Dadurch können wir über Methoden auf die Eigenschaften des Objekts zugreifen."
   ]
  },
  {
   "cell_type": "code",
   "execution_count": 33,
   "id": "4a774b97",
   "metadata": {},
   "outputs": [],
   "source": [
    "class Person:\n",
    "    def __init__(self, name, age):\n",
    "        self.name = name\n",
    "        self.age = age\n",
    "\n",
    "    def say_hello(self):\n",
    "        print(\"Hi, my name is\", self.name, \"and I am\", self.age, \"years old.\")\n",
    "\n",
    "    def set_age(self, age):\n",
    "        self.age = age\n",
    "\n",
    "    def increase_age(self):\n",
    "        self.age = self.age + 1"
   ]
  },
  {
   "cell_type": "code",
   "execution_count": 34,
   "id": "dd716bc6",
   "metadata": {},
   "outputs": [
    {
     "name": "stdout",
     "output_type": "stream",
     "text": [
      "Hi, my name is Ivan and I am 20 years old.\n",
      "Hi, my name is Ivan and I am 22 years old.\n",
      "Hi, my name is Ivan and I am 23 years old.\n"
     ]
    }
   ],
   "source": [
    "# Erstellen ein Objekt der Klasse Person, das den Namen \"Ivan\" und das Alter 20 hat\n",
    "\n",
    "ivan = Person(\"Ivan\", 20)\n",
    "\n",
    "# Rufen die Methode say_hello auf\n",
    "ivan.say_hello()\n",
    "\n",
    "# Ändern das Alter von Ivan\n",
    "ivan.set_age(22)\n",
    "ivan.say_hello()\n",
    "\n",
    "# Erhöhen das Alter von Ivan um 1\n",
    "ivan.increase_age()\n",
    "ivan.say_hello()"
   ]
  },
  {
   "cell_type": "markdown",
   "id": "349b6144",
   "metadata": {},
   "source": [
    ":::{#exr-class}\n",
    "## Klassen und Objekte\n",
    "\n",
    "Erstellen Sie eine Klasse namens `Konto` mit den folgenden Eigenschaften:\n",
    "\n",
    "- `inhaber` (string)\n",
    "- `kontostand` (numerisch)\n",
    "\n",
    "Die Klasse soll folgende Methoden haben:\n",
    "\n",
    "- `einzahlen(self, betrag)`: erhöht den Kontostand um den Betrag\n",
    "- `abheben(self, betrag)`: verringert den Kontostand um den Betrag. Der Einfachheit halber gehen wir davon aus, dass der Kontostand auch negativ sein kann.\n",
    "- `kontostand_abfragen(self)`: gibt den Kontostand aus in der Form \"Kontostand: EUR 1000\"\n",
    "\n",
    "- Erstellen Sie ein Objekt der Klasse `Konto` mit dem Namen `mein_konto` und einem Kontostand von 1000.\n",
    "- Zahlen Sie 500 auf das Konto ein.\n",
    "- Fragen Sie den Kontostand ab.\n",
    "- Heben Sie 200 ab.\n",
    "- Fragen Sie den Kontostand ab.\n",
    ":::"
   ]
  },
  {
   "cell_type": "code",
   "execution_count": 35,
   "id": "7292a268",
   "metadata": {},
   "outputs": [
    {
     "name": "stdout",
     "output_type": "stream",
     "text": [
      "Kontostand: EUR 15\n",
      "Kontostand: EUR 115\n",
      "Kontostand: EUR 65\n"
     ]
    }
   ],
   "source": [
    "class Konto:\n",
    "    def __init__(self, inhaber, kontostand):\n",
    "        self.inhaber = inhaber\n",
    "        self.kontostand = kontostand\n",
    "\n",
    "    def kontostand_abfragen(self):\n",
    "        print(\"Kontostand: EUR\", self.kontostand)\n",
    "\n",
    "    def einzahlen(self, betrag):\n",
    "        self.kontostand = self.kontostand + betrag\n",
    "\n",
    "    def abheben(self, betrag):\n",
    "        self.kontostand = self.kontostand - betrag\n",
    "\n",
    "mykonto = Konto(\"Ivan\", 15)\n",
    "mykonto.kontostand_abfragen()\n",
    "\n",
    "mykonto.einzahlen(100)\n",
    "mykonto.kontostand_abfragen()\n",
    "\n",
    "mykonto.abheben(50)\n",
    "mykonto.kontostand_abfragen()"
   ]
  }
 ],
 "metadata": {
  "kernelspec": {
   "display_name": "opt2025-de",
   "language": "python",
   "name": "python3"
  },
  "language_info": {
   "codemirror_mode": {
    "name": "ipython",
    "version": 3
   },
   "file_extension": ".py",
   "mimetype": "text/x-python",
   "name": "python",
   "nbconvert_exporter": "python",
   "pygments_lexer": "ipython3",
   "version": "3.11.11"
  }
 },
 "nbformat": 4,
 "nbformat_minor": 5
}
