{
 "cells": [
  {
   "cell_type": "markdown",
   "id": "b5a878f01ab18efe",
   "metadata": {
    "collapsed": false
   },
   "source": [
    "## Übung: Python Basics\n"
   ]
  },
  {
   "cell_type": "markdown",
   "id": "7a4b3c341da50243",
   "metadata": {
    "collapsed": false
   },
   "source": [
    "### Aufgabe 1\n",
    "- Berechnen Sie die Summe der Zahlen 32.8 und 45.1\n",
    "- Berechnen Sie die Differenz der Zahlen 32.8 und 45.1\n",
    "- Speichern Sie die Zahl 32.8 in `a` und die Zahl 45.1 in `b`. Berechnen Sie das Verhältnis von `a` zu `b` und speichern Sie das Ergebnis in `c`."
   ]
  },
  {
   "cell_type": "code",
   "execution_count": 1,
   "id": "initial_id",
   "metadata": {},
   "outputs": [],
   "source": []
  },
  {
   "cell_type": "markdown",
   "id": "d175ac7ef93535e1",
   "metadata": {
    "collapsed": false
   },
   "source": [
    "### Aufgabe 2\n",
    "\n",
    "Erstellen Sie eine Liste mit den Zahlen 1, 2, 3, 4, 5, 6, 7, 8, 9, 10 und speichern Sie diese in der Variable `numbers`.\n",
    "- Geben Sie die Liste aus (mit `print()`)\n",
    "- Geben Sie das erste Element der Liste aus\n",
    "- Geben Sie das letzte Element der Liste aus\n",
    "- Geben Sie das dritte Element der Liste aus\n",
    "- Geben Sie das dritte und das siebte Element der Liste aus\n",
    "- Ersetzen Sie das vierte Element der Liste durch die Zahl 42"
   ]
  },
  {
   "cell_type": "code",
   "execution_count": 2,
   "id": "76d1ffc2be2f0e47",
   "metadata": {},
   "outputs": [],
   "source": []
  },
  {
   "cell_type": "markdown",
   "id": "fd3142a7c476ec15",
   "metadata": {
    "collapsed": false
   },
   "source": [
    "### Aufgabe 3\n",
    "\n",
    "Erstellen Sie zwei Listen `names` und `ages` mit den folgenden Elementen:\n",
    "- `names`: \"Alice\", \"Bob\", \"Charlie\", \"Dave\", \"Eve\"\n",
    "- `ages`: 17, 42, 30, 37, 21\n",
    "\n",
    "- Geben Sie die Liste `names` aus\n",
    "- Schreiben Sie eine `for`-Schleife, die die Namen und das Alter der Personen ausdruckt. Die Ausgabe soll folgendermaßen aussehen: \"Alice ist 23 Jahre alt\"\n",
    "- Sie möchten nur die Namen der Personen ausdrucken, die älter als 30 Jahre sind. Schreiben Sie eine `for`-Schleife, die das tut.\n",
    "- Sie möchten eine neue Liste erstellen, die nur die Namen der Personen enthält, die älter als 30 Jahre sind. Schreiben Sie eine Listenabstraktion, die das tut.\n"
   ]
  },
  {
   "cell_type": "markdown",
   "id": "f9c1f3704d3896b1",
   "metadata": {
    "collapsed": false
   },
   "source": [
    "### Aufgabe 4\n",
    "\n",
    "In dieser Aufgabe werden wir eine Funktion `is_in_list` schreiben, die einen Namen als Argument annimmt und `True` oder `False` zurückgibt, falls der Name einer Person entspricht, die in der Liste `names` aus Aufgabe 3 enthalten ist."
   ]
  },
  {
   "cell_type": "code",
   "execution_count": 3,
   "id": "ab09be54f122bb4c",
   "metadata": {},
   "outputs": [],
   "source": []
  },
  {
   "cell_type": "markdown",
   "id": "e380cc9e0b3e44f0",
   "metadata": {
    "collapsed": false
   },
   "source": [
    "### Aufgabe 5\n",
    "\n",
    "In dieser Aufgabe werden wir eine Funktion `get_age` schreiben, die einen Namen als Argument annimmt und das Alter der Person zurückgibt, falls der Name einer Person entspricht, die in der Liste `names` aus Aufgabe 3 enthalten ist. Falls der Name nicht in der Liste enthalten ist, soll die Funktion `None` zurückgeben."
   ]
  },
  {
   "cell_type": "code",
   "execution_count": 4,
   "id": "80ba60e5a87d7824",
   "metadata": {},
   "outputs": [],
   "source": []
  },
  {
   "cell_type": "markdown",
   "id": "36857969e21b2625",
   "metadata": {
    "collapsed": false
   },
   "source": [
    "### Aufgabe 6\n",
    "\n",
    "In dieser Aufgabe werden wir eine Funktion `is_eligible` schreiben, die `True`, `False` oder `None` zurückgibt, je nachdem ob eine Person wahlberechtigt ist oder nicht. Die Funktion soll einen Namen als Argument annehmen und das Alter der Person zurückgeben, falls der Name einer Person entspricht, die in der Liste `names` aus Aufgabe 3 enthalten ist. Falls der Name nicht in der Liste enthalten ist, soll die Funktion `None` zurückgeben. Falls der Name in der Liste enthalten ist, soll die Funktion `True` zurückgeben, falls die Person älter als 18 Jahre ist, andernfalls soll die Funktion `False` zurückgeben."
   ]
  },
  {
   "cell_type": "code",
   "execution_count": 5,
   "id": "6334fa651c93d915",
   "metadata": {},
   "outputs": [],
   "source": []
  },
  {
   "cell_type": "markdown",
   "id": "fe8d591f7c2cd39a",
   "metadata": {
    "collapsed": false
   },
   "source": [
    "### Aufgabe 7\n",
    "\n",
    "In dieser Aufgabe werden wir ein Dictionary erstellen, das die Namen aus Aufgabe 3 als Schlüssel und die Alter aus Aufgabe 3 als Werte enthält. Speichern Sie das Dictionary in der Variable `persons`.\n",
    "\n",
    "- Benutzen Sie das Dictionary, um das Alter von Bob auszudrucken.\n",
    "- Ändern Sie das Alter von Alice auf 43 Jahre.\n",
    "- Fügen Sie eine neue Person \"Frank\" mit dem Alter 33 Jahre hinzu.\n",
    "- Schreiben Sie eine `for`-Schleife, die die Namen und das Alter der Personen ausdruckt. Die Ausgabe soll folgendermaßen aussehen: \"Alice ist 23 Jahre alt\"\n",
    "- Sie möchten nur die Namen der Personen ausdrucken, die mit \"A\" anfangen. Schreiben Sie eine `for`-Schleife, die über `persons` iteriert und das tut.\n"
   ]
  }
 ],
 "metadata": {
  "kernelspec": {
   "display_name": "Python 3",
   "language": "python",
   "name": "python3"
  },
  "language_info": {
   "codemirror_mode": {
    "name": "ipython",
    "version": 3
   },
   "file_extension": ".py",
   "mimetype": "text/x-python",
   "name": "python",
   "nbconvert_exporter": "python",
   "pygments_lexer": "ipython3",
   "version": "3.11.7"
  }
 },
 "nbformat": 4,
 "nbformat_minor": 5
}
