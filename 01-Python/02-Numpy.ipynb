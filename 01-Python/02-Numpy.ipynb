{
 "cells": [
  {
   "cell_type": "markdown",
   "id": "a2fcfe7437c36099",
   "metadata": {
    "collapsed": false
   },
   "source": [
    "## NumPy\n",
    "\n",
    "[![Open In Colab](https://colab.research.google.com/assets/colab-badge.svg)](https://colab.research.google.com/github/febse/opt2025-de/blob/main/01-Python/02-Numpy.ipynb)\n",
    "\n",
    "In der vorherigen Lektion haben wir uns mit Listen beschäftigt. Diese sind sehr flexibel, aber auch sehr langsam. Mit kleinen Listen werden wir das nicht merken, aber wenn wir mit großen Datenmengen arbeiten, dann können lange Laufzeiten zum Problem werden. \n",
    "\n",
    "NumPy (Numerical Python) ist ein Paket, das viele Funktionen enthält, die für die Arbeit mit großen Datenmengen geeignet sind."
   ]
  },
  {
   "cell_type": "code",
   "execution_count": 2,
   "id": "41c5c07e9de7bd4",
   "metadata": {
    "ExecuteTime": {
     "end_time": "2024-01-19T16:33:02.667922877Z",
     "start_time": "2024-01-19T16:33:02.635396512Z"
    }
   },
   "outputs": [
    {
     "name": "stdout",
     "output_type": "stream",
     "text": [
      "[2 7 5 2]\n",
      "[1. 1. 1. 1.]\n"
     ]
    }
   ],
   "source": [
    "import numpy as np\n",
    "\n",
    "x = np.array([2, 7, 5, 2])\n",
    "print(x)\n",
    "\n",
    "y = np.ones(4)\n",
    "print(y)"
   ]
  },
  {
   "cell_type": "markdown",
   "id": "4975406de5b95984",
   "metadata": {
    "collapsed": false
   },
   "source": [
    "NumPy-Arrays sind sehr ähnlich zu Listen, aber sie haben einige zusätzliche Eigenschaften. Zum Beispiel können wir mit NumPy-Arrays rechnen. Wenn wir zwei NumPy-Arrays addieren, dann werden die Elemente an der gleichen Stelle addiert. Diese Syntax ist sehr intuitiv und einfach zu lesen.\n"
   ]
  },
  {
   "cell_type": "code",
   "execution_count": 3,
   "id": "103508432468940a",
   "metadata": {
    "ExecuteTime": {
     "end_time": "2024-01-19T16:33:08.850239308Z",
     "start_time": "2024-01-19T16:33:08.840508861Z"
    }
   },
   "outputs": [
    {
     "data": {
      "text/plain": [
       "array([3, 8, 6, 3])"
      ]
     },
     "execution_count": 3,
     "metadata": {},
     "output_type": "execute_result"
    }
   ],
   "source": [
    "z1 = x + 1 \n",
    "z2 = x + y\n",
    "z1"
   ]
  },
  {
   "cell_type": "code",
   "execution_count": 4,
   "id": "4a78461f96d415cb",
   "metadata": {
    "ExecuteTime": {
     "end_time": "2024-01-19T16:33:11.038533803Z",
     "start_time": "2024-01-19T16:33:11.032833822Z"
    }
   },
   "outputs": [
    {
     "data": {
      "text/plain": [
       "array([3., 8., 6., 3.])"
      ]
     },
     "execution_count": 4,
     "metadata": {},
     "output_type": "execute_result"
    }
   ],
   "source": [
    "z2"
   ]
  },
  {
   "cell_type": "markdown",
   "id": "682519be24526ac3",
   "metadata": {
    "collapsed": false
   },
   "source": [
    "Dasselbe funktioniert mit Python-Listen nicht. Wenn wir zwei Listen addieren, dann werden die Elemente an der gleichen Stelle nicht addiert, sondern die Listen werden aneinander gehängt."
   ]
  },
  {
   "cell_type": "code",
   "execution_count": 5,
   "id": "8238f77bff4e06d8",
   "metadata": {
    "ExecuteTime": {
     "end_time": "2024-01-19T16:33:29.091072754Z",
     "start_time": "2024-01-19T16:33:29.041344389Z"
    }
   },
   "outputs": [
    {
     "data": {
      "text/plain": [
       "[2, 7, 5, 2, 1, 1, 1, 1]"
      ]
     },
     "execution_count": 5,
     "metadata": {},
     "output_type": "execute_result"
    }
   ],
   "source": [
    "x_list = [2, 7, 5, 2]\n",
    "y_list = [1, 1, 1, 1]\n",
    "x_plus_y_list = x_list + y_list\n",
    "x_plus_y_list"
   ]
  },
  {
   "cell_type": "code",
   "execution_count": 6,
   "id": "ca93c52ab1e9beb5",
   "metadata": {
    "ExecuteTime": {
     "end_time": "2024-01-19T16:33:44.680301381Z",
     "start_time": "2024-01-19T16:33:44.606103755Z"
    }
   },
   "outputs": [],
   "source": [
    "# x_list + 1"
   ]
  },
  {
   "cell_type": "markdown",
   "id": "3f6fd544341a8c97",
   "metadata": {
    "collapsed": false
   },
   "source": [
    "NumPy-Arrays haben auch einige Methoden, die wir mit Listen nicht haben. Zum Beispiel können wir die Summe aller Elemente eines Arrays berechnen."
   ]
  },
  {
   "cell_type": "code",
   "execution_count": 7,
   "id": "b4f1c863d071be31",
   "metadata": {
    "ExecuteTime": {
     "end_time": "2024-01-19T16:34:16.462615208Z",
     "start_time": "2024-01-19T16:34:16.415193125Z"
    }
   },
   "outputs": [
    {
     "name": "stdout",
     "output_type": "stream",
     "text": [
      "16\n"
     ]
    }
   ],
   "source": [
    "# Summe der Elemente\n",
    "print(x.sum())"
   ]
  },
  {
   "cell_type": "code",
   "execution_count": 11,
   "id": "9fd27821a15fa09c",
   "metadata": {
    "ExecuteTime": {
     "end_time": "2024-01-19T16:34:23.758686996Z",
     "start_time": "2024-01-19T16:34:23.749056123Z"
    }
   },
   "outputs": [
    {
     "data": {
      "text/plain": [
       "np.float64(4.0)"
      ]
     },
     "execution_count": 11,
     "metadata": {},
     "output_type": "execute_result"
    }
   ],
   "source": [
    "# Durchschnitt der Elemente (Arithmetischer Mittelwert)\n",
    "\n",
    "x.mean()"
   ]
  },
  {
   "cell_type": "code",
   "execution_count": 12,
   "id": "690eace8cca0f0e3",
   "metadata": {
    "ExecuteTime": {
     "end_time": "2024-01-19T16:34:28.778738929Z",
     "start_time": "2024-01-19T16:34:28.735085968Z"
    }
   },
   "outputs": [
    {
     "data": {
      "text/plain": [
       "np.float64(2.1213203435596424)"
      ]
     },
     "execution_count": 12,
     "metadata": {},
     "output_type": "execute_result"
    }
   ],
   "source": [
    "# Standardabweichung\n",
    "x.std()"
   ]
  },
  {
   "cell_type": "code",
   "execution_count": 13,
   "id": "9f04389c844c5d0b",
   "metadata": {
    "ExecuteTime": {
     "end_time": "2024-01-19T16:35:48.306704045Z",
     "start_time": "2024-01-19T16:35:48.262077443Z"
    }
   },
   "outputs": [
    {
     "data": {
      "text/plain": [
       "np.int64(2)"
      ]
     },
     "execution_count": 13,
     "metadata": {},
     "output_type": "execute_result"
    }
   ],
   "source": [
    "# Minimum\n",
    "x.min()"
   ]
  },
  {
   "cell_type": "code",
   "execution_count": 14,
   "id": "c0a15217f08e2c38",
   "metadata": {},
   "outputs": [
    {
     "data": {
      "text/plain": [
       "np.int64(7)"
      ]
     },
     "execution_count": 14,
     "metadata": {},
     "output_type": "execute_result"
    }
   ],
   "source": [
    "# Maximum\n",
    "x.max()"
   ]
  },
  {
   "cell_type": "markdown",
   "id": "d8c027c9",
   "metadata": {},
   "source": [
    "## Aufgabe 1\n",
    "\n",
    "Estellen Sie ein NumPy-Array mit den Elementen 3, 1, 11, 3, 5. Geben Sie das Array aus. \n",
    "- Testen Sie, ob die Elemente des Arrays genau gleich 3 sind, speichern Sie das Ergebnis in einer Variablen. Geben Sie das Ergebnis aus.\n",
    "- Berechnen Sie die Differenz zwischen dem Maximum und dem Minimum des Arrays. Geben Sie das Ergebnis aus.\n",
    "- Berechnen Sie den Mittelwert des Arrays. Geben Sie das Ergebnis aus.\n"
   ]
  },
  {
   "cell_type": "code",
   "execution_count": null,
   "id": "b1cb95fe",
   "metadata": {},
   "outputs": [
    {
     "data": {
      "text/plain": [
       "array([ True, False, False,  True])"
      ]
     },
     "execution_count": 25,
     "metadata": {},
     "output_type": "execute_result"
    }
   ],
   "source": []
  },
  {
   "cell_type": "markdown",
   "id": "28a5cb77a5fcf9bc",
   "metadata": {
    "collapsed": false
   },
   "source": [
    "### Slicing\n",
    "\n",
    "Wir können auch auf die Elemente eines Arrays zugreifen, indem wir einen Index angeben. Der Index beginnt bei 0."
   ]
  },
  {
   "cell_type": "code",
   "execution_count": 6,
   "id": "439bd3c7",
   "metadata": {},
   "outputs": [],
   "source": [
    "z = np.array([\"a\", \"b\", \"c\", \"d\", \"e\"])"
   ]
  },
  {
   "cell_type": "code",
   "execution_count": 8,
   "id": "72e5f25f2eb01a2",
   "metadata": {
    "ExecuteTime": {
     "end_time": "2024-01-19T16:36:43.266713224Z",
     "start_time": "2024-01-19T16:36:43.260188393Z"
    }
   },
   "outputs": [
    {
     "name": "stdout",
     "output_type": "stream",
     "text": [
      "a\n"
     ]
    }
   ],
   "source": [
    "# Das erste Element\n",
    "print(z[0])"
   ]
  },
  {
   "cell_type": "code",
   "execution_count": 9,
   "id": "d3296f86a9e55029",
   "metadata": {
    "ExecuteTime": {
     "end_time": "2024-01-19T16:36:51.782503290Z",
     "start_time": "2024-01-19T16:36:51.776577486Z"
    }
   },
   "outputs": [
    {
     "data": {
      "text/plain": [
       "array(['a', 'b'], dtype='<U1')"
      ]
     },
     "execution_count": 9,
     "metadata": {},
     "output_type": "execute_result"
    }
   ],
   "source": [
    "# Alle Elemente bis zur Indexposition 2 (exklusive)\n",
    "# Achten Sie darauf, dass der Index 0-basiert ist und daher das dritte Element ist eine Indexposition 2 hat\n",
    "z[:2]"
   ]
  },
  {
   "cell_type": "code",
   "execution_count": 16,
   "id": "1bfeee24cf7bd00d",
   "metadata": {
    "ExecuteTime": {
     "end_time": "2024-01-19T16:37:17.679613708Z",
     "start_time": "2024-01-19T16:37:17.631610036Z"
    }
   },
   "outputs": [
    {
     "name": "stdout",
     "output_type": "stream",
     "text": [
      "c\n"
     ]
    }
   ],
   "source": [
    "print(z[-3])"
   ]
  },
  {
   "cell_type": "code",
   "execution_count": 12,
   "id": "3ccb0f83eb72615c",
   "metadata": {
    "ExecuteTime": {
     "end_time": "2024-01-19T16:37:30.907200360Z",
     "start_time": "2024-01-19T16:37:30.851992922Z"
    }
   },
   "outputs": [
    {
     "name": "stdout",
     "output_type": "stream",
     "text": [
      "['c' 'd' 'e']\n"
     ]
    }
   ],
   "source": [
    "print(z[-3:])"
   ]
  },
  {
   "cell_type": "code",
   "execution_count": 13,
   "id": "5b7fe6cc241f2a08",
   "metadata": {
    "ExecuteTime": {
     "end_time": "2024-01-19T16:37:35.356379796Z",
     "start_time": "2024-01-19T16:37:35.348763718Z"
    }
   },
   "outputs": [
    {
     "data": {
      "text/plain": [
       "array(['b', 'c'], dtype='<U1')"
      ]
     },
     "execution_count": 13,
     "metadata": {},
     "output_type": "execute_result"
    }
   ],
   "source": [
    "z[1:3]"
   ]
  },
  {
   "cell_type": "markdown",
   "id": "45cafa93",
   "metadata": {},
   "source": [
    "## Aufgabe 2\n",
    "\n",
    "- Erstellen Sie ein NumPy-Array mit den Elementen 2.2, 3.1, 8.2, 9. Geben Sie das Array aus.\n",
    "- Ersetzen Sie die ersten beiden Elemente des Arrays durch die Werte 1.1 und 2.2. Geben Sie das Array aus.\n",
    "- Testen Die, ob das letzte Element des Arrays größer als 10 ist. Speichern Sie das Ergebnis in einer Variablen. Geben Sie das Ergebnis aus.\n"
   ]
  },
  {
   "cell_type": "code",
   "execution_count": null,
   "id": "121427ab",
   "metadata": {},
   "outputs": [],
   "source": []
  }
 ],
 "metadata": {
  "kernelspec": {
   "display_name": "opt2025-de",
   "language": "python",
   "name": "python3"
  },
  "language_info": {
   "codemirror_mode": {
    "name": "ipython",
    "version": 3
   },
   "file_extension": ".py",
   "mimetype": "text/x-python",
   "name": "python",
   "nbconvert_exporter": "python",
   "pygments_lexer": "ipython3",
   "version": "3.11.11"
  }
 },
 "nbformat": 4,
 "nbformat_minor": 5
}
