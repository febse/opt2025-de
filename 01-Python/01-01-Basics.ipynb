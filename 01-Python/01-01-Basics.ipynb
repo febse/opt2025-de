{
 "cells": [
  {
   "cell_type": "markdown",
   "id": "99363d32ecbb9d73",
   "metadata": {
    "collapsed": false
   },
   "source": [
    "# Python Basics\n",
    "\n",
    "Github Classroom Link: [https://classroom.github.com/a/NF7qSSTn](https://classroom.github.com/a/NF7qSSTn)\n",
    "\n",
    "## Jupyter Notebooks in VS Code {#jupyter-notebooks-in-vs-code}\n",
    "\n",
    "Häufig verwendete Tastenkombinationen\n",
    "\n",
    "- `Enter`: Bearbeitungsmodus einschalten\n",
    "- `Esc`: Kommando-Modus einschalten\n",
    "\n",
    "Shortcuts für den Kommando-Modus (Edit Mode)\n",
    "\n",
    "- `A` : Eine Zelle oberhalb der aktuellen Zelle einfügen\n",
    "- `B` : Eine Zelle unterhalb der aktuellen Zelle einfügen\n",
    "- `Alt + ↑`: Zelle nach oben verschieben\n",
    "- `Alt + ↓`: Zelle nach unten verschieben\n",
    "- `Alt + Shift + ↑`: Zelle nach oben kopieren (Fokus bleibt auf der aktuellen Zelle)\n",
    "- `Alt + Shift + ↓`: Zelle nach unten kopieren (der Fokus wechselt zur nächsten Zelle)\n",
    "- `dd` : Zelle löschen\n",
    "- `z` : Die letzte Änderung rückgängig machen\n",
    "- `M` : Die Zelle in eine Markdown-Zelle umwandeln\n",
    "- `Y`: Die Zelle in eine Code-Zelle umwandeln\n",
    "\n",
    "Shortcuts für den Edit Modus\n",
    "- `Alt + Shift + ↑`:  Die aktuelle Zeile nach oben kopieren (Fokus bleibt auf der aktuellen Zeile)\n",
    "- `Alt + Shift + ↓`: Die aktuelle Zeile nach unten kopieren (Fokus verlagert sich zur nächsten Zeile)\n",
    "- `Ctrl+Enter/Shift+Enter`: Markierte Zelle ausführen und Fokus auf die nächste Zelle setzen\n",
    "\n",
    "Shortcuts für beide Modi\n",
    "\n",
    "- `Ctrl+Enter` : Die aktuelle Zelle ausführen (Fokus bleibt auf der aktuellen Zelle)\n",
    "- `Shift+Enter` : Die aktuelle Zelle ausführen und Fokus auf die nächste Zelle setzen\n",
    "- `Alt+Enter` : Die aktuelle Zelle ausführen und eine neue Zelle einfügen"
   ]
  },
  {
   "cell_type": "markdown",
   "id": "522932a9",
   "metadata": {},
   "source": [
    "\n",
    "## Arithmetische Operationen\n"
   ]
  },
  {
   "cell_type": "code",
   "execution_count": 1,
   "id": "initial_id",
   "metadata": {
    "ExecuteTime": {
     "end_time": "2024-01-22T16:31:02.270609379Z",
     "start_time": "2024-01-22T16:31:02.028245110Z"
    }
   },
   "outputs": [
    {
     "data": {
      "text/plain": [
       "2"
      ]
     },
     "execution_count": 1,
     "metadata": {},
     "output_type": "execute_result"
    }
   ],
   "source": [
    "# Addition\n",
    "1 + 1"
   ]
  },
  {
   "cell_type": "markdown",
   "id": "33e224d2",
   "metadata": {},
   "source": [
    "Die Varianz von Y ist größer als die Varianz von X. Das bedeutet, daß die Werte, die Y produziert, weiter von ihrem Erwartungswert entfernt sein werden als die Werte, die X produziert."
   ]
  },
  {
   "cell_type": "code",
   "execution_count": 2,
   "id": "d04b6d2e3ece3708",
   "metadata": {
    "ExecuteTime": {
     "end_time": "2024-01-22T16:31:02.380949774Z",
     "start_time": "2024-01-22T16:31:02.356553320Z"
    }
   },
   "outputs": [
    {
     "data": {
      "text/plain": [
       "0.5"
      ]
     },
     "execution_count": 2,
     "metadata": {},
     "output_type": "execute_result"
    }
   ],
   "source": [
    "# Division\n",
    "1 / 2"
   ]
  },
  {
   "cell_type": "code",
   "execution_count": 3,
   "id": "fe855d03391dd94",
   "metadata": {
    "ExecuteTime": {
     "end_time": "2024-01-22T16:31:02.426499917Z",
     "start_time": "2024-01-22T16:31:02.379252047Z"
    }
   },
   "outputs": [
    {
     "data": {
      "text/plain": [
       "6"
      ]
     },
     "execution_count": 3,
     "metadata": {},
     "output_type": "execute_result"
    }
   ],
   "source": [
    "# Multiplikation\n",
    "2 * 3"
   ]
  },
  {
   "cell_type": "code",
   "execution_count": 4,
   "id": "8c3ad557fec00261",
   "metadata": {
    "ExecuteTime": {
     "end_time": "2024-01-22T16:31:02.446783024Z",
     "start_time": "2024-01-22T16:31:02.421259492Z"
    }
   },
   "outputs": [
    {
     "data": {
      "text/plain": [
       "783.1098528099996"
      ]
     },
     "execution_count": 4,
     "metadata": {},
     "output_type": "execute_result"
    }
   ],
   "source": [
    "# Potenz\n",
    "2.3 ** 8"
   ]
  },
  {
   "cell_type": "code",
   "execution_count": 5,
   "id": "2702b9caad95811e",
   "metadata": {
    "ExecuteTime": {
     "end_time": "2024-01-22T16:31:02.282583332Z",
     "start_time": "2024-01-22T16:31:02.266615902Z"
    }
   },
   "outputs": [
    {
     "data": {
      "text/plain": [
       "int"
      ]
     },
     "execution_count": 5,
     "metadata": {},
     "output_type": "execute_result"
    }
   ],
   "source": [
    "# Typ\n",
    "type(1)"
   ]
  },
  {
   "cell_type": "code",
   "execution_count": 6,
   "id": "56600d0ec706f9ab",
   "metadata": {
    "ExecuteTime": {
     "end_time": "2024-01-22T16:31:02.338672321Z",
     "start_time": "2024-01-22T16:31:02.285376625Z"
    }
   },
   "outputs": [
    {
     "data": {
      "text/plain": [
       "float"
      ]
     },
     "execution_count": 6,
     "metadata": {},
     "output_type": "execute_result"
    }
   ],
   "source": [
    "type(1.0)"
   ]
  },
  {
   "cell_type": "markdown",
   "id": "9c4aa5391ef37cf",
   "metadata": {
    "collapsed": false
   },
   "source": [
    "### Zuweisung (Assignment)\n",
    "\n",
    "Wir können Werte Variablen zuweisen. In Python verwenden wir dazu das Gleichheitszeichen `=`. Der Wert auf der rechten Seite des Gleichheitszeichens wird der Variablen auf der linken Seite zugewiesen. Anders als in der Mathematik, wo die Gleichung `x = 3` bedeutet, dass `x` gleich `3` ist, bedeutet die Zuweisung `x = 3` in Python, dass der Wert `3` in der Variablen `x` gespeichert wird. Python speichert dann den Wert `3` im Speicher des Rechners und weist ihm den Namen `x` zu.\n"
   ]
  },
  {
   "cell_type": "code",
   "execution_count": 7,
   "id": "666d2d5517ee9e58",
   "metadata": {
    "ExecuteTime": {
     "end_time": "2024-01-22T16:31:02.570664044Z",
     "start_time": "2024-01-22T16:31:02.504913168Z"
    }
   },
   "outputs": [],
   "source": [
    "x = 1\n",
    "y = 5"
   ]
  },
  {
   "cell_type": "code",
   "execution_count": 8,
   "id": "ce4c5851e059bda5",
   "metadata": {
    "ExecuteTime": {
     "end_time": "2024-01-22T16:31:02.645476557Z",
     "start_time": "2024-01-22T16:31:02.576462308Z"
    }
   },
   "outputs": [
    {
     "data": {
      "text/plain": [
       "6"
      ]
     },
     "execution_count": 8,
     "metadata": {},
     "output_type": "execute_result"
    }
   ],
   "source": [
    "x + y"
   ]
  },
  {
   "cell_type": "code",
   "execution_count": 9,
   "id": "f15a300c352a0fbf",
   "metadata": {
    "ExecuteTime": {
     "end_time": "2024-01-22T16:31:02.661959631Z",
     "start_time": "2024-01-22T16:31:02.635191379Z"
    }
   },
   "outputs": [
    {
     "data": {
      "text/plain": [
       "int"
      ]
     },
     "execution_count": 9,
     "metadata": {},
     "output_type": "execute_result"
    }
   ],
   "source": [
    "type(x)"
   ]
  },
  {
   "cell_type": "markdown",
   "id": "c7a3b0913ca550d2",
   "metadata": {
    "collapsed": false
   },
   "source": [
    "### Zeichenketten (Strings)\n",
    "\n",
    "Außer Zahlen können wir auch Zeichenketten (Strings) speichern.\n"
   ]
  },
  {
   "cell_type": "code",
   "execution_count": 10,
   "id": "6cd58ca7e0a74bb4",
   "metadata": {
    "ExecuteTime": {
     "end_time": "2024-01-22T16:31:02.755358814Z",
     "start_time": "2024-01-22T16:31:02.664507846Z"
    }
   },
   "outputs": [
    {
     "data": {
      "text/plain": [
       "'Hallo, Welt!'"
      ]
     },
     "execution_count": 10,
     "metadata": {},
     "output_type": "execute_result"
    }
   ],
   "source": [
    "z = \"Hallo, Welt!\"\n",
    "z"
   ]
  },
  {
   "cell_type": "code",
   "execution_count": 11,
   "id": "92f7ad6469f20598",
   "metadata": {
    "ExecuteTime": {
     "end_time": "2024-01-22T16:31:02.873654077Z",
     "start_time": "2024-01-22T16:31:02.742064615Z"
    }
   },
   "outputs": [
    {
     "name": "stdout",
     "output_type": "stream",
     "text": [
      "Hallo, Welt!\n"
     ]
    }
   ],
   "source": [
    "print(z)"
   ]
  },
  {
   "cell_type": "markdown",
   "id": "1f688afb941d6149",
   "metadata": {
    "collapsed": false
   },
   "source": [
    "Zeichenketten können wir mit `+` verketten."
   ]
  },
  {
   "cell_type": "code",
   "execution_count": 12,
   "id": "b9f706392b1dcd6f",
   "metadata": {
    "ExecuteTime": {
     "end_time": "2024-01-22T16:31:02.895724046Z",
     "start_time": "2024-01-22T16:31:02.808813266Z"
    }
   },
   "outputs": [
    {
     "name": "stdout",
     "output_type": "stream",
     "text": [
      "Hallo, Welt! Ich bin da!\n"
     ]
    }
   ],
   "source": [
    "z1 = z + \" Ich bin da!\"\n",
    "print(z1)"
   ]
  },
  {
   "cell_type": "markdown",
   "id": "ec3f7a6ee4c4eb02",
   "metadata": {
    "collapsed": false
   },
   "source": [
    "Zeichenketten können wir mit `*` \"vervielfachen\"."
   ]
  },
  {
   "cell_type": "code",
   "execution_count": 13,
   "id": "84c86f0ce9557a43",
   "metadata": {
    "ExecuteTime": {
     "end_time": "2024-01-22T16:31:03.015022743Z",
     "start_time": "2024-01-22T16:31:02.878081228Z"
    }
   },
   "outputs": [
    {
     "name": "stdout",
     "output_type": "stream",
     "text": [
      "Hallo, Welt!Hallo, Welt!Hallo, Welt!\n"
     ]
    }
   ],
   "source": [
    "print(z * 3)"
   ]
  },
  {
   "cell_type": "markdown",
   "id": "17d2a180ea23a3e1",
   "metadata": {
    "collapsed": false
   },
   "source": [
    "Zeichenketten können wir mit `len` die Länge (Anzahl der Zeichen) bestimmen.\n"
   ]
  },
  {
   "cell_type": "code",
   "execution_count": 14,
   "id": "cabb6b6d2808dfde",
   "metadata": {
    "ExecuteTime": {
     "end_time": "2024-01-22T16:31:03.143610577Z",
     "start_time": "2024-01-22T16:31:02.999137371Z"
    }
   },
   "outputs": [
    {
     "data": {
      "text/plain": [
       "12"
      ]
     },
     "execution_count": 14,
     "metadata": {},
     "output_type": "execute_result"
    }
   ],
   "source": [
    "len(z)"
   ]
  },
  {
   "cell_type": "markdown",
   "id": "9b741e9389fd8340",
   "metadata": {
    "collapsed": false
   },
   "source": [
    "Zeichenketten können wir mit `split` in eine Liste von Wörtern aufteilen."
   ]
  },
  {
   "cell_type": "code",
   "execution_count": 15,
   "id": "938369c7f8cbff2f",
   "metadata": {
    "ExecuteTime": {
     "end_time": "2024-01-22T16:31:03.185399836Z",
     "start_time": "2024-01-22T16:31:03.088518266Z"
    }
   },
   "outputs": [
    {
     "data": {
      "text/plain": [
       "['Hallo', ' Welt!']"
      ]
     },
     "execution_count": 15,
     "metadata": {},
     "output_type": "execute_result"
    }
   ],
   "source": [
    "z.split(\",\")"
   ]
  },
  {
   "cell_type": "markdown",
   "id": "b5a1575a8aa090fe",
   "metadata": {
    "collapsed": false
   },
   "source": []
  },
  {
   "cell_type": "code",
   "execution_count": 16,
   "id": "e8cc265016515c26",
   "metadata": {
    "ExecuteTime": {
     "end_time": "2024-01-22T16:31:03.283995112Z",
     "start_time": "2024-01-22T16:31:03.169388583Z"
    }
   },
   "outputs": [
    {
     "data": {
      "text/plain": [
       "['Hallo,', 'Welt!']"
      ]
     },
     "execution_count": 16,
     "metadata": {},
     "output_type": "execute_result"
    }
   ],
   "source": [
    "z.split(\" \")"
   ]
  },
  {
   "cell_type": "markdown",
   "id": "8038c6b7bb4ba32d",
   "metadata": {
    "collapsed": false
   },
   "source": [
    "Wir können Teile einer Zeichenkette mit eckigen Klammern auswählen. Dabei beginnt der Index bei 0."
   ]
  },
  {
   "cell_type": "code",
   "execution_count": 17,
   "id": "b93a7977ec837813",
   "metadata": {
    "ExecuteTime": {
     "end_time": "2024-01-22T16:31:03.399957585Z",
     "start_time": "2024-01-22T16:31:03.253204227Z"
    }
   },
   "outputs": [
    {
     "data": {
      "text/plain": [
       "'H'"
      ]
     },
     "execution_count": 17,
     "metadata": {},
     "output_type": "execute_result"
    }
   ],
   "source": [
    "z[0]"
   ]
  },
  {
   "cell_type": "code",
   "execution_count": 18,
   "id": "30510b1d032a2dff",
   "metadata": {
    "ExecuteTime": {
     "end_time": "2024-01-22T16:31:03.410991098Z",
     "start_time": "2024-01-22T16:31:03.332802788Z"
    }
   },
   "outputs": [
    {
     "data": {
      "text/plain": [
       "'a'"
      ]
     },
     "execution_count": 18,
     "metadata": {},
     "output_type": "execute_result"
    }
   ],
   "source": [
    "z[1]"
   ]
  },
  {
   "cell_type": "code",
   "execution_count": 19,
   "id": "caa1e0bc6893b5e2",
   "metadata": {
    "ExecuteTime": {
     "end_time": "2024-01-22T16:31:03.450296666Z",
     "start_time": "2024-01-22T16:31:03.390207274Z"
    }
   },
   "outputs": [
    {
     "data": {
      "text/plain": [
       "'Hallo'"
      ]
     },
     "execution_count": 19,
     "metadata": {},
     "output_type": "execute_result"
    }
   ],
   "source": [
    "z[0:5]"
   ]
  },
  {
   "cell_type": "code",
   "execution_count": 20,
   "id": "5b9d00e799baae6f",
   "metadata": {
    "ExecuteTime": {
     "end_time": "2024-01-22T16:31:03.476625682Z",
     "start_time": "2024-01-22T16:31:03.441709203Z"
    }
   },
   "outputs": [
    {
     "name": "stdout",
     "output_type": "stream",
     "text": [
      "H\n",
      "a\n",
      "l\n",
      "l\n",
      "o\n",
      ",\n",
      " \n",
      "W\n",
      "e\n",
      "l\n",
      "t\n",
      "!\n"
     ]
    }
   ],
   "source": [
    "for char in z:\n",
    "    print(char)"
   ]
  },
  {
   "cell_type": "markdown",
   "id": "5cc05778ebf281f2",
   "metadata": {
    "collapsed": false
   },
   "source": [
    "### Logische Werte (Booleans)\n",
    "\n",
    "In Python gibt es auch logische Werte (Booleans). Diese können nur zwei Werte annehmen: `True` und `False`.\n",
    "In den meisten Fällen werden wir diese Werte verwenden, um Bedingungen zu formulieren."
   ]
  },
  {
   "cell_type": "code",
   "execution_count": 21,
   "id": "c3c2a7e51335f247",
   "metadata": {
    "ExecuteTime": {
     "end_time": "2024-01-22T16:31:03.534543513Z",
     "start_time": "2024-01-22T16:31:03.473201752Z"
    }
   },
   "outputs": [
    {
     "data": {
      "text/plain": [
       "False"
      ]
     },
     "execution_count": 21,
     "metadata": {},
     "output_type": "execute_result"
    }
   ],
   "source": [
    "1 > 2"
   ]
  },
  {
   "cell_type": "code",
   "execution_count": 22,
   "id": "c5c8ce126d48a102",
   "metadata": {
    "ExecuteTime": {
     "end_time": "2024-01-22T16:31:03.622791146Z",
     "start_time": "2024-01-22T16:31:03.534699600Z"
    }
   },
   "outputs": [
    {
     "data": {
      "text/plain": [
       "True"
      ]
     },
     "execution_count": 22,
     "metadata": {},
     "output_type": "execute_result"
    }
   ],
   "source": [
    "1 < 3"
   ]
  },
  {
   "cell_type": "code",
   "execution_count": 23,
   "id": "ec3fe58c2a850bae",
   "metadata": {
    "ExecuteTime": {
     "end_time": "2024-01-22T16:31:03.632399619Z",
     "start_time": "2024-01-22T16:31:03.577060719Z"
    }
   },
   "outputs": [
    {
     "data": {
      "text/plain": [
       "True"
      ]
     },
     "execution_count": 23,
     "metadata": {},
     "output_type": "execute_result"
    }
   ],
   "source": [
    "2 == 2"
   ]
  },
  {
   "cell_type": "code",
   "execution_count": 24,
   "id": "541ba5aa4c64c14d",
   "metadata": {
    "ExecuteTime": {
     "end_time": "2024-01-22T16:31:03.698442527Z",
     "start_time": "2024-01-22T16:31:03.602398089Z"
    }
   },
   "outputs": [
    {
     "data": {
      "text/plain": [
       "True"
      ]
     },
     "execution_count": 24,
     "metadata": {},
     "output_type": "execute_result"
    }
   ],
   "source": [
    "\"hallo\" == \"hallo\""
   ]
  },
  {
   "cell_type": "code",
   "execution_count": 25,
   "id": "881a18fedfd3f5b2",
   "metadata": {
    "ExecuteTime": {
     "end_time": "2024-01-22T16:31:03.701591073Z",
     "start_time": "2024-01-22T16:31:03.680729255Z"
    }
   },
   "outputs": [
    {
     "data": {
      "text/plain": [
       "False"
      ]
     },
     "execution_count": 25,
     "metadata": {},
     "output_type": "execute_result"
    }
   ],
   "source": [
    "\"hallo\" == \"Hallo\""
   ]
  },
  {
   "cell_type": "markdown",
   "id": "c209b07aa5a6762f",
   "metadata": {
    "collapsed": false
   },
   "source": [
    "## Listen und Tupel\n",
    "\n",
    "In vielen Fällen werden wir nicht nur einzelne Werte, sondern mehrere Werte zusammen verwenden wollen.\n",
    "Als Beispiel nehmen wir eine Liste mit monatlichem Stromverbrauch eines Unternehmens (für 12 Monate in EUR)."
   ]
  },
  {
   "cell_type": "code",
   "execution_count": 26,
   "id": "8b991750",
   "metadata": {},
   "outputs": [],
   "source": [
    "stromverbrauch = [100, 120, 80, 90, 110, 100, 120, 80, 90.12, 110, 100, 120.22]"
   ]
  },
  {
   "cell_type": "markdown",
   "id": "ccad1cc6",
   "metadata": {},
   "source": [
    "Wir können auf einzelne Elemente einer Liste zugreifen, indem wir den Index des Elements in eckigen Klammern hinter den Namen der Liste schreiben. Wie in den meisten Programmiersprachen **beginnt der Index bei 0**."
   ]
  },
  {
   "cell_type": "code",
   "execution_count": 27,
   "id": "4de856e4",
   "metadata": {},
   "outputs": [
    {
     "data": {
      "text/plain": [
       "100"
      ]
     },
     "execution_count": 27,
     "metadata": {},
     "output_type": "execute_result"
    }
   ],
   "source": [
    "stromverbrauch[0]"
   ]
  },
  {
   "cell_type": "code",
   "execution_count": 28,
   "id": "e5c97217",
   "metadata": {},
   "outputs": [
    {
     "data": {
      "text/plain": [
       "120"
      ]
     },
     "execution_count": 28,
     "metadata": {},
     "output_type": "execute_result"
    }
   ],
   "source": [
    "stromverbrauch[1]"
   ]
  },
  {
   "cell_type": "code",
   "execution_count": 29,
   "id": "beab8a6c",
   "metadata": {},
   "outputs": [
    {
     "data": {
      "text/plain": [
       "120.22"
      ]
     },
     "execution_count": 29,
     "metadata": {},
     "output_type": "execute_result"
    }
   ],
   "source": [
    "stromverbrauch[11]"
   ]
  },
  {
   "cell_type": "markdown",
   "id": "8a1cf5f1",
   "metadata": {},
   "source": [
    "Versuchen wir auf ein Element zuzugreifen, das nicht existiert, erhalten wir einen Fehler."
   ]
  },
  {
   "cell_type": "code",
   "execution_count": 30,
   "id": "a97c98db",
   "metadata": {},
   "outputs": [],
   "source": [
    "# stromverbrauch[12]"
   ]
  },
  {
   "cell_type": "markdown",
   "id": "39cd427c",
   "metadata": {},
   "source": [
    "Die Länge einer Liste können wir mit der Funktion `len` bestimmen. Diese gibt uns die Anzahl der Elemente in der Liste zurück."
   ]
  },
  {
   "cell_type": "code",
   "execution_count": 31,
   "id": "21e9bdd9",
   "metadata": {},
   "outputs": [
    {
     "data": {
      "text/plain": [
       "12"
      ]
     },
     "execution_count": 31,
     "metadata": {},
     "output_type": "execute_result"
    }
   ],
   "source": [
    "len(stromverbrauch)"
   ]
  },
  {
   "cell_type": "markdown",
   "id": "f37fa789",
   "metadata": {},
   "source": [
    "Wir können auch auf die letzten Elemente einer Liste zugreifen, indem wir negative Indizes verwenden."
   ]
  },
  {
   "cell_type": "code",
   "execution_count": 32,
   "id": "ea0d52fd",
   "metadata": {},
   "outputs": [
    {
     "data": {
      "text/plain": [
       "120.22"
      ]
     },
     "execution_count": 32,
     "metadata": {},
     "output_type": "execute_result"
    }
   ],
   "source": [
    "stromverbrauch[len(stromverbrauch) - 1]"
   ]
  },
  {
   "cell_type": "code",
   "execution_count": 33,
   "id": "59534bf8",
   "metadata": {},
   "outputs": [
    {
     "data": {
      "text/plain": [
       "120.22"
      ]
     },
     "execution_count": 33,
     "metadata": {},
     "output_type": "execute_result"
    }
   ],
   "source": [
    "stromverbrauch[-1]"
   ]
  },
  {
   "cell_type": "markdown",
   "id": "6e0e3cb1",
   "metadata": {},
   "source": [
    "Wir können auch auf mehrere Elemente einer Liste zugreifen, indem wir den Index des ersten Elements und den Index des letzten Elements in eckigen Klammern hinter den Namen der Liste schreiben. Der Index des letzten Elements ist dabei exklusiv."
   ]
  },
  {
   "cell_type": "code",
   "execution_count": 34,
   "id": "2e43d0e3",
   "metadata": {},
   "outputs": [
    {
     "data": {
      "text/plain": [
       "[100, 120, 80]"
      ]
     },
     "execution_count": 34,
     "metadata": {},
     "output_type": "execute_result"
    }
   ],
   "source": [
    "stromverbrauch[0:3]"
   ]
  },
  {
   "cell_type": "markdown",
   "id": "75425b00",
   "metadata": {},
   "source": [
    "Das ist das gleiche wie"
   ]
  },
  {
   "cell_type": "code",
   "execution_count": 35,
   "id": "490dfb58",
   "metadata": {},
   "outputs": [
    {
     "data": {
      "text/plain": [
       "[100, 120, 80]"
      ]
     },
     "execution_count": 35,
     "metadata": {},
     "output_type": "execute_result"
    }
   ],
   "source": [
    "stromverbrauch[:3]"
   ]
  },
  {
   "cell_type": "code",
   "execution_count": 36,
   "id": "1815fbf9",
   "metadata": {},
   "outputs": [
    {
     "data": {
      "text/plain": [
       "True"
      ]
     },
     "execution_count": 36,
     "metadata": {},
     "output_type": "execute_result"
    }
   ],
   "source": [
    "stromverbrauch[0:3] == stromverbrauch[:3]"
   ]
  },
  {
   "cell_type": "code",
   "execution_count": 37,
   "id": "6b0d7183",
   "metadata": {},
   "outputs": [
    {
     "data": {
      "text/plain": [
       "[90, 110, 100]"
      ]
     },
     "execution_count": 37,
     "metadata": {},
     "output_type": "execute_result"
    }
   ],
   "source": [
    "stromverbrauch[3:6]"
   ]
  },
  {
   "cell_type": "markdown",
   "id": "c141d058",
   "metadata": {},
   "source": [
    "Wir können einzelne Elemente einer Liste verändern."
   ]
  },
  {
   "cell_type": "code",
   "execution_count": 39,
   "id": "001c6e12",
   "metadata": {},
   "outputs": [
    {
     "data": {
      "text/plain": [
       "[1, 120, 80, 90, 110, 100, 120, 80, 90.12, 110, 100, 120.22]"
      ]
     },
     "execution_count": 39,
     "metadata": {},
     "output_type": "execute_result"
    }
   ],
   "source": [
    "stromverbrauch[0] = 1\n",
    "stromverbrauch"
   ]
  },
  {
   "cell_type": "markdown",
   "id": "bb4f3e7d",
   "metadata": {},
   "source": [
    "Wir können auch mehrere Elemente einer Liste verändern."
   ]
  },
  {
   "cell_type": "code",
   "execution_count": 40,
   "id": "52a25838",
   "metadata": {},
   "outputs": [
    {
     "data": {
      "text/plain": [
       "[5, 5, 8, 90, 110, 100, 120, 80, 90.12, 110, 100, 120.22]"
      ]
     },
     "execution_count": 40,
     "metadata": {},
     "output_type": "execute_result"
    }
   ],
   "source": [
    "stromverbrauch[0:3] = [5, 5, 8]\n",
    "stromverbrauch"
   ]
  },
  {
   "cell_type": "markdown",
   "id": "c640f2c8",
   "metadata": {},
   "source": [
    "Tuple sind wie Listen, nur dass sie nicht verändert werden können. Wir können sie mit runden Klammern erstellen. Im folgenden Beispiel erstellen wir ein Tuple mit den Monatsnamen. Dann versuchen wir, das erste Element zu verändern. Das funktioniert nicht."
   ]
  },
  {
   "cell_type": "code",
   "execution_count": 41,
   "id": "40b54446",
   "metadata": {},
   "outputs": [],
   "source": [
    "monatsnamen = (\"Januar\", \"Februar\", \"März\", \"April\", \"Mai\", \"Juni\", \"Juli\",\n",
    "               \"August\", \"September\", \"Oktober\", \"November\", \"Dezember\")"
   ]
  },
  {
   "cell_type": "code",
   "execution_count": 42,
   "id": "a3832d40",
   "metadata": {},
   "outputs": [],
   "source": [
    "# monatsnamen[0] = \"Jänner\""
   ]
  },
  {
   "cell_type": "markdown",
   "id": "9c57fe09",
   "metadata": {},
   "source": [
    "### Schleifen\n",
    "\n",
    "In vielen Fällen wollen wir eine Operation auf alle Elemente einer Liste anwenden. Dafür können wir Schleifen verwenden."
   ]
  },
  {
   "cell_type": "code",
   "execution_count": 43,
   "id": "3ebe5f20",
   "metadata": {},
   "outputs": [
    {
     "name": "stdout",
     "output_type": "stream",
     "text": [
      "Der Stromverbrauch war 5 EUR\n",
      "Der Stromverbrauch war 5 EUR\n",
      "Der Stromverbrauch war 8 EUR\n",
      "Der Stromverbrauch war 90 EUR\n",
      "Der Stromverbrauch war 110 EUR\n",
      "Der Stromverbrauch war 100 EUR\n",
      "Der Stromverbrauch war 120 EUR\n",
      "Der Stromverbrauch war 80 EUR\n",
      "Der Stromverbrauch war 90.12 EUR\n",
      "Der Stromverbrauch war 110 EUR\n",
      "Der Stromverbrauch war 100 EUR\n",
      "Der Stromverbrauch war 120.22 EUR\n"
     ]
    }
   ],
   "source": [
    "for g in stromverbrauch:\n",
    "    print(f\"Der Stromverbrauch war {g} EUR\")"
   ]
  },
  {
   "cell_type": "code",
   "execution_count": 44,
   "id": "0eeeb980",
   "metadata": {},
   "outputs": [
    {
     "name": "stdout",
     "output_type": "stream",
     "text": [
      "Der Stromverbrauch im Monat Januar war 5 EUR.\n",
      "Der Stromverbrauch im Monat Februar war 5 EUR.\n",
      "Der Stromverbrauch im Monat März war 8 EUR.\n",
      "Der Stromverbrauch im Monat April war 90 EUR.\n",
      "Der Stromverbrauch im Monat Mai war 110 EUR.\n",
      "Der Stromverbrauch im Monat Juni war 100 EUR.\n",
      "Der Stromverbrauch im Monat Juli war 120 EUR.\n",
      "Der Stromverbrauch im Monat August war 80 EUR.\n",
      "Der Stromverbrauch im Monat September war 90.12 EUR.\n",
      "Der Stromverbrauch im Monat Oktober war 110 EUR.\n",
      "Der Stromverbrauch im Monat November war 100 EUR.\n",
      "Der Stromverbrauch im Monat Dezember war 120.22 EUR.\n"
     ]
    }
   ],
   "source": [
    "for idx, g in enumerate(stromverbrauch):\n",
    "    print(f\"Der Stromverbrauch im Monat {monatsnamen[idx]} war {g} EUR.\")"
   ]
  },
  {
   "cell_type": "markdown",
   "id": "5925faa1",
   "metadata": {},
   "source": [
    "Die Namen der Variablen in der `for`-Schleife können wir frei wählen (diese müssen allerdings valide Variablennamen sein)."
   ]
  },
  {
   "cell_type": "code",
   "execution_count": 45,
   "id": "dabb5cce",
   "metadata": {},
   "outputs": [
    {
     "name": "stdout",
     "output_type": "stream",
     "text": [
      "Der Stromverbrauch im Monat Januar war 5 EUR.\n",
      "Der Stromverbrauch im Monat Februar war 5 EUR.\n",
      "Der Stromverbrauch im Monat März war 8 EUR.\n",
      "Der Stromverbrauch im Monat April war 90 EUR.\n",
      "Der Stromverbrauch im Monat Mai war 110 EUR.\n",
      "Der Stromverbrauch im Monat Juni war 100 EUR.\n",
      "Der Stromverbrauch im Monat Juli war 120 EUR.\n",
      "Der Stromverbrauch im Monat August war 80 EUR.\n",
      "Der Stromverbrauch im Monat September war 90.12 EUR.\n",
      "Der Stromverbrauch im Monat Oktober war 110 EUR.\n",
      "Der Stromverbrauch im Monat November war 100 EUR.\n",
      "Der Stromverbrauch im Monat Dezember war 120.22 EUR.\n"
     ]
    }
   ],
   "source": [
    "for i, verbrauch in enumerate(stromverbrauch):\n",
    "    print(f\"Der Stromverbrauch im Monat {monatsnamen[i]} war {verbrauch} EUR.\")"
   ]
  },
  {
   "cell_type": "markdown",
   "id": "8b1e0a12",
   "metadata": {},
   "source": [
    "# Listenabstraktionen (List Comprehensions)\n",
    "\n",
    "In vielen Fällen wollen wir eine Liste oder ein Dictionary erstellen, indem wir eine Operation auf alle Elemente einer anderen Liste anwenden. Dafür können wir Comprehensions verwenden. Last uns zum Beispiel eine Liste mit den Stromverbräuchen in BGN (Lev) erstellen."
   ]
  },
  {
   "cell_type": "code",
   "execution_count": 46,
   "id": "c2a8b231",
   "metadata": {},
   "outputs": [
    {
     "data": {
      "text/plain": [
       "[9.775,\n",
       " 9.775,\n",
       " 15.64,\n",
       " 175.95000000000002,\n",
       " 215.05,\n",
       " 195.5,\n",
       " 234.60000000000002,\n",
       " 156.4,\n",
       " 176.18460000000002,\n",
       " 215.05,\n",
       " 195.5,\n",
       " 235.0301]"
      ]
     },
     "execution_count": 46,
     "metadata": {},
     "output_type": "execute_result"
    }
   ],
   "source": [
    "stromverbrauch_bgn = [1.955 * g for g in stromverbrauch]\n",
    "stromverbrauch_bgn"
   ]
  },
  {
   "cell_type": "markdown",
   "id": "5370fd42",
   "metadata": {},
   "source": [
    "In der Listenabstraktion können wir auch Bedingungen formulieren. Zum Beispiel können wir nur die Werte aus der ursprünglichen Liste übernehmen, die größer als 100 sind."
   ]
  },
  {
   "cell_type": "code",
   "execution_count": 47,
   "id": "60ae230a",
   "metadata": {},
   "outputs": [
    {
     "data": {
      "text/plain": [
       "[110, 120, 110, 120.22]"
      ]
     },
     "execution_count": 47,
     "metadata": {},
     "output_type": "execute_result"
    }
   ],
   "source": [
    "stromverbrauch_gt_100 = [g for g in stromverbrauch if g > 100]\n",
    "stromverbrauch_gt_100"
   ]
  },
  {
   "cell_type": "markdown",
   "id": "197c15e3",
   "metadata": {},
   "source": [
    "# Bedingte Ausführung (Conditionals)\n",
    "\n",
    "In vielen Fällen wollen wir eine Operation nur unter bestimmten Bedingungen ausführen. Dafür können wir `if`-Statements verwenden."
   ]
  },
  {
   "cell_type": "markdown",
   "id": "a457f368",
   "metadata": {},
   "source": []
  },
  {
   "cell_type": "code",
   "execution_count": 48,
   "id": "4b6f5cca",
   "metadata": {},
   "outputs": [
    {
     "name": "stdout",
     "output_type": "stream",
     "text": [
      "1 ist nicht größer als 2\n"
     ]
    }
   ],
   "source": [
    "if 1 > 2:\n",
    "    print(\"1 ist größer als 2\")\n",
    "else:\n",
    "    print(\"1 ist nicht größer als 2\")"
   ]
  },
  {
   "cell_type": "code",
   "execution_count": 49,
   "id": "bed83391",
   "metadata": {},
   "outputs": [
    {
     "name": "stdout",
     "output_type": "stream",
     "text": [
      "1 ist kleiner als 2\n"
     ]
    }
   ],
   "source": [
    "if 1 > 2:\n",
    "    print(\"1 ist größer als 2\")\n",
    "elif 1 < 2:\n",
    "    print(\"1 ist kleiner als 2\")\n",
    "else:\n",
    "    print(\"1 ist gleich 2\")"
   ]
  },
  {
   "cell_type": "code",
   "execution_count": 50,
   "id": "f9791a46",
   "metadata": {},
   "outputs": [
    {
     "name": "stdout",
     "output_type": "stream",
     "text": [
      "Der Stromverbrauch im Mai war 110 EUR und damit höher als 100 EUR.\n",
      "Der Stromverbrauch im Juli war 120 EUR und damit höher als 100 EUR.\n",
      "Der Stromverbrauch im Oktober war 110 EUR und damit höher als 100 EUR.\n",
      "Der Stromverbrauch im Dezember war 120.22 EUR und damit höher als 100 EUR.\n"
     ]
    }
   ],
   "source": [
    "for i, g in enumerate(stromverbrauch):\n",
    "    if g > 100:\n",
    "        print(\"Der Stromverbrauch im\", monatsnamen[i], \"war\", g, \"EUR und damit höher als 100 EUR.\")"
   ]
  },
  {
   "cell_type": "code",
   "execution_count": 51,
   "id": "48e4778f",
   "metadata": {},
   "outputs": [
    {
     "name": "stdout",
     "output_type": "stream",
     "text": [
      "Der Stromverbrauch im Januar war 5 EUR und damit niedriger als 100 EUR.\n",
      "Der Stromverbrauch im Februar war 5 EUR und damit niedriger als 100 EUR.\n",
      "Der Stromverbrauch im März war 8 EUR und damit niedriger als 100 EUR.\n",
      "Der Stromverbrauch im April war 90 EUR und damit niedriger als 100 EUR.\n",
      "Der Stromverbrauch im Mai war 110 EUR und damit höher als 100 EUR.\n",
      "Der Stromverbrauch im Juni war 100 EUR und damit niedriger als 100 EUR.\n",
      "Der Stromverbrauch im Juli war 120 EUR und damit höher als 100 EUR.\n",
      "Der Stromverbrauch im August war 80 EUR und damit niedriger als 100 EUR.\n",
      "Der Stromverbrauch im September war 90.12 EUR und damit niedriger als 100 EUR.\n",
      "Der Stromverbrauch im Oktober war 110 EUR und damit höher als 100 EUR.\n",
      "Der Stromverbrauch im November war 100 EUR und damit niedriger als 100 EUR.\n",
      "Der Stromverbrauch im Dezember war 120.22 EUR und damit höher als 100 EUR.\n"
     ]
    }
   ],
   "source": [
    "for i, g in enumerate(stromverbrauch):\n",
    "    if g > 100:\n",
    "        print(\"Der Stromverbrauch im\", monatsnamen[i], \"war\", g, \"EUR und damit höher als 100 EUR.\")\n",
    "    else:\n",
    "        print(\"Der Stromverbrauch im\", monatsnamen[i], \"war\", g, \"EUR und damit niedriger als 100 EUR.\")"
   ]
  },
  {
   "cell_type": "markdown",
   "id": "27848405",
   "metadata": {},
   "source": [
    "## Dictionaries\n",
    "\n",
    "Es is sehr häufig, dass wir nicht nur einzelne Werte, sondern ganze Datensätze verwenden wollen. Dafür können wir Dictionaries verwenden. Dictionaries sind wie Listen, nur dass wir nicht mit Indizes, sondern mit Schlüsseln auf die Elemente zugreifen. Schlüssel können beliebige unveränderbare Datentypen sein (z.B. Strings, Zahlen, Tupel). Werte können beliebige Datentypen sein. Wir können Dictionaries mit geschweiften Klammern erstellen. Die Werte in einem Dictionary werden mit einem Doppelpunkt vom Schlüssel getrennt. Die einzelnen Elemente werden mit Kommas getrennt. \n",
    "\n",
    "Die Ordnung der Elemente ist nicht definiert."
   ]
  },
  {
   "cell_type": "code",
   "execution_count": 52,
   "id": "7097fc414d80b65a",
   "metadata": {
    "ExecuteTime": {
     "end_time": "2024-01-19T15:48:34.424030415Z",
     "start_time": "2024-01-19T15:48:34.415470007Z"
    }
   },
   "outputs": [],
   "source": [
    "stromverbrauch_dict = {\n",
    "    \"Januar\": 100,\n",
    "    \"Februar\": 120,\n",
    "    \"März\": 80,\n",
    "    \"April\": 90,\n",
    "    \"Mai\": 110,\n",
    "    \"Juni\": 100,\n",
    "    \"Juli\": 120,\n",
    "    \"August\": 80,\n",
    "    \"September\": 90.12,\n",
    "    \"Oktober\": 110,\n",
    "    \"November\": 100,\n",
    "    \"Dezember\": 120.22\n",
    "}"
   ]
  },
  {
   "cell_type": "code",
   "execution_count": 53,
   "id": "71bd71b230479043",
   "metadata": {
    "ExecuteTime": {
     "end_time": "2024-01-19T15:48:36.902682539Z",
     "start_time": "2024-01-19T15:48:36.848636624Z"
    }
   },
   "outputs": [
    {
     "data": {
      "text/plain": [
       "100"
      ]
     },
     "execution_count": 53,
     "metadata": {},
     "output_type": "execute_result"
    }
   ],
   "source": [
    "stromverbrauch_dict[\"Januar\"]"
   ]
  },
  {
   "cell_type": "code",
   "execution_count": 54,
   "id": "956457f38fc052c3",
   "metadata": {
    "ExecuteTime": {
     "end_time": "2024-01-19T15:49:13.186752055Z",
     "start_time": "2024-01-19T15:49:13.139386651Z"
    }
   },
   "outputs": [],
   "source": [
    "# stromverbrauch_dict[\"FDFFF\"]"
   ]
  },
  {
   "cell_type": "markdown",
   "id": "75ccfaa8d3d96177",
   "metadata": {
    "collapsed": false
   },
   "source": [
    "Wir können auf "
   ]
  },
  {
   "cell_type": "code",
   "execution_count": 55,
   "id": "aceadff0e31fc93",
   "metadata": {
    "ExecuteTime": {
     "end_time": "2024-01-19T15:49:57.982474954Z",
     "start_time": "2024-01-19T15:49:57.966445829Z"
    }
   },
   "outputs": [
    {
     "data": {
      "text/plain": [
       "100"
      ]
     },
     "execution_count": 55,
     "metadata": {},
     "output_type": "execute_result"
    }
   ],
   "source": [
    "stromverbrauch_dict.get(\"Januar\")"
   ]
  },
  {
   "cell_type": "code",
   "execution_count": 56,
   "id": "13266bc864c0ec3",
   "metadata": {
    "ExecuteTime": {
     "end_time": "2024-01-19T15:50:07.475056350Z",
     "start_time": "2024-01-19T15:50:07.388153791Z"
    }
   },
   "outputs": [],
   "source": [
    "# stromverbrauch_dict.get(\"FDFF\") == None"
   ]
  },
  {
   "cell_type": "markdown",
   "id": "5a6679b985488969",
   "metadata": {
    "collapsed": false
   },
   "source": [
    "Wir können über die Schlüssel eines Dictionaries iterieren.\n"
   ]
  },
  {
   "cell_type": "code",
   "execution_count": 57,
   "id": "a8e97f6d9b59e7cd",
   "metadata": {
    "ExecuteTime": {
     "end_time": "2024-01-19T15:50:32.769654293Z",
     "start_time": "2024-01-19T15:50:32.728876254Z"
    }
   },
   "outputs": [
    {
     "name": "stdout",
     "output_type": "stream",
     "text": [
      "Januar\n",
      "Februar\n",
      "März\n",
      "April\n",
      "Mai\n",
      "Juni\n",
      "Juli\n",
      "August\n",
      "September\n",
      "Oktober\n",
      "November\n",
      "Dezember\n"
     ]
    }
   ],
   "source": [
    "for key in stromverbrauch_dict:\n",
    "    print(key)"
   ]
  },
  {
   "cell_type": "markdown",
   "id": "79bff8544df6c49d",
   "metadata": {
    "collapsed": false
   },
   "source": [
    "Wir können auch über die Schlüssel und Werte eines Dictionaries iterieren."
   ]
  },
  {
   "cell_type": "code",
   "execution_count": 58,
   "id": "b10d3cd398661a52",
   "metadata": {
    "ExecuteTime": {
     "end_time": "2024-01-19T15:51:05.584479706Z",
     "start_time": "2024-01-19T15:51:05.515882003Z"
    }
   },
   "outputs": [
    {
     "name": "stdout",
     "output_type": "stream",
     "text": [
      "Im Januar war der Stromverbrauch 100 EUR.\n",
      "Im Februar war der Stromverbrauch 120 EUR.\n",
      "Im März war der Stromverbrauch 80 EUR.\n",
      "Im April war der Stromverbrauch 90 EUR.\n",
      "Im Mai war der Stromverbrauch 110 EUR.\n",
      "Im Juni war der Stromverbrauch 100 EUR.\n",
      "Im Juli war der Stromverbrauch 120 EUR.\n",
      "Im August war der Stromverbrauch 80 EUR.\n",
      "Im September war der Stromverbrauch 90.12 EUR.\n",
      "Im Oktober war der Stromverbrauch 110 EUR.\n",
      "Im November war der Stromverbrauch 100 EUR.\n",
      "Im Dezember war der Stromverbrauch 120.22 EUR.\n"
     ]
    }
   ],
   "source": [
    "for key, value in stromverbrauch_dict.items():\n",
    "    print(f\"Im {key} war der Stromverbrauch {value} EUR.\")"
   ]
  },
  {
   "cell_type": "markdown",
   "id": "f5bfcc5704fa6039",
   "metadata": {
    "collapsed": false
   },
   "source": [
    "# Dictionaryabstraktionen (Dictionary Comprehensions)\n",
    "\n",
    "In vielen Fällen wollen wir ein Dictionary erstellen, indem wir eine Operation auf alle Elemente eines anderen Dictionaries anwenden. Dafür können wir Comprehensions verwenden. Last uns zum Beispiel ein Dictionary mit den Stromverbräuchen in BGN (Lev) erstellen.\n"
   ]
  },
  {
   "cell_type": "code",
   "execution_count": 59,
   "id": "cc9dd4f5b479ee6",
   "metadata": {
    "ExecuteTime": {
     "end_time": "2024-01-19T15:51:54.663055454Z",
     "start_time": "2024-01-19T15:51:54.653711872Z"
    }
   },
   "outputs": [
    {
     "data": {
      "text/plain": [
       "{'Januar': 195.5,\n",
       " 'Februar': 234.60000000000002,\n",
       " 'März': 156.4,\n",
       " 'April': 175.95000000000002,\n",
       " 'Mai': 215.05,\n",
       " 'Juni': 195.5,\n",
       " 'Juli': 234.60000000000002,\n",
       " 'August': 156.4,\n",
       " 'September': 176.18460000000002,\n",
       " 'Oktober': 215.05,\n",
       " 'November': 195.5,\n",
       " 'Dezember': 235.0301}"
      ]
     },
     "execution_count": 59,
     "metadata": {},
     "output_type": "execute_result"
    }
   ],
   "source": [
    "stromverbrauch_bgn_dict = {key: 1.955 * value for key, value in stromverbrauch_dict.items()}\n",
    "stromverbrauch_bgn_dict"
   ]
  },
  {
   "cell_type": "markdown",
   "id": "677be398a48a46fe",
   "metadata": {
    "collapsed": false
   },
   "source": [
    "Mit der Funktion `zip` können wir zwei Listen zu einem Dictionary zusammenfügen."
   ]
  },
  {
   "cell_type": "code",
   "execution_count": 60,
   "id": "8e0016fdb68dc900",
   "metadata": {
    "ExecuteTime": {
     "end_time": "2024-01-19T15:52:33.198034623Z",
     "start_time": "2024-01-19T15:52:33.147232845Z"
    }
   },
   "outputs": [
    {
     "data": {
      "text/plain": [
       "{'Januar': 5,\n",
       " 'Februar': 5,\n",
       " 'März': 8,\n",
       " 'April': 90,\n",
       " 'Mai': 110,\n",
       " 'Juni': 100,\n",
       " 'Juli': 120,\n",
       " 'August': 80,\n",
       " 'September': 90.12,\n",
       " 'Oktober': 110,\n",
       " 'November': 100,\n",
       " 'Dezember': 120.22}"
      ]
     },
     "execution_count": 60,
     "metadata": {},
     "output_type": "execute_result"
    }
   ],
   "source": [
    "dict(zip(monatsnamen, stromverbrauch))"
   ]
  },
  {
   "cell_type": "markdown",
   "id": "75c9dc2f",
   "metadata": {},
   "source": [
    "### Funktionen\n",
    "\n",
    "Sehr häufig möchten wir ein und dieselbe Operation mit verschiedenen Daten (Argumenten) ausführen, ohne dass wir den Code jedes Mal neu schreiben zu müssen.\n",
    "Dafür können wir Funktionen verwenden. In Python definieren wir eine Funktion mit dem Schlüsselwort `def` gefolgt von dem Namen der Funktion und den Argumenten in runden Klammern. Der Funktionskörper wird eingerückt. Mit dem Schlüsselwort `return` geben wir das Ergebnis der Funktion zurück.\n",
    "\n",
    "\n",
    "Als Beispiel nehmen wir eine Funktion, die einen numerischen Wert als Argument nimmt, es mit 1.955 multipliziert und das Ergebnis zurückgibt. Die Funktion nennen\n",
    "wir `eur_to_bgn`."
   ]
  },
  {
   "cell_type": "code",
   "execution_count": 61,
   "id": "d9876d0a",
   "metadata": {},
   "outputs": [
    {
     "data": {
      "text/plain": [
       "195.5"
      ]
     },
     "execution_count": 61,
     "metadata": {},
     "output_type": "execute_result"
    }
   ],
   "source": [
    "def eur_to_bgn(x):\n",
    "    return 1.955 * x\n",
    "\n",
    "eur_to_bgn(100)"
   ]
  },
  {
   "cell_type": "markdown",
   "id": "7170c6cb",
   "metadata": {},
   "source": [
    "Funktionen können auch mehrere Argumente haben. Die Argumente werden durch Kommas getrennt."
   ]
  },
  {
   "cell_type": "code",
   "execution_count": 62,
   "id": "1ed0eb71",
   "metadata": {},
   "outputs": [
    {
     "data": {
      "text/plain": [
       "3"
      ]
     },
     "execution_count": 62,
     "metadata": {},
     "output_type": "execute_result"
    }
   ],
   "source": [
    "def my_simple_sum(x, y):\n",
    "    return x + y\n",
    "\n",
    "my_simple_sum(1, 2)"
   ]
  },
  {
   "cell_type": "markdown",
   "id": "23db832f",
   "metadata": {},
   "source": [
    "Schreiben Sie eine Funktion `calculate_vat`, die einen numerischen Wert als Argument nimmt und den Mehrwertsteuerbetrag (20%) zurückgibt.\n"
   ]
  },
  {
   "cell_type": "code",
   "execution_count": 63,
   "id": "fe5b5840",
   "metadata": {},
   "outputs": [],
   "source": []
  },
  {
   "cell_type": "markdown",
   "id": "66e71e0e",
   "metadata": {},
   "source": [
    "Schreiben Sie eine Funktion, die zwei numerische Argumente annimmt `amounts` und `vat_rate`. Das erste Argument ist eine Liste von numerischen Werten (Betrag ohne Mehrwertsteuer). Das zweite Argument ist der Mehrwertsteuersatz in Prozent. Die Funktion soll eine Liste von numerischen Werten (Betrag mit Mehrwertsteuer) zurückgeben."
   ]
  },
  {
   "cell_type": "markdown",
   "id": "e24924cd",
   "metadata": {},
   "source": [
    "## Klassen und Objekte\n",
    "\n",
    "Bisher haben wir verschiedene Datentypen gesehen, drei verschiedene Datenstrukturen (Listen, Tupel und Dictionaries) und Funktionen gesehen. In Python gibt es auch Objekte, die Daten und Funktionen zusammenbinden. Funktionen, die zu einem Objekt gehören, nennen wir Methoden. Objekte werden aus Klassen erstellt. Klassen sind wie Baupläne für Objekte.\n",
    "In den Übungen werden wir keine Klassen selber definieren, allerdings werden wir Objekte wie DataFrame, Series, etc. verwenden, die aus Klassen erstellt wurden. Deswegen ist es wichtig, dass Sie wissen, wie Sie mit Objekten umgehen können.\n",
    "\n",
    "Zuerst definieren wir eine Klasse `Person`. Diese hat zwei Attribute: `name` und `age`. Die Klasse erlaubt uns, ein Objekt zu erstellen, das diese beiden Attribute hat. Wir können auch eine Methode `say_hello` definieren, die uns erlaubt, \"Hallo\" und den Namen der Person auszugeben. Alle Methoden, wie z.B. `say_hello` erhalten das Argument `self`, das das Objekt selbst ist. Dadurch können wir über Methoden auf die Eigenschaften des Objekts zugreifen."
   ]
  },
  {
   "cell_type": "code",
   "execution_count": 64,
   "id": "4a774b97",
   "metadata": {},
   "outputs": [],
   "source": [
    "class Person:\n",
    "    def __init__(self, name, age):\n",
    "        self.name = name\n",
    "        self.age = age\n",
    "\n",
    "    def say_hello(self):\n",
    "        print(\"Hi, my name is\", self.name, \"and I am\", self.age, \"years old.\")"
   ]
  },
  {
   "cell_type": "code",
   "execution_count": 65,
   "id": "0657506f",
   "metadata": {},
   "outputs": [
    {
     "name": "stdout",
     "output_type": "stream",
     "text": [
      "Ivan\n",
      "20\n"
     ]
    }
   ],
   "source": [
    "ivan = Person(\"Ivan\", 20)\n",
    "betty = Person(\"Betty\", 25)\n",
    "\n",
    "print(ivan.name)\n",
    "print(ivan.age)"
   ]
  },
  {
   "cell_type": "code",
   "execution_count": 66,
   "id": "dd716bc6",
   "metadata": {},
   "outputs": [
    {
     "name": "stdout",
     "output_type": "stream",
     "text": [
      "Hi, my name is Ivan and I am 20 years old.\n"
     ]
    }
   ],
   "source": [
    "ivan.say_hello()"
   ]
  },
  {
   "cell_type": "code",
   "execution_count": 67,
   "id": "8e766aa1",
   "metadata": {},
   "outputs": [
    {
     "name": "stdout",
     "output_type": "stream",
     "text": [
      "Hi, my name is Betty and I am 25 years old.\n"
     ]
    }
   ],
   "source": [
    "betty.say_hello()"
   ]
  },
  {
   "cell_type": "markdown",
   "id": "c59bf5ed",
   "metadata": {},
   "source": [
    "### Lambdafunktionen\n",
    "\n",
    "Manchmal möchten wir eine Funktion nur einmal verwenden. Dafür können wir Lambda Funktionen verwenden. Diese Funktionen haben keinen Namen. Wir können sie mit dem Schlüsselwort `lambda` erstellen. Die Argumente der Funktion werden durch ein Komma getrennt hinter dem Schlüsselwort `lambda` geschrieben. Der Rückgabewert der Funktion wird nach einem Doppelpunkt geschrieben.\n",
    "\n",
    "Zum Beispiel können wir eine Lambdafunktion verwenden, um den Stromverbrauch in BGN zu berechnen."
   ]
  },
  {
   "cell_type": "code",
   "execution_count": 68,
   "id": "29a4a6d0",
   "metadata": {},
   "outputs": [],
   "source": [
    "stromverbrauch_bgn = map(lambda x: x * 1.955, stromverbrauch)"
   ]
  }
 ],
 "metadata": {
  "kernelspec": {
   "display_name": "Python 3",
   "language": "python",
   "name": "python3"
  },
  "language_info": {
   "codemirror_mode": {
    "name": "ipython",
    "version": 3
   },
   "file_extension": ".py",
   "mimetype": "text/x-python",
   "name": "python",
   "nbconvert_exporter": "python",
   "pygments_lexer": "ipython3",
   "version": "3.11.7"
  }
 },
 "nbformat": 4,
 "nbformat_minor": 5
}
