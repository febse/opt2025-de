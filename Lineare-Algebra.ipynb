{
 "cells": [
  {
   "cell_type": "markdown",
   "id": "b2335614",
   "metadata": {},
   "source": [
    "# Lineare Algebra\n",
    "\n",
    "In der Schule haben Sie Algebra gelernt, die sich mit Zahlen beschäftigt. Das Wort Algebra stammt von dem arabischen Wort \"al-jabr\" ab, das ursprünglich \"Reparatur\" oder \"Wiederherstellung\" bedeutete. "
   ]
  }
 ],
 "metadata": {
  "language_info": {
   "name": "python"
  }
 },
 "nbformat": 4,
 "nbformat_minor": 5
}
