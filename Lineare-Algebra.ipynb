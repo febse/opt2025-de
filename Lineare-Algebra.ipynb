{
 "cells": [
  {
   "cell_type": "markdown",
   "id": "68d41136",
   "metadata": {},
   "source": [
    "# Buchhaltung mit Excel und Numpy\n",
    "\n",
    "\n",
    "Open in Colab: [![Open in Colab](https://colab.research.google.com/assets/colab-badge.svg)](https://colab.research.google.com/github/febse/opt2025-de/blob/main/Lineare-Algebra.ipynb)\n",
    "\n",
    "Stellen wir uns vor, dass wir mehrere Bankkonten haben, z.B. ein Bankkonto in BGN in Bulgarien, ein PayPal-Konto in USD und ein Revolut-Konto in Euro. Wir möchten wissen, wie viel Geld wir insgesamt haben. Die einzelne Kontostände seien z.B. $x = 1000$ BGN in dem BGN-Konto, $y = 500$ USD in dem PayPal-Konto und $z = 200$ Euro in dem Revolut-Konto. Wir können diese Kontostände nicht direkt addieren, weil sie in verschiedenen Währungen sind. Um unser Gesamtvermögen zu berechnen, müssen wir alle Kontostände in dieselbe Währung umrechnen. Wir können das mit den Wechselkursen machen:\n",
    "\n",
    "- $1$ BGN = $0.51$ Euro\n",
    "- $1$ USD = $0.91$ Euro\n",
    "- $1$ Euro = $1$ Euro\n",
    "\n",
    "Unser Gesamtkontostand in Euro ist dann:\n",
    "\n",
    "$$\n",
    "0.51 \\cdot 1000 + 0.91 \\cdot 500 + 1 \\cdot 200 = 510 + 455 + 200 = 1165 \\text{ Euro}\n",
    "$$\n",
    "\n",
    "Allgemeiner können wir unser Gesamtkontostand in Euro mit einer Funktion $F$ berechnen:\n",
    "\n",
    "$$\n",
    "F(x, y, z) = 0.51 x + 0.91 y + 1 z\n",
    "$$\n",
    "\n",
    "Was diese Funktion tut ist einfach zuerst die Messeinheiten ihrer Inputs zu ändern (BGN in Euro, USD in Euro und Euro in Euro), dann zählt sie alles zusammen. Wir können sie z.B. mit dem (langen) Namen Gesamtkontostandineurorechner nennen.\n",
    "\n",
    "[Excel](https://github.com/febse/data/raw/refs/heads/main/opt/Recipes.xlsx)\n"
   ]
  },
  {
   "cell_type": "markdown",
   "id": "da8ef898",
   "metadata": {},
   "source": [
    "\n",
    "## Vereinfachung\n",
    "\n",
    "Schauen wir uns den Gesamtkontostandineurorechner allgemeiner an.\n",
    "\n",
    "$$\n",
    "F(x, y, z) = a x + b y + c z\n",
    "$$\n",
    "\n",
    "Da die Funktion $F$ immer ein und dasselbe tut (umrechnen, dann addieren), brauchen wir nur ihre Parameter (Umrechnungsfaktoren) $a$, $b$ und $c$ zu kennen. In unserem Beispiel sind die Parameter $a = 0.51$, $b = 0.91$ und $c = 1$. \n",
    "\n",
    "$$\n",
    "[0.51, 0.91, 1]\n",
    "$$\n",
    "\n",
    "Wir können die Funktion und ihre Parameter (Wechselkurse) [$0.51$, $0.91$, $1$] als eine **Operation** auffassen: umrechnen, addieren. Die Daten, die in diese Operation einfließen, sind die Kontostände [$1000$, $500$, $200$]. Um das ganze etwas übersichtlicher zu machen, können wir die Kontostände und die Wechselkurse in zwei Listen packen:\n",
    "\n",
    "\n",
    "::: {#tbl-panel layout-ncol=2}\n",
    "| Bank (BGN) | PayPal (USD) | Revolut (EUR) |\n",
    "|------------|--------------|---------------|\n",
    "| 1000       | 500          | 200           |\n",
    "\n",
    ": Kontostände (Daten) {#tbl-accounts-1}\n",
    "\n",
    "| Alles (EUR)                   |\n",
    "|-------------------------------|\n",
    "| 0.51                          |\n",
    "| 0.91                          |\n",
    "| 1                             |\n",
    "|-------------------------------|\n",
    "| 1165 EUR                      |\n",
    "\n",
    "\n",
    ": Operationen {#tbl-operations-1}\n",
    "\n",
    "Kontostände und Wechselkurse (eine Operation)\n",
    "\n",
    ":::\n",
    "\n",
    "\n",
    "Nun stellen wir uns vor, dass wir nicht nur den Gesamtwert in Euro berechnen wollen, sondern auch noch die folgenden Zusammenfassungen:\n",
    "\n",
    "- den Gesamtwert in Euro\n",
    "- den Wert in Euro nur des PayPal-Kontos\n",
    "- den Wert in USD des PayPal-Kontos\n",
    "- den Durchschnittswert in Euro\n",
    "- den Gesamtwert vom bulgarischen Konto und dem PayPal-Konto (in Euro)\n",
    "\n",
    "Mit unserer Darstellung der Daten und Operationen geht das sehr einfach. Wir müssen nur herausfinden, wie diese Operationen als Parameter aussehen.\n",
    "\n",
    "- Der Gesamtwert in BGN: das haben wir schon: [$0.51$, $0.91$, $1$]\n",
    "- Der Gesamtwert in Euro des PayPal-Kontos: [$0$, $0.91$, $0$]\n",
    "- Der Wert in USD des PayPal-Kontos: [$0$, $1$, $0$]\n",
    "- Der Durchschnittswert in Euro: [$0.51 / 3$, $0.91 / 3$, $1 / 3$]\n",
    "- Der Gesamtwert vom Bankkonto und vom Revolut-Konto (in Euro): [$0.51$, $0$, $1$]\n",
    "- Der Gesamtwert vom Bankkonto und vom PayPal-Konto abzüglich des Revolut-Kontos (in Euro): [$0.51$, $0.91$, $-1$]\n",
    "\n",
    "Sie können sich das vorstellen, als ob wir ein und dasselbe Wasser durch fünf verschiedene Siebe gießen. Jedes Sieb hat eine andere Form, aber sie alle haben die gleiche Funktion: sie filtern das Wasser. Das Wasser ist in unserem Fall die Liste der Kontostände und die Siebe sind die Parameter, die wir oben beschrieben haben.\n",
    "\n",
    "Nun brauchen wir diese Operationen nur noch in unsere Liste einzufügen. Fügen wir die ersten zwei hinzu:\n",
    "\n",
    "Jetzt haben wir den Gesamtkontostand in Euro und den Kontostand in Euro des PayPal-Kontos.\n",
    "\n",
    "Fügen wir nun alle Operationen hinzu:\n",
    "\n",
    "::: {#tbl-panel layout-ncol=2}\n",
    "| Bank (BGN) | PayPal (USD) | Revolut (EUR) |\n",
    "|------------|--------------|---------------|\n",
    "| 1000       | 500          | 200           |\n",
    "\n",
    ": Kontostände (Daten) {#tbl-accounts-2}\n",
    "\n",
    "| Alles (EUR)                   | Nur PayPal (EUR)                    |\n",
    "|-------------------------------|-------------------------------------|\n",
    "| 0.51                          | 0                                   |\n",
    "| 0.91                          | 0.91                                |\n",
    "| 1                             | 0                                   |\n",
    "|-------------------------------|-------------------------------------|\n",
    "| 1165 EUR                      | 455 EUR                             |\n",
    "\n",
    "\n",
    ": Operationen {#tbl-operations-2}\n",
    "\n",
    "Kontostände und Wechselkurse (zwei Operationen)\n",
    "\n",
    ":::\n",
    "\n",
    "\n",
    "::: {#tbl-panel layout-ncol=2}\n",
    "| Bank (BGN) | PayPal (USD) | Revolut (EUR) |\n",
    "|------------|--------------|---------------|\n",
    "| 1000       | 500          | 200           |\n",
    "\n",
    ": Kontostände (Daten) {#tbl-accounts-3}\n",
    "\n",
    "| Alles (EUR)                   | Nur PayPal (EUR)  | Nur PayPal (USD) | Durchschnitt (EUR) |\n",
    "|-------------------------------|-------------------|------------------|--------------------|\n",
    "| 0.51                          | 0                 | 0                | 0.51/3             |\n",
    "| 0.91                          | 0.91              | 1                | 0.91/3             |\n",
    "| 1                             | 0                 | 0                | 1 /3               |\n",
    "|-------------------------------|-------------------|------------------|--------------------|\n",
    "| 1165 EUR                      |   455 EUR         | 500 USD          | 388.3 EUR          |\n",
    "\n",
    "\n",
    ": Operationen {#tbl-operations-3}\n",
    "\n",
    "Kontostände und Wechselkurse (vier Operationen)\n",
    "\n",
    ":::\n"
   ]
  },
  {
   "cell_type": "markdown",
   "id": "598678a3",
   "metadata": {},
   "source": [
    "\n",
    "## Mehr als eine Person (mehr Daten)\n",
    "\n",
    "Was passiert, wenn wir zwei Personen haben, die Information über ihre drei Konten zusammenfassen wollen? Für unsere Tabellen bedeutet das einfach noch eine Zeile mit Daten. Diese zweite Zeile fließt durch dieselben Siebe wie die erste. Die Ergebnisse der Operationen schreiben wir einfach unter die Ergebnisse für die erste Zeile. Weil die Tabellen unpraktisch breit werden, zeigt das @tbl-operations-persons nur für die ersten zwei Operationen.\n",
    "\n",
    "\n",
    "::: {#tbl-panel layout-ncol=2}\n",
    "|Person | Bank (BGN) | PayPal (USD) | Revolut (EUR) |\n",
    "|-------|------------|--------------|---------------|\n",
    "|Boyko  | 1000       | 500          | 200           |\n",
    "|Nikoletta| 800      | 2000         | 100           |\n",
    "\n",
    ": Kontostände (Daten) {#tbl-accounts-persons}\n",
    "\n",
    "|Person   | Alles (EUR)                   | Nur PayPal (EUR)                    |\n",
    "|---------|-------------------------------|-------------------------------------|\n",
    "|         | 0.51                          | 0                                   |\n",
    "|         | 0.91                          | 0.91                                |\n",
    "|         | 1                             | 0                                   |\n",
    "|         |-------------------------------|-------------------------------------|\n",
    "|Boyko    | 1165 EUR                      | 455 EUR                             |\n",
    "|Nikoletta| 2328 EUR                      | 1820 EUR                            |\n",
    "\n",
    "\n",
    ": Operationen {#tbl-operations-persons}\n",
    "\n",
    "Kontostände und Wechselkurse (zwei Operationen, zwei Personen)\n",
    ":::\n",
    "\n",
    "\n",
    "Da die Tabellen etwas umständlich werden, wenn wir weitere Operationen und Daten hinzufügen, können wir sie etwas kompakter aufschreiben.\n",
    "\n"
   ]
  },
  {
   "cell_type": "markdown",
   "id": "d19bca9b",
   "metadata": {},
   "source": [
    "## Eine Person, eine Operation\n",
    "\n",
    "@tbl-accounts-1 und @tbl-operations-1 können wir kompakter auch so schreiben:\n",
    "\n",
    "$$\n",
    "\\begin{pmatrix}\n",
    "1000 & 500 & 200 \\\\\n",
    "\\end{pmatrix}\n",
    "\\begin{pmatrix}\n",
    "0.51 \\\\\n",
    "0.91 \\\\\n",
    "1 \\\\\n",
    "\\end{pmatrix}\n",
    "= \\begin{pmatrix}\n",
    "1165 \\\\\n",
    "\\end{pmatrix}\n",
    "$$"
   ]
  },
  {
   "cell_type": "code",
   "execution_count": 10,
   "id": "a215260d",
   "metadata": {},
   "outputs": [
    {
     "name": "stdout",
     "output_type": "stream",
     "text": [
      "Alles in Euro:  1165.0\n"
     ]
    },
    {
     "data": {
      "text/plain": [
       "np.float64(1165.0)"
      ]
     },
     "execution_count": 10,
     "metadata": {},
     "output_type": "execute_result"
    }
   ],
   "source": [
    "import numpy as np\n",
    "\n",
    "balances_boyko = np.array([1000, 500, 200])\n",
    "alles_in_euro = np.array([0.51, 0.91, 1])\n",
    "\n",
    "# Per Hand\n",
    "print(\"Alles in Euro: \", 1000 * 0.51 + 500 * 0.91 + 200 * 1)\n",
    "\n",
    "# Schneller und bequemer mit NumPy\n",
    "# Wir berechnen eigentlich das Skalarprodukt der beiden Vektoren (auf Englisch: dot product)\n",
    "\n",
    "balances_boyko.dot(alles_in_euro)\n"
   ]
  },
  {
   "cell_type": "markdown",
   "id": "bf259716",
   "metadata": {},
   "source": [
    "## Eine Person, mehrere Operationen\n",
    "\n",
    "@tbl-accounts-2 und @tbl-operations-2 können wir auch so schreiben:\n",
    "\n",
    "$$\n",
    "\\begin{align*}\n",
    "\\begin{pmatrix}\n",
    "1000 & 500 & 200 \\\\\n",
    "\\end{pmatrix}\n",
    "&\n",
    "\\begin{pmatrix}\n",
    "0.51 & 0 & 0 & 0.51 / 3 \\\\\n",
    "0.91 & 0.91 & 1 & 0.91 / 3 \\\\\n",
    "1 & 0 & 0 & 1 / 3\\\\\n",
    "\\end{pmatrix} \\\\\n",
    "= &\n",
    "\\begin{pmatrix}\n",
    "1165.0 & 455.0 & 500.0 & 388.3 \\\\\n",
    "\\end{pmatrix}\n",
    "\\end{align*}\n",
    "$$"
   ]
  },
  {
   "cell_type": "code",
   "execution_count": 17,
   "id": "2219ee8f",
   "metadata": {},
   "outputs": [
    {
     "data": {
      "text/plain": [
       "array([[0.51      , 0.        , 0.        , 0.17      ],\n",
       "       [0.91      , 0.91      , 1.        , 0.30333333],\n",
       "       [1.        , 0.        , 0.        , 0.33333333]])"
      ]
     },
     "execution_count": 17,
     "metadata": {},
     "output_type": "execute_result"
    }
   ],
   "source": [
    "# Wir definieren die einzelnen Operationen\n",
    "nur_paypal_euro = np.array([0, 0.91, 0])\n",
    "nur_paypal_usd = np.array([0, 1, 0])\n",
    "durchschnitt_euro = np.array([0.51 / 3, 0.91 / 3, 1 / 3])\n",
    "bank_und_revolut_euro = np.array([0.51, 0, 1])\n",
    "\n",
    "# Wir stapeln die einzelnen Operationen _nebeneinander_ in eine Matrix\n",
    "operations3 = np.stack([\n",
    "    alles_in_euro,\n",
    "    nur_paypal_euro,\n",
    "    nur_paypal_usd,\n",
    "    durchschnitt_euro,\n",
    "], axis=1)\n",
    "\n",
    "# Schauen wir uns an, was wir konstruiert haben\n",
    "operations3"
   ]
  },
  {
   "cell_type": "code",
   "execution_count": 18,
   "id": "1f0147f7",
   "metadata": {},
   "outputs": [
    {
     "data": {
      "text/plain": [
       "(3, 4)"
      ]
     },
     "execution_count": 18,
     "metadata": {},
     "output_type": "execute_result"
    }
   ],
   "source": [
    "operations3.shape"
   ]
  },
  {
   "cell_type": "code",
   "execution_count": 19,
   "id": "9b5616bd",
   "metadata": {},
   "outputs": [
    {
     "data": {
      "text/plain": [
       "array([1165.        ,  455.        ,  500.        ,  388.33333333])"
      ]
     },
     "execution_count": 19,
     "metadata": {},
     "output_type": "execute_result"
    }
   ],
   "source": [
    "balances_boyko @ operations3"
   ]
  },
  {
   "cell_type": "markdown",
   "id": "cb413adf",
   "metadata": {},
   "source": [
    "## Zwei Personen, eine Operation\n",
    "\n",
    "$$\n",
    "\\underset{\\text{Daten}}{\\begin{pmatrix}\n",
    "1000 & 500 & 200 \\\\\n",
    "800 & 2000 & 100 \\\\\n",
    "\\end{pmatrix}}\n",
    "\\underset{\\text{Operation}}{\\begin{pmatrix}\n",
    "0.51 \\\\\n",
    "0.91 \\\\\n",
    "1 \\\\\n",
    "\\end{pmatrix}}\n",
    "= \\underset{\\text{Neue Daten}}{\\begin{pmatrix}\n",
    "1165 & 2328 \\\\\n",
    "\\end{pmatrix}}\n",
    "$$"
   ]
  },
  {
   "cell_type": "code",
   "execution_count": 36,
   "id": "fcc08409",
   "metadata": {},
   "outputs": [
    {
     "data": {
      "text/plain": [
       "array([[1000,  500,  200],\n",
       "       [ 800, 2000,  100]])"
      ]
     },
     "execution_count": 36,
     "metadata": {},
     "output_type": "execute_result"
    }
   ],
   "source": [
    "balances_nikoletta = np.array([800, 2000, 100])\n",
    "\n",
    "balances_all = np.stack([balances_boyko, balances_nikoletta])\n",
    "balances_all"
   ]
  },
  {
   "cell_type": "code",
   "execution_count": 37,
   "id": "df0967d1",
   "metadata": {},
   "outputs": [
    {
     "data": {
      "text/plain": [
       "array([1165., 2328.])"
      ]
     },
     "execution_count": 37,
     "metadata": {},
     "output_type": "execute_result"
    }
   ],
   "source": [
    "balances_all @ alles_in_euro"
   ]
  },
  {
   "cell_type": "markdown",
   "id": "c8df4de1",
   "metadata": {},
   "source": [
    "# Zwei Personen, mehrere Operationen\n",
    "\n",
    "Hier schreiben wir die Daten aus @tbl-accounts-persons und die Operationen aus @tbl-operations-persons kompakter auf:\n",
    "\n",
    "$$\n",
    "\\begin{align*}\n",
    "\\begin{pmatrix}\n",
    "1000 & 500 & 200 \\\\\n",
    "800 & 2000 & 100 \\\\\n",
    "\\end{pmatrix}\n",
    "\\begin{pmatrix}\n",
    "0.51 & 0 & 0 & 0.51 / 3 \\\\\n",
    "0.91 & 0.91 & 1 & 0.91 / 3 \\\\\n",
    "1 & 0 & 0 & 1 / 3\\\\\n",
    "\\end{pmatrix} \n",
    "= \n",
    "\\begin{pmatrix}\n",
    "1165.0 & 455.0 & 500.0 & 388.3 \\\\\n",
    "2328.0 &  1820.0 &  2000.0 &  776.0 \\\\        \n",
    "\\end{pmatrix}\n",
    "\\end{align*}\n",
    "$$\n"
   ]
  },
  {
   "cell_type": "code",
   "execution_count": 38,
   "id": "809becd7",
   "metadata": {},
   "outputs": [
    {
     "data": {
      "text/plain": [
       "array([[1165.        ,  455.        ,  500.        ,  388.33333333],\n",
       "       [2328.        , 1820.        , 2000.        ,  776.        ]])"
      ]
     },
     "execution_count": 38,
     "metadata": {},
     "output_type": "execute_result"
    }
   ],
   "source": [
    "balances_all @ operations3"
   ]
  },
  {
   "cell_type": "markdown",
   "id": "7ee965c3",
   "metadata": {},
   "source": [
    "## Vertauschung der Operationen\n",
    "\n",
    "Wir können die Reihenfolge der Operationen vertauschen und die erste Tabelle als Operationen auffassen, die zweite als die Daten.\n",
    "\n",
    "$$\n",
    "\\begin{pmatrix}\n",
    "0.51 & 0.91 & 1 \\\\\n",
    "\\end{pmatrix}\n",
    "\\begin{pmatrix}\n",
    "1000 \\\\ 500 \\\\ 200 \\\\\n",
    "\\end{pmatrix}\n",
    "= \n",
    "0.51 \\cdot 1000 + 0.91 \\cdot 500 + 1 \\cdot 200 = 510 + 455 + 200 = 1165 \\text{ Euro}\n",
    "$$\n",
    "\n",
    "## Zwei Operationen, eine Person\n",
    "\n",
    "$$\n",
    "\\underset{\\text{Operationen}}{\\begin{pmatrix}\n",
    "0.51 & 0.91 & 1 \\\\\n",
    "0 & 0.91 & 1 \\\\\n",
    "\\end{pmatrix}}\n",
    "\\underset{\\text{Daten}}{\\begin{pmatrix}\n",
    "1000 \\\\ 500 \\\\ 200 \\\\\n",
    "\\end{pmatrix}}=\n",
    "\\underset{\\text{Neue Daten}}{\\begin{pmatrix}\n",
    "1165 \\\\ 455.0 \\\\\n",
    "\\end{pmatrix}}\n",
    "$$\n"
   ]
  },
  {
   "cell_type": "code",
   "execution_count": 41,
   "id": "0e611a8f",
   "metadata": {},
   "outputs": [
    {
     "data": {
      "text/plain": [
       "array([[0.51, 0.91, 1.  ],\n",
       "       [0.  , 0.91, 0.  ]])"
      ]
     },
     "execution_count": 41,
     "metadata": {},
     "output_type": "execute_result"
    }
   ],
   "source": [
    "operations2 = np.stack([\n",
    "    alles_in_euro,\n",
    "    nur_paypal_euro,\n",
    "])\n",
    "\n",
    "operations2"
   ]
  },
  {
   "cell_type": "code",
   "execution_count": 44,
   "id": "eaa2b367",
   "metadata": {},
   "outputs": [
    {
     "data": {
      "text/plain": [
       "array([1165.,  455.])"
      ]
     },
     "execution_count": 44,
     "metadata": {},
     "output_type": "execute_result"
    }
   ],
   "source": [
    "operations2 @ balances_boyko"
   ]
  },
  {
   "cell_type": "code",
   "execution_count": 47,
   "id": "8b838b40",
   "metadata": {},
   "outputs": [
    {
     "data": {
      "text/plain": [
       "array([[1000,  500,  200],\n",
       "       [ 800, 2000,  100]])"
      ]
     },
     "execution_count": 47,
     "metadata": {},
     "output_type": "execute_result"
    }
   ],
   "source": [
    "balances_all"
   ]
  },
  {
   "cell_type": "code",
   "execution_count": 48,
   "id": "87cae45d",
   "metadata": {},
   "outputs": [
    {
     "data": {
      "text/plain": [
       "array([[1000,  800],\n",
       "       [ 500, 2000],\n",
       "       [ 200,  100]])"
      ]
     },
     "execution_count": 48,
     "metadata": {},
     "output_type": "execute_result"
    }
   ],
   "source": [
    "balances_all.T"
   ]
  },
  {
   "cell_type": "code",
   "execution_count": 49,
   "id": "b1627740",
   "metadata": {},
   "outputs": [
    {
     "data": {
      "text/plain": [
       "array([[1165., 2328.],\n",
       "       [ 455., 1820.]])"
      ]
     },
     "execution_count": 49,
     "metadata": {},
     "output_type": "execute_result"
    }
   ],
   "source": [
    "operations2 @ balances_all.T"
   ]
  },
  {
   "cell_type": "markdown",
   "id": "d50fe252",
   "metadata": {},
   "source": [
    "In der Schule haben Sie Algebra gelernt, die sich mit Zahlen beschäftigt. Das Wort Algebra stammt von dem arabischen Wort \"al-jabr\" ab, das ursprünglich \"Reparatur\" oder \"Wiederherstellung\" bedeutete.\n",
    "\n",
    "Lineare Algebra untersucht die Eigenschaften und Beziehungen zwischen einfachen und leicht verständliche Transformationen.\n",
    "\n",
    "Als Beispiel nehmen wir eine Funktion $f(x) = 0.51 x$, die als Input eine Zahl $x$ (Preis in BGN) erhält und als Ausgabe eine neue Zahl (Preis in Euro) zurückgibt. $0.51 \\approx 1 / 1.95583$ ist der Wechselkurs zwischen BGN und Euro. Das ist ein Beispiel für eine lineare Funktion (Abbildung) und sie had die bequeme Eigenschaft, dass wenn wir den Input verdoppeln (also $x$ verdoppeln), dann verdoppelt sich auch der Output (also $f(x)$ verdoppelt sich).\n",
    "\n",
    "$$\n",
    "\\begin{align*}\n",
    "f(1) & = 0.51 \\cdot 1 = 0.51 \\\\\n",
    "f(2) & = 0.51 \\cdot 2 = 1.02 \\\\\n",
    "f(4) & = 0.51 \\cdot 4 = 2.04 \\\\\n",
    "\\end{align*}\n",
    "$$\n",
    "\n",
    "oder im allgemeinen:\n",
    "\n",
    "$$\n",
    "f(a x) = a f(x)\n",
    "$$\n",
    "\n",
    "Andere Funktionen wie z.B. $g(x) = x^2$ haben diese Eigenschaft nicht:\n",
    "\n",
    "$$\n",
    "\\begin{align*}\n",
    "g(1) & = 1^2 = 1 \\\\\n",
    "g(2) & = 2^2 = 4 \\neq 2 g(1) \\\\\n",
    "\\end{align*}\n",
    "$$\n",
    "\n",
    "Sogar die Funktion $h(x) = x + 2$, die 2 zu ihrem Input addiert, hat diese Eigenschaft nicht:\n",
    "\n",
    "$$\n",
    "\\begin{align*}\n",
    "h(1) & = 1 + 2 = 3 \\\\\n",
    "h(2) & = 2 + 2 = 4 \\neq 2 h(1) \\\\\n",
    "\\end{align*}\n",
    "$$\n",
    "\n",
    "Eine andere Eigenschaft von linearen Funktionen wie $f(x)$ ist, dass wenn wir die Funktion auf die Summe von zwei Zahlen anwenden, dann ist das Ergebnis gleich der Summe der Ergebnisse der Funktion auf die einzelnen Zahlen:\n",
    "\n",
    "$$\n",
    "\\begin{align*}\n",
    "f(1 + 2) & = f(3) = 0.51 \\cdot 3 = 1.53 \\\\\n",
    "f(1) + f(2) & = 0.51 + 0.51 \\cdot 2 = 1.53 \\\\\n",
    "\\end{align*}\n",
    "$$\n",
    "\n",
    "Im allgemeinen:\n",
    "\n",
    "$$\n",
    "f(x + y) = f(x) + f(y)\n",
    "$$\n",
    "\n",
    "\n",
    "## Lineare Funktionen\n",
    "(XXX, TODO add)\n",
    "\n",
    "Ist das eine lineare Funktion? Ja, weil sie die zwei Eigenschaften hat, die wir oben beschrieben haben:\n",
    "\n",
    "Verdoppeln wir die Inputs, verdoppelt sich auch der Output:\n",
    "\n",
    "$$\n",
    "F(2x, 2y, 2z) = 0.51 \\cdot (2x) + 0.91 \\cdot (2y) + 1 \\cdot (2z) = 2 \\cdot (0.51 \\cdot x + 0.91 \\cdot y + 1 \\cdot z) = 2 F(x, y, z)\n",
    "$$\n",
    "\n",
    "Wenn wir die Inputs addieren, addiert sich auch der Output:\n",
    "\n",
    "$$\n",
    "\\begin{align*}\n",
    "F(x + 2, y + 3, z + 5) & = 0.51 \\cdot (x + 2) + 0.91 \\cdot (y + 3) + 1 \\cdot (z + 5) \\\\\n",
    "& = 0.51 \\cdot x + 0.51 \\cdot 2 + 0.91 \\cdot y + 0.91 \\cdot 3 + 1 \\cdot z + 1 \\cdot 5 \\\\\n",
    "& = F(x, y, z) + 0.51 \\cdot 2 + 0.91 \\cdot 3 + 1 \\cdot 5 \\\\\n",
    "& = F(x, y, z) + F(2, 3, 5)\n",
    "\\end{align*}\n",
    "$$\n"
   ]
  }
 ],
 "metadata": {
  "kernelspec": {
   "display_name": "Python 3",
   "language": "python",
   "name": "python3"
  },
  "language_info": {
   "codemirror_mode": {
    "name": "ipython",
    "version": 3
   },
   "file_extension": ".py",
   "mimetype": "text/x-python",
   "name": "python",
   "nbconvert_exporter": "python",
   "pygments_lexer": "ipython3",
   "version": "3.11.11"
  }
 },
 "nbformat": 4,
 "nbformat_minor": 5
}
