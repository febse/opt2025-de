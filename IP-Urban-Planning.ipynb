{
 "cells": [
  {
   "cell_type": "markdown",
   "metadata": {},
   "source": [
    "## Stadtentwicklung\n",
    "\n",
    "Open in Colab: [![Open in Colab](https://colab.research.google.com/assets/colab-badge.svg)](https://colab.research.google.com/github/febse/opt2025-de/blob/main/IP-Urban-Planning.ipynb)\n",
    "\n",
    "Angenommen, Sofia steht vor einem lokalen Haushaltsdefizit und der Stadtrat überlegt, wie die Grundsteuereinnahmen durch die Sanierung städtischer Grundstücke erhöht werden können. Das Projekt besteht aus zwei Teilen: der Beseitigung vernachlässigter und beschädigter Gebäude und dem Bau neuer Wohnungen.\n",
    "\n",
    "1. Die Gemeinde besitzt derzeit 300 baufällige Gebäude, die abgerissen werden könnten. Jedes dieser Gebäude macht 1,000 Quadratmeter frei und kostet 3,000 EUR pro Gebäude. 15 Prozent der befreiten Fläche sind für Straßen, Gehwege und Freiflächen vorgesehen.\n",
    "2. Auf den geräumten Grundstücken kann die Gemeinde vier Arten von neuen Wohngebäuden errichten: Einfamilienhäuser (300 Quadratmeter), Zweifamilienhäuser (500 Quadratmeter), Dreifamilienhäuser (700 Quadratmeter) und Vierfamilienhäuser (900 Quadratmeter). Die geschätzten Steuereinnahmen belaufen sich auf EUR 1,000, EUR 1,700,  EUR 2,400 bzw.  EUR 2,800 pro Jahr.\n",
    "3. Mindestens 20 Prozent der Neubauten müssen Einfamilienhäuser sein, Zweifamilienhäuser müssen mindestens 20 Prozent ausmachen, und Drei- und Vierfamilienhäuser müssen (zusammen) mindestens ein Viertel aller Neubauten ausmachen.\n",
    "4. Die Baukosten für neue Häuser betragen 50,000 EUR, 70,000 EUR, 130,000 EUR bzw. 160,000 EUR.\n",
    "5. Die Gemeinde beabsichtigt, das Projekt durch ein Bankdarlehen zu finanzieren, das 15 Millionen EUR nicht überschreiten darf.\n",
    "\n",
    "Wie viele Häuser jedes Typs sollte die Gemeinde bauen, um die höchstmöglichen Steuereinnahmen zu erzielen?\n",
    "\n",
    "Der Datensatz `homes` enthält die Daten für die vier Arten von Wohngebäuden:\n",
    "\n",
    "- `cost`: Die Baukosten für ein Haus dieses Typs.\n",
    "- `tax`: Die geschätzten Steuereinnahmen pro Jahr für ein Haus dieses Typs.\n",
    "- `area`: Die Fläche, die ein Haus dieses Typs einnimmt."
   ]
  },
  {
   "cell_type": "code",
   "execution_count": 2,
   "metadata": {},
   "outputs": [
    {
     "data": {
      "application/vnd.microsoft.datawrangler.viewer.v0+json": {
       "columns": [
        {
         "name": "type",
         "rawType": "object",
         "type": "string"
        },
        {
         "name": "cost",
         "rawType": "int64",
         "type": "integer"
        },
        {
         "name": "tax",
         "rawType": "int64",
         "type": "integer"
        },
        {
         "name": "area",
         "rawType": "int64",
         "type": "integer"
        }
       ],
       "conversionMethod": "pd.DataFrame",
       "ref": "be0e116c-7bbc-40d4-aa37-8c4db4d43d27",
       "rows": [
        [
         "single",
         "50000",
         "1000",
         "300"
        ],
        [
         "double",
         "70000",
         "1700",
         "500"
        ],
        [
         "triple",
         "130000",
         "2400",
         "700"
        ],
        [
         "quad",
         "160000",
         "2800",
         "900"
        ]
       ],
       "shape": {
        "columns": 3,
        "rows": 4
       }
      },
      "text/html": [
       "<div>\n",
       "<style scoped>\n",
       "    .dataframe tbody tr th:only-of-type {\n",
       "        vertical-align: middle;\n",
       "    }\n",
       "\n",
       "    .dataframe tbody tr th {\n",
       "        vertical-align: top;\n",
       "    }\n",
       "\n",
       "    .dataframe thead th {\n",
       "        text-align: right;\n",
       "    }\n",
       "</style>\n",
       "<table border=\"1\" class=\"dataframe\">\n",
       "  <thead>\n",
       "    <tr style=\"text-align: right;\">\n",
       "      <th></th>\n",
       "      <th>cost</th>\n",
       "      <th>tax</th>\n",
       "      <th>area</th>\n",
       "    </tr>\n",
       "    <tr>\n",
       "      <th>type</th>\n",
       "      <th></th>\n",
       "      <th></th>\n",
       "      <th></th>\n",
       "    </tr>\n",
       "  </thead>\n",
       "  <tbody>\n",
       "    <tr>\n",
       "      <th>single</th>\n",
       "      <td>50000</td>\n",
       "      <td>1000</td>\n",
       "      <td>300</td>\n",
       "    </tr>\n",
       "    <tr>\n",
       "      <th>double</th>\n",
       "      <td>70000</td>\n",
       "      <td>1700</td>\n",
       "      <td>500</td>\n",
       "    </tr>\n",
       "    <tr>\n",
       "      <th>triple</th>\n",
       "      <td>130000</td>\n",
       "      <td>2400</td>\n",
       "      <td>700</td>\n",
       "    </tr>\n",
       "    <tr>\n",
       "      <th>quad</th>\n",
       "      <td>160000</td>\n",
       "      <td>2800</td>\n",
       "      <td>900</td>\n",
       "    </tr>\n",
       "  </tbody>\n",
       "</table>\n",
       "</div>"
      ],
      "text/plain": [
       "          cost   tax  area\n",
       "type                      \n",
       "single   50000  1000   300\n",
       "double   70000  1700   500\n",
       "triple  130000  2400   700\n",
       "quad    160000  2800   900"
      ]
     },
     "execution_count": 2,
     "metadata": {},
     "output_type": "execute_result"
    }
   ],
   "source": [
    "import pandas as pd\n",
    "import gurobipy as gp\n",
    "from gurobipy import GRB\n",
    "\n",
    "homes = pd.DataFrame({\n",
    "    'type': ['single', 'double', 'triple', 'quad'],\n",
    "    'cost': [50000, 70000, 130000, 160000],\n",
    "    \"tax\": [1000, 1700, 2400, 2800],\n",
    "    'area': [300, 500, 700, 900],\n",
    "}).set_index('type')\n",
    "\n",
    "homes"
   ]
  },
  {
   "cell_type": "code",
   "execution_count": 21,
   "metadata": {},
   "outputs": [
    {
     "name": "stdout",
     "output_type": "stream",
     "text": [
      "\\ Model homes-1\n",
      "\\ LP format - for model browsing. Use MPS format to capture full model detail.\n",
      "Maximize\n",
      "  1000 x_single + 1700 x_double + 2400 x_triple + 2800 x_quad\n",
      "Subject To\n",
      "Bounds\n",
      "Generals\n",
      " x_single x_double x_triple x_quad\n",
      "End\n",
      "\n"
     ]
    }
   ],
   "source": [
    "# Unser bisherige Ansatz für die Umsetzung des Modells war es, die Entscheidungsvariablen\n",
    "# einzeln zu definieren.\n",
    "\n",
    "model1 = gp.Model('homes-1')\n",
    "\n",
    "x_single = model1.addVar(vtype=GRB.INTEGER, name='x_single')\n",
    "x_double = model1.addVar(vtype=GRB.INTEGER, name='x_double')\n",
    "x_triple = model1.addVar(vtype=GRB.INTEGER, name='x_triple')\n",
    "x_quad = model1.addVar(vtype=GRB.INTEGER, name='x_quad')\n",
    "\n",
    "# Zielfunktion\n",
    "\n",
    "model1.setObjective(1000 * x_single + 1700 * x_double + 2400 * x_triple + 2800 * x_quad, GRB.MAXIMIZE) \n",
    "\n",
    "model1.write('homes-1.lp')\n",
    "\n",
    "with open('homes-1.lp', 'r') as f:\n",
    "    print(f.read())"
   ]
  },
  {
   "cell_type": "code",
   "execution_count": 11,
   "metadata": {},
   "outputs": [
    {
     "data": {
      "text/plain": [
       "Index(['single', 'double', 'triple', 'quad'], dtype='object', name='type')"
      ]
     },
     "execution_count": 11,
     "metadata": {},
     "output_type": "execute_result"
    }
   ],
   "source": [
    "# Der Index\n",
    "homes.index"
   ]
  },
  {
   "cell_type": "code",
   "execution_count": 26,
   "metadata": {},
   "outputs": [
    {
     "data": {
      "text/plain": [
       "{'single': <gurobi.Var x[single]>,\n",
       " 'double': <gurobi.Var x[double]>,\n",
       " 'triple': <gurobi.Var x[triple]>,\n",
       " 'quad': <gurobi.Var x[quad]>}"
      ]
     },
     "execution_count": 26,
     "metadata": {},
     "output_type": "execute_result"
    }
   ],
   "source": [
    "model2 = gp.Model('Beispiel')\n",
    "\n",
    "# Erstellt eine Variable für jeden Wert des Index (für jeden Haustyp in diesem Fall)\n",
    "x = model2.addVars(homes.index, vtype=GRB.INTEGER, name='x')\n",
    "model2.update()\n",
    "\n",
    "x"
   ]
  },
  {
   "cell_type": "code",
   "execution_count": 29,
   "metadata": {},
   "outputs": [
    {
     "name": "stdout",
     "output_type": "stream",
     "text": [
      "\\ Model Beispiel\n",
      "\\ LP format - for model browsing. Use MPS format to capture full model detail.\n",
      "Maximize\n",
      "  1000 x[single] + 1700 x[double] + 2400 x[triple] + 2800 x[quad]\n",
      "Subject To\n",
      "Bounds\n",
      "Generals\n",
      " x[single] x[double] x[triple] x[quad]\n",
      "End\n",
      "\n"
     ]
    }
   ],
   "source": [
    "model2.setObjective(x.prod(homes['tax'].to_dict()), GRB.MAXIMIZE)\n",
    "\n",
    "model2.write('homes-2.lp')\n",
    "\n",
    "with open('homes-2.lp', 'r') as f:\n",
    "    print(f.read())\n"
   ]
  },
  {
   "cell_type": "code",
   "execution_count": 4,
   "metadata": {},
   "outputs": [
    {
     "data": {
      "text/plain": [
       "<gurobi.Var x[single]>"
      ]
     },
     "execution_count": 4,
     "metadata": {},
     "output_type": "execute_result"
    }
   ],
   "source": [
    "# Zugriff auf eine Variable\n",
    "x['single']"
   ]
  },
  {
   "cell_type": "code",
   "execution_count": 5,
   "metadata": {},
   "outputs": [
    {
     "data": {
      "text/plain": [
       "<gurobi.Var x[quad]>"
      ]
     },
     "execution_count": 5,
     "metadata": {},
     "output_type": "execute_result"
    }
   ],
   "source": [
    "x['quad']"
   ]
  },
  {
   "cell_type": "code",
   "execution_count": 13,
   "metadata": {},
   "outputs": [
    {
     "data": {
      "text/plain": [
       "<gurobi.LinExpr: 2.0 x[single] + 3.0 x[quad]>"
      ]
     },
     "execution_count": 13,
     "metadata": {},
     "output_type": "execute_result"
    }
   ],
   "source": [
    "# Eine Linearkombination von zwei Variablen\n",
    "\n",
    "2 * x['single'] + 3 * x['quad']"
   ]
  },
  {
   "cell_type": "code",
   "execution_count": null,
   "metadata": {},
   "outputs": [
    {
     "data": {
      "text/plain": [
       "<gurobi.LinExpr: x[single] + x[double] + x[triple] + x[quad]>"
      ]
     },
     "execution_count": 14,
     "metadata": {},
     "output_type": "execute_result"
    }
   ],
   "source": [
    "# Die Summe aller Variablen\n",
    "\n",
    "x.sum()"
   ]
  },
  {
   "cell_type": "code",
   "execution_count": 20,
   "metadata": {},
   "outputs": [
    {
     "data": {
      "text/plain": [
       "{'single': 300, 'double': 500, 'triple': 700, 'quad': 900}"
      ]
     },
     "execution_count": 20,
     "metadata": {},
     "output_type": "execute_result"
    }
   ],
   "source": [
    "# Die Werte einer Spalte des DataFrames als Dictionary\n",
    "\n",
    "homes['area'].to_dict()"
   ]
  },
  {
   "cell_type": "code",
   "execution_count": 19,
   "metadata": {},
   "outputs": [
    {
     "data": {
      "text/plain": [
       "300"
      ]
     },
     "execution_count": 19,
     "metadata": {},
     "output_type": "execute_result"
    }
   ],
   "source": [
    "homes['area'].to_dict()['single']"
   ]
  },
  {
   "cell_type": "code",
   "execution_count": null,
   "metadata": {},
   "outputs": [
    {
     "data": {
      "text/plain": [
       "<gurobi.TempConstr: 300.0 x[single] + 500.0 x[double] + 700.0 x[triple] + 900.0 x[quad] <= 2000>"
      ]
     },
     "execution_count": 17,
     "metadata": {},
     "output_type": "execute_result"
    }
   ],
   "source": [
    "# Eine lineare Ungleichung mit Koeffizienten aus einem Dictionary\n",
    "\n",
    "x.prod(homes['area'].to_dict()) <= 2000"
   ]
  },
  {
   "cell_type": "code",
   "execution_count": 18,
   "metadata": {},
   "outputs": [
    {
     "data": {
      "text/plain": [
       "<gurobi.Constr *Awaiting Model Update*>"
      ]
     },
     "execution_count": 18,
     "metadata": {},
     "output_type": "execute_result"
    }
   ],
   "source": [
    "m = gp.Model('homes')\n",
    "\n",
    "x = m.addVars(homes.index, vtype=GRB.INTEGER, name='x')\n",
    "x_d = m.addVar(vtype=GRB.INTEGER, name='demolished')\n",
    "\n",
    "# Die Zielfunktion\n",
    "\n",
    "# m.setObjective(..., GRB.MAXIMIZE)\n",
    "\n",
    "# Die Einschränkungen\n",
    "\n",
    "## Kosten\n",
    "# m.addConstr(x.prod(homes['cost'].to_dict()) + ... <= 15e6, 'costs')\n",
    "\n",
    "## Fläche\n",
    "# m.addConstr(... <= ..., 'area')\n",
    "\n",
    "## Anzahl der Einfamilienhäuser\n",
    "m.addConstr(x['single'] >= 0.2 * x.sum(), 'single homes')\n",
    "\n",
    "## Anzahl der Zweifamilienhäuser\n",
    "# m.addConstr(..., 'double homes')\n",
    "\n",
    "## Anzahl der Drei- und Vierfamilienhäuser\n",
    "# m.addConstr(..., 'triple and quad homes')\n",
    "\n",
    "# Die Lösung\n",
    "\n",
    "# m.optimize()"
   ]
  },
  {
   "cell_type": "code",
   "execution_count": null,
   "metadata": {},
   "outputs": [
    {
     "name": "stdout",
     "output_type": "stream",
     "text": [
      "Warning: constraint name \"single homes\" has a space\n",
      "\\ Model homes\n",
      "\\ LP format - for model browsing. Use MPS format to capture full model detail.\n",
      "Maximize\n",
      "  1000 x[single] + 1700 x[double] + 2400 x[triple] + 2800 x[quad]\n",
      "Subject To\n",
      " costs: 50000 x[single] + 70000 x[double] + 130000 x[triple]\n",
      "   + 160000 x[quad] + 3000 x_d <= 1.5e+07\n",
      " area: 300 x[single] + 500 x[double] + 700 x[triple] + 900 x[quad]\n",
      "   - 999.85 x_d <= 0\n",
      " single_homes: 0.8 x[single] - 0.2 x[double] - 0.2 x[triple] - 0.2 x[quad]\n",
      "   >= 0\n",
      " double_homes: - 0.2 x[single] + 0.8 x[double] - 0.2 x[triple]\n",
      "   - 0.2 x[quad] >= 0\n",
      " triple_and_quad_homes: - 0.25 x[single] - 0.25 x[double] + 0.75 x[triple]\n",
      "   + 0.75 x[quad] = 0\n",
      "Bounds\n",
      "Generals\n",
      " x[single] x[double] x[triple] x[quad] x_d\n",
      "End\n",
      "\n"
     ]
    }
   ],
   "source": [
    "# m.write('homes.lp')\n",
    "\n",
    "# with open('homes.lp', 'r') as f:\n",
    "#     print(f.read())"
   ]
  },
  {
   "cell_type": "code",
   "execution_count": null,
   "metadata": {},
   "outputs": [
    {
     "data": {
      "application/vnd.microsoft.datawrangler.viewer.v0+json": {
       "columns": [
        {
         "name": "index",
         "rawType": "int64",
         "type": "integer"
        },
        {
         "name": "variable",
         "rawType": "object",
         "type": "string"
        },
        {
         "name": "value",
         "rawType": "float64",
         "type": "float"
        }
       ],
       "conversionMethod": "pd.DataFrame",
       "ref": "ea68dc2e-ca07-4c1c-9f05-efa6d28b0234",
       "rows": [
        [
         "0",
         "x[single]",
         "36.0"
        ],
        [
         "1",
         "x[double]",
         "99.0"
        ],
        [
         "2",
         "x[triple]",
         "41.0"
        ],
        [
         "3",
         "x[quad]",
         "4.0"
        ],
        [
         "4",
         "x_d",
         "93.0"
        ]
       ],
       "shape": {
        "columns": 2,
        "rows": 5
       }
      },
      "text/html": [
       "<div>\n",
       "<style scoped>\n",
       "    .dataframe tbody tr th:only-of-type {\n",
       "        vertical-align: middle;\n",
       "    }\n",
       "\n",
       "    .dataframe tbody tr th {\n",
       "        vertical-align: top;\n",
       "    }\n",
       "\n",
       "    .dataframe thead th {\n",
       "        text-align: right;\n",
       "    }\n",
       "</style>\n",
       "<table border=\"1\" class=\"dataframe\">\n",
       "  <thead>\n",
       "    <tr style=\"text-align: right;\">\n",
       "      <th></th>\n",
       "      <th>variable</th>\n",
       "      <th>value</th>\n",
       "    </tr>\n",
       "  </thead>\n",
       "  <tbody>\n",
       "    <tr>\n",
       "      <th>0</th>\n",
       "      <td>x[single]</td>\n",
       "      <td>36.0</td>\n",
       "    </tr>\n",
       "    <tr>\n",
       "      <th>1</th>\n",
       "      <td>x[double]</td>\n",
       "      <td>99.0</td>\n",
       "    </tr>\n",
       "    <tr>\n",
       "      <th>2</th>\n",
       "      <td>x[triple]</td>\n",
       "      <td>41.0</td>\n",
       "    </tr>\n",
       "    <tr>\n",
       "      <th>3</th>\n",
       "      <td>x[quad]</td>\n",
       "      <td>4.0</td>\n",
       "    </tr>\n",
       "    <tr>\n",
       "      <th>4</th>\n",
       "      <td>x_d</td>\n",
       "      <td>93.0</td>\n",
       "    </tr>\n",
       "  </tbody>\n",
       "</table>\n",
       "</div>"
      ],
      "text/plain": [
       "    variable  value\n",
       "0  x[single]   36.0\n",
       "1  x[double]   99.0\n",
       "2  x[triple]   41.0\n",
       "3    x[quad]    4.0\n",
       "4        x_d   93.0"
      ]
     },
     "execution_count": 35,
     "metadata": {},
     "output_type": "execute_result"
    }
   ],
   "source": [
    "# Die Lösung als DataFrame\n",
    "\n",
    "# vars_df = pd.DataFrame(\n",
    "#     [(v.varName, v.x) for v in m.getVars()],\n",
    "#     columns=['variable', 'value']\n",
    "# )\n",
    "\n",
    "# vars_df"
   ]
  },
  {
   "cell_type": "code",
   "execution_count": null,
   "metadata": {},
   "outputs": [
    {
     "data": {
      "application/vnd.microsoft.datawrangler.viewer.v0+json": {
       "columns": [
        {
         "name": "index",
         "rawType": "int64",
         "type": "integer"
        },
        {
         "name": "constraint",
         "rawType": "object",
         "type": "string"
        },
        {
         "name": "slack",
         "rawType": "float64",
         "type": "float"
        }
       ],
       "conversionMethod": "pd.DataFrame",
       "ref": "e6f4aa57-29ae-4418-9a9e-dd6ff83cca91",
       "rows": [
        [
         "0",
         "costs",
         "0.0"
        ],
        [
         "1",
         "area",
         "0.0"
        ],
        [
         "2",
         "single homes",
         "0.0"
        ],
        [
         "3",
         "double homes",
         "-63.61305462999826"
        ],
        [
         "4",
         "triple and quad homes",
         "0.0"
        ]
       ],
       "shape": {
        "columns": 2,
        "rows": 5
       }
      },
      "text/html": [
       "<div>\n",
       "<style scoped>\n",
       "    .dataframe tbody tr th:only-of-type {\n",
       "        vertical-align: middle;\n",
       "    }\n",
       "\n",
       "    .dataframe tbody tr th {\n",
       "        vertical-align: top;\n",
       "    }\n",
       "\n",
       "    .dataframe thead th {\n",
       "        text-align: right;\n",
       "    }\n",
       "</style>\n",
       "<table border=\"1\" class=\"dataframe\">\n",
       "  <thead>\n",
       "    <tr style=\"text-align: right;\">\n",
       "      <th></th>\n",
       "      <th>constraint</th>\n",
       "      <th>slack</th>\n",
       "    </tr>\n",
       "  </thead>\n",
       "  <tbody>\n",
       "    <tr>\n",
       "      <th>0</th>\n",
       "      <td>costs</td>\n",
       "      <td>0.000000</td>\n",
       "    </tr>\n",
       "    <tr>\n",
       "      <th>1</th>\n",
       "      <td>area</td>\n",
       "      <td>0.000000</td>\n",
       "    </tr>\n",
       "    <tr>\n",
       "      <th>2</th>\n",
       "      <td>single homes</td>\n",
       "      <td>0.000000</td>\n",
       "    </tr>\n",
       "    <tr>\n",
       "      <th>3</th>\n",
       "      <td>double homes</td>\n",
       "      <td>-63.613055</td>\n",
       "    </tr>\n",
       "    <tr>\n",
       "      <th>4</th>\n",
       "      <td>triple and quad homes</td>\n",
       "      <td>0.000000</td>\n",
       "    </tr>\n",
       "  </tbody>\n",
       "</table>\n",
       "</div>"
      ],
      "text/plain": [
       "              constraint      slack\n",
       "0                  costs   0.000000\n",
       "1                   area   0.000000\n",
       "2           single homes   0.000000\n",
       "3           double homes -63.613055\n",
       "4  triple and quad homes   0.000000"
      ]
     },
     "execution_count": 39,
     "metadata": {},
     "output_type": "execute_result"
    }
   ],
   "source": [
    "# Die Einschränkungen as DataFrame\n",
    "\n",
    "# constrs_df = pd.DataFrame(\n",
    "#     [(c.constrName, c.slack) for c in m.getConstrs()],\n",
    "#     columns=['constraint', 'slack']\n",
    "# )\n",
    "\n",
    "# constrs_df"
   ]
  }
 ],
 "metadata": {
  "kernelspec": {
   "display_name": "Python 3",
   "language": "python",
   "name": "python3"
  },
  "language_info": {
   "codemirror_mode": {
    "name": "ipython",
    "version": 3
   },
   "file_extension": ".py",
   "mimetype": "text/x-python",
   "name": "python",
   "nbconvert_exporter": "python",
   "pygments_lexer": "ipython3",
   "version": "3.11.11"
  }
 },
 "nbformat": 4,
 "nbformat_minor": 2
}
