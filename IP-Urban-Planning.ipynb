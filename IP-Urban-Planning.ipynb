{
 "cells": [
  {
   "cell_type": "markdown",
   "metadata": {},
   "source": [
    "## Stadtentwicklung\n",
    "\n",
    "Open in Colab: [![Open in Colab](https://colab.research.google.com/assets/colab-badge.svg)](https://colab.research.google.com/github/febse/opt2025-de/blob/main/IP-Urban-Planning.ipynb)\n",
    "\n",
    "Angenommen, Sofia steht vor einem lokalen Haushaltsdefizit und der Stadtrat überlegt, wie die Grundsteuereinnahmen durch die Sanierung städtischer Grundstücke erhöht werden können. Das Projekt besteht aus zwei Teilen: der Beseitigung vernachlässigter und beschädigter Gebäude und dem Bau neuer Wohnungen.\n",
    "\n",
    "1. Die Gemeinde besitzt derzeit 300 baufällige Gebäude, die abgerissen werden könnten. Jedes dieser Gebäude macht 1,000 Quadratmeter frei und der Abriss kostet 3,000 EUR pro Gebäude. 15 Prozent der befreiten Fläche sind für Straßen, Gehwege und Freiflächen vorgesehen.\n",
    "2. Auf den geräumten Grundstücken kann die Gemeinde vier Arten von neuen Wohngebäuden errichten: Einfamilienhäuser (300 Quadratmeter), Zweifamilienhäuser (500 Quadratmeter), Dreifamilienhäuser (700 Quadratmeter) und Vierfamilienhäuser (900 Quadratmeter). Die geschätzten Steuereinnahmen belaufen sich auf EUR 1,000, EUR 1,700,  EUR 2,400 bzw.  EUR 2,800 pro Jahr.\n",
    "3. Mindestens 20 Prozent der Neubauten müssen Einfamilienhäuser sein, Zweifamilienhäuser müssen mindestens 20 Prozent ausmachen, und Drei- und Vierfamilienhäuser müssen (zusammen) mindestens ein Viertel aller Neubauten ausmachen.\n",
    "4. Die Baukosten für neue Häuser betragen 50,000 EUR, 70,000 EUR, 130,000 EUR bzw. 160,000 EUR.\n",
    "5. Die Gemeinde beabsichtigt, das Projekt durch ein Bankdarlehen zu finanzieren, das 15 Millionen EUR nicht überschreiten darf.\n",
    "\n",
    "Wie viele Häuser jedes Typs sollte die Gemeinde bauen, um die höchstmöglichen Steuereinnahmen zu erzielen?\n",
    "\n",
    "Der Datensatz `homes` enthält die Daten für die vier Arten von Wohngebäuden:\n",
    "\n",
    "- `cost`: Die Baukosten für ein Haus dieses Typs.\n",
    "- `tax`: Die geschätzten Steuereinnahmen pro Jahr für ein Haus dieses Typs.\n",
    "- `area`: Die Fläche, die ein Haus dieses Typs einnimmt.\n",
    "\n",
    ":::{.callout-note collapse=\"true\"}\n",
    "## Das mathematische Modell\n",
    "\n",
    "Die Entscheidungsvariablen\n",
    "\n",
    "$$\n",
    "\\begin{align*}\n",
    "x_{1} & : \\text{Anzahl von Einfamilienhäusern} \\\\\n",
    "x_{2} & : \\text{Anzahl von Zweifamilienhäusern} \\\\\n",
    "x_{3} & : \\text{Anzahl von Dreifamilienhäusern} \\\\\n",
    "x_{4} & : \\text{Anzahl von Vierfamilienhäusern} \\\\\n",
    "x_{d} & : \\text{Anzahl der abgerissenen Gebäude}\n",
    "\\end{align*}\n",
    "$$\n",
    "\n",
    "Die Zielfunktion (in 1000 EUR)\n",
    "\n",
    "$$\n",
    "\\max x_{1} + 1.7x_{2} + 2.4x_{3} + 2.8x_{4}\n",
    "$$\n",
    "\n",
    "Einschränkungen\n",
    "\n",
    "1. Flächenbeschränkung\n",
    "\n",
    "$$\n",
    "300x_{1} + 500x_{2} + 700x_{3} + 900x_{4} \\leq (1 - 0.15) \\cdot 1000 \\cdot x_{d}\n",
    "$$\n",
    "\n",
    "2. Anzahl der abgerissenen Gebäude\n",
    "\n",
    "$$\n",
    "x_{d} \\leq 300\n",
    "$$\n",
    "\n",
    "3. Mindestanforderungen\n",
    "\n",
    "$$\n",
    "x_{all} = x_{1} + x_{2} + x_{3} + x_{4}\n",
    "$$\n",
    "\n",
    "$$\n",
    "\\begin{align*}\n",
    "x_{1} \\geq 0.2 x_{all} \\\\\n",
    "x_{2} \\geq 0.2 x_{all} \\\\\n",
    "x_{3} + x_{4} \\geq 0.25 x_{all}\n",
    "\\end{align*}\n",
    "$$\n",
    "\n",
    "1. Budgetbeschränkung (in 1000 EUR)\n",
    "\n",
    "$$\n",
    "50x_{1} + 70x_{2} + 130x_{3} + 160x_{4} + 3x_{d} \\leq 15000\n",
    "$$\n",
    "\n",
    ":::\n"
   ]
  },
  {
   "cell_type": "code",
   "execution_count": 8,
   "metadata": {},
   "outputs": [
    {
     "name": "stdout",
     "output_type": "stream",
     "text": [
      "Requirement already satisfied: gurobipy in /home/amarov/miniconda3/envs/opt2025/lib/python3.11/site-packages (12.0.1)\n",
      "Note: you may need to restart the kernel to use updated packages.\n"
     ]
    }
   ],
   "source": [
    "%pip install gurobipy\n",
    "\n",
    "import pandas as pd\n",
    "import gurobipy as gp\n",
    "from gurobipy import GRB\n",
    "\n",
    "homes = pd.DataFrame({\n",
    "    'type': ['single', 'double', 'triple', 'quad'],\n",
    "    'cost': [50000, 70000, 130000, 160000],\n",
    "    \"tax\": [1000, 1700, 2400, 2800],\n",
    "    'area': [300, 500, 700, 900],\n",
    "}).set_index('type')"
   ]
  },
  {
   "cell_type": "code",
   "execution_count": 7,
   "metadata": {},
   "outputs": [
    {
     "name": "stdout",
     "output_type": "stream",
     "text": [
      "Set parameter LogToConsole to value 0\n",
      "\\ Model homes-1\n",
      "\\ LP format - for model browsing. Use MPS format to capture full model detail.\n",
      "Maximize\n",
      "  1000 x_1 + 1700 x_2 + 2400 x_3 + 2800 x_4\n",
      "Subject To\n",
      " area: 300 x_1 + 500 x_2 + 700 x_3 + 900 x_4 - 850 x_d <= 0\n",
      " budget: 50 x_1 + 70 x_2 + 130 x_3 + 160 x_4 + 3 x_d <= 15000\n",
      " demolished: x_d <= 300\n",
      " single: 0.8 x_1 - 0.2 x_2 - 0.2 x_3 - 0.2 x_4 >= 0\n",
      " double: - 0.2 x_1 + 0.8 x_2 - 0.2 x_3 - 0.2 x_4 >= 0\n",
      " triple_and_quad: - 0.25 x_1 - 0.25 x_2 + 0.75 x_3 + 0.75 x_4 >= 0\n",
      "Bounds\n",
      "Generals\n",
      " x_1 x_2 x_3 x_4 x_d\n",
      "End\n",
      "\n",
      "x_1: 36.0\n",
      "x_2: 99.0\n",
      "x_3: 42.0\n",
      "x_4: 3.0\n",
      "x_d: 109.0\n"
     ]
    }
   ],
   "source": [
    "# Unser bisherige Ansatz für die Umsetzung des Modells war es, die Entscheidungsvariablen\n",
    "# einzeln zu definieren.\n",
    "\n",
    "model1 = gp.Model('homes-1')\n",
    "model1.Params.LogToConsole = 0\n",
    "\n",
    "x_1 = model1.addVar(vtype=GRB.INTEGER, name='x_1')\n",
    "x_2 = model1.addVar(vtype=GRB.INTEGER, name='x_2')\n",
    "x_3 = model1.addVar(vtype=GRB.INTEGER, name='x_3')\n",
    "x_4 = model1.addVar(vtype=GRB.INTEGER, name='x_4')\n",
    "x_d = model1.addVar(vtype=GRB.INTEGER, name='x_d')\n",
    "\n",
    "# Zielfunktion\n",
    "\n",
    "model1.setObjective(1000 * x_1 + 1700 * x_2 + 2400 * x_3 + 2800 * x_4, GRB.MAXIMIZE) \n",
    "\n",
    "# Nebenbedingungen\n",
    "\n",
    "model1.addConstr(300 * x_1 + 500 * x_2 + 700 * x_3 + 900 * x_4 <= 1000 * (1 - 0.15) * x_d, 'area')\n",
    "model1.addConstr(50 * x_1 + 70 * x_2 + 130 * x_3 + 160 * x_4 + 3 * x_d <= 15000, 'budget')\n",
    "model1.addConstr(x_d <= 300, 'demolished')\n",
    "\n",
    "x_all = x_1 + x_2 + x_3 + x_4\n",
    "\n",
    "model1.addConstr(x_1 >= 0.2 * x_all, 'single')\n",
    "model1.addConstr(x_2 >= 0.2 * x_all, 'double')\n",
    "model1.addConstr(x_3 + x_4 >= 0.25 * x_all, 'triple and quad')\n",
    "\n",
    "model1.optimize()\n",
    "\n",
    "# Das Modell als LP-Datei speichern und anzeigen\n",
    "model1.write('homes-1.lp')\n",
    "\n",
    "with open('homes-1.lp', 'r') as f:\n",
    "    print(f.read())\n",
    "\n",
    "# Die Lösung des Modells ausdrücken\n",
    "for v in model1.getVars():\n",
    "    print(f'{v.varName}: {v.x}')"
   ]
  },
  {
   "cell_type": "markdown",
   "metadata": {},
   "source": [
    "Nun möchten wir das Modell implementieren, ohne die einzelnen Variablen per Hand zu erstellen. Der Datensatz `homes` enthält die Daten für die vier Arten von Wohngebäuden:"
   ]
  },
  {
   "cell_type": "code",
   "execution_count": 9,
   "metadata": {},
   "outputs": [
    {
     "data": {
      "application/vnd.microsoft.datawrangler.viewer.v0+json": {
       "columns": [
        {
         "name": "type",
         "rawType": "object",
         "type": "string"
        },
        {
         "name": "cost",
         "rawType": "int64",
         "type": "integer"
        },
        {
         "name": "tax",
         "rawType": "int64",
         "type": "integer"
        },
        {
         "name": "area",
         "rawType": "int64",
         "type": "integer"
        }
       ],
       "conversionMethod": "pd.DataFrame",
       "ref": "8e583025-64a4-4d4b-ac16-7256b40df453",
       "rows": [
        [
         "single",
         "50000",
         "1000",
         "300"
        ],
        [
         "double",
         "70000",
         "1700",
         "500"
        ],
        [
         "triple",
         "130000",
         "2400",
         "700"
        ],
        [
         "quad",
         "160000",
         "2800",
         "900"
        ]
       ],
       "shape": {
        "columns": 3,
        "rows": 4
       }
      },
      "text/html": [
       "<div>\n",
       "<style scoped>\n",
       "    .dataframe tbody tr th:only-of-type {\n",
       "        vertical-align: middle;\n",
       "    }\n",
       "\n",
       "    .dataframe tbody tr th {\n",
       "        vertical-align: top;\n",
       "    }\n",
       "\n",
       "    .dataframe thead th {\n",
       "        text-align: right;\n",
       "    }\n",
       "</style>\n",
       "<table border=\"1\" class=\"dataframe\">\n",
       "  <thead>\n",
       "    <tr style=\"text-align: right;\">\n",
       "      <th></th>\n",
       "      <th>cost</th>\n",
       "      <th>tax</th>\n",
       "      <th>area</th>\n",
       "    </tr>\n",
       "    <tr>\n",
       "      <th>type</th>\n",
       "      <th></th>\n",
       "      <th></th>\n",
       "      <th></th>\n",
       "    </tr>\n",
       "  </thead>\n",
       "  <tbody>\n",
       "    <tr>\n",
       "      <th>single</th>\n",
       "      <td>50000</td>\n",
       "      <td>1000</td>\n",
       "      <td>300</td>\n",
       "    </tr>\n",
       "    <tr>\n",
       "      <th>double</th>\n",
       "      <td>70000</td>\n",
       "      <td>1700</td>\n",
       "      <td>500</td>\n",
       "    </tr>\n",
       "    <tr>\n",
       "      <th>triple</th>\n",
       "      <td>130000</td>\n",
       "      <td>2400</td>\n",
       "      <td>700</td>\n",
       "    </tr>\n",
       "    <tr>\n",
       "      <th>quad</th>\n",
       "      <td>160000</td>\n",
       "      <td>2800</td>\n",
       "      <td>900</td>\n",
       "    </tr>\n",
       "  </tbody>\n",
       "</table>\n",
       "</div>"
      ],
      "text/plain": [
       "          cost   tax  area\n",
       "type                      \n",
       "single   50000  1000   300\n",
       "double   70000  1700   500\n",
       "triple  130000  2400   700\n",
       "quad    160000  2800   900"
      ]
     },
     "execution_count": 9,
     "metadata": {},
     "output_type": "execute_result"
    }
   ],
   "source": [
    "homes"
   ]
  },
  {
   "cell_type": "code",
   "execution_count": null,
   "metadata": {},
   "outputs": [
    {
     "data": {
      "text/plain": [
       "Index(['single', 'double', 'triple', 'quad'], dtype='object', name='type')"
      ]
     },
     "execution_count": 10,
     "metadata": {},
     "output_type": "execute_result"
    }
   ],
   "source": [
    "# Der Index des DataFrames `homes` ist der Typ der Häuser\n",
    "homes.index"
   ]
  },
  {
   "cell_type": "code",
   "execution_count": 11,
   "metadata": {},
   "outputs": [
    {
     "data": {
      "text/plain": [
       "{'single': <gurobi.Var x[single]>,\n",
       " 'double': <gurobi.Var x[double]>,\n",
       " 'triple': <gurobi.Var x[triple]>,\n",
       " 'quad': <gurobi.Var x[quad]>}"
      ]
     },
     "execution_count": 11,
     "metadata": {},
     "output_type": "execute_result"
    }
   ],
   "source": [
    "model2 = gp.Model('Beispiel')\n",
    "\n",
    "# Erstellt eine Variable für jeden Wert des Index (für jeden Haustyp in diesem Fall)\n",
    "x = model2.addVars(homes.index, vtype=GRB.INTEGER, name='x')\n",
    "model2.update()\n",
    "\n",
    "x"
   ]
  },
  {
   "cell_type": "code",
   "execution_count": 12,
   "metadata": {},
   "outputs": [
    {
     "name": "stdout",
     "output_type": "stream",
     "text": [
      "\\ Model Beispiel\n",
      "\\ LP format - for model browsing. Use MPS format to capture full model detail.\n",
      "Maximize\n",
      "  1000 x[single] + 1700 x[double] + 2400 x[triple] + 2800 x[quad]\n",
      "Subject To\n",
      "Bounds\n",
      "Generals\n",
      " x[single] x[double] x[triple] x[quad]\n",
      "End\n",
      "\n"
     ]
    }
   ],
   "source": [
    "model2.setObjective(x.prod(homes['tax'].to_dict()), GRB.MAXIMIZE)\n",
    "\n",
    "model2.write('homes-2.lp')\n",
    "\n",
    "with open('homes-2.lp', 'r') as f:\n",
    "    print(f.read())\n"
   ]
  },
  {
   "cell_type": "code",
   "execution_count": 4,
   "metadata": {},
   "outputs": [
    {
     "data": {
      "text/plain": [
       "<gurobi.Var x[single]>"
      ]
     },
     "execution_count": 4,
     "metadata": {},
     "output_type": "execute_result"
    }
   ],
   "source": [
    "# Zugriff auf eine Variable\n",
    "x['single']"
   ]
  },
  {
   "cell_type": "code",
   "execution_count": 5,
   "metadata": {},
   "outputs": [
    {
     "data": {
      "text/plain": [
       "<gurobi.Var x[quad]>"
      ]
     },
     "execution_count": 5,
     "metadata": {},
     "output_type": "execute_result"
    }
   ],
   "source": [
    "x['quad']"
   ]
  },
  {
   "cell_type": "code",
   "execution_count": 13,
   "metadata": {},
   "outputs": [
    {
     "data": {
      "text/plain": [
       "<gurobi.LinExpr: 2.0 x[single] + 3.0 x[quad]>"
      ]
     },
     "execution_count": 13,
     "metadata": {},
     "output_type": "execute_result"
    }
   ],
   "source": [
    "# Eine Linearkombination von zwei Variablen\n",
    "\n",
    "2 * x['single'] + 3 * x['quad']"
   ]
  },
  {
   "cell_type": "code",
   "execution_count": null,
   "metadata": {},
   "outputs": [
    {
     "data": {
      "text/plain": [
       "<gurobi.LinExpr: x[single] + x[double] + x[triple] + x[quad]>"
      ]
     },
     "execution_count": 14,
     "metadata": {},
     "output_type": "execute_result"
    }
   ],
   "source": [
    "# Die Summe aller Variablen\n",
    "\n",
    "x.sum()"
   ]
  },
  {
   "cell_type": "code",
   "execution_count": null,
   "metadata": {},
   "outputs": [
    {
     "data": {
      "text/plain": [
       "{'single': 300, 'double': 500, 'triple': 700, 'quad': 900}"
      ]
     },
     "execution_count": 20,
     "metadata": {},
     "output_type": "execute_result"
    }
   ],
   "source": [
    "# Die Werte einer Spalte des DataFrames als Dictionary. Die \n",
    "# Werte des Index dienen als Schlüssel.\n",
    "\n",
    "homes['area'].to_dict()"
   ]
  },
  {
   "cell_type": "code",
   "execution_count": 13,
   "metadata": {},
   "outputs": [
    {
     "data": {
      "text/plain": [
       "300"
      ]
     },
     "execution_count": 13,
     "metadata": {},
     "output_type": "execute_result"
    }
   ],
   "source": [
    "# Man kann auf die Werte des Dictionary über die Schlüssel zugreifen\n",
    "\n",
    "homes['area'].to_dict()['single']"
   ]
  },
  {
   "cell_type": "code",
   "execution_count": 14,
   "metadata": {},
   "outputs": [
    {
     "data": {
      "text/plain": [
       "<gurobi.LinExpr: 300.0 x[single] + 500.0 x[double] + 700.0 x[triple] + 900.0 x[quad]>"
      ]
     },
     "execution_count": 14,
     "metadata": {},
     "output_type": "execute_result"
    }
   ],
   "source": [
    "# Eine Linearkombination mit Koeffizienten aus einem Dictionary\n",
    "\n",
    "x.prod(homes['area'].to_dict())"
   ]
  },
  {
   "cell_type": "code",
   "execution_count": 15,
   "metadata": {},
   "outputs": [
    {
     "data": {
      "text/plain": [
       "<gurobi.TempConstr: 300.0 x[single] + 500.0 x[double] + 700.0 x[triple] + 900.0 x[quad] <= 2000>"
      ]
     },
     "execution_count": 15,
     "metadata": {},
     "output_type": "execute_result"
    }
   ],
   "source": [
    "# Eine lineare Ungleichung mit Koeffizienten aus einem Dictionary\n",
    "\n",
    "x.prod(homes['area'].to_dict()) <= 2000"
   ]
  },
  {
   "cell_type": "code",
   "execution_count": 1,
   "metadata": {},
   "outputs": [
    {
     "ename": "NameError",
     "evalue": "name 'gp' is not defined",
     "output_type": "error",
     "traceback": [
      "\u001b[0;31m---------------------------------------------------------------------------\u001b[0m",
      "\u001b[0;31mNameError\u001b[0m                                 Traceback (most recent call last)",
      "Cell \u001b[0;32mIn[1], line 1\u001b[0m\n\u001b[0;32m----> 1\u001b[0m m \u001b[38;5;241m=\u001b[39m gp\u001b[38;5;241m.\u001b[39mModel(\u001b[38;5;124m'\u001b[39m\u001b[38;5;124mhomes\u001b[39m\u001b[38;5;124m'\u001b[39m)\n\u001b[1;32m      2\u001b[0m m\u001b[38;5;241m.\u001b[39mParams\u001b[38;5;241m.\u001b[39mLogToConsole \u001b[38;5;241m=\u001b[39m \u001b[38;5;241m0\u001b[39m\n\u001b[1;32m      4\u001b[0m x \u001b[38;5;241m=\u001b[39m m\u001b[38;5;241m.\u001b[39maddVars(homes\u001b[38;5;241m.\u001b[39mindex, vtype\u001b[38;5;241m=\u001b[39mGRB\u001b[38;5;241m.\u001b[39mINTEGER, name\u001b[38;5;241m=\u001b[39m\u001b[38;5;124m'\u001b[39m\u001b[38;5;124mx\u001b[39m\u001b[38;5;124m'\u001b[39m)\n",
      "\u001b[0;31mNameError\u001b[0m: name 'gp' is not defined"
     ]
    }
   ],
   "source": [
    "m = gp.Model('homes')\n",
    "m.Params.LogToConsole = 0\n",
    "\n",
    "x = m.addVars(homes.index, vtype=GRB.INTEGER, name='x')\n",
    "x_d = m.addVar(vtype=GRB.INTEGER, name='demolished')\n",
    "\n",
    "# Die Zielfunktion\n",
    "\n",
    "m.setObjective(x.prod(homes['tax'].to_dict()), GRB.MAXIMIZE)\n",
    "\n",
    "# Die Einschränkungen\n",
    "\n",
    "## Kosten\n",
    "m.addConstr(x.prod(homes['cost'].to_dict()) + 3000 * x_d <= 15e6, 'costs')\n",
    "\n",
    "## Fläche\n",
    "m.addConstr(x.prod(homes['area'].to_dict()) <= 1000 * (1 - 0.15) * x_d, 'area')\n",
    "\n",
    "## Anzahl der Einfamilienhäuser\n",
    "m.addConstr(x['single'] >= 0.2 * x.sum(), 'single')\n",
    "\n",
    "## Anzahl der Zweifamilienhäuser\n",
    "m.addConstr(x['double'] >= 0.2 * x.sum(), 'double')\n",
    "\n",
    "## Anzahl der Drei- und Vierfamilienhäuser\n",
    "m.addConstr(x['triple'] + x['quad'] >= 0.2 * x.sum(), 'triple and quad homes')\n",
    "\n",
    "# Die Lösung\n",
    "\n",
    "m.optimize()\n",
    "\n",
    "m.write('homes.lp')\n",
    "\n",
    "with open('homes.lp', 'r') as f:\n",
    "    print(f.read())"
   ]
  },
  {
   "cell_type": "code",
   "execution_count": 20,
   "metadata": {},
   "outputs": [
    {
     "data": {
      "application/vnd.microsoft.datawrangler.viewer.v0+json": {
       "columns": [
        {
         "name": "index",
         "rawType": "int64",
         "type": "integer"
        },
        {
         "name": "variable",
         "rawType": "object",
         "type": "string"
        },
        {
         "name": "value",
         "rawType": "float64",
         "type": "float"
        }
       ],
       "conversionMethod": "pd.DataFrame",
       "ref": "a50a00bc-aa21-4477-9878-27b9d861c15c",
       "rows": [
        [
         "0",
         "x[single]",
         "39.0"
        ],
        [
         "1",
         "x[double]",
         "111.0"
        ],
        [
         "2",
         "x[triple]",
         "38.0"
        ],
        [
         "3",
         "x[quad]",
         "0.0"
        ],
        [
         "4",
         "demolished",
         "111.0"
        ]
       ],
       "shape": {
        "columns": 2,
        "rows": 5
       }
      },
      "text/html": [
       "<div>\n",
       "<style scoped>\n",
       "    .dataframe tbody tr th:only-of-type {\n",
       "        vertical-align: middle;\n",
       "    }\n",
       "\n",
       "    .dataframe tbody tr th {\n",
       "        vertical-align: top;\n",
       "    }\n",
       "\n",
       "    .dataframe thead th {\n",
       "        text-align: right;\n",
       "    }\n",
       "</style>\n",
       "<table border=\"1\" class=\"dataframe\">\n",
       "  <thead>\n",
       "    <tr style=\"text-align: right;\">\n",
       "      <th></th>\n",
       "      <th>variable</th>\n",
       "      <th>value</th>\n",
       "    </tr>\n",
       "  </thead>\n",
       "  <tbody>\n",
       "    <tr>\n",
       "      <th>0</th>\n",
       "      <td>x[single]</td>\n",
       "      <td>39.0</td>\n",
       "    </tr>\n",
       "    <tr>\n",
       "      <th>1</th>\n",
       "      <td>x[double]</td>\n",
       "      <td>111.0</td>\n",
       "    </tr>\n",
       "    <tr>\n",
       "      <th>2</th>\n",
       "      <td>x[triple]</td>\n",
       "      <td>38.0</td>\n",
       "    </tr>\n",
       "    <tr>\n",
       "      <th>3</th>\n",
       "      <td>x[quad]</td>\n",
       "      <td>0.0</td>\n",
       "    </tr>\n",
       "    <tr>\n",
       "      <th>4</th>\n",
       "      <td>demolished</td>\n",
       "      <td>111.0</td>\n",
       "    </tr>\n",
       "  </tbody>\n",
       "</table>\n",
       "</div>"
      ],
      "text/plain": [
       "     variable  value\n",
       "0   x[single]   39.0\n",
       "1   x[double]  111.0\n",
       "2   x[triple]   38.0\n",
       "3     x[quad]    0.0\n",
       "4  demolished  111.0"
      ]
     },
     "execution_count": 20,
     "metadata": {},
     "output_type": "execute_result"
    }
   ],
   "source": [
    "# Die Lösung als DataFrame\n",
    "\n",
    "vars_df = pd.DataFrame(\n",
    "    [(v.varName, v.x) for v in m.getVars()],\n",
    "    columns=['variable', 'value']\n",
    ")\n",
    "\n",
    "vars_df"
   ]
  },
  {
   "cell_type": "code",
   "execution_count": 21,
   "metadata": {},
   "outputs": [
    {
     "data": {
      "application/vnd.microsoft.datawrangler.viewer.v0+json": {
       "columns": [
        {
         "name": "index",
         "rawType": "int64",
         "type": "integer"
        },
        {
         "name": "constraint",
         "rawType": "object",
         "type": "string"
        },
        {
         "name": "slack",
         "rawType": "float64",
         "type": "float"
        }
       ],
       "conversionMethod": "pd.DataFrame",
       "ref": "214f4782-d6c7-4860-8b3e-5bd8b93a334a",
       "rows": [
        [
         "0",
         "costs",
         "7000.0"
        ],
        [
         "1",
         "area",
         "550.0"
        ],
        [
         "2",
         "single",
         "-1.3999999999999995"
        ],
        [
         "3",
         "double",
         "-73.40000000000002"
        ],
        [
         "4",
         "triple and quad homes",
         "-0.3999999999999986"
        ]
       ],
       "shape": {
        "columns": 2,
        "rows": 5
       }
      },
      "text/html": [
       "<div>\n",
       "<style scoped>\n",
       "    .dataframe tbody tr th:only-of-type {\n",
       "        vertical-align: middle;\n",
       "    }\n",
       "\n",
       "    .dataframe tbody tr th {\n",
       "        vertical-align: top;\n",
       "    }\n",
       "\n",
       "    .dataframe thead th {\n",
       "        text-align: right;\n",
       "    }\n",
       "</style>\n",
       "<table border=\"1\" class=\"dataframe\">\n",
       "  <thead>\n",
       "    <tr style=\"text-align: right;\">\n",
       "      <th></th>\n",
       "      <th>constraint</th>\n",
       "      <th>slack</th>\n",
       "    </tr>\n",
       "  </thead>\n",
       "  <tbody>\n",
       "    <tr>\n",
       "      <th>0</th>\n",
       "      <td>costs</td>\n",
       "      <td>7000.0</td>\n",
       "    </tr>\n",
       "    <tr>\n",
       "      <th>1</th>\n",
       "      <td>area</td>\n",
       "      <td>550.0</td>\n",
       "    </tr>\n",
       "    <tr>\n",
       "      <th>2</th>\n",
       "      <td>single</td>\n",
       "      <td>-1.4</td>\n",
       "    </tr>\n",
       "    <tr>\n",
       "      <th>3</th>\n",
       "      <td>double</td>\n",
       "      <td>-73.4</td>\n",
       "    </tr>\n",
       "    <tr>\n",
       "      <th>4</th>\n",
       "      <td>triple and quad homes</td>\n",
       "      <td>-0.4</td>\n",
       "    </tr>\n",
       "  </tbody>\n",
       "</table>\n",
       "</div>"
      ],
      "text/plain": [
       "              constraint   slack\n",
       "0                  costs  7000.0\n",
       "1                   area   550.0\n",
       "2                 single    -1.4\n",
       "3                 double   -73.4\n",
       "4  triple and quad homes    -0.4"
      ]
     },
     "execution_count": 21,
     "metadata": {},
     "output_type": "execute_result"
    }
   ],
   "source": [
    "# Die Einschränkungen as DataFrame\n",
    "\n",
    "constrs_df = pd.DataFrame(\n",
    "    [(c.constrName, c.slack) for c in m.getConstrs()],\n",
    "    columns=['constraint', 'slack']\n",
    ")\n",
    "\n",
    "constrs_df"
   ]
  }
 ],
 "metadata": {
  "kernelspec": {
   "display_name": "opt2025",
   "language": "python",
   "name": "python3"
  },
  "language_info": {
   "codemirror_mode": {
    "name": "ipython",
    "version": 3
   },
   "file_extension": ".py",
   "mimetype": "text/x-python",
   "name": "python",
   "nbconvert_exporter": "python",
   "pygments_lexer": "ipython3",
   "version": "3.11.11"
  }
 },
 "nbformat": 4,
 "nbformat_minor": 2
}
