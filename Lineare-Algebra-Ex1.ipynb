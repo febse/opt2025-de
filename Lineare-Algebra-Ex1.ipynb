{
 "cells": [
  {
   "cell_type": "markdown",
   "id": "68d41136",
   "metadata": {},
   "source": [
    "# Cocktails (Übung)\n",
    "\n",
    "Open in Colab: [![Open in Colab](https://colab.research.google.com/assets/colab-badge.svg)](https://colab.research.google.com/github/febse/opt2025-de/blob/main/Lineare-Algebra-Ex1.ipynb)\n",
    "\n"
   ]
  },
  {
   "cell_type": "code",
   "execution_count": 7,
   "id": "bf48b7fe",
   "metadata": {},
   "outputs": [],
   "source": [
    "import numpy as np\n",
    "\n",
    "# Ingredients 100 ml vodka, 100 ml rum, 100 ml tomato juice\n",
    "ingredients = np.array([100, 100, 100])\n",
    "\n",
    "# Recipes\n",
    "bloody_mary_recipe = np.array([0.3, 0, 0.7])\n",
    "crazy_recipe = np.array([0.2, 0.5, 0.3])\n",
    "\n",
    "# Recipes in ml\n",
    "add_vodka = np.array([1.2, 0, 0])\n",
    "keep_rum = np.array([0, 1, 0])\n",
    "keep_tomato = np.array([0, 0, 1])"
   ]
  },
  {
   "cell_type": "code",
   "execution_count": 15,
   "id": "99fbd258",
   "metadata": {},
   "outputs": [
    {
     "data": {
      "text/plain": [
       "array([[1.2, 0. , 0. ],\n",
       "       [0. , 1. , 0. ],\n",
       "       [0. , 0. , 1. ]])"
      ]
     },
     "execution_count": 15,
     "metadata": {},
     "output_type": "execute_result"
    }
   ],
   "source": [
    "\n",
    "increase_vodka = np.stack([\n",
    "    add_vodka,\n",
    "    keep_rum,\n",
    "    keep_tomato\n",
    "])\n",
    "\n",
    "increase_vodka"
   ]
  },
  {
   "cell_type": "code",
   "execution_count": 9,
   "id": "0a19a003",
   "metadata": {},
   "outputs": [
    {
     "data": {
      "text/plain": [
       "array([0.36, 0.  , 0.7 ])"
      ]
     },
     "execution_count": 9,
     "metadata": {},
     "output_type": "execute_result"
    }
   ],
   "source": [
    "stronger_bloody_mary_recipe = bloody_mary_recipe @ increase_vodka\n",
    "stronger_bloody_mary_recipe"
   ]
  },
  {
   "cell_type": "code",
   "execution_count": 16,
   "id": "698e7389",
   "metadata": {},
   "outputs": [
    {
     "data": {
      "text/plain": [
       "array([0.24, 0.5 , 0.3 ])"
      ]
     },
     "execution_count": 16,
     "metadata": {},
     "output_type": "execute_result"
    }
   ],
   "source": [
    "stronger_crazy_recipe = crazy_recipe @ increase_vodka\n",
    "stronger_crazy_recipe"
   ]
  },
  {
   "cell_type": "code",
   "execution_count": null,
   "id": "c65b575e",
   "metadata": {},
   "outputs": [],
   "source": [
    "switch_vodka_and_tomato = np.array([\n",
    "    [0, 0, 1],\n",
    "    [0, 1, 0],\n",
    "    [1, 0, 0]\n",
    "])"
   ]
  },
  {
   "cell_type": "code",
   "execution_count": 12,
   "id": "504475a9",
   "metadata": {},
   "outputs": [
    {
     "data": {
      "text/plain": [
       "array([0.7, 0. , 0.3])"
      ]
     },
     "execution_count": 12,
     "metadata": {},
     "output_type": "execute_result"
    }
   ],
   "source": [
    "reverse_bloody_mary_recipe = bloody_mary_recipe @ switch_vodka_and_tomato\n",
    "reverse_bloody_mary_recipe"
   ]
  },
  {
   "cell_type": "code",
   "execution_count": 14,
   "id": "7262b641",
   "metadata": {},
   "outputs": [
    {
     "data": {
      "text/plain": [
       "np.float64(114.0)"
      ]
     },
     "execution_count": 14,
     "metadata": {},
     "output_type": "execute_result"
    }
   ],
   "source": [
    "# Make a reverse bloody mary\n",
    "\n",
    "reverse_bloody_mary_actual_cocktail = increase_vodka @ reverse_bloody_mary_recipe @ ingredients\n",
    "reverse_bloody_mary_actual_cocktail"
   ]
  },
  {
   "cell_type": "code",
   "execution_count": null,
   "id": "b0635f51",
   "metadata": {},
   "outputs": [],
   "source": [
    "# "
   ]
  }
 ],
 "metadata": {
  "kernelspec": {
   "display_name": "opt2025-de",
   "language": "python",
   "name": "python3"
  },
  "language_info": {
   "codemirror_mode": {
    "name": "ipython",
    "version": 3
   },
   "file_extension": ".py",
   "mimetype": "text/x-python",
   "name": "python",
   "nbconvert_exporter": "python",
   "pygments_lexer": "ipython3",
   "version": "3.11.11"
  }
 },
 "nbformat": 4,
 "nbformat_minor": 5
}
