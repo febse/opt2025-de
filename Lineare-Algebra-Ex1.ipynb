{
 "cells": [
  {
   "cell_type": "markdown",
   "id": "68d41136",
   "metadata": {},
   "source": [
    "# Rezepte und Cocktails (Übung)\n",
    "\n",
    "Open in Colab: [![Open in Colab](https://colab.research.google.com/assets/colab-badge.svg)](https://colab.research.google.com/github/febse/opt2025-de/blob/main/Lineare-Algebra-Ex1.ipynb)\n",
    "\n"
   ]
  },
  {
   "cell_type": "code",
   "execution_count": 20,
   "id": "cc57ec86",
   "metadata": {},
   "outputs": [
    {
     "name": "stdout",
     "output_type": "stream",
     "text": [
      "Requirement already satisfied: sympy in c:\\users\\boyko\\.conda\\envs\\opt2025-de\\lib\\site-packages (1.13.3)\n",
      "Requirement already satisfied: mpmath<1.4,>=1.1.0 in c:\\users\\boyko\\.conda\\envs\\opt2025-de\\lib\\site-packages (from sympy) (1.3.0)\n",
      "Note: you may need to restart the kernel to use updated packages.\n"
     ]
    }
   ],
   "source": [
    "%pip install sympy\n",
    "import numpy as np"
   ]
  },
  {
   "cell_type": "code",
   "execution_count": null,
   "id": "bf48b7fe",
   "metadata": {},
   "outputs": [],
   "source": [
    "# Ingredients 100 ml vodka, 100 ml rum, 100 ml tomato juice\n",
    "ingredients = np.array([100, 100, 100])\n",
    "\n",
    "# Recipes\n",
    "bloody_mary_recipe = np.array([0.3, 0, 0.7])\n",
    "crazy_recipe = np.array([0.2, 0.5, 0.3])\n",
    "\n",
    "# Nimm die Zutaten, erhöhe die erste Zutat (Vodka) um 20 Prozent, ignoriere alle anderen Zutaten\n",
    "increase_vodka = np.array([1.2, 0, 0])\n",
    "\n",
    "# Nimm die zweite Zutat (Rum), verändere die Menge nicht, ignoriere alle anderen Zutaten\n",
    "keep_rum = np.array([0, 1, 0])\n",
    "\n",
    "# Nimm die dritte Zutat (Tomato Juice), verändere die Menge nicht, ignoriere alle anderen Zutaten\n",
    "keep_tomato = np.array([0, 0, 1])"
   ]
  },
  {
   "cell_type": "code",
   "execution_count": null,
   "id": "99fbd258",
   "metadata": {},
   "outputs": [
    {
     "data": {
      "text/plain": [
       "array([[1.2, 0. , 0. ],\n",
       "       [0. , 1. , 0. ],\n",
       "       [0. , 0. , 1. ]])"
      ]
     },
     "execution_count": 10,
     "metadata": {},
     "output_type": "execute_result"
    }
   ],
   "source": [
    "increase_vodka = np.stack([\n",
    "    increase_vodka,\n",
    "    keep_rum,\n",
    "    keep_tomato\n",
    "])\n",
    "\n",
    "increase_vodka"
   ]
  },
  {
   "cell_type": "code",
   "execution_count": 11,
   "id": "0a19a003",
   "metadata": {},
   "outputs": [
    {
     "data": {
      "text/plain": [
       "array([0.36, 0.  , 0.7 ])"
      ]
     },
     "execution_count": 11,
     "metadata": {},
     "output_type": "execute_result"
    }
   ],
   "source": [
    "stronger_bloody_mary_recipe = bloody_mary_recipe @ increase_vodka\n",
    "stronger_bloody_mary_recipe"
   ]
  },
  {
   "cell_type": "code",
   "execution_count": 12,
   "id": "698e7389",
   "metadata": {},
   "outputs": [
    {
     "data": {
      "text/plain": [
       "array([0.24, 0.5 , 0.3 ])"
      ]
     },
     "execution_count": 12,
     "metadata": {},
     "output_type": "execute_result"
    }
   ],
   "source": [
    "stronger_crazy_recipe = crazy_recipe @ increase_vodka\n",
    "stronger_crazy_recipe"
   ]
  },
  {
   "cell_type": "code",
   "execution_count": 13,
   "id": "c65b575e",
   "metadata": {},
   "outputs": [],
   "source": [
    "switch_vodka_and_tomato = np.array([\n",
    "    [0, 0, 1],\n",
    "    [0, 1, 0],\n",
    "    [1, 0, 0]\n",
    "])"
   ]
  },
  {
   "cell_type": "code",
   "execution_count": 14,
   "id": "504475a9",
   "metadata": {},
   "outputs": [
    {
     "data": {
      "text/plain": [
       "array([0.7, 0. , 0.3])"
      ]
     },
     "execution_count": 14,
     "metadata": {},
     "output_type": "execute_result"
    }
   ],
   "source": [
    "reverse_bloody_mary_recipe = bloody_mary_recipe @ switch_vodka_and_tomato\n",
    "reverse_bloody_mary_recipe"
   ]
  },
  {
   "cell_type": "code",
   "execution_count": 15,
   "id": "7262b641",
   "metadata": {},
   "outputs": [
    {
     "data": {
      "text/plain": [
       "np.float64(114.0)"
      ]
     },
     "execution_count": 15,
     "metadata": {},
     "output_type": "execute_result"
    }
   ],
   "source": [
    "# Make a reverse bloody mary\n",
    "\n",
    "reverse_bloody_mary_actual_cocktail = increase_vodka @ reverse_bloody_mary_recipe @ ingredients\n",
    "reverse_bloody_mary_actual_cocktail"
   ]
  },
  {
   "cell_type": "code",
   "execution_count": 18,
   "id": "1de655b1",
   "metadata": {},
   "outputs": [
    {
     "data": {
      "text/plain": [
       "array([[0.83333333, 0.        , 0.        ],\n",
       "       [0.        , 1.        , 0.        ],\n",
       "       [0.        , 0.        , 1.        ]])"
      ]
     },
     "execution_count": 18,
     "metadata": {},
     "output_type": "execute_result"
    }
   ],
   "source": [
    "# How to reverse operations?\n",
    "\n",
    "np.linalg.inv(increase_vodka)"
   ]
  },
  {
   "cell_type": "markdown",
   "id": "9c047b61",
   "metadata": {},
   "source": [
    "## Barmanagement\n",
    "\n",
    "Stellen wir uns vor, dass wir eine kleine Bar managen. Wir sind so spezialisiert, dass wir nur drei Getränke anbieten:\n",
    "\n",
    "- Bloody Mary\n",
    "- Rum Mary\n",
    "- Crazy Cocktail\n",
    "\n",
    "Wir können alle Cocktails in beliebigen Mengen anbieten, allerdings sind unsere Lieferungen auf 10 l Vodka, 10 l Rum und 30 l Tomatensaft\n",
    "begrenzt.\n"
   ]
  },
  {
   "cell_type": "code",
   "execution_count": 51,
   "id": "b3e0cb7a",
   "metadata": {},
   "outputs": [
    {
     "data": {
      "text/plain": [
       "array([[0.3, 0. , 0.7],\n",
       "       [0. , 0.4, 0.6],\n",
       "       [0.2, 0.5, 0.3]])"
      ]
     },
     "execution_count": 51,
     "metadata": {},
     "output_type": "execute_result"
    }
   ],
   "source": [
    "# Unsere Cocktail Rezepte\n",
    "\n",
    "rum_mary = np.array([0, 0.4, 0.6])\n",
    "\n",
    "bar_recipes = np.stack([\n",
    "    bloody_mary_recipe,\n",
    "    rum_mary,\n",
    "    crazy_recipe,\n",
    "])\n",
    "\n",
    "bar_recipes"
   ]
  },
  {
   "cell_type": "code",
   "execution_count": 52,
   "id": "ac2d54da",
   "metadata": {},
   "outputs": [
    {
     "data": {
      "text/plain": [
       "array([[0.3, 0. , 0.2],\n",
       "       [0. , 0.4, 0.5],\n",
       "       [0.7, 0.6, 0.3]])"
      ]
     },
     "execution_count": 52,
     "metadata": {},
     "output_type": "execute_result"
    }
   ],
   "source": [
    "bar_recipes.T"
   ]
  },
  {
   "cell_type": "code",
   "execution_count": 70,
   "id": "43c4cc73",
   "metadata": {},
   "outputs": [
    {
     "data": {
      "text/latex": [
       "$\\displaystyle \\left[\\begin{matrix}0.3 & 0.0 & 0.2\\\\0.0 & 0.4 & 0.5\\\\0.7 & 0.6 & 0.3\\end{matrix}\\right]$"
      ],
      "text/plain": [
       "Matrix([\n",
       "[0.3, 0.0, 0.2],\n",
       "[0.0, 0.4, 0.5],\n",
       "[0.7, 0.6, 0.3]])"
      ]
     },
     "execution_count": 70,
     "metadata": {},
     "output_type": "execute_result"
    }
   ],
   "source": [
    "from sympy import Matrix, symbols\n",
    "\n",
    "x1, x2, x3 = symbols('x_{bloody} x_{rum} x_{crazy}')\n",
    "\n",
    "M = Matrix(bar_recipes.T)\n",
    "M"
   ]
  },
  {
   "cell_type": "code",
   "execution_count": 71,
   "id": "c2e2ee26",
   "metadata": {},
   "outputs": [
    {
     "data": {
      "text/latex": [
       "$\\displaystyle \\left[\\begin{matrix}0.3 x_{bloody} + 0.2 x_{crazy}\\\\0.5 x_{crazy} + 0.4 x_{rum}\\\\0.7 x_{bloody} + 0.3 x_{crazy} + 0.6 x_{rum}\\end{matrix}\\right]$"
      ],
      "text/plain": [
       "Matrix([\n",
       "[              0.3*x_{bloody} + 0.2*x_{crazy}],\n",
       "[                 0.5*x_{crazy} + 0.4*x_{rum}],\n",
       "[0.7*x_{bloody} + 0.3*x_{crazy} + 0.6*x_{rum}]])"
      ]
     },
     "execution_count": 71,
     "metadata": {},
     "output_type": "execute_result"
    }
   ],
   "source": [
    "M @ Matrix([x1, x2, x3])"
   ]
  },
  {
   "cell_type": "markdown",
   "id": "c264ec6e",
   "metadata": {},
   "source": [
    "Wieviel von jedem Cocktail müssen wir produzieren, um die Zutaten voll auszuschöpfen?\n",
    "\n",
    "$$\n",
    "\\begin{align*}\n",
    "0.3 x_{\\text{bloody}} + 0.0 x_{\\text{rum}} + 0.2 x_{\\text{crazy}} & = 10 \\\\\n",
    "0.0 x_{\\text{bloody}} + 0.4 x_{\\text{rum}} + 0.3 x_{\\text{crazy}} & = 10 \\\\\n",
    "0.2 x_{\\text{bloody}} + 0.5 x_{\\text{rum}} + 0.3 x_{\\text{crazy}} & = 30 \\\\\n",
    "\\end{align*}\n",
    "$$"
   ]
  },
  {
   "cell_type": "code",
   "execution_count": 64,
   "id": "e2763e93",
   "metadata": {},
   "outputs": [
    {
     "data": {
      "text/latex": [
       "$\\displaystyle \\left\\{\\left( 27.2727272727273, \\  13.6363636363636, \\  9.09090909090909\\right)\\right\\}$"
      ],
      "text/plain": [
       "{(27.2727272727273, 13.6363636363636, 9.09090909090909)}"
      ]
     },
     "execution_count": 64,
     "metadata": {},
     "output_type": "execute_result"
    }
   ],
   "source": [
    "from sympy import linsolve\n",
    "\n",
    "linsolve([M, [10, 10, 30]], [x1, x2, x3])"
   ]
  },
  {
   "cell_type": "code",
   "execution_count": 63,
   "id": "be19327e",
   "metadata": {},
   "outputs": [
    {
     "data": {
      "text/plain": [
       "array([27.27272727, 13.63636364,  9.09090909])"
      ]
     },
     "execution_count": 63,
     "metadata": {},
     "output_type": "execute_result"
    }
   ],
   "source": [
    "from numpy import linalg\n",
    "\n",
    "linalg.solve(bar_recipes.T, [10, 10, 30])"
   ]
  }
 ],
 "metadata": {
  "kernelspec": {
   "display_name": "Python 3",
   "language": "python",
   "name": "python3"
  },
  "language_info": {
   "codemirror_mode": {
    "name": "ipython",
    "version": 3
   },
   "file_extension": ".py",
   "mimetype": "text/x-python",
   "name": "python",
   "nbconvert_exporter": "python",
   "pygments_lexer": "ipython3",
   "version": "3.11.11"
  }
 },
 "nbformat": 4,
 "nbformat_minor": 5
}
