{
 "cells": [
  {
   "cell_type": "markdown",
   "metadata": {},
   "source": [
    "# Das Diet-Problem\n",
    "\n",
    "Open in Colab: [![Open in Colab](https://colab.research.google.com/assets/colab-badge.svg)](https://colab.research.google.com/github/febse/opt2025-de/blob/main/LP-Diet.ipynb)\n",
    "\n",
    "\n",
    "## Problemstellung\n",
    "\n",
    "Das Ziel des Diet-Problems ist es, Mengen von Lebensmitteln zu finden, die die täglichen Ernährungsbedürfnisse eines Menschen erfüllen, wobei die Kosten minimiert werden. Der Datensatz\n",
    "`dt` enthält die Nährstoffinformationen und die Kosten für 6 Lebensmittel. In diesem kleinen Beispiel werden wir die täglichen Ernährungsbedürfnisse eines Menschen in Bezug auf Kalorien, Proteine und Calcium betrachten. \n",
    "\n",
    "Unser ziel ist es, die billigste Kombination aus Lebensmitteln zu finden, die die täglichen Ernährungsbedürfnisse erfüllt. Die Ernährungsbedürfnisse sind sind in der Series `req` gespeichert.\n",
    "\n",
    "- Die Kombination soll mindestens 2500 Kalorien pro Tag enthalten.\n",
    "- Die Kombination soll mindestens 80g Protein pro Tag enthalten.\n",
    "- Die Kombination soll mindestens 8g Calcium pro Tag enthalten.\n",
    "\n",
    ":::{.callout-note collapsed=\"true\"}\n",
    "## Das Modell (konkrete)\n",
    "\n",
    "1. Variablen: wie viel Portionen von jedem Lebensmittel:\n",
    "\n",
    "$$\n",
    "x_{\\text{Oatmeals}}: \\text{Wie viele Portionen von Oatmeals} \\\\\n",
    "x_{\\text{Chicken}}: \\text{Wie viele Portionen von Chicken} \\\\\n",
    "x_{\\text{Eggs}}: \\text{Wie viele Portionen von Eggs} \\\\\n",
    "x_{\\text{Milk}}: \\text{Wie viele Portionen von Milk} \\\\\n",
    "x_{\\text{Charry pie}}: \\text{Wie viele Portionen von Charry pie} \\\\\n",
    "x_{\\text{Pork with beans}}: \\text{Wie viele Portionen von Pork with beans} \\\\\n",
    "$$\n",
    "\n",
    "\n",
    "2. Zielfunktion: minimale Kosten\n",
    "\n",
    "$$\n",
    "\\min 3.40 x_{\\text{Oatmeals}} + 24.01 x_{\\text{Chicken}} + 13.30 x_{\\text{Eggs}} + 9.00  x_{\\text{Milk}} + 20.00  x_{\\text{Charry pie}} + 19.00  x_{\\text{Pork with beans}}\n",
    "$$\n",
    "\n",
    "3. Einschränkungen:\n",
    "\n",
    "- Kalorien:\n",
    "\n",
    "$$\n",
    "110  x_{\\text{Oatmeals}} + 205  x_{\\text{Chicken}} + 160  x_{\\text{Eggs}} + 160  x_{\\text{Milk}} + 420  x_{\\text{Charry pie}} + 260  x_{\\text{Pork with beans}} \\geq 2500\n",
    "$$\n",
    "\n",
    "- Proteine:\n",
    "\n",
    "$$\n",
    "4  x_{\\text{Oatmeals}} + 32  x_{\\text{Chicken}} + 13  x_{\\text{Eggs}} + 8  x_{\\text{Milk}} + 4  x_{\\text{Charry pie}} + 14  x_{\\text{Pork with beans}} \\geq 80\n",
    "$$\n",
    "\n",
    "- Calcium:\n",
    "\n",
    "$$\n",
    "2  x_{\\text{Oatmeals}} + 12  x_{\\text{Chicken}} + 54  x_{\\text{Eggs}} + 285  x_{\\text{Milk}} + 22  x_{\\text{Charry pie}} + 80  x_{\\text{Pork with beans}} \\geq 8\n",
    "$$\n",
    "\n",
    "\n",
    ":::\n",
    "\n",
    "\n",
    ":::{.callout-note collapsed=\"true\"}\n",
    "## Das Modell (allgemine Form)\n",
    "\n",
    "1. Die Mengen: in dieser Aufgabe haben wir zwei Mengen:\n",
    "\n",
    "- Die Lebensmittel $M = \\{\\text{Oatmeals}, \\text{Chicken}, \\text{Eggs}, \\text{Milk}, \\text{Charry pie}, \\text{Pork with beans}\\}$\n",
    "- Die Nährstoffe $N = \\{\\text{Calories}, \\text{Proteins}, \\text{Calcium}\\}$\n",
    "\n",
    "2. Die Variablen: wir haben eine Variable für jedes Lebensmittel $x_i$ mit $i \\in M$. Diese Variablen bestimmen wie viel von jedem Lebensmittel gewählt wird. Zusätzlich dürfen nicht Mehr als 4 Portionen von einem Lebensmittel gewählt werden.\n",
    "\n",
    "$$\n",
    "\\begin{align*}\n",
    "i = \\text{Oatmeals} & \\rightarrow & x_\\text{Oatmeals} & \\geq 0 \\quad \\text{Wie viel von Oatmeals} \\\\\n",
    "i = \\text{Chicken} & \\rightarrow & x_\\text{Chicken} & \\geq 0 \\quad \\text{Wie viel von Chicken} \\\\\n",
    "i = \\text{Eggs} & \\rightarrow & x_\\text{Eggs} & \\geq 0 \\quad \\text{Wie viel von Eggs} \\\\\n",
    "i = \\text{Milk} & \\rightarrow & x_\\text{Milk} & \\geq 0 \\quad \\text{Wie viel von Milk} \\\\\n",
    "i = \\text{Charry pie} & \\rightarrow & x_\\text{Charry pie} & \\geq 0 \\quad \\text{Wie viel von Charry pie} \\\\\n",
    "i = \\text{Pork with beans} & \\rightarrow & x_\\text{Pork with beans} & \\geq 0 \\quad \\text{Wie viel von Pork with beans} \\\\\n",
    "\\end{align*}\n",
    "$$\n",
    "\n",
    "3. Die Parameter. Die Aufgabe hat $3 \\times 6$ Parameter für den Gehalt der 3 Nährstoffe in den 6 Lebensmitteln. Zusätzlich haben wir noch 6 Parameter für die Kosten der Lebensmittel und noch 3 Parameter für die täglichen Ernährungsbedürfnisse. Ferner gibt es noch 6 Parameter für die maximalen Portionen der Lebensmittel.\n",
    "\n",
    "- $c_i$: die Kosten für Lebensmittel $i \\in M$.\n",
    "\n",
    "$$\n",
    "\\begin{align*}\n",
    "c_{\\text{Oatmeals}} & = 3.40 \\\\\n",
    "c_{\\text{Chicken}} & = 24.01 \\\\\n",
    "c_{\\text{Eggs}} & = 13.30 \\\\\n",
    "c_{\\text{Milk}} & = 9.00 \\\\\n",
    "c_{\\text{Charry pie}} & = 20.00 \\\\\n",
    "c_{\\text{Pork with beans}} & = 19.00 \\\\\n",
    "\\end{align*}\n",
    "$$\n",
    "\n",
    "- $a_{ij}$: der Gehalt des Nährstoffs $j \\in N$ in Lebensmittel $i \\in M$.\n",
    "\n",
    "$$\n",
    "\\begin{pmatrix}\n",
    "a_{\\text{Oatmeals, Calories}} & a_{\\text{Oatmeals, Proteins}} & a_{\\text{Oatmeals, Calcium}} \\\\\n",
    "a_{\\text{Chicken, Calories}} & a_{\\text{Chicken, Proteins}} & a_{\\text{Chicken, Calcium}} \\\\\n",
    "a_{\\text{Eggs, Calories}} & a_{\\text{Eggs, Proteins}} & a_{\\text{Eggs, Calcium}} \\\\\n",
    "a_{\\text{Milk, Calories}} & a_{\\text{Milk, Proteins}} & a_{\\text{Milk, Calcium}} \\\\\n",
    "a_{\\text{Charry pie, Calories}} & a_{\\text{Charry pie, Proteins}} & a_{\\text{Charry pie, Calcium}} \\\\\n",
    "a_{\\text{Pork with beans, Calories}} & a_{\\text{Pork with beans, Proteins}} & a_{\\text{Pork with beans, Calcium}} \\\\\n",
    "\\end{pmatrix}\n",
    "$$\n",
    "\n",
    "$$\n",
    "\\begin{pmatrix}\n",
    "110 &  4 &\t2 \\\\\n",
    "205\t& 32 &\t12 \\\\\n",
    "160\t& 13 &\t54 \\\\\n",
    "160\t& 8\t & 285 \\\\\n",
    "420\t& 4\t&  22 \\\\\n",
    "260\t& 14 &\t80 \\\\\n",
    "\\end{pmatrix}\n",
    "$$\n",
    "\n",
    "- Die Ernährungsbedürfnisse $b_j$ für die Nährstoffe $j \\in N$.\n",
    "\n",
    "$$\n",
    "\\begin{align*}\n",
    "b_{\\text{Calories}} & = 2500 \\\\\n",
    "b_{\\text{Proteins}} & = 80 \\\\\n",
    "b_{\\text{Calcium}} & = 8 \\\\\n",
    "\\end{align*}\n",
    "$$\n",
    "\n",
    "- Die maximalen Portionen $p_i$ für die Lebensmittel $i \\in M$.\n",
    "$$\n",
    "\\begin{align*}\n",
    "p_{\\text{Oatmeals}} & = 4 \\\\\n",
    "p_{\\text{Chicken}} & = 4 \\\\\n",
    "p_{\\text{Eggs}} & = 4 \\\\\n",
    "p_{\\text{Milk}} & = 4 \\\\\n",
    "p_{\\text{Charry pie}} & = 4 \\\\\n",
    "p_{\\text{Pork with beans}} & = 4 \\\\\n",
    "\\end{align*}\n",
    "$$\n",
    "\n",
    "Die Zielsetzung ist es, die Kosten zu minimieren:\n",
    "\n",
    "$$\n",
    "\\min \\sum_{i \\in M} c_i  x_i\n",
    "$$\n",
    "\n",
    "Unter den Einschränkungen:\n",
    "\n",
    "$$\n",
    "\\begin{align*}\n",
    "\\sum_{i \\in M} a_{ij}  x_i & \\geq b_j \\quad \\forall j \\in N \\\\\n",
    "x_i \\leq p_i & \\quad \\forall i \\in M \\\\\n",
    "x_i \\geq 0 & \\quad \\forall i \\in M \\\\\n",
    "\\end{align*}\n",
    "$$\n",
    "\n",
    ":::\n",
    "\n",
    "\n",
    "\n",
    "Eine Umsetzung in Excel finden Sie [hier](https://github.com/febse/data/raw/refs/heads/main/opt/diet.xlsx)."
   ]
  },
  {
   "cell_type": "code",
   "execution_count": 32,
   "metadata": {},
   "outputs": [
    {
     "name": "stdout",
     "output_type": "stream",
     "text": [
      "Requirement already satisfied: gurobipy in c:\\users\\boyko\\.conda\\envs\\opt2025-de\\lib\\site-packages (12.0.1)\n",
      "Note: you may need to restart the kernel to use updated packages.\n"
     ]
    },
    {
     "data": {
      "application/vnd.microsoft.datawrangler.viewer.v0+json": {
       "columns": [
        {
         "name": "Food",
         "rawType": "object",
         "type": "string"
        },
        {
         "name": "Amount",
         "rawType": "object",
         "type": "string"
        },
        {
         "name": "Calories",
         "rawType": "int64",
         "type": "integer"
        },
        {
         "name": "Protein",
         "rawType": "int64",
         "type": "integer"
        },
        {
         "name": "Calcium",
         "rawType": "int64",
         "type": "integer"
        },
        {
         "name": "Price",
         "rawType": "float64",
         "type": "float"
        },
        {
         "name": "Max",
         "rawType": "int64",
         "type": "integer"
        }
       ],
       "conversionMethod": "pd.DataFrame",
       "ref": "be3b8743-9341-49c9-88df-23453e308dca",
       "rows": [
        [
         "Oatmeals",
         "28 g",
         "110",
         "4",
         "2",
         "3.4",
         "4"
        ],
        [
         "Chicken",
         "100 g",
         "205",
         "32",
         "12",
         "24.01",
         "4"
        ],
        [
         "Eggs",
         "two",
         "160",
         "13",
         "54",
         "13.3",
         "4"
        ],
        [
         "Milk",
         "237 ml",
         "160",
         "8",
         "285",
         "9.0",
         "4"
        ],
        [
         "Cherry pie",
         "170 g",
         "420",
         "4",
         "22",
         "20.0",
         "4"
        ],
        [
         "Pork with beans",
         "260 g",
         "260",
         "14",
         "80",
         "19.0",
         "4"
        ]
       ],
       "shape": {
        "columns": 6,
        "rows": 6
       }
      },
      "text/html": [
       "<div>\n",
       "<style scoped>\n",
       "    .dataframe tbody tr th:only-of-type {\n",
       "        vertical-align: middle;\n",
       "    }\n",
       "\n",
       "    .dataframe tbody tr th {\n",
       "        vertical-align: top;\n",
       "    }\n",
       "\n",
       "    .dataframe thead th {\n",
       "        text-align: right;\n",
       "    }\n",
       "</style>\n",
       "<table border=\"1\" class=\"dataframe\">\n",
       "  <thead>\n",
       "    <tr style=\"text-align: right;\">\n",
       "      <th></th>\n",
       "      <th>Amount</th>\n",
       "      <th>Calories</th>\n",
       "      <th>Protein</th>\n",
       "      <th>Calcium</th>\n",
       "      <th>Price</th>\n",
       "      <th>Max</th>\n",
       "    </tr>\n",
       "    <tr>\n",
       "      <th>Food</th>\n",
       "      <th></th>\n",
       "      <th></th>\n",
       "      <th></th>\n",
       "      <th></th>\n",
       "      <th></th>\n",
       "      <th></th>\n",
       "    </tr>\n",
       "  </thead>\n",
       "  <tbody>\n",
       "    <tr>\n",
       "      <th>Oatmeals</th>\n",
       "      <td>28 g</td>\n",
       "      <td>110</td>\n",
       "      <td>4</td>\n",
       "      <td>2</td>\n",
       "      <td>3.40</td>\n",
       "      <td>4</td>\n",
       "    </tr>\n",
       "    <tr>\n",
       "      <th>Chicken</th>\n",
       "      <td>100 g</td>\n",
       "      <td>205</td>\n",
       "      <td>32</td>\n",
       "      <td>12</td>\n",
       "      <td>24.01</td>\n",
       "      <td>4</td>\n",
       "    </tr>\n",
       "    <tr>\n",
       "      <th>Eggs</th>\n",
       "      <td>two</td>\n",
       "      <td>160</td>\n",
       "      <td>13</td>\n",
       "      <td>54</td>\n",
       "      <td>13.30</td>\n",
       "      <td>4</td>\n",
       "    </tr>\n",
       "    <tr>\n",
       "      <th>Milk</th>\n",
       "      <td>237 ml</td>\n",
       "      <td>160</td>\n",
       "      <td>8</td>\n",
       "      <td>285</td>\n",
       "      <td>9.00</td>\n",
       "      <td>4</td>\n",
       "    </tr>\n",
       "    <tr>\n",
       "      <th>Cherry pie</th>\n",
       "      <td>170 g</td>\n",
       "      <td>420</td>\n",
       "      <td>4</td>\n",
       "      <td>22</td>\n",
       "      <td>20.00</td>\n",
       "      <td>4</td>\n",
       "    </tr>\n",
       "    <tr>\n",
       "      <th>Pork with beans</th>\n",
       "      <td>260 g</td>\n",
       "      <td>260</td>\n",
       "      <td>14</td>\n",
       "      <td>80</td>\n",
       "      <td>19.00</td>\n",
       "      <td>4</td>\n",
       "    </tr>\n",
       "  </tbody>\n",
       "</table>\n",
       "</div>"
      ],
      "text/plain": [
       "                 Amount  Calories  Protein  Calcium  Price  Max\n",
       "Food                                                           \n",
       "Oatmeals           28 g       110        4        2   3.40    4\n",
       "Chicken           100 g       205       32       12  24.01    4\n",
       "Eggs                two       160       13       54  13.30    4\n",
       "Milk             237 ml       160        8      285   9.00    4\n",
       "Cherry pie        170 g       420        4       22  20.00    4\n",
       "Pork with beans   260 g       260       14       80  19.00    4"
      ]
     },
     "execution_count": 32,
     "metadata": {},
     "output_type": "execute_result"
    }
   ],
   "source": [
    "%pip install gurobipy\n",
    "\n",
    "import pandas as pd\n",
    "import gurobipy as gp\n",
    "from gurobipy import GRB\n",
    "\n",
    "# Create the DataFrame\n",
    "df = pd.DataFrame( {\n",
    "    \"Food\": [\"Oatmeals\", \"Chicken\", \"Eggs\", \"Milk\", \"Cherry pie\", \"Pork with beans\"],\n",
    "    \"Amount\": [\"28 g\", \"100 g\", \"two\", \"237 ml\", \"170 g\", \"260 g\"],\n",
    "    \"Calories\": [110, 205, 160, 160, 420, 260],\n",
    "    \"Protein\": [4, 32, 13, 8, 4, 14],\n",
    "    \"Calcium\": [2, 12, 54, 285, 22, 80],\n",
    "    \"Price\": [3.4, 24.01, 13.3, 9, 20, 19],\n",
    "    \"Max\": [4, 4, 4, 4, 4, 4]\n",
    "}).set_index(\"Food\")\n",
    "\n",
    "# Display the DataFrame\n",
    "\n",
    "df"
   ]
  },
  {
   "cell_type": "code",
   "execution_count": 33,
   "metadata": {},
   "outputs": [
    {
     "data": {
      "text/plain": [
       "Calories    2500\n",
       "Protein       80\n",
       "Calcium        8\n",
       "dtype: int64"
      ]
     },
     "execution_count": 33,
     "metadata": {},
     "output_type": "execute_result"
    }
   ],
   "source": [
    "req = pd.Series([2500, 80, 8], index=[\"Calories\", \"Protein\", \"Calcium\"])\n",
    "req"
   ]
  },
  {
   "cell_type": "code",
   "execution_count": 34,
   "metadata": {},
   "outputs": [
    {
     "name": "stdout",
     "output_type": "stream",
     "text": [
      "Set parameter LogToConsole to value 0\n",
      "\\ Model diet\n",
      "\\ LP format - for model browsing. Use MPS format to capture full model detail.\n",
      "Minimize\n",
      "  3.4 x[Oatmeals] + 24.01 x[Chicken] + 13.3 x[Eggs] + 9 x[Milk]\n",
      "   + 20 x[Cherry_pie] + 19 x[Pork_with_beans]\n",
      "Subject To\n",
      " Calories: 110 x[Oatmeals] + 205 x[Chicken] + 160 x[Eggs] + 160 x[Milk]\n",
      "   + 420 x[Cherry_pie] + 260 x[Pork_with_beans] >= 2500\n",
      " Protein: 4 x[Oatmeals] + 32 x[Chicken] + 13 x[Eggs] + 8 x[Milk]\n",
      "   + 4 x[Cherry_pie] + 14 x[Pork_with_beans] >= 80\n",
      " Calcium: 2 x[Oatmeals] + 12 x[Chicken] + 54 x[Eggs] + 285 x[Milk]\n",
      "   + 22 x[Cherry_pie] + 80 x[Pork_with_beans] >= 8\n",
      "Bounds\n",
      " x[Oatmeals] <= 4\n",
      " x[Chicken] <= 4\n",
      " x[Eggs] <= 4\n",
      " x[Milk] <= 4\n",
      " x[Cherry_pie] <= 4\n",
      " x[Pork_with_beans] <= 4\n",
      "End\n",
      "\n",
      "Gesamtkosten: 125.98015847860539\n",
      "Die Lösung:\n",
      "Oatmeals: 4.0\n",
      "Chicken: 0.6148969889064977\n",
      "Eggs: 0.0\n",
      "Milk: 4.0\n",
      "Cherry pie: 3.080824088748019\n",
      "Pork with beans: 0.0\n"
     ]
    }
   ],
   "source": [
    "m = gp.Model(\"diet\")\n",
    "m.Params.LogToConsole = 0\n",
    "\n",
    "# Die Variablen, ub ist die obere Schranke, die die maximalen Werte der Lebensmittel angibt\n",
    "x = m.addVars(df.index, name=\"x\", ub=df.Max)\n",
    "\n",
    "# Zielfunktion: Minimierung der Kosten\n",
    "m.setObjective(x.prod(df.Price.to_dict()), GRB.MINIMIZE)\n",
    "\n",
    "# Die Einschränkungen\n",
    "m.addConstr(x.prod(df.Calories.to_dict()) >= req.Calories, \"Calories\")\n",
    "m.addConstr(x.prod(df.Protein.to_dict()) >= req.Protein, \"Protein\")\n",
    "m.addConstr(x.prod(df.Calcium.to_dict()) >= req.Calcium, \"Calcium\")\n",
    "\n",
    "# Das Modell ausgeben\n",
    "m.write(\"diet.lp\")\n",
    "\n",
    "with open(\"diet.lp\") as f:\n",
    "    print(f.read())\n",
    "\n",
    "m.optimize()\n",
    "\n",
    "# Die Lösung ausgeben\n",
    "print(f\"Gesamtkosten: {m.objVal}\")\n",
    "print(\"Die Lösung:\")\n",
    "\n",
    "for food in df.index:\n",
    "    print(f\"{food}: {x[food].x}\")\n"
   ]
  },
  {
   "cell_type": "code",
   "execution_count": 35,
   "metadata": {},
   "outputs": [
    {
     "data": {
      "application/vnd.microsoft.datawrangler.viewer.v0+json": {
       "columns": [
        {
         "name": "Food",
         "rawType": "object",
         "type": "string"
        },
        {
         "name": "Amount",
         "rawType": "object",
         "type": "string"
        },
        {
         "name": "Calories",
         "rawType": "int64",
         "type": "integer"
        },
        {
         "name": "Protein",
         "rawType": "int64",
         "type": "integer"
        },
        {
         "name": "Calcium",
         "rawType": "int64",
         "type": "integer"
        },
        {
         "name": "Price",
         "rawType": "float64",
         "type": "float"
        },
        {
         "name": "Max",
         "rawType": "int64",
         "type": "integer"
        }
       ],
       "conversionMethod": "pd.DataFrame",
       "ref": "139489b9-48a5-487b-9aac-14ad58cf443f",
       "rows": [
        [
         "Oatmeals",
         "28 g",
         "110",
         "4",
         "2",
         "3.4",
         "4"
        ],
        [
         "Chicken",
         "100 g",
         "205",
         "32",
         "12",
         "24.01",
         "4"
        ],
        [
         "Eggs",
         "two",
         "160",
         "13",
         "54",
         "13.3",
         "4"
        ],
        [
         "Milk",
         "237 ml",
         "160",
         "8",
         "285",
         "9.0",
         "4"
        ],
        [
         "Cherry pie",
         "170 g",
         "420",
         "4",
         "22",
         "20.0",
         "4"
        ],
        [
         "Pork with beans",
         "260 g",
         "260",
         "14",
         "80",
         "19.0",
         "4"
        ]
       ],
       "shape": {
        "columns": 6,
        "rows": 6
       }
      },
      "text/html": [
       "<div>\n",
       "<style scoped>\n",
       "    .dataframe tbody tr th:only-of-type {\n",
       "        vertical-align: middle;\n",
       "    }\n",
       "\n",
       "    .dataframe tbody tr th {\n",
       "        vertical-align: top;\n",
       "    }\n",
       "\n",
       "    .dataframe thead th {\n",
       "        text-align: right;\n",
       "    }\n",
       "</style>\n",
       "<table border=\"1\" class=\"dataframe\">\n",
       "  <thead>\n",
       "    <tr style=\"text-align: right;\">\n",
       "      <th></th>\n",
       "      <th>Amount</th>\n",
       "      <th>Calories</th>\n",
       "      <th>Protein</th>\n",
       "      <th>Calcium</th>\n",
       "      <th>Price</th>\n",
       "      <th>Max</th>\n",
       "    </tr>\n",
       "    <tr>\n",
       "      <th>Food</th>\n",
       "      <th></th>\n",
       "      <th></th>\n",
       "      <th></th>\n",
       "      <th></th>\n",
       "      <th></th>\n",
       "      <th></th>\n",
       "    </tr>\n",
       "  </thead>\n",
       "  <tbody>\n",
       "    <tr>\n",
       "      <th>Oatmeals</th>\n",
       "      <td>28 g</td>\n",
       "      <td>110</td>\n",
       "      <td>4</td>\n",
       "      <td>2</td>\n",
       "      <td>3.40</td>\n",
       "      <td>4</td>\n",
       "    </tr>\n",
       "    <tr>\n",
       "      <th>Chicken</th>\n",
       "      <td>100 g</td>\n",
       "      <td>205</td>\n",
       "      <td>32</td>\n",
       "      <td>12</td>\n",
       "      <td>24.01</td>\n",
       "      <td>4</td>\n",
       "    </tr>\n",
       "    <tr>\n",
       "      <th>Eggs</th>\n",
       "      <td>two</td>\n",
       "      <td>160</td>\n",
       "      <td>13</td>\n",
       "      <td>54</td>\n",
       "      <td>13.30</td>\n",
       "      <td>4</td>\n",
       "    </tr>\n",
       "    <tr>\n",
       "      <th>Milk</th>\n",
       "      <td>237 ml</td>\n",
       "      <td>160</td>\n",
       "      <td>8</td>\n",
       "      <td>285</td>\n",
       "      <td>9.00</td>\n",
       "      <td>4</td>\n",
       "    </tr>\n",
       "    <tr>\n",
       "      <th>Cherry pie</th>\n",
       "      <td>170 g</td>\n",
       "      <td>420</td>\n",
       "      <td>4</td>\n",
       "      <td>22</td>\n",
       "      <td>20.00</td>\n",
       "      <td>4</td>\n",
       "    </tr>\n",
       "    <tr>\n",
       "      <th>Pork with beans</th>\n",
       "      <td>260 g</td>\n",
       "      <td>260</td>\n",
       "      <td>14</td>\n",
       "      <td>80</td>\n",
       "      <td>19.00</td>\n",
       "      <td>4</td>\n",
       "    </tr>\n",
       "  </tbody>\n",
       "</table>\n",
       "</div>"
      ],
      "text/plain": [
       "                 Amount  Calories  Protein  Calcium  Price  Max\n",
       "Food                                                           \n",
       "Oatmeals           28 g       110        4        2   3.40    4\n",
       "Chicken           100 g       205       32       12  24.01    4\n",
       "Eggs                two       160       13       54  13.30    4\n",
       "Milk             237 ml       160        8      285   9.00    4\n",
       "Cherry pie        170 g       420        4       22  20.00    4\n",
       "Pork with beans   260 g       260       14       80  19.00    4"
      ]
     },
     "execution_count": 35,
     "metadata": {},
     "output_type": "execute_result"
    }
   ],
   "source": [
    "df"
   ]
  },
  {
   "cell_type": "code",
   "execution_count": 36,
   "metadata": {},
   "outputs": [
    {
     "name": "stdout",
     "output_type": "stream",
     "text": [
      "Set parameter LogToConsole to value 0\n",
      "\\ Model diet-1\n",
      "\\ LP format - for model browsing. Use MPS format to capture full model detail.\n",
      "Minimize\n",
      "  3.4 Lebensmittel[0] + 24.01 Lebensmittel[1] + 13.3 Lebensmittel[2]\n",
      "   + 9 Lebensmittel[3] + 20 Lebensmittel[4] + 19 Lebensmittel[5]\n",
      "Subject To\n",
      " Calories[0]: 110 Lebensmittel[0] + 205 Lebensmittel[1]\n",
      "   + 160 Lebensmittel[2] + 160 Lebensmittel[3] + 420 Lebensmittel[4]\n",
      "   + 260 Lebensmittel[5] >= 2500\n",
      " Calories[1]: 4 Lebensmittel[0] + 32 Lebensmittel[1] + 13 Lebensmittel[2]\n",
      "   + 8 Lebensmittel[3] + 4 Lebensmittel[4] + 14 Lebensmittel[5] >= 80\n",
      " Calories[2]: 2 Lebensmittel[0] + 12 Lebensmittel[1] + 54 Lebensmittel[2]\n",
      "   + 285 Lebensmittel[3] + 22 Lebensmittel[4] + 80 Lebensmittel[5] >= 8\n",
      "Bounds\n",
      " Lebensmittel[0] <= 4\n",
      " Lebensmittel[1] <= 4\n",
      " Lebensmittel[2] <= 4\n",
      " Lebensmittel[3] <= 4\n",
      " Lebensmittel[4] <= 4\n",
      " Lebensmittel[5] <= 4\n",
      "End\n",
      "\n",
      "Gesamtkosten: 125.98015847860539\n",
      "Die Lösung:\n",
      "Oatmeals: 4.0\n",
      "Chicken: 0.6148969889064977\n",
      "Eggs: 0.0\n",
      "Milk: 4.0\n",
      "Cherry pie: 3.080824088748019\n",
      "Pork with beans: 0.0\n"
     ]
    }
   ],
   "source": [
    "# Äquivalent, nur mit Matrixvariablen\n",
    "\n",
    "m1 = gp.Model(\"diet-1\")\n",
    "m1.Params.LogToConsole = 0\n",
    "\n",
    "# Entscheidungsvariablen df.shape[0] ist die Anzahl der Lebensmittel (Zeilen im DataFrame)\n",
    "\n",
    "x = m1.addMVar(df.shape[0], name=\"Lebensmittel\", ub=df.Max)\n",
    "\n",
    "# Zielfunktion: die Summe der Anzahl der Portionen, multipliziert mit ihrem Preis\n",
    "m1.setObjective(df[\"Price\"].values @ x, GRB.MINIMIZE)\n",
    "\n",
    "# Bedingungen\n",
    "m1.addConstr(df[[\"Calories\", \"Protein\", \"Calcium\"]].values.T @ x >= req.values, \"Calories\")\n",
    "\n",
    "m1.write(\"diet-1.lp\")\n",
    "\n",
    "with open(\"diet-1.lp\") as f:\n",
    "    print(f.read())\n",
    "\n",
    "m1.optimize()\n",
    "\n",
    "# Die Lösung ausgeben\n",
    "print(f\"Gesamtkosten: {m1.objVal}\")\n",
    "print(\"Die Lösung:\")\n",
    "for i in range(df.shape[0]):\n",
    "    print(f\"{df.index[i]}: {x[i].x}\")"
   ]
  },
  {
   "cell_type": "markdown",
   "metadata": {},
   "source": [
    "## Neu Zealand Diet Problem\n",
    "\n",
    "Der Datensatz `df` enthält die Kosten und die Nährstoffeigenschaften (ca. 140) von 883 Lebensmitteln in Neu Zealand (Quelle: <https://doi.org/10.1093/cdn/nzab132>)\n",
    "\n",
    "- `ID`: Eindeutiger Identifikator des Lebensmittels\n",
    "- `Name`: Name des Lebensmittels\n",
    "- `Group`: Gruppe, zu der das Lebensmittel gehört\n",
    "- `Cost`: Die Kosten per 100g des Lebensmittels\n",
    "- `Amount`: Die maximal zu konsumierende Menge des Lebensmittels (in 100 g)\n",
    "- `Dry matter`: Trockensubstanz des Lebensmittels (in g)\n",
    "- `Energy, total metabolisable (kJ)`\n",
    "- `Fat, total`: Gesamtfettgehalt des Lebensmittels (in g)\n",
    "- `Protein, total; calculated from total nitrogen` (in g)\n",
    "- `Total carbohydrates by summation` (in g)\n",
    "- Sonstige Charakteristiken\n",
    "\n",
    "Der Datensatz `reqs` enthält Ernährungsanforderungen für einen durchschnittlichen Erwachsenen.\n",
    "\n"
   ]
  },
  {
   "cell_type": "code",
   "execution_count": 37,
   "metadata": {},
   "outputs": [
    {
     "data": {
      "application/vnd.microsoft.datawrangler.viewer.v0+json": {
       "columns": [
        {
         "name": "ID",
         "rawType": "object",
         "type": "string"
        },
        {
         "name": "Source",
         "rawType": "object",
         "type": "string"
        },
        {
         "name": "Group",
         "rawType": "object",
         "type": "string"
        },
        {
         "name": "SubGroup",
         "rawType": "object",
         "type": "string"
        },
        {
         "name": "Cost",
         "rawType": "float64",
         "type": "float"
        },
        {
         "name": "Amount",
         "rawType": "float64",
         "type": "float"
        },
        {
         "name": "Chapter",
         "rawType": "object",
         "type": "string"
        },
        {
         "name": "Name",
         "rawType": "object",
         "type": "string"
        },
        {
         "name": "Description",
         "rawType": "object",
         "type": "string"
        },
        {
         "name": "Alanine",
         "rawType": "float64",
         "type": "float"
        },
        {
         "name": "Alpha-carotene",
         "rawType": "float64",
         "type": "float"
        },
        {
         "name": "Alpha-tocopherol",
         "rawType": "float64",
         "type": "float"
        },
        {
         "name": "Arginine",
         "rawType": "float64",
         "type": "float"
        },
        {
         "name": "Asparagine",
         "rawType": "float64",
         "type": "float"
        },
        {
         "name": "Aspartic acid",
         "rawType": "float64",
         "type": "float"
        },
        {
         "name": "Available carbohydrate by difference",
         "rawType": "float64",
         "type": "float"
        },
        {
         "name": "Beta-carotene",
         "rawType": "float64",
         "type": "float"
        },
        {
         "name": "Beta-carotene equivalents",
         "rawType": "float64",
         "type": "float"
        },
        {
         "name": "Beta-tocopherol",
         "rawType": "float64",
         "type": "float"
        },
        {
         "name": "Beta-tocopherol + Gamma-tocopherol",
         "rawType": "int64",
         "type": "integer"
        },
        {
         "name": "Biotin",
         "rawType": "float64",
         "type": "float"
        },
        {
         "name": "Boron",
         "rawType": "float64",
         "type": "float"
        },
        {
         "name": "Cadmium",
         "rawType": "float64",
         "type": "float"
        },
        {
         "name": "Calcium",
         "rawType": "float64",
         "type": "float"
        },
        {
         "name": "Chloride",
         "rawType": "float64",
         "type": "float"
        },
        {
         "name": "Cholecalciferol (Vitamin D3)",
         "rawType": "float64",
         "type": "float"
        },
        {
         "name": "Cholesterol",
         "rawType": "float64",
         "type": "float"
        },
        {
         "name": "Chromium",
         "rawType": "float64",
         "type": "float"
        },
        {
         "name": "Cobalt",
         "rawType": "float64",
         "type": "float"
        },
        {
         "name": "Copper",
         "rawType": "float64",
         "type": "float"
        },
        {
         "name": "Cystine",
         "rawType": "float64",
         "type": "float"
        },
        {
         "name": "Delta-tocopherol",
         "rawType": "float64",
         "type": "float"
        },
        {
         "name": "Dietary folate equivalents",
         "rawType": "float64",
         "type": "float"
        },
        {
         "name": "Disaccharides, total",
         "rawType": "float64",
         "type": "float"
        },
        {
         "name": "Dry matter",
         "rawType": "float64",
         "type": "float"
        },
        {
         "name": "Edible portion",
         "rawType": "float64",
         "type": "float"
        },
        {
         "name": "Energy, total metabolisable (kcal)",
         "rawType": "float64",
         "type": "float"
        },
        {
         "name": "Energy, total metabolisable (kcal, including dietary fibre)",
         "rawType": "float64",
         "type": "float"
        },
        {
         "name": "Energy, total metabolisable (kJ)",
         "rawType": "float64",
         "type": "float"
        },
        {
         "name": "Energy, total metabolisable (kJ, including dietary fibre)",
         "rawType": "float64",
         "type": "float"
        },
        {
         "name": "Ergocalciferol (Vitamin D2)",
         "rawType": "float64",
         "type": "float"
        },
        {
         "name": "Fat, total",
         "rawType": "float64",
         "type": "float"
        },
        {
         "name": "Fatty acid 18:3 omega-3",
         "rawType": "float64",
         "type": "float"
        },
        {
         "name": "Fatty acid 20:5 omega-3",
         "rawType": "float64",
         "type": "float"
        },
        {
         "name": "Fatty acid 22:5 omega-3",
         "rawType": "float64",
         "type": "float"
        },
        {
         "name": "Fatty acid 22:6 omega-3",
         "rawType": "float64",
         "type": "float"
        },
        {
         "name": "Fatty acid cis,cis 18:2 omega-6",
         "rawType": "float64",
         "type": "float"
        },
        {
         "name": "Fatty acids, total",
         "rawType": "float64",
         "type": "float"
        },
        {
         "name": "Fatty acids, total long chain polyunsaturated omega-3",
         "rawType": "float64",
         "type": "float"
        },
        {
         "name": "Fatty acids, total monounsaturated",
         "rawType": "float64",
         "type": "float"
        },
        {
         "name": "Fatty acids, total polyunsaturated",
         "rawType": "float64",
         "type": "float"
        },
        {
         "name": "Fatty acids, total polyunsaturated omega-3",
         "rawType": "float64",
         "type": "float"
        },
        {
         "name": "Fatty acids, total saturated",
         "rawType": "float64",
         "type": "float"
        },
        {
         "name": "Fatty acids, total trans",
         "rawType": "float64",
         "type": "float"
        },
        {
         "name": "Fibre, total dietary",
         "rawType": "float64",
         "type": "float"
        },
        {
         "name": "Fibre, water-insoluble",
         "rawType": "float64",
         "type": "float"
        },
        {
         "name": "Fibre, water-soluble",
         "rawType": "float64",
         "type": "float"
        },
        {
         "name": "Fluoride",
         "rawType": "float64",
         "type": "float"
        },
        {
         "name": "Folate food, naturally occurring food folates",
         "rawType": "float64",
         "type": "float"
        },
        {
         "name": "Folate, total",
         "rawType": "float64",
         "type": "float"
        },
        {
         "name": "Folic acid, synthetic folic acid",
         "rawType": "float64",
         "type": "float"
        },
        {
         "name": "Fructose",
         "rawType": "float64",
         "type": "float"
        },
        {
         "name": "Gamma-tocopherol",
         "rawType": "float64",
         "type": "float"
        },
        {
         "name": "Glucose",
         "rawType": "float64",
         "type": "float"
        },
        {
         "name": "Glutamic acid",
         "rawType": "float64",
         "type": "float"
        },
        {
         "name": "Glycine",
         "rawType": "float64",
         "type": "float"
        },
        {
         "name": "Glycogen",
         "rawType": "float64",
         "type": "float"
        },
        {
         "name": "Histidine",
         "rawType": "float64",
         "type": "float"
        },
        {
         "name": "Hydroxyproline",
         "rawType": "int64",
         "type": "integer"
        },
        {
         "name": "Iodide",
         "rawType": "float64",
         "type": "float"
        },
        {
         "name": "Iron",
         "rawType": "float64",
         "type": "float"
        },
        {
         "name": "Isoleucine",
         "rawType": "float64",
         "type": "float"
        },
        {
         "name": "Lactic acid (grams)",
         "rawType": "int64",
         "type": "integer"
        },
        {
         "name": "Lactose",
         "rawType": "float64",
         "type": "float"
        },
        {
         "name": "Lead",
         "rawType": "float64",
         "type": "float"
        },
        {
         "name": "Leucine",
         "rawType": "float64",
         "type": "float"
        },
        {
         "name": "Lithium",
         "rawType": "float64",
         "type": "float"
        },
        {
         "name": "Lutein",
         "rawType": "float64",
         "type": "float"
        },
        {
         "name": "Lycopene",
         "rawType": "float64",
         "type": "float"
        },
        {
         "name": "Lysine",
         "rawType": "float64",
         "type": "float"
        },
        {
         "name": "Magnesium",
         "rawType": "float64",
         "type": "float"
        },
        {
         "name": "Malic acid (grams)",
         "rawType": "float64",
         "type": "float"
        },
        {
         "name": "Maltodextrin",
         "rawType": "float64",
         "type": "float"
        },
        {
         "name": "Maltose",
         "rawType": "float64",
         "type": "float"
        },
        {
         "name": "Manganese",
         "rawType": "float64",
         "type": "float"
        },
        {
         "name": "Mercury",
         "rawType": "float64",
         "type": "float"
        },
        {
         "name": "Methionine",
         "rawType": "float64",
         "type": "float"
        },
        {
         "name": "Molybdenum",
         "rawType": "float64",
         "type": "float"
        },
        {
         "name": "Monosaccharides, total",
         "rawType": "float64",
         "type": "float"
        },
        {
         "name": "Niacin equivalents from tryptophan",
         "rawType": "float64",
         "type": "float"
        },
        {
         "name": "Niacin equivalents, total",
         "rawType": "float64",
         "type": "float"
        },
        {
         "name": "Niacin, preformed",
         "rawType": "float64",
         "type": "float"
        },
        {
         "name": "Nickel",
         "rawType": "float64",
         "type": "float"
        },
        {
         "name": "Nitrogen, total",
         "rawType": "float64",
         "type": "float"
        },
        {
         "name": "Nitrogen-to-protein conversion factor",
         "rawType": "float64",
         "type": "float"
        },
        {
         "name": "Organic acids, total (grams)",
         "rawType": "float64",
         "type": "float"
        },
        {
         "name": "Oxalic acid (grams)",
         "rawType": "float64",
         "type": "float"
        },
        {
         "name": "Pantothenic acid",
         "rawType": "float64",
         "type": "float"
        },
        {
         "name": "Phenylalanine",
         "rawType": "float64",
         "type": "float"
        },
        {
         "name": "Phosphorus",
         "rawType": "float64",
         "type": "float"
        },
        {
         "name": "Phytosterols, total",
         "rawType": "float64",
         "type": "float"
        },
        {
         "name": "Polysaccharides, non-starch",
         "rawType": "float64",
         "type": "float"
        },
        {
         "name": "Polysaccharides, non-starch, water-insoluble",
         "rawType": "float64",
         "type": "float"
        },
        {
         "name": "Polysaccharides, non-starch, water-soluble",
         "rawType": "float64",
         "type": "float"
        },
        {
         "name": "Potassium",
         "rawType": "float64",
         "type": "float"
        },
        {
         "name": "Proline",
         "rawType": "float64",
         "type": "float"
        },
        {
         "name": "Protein, total; calculated from total nitrogen",
         "rawType": "float64",
         "type": "float"
        },
        {
         "name": "Proximates, total",
         "rawType": "float64",
         "type": "float"
        },
        {
         "name": "Quinic acid (grams)",
         "rawType": "float64",
         "type": "float"
        },
        {
         "name": "Retinol",
         "rawType": "float64",
         "type": "float"
        },
        {
         "name": "Riboflavin",
         "rawType": "float64",
         "type": "float"
        },
        {
         "name": "Rubidium",
         "rawType": "float64",
         "type": "float"
        },
        {
         "name": "Selenium",
         "rawType": "float64",
         "type": "float"
        },
        {
         "name": "Serine",
         "rawType": "float64",
         "type": "float"
        },
        {
         "name": "Silicon (acid soluble)",
         "rawType": "float64",
         "type": "float"
        },
        {
         "name": "Sodium",
         "rawType": "float64",
         "type": "float"
        },
        {
         "name": "Starch, resistant",
         "rawType": "float64",
         "type": "float"
        },
        {
         "name": "Starch, total",
         "rawType": "float64",
         "type": "float"
        },
        {
         "name": "Succinic acid (grams)",
         "rawType": "int64",
         "type": "integer"
        },
        {
         "name": "Sucrose",
         "rawType": "float64",
         "type": "float"
        },
        {
         "name": "Sugar, added",
         "rawType": "float64",
         "type": "float"
        },
        {
         "name": "Sugar, free",
         "rawType": "float64",
         "type": "float"
        },
        {
         "name": "Sugars, total",
         "rawType": "float64",
         "type": "float"
        },
        {
         "name": "Sulphur",
         "rawType": "float64",
         "type": "float"
        },
        {
         "name": "Taurine",
         "rawType": "float64",
         "type": "float"
        },
        {
         "name": "Thiamin",
         "rawType": "float64",
         "type": "float"
        },
        {
         "name": "Threonine",
         "rawType": "float64",
         "type": "float"
        },
        {
         "name": "Tin",
         "rawType": "float64",
         "type": "float"
        },
        {
         "name": "Total carbohydrate by difference",
         "rawType": "float64",
         "type": "float"
        },
        {
         "name": "Total carbohydrates by summation",
         "rawType": "float64",
         "type": "float"
        },
        {
         "name": "Total fat-to-total fatty acids conversion factor",
         "rawType": "float64",
         "type": "float"
        },
        {
         "name": "Tryptophan",
         "rawType": "float64",
         "type": "float"
        },
        {
         "name": "Tyrosine",
         "rawType": "float64",
         "type": "float"
        },
        {
         "name": "Valine",
         "rawType": "float64",
         "type": "float"
        },
        {
         "name": "Vanadium",
         "rawType": "float64",
         "type": "float"
        },
        {
         "name": "Vitamin A, retinol activity equivalents",
         "rawType": "float64",
         "type": "float"
        },
        {
         "name": "Vitamin A, retinol equivalents",
         "rawType": "float64",
         "type": "float"
        },
        {
         "name": "Vitamin B12",
         "rawType": "float64",
         "type": "float"
        },
        {
         "name": "Vitamin B6",
         "rawType": "float64",
         "type": "float"
        },
        {
         "name": "Vitamin C",
         "rawType": "float64",
         "type": "float"
        },
        {
         "name": "Vitamin D; calculated by summation",
         "rawType": "float64",
         "type": "float"
        },
        {
         "name": "Vitamin E, alpha-tocopherol equivalents",
         "rawType": "float64",
         "type": "float"
        },
        {
         "name": "Vitamin K",
         "rawType": "float64",
         "type": "float"
        },
        {
         "name": "Water",
         "rawType": "float64",
         "type": "float"
        },
        {
         "name": "Zeaxanthin",
         "rawType": "float64",
         "type": "float"
        },
        {
         "name": "Zinc",
         "rawType": "float64",
         "type": "float"
        }
       ],
       "conversionMethod": "pd.DataFrame",
       "ref": "6aafdff5-3dfd-44f7-aed8-bcc2832ede3f",
       "rows": [
        [
         "M1170",
         "Animal",
         "Beef",
         "Beef blade ",
         "2.042333333",
         "1.0",
         "M",
         "Beef, forequarter bolar, separable lean & fat, braised",
         "Beef, forequarter bolar, separable lean & fat, braised",
         "1505.04",
         "0.0",
         "0.83",
         "1902.6",
         "2300.16",
         "0.0",
         "0.0",
         "0.0",
         "0.0",
         "0.0",
         "0",
         "0.0",
         "0.0",
         "0.0",
         "6.54",
         "0.0",
         "0.23",
         "90.89",
         "0.0",
         "0.0",
         "0.12",
         "340.76",
         "0.0",
         "5.38",
         "0.0",
         "42.43",
         "94.1",
         "228.08",
         "228.08",
         "954.89",
         "954.89",
         "0.0",
         "11.57",
         "0.093",
         "0.026",
         "0.04",
         "0.005",
         "0.137",
         "8.554",
         "0.073",
         "3.895",
         "0.433",
         "0.166",
         "4.227",
         "0.327",
         "0.0",
         "0.0",
         "0.0",
         "0.0",
         "5.38",
         "5.38",
         "0.0",
         "0.0",
         "0.0",
         "0.0",
         "4046.58",
         "1718.02",
         "0.0",
         "837.71",
         "0",
         "0.91",
         "2.55",
         "1135.88",
         "0",
         "0.0",
         "0.0",
         "2129.78",
         "0.0",
         "0.0",
         "0.0",
         "2214.97",
         "18.37",
         "0.0",
         "0.0",
         "0.0",
         "11.31",
         "0.0",
         "866.11",
         "0.0",
         "0.0",
         "4.83",
         "6.94",
         "2.12",
         "0.0",
         "4.96",
         "6.25",
         "0.0",
         "0.0",
         "0.38",
         "1107.49",
         "156.14",
         "0.0",
         "0.0",
         "0.0",
         "0.0",
         "175.05",
         "1050.69",
         "31.0",
         "101.2",
         "0.0",
         "15.95",
         "0.13",
         "0.0",
         "2.2",
         "993.9",
         "0.0",
         "32.07",
         "0.0",
         "0.0",
         "0",
         "0.0",
         "0.0",
         "0.0",
         "0.0",
         "0.0",
         "85.19",
         "0.04",
         "1008.1",
         "0.0",
         "0.0",
         "0.0",
         "0.0",
         "283.97",
         "951.3",
         "1206.88",
         "0.0",
         "15.95",
         "15.95",
         "1.53",
         "0.18",
         "0.0",
         "0.23",
         "0.83",
         "0.0",
         "57.57",
         "0.0",
         "5.93"
        ],
        [
         "M1154",
         "Animal",
         "Beef",
         "Beef blade ",
         "2.042333333",
         "1.0",
         "M",
         "Beef, forequarter bolar, separable lean & fat, raw",
         "Beef, forequarter bolar, separable lean & fat, raw",
         "1036.61",
         "0.0",
         "0.45",
         "1310.53",
         "1586.28",
         "0.0",
         "0.0",
         "0.0",
         "0.0",
         "0.0",
         "0",
         "0.0",
         "0.0",
         "0.0",
         "4.34",
         "0.0",
         "0.14",
         "56.6",
         "0.0",
         "0.0",
         "0.14",
         "235.86",
         "0.0",
         "5.36",
         "0.0",
         "29.74",
         "97.9",
         "158.76",
         "158.76",
         "664.53",
         "664.53",
         "0.0",
         "8.17",
         "0.07",
         "0.019",
         "0.03",
         "0.003",
         "0.096",
         "6.215",
         "0.054",
         "2.869",
         "0.318",
         "0.123",
         "3.028",
         "0.239",
         "0.0",
         "0.0",
         "0.0",
         "0.0",
         "5.36",
         "5.36",
         "0.0",
         "0.0",
         "0.0",
         "0.0",
         "2787.41",
         "1179.6",
         "0.0",
         "582.12",
         "0",
         "0.88",
         "1.97",
         "784.04",
         "0",
         "0.0",
         "0.0",
         "1468.44",
         "0.0",
         "0.0",
         "0.0",
         "1527.03",
         "21.52",
         "0.0",
         "0.0",
         "0.0",
         "12.73",
         "0.0",
         "600.49",
         "0.0",
         "0.0",
         "3.33",
         "6.34",
         "3.01",
         "0.0",
         "3.41",
         "6.25",
         "0.0",
         "0.0",
         "0.52",
         "763.18",
         "182.9",
         "0.0",
         "0.0",
         "0.0",
         "0.0",
         "312.89",
         "720.64",
         "21.3",
         "100.67",
         "0.0",
         "8.88",
         "0.1",
         "0.0",
         "1.06",
         "684.89",
         "0.0",
         "53.67",
         "0.0",
         "0.0",
         "0",
         "0.0",
         "0.0",
         "0.0",
         "0.0",
         "0.0",
         "56.99",
         "0.05",
         "695.49",
         "0.0",
         "0.0",
         "0.0",
         "0.0",
         "195.97",
         "655.93",
         "833.03",
         "0.0",
         "8.88",
         "8.88",
         "1.71",
         "0.32",
         "0.0",
         "0.14",
         "0.45",
         "0.0",
         "70.26",
         "0.0",
         "3.46"
        ],
        [
         "M1069",
         "Animal",
         "Beef",
         "Beef blade ",
         "2.042333333",
         "1.0",
         "M",
         "Beef, forequarter bolar, separable lean, braised",
         "Beef, forequarter bolar, separable lean, braised",
         "1627.87",
         "0.0",
         "0.76",
         "2057.87",
         "2487.87",
         "0.0",
         "0.0",
         "0.0",
         "0.0",
         "0.0",
         "0",
         "0.0",
         "0.0",
         "0.0",
         "5.5",
         "0.0",
         "0.21",
         "91.3",
         "0.0",
         "0.0",
         "0.13",
         "368.57",
         "0.0",
         "5.97",
         "0.0",
         "39.54",
         "86.0",
         "193.2",
         "193.2",
         "812.89",
         "812.89",
         "0.0",
         "6.57",
         "0.06",
         "0.028",
         "0.037",
         "0.006",
         "0.11",
         "4.605",
         "0.073",
         "2.366",
         "0.341",
         "0.134",
         "1.898",
         "0.095",
         "0.0",
         "0.0",
         "0.0",
         "0.0",
         "5.97",
         "5.97",
         "0.0",
         "0.0",
         "0.0",
         "0.0",
         "4376.81",
         "1858.22",
         "0.0",
         "906.08",
         "0",
         "0.88",
         "2.7",
         "1228.58",
         "0",
         "0.0",
         "0.0",
         "2303.58",
         "0.0",
         "0.0",
         "0.0",
         "2395.73",
         "19.37",
         "0.0",
         "0.0",
         "0.0",
         "11.96",
         "0.0",
         "936.79",
         "0.0",
         "0.0",
         "5.22",
         "7.45",
         "2.23",
         "0.0",
         "5.36",
         "6.25",
         "0.0",
         "0.0",
         "0.4",
         "1197.86",
         "164.99",
         "0.0",
         "0.0",
         "0.0",
         "0.0",
         "180.54",
         "1136.44",
         "33.53",
         "101.7",
         "0.0",
         "13.49",
         "0.14",
         "0.0",
         "2.0",
         "1075.01",
         "0.0",
         "32.84",
         "0.0",
         "0.0",
         "0",
         "0.0",
         "0.0",
         "0.0",
         "0.0",
         "0.0",
         "92.14",
         "0.04",
         "1090.36",
         "0.0",
         "0.0",
         "0.0",
         "0.0",
         "307.14",
         "1028.93",
         "1305.36",
         "0.0",
         "13.49",
         "13.49",
         "1.65",
         "0.19",
         "0.0",
         "0.21",
         "0.76",
         "0.0",
         "60.46",
         "0.0",
         "6.38"
        ],
        [
         "M1044",
         "Animal",
         "Beef",
         "Beef blade ",
         "2.042333333",
         "1.0",
         "M",
         "Beef, forequarter bolar, separable lean, raw",
         "Beef, forequarter bolar, separable lean, raw",
         "1072.58",
         "0.0",
         "0.4",
         "1355.9",
         "1639.22",
         "0.0",
         "0.0",
         "0.0",
         "0.0",
         "0.0",
         "0",
         "0.0",
         "0.0",
         "0.0",
         "3.55",
         "0.0",
         "0.13",
         "55.5",
         "0.0",
         "0.0",
         "0.15",
         "242.85",
         "0.0",
         "5.68",
         "0.0",
         "26.89",
         "92.4",
         "128.77",
         "128.77",
         "541.66",
         "541.66",
         "0.0",
         "4.49",
         "0.044",
         "0.02",
         "0.029",
         "0.003",
         "0.077",
         "3.284",
         "0.055",
         "1.68",
         "0.242",
         "0.099",
         "1.361",
         "0.066",
         "0.0",
         "0.0",
         "0.0",
         "0.0",
         "5.68",
         "5.68",
         "0.0",
         "0.0",
         "0.0",
         "0.0",
         "2883.82",
         "1224.36",
         "0.0",
         "597.0",
         "0",
         "0.77",
         "2.06",
         "809.49",
         "0",
         "0.0",
         "0.0",
         "1517.8",
         "0.0",
         "0.0",
         "0.0",
         "1578.51",
         "22.49",
         "0.0",
         "0.0",
         "0.0",
         "13.39",
         "0.0",
         "617.24",
         "0.0",
         "0.0",
         "3.44",
         "6.58",
         "3.14",
         "0.0",
         "3.53",
         "6.25",
         "0.0",
         "0.0",
         "0.55",
         "789.26",
         "190.45",
         "0.0",
         "0.0",
         "0.0",
         "0.0",
         "325.16",
         "748.78",
         "22.09",
         "100.68",
         "0.0",
         "6.25",
         "0.11",
         "0.0",
         "1.0",
         "708.31",
         "0.0",
         "55.2",
         "0.0",
         "0.0",
         "0",
         "0.0",
         "0.0",
         "0.0",
         "0.0",
         "0.0",
         "60.71",
         "0.05",
         "718.43",
         "0.0",
         "0.0",
         "0.0",
         "0.0",
         "202.37",
         "677.95",
         "860.09",
         "0.0",
         "6.25",
         "6.25",
         "1.8",
         "0.33",
         "0.0",
         "0.13",
         "0.4",
         "0.0",
         "73.11",
         "0.0",
         "3.63"
        ],
        [
         "M1171",
         "Animal",
         "Beef",
         "Beef blade ",
         "2.042333333",
         "1.0",
         "M",
         "Beef, forequarter brisket navel end, separable lean & fat, braised",
         "Beef, forequarter brisket navel end, separable lean & fat, braised",
         "870.8",
         "0.0",
         "1.11",
         "1100.82",
         "1330.84",
         "0.0",
         "1.09",
         "0.0",
         "0.0",
         "0.0",
         "0",
         "0.0",
         "0.0",
         "0.0",
         "11.66",
         "0.0",
         "0.31",
         "83.1",
         "0.0",
         "0.0",
         "0.05",
         "197.16",
         "0.0",
         "3.04",
         "0.0",
         "57.72",
         "100.0",
         "414.7",
         "414.7",
         "1714.85",
         "1714.85",
         "0.0",
         "38.11",
         "0.254",
         "0.007",
         "0.054",
         "0.0",
         "0.279",
         "29.874",
         "0.061",
         "12.774",
         "0.914",
         "0.315",
         "16.186",
         "1.502",
         "0.0",
         "0.0",
         "0.0",
         "0.0",
         "3.04",
         "3.04",
         "0.0",
         "0.0",
         "0.0",
         "0.0",
         "2341.3",
         "994.03",
         "0.0",
         "484.69",
         "0",
         "1.55",
         "1.49",
         "657.21",
         "0",
         "0.0",
         "0.0",
         "1232.26",
         "0.0",
         "0.0",
         "0.0",
         "1281.55",
         "11.7",
         "0.0",
         "0.0",
         "0.0",
         "2.89",
         "0.0",
         "501.12",
         "0.0",
         "0.0",
         "2.79",
         "4.51",
         "1.72",
         "0.0",
         "2.87",
         "6.25",
         "0.0",
         "0.0",
         "0.11",
         "640.78",
         "92.7",
         "0.0",
         "0.0",
         "0.0",
         "0.0",
         "132.95",
         "607.92",
         "17.93",
         "98.91",
         "0.0",
         "27.91",
         "0.07",
         "0.0",
         "3.85",
         "575.06",
         "0.0",
         "31.8",
         "0.0",
         "0.0",
         "0",
         "0.0",
         "0.0",
         "0.0",
         "0.0",
         "0.0",
         "49.29",
         "0.03",
         "583.27",
         "0.0",
         "1.09",
         "0.0",
         "0.0",
         "164.3",
         "550.41",
         "698.28",
         "0.0",
         "27.91",
         "27.91",
         "0.84",
         "0.09",
         "0.0",
         "0.31",
         "1.11",
         "0.0",
         "42.28",
         "0.0",
         "3.7"
        ]
       ],
       "shape": {
        "columns": 145,
        "rows": 5
       }
      },
      "text/html": [
       "<div>\n",
       "<style scoped>\n",
       "    .dataframe tbody tr th:only-of-type {\n",
       "        vertical-align: middle;\n",
       "    }\n",
       "\n",
       "    .dataframe tbody tr th {\n",
       "        vertical-align: top;\n",
       "    }\n",
       "\n",
       "    .dataframe thead th {\n",
       "        text-align: right;\n",
       "    }\n",
       "</style>\n",
       "<table border=\"1\" class=\"dataframe\">\n",
       "  <thead>\n",
       "    <tr style=\"text-align: right;\">\n",
       "      <th></th>\n",
       "      <th>Source</th>\n",
       "      <th>Group</th>\n",
       "      <th>SubGroup</th>\n",
       "      <th>Cost</th>\n",
       "      <th>Amount</th>\n",
       "      <th>Chapter</th>\n",
       "      <th>Name</th>\n",
       "      <th>Description</th>\n",
       "      <th>Alanine</th>\n",
       "      <th>Alpha-carotene</th>\n",
       "      <th>...</th>\n",
       "      <th>Vitamin A, retinol equivalents</th>\n",
       "      <th>Vitamin B12</th>\n",
       "      <th>Vitamin B6</th>\n",
       "      <th>Vitamin C</th>\n",
       "      <th>Vitamin D; calculated by summation</th>\n",
       "      <th>Vitamin E, alpha-tocopherol equivalents</th>\n",
       "      <th>Vitamin K</th>\n",
       "      <th>Water</th>\n",
       "      <th>Zeaxanthin</th>\n",
       "      <th>Zinc</th>\n",
       "    </tr>\n",
       "    <tr>\n",
       "      <th>ID</th>\n",
       "      <th></th>\n",
       "      <th></th>\n",
       "      <th></th>\n",
       "      <th></th>\n",
       "      <th></th>\n",
       "      <th></th>\n",
       "      <th></th>\n",
       "      <th></th>\n",
       "      <th></th>\n",
       "      <th></th>\n",
       "      <th></th>\n",
       "      <th></th>\n",
       "      <th></th>\n",
       "      <th></th>\n",
       "      <th></th>\n",
       "      <th></th>\n",
       "      <th></th>\n",
       "      <th></th>\n",
       "      <th></th>\n",
       "      <th></th>\n",
       "      <th></th>\n",
       "    </tr>\n",
       "  </thead>\n",
       "  <tbody>\n",
       "    <tr>\n",
       "      <th>M1170</th>\n",
       "      <td>Animal</td>\n",
       "      <td>Beef</td>\n",
       "      <td>Beef blade</td>\n",
       "      <td>2.042333</td>\n",
       "      <td>1.0</td>\n",
       "      <td>M</td>\n",
       "      <td>Beef, forequarter bolar, separable lean &amp; fat,...</td>\n",
       "      <td>Beef, forequarter bolar, separable lean &amp; fat,...</td>\n",
       "      <td>1505.04</td>\n",
       "      <td>0.0</td>\n",
       "      <td>...</td>\n",
       "      <td>15.95</td>\n",
       "      <td>1.53</td>\n",
       "      <td>0.18</td>\n",
       "      <td>0.0</td>\n",
       "      <td>0.23</td>\n",
       "      <td>0.83</td>\n",
       "      <td>0.0</td>\n",
       "      <td>57.57</td>\n",
       "      <td>0.0</td>\n",
       "      <td>5.93</td>\n",
       "    </tr>\n",
       "    <tr>\n",
       "      <th>M1154</th>\n",
       "      <td>Animal</td>\n",
       "      <td>Beef</td>\n",
       "      <td>Beef blade</td>\n",
       "      <td>2.042333</td>\n",
       "      <td>1.0</td>\n",
       "      <td>M</td>\n",
       "      <td>Beef, forequarter bolar, separable lean &amp; fat,...</td>\n",
       "      <td>Beef, forequarter bolar, separable lean &amp; fat,...</td>\n",
       "      <td>1036.61</td>\n",
       "      <td>0.0</td>\n",
       "      <td>...</td>\n",
       "      <td>8.88</td>\n",
       "      <td>1.71</td>\n",
       "      <td>0.32</td>\n",
       "      <td>0.0</td>\n",
       "      <td>0.14</td>\n",
       "      <td>0.45</td>\n",
       "      <td>0.0</td>\n",
       "      <td>70.26</td>\n",
       "      <td>0.0</td>\n",
       "      <td>3.46</td>\n",
       "    </tr>\n",
       "    <tr>\n",
       "      <th>M1069</th>\n",
       "      <td>Animal</td>\n",
       "      <td>Beef</td>\n",
       "      <td>Beef blade</td>\n",
       "      <td>2.042333</td>\n",
       "      <td>1.0</td>\n",
       "      <td>M</td>\n",
       "      <td>Beef, forequarter bolar, separable lean, braised</td>\n",
       "      <td>Beef, forequarter bolar, separable lean, braised</td>\n",
       "      <td>1627.87</td>\n",
       "      <td>0.0</td>\n",
       "      <td>...</td>\n",
       "      <td>13.49</td>\n",
       "      <td>1.65</td>\n",
       "      <td>0.19</td>\n",
       "      <td>0.0</td>\n",
       "      <td>0.21</td>\n",
       "      <td>0.76</td>\n",
       "      <td>0.0</td>\n",
       "      <td>60.46</td>\n",
       "      <td>0.0</td>\n",
       "      <td>6.38</td>\n",
       "    </tr>\n",
       "    <tr>\n",
       "      <th>M1044</th>\n",
       "      <td>Animal</td>\n",
       "      <td>Beef</td>\n",
       "      <td>Beef blade</td>\n",
       "      <td>2.042333</td>\n",
       "      <td>1.0</td>\n",
       "      <td>M</td>\n",
       "      <td>Beef, forequarter bolar, separable lean, raw</td>\n",
       "      <td>Beef, forequarter bolar, separable lean, raw</td>\n",
       "      <td>1072.58</td>\n",
       "      <td>0.0</td>\n",
       "      <td>...</td>\n",
       "      <td>6.25</td>\n",
       "      <td>1.80</td>\n",
       "      <td>0.33</td>\n",
       "      <td>0.0</td>\n",
       "      <td>0.13</td>\n",
       "      <td>0.40</td>\n",
       "      <td>0.0</td>\n",
       "      <td>73.11</td>\n",
       "      <td>0.0</td>\n",
       "      <td>3.63</td>\n",
       "    </tr>\n",
       "    <tr>\n",
       "      <th>M1171</th>\n",
       "      <td>Animal</td>\n",
       "      <td>Beef</td>\n",
       "      <td>Beef blade</td>\n",
       "      <td>2.042333</td>\n",
       "      <td>1.0</td>\n",
       "      <td>M</td>\n",
       "      <td>Beef, forequarter brisket navel end, separable...</td>\n",
       "      <td>Beef, forequarter brisket navel end, separable...</td>\n",
       "      <td>870.80</td>\n",
       "      <td>0.0</td>\n",
       "      <td>...</td>\n",
       "      <td>27.91</td>\n",
       "      <td>0.84</td>\n",
       "      <td>0.09</td>\n",
       "      <td>0.0</td>\n",
       "      <td>0.31</td>\n",
       "      <td>1.11</td>\n",
       "      <td>0.0</td>\n",
       "      <td>42.28</td>\n",
       "      <td>0.0</td>\n",
       "      <td>3.70</td>\n",
       "    </tr>\n",
       "  </tbody>\n",
       "</table>\n",
       "<p>5 rows × 145 columns</p>\n",
       "</div>"
      ],
      "text/plain": [
       "       Source Group     SubGroup      Cost  Amount Chapter  \\\n",
       "ID                                                           \n",
       "M1170  Animal  Beef  Beef blade   2.042333     1.0       M   \n",
       "M1154  Animal  Beef  Beef blade   2.042333     1.0       M   \n",
       "M1069  Animal  Beef  Beef blade   2.042333     1.0       M   \n",
       "M1044  Animal  Beef  Beef blade   2.042333     1.0       M   \n",
       "M1171  Animal  Beef  Beef blade   2.042333     1.0       M   \n",
       "\n",
       "                                                    Name  \\\n",
       "ID                                                         \n",
       "M1170  Beef, forequarter bolar, separable lean & fat,...   \n",
       "M1154  Beef, forequarter bolar, separable lean & fat,...   \n",
       "M1069   Beef, forequarter bolar, separable lean, braised   \n",
       "M1044       Beef, forequarter bolar, separable lean, raw   \n",
       "M1171  Beef, forequarter brisket navel end, separable...   \n",
       "\n",
       "                                             Description  Alanine  \\\n",
       "ID                                                                  \n",
       "M1170  Beef, forequarter bolar, separable lean & fat,...  1505.04   \n",
       "M1154  Beef, forequarter bolar, separable lean & fat,...  1036.61   \n",
       "M1069   Beef, forequarter bolar, separable lean, braised  1627.87   \n",
       "M1044       Beef, forequarter bolar, separable lean, raw  1072.58   \n",
       "M1171  Beef, forequarter brisket navel end, separable...   870.80   \n",
       "\n",
       "       Alpha-carotene  ...  Vitamin A, retinol equivalents  Vitamin B12  \\\n",
       "ID                     ...                                                \n",
       "M1170             0.0  ...                           15.95         1.53   \n",
       "M1154             0.0  ...                            8.88         1.71   \n",
       "M1069             0.0  ...                           13.49         1.65   \n",
       "M1044             0.0  ...                            6.25         1.80   \n",
       "M1171             0.0  ...                           27.91         0.84   \n",
       "\n",
       "       Vitamin B6  Vitamin C  Vitamin D; calculated by summation  \\\n",
       "ID                                                                 \n",
       "M1170        0.18        0.0                                0.23   \n",
       "M1154        0.32        0.0                                0.14   \n",
       "M1069        0.19        0.0                                0.21   \n",
       "M1044        0.33        0.0                                0.13   \n",
       "M1171        0.09        0.0                                0.31   \n",
       "\n",
       "       Vitamin E, alpha-tocopherol equivalents  Vitamin K  Water  Zeaxanthin  \\\n",
       "ID                                                                             \n",
       "M1170                                     0.83        0.0  57.57         0.0   \n",
       "M1154                                     0.45        0.0  70.26         0.0   \n",
       "M1069                                     0.76        0.0  60.46         0.0   \n",
       "M1044                                     0.40        0.0  73.11         0.0   \n",
       "M1171                                     1.11        0.0  42.28         0.0   \n",
       "\n",
       "       Zinc  \n",
       "ID           \n",
       "M1170  5.93  \n",
       "M1154  3.46  \n",
       "M1069  6.38  \n",
       "M1044  3.63  \n",
       "M1171  3.70  \n",
       "\n",
       "[5 rows x 145 columns]"
      ]
     },
     "execution_count": 37,
     "metadata": {},
     "output_type": "execute_result"
    }
   ],
   "source": [
    "# Einlesen der Lebensmittel-Daten\n",
    "\n",
    "df = pd.read_csv('https://raw.githubusercontent.com/febse/data/refs/heads/main/opt/NZFoods.csv').set_index('ID')\n",
    "df.head()"
   ]
  },
  {
   "cell_type": "code",
   "execution_count": 38,
   "metadata": {},
   "outputs": [
    {
     "data": {
      "application/vnd.microsoft.datawrangler.viewer.v0+json": {
       "columns": [
        {
         "name": "index",
         "rawType": "int64",
         "type": "integer"
        },
        {
         "name": "Alanine",
         "rawType": "int64",
         "type": "integer"
        },
        {
         "name": "Alpha-carotene",
         "rawType": "int64",
         "type": "integer"
        },
        {
         "name": "Alpha-tocopherol",
         "rawType": "int64",
         "type": "integer"
        },
        {
         "name": "Arginine",
         "rawType": "int64",
         "type": "integer"
        },
        {
         "name": "Asparagine",
         "rawType": "int64",
         "type": "integer"
        },
        {
         "name": "Available carbohydrate by difference",
         "rawType": "int64",
         "type": "integer"
        },
        {
         "name": "Beta-carotene",
         "rawType": "int64",
         "type": "integer"
        },
        {
         "name": "Beta-carotene equivalents",
         "rawType": "int64",
         "type": "integer"
        },
        {
         "name": "Beta-tocopherol",
         "rawType": "int64",
         "type": "integer"
        },
        {
         "name": "Beta-tocopherol + Gamma-tocopherol",
         "rawType": "int64",
         "type": "integer"
        },
        {
         "name": "Biotin",
         "rawType": "float64",
         "type": "float"
        },
        {
         "name": "Boron",
         "rawType": "int64",
         "type": "integer"
        },
        {
         "name": "Cadmium",
         "rawType": "int64",
         "type": "integer"
        },
        {
         "name": "Calcium",
         "rawType": "int64",
         "type": "integer"
        },
        {
         "name": "Chloride",
         "rawType": "int64",
         "type": "integer"
        },
        {
         "name": "Cholecalciferol (Vitamin D3)",
         "rawType": "int64",
         "type": "integer"
        },
        {
         "name": "Cholesterol",
         "rawType": "int64",
         "type": "integer"
        },
        {
         "name": "Chromium",
         "rawType": "int64",
         "type": "integer"
        },
        {
         "name": "Cobalt",
         "rawType": "int64",
         "type": "integer"
        },
        {
         "name": "Copper",
         "rawType": "float64",
         "type": "float"
        },
        {
         "name": "Cystine",
         "rawType": "int64",
         "type": "integer"
        },
        {
         "name": "Delta-tocopherol",
         "rawType": "int64",
         "type": "integer"
        },
        {
         "name": "Dietary folate equivalents",
         "rawType": "int64",
         "type": "integer"
        },
        {
         "name": "Disaccharides, total",
         "rawType": "int64",
         "type": "integer"
        },
        {
         "name": "Dry matter",
         "rawType": "int64",
         "type": "integer"
        },
        {
         "name": "Edible portion",
         "rawType": "int64",
         "type": "integer"
        },
        {
         "name": "Energy, total metabolisable (kcal)",
         "rawType": "int64",
         "type": "integer"
        },
        {
         "name": "Energy, total metabolisable (kcal, including dietary fibre)",
         "rawType": "int64",
         "type": "integer"
        },
        {
         "name": "Energy, total metabolisable (kJ)",
         "rawType": "int64",
         "type": "integer"
        },
        {
         "name": "Energy, total metabolisable (kJ, including dietary fibre)",
         "rawType": "int64",
         "type": "integer"
        },
        {
         "name": "Ergocalciferol (Vitamin D2)",
         "rawType": "int64",
         "type": "integer"
        },
        {
         "name": "Fat, total",
         "rawType": "int64",
         "type": "integer"
        },
        {
         "name": "Fatty acid 18:3 omega-3",
         "rawType": "float64",
         "type": "float"
        },
        {
         "name": "Fatty acid 20:5 omega-3",
         "rawType": "int64",
         "type": "integer"
        },
        {
         "name": "Fatty acid 22:5 omega-3",
         "rawType": "int64",
         "type": "integer"
        },
        {
         "name": "Fatty acid 22:6 omega-3",
         "rawType": "int64",
         "type": "integer"
        },
        {
         "name": "Fatty acid cis,cis 18:2 omega-6",
         "rawType": "float64",
         "type": "float"
        },
        {
         "name": "Fatty acids, total",
         "rawType": "int64",
         "type": "integer"
        },
        {
         "name": "Fatty acids, total long chain polyunsaturated omega-3",
         "rawType": "int64",
         "type": "integer"
        },
        {
         "name": "Fatty acids, total monounsaturated",
         "rawType": "int64",
         "type": "integer"
        },
        {
         "name": "Fatty acids, total polyunsaturated",
         "rawType": "int64",
         "type": "integer"
        },
        {
         "name": "Fatty acids, total polyunsaturated omega-3",
         "rawType": "int64",
         "type": "integer"
        },
        {
         "name": "Fatty acids, total saturated",
         "rawType": "int64",
         "type": "integer"
        },
        {
         "name": "Fatty acids, total trans",
         "rawType": "int64",
         "type": "integer"
        },
        {
         "name": "Fibre, total dietary",
         "rawType": "float64",
         "type": "float"
        },
        {
         "name": "Fibre, water-insoluble",
         "rawType": "int64",
         "type": "integer"
        },
        {
         "name": "Fibre, water-soluble",
         "rawType": "int64",
         "type": "integer"
        },
        {
         "name": "Fluoride",
         "rawType": "int64",
         "type": "integer"
        },
        {
         "name": "Folate food, naturally occurring food folates",
         "rawType": "int64",
         "type": "integer"
        },
        {
         "name": "Folate, total",
         "rawType": "int64",
         "type": "integer"
        },
        {
         "name": "Folic acid, synthetic folic acid",
         "rawType": "int64",
         "type": "integer"
        },
        {
         "name": "Fructose",
         "rawType": "int64",
         "type": "integer"
        },
        {
         "name": "Gamma-tocopherol",
         "rawType": "int64",
         "type": "integer"
        },
        {
         "name": "Glucose",
         "rawType": "int64",
         "type": "integer"
        },
        {
         "name": "Glutamic acid",
         "rawType": "int64",
         "type": "integer"
        },
        {
         "name": "Glycine",
         "rawType": "int64",
         "type": "integer"
        },
        {
         "name": "Glycogen",
         "rawType": "int64",
         "type": "integer"
        },
        {
         "name": "Histidine",
         "rawType": "int64",
         "type": "integer"
        },
        {
         "name": "Hydroxyproline",
         "rawType": "int64",
         "type": "integer"
        },
        {
         "name": "Iodide",
         "rawType": "int64",
         "type": "integer"
        },
        {
         "name": "Iron",
         "rawType": "int64",
         "type": "integer"
        },
        {
         "name": "Isoleucine",
         "rawType": "int64",
         "type": "integer"
        },
        {
         "name": "Lactic acid (grams)",
         "rawType": "int64",
         "type": "integer"
        },
        {
         "name": "Lactose",
         "rawType": "int64",
         "type": "integer"
        },
        {
         "name": "Lead",
         "rawType": "int64",
         "type": "integer"
        },
        {
         "name": "Leucine",
         "rawType": "int64",
         "type": "integer"
        },
        {
         "name": "Lithium",
         "rawType": "int64",
         "type": "integer"
        },
        {
         "name": "Lutein",
         "rawType": "int64",
         "type": "integer"
        },
        {
         "name": "Lycopene",
         "rawType": "int64",
         "type": "integer"
        },
        {
         "name": "Lysine",
         "rawType": "int64",
         "type": "integer"
        },
        {
         "name": "Magnesium",
         "rawType": "float64",
         "type": "float"
        },
        {
         "name": "Malic acid (grams)",
         "rawType": "int64",
         "type": "integer"
        },
        {
         "name": "Maltose",
         "rawType": "int64",
         "type": "integer"
        },
        {
         "name": "Manganese",
         "rawType": "int64",
         "type": "integer"
        },
        {
         "name": "Mercury",
         "rawType": "int64",
         "type": "integer"
        },
        {
         "name": "Methionine",
         "rawType": "int64",
         "type": "integer"
        },
        {
         "name": "Molybdenum",
         "rawType": "int64",
         "type": "integer"
        },
        {
         "name": "Monosaccharides, total",
         "rawType": "int64",
         "type": "integer"
        },
        {
         "name": "Niacin equivalents from tryptophan",
         "rawType": "int64",
         "type": "integer"
        },
        {
         "name": "Niacin equivalents, total",
         "rawType": "int64",
         "type": "integer"
        },
        {
         "name": "Niacin, preformed",
         "rawType": "int64",
         "type": "integer"
        },
        {
         "name": "Nickel",
         "rawType": "int64",
         "type": "integer"
        },
        {
         "name": "Nitrogen, total",
         "rawType": "int64",
         "type": "integer"
        },
        {
         "name": "Nitrogen-to-protein conversion factor",
         "rawType": "int64",
         "type": "integer"
        },
        {
         "name": "Organic acids, total (grams)",
         "rawType": "int64",
         "type": "integer"
        },
        {
         "name": "Oxalic acid (grams)",
         "rawType": "int64",
         "type": "integer"
        },
        {
         "name": "Pantothenic acid",
         "rawType": "int64",
         "type": "integer"
        },
        {
         "name": "Phenylalanine",
         "rawType": "int64",
         "type": "integer"
        },
        {
         "name": "Phosphorus",
         "rawType": "int64",
         "type": "integer"
        },
        {
         "name": "Phytosterols, total",
         "rawType": "int64",
         "type": "integer"
        },
        {
         "name": "Polysaccharides, non-starch",
         "rawType": "int64",
         "type": "integer"
        },
        {
         "name": "Polysaccharides, non-starch, water-insoluble",
         "rawType": "int64",
         "type": "integer"
        },
        {
         "name": "Polysaccharides, non-starch, water-soluble",
         "rawType": "int64",
         "type": "integer"
        },
        {
         "name": "Potassium",
         "rawType": "int64",
         "type": "integer"
        },
        {
         "name": "Proline",
         "rawType": "int64",
         "type": "integer"
        },
        {
         "name": "Protein, total; calculated from total nitrogen",
         "rawType": "int64",
         "type": "integer"
        },
        {
         "name": "Proximates, total",
         "rawType": "int64",
         "type": "integer"
        },
        {
         "name": "Quinic acid (grams)",
         "rawType": "int64",
         "type": "integer"
        },
        {
         "name": "Retinol",
         "rawType": "int64",
         "type": "integer"
        },
        {
         "name": "Riboflavin",
         "rawType": "float64",
         "type": "float"
        },
        {
         "name": "Rubidium",
         "rawType": "int64",
         "type": "integer"
        },
        {
         "name": "Selenium",
         "rawType": "int64",
         "type": "integer"
        },
        {
         "name": "Serine",
         "rawType": "int64",
         "type": "integer"
        },
        {
         "name": "Silicon (acid soluble)",
         "rawType": "int64",
         "type": "integer"
        },
        {
         "name": "Sodium",
         "rawType": "int64",
         "type": "integer"
        },
        {
         "name": "Starch, total",
         "rawType": "int64",
         "type": "integer"
        },
        {
         "name": "Succinic acid (grams)",
         "rawType": "int64",
         "type": "integer"
        },
        {
         "name": "Sucrose",
         "rawType": "int64",
         "type": "integer"
        },
        {
         "name": "Sugar, added",
         "rawType": "int64",
         "type": "integer"
        },
        {
         "name": "Sugar, free",
         "rawType": "int64",
         "type": "integer"
        },
        {
         "name": "Sugars, total",
         "rawType": "int64",
         "type": "integer"
        },
        {
         "name": "Sulphur",
         "rawType": "int64",
         "type": "integer"
        },
        {
         "name": "Taurine",
         "rawType": "int64",
         "type": "integer"
        },
        {
         "name": "Thiamin",
         "rawType": "float64",
         "type": "float"
        },
        {
         "name": "Threonine",
         "rawType": "int64",
         "type": "integer"
        },
        {
         "name": "Tin",
         "rawType": "int64",
         "type": "integer"
        },
        {
         "name": "Total carbohydrate by difference",
         "rawType": "int64",
         "type": "integer"
        },
        {
         "name": "Total carbohydrates by summation",
         "rawType": "int64",
         "type": "integer"
        },
        {
         "name": "Total fat-to-total fatty acids conversion factor",
         "rawType": "int64",
         "type": "integer"
        },
        {
         "name": "Tryptophan",
         "rawType": "int64",
         "type": "integer"
        },
        {
         "name": "Tyrosine",
         "rawType": "int64",
         "type": "integer"
        },
        {
         "name": "Valine",
         "rawType": "int64",
         "type": "integer"
        },
        {
         "name": "Vanadium",
         "rawType": "int64",
         "type": "integer"
        },
        {
         "name": "Vitamin A, retinol activity equivalents",
         "rawType": "int64",
         "type": "integer"
        },
        {
         "name": "Vitamin A, retinol equivalents",
         "rawType": "int64",
         "type": "integer"
        },
        {
         "name": "Vitamin B12",
         "rawType": "float64",
         "type": "float"
        },
        {
         "name": "Vitamin B6",
         "rawType": "float64",
         "type": "float"
        },
        {
         "name": "Vitamin C",
         "rawType": "int64",
         "type": "integer"
        },
        {
         "name": "Vitamin D; calculated by summation",
         "rawType": "int64",
         "type": "integer"
        },
        {
         "name": "Vitamin E, alpha-tocopherol equivalents",
         "rawType": "float64",
         "type": "float"
        },
        {
         "name": "Vitamin K",
         "rawType": "int64",
         "type": "integer"
        },
        {
         "name": "Water",
         "rawType": "int64",
         "type": "integer"
        },
        {
         "name": "Zeaxanthin",
         "rawType": "int64",
         "type": "integer"
        },
        {
         "name": "Zinc",
         "rawType": "int64",
         "type": "integer"
        }
       ],
       "conversionMethod": "pd.DataFrame",
       "ref": "b0092702-dff2-4123-8612-1f8ee69f4406",
       "rows": [
        [
         "0",
         "0",
         "0",
         "0",
         "0",
         "0",
         "0",
         "0",
         "0",
         "0",
         "0",
         "27.5",
         "0",
         "0",
         "1000",
         "0",
         "0",
         "0",
         "30",
         "0",
         "1.45",
         "0",
         "0",
         "400",
         "0",
         "0",
         "0",
         "0",
         "0",
         "11150",
         "0",
         "0",
         "0",
         "1.05",
         "0",
         "0",
         "0",
         "10.5",
         "0",
         "0",
         "0",
         "0",
         "0",
         "0",
         "0",
         "27.5",
         "0",
         "0",
         "0",
         "0",
         "0",
         "0",
         "0",
         "0",
         "0",
         "0",
         "0",
         "0",
         "0",
         "0",
         "0",
         "13",
         "0",
         "0",
         "0",
         "0",
         "0",
         "0",
         "0",
         "0",
         "0",
         "362.5",
         "0",
         "0",
         "5250",
         "0",
         "0",
         "45",
         "0",
         "0",
         "15",
         "0",
         "0",
         "0",
         "0",
         "0",
         "0",
         "5",
         "0",
         "1000",
         "0",
         "0",
         "0",
         "0",
         "3300",
         "0",
         "55",
         "0",
         "0",
         "0",
         "1.2",
         "0",
         "65",
         "0",
         "0",
         "670",
         "0",
         "0",
         "0",
         "0",
         "0",
         "0",
         "0",
         "0",
         "1.15",
         "0",
         "0",
         "0",
         "0",
         "0",
         "0",
         "0",
         "0",
         "0",
         "0",
         "800",
         "2.4",
         "1.3",
         "45",
         "5",
         "8.5",
         "65",
         "0",
         "0",
         "11"
        ],
        [
         "1",
         "99999999999",
         "99999999999",
         "99999999999",
         "99999999999",
         "99999999999",
         "99999999999",
         "99999999999",
         "99999999999",
         "99999999999",
         "99999999999",
         "99999999999.0",
         "99999999999",
         "99999999999",
         "2500",
         "99999999999",
         "99999999999",
         "99999999999",
         "99999999999",
         "99999999999",
         "10.0",
         "99999999999",
         "99999999999",
         "1000",
         "99999999999",
         "99999999999",
         "99999999999",
         "99999999999",
         "99999999999",
         "11150",
         "99999999999",
         "99999999999",
         "99999999999",
         "99999999999.0",
         "99999999999",
         "99999999999",
         "99999999999",
         "99999999999.0",
         "99999999999",
         "3",
         "99999999999",
         "99999999999",
         "99999999999",
         "99999999999",
         "99999999999",
         "99999999999.0",
         "99999999999",
         "99999999999",
         "99999999999",
         "99999999999",
         "99999999999",
         "99999999999",
         "99999999999",
         "99999999999",
         "99999999999",
         "99999999999",
         "99999999999",
         "99999999999",
         "99999999999",
         "99999999999",
         "99999999999",
         "45",
         "99999999999",
         "99999999999",
         "99999999999",
         "99999999999",
         "99999999999",
         "99999999999",
         "99999999999",
         "99999999999",
         "99999999999",
         "99999999999.0",
         "99999999999",
         "99999999999",
         "99999999999",
         "99999999999",
         "99999999999",
         "2000",
         "99999999999",
         "99999999999",
         "35",
         "99999999999",
         "99999999999",
         "99999999999",
         "99999999999",
         "99999999999",
         "99999999999",
         "99999999999",
         "99999999999",
         "4000",
         "99999999999",
         "99999999999",
         "99999999999",
         "99999999999",
         "99999999999",
         "99999999999",
         "99999999999",
         "99999999999",
         "99999999999",
         "99999999999",
         "99999999999.0",
         "99999999999",
         "99999999999",
         "99999999999",
         "99999999999",
         "2000",
         "99999999999",
         "99999999999",
         "99999999999",
         "99999999999",
         "99999999999",
         "99999999999",
         "99999999999",
         "99999999999",
         "99999999999.0",
         "99999999999",
         "99999999999",
         "99999999999",
         "99999999999",
         "99999999999",
         "99999999999",
         "99999999999",
         "99999999999",
         "99999999999",
         "99999999999",
         "3000",
         "99999999999.0",
         "50.0",
         "1000",
         "80",
         "300.0",
         "99999999999",
         "99999999999",
         "99999999999",
         "40"
        ]
       ],
       "shape": {
        "columns": 134,
        "rows": 2
       }
      },
      "text/html": [
       "<div>\n",
       "<style scoped>\n",
       "    .dataframe tbody tr th:only-of-type {\n",
       "        vertical-align: middle;\n",
       "    }\n",
       "\n",
       "    .dataframe tbody tr th {\n",
       "        vertical-align: top;\n",
       "    }\n",
       "\n",
       "    .dataframe thead th {\n",
       "        text-align: right;\n",
       "    }\n",
       "</style>\n",
       "<table border=\"1\" class=\"dataframe\">\n",
       "  <thead>\n",
       "    <tr style=\"text-align: right;\">\n",
       "      <th></th>\n",
       "      <th>Alanine</th>\n",
       "      <th>Alpha-carotene</th>\n",
       "      <th>Alpha-tocopherol</th>\n",
       "      <th>Arginine</th>\n",
       "      <th>Asparagine</th>\n",
       "      <th>Available carbohydrate by difference</th>\n",
       "      <th>Beta-carotene</th>\n",
       "      <th>Beta-carotene equivalents</th>\n",
       "      <th>Beta-tocopherol</th>\n",
       "      <th>Beta-tocopherol + Gamma-tocopherol</th>\n",
       "      <th>...</th>\n",
       "      <th>Vitamin A, retinol equivalents</th>\n",
       "      <th>Vitamin B12</th>\n",
       "      <th>Vitamin B6</th>\n",
       "      <th>Vitamin C</th>\n",
       "      <th>Vitamin D; calculated by summation</th>\n",
       "      <th>Vitamin E, alpha-tocopherol equivalents</th>\n",
       "      <th>Vitamin K</th>\n",
       "      <th>Water</th>\n",
       "      <th>Zeaxanthin</th>\n",
       "      <th>Zinc</th>\n",
       "    </tr>\n",
       "  </thead>\n",
       "  <tbody>\n",
       "    <tr>\n",
       "      <th>0</th>\n",
       "      <td>0</td>\n",
       "      <td>0</td>\n",
       "      <td>0</td>\n",
       "      <td>0</td>\n",
       "      <td>0</td>\n",
       "      <td>0</td>\n",
       "      <td>0</td>\n",
       "      <td>0</td>\n",
       "      <td>0</td>\n",
       "      <td>0</td>\n",
       "      <td>...</td>\n",
       "      <td>800</td>\n",
       "      <td>2.400000e+00</td>\n",
       "      <td>1.3</td>\n",
       "      <td>45</td>\n",
       "      <td>5</td>\n",
       "      <td>8.5</td>\n",
       "      <td>65</td>\n",
       "      <td>0</td>\n",
       "      <td>0</td>\n",
       "      <td>11</td>\n",
       "    </tr>\n",
       "    <tr>\n",
       "      <th>1</th>\n",
       "      <td>99999999999</td>\n",
       "      <td>99999999999</td>\n",
       "      <td>99999999999</td>\n",
       "      <td>99999999999</td>\n",
       "      <td>99999999999</td>\n",
       "      <td>99999999999</td>\n",
       "      <td>99999999999</td>\n",
       "      <td>99999999999</td>\n",
       "      <td>99999999999</td>\n",
       "      <td>99999999999</td>\n",
       "      <td>...</td>\n",
       "      <td>3000</td>\n",
       "      <td>1.000000e+11</td>\n",
       "      <td>50.0</td>\n",
       "      <td>1000</td>\n",
       "      <td>80</td>\n",
       "      <td>300.0</td>\n",
       "      <td>99999999999</td>\n",
       "      <td>99999999999</td>\n",
       "      <td>99999999999</td>\n",
       "      <td>40</td>\n",
       "    </tr>\n",
       "  </tbody>\n",
       "</table>\n",
       "<p>2 rows × 134 columns</p>\n",
       "</div>"
      ],
      "text/plain": [
       "       Alanine  Alpha-carotene  Alpha-tocopherol     Arginine   Asparagine  \\\n",
       "0            0               0                 0            0            0   \n",
       "1  99999999999     99999999999       99999999999  99999999999  99999999999   \n",
       "\n",
       "   Available carbohydrate by difference  Beta-carotene  \\\n",
       "0                                     0              0   \n",
       "1                           99999999999    99999999999   \n",
       "\n",
       "   Beta-carotene equivalents  Beta-tocopherol  \\\n",
       "0                          0                0   \n",
       "1                99999999999      99999999999   \n",
       "\n",
       "   Beta-tocopherol + Gamma-tocopherol  ...  Vitamin A, retinol equivalents  \\\n",
       "0                                   0  ...                             800   \n",
       "1                         99999999999  ...                            3000   \n",
       "\n",
       "    Vitamin B12  Vitamin B6  Vitamin C  Vitamin D; calculated by summation  \\\n",
       "0  2.400000e+00         1.3         45                                   5   \n",
       "1  1.000000e+11        50.0       1000                                  80   \n",
       "\n",
       "   Vitamin E, alpha-tocopherol equivalents    Vitamin K        Water  \\\n",
       "0                                      8.5           65            0   \n",
       "1                                    300.0  99999999999  99999999999   \n",
       "\n",
       "    Zeaxanthin  Zinc  \n",
       "0            0    11  \n",
       "1  99999999999    40  \n",
       "\n",
       "[2 rows x 134 columns]"
      ]
     },
     "execution_count": 38,
     "metadata": {},
     "output_type": "execute_result"
    }
   ],
   "source": [
    "# Einlesen der Ernährungsrichtlinien\n",
    "\n",
    "reqs = pd.read_csv('https://raw.githubusercontent.com/febse/data/refs/heads/main/opt/NZPersonReq.csv')\n",
    "reqs.head()"
   ]
  },
  {
   "cell_type": "code",
   "execution_count": 39,
   "metadata": {},
   "outputs": [
    {
     "data": {
      "text/plain": [
       "Source                                          Animal\n",
       "Group                                             Beef\n",
       "SubGroup                                   Beef blade \n",
       "Cost                                          2.042333\n",
       "Amount                                             1.0\n",
       "                                              ...     \n",
       "Vitamin E, alpha-tocopherol equivalents           0.83\n",
       "Vitamin K                                          0.0\n",
       "Water                                            57.57\n",
       "Zeaxanthin                                         0.0\n",
       "Zinc                                              5.93\n",
       "Name: M1170, Length: 145, dtype: object"
      ]
     },
     "execution_count": 39,
     "metadata": {},
     "output_type": "execute_result"
    }
   ],
   "source": [
    "# Zugriff auf die Daten für ein bestimmtes Lebensmittel\n",
    "\n",
    "df.loc[\"M1170\"]"
   ]
  },
  {
   "cell_type": "code",
   "execution_count": 40,
   "metadata": {},
   "outputs": [
    {
     "name": "stdout",
     "output_type": "stream",
     "text": [
      "Set parameter LogToConsole to value 0\n",
      "Total Cost: 2.804167442632024\n"
     ]
    }
   ],
   "source": [
    "m = gp.Model(\"Diet\")\n",
    "m.Params.LogToConsole = 0\n",
    "\n",
    "# Entscheidungsvariablen (ID der Lebensmittel)\n",
    "\n",
    "x = m.addVars(df.index, name=\"x\")\n",
    "\n",
    "# Zielfunktion\n",
    "\n",
    "m.setObjective(x.prod(df['Cost'].to_dict()), GRB.MINIMIZE)\n",
    "\n",
    "# Einschränkungen\n",
    "\n",
    "for col in reqs.columns:\n",
    "    m.addConstr(x.prod(df[col].to_dict()) >= reqs.loc[0, col], col)\n",
    "    m.addConstr(x.prod(df[col].to_dict()) <= reqs.loc[1, col], col)\n",
    "\n",
    "m.optimize()\n",
    "\n",
    "print(f\"Total Cost: {m.objVal}\")"
   ]
  },
  {
   "cell_type": "code",
   "execution_count": 42,
   "metadata": {},
   "outputs": [
    {
     "data": {
      "application/vnd.microsoft.datawrangler.viewer.v0+json": {
       "columns": [
        {
         "name": "ID",
         "rawType": "object",
         "type": "string"
        },
        {
         "name": "Name",
         "rawType": "object",
         "type": "string"
        },
        {
         "name": "Group",
         "rawType": "object",
         "type": "string"
        },
        {
         "name": "Optimal",
         "rawType": "float64",
         "type": "float"
        },
        {
         "name": "Amount",
         "rawType": "float64",
         "type": "float"
        },
        {
         "name": "Cost",
         "rawType": "float64",
         "type": "float"
        }
       ],
       "conversionMethod": "pd.DataFrame",
       "ref": "88fe396f-4d26-4fb0-8ed8-cbc5f8985153",
       "rows": [
        [
         "T1026",
         "Mussel, green, meat, boiled",
         "Seafood",
         "0.14886015200354072",
         "1.0",
         "0.475"
        ],
        [
         "F1026",
         "Milk, cow, standard 3.3% fat, fluid, Christchurch, May, Meadow fresh",
         "Milk",
         "3.5008150847877215",
         "2.575",
         "0.173745955"
        ],
        [
         "X23",
         "Cabbage, leafy vegetable, red",
         "Vegetable",
         "0.44625405519471883",
         "0.6",
         "0.209083333"
        ],
        [
         "X1039",
         "Cabbage, leafy vegetable, raw, tat soi",
         "Vegetable",
         "1.3070760154152405",
         "0.6",
         "0.209083333"
        ],
        [
         "X1137",
         "Potato, root vegetable,  flesh & skin,  baked without oil, no added salt, floury potatoes, new (April)",
         "Vegetable",
         "0.36636851441755597",
         "1.35",
         "0.22325"
        ],
        [
         "X75",
         "Chickpea, seed vegetable, dried",
         "Legumes",
         "1.071477701716355",
         "1.35",
         "0.523571429"
        ],
        [
         "A21",
         "Bread, white, toasted",
         "Grain",
         "0.346834258287215",
         "0.26",
         "0.21875"
        ],
        [
         "E17",
         "Flour, wheat, white, standard, upper North Island",
         "Grain",
         "4.6724605873549825",
         "0.5",
         "0.135166667"
        ],
        [
         "J1035",
         "Oil, soya bean",
         "Fats and oils",
         "0.13782955698441918",
         "0.138",
         "0.360326087"
        ],
        [
         "J1028",
         "Margarine, original, Flora, fortified vitamin D",
         "Fats and oils",
         "0.11159918806006149",
         "0.1395",
         "0.454166667"
        ],
        [
         "J1006",
         "Margarine, polyunsaturated, 70% fat, reduced salt, composite, fortified",
         "Fats and oils",
         "0.03094983762936822",
         "0.1395",
         "0.454166667"
        ],
        [
         "Q9",
         "Coconut, desiccated",
         "Nuts",
         "0.023885096738248103",
         "0.3",
         "0.899090909"
        ],
        [
         "Q43",
         "Seed, sunflower, dry roasted, no salt added",
         "Seeds",
         "0.22181619569287403",
         "0.3",
         "1.228571429"
        ]
       ],
       "shape": {
        "columns": 5,
        "rows": 13
       }
      },
      "text/html": [
       "<div>\n",
       "<style scoped>\n",
       "    .dataframe tbody tr th:only-of-type {\n",
       "        vertical-align: middle;\n",
       "    }\n",
       "\n",
       "    .dataframe tbody tr th {\n",
       "        vertical-align: top;\n",
       "    }\n",
       "\n",
       "    .dataframe thead th {\n",
       "        text-align: right;\n",
       "    }\n",
       "</style>\n",
       "<table border=\"1\" class=\"dataframe\">\n",
       "  <thead>\n",
       "    <tr style=\"text-align: right;\">\n",
       "      <th></th>\n",
       "      <th>Name</th>\n",
       "      <th>Group</th>\n",
       "      <th>Optimal</th>\n",
       "      <th>Amount</th>\n",
       "      <th>Cost</th>\n",
       "    </tr>\n",
       "    <tr>\n",
       "      <th>ID</th>\n",
       "      <th></th>\n",
       "      <th></th>\n",
       "      <th></th>\n",
       "      <th></th>\n",
       "      <th></th>\n",
       "    </tr>\n",
       "  </thead>\n",
       "  <tbody>\n",
       "    <tr>\n",
       "      <th>T1026</th>\n",
       "      <td>Mussel, green, meat, boiled</td>\n",
       "      <td>Seafood</td>\n",
       "      <td>0.148860</td>\n",
       "      <td>1.0000</td>\n",
       "      <td>0.475000</td>\n",
       "    </tr>\n",
       "    <tr>\n",
       "      <th>F1026</th>\n",
       "      <td>Milk, cow, standard 3.3% fat, fluid, Christchu...</td>\n",
       "      <td>Milk</td>\n",
       "      <td>3.500815</td>\n",
       "      <td>2.5750</td>\n",
       "      <td>0.173746</td>\n",
       "    </tr>\n",
       "    <tr>\n",
       "      <th>X23</th>\n",
       "      <td>Cabbage, leafy vegetable, red</td>\n",
       "      <td>Vegetable</td>\n",
       "      <td>0.446254</td>\n",
       "      <td>0.6000</td>\n",
       "      <td>0.209083</td>\n",
       "    </tr>\n",
       "    <tr>\n",
       "      <th>X1039</th>\n",
       "      <td>Cabbage, leafy vegetable, raw, tat soi</td>\n",
       "      <td>Vegetable</td>\n",
       "      <td>1.307076</td>\n",
       "      <td>0.6000</td>\n",
       "      <td>0.209083</td>\n",
       "    </tr>\n",
       "    <tr>\n",
       "      <th>X1137</th>\n",
       "      <td>Potato, root vegetable,  flesh &amp; skin,  baked ...</td>\n",
       "      <td>Vegetable</td>\n",
       "      <td>0.366369</td>\n",
       "      <td>1.3500</td>\n",
       "      <td>0.223250</td>\n",
       "    </tr>\n",
       "    <tr>\n",
       "      <th>X75</th>\n",
       "      <td>Chickpea, seed vegetable, dried</td>\n",
       "      <td>Legumes</td>\n",
       "      <td>1.071478</td>\n",
       "      <td>1.3500</td>\n",
       "      <td>0.523571</td>\n",
       "    </tr>\n",
       "    <tr>\n",
       "      <th>A21</th>\n",
       "      <td>Bread, white, toasted</td>\n",
       "      <td>Grain</td>\n",
       "      <td>0.346834</td>\n",
       "      <td>0.2600</td>\n",
       "      <td>0.218750</td>\n",
       "    </tr>\n",
       "    <tr>\n",
       "      <th>E17</th>\n",
       "      <td>Flour, wheat, white, standard, upper North Island</td>\n",
       "      <td>Grain</td>\n",
       "      <td>4.672461</td>\n",
       "      <td>0.5000</td>\n",
       "      <td>0.135167</td>\n",
       "    </tr>\n",
       "    <tr>\n",
       "      <th>J1035</th>\n",
       "      <td>Oil, soya bean</td>\n",
       "      <td>Fats and oils</td>\n",
       "      <td>0.137830</td>\n",
       "      <td>0.1380</td>\n",
       "      <td>0.360326</td>\n",
       "    </tr>\n",
       "    <tr>\n",
       "      <th>J1028</th>\n",
       "      <td>Margarine, original, Flora, fortified vitamin D</td>\n",
       "      <td>Fats and oils</td>\n",
       "      <td>0.111599</td>\n",
       "      <td>0.1395</td>\n",
       "      <td>0.454167</td>\n",
       "    </tr>\n",
       "    <tr>\n",
       "      <th>J1006</th>\n",
       "      <td>Margarine, polyunsaturated, 70% fat, reduced s...</td>\n",
       "      <td>Fats and oils</td>\n",
       "      <td>0.030950</td>\n",
       "      <td>0.1395</td>\n",
       "      <td>0.454167</td>\n",
       "    </tr>\n",
       "    <tr>\n",
       "      <th>Q9</th>\n",
       "      <td>Coconut, desiccated</td>\n",
       "      <td>Nuts</td>\n",
       "      <td>0.023885</td>\n",
       "      <td>0.3000</td>\n",
       "      <td>0.899091</td>\n",
       "    </tr>\n",
       "    <tr>\n",
       "      <th>Q43</th>\n",
       "      <td>Seed, sunflower, dry roasted, no salt added</td>\n",
       "      <td>Seeds</td>\n",
       "      <td>0.221816</td>\n",
       "      <td>0.3000</td>\n",
       "      <td>1.228571</td>\n",
       "    </tr>\n",
       "  </tbody>\n",
       "</table>\n",
       "</div>"
      ],
      "text/plain": [
       "                                                    Name          Group  \\\n",
       "ID                                                                        \n",
       "T1026                        Mussel, green, meat, boiled        Seafood   \n",
       "F1026  Milk, cow, standard 3.3% fat, fluid, Christchu...           Milk   \n",
       "X23                        Cabbage, leafy vegetable, red      Vegetable   \n",
       "X1039             Cabbage, leafy vegetable, raw, tat soi      Vegetable   \n",
       "X1137  Potato, root vegetable,  flesh & skin,  baked ...      Vegetable   \n",
       "X75                      Chickpea, seed vegetable, dried        Legumes   \n",
       "A21                                Bread, white, toasted          Grain   \n",
       "E17    Flour, wheat, white, standard, upper North Island          Grain   \n",
       "J1035                                     Oil, soya bean  Fats and oils   \n",
       "J1028    Margarine, original, Flora, fortified vitamin D  Fats and oils   \n",
       "J1006  Margarine, polyunsaturated, 70% fat, reduced s...  Fats and oils   \n",
       "Q9                                   Coconut, desiccated           Nuts   \n",
       "Q43          Seed, sunflower, dry roasted, no salt added          Seeds   \n",
       "\n",
       "        Optimal  Amount      Cost  \n",
       "ID                                 \n",
       "T1026  0.148860  1.0000  0.475000  \n",
       "F1026  3.500815  2.5750  0.173746  \n",
       "X23    0.446254  0.6000  0.209083  \n",
       "X1039  1.307076  0.6000  0.209083  \n",
       "X1137  0.366369  1.3500  0.223250  \n",
       "X75    1.071478  1.3500  0.523571  \n",
       "A21    0.346834  0.2600  0.218750  \n",
       "E17    4.672461  0.5000  0.135167  \n",
       "J1035  0.137830  0.1380  0.360326  \n",
       "J1028  0.111599  0.1395  0.454167  \n",
       "J1006  0.030950  0.1395  0.454167  \n",
       "Q9     0.023885  0.3000  0.899091  \n",
       "Q43    0.221816  0.3000  1.228571  "
      ]
     },
     "execution_count": 42,
     "metadata": {},
     "output_type": "execute_result"
    }
   ],
   "source": [
    "# Hier speichern wir die Lösung in der Spalte \"Optimal\" des DataFrames mit den Lebensmittel-Daten\n",
    "\n",
    "df[\"Optimal\"] = [x[i].x for i in df.index]\n",
    "\n",
    "# Das Menü anzeigen\n",
    "# - Zuerst werden die Lebensmittel angezeigt, die in der optimalen Lösung enthalten sind\n",
    "# - Dann werden nur die Spalten \"Name\", \"Group\", \"Optimal\", \"Amount\" und \"Cost\" angezeigt\n",
    "\n",
    "df[df[\"Optimal\"] > 0][[\"Name\", \"Group\", \"Optimal\", \"Amount\", \"Cost\"]]"
   ]
  },
  {
   "cell_type": "code",
   "execution_count": 11,
   "metadata": {},
   "outputs": [
    {
     "data": {
      "text/plain": [
       "EnergyOptimal          11150.000000\n",
       "FatOptimal                58.491066\n",
       "ProteinOptimal            92.515608\n",
       "CarbohydrateOptimal      475.393903\n",
       "dtype: float64"
      ]
     },
     "execution_count": 11,
     "metadata": {},
     "output_type": "execute_result"
    }
   ],
   "source": [
    "# Analyse der Lösung\n",
    "\n",
    "df[\"EnergyOptimal\"] = df[\"Energy, total metabolisable (kJ)\"] * df[\"Optimal\"]\n",
    "\n",
    "# Die Fettmenge in der optimalen Lösung berechnen\n",
    "\n",
    "df[\"FatOptimal\"] = df[\"Fat, total\"] * df[\"Optimal\"]\n",
    "\n",
    "# Die Proteinmenge in der optimalen Lösung berechnen\n",
    "\n",
    "df[\"ProteinOptimal\"] = df[\"Protein, total; calculated from total nitrogen\"] * df[\"Optimal\"]\n",
    "\n",
    "# Die Kohlenhydratmenge in der optimalen Lösung berechnen\n",
    "\n",
    "df[\"CarbohydrateOptimal\"] = df[\"Total carbohydrates by summation\"] * df[\"Optimal\"]\n",
    "\n",
    "df.aggregate({\"EnergyOptimal\": \"sum\", \"FatOptimal\": \"sum\", \"ProteinOptimal\": \"sum\", \"CarbohydrateOptimal\": \"sum\"})"
   ]
  },
  {
   "cell_type": "code",
   "execution_count": 12,
   "metadata": {},
   "outputs": [
    {
     "data": {
      "text/html": [
       "<div>\n",
       "<style scoped>\n",
       "    .dataframe tbody tr th:only-of-type {\n",
       "        vertical-align: middle;\n",
       "    }\n",
       "\n",
       "    .dataframe tbody tr th {\n",
       "        vertical-align: top;\n",
       "    }\n",
       "\n",
       "    .dataframe thead th {\n",
       "        text-align: right;\n",
       "    }\n",
       "</style>\n",
       "<table border=\"1\" class=\"dataframe\">\n",
       "  <thead>\n",
       "    <tr style=\"text-align: right;\">\n",
       "      <th></th>\n",
       "      <th>Name</th>\n",
       "      <th>Sense</th>\n",
       "      <th>Slack</th>\n",
       "      <th>Shadow</th>\n",
       "      <th>Lower</th>\n",
       "      <th>Upper</th>\n",
       "    </tr>\n",
       "  </thead>\n",
       "  <tbody>\n",
       "    <tr>\n",
       "      <th>0</th>\n",
       "      <td>Biotin</td>\n",
       "      <td>&gt;</td>\n",
       "      <td>0.0</td>\n",
       "      <td>0.006518</td>\n",
       "      <td>25.646329</td>\n",
       "      <td>61.741632</td>\n",
       "    </tr>\n",
       "    <tr>\n",
       "      <th>1</th>\n",
       "      <td>Calcium</td>\n",
       "      <td>&gt;</td>\n",
       "      <td>0.0</td>\n",
       "      <td>0.000927</td>\n",
       "      <td>967.712384</td>\n",
       "      <td>1179.545899</td>\n",
       "    </tr>\n",
       "    <tr>\n",
       "      <th>2</th>\n",
       "      <td>Dietary folate equivalents</td>\n",
       "      <td>&lt;</td>\n",
       "      <td>0.0</td>\n",
       "      <td>-0.000277</td>\n",
       "      <td>789.784567</td>\n",
       "      <td>1060.486688</td>\n",
       "    </tr>\n",
       "    <tr>\n",
       "      <th>3</th>\n",
       "      <td>Energy, total metabolisable (kJ)</td>\n",
       "      <td>&gt;</td>\n",
       "      <td>0.0</td>\n",
       "      <td>0.000006</td>\n",
       "      <td>10102.074880</td>\n",
       "      <td>11150.000000</td>\n",
       "    </tr>\n",
       "    <tr>\n",
       "      <th>4</th>\n",
       "      <td>Fatty acid 18:3 omega-3</td>\n",
       "      <td>&gt;</td>\n",
       "      <td>0.0</td>\n",
       "      <td>0.026536</td>\n",
       "      <td>0.972971</td>\n",
       "      <td>1.362049</td>\n",
       "    </tr>\n",
       "    <tr>\n",
       "      <th>5</th>\n",
       "      <td>Fatty acid cis,cis 18:2 omega-6</td>\n",
       "      <td>&gt;</td>\n",
       "      <td>0.0</td>\n",
       "      <td>0.004134</td>\n",
       "      <td>7.506915</td>\n",
       "      <td>11.256698</td>\n",
       "    </tr>\n",
       "    <tr>\n",
       "      <th>6</th>\n",
       "      <td>Pantothenic acid</td>\n",
       "      <td>&gt;</td>\n",
       "      <td>0.0</td>\n",
       "      <td>0.109966</td>\n",
       "      <td>4.125095</td>\n",
       "      <td>5.216972</td>\n",
       "    </tr>\n",
       "    <tr>\n",
       "      <th>7</th>\n",
       "      <td>Potassium</td>\n",
       "      <td>&gt;</td>\n",
       "      <td>0.0</td>\n",
       "      <td>0.000258</td>\n",
       "      <td>3051.327614</td>\n",
       "      <td>3931.002695</td>\n",
       "    </tr>\n",
       "    <tr>\n",
       "      <th>8</th>\n",
       "      <td>Selenium</td>\n",
       "      <td>&gt;</td>\n",
       "      <td>0.0</td>\n",
       "      <td>0.004293</td>\n",
       "      <td>63.649627</td>\n",
       "      <td>72.645262</td>\n",
       "    </tr>\n",
       "    <tr>\n",
       "      <th>9</th>\n",
       "      <td>Sodium</td>\n",
       "      <td>&gt;</td>\n",
       "      <td>0.0</td>\n",
       "      <td>0.000071</td>\n",
       "      <td>380.892200</td>\n",
       "      <td>1611.752799</td>\n",
       "    </tr>\n",
       "    <tr>\n",
       "      <th>10</th>\n",
       "      <td>Vitamin B12</td>\n",
       "      <td>&gt;</td>\n",
       "      <td>0.0</td>\n",
       "      <td>0.000896</td>\n",
       "      <td>1.807678</td>\n",
       "      <td>2.512669</td>\n",
       "    </tr>\n",
       "    <tr>\n",
       "      <th>11</th>\n",
       "      <td>Vitamin C</td>\n",
       "      <td>&gt;</td>\n",
       "      <td>0.0</td>\n",
       "      <td>0.000879</td>\n",
       "      <td>21.228732</td>\n",
       "      <td>108.700819</td>\n",
       "    </tr>\n",
       "    <tr>\n",
       "      <th>12</th>\n",
       "      <td>Vitamin D; calculated by summation</td>\n",
       "      <td>&gt;</td>\n",
       "      <td>0.0</td>\n",
       "      <td>0.012653</td>\n",
       "      <td>3.793052</td>\n",
       "      <td>10.318384</td>\n",
       "    </tr>\n",
       "  </tbody>\n",
       "</table>\n",
       "</div>"
      ],
      "text/plain": [
       "                                  Name Sense  Slack    Shadow         Lower  \\\n",
       "0                               Biotin     >    0.0  0.006518     25.646329   \n",
       "1                              Calcium     >    0.0  0.000927    967.712384   \n",
       "2           Dietary folate equivalents     <    0.0 -0.000277    789.784567   \n",
       "3     Energy, total metabolisable (kJ)     >    0.0  0.000006  10102.074880   \n",
       "4              Fatty acid 18:3 omega-3     >    0.0  0.026536      0.972971   \n",
       "5      Fatty acid cis,cis 18:2 omega-6     >    0.0  0.004134      7.506915   \n",
       "6                     Pantothenic acid     >    0.0  0.109966      4.125095   \n",
       "7                            Potassium     >    0.0  0.000258   3051.327614   \n",
       "8                             Selenium     >    0.0  0.004293     63.649627   \n",
       "9                               Sodium     >    0.0  0.000071    380.892200   \n",
       "10                         Vitamin B12     >    0.0  0.000896      1.807678   \n",
       "11                           Vitamin C     >    0.0  0.000879     21.228732   \n",
       "12  Vitamin D; calculated by summation     >    0.0  0.012653      3.793052   \n",
       "\n",
       "           Upper  \n",
       "0      61.741632  \n",
       "1    1179.545899  \n",
       "2    1060.486688  \n",
       "3   11150.000000  \n",
       "4       1.362049  \n",
       "5      11.256698  \n",
       "6       5.216972  \n",
       "7    3931.002695  \n",
       "8      72.645262  \n",
       "9    1611.752799  \n",
       "10      2.512669  \n",
       "11    108.700819  \n",
       "12     10.318384  "
      ]
     },
     "execution_count": 12,
     "metadata": {},
     "output_type": "execute_result"
    }
   ],
   "source": [
    "# Die Einschränkungen anzeigen (nur die bindenden Einschränkungen)\n",
    "\n",
    "constr_df = pd.DataFrame(\n",
    "    [(c.ConstrName, c.Sense, c.Slack, c.Pi, c.SARHSLow, c.SARHSUp) for c in m.getConstrs() if c.pi != 0],\n",
    "    columns=[\"Name\", \"Sense\", \"Slack\", \"Shadow\", \"Lower\", \"Upper\"]\n",
    "    )\n",
    "constr_df"
   ]
  },
  {
   "cell_type": "markdown",
   "metadata": {},
   "source": [
    "### Das Diet Modell mit Matrixvariablen\n"
   ]
  },
  {
   "cell_type": "code",
   "execution_count": 47,
   "metadata": {},
   "outputs": [
    {
     "data": {
      "text/plain": [
       "Index(['Source', 'Group', 'SubGroup', 'Cost', 'Amount', 'Chapter', 'Name',\n",
       "       'Description', 'Alanine', 'Alpha-carotene',\n",
       "       ...\n",
       "       'Vitamin B12', 'Vitamin B6', 'Vitamin C',\n",
       "       'Vitamin D; calculated by summation',\n",
       "       'Vitamin E, alpha-tocopherol equivalents', 'Vitamin K', 'Water',\n",
       "       'Zeaxanthin', 'Zinc', 'Optimal'],\n",
       "      dtype='object', length=146)"
      ]
     },
     "execution_count": 47,
     "metadata": {},
     "output_type": "execute_result"
    }
   ],
   "source": [
    "df.columns"
   ]
  },
  {
   "cell_type": "code",
   "execution_count": 45,
   "metadata": {},
   "outputs": [
    {
     "data": {
      "application/vnd.microsoft.datawrangler.viewer.v0+json": {
       "columns": [
        {
         "name": "ID",
         "rawType": "object",
         "type": "string"
        },
        {
         "name": "Alanine",
         "rawType": "float64",
         "type": "float"
        },
        {
         "name": "Alpha-carotene",
         "rawType": "float64",
         "type": "float"
        },
        {
         "name": "Alpha-tocopherol",
         "rawType": "float64",
         "type": "float"
        },
        {
         "name": "Arginine",
         "rawType": "float64",
         "type": "float"
        },
        {
         "name": "Asparagine",
         "rawType": "float64",
         "type": "float"
        },
        {
         "name": "Available carbohydrate by difference",
         "rawType": "float64",
         "type": "float"
        },
        {
         "name": "Beta-carotene",
         "rawType": "float64",
         "type": "float"
        },
        {
         "name": "Beta-carotene equivalents",
         "rawType": "float64",
         "type": "float"
        },
        {
         "name": "Beta-tocopherol",
         "rawType": "float64",
         "type": "float"
        },
        {
         "name": "Beta-tocopherol + Gamma-tocopherol",
         "rawType": "int64",
         "type": "integer"
        },
        {
         "name": "Biotin",
         "rawType": "float64",
         "type": "float"
        },
        {
         "name": "Boron",
         "rawType": "float64",
         "type": "float"
        },
        {
         "name": "Cadmium",
         "rawType": "float64",
         "type": "float"
        },
        {
         "name": "Calcium",
         "rawType": "float64",
         "type": "float"
        },
        {
         "name": "Chloride",
         "rawType": "float64",
         "type": "float"
        },
        {
         "name": "Cholecalciferol (Vitamin D3)",
         "rawType": "float64",
         "type": "float"
        },
        {
         "name": "Cholesterol",
         "rawType": "float64",
         "type": "float"
        },
        {
         "name": "Chromium",
         "rawType": "float64",
         "type": "float"
        },
        {
         "name": "Cobalt",
         "rawType": "float64",
         "type": "float"
        },
        {
         "name": "Copper",
         "rawType": "float64",
         "type": "float"
        },
        {
         "name": "Cystine",
         "rawType": "float64",
         "type": "float"
        },
        {
         "name": "Delta-tocopherol",
         "rawType": "float64",
         "type": "float"
        },
        {
         "name": "Dietary folate equivalents",
         "rawType": "float64",
         "type": "float"
        },
        {
         "name": "Disaccharides, total",
         "rawType": "float64",
         "type": "float"
        },
        {
         "name": "Dry matter",
         "rawType": "float64",
         "type": "float"
        },
        {
         "name": "Edible portion",
         "rawType": "float64",
         "type": "float"
        },
        {
         "name": "Energy, total metabolisable (kcal)",
         "rawType": "float64",
         "type": "float"
        },
        {
         "name": "Energy, total metabolisable (kcal, including dietary fibre)",
         "rawType": "float64",
         "type": "float"
        },
        {
         "name": "Energy, total metabolisable (kJ)",
         "rawType": "float64",
         "type": "float"
        },
        {
         "name": "Energy, total metabolisable (kJ, including dietary fibre)",
         "rawType": "float64",
         "type": "float"
        },
        {
         "name": "Ergocalciferol (Vitamin D2)",
         "rawType": "float64",
         "type": "float"
        },
        {
         "name": "Fat, total",
         "rawType": "float64",
         "type": "float"
        },
        {
         "name": "Fatty acid 18:3 omega-3",
         "rawType": "float64",
         "type": "float"
        },
        {
         "name": "Fatty acid 20:5 omega-3",
         "rawType": "float64",
         "type": "float"
        },
        {
         "name": "Fatty acid 22:5 omega-3",
         "rawType": "float64",
         "type": "float"
        },
        {
         "name": "Fatty acid 22:6 omega-3",
         "rawType": "float64",
         "type": "float"
        },
        {
         "name": "Fatty acid cis,cis 18:2 omega-6",
         "rawType": "float64",
         "type": "float"
        },
        {
         "name": "Fatty acids, total",
         "rawType": "float64",
         "type": "float"
        },
        {
         "name": "Fatty acids, total long chain polyunsaturated omega-3",
         "rawType": "float64",
         "type": "float"
        },
        {
         "name": "Fatty acids, total monounsaturated",
         "rawType": "float64",
         "type": "float"
        },
        {
         "name": "Fatty acids, total polyunsaturated",
         "rawType": "float64",
         "type": "float"
        },
        {
         "name": "Fatty acids, total polyunsaturated omega-3",
         "rawType": "float64",
         "type": "float"
        },
        {
         "name": "Fatty acids, total saturated",
         "rawType": "float64",
         "type": "float"
        },
        {
         "name": "Fatty acids, total trans",
         "rawType": "float64",
         "type": "float"
        },
        {
         "name": "Fibre, total dietary",
         "rawType": "float64",
         "type": "float"
        },
        {
         "name": "Fibre, water-insoluble",
         "rawType": "float64",
         "type": "float"
        },
        {
         "name": "Fibre, water-soluble",
         "rawType": "float64",
         "type": "float"
        },
        {
         "name": "Fluoride",
         "rawType": "float64",
         "type": "float"
        },
        {
         "name": "Folate food, naturally occurring food folates",
         "rawType": "float64",
         "type": "float"
        },
        {
         "name": "Folate, total",
         "rawType": "float64",
         "type": "float"
        },
        {
         "name": "Folic acid, synthetic folic acid",
         "rawType": "float64",
         "type": "float"
        },
        {
         "name": "Fructose",
         "rawType": "float64",
         "type": "float"
        },
        {
         "name": "Gamma-tocopherol",
         "rawType": "float64",
         "type": "float"
        },
        {
         "name": "Glucose",
         "rawType": "float64",
         "type": "float"
        },
        {
         "name": "Glutamic acid",
         "rawType": "float64",
         "type": "float"
        },
        {
         "name": "Glycine",
         "rawType": "float64",
         "type": "float"
        },
        {
         "name": "Glycogen",
         "rawType": "float64",
         "type": "float"
        },
        {
         "name": "Histidine",
         "rawType": "float64",
         "type": "float"
        },
        {
         "name": "Hydroxyproline",
         "rawType": "int64",
         "type": "integer"
        },
        {
         "name": "Iodide",
         "rawType": "float64",
         "type": "float"
        },
        {
         "name": "Iron",
         "rawType": "float64",
         "type": "float"
        },
        {
         "name": "Isoleucine",
         "rawType": "float64",
         "type": "float"
        },
        {
         "name": "Lactic acid (grams)",
         "rawType": "int64",
         "type": "integer"
        },
        {
         "name": "Lactose",
         "rawType": "float64",
         "type": "float"
        },
        {
         "name": "Lead",
         "rawType": "float64",
         "type": "float"
        },
        {
         "name": "Leucine",
         "rawType": "float64",
         "type": "float"
        },
        {
         "name": "Lithium",
         "rawType": "float64",
         "type": "float"
        },
        {
         "name": "Lutein",
         "rawType": "float64",
         "type": "float"
        },
        {
         "name": "Lycopene",
         "rawType": "float64",
         "type": "float"
        },
        {
         "name": "Lysine",
         "rawType": "float64",
         "type": "float"
        },
        {
         "name": "Magnesium",
         "rawType": "float64",
         "type": "float"
        },
        {
         "name": "Malic acid (grams)",
         "rawType": "float64",
         "type": "float"
        },
        {
         "name": "Maltose",
         "rawType": "float64",
         "type": "float"
        },
        {
         "name": "Manganese",
         "rawType": "float64",
         "type": "float"
        },
        {
         "name": "Mercury",
         "rawType": "float64",
         "type": "float"
        },
        {
         "name": "Methionine",
         "rawType": "float64",
         "type": "float"
        },
        {
         "name": "Molybdenum",
         "rawType": "float64",
         "type": "float"
        },
        {
         "name": "Monosaccharides, total",
         "rawType": "float64",
         "type": "float"
        },
        {
         "name": "Niacin equivalents from tryptophan",
         "rawType": "float64",
         "type": "float"
        },
        {
         "name": "Niacin equivalents, total",
         "rawType": "float64",
         "type": "float"
        },
        {
         "name": "Niacin, preformed",
         "rawType": "float64",
         "type": "float"
        },
        {
         "name": "Nickel",
         "rawType": "float64",
         "type": "float"
        },
        {
         "name": "Nitrogen, total",
         "rawType": "float64",
         "type": "float"
        },
        {
         "name": "Nitrogen-to-protein conversion factor",
         "rawType": "float64",
         "type": "float"
        },
        {
         "name": "Organic acids, total (grams)",
         "rawType": "float64",
         "type": "float"
        },
        {
         "name": "Oxalic acid (grams)",
         "rawType": "float64",
         "type": "float"
        },
        {
         "name": "Pantothenic acid",
         "rawType": "float64",
         "type": "float"
        },
        {
         "name": "Phenylalanine",
         "rawType": "float64",
         "type": "float"
        },
        {
         "name": "Phosphorus",
         "rawType": "float64",
         "type": "float"
        },
        {
         "name": "Phytosterols, total",
         "rawType": "float64",
         "type": "float"
        },
        {
         "name": "Polysaccharides, non-starch",
         "rawType": "float64",
         "type": "float"
        },
        {
         "name": "Polysaccharides, non-starch, water-insoluble",
         "rawType": "float64",
         "type": "float"
        },
        {
         "name": "Polysaccharides, non-starch, water-soluble",
         "rawType": "float64",
         "type": "float"
        },
        {
         "name": "Potassium",
         "rawType": "float64",
         "type": "float"
        },
        {
         "name": "Proline",
         "rawType": "float64",
         "type": "float"
        },
        {
         "name": "Protein, total; calculated from total nitrogen",
         "rawType": "float64",
         "type": "float"
        },
        {
         "name": "Proximates, total",
         "rawType": "float64",
         "type": "float"
        },
        {
         "name": "Quinic acid (grams)",
         "rawType": "float64",
         "type": "float"
        },
        {
         "name": "Retinol",
         "rawType": "float64",
         "type": "float"
        },
        {
         "name": "Riboflavin",
         "rawType": "float64",
         "type": "float"
        },
        {
         "name": "Rubidium",
         "rawType": "float64",
         "type": "float"
        },
        {
         "name": "Selenium",
         "rawType": "float64",
         "type": "float"
        },
        {
         "name": "Serine",
         "rawType": "float64",
         "type": "float"
        },
        {
         "name": "Silicon (acid soluble)",
         "rawType": "float64",
         "type": "float"
        },
        {
         "name": "Sodium",
         "rawType": "float64",
         "type": "float"
        },
        {
         "name": "Starch, total",
         "rawType": "float64",
         "type": "float"
        },
        {
         "name": "Succinic acid (grams)",
         "rawType": "int64",
         "type": "integer"
        },
        {
         "name": "Sucrose",
         "rawType": "float64",
         "type": "float"
        },
        {
         "name": "Sugar, added",
         "rawType": "float64",
         "type": "float"
        },
        {
         "name": "Sugar, free",
         "rawType": "float64",
         "type": "float"
        },
        {
         "name": "Sugars, total",
         "rawType": "float64",
         "type": "float"
        },
        {
         "name": "Sulphur",
         "rawType": "float64",
         "type": "float"
        },
        {
         "name": "Taurine",
         "rawType": "float64",
         "type": "float"
        },
        {
         "name": "Thiamin",
         "rawType": "float64",
         "type": "float"
        },
        {
         "name": "Threonine",
         "rawType": "float64",
         "type": "float"
        },
        {
         "name": "Tin",
         "rawType": "float64",
         "type": "float"
        },
        {
         "name": "Total carbohydrate by difference",
         "rawType": "float64",
         "type": "float"
        },
        {
         "name": "Total carbohydrates by summation",
         "rawType": "float64",
         "type": "float"
        },
        {
         "name": "Total fat-to-total fatty acids conversion factor",
         "rawType": "float64",
         "type": "float"
        },
        {
         "name": "Tryptophan",
         "rawType": "float64",
         "type": "float"
        },
        {
         "name": "Tyrosine",
         "rawType": "float64",
         "type": "float"
        },
        {
         "name": "Valine",
         "rawType": "float64",
         "type": "float"
        },
        {
         "name": "Vanadium",
         "rawType": "float64",
         "type": "float"
        },
        {
         "name": "Vitamin A, retinol activity equivalents",
         "rawType": "float64",
         "type": "float"
        },
        {
         "name": "Vitamin A, retinol equivalents",
         "rawType": "float64",
         "type": "float"
        },
        {
         "name": "Vitamin B12",
         "rawType": "float64",
         "type": "float"
        },
        {
         "name": "Vitamin B6",
         "rawType": "float64",
         "type": "float"
        },
        {
         "name": "Vitamin C",
         "rawType": "float64",
         "type": "float"
        },
        {
         "name": "Vitamin D; calculated by summation",
         "rawType": "float64",
         "type": "float"
        },
        {
         "name": "Vitamin E, alpha-tocopherol equivalents",
         "rawType": "float64",
         "type": "float"
        },
        {
         "name": "Vitamin K",
         "rawType": "float64",
         "type": "float"
        },
        {
         "name": "Water",
         "rawType": "float64",
         "type": "float"
        },
        {
         "name": "Zeaxanthin",
         "rawType": "float64",
         "type": "float"
        },
        {
         "name": "Zinc",
         "rawType": "float64",
         "type": "float"
        }
       ],
       "conversionMethod": "pd.DataFrame",
       "ref": "0f5907de-736b-4479-bc81-f226a1a7be84",
       "rows": [
        [
         "M1170",
         "1505.04",
         "0.0",
         "0.83",
         "1902.6",
         "2300.16",
         "0.0",
         "0.0",
         "0.0",
         "0.0",
         "0",
         "0.0",
         "0.0",
         "0.0",
         "6.54",
         "0.0",
         "0.23",
         "90.89",
         "0.0",
         "0.0",
         "0.12",
         "340.76",
         "0.0",
         "5.38",
         "0.0",
         "42.43",
         "94.1",
         "228.08",
         "228.08",
         "954.89",
         "954.89",
         "0.0",
         "11.57",
         "0.093",
         "0.026",
         "0.04",
         "0.005",
         "0.137",
         "8.554",
         "0.073",
         "3.895",
         "0.433",
         "0.166",
         "4.227",
         "0.327",
         "0.0",
         "0.0",
         "0.0",
         "0.0",
         "5.38",
         "5.38",
         "0.0",
         "0.0",
         "0.0",
         "0.0",
         "4046.58",
         "1718.02",
         "0.0",
         "837.71",
         "0",
         "0.91",
         "2.55",
         "1135.88",
         "0",
         "0.0",
         "0.0",
         "2129.78",
         "0.0",
         "0.0",
         "0.0",
         "2214.97",
         "18.37",
         "0.0",
         "0.0",
         "11.31",
         "0.0",
         "866.11",
         "0.0",
         "0.0",
         "4.83",
         "6.94",
         "2.12",
         "0.0",
         "4.96",
         "6.25",
         "0.0",
         "0.0",
         "0.38",
         "1107.49",
         "156.14",
         "0.0",
         "0.0",
         "0.0",
         "0.0",
         "175.05",
         "1050.69",
         "31.0",
         "101.2",
         "0.0",
         "15.95",
         "0.13",
         "0.0",
         "2.2",
         "993.9",
         "0.0",
         "32.07",
         "0.0",
         "0",
         "0.0",
         "0.0",
         "0.0",
         "0.0",
         "0.0",
         "85.19",
         "0.04",
         "1008.1",
         "0.0",
         "0.0",
         "0.0",
         "0.0",
         "283.97",
         "951.3",
         "1206.88",
         "0.0",
         "15.95",
         "15.95",
         "1.53",
         "0.18",
         "0.0",
         "0.23",
         "0.83",
         "0.0",
         "57.57",
         "0.0",
         "5.93"
        ],
        [
         "M1154",
         "1036.61",
         "0.0",
         "0.45",
         "1310.53",
         "1586.28",
         "0.0",
         "0.0",
         "0.0",
         "0.0",
         "0",
         "0.0",
         "0.0",
         "0.0",
         "4.34",
         "0.0",
         "0.14",
         "56.6",
         "0.0",
         "0.0",
         "0.14",
         "235.86",
         "0.0",
         "5.36",
         "0.0",
         "29.74",
         "97.9",
         "158.76",
         "158.76",
         "664.53",
         "664.53",
         "0.0",
         "8.17",
         "0.07",
         "0.019",
         "0.03",
         "0.003",
         "0.096",
         "6.215",
         "0.054",
         "2.869",
         "0.318",
         "0.123",
         "3.028",
         "0.239",
         "0.0",
         "0.0",
         "0.0",
         "0.0",
         "5.36",
         "5.36",
         "0.0",
         "0.0",
         "0.0",
         "0.0",
         "2787.41",
         "1179.6",
         "0.0",
         "582.12",
         "0",
         "0.88",
         "1.97",
         "784.04",
         "0",
         "0.0",
         "0.0",
         "1468.44",
         "0.0",
         "0.0",
         "0.0",
         "1527.03",
         "21.52",
         "0.0",
         "0.0",
         "12.73",
         "0.0",
         "600.49",
         "0.0",
         "0.0",
         "3.33",
         "6.34",
         "3.01",
         "0.0",
         "3.41",
         "6.25",
         "0.0",
         "0.0",
         "0.52",
         "763.18",
         "182.9",
         "0.0",
         "0.0",
         "0.0",
         "0.0",
         "312.89",
         "720.64",
         "21.3",
         "100.67",
         "0.0",
         "8.88",
         "0.1",
         "0.0",
         "1.06",
         "684.89",
         "0.0",
         "53.67",
         "0.0",
         "0",
         "0.0",
         "0.0",
         "0.0",
         "0.0",
         "0.0",
         "56.99",
         "0.05",
         "695.49",
         "0.0",
         "0.0",
         "0.0",
         "0.0",
         "195.97",
         "655.93",
         "833.03",
         "0.0",
         "8.88",
         "8.88",
         "1.71",
         "0.32",
         "0.0",
         "0.14",
         "0.45",
         "0.0",
         "70.26",
         "0.0",
         "3.46"
        ],
        [
         "M1069",
         "1627.87",
         "0.0",
         "0.76",
         "2057.87",
         "2487.87",
         "0.0",
         "0.0",
         "0.0",
         "0.0",
         "0",
         "0.0",
         "0.0",
         "0.0",
         "5.5",
         "0.0",
         "0.21",
         "91.3",
         "0.0",
         "0.0",
         "0.13",
         "368.57",
         "0.0",
         "5.97",
         "0.0",
         "39.54",
         "86.0",
         "193.2",
         "193.2",
         "812.89",
         "812.89",
         "0.0",
         "6.57",
         "0.06",
         "0.028",
         "0.037",
         "0.006",
         "0.11",
         "4.605",
         "0.073",
         "2.366",
         "0.341",
         "0.134",
         "1.898",
         "0.095",
         "0.0",
         "0.0",
         "0.0",
         "0.0",
         "5.97",
         "5.97",
         "0.0",
         "0.0",
         "0.0",
         "0.0",
         "4376.81",
         "1858.22",
         "0.0",
         "906.08",
         "0",
         "0.88",
         "2.7",
         "1228.58",
         "0",
         "0.0",
         "0.0",
         "2303.58",
         "0.0",
         "0.0",
         "0.0",
         "2395.73",
         "19.37",
         "0.0",
         "0.0",
         "11.96",
         "0.0",
         "936.79",
         "0.0",
         "0.0",
         "5.22",
         "7.45",
         "2.23",
         "0.0",
         "5.36",
         "6.25",
         "0.0",
         "0.0",
         "0.4",
         "1197.86",
         "164.99",
         "0.0",
         "0.0",
         "0.0",
         "0.0",
         "180.54",
         "1136.44",
         "33.53",
         "101.7",
         "0.0",
         "13.49",
         "0.14",
         "0.0",
         "2.0",
         "1075.01",
         "0.0",
         "32.84",
         "0.0",
         "0",
         "0.0",
         "0.0",
         "0.0",
         "0.0",
         "0.0",
         "92.14",
         "0.04",
         "1090.36",
         "0.0",
         "0.0",
         "0.0",
         "0.0",
         "307.14",
         "1028.93",
         "1305.36",
         "0.0",
         "13.49",
         "13.49",
         "1.65",
         "0.19",
         "0.0",
         "0.21",
         "0.76",
         "0.0",
         "60.46",
         "0.0",
         "6.38"
        ],
        [
         "M1044",
         "1072.58",
         "0.0",
         "0.4",
         "1355.9",
         "1639.22",
         "0.0",
         "0.0",
         "0.0",
         "0.0",
         "0",
         "0.0",
         "0.0",
         "0.0",
         "3.55",
         "0.0",
         "0.13",
         "55.5",
         "0.0",
         "0.0",
         "0.15",
         "242.85",
         "0.0",
         "5.68",
         "0.0",
         "26.89",
         "92.4",
         "128.77",
         "128.77",
         "541.66",
         "541.66",
         "0.0",
         "4.49",
         "0.044",
         "0.02",
         "0.029",
         "0.003",
         "0.077",
         "3.284",
         "0.055",
         "1.68",
         "0.242",
         "0.099",
         "1.361",
         "0.066",
         "0.0",
         "0.0",
         "0.0",
         "0.0",
         "5.68",
         "5.68",
         "0.0",
         "0.0",
         "0.0",
         "0.0",
         "2883.82",
         "1224.36",
         "0.0",
         "597.0",
         "0",
         "0.77",
         "2.06",
         "809.49",
         "0",
         "0.0",
         "0.0",
         "1517.8",
         "0.0",
         "0.0",
         "0.0",
         "1578.51",
         "22.49",
         "0.0",
         "0.0",
         "13.39",
         "0.0",
         "617.24",
         "0.0",
         "0.0",
         "3.44",
         "6.58",
         "3.14",
         "0.0",
         "3.53",
         "6.25",
         "0.0",
         "0.0",
         "0.55",
         "789.26",
         "190.45",
         "0.0",
         "0.0",
         "0.0",
         "0.0",
         "325.16",
         "748.78",
         "22.09",
         "100.68",
         "0.0",
         "6.25",
         "0.11",
         "0.0",
         "1.0",
         "708.31",
         "0.0",
         "55.2",
         "0.0",
         "0",
         "0.0",
         "0.0",
         "0.0",
         "0.0",
         "0.0",
         "60.71",
         "0.05",
         "718.43",
         "0.0",
         "0.0",
         "0.0",
         "0.0",
         "202.37",
         "677.95",
         "860.09",
         "0.0",
         "6.25",
         "6.25",
         "1.8",
         "0.33",
         "0.0",
         "0.13",
         "0.4",
         "0.0",
         "73.11",
         "0.0",
         "3.63"
        ],
        [
         "M1171",
         "870.8",
         "0.0",
         "1.11",
         "1100.82",
         "1330.84",
         "1.09",
         "0.0",
         "0.0",
         "0.0",
         "0",
         "0.0",
         "0.0",
         "0.0",
         "11.66",
         "0.0",
         "0.31",
         "83.1",
         "0.0",
         "0.0",
         "0.05",
         "197.16",
         "0.0",
         "3.04",
         "0.0",
         "57.72",
         "100.0",
         "414.7",
         "414.7",
         "1714.85",
         "1714.85",
         "0.0",
         "38.11",
         "0.254",
         "0.007",
         "0.054",
         "0.0",
         "0.279",
         "29.874",
         "0.061",
         "12.774",
         "0.914",
         "0.315",
         "16.186",
         "1.502",
         "0.0",
         "0.0",
         "0.0",
         "0.0",
         "3.04",
         "3.04",
         "0.0",
         "0.0",
         "0.0",
         "0.0",
         "2341.3",
         "994.03",
         "0.0",
         "484.69",
         "0",
         "1.55",
         "1.49",
         "657.21",
         "0",
         "0.0",
         "0.0",
         "1232.26",
         "0.0",
         "0.0",
         "0.0",
         "1281.55",
         "11.7",
         "0.0",
         "0.0",
         "2.89",
         "0.0",
         "501.12",
         "0.0",
         "0.0",
         "2.79",
         "4.51",
         "1.72",
         "0.0",
         "2.87",
         "6.25",
         "0.0",
         "0.0",
         "0.11",
         "640.78",
         "92.7",
         "0.0",
         "0.0",
         "0.0",
         "0.0",
         "132.95",
         "607.92",
         "17.93",
         "98.91",
         "0.0",
         "27.91",
         "0.07",
         "0.0",
         "3.85",
         "575.06",
         "0.0",
         "31.8",
         "0.0",
         "0",
         "0.0",
         "0.0",
         "0.0",
         "0.0",
         "0.0",
         "49.29",
         "0.03",
         "583.27",
         "0.0",
         "1.09",
         "0.0",
         "0.0",
         "164.3",
         "550.41",
         "698.28",
         "0.0",
         "27.91",
         "27.91",
         "0.84",
         "0.09",
         "0.0",
         "0.31",
         "1.11",
         "0.0",
         "42.28",
         "0.0",
         "3.7"
        ]
       ],
       "shape": {
        "columns": 134,
        "rows": 5
       }
      },
      "text/html": [
       "<div>\n",
       "<style scoped>\n",
       "    .dataframe tbody tr th:only-of-type {\n",
       "        vertical-align: middle;\n",
       "    }\n",
       "\n",
       "    .dataframe tbody tr th {\n",
       "        vertical-align: top;\n",
       "    }\n",
       "\n",
       "    .dataframe thead th {\n",
       "        text-align: right;\n",
       "    }\n",
       "</style>\n",
       "<table border=\"1\" class=\"dataframe\">\n",
       "  <thead>\n",
       "    <tr style=\"text-align: right;\">\n",
       "      <th></th>\n",
       "      <th>Alanine</th>\n",
       "      <th>Alpha-carotene</th>\n",
       "      <th>Alpha-tocopherol</th>\n",
       "      <th>Arginine</th>\n",
       "      <th>Asparagine</th>\n",
       "      <th>Available carbohydrate by difference</th>\n",
       "      <th>Beta-carotene</th>\n",
       "      <th>Beta-carotene equivalents</th>\n",
       "      <th>Beta-tocopherol</th>\n",
       "      <th>Beta-tocopherol + Gamma-tocopherol</th>\n",
       "      <th>...</th>\n",
       "      <th>Vitamin A, retinol equivalents</th>\n",
       "      <th>Vitamin B12</th>\n",
       "      <th>Vitamin B6</th>\n",
       "      <th>Vitamin C</th>\n",
       "      <th>Vitamin D; calculated by summation</th>\n",
       "      <th>Vitamin E, alpha-tocopherol equivalents</th>\n",
       "      <th>Vitamin K</th>\n",
       "      <th>Water</th>\n",
       "      <th>Zeaxanthin</th>\n",
       "      <th>Zinc</th>\n",
       "    </tr>\n",
       "    <tr>\n",
       "      <th>ID</th>\n",
       "      <th></th>\n",
       "      <th></th>\n",
       "      <th></th>\n",
       "      <th></th>\n",
       "      <th></th>\n",
       "      <th></th>\n",
       "      <th></th>\n",
       "      <th></th>\n",
       "      <th></th>\n",
       "      <th></th>\n",
       "      <th></th>\n",
       "      <th></th>\n",
       "      <th></th>\n",
       "      <th></th>\n",
       "      <th></th>\n",
       "      <th></th>\n",
       "      <th></th>\n",
       "      <th></th>\n",
       "      <th></th>\n",
       "      <th></th>\n",
       "      <th></th>\n",
       "    </tr>\n",
       "  </thead>\n",
       "  <tbody>\n",
       "    <tr>\n",
       "      <th>M1170</th>\n",
       "      <td>1505.04</td>\n",
       "      <td>0.0</td>\n",
       "      <td>0.83</td>\n",
       "      <td>1902.60</td>\n",
       "      <td>2300.16</td>\n",
       "      <td>0.00</td>\n",
       "      <td>0.0</td>\n",
       "      <td>0.0</td>\n",
       "      <td>0.0</td>\n",
       "      <td>0</td>\n",
       "      <td>...</td>\n",
       "      <td>15.95</td>\n",
       "      <td>1.53</td>\n",
       "      <td>0.18</td>\n",
       "      <td>0.0</td>\n",
       "      <td>0.23</td>\n",
       "      <td>0.83</td>\n",
       "      <td>0.0</td>\n",
       "      <td>57.57</td>\n",
       "      <td>0.0</td>\n",
       "      <td>5.93</td>\n",
       "    </tr>\n",
       "    <tr>\n",
       "      <th>M1154</th>\n",
       "      <td>1036.61</td>\n",
       "      <td>0.0</td>\n",
       "      <td>0.45</td>\n",
       "      <td>1310.53</td>\n",
       "      <td>1586.28</td>\n",
       "      <td>0.00</td>\n",
       "      <td>0.0</td>\n",
       "      <td>0.0</td>\n",
       "      <td>0.0</td>\n",
       "      <td>0</td>\n",
       "      <td>...</td>\n",
       "      <td>8.88</td>\n",
       "      <td>1.71</td>\n",
       "      <td>0.32</td>\n",
       "      <td>0.0</td>\n",
       "      <td>0.14</td>\n",
       "      <td>0.45</td>\n",
       "      <td>0.0</td>\n",
       "      <td>70.26</td>\n",
       "      <td>0.0</td>\n",
       "      <td>3.46</td>\n",
       "    </tr>\n",
       "    <tr>\n",
       "      <th>M1069</th>\n",
       "      <td>1627.87</td>\n",
       "      <td>0.0</td>\n",
       "      <td>0.76</td>\n",
       "      <td>2057.87</td>\n",
       "      <td>2487.87</td>\n",
       "      <td>0.00</td>\n",
       "      <td>0.0</td>\n",
       "      <td>0.0</td>\n",
       "      <td>0.0</td>\n",
       "      <td>0</td>\n",
       "      <td>...</td>\n",
       "      <td>13.49</td>\n",
       "      <td>1.65</td>\n",
       "      <td>0.19</td>\n",
       "      <td>0.0</td>\n",
       "      <td>0.21</td>\n",
       "      <td>0.76</td>\n",
       "      <td>0.0</td>\n",
       "      <td>60.46</td>\n",
       "      <td>0.0</td>\n",
       "      <td>6.38</td>\n",
       "    </tr>\n",
       "    <tr>\n",
       "      <th>M1044</th>\n",
       "      <td>1072.58</td>\n",
       "      <td>0.0</td>\n",
       "      <td>0.40</td>\n",
       "      <td>1355.90</td>\n",
       "      <td>1639.22</td>\n",
       "      <td>0.00</td>\n",
       "      <td>0.0</td>\n",
       "      <td>0.0</td>\n",
       "      <td>0.0</td>\n",
       "      <td>0</td>\n",
       "      <td>...</td>\n",
       "      <td>6.25</td>\n",
       "      <td>1.80</td>\n",
       "      <td>0.33</td>\n",
       "      <td>0.0</td>\n",
       "      <td>0.13</td>\n",
       "      <td>0.40</td>\n",
       "      <td>0.0</td>\n",
       "      <td>73.11</td>\n",
       "      <td>0.0</td>\n",
       "      <td>3.63</td>\n",
       "    </tr>\n",
       "    <tr>\n",
       "      <th>M1171</th>\n",
       "      <td>870.80</td>\n",
       "      <td>0.0</td>\n",
       "      <td>1.11</td>\n",
       "      <td>1100.82</td>\n",
       "      <td>1330.84</td>\n",
       "      <td>1.09</td>\n",
       "      <td>0.0</td>\n",
       "      <td>0.0</td>\n",
       "      <td>0.0</td>\n",
       "      <td>0</td>\n",
       "      <td>...</td>\n",
       "      <td>27.91</td>\n",
       "      <td>0.84</td>\n",
       "      <td>0.09</td>\n",
       "      <td>0.0</td>\n",
       "      <td>0.31</td>\n",
       "      <td>1.11</td>\n",
       "      <td>0.0</td>\n",
       "      <td>42.28</td>\n",
       "      <td>0.0</td>\n",
       "      <td>3.70</td>\n",
       "    </tr>\n",
       "  </tbody>\n",
       "</table>\n",
       "<p>5 rows × 134 columns</p>\n",
       "</div>"
      ],
      "text/plain": [
       "       Alanine  Alpha-carotene  Alpha-tocopherol  Arginine  Asparagine  \\\n",
       "ID                                                                       \n",
       "M1170  1505.04             0.0              0.83   1902.60     2300.16   \n",
       "M1154  1036.61             0.0              0.45   1310.53     1586.28   \n",
       "M1069  1627.87             0.0              0.76   2057.87     2487.87   \n",
       "M1044  1072.58             0.0              0.40   1355.90     1639.22   \n",
       "M1171   870.80             0.0              1.11   1100.82     1330.84   \n",
       "\n",
       "       Available carbohydrate by difference  Beta-carotene  \\\n",
       "ID                                                           \n",
       "M1170                                  0.00            0.0   \n",
       "M1154                                  0.00            0.0   \n",
       "M1069                                  0.00            0.0   \n",
       "M1044                                  0.00            0.0   \n",
       "M1171                                  1.09            0.0   \n",
       "\n",
       "       Beta-carotene equivalents  Beta-tocopherol  \\\n",
       "ID                                                  \n",
       "M1170                        0.0              0.0   \n",
       "M1154                        0.0              0.0   \n",
       "M1069                        0.0              0.0   \n",
       "M1044                        0.0              0.0   \n",
       "M1171                        0.0              0.0   \n",
       "\n",
       "       Beta-tocopherol + Gamma-tocopherol  ...  \\\n",
       "ID                                         ...   \n",
       "M1170                                   0  ...   \n",
       "M1154                                   0  ...   \n",
       "M1069                                   0  ...   \n",
       "M1044                                   0  ...   \n",
       "M1171                                   0  ...   \n",
       "\n",
       "       Vitamin A, retinol equivalents  Vitamin B12  Vitamin B6  Vitamin C  \\\n",
       "ID                                                                          \n",
       "M1170                           15.95         1.53        0.18        0.0   \n",
       "M1154                            8.88         1.71        0.32        0.0   \n",
       "M1069                           13.49         1.65        0.19        0.0   \n",
       "M1044                            6.25         1.80        0.33        0.0   \n",
       "M1171                           27.91         0.84        0.09        0.0   \n",
       "\n",
       "       Vitamin D; calculated by summation  \\\n",
       "ID                                          \n",
       "M1170                                0.23   \n",
       "M1154                                0.14   \n",
       "M1069                                0.21   \n",
       "M1044                                0.13   \n",
       "M1171                                0.31   \n",
       "\n",
       "       Vitamin E, alpha-tocopherol equivalents  Vitamin K  Water  Zeaxanthin  \\\n",
       "ID                                                                             \n",
       "M1170                                     0.83        0.0  57.57         0.0   \n",
       "M1154                                     0.45        0.0  70.26         0.0   \n",
       "M1069                                     0.76        0.0  60.46         0.0   \n",
       "M1044                                     0.40        0.0  73.11         0.0   \n",
       "M1171                                     1.11        0.0  42.28         0.0   \n",
       "\n",
       "       Zinc  \n",
       "ID           \n",
       "M1170  5.93  \n",
       "M1154  3.46  \n",
       "M1069  6.38  \n",
       "M1044  3.63  \n",
       "M1171  3.70  \n",
       "\n",
       "[5 rows x 134 columns]"
      ]
     },
     "execution_count": 45,
     "metadata": {},
     "output_type": "execute_result"
    }
   ],
   "source": [
    "# Wir möchten aus dem DataFrame mit den Lebensmittel \n",
    "# nur die Spalten mit den Nährstoffen herausfiltern\n",
    "# Das sind alle Spalten, die in dem Datensatz mit den Ernährungsrichtlinien vorkommen\n",
    "\n",
    "df_naehrstoffe = df[reqs.columns]\n",
    "df_naehrstoffe.head()\n"
   ]
  },
  {
   "cell_type": "code",
   "execution_count": null,
   "metadata": {},
   "outputs": [
    {
     "name": "stdout",
     "output_type": "stream",
     "text": [
      "Set parameter LogToConsole to value 0\n",
      "Total Cost: 2.804167442632024\n",
      "Die Lösung:\n",
      "T1026: 0.14886015200354072\n",
      "F1026: 3.5008150847877215\n",
      "X23: 0.44625405519471883\n",
      "X1039: 1.3070760154152405\n",
      "X1137: 0.36636851441755597\n",
      "X75: 1.071477701716355\n",
      "A21: 0.346834258287215\n",
      "E17: 4.6724605873549825\n",
      "J1035: 0.13782955698441918\n",
      "J1028: 0.11159918806006149\n",
      "J1006: 0.03094983762936822\n",
      "Q9: 0.023885096738248103\n",
      "Q43: 0.22181619569287403\n"
     ]
    }
   ],
   "source": [
    "m3 = gp.Model(\"Diet-3\")\n",
    "m3.Params.LogToConsole = 0\n",
    "\n",
    "# Entscheidungsvariablen (ID der Lebensmittel)\n",
    "x = m3.addMVar(df.shape[0], name=\"x\")\n",
    "\n",
    "# Zielfunktion\n",
    "\n",
    "m3.setObjective(df[\"Cost\"].values @ x, GRB.MINIMIZE)\n",
    "\n",
    "# Einschränkungen\n",
    "\n",
    "m3.addConstr(df_naehrstoffe.values.T @ x >= reqs.loc[0].values, \"Lower\")\n",
    "m3.addConstr(df_naehrstoffe.values.T @ x <= reqs.loc[1].values, \"Upper\")\n",
    "\n",
    "# m3.write(\"diet-3.lp\")\n",
    "\n",
    "# with open(\"diet-3.lp\") as f:\n",
    "#     print(f.read())\n",
    "\n",
    "m3.optimize()\n",
    "\n",
    "print(f\"Total Cost: {m3.objVal}\")\n",
    "print(\"Die Lösung:\")\n",
    "\n",
    "for i in range(df.shape[0]):\n",
    "    if x[i].x > 0:\n",
    "        print(f\"{df.index[i]}: {x[i].x}\")"
   ]
  },
  {
   "cell_type": "markdown",
   "metadata": {},
   "source": [
    "## Wie fukntionert der Code?\n",
    "\n",
    "Wir haben im wesentlichen nur ein neues Element hinzugefügt und das ist die `for`-Schleife, die hier über die Spalten des DataFrames `dt` iteriert.\n",
    "\n",
    "Um den Code zu verstehen, ist es hilfreich, die Dimension der Daten zu reduzieren, um den Datenfluß zu verstehen. Dazu können Sie die `print`-Anweisungen in den Schleifen einfügen."
   ]
  },
  {
   "cell_type": "code",
   "execution_count": 13,
   "metadata": {},
   "outputs": [
    {
     "data": {
      "text/html": [
       "<div>\n",
       "<style scoped>\n",
       "    .dataframe tbody tr th:only-of-type {\n",
       "        vertical-align: middle;\n",
       "    }\n",
       "\n",
       "    .dataframe tbody tr th {\n",
       "        vertical-align: top;\n",
       "    }\n",
       "\n",
       "    .dataframe thead th {\n",
       "        text-align: right;\n",
       "    }\n",
       "</style>\n",
       "<table border=\"1\" class=\"dataframe\">\n",
       "  <thead>\n",
       "    <tr style=\"text-align: right;\">\n",
       "      <th></th>\n",
       "      <th>Alanine</th>\n",
       "      <th>Alpha-carotene</th>\n",
       "      <th>Arginine</th>\n",
       "    </tr>\n",
       "  </thead>\n",
       "  <tbody>\n",
       "    <tr>\n",
       "      <th>0</th>\n",
       "      <td>0</td>\n",
       "      <td>0</td>\n",
       "      <td>0</td>\n",
       "    </tr>\n",
       "    <tr>\n",
       "      <th>1</th>\n",
       "      <td>99999999999</td>\n",
       "      <td>99999999999</td>\n",
       "      <td>99999999999</td>\n",
       "    </tr>\n",
       "  </tbody>\n",
       "</table>\n",
       "</div>"
      ],
      "text/plain": [
       "       Alanine  Alpha-carotene     Arginine\n",
       "0            0               0            0\n",
       "1  99999999999     99999999999  99999999999"
      ]
     },
     "execution_count": 13,
     "metadata": {},
     "output_type": "execute_result"
    }
   ],
   "source": [
    "# Zuerst erstellen wir ein Subset des DataFrames mit den Anforderungen, die nur die Spalten \n",
    "# \"Alanine\", \"Alpha-carotene\" und \"Arginine\" enthalten\n",
    "\n",
    "reqs_subset = reqs[['Alanine', 'Alpha-carotene', 'Arginine']]\n",
    "reqs_subset"
   ]
  },
  {
   "cell_type": "code",
   "execution_count": 14,
   "metadata": {},
   "outputs": [
    {
     "data": {
      "text/html": [
       "<div>\n",
       "<style scoped>\n",
       "    .dataframe tbody tr th:only-of-type {\n",
       "        vertical-align: middle;\n",
       "    }\n",
       "\n",
       "    .dataframe tbody tr th {\n",
       "        vertical-align: top;\n",
       "    }\n",
       "\n",
       "    .dataframe thead th {\n",
       "        text-align: right;\n",
       "    }\n",
       "</style>\n",
       "<table border=\"1\" class=\"dataframe\">\n",
       "  <thead>\n",
       "    <tr style=\"text-align: right;\">\n",
       "      <th></th>\n",
       "      <th>Cost</th>\n",
       "      <th>Alanine</th>\n",
       "      <th>Alpha-carotene</th>\n",
       "      <th>Arginine</th>\n",
       "    </tr>\n",
       "    <tr>\n",
       "      <th>ID</th>\n",
       "      <th></th>\n",
       "      <th></th>\n",
       "      <th></th>\n",
       "      <th></th>\n",
       "    </tr>\n",
       "  </thead>\n",
       "  <tbody>\n",
       "    <tr>\n",
       "      <th>M1170</th>\n",
       "      <td>2.042333</td>\n",
       "      <td>1505.04</td>\n",
       "      <td>0.0</td>\n",
       "      <td>1902.60</td>\n",
       "    </tr>\n",
       "    <tr>\n",
       "      <th>M1154</th>\n",
       "      <td>2.042333</td>\n",
       "      <td>1036.61</td>\n",
       "      <td>0.0</td>\n",
       "      <td>1310.53</td>\n",
       "    </tr>\n",
       "    <tr>\n",
       "      <th>M1069</th>\n",
       "      <td>2.042333</td>\n",
       "      <td>1627.87</td>\n",
       "      <td>0.0</td>\n",
       "      <td>2057.87</td>\n",
       "    </tr>\n",
       "  </tbody>\n",
       "</table>\n",
       "</div>"
      ],
      "text/plain": [
       "           Cost  Alanine  Alpha-carotene  Arginine\n",
       "ID                                                \n",
       "M1170  2.042333  1505.04             0.0   1902.60\n",
       "M1154  2.042333  1036.61             0.0   1310.53\n",
       "M1069  2.042333  1627.87             0.0   2057.87"
      ]
     },
     "execution_count": 14,
     "metadata": {},
     "output_type": "execute_result"
    }
   ],
   "source": [
    "# Aus dem Datensatz mit the Lebensmittel-Daten erstellen wir auch ein Subset, das nur die Spalten\n",
    "# \"Cost\", \"Alanine\", \"Alpha-carotene\" und \"Arginine\" enthält\n",
    "# Weiterhin wählen wir nur die ersten drei Zeilen aus\n",
    "\n",
    "df_subset = df[['Cost'] + list(reqs_subset.columns)][:3]\n",
    "df_subset"
   ]
  },
  {
   "cell_type": "code",
   "execution_count": 15,
   "metadata": {},
   "outputs": [
    {
     "name": "stdout",
     "output_type": "stream",
     "text": [
      "i = 1\n",
      "Summe = 1\n",
      "i = 2\n",
      "Summe = 3\n",
      "i = 3\n",
      "Summe = 6\n",
      "i = 4\n",
      "Summe = 10\n",
      "i = 5\n",
      "Summe = 15\n"
     ]
    }
   ],
   "source": [
    "# Im allgemeinen benutzen wir Schleifen, um eine oder mehrere Oprationen\n",
    "# mit jedem Element einer Liste auszuführen.\n",
    "\n",
    "# Beispiel: Berechnung der Summe der Zahlen von 1 bis 5\n",
    "\n",
    "summe = 0\n",
    "\n",
    "for i in [1, 2, 3, 4, 5]:        \n",
    "    summe = summe + i\n",
    "    print(\"i =\", i)\n",
    "    print(\"Summe =\", summe)\n"
   ]
  },
  {
   "cell_type": "code",
   "execution_count": 16,
   "metadata": {},
   "outputs": [
    {
     "data": {
      "text/plain": [
       "Index(['Alanine', 'Alpha-carotene', 'Arginine'], dtype='object')"
      ]
     },
     "execution_count": 16,
     "metadata": {},
     "output_type": "execute_result"
    }
   ],
   "source": [
    "reqs_subset.columns"
   ]
  },
  {
   "cell_type": "code",
   "execution_count": 17,
   "metadata": {},
   "outputs": [
    {
     "name": "stdout",
     "output_type": "stream",
     "text": [
      "Spalte: Alanine\n",
      "Untere Grenze: 0\n",
      "Obere Grenze: 99999999999\n",
      "Spalte: Alpha-carotene\n",
      "Untere Grenze: 0\n",
      "Obere Grenze: 99999999999\n",
      "Spalte: Arginine\n",
      "Untere Grenze: 0\n",
      "Obere Grenze: 99999999999\n"
     ]
    }
   ],
   "source": [
    "# Da der Datensatz mit den Lebensmitteln dieselben Spalten wie der Datensatz mit den Ernährungsrichtlinien hat,\n",
    "# können wir diese Spalten folgendermassen abrufen\n",
    "\n",
    "for col in reqs_subset.columns:\n",
    "    print(\"Spalte:\", col)\n",
    "    # Mit loc greifen wir auf die Werte in der ersten Zeile (untere Grenze) \n",
    "    print(\"Untere Grenze:\", reqs.loc[0, col])\n",
    "\n",
    "    # Und hier tun wir das gleiche für die Werte in der zweiten Zeile (obere Grenze)\n",
    "    print(\"Obere Grenze:\", reqs.loc[1, col])\n",
    "    "
   ]
  },
  {
   "cell_type": "code",
   "execution_count": 18,
   "metadata": {},
   "outputs": [
    {
     "name": "stdout",
     "output_type": "stream",
     "text": [
      "Spalte: Alanine\n",
      "Untere Grenze: 0\n",
      "Obere Grenze: 99999999999\n",
      "Mittelwert der Spalte mit demselben Namen in 'df_subset' 1389.84\n",
      "Spalte: Alpha-carotene\n",
      "Untere Grenze: 0\n",
      "Obere Grenze: 99999999999\n",
      "Mittelwert der Spalte mit demselben Namen in 'df_subset' 0.0\n",
      "Spalte: Arginine\n",
      "Untere Grenze: 0\n",
      "Obere Grenze: 99999999999\n",
      "Mittelwert der Spalte mit demselben Namen in 'df_subset' 1757.0\n"
     ]
    }
   ],
   "source": [
    "for col in reqs_subset.columns:\n",
    "    print(\"Spalte:\", col)\n",
    "    print(\"Untere Grenze:\", reqs_subset.loc[0, col])\n",
    "    print(\"Obere Grenze:\", reqs_subset.loc[1, col])\n",
    "    \n",
    "    print(\"Mittelwert der Spalte mit demselben Namen in 'df_subset'\", df_subset[col].mean())\n",
    "    "
   ]
  },
  {
   "cell_type": "code",
   "execution_count": 19,
   "metadata": {},
   "outputs": [
    {
     "name": "stdout",
     "output_type": "stream",
     "text": [
      "Spalte: Alanine\n",
      "Untere Grenze: 0\n",
      "Obere Grenze: 99999999999\n",
      "<gurobi.TempConstr: 1505.04 x[M1170] + 1036.61 x[M1154] + 1627.87 x[M1069] >= 0>\n",
      "<gurobi.TempConstr: 1505.04 x[M1170] + 1036.61 x[M1154] + 1627.87 x[M1069] <= 99999999999>\n",
      "Spalte: Alpha-carotene\n",
      "Untere Grenze: 0\n",
      "Obere Grenze: 99999999999\n",
      "<gurobi.TempConstr: 0.0 x[M1170] + 0.0 x[M1154] + 0.0 x[M1069] >= 0>\n",
      "<gurobi.TempConstr: 0.0 x[M1170] + 0.0 x[M1154] + 0.0 x[M1069] <= 99999999999>\n",
      "Spalte: Arginine\n",
      "Untere Grenze: 0\n",
      "Obere Grenze: 99999999999\n",
      "<gurobi.TempConstr: 1902.6 x[M1170] + 1310.53 x[M1154] + 2057.87 x[M1069] >= 0>\n",
      "<gurobi.TempConstr: 1902.6 x[M1170] + 1310.53 x[M1154] + 2057.87 x[M1069] <= 99999999999>\n"
     ]
    }
   ],
   "source": [
    "m2 = gp.Model(\"Diet-2\")\n",
    "\n",
    "x_subset = m2.addVars(df_subset.index, name=\"x\")\n",
    "\n",
    "m2.update()\n",
    "\n",
    "for col in reqs_subset.columns:\n",
    "    print(\"Spalte:\", col)\n",
    "    print(\"Untere Grenze:\", reqs_subset.loc[0, col])\n",
    "    print(\"Obere Grenze:\", reqs_subset.loc[1, col])\n",
    "    \n",
    "    print(x_subset.prod(df_subset[col].to_dict()) >= reqs_subset.loc[0, col])\n",
    "    print(x_subset.prod(df_subset[col].to_dict()) <= reqs_subset.loc[1, col])\n"
   ]
  }
 ],
 "metadata": {
  "kernelspec": {
   "display_name": "Python 3",
   "language": "python",
   "name": "python3"
  },
  "language_info": {
   "codemirror_mode": {
    "name": "ipython",
    "version": 3
   },
   "file_extension": ".py",
   "mimetype": "text/x-python",
   "name": "python",
   "nbconvert_exporter": "python",
   "pygments_lexer": "ipython3",
   "version": "3.11.11"
  }
 },
 "nbformat": 4,
 "nbformat_minor": 2
}
