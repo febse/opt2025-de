{
 "cells": [
  {
   "cell_type": "markdown",
   "metadata": {},
   "source": [
    "# Das Diet-Problem\n",
    "\n",
    "Open in Colab: [![Open in Colab](https://colab.research.google.com/assets/colab-badge.svg)](https://colab.research.google.com/github/febse/opt2025-de/blob/main/LP-Diet.ipynb)\n",
    "\n",
    "\n",
    "## Problemstellung\n",
    "\n",
    "Das Ziel des Diet-Problems ist es, Mengen von Lebensmitteln zu finden, die die täglichen Ernährungsbedürfnisse eines Menschen erfüllen, wobei die Kosten minimiert werden. Der Datensatz\n",
    "`dt` enthält die Nährstoffinformationen und die Kosten für 6 Lebensmittel. In diesem kleinen Beispiel werden wir die täglichen Ernährungsbedürfnisse eines Menschen in Bezug auf die Nährstoffe Protein, Calcium, Eisen und Vitamin C betrachten.\n",
    "\n",
    "Eine Umsetzung in Excel finden Sie [hier](https://github.com/febse/data/raw/refs/heads/main/opt/diet.xlsx)."
   ]
  },
  {
   "cell_type": "code",
   "execution_count": 36,
   "metadata": {},
   "outputs": [
    {
     "name": "stdout",
     "output_type": "stream",
     "text": [
      "Requirement already satisfied: gurobipy in /home/amarov/miniconda3/envs/opt2025/lib/python3.11/site-packages (12.0.1)\n",
      "Note: you may need to restart the kernel to use updated packages.\n"
     ]
    },
    {
     "data": {
      "application/vnd.microsoft.datawrangler.viewer.v0+json": {
       "columns": [
        {
         "name": "Food",
         "rawType": "object",
         "type": "string"
        },
        {
         "name": "Amount",
         "rawType": "object",
         "type": "string"
        },
        {
         "name": "Calories",
         "rawType": "int64",
         "type": "integer"
        },
        {
         "name": "Protein",
         "rawType": "int64",
         "type": "integer"
        },
        {
         "name": "Calcium",
         "rawType": "int64",
         "type": "integer"
        },
        {
         "name": "Price",
         "rawType": "float64",
         "type": "float"
        },
        {
         "name": "Max",
         "rawType": "int64",
         "type": "integer"
        }
       ],
       "conversionMethod": "pd.DataFrame",
       "ref": "71bb6621-e4c2-402f-ae81-6c9eafccb70c",
       "rows": [
        [
         "Oatmeals",
         "28 g",
         "110",
         "4",
         "2",
         "3.4",
         "4"
        ],
        [
         "Chicken",
         "100 g",
         "205",
         "32",
         "12",
         "24.01",
         "4"
        ],
        [
         "Eggs",
         "two",
         "160",
         "13",
         "54",
         "13.3",
         "4"
        ],
        [
         "Milk",
         "237 ml",
         "160",
         "8",
         "285",
         "9.0",
         "4"
        ],
        [
         "Cherry pie",
         "170 g",
         "420",
         "4",
         "22",
         "20.0",
         "4"
        ],
        [
         "Pork with beans",
         "260 g",
         "260",
         "14",
         "80",
         "19.0",
         "4"
        ]
       ],
       "shape": {
        "columns": 6,
        "rows": 6
       }
      },
      "text/html": [
       "<div>\n",
       "<style scoped>\n",
       "    .dataframe tbody tr th:only-of-type {\n",
       "        vertical-align: middle;\n",
       "    }\n",
       "\n",
       "    .dataframe tbody tr th {\n",
       "        vertical-align: top;\n",
       "    }\n",
       "\n",
       "    .dataframe thead th {\n",
       "        text-align: right;\n",
       "    }\n",
       "</style>\n",
       "<table border=\"1\" class=\"dataframe\">\n",
       "  <thead>\n",
       "    <tr style=\"text-align: right;\">\n",
       "      <th></th>\n",
       "      <th>Amount</th>\n",
       "      <th>Calories</th>\n",
       "      <th>Protein</th>\n",
       "      <th>Calcium</th>\n",
       "      <th>Price</th>\n",
       "      <th>Max</th>\n",
       "    </tr>\n",
       "    <tr>\n",
       "      <th>Food</th>\n",
       "      <th></th>\n",
       "      <th></th>\n",
       "      <th></th>\n",
       "      <th></th>\n",
       "      <th></th>\n",
       "      <th></th>\n",
       "    </tr>\n",
       "  </thead>\n",
       "  <tbody>\n",
       "    <tr>\n",
       "      <th>Oatmeals</th>\n",
       "      <td>28 g</td>\n",
       "      <td>110</td>\n",
       "      <td>4</td>\n",
       "      <td>2</td>\n",
       "      <td>3.40</td>\n",
       "      <td>4</td>\n",
       "    </tr>\n",
       "    <tr>\n",
       "      <th>Chicken</th>\n",
       "      <td>100 g</td>\n",
       "      <td>205</td>\n",
       "      <td>32</td>\n",
       "      <td>12</td>\n",
       "      <td>24.01</td>\n",
       "      <td>4</td>\n",
       "    </tr>\n",
       "    <tr>\n",
       "      <th>Eggs</th>\n",
       "      <td>two</td>\n",
       "      <td>160</td>\n",
       "      <td>13</td>\n",
       "      <td>54</td>\n",
       "      <td>13.30</td>\n",
       "      <td>4</td>\n",
       "    </tr>\n",
       "    <tr>\n",
       "      <th>Milk</th>\n",
       "      <td>237 ml</td>\n",
       "      <td>160</td>\n",
       "      <td>8</td>\n",
       "      <td>285</td>\n",
       "      <td>9.00</td>\n",
       "      <td>4</td>\n",
       "    </tr>\n",
       "    <tr>\n",
       "      <th>Cherry pie</th>\n",
       "      <td>170 g</td>\n",
       "      <td>420</td>\n",
       "      <td>4</td>\n",
       "      <td>22</td>\n",
       "      <td>20.00</td>\n",
       "      <td>4</td>\n",
       "    </tr>\n",
       "    <tr>\n",
       "      <th>Pork with beans</th>\n",
       "      <td>260 g</td>\n",
       "      <td>260</td>\n",
       "      <td>14</td>\n",
       "      <td>80</td>\n",
       "      <td>19.00</td>\n",
       "      <td>4</td>\n",
       "    </tr>\n",
       "  </tbody>\n",
       "</table>\n",
       "</div>"
      ],
      "text/plain": [
       "                 Amount  Calories  Protein  Calcium  Price  Max\n",
       "Food                                                           \n",
       "Oatmeals           28 g       110        4        2   3.40    4\n",
       "Chicken           100 g       205       32       12  24.01    4\n",
       "Eggs                two       160       13       54  13.30    4\n",
       "Milk             237 ml       160        8      285   9.00    4\n",
       "Cherry pie        170 g       420        4       22  20.00    4\n",
       "Pork with beans   260 g       260       14       80  19.00    4"
      ]
     },
     "execution_count": 36,
     "metadata": {},
     "output_type": "execute_result"
    }
   ],
   "source": [
    "%pip install gurobipy\n",
    "\n",
    "import pandas as pd\n",
    "import gurobipy as gp\n",
    "from gurobipy import GRB\n",
    "\n",
    "# Create the DataFrame\n",
    "df = pd.DataFrame( {\n",
    "    \"Food\": [\"Oatmeals\", \"Chicken\", \"Eggs\", \"Milk\", \"Cherry pie\", \"Pork with beans\"],\n",
    "    \"Amount\": [\"28 g\", \"100 g\", \"two\", \"237 ml\", \"170 g\", \"260 g\"],\n",
    "    \"Calories\": [110, 205, 160, 160, 420, 260],\n",
    "    \"Protein\": [4, 32, 13, 8, 4, 14],\n",
    "    \"Calcium\": [2, 12, 54, 285, 22, 80],\n",
    "    \"Price\": [3.4, 24.01, 13.3, 9, 20, 19],\n",
    "    \"Max\": [4, 4, 4, 4, 4, 4]\n",
    "}).set_index(\"Food\")\n",
    "\n",
    "# Display the DataFrame\n",
    "\n",
    "df"
   ]
  },
  {
   "cell_type": "code",
   "execution_count": 37,
   "metadata": {},
   "outputs": [
    {
     "data": {
      "text/plain": [
       "Calories    2500\n",
       "Protein       80\n",
       "Calcium        8\n",
       "dtype: int64"
      ]
     },
     "execution_count": 37,
     "metadata": {},
     "output_type": "execute_result"
    }
   ],
   "source": [
    "req = pd.Series([2500, 80, 8], index=[\"Calories\", \"Protein\", \"Calcium\"])\n",
    "req"
   ]
  },
  {
   "cell_type": "code",
   "execution_count": 38,
   "metadata": {},
   "outputs": [
    {
     "name": "stdout",
     "output_type": "stream",
     "text": [
      "Set parameter LogToConsole to value 0\n",
      "Gesamtkosten: 77.27272727272727\n",
      "Die Lösung:\n",
      "Oatmeals: 22.727272727272727\n",
      "Chicken: 0.0\n",
      "Eggs: 0.0\n",
      "Milk: 0.0\n",
      "Cherry pie: 0.0\n",
      "Pork with beans: 0.0\n"
     ]
    }
   ],
   "source": [
    "m = gp.Model(\"diet\")\n",
    "m.Params.LogToConsole = 0\n",
    "\n",
    "# Create the variables\n",
    "x = m.addVars(df.index, name=\"x\")\n",
    "\n",
    "# Set the objective\n",
    "m.setObjective(x.prod(df.Price.to_dict()), GRB.MINIMIZE)\n",
    "\n",
    "# Add constraints\n",
    "m.addConstr(x.prod(df.Calories.to_dict()) >= req.Calories, \"Calories\")\n",
    "m.addConstr(x.prod(df.Protein.to_dict()) >= req.Protein, \"Protein\")\n",
    "m.addConstr(x.prod(df.Calcium.to_dict()) >= req.Calcium, \"Calcium\")\n",
    "\n",
    "m.optimize()\n",
    "\n",
    "# Die Lösung ausgeben\n",
    "print(f\"Gesamtkosten: {m.objVal}\")\n",
    "print(\"Die Lösung:\")\n",
    "\n",
    "for food in df.index:\n",
    "    print(f\"{food}: {x[food].x}\")\n"
   ]
  },
  {
   "cell_type": "code",
   "execution_count": 39,
   "metadata": {},
   "outputs": [
    {
     "name": "stdout",
     "output_type": "stream",
     "text": [
      "\\ Model diet\n",
      "\\ LP format - for model browsing. Use MPS format to capture full model detail.\n",
      "Minimize\n",
      "  3.4 x[Oatmeals] + 24.01 x[Chicken] + 13.3 x[Eggs] + 9 x[Milk]\n",
      "   + 20 x[Cherry_pie] + 19 x[Pork_with_beans]\n",
      "Subject To\n",
      " Calories: 110 x[Oatmeals] + 205 x[Chicken] + 160 x[Eggs] + 160 x[Milk]\n",
      "   + 420 x[Cherry_pie] + 260 x[Pork_with_beans] >= 2500\n",
      " Protein: 4 x[Oatmeals] + 32 x[Chicken] + 13 x[Eggs] + 8 x[Milk]\n",
      "   + 4 x[Cherry_pie] + 14 x[Pork_with_beans] >= 80\n",
      " Calcium: 2 x[Oatmeals] + 12 x[Chicken] + 54 x[Eggs] + 285 x[Milk]\n",
      "   + 22 x[Cherry_pie] + 80 x[Pork_with_beans] >= 8\n",
      "Bounds\n",
      "End\n",
      "\n"
     ]
    }
   ],
   "source": [
    "m.write(\"diet.lp\")\n",
    "\n",
    "with open(\"diet.lp\") as f:\n",
    "    print(f.read())"
   ]
  },
  {
   "cell_type": "code",
   "execution_count": 40,
   "metadata": {},
   "outputs": [],
   "source": [
    "m = gp.Model(\"diet-1\")\n",
    "\n",
    "# Entscheidungsvariablen\n",
    "\n",
    "# x = m.addVars(..., ..., name=\"x\")\n",
    "\n",
    "# Zielfunktion\n",
    "\n",
    "# m.setObjective(..., GRB.MINIMIZE)\n",
    "\n",
    "# Bedingungen\n",
    "\n",
    "# m.addConstr(..., \"Calories\")\n",
    "# m.addConstr(..., \"Protein\")\n",
    "# m.addConstr(..., \"Calcium\")\n",
    "\n",
    "# m.optimize()\n",
    "\n",
    "# DataFrame mit den Ergebnissen\n",
    "\n",
    "# df[\"Optimal\"] = [v.x for v in x.values()]\n",
    "# df[[\"Optimal\", \"Price\", \"Calories\"]]"
   ]
  },
  {
   "cell_type": "markdown",
   "metadata": {},
   "source": [
    "## Neu Zealand Diet Problem\n",
    "\n",
    "Der Datensatz `df` enthält die Kosten und die Nährstoffeigenschaften (ca. 140) von 883 Lebensmitteln in Neu Zealand (Quelle: <https://doi.org/10.1093/cdn/nzab132>)\n",
    "\n",
    "- `ID`: Eindeutiger Identifikator des Lebensmittels\n",
    "- `Name`: Name des Lebensmittels\n",
    "- `Group`: Gruppe, zu der das Lebensmittel gehört\n",
    "- `Cost`: Die Kosten per 100g des Lebensmittels\n",
    "- `Amount`: Die maximal zu konsumierende Menge des Lebensmittels (in 100 g)\n",
    "- `Dry matter`: Trockensubstanz des Lebensmittels (in g)\n",
    "- `Energy, total metabolisable (kJ)`\n",
    "- `Fat, total`: Gesamtfettgehalt des Lebensmittels (in g)\n",
    "- `Protein, total; calculated from total nitrogen` (in g)\n",
    "- `Total carbohydrates by summation` (in g)\n",
    "- Sonstige Charakteristiken\n",
    "\n",
    "Der Datensatz `reqs` enthält Ernährungsanforderungen für einen durchschnittlichen Erwachsenen.\n",
    "\n"
   ]
  },
  {
   "cell_type": "code",
   "execution_count": 41,
   "metadata": {},
   "outputs": [
    {
     "data": {
      "application/vnd.microsoft.datawrangler.viewer.v0+json": {
       "columns": [
        {
         "name": "ID",
         "rawType": "object",
         "type": "string"
        },
        {
         "name": "Source",
         "rawType": "object",
         "type": "string"
        },
        {
         "name": "Group",
         "rawType": "object",
         "type": "string"
        },
        {
         "name": "SubGroup",
         "rawType": "object",
         "type": "string"
        },
        {
         "name": "Cost",
         "rawType": "float64",
         "type": "float"
        },
        {
         "name": "Amount",
         "rawType": "float64",
         "type": "float"
        },
        {
         "name": "Chapter",
         "rawType": "object",
         "type": "string"
        },
        {
         "name": "Name",
         "rawType": "object",
         "type": "string"
        },
        {
         "name": "Description",
         "rawType": "object",
         "type": "string"
        },
        {
         "name": "Alanine",
         "rawType": "float64",
         "type": "float"
        },
        {
         "name": "Alpha-carotene",
         "rawType": "float64",
         "type": "float"
        },
        {
         "name": "Alpha-tocopherol",
         "rawType": "float64",
         "type": "float"
        },
        {
         "name": "Arginine",
         "rawType": "float64",
         "type": "float"
        },
        {
         "name": "Asparagine",
         "rawType": "float64",
         "type": "float"
        },
        {
         "name": "Aspartic acid",
         "rawType": "float64",
         "type": "float"
        },
        {
         "name": "Available carbohydrate by difference",
         "rawType": "float64",
         "type": "float"
        },
        {
         "name": "Beta-carotene",
         "rawType": "float64",
         "type": "float"
        },
        {
         "name": "Beta-carotene equivalents",
         "rawType": "float64",
         "type": "float"
        },
        {
         "name": "Beta-tocopherol",
         "rawType": "float64",
         "type": "float"
        },
        {
         "name": "Beta-tocopherol + Gamma-tocopherol",
         "rawType": "int64",
         "type": "integer"
        },
        {
         "name": "Biotin",
         "rawType": "float64",
         "type": "float"
        },
        {
         "name": "Boron",
         "rawType": "float64",
         "type": "float"
        },
        {
         "name": "Cadmium",
         "rawType": "float64",
         "type": "float"
        },
        {
         "name": "Calcium",
         "rawType": "float64",
         "type": "float"
        },
        {
         "name": "Chloride",
         "rawType": "float64",
         "type": "float"
        },
        {
         "name": "Cholecalciferol (Vitamin D3)",
         "rawType": "float64",
         "type": "float"
        },
        {
         "name": "Cholesterol",
         "rawType": "float64",
         "type": "float"
        },
        {
         "name": "Chromium",
         "rawType": "float64",
         "type": "float"
        },
        {
         "name": "Cobalt",
         "rawType": "float64",
         "type": "float"
        },
        {
         "name": "Copper",
         "rawType": "float64",
         "type": "float"
        },
        {
         "name": "Cystine",
         "rawType": "float64",
         "type": "float"
        },
        {
         "name": "Delta-tocopherol",
         "rawType": "float64",
         "type": "float"
        },
        {
         "name": "Dietary folate equivalents",
         "rawType": "float64",
         "type": "float"
        },
        {
         "name": "Disaccharides, total",
         "rawType": "float64",
         "type": "float"
        },
        {
         "name": "Dry matter",
         "rawType": "float64",
         "type": "float"
        },
        {
         "name": "Edible portion",
         "rawType": "float64",
         "type": "float"
        },
        {
         "name": "Energy, total metabolisable (kcal)",
         "rawType": "float64",
         "type": "float"
        },
        {
         "name": "Energy, total metabolisable (kcal, including dietary fibre)",
         "rawType": "float64",
         "type": "float"
        },
        {
         "name": "Energy, total metabolisable (kJ)",
         "rawType": "float64",
         "type": "float"
        },
        {
         "name": "Energy, total metabolisable (kJ, including dietary fibre)",
         "rawType": "float64",
         "type": "float"
        },
        {
         "name": "Ergocalciferol (Vitamin D2)",
         "rawType": "float64",
         "type": "float"
        },
        {
         "name": "Fat, total",
         "rawType": "float64",
         "type": "float"
        },
        {
         "name": "Fatty acid 18:3 omega-3",
         "rawType": "float64",
         "type": "float"
        },
        {
         "name": "Fatty acid 20:5 omega-3",
         "rawType": "float64",
         "type": "float"
        },
        {
         "name": "Fatty acid 22:5 omega-3",
         "rawType": "float64",
         "type": "float"
        },
        {
         "name": "Fatty acid 22:6 omega-3",
         "rawType": "float64",
         "type": "float"
        },
        {
         "name": "Fatty acid cis,cis 18:2 omega-6",
         "rawType": "float64",
         "type": "float"
        },
        {
         "name": "Fatty acids, total",
         "rawType": "float64",
         "type": "float"
        },
        {
         "name": "Fatty acids, total long chain polyunsaturated omega-3",
         "rawType": "float64",
         "type": "float"
        },
        {
         "name": "Fatty acids, total monounsaturated",
         "rawType": "float64",
         "type": "float"
        },
        {
         "name": "Fatty acids, total polyunsaturated",
         "rawType": "float64",
         "type": "float"
        },
        {
         "name": "Fatty acids, total polyunsaturated omega-3",
         "rawType": "float64",
         "type": "float"
        },
        {
         "name": "Fatty acids, total saturated",
         "rawType": "float64",
         "type": "float"
        },
        {
         "name": "Fatty acids, total trans",
         "rawType": "float64",
         "type": "float"
        },
        {
         "name": "Fibre, total dietary",
         "rawType": "float64",
         "type": "float"
        },
        {
         "name": "Fibre, water-insoluble",
         "rawType": "float64",
         "type": "float"
        },
        {
         "name": "Fibre, water-soluble",
         "rawType": "float64",
         "type": "float"
        },
        {
         "name": "Fluoride",
         "rawType": "float64",
         "type": "float"
        },
        {
         "name": "Folate food, naturally occurring food folates",
         "rawType": "float64",
         "type": "float"
        },
        {
         "name": "Folate, total",
         "rawType": "float64",
         "type": "float"
        },
        {
         "name": "Folic acid, synthetic folic acid",
         "rawType": "float64",
         "type": "float"
        },
        {
         "name": "Fructose",
         "rawType": "float64",
         "type": "float"
        },
        {
         "name": "Gamma-tocopherol",
         "rawType": "float64",
         "type": "float"
        },
        {
         "name": "Glucose",
         "rawType": "float64",
         "type": "float"
        },
        {
         "name": "Glutamic acid",
         "rawType": "float64",
         "type": "float"
        },
        {
         "name": "Glycine",
         "rawType": "float64",
         "type": "float"
        },
        {
         "name": "Glycogen",
         "rawType": "float64",
         "type": "float"
        },
        {
         "name": "Histidine",
         "rawType": "float64",
         "type": "float"
        },
        {
         "name": "Hydroxyproline",
         "rawType": "int64",
         "type": "integer"
        },
        {
         "name": "Iodide",
         "rawType": "float64",
         "type": "float"
        },
        {
         "name": "Iron",
         "rawType": "float64",
         "type": "float"
        },
        {
         "name": "Isoleucine",
         "rawType": "float64",
         "type": "float"
        },
        {
         "name": "Lactic acid (grams)",
         "rawType": "int64",
         "type": "integer"
        },
        {
         "name": "Lactose",
         "rawType": "float64",
         "type": "float"
        },
        {
         "name": "Lead",
         "rawType": "float64",
         "type": "float"
        },
        {
         "name": "Leucine",
         "rawType": "float64",
         "type": "float"
        },
        {
         "name": "Lithium",
         "rawType": "float64",
         "type": "float"
        },
        {
         "name": "Lutein",
         "rawType": "float64",
         "type": "float"
        },
        {
         "name": "Lycopene",
         "rawType": "float64",
         "type": "float"
        },
        {
         "name": "Lysine",
         "rawType": "float64",
         "type": "float"
        },
        {
         "name": "Magnesium",
         "rawType": "float64",
         "type": "float"
        },
        {
         "name": "Malic acid (grams)",
         "rawType": "float64",
         "type": "float"
        },
        {
         "name": "Maltodextrin",
         "rawType": "float64",
         "type": "float"
        },
        {
         "name": "Maltose",
         "rawType": "float64",
         "type": "float"
        },
        {
         "name": "Manganese",
         "rawType": "float64",
         "type": "float"
        },
        {
         "name": "Mercury",
         "rawType": "float64",
         "type": "float"
        },
        {
         "name": "Methionine",
         "rawType": "float64",
         "type": "float"
        },
        {
         "name": "Molybdenum",
         "rawType": "float64",
         "type": "float"
        },
        {
         "name": "Monosaccharides, total",
         "rawType": "float64",
         "type": "float"
        },
        {
         "name": "Niacin equivalents from tryptophan",
         "rawType": "float64",
         "type": "float"
        },
        {
         "name": "Niacin equivalents, total",
         "rawType": "float64",
         "type": "float"
        },
        {
         "name": "Niacin, preformed",
         "rawType": "float64",
         "type": "float"
        },
        {
         "name": "Nickel",
         "rawType": "float64",
         "type": "float"
        },
        {
         "name": "Nitrogen, total",
         "rawType": "float64",
         "type": "float"
        },
        {
         "name": "Nitrogen-to-protein conversion factor",
         "rawType": "float64",
         "type": "float"
        },
        {
         "name": "Organic acids, total (grams)",
         "rawType": "float64",
         "type": "float"
        },
        {
         "name": "Oxalic acid (grams)",
         "rawType": "float64",
         "type": "float"
        },
        {
         "name": "Pantothenic acid",
         "rawType": "float64",
         "type": "float"
        },
        {
         "name": "Phenylalanine",
         "rawType": "float64",
         "type": "float"
        },
        {
         "name": "Phosphorus",
         "rawType": "float64",
         "type": "float"
        },
        {
         "name": "Phytosterols, total",
         "rawType": "float64",
         "type": "float"
        },
        {
         "name": "Polysaccharides, non-starch",
         "rawType": "float64",
         "type": "float"
        },
        {
         "name": "Polysaccharides, non-starch, water-insoluble",
         "rawType": "float64",
         "type": "float"
        },
        {
         "name": "Polysaccharides, non-starch, water-soluble",
         "rawType": "float64",
         "type": "float"
        },
        {
         "name": "Potassium",
         "rawType": "float64",
         "type": "float"
        },
        {
         "name": "Proline",
         "rawType": "float64",
         "type": "float"
        },
        {
         "name": "Protein, total; calculated from total nitrogen",
         "rawType": "float64",
         "type": "float"
        },
        {
         "name": "Proximates, total",
         "rawType": "float64",
         "type": "float"
        },
        {
         "name": "Quinic acid (grams)",
         "rawType": "float64",
         "type": "float"
        },
        {
         "name": "Retinol",
         "rawType": "float64",
         "type": "float"
        },
        {
         "name": "Riboflavin",
         "rawType": "float64",
         "type": "float"
        },
        {
         "name": "Rubidium",
         "rawType": "float64",
         "type": "float"
        },
        {
         "name": "Selenium",
         "rawType": "float64",
         "type": "float"
        },
        {
         "name": "Serine",
         "rawType": "float64",
         "type": "float"
        },
        {
         "name": "Silicon (acid soluble)",
         "rawType": "float64",
         "type": "float"
        },
        {
         "name": "Sodium",
         "rawType": "float64",
         "type": "float"
        },
        {
         "name": "Starch, resistant",
         "rawType": "float64",
         "type": "float"
        },
        {
         "name": "Starch, total",
         "rawType": "float64",
         "type": "float"
        },
        {
         "name": "Succinic acid (grams)",
         "rawType": "int64",
         "type": "integer"
        },
        {
         "name": "Sucrose",
         "rawType": "float64",
         "type": "float"
        },
        {
         "name": "Sugar, added",
         "rawType": "float64",
         "type": "float"
        },
        {
         "name": "Sugar, free",
         "rawType": "float64",
         "type": "float"
        },
        {
         "name": "Sugars, total",
         "rawType": "float64",
         "type": "float"
        },
        {
         "name": "Sulphur",
         "rawType": "float64",
         "type": "float"
        },
        {
         "name": "Taurine",
         "rawType": "float64",
         "type": "float"
        },
        {
         "name": "Thiamin",
         "rawType": "float64",
         "type": "float"
        },
        {
         "name": "Threonine",
         "rawType": "float64",
         "type": "float"
        },
        {
         "name": "Tin",
         "rawType": "float64",
         "type": "float"
        },
        {
         "name": "Total carbohydrate by difference",
         "rawType": "float64",
         "type": "float"
        },
        {
         "name": "Total carbohydrates by summation",
         "rawType": "float64",
         "type": "float"
        },
        {
         "name": "Total fat-to-total fatty acids conversion factor",
         "rawType": "float64",
         "type": "float"
        },
        {
         "name": "Tryptophan",
         "rawType": "float64",
         "type": "float"
        },
        {
         "name": "Tyrosine",
         "rawType": "float64",
         "type": "float"
        },
        {
         "name": "Valine",
         "rawType": "float64",
         "type": "float"
        },
        {
         "name": "Vanadium",
         "rawType": "float64",
         "type": "float"
        },
        {
         "name": "Vitamin A, retinol activity equivalents",
         "rawType": "float64",
         "type": "float"
        },
        {
         "name": "Vitamin A, retinol equivalents",
         "rawType": "float64",
         "type": "float"
        },
        {
         "name": "Vitamin B12",
         "rawType": "float64",
         "type": "float"
        },
        {
         "name": "Vitamin B6",
         "rawType": "float64",
         "type": "float"
        },
        {
         "name": "Vitamin C",
         "rawType": "float64",
         "type": "float"
        },
        {
         "name": "Vitamin D; calculated by summation",
         "rawType": "float64",
         "type": "float"
        },
        {
         "name": "Vitamin E, alpha-tocopherol equivalents",
         "rawType": "float64",
         "type": "float"
        },
        {
         "name": "Vitamin K",
         "rawType": "float64",
         "type": "float"
        },
        {
         "name": "Water",
         "rawType": "float64",
         "type": "float"
        },
        {
         "name": "Zeaxanthin",
         "rawType": "float64",
         "type": "float"
        },
        {
         "name": "Zinc",
         "rawType": "float64",
         "type": "float"
        }
       ],
       "conversionMethod": "pd.DataFrame",
       "ref": "15d40b55-2aa1-41d6-b973-60758f8b1cd5",
       "rows": [
        [
         "M1170",
         "Animal",
         "Beef",
         "Beef blade ",
         "2.042333333",
         "1.0",
         "M",
         "Beef, forequarter bolar, separable lean & fat, braised",
         "Beef, forequarter bolar, separable lean & fat, braised",
         "1505.04",
         "0.0",
         "0.83",
         "1902.6",
         "2300.16",
         "0.0",
         "0.0",
         "0.0",
         "0.0",
         "0.0",
         "0",
         "0.0",
         "0.0",
         "0.0",
         "6.54",
         "0.0",
         "0.23",
         "90.89",
         "0.0",
         "0.0",
         "0.12",
         "340.76",
         "0.0",
         "5.38",
         "0.0",
         "42.43",
         "94.1",
         "228.08",
         "228.08",
         "954.89",
         "954.89",
         "0.0",
         "11.57",
         "0.093",
         "0.026",
         "0.04",
         "0.005",
         "0.137",
         "8.554",
         "0.073",
         "3.895",
         "0.433",
         "0.166",
         "4.227",
         "0.327",
         "0.0",
         "0.0",
         "0.0",
         "0.0",
         "5.38",
         "5.38",
         "0.0",
         "0.0",
         "0.0",
         "0.0",
         "4046.58",
         "1718.02",
         "0.0",
         "837.71",
         "0",
         "0.91",
         "2.55",
         "1135.88",
         "0",
         "0.0",
         "0.0",
         "2129.78",
         "0.0",
         "0.0",
         "0.0",
         "2214.97",
         "18.37",
         "0.0",
         "0.0",
         "0.0",
         "11.31",
         "0.0",
         "866.11",
         "0.0",
         "0.0",
         "4.83",
         "6.94",
         "2.12",
         "0.0",
         "4.96",
         "6.25",
         "0.0",
         "0.0",
         "0.38",
         "1107.49",
         "156.14",
         "0.0",
         "0.0",
         "0.0",
         "0.0",
         "175.05",
         "1050.69",
         "31.0",
         "101.2",
         "0.0",
         "15.95",
         "0.13",
         "0.0",
         "2.2",
         "993.9",
         "0.0",
         "32.07",
         "0.0",
         "0.0",
         "0",
         "0.0",
         "0.0",
         "0.0",
         "0.0",
         "0.0",
         "85.19",
         "0.04",
         "1008.1",
         "0.0",
         "0.0",
         "0.0",
         "0.0",
         "283.97",
         "951.3",
         "1206.88",
         "0.0",
         "15.95",
         "15.95",
         "1.53",
         "0.18",
         "0.0",
         "0.23",
         "0.83",
         "0.0",
         "57.57",
         "0.0",
         "5.93"
        ],
        [
         "M1154",
         "Animal",
         "Beef",
         "Beef blade ",
         "2.042333333",
         "1.0",
         "M",
         "Beef, forequarter bolar, separable lean & fat, raw",
         "Beef, forequarter bolar, separable lean & fat, raw",
         "1036.61",
         "0.0",
         "0.45",
         "1310.53",
         "1586.28",
         "0.0",
         "0.0",
         "0.0",
         "0.0",
         "0.0",
         "0",
         "0.0",
         "0.0",
         "0.0",
         "4.34",
         "0.0",
         "0.14",
         "56.6",
         "0.0",
         "0.0",
         "0.14",
         "235.86",
         "0.0",
         "5.36",
         "0.0",
         "29.74",
         "97.9",
         "158.76",
         "158.76",
         "664.53",
         "664.53",
         "0.0",
         "8.17",
         "0.07",
         "0.019",
         "0.03",
         "0.003",
         "0.096",
         "6.215",
         "0.054",
         "2.869",
         "0.318",
         "0.123",
         "3.028",
         "0.239",
         "0.0",
         "0.0",
         "0.0",
         "0.0",
         "5.36",
         "5.36",
         "0.0",
         "0.0",
         "0.0",
         "0.0",
         "2787.41",
         "1179.6",
         "0.0",
         "582.12",
         "0",
         "0.88",
         "1.97",
         "784.04",
         "0",
         "0.0",
         "0.0",
         "1468.44",
         "0.0",
         "0.0",
         "0.0",
         "1527.03",
         "21.52",
         "0.0",
         "0.0",
         "0.0",
         "12.73",
         "0.0",
         "600.49",
         "0.0",
         "0.0",
         "3.33",
         "6.34",
         "3.01",
         "0.0",
         "3.41",
         "6.25",
         "0.0",
         "0.0",
         "0.52",
         "763.18",
         "182.9",
         "0.0",
         "0.0",
         "0.0",
         "0.0",
         "312.89",
         "720.64",
         "21.3",
         "100.67",
         "0.0",
         "8.88",
         "0.1",
         "0.0",
         "1.06",
         "684.89",
         "0.0",
         "53.67",
         "0.0",
         "0.0",
         "0",
         "0.0",
         "0.0",
         "0.0",
         "0.0",
         "0.0",
         "56.99",
         "0.05",
         "695.49",
         "0.0",
         "0.0",
         "0.0",
         "0.0",
         "195.97",
         "655.93",
         "833.03",
         "0.0",
         "8.88",
         "8.88",
         "1.71",
         "0.32",
         "0.0",
         "0.14",
         "0.45",
         "0.0",
         "70.26",
         "0.0",
         "3.46"
        ],
        [
         "M1069",
         "Animal",
         "Beef",
         "Beef blade ",
         "2.042333333",
         "1.0",
         "M",
         "Beef, forequarter bolar, separable lean, braised",
         "Beef, forequarter bolar, separable lean, braised",
         "1627.87",
         "0.0",
         "0.76",
         "2057.87",
         "2487.87",
         "0.0",
         "0.0",
         "0.0",
         "0.0",
         "0.0",
         "0",
         "0.0",
         "0.0",
         "0.0",
         "5.5",
         "0.0",
         "0.21",
         "91.3",
         "0.0",
         "0.0",
         "0.13",
         "368.57",
         "0.0",
         "5.97",
         "0.0",
         "39.54",
         "86.0",
         "193.2",
         "193.2",
         "812.89",
         "812.89",
         "0.0",
         "6.57",
         "0.06",
         "0.028",
         "0.037",
         "0.006",
         "0.11",
         "4.605",
         "0.073",
         "2.366",
         "0.341",
         "0.134",
         "1.898",
         "0.095",
         "0.0",
         "0.0",
         "0.0",
         "0.0",
         "5.97",
         "5.97",
         "0.0",
         "0.0",
         "0.0",
         "0.0",
         "4376.81",
         "1858.22",
         "0.0",
         "906.08",
         "0",
         "0.88",
         "2.7",
         "1228.58",
         "0",
         "0.0",
         "0.0",
         "2303.58",
         "0.0",
         "0.0",
         "0.0",
         "2395.73",
         "19.37",
         "0.0",
         "0.0",
         "0.0",
         "11.96",
         "0.0",
         "936.79",
         "0.0",
         "0.0",
         "5.22",
         "7.45",
         "2.23",
         "0.0",
         "5.36",
         "6.25",
         "0.0",
         "0.0",
         "0.4",
         "1197.86",
         "164.99",
         "0.0",
         "0.0",
         "0.0",
         "0.0",
         "180.54",
         "1136.44",
         "33.53",
         "101.7",
         "0.0",
         "13.49",
         "0.14",
         "0.0",
         "2.0",
         "1075.01",
         "0.0",
         "32.84",
         "0.0",
         "0.0",
         "0",
         "0.0",
         "0.0",
         "0.0",
         "0.0",
         "0.0",
         "92.14",
         "0.04",
         "1090.36",
         "0.0",
         "0.0",
         "0.0",
         "0.0",
         "307.14",
         "1028.93",
         "1305.36",
         "0.0",
         "13.49",
         "13.49",
         "1.65",
         "0.19",
         "0.0",
         "0.21",
         "0.76",
         "0.0",
         "60.46",
         "0.0",
         "6.38"
        ],
        [
         "M1044",
         "Animal",
         "Beef",
         "Beef blade ",
         "2.042333333",
         "1.0",
         "M",
         "Beef, forequarter bolar, separable lean, raw",
         "Beef, forequarter bolar, separable lean, raw",
         "1072.58",
         "0.0",
         "0.4",
         "1355.9",
         "1639.22",
         "0.0",
         "0.0",
         "0.0",
         "0.0",
         "0.0",
         "0",
         "0.0",
         "0.0",
         "0.0",
         "3.55",
         "0.0",
         "0.13",
         "55.5",
         "0.0",
         "0.0",
         "0.15",
         "242.85",
         "0.0",
         "5.68",
         "0.0",
         "26.89",
         "92.4",
         "128.77",
         "128.77",
         "541.66",
         "541.66",
         "0.0",
         "4.49",
         "0.044",
         "0.02",
         "0.029",
         "0.003",
         "0.077",
         "3.284",
         "0.055",
         "1.68",
         "0.242",
         "0.099",
         "1.361",
         "0.066",
         "0.0",
         "0.0",
         "0.0",
         "0.0",
         "5.68",
         "5.68",
         "0.0",
         "0.0",
         "0.0",
         "0.0",
         "2883.82",
         "1224.36",
         "0.0",
         "597.0",
         "0",
         "0.77",
         "2.06",
         "809.49",
         "0",
         "0.0",
         "0.0",
         "1517.8",
         "0.0",
         "0.0",
         "0.0",
         "1578.51",
         "22.49",
         "0.0",
         "0.0",
         "0.0",
         "13.39",
         "0.0",
         "617.24",
         "0.0",
         "0.0",
         "3.44",
         "6.58",
         "3.14",
         "0.0",
         "3.53",
         "6.25",
         "0.0",
         "0.0",
         "0.55",
         "789.26",
         "190.45",
         "0.0",
         "0.0",
         "0.0",
         "0.0",
         "325.16",
         "748.78",
         "22.09",
         "100.68",
         "0.0",
         "6.25",
         "0.11",
         "0.0",
         "1.0",
         "708.31",
         "0.0",
         "55.2",
         "0.0",
         "0.0",
         "0",
         "0.0",
         "0.0",
         "0.0",
         "0.0",
         "0.0",
         "60.71",
         "0.05",
         "718.43",
         "0.0",
         "0.0",
         "0.0",
         "0.0",
         "202.37",
         "677.95",
         "860.09",
         "0.0",
         "6.25",
         "6.25",
         "1.8",
         "0.33",
         "0.0",
         "0.13",
         "0.4",
         "0.0",
         "73.11",
         "0.0",
         "3.63"
        ],
        [
         "M1171",
         "Animal",
         "Beef",
         "Beef blade ",
         "2.042333333",
         "1.0",
         "M",
         "Beef, forequarter brisket navel end, separable lean & fat, braised",
         "Beef, forequarter brisket navel end, separable lean & fat, braised",
         "870.8",
         "0.0",
         "1.11",
         "1100.82",
         "1330.84",
         "0.0",
         "1.09",
         "0.0",
         "0.0",
         "0.0",
         "0",
         "0.0",
         "0.0",
         "0.0",
         "11.66",
         "0.0",
         "0.31",
         "83.1",
         "0.0",
         "0.0",
         "0.05",
         "197.16",
         "0.0",
         "3.04",
         "0.0",
         "57.72",
         "100.0",
         "414.7",
         "414.7",
         "1714.85",
         "1714.85",
         "0.0",
         "38.11",
         "0.254",
         "0.007",
         "0.054",
         "0.0",
         "0.279",
         "29.874",
         "0.061",
         "12.774",
         "0.914",
         "0.315",
         "16.186",
         "1.502",
         "0.0",
         "0.0",
         "0.0",
         "0.0",
         "3.04",
         "3.04",
         "0.0",
         "0.0",
         "0.0",
         "0.0",
         "2341.3",
         "994.03",
         "0.0",
         "484.69",
         "0",
         "1.55",
         "1.49",
         "657.21",
         "0",
         "0.0",
         "0.0",
         "1232.26",
         "0.0",
         "0.0",
         "0.0",
         "1281.55",
         "11.7",
         "0.0",
         "0.0",
         "0.0",
         "2.89",
         "0.0",
         "501.12",
         "0.0",
         "0.0",
         "2.79",
         "4.51",
         "1.72",
         "0.0",
         "2.87",
         "6.25",
         "0.0",
         "0.0",
         "0.11",
         "640.78",
         "92.7",
         "0.0",
         "0.0",
         "0.0",
         "0.0",
         "132.95",
         "607.92",
         "17.93",
         "98.91",
         "0.0",
         "27.91",
         "0.07",
         "0.0",
         "3.85",
         "575.06",
         "0.0",
         "31.8",
         "0.0",
         "0.0",
         "0",
         "0.0",
         "0.0",
         "0.0",
         "0.0",
         "0.0",
         "49.29",
         "0.03",
         "583.27",
         "0.0",
         "1.09",
         "0.0",
         "0.0",
         "164.3",
         "550.41",
         "698.28",
         "0.0",
         "27.91",
         "27.91",
         "0.84",
         "0.09",
         "0.0",
         "0.31",
         "1.11",
         "0.0",
         "42.28",
         "0.0",
         "3.7"
        ]
       ],
       "shape": {
        "columns": 145,
        "rows": 5
       }
      },
      "text/html": [
       "<div>\n",
       "<style scoped>\n",
       "    .dataframe tbody tr th:only-of-type {\n",
       "        vertical-align: middle;\n",
       "    }\n",
       "\n",
       "    .dataframe tbody tr th {\n",
       "        vertical-align: top;\n",
       "    }\n",
       "\n",
       "    .dataframe thead th {\n",
       "        text-align: right;\n",
       "    }\n",
       "</style>\n",
       "<table border=\"1\" class=\"dataframe\">\n",
       "  <thead>\n",
       "    <tr style=\"text-align: right;\">\n",
       "      <th></th>\n",
       "      <th>Source</th>\n",
       "      <th>Group</th>\n",
       "      <th>SubGroup</th>\n",
       "      <th>Cost</th>\n",
       "      <th>Amount</th>\n",
       "      <th>Chapter</th>\n",
       "      <th>Name</th>\n",
       "      <th>Description</th>\n",
       "      <th>Alanine</th>\n",
       "      <th>Alpha-carotene</th>\n",
       "      <th>...</th>\n",
       "      <th>Vitamin A, retinol equivalents</th>\n",
       "      <th>Vitamin B12</th>\n",
       "      <th>Vitamin B6</th>\n",
       "      <th>Vitamin C</th>\n",
       "      <th>Vitamin D; calculated by summation</th>\n",
       "      <th>Vitamin E, alpha-tocopherol equivalents</th>\n",
       "      <th>Vitamin K</th>\n",
       "      <th>Water</th>\n",
       "      <th>Zeaxanthin</th>\n",
       "      <th>Zinc</th>\n",
       "    </tr>\n",
       "    <tr>\n",
       "      <th>ID</th>\n",
       "      <th></th>\n",
       "      <th></th>\n",
       "      <th></th>\n",
       "      <th></th>\n",
       "      <th></th>\n",
       "      <th></th>\n",
       "      <th></th>\n",
       "      <th></th>\n",
       "      <th></th>\n",
       "      <th></th>\n",
       "      <th></th>\n",
       "      <th></th>\n",
       "      <th></th>\n",
       "      <th></th>\n",
       "      <th></th>\n",
       "      <th></th>\n",
       "      <th></th>\n",
       "      <th></th>\n",
       "      <th></th>\n",
       "      <th></th>\n",
       "      <th></th>\n",
       "    </tr>\n",
       "  </thead>\n",
       "  <tbody>\n",
       "    <tr>\n",
       "      <th>M1170</th>\n",
       "      <td>Animal</td>\n",
       "      <td>Beef</td>\n",
       "      <td>Beef blade</td>\n",
       "      <td>2.042333</td>\n",
       "      <td>1.0</td>\n",
       "      <td>M</td>\n",
       "      <td>Beef, forequarter bolar, separable lean &amp; fat,...</td>\n",
       "      <td>Beef, forequarter bolar, separable lean &amp; fat,...</td>\n",
       "      <td>1505.04</td>\n",
       "      <td>0.0</td>\n",
       "      <td>...</td>\n",
       "      <td>15.95</td>\n",
       "      <td>1.53</td>\n",
       "      <td>0.18</td>\n",
       "      <td>0.0</td>\n",
       "      <td>0.23</td>\n",
       "      <td>0.83</td>\n",
       "      <td>0.0</td>\n",
       "      <td>57.57</td>\n",
       "      <td>0.0</td>\n",
       "      <td>5.93</td>\n",
       "    </tr>\n",
       "    <tr>\n",
       "      <th>M1154</th>\n",
       "      <td>Animal</td>\n",
       "      <td>Beef</td>\n",
       "      <td>Beef blade</td>\n",
       "      <td>2.042333</td>\n",
       "      <td>1.0</td>\n",
       "      <td>M</td>\n",
       "      <td>Beef, forequarter bolar, separable lean &amp; fat,...</td>\n",
       "      <td>Beef, forequarter bolar, separable lean &amp; fat,...</td>\n",
       "      <td>1036.61</td>\n",
       "      <td>0.0</td>\n",
       "      <td>...</td>\n",
       "      <td>8.88</td>\n",
       "      <td>1.71</td>\n",
       "      <td>0.32</td>\n",
       "      <td>0.0</td>\n",
       "      <td>0.14</td>\n",
       "      <td>0.45</td>\n",
       "      <td>0.0</td>\n",
       "      <td>70.26</td>\n",
       "      <td>0.0</td>\n",
       "      <td>3.46</td>\n",
       "    </tr>\n",
       "    <tr>\n",
       "      <th>M1069</th>\n",
       "      <td>Animal</td>\n",
       "      <td>Beef</td>\n",
       "      <td>Beef blade</td>\n",
       "      <td>2.042333</td>\n",
       "      <td>1.0</td>\n",
       "      <td>M</td>\n",
       "      <td>Beef, forequarter bolar, separable lean, braised</td>\n",
       "      <td>Beef, forequarter bolar, separable lean, braised</td>\n",
       "      <td>1627.87</td>\n",
       "      <td>0.0</td>\n",
       "      <td>...</td>\n",
       "      <td>13.49</td>\n",
       "      <td>1.65</td>\n",
       "      <td>0.19</td>\n",
       "      <td>0.0</td>\n",
       "      <td>0.21</td>\n",
       "      <td>0.76</td>\n",
       "      <td>0.0</td>\n",
       "      <td>60.46</td>\n",
       "      <td>0.0</td>\n",
       "      <td>6.38</td>\n",
       "    </tr>\n",
       "    <tr>\n",
       "      <th>M1044</th>\n",
       "      <td>Animal</td>\n",
       "      <td>Beef</td>\n",
       "      <td>Beef blade</td>\n",
       "      <td>2.042333</td>\n",
       "      <td>1.0</td>\n",
       "      <td>M</td>\n",
       "      <td>Beef, forequarter bolar, separable lean, raw</td>\n",
       "      <td>Beef, forequarter bolar, separable lean, raw</td>\n",
       "      <td>1072.58</td>\n",
       "      <td>0.0</td>\n",
       "      <td>...</td>\n",
       "      <td>6.25</td>\n",
       "      <td>1.80</td>\n",
       "      <td>0.33</td>\n",
       "      <td>0.0</td>\n",
       "      <td>0.13</td>\n",
       "      <td>0.40</td>\n",
       "      <td>0.0</td>\n",
       "      <td>73.11</td>\n",
       "      <td>0.0</td>\n",
       "      <td>3.63</td>\n",
       "    </tr>\n",
       "    <tr>\n",
       "      <th>M1171</th>\n",
       "      <td>Animal</td>\n",
       "      <td>Beef</td>\n",
       "      <td>Beef blade</td>\n",
       "      <td>2.042333</td>\n",
       "      <td>1.0</td>\n",
       "      <td>M</td>\n",
       "      <td>Beef, forequarter brisket navel end, separable...</td>\n",
       "      <td>Beef, forequarter brisket navel end, separable...</td>\n",
       "      <td>870.80</td>\n",
       "      <td>0.0</td>\n",
       "      <td>...</td>\n",
       "      <td>27.91</td>\n",
       "      <td>0.84</td>\n",
       "      <td>0.09</td>\n",
       "      <td>0.0</td>\n",
       "      <td>0.31</td>\n",
       "      <td>1.11</td>\n",
       "      <td>0.0</td>\n",
       "      <td>42.28</td>\n",
       "      <td>0.0</td>\n",
       "      <td>3.70</td>\n",
       "    </tr>\n",
       "  </tbody>\n",
       "</table>\n",
       "<p>5 rows × 145 columns</p>\n",
       "</div>"
      ],
      "text/plain": [
       "       Source Group     SubGroup      Cost  Amount Chapter  \\\n",
       "ID                                                           \n",
       "M1170  Animal  Beef  Beef blade   2.042333     1.0       M   \n",
       "M1154  Animal  Beef  Beef blade   2.042333     1.0       M   \n",
       "M1069  Animal  Beef  Beef blade   2.042333     1.0       M   \n",
       "M1044  Animal  Beef  Beef blade   2.042333     1.0       M   \n",
       "M1171  Animal  Beef  Beef blade   2.042333     1.0       M   \n",
       "\n",
       "                                                    Name  \\\n",
       "ID                                                         \n",
       "M1170  Beef, forequarter bolar, separable lean & fat,...   \n",
       "M1154  Beef, forequarter bolar, separable lean & fat,...   \n",
       "M1069   Beef, forequarter bolar, separable lean, braised   \n",
       "M1044       Beef, forequarter bolar, separable lean, raw   \n",
       "M1171  Beef, forequarter brisket navel end, separable...   \n",
       "\n",
       "                                             Description  Alanine  \\\n",
       "ID                                                                  \n",
       "M1170  Beef, forequarter bolar, separable lean & fat,...  1505.04   \n",
       "M1154  Beef, forequarter bolar, separable lean & fat,...  1036.61   \n",
       "M1069   Beef, forequarter bolar, separable lean, braised  1627.87   \n",
       "M1044       Beef, forequarter bolar, separable lean, raw  1072.58   \n",
       "M1171  Beef, forequarter brisket navel end, separable...   870.80   \n",
       "\n",
       "       Alpha-carotene  ...  Vitamin A, retinol equivalents  Vitamin B12  \\\n",
       "ID                     ...                                                \n",
       "M1170             0.0  ...                           15.95         1.53   \n",
       "M1154             0.0  ...                            8.88         1.71   \n",
       "M1069             0.0  ...                           13.49         1.65   \n",
       "M1044             0.0  ...                            6.25         1.80   \n",
       "M1171             0.0  ...                           27.91         0.84   \n",
       "\n",
       "       Vitamin B6  Vitamin C  Vitamin D; calculated by summation  \\\n",
       "ID                                                                 \n",
       "M1170        0.18        0.0                                0.23   \n",
       "M1154        0.32        0.0                                0.14   \n",
       "M1069        0.19        0.0                                0.21   \n",
       "M1044        0.33        0.0                                0.13   \n",
       "M1171        0.09        0.0                                0.31   \n",
       "\n",
       "       Vitamin E, alpha-tocopherol equivalents  Vitamin K  Water  Zeaxanthin  \\\n",
       "ID                                                                             \n",
       "M1170                                     0.83        0.0  57.57         0.0   \n",
       "M1154                                     0.45        0.0  70.26         0.0   \n",
       "M1069                                     0.76        0.0  60.46         0.0   \n",
       "M1044                                     0.40        0.0  73.11         0.0   \n",
       "M1171                                     1.11        0.0  42.28         0.0   \n",
       "\n",
       "       Zinc  \n",
       "ID           \n",
       "M1170  5.93  \n",
       "M1154  3.46  \n",
       "M1069  6.38  \n",
       "M1044  3.63  \n",
       "M1171  3.70  \n",
       "\n",
       "[5 rows x 145 columns]"
      ]
     },
     "execution_count": 41,
     "metadata": {},
     "output_type": "execute_result"
    }
   ],
   "source": [
    "# Einlesen der Lebensmittel-Daten\n",
    "\n",
    "df = pd.read_csv('https://raw.githubusercontent.com/febse/data/refs/heads/main/opt/NZFoods.csv').set_index('ID')\n",
    "df.head()"
   ]
  },
  {
   "cell_type": "code",
   "execution_count": 42,
   "metadata": {},
   "outputs": [
    {
     "data": {
      "application/vnd.microsoft.datawrangler.viewer.v0+json": {
       "columns": [
        {
         "name": "index",
         "rawType": "int64",
         "type": "integer"
        },
        {
         "name": "Alanine",
         "rawType": "int64",
         "type": "integer"
        },
        {
         "name": "Alpha-carotene",
         "rawType": "int64",
         "type": "integer"
        },
        {
         "name": "Alpha-tocopherol",
         "rawType": "int64",
         "type": "integer"
        },
        {
         "name": "Arginine",
         "rawType": "int64",
         "type": "integer"
        },
        {
         "name": "Asparagine",
         "rawType": "int64",
         "type": "integer"
        },
        {
         "name": "Available carbohydrate by difference",
         "rawType": "int64",
         "type": "integer"
        },
        {
         "name": "Beta-carotene",
         "rawType": "int64",
         "type": "integer"
        },
        {
         "name": "Beta-carotene equivalents",
         "rawType": "int64",
         "type": "integer"
        },
        {
         "name": "Beta-tocopherol",
         "rawType": "int64",
         "type": "integer"
        },
        {
         "name": "Beta-tocopherol + Gamma-tocopherol",
         "rawType": "int64",
         "type": "integer"
        },
        {
         "name": "Biotin",
         "rawType": "float64",
         "type": "float"
        },
        {
         "name": "Boron",
         "rawType": "int64",
         "type": "integer"
        },
        {
         "name": "Cadmium",
         "rawType": "int64",
         "type": "integer"
        },
        {
         "name": "Calcium",
         "rawType": "int64",
         "type": "integer"
        },
        {
         "name": "Chloride",
         "rawType": "int64",
         "type": "integer"
        },
        {
         "name": "Cholecalciferol (Vitamin D3)",
         "rawType": "int64",
         "type": "integer"
        },
        {
         "name": "Cholesterol",
         "rawType": "int64",
         "type": "integer"
        },
        {
         "name": "Chromium",
         "rawType": "int64",
         "type": "integer"
        },
        {
         "name": "Cobalt",
         "rawType": "int64",
         "type": "integer"
        },
        {
         "name": "Copper",
         "rawType": "float64",
         "type": "float"
        },
        {
         "name": "Cystine",
         "rawType": "int64",
         "type": "integer"
        },
        {
         "name": "Delta-tocopherol",
         "rawType": "int64",
         "type": "integer"
        },
        {
         "name": "Dietary folate equivalents",
         "rawType": "int64",
         "type": "integer"
        },
        {
         "name": "Disaccharides, total",
         "rawType": "int64",
         "type": "integer"
        },
        {
         "name": "Dry matter",
         "rawType": "int64",
         "type": "integer"
        },
        {
         "name": "Edible portion",
         "rawType": "int64",
         "type": "integer"
        },
        {
         "name": "Energy, total metabolisable (kcal)",
         "rawType": "int64",
         "type": "integer"
        },
        {
         "name": "Energy, total metabolisable (kcal, including dietary fibre)",
         "rawType": "int64",
         "type": "integer"
        },
        {
         "name": "Energy, total metabolisable (kJ)",
         "rawType": "int64",
         "type": "integer"
        },
        {
         "name": "Energy, total metabolisable (kJ, including dietary fibre)",
         "rawType": "int64",
         "type": "integer"
        },
        {
         "name": "Ergocalciferol (Vitamin D2)",
         "rawType": "int64",
         "type": "integer"
        },
        {
         "name": "Fat, total",
         "rawType": "int64",
         "type": "integer"
        },
        {
         "name": "Fatty acid 18:3 omega-3",
         "rawType": "float64",
         "type": "float"
        },
        {
         "name": "Fatty acid 20:5 omega-3",
         "rawType": "int64",
         "type": "integer"
        },
        {
         "name": "Fatty acid 22:5 omega-3",
         "rawType": "int64",
         "type": "integer"
        },
        {
         "name": "Fatty acid 22:6 omega-3",
         "rawType": "int64",
         "type": "integer"
        },
        {
         "name": "Fatty acid cis,cis 18:2 omega-6",
         "rawType": "float64",
         "type": "float"
        },
        {
         "name": "Fatty acids, total",
         "rawType": "int64",
         "type": "integer"
        },
        {
         "name": "Fatty acids, total long chain polyunsaturated omega-3",
         "rawType": "int64",
         "type": "integer"
        },
        {
         "name": "Fatty acids, total monounsaturated",
         "rawType": "int64",
         "type": "integer"
        },
        {
         "name": "Fatty acids, total polyunsaturated",
         "rawType": "int64",
         "type": "integer"
        },
        {
         "name": "Fatty acids, total polyunsaturated omega-3",
         "rawType": "int64",
         "type": "integer"
        },
        {
         "name": "Fatty acids, total saturated",
         "rawType": "int64",
         "type": "integer"
        },
        {
         "name": "Fatty acids, total trans",
         "rawType": "int64",
         "type": "integer"
        },
        {
         "name": "Fibre, total dietary",
         "rawType": "float64",
         "type": "float"
        },
        {
         "name": "Fibre, water-insoluble",
         "rawType": "int64",
         "type": "integer"
        },
        {
         "name": "Fibre, water-soluble",
         "rawType": "int64",
         "type": "integer"
        },
        {
         "name": "Fluoride",
         "rawType": "int64",
         "type": "integer"
        },
        {
         "name": "Folate food, naturally occurring food folates",
         "rawType": "int64",
         "type": "integer"
        },
        {
         "name": "Folate, total",
         "rawType": "int64",
         "type": "integer"
        },
        {
         "name": "Folic acid, synthetic folic acid",
         "rawType": "int64",
         "type": "integer"
        },
        {
         "name": "Fructose",
         "rawType": "int64",
         "type": "integer"
        },
        {
         "name": "Gamma-tocopherol",
         "rawType": "int64",
         "type": "integer"
        },
        {
         "name": "Glucose",
         "rawType": "int64",
         "type": "integer"
        },
        {
         "name": "Glutamic acid",
         "rawType": "int64",
         "type": "integer"
        },
        {
         "name": "Glycine",
         "rawType": "int64",
         "type": "integer"
        },
        {
         "name": "Glycogen",
         "rawType": "int64",
         "type": "integer"
        },
        {
         "name": "Histidine",
         "rawType": "int64",
         "type": "integer"
        },
        {
         "name": "Hydroxyproline",
         "rawType": "int64",
         "type": "integer"
        },
        {
         "name": "Iodide",
         "rawType": "int64",
         "type": "integer"
        },
        {
         "name": "Iron",
         "rawType": "int64",
         "type": "integer"
        },
        {
         "name": "Isoleucine",
         "rawType": "int64",
         "type": "integer"
        },
        {
         "name": "Lactic acid (grams)",
         "rawType": "int64",
         "type": "integer"
        },
        {
         "name": "Lactose",
         "rawType": "int64",
         "type": "integer"
        },
        {
         "name": "Lead",
         "rawType": "int64",
         "type": "integer"
        },
        {
         "name": "Leucine",
         "rawType": "int64",
         "type": "integer"
        },
        {
         "name": "Lithium",
         "rawType": "int64",
         "type": "integer"
        },
        {
         "name": "Lutein",
         "rawType": "int64",
         "type": "integer"
        },
        {
         "name": "Lycopene",
         "rawType": "int64",
         "type": "integer"
        },
        {
         "name": "Lysine",
         "rawType": "int64",
         "type": "integer"
        },
        {
         "name": "Magnesium",
         "rawType": "float64",
         "type": "float"
        },
        {
         "name": "Malic acid (grams)",
         "rawType": "int64",
         "type": "integer"
        },
        {
         "name": "Maltose",
         "rawType": "int64",
         "type": "integer"
        },
        {
         "name": "Manganese",
         "rawType": "int64",
         "type": "integer"
        },
        {
         "name": "Mercury",
         "rawType": "int64",
         "type": "integer"
        },
        {
         "name": "Methionine",
         "rawType": "int64",
         "type": "integer"
        },
        {
         "name": "Molybdenum",
         "rawType": "int64",
         "type": "integer"
        },
        {
         "name": "Monosaccharides, total",
         "rawType": "int64",
         "type": "integer"
        },
        {
         "name": "Niacin equivalents from tryptophan",
         "rawType": "int64",
         "type": "integer"
        },
        {
         "name": "Niacin equivalents, total",
         "rawType": "int64",
         "type": "integer"
        },
        {
         "name": "Niacin, preformed",
         "rawType": "int64",
         "type": "integer"
        },
        {
         "name": "Nickel",
         "rawType": "int64",
         "type": "integer"
        },
        {
         "name": "Nitrogen, total",
         "rawType": "int64",
         "type": "integer"
        },
        {
         "name": "Nitrogen-to-protein conversion factor",
         "rawType": "int64",
         "type": "integer"
        },
        {
         "name": "Organic acids, total (grams)",
         "rawType": "int64",
         "type": "integer"
        },
        {
         "name": "Oxalic acid (grams)",
         "rawType": "int64",
         "type": "integer"
        },
        {
         "name": "Pantothenic acid",
         "rawType": "int64",
         "type": "integer"
        },
        {
         "name": "Phenylalanine",
         "rawType": "int64",
         "type": "integer"
        },
        {
         "name": "Phosphorus",
         "rawType": "int64",
         "type": "integer"
        },
        {
         "name": "Phytosterols, total",
         "rawType": "int64",
         "type": "integer"
        },
        {
         "name": "Polysaccharides, non-starch",
         "rawType": "int64",
         "type": "integer"
        },
        {
         "name": "Polysaccharides, non-starch, water-insoluble",
         "rawType": "int64",
         "type": "integer"
        },
        {
         "name": "Polysaccharides, non-starch, water-soluble",
         "rawType": "int64",
         "type": "integer"
        },
        {
         "name": "Potassium",
         "rawType": "int64",
         "type": "integer"
        },
        {
         "name": "Proline",
         "rawType": "int64",
         "type": "integer"
        },
        {
         "name": "Protein, total; calculated from total nitrogen",
         "rawType": "int64",
         "type": "integer"
        },
        {
         "name": "Proximates, total",
         "rawType": "int64",
         "type": "integer"
        },
        {
         "name": "Quinic acid (grams)",
         "rawType": "int64",
         "type": "integer"
        },
        {
         "name": "Retinol",
         "rawType": "int64",
         "type": "integer"
        },
        {
         "name": "Riboflavin",
         "rawType": "float64",
         "type": "float"
        },
        {
         "name": "Rubidium",
         "rawType": "int64",
         "type": "integer"
        },
        {
         "name": "Selenium",
         "rawType": "int64",
         "type": "integer"
        },
        {
         "name": "Serine",
         "rawType": "int64",
         "type": "integer"
        },
        {
         "name": "Silicon (acid soluble)",
         "rawType": "int64",
         "type": "integer"
        },
        {
         "name": "Sodium",
         "rawType": "int64",
         "type": "integer"
        },
        {
         "name": "Starch, total",
         "rawType": "int64",
         "type": "integer"
        },
        {
         "name": "Succinic acid (grams)",
         "rawType": "int64",
         "type": "integer"
        },
        {
         "name": "Sucrose",
         "rawType": "int64",
         "type": "integer"
        },
        {
         "name": "Sugar, added",
         "rawType": "int64",
         "type": "integer"
        },
        {
         "name": "Sugar, free",
         "rawType": "int64",
         "type": "integer"
        },
        {
         "name": "Sugars, total",
         "rawType": "int64",
         "type": "integer"
        },
        {
         "name": "Sulphur",
         "rawType": "int64",
         "type": "integer"
        },
        {
         "name": "Taurine",
         "rawType": "int64",
         "type": "integer"
        },
        {
         "name": "Thiamin",
         "rawType": "float64",
         "type": "float"
        },
        {
         "name": "Threonine",
         "rawType": "int64",
         "type": "integer"
        },
        {
         "name": "Tin",
         "rawType": "int64",
         "type": "integer"
        },
        {
         "name": "Total carbohydrate by difference",
         "rawType": "int64",
         "type": "integer"
        },
        {
         "name": "Total carbohydrates by summation",
         "rawType": "int64",
         "type": "integer"
        },
        {
         "name": "Total fat-to-total fatty acids conversion factor",
         "rawType": "int64",
         "type": "integer"
        },
        {
         "name": "Tryptophan",
         "rawType": "int64",
         "type": "integer"
        },
        {
         "name": "Tyrosine",
         "rawType": "int64",
         "type": "integer"
        },
        {
         "name": "Valine",
         "rawType": "int64",
         "type": "integer"
        },
        {
         "name": "Vanadium",
         "rawType": "int64",
         "type": "integer"
        },
        {
         "name": "Vitamin A, retinol activity equivalents",
         "rawType": "int64",
         "type": "integer"
        },
        {
         "name": "Vitamin A, retinol equivalents",
         "rawType": "int64",
         "type": "integer"
        },
        {
         "name": "Vitamin B12",
         "rawType": "float64",
         "type": "float"
        },
        {
         "name": "Vitamin B6",
         "rawType": "float64",
         "type": "float"
        },
        {
         "name": "Vitamin C",
         "rawType": "int64",
         "type": "integer"
        },
        {
         "name": "Vitamin D; calculated by summation",
         "rawType": "int64",
         "type": "integer"
        },
        {
         "name": "Vitamin E, alpha-tocopherol equivalents",
         "rawType": "float64",
         "type": "float"
        },
        {
         "name": "Vitamin K",
         "rawType": "int64",
         "type": "integer"
        },
        {
         "name": "Water",
         "rawType": "int64",
         "type": "integer"
        },
        {
         "name": "Zeaxanthin",
         "rawType": "int64",
         "type": "integer"
        },
        {
         "name": "Zinc",
         "rawType": "int64",
         "type": "integer"
        }
       ],
       "conversionMethod": "pd.DataFrame",
       "ref": "64cf7321-ef6c-456a-b752-7aa4bdb2915e",
       "rows": [
        [
         "0",
         "0",
         "0",
         "0",
         "0",
         "0",
         "0",
         "0",
         "0",
         "0",
         "0",
         "27.5",
         "0",
         "0",
         "1000",
         "0",
         "0",
         "0",
         "30",
         "0",
         "1.45",
         "0",
         "0",
         "400",
         "0",
         "0",
         "0",
         "0",
         "0",
         "11150",
         "0",
         "0",
         "0",
         "1.05",
         "0",
         "0",
         "0",
         "10.5",
         "0",
         "0",
         "0",
         "0",
         "0",
         "0",
         "0",
         "27.5",
         "0",
         "0",
         "0",
         "0",
         "0",
         "0",
         "0",
         "0",
         "0",
         "0",
         "0",
         "0",
         "0",
         "0",
         "0",
         "13",
         "0",
         "0",
         "0",
         "0",
         "0",
         "0",
         "0",
         "0",
         "0",
         "362.5",
         "0",
         "0",
         "5250",
         "0",
         "0",
         "45",
         "0",
         "0",
         "15",
         "0",
         "0",
         "0",
         "0",
         "0",
         "0",
         "5",
         "0",
         "1000",
         "0",
         "0",
         "0",
         "0",
         "3300",
         "0",
         "55",
         "0",
         "0",
         "0",
         "1.2",
         "0",
         "65",
         "0",
         "0",
         "670",
         "0",
         "0",
         "0",
         "0",
         "0",
         "0",
         "0",
         "0",
         "1.15",
         "0",
         "0",
         "0",
         "0",
         "0",
         "0",
         "0",
         "0",
         "0",
         "0",
         "800",
         "2.4",
         "1.3",
         "45",
         "5",
         "8.5",
         "65",
         "0",
         "0",
         "11"
        ],
        [
         "1",
         "99999999999",
         "99999999999",
         "99999999999",
         "99999999999",
         "99999999999",
         "99999999999",
         "99999999999",
         "99999999999",
         "99999999999",
         "99999999999",
         "99999999999.0",
         "99999999999",
         "99999999999",
         "2500",
         "99999999999",
         "99999999999",
         "99999999999",
         "99999999999",
         "99999999999",
         "10.0",
         "99999999999",
         "99999999999",
         "1000",
         "99999999999",
         "99999999999",
         "99999999999",
         "99999999999",
         "99999999999",
         "11150",
         "99999999999",
         "99999999999",
         "99999999999",
         "99999999999.0",
         "99999999999",
         "99999999999",
         "99999999999",
         "99999999999.0",
         "99999999999",
         "3",
         "99999999999",
         "99999999999",
         "99999999999",
         "99999999999",
         "99999999999",
         "99999999999.0",
         "99999999999",
         "99999999999",
         "99999999999",
         "99999999999",
         "99999999999",
         "99999999999",
         "99999999999",
         "99999999999",
         "99999999999",
         "99999999999",
         "99999999999",
         "99999999999",
         "99999999999",
         "99999999999",
         "99999999999",
         "45",
         "99999999999",
         "99999999999",
         "99999999999",
         "99999999999",
         "99999999999",
         "99999999999",
         "99999999999",
         "99999999999",
         "99999999999",
         "99999999999.0",
         "99999999999",
         "99999999999",
         "99999999999",
         "99999999999",
         "99999999999",
         "2000",
         "99999999999",
         "99999999999",
         "35",
         "99999999999",
         "99999999999",
         "99999999999",
         "99999999999",
         "99999999999",
         "99999999999",
         "99999999999",
         "99999999999",
         "4000",
         "99999999999",
         "99999999999",
         "99999999999",
         "99999999999",
         "99999999999",
         "99999999999",
         "99999999999",
         "99999999999",
         "99999999999",
         "99999999999",
         "99999999999.0",
         "99999999999",
         "99999999999",
         "99999999999",
         "99999999999",
         "2000",
         "99999999999",
         "99999999999",
         "99999999999",
         "99999999999",
         "99999999999",
         "99999999999",
         "99999999999",
         "99999999999",
         "99999999999.0",
         "99999999999",
         "99999999999",
         "99999999999",
         "99999999999",
         "99999999999",
         "99999999999",
         "99999999999",
         "99999999999",
         "99999999999",
         "99999999999",
         "3000",
         "99999999999.0",
         "50.0",
         "1000",
         "80",
         "300.0",
         "99999999999",
         "99999999999",
         "99999999999",
         "40"
        ]
       ],
       "shape": {
        "columns": 134,
        "rows": 2
       }
      },
      "text/html": [
       "<div>\n",
       "<style scoped>\n",
       "    .dataframe tbody tr th:only-of-type {\n",
       "        vertical-align: middle;\n",
       "    }\n",
       "\n",
       "    .dataframe tbody tr th {\n",
       "        vertical-align: top;\n",
       "    }\n",
       "\n",
       "    .dataframe thead th {\n",
       "        text-align: right;\n",
       "    }\n",
       "</style>\n",
       "<table border=\"1\" class=\"dataframe\">\n",
       "  <thead>\n",
       "    <tr style=\"text-align: right;\">\n",
       "      <th></th>\n",
       "      <th>Alanine</th>\n",
       "      <th>Alpha-carotene</th>\n",
       "      <th>Alpha-tocopherol</th>\n",
       "      <th>Arginine</th>\n",
       "      <th>Asparagine</th>\n",
       "      <th>Available carbohydrate by difference</th>\n",
       "      <th>Beta-carotene</th>\n",
       "      <th>Beta-carotene equivalents</th>\n",
       "      <th>Beta-tocopherol</th>\n",
       "      <th>Beta-tocopherol + Gamma-tocopherol</th>\n",
       "      <th>...</th>\n",
       "      <th>Vitamin A, retinol equivalents</th>\n",
       "      <th>Vitamin B12</th>\n",
       "      <th>Vitamin B6</th>\n",
       "      <th>Vitamin C</th>\n",
       "      <th>Vitamin D; calculated by summation</th>\n",
       "      <th>Vitamin E, alpha-tocopherol equivalents</th>\n",
       "      <th>Vitamin K</th>\n",
       "      <th>Water</th>\n",
       "      <th>Zeaxanthin</th>\n",
       "      <th>Zinc</th>\n",
       "    </tr>\n",
       "  </thead>\n",
       "  <tbody>\n",
       "    <tr>\n",
       "      <th>0</th>\n",
       "      <td>0</td>\n",
       "      <td>0</td>\n",
       "      <td>0</td>\n",
       "      <td>0</td>\n",
       "      <td>0</td>\n",
       "      <td>0</td>\n",
       "      <td>0</td>\n",
       "      <td>0</td>\n",
       "      <td>0</td>\n",
       "      <td>0</td>\n",
       "      <td>...</td>\n",
       "      <td>800</td>\n",
       "      <td>2.400000e+00</td>\n",
       "      <td>1.3</td>\n",
       "      <td>45</td>\n",
       "      <td>5</td>\n",
       "      <td>8.5</td>\n",
       "      <td>65</td>\n",
       "      <td>0</td>\n",
       "      <td>0</td>\n",
       "      <td>11</td>\n",
       "    </tr>\n",
       "    <tr>\n",
       "      <th>1</th>\n",
       "      <td>99999999999</td>\n",
       "      <td>99999999999</td>\n",
       "      <td>99999999999</td>\n",
       "      <td>99999999999</td>\n",
       "      <td>99999999999</td>\n",
       "      <td>99999999999</td>\n",
       "      <td>99999999999</td>\n",
       "      <td>99999999999</td>\n",
       "      <td>99999999999</td>\n",
       "      <td>99999999999</td>\n",
       "      <td>...</td>\n",
       "      <td>3000</td>\n",
       "      <td>1.000000e+11</td>\n",
       "      <td>50.0</td>\n",
       "      <td>1000</td>\n",
       "      <td>80</td>\n",
       "      <td>300.0</td>\n",
       "      <td>99999999999</td>\n",
       "      <td>99999999999</td>\n",
       "      <td>99999999999</td>\n",
       "      <td>40</td>\n",
       "    </tr>\n",
       "  </tbody>\n",
       "</table>\n",
       "<p>2 rows × 134 columns</p>\n",
       "</div>"
      ],
      "text/plain": [
       "       Alanine  Alpha-carotene  Alpha-tocopherol     Arginine   Asparagine  \\\n",
       "0            0               0                 0            0            0   \n",
       "1  99999999999     99999999999       99999999999  99999999999  99999999999   \n",
       "\n",
       "   Available carbohydrate by difference  Beta-carotene  \\\n",
       "0                                     0              0   \n",
       "1                           99999999999    99999999999   \n",
       "\n",
       "   Beta-carotene equivalents  Beta-tocopherol  \\\n",
       "0                          0                0   \n",
       "1                99999999999      99999999999   \n",
       "\n",
       "   Beta-tocopherol + Gamma-tocopherol  ...  Vitamin A, retinol equivalents  \\\n",
       "0                                   0  ...                             800   \n",
       "1                         99999999999  ...                            3000   \n",
       "\n",
       "    Vitamin B12  Vitamin B6  Vitamin C  Vitamin D; calculated by summation  \\\n",
       "0  2.400000e+00         1.3         45                                   5   \n",
       "1  1.000000e+11        50.0       1000                                  80   \n",
       "\n",
       "   Vitamin E, alpha-tocopherol equivalents    Vitamin K        Water  \\\n",
       "0                                      8.5           65            0   \n",
       "1                                    300.0  99999999999  99999999999   \n",
       "\n",
       "    Zeaxanthin  Zinc  \n",
       "0            0    11  \n",
       "1  99999999999    40  \n",
       "\n",
       "[2 rows x 134 columns]"
      ]
     },
     "execution_count": 42,
     "metadata": {},
     "output_type": "execute_result"
    }
   ],
   "source": [
    "# Einlesen der Ernährungsrichtlinien\n",
    "\n",
    "reqs = pd.read_csv('https://raw.githubusercontent.com/febse/data/refs/heads/main/opt/NZPersonReq.csv')\n",
    "reqs.head()"
   ]
  },
  {
   "cell_type": "code",
   "execution_count": 43,
   "metadata": {},
   "outputs": [
    {
     "data": {
      "text/plain": [
       "Source                                          Animal\n",
       "Group                                             Beef\n",
       "SubGroup                                   Beef blade \n",
       "Cost                                          2.042333\n",
       "Amount                                             1.0\n",
       "                                              ...     \n",
       "Vitamin E, alpha-tocopherol equivalents           0.83\n",
       "Vitamin K                                          0.0\n",
       "Water                                            57.57\n",
       "Zeaxanthin                                         0.0\n",
       "Zinc                                              5.93\n",
       "Name: M1170, Length: 145, dtype: object"
      ]
     },
     "execution_count": 43,
     "metadata": {},
     "output_type": "execute_result"
    }
   ],
   "source": [
    "# Zugriff auf die Daten für ein bestimmtes Lebensmittel\n",
    "\n",
    "df.loc[\"M1170\"]"
   ]
  },
  {
   "cell_type": "code",
   "execution_count": 44,
   "metadata": {},
   "outputs": [
    {
     "name": "stdout",
     "output_type": "stream",
     "text": [
      "Set parameter LogToConsole to value 0\n",
      "Total Cost: 2.804167442632024\n"
     ]
    }
   ],
   "source": [
    "m = gp.Model(\"Diet\")\n",
    "m.Params.LogToConsole = 0\n",
    "\n",
    "# Entscheidungsvariablen (ID der Lebensmittel)\n",
    "\n",
    "x = m.addVars(df.index, name=\"x\")\n",
    "\n",
    "# Zielfunktion\n",
    "\n",
    "m.setObjective(x.prod(df['Cost'].to_dict()), GRB.MINIMIZE)\n",
    "\n",
    "# Einschränkungen\n",
    "\n",
    "for col in reqs.columns:\n",
    "    m.addConstr(x.prod(df[col].to_dict()) >= reqs.loc[0, col], col)\n",
    "    m.addConstr(x.prod(df[col].to_dict()) <= reqs.loc[1, col], col)\n",
    "\n",
    "m.optimize()\n",
    "\n",
    "print(f\"Total Cost: {m.objVal}\")"
   ]
  },
  {
   "cell_type": "code",
   "execution_count": 45,
   "metadata": {},
   "outputs": [
    {
     "data": {
      "application/vnd.microsoft.datawrangler.viewer.v0+json": {
       "columns": [
        {
         "name": "ID",
         "rawType": "object",
         "type": "string"
        },
        {
         "name": "Name",
         "rawType": "object",
         "type": "string"
        },
        {
         "name": "Group",
         "rawType": "object",
         "type": "string"
        },
        {
         "name": "Optimal",
         "rawType": "float64",
         "type": "float"
        },
        {
         "name": "Amount",
         "rawType": "float64",
         "type": "float"
        },
        {
         "name": "Cost",
         "rawType": "float64",
         "type": "float"
        }
       ],
       "conversionMethod": "pd.DataFrame",
       "ref": "b964785d-1123-4d23-a1ee-b9df35349e7f",
       "rows": [
        [
         "T1026",
         "Mussel, green, meat, boiled",
         "Seafood",
         "0.14886015200354072",
         "1.0",
         "0.475"
        ],
        [
         "F1026",
         "Milk, cow, standard 3.3% fat, fluid, Christchurch, May, Meadow fresh",
         "Milk",
         "3.5008150847877215",
         "2.575",
         "0.173745955"
        ],
        [
         "X23",
         "Cabbage, leafy vegetable, red",
         "Vegetable",
         "0.44625405519471883",
         "0.6",
         "0.209083333"
        ],
        [
         "X1039",
         "Cabbage, leafy vegetable, raw, tat soi",
         "Vegetable",
         "1.3070760154152405",
         "0.6",
         "0.209083333"
        ],
        [
         "X1137",
         "Potato, root vegetable,  flesh & skin,  baked without oil, no added salt, floury potatoes, new (April)",
         "Vegetable",
         "0.36636851441755597",
         "1.35",
         "0.22325"
        ],
        [
         "X75",
         "Chickpea, seed vegetable, dried",
         "Legumes",
         "1.071477701716355",
         "1.35",
         "0.523571429"
        ],
        [
         "A21",
         "Bread, white, toasted",
         "Grain",
         "0.346834258287215",
         "0.26",
         "0.21875"
        ],
        [
         "E17",
         "Flour, wheat, white, standard, upper North Island",
         "Grain",
         "4.6724605873549825",
         "0.5",
         "0.135166667"
        ],
        [
         "J1035",
         "Oil, soya bean",
         "Fats and oils",
         "0.13782955698441918",
         "0.138",
         "0.360326087"
        ],
        [
         "J1028",
         "Margarine, original, Flora, fortified vitamin D",
         "Fats and oils",
         "0.11159918806006149",
         "0.1395",
         "0.454166667"
        ],
        [
         "J1006",
         "Margarine, polyunsaturated, 70% fat, reduced salt, composite, fortified",
         "Fats and oils",
         "0.03094983762936822",
         "0.1395",
         "0.454166667"
        ],
        [
         "Q9",
         "Coconut, desiccated",
         "Nuts",
         "0.023885096738248103",
         "0.3",
         "0.899090909"
        ],
        [
         "Q43",
         "Seed, sunflower, dry roasted, no salt added",
         "Seeds",
         "0.22181619569287403",
         "0.3",
         "1.228571429"
        ]
       ],
       "shape": {
        "columns": 5,
        "rows": 13
       }
      },
      "text/html": [
       "<div>\n",
       "<style scoped>\n",
       "    .dataframe tbody tr th:only-of-type {\n",
       "        vertical-align: middle;\n",
       "    }\n",
       "\n",
       "    .dataframe tbody tr th {\n",
       "        vertical-align: top;\n",
       "    }\n",
       "\n",
       "    .dataframe thead th {\n",
       "        text-align: right;\n",
       "    }\n",
       "</style>\n",
       "<table border=\"1\" class=\"dataframe\">\n",
       "  <thead>\n",
       "    <tr style=\"text-align: right;\">\n",
       "      <th></th>\n",
       "      <th>Name</th>\n",
       "      <th>Group</th>\n",
       "      <th>Optimal</th>\n",
       "      <th>Amount</th>\n",
       "      <th>Cost</th>\n",
       "    </tr>\n",
       "    <tr>\n",
       "      <th>ID</th>\n",
       "      <th></th>\n",
       "      <th></th>\n",
       "      <th></th>\n",
       "      <th></th>\n",
       "      <th></th>\n",
       "    </tr>\n",
       "  </thead>\n",
       "  <tbody>\n",
       "    <tr>\n",
       "      <th>T1026</th>\n",
       "      <td>Mussel, green, meat, boiled</td>\n",
       "      <td>Seafood</td>\n",
       "      <td>0.148860</td>\n",
       "      <td>1.0000</td>\n",
       "      <td>0.475000</td>\n",
       "    </tr>\n",
       "    <tr>\n",
       "      <th>F1026</th>\n",
       "      <td>Milk, cow, standard 3.3% fat, fluid, Christchu...</td>\n",
       "      <td>Milk</td>\n",
       "      <td>3.500815</td>\n",
       "      <td>2.5750</td>\n",
       "      <td>0.173746</td>\n",
       "    </tr>\n",
       "    <tr>\n",
       "      <th>X23</th>\n",
       "      <td>Cabbage, leafy vegetable, red</td>\n",
       "      <td>Vegetable</td>\n",
       "      <td>0.446254</td>\n",
       "      <td>0.6000</td>\n",
       "      <td>0.209083</td>\n",
       "    </tr>\n",
       "    <tr>\n",
       "      <th>X1039</th>\n",
       "      <td>Cabbage, leafy vegetable, raw, tat soi</td>\n",
       "      <td>Vegetable</td>\n",
       "      <td>1.307076</td>\n",
       "      <td>0.6000</td>\n",
       "      <td>0.209083</td>\n",
       "    </tr>\n",
       "    <tr>\n",
       "      <th>X1137</th>\n",
       "      <td>Potato, root vegetable,  flesh &amp; skin,  baked ...</td>\n",
       "      <td>Vegetable</td>\n",
       "      <td>0.366369</td>\n",
       "      <td>1.3500</td>\n",
       "      <td>0.223250</td>\n",
       "    </tr>\n",
       "    <tr>\n",
       "      <th>X75</th>\n",
       "      <td>Chickpea, seed vegetable, dried</td>\n",
       "      <td>Legumes</td>\n",
       "      <td>1.071478</td>\n",
       "      <td>1.3500</td>\n",
       "      <td>0.523571</td>\n",
       "    </tr>\n",
       "    <tr>\n",
       "      <th>A21</th>\n",
       "      <td>Bread, white, toasted</td>\n",
       "      <td>Grain</td>\n",
       "      <td>0.346834</td>\n",
       "      <td>0.2600</td>\n",
       "      <td>0.218750</td>\n",
       "    </tr>\n",
       "    <tr>\n",
       "      <th>E17</th>\n",
       "      <td>Flour, wheat, white, standard, upper North Island</td>\n",
       "      <td>Grain</td>\n",
       "      <td>4.672461</td>\n",
       "      <td>0.5000</td>\n",
       "      <td>0.135167</td>\n",
       "    </tr>\n",
       "    <tr>\n",
       "      <th>J1035</th>\n",
       "      <td>Oil, soya bean</td>\n",
       "      <td>Fats and oils</td>\n",
       "      <td>0.137830</td>\n",
       "      <td>0.1380</td>\n",
       "      <td>0.360326</td>\n",
       "    </tr>\n",
       "    <tr>\n",
       "      <th>J1028</th>\n",
       "      <td>Margarine, original, Flora, fortified vitamin D</td>\n",
       "      <td>Fats and oils</td>\n",
       "      <td>0.111599</td>\n",
       "      <td>0.1395</td>\n",
       "      <td>0.454167</td>\n",
       "    </tr>\n",
       "    <tr>\n",
       "      <th>J1006</th>\n",
       "      <td>Margarine, polyunsaturated, 70% fat, reduced s...</td>\n",
       "      <td>Fats and oils</td>\n",
       "      <td>0.030950</td>\n",
       "      <td>0.1395</td>\n",
       "      <td>0.454167</td>\n",
       "    </tr>\n",
       "    <tr>\n",
       "      <th>Q9</th>\n",
       "      <td>Coconut, desiccated</td>\n",
       "      <td>Nuts</td>\n",
       "      <td>0.023885</td>\n",
       "      <td>0.3000</td>\n",
       "      <td>0.899091</td>\n",
       "    </tr>\n",
       "    <tr>\n",
       "      <th>Q43</th>\n",
       "      <td>Seed, sunflower, dry roasted, no salt added</td>\n",
       "      <td>Seeds</td>\n",
       "      <td>0.221816</td>\n",
       "      <td>0.3000</td>\n",
       "      <td>1.228571</td>\n",
       "    </tr>\n",
       "  </tbody>\n",
       "</table>\n",
       "</div>"
      ],
      "text/plain": [
       "                                                    Name          Group  \\\n",
       "ID                                                                        \n",
       "T1026                        Mussel, green, meat, boiled        Seafood   \n",
       "F1026  Milk, cow, standard 3.3% fat, fluid, Christchu...           Milk   \n",
       "X23                        Cabbage, leafy vegetable, red      Vegetable   \n",
       "X1039             Cabbage, leafy vegetable, raw, tat soi      Vegetable   \n",
       "X1137  Potato, root vegetable,  flesh & skin,  baked ...      Vegetable   \n",
       "X75                      Chickpea, seed vegetable, dried        Legumes   \n",
       "A21                                Bread, white, toasted          Grain   \n",
       "E17    Flour, wheat, white, standard, upper North Island          Grain   \n",
       "J1035                                     Oil, soya bean  Fats and oils   \n",
       "J1028    Margarine, original, Flora, fortified vitamin D  Fats and oils   \n",
       "J1006  Margarine, polyunsaturated, 70% fat, reduced s...  Fats and oils   \n",
       "Q9                                   Coconut, desiccated           Nuts   \n",
       "Q43          Seed, sunflower, dry roasted, no salt added          Seeds   \n",
       "\n",
       "        Optimal  Amount      Cost  \n",
       "ID                                 \n",
       "T1026  0.148860  1.0000  0.475000  \n",
       "F1026  3.500815  2.5750  0.173746  \n",
       "X23    0.446254  0.6000  0.209083  \n",
       "X1039  1.307076  0.6000  0.209083  \n",
       "X1137  0.366369  1.3500  0.223250  \n",
       "X75    1.071478  1.3500  0.523571  \n",
       "A21    0.346834  0.2600  0.218750  \n",
       "E17    4.672461  0.5000  0.135167  \n",
       "J1035  0.137830  0.1380  0.360326  \n",
       "J1028  0.111599  0.1395  0.454167  \n",
       "J1006  0.030950  0.1395  0.454167  \n",
       "Q9     0.023885  0.3000  0.899091  \n",
       "Q43    0.221816  0.3000  1.228571  "
      ]
     },
     "execution_count": 45,
     "metadata": {},
     "output_type": "execute_result"
    }
   ],
   "source": [
    "# Hier speichern wir die Lösung in der Spalte \"Optimal\" des DataFrames mit den Lebensmittel-Daten\n",
    "\n",
    "df[\"Optimal\"] = [x[i].x for i in df.index]\n",
    "\n",
    "# Das Menü anzeigen\n",
    "# - Zuerst werden die Lebensmittel angezeigt, die in der optimalen Lösung enthalten sind\n",
    "# - Dann werden nur die Spalten \"Name\", \"Group\", \"Optimal\", \"Amount\" und \"Cost\" angezeigt\n",
    "\n",
    "df[df[\"Optimal\"] > 0][[\"Name\", \"Group\", \"Optimal\", \"Amount\", \"Cost\"]]"
   ]
  },
  {
   "cell_type": "code",
   "execution_count": 46,
   "metadata": {},
   "outputs": [
    {
     "data": {
      "text/plain": [
       "EnergyOptimal          11150.000000\n",
       "FatOptimal                58.491066\n",
       "ProteinOptimal            92.515608\n",
       "CarbohydrateOptimal      475.393903\n",
       "dtype: float64"
      ]
     },
     "execution_count": 46,
     "metadata": {},
     "output_type": "execute_result"
    }
   ],
   "source": [
    "# Analyse der Lösung\n",
    "\n",
    "df[\"EnergyOptimal\"] = df[\"Energy, total metabolisable (kJ)\"] * df[\"Optimal\"]\n",
    "\n",
    "# Die Fettmenge in der optimalen Lösung berechnen\n",
    "\n",
    "df[\"FatOptimal\"] = df[\"Fat, total\"] * df[\"Optimal\"]\n",
    "\n",
    "# Die Proteinmenge in der optimalen Lösung berechnen\n",
    "\n",
    "df[\"ProteinOptimal\"] = df[\"Protein, total; calculated from total nitrogen\"] * df[\"Optimal\"]\n",
    "\n",
    "# Die Kohlenhydratmenge in der optimalen Lösung berechnen\n",
    "\n",
    "df[\"CarbohydrateOptimal\"] = df[\"Total carbohydrates by summation\"] * df[\"Optimal\"]\n",
    "\n",
    "df.aggregate({\"EnergyOptimal\": \"sum\", \"FatOptimal\": \"sum\", \"ProteinOptimal\": \"sum\", \"CarbohydrateOptimal\": \"sum\"})"
   ]
  },
  {
   "cell_type": "code",
   "execution_count": 47,
   "metadata": {},
   "outputs": [
    {
     "data": {
      "application/vnd.microsoft.datawrangler.viewer.v0+json": {
       "columns": [
        {
         "name": "index",
         "rawType": "int64",
         "type": "integer"
        },
        {
         "name": "Name",
         "rawType": "object",
         "type": "string"
        },
        {
         "name": "Sense",
         "rawType": "object",
         "type": "string"
        },
        {
         "name": "Slack",
         "rawType": "float64",
         "type": "float"
        },
        {
         "name": "Shadow",
         "rawType": "float64",
         "type": "float"
        },
        {
         "name": "Lower",
         "rawType": "float64",
         "type": "float"
        },
        {
         "name": "Upper",
         "rawType": "float64",
         "type": "float"
        }
       ],
       "conversionMethod": "pd.DataFrame",
       "ref": "b0cd284e-9757-4561-9b9b-128a2d41e9af",
       "rows": [
        [
         "0",
         "Biotin",
         ">",
         "0.0",
         "0.006518124782679665",
         "25.646329118944617",
         "61.74163237017032"
        ],
        [
         "1",
         "Calcium",
         ">",
         "0.0",
         "0.0009272269212395628",
         "967.7123840009543",
         "1179.5458988684186"
        ],
        [
         "2",
         "Dietary folate equivalents",
         "<",
         "0.0",
         "-0.0002772424069952317",
         "789.784567367971",
         "1060.4866883655504"
        ],
        [
         "3",
         "Energy, total metabolisable (kJ)",
         ">",
         "0.0",
         "6.295973776756203e-06",
         "10102.074880279182",
         "11150.0"
        ],
        [
         "4",
         "Fatty acid 18:3 omega-3",
         ">",
         "0.0",
         "0.02653568254550139",
         "0.9729713915727904",
         "1.362049423618896"
        ],
        [
         "5",
         "Fatty acid cis,cis 18:2 omega-6",
         ">",
         "0.0",
         "0.0041335101885691845",
         "7.506914719595079",
         "11.256698009548508"
        ],
        [
         "6",
         "Pantothenic acid",
         ">",
         "0.0",
         "0.10996564367080304",
         "4.125094607509249",
         "5.216972483744704"
        ],
        [
         "7",
         "Potassium",
         ">",
         "0.0",
         "0.0002581988810945683",
         "3051.327613921846",
         "3931.0026954147197"
        ],
        [
         "8",
         "Selenium",
         ">",
         "0.0",
         "0.004292730862377976",
         "63.64962666725114",
         "72.64526247302507"
        ],
        [
         "9",
         "Sodium",
         ">",
         "0.0",
         "7.101347092220929e-05",
         "380.8922004018293",
         "1611.7527988463808"
        ],
        [
         "10",
         "Vitamin B12",
         ">",
         "0.0",
         "0.0008956087946787404",
         "1.8076778135375153",
         "2.5126690690613285"
        ],
        [
         "11",
         "Vitamin C",
         ">",
         "0.0",
         "0.0008792179234713374",
         "21.228731668823503",
         "108.70081948788206"
        ],
        [
         "12",
         "Vitamin D; calculated by summation",
         ">",
         "0.0",
         "0.012652948079687884",
         "3.7930522712508337",
         "10.318383892253983"
        ]
       ],
       "shape": {
        "columns": 6,
        "rows": 13
       }
      },
      "text/html": [
       "<div>\n",
       "<style scoped>\n",
       "    .dataframe tbody tr th:only-of-type {\n",
       "        vertical-align: middle;\n",
       "    }\n",
       "\n",
       "    .dataframe tbody tr th {\n",
       "        vertical-align: top;\n",
       "    }\n",
       "\n",
       "    .dataframe thead th {\n",
       "        text-align: right;\n",
       "    }\n",
       "</style>\n",
       "<table border=\"1\" class=\"dataframe\">\n",
       "  <thead>\n",
       "    <tr style=\"text-align: right;\">\n",
       "      <th></th>\n",
       "      <th>Name</th>\n",
       "      <th>Sense</th>\n",
       "      <th>Slack</th>\n",
       "      <th>Shadow</th>\n",
       "      <th>Lower</th>\n",
       "      <th>Upper</th>\n",
       "    </tr>\n",
       "  </thead>\n",
       "  <tbody>\n",
       "    <tr>\n",
       "      <th>0</th>\n",
       "      <td>Biotin</td>\n",
       "      <td>&gt;</td>\n",
       "      <td>0.0</td>\n",
       "      <td>0.006518</td>\n",
       "      <td>25.646329</td>\n",
       "      <td>61.741632</td>\n",
       "    </tr>\n",
       "    <tr>\n",
       "      <th>1</th>\n",
       "      <td>Calcium</td>\n",
       "      <td>&gt;</td>\n",
       "      <td>0.0</td>\n",
       "      <td>0.000927</td>\n",
       "      <td>967.712384</td>\n",
       "      <td>1179.545899</td>\n",
       "    </tr>\n",
       "    <tr>\n",
       "      <th>2</th>\n",
       "      <td>Dietary folate equivalents</td>\n",
       "      <td>&lt;</td>\n",
       "      <td>0.0</td>\n",
       "      <td>-0.000277</td>\n",
       "      <td>789.784567</td>\n",
       "      <td>1060.486688</td>\n",
       "    </tr>\n",
       "    <tr>\n",
       "      <th>3</th>\n",
       "      <td>Energy, total metabolisable (kJ)</td>\n",
       "      <td>&gt;</td>\n",
       "      <td>0.0</td>\n",
       "      <td>0.000006</td>\n",
       "      <td>10102.074880</td>\n",
       "      <td>11150.000000</td>\n",
       "    </tr>\n",
       "    <tr>\n",
       "      <th>4</th>\n",
       "      <td>Fatty acid 18:3 omega-3</td>\n",
       "      <td>&gt;</td>\n",
       "      <td>0.0</td>\n",
       "      <td>0.026536</td>\n",
       "      <td>0.972971</td>\n",
       "      <td>1.362049</td>\n",
       "    </tr>\n",
       "    <tr>\n",
       "      <th>5</th>\n",
       "      <td>Fatty acid cis,cis 18:2 omega-6</td>\n",
       "      <td>&gt;</td>\n",
       "      <td>0.0</td>\n",
       "      <td>0.004134</td>\n",
       "      <td>7.506915</td>\n",
       "      <td>11.256698</td>\n",
       "    </tr>\n",
       "    <tr>\n",
       "      <th>6</th>\n",
       "      <td>Pantothenic acid</td>\n",
       "      <td>&gt;</td>\n",
       "      <td>0.0</td>\n",
       "      <td>0.109966</td>\n",
       "      <td>4.125095</td>\n",
       "      <td>5.216972</td>\n",
       "    </tr>\n",
       "    <tr>\n",
       "      <th>7</th>\n",
       "      <td>Potassium</td>\n",
       "      <td>&gt;</td>\n",
       "      <td>0.0</td>\n",
       "      <td>0.000258</td>\n",
       "      <td>3051.327614</td>\n",
       "      <td>3931.002695</td>\n",
       "    </tr>\n",
       "    <tr>\n",
       "      <th>8</th>\n",
       "      <td>Selenium</td>\n",
       "      <td>&gt;</td>\n",
       "      <td>0.0</td>\n",
       "      <td>0.004293</td>\n",
       "      <td>63.649627</td>\n",
       "      <td>72.645262</td>\n",
       "    </tr>\n",
       "    <tr>\n",
       "      <th>9</th>\n",
       "      <td>Sodium</td>\n",
       "      <td>&gt;</td>\n",
       "      <td>0.0</td>\n",
       "      <td>0.000071</td>\n",
       "      <td>380.892200</td>\n",
       "      <td>1611.752799</td>\n",
       "    </tr>\n",
       "    <tr>\n",
       "      <th>10</th>\n",
       "      <td>Vitamin B12</td>\n",
       "      <td>&gt;</td>\n",
       "      <td>0.0</td>\n",
       "      <td>0.000896</td>\n",
       "      <td>1.807678</td>\n",
       "      <td>2.512669</td>\n",
       "    </tr>\n",
       "    <tr>\n",
       "      <th>11</th>\n",
       "      <td>Vitamin C</td>\n",
       "      <td>&gt;</td>\n",
       "      <td>0.0</td>\n",
       "      <td>0.000879</td>\n",
       "      <td>21.228732</td>\n",
       "      <td>108.700819</td>\n",
       "    </tr>\n",
       "    <tr>\n",
       "      <th>12</th>\n",
       "      <td>Vitamin D; calculated by summation</td>\n",
       "      <td>&gt;</td>\n",
       "      <td>0.0</td>\n",
       "      <td>0.012653</td>\n",
       "      <td>3.793052</td>\n",
       "      <td>10.318384</td>\n",
       "    </tr>\n",
       "  </tbody>\n",
       "</table>\n",
       "</div>"
      ],
      "text/plain": [
       "                                  Name Sense  Slack    Shadow         Lower  \\\n",
       "0                               Biotin     >    0.0  0.006518     25.646329   \n",
       "1                              Calcium     >    0.0  0.000927    967.712384   \n",
       "2           Dietary folate equivalents     <    0.0 -0.000277    789.784567   \n",
       "3     Energy, total metabolisable (kJ)     >    0.0  0.000006  10102.074880   \n",
       "4              Fatty acid 18:3 omega-3     >    0.0  0.026536      0.972971   \n",
       "5      Fatty acid cis,cis 18:2 omega-6     >    0.0  0.004134      7.506915   \n",
       "6                     Pantothenic acid     >    0.0  0.109966      4.125095   \n",
       "7                            Potassium     >    0.0  0.000258   3051.327614   \n",
       "8                             Selenium     >    0.0  0.004293     63.649627   \n",
       "9                               Sodium     >    0.0  0.000071    380.892200   \n",
       "10                         Vitamin B12     >    0.0  0.000896      1.807678   \n",
       "11                           Vitamin C     >    0.0  0.000879     21.228732   \n",
       "12  Vitamin D; calculated by summation     >    0.0  0.012653      3.793052   \n",
       "\n",
       "           Upper  \n",
       "0      61.741632  \n",
       "1    1179.545899  \n",
       "2    1060.486688  \n",
       "3   11150.000000  \n",
       "4       1.362049  \n",
       "5      11.256698  \n",
       "6       5.216972  \n",
       "7    3931.002695  \n",
       "8      72.645262  \n",
       "9    1611.752799  \n",
       "10      2.512669  \n",
       "11    108.700819  \n",
       "12     10.318384  "
      ]
     },
     "execution_count": 47,
     "metadata": {},
     "output_type": "execute_result"
    }
   ],
   "source": [
    "# Die Einschränkungen anzeigen (nur die bindenden Einschränkungen)\n",
    "\n",
    "constr_df = pd.DataFrame(\n",
    "    [(c.ConstrName, c.Sense, c.Slack, c.Pi, c.SARHSLow, c.SARHSUp) for c in m.getConstrs() if c.pi != 0],\n",
    "    columns=[\"Name\", \"Sense\", \"Slack\", \"Shadow\", \"Lower\", \"Upper\"]\n",
    "    )\n",
    "constr_df"
   ]
  },
  {
   "cell_type": "markdown",
   "metadata": {},
   "source": [
    "## Wie fukntionert der Code?\n",
    "\n",
    "Wir haben im wesentlichen nur ein neues Element hinzugefügt und das ist die `for`-Schleife, die hier über die Spalten des DataFrames `dt` iteriert.\n",
    "\n",
    "Um den Code zu verstehen, ist es hilfreich, die Dimension der Daten zu reduzieren, um den Datenfluß zu verstehen. Dazu können Sie die `print`-Anweisungen in den Schleifen einfügen."
   ]
  },
  {
   "cell_type": "code",
   "execution_count": 78,
   "metadata": {},
   "outputs": [
    {
     "data": {
      "application/vnd.microsoft.datawrangler.viewer.v0+json": {
       "columns": [
        {
         "name": "index",
         "rawType": "int64",
         "type": "integer"
        },
        {
         "name": "Alanine",
         "rawType": "int64",
         "type": "integer"
        },
        {
         "name": "Alpha-carotene",
         "rawType": "int64",
         "type": "integer"
        },
        {
         "name": "Arginine",
         "rawType": "int64",
         "type": "integer"
        }
       ],
       "conversionMethod": "pd.DataFrame",
       "ref": "3f494681-31d3-4b8a-a84d-f9ac6ccee5bd",
       "rows": [
        [
         "0",
         "0",
         "0",
         "0"
        ],
        [
         "1",
         "99999999999",
         "99999999999",
         "99999999999"
        ]
       ],
       "shape": {
        "columns": 3,
        "rows": 2
       }
      },
      "text/html": [
       "<div>\n",
       "<style scoped>\n",
       "    .dataframe tbody tr th:only-of-type {\n",
       "        vertical-align: middle;\n",
       "    }\n",
       "\n",
       "    .dataframe tbody tr th {\n",
       "        vertical-align: top;\n",
       "    }\n",
       "\n",
       "    .dataframe thead th {\n",
       "        text-align: right;\n",
       "    }\n",
       "</style>\n",
       "<table border=\"1\" class=\"dataframe\">\n",
       "  <thead>\n",
       "    <tr style=\"text-align: right;\">\n",
       "      <th></th>\n",
       "      <th>Alanine</th>\n",
       "      <th>Alpha-carotene</th>\n",
       "      <th>Arginine</th>\n",
       "    </tr>\n",
       "  </thead>\n",
       "  <tbody>\n",
       "    <tr>\n",
       "      <th>0</th>\n",
       "      <td>0</td>\n",
       "      <td>0</td>\n",
       "      <td>0</td>\n",
       "    </tr>\n",
       "    <tr>\n",
       "      <th>1</th>\n",
       "      <td>99999999999</td>\n",
       "      <td>99999999999</td>\n",
       "      <td>99999999999</td>\n",
       "    </tr>\n",
       "  </tbody>\n",
       "</table>\n",
       "</div>"
      ],
      "text/plain": [
       "       Alanine  Alpha-carotene     Arginine\n",
       "0            0               0            0\n",
       "1  99999999999     99999999999  99999999999"
      ]
     },
     "execution_count": 78,
     "metadata": {},
     "output_type": "execute_result"
    }
   ],
   "source": [
    "# Zuerst erstellen wir ein Subset des DataFrames mit den Anforderungen, die nur die Spalten \n",
    "# \"Alanine\", \"Alpha-carotene\" und \"Arginine\" enthalten\n",
    "\n",
    "reqs_subset = reqs[['Alanine', 'Alpha-carotene', 'Arginine']]\n",
    "reqs_subset"
   ]
  },
  {
   "cell_type": "code",
   "execution_count": 79,
   "metadata": {},
   "outputs": [
    {
     "data": {
      "application/vnd.microsoft.datawrangler.viewer.v0+json": {
       "columns": [
        {
         "name": "ID",
         "rawType": "object",
         "type": "string"
        },
        {
         "name": "Cost",
         "rawType": "float64",
         "type": "float"
        },
        {
         "name": "Alanine",
         "rawType": "float64",
         "type": "float"
        },
        {
         "name": "Alpha-carotene",
         "rawType": "float64",
         "type": "float"
        },
        {
         "name": "Arginine",
         "rawType": "float64",
         "type": "float"
        }
       ],
       "conversionMethod": "pd.DataFrame",
       "ref": "ac343004-f5c3-4b5d-ac5f-e8ea912eebbc",
       "rows": [
        [
         "M1170",
         "2.042333333",
         "1505.04",
         "0.0",
         "1902.6"
        ],
        [
         "M1154",
         "2.042333333",
         "1036.61",
         "0.0",
         "1310.53"
        ],
        [
         "M1069",
         "2.042333333",
         "1627.87",
         "0.0",
         "2057.87"
        ]
       ],
       "shape": {
        "columns": 4,
        "rows": 3
       }
      },
      "text/html": [
       "<div>\n",
       "<style scoped>\n",
       "    .dataframe tbody tr th:only-of-type {\n",
       "        vertical-align: middle;\n",
       "    }\n",
       "\n",
       "    .dataframe tbody tr th {\n",
       "        vertical-align: top;\n",
       "    }\n",
       "\n",
       "    .dataframe thead th {\n",
       "        text-align: right;\n",
       "    }\n",
       "</style>\n",
       "<table border=\"1\" class=\"dataframe\">\n",
       "  <thead>\n",
       "    <tr style=\"text-align: right;\">\n",
       "      <th></th>\n",
       "      <th>Cost</th>\n",
       "      <th>Alanine</th>\n",
       "      <th>Alpha-carotene</th>\n",
       "      <th>Arginine</th>\n",
       "    </tr>\n",
       "    <tr>\n",
       "      <th>ID</th>\n",
       "      <th></th>\n",
       "      <th></th>\n",
       "      <th></th>\n",
       "      <th></th>\n",
       "    </tr>\n",
       "  </thead>\n",
       "  <tbody>\n",
       "    <tr>\n",
       "      <th>M1170</th>\n",
       "      <td>2.042333</td>\n",
       "      <td>1505.04</td>\n",
       "      <td>0.0</td>\n",
       "      <td>1902.60</td>\n",
       "    </tr>\n",
       "    <tr>\n",
       "      <th>M1154</th>\n",
       "      <td>2.042333</td>\n",
       "      <td>1036.61</td>\n",
       "      <td>0.0</td>\n",
       "      <td>1310.53</td>\n",
       "    </tr>\n",
       "    <tr>\n",
       "      <th>M1069</th>\n",
       "      <td>2.042333</td>\n",
       "      <td>1627.87</td>\n",
       "      <td>0.0</td>\n",
       "      <td>2057.87</td>\n",
       "    </tr>\n",
       "  </tbody>\n",
       "</table>\n",
       "</div>"
      ],
      "text/plain": [
       "           Cost  Alanine  Alpha-carotene  Arginine\n",
       "ID                                                \n",
       "M1170  2.042333  1505.04             0.0   1902.60\n",
       "M1154  2.042333  1036.61             0.0   1310.53\n",
       "M1069  2.042333  1627.87             0.0   2057.87"
      ]
     },
     "execution_count": 79,
     "metadata": {},
     "output_type": "execute_result"
    }
   ],
   "source": [
    "# Aus dem Datensatz mit the Lebensmittel-Daten erstellen wir auch ein Subset, das nur die Spalten\n",
    "# \"Cost\", \"Alanine\", \"Alpha-carotene\" und \"Arginine\" enthält\n",
    "# Weiterhin wählen wir nur die ersten drei Zeilen aus\n",
    "\n",
    "df_subset = df[['Cost'] + list(reqs_subset.columns)][:3]\n",
    "df_subset"
   ]
  },
  {
   "cell_type": "code",
   "execution_count": 48,
   "metadata": {},
   "outputs": [
    {
     "name": "stdout",
     "output_type": "stream",
     "text": [
      "i = 1\n",
      "Summe = 1\n",
      "i = 2\n",
      "Summe = 3\n",
      "i = 3\n",
      "Summe = 6\n",
      "i = 4\n",
      "Summe = 10\n",
      "i = 5\n",
      "Summe = 15\n"
     ]
    }
   ],
   "source": [
    "# Im allgemeinen benutzen wir Schleifen, um eine oder mehrere Oprationen\n",
    "# mit jedem Element einer Liste auszuführen.\n",
    "\n",
    "# Beispiel: Berechnung der Summe der Zahlen von 1 bis 5\n",
    "\n",
    "summe = 0\n",
    "\n",
    "for i in [1, 2, 3, 4, 5]:        \n",
    "    summe = summe + i\n",
    "    print(\"i =\", i)\n",
    "    print(\"Summe =\", summe)\n"
   ]
  },
  {
   "cell_type": "code",
   "execution_count": 80,
   "metadata": {},
   "outputs": [
    {
     "data": {
      "text/plain": [
       "Index(['Alanine', 'Alpha-carotene', 'Arginine'], dtype='object')"
      ]
     },
     "execution_count": 80,
     "metadata": {},
     "output_type": "execute_result"
    }
   ],
   "source": [
    "reqs_subset.columns"
   ]
  },
  {
   "cell_type": "code",
   "execution_count": 82,
   "metadata": {},
   "outputs": [
    {
     "name": "stdout",
     "output_type": "stream",
     "text": [
      "Spalte: Alanine\n",
      "Untere Grenze: 0\n",
      "Obere Grenze: 99999999999\n",
      "Spalte: Alpha-carotene\n",
      "Untere Grenze: 0\n",
      "Obere Grenze: 99999999999\n",
      "Spalte: Arginine\n",
      "Untere Grenze: 0\n",
      "Obere Grenze: 99999999999\n"
     ]
    }
   ],
   "source": [
    "# Da der Datensatz mit den Lebensmitteln dieselben Spalten wie der Datensatz mit den Ernährungsrichtlinien hat,\n",
    "# können wir diese Spalten folgendermassen abrufen\n",
    "\n",
    "for col in reqs_subset.columns:\n",
    "    print(\"Spalte:\", col)\n",
    "    # Mit loc greifen wir auf die Werte in der ersten Zeile (untere Grenze) \n",
    "    print(\"Untere Grenze:\", reqs.loc[0, col])\n",
    "\n",
    "    # Und hier tun wir das gleiche für die Werte in der zweiten Zeile (obere Grenze)\n",
    "    print(\"Obere Grenze:\", reqs.loc[1, col])\n",
    "    "
   ]
  },
  {
   "cell_type": "code",
   "execution_count": 85,
   "metadata": {},
   "outputs": [
    {
     "name": "stdout",
     "output_type": "stream",
     "text": [
      "Spalte: Alanine\n",
      "Untere Grenze: 0\n",
      "Obere Grenze: 99999999999\n",
      "Mittelwert der Spalte mit demselben Namen in 'df_subset' 1389.84\n",
      "Spalte: Alpha-carotene\n",
      "Untere Grenze: 0\n",
      "Obere Grenze: 99999999999\n",
      "Mittelwert der Spalte mit demselben Namen in 'df_subset' 0.0\n",
      "Spalte: Arginine\n",
      "Untere Grenze: 0\n",
      "Obere Grenze: 99999999999\n",
      "Mittelwert der Spalte mit demselben Namen in 'df_subset' 1757.0\n"
     ]
    }
   ],
   "source": [
    "for col in reqs_subset.columns:\n",
    "    print(\"Spalte:\", col)\n",
    "    print(\"Untere Grenze:\", reqs_subset.loc[0, col])\n",
    "    print(\"Obere Grenze:\", reqs_subset.loc[1, col])\n",
    "    \n",
    "    print(\"Mittelwert der Spalte mit demselben Namen in 'df_subset'\", df_subset[col].mean())\n",
    "    "
   ]
  },
  {
   "cell_type": "code",
   "execution_count": 88,
   "metadata": {},
   "outputs": [
    {
     "name": "stdout",
     "output_type": "stream",
     "text": [
      "Spalte: Alanine\n",
      "Untere Grenze: 0\n",
      "Obere Grenze: 99999999999\n",
      "<gurobi.TempConstr: 1505.04 x[M1170] + 1036.61 x[M1154] + 1627.87 x[M1069] >= 0>\n",
      "<gurobi.TempConstr: 1505.04 x[M1170] + 1036.61 x[M1154] + 1627.87 x[M1069] <= 99999999999>\n",
      "Spalte: Alpha-carotene\n",
      "Untere Grenze: 0\n",
      "Obere Grenze: 99999999999\n",
      "<gurobi.TempConstr: 0.0 x[M1170] + 0.0 x[M1154] + 0.0 x[M1069] >= 0>\n",
      "<gurobi.TempConstr: 0.0 x[M1170] + 0.0 x[M1154] + 0.0 x[M1069] <= 99999999999>\n",
      "Spalte: Arginine\n",
      "Untere Grenze: 0\n",
      "Obere Grenze: 99999999999\n",
      "<gurobi.TempConstr: 1902.6 x[M1170] + 1310.53 x[M1154] + 2057.87 x[M1069] >= 0>\n",
      "<gurobi.TempConstr: 1902.6 x[M1170] + 1310.53 x[M1154] + 2057.87 x[M1069] <= 99999999999>\n"
     ]
    }
   ],
   "source": [
    "m2 = gp.Model(\"Diet-2\")\n",
    "\n",
    "x_subset = m2.addVars(df_subset.index, name=\"x\")\n",
    "\n",
    "m2.update()\n",
    "\n",
    "for col in reqs_subset.columns:\n",
    "    print(\"Spalte:\", col)\n",
    "    print(\"Untere Grenze:\", reqs_subset.loc[0, col])\n",
    "    print(\"Obere Grenze:\", reqs_subset.loc[1, col])\n",
    "    \n",
    "    print(x_subset.prod(df_subset[col].to_dict()) >= reqs_subset.loc[0, col])\n",
    "    print(x_subset.prod(df_subset[col].to_dict()) <= reqs_subset.loc[1, col])\n"
   ]
  }
 ],
 "metadata": {
  "kernelspec": {
   "display_name": "opt2025",
   "language": "python",
   "name": "python3"
  },
  "language_info": {
   "codemirror_mode": {
    "name": "ipython",
    "version": 3
   },
   "file_extension": ".py",
   "mimetype": "text/x-python",
   "name": "python",
   "nbconvert_exporter": "python",
   "pygments_lexer": "ipython3",
   "version": "3.11.11"
  }
 },
 "nbformat": 4,
 "nbformat_minor": 2
}
