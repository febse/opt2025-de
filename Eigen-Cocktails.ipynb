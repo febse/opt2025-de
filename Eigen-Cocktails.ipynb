{
 "cells": [
  {
   "cell_type": "code",
   "execution_count": 13,
   "id": "ca065b86",
   "metadata": {},
   "outputs": [],
   "source": [
    "import numpy as np\n",
    "import plotly.graph_objects as go"
   ]
  },
  {
   "cell_type": "code",
   "execution_count": 18,
   "id": "35ddbf7d",
   "metadata": {},
   "outputs": [
    {
     "data": {
      "text/plain": [
       "array([[ 1.00000000e+00, -1.00000000e+00],\n",
       "       [ 0.00000000e+00,  2.22044605e-16]])"
      ]
     },
     "execution_count": 18,
     "metadata": {},
     "output_type": "execute_result"
    }
   ],
   "source": [
    "A = np.array([[1, 1], [0, 1]])\n",
    "\n",
    "ev, evecs = np.linalg.eig(A)\n",
    "evecs"
   ]
  },
  {
   "cell_type": "code",
   "execution_count": 19,
   "id": "de3e02e4",
   "metadata": {},
   "outputs": [
    {
     "data": {
      "text/plain": [
       "array([1., 1.])"
      ]
     },
     "execution_count": 19,
     "metadata": {},
     "output_type": "execute_result"
    }
   ],
   "source": [
    "ev"
   ]
  },
  {
   "cell_type": "code",
   "execution_count": 20,
   "id": "10d66fc9",
   "metadata": {},
   "outputs": [
    {
     "data": {
      "text/plain": [
       "array([[ 1., -1.],\n",
       "       [-1.,  1.]])"
      ]
     },
     "execution_count": 20,
     "metadata": {},
     "output_type": "execute_result"
    }
   ],
   "source": [
    "evecs.T @ evecs"
   ]
  },
  {
   "cell_type": "markdown",
   "id": "e19ad67f",
   "metadata": {},
   "source": [
    "\n",
    "## Der Nullraum\n",
    "\n",
    "Wir haben gesehen, dass die Transformation $C$ alle Rezepte auf eine Gerade abbildet. Einige Rezepte (in diesem Beispiel sind das keine realistischen Rezepte) bildet sie allerdings auf das leere Glass (den Nullpunkt).\n",
    "\n",
    "Z.B (-1, 1) und alle Vielfachen davon:\n",
    "\n",
    "$$\n",
    "\\begin{pmatrix}\n",
    "1 & 1 \\\\\n",
    "2 & 2 \\\\\n",
    "\\end{pmatrix}\n",
    "\\begin{pmatrix}\n",
    "-1 \\\\\n",
    "1 \\\\\n",
    "\\end{pmatrix} =\n",
    "\\begin{pmatrix}\n",
    "-1 + 1 \\\\\n",
    "-2 + 2 \\\\\n",
    "\\end{pmatrix} =\n",
    "\\begin{pmatrix}\n",
    "0 \\\\\n",
    "0 \\\\\n",
    "\\end{pmatrix}\n",
    "$$\n",
    "\n",
    "Wir sagen, dass alle Rezepte, die auf den Nullpunkt abgebildet werden, im Nullraum der Transformation liegen."
   ]
  },
  {
   "cell_type": "code",
   "execution_count": 16,
   "id": "f30309ff",
   "metadata": {},
   "outputs": [
    {
     "ename": "NameError",
     "evalue": "name 'C' is not defined",
     "output_type": "error",
     "traceback": [
      "\u001b[1;31m---------------------------------------------------------------------------\u001b[0m",
      "\u001b[1;31mNameError\u001b[0m                                 Traceback (most recent call last)",
      "Cell \u001b[1;32mIn[16], line 1\u001b[0m\n\u001b[1;32m----> 1\u001b[0m C \u001b[38;5;241m@\u001b[39m np\u001b[38;5;241m.\u001b[39marray([\u001b[38;5;241m-\u001b[39m\u001b[38;5;241m1\u001b[39m, \u001b[38;5;241m1\u001b[39m])\n",
      "\u001b[1;31mNameError\u001b[0m: name 'C' is not defined"
     ]
    }
   ],
   "source": [
    "C @ np.array([-1, 1])"
   ]
  },
  {
   "cell_type": "markdown",
   "id": "23f52623",
   "metadata": {},
   "source": [
    "## Die Rotationsrichtungen\n",
    "\n",
    "Wir haben gesehen, dass eine Transformation ein Rezept drehen und oder skalieren kann.\n",
    "\n",
    "Schauen wir uns die folgende Transformation an:\n",
    "\n",
    "$$\n",
    "D = \\begin{pmatrix}\n",
    "1 & 2 \\\\\n",
    "3 & 1 \\\\\n",
    "\\end{pmatrix}\n",
    "$$\n",
    "\n",
    "\n",
    "Wenden wir diese Transformation auf BM Light an\n",
    "\n",
    "$$\n",
    "\\begin{pmatrix}\n",
    "1 & 2 \\\\\n",
    "3 & 1 \\\\\n",
    "\\end{pmatrix}\n",
    "\\begin{pmatrix}\n",
    "20 \\\\\n",
    "80 \\\\\n",
    "\\end{pmatrix} =\n",
    "\\begin{pmatrix}\n",
    "20 + 2 \\cdot 80 \\\\\n",
    "3 \\cdot 20 + 80 \\\\\n",
    "\\end{pmatrix} =\n",
    "\\begin{pmatrix}\n",
    "180 \\\\\n",
    "140 \\\\\n",
    "\\end{pmatrix}\n",
    "$$\n",
    "\n",
    "Wir sehen gleich, dass das neue Rezept unterschiedliche Anteile von Vodka und Tomatensaft hat (Drehung) und gleichzeitig eine andere Menge produziert (Skalierung).\n"
   ]
  },
  {
   "cell_type": "code",
   "execution_count": null,
   "id": "296871ac",
   "metadata": {},
   "outputs": [
    {
     "data": {
      "text/plain": [
       "array([180, 140])"
      ]
     },
     "metadata": {},
     "output_type": "display_data"
    }
   ],
   "source": [
    "D = np.array([\n",
    "    [1, 2],\n",
    "    [3, 1]\n",
    "])\n",
    "\n",
    "D @ bm_light"
   ]
  },
  {
   "cell_type": "markdown",
   "id": "4d1300f7",
   "metadata": {},
   "source": [
    "\n",
    "Es ist nicht offensichtlich, aber zu jeder Transformation gibt es spezielle Rezepte, die von der Transformation **nicht** gedreht werden und wirken lediglich, als ob wir sie mit einer Zahl multipliziert hätten (Skalierung).\n",
    "\n",
    "Wie finden wir diese speziellen Rezepte? Falls die Transformation nur die Mengen skaliert, dann ist das Rezept ein Vielfaches der Zeilen der Transformation:\n",
    "\n",
    "$$\n",
    "\\begin{pmatrix}\n",
    "1 & 2 \\\\\n",
    "3 & 1 \\\\\n",
    "\\end{pmatrix}\n",
    "\\begin{pmatrix}\n",
    "v_1 \\\\\n",
    "v_2 \\\\\n",
    "\\end{pmatrix} =\n",
    "\\lambda \\begin{pmatrix}\n",
    "v_1 \\\\\n",
    "v_2 \\\\\n",
    "\\end{pmatrix}\n",
    "$$\n",
    "\n",
    "Wenn wir die rechte Seite der Gleichung umstellen, erhalten wir:\n",
    "\n",
    "$$\n",
    "\\begin{pmatrix}\n",
    "1 & 2 \\\\\n",
    "3 & 1 \\\\\n",
    "\\end{pmatrix}\n",
    "\\begin{pmatrix}\n",
    "v_1 \\\\\n",
    "v_2 \\\\\n",
    "\\end{pmatrix}\n",
    "- \\lambda \\begin{pmatrix}\n",
    "v_1 \\\\\n",
    "v_2 \\\\\n",
    "\\end{pmatrix} = 0\n",
    "$$\n",
    "\n",
    "und wir können das Rezept in die Form bringen:\n",
    "\n",
    "$$\n",
    "\\begin{pmatrix}\n",
    "1 - \\lambda & 2 \\\\\n",
    "3 & 1 - \\lambda \\\\\n",
    "\\end{pmatrix}\n",
    "\\begin{pmatrix}\n",
    "v_1 \\\\\n",
    "v_2 \\\\\n",
    "\\end{pmatrix} = 0\n",
    "$$\n",
    "\n",
    "Die neue Transformation soll also das Rezept auf den Nullpunkt abbilden. Wir haben schon gesehen, dass Transformationen, die auf den Nullpunkt abbilden, eine Determinante von 0 haben. Das ist auch die Bedingung, die wir hier haben:\n",
    "\n",
    "$$\n",
    "\\text{det} \\begin{pmatrix}\n",
    "1 - \\lambda & 2 \\\\\n",
    "3 & 1 - \\lambda \\\\\n",
    "\\end{pmatrix} = 0\n",
    "$$\n",
    "\n",
    "Das ist eine quadratische Gleichung in $\\lambda$:\n",
    "\n",
    "$$\n",
    "(1 - \\lambda)(1 - \\lambda) - 2 \\cdot 3 = 0\n",
    "$$\n",
    "\n",
    "Umformen ergibt:\n",
    "\n",
    "$$\n",
    "\\lambda^2 - 2 \\lambda - 5 = 0\n",
    "$$\n",
    "\n",
    "Die Lösungen sind:\n",
    "\n",
    "$$\n",
    "\\lambda_1 = 1 - \\sqrt{6} \\quad \\lambda_2 = 1 + \\sqrt{6}\n",
    "$$\n"
   ]
  },
  {
   "cell_type": "code",
   "execution_count": null,
   "id": "83e92fe0",
   "metadata": {},
   "outputs": [
    {
     "name": "stdout",
     "output_type": "stream",
     "text": [
      "Lambda 1: -1.4494897427831779\n",
      "Lambda 2: 3.449489742783178\n",
      "-8.881784197001252e-16\n",
      "-1.7763568394002505e-15\n"
     ]
    }
   ],
   "source": [
    "# Überprüfen wir, dass wir tatsächlich die Lösungen gefunden haben\n",
    "\n",
    "lambda1 = 1 - np.sqrt(6)\n",
    "lambda2 = 1 + np.sqrt(6)\n",
    "print(\"Lambda 1:\", lambda1)\n",
    "print(\"Lambda 2:\", lambda2)\n",
    "print(lambda1 ** 2 - 2 * lambda1 - 5)\n",
    "print(lambda2 ** 2 - 2 * lambda2 - 5)"
   ]
  },
  {
   "cell_type": "markdown",
   "id": "89203200",
   "metadata": {},
   "source": [
    "\n",
    "Nehmen wir die zweite Lösung $\\lambda_2$ und setzen sie in die Gleichung ein:\n"
   ]
  },
  {
   "cell_type": "markdown",
   "id": "748b8c59",
   "metadata": {},
   "source": [
    "$$\n",
    "\\begin{pmatrix}\n",
    "1 - (1 + \\sqrt{6}) & 2 \\\\\n",
    "3 & 1 - (1 + \\sqrt{6}) \\\\\n",
    "\\end{pmatrix}\n",
    "=\n",
    "\\begin{pmatrix}\n",
    "-2.449 & 2 \\\\\n",
    "3 & -2.449 \\\\\n",
    "\\end{pmatrix}\n",
    "$$\n",
    "\n",
    "$$\n",
    "\\begin{pmatrix}\n",
    "-2.449 & 2 \\\\\n",
    "3 & -2.449 \\\\\n",
    "\\end{pmatrix}\n",
    "\\begin{pmatrix}\n",
    "v_1 \\\\\n",
    "v_2 \\\\\n",
    "\\end{pmatrix} = 0\n",
    "$$\n",
    "\n",
    "Das ist ein lineares Gleichungssystem mit zwei Unbekannten. Wir können die Lösung finden, indem wir eine der Variablen setzen und die andere berechnen. _Eine Lösung_ erhalten wir, indem wir \n",
    "$v_1 = 1$ setzen und $v_2 = 1.224$ berechnen. Das ist ein Rezept, das von der Transformation $D$ nicht gedreht wird.\n",
    "\n",
    "Ein Rezept, das von der Transformation $D$ nicht gedreht wird, ist also $(1, 1.224)$. Wir können das leicht überprüfen, indem wir die Transformation $D$ auf das Rezept anwenden:"
   ]
  },
  {
   "cell_type": "code",
   "execution_count": null,
   "id": "1e66cece",
   "metadata": {},
   "outputs": [
    {
     "data": {
      "text/plain": [
       "array([3.448, 4.224])"
      ]
     },
     "metadata": {},
     "output_type": "display_data"
    }
   ],
   "source": [
    "D @ np.array([1, 1.224])"
   ]
  },
  {
   "cell_type": "code",
   "execution_count": null,
   "id": "652a3505",
   "metadata": {},
   "outputs": [
    {
     "data": {
      "text/plain": [
       "array([3.44948974, 4.22217545])"
      ]
     },
     "metadata": {},
     "output_type": "display_data"
    }
   ],
   "source": [
    "# Das selbe sollen wir erhalten, wenn wir die Lösung mit dem Rezept multiplizieren.\n",
    "\n",
    "lambda2 * np.array([1, 1.224])"
   ]
  },
  {
   "cell_type": "markdown",
   "id": "bc281e49",
   "metadata": {},
   "source": [
    "Auf dieselbe Art und Weise finden wir für die erste Lösung $\\lambda_1$:\n",
    "\n",
    "$$\n",
    "\\begin{pmatrix}\n",
    "1 - (1 - \\sqrt{6}) & 2 \\\\\n",
    "3 & 1 - (1 - \\sqrt{6}) \\\\\n",
    "\\end{pmatrix}\n",
    "=\n",
    "\\begin{pmatrix}\n",
    "2.449 & 2 \\\\\n",
    "3 & 2.449 \\\\\n",
    "\\end{pmatrix}\n",
    "$$\n",
    "\n",
    "$$\n",
    "\\begin{pmatrix}\n",
    "2.449 & 2 \\\\\n",
    "3 & 2.449 \\\\\n",
    "\\end{pmatrix}\n",
    "\\begin{pmatrix}\n",
    "v_1 \\\\\n",
    "v_2 \\\\\n",
    "\\end{pmatrix} = 0\n",
    "$$\n",
    "\n",
    "Wie oben ist das ein lineares Gleichungssystem mit zwei Unbekannten. Wir setzen $v_1 = 1$ und berechnen $v_2 = -1.224$. Das ist ein Rezept, das von der Transformation $D$ nicht gedreht wird."
   ]
  },
  {
   "cell_type": "code",
   "execution_count": null,
   "id": "910bdd69",
   "metadata": {},
   "outputs": [
    {
     "data": {
      "text/plain": [
       "array([-1.448,  1.776])"
      ]
     },
     "metadata": {},
     "output_type": "display_data"
    }
   ],
   "source": [
    "D @ np.array([1, -1.224])"
   ]
  },
  {
   "cell_type": "code",
   "execution_count": null,
   "id": "045afd50",
   "metadata": {},
   "outputs": [
    {
     "data": {
      "text/plain": [
       "array([-1.44948974,  1.77417545])"
      ]
     },
     "metadata": {},
     "output_type": "display_data"
    }
   ],
   "source": [
    "lambda1 * np.array([1, -1.224])"
   ]
  },
  {
   "cell_type": "markdown",
   "id": "552bd440",
   "metadata": {},
   "source": [
    "In `numpy` können wir sowohl die Eigenwerte als auch die Eigenvektoren der Transformation $D$ mit `np.linalg.eig` berechnen. Die berechneten Eigenvektoren werden als Spaltenvektoren zurückgegeben."
   ]
  },
  {
   "cell_type": "code",
   "execution_count": null,
   "id": "be618544",
   "metadata": {},
   "outputs": [
    {
     "data": {
      "text/plain": [
       "(array([ 3.44948974, -1.44948974]),\n",
       " (array([ 0.63245553, -0.63245553]), array([0.77459667, 0.77459667])))"
      ]
     },
     "metadata": {},
     "output_type": "display_data"
    }
   ],
   "source": [
    "eigenv, eigenvecs = np.linalg.eig(D)\n",
    "\n",
    "ev1, ev2 = eigenvecs\n",
    "eigenv, (ev1, ev2)"
   ]
  },
  {
   "cell_type": "code",
   "execution_count": null,
   "id": "af68ec5f",
   "metadata": {},
   "outputs": [
    {
     "data": {
      "text/plain": [
       "array([0.63268638, 0.77440813])"
      ]
     },
     "metadata": {},
     "output_type": "display_data"
    }
   ],
   "source": [
    "np.array([1, 1.224]) / np.sqrt((np.array([1, 1.224])**2).sum())"
   ]
  },
  {
   "cell_type": "code",
   "execution_count": null,
   "id": "6044cfdb",
   "metadata": {},
   "outputs": [
    {
     "data": {
      "text/plain": [
       "array([ 0.63268638, -0.77440813])"
      ]
     },
     "metadata": {},
     "output_type": "display_data"
    }
   ],
   "source": [
    "np.array([1, -1.224]) / np.sqrt((np.array([1, -1.224])**2).sum())"
   ]
  },
  {
   "cell_type": "code",
   "execution_count": null,
   "id": "6b405800",
   "metadata": {},
   "outputs": [
    {
     "data": {
      "application/vnd.plotly.v1+json": {
       "config": {
        "plotlyServerURL": "https://plot.ly"
       },
       "data": [
        {
         "line": {
          "color": "black",
          "dash": "dash",
          "width": 2
         },
         "mode": "lines+markers",
         "name": "Eigenvektor 1",
         "type": "scatter",
         "x": [
          0,
          -9.167378064492908
         ],
         "y": [
          0,
          9.167378064492908
         ]
        },
        {
         "line": {
          "color": "black",
          "dash": "dash",
          "width": 2
         },
         "mode": "lines+markers",
         "name": "Eigenvektor 2",
         "type": "scatter",
         "x": [
          0,
          26.71963265342511
         ],
         "y": [
          0,
          26.71963265342511
         ]
        },
        {
         "line": {
          "color": "steelblue",
          "width": 2
         },
         "mode": "lines+markers",
         "name": "Light",
         "type": "scatter",
         "x": [
          0,
          20
         ],
         "y": [
          0,
          80
         ]
        },
        {
         "line": {
          "color": "steelblue",
          "dash": "dash",
          "width": 2
         },
         "mode": "lines+markers",
         "name": "Light (transformiert)",
         "type": "scatter",
         "x": [
          0,
          180
         ],
         "y": [
          0,
          140
         ]
        }
       ],
       "layout": {
        "legend": {
         "orientation": "h",
         "x": 0.5,
         "xanchor": "center",
         "y": 1,
         "yanchor": "bottom"
        },
        "template": {
         "data": {
          "bar": [
           {
            "error_x": {
             "color": "#2a3f5f"
            },
            "error_y": {
             "color": "#2a3f5f"
            },
            "marker": {
             "line": {
              "color": "#E5ECF6",
              "width": 0.5
             },
             "pattern": {
              "fillmode": "overlay",
              "size": 10,
              "solidity": 0.2
             }
            },
            "type": "bar"
           }
          ],
          "barpolar": [
           {
            "marker": {
             "line": {
              "color": "#E5ECF6",
              "width": 0.5
             },
             "pattern": {
              "fillmode": "overlay",
              "size": 10,
              "solidity": 0.2
             }
            },
            "type": "barpolar"
           }
          ],
          "carpet": [
           {
            "aaxis": {
             "endlinecolor": "#2a3f5f",
             "gridcolor": "white",
             "linecolor": "white",
             "minorgridcolor": "white",
             "startlinecolor": "#2a3f5f"
            },
            "baxis": {
             "endlinecolor": "#2a3f5f",
             "gridcolor": "white",
             "linecolor": "white",
             "minorgridcolor": "white",
             "startlinecolor": "#2a3f5f"
            },
            "type": "carpet"
           }
          ],
          "choropleth": [
           {
            "colorbar": {
             "outlinewidth": 0,
             "ticks": ""
            },
            "type": "choropleth"
           }
          ],
          "contour": [
           {
            "colorbar": {
             "outlinewidth": 0,
             "ticks": ""
            },
            "colorscale": [
             [
              0,
              "#0d0887"
             ],
             [
              0.1111111111111111,
              "#46039f"
             ],
             [
              0.2222222222222222,
              "#7201a8"
             ],
             [
              0.3333333333333333,
              "#9c179e"
             ],
             [
              0.4444444444444444,
              "#bd3786"
             ],
             [
              0.5555555555555556,
              "#d8576b"
             ],
             [
              0.6666666666666666,
              "#ed7953"
             ],
             [
              0.7777777777777778,
              "#fb9f3a"
             ],
             [
              0.8888888888888888,
              "#fdca26"
             ],
             [
              1,
              "#f0f921"
             ]
            ],
            "type": "contour"
           }
          ],
          "contourcarpet": [
           {
            "colorbar": {
             "outlinewidth": 0,
             "ticks": ""
            },
            "type": "contourcarpet"
           }
          ],
          "heatmap": [
           {
            "colorbar": {
             "outlinewidth": 0,
             "ticks": ""
            },
            "colorscale": [
             [
              0,
              "#0d0887"
             ],
             [
              0.1111111111111111,
              "#46039f"
             ],
             [
              0.2222222222222222,
              "#7201a8"
             ],
             [
              0.3333333333333333,
              "#9c179e"
             ],
             [
              0.4444444444444444,
              "#bd3786"
             ],
             [
              0.5555555555555556,
              "#d8576b"
             ],
             [
              0.6666666666666666,
              "#ed7953"
             ],
             [
              0.7777777777777778,
              "#fb9f3a"
             ],
             [
              0.8888888888888888,
              "#fdca26"
             ],
             [
              1,
              "#f0f921"
             ]
            ],
            "type": "heatmap"
           }
          ],
          "heatmapgl": [
           {
            "colorbar": {
             "outlinewidth": 0,
             "ticks": ""
            },
            "colorscale": [
             [
              0,
              "#0d0887"
             ],
             [
              0.1111111111111111,
              "#46039f"
             ],
             [
              0.2222222222222222,
              "#7201a8"
             ],
             [
              0.3333333333333333,
              "#9c179e"
             ],
             [
              0.4444444444444444,
              "#bd3786"
             ],
             [
              0.5555555555555556,
              "#d8576b"
             ],
             [
              0.6666666666666666,
              "#ed7953"
             ],
             [
              0.7777777777777778,
              "#fb9f3a"
             ],
             [
              0.8888888888888888,
              "#fdca26"
             ],
             [
              1,
              "#f0f921"
             ]
            ],
            "type": "heatmapgl"
           }
          ],
          "histogram": [
           {
            "marker": {
             "pattern": {
              "fillmode": "overlay",
              "size": 10,
              "solidity": 0.2
             }
            },
            "type": "histogram"
           }
          ],
          "histogram2d": [
           {
            "colorbar": {
             "outlinewidth": 0,
             "ticks": ""
            },
            "colorscale": [
             [
              0,
              "#0d0887"
             ],
             [
              0.1111111111111111,
              "#46039f"
             ],
             [
              0.2222222222222222,
              "#7201a8"
             ],
             [
              0.3333333333333333,
              "#9c179e"
             ],
             [
              0.4444444444444444,
              "#bd3786"
             ],
             [
              0.5555555555555556,
              "#d8576b"
             ],
             [
              0.6666666666666666,
              "#ed7953"
             ],
             [
              0.7777777777777778,
              "#fb9f3a"
             ],
             [
              0.8888888888888888,
              "#fdca26"
             ],
             [
              1,
              "#f0f921"
             ]
            ],
            "type": "histogram2d"
           }
          ],
          "histogram2dcontour": [
           {
            "colorbar": {
             "outlinewidth": 0,
             "ticks": ""
            },
            "colorscale": [
             [
              0,
              "#0d0887"
             ],
             [
              0.1111111111111111,
              "#46039f"
             ],
             [
              0.2222222222222222,
              "#7201a8"
             ],
             [
              0.3333333333333333,
              "#9c179e"
             ],
             [
              0.4444444444444444,
              "#bd3786"
             ],
             [
              0.5555555555555556,
              "#d8576b"
             ],
             [
              0.6666666666666666,
              "#ed7953"
             ],
             [
              0.7777777777777778,
              "#fb9f3a"
             ],
             [
              0.8888888888888888,
              "#fdca26"
             ],
             [
              1,
              "#f0f921"
             ]
            ],
            "type": "histogram2dcontour"
           }
          ],
          "mesh3d": [
           {
            "colorbar": {
             "outlinewidth": 0,
             "ticks": ""
            },
            "type": "mesh3d"
           }
          ],
          "parcoords": [
           {
            "line": {
             "colorbar": {
              "outlinewidth": 0,
              "ticks": ""
             }
            },
            "type": "parcoords"
           }
          ],
          "pie": [
           {
            "automargin": true,
            "type": "pie"
           }
          ],
          "scatter": [
           {
            "fillpattern": {
             "fillmode": "overlay",
             "size": 10,
             "solidity": 0.2
            },
            "type": "scatter"
           }
          ],
          "scatter3d": [
           {
            "line": {
             "colorbar": {
              "outlinewidth": 0,
              "ticks": ""
             }
            },
            "marker": {
             "colorbar": {
              "outlinewidth": 0,
              "ticks": ""
             }
            },
            "type": "scatter3d"
           }
          ],
          "scattercarpet": [
           {
            "marker": {
             "colorbar": {
              "outlinewidth": 0,
              "ticks": ""
             }
            },
            "type": "scattercarpet"
           }
          ],
          "scattergeo": [
           {
            "marker": {
             "colorbar": {
              "outlinewidth": 0,
              "ticks": ""
             }
            },
            "type": "scattergeo"
           }
          ],
          "scattergl": [
           {
            "marker": {
             "colorbar": {
              "outlinewidth": 0,
              "ticks": ""
             }
            },
            "type": "scattergl"
           }
          ],
          "scattermapbox": [
           {
            "marker": {
             "colorbar": {
              "outlinewidth": 0,
              "ticks": ""
             }
            },
            "type": "scattermapbox"
           }
          ],
          "scatterpolar": [
           {
            "marker": {
             "colorbar": {
              "outlinewidth": 0,
              "ticks": ""
             }
            },
            "type": "scatterpolar"
           }
          ],
          "scatterpolargl": [
           {
            "marker": {
             "colorbar": {
              "outlinewidth": 0,
              "ticks": ""
             }
            },
            "type": "scatterpolargl"
           }
          ],
          "scatterternary": [
           {
            "marker": {
             "colorbar": {
              "outlinewidth": 0,
              "ticks": ""
             }
            },
            "type": "scatterternary"
           }
          ],
          "surface": [
           {
            "colorbar": {
             "outlinewidth": 0,
             "ticks": ""
            },
            "colorscale": [
             [
              0,
              "#0d0887"
             ],
             [
              0.1111111111111111,
              "#46039f"
             ],
             [
              0.2222222222222222,
              "#7201a8"
             ],
             [
              0.3333333333333333,
              "#9c179e"
             ],
             [
              0.4444444444444444,
              "#bd3786"
             ],
             [
              0.5555555555555556,
              "#d8576b"
             ],
             [
              0.6666666666666666,
              "#ed7953"
             ],
             [
              0.7777777777777778,
              "#fb9f3a"
             ],
             [
              0.8888888888888888,
              "#fdca26"
             ],
             [
              1,
              "#f0f921"
             ]
            ],
            "type": "surface"
           }
          ],
          "table": [
           {
            "cells": {
             "fill": {
              "color": "#EBF0F8"
             },
             "line": {
              "color": "white"
             }
            },
            "header": {
             "fill": {
              "color": "#C8D4E3"
             },
             "line": {
              "color": "white"
             }
            },
            "type": "table"
           }
          ]
         },
         "layout": {
          "annotationdefaults": {
           "arrowcolor": "#2a3f5f",
           "arrowhead": 0,
           "arrowwidth": 1
          },
          "autotypenumbers": "strict",
          "coloraxis": {
           "colorbar": {
            "outlinewidth": 0,
            "ticks": ""
           }
          },
          "colorscale": {
           "diverging": [
            [
             0,
             "#8e0152"
            ],
            [
             0.1,
             "#c51b7d"
            ],
            [
             0.2,
             "#de77ae"
            ],
            [
             0.3,
             "#f1b6da"
            ],
            [
             0.4,
             "#fde0ef"
            ],
            [
             0.5,
             "#f7f7f7"
            ],
            [
             0.6,
             "#e6f5d0"
            ],
            [
             0.7,
             "#b8e186"
            ],
            [
             0.8,
             "#7fbc41"
            ],
            [
             0.9,
             "#4d9221"
            ],
            [
             1,
             "#276419"
            ]
           ],
           "sequential": [
            [
             0,
             "#0d0887"
            ],
            [
             0.1111111111111111,
             "#46039f"
            ],
            [
             0.2222222222222222,
             "#7201a8"
            ],
            [
             0.3333333333333333,
             "#9c179e"
            ],
            [
             0.4444444444444444,
             "#bd3786"
            ],
            [
             0.5555555555555556,
             "#d8576b"
            ],
            [
             0.6666666666666666,
             "#ed7953"
            ],
            [
             0.7777777777777778,
             "#fb9f3a"
            ],
            [
             0.8888888888888888,
             "#fdca26"
            ],
            [
             1,
             "#f0f921"
            ]
           ],
           "sequentialminus": [
            [
             0,
             "#0d0887"
            ],
            [
             0.1111111111111111,
             "#46039f"
            ],
            [
             0.2222222222222222,
             "#7201a8"
            ],
            [
             0.3333333333333333,
             "#9c179e"
            ],
            [
             0.4444444444444444,
             "#bd3786"
            ],
            [
             0.5555555555555556,
             "#d8576b"
            ],
            [
             0.6666666666666666,
             "#ed7953"
            ],
            [
             0.7777777777777778,
             "#fb9f3a"
            ],
            [
             0.8888888888888888,
             "#fdca26"
            ],
            [
             1,
             "#f0f921"
            ]
           ]
          },
          "colorway": [
           "#636efa",
           "#EF553B",
           "#00cc96",
           "#ab63fa",
           "#FFA15A",
           "#19d3f3",
           "#FF6692",
           "#B6E880",
           "#FF97FF",
           "#FECB52"
          ],
          "font": {
           "color": "#2a3f5f"
          },
          "geo": {
           "bgcolor": "white",
           "lakecolor": "white",
           "landcolor": "#E5ECF6",
           "showlakes": true,
           "showland": true,
           "subunitcolor": "white"
          },
          "hoverlabel": {
           "align": "left"
          },
          "hovermode": "closest",
          "mapbox": {
           "style": "light"
          },
          "paper_bgcolor": "white",
          "plot_bgcolor": "#E5ECF6",
          "polar": {
           "angularaxis": {
            "gridcolor": "white",
            "linecolor": "white",
            "ticks": ""
           },
           "bgcolor": "#E5ECF6",
           "radialaxis": {
            "gridcolor": "white",
            "linecolor": "white",
            "ticks": ""
           }
          },
          "scene": {
           "xaxis": {
            "backgroundcolor": "#E5ECF6",
            "gridcolor": "white",
            "gridwidth": 2,
            "linecolor": "white",
            "showbackground": true,
            "ticks": "",
            "zerolinecolor": "white"
           },
           "yaxis": {
            "backgroundcolor": "#E5ECF6",
            "gridcolor": "white",
            "gridwidth": 2,
            "linecolor": "white",
            "showbackground": true,
            "ticks": "",
            "zerolinecolor": "white"
           },
           "zaxis": {
            "backgroundcolor": "#E5ECF6",
            "gridcolor": "white",
            "gridwidth": 2,
            "linecolor": "white",
            "showbackground": true,
            "ticks": "",
            "zerolinecolor": "white"
           }
          },
          "shapedefaults": {
           "line": {
            "color": "#2a3f5f"
           }
          },
          "ternary": {
           "aaxis": {
            "gridcolor": "white",
            "linecolor": "white",
            "ticks": ""
           },
           "baxis": {
            "gridcolor": "white",
            "linecolor": "white",
            "ticks": ""
           },
           "bgcolor": "#E5ECF6",
           "caxis": {
            "gridcolor": "white",
            "linecolor": "white",
            "ticks": ""
           }
          },
          "title": {
           "x": 0.05
          },
          "xaxis": {
           "automargin": true,
           "gridcolor": "white",
           "linecolor": "white",
           "ticks": "",
           "title": {
            "standoff": 15
           },
           "zerolinecolor": "white",
           "zerolinewidth": 2
          },
          "yaxis": {
           "automargin": true,
           "gridcolor": "white",
           "linecolor": "white",
           "ticks": "",
           "title": {
            "standoff": 15
           },
           "zerolinecolor": "white",
           "zerolinewidth": 2
          }
         }
        },
        "title": {
         "text": "Eigenvektoren der Transformation"
        },
        "updatemenus": [
         {
          "buttons": [
           {
            "args": [
             null,
             {
              "frame": {
               "duration": 20,
               "redraw": false
              },
              "fromcurrent": true,
              "transition": {
               "duration": 10
              }
             }
            ],
            "label": "Play",
            "method": "animate"
           }
          ],
          "type": "buttons"
         }
        ],
        "xaxis": {
         "range": [
          -40,
          150
         ],
         "scaleanchor": "y",
         "title": {
          "text": "Vodka (ml)"
         }
        },
        "yaxis": {
         "range": [
          -40,
          150
         ],
         "title": {
          "text": "Tomatensaft (ml)"
         }
        }
       }
      }
     },
     "metadata": {},
     "output_type": "display_data"
    }
   ],
   "source": [
    "\n",
    "ev1 = lambda1 * ev1 * 10\n",
    "ev2 = lambda2 * ev2 * 10\n",
    "\n",
    "# Plot the Eigenvectors\n",
    "\n",
    "bm_light_tr_eigen = D @ bm_light\n",
    "\n",
    "fig_eigen = go.Figure(data=[\n",
    "                go.Scatter(x=[0, ev1[0]], y=[0, ev1[1]], mode='lines+markers', name='Eigenvektor 1', line=dict(color=\"black\", width=2, dash=\"dash\")),\n",
    "                go.Scatter(x=[0, ev2[0]], y=[0, ev2[1]], mode='lines+markers', name='Eigenvektor 2', line=dict(color=\"black\", width=2, dash=\"dash\")),\n",
    "                go.Scatter(x=[0, bm_light[0]], y=[0, bm_light[1]], mode='lines+markers', name='Light', line=dict(color=\"steelblue\", width=2)),\n",
    "                go.Scatter(x=[0, bm_light_tr_eigen[0]], y=[0, bm_light_tr_eigen[1]], mode='lines+markers', name='Light (transformiert)', line=dict(color=\"steelblue\", width=2, dash=\"dash\")),\n",
    "                ])\n",
    "\n",
    "fig_eigen.update_layout(\n",
    "        title=\"Eigenvektoren der Transformation\",\n",
    "        xaxis_title=\"Vodka (ml)\",\n",
    "        yaxis_title=\"Tomatensaft (ml)\",\n",
    "        xaxis_range=[-40, 150],\n",
    "        yaxis_range=[-40, 150],\n",
    "        xaxis=dict(scaleanchor=\"y\"),\n",
    "        updatemenus=[dict(type=\"buttons\",\n",
    "                          buttons=[dict(args=[None, {\"frame\": {\"duration\": 20, \"redraw\": False},\n",
    "                                                         \"fromcurrent\": True, \"transition\": {\"duration\": 10}}],\n",
    "                                         label=\"Play\",\n",
    "                                         method=\"animate\")])],\n",
    "        legend=dict(\n",
    "                orientation=\"h\",  # Horizontal legend\n",
    "                yanchor=\"bottom\",  # Align the bottom of the legend\n",
    "                y=1,             # Position above the plot (1.0 is the top of the plot)\n",
    "                xanchor=\"center\",  # Center the legend horizontally\n",
    "                x=0.5              # Center position\n",
    "        )\n",
    ")\n",
    "\n",
    "fig_eigen.show()"
   ]
  },
  {
   "cell_type": "markdown",
   "id": "7b32c786",
   "metadata": {},
   "source": [
    "## Die Eigenzerlegung\n",
    "\n",
    "Eine "
   ]
  },
  {
   "cell_type": "code",
   "execution_count": null,
   "id": "e81d5cd1",
   "metadata": {},
   "outputs": [
    {
     "data": {
      "text/plain": [
       "array([[ 0.63245553, -0.63245553],\n",
       "       [ 0.77459667,  0.77459667]])"
      ]
     },
     "metadata": {},
     "output_type": "display_data"
    }
   ],
   "source": [
    "eigenvecs"
   ]
  },
  {
   "cell_type": "code",
   "execution_count": null,
   "id": "dfbc4f6e",
   "metadata": {},
   "outputs": [
    {
     "data": {
      "text/plain": [
       "np.int64(1)"
      ]
     },
     "metadata": {},
     "output_type": "display_data"
    }
   ],
   "source": [
    "(np.array([1, 0]) ** 2).sum()"
   ]
  },
  {
   "cell_type": "code",
   "execution_count": null,
   "id": "a68b7f63",
   "metadata": {},
   "outputs": [
    {
     "data": {
      "text/plain": [
       "np.float64(1.0)"
      ]
     },
     "metadata": {},
     "output_type": "display_data"
    }
   ],
   "source": [
    "tmp = eigenvecs @ np.array([1, 0])\n",
    "(tmp ** 2).sum()"
   ]
  },
  {
   "cell_type": "code",
   "execution_count": null,
   "id": "56c0a7d6",
   "metadata": {},
   "outputs": [
    {
     "data": {
      "text/plain": [
       "array([12.64911064, 15.49193338])"
      ]
     },
     "metadata": {},
     "output_type": "display_data"
    }
   ],
   "source": [
    "eigenvecs @ np.array([20, 0])"
   ]
  },
  {
   "cell_type": "code",
   "execution_count": null,
   "id": "5e53f7fe",
   "metadata": {},
   "outputs": [
    {
     "data": {
      "text/plain": [
       "np.int64(400)"
      ]
     },
     "metadata": {},
     "output_type": "display_data"
    }
   ],
   "source": [
    "(np.array([20, 0]) ** 2).sum()"
   ]
  },
  {
   "cell_type": "code",
   "execution_count": null,
   "id": "40965ca5",
   "metadata": {},
   "outputs": [
    {
     "data": {
      "text/plain": [
       "np.float64(400.00000000000006)"
      ]
     },
     "metadata": {},
     "output_type": "display_data"
    }
   ],
   "source": [
    "((eigenvecs @ np.array([20, 0])) ** 2).sum()"
   ]
  },
  {
   "cell_type": "code",
   "execution_count": null,
   "id": "83c32527",
   "metadata": {},
   "outputs": [
    {
     "data": {
      "text/plain": [
       "np.float64(1.0)"
      ]
     },
     "metadata": {},
     "output_type": "display_data"
    }
   ],
   "source": [
    "np.linalg.norm(eigenvecs[:,1])"
   ]
  },
  {
   "cell_type": "code",
   "execution_count": null,
   "id": "1c36901f",
   "metadata": {},
   "outputs": [
    {
     "data": {
      "text/plain": [
       "array([[ 0.63245553, -0.63245553],\n",
       "       [ 0.77459667,  0.77459667]])"
      ]
     },
     "metadata": {},
     "output_type": "display_data"
    }
   ],
   "source": [
    "eigenvecs"
   ]
  },
  {
   "cell_type": "code",
   "execution_count": null,
   "id": "4dc4ad51",
   "metadata": {},
   "outputs": [
    {
     "data": {
      "text/plain": [
       "array([[ 0.63245553,  0.77459667],\n",
       "       [-0.63245553,  0.77459667]])"
      ]
     },
     "metadata": {},
     "output_type": "display_data"
    }
   ],
   "source": [
    "eigenvecs.T"
   ]
  },
  {
   "cell_type": "code",
   "execution_count": null,
   "id": "58f2b5b8",
   "metadata": {},
   "outputs": [
    {
     "data": {
      "text/plain": [
       "array([[ 3.44948974,  0.        ],\n",
       "       [ 0.        , -1.44948974]])"
      ]
     },
     "metadata": {},
     "output_type": "display_data"
    }
   ],
   "source": [
    "np.diag(eigenv)"
   ]
  },
  {
   "cell_type": "code",
   "execution_count": null,
   "id": "09b8739f",
   "metadata": {},
   "outputs": [
    {
     "data": {
      "text/plain": [
       "array([[1., 2.],\n",
       "       [3., 1.]])"
      ]
     },
     "metadata": {},
     "output_type": "display_data"
    }
   ],
   "source": [
    "(eigenvecs @ np.diag(eigenv)  @ np.linalg.inv(eigenvecs))"
   ]
  },
  {
   "cell_type": "code",
   "execution_count": null,
   "id": "3b92c54b",
   "metadata": {},
   "outputs": [
    {
     "data": {
      "application/vnd.plotly.v1+json": {
       "config": {
        "plotlyServerURL": "https://plot.ly"
       },
       "data": [
        {
         "line": {
          "color": "black",
          "dash": "dash",
          "width": 2
         },
         "mode": "lines+markers",
         "name": "Eigenvektor 1",
         "type": "scatter",
         "x": [
          0,
          0.6324555320336759
         ],
         "y": [
          0,
          -0.6324555320336759
         ]
        },
        {
         "line": {
          "color": "black",
          "dash": "dash",
          "width": 2
         },
         "mode": "lines+markers",
         "name": "Eigenvektor 2",
         "type": "scatter",
         "x": [
          0,
          0.7745966692414834
         ],
         "y": [
          0,
          0.7745966692414834
         ]
        },
        {
         "line": {
          "color": "steelblue",
          "width": 2
         },
         "mode": "lines+markers",
         "name": "Vodka Pure",
         "type": "scatter",
         "x": [
          0,
          20
         ],
         "y": [
          0,
          0
         ]
        },
        {
         "line": {
          "color": "firebrick",
          "width": 2
         },
         "mode": "lines+markers",
         "name": "Tomatensaft Pure",
         "type": "scatter",
         "x": [
          0,
          0
         ],
         "y": [
          0,
          20
         ]
        },
        {
         "line": {
          "color": "steelblue",
          "dash": "dash",
          "width": 2
         },
         "mode": "lines+markers",
         "name": "Vodka Pure (transformation)",
         "type": "scatter",
         "x": [
          0,
          12.649110640673518
         ],
         "y": [
          0,
          15.491933384829668
         ]
        },
        {
         "line": {
          "color": "firebrick",
          "dash": "dash",
          "width": 2
         },
         "mode": "lines+markers",
         "name": "Tomatensaft Pure (transformation)",
         "type": "scatter",
         "x": [
          0,
          -12.649110640673518
         ],
         "y": [
          0,
          15.491933384829668
         ]
        }
       ],
       "layout": {
        "legend": {
         "orientation": "h",
         "x": 0.5,
         "xanchor": "center",
         "y": 1,
         "yanchor": "bottom"
        },
        "template": {
         "data": {
          "bar": [
           {
            "error_x": {
             "color": "#2a3f5f"
            },
            "error_y": {
             "color": "#2a3f5f"
            },
            "marker": {
             "line": {
              "color": "#E5ECF6",
              "width": 0.5
             },
             "pattern": {
              "fillmode": "overlay",
              "size": 10,
              "solidity": 0.2
             }
            },
            "type": "bar"
           }
          ],
          "barpolar": [
           {
            "marker": {
             "line": {
              "color": "#E5ECF6",
              "width": 0.5
             },
             "pattern": {
              "fillmode": "overlay",
              "size": 10,
              "solidity": 0.2
             }
            },
            "type": "barpolar"
           }
          ],
          "carpet": [
           {
            "aaxis": {
             "endlinecolor": "#2a3f5f",
             "gridcolor": "white",
             "linecolor": "white",
             "minorgridcolor": "white",
             "startlinecolor": "#2a3f5f"
            },
            "baxis": {
             "endlinecolor": "#2a3f5f",
             "gridcolor": "white",
             "linecolor": "white",
             "minorgridcolor": "white",
             "startlinecolor": "#2a3f5f"
            },
            "type": "carpet"
           }
          ],
          "choropleth": [
           {
            "colorbar": {
             "outlinewidth": 0,
             "ticks": ""
            },
            "type": "choropleth"
           }
          ],
          "contour": [
           {
            "colorbar": {
             "outlinewidth": 0,
             "ticks": ""
            },
            "colorscale": [
             [
              0,
              "#0d0887"
             ],
             [
              0.1111111111111111,
              "#46039f"
             ],
             [
              0.2222222222222222,
              "#7201a8"
             ],
             [
              0.3333333333333333,
              "#9c179e"
             ],
             [
              0.4444444444444444,
              "#bd3786"
             ],
             [
              0.5555555555555556,
              "#d8576b"
             ],
             [
              0.6666666666666666,
              "#ed7953"
             ],
             [
              0.7777777777777778,
              "#fb9f3a"
             ],
             [
              0.8888888888888888,
              "#fdca26"
             ],
             [
              1,
              "#f0f921"
             ]
            ],
            "type": "contour"
           }
          ],
          "contourcarpet": [
           {
            "colorbar": {
             "outlinewidth": 0,
             "ticks": ""
            },
            "type": "contourcarpet"
           }
          ],
          "heatmap": [
           {
            "colorbar": {
             "outlinewidth": 0,
             "ticks": ""
            },
            "colorscale": [
             [
              0,
              "#0d0887"
             ],
             [
              0.1111111111111111,
              "#46039f"
             ],
             [
              0.2222222222222222,
              "#7201a8"
             ],
             [
              0.3333333333333333,
              "#9c179e"
             ],
             [
              0.4444444444444444,
              "#bd3786"
             ],
             [
              0.5555555555555556,
              "#d8576b"
             ],
             [
              0.6666666666666666,
              "#ed7953"
             ],
             [
              0.7777777777777778,
              "#fb9f3a"
             ],
             [
              0.8888888888888888,
              "#fdca26"
             ],
             [
              1,
              "#f0f921"
             ]
            ],
            "type": "heatmap"
           }
          ],
          "heatmapgl": [
           {
            "colorbar": {
             "outlinewidth": 0,
             "ticks": ""
            },
            "colorscale": [
             [
              0,
              "#0d0887"
             ],
             [
              0.1111111111111111,
              "#46039f"
             ],
             [
              0.2222222222222222,
              "#7201a8"
             ],
             [
              0.3333333333333333,
              "#9c179e"
             ],
             [
              0.4444444444444444,
              "#bd3786"
             ],
             [
              0.5555555555555556,
              "#d8576b"
             ],
             [
              0.6666666666666666,
              "#ed7953"
             ],
             [
              0.7777777777777778,
              "#fb9f3a"
             ],
             [
              0.8888888888888888,
              "#fdca26"
             ],
             [
              1,
              "#f0f921"
             ]
            ],
            "type": "heatmapgl"
           }
          ],
          "histogram": [
           {
            "marker": {
             "pattern": {
              "fillmode": "overlay",
              "size": 10,
              "solidity": 0.2
             }
            },
            "type": "histogram"
           }
          ],
          "histogram2d": [
           {
            "colorbar": {
             "outlinewidth": 0,
             "ticks": ""
            },
            "colorscale": [
             [
              0,
              "#0d0887"
             ],
             [
              0.1111111111111111,
              "#46039f"
             ],
             [
              0.2222222222222222,
              "#7201a8"
             ],
             [
              0.3333333333333333,
              "#9c179e"
             ],
             [
              0.4444444444444444,
              "#bd3786"
             ],
             [
              0.5555555555555556,
              "#d8576b"
             ],
             [
              0.6666666666666666,
              "#ed7953"
             ],
             [
              0.7777777777777778,
              "#fb9f3a"
             ],
             [
              0.8888888888888888,
              "#fdca26"
             ],
             [
              1,
              "#f0f921"
             ]
            ],
            "type": "histogram2d"
           }
          ],
          "histogram2dcontour": [
           {
            "colorbar": {
             "outlinewidth": 0,
             "ticks": ""
            },
            "colorscale": [
             [
              0,
              "#0d0887"
             ],
             [
              0.1111111111111111,
              "#46039f"
             ],
             [
              0.2222222222222222,
              "#7201a8"
             ],
             [
              0.3333333333333333,
              "#9c179e"
             ],
             [
              0.4444444444444444,
              "#bd3786"
             ],
             [
              0.5555555555555556,
              "#d8576b"
             ],
             [
              0.6666666666666666,
              "#ed7953"
             ],
             [
              0.7777777777777778,
              "#fb9f3a"
             ],
             [
              0.8888888888888888,
              "#fdca26"
             ],
             [
              1,
              "#f0f921"
             ]
            ],
            "type": "histogram2dcontour"
           }
          ],
          "mesh3d": [
           {
            "colorbar": {
             "outlinewidth": 0,
             "ticks": ""
            },
            "type": "mesh3d"
           }
          ],
          "parcoords": [
           {
            "line": {
             "colorbar": {
              "outlinewidth": 0,
              "ticks": ""
             }
            },
            "type": "parcoords"
           }
          ],
          "pie": [
           {
            "automargin": true,
            "type": "pie"
           }
          ],
          "scatter": [
           {
            "fillpattern": {
             "fillmode": "overlay",
             "size": 10,
             "solidity": 0.2
            },
            "type": "scatter"
           }
          ],
          "scatter3d": [
           {
            "line": {
             "colorbar": {
              "outlinewidth": 0,
              "ticks": ""
             }
            },
            "marker": {
             "colorbar": {
              "outlinewidth": 0,
              "ticks": ""
             }
            },
            "type": "scatter3d"
           }
          ],
          "scattercarpet": [
           {
            "marker": {
             "colorbar": {
              "outlinewidth": 0,
              "ticks": ""
             }
            },
            "type": "scattercarpet"
           }
          ],
          "scattergeo": [
           {
            "marker": {
             "colorbar": {
              "outlinewidth": 0,
              "ticks": ""
             }
            },
            "type": "scattergeo"
           }
          ],
          "scattergl": [
           {
            "marker": {
             "colorbar": {
              "outlinewidth": 0,
              "ticks": ""
             }
            },
            "type": "scattergl"
           }
          ],
          "scattermapbox": [
           {
            "marker": {
             "colorbar": {
              "outlinewidth": 0,
              "ticks": ""
             }
            },
            "type": "scattermapbox"
           }
          ],
          "scatterpolar": [
           {
            "marker": {
             "colorbar": {
              "outlinewidth": 0,
              "ticks": ""
             }
            },
            "type": "scatterpolar"
           }
          ],
          "scatterpolargl": [
           {
            "marker": {
             "colorbar": {
              "outlinewidth": 0,
              "ticks": ""
             }
            },
            "type": "scatterpolargl"
           }
          ],
          "scatterternary": [
           {
            "marker": {
             "colorbar": {
              "outlinewidth": 0,
              "ticks": ""
             }
            },
            "type": "scatterternary"
           }
          ],
          "surface": [
           {
            "colorbar": {
             "outlinewidth": 0,
             "ticks": ""
            },
            "colorscale": [
             [
              0,
              "#0d0887"
             ],
             [
              0.1111111111111111,
              "#46039f"
             ],
             [
              0.2222222222222222,
              "#7201a8"
             ],
             [
              0.3333333333333333,
              "#9c179e"
             ],
             [
              0.4444444444444444,
              "#bd3786"
             ],
             [
              0.5555555555555556,
              "#d8576b"
             ],
             [
              0.6666666666666666,
              "#ed7953"
             ],
             [
              0.7777777777777778,
              "#fb9f3a"
             ],
             [
              0.8888888888888888,
              "#fdca26"
             ],
             [
              1,
              "#f0f921"
             ]
            ],
            "type": "surface"
           }
          ],
          "table": [
           {
            "cells": {
             "fill": {
              "color": "#EBF0F8"
             },
             "line": {
              "color": "white"
             }
            },
            "header": {
             "fill": {
              "color": "#C8D4E3"
             },
             "line": {
              "color": "white"
             }
            },
            "type": "table"
           }
          ]
         },
         "layout": {
          "annotationdefaults": {
           "arrowcolor": "#2a3f5f",
           "arrowhead": 0,
           "arrowwidth": 1
          },
          "autotypenumbers": "strict",
          "coloraxis": {
           "colorbar": {
            "outlinewidth": 0,
            "ticks": ""
           }
          },
          "colorscale": {
           "diverging": [
            [
             0,
             "#8e0152"
            ],
            [
             0.1,
             "#c51b7d"
            ],
            [
             0.2,
             "#de77ae"
            ],
            [
             0.3,
             "#f1b6da"
            ],
            [
             0.4,
             "#fde0ef"
            ],
            [
             0.5,
             "#f7f7f7"
            ],
            [
             0.6,
             "#e6f5d0"
            ],
            [
             0.7,
             "#b8e186"
            ],
            [
             0.8,
             "#7fbc41"
            ],
            [
             0.9,
             "#4d9221"
            ],
            [
             1,
             "#276419"
            ]
           ],
           "sequential": [
            [
             0,
             "#0d0887"
            ],
            [
             0.1111111111111111,
             "#46039f"
            ],
            [
             0.2222222222222222,
             "#7201a8"
            ],
            [
             0.3333333333333333,
             "#9c179e"
            ],
            [
             0.4444444444444444,
             "#bd3786"
            ],
            [
             0.5555555555555556,
             "#d8576b"
            ],
            [
             0.6666666666666666,
             "#ed7953"
            ],
            [
             0.7777777777777778,
             "#fb9f3a"
            ],
            [
             0.8888888888888888,
             "#fdca26"
            ],
            [
             1,
             "#f0f921"
            ]
           ],
           "sequentialminus": [
            [
             0,
             "#0d0887"
            ],
            [
             0.1111111111111111,
             "#46039f"
            ],
            [
             0.2222222222222222,
             "#7201a8"
            ],
            [
             0.3333333333333333,
             "#9c179e"
            ],
            [
             0.4444444444444444,
             "#bd3786"
            ],
            [
             0.5555555555555556,
             "#d8576b"
            ],
            [
             0.6666666666666666,
             "#ed7953"
            ],
            [
             0.7777777777777778,
             "#fb9f3a"
            ],
            [
             0.8888888888888888,
             "#fdca26"
            ],
            [
             1,
             "#f0f921"
            ]
           ]
          },
          "colorway": [
           "#636efa",
           "#EF553B",
           "#00cc96",
           "#ab63fa",
           "#FFA15A",
           "#19d3f3",
           "#FF6692",
           "#B6E880",
           "#FF97FF",
           "#FECB52"
          ],
          "font": {
           "color": "#2a3f5f"
          },
          "geo": {
           "bgcolor": "white",
           "lakecolor": "white",
           "landcolor": "#E5ECF6",
           "showlakes": true,
           "showland": true,
           "subunitcolor": "white"
          },
          "hoverlabel": {
           "align": "left"
          },
          "hovermode": "closest",
          "mapbox": {
           "style": "light"
          },
          "paper_bgcolor": "white",
          "plot_bgcolor": "#E5ECF6",
          "polar": {
           "angularaxis": {
            "gridcolor": "white",
            "linecolor": "white",
            "ticks": ""
           },
           "bgcolor": "#E5ECF6",
           "radialaxis": {
            "gridcolor": "white",
            "linecolor": "white",
            "ticks": ""
           }
          },
          "scene": {
           "xaxis": {
            "backgroundcolor": "#E5ECF6",
            "gridcolor": "white",
            "gridwidth": 2,
            "linecolor": "white",
            "showbackground": true,
            "ticks": "",
            "zerolinecolor": "white"
           },
           "yaxis": {
            "backgroundcolor": "#E5ECF6",
            "gridcolor": "white",
            "gridwidth": 2,
            "linecolor": "white",
            "showbackground": true,
            "ticks": "",
            "zerolinecolor": "white"
           },
           "zaxis": {
            "backgroundcolor": "#E5ECF6",
            "gridcolor": "white",
            "gridwidth": 2,
            "linecolor": "white",
            "showbackground": true,
            "ticks": "",
            "zerolinecolor": "white"
           }
          },
          "shapedefaults": {
           "line": {
            "color": "#2a3f5f"
           }
          },
          "ternary": {
           "aaxis": {
            "gridcolor": "white",
            "linecolor": "white",
            "ticks": ""
           },
           "baxis": {
            "gridcolor": "white",
            "linecolor": "white",
            "ticks": ""
           },
           "bgcolor": "#E5ECF6",
           "caxis": {
            "gridcolor": "white",
            "linecolor": "white",
            "ticks": ""
           }
          },
          "title": {
           "x": 0.05
          },
          "xaxis": {
           "automargin": true,
           "gridcolor": "white",
           "linecolor": "white",
           "ticks": "",
           "title": {
            "standoff": 15
           },
           "zerolinecolor": "white",
           "zerolinewidth": 2
          },
          "yaxis": {
           "automargin": true,
           "gridcolor": "white",
           "linecolor": "white",
           "ticks": "",
           "title": {
            "standoff": 15
           },
           "zerolinecolor": "white",
           "zerolinewidth": 2
          }
         }
        },
        "title": {
         "text": "Eigenvektoren der Transformation"
        },
        "xaxis": {
         "range": [
          -10,
          30
         ],
         "scaleanchor": "y",
         "title": {
          "text": "Vodka (ml)"
         }
        },
        "yaxis": {
         "range": [
          -10,
          30
         ],
         "title": {
          "text": "Tomatensaft (ml)"
         }
        }
       }
      }
     },
     "metadata": {},
     "output_type": "display_data"
    }
   ],
   "source": [
    "# Plot the transformed basis recipes ((0, 20), (20, 0))\n",
    "\n",
    "tomatensaft_pure_tr = eigenvecs @ tomatensaft_pure\n",
    "vodka_pure_tr = eigenvecs @ vodka_pure\n",
    "\n",
    "fig_eigen2 = go.Figure(data=[\n",
    "                go.Scatter(x=[0, ev1[0]], y=[0, ev1[1]], mode='lines+markers', name='Eigenvektor 1', line=dict(color=\"black\", width=2, dash=\"dash\")),\n",
    "                go.Scatter(x=[0, ev2[0]], y=[0, ev2[1]], mode='lines+markers', name='Eigenvektor 2', line=dict(color=\"black\", width=2, dash=\"dash\")),\n",
    "                go.Scatter(x=[0, vodka_pure[0]], y=[0, vodka_pure[1]], mode='lines+markers', name='Vodka Pure', line=dict(color=\"steelblue\", width=2)),\n",
    "                go.Scatter(x=[0, tomatensaft_pure[0]], y=[0, tomatensaft_pure[1]], mode='lines+markers', name='Tomatensaft Pure', line=dict(color=\"firebrick\", width=2)),\n",
    "                go.Scatter(x=[0, vodka_pure_tr[0]], y=[0, vodka_pure_tr[1]], mode='lines+markers', name='Vodka Pure (transformation)', line=dict(color=\"steelblue\", width=2, dash=\"dash\")),\n",
    "                go.Scatter(x=[0, tomatensaft_pure_tr[0]], y=[0, tomatensaft_pure_tr[1]], mode='lines+markers', name='Tomatensaft Pure (transformation)', line=dict(color=\"firebrick\", width=2, dash=\"dash\")),\n",
    "                ])\n",
    "\n",
    "fig_eigen2.update_layout(\n",
    "        title=\"Eigenvektoren der Transformation\",\n",
    "        xaxis_title=\"Vodka (ml)\",\n",
    "        yaxis_title=\"Tomatensaft (ml)\",\n",
    "        xaxis_range=[-10, 30],\n",
    "        yaxis_range=[-10, 30],\n",
    "        xaxis=dict(scaleanchor=\"y\"),\n",
    "        legend=dict(\n",
    "                orientation=\"h\",  # Horizontal legend\n",
    "                yanchor=\"bottom\",  # Align the bottom of the legend\n",
    "                y=1,             # Position above the plot (1.0 is the top of the plot)\n",
    "                xanchor=\"center\",  # Center the legend horizontally\n",
    "                x=0.5              # Center position\n",
    "        )\n",
    ")\n",
    "\n",
    "fig_eigen2.show()"
   ]
  }
 ],
 "metadata": {
  "kernelspec": {
   "display_name": "Python 3",
   "language": "python",
   "name": "python3"
  },
  "language_info": {
   "codemirror_mode": {
    "name": "ipython",
    "version": 3
   },
   "file_extension": ".py",
   "mimetype": "text/x-python",
   "name": "python",
   "nbconvert_exporter": "python",
   "pygments_lexer": "ipython3",
   "version": "3.11.11"
  }
 },
 "nbformat": 4,
 "nbformat_minor": 5
}
