{
  "cells": [
    {
      "cell_type": "markdown",
      "id": "89eeb5ad",
      "metadata": {
        "id": "89eeb5ad"
      },
      "source": [
        "# Produktion und Distribution {#sec-production-distribution}\n",
        "\n",
        "Open in Colab: [![Open in Colab](https://colab.research.google.com/assets/colab-badge.svg)](https://colab.research.google.com/github/febse/opt2025-de/blob/main/Production-Distribution.ipynb)\n",
        "\n",
        "In diesem Beispiel werden wir ein einfaches Optimierungsmodell für ein Produktions- und Distributionsproblem formulieren. Wir stellen uns vor, dass wir ein Unternehmen beraten, das Backsteine herstellt. Das Unternehmen hat Produktionsstätten in Baltimore, Cleveland, Little Rock, Birmingham und Charleston. Die Produktion aus diesen Standorten wird an Vertriebszentren in Columbia, Indianapolis, Lexington, Nashville, Richmond und St. Louis geliefert.\n",
        "\n",
        "Die Marketingabteilung des Unternehmens erstellt laufend Prognosen für die Nachfrage in jedem Vertriebszentrum und das Unternehmen versucht, seine Lieferkette so zu optimieren, dass die Nachfrage in jedem Vertriebszentrum erfüllt wird, während die Gesamtkosten für die Lieferkette minimiert werden. \n",
        "\n",
        "Die Transportkosten zwischen den Produktionsstätten und den Vertriebszentren sind bekannt und in @tbl-prod-distr-costs aufgeführt. Die prognostizierte Nachfrage in jedem Vertriebszentrum ist in @tbl-prod-distr-demand aufgeführt. \n",
        "\n",
        "Ferner sind die Produktionskapazitäten in den Produktionsstätten begrenzt, wie in @tbl-prod-distr-capacities angegeben. Ausserdem müssen aus technischen Gründen alle Produktionsstätten mindestens 70 Prozent ihrer maximalen Kapazität nutzen."
      ]
    },
    {
      "cell_type": "code",
      "execution_count": 1,
      "id": "28e16593-5c56-43d6-b2fb-d05835d38ea3",
      "metadata": {
        "id": "28e16593-5c56-43d6-b2fb-d05835d38ea3"
      },
      "outputs": [
        {
          "name": "stdout",
          "output_type": "stream",
          "text": [
            "Requirement already satisfied: gurobipy in c:\\users\\boyko\\.conda\\envs\\opt2025-de\\lib\\site-packages (12.0.1)\n",
            "Note: you may need to restart the kernel to use updated packages.\n"
          ]
        }
      ],
      "source": [
        "%pip install gurobipy\n",
        "\n",
        "# Zuerst importieren wir pandas und gurobipy\n",
        "\n",
        "import pandas as pd\n",
        "import gurobipy as gp\n",
        "from gurobipy import GRB"
      ]
    },
    {
      "cell_type": "code",
      "execution_count": 2,
      "id": "a43d2925",
      "metadata": {},
      "outputs": [
        {
          "data": {
            "application/vnd.microsoft.datawrangler.viewer.v0+json": {
              "columns": [
                {
                  "name": "index",
                  "rawType": "int64",
                  "type": "integer"
                },
                {
                  "name": "production",
                  "rawType": "object",
                  "type": "string"
                },
                {
                  "name": "distribution",
                  "rawType": "object",
                  "type": "string"
                },
                {
                  "name": "cost",
                  "rawType": "float64",
                  "type": "float"
                }
              ],
              "conversionMethod": "pd.DataFrame",
              "ref": "27c10a90-fd55-4068-ae87-14faf3421cbe",
              "rows": [
                [
                  "0",
                  "Baltimore",
                  "Columbia",
                  "4.5"
                ],
                [
                  "1",
                  "Baltimore",
                  "Indianapolis",
                  "5.09"
                ],
                [
                  "2",
                  "Baltimore",
                  "Lexington",
                  "4.33"
                ],
                [
                  "3",
                  "Baltimore",
                  "Nashville",
                  "5.96"
                ],
                [
                  "4",
                  "Baltimore",
                  "Richmond",
                  "1.96"
                ]
              ],
              "shape": {
                "columns": 3,
                "rows": 5
              }
            },
            "text/html": [
              "<div>\n",
              "<style scoped>\n",
              "    .dataframe tbody tr th:only-of-type {\n",
              "        vertical-align: middle;\n",
              "    }\n",
              "\n",
              "    .dataframe tbody tr th {\n",
              "        vertical-align: top;\n",
              "    }\n",
              "\n",
              "    .dataframe thead th {\n",
              "        text-align: right;\n",
              "    }\n",
              "</style>\n",
              "<table border=\"1\" class=\"dataframe\">\n",
              "  <thead>\n",
              "    <tr style=\"text-align: right;\">\n",
              "      <th></th>\n",
              "      <th>production</th>\n",
              "      <th>distribution</th>\n",
              "      <th>cost</th>\n",
              "    </tr>\n",
              "  </thead>\n",
              "  <tbody>\n",
              "    <tr>\n",
              "      <th>0</th>\n",
              "      <td>Baltimore</td>\n",
              "      <td>Columbia</td>\n",
              "      <td>4.50</td>\n",
              "    </tr>\n",
              "    <tr>\n",
              "      <th>1</th>\n",
              "      <td>Baltimore</td>\n",
              "      <td>Indianapolis</td>\n",
              "      <td>5.09</td>\n",
              "    </tr>\n",
              "    <tr>\n",
              "      <th>2</th>\n",
              "      <td>Baltimore</td>\n",
              "      <td>Lexington</td>\n",
              "      <td>4.33</td>\n",
              "    </tr>\n",
              "    <tr>\n",
              "      <th>3</th>\n",
              "      <td>Baltimore</td>\n",
              "      <td>Nashville</td>\n",
              "      <td>5.96</td>\n",
              "    </tr>\n",
              "    <tr>\n",
              "      <th>4</th>\n",
              "      <td>Baltimore</td>\n",
              "      <td>Richmond</td>\n",
              "      <td>1.96</td>\n",
              "    </tr>\n",
              "  </tbody>\n",
              "</table>\n",
              "</div>"
            ],
            "text/plain": [
              "  production  distribution  cost\n",
              "0  Baltimore      Columbia  4.50\n",
              "1  Baltimore  Indianapolis  5.09\n",
              "2  Baltimore     Lexington  4.33\n",
              "3  Baltimore     Nashville  5.96\n",
              "4  Baltimore      Richmond  1.96"
            ]
          },
          "execution_count": 2,
          "metadata": {},
          "output_type": "execute_result"
        }
      ],
      "source": [
        "# Dan laden wir den Datensatz mit den Transportkosten\n",
        "transp_cost = pd.read_csv(\"https://raw.githubusercontent.com/febse/data/main/opt/tp_costs1.csv\")\n",
        "\n",
        "# Und lassen uns die ersten paar Zeilen ausdrucken\n",
        "transp_cost.head()"
      ]
    },
    {
      "cell_type": "code",
      "execution_count": 3,
      "id": "754dcbf7",
      "metadata": {},
      "outputs": [
        {
          "data": {
            "application/vnd.microsoft.datawrangler.viewer.v0+json": {
              "columns": [
                {
                  "name": "production",
                  "rawType": "object",
                  "type": "string"
                },
                {
                  "name": "Columbia",
                  "rawType": "float64",
                  "type": "float"
                },
                {
                  "name": "Indianapolis",
                  "rawType": "float64",
                  "type": "float"
                },
                {
                  "name": "Lexington",
                  "rawType": "float64",
                  "type": "float"
                },
                {
                  "name": "Nashville",
                  "rawType": "float64",
                  "type": "float"
                },
                {
                  "name": "Richmond",
                  "rawType": "float64",
                  "type": "float"
                },
                {
                  "name": "St. Louis",
                  "rawType": "float64",
                  "type": "float"
                }
              ],
              "conversionMethod": "pd.DataFrame",
              "ref": "3b72ef59-4850-455c-8bec-09ce4a6e5a13",
              "rows": [
                [
                  "Baltimore",
                  "4.5",
                  "5.09",
                  "4.33",
                  "5.96",
                  "1.96",
                  "7.3"
                ],
                [
                  "Birmingham",
                  "3.33",
                  "4.33",
                  "3.38",
                  "1.53",
                  "5.95",
                  "4.01"
                ],
                [
                  "Charleston",
                  "3.02",
                  "2.61",
                  "1.61",
                  "4.44",
                  "2.36",
                  "4.6"
                ],
                [
                  "Cleveland",
                  "2.43",
                  "2.37",
                  "2.54",
                  "4.13",
                  "3.2",
                  "4.88"
                ],
                [
                  "Little Rock",
                  "6.42",
                  "4.83",
                  "3.39",
                  "4.4",
                  "7.44",
                  "2.92"
                ]
              ],
              "shape": {
                "columns": 6,
                "rows": 5
              }
            },
            "text/html": [
              "<div>\n",
              "<style scoped>\n",
              "    .dataframe tbody tr th:only-of-type {\n",
              "        vertical-align: middle;\n",
              "    }\n",
              "\n",
              "    .dataframe tbody tr th {\n",
              "        vertical-align: top;\n",
              "    }\n",
              "\n",
              "    .dataframe thead th {\n",
              "        text-align: right;\n",
              "    }\n",
              "</style>\n",
              "<table border=\"1\" class=\"dataframe\">\n",
              "  <thead>\n",
              "    <tr style=\"text-align: right;\">\n",
              "      <th>distribution</th>\n",
              "      <th>Columbia</th>\n",
              "      <th>Indianapolis</th>\n",
              "      <th>Lexington</th>\n",
              "      <th>Nashville</th>\n",
              "      <th>Richmond</th>\n",
              "      <th>St. Louis</th>\n",
              "    </tr>\n",
              "    <tr>\n",
              "      <th>production</th>\n",
              "      <th></th>\n",
              "      <th></th>\n",
              "      <th></th>\n",
              "      <th></th>\n",
              "      <th></th>\n",
              "      <th></th>\n",
              "    </tr>\n",
              "  </thead>\n",
              "  <tbody>\n",
              "    <tr>\n",
              "      <th>Baltimore</th>\n",
              "      <td>4.50</td>\n",
              "      <td>5.09</td>\n",
              "      <td>4.33</td>\n",
              "      <td>5.96</td>\n",
              "      <td>1.96</td>\n",
              "      <td>7.30</td>\n",
              "    </tr>\n",
              "    <tr>\n",
              "      <th>Birmingham</th>\n",
              "      <td>3.33</td>\n",
              "      <td>4.33</td>\n",
              "      <td>3.38</td>\n",
              "      <td>1.53</td>\n",
              "      <td>5.95</td>\n",
              "      <td>4.01</td>\n",
              "    </tr>\n",
              "    <tr>\n",
              "      <th>Charleston</th>\n",
              "      <td>3.02</td>\n",
              "      <td>2.61</td>\n",
              "      <td>1.61</td>\n",
              "      <td>4.44</td>\n",
              "      <td>2.36</td>\n",
              "      <td>4.60</td>\n",
              "    </tr>\n",
              "    <tr>\n",
              "      <th>Cleveland</th>\n",
              "      <td>2.43</td>\n",
              "      <td>2.37</td>\n",
              "      <td>2.54</td>\n",
              "      <td>4.13</td>\n",
              "      <td>3.20</td>\n",
              "      <td>4.88</td>\n",
              "    </tr>\n",
              "    <tr>\n",
              "      <th>Little Rock</th>\n",
              "      <td>6.42</td>\n",
              "      <td>4.83</td>\n",
              "      <td>3.39</td>\n",
              "      <td>4.40</td>\n",
              "      <td>7.44</td>\n",
              "      <td>2.92</td>\n",
              "    </tr>\n",
              "  </tbody>\n",
              "</table>\n",
              "</div>"
            ],
            "text/plain": [
              "distribution  Columbia  Indianapolis  Lexington  Nashville  Richmond  \\\n",
              "production                                                             \n",
              "Baltimore         4.50          5.09       4.33       5.96      1.96   \n",
              "Birmingham        3.33          4.33       3.38       1.53      5.95   \n",
              "Charleston        3.02          2.61       1.61       4.44      2.36   \n",
              "Cleveland         2.43          2.37       2.54       4.13      3.20   \n",
              "Little Rock       6.42          4.83       3.39       4.40      7.44   \n",
              "\n",
              "distribution  St. Louis  \n",
              "production               \n",
              "Baltimore          7.30  \n",
              "Birmingham         4.01  \n",
              "Charleston         4.60  \n",
              "Cleveland          4.88  \n",
              "Little Rock        2.92  "
            ]
          },
          "execution_count": 3,
          "metadata": {},
          "output_type": "execute_result"
        }
      ],
      "source": [
        "#| label: tbl-prod-distr-costs\n",
        "#| tbl-cap: \"Transportkosten in EUR pro Einheit zwischen Produktionsstätten und Vertriebszentren\"\n",
        "\n",
        "# Es ist leichter, wenn wir uns die Transportkosten in einer Tabelle ansehen, \n",
        "# in der die Zeilen die Produktionsstätten und die Spalten die Vertriebszentren sind.\n",
        "\n",
        "transp_cost.pivot(index='production', columns='distribution', values='cost')"
      ]
    },
    {
      "cell_type": "code",
      "execution_count": 4,
      "id": "0ec7c728",
      "metadata": {},
      "outputs": [
        {
          "data": {
            "application/vnd.microsoft.datawrangler.viewer.v0+json": {
              "columns": [
                {
                  "name": "('production', 'distribution')",
                  "rawType": "object",
                  "type": "unknown"
                },
                {
                  "name": "cost",
                  "rawType": "float64",
                  "type": "float"
                }
              ],
              "conversionMethod": "pd.DataFrame",
              "ref": "e03a5db9-4c42-4a83-83d1-8b4e05715e45",
              "rows": [
                [
                  "('Baltimore', 'Columbia')",
                  "4.5"
                ],
                [
                  "('Baltimore', 'Indianapolis')",
                  "5.09"
                ],
                [
                  "('Baltimore', 'Lexington')",
                  "4.33"
                ],
                [
                  "('Baltimore', 'Nashville')",
                  "5.96"
                ],
                [
                  "('Baltimore', 'Richmond')",
                  "1.96"
                ],
                [
                  "('Baltimore', 'St. Louis')",
                  "7.3"
                ],
                [
                  "('Cleveland', 'Columbia')",
                  "2.43"
                ],
                [
                  "('Cleveland', 'Indianapolis')",
                  "2.37"
                ],
                [
                  "('Cleveland', 'Lexington')",
                  "2.54"
                ],
                [
                  "('Cleveland', 'Nashville')",
                  "4.13"
                ],
                [
                  "('Cleveland', 'Richmond')",
                  "3.2"
                ],
                [
                  "('Cleveland', 'St. Louis')",
                  "4.88"
                ],
                [
                  "('Little Rock', 'Columbia')",
                  "6.42"
                ],
                [
                  "('Little Rock', 'Indianapolis')",
                  "4.83"
                ],
                [
                  "('Little Rock', 'Lexington')",
                  "3.39"
                ],
                [
                  "('Little Rock', 'Nashville')",
                  "4.4"
                ],
                [
                  "('Little Rock', 'Richmond')",
                  "7.44"
                ],
                [
                  "('Little Rock', 'St. Louis')",
                  "2.92"
                ],
                [
                  "('Birmingham', 'Columbia')",
                  "3.33"
                ],
                [
                  "('Birmingham', 'Indianapolis')",
                  "4.33"
                ],
                [
                  "('Birmingham', 'Lexington')",
                  "3.38"
                ],
                [
                  "('Birmingham', 'Nashville')",
                  "1.53"
                ],
                [
                  "('Birmingham', 'Richmond')",
                  "5.95"
                ],
                [
                  "('Birmingham', 'St. Louis')",
                  "4.01"
                ],
                [
                  "('Charleston', 'Columbia')",
                  "3.02"
                ],
                [
                  "('Charleston', 'Indianapolis')",
                  "2.61"
                ],
                [
                  "('Charleston', 'Lexington')",
                  "1.61"
                ],
                [
                  "('Charleston', 'Nashville')",
                  "4.44"
                ],
                [
                  "('Charleston', 'Richmond')",
                  "2.36"
                ],
                [
                  "('Charleston', 'St. Louis')",
                  "4.6"
                ]
              ],
              "shape": {
                "columns": 1,
                "rows": 30
              }
            },
            "text/html": [
              "<div>\n",
              "<style scoped>\n",
              "    .dataframe tbody tr th:only-of-type {\n",
              "        vertical-align: middle;\n",
              "    }\n",
              "\n",
              "    .dataframe tbody tr th {\n",
              "        vertical-align: top;\n",
              "    }\n",
              "\n",
              "    .dataframe thead th {\n",
              "        text-align: right;\n",
              "    }\n",
              "</style>\n",
              "<table border=\"1\" class=\"dataframe\">\n",
              "  <thead>\n",
              "    <tr style=\"text-align: right;\">\n",
              "      <th></th>\n",
              "      <th></th>\n",
              "      <th>cost</th>\n",
              "    </tr>\n",
              "    <tr>\n",
              "      <th>production</th>\n",
              "      <th>distribution</th>\n",
              "      <th></th>\n",
              "    </tr>\n",
              "  </thead>\n",
              "  <tbody>\n",
              "    <tr>\n",
              "      <th rowspan=\"6\" valign=\"top\">Baltimore</th>\n",
              "      <th>Columbia</th>\n",
              "      <td>4.50</td>\n",
              "    </tr>\n",
              "    <tr>\n",
              "      <th>Indianapolis</th>\n",
              "      <td>5.09</td>\n",
              "    </tr>\n",
              "    <tr>\n",
              "      <th>Lexington</th>\n",
              "      <td>4.33</td>\n",
              "    </tr>\n",
              "    <tr>\n",
              "      <th>Nashville</th>\n",
              "      <td>5.96</td>\n",
              "    </tr>\n",
              "    <tr>\n",
              "      <th>Richmond</th>\n",
              "      <td>1.96</td>\n",
              "    </tr>\n",
              "    <tr>\n",
              "      <th>St. Louis</th>\n",
              "      <td>7.30</td>\n",
              "    </tr>\n",
              "    <tr>\n",
              "      <th rowspan=\"6\" valign=\"top\">Cleveland</th>\n",
              "      <th>Columbia</th>\n",
              "      <td>2.43</td>\n",
              "    </tr>\n",
              "    <tr>\n",
              "      <th>Indianapolis</th>\n",
              "      <td>2.37</td>\n",
              "    </tr>\n",
              "    <tr>\n",
              "      <th>Lexington</th>\n",
              "      <td>2.54</td>\n",
              "    </tr>\n",
              "    <tr>\n",
              "      <th>Nashville</th>\n",
              "      <td>4.13</td>\n",
              "    </tr>\n",
              "    <tr>\n",
              "      <th>Richmond</th>\n",
              "      <td>3.20</td>\n",
              "    </tr>\n",
              "    <tr>\n",
              "      <th>St. Louis</th>\n",
              "      <td>4.88</td>\n",
              "    </tr>\n",
              "    <tr>\n",
              "      <th rowspan=\"6\" valign=\"top\">Little Rock</th>\n",
              "      <th>Columbia</th>\n",
              "      <td>6.42</td>\n",
              "    </tr>\n",
              "    <tr>\n",
              "      <th>Indianapolis</th>\n",
              "      <td>4.83</td>\n",
              "    </tr>\n",
              "    <tr>\n",
              "      <th>Lexington</th>\n",
              "      <td>3.39</td>\n",
              "    </tr>\n",
              "    <tr>\n",
              "      <th>Nashville</th>\n",
              "      <td>4.40</td>\n",
              "    </tr>\n",
              "    <tr>\n",
              "      <th>Richmond</th>\n",
              "      <td>7.44</td>\n",
              "    </tr>\n",
              "    <tr>\n",
              "      <th>St. Louis</th>\n",
              "      <td>2.92</td>\n",
              "    </tr>\n",
              "    <tr>\n",
              "      <th rowspan=\"6\" valign=\"top\">Birmingham</th>\n",
              "      <th>Columbia</th>\n",
              "      <td>3.33</td>\n",
              "    </tr>\n",
              "    <tr>\n",
              "      <th>Indianapolis</th>\n",
              "      <td>4.33</td>\n",
              "    </tr>\n",
              "    <tr>\n",
              "      <th>Lexington</th>\n",
              "      <td>3.38</td>\n",
              "    </tr>\n",
              "    <tr>\n",
              "      <th>Nashville</th>\n",
              "      <td>1.53</td>\n",
              "    </tr>\n",
              "    <tr>\n",
              "      <th>Richmond</th>\n",
              "      <td>5.95</td>\n",
              "    </tr>\n",
              "    <tr>\n",
              "      <th>St. Louis</th>\n",
              "      <td>4.01</td>\n",
              "    </tr>\n",
              "    <tr>\n",
              "      <th rowspan=\"6\" valign=\"top\">Charleston</th>\n",
              "      <th>Columbia</th>\n",
              "      <td>3.02</td>\n",
              "    </tr>\n",
              "    <tr>\n",
              "      <th>Indianapolis</th>\n",
              "      <td>2.61</td>\n",
              "    </tr>\n",
              "    <tr>\n",
              "      <th>Lexington</th>\n",
              "      <td>1.61</td>\n",
              "    </tr>\n",
              "    <tr>\n",
              "      <th>Nashville</th>\n",
              "      <td>4.44</td>\n",
              "    </tr>\n",
              "    <tr>\n",
              "      <th>Richmond</th>\n",
              "      <td>2.36</td>\n",
              "    </tr>\n",
              "    <tr>\n",
              "      <th>St. Louis</th>\n",
              "      <td>4.60</td>\n",
              "    </tr>\n",
              "  </tbody>\n",
              "</table>\n",
              "</div>"
            ],
            "text/plain": [
              "                          cost\n",
              "production  distribution      \n",
              "Baltimore   Columbia      4.50\n",
              "            Indianapolis  5.09\n",
              "            Lexington     4.33\n",
              "            Nashville     5.96\n",
              "            Richmond      1.96\n",
              "            St. Louis     7.30\n",
              "Cleveland   Columbia      2.43\n",
              "            Indianapolis  2.37\n",
              "            Lexington     2.54\n",
              "            Nashville     4.13\n",
              "            Richmond      3.20\n",
              "            St. Louis     4.88\n",
              "Little Rock Columbia      6.42\n",
              "            Indianapolis  4.83\n",
              "            Lexington     3.39\n",
              "            Nashville     4.40\n",
              "            Richmond      7.44\n",
              "            St. Louis     2.92\n",
              "Birmingham  Columbia      3.33\n",
              "            Indianapolis  4.33\n",
              "            Lexington     3.38\n",
              "            Nashville     1.53\n",
              "            Richmond      5.95\n",
              "            St. Louis     4.01\n",
              "Charleston  Columbia      3.02\n",
              "            Indianapolis  2.61\n",
              "            Lexington     1.61\n",
              "            Nashville     4.44\n",
              "            Richmond      2.36\n",
              "            St. Louis     4.60"
            ]
          },
          "execution_count": 4,
          "metadata": {},
          "output_type": "execute_result"
        }
      ],
      "source": [
        "# Es wird einfacher sein (allerdings nicht notwendig), wenn wir\n",
        "# den DataFrame mit den Kosten nach Produktionsstätten und Vertriebszentren\n",
        "# indizieren. Das machen wir mit der Methode set_index.\n",
        "\n",
        "tc = transp_cost.set_index(['production', 'distribution'])\n",
        "tc"
      ]
    },
    {
      "cell_type": "code",
      "execution_count": 7,
      "id": "6e81035f",
      "metadata": {},
      "outputs": [
        {
          "data": {
            "application/vnd.microsoft.datawrangler.viewer.v0+json": {
              "columns": [
                {
                  "name": "distribution",
                  "rawType": "object",
                  "type": "string"
                },
                {
                  "name": "demand",
                  "rawType": "int64",
                  "type": "integer"
                }
              ],
              "conversionMethod": "pd.DataFrame",
              "ref": "e1ff8380-11e3-4ef1-a0f7-e8ed1eee088c",
              "rows": [
                [
                  "Columbia",
                  "89"
                ],
                [
                  "Indianapolis",
                  "95"
                ],
                [
                  "Lexington",
                  "121"
                ],
                [
                  "Nashville",
                  "101"
                ],
                [
                  "Richmond",
                  "116"
                ],
                [
                  "St. Louis",
                  "181"
                ]
              ],
              "shape": {
                "columns": 1,
                "rows": 6
              }
            },
            "text/html": [
              "<div>\n",
              "<style scoped>\n",
              "    .dataframe tbody tr th:only-of-type {\n",
              "        vertical-align: middle;\n",
              "    }\n",
              "\n",
              "    .dataframe tbody tr th {\n",
              "        vertical-align: top;\n",
              "    }\n",
              "\n",
              "    .dataframe thead th {\n",
              "        text-align: right;\n",
              "    }\n",
              "</style>\n",
              "<table border=\"1\" class=\"dataframe\">\n",
              "  <thead>\n",
              "    <tr style=\"text-align: right;\">\n",
              "      <th></th>\n",
              "      <th>demand</th>\n",
              "    </tr>\n",
              "    <tr>\n",
              "      <th>distribution</th>\n",
              "      <th></th>\n",
              "    </tr>\n",
              "  </thead>\n",
              "  <tbody>\n",
              "    <tr>\n",
              "      <th>Columbia</th>\n",
              "      <td>89</td>\n",
              "    </tr>\n",
              "    <tr>\n",
              "      <th>Indianapolis</th>\n",
              "      <td>95</td>\n",
              "    </tr>\n",
              "    <tr>\n",
              "      <th>Lexington</th>\n",
              "      <td>121</td>\n",
              "    </tr>\n",
              "    <tr>\n",
              "      <th>Nashville</th>\n",
              "      <td>101</td>\n",
              "    </tr>\n",
              "    <tr>\n",
              "      <th>Richmond</th>\n",
              "      <td>116</td>\n",
              "    </tr>\n",
              "    <tr>\n",
              "      <th>St. Louis</th>\n",
              "      <td>181</td>\n",
              "    </tr>\n",
              "  </tbody>\n",
              "</table>\n",
              "</div>"
            ],
            "text/plain": [
              "              demand\n",
              "distribution        \n",
              "Columbia          89\n",
              "Indianapolis      95\n",
              "Lexington        121\n",
              "Nashville        101\n",
              "Richmond         116\n",
              "St. Louis        181"
            ]
          },
          "execution_count": 7,
          "metadata": {},
          "output_type": "execute_result"
        }
      ],
      "source": [
        "#| label: tbl-prod-distr-demand\n",
        "\n",
        "# Hier werden wir die Prognose für die Nachfrage in den Vertriebszentren\n",
        "# eingeben\n",
        "\n",
        "distribution = tc.index.levels[1]\n",
        "n_demand = pd.Series([89,95,121,101,116,181], index = distribution, name = \"demand\") \n",
        "\n",
        "n_demand.to_frame()"
      ]
    },
    {
      "cell_type": "code",
      "execution_count": null,
      "id": "2f27d128",
      "metadata": {},
      "outputs": [
        {
          "data": {
            "text/plain": [
              "production\n",
              "Baltimore      180\n",
              "Birmingham     200\n",
              "Charleston     140\n",
              "Cleveland       80\n",
              "Little Rock    180\n",
              "Name: max_production, dtype: int64"
            ]
          },
          "execution_count": 9,
          "metadata": {},
          "output_type": "execute_result"
        },
        {
          "ename": "",
          "evalue": "",
          "output_type": "error",
          "traceback": [
            "\u001b[1;31mThe Kernel crashed while executing code in the current cell or a previous cell. \n",
            "\u001b[1;31mPlease review the code in the cell(s) to identify a possible cause of the failure. \n",
            "\u001b[1;31mClick <a href='https://aka.ms/vscodeJupyterKernelCrash'>here</a> for more info. \n",
            "\u001b[1;31mView Jupyter <a href='command:jupyter.viewOutput'>log</a> for further details."
          ]
        }
      ],
      "source": [
        "#| label: tbl-prod-distr-capacities\n",
        "#| tbl-cap: \"Kapazitäten der Produktionsstätten\"\n",
        "\n",
        "production = tc.index.levels[0]\n",
        "max_prod = pd.Series([180, 200, 140, 80, 180], index = production, name = \"max_production\")\n",
        "\n",
        "max_prod"
      ]
    },
    {
      "cell_type": "markdown",
      "id": "143832f6",
      "metadata": {},
      "source": [
        "## Das Modell\n",
        "\n",
        "### Mengen\n",
        "\n",
        "### Parameter\n",
        "\n",
        "### Entscheidungsvariablen\n",
        "\n",
        "### Zielfunktion\n",
        "\n",
        "### Einschränkungen\n",
        "\n"
      ]
    },
    {
      "cell_type": "code",
      "execution_count": null,
      "id": "066a7af1",
      "metadata": {},
      "outputs": [
        {
          "name": "stdout",
          "output_type": "stream",
          "text": [
            "Restricted license - for non-production use only - expires 2026-11-23\n",
            "\\ Model Production and Distribution\n",
            "\\ LP format - for model browsing. Use MPS format to capture full model detail.\n",
            "Minimize\n",
            " \n",
            "Subject To\n",
            "Bounds\n",
            "End\n",
            "\n"
          ]
        }
      ],
      "source": [
        "# Umsetzung\n",
        "\n",
        "m = gp.Model(\"Production and Distribution\")\n",
        "\n",
        "# Entscheidungsvariablen\n",
        "\n",
        "# Zielfunktion\n",
        "\n",
        "# Einschränkungen\n",
        "\n",
        "m.write(\"production-distribution.lp\")\n",
        "\n",
        "with open(\"production-distribution.lp\", \"r\") as f:\n",
        "    print(f.read())\n"
      ]
    }
  ],
  "metadata": {
    "colab": {
      "provenance": []
    },
    "kernelspec": {
      "display_name": "Python 3",
      "language": "python",
      "name": "python3"
    },
    "language_info": {
      "codemirror_mode": {
        "name": "ipython",
        "version": 3
      },
      "file_extension": ".py",
      "mimetype": "text/x-python",
      "name": "python",
      "nbconvert_exporter": "python",
      "pygments_lexer": "ipython3",
      "version": "3.11.11"
    },
    "toc-autonumbering": false,
    "toc-showcode": false,
    "toc-showmarkdowntxt": false
  },
  "nbformat": 4,
  "nbformat_minor": 5
}
