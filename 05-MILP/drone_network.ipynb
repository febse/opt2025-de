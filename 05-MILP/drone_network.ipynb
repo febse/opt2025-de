{
  "cells": [
    {
      "cell_type": "markdown",
      "id": "4e4de91f-c4da-4bd1-852d-c01e83d69f0a",
      "metadata": {
        "id": "4e4de91f-c4da-4bd1-852d-c01e83d69f0a"
      },
      "source": [
        "## Drone-Network Design Queueing Model\n",
        "\n",
        "This notebook uses the model and data from the following studies:\n",
        "\n",
        "- Lejeune M.A., Margot F. 2022. Drone-Network Design for Out-of-Hospital Cardiac Arrests. Working Paper, submitted.\n",
        "- Custodio.J., Lejeune M.A. 2022. Spatiotemporal Data Set of Out-of-Hospital Cardiac Arrests. *INFORMS Journal on Computing* 34 (1), 4-10.\n",
        "\n",
        "The data and its full description can be found here:\n",
        "https://github.com/INFORMSJoC/2020.1022\n",
        "\n",
        "The example reads from the VBOHCAR Excel file that contains data for:\n",
        "- out-of-hospital cardiac arrest (OHCA) incidents\n",
        "- potential base stations for drones\n",
        "- pairwise incident/base station (Harversine) distances\n",
        "\n",
        "The MILP reformulation is modeled in gurobipy and solved using the Gurobi Optimizer.\n",
        "\n",
        "To begin, we import the necessary packages for data intake, modeling, and visualization."
      ]
    },
    {
      "cell_type": "code",
      "execution_count": 3,
      "id": "d0a31dda-8e54-4d63-b109-c711b699f813",
      "metadata": {
        "colab": {
          "base_uri": "https://localhost:8080/"
        },
        "id": "d0a31dda-8e54-4d63-b109-c711b699f813",
        "outputId": "8fddbc6e-6572-4268-8892-421951b33560"
      },
      "outputs": [
        {
          "name": "stdout",
          "output_type": "stream",
          "text": [
            "Requirement already satisfied: gurobipy in /home/amarov/anaconda3/envs/opt2024/lib/python3.11/site-packages (11.0.0)\n",
            "Note: you may need to restart the kernel to use updated packages.\n"
          ]
        }
      ],
      "source": [
        "%pip install gurobipy"
      ]
    },
    {
      "cell_type": "code",
      "execution_count": 9,
      "id": "adfb071f-78d2-487c-8da4-99186c8c04b9",
      "metadata": {
        "id": "adfb071f-78d2-487c-8da4-99186c8c04b9"
      },
      "outputs": [],
      "source": [
        "import pandas as pd\n",
        "import matplotlib.pyplot as plt\n",
        "from matplotlib import collections as mc\n",
        "import numpy as np\n",
        "import gurobipy as gp\n",
        "from gurobipy import GRB\n",
        "from datetime import datetime\n",
        "# from sklearn.mixture import GaussianMixture\n",
        "# from sklearn.cluster import KMeans\n",
        "\n",
        "%matplotlib inline"
      ]
    },
    {
      "cell_type": "markdown",
      "id": "5f97e2f4-0abd-4a54-a2bd-c2b94a9f44c0",
      "metadata": {
        "id": "5f97e2f4-0abd-4a54-a2bd-c2b94a9f44c0"
      },
      "source": [
        "### Input Data Processing and Visualization\n",
        "We use pandas to quickly read in the required sheets from Excel. There is a small amount of data prep needed, where some duplicate events need to be removed and text should be cleaned. For reference, an incident location encompasses a street block."
      ]
    },
    {
      "cell_type": "code",
      "execution_count": 10,
      "id": "8e5103af-4fe3-4c99-a656-74ecf4e6eea4",
      "metadata": {
        "colab": {
          "base_uri": "https://localhost:8080/",
          "height": 356
        },
        "id": "8e5103af-4fe3-4c99-a656-74ecf4e6eea4",
        "outputId": "41934c22-99be-4951-d707-d9289869aae1"
      },
      "outputs": [],
      "source": [
        "# read incident and base station data\n",
        "\n",
        "ohca_read = pd.read_csv('https://github.com/Gurobi/modeling-examples/raw/master/drone_network/OHCAs.csv', index_col=0)\n",
        "stations_read = pd.read_csv('https://github.com/Gurobi/modeling-examples/raw/master/drone_network/BaseStations.csv', index_col=0)\n",
        "\n",
        "# read data on indicent-base distance\n",
        "dist_read = pd.read_csv('https://github.com/Gurobi/modeling-examples/raw/master/drone_network/Base_to_OHCA_distance.csv', index_col=[0,1])"
      ]
    },
    {
      "cell_type": "code",
      "execution_count": 14,
      "id": "210729e4",
      "metadata": {},
      "outputs": [
        {
          "data": {
            "text/html": [
              "<div>\n",
              "<style scoped>\n",
              "    .dataframe tbody tr th:only-of-type {\n",
              "        vertical-align: middle;\n",
              "    }\n",
              "\n",
              "    .dataframe tbody tr th {\n",
              "        vertical-align: top;\n",
              "    }\n",
              "\n",
              "    .dataframe thead th {\n",
              "        text-align: right;\n",
              "    }\n",
              "</style>\n",
              "<table border=\"1\" class=\"dataframe\">\n",
              "  <thead>\n",
              "    <tr style=\"text-align: right;\">\n",
              "      <th></th>\n",
              "      <th>ReceivedTime</th>\n",
              "      <th>MinimumResponseTime</th>\n",
              "      <th>Latitude</th>\n",
              "      <th>Longitude</th>\n",
              "      <th>Incident_Location</th>\n",
              "      <th>X_OHCA</th>\n",
              "      <th>Y_OHCA</th>\n",
              "      <th>Z_OHCA</th>\n",
              "    </tr>\n",
              "    <tr>\n",
              "      <th>ID_OHCA</th>\n",
              "      <th></th>\n",
              "      <th></th>\n",
              "      <th></th>\n",
              "      <th></th>\n",
              "      <th></th>\n",
              "      <th></th>\n",
              "      <th></th>\n",
              "      <th></th>\n",
              "    </tr>\n",
              "  </thead>\n",
              "  <tbody>\n",
              "    <tr>\n",
              "      <th>1</th>\n",
              "      <td>2017-01-01 00:49:54</td>\n",
              "      <td>5.666667</td>\n",
              "      <td>36.862471</td>\n",
              "      <td>-76.024169</td>\n",
              "      <td>1000 LINDSLEY DR</td>\n",
              "      <td>1232.449963</td>\n",
              "      <td>-4951.984772</td>\n",
              "      <td>3826.080166</td>\n",
              "    </tr>\n",
              "    <tr>\n",
              "      <th>2</th>\n",
              "      <td>2017-01-01 06:35:29</td>\n",
              "      <td>20.750000</td>\n",
              "      <td>36.766897</td>\n",
              "      <td>-76.042337</td>\n",
              "      <td>2600 SPRINGHAVEN DR</td>\n",
              "      <td>1232.417401</td>\n",
              "      <td>-4958.562301</td>\n",
              "      <td>3817.562796</td>\n",
              "    </tr>\n",
              "    <tr>\n",
              "      <th>4</th>\n",
              "      <td>2017-01-01 17:05:56</td>\n",
              "      <td>11.083333</td>\n",
              "      <td>36.905880</td>\n",
              "      <td>-76.118769</td>\n",
              "      <td>4200 SHORE DR</td>\n",
              "      <td>1223.576354</td>\n",
              "      <td>-4951.197334</td>\n",
              "      <td>3829.945177</td>\n",
              "    </tr>\n",
              "    <tr>\n",
              "      <th>5</th>\n",
              "      <td>2017-01-01 19:53:20</td>\n",
              "      <td>0.000000</td>\n",
              "      <td>36.620850</td>\n",
              "      <td>-76.090090</td>\n",
              "      <td>5200 BLACKWATER RD</td>\n",
              "      <td>1230.619605</td>\n",
              "      <td>-4969.017372</td>\n",
              "      <td>3804.526862</td>\n",
              "    </tr>\n",
              "    <tr>\n",
              "      <th>6</th>\n",
              "      <td>2017-01-02 10:50:59</td>\n",
              "      <td>0.000000</td>\n",
              "      <td>36.784458</td>\n",
              "      <td>-76.108918</td>\n",
              "      <td>3800 TIFFANY LA</td>\n",
              "      <td>1226.373465</td>\n",
              "      <td>-4958.854989</td>\n",
              "      <td>3819.128595</td>\n",
              "    </tr>\n",
              "  </tbody>\n",
              "</table>\n",
              "</div>"
            ],
            "text/plain": [
              "                ReceivedTime  MinimumResponseTime   Latitude  Longitude  \\\n",
              "ID_OHCA                                                                   \n",
              "1        2017-01-01 00:49:54             5.666667  36.862471 -76.024169   \n",
              "2        2017-01-01 06:35:29            20.750000  36.766897 -76.042337   \n",
              "4        2017-01-01 17:05:56            11.083333  36.905880 -76.118769   \n",
              "5        2017-01-01 19:53:20             0.000000  36.620850 -76.090090   \n",
              "6        2017-01-02 10:50:59             0.000000  36.784458 -76.108918   \n",
              "\n",
              "           Incident_Location       X_OHCA       Y_OHCA       Z_OHCA  \n",
              "ID_OHCA                                                              \n",
              "1           1000 LINDSLEY DR  1232.449963 -4951.984772  3826.080166  \n",
              "2        2600 SPRINGHAVEN DR  1232.417401 -4958.562301  3817.562796  \n",
              "4              4200 SHORE DR  1223.576354 -4951.197334  3829.945177  \n",
              "5         5200 BLACKWATER RD  1230.619605 -4969.017372  3804.526862  \n",
              "6            3800 TIFFANY LA  1226.373465 -4958.854989  3819.128595  "
            ]
          },
          "execution_count": 14,
          "metadata": {},
          "output_type": "execute_result"
        }
      ],
      "source": [
        "ohca_read.head()"
      ]
    },
    {
      "cell_type": "code",
      "execution_count": 15,
      "id": "0443a6ab",
      "metadata": {},
      "outputs": [
        {
          "data": {
            "text/html": [
              "<div>\n",
              "<style scoped>\n",
              "    .dataframe tbody tr th:only-of-type {\n",
              "        vertical-align: middle;\n",
              "    }\n",
              "\n",
              "    .dataframe tbody tr th {\n",
              "        vertical-align: top;\n",
              "    }\n",
              "\n",
              "    .dataframe thead th {\n",
              "        text-align: right;\n",
              "    }\n",
              "</style>\n",
              "<table border=\"1\" class=\"dataframe\">\n",
              "  <thead>\n",
              "    <tr style=\"text-align: right;\">\n",
              "      <th></th>\n",
              "      <th>Type</th>\n",
              "      <th>Street</th>\n",
              "      <th>Latitude</th>\n",
              "      <th>Longitude</th>\n",
              "      <th>X_Bases</th>\n",
              "      <th>Y_Bases</th>\n",
              "      <th>Z_Bases</th>\n",
              "    </tr>\n",
              "    <tr>\n",
              "      <th>ID_Base</th>\n",
              "      <th></th>\n",
              "      <th></th>\n",
              "      <th></th>\n",
              "      <th></th>\n",
              "      <th></th>\n",
              "      <th></th>\n",
              "      <th></th>\n",
              "    </tr>\n",
              "  </thead>\n",
              "  <tbody>\n",
              "    <tr>\n",
              "      <th>1</th>\n",
              "      <td>Fire Station</td>\n",
              "      <td>1468 NIMMO PKWY</td>\n",
              "      <td>36.764154</td>\n",
              "      <td>-76.023000</td>\n",
              "      <td>1234.10032</td>\n",
              "      <td>-4958.35519</td>\n",
              "      <td>3817.28814</td>\n",
              "    </tr>\n",
              "    <tr>\n",
              "      <th>2</th>\n",
              "      <td>Fire Station</td>\n",
              "      <td>21 MUNICIPAL CTR</td>\n",
              "      <td>36.753980</td>\n",
              "      <td>-76.059997</td>\n",
              "      <td>1231.08213</td>\n",
              "      <td>-4959.76594</td>\n",
              "      <td>3816.42993</td>\n",
              "    </tr>\n",
              "    <tr>\n",
              "      <th>3</th>\n",
              "      <td>Fire Station</td>\n",
              "      <td>2837 SHORE DR</td>\n",
              "      <td>36.910985</td>\n",
              "      <td>-76.069802</td>\n",
              "      <td>1227.75643</td>\n",
              "      <td>-4949.80505</td>\n",
              "      <td>3830.40704</td>\n",
              "    </tr>\n",
              "    <tr>\n",
              "      <th>4</th>\n",
              "      <td>Fire Station</td>\n",
              "      <td>5656 PROVIDENCE RD</td>\n",
              "      <td>36.813926</td>\n",
              "      <td>-76.192077</td>\n",
              "      <td>1218.70816</td>\n",
              "      <td>-4958.71642</td>\n",
              "      <td>3821.76123</td>\n",
              "    </tr>\n",
              "    <tr>\n",
              "      <th>5</th>\n",
              "      <td>Fire Station</td>\n",
              "      <td>800 VIRGINIA BEACH BLVD</td>\n",
              "      <td>36.843999</td>\n",
              "      <td>-75.984998</td>\n",
              "      <td>1236.14065</td>\n",
              "      <td>-4952.36603</td>\n",
              "      <td>3824.39579</td>\n",
              "    </tr>\n",
              "  </tbody>\n",
              "</table>\n",
              "</div>"
            ],
            "text/plain": [
              "                 Type                   Street   Latitude  Longitude  \\\n",
              "ID_Base                                                                \n",
              "1        Fire Station          1468 NIMMO PKWY  36.764154 -76.023000   \n",
              "2        Fire Station         21 MUNICIPAL CTR  36.753980 -76.059997   \n",
              "3        Fire Station            2837 SHORE DR  36.910985 -76.069802   \n",
              "4        Fire Station       5656 PROVIDENCE RD  36.813926 -76.192077   \n",
              "5        Fire Station  800 VIRGINIA BEACH BLVD  36.843999 -75.984998   \n",
              "\n",
              "            X_Bases     Y_Bases     Z_Bases  \n",
              "ID_Base                                      \n",
              "1        1234.10032 -4958.35519  3817.28814  \n",
              "2        1231.08213 -4959.76594  3816.42993  \n",
              "3        1227.75643 -4949.80505  3830.40704  \n",
              "4        1218.70816 -4958.71642  3821.76123  \n",
              "5        1236.14065 -4952.36603  3824.39579  "
            ]
          },
          "execution_count": 15,
          "metadata": {},
          "output_type": "execute_result"
        }
      ],
      "source": [
        "stations_read.head()"
      ]
    },
    {
      "cell_type": "code",
      "execution_count": 16,
      "id": "72b786bc",
      "metadata": {},
      "outputs": [
        {
          "data": {
            "text/html": [
              "<div>\n",
              "<style scoped>\n",
              "    .dataframe tbody tr th:only-of-type {\n",
              "        vertical-align: middle;\n",
              "    }\n",
              "\n",
              "    .dataframe tbody tr th {\n",
              "        vertical-align: top;\n",
              "    }\n",
              "\n",
              "    .dataframe thead th {\n",
              "        text-align: right;\n",
              "    }\n",
              "</style>\n",
              "<table border=\"1\" class=\"dataframe\">\n",
              "  <thead>\n",
              "    <tr style=\"text-align: right;\">\n",
              "      <th></th>\n",
              "      <th></th>\n",
              "      <th>Harversine Distance (meters)</th>\n",
              "    </tr>\n",
              "    <tr>\n",
              "      <th>ID_Base</th>\n",
              "      <th>ID_OHCA</th>\n",
              "      <th></th>\n",
              "    </tr>\n",
              "  </thead>\n",
              "  <tbody>\n",
              "    <tr>\n",
              "      <th rowspan=\"5\" valign=\"top\">1</th>\n",
              "      <th>1</th>\n",
              "      <td>10945.095011</td>\n",
              "    </tr>\n",
              "    <tr>\n",
              "      <th>2</th>\n",
              "      <td>1751.255716</td>\n",
              "    </tr>\n",
              "    <tr>\n",
              "      <th>4</th>\n",
              "      <td>17936.431685</td>\n",
              "    </tr>\n",
              "    <tr>\n",
              "      <th>5</th>\n",
              "      <td>17039.549644</td>\n",
              "    </tr>\n",
              "    <tr>\n",
              "      <th>6</th>\n",
              "      <td>7987.511629</td>\n",
              "    </tr>\n",
              "  </tbody>\n",
              "</table>\n",
              "</div>"
            ],
            "text/plain": [
              "                 Harversine Distance (meters)\n",
              "ID_Base ID_OHCA                              \n",
              "1       1                        10945.095011\n",
              "        2                         1751.255716\n",
              "        4                        17936.431685\n",
              "        5                        17039.549644\n",
              "        6                         7987.511629"
            ]
          },
          "execution_count": 16,
          "metadata": {},
          "output_type": "execute_result"
        }
      ],
      "source": [
        "dist_read.head()"
      ]
    },
    {
      "cell_type": "markdown",
      "id": "bffa34fa-b159-483e-bc17-5cf31f68652b",
      "metadata": {
        "id": "bffa34fa-b159-483e-bc17-5cf31f68652b"
      },
      "source": [
        "The above reads the complete data set, including all OHCAs, base stations, and respective distances. We will subset indicent data to the last month and select seven stations to get an instance that will solve in the notebook."
      ]
    },
    {
      "cell_type": "code",
      "execution_count": 17,
      "id": "70a7760d-f53c-48e7-938a-52a6bade8866",
      "metadata": {
        "id": "70a7760d-f53c-48e7-938a-52a6bade8866",
        "outputId": "81272219-7296-4e9b-bad7-d5f9bb33492c"
      },
      "outputs": [
        {
          "name": "stdout",
          "output_type": "stream",
          "text": [
            "Number of days: 30 \n",
            "Number of OHCAs: 69\n"
          ]
        }
      ],
      "source": [
        "# select a subset of OHCAs so the model can be solved in this notebook (if you have a full license then you can use all incidents)\n",
        "start_date = '2019-05-31'\n",
        "end_date = '2019-06-30'\n",
        "n_days =  (datetime.strptime(end_date, \"%Y-%m-%d\") - datetime.strptime(start_date, \"%Y-%m-%d\")).days\n",
        "ohca_df = ohca_read[(ohca_read.ReceivedTime >= start_date) & (ohca_read.ReceivedTime <= end_date)]\n",
        "\n",
        "# select a subset of base stations so the model can be solved in this notebook (if you have a full license then you can use all stations)\n",
        "stations_df = stations_read.loc[[2,3,5,14,25,31,35]]\n",
        "# some bases are different types (e.g. fire and police), add the type to create a different base name\n",
        "stations_df['Base'] = stations_df.Street + ' ' + stations_df.Type\n",
        "\n",
        "dist = dist_read.loc[dist_read.index.get_level_values(1).isin(ohca_df.index)]\n",
        "dist = dist.loc[dist.index.get_level_values(0).isin(stations_df.index)]\n",
        "print(f\"Number of days: {n_days} \\nNumber of OHCAs: {ohca_df.shape[0]}\")"
      ]
    },
    {
      "cell_type": "markdown",
      "id": "9933c5dd-afd3-4025-b130-c2da5fb5ac85",
      "metadata": {
        "id": "9933c5dd-afd3-4025-b130-c2da5fb5ac85"
      },
      "source": [
        "Next, we create scatterplots to visualize the OHCA locations and stations."
      ]
    },
    {
      "cell_type": "code",
      "execution_count": 18,
      "id": "02eb637f-34c8-4c9e-85ec-a4b15a02d480",
      "metadata": {
        "id": "02eb637f-34c8-4c9e-85ec-a4b15a02d480",
        "outputId": "ee226f38-ab08-49e9-a45b-81ae65ba1b11"
      },
      "outputs": [
        {
          "data": {
            "text/plain": [
              "<matplotlib.collections.PathCollection at 0x7c44c4f59a90>"
            ]
          },
          "execution_count": 18,
          "metadata": {},
          "output_type": "execute_result"
        },
        {
          "data": {
            "image/png": "[encoded data removed]",
            "text/plain": [
              "<Figure size 640x480 with 1 Axes>"
            ]
          },
          "metadata": {},
          "output_type": "display_data"
        }
      ],
      "source": [
        "plt.scatter(data = ohca_df, x = 'Longitude', y = 'Latitude', alpha = .3)\n",
        "plt.scatter(data = stations_df, x = 'Longitude', y = 'Latitude', alpha = 0.5, c = 'orange')"
      ]
    },
    {
      "cell_type": "code",
      "execution_count": 20,
      "id": "60e12679-3154-47d6-bd8d-21e10e4d49c6",
      "metadata": {
        "id": "60e12679-3154-47d6-bd8d-21e10e4d49c6"
      },
      "outputs": [
        {
          "data": {
            "text/html": [
              "<div>\n",
              "<style scoped>\n",
              "    .dataframe tbody tr th:only-of-type {\n",
              "        vertical-align: middle;\n",
              "    }\n",
              "\n",
              "    .dataframe tbody tr th {\n",
              "        vertical-align: top;\n",
              "    }\n",
              "\n",
              "    .dataframe thead th {\n",
              "        text-align: right;\n",
              "    }\n",
              "</style>\n",
              "<table border=\"1\" class=\"dataframe\">\n",
              "  <thead>\n",
              "    <tr style=\"text-align: right;\">\n",
              "      <th></th>\n",
              "      <th></th>\n",
              "      <th>Harversine Distance (meters)</th>\n",
              "    </tr>\n",
              "    <tr>\n",
              "      <th>Incident_Location</th>\n",
              "      <th>Base</th>\n",
              "      <th></th>\n",
              "    </tr>\n",
              "  </thead>\n",
              "  <tbody>\n",
              "    <tr>\n",
              "      <th>5800 PICKERING ST</th>\n",
              "      <th>21 MUNICIPAL CTR Fire Station</th>\n",
              "      <td>15677.808761</td>\n",
              "    </tr>\n",
              "    <tr>\n",
              "      <th>1700 PLEASURE HOUSE RD</th>\n",
              "      <th>21 MUNICIPAL CTR Fire Station</th>\n",
              "      <td>17416.917684</td>\n",
              "    </tr>\n",
              "    <tr>\n",
              "      <th>1900 GREY FRIARS CHASE</th>\n",
              "      <th>21 MUNICIPAL CTR Fire Station</th>\n",
              "      <td>7315.659907</td>\n",
              "    </tr>\n",
              "    <tr>\n",
              "      <th>900 BAJA CT</th>\n",
              "      <th>21 MUNICIPAL CTR Fire Station</th>\n",
              "      <td>6519.403980</td>\n",
              "    </tr>\n",
              "    <tr>\n",
              "      <th>1100 HORNET CT</th>\n",
              "      <th>21 MUNICIPAL CTR Fire Station</th>\n",
              "      <td>12781.711339</td>\n",
              "    </tr>\n",
              "  </tbody>\n",
              "</table>\n",
              "</div>"
            ],
            "text/plain": [
              "                                                      Harversine Distance (meters)\n",
              "Incident_Location      Base                                                       \n",
              "5800 PICKERING ST      21 MUNICIPAL CTR Fire Station                  15677.808761\n",
              "1700 PLEASURE HOUSE RD 21 MUNICIPAL CTR Fire Station                  17416.917684\n",
              "1900 GREY FRIARS CHASE 21 MUNICIPAL CTR Fire Station                   7315.659907\n",
              "900 BAJA CT            21 MUNICIPAL CTR Fire Station                   6519.403980\n",
              "1100 HORNET CT         21 MUNICIPAL CTR Fire Station                  12781.711339"
            ]
          },
          "execution_count": 20,
          "metadata": {},
          "output_type": "execute_result"
        }
      ],
      "source": [
        "# create a base / OHCA data frame using the location names\n",
        "df = dist.join(ohca_df[['Incident_Location']])\n",
        "df = df.join(stations_df['Base'])\n",
        "df = df.drop_duplicates()\n",
        "df = df.set_index(['Incident_Location','Base'])\n",
        "df.head()"
      ]
    },
    {
      "cell_type": "markdown",
      "id": "98dc111f-9a09-4deb-92fc-957e7c04fefe",
      "metadata": {
        "id": "98dc111f-9a09-4deb-92fc-957e7c04fefe"
      },
      "source": [
        "### MILP Model\n",
        "\n",
        "#### Parameter Calculation\n",
        "We assume that drones at each station will have the same speed and mainenace times. The total time it takes a drone to service an OHCA is travel time (to and back from the OHCA location) plus maintenance time."
      ]
    },
    {
      "cell_type": "code",
      "execution_count": 22,
      "id": "d7e52800-a8f2-438c-8fb9-50adf5aee8db",
      "metadata": {
        "id": "d7e52800-a8f2-438c-8fb9-50adf5aee8db"
      },
      "outputs": [
        {
          "data": {
            "text/plain": [
              "Incident_Location       Base                         \n",
              "5800 PICKERING ST       21 MUNICIPAL CTR Fire Station    0.730223\n",
              "1700 PLEASURE HOUSE RD  21 MUNICIPAL CTR Fire Station    0.765005\n",
              "1900 GREY FRIARS CHASE  21 MUNICIPAL CTR Fire Station    0.562980\n",
              "900 BAJA CT             21 MUNICIPAL CTR Fire Station    0.547055\n",
              "1100 HORNET CT          21 MUNICIPAL CTR Fire Station    0.672301\n",
              "Name: service_time, dtype: float64"
            ]
          },
          "execution_count": 22,
          "metadata": {},
          "output_type": "execute_result"
        }
      ],
      "source": [
        "# limit number of drones\n",
        "n_drones = 4\n",
        "# assume a 100 km/hr drone speed (about 38 mph) for each drone\n",
        "speed = 100\n",
        "# average time to prep, dispatch, clean, perform maintenance etc. a drone is 25 min, converted to hours\n",
        "maintenance = 25/60\n",
        "# calculate average service time from i to j (converting to meters to kilometers)\n",
        "distance = df['Harversine Distance (meters)']\n",
        "service_time = maintenance + 2*0.001*distance/speed\n",
        "service_time = service_time.rename('service_time')\n",
        "service_time.head()"
      ]
    },
    {
      "cell_type": "markdown",
      "id": "8781d6e4-b32f-4f96-a4af-cd4f6a7a99ee",
      "metadata": {
        "id": "8781d6e4-b32f-4f96-a4af-cd4f6a7a99ee"
      },
      "source": [
        "Next, we use the MLE for the arrival rate of an OHCA to each location $i$ as $\\lambda_{i} = N_i/t$, where $N_i$ is the number of incidents over time $t$."
      ]
    },
    {
      "cell_type": "code",
      "execution_count": null,
      "id": "7ea9f343-6334-4bad-b3f2-10a29d0090b5",
      "metadata": {
        "id": "7ea9f343-6334-4bad-b3f2-10a29d0090b5",
        "outputId": "7cf076d1-9a5f-4ec3-fefc-22fadef427e5"
      },
      "outputs": [
        {
          "data": {
            "text/plain": [
              "1700 PLEASURE HOUSE RD    0.066672\n",
              "1800 DOLINA DR            0.033336\n",
              "3600 BONNEY RD            0.033336\n",
              "3400 CHAMPLAIN LA         0.033336\n",
              "2400 LAUREL COVE DR       0.033336\n",
              "                            ...   \n",
              "4400 SANIBEL CI           0.033336\n",
              "1600 OLD DONATION PKWY    0.033336\n",
              "600 FLEET DR              0.033336\n",
              "200 ARAGONA BL            0.033336\n",
              "1200 GENERAL ST           0.033336\n",
              "Name: Incident_Location, Length: 68, dtype: float64"
            ]
          },
          "execution_count": 7,
          "metadata": {},
          "output_type": "execute_result"
        }
      ],
      "source": [
        "incident_count = ohca_df.Incident_Location.value_counts()\n",
        "# arrival rate is in hours to match drone speed units\n",
        "arrival_rate = round(incident_count/(24*n_days),6)\n",
        "\n",
        "I = df.index.get_level_values(0).unique()\n",
        "J = df.index.get_level_values(1).unique()\n",
        "\n",
        "# make list of each OHCA / base pair\n",
        "base_to_ohca = df.index.tolist()\n",
        "\n",
        "# print DAILY arrival rates for each location\n",
        "24*arrival_rate.sort_values(ascending = False)"
      ]
    },
    {
      "cell_type": "markdown",
      "id": "12edffa7-8a19-458a-b6d3-c176f7ed28e6",
      "metadata": {
        "id": "12edffa7-8a19-458a-b6d3-c176f7ed28e6"
      },
      "source": [
        "#### Base Formualtion (BF) Variables and Constraints\n",
        "\n",
        "We start to build the MILP model by introducing binary variables $x_{j}$ and $y_{i,j}$ which will be 1 if location $j$ is chosen and services OHCA $i$. We start with constraints typical to facility location problem.\n",
        "\n",
        "$$\n",
        "\\begin{align}\n",
        "&y_{i,j} \\le x_j \\\\\n",
        "&\\sum_{j \\in J} x_j \\le p \\\\\n",
        "&\\sum_{i \\in I_{j}} y_{i,j} = 1 \\\\\n",
        "\\end{align}\n",
        "$$\n",
        "\n",
        "Next, we require each queue meet stability requirements:\n",
        "\n",
        "$$\n",
        "\\begin{align}\n",
        "\\sum_{i \\in I_{j}}\\lambda_{i}s_{i,j}y_{i,j} \\le 1\n",
        "\\end{align}\n",
        "$$\n",
        "\n",
        "Below are these constaints written in gurobipy."
      ]
    },
    {
      "cell_type": "code",
      "execution_count": null,
      "id": "e5b07a57-a0f6-414e-8d91-0b180939db79",
      "metadata": {
        "id": "e5b07a57-a0f6-414e-8d91-0b180939db79"
      },
      "outputs": [],
      "source": [
        "m = gp.Model('drone_network')\n",
        "\n",
        "x = m.addVars(J, vtype=GRB.BINARY, name='x')            #selection\n",
        "y = m.addVars(base_to_ohca, vtype=GRB.BINARY, name='y') #assignment\n",
        "\n",
        "m.addConstrs((y[(i,j)] <= x[j] for i,j in base_to_ohca), name='select')\n",
        "m.addConstr(x.sum() <= n_drones, name = 'drone_limit')\n",
        "m.addConstrs((y.sum(i,'*') == 1 for i in I), name = 'ohca');\n",
        "m.addConstrs(((gp.quicksum(arrival_rate[i]*service_time[i,j]*y[(i,j)] for i in I) <= 1) for j in J), name='stability');"
      ]
    },
    {
      "cell_type": "markdown",
      "id": "01193fab-c732-4f14-b0ef-445900d60e2f",
      "metadata": {
        "id": "01193fab-c732-4f14-b0ef-445900d60e2f"
      },
      "source": [
        "#### Reformulated MILP: Auxilary Variables, Constraints, and Objective Function\n",
        "The objective for the original formulation is to minimize the average expected response time of the drone network.\n",
        "\n",
        "$$\n",
        "\\begin{align}\n",
        "\\text{min}\\space \\frac{1}{\\sum_{k \\in I}\\lambda_k} \\sum_{i \\in I} \\sum_{j \\in J_{i}} \\left(\\frac{\\lambda_iy_{i,j} \\sum_{k \\in I}\\lambda_ky_{k,j}s^{2}_{k,j} }{2[1-\\sum_{k \\in I}\\lambda_ky_{k,j}s_{k,j}]} + \\frac{d_{i,j}\\lambda_iy_{i,j}}{v_j}\\right)\n",
        "\\end{align}\n",
        "$$\n",
        "\n",
        "The objective function contains factional and bilinear terms but can be reformualted in such a way that these terms are removed and linearized, creating a MILP. To do this, Linking variables need to be introduced to create the reformulation.\n",
        "\n",
        "$$\n",
        "\\begin{align}\n",
        "&V_j = \\sum_{i \\in I_{j}} \\lambda_is^{2}_{i,j}y_{i,j} + \\sum_{i \\in I_{j}} \\lambda_is_{i,j}y_{i,j} \\\\\n",
        "&\\nu_{i,j} \\ge 0 \\\\\n",
        "&\\nu_{i,j} \\ge \\overline{V}(y_{i,j}-1) + V_j \\\\\n",
        "&\\nu_{i,j} \\le \\overline{V}y_{i,j} \\\\\n",
        "&\\nu_{i,j} \\le V_j \\\\\n",
        "\\end{align}\n",
        "$$\n",
        "\n",
        "The objective function now is:\n",
        "\n",
        "$$\n",
        "\\begin{align}\n",
        "\\text{min}\\space \\sum_{i \\in I} \\sum_{j \\in J_{i}} \\left(\\frac{\\nu_{i,j}}{2} + \\frac{d_{i,j}y_{i,j}}{v_j}\\right)\\frac{\\lambda_i}{\\sum_{k \\in I}\\lambda_k}\n",
        "\\end{align}\n",
        "$$"
      ]
    },
    {
      "cell_type": "code",
      "execution_count": null,
      "id": "59906f9a-a02e-46b9-a2d6-4e3312c1be7d",
      "metadata": {
        "id": "59906f9a-a02e-46b9-a2d6-4e3312c1be7d"
      },
      "outputs": [],
      "source": [
        "# Auxilary variables and constraints for R-MILP\n",
        "Vbar = 2*service_time.sum()\n",
        "V = m.addVars(J, ub = Vbar, name = 'V')\n",
        "nu = m.addVars(base_to_ohca, name='nu')\n",
        "\n",
        "m.addConstrs((V[j] == gp.quicksum(arrival_rate[i]*service_time[i,j]**2*y[i,j] for i in I) + gp.quicksum(arrival_rate[i]*service_time[i,j]*nu[i,j] for i in I) for j in J), name = 'aux0')\n",
        "m.addConstrs((nu[i,j] <= V[j] for i, j in base_to_ohca), name = 'aux1')\n",
        "m.addConstrs((nu[i,j] <= Vbar*y[i,j] for i, j in base_to_ohca), name = 'aux2')\n",
        "m.addConstrs((nu[i,j] >= Vbar*(y[i,j]-1) + V[j] for i, j in base_to_ohca), name = 'aux3')\n",
        "\n",
        "# for ease in setting the objective there is a bit a simplification\n",
        "L = arrival_rate.sum()\n",
        "m.setObjective((1/L)*(gp.quicksum(0.5*arrival_rate[i]*nu[(i,j)] + (arrival_rate[i]*distance[i,j]/speed)*y[(i,j)] for i, j in base_to_ohca)));"
      ]
    },
    {
      "cell_type": "markdown",
      "id": "f91b95e2-c509-4b37-990f-e884d8b3ae23",
      "metadata": {
        "id": "f91b95e2-c509-4b37-990f-e884d8b3ae23"
      },
      "source": [
        "Run the optimization:"
      ]
    },
    {
      "cell_type": "code",
      "execution_count": null,
      "id": "80838528-6c2e-4cd6-a5ff-0fed6b205829",
      "metadata": {
        "id": "80838528-6c2e-4cd6-a5ff-0fed6b205829",
        "outputId": "94a946f0-1201-4e99-906b-5f1f43adbfda"
      },
      "outputs": [
        {
          "name": "stdout",
          "output_type": "stream",
          "text": [
            "Gurobi Optimizer version 10.0.2 build v10.0.2rc0 (win64)\n",
            "\n",
            "CPU model: 11th Gen Intel(R) Core(TM) i7-1165G7 @ 2.80GHz, instruction set [SSE2|AVX|AVX2|AVX512]\n",
            "Thread count: 4 physical cores, 8 logical processors, using up to 8 threads\n",
            "\n",
            "Optimize a model with 1987 rows, 966 columns and 6202 nonzeros\n",
            "Model fingerprint: 0xdb44b4e9\n",
            "Variable types: 483 continuous, 483 integer (483 binary)\n",
            "Coefficient statistics:\n",
            "  Matrix range     [2e-04, 6e+02]\n",
            "  Objective range  [7e-03, 5e+00]\n",
            "  Bounds range     [1e+00, 6e+02]\n",
            "  RHS range        [1e+00, 6e+02]\n",
            "Presolve removed 7 rows and 0 columns\n",
            "Presolve time: 0.06s\n",
            "Presolved: 1980 rows, 966 columns, 6202 nonzeros\n",
            "Variable types: 483 continuous, 483 integer (483 binary)\n",
            "\n",
            "Root relaxation: objective 3.732321e+01, 202 iterations, 0.01 seconds (0.01 work units)\n",
            "\n",
            "    Nodes    |    Current Node    |     Objective Bounds      |     Work\n",
            " Expl Unexpl |  Obj  Depth IntInf | Incumbent    BestBd   Gap | It/Node Time\n",
            "\n",
            "*    0     0               0      37.3232102   37.32321  0.00%     -    0s\n",
            "\n",
            "Explored 1 nodes (202 simplex iterations) in 0.10 seconds (0.09 work units)\n",
            "Thread count was 8 (of 8 available processors)\n",
            "\n",
            "Solution count 1: 37.3232 \n",
            "\n",
            "Optimal solution found (tolerance 1.00e-04)\n",
            "Best objective 3.732321020846e+01, best bound 3.732321020846e+01, gap 0.0000%\n"
          ]
        }
      ],
      "source": [
        "m.optimize()"
      ]
    },
    {
      "cell_type": "markdown",
      "id": "fb57b836-1f97-4fe9-88c8-a0549b82d799",
      "metadata": {
        "id": "fb57b836-1f97-4fe9-88c8-a0549b82d799"
      },
      "source": [
        "#### Visualize the Solution Network\n",
        "\n",
        "Use `getAttr` in gurobipy to quickly get the $x$ and $y$ decision variable values."
      ]
    },
    {
      "cell_type": "code",
      "execution_count": null,
      "id": "f926a13c-7915-4274-bd60-d0d6b894ba43",
      "metadata": {
        "id": "f926a13c-7915-4274-bd60-d0d6b894ba43",
        "outputId": "3cba5532-52ec-4193-90bf-e3c383800cf0"
      },
      "outputs": [
        {
          "data": {
            "text/plain": [
              "21 MUNICIPAL CTR Fire Station           1.0\n",
              "800 VIRGINIA BEACH BLVD Fire Station    1.0\n",
              "3769 E. STRATFORD ROAD Rescue Squad     1.0\n",
              "5145 RURITAN COURT Rescue Squad         1.0\n",
              "dtype: float64"
            ]
          },
          "execution_count": 11,
          "metadata": {},
          "output_type": "execute_result"
        }
      ],
      "source": [
        "# recover the bases used in the optimal solution\n",
        "sol_x = pd.Series(m.getAttr('X',x))\n",
        "bases_selected = sol_x[sol_x > 0.5]\n",
        "bases_selected"
      ]
    },
    {
      "cell_type": "markdown",
      "id": "64ed7145-4574-4066-a1d4-67615f8091f2",
      "metadata": {
        "id": "64ed7145-4574-4066-a1d4-67615f8091f2"
      },
      "source": [
        "Now export the assignment variables and create a dataframe with the coordinates for each final indicent/base pair"
      ]
    },
    {
      "cell_type": "code",
      "execution_count": null,
      "id": "b305b2f6-32c6-4f82-a563-14dc646766b4",
      "metadata": {
        "id": "b305b2f6-32c6-4f82-a563-14dc646766b4"
      },
      "outputs": [],
      "source": [
        "# recover the assignment variable\n",
        "sol_y = pd.Series(m.getAttr('X',y))\n",
        "sol_y.name = 'Assignments'\n",
        "sol_y.index.names = ['Incident_Location','Base']\n",
        "assignment = sol_y[sol_y > 0.5].to_frame()\n",
        "assignment = pd.merge(assignment.reset_index()[['Incident_Location','Base']], ohca_df[['Incident_Location','Latitude','Longitude']])\n",
        "assignment.rename(columns = {'Latitude':'Inc_Latitude', 'Longitude': 'Inc_Longitude'}, inplace = True)\n",
        "assignment = pd.merge(assignment, stations_df[['Base','Latitude','Longitude']])\n",
        "assignment.rename(columns = {'Latitude':'Base_Latitude', 'Longitude': 'Base_Longitude'}, inplace = True)"
      ]
    },
    {
      "cell_type": "markdown",
      "id": "4e8da85a-70b5-4fb7-9d2f-b26c1230537c",
      "metadata": {
        "id": "4e8da85a-70b5-4fb7-9d2f-b26c1230537c"
      },
      "source": [
        "We can now visualize the solution by finding the coordinates for each assignment pair and creating a plot with the incidents and stations to visualize the final network. The light orange points are stations that were not selected."
      ]
    },
    {
      "cell_type": "code",
      "execution_count": null,
      "id": "ee414c95-bd81-41b7-b154-146994052c52",
      "metadata": {
        "id": "ee414c95-bd81-41b7-b154-146994052c52",
        "outputId": "86c7f030-1d4f-45e4-e4b7-6f601a5ceb29"
      },
      "outputs": [
        {
          "data": {
            "image/png": "[encoded data removed]",
            "text/plain": [
              "<Figure size 432x288 with 1 Axes>"
            ]
          },
          "metadata": {
            "needs_background": "light"
          },
          "output_type": "display_data"
        }
      ],
      "source": [
        "coords = []\n",
        "for r in range(assignment.shape[0]):\n",
        "    coords.append([(assignment.Base_Longitude[r],assignment.Base_Latitude[r]),(assignment.Inc_Longitude[r],assignment.Inc_Latitude[r])])\n",
        "# plot the line segments, indicent points, and base station points of the final network\n",
        "fig, ax = plt.subplots()\n",
        "ax.set_xlim(-76.23, -75.93)\n",
        "ax.set_ylim(36.72, 36.93)\n",
        "lc = mc.LineCollection(coords, alpha = .2)\n",
        "ax.add_collection(lc)\n",
        "plt.scatter(data = ohca_df, x = 'Longitude', y = 'Latitude', alpha = .3)\n",
        "plt.scatter(data = stations_df[stations_df['Base'].isin(bases_selected.index.tolist())], x = 'Longitude', y = 'Latitude', alpha = 1, c = 'orange')\n",
        "plt.scatter(data = stations_df[~stations_df['Base'].isin(bases_selected.index.tolist())], x = 'Longitude', y = 'Latitude', alpha = 0.2, c = 'orange')\n",
        "plt.show()"
      ]
    },
    {
      "cell_type": "code",
      "execution_count": null,
      "id": "9585e22c",
      "metadata": {
        "id": "9585e22c",
        "outputId": "5429cf1a-84e4-4b1a-f09a-31ce94c33ddc"
      },
      "outputs": [
        {
          "name": "stdout",
          "output_type": "stream",
          "text": [
            "Freeing default Gurobi environment\n"
          ]
        }
      ],
      "source": [
        "m.dispose()\n",
        "gp.disposeDefaultEnv()"
      ]
    },
    {
      "cell_type": "code",
      "execution_count": null,
      "id": "c4e2add8",
      "metadata": {
        "id": "c4e2add8"
      },
      "outputs": [],
      "source": []
    }
  ],
  "metadata": {
    "colab": {
      "provenance": []
    },
    "kernelspec": {
      "display_name": "Python 3 (ipykernel)",
      "language": "python",
      "name": "python3"
    },
    "language_info": {
      "codemirror_mode": {
        "name": "ipython",
        "version": 3
      },
      "file_extension": ".py",
      "mimetype": "text/x-python",
      "name": "python",
      "nbconvert_exporter": "python",
      "pygments_lexer": "ipython3",
      "version": "3.11.8"
    }
  },
  "nbformat": 4,
  "nbformat_minor": 5
}
