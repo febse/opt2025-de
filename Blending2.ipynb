{
 "cells": [
  {
   "cell_type": "markdown",
   "metadata": {},
   "source": [
    "# Treibstoffmischung\n",
    "\n",
    "## Problemstellung\n",
    "\n",
    "Eine Raffinerie produziert drei Arten von bleifreiem Benzin, die sich in ihrer Oktanzahl (ON) unterscheiden: A: Normalbenzin ($ON \\geq 87$), B: Premiumbenzin ($ON \\geq 89$) und C: Superbenzin ($ON \\geq 92$). Die Raffinierung von Rohöl umfasst drei Komponenten.\n",
    "\n",
    "1. In der ersten Komponente wird das Rohöl zu einem Ausgangsstoff (feedstock) mit einer Oktanzahl ON = 82 destilliert. Es werden 5 Barrel Rohöl benötigt, um ein Barrel Rohöl zu erzeugen. Die Kapazität der Destillationsanlagen beträgt 1,500 Tausend Barrel pro Tag.\n",
    "2. Ein Teil des Rohöls wird in einer thermischen Krackanlage weiterverarbeitet, die Benzin mit ON = 98 herstellt. Die Crackanlage produziert ein halbes Barrel Benzin aus einem Barrel Rohöl. Die Kapazität des Crackers ist auf 200,000 Barrel Rohöl pro Tag begrenzt.\n",
    "3. Das letzte Element in der Raffinerung ist ein Blender, der Benzin aus dem Cracker und den Ausgangsstoff aus der Destillation mischt. Die Oktanzahl der Mischungen ist ungefähr gleich dem gewichteten Durchschnitt der Oktanzahl ihrer Bestandteile. Beispiel: 1 Barrel mit ON=90 und 2 Barrels mit ON=100 ergeben drei Barrels mit Oktanzahl $(1 \\times 90 + 2 \\times 100) / 3 \\approx 96.6$\n",
    "4. Die Nachfrage nach den drei Benzinsorten ist auf 50, 30 bzw. 40 Tausend Barrels pro Tag begrenzt.\n",
    "5. Die Raffinerie schätzt den Gewinn pro Barrel Benzin für die drei Benzinsorten auf 6, 7 und 8 EUR.\n",
    "\n",
    "Konstruieren Sie ein mathematisches Modell, das den optimalen Produktionsplan (mit dem höchsten Gewinn) finden kann. Das Produktionsschema ist in @fig-refinery dargestellt.\n",
    "\n",
    "\n",
    "```{mermaid}\n",
    "%%| label: fig-refinery\n",
    "%%| fig-cap: Das Produktionsschema der Raffinerie\n",
    "\n",
    "flowchart LR\n",
    "    A[Destillation 5:1] -->|ON=82| B[Cracker 2:1]\n",
    "    A --> |ON=82| C\n",
    "    B -->|ON=98| C[Blender 1:1]\n",
    "    C --> D(ON=87)\n",
    "    C --> E(ON=89)\n",
    "    C --> F(ON=92)\n",
    "```\n"
   ]
  },
  {
   "cell_type": "code",
   "execution_count": 29,
   "metadata": {},
   "outputs": [
    {
     "name": "stdout",
     "output_type": "stream",
     "text": [
      "Requirement already satisfied: gurobipy in /home/amarov/miniconda3/envs/opt2025/lib/python3.11/site-packages (12.0.1)\n",
      "Note: you may need to restart the kernel to use updated packages.\n"
     ]
    },
    {
     "data": {
      "application/vnd.microsoft.datawrangler.viewer.v0+json": {
       "columns": [
        {
         "name": "Product",
         "rawType": "object",
         "type": "string"
        },
        {
         "name": "Profit",
         "rawType": "int64",
         "type": "integer"
        },
        {
         "name": "ON",
         "rawType": "int64",
         "type": "integer"
        },
        {
         "name": "Demand",
         "rawType": "int64",
         "type": "integer"
        }
       ],
       "conversionMethod": "pd.DataFrame",
       "ref": "df69f55b-ddf1-4b45-856c-e9eaca170cb9",
       "rows": [
        [
         "A",
         "6",
         "87",
         "50000"
        ],
        [
         "B",
         "7",
         "89",
         "30000"
        ],
        [
         "C",
         "8",
         "90",
         "40000"
        ]
       ],
       "shape": {
        "columns": 3,
        "rows": 3
       }
      },
      "text/html": [
       "<div>\n",
       "<style scoped>\n",
       "    .dataframe tbody tr th:only-of-type {\n",
       "        vertical-align: middle;\n",
       "    }\n",
       "\n",
       "    .dataframe tbody tr th {\n",
       "        vertical-align: top;\n",
       "    }\n",
       "\n",
       "    .dataframe thead th {\n",
       "        text-align: right;\n",
       "    }\n",
       "</style>\n",
       "<table border=\"1\" class=\"dataframe\">\n",
       "  <thead>\n",
       "    <tr style=\"text-align: right;\">\n",
       "      <th></th>\n",
       "      <th>Profit</th>\n",
       "      <th>ON</th>\n",
       "      <th>Demand</th>\n",
       "    </tr>\n",
       "    <tr>\n",
       "      <th>Product</th>\n",
       "      <th></th>\n",
       "      <th></th>\n",
       "      <th></th>\n",
       "    </tr>\n",
       "  </thead>\n",
       "  <tbody>\n",
       "    <tr>\n",
       "      <th>A</th>\n",
       "      <td>6</td>\n",
       "      <td>87</td>\n",
       "      <td>50000</td>\n",
       "    </tr>\n",
       "    <tr>\n",
       "      <th>B</th>\n",
       "      <td>7</td>\n",
       "      <td>89</td>\n",
       "      <td>30000</td>\n",
       "    </tr>\n",
       "    <tr>\n",
       "      <th>C</th>\n",
       "      <td>8</td>\n",
       "      <td>90</td>\n",
       "      <td>40000</td>\n",
       "    </tr>\n",
       "  </tbody>\n",
       "</table>\n",
       "</div>"
      ],
      "text/plain": [
       "         Profit  ON  Demand\n",
       "Product                    \n",
       "A             6  87   50000\n",
       "B             7  89   30000\n",
       "C             8  90   40000"
      ]
     },
     "execution_count": 29,
     "metadata": {},
     "output_type": "execute_result"
    }
   ],
   "source": [
    "%pip install gurobipy\n",
    "\n",
    "import gurobipy as gp\n",
    "from gurobipy import GRB\n",
    "import pandas as pd\n",
    "\n",
    "products = pd.DataFrame({\n",
    "    'Product': ['A', 'B', 'C'],\n",
    "    'Profit': [6, 7, 8],\n",
    "    'ON': [87, 89, 90],\n",
    "    'Demand': [50000, 30000, 40000],\n",
    "}).set_index('Product')\n",
    "\n",
    "sources = pd.DataFrame({\n",
    "    'Name': [\"Distillation\", \"Cracker\"],    \n",
    "    'ON': [82, 98],\n",
    "    'Capacity': [1.5e6, 200e3],\n",
    "}).set_index('Name')\n",
    "\n",
    "products"
   ]
  },
  {
   "cell_type": "code",
   "execution_count": 11,
   "metadata": {},
   "outputs": [
    {
     "data": {
      "application/vnd.microsoft.datawrangler.viewer.v0+json": {
       "columns": [
        {
         "name": "Name",
         "rawType": "object",
         "type": "string"
        },
        {
         "name": "ON",
         "rawType": "int64",
         "type": "integer"
        },
        {
         "name": "Capacity",
         "rawType": "float64",
         "type": "float"
        }
       ],
       "conversionMethod": "pd.DataFrame",
       "ref": "6c39a063-cc21-4a08-9f63-b6d707a6415d",
       "rows": [
        [
         "Distillation",
         "82",
         "1500000.0"
        ],
        [
         "Cracker",
         "98",
         "200000.0"
        ]
       ],
       "shape": {
        "columns": 2,
        "rows": 2
       }
      },
      "text/html": [
       "<div>\n",
       "<style scoped>\n",
       "    .dataframe tbody tr th:only-of-type {\n",
       "        vertical-align: middle;\n",
       "    }\n",
       "\n",
       "    .dataframe tbody tr th {\n",
       "        vertical-align: top;\n",
       "    }\n",
       "\n",
       "    .dataframe thead th {\n",
       "        text-align: right;\n",
       "    }\n",
       "</style>\n",
       "<table border=\"1\" class=\"dataframe\">\n",
       "  <thead>\n",
       "    <tr style=\"text-align: right;\">\n",
       "      <th></th>\n",
       "      <th>ON</th>\n",
       "      <th>Capacity</th>\n",
       "    </tr>\n",
       "    <tr>\n",
       "      <th>Name</th>\n",
       "      <th></th>\n",
       "      <th></th>\n",
       "    </tr>\n",
       "  </thead>\n",
       "  <tbody>\n",
       "    <tr>\n",
       "      <th>Distillation</th>\n",
       "      <td>82</td>\n",
       "      <td>1500000.0</td>\n",
       "    </tr>\n",
       "    <tr>\n",
       "      <th>Cracker</th>\n",
       "      <td>98</td>\n",
       "      <td>200000.0</td>\n",
       "    </tr>\n",
       "  </tbody>\n",
       "</table>\n",
       "</div>"
      ],
      "text/plain": [
       "              ON   Capacity\n",
       "Name                       \n",
       "Distillation  82  1500000.0\n",
       "Cracker       98   200000.0"
      ]
     },
     "execution_count": 11,
     "metadata": {},
     "output_type": "execute_result"
    }
   ],
   "source": [
    "sources"
   ]
  },
  {
   "cell_type": "code",
   "execution_count": 31,
   "metadata": {},
   "outputs": [
    {
     "name": "stdout",
     "output_type": "stream",
     "text": [
      "Set parameter LogToConsole to value 0\n",
      "\\ Model Treibstoffmischung\n",
      "\\ LP format - for model browsing. Use MPS format to capture full model detail.\n",
      "Maximize\n",
      "  6 x[A,Distillation] + 6 x[A,Cracker] + 7 x[B,Distillation]\n",
      "   + 7 x[B,Cracker] + 8 x[C,Distillation] + 8 x[C,Cracker]\n",
      "Subject To\n",
      " Oktanzahl[A]: - 5 x[A,Distillation] + 11 x[A,Cracker] >= 0\n",
      " Oktanzahl[B]: - 7 x[B,Distillation] + 9 x[B,Cracker] >= 0\n",
      " Oktanzahl[C]: - 8 x[C,Distillation] + 8 x[C,Cracker] >= 0\n",
      " Cracker: 2 x[A,Cracker] + 2 x[B,Cracker] + 2 x[C,Cracker] <= 200000\n",
      " Distillation: 5 x[A,Distillation] + 10 x[A,Cracker] + 5 x[B,Distillation]\n",
      "   + 10 x[B,Cracker] + 5 x[C,Distillation] + 10 x[C,Cracker] <= 1.5e+06\n",
      " Nachfrage[A]: x[A,Distillation] + x[A,Cracker] <= 50000\n",
      " Nachfrage[B]: x[B,Distillation] + x[B,Cracker] <= 30000\n",
      " Nachfrage[C]: x[C,Distillation] + x[C,Cracker] <= 40000\n",
      "Bounds\n",
      "End\n",
      "\n"
     ]
    }
   ],
   "source": [
    "m = gp.Model(\"Treibstoffmischung\")\n",
    "m.Params.LogToConsole = 0\n",
    "\n",
    "# Enscheidungsvariablen\n",
    "\n",
    "x = m.addVars(products.index, sources.index, name=\"x\", vtype=GRB.CONTINUOUS)\n",
    "\n",
    "# Objective\n",
    "\n",
    "m.setObjective(gp.quicksum(products.loc[p, 'Profit'] * x[p, s] for p in products.index for s in sources.index), GRB.MAXIMIZE)\n",
    "\n",
    "m.update()\n",
    "\n",
    "# Einschränkungen\n",
    "\n",
    "## Oktanzahlen\n",
    "\n",
    "m.addConstrs(\n",
    "    (gp.quicksum(x[p, s] * sources.loc[s, 'ON'] for s in sources.index) >= products.loc[p, 'ON'] * x.sum(p, '*') for p in products.index), \n",
    "    name = \"Oktanzahl\"\n",
    ")\n",
    "\n",
    "# Kapazitäten\n",
    "\n",
    "m.addConstr(2 * x.sum('*', 'Cracker') <= sources.loc['Cracker', 'Capacity'], name=\"Cracker\")\n",
    "m.addConstr(5 * x.sum('*', 'Distillation') + 5 * 2 * x.sum('*', 'Cracker') <= sources.loc['Distillation', 'Capacity'], name=\"Distillation\")\n",
    "\n",
    "# Nachfrage\n",
    "\n",
    "m.addConstrs(\n",
    "    (gp.quicksum(x[p, s] for s in sources.index) <= products.loc[p, 'Demand'] for p in products.index),\n",
    "    name=\"Nachfrage\"\n",
    ")\n",
    "\n",
    "# Das Modell als LP-Datei speichern und ausgeben\n",
    "\n",
    "m.write(\"Treibstoffmischung.lp\")\n",
    "\n",
    "with open(\"Treibstoffmischung.lp\") as f:\n",
    "    print(f.read())\n",
    "\n",
    "m.optimize()"
   ]
  },
  {
   "cell_type": "code",
   "execution_count": 33,
   "metadata": {},
   "outputs": [
    {
     "data": {
      "application/vnd.microsoft.datawrangler.viewer.v0+json": {
       "columns": [
        {
         "name": "index",
         "rawType": "int64",
         "type": "integer"
        },
        {
         "name": "Product",
         "rawType": "object",
         "type": "string"
        },
        {
         "name": "Source",
         "rawType": "object",
         "type": "string"
        },
        {
         "name": "Amount",
         "rawType": "float64",
         "type": "float"
        }
       ],
       "conversionMethod": "pd.DataFrame",
       "ref": "764a3912-db60-4b65-a078-d073e3fc668a",
       "rows": [
        [
         "0",
         "A",
         "Distillation",
         "0.0"
        ],
        [
         "1",
         "A",
         "Cracker",
         "50000.0"
        ],
        [
         "2",
         "B",
         "Distillation",
         "16875.0"
        ],
        [
         "3",
         "B",
         "Cracker",
         "13125.0"
        ],
        [
         "4",
         "C",
         "Distillation",
         "20000.0"
        ],
        [
         "5",
         "C",
         "Cracker",
         "20000.0"
        ]
       ],
       "shape": {
        "columns": 3,
        "rows": 6
       }
      },
      "text/html": [
       "<div>\n",
       "<style scoped>\n",
       "    .dataframe tbody tr th:only-of-type {\n",
       "        vertical-align: middle;\n",
       "    }\n",
       "\n",
       "    .dataframe tbody tr th {\n",
       "        vertical-align: top;\n",
       "    }\n",
       "\n",
       "    .dataframe thead th {\n",
       "        text-align: right;\n",
       "    }\n",
       "</style>\n",
       "<table border=\"1\" class=\"dataframe\">\n",
       "  <thead>\n",
       "    <tr style=\"text-align: right;\">\n",
       "      <th></th>\n",
       "      <th>Product</th>\n",
       "      <th>Source</th>\n",
       "      <th>Amount</th>\n",
       "    </tr>\n",
       "  </thead>\n",
       "  <tbody>\n",
       "    <tr>\n",
       "      <th>0</th>\n",
       "      <td>A</td>\n",
       "      <td>Distillation</td>\n",
       "      <td>0.0</td>\n",
       "    </tr>\n",
       "    <tr>\n",
       "      <th>1</th>\n",
       "      <td>A</td>\n",
       "      <td>Cracker</td>\n",
       "      <td>50000.0</td>\n",
       "    </tr>\n",
       "    <tr>\n",
       "      <th>2</th>\n",
       "      <td>B</td>\n",
       "      <td>Distillation</td>\n",
       "      <td>16875.0</td>\n",
       "    </tr>\n",
       "    <tr>\n",
       "      <th>3</th>\n",
       "      <td>B</td>\n",
       "      <td>Cracker</td>\n",
       "      <td>13125.0</td>\n",
       "    </tr>\n",
       "    <tr>\n",
       "      <th>4</th>\n",
       "      <td>C</td>\n",
       "      <td>Distillation</td>\n",
       "      <td>20000.0</td>\n",
       "    </tr>\n",
       "    <tr>\n",
       "      <th>5</th>\n",
       "      <td>C</td>\n",
       "      <td>Cracker</td>\n",
       "      <td>20000.0</td>\n",
       "    </tr>\n",
       "  </tbody>\n",
       "</table>\n",
       "</div>"
      ],
      "text/plain": [
       "  Product        Source   Amount\n",
       "0       A  Distillation      0.0\n",
       "1       A       Cracker  50000.0\n",
       "2       B  Distillation  16875.0\n",
       "3       B       Cracker  13125.0\n",
       "4       C  Distillation  20000.0\n",
       "5       C       Cracker  20000.0"
      ]
     },
     "execution_count": 33,
     "metadata": {},
     "output_type": "execute_result"
    }
   ],
   "source": [
    "# Die Lösung des Modells als DataFrame speichern\n",
    "\n",
    "vars_df = pd.DataFrame({\n",
    "    'Product': [p for p in products.index for s in sources.index],\n",
    "    'Source': [s for p in products.index for s in sources.index],\n",
    "    'Amount': [x[p, s].x for p in products.index for s in sources.index],\n",
    "})\n",
    "\n",
    "vars_df"
   ]
  }
 ],
 "metadata": {
  "kernelspec": {
   "display_name": "opt2025",
   "language": "python",
   "name": "python3"
  },
  "language_info": {
   "codemirror_mode": {
    "name": "ipython",
    "version": 3
   },
   "file_extension": ".py",
   "mimetype": "text/x-python",
   "name": "python",
   "nbconvert_exporter": "python",
   "pygments_lexer": "ipython3",
   "version": "3.11.11"
  }
 },
 "nbformat": 4,
 "nbformat_minor": 2
}
