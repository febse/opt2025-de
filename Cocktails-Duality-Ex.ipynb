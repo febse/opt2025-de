{
 "cells": [
  {
   "cell_type": "markdown",
   "id": "68d41136",
   "metadata": {},
   "source": [
    "# Duale Cocktails (Übung)\n",
    "\n",
    "Open in Colab: [![Open in Colab](https://colab.research.google.com/assets/colab-badge.svg)](https://colab.research.google.com/github/febse/opt2025-de/blob/main/Cocktails-Duality-Ex.ipynb)\n",
    "\n",
    "- [Cocktails (shared)](https://febunisofia-my.sharepoint.com/:x:/g/personal/amarov_feb_uni-sofia_bg/ESP-SwOFNNhGpNlhQtnI1xsBrR8nw-eklsYqMyCA-eJiAw?e=Tfqjsq&nav=MTVfezAwMDAwMDAwLTAwMDEtMDAwMC0wMDAwLTAwMDAwMDAwMDAwMH0)\n",
    "- [Cocktails (download)](https://github.com/febse/data/raw/refs/heads/main/opt/Cocktails_2d.xlsx)"
   ]
  },
  {
   "cell_type": "code",
   "execution_count": 1,
   "id": "1fa06850",
   "metadata": {},
   "outputs": [
    {
     "name": "stdout",
     "output_type": "stream",
     "text": [
      "Requirement already satisfied: gurobipy in c:\\users\\boyko\\.conda\\envs\\opt2025-de\\lib\\site-packages (12.0.1)\n",
      "Requirement already satisfied: plotly in c:\\users\\boyko\\.conda\\envs\\opt2025-de\\lib\\site-packages (5.24.1)\n",
      "Requirement already satisfied: sympy in c:\\users\\boyko\\.conda\\envs\\opt2025-de\\lib\\site-packages (1.13.3)\n",
      "Requirement already satisfied: tenacity>=6.2.0 in c:\\users\\boyko\\.conda\\envs\\opt2025-de\\lib\\site-packages (from plotly) (9.0.0)\n",
      "Requirement already satisfied: packaging in c:\\users\\boyko\\.conda\\envs\\opt2025-de\\lib\\site-packages (from plotly) (24.2)\n",
      "Requirement already satisfied: mpmath<1.4,>=1.1.0 in c:\\users\\boyko\\.conda\\envs\\opt2025-de\\lib\\site-packages (from sympy) (1.3.0)\n",
      "Note: you may need to restart the kernel to use updated packages.\n"
     ]
    }
   ],
   "source": [
    "%pip install gurobipy plotly sympy\n",
    "\n",
    "import numpy as np\n",
    "import plotly.graph_objects as go\n",
    "import pandas as pd\n",
    "import gurobipy as gp\n",
    "from gurobipy import GRB"
   ]
  },
  {
   "cell_type": "markdown",
   "id": "188c225d",
   "metadata": {},
   "source": [
    "## Barmanagement\n",
    "\n",
    "Stellen wir uns vor, dass wir eine kleine Bar managen. Wir sind so spezialisiert, dass wir nur Bloody Mary in zwei Varianten anbieten:\n",
    "\n",
    "- _Bloody Mary Light (BML)_, der aus 20 ml Vodka und 80 ml Tomatensaft besteht\n",
    "- _Bloody Mary Stark (BMS)_, der aus 40 ml Vodka und 60 ml Tomatensaft besteht\n",
    "\n",
    "In einer Stunde haben 2000 ml Vodka und 4000 ml Tomatensaft zur Verfügung. Wie viele von beiden Cocktails sollten wir zubereiten, um den Gewinn zu maximieren? Ein Glass Bloody Mary Light (100 ml) bring uns 3 Euro Gewinn ein, ein Glass (100 ml) Bloody Mary Stark bringt uns 4 Euro Gewinn ein.\n",
    "\n",
    "- Schreiben Sie das Modell zuerst auf Papier auf\n",
    "- Lösen Sie das Modell mit Excel Solver\n",
    "- Lösen Sie das Modell mit Gurobi in Python (einmal mit `.addVar` und einmal mit `.addMVar`)\n",
    "- Formulieren Sie die duale Optimierungsaufgabe und lösen Sie diese mit Excel Solver und Gurobi (auch mit `.addVar` und `.addMVar`)"
   ]
  },
  {
   "cell_type": "code",
   "execution_count": 2,
   "id": "81511d37",
   "metadata": {},
   "outputs": [
    {
     "name": "stdout",
     "output_type": "stream",
     "text": [
      "Ressourcen: [2000 4000]\n",
      "Gewinn pro Cocktail: [3 4]\n"
     ]
    },
    {
     "data": {
      "text/plain": [
       "array([[20, 80],\n",
       "       [40, 60]])"
      ]
     },
     "execution_count": 2,
     "metadata": {},
     "output_type": "execute_result"
    }
   ],
   "source": [
    "ressourcen = np.array([2000, 4000]) # ml Vodka, ml Tomatensaft\n",
    "\n",
    "print(\"Ressourcen:\", ressourcen)\n",
    "\n",
    "gewinn_pro_coktail = np.array([3, 4])\n",
    "\n",
    "print(\"Gewinn pro Cocktail:\", gewinn_pro_coktail)\n",
    "\n",
    "rezept_BML = np.array([20, 80]) # ml Vodka, ml Tomatensaft\n",
    "rezept_BMS = np.array([40, 60]) # ml Vodka, ml Tomatensaft\n",
    "\n",
    "bar_rezepte = np.array([rezept_BML, rezept_BMS])\n",
    "bar_rezepte"
   ]
  },
  {
   "cell_type": "code",
   "execution_count": 3,
   "id": "547060c2",
   "metadata": {},
   "outputs": [
    {
     "data": {
      "text/plain": [
       "np.int64(70)"
      ]
     },
     "execution_count": 3,
     "metadata": {},
     "output_type": "execute_result"
    }
   ],
   "source": [
    "# Berechnen Sie den Gewinn bei der Produktion von 10 BML und 10 BMS\n",
    "gewinn_pro_coktail @ np.array([10, 10]) # Gewinn = Gewinn pro Cocktail * Anzahl Cocktails"
   ]
  },
  {
   "cell_type": "code",
   "execution_count": 4,
   "id": "2a9857c2",
   "metadata": {},
   "outputs": [
    {
     "name": "stdout",
     "output_type": "stream",
     "text": [
      "Verbrauchskoeffizienten:\n",
      " [[20 40]\n",
      " [80 60]]\n",
      "Verbrauch von Vodka: [20 40]\n",
      "Verbrauch von Tomatensaft: [80 60]\n"
     ]
    }
   ],
   "source": [
    "verbrauchs_koeffizienten = bar_rezepte.T\n",
    "print(\"Verbrauchskoeffizienten:\\n\", verbrauchs_koeffizienten)\n",
    "\n",
    "verbrauch_vodka = verbrauchs_koeffizienten[0,:]\n",
    "print(\"Verbrauch von Vodka:\", verbrauch_vodka)\n",
    "\n",
    "verbrauch_tomatensaft = verbrauchs_koeffizienten[1,:]\n",
    "print(\"Verbrauch von Tomatensaft:\", verbrauch_tomatensaft)\n"
   ]
  },
  {
   "cell_type": "markdown",
   "id": "44bb5a71",
   "metadata": {},
   "source": [
    "Berechnen Sie den Verbrauch von Vodka und Tomatensaft für die Produktion von \n",
    "\n",
    "- 2 Cocktails BML und 3 Cocktails BMS\n",
    "- 3 Cocktails BML und 2 Cocktails BMS\n",
    "- 4 Cocktails BML und 1 Cocktails BMS\n",
    "- 1 Cocktails BML und 4 Cocktails BMS\n",
    "\n",
    "Benutzen Sie dazu Formeln in Excel und `numpy` in Python"
   ]
  },
  {
   "cell_type": "code",
   "execution_count": 5,
   "id": "4c9e0490",
   "metadata": {},
   "outputs": [
    {
     "name": "stdout",
     "output_type": "stream",
     "text": [
      "Verbrauch von Vodka: Produktion von 2 BML und 3 BMS: 160\n",
      "Verbrauch von Tomatensaft: Produktion von 2 BML und 3 BMS: 340\n"
     ]
    }
   ],
   "source": [
    "# Verbrauch von Vodka bei der Produktion von 2 Bloody Mary Light und 3 Bloody Mary Stark\n",
    "print(\"Verbrauch von Vodka: Produktion von 2 BML und 3 BMS:\", verbrauch_vodka @ np.array([2, 3]))\n",
    "\n",
    "# Verbrauch von Tomatensaft bei der Produktion von 2 Bloody Mary Light und 3 Bloody Mary Stark\n",
    "print(\"Verbrauch von Tomatensaft: Produktion von 2 BML und 3 BMS:\", verbrauch_tomatensaft @ np.array([2, 3]))\n",
    "\n",
    "# Verbrauch Vodka: 3 BML und 2 BMS\n",
    "\n",
    "# Verbrauch Tomatensaft: 3 BML und 2 BMS\n",
    "\n",
    "# Verbrauch Vodka: 4 BML und 1 BMS\n",
    "\n",
    "# Verbrauch Tomatensaft: 4 BML und 1 BMS\n",
    "\n",
    "# Verbrauch Vodka: 1 BML und 4 BMS\n"
   ]
  },
  {
   "cell_type": "code",
   "execution_count": 6,
   "id": "ca9a9b67",
   "metadata": {},
   "outputs": [
    {
     "name": "stdout",
     "output_type": "stream",
     "text": [
      "Verbrauch von Vodka und Tomatensaft: 2 BML und 3 BMS: [160 340]\n"
     ]
    }
   ],
   "source": [
    "# Verbrauch von Vodka und Tomatensaft: 2 BML und 3 BMS\n",
    "print(\"Verbrauch von Vodka und Tomatensaft: 2 BML und 3 BMS:\", verbrauchs_koeffizienten @ np.array([2, 3]))\n",
    "\n",
    "# Verbrauch von Vodka und Tomatensaft: 3 BML und 2 BMS\n",
    "\n",
    "\n",
    "# Verbrauch von Vodka und Tomatensaft: 4 BML und 1 BMS\n",
    "\n"
   ]
  },
  {
   "cell_type": "code",
   "execution_count": 7,
   "id": "a87f76dd",
   "metadata": {},
   "outputs": [
    {
     "name": "stdout",
     "output_type": "stream",
     "text": [
      "Restricted license - for non-production use only - expires 2026-11-23\n"
     ]
    },
    {
     "name": "stdout",
     "output_type": "stream",
     "text": [
      "Set parameter LogToConsole to value 0\n"
     ]
    },
    {
     "name": "stdout",
     "output_type": "stream",
     "text": [
      "\\ Model Cocktail\n",
      "\\ LP format - for model browsing. Use MPS format to capture full model detail.\n",
      "Maximize\n",
      "  3 Light + 4 Stark\n",
      "Subject To\n",
      "Bounds\n",
      "End\n",
      "\n"
     ]
    }
   ],
   "source": [
    "# Modell erstellen\n",
    "\n",
    "m = gp.Model(\"Cocktail\")\n",
    "m.Params.LogToConsole = 0 # keine Ausgabe in der Konsole\n",
    "\n",
    "# Variablen definieren\n",
    "\n",
    "x1 = m.addVar(name=\"Light\") # Anzahl von Bloody Mary Light Cocktails\n",
    "x2 = m.addVar(name=\"Stark\") # Anzahl von Bloody Mary Stark Cocktails\n",
    "\n",
    "# Zielfunktion definieren\n",
    "\n",
    "m.setObjective(3 * x1 + 4 * x2, GRB.MAXIMIZE)\n",
    "\n",
    "# Nebenbedingungen definieren\n",
    "\n",
    "\n",
    "# m.optimize()\n",
    "\n",
    "m.write(\"cocktail.lp\") # Speichern des Modells in einer Datei\n",
    "\n",
    "with open(\"cocktail.lp\", \"r\") as f:\n",
    "    print(f.read())\n",
    "\n",
    "# Ergebnisse ausgeben\n",
    "\n",
    "# print(\"Optimaler Cocktailmix:\")\n",
    "\n",
    "# print(f\"Bloody Mary Light: {x1.X:.2f} Stück\")\n",
    "# print(f\"Bloody Mary Stark: {x2.X:.2f} Stück\")\n",
    "\n",
    "# # Die Nebenbedingungen ausgeben als pandas DataFrame\n",
    "\n",
    "# # Die Nebenbedingungen ausgeben als pandas DataFrame\n",
    "# constr_df = pd.DataFrame([\n",
    "#     (c.ConstrName, c.Pi, c.Slack, c.RHS) for c in m.getConstrs()],\n",
    "#     columns=[\"Name\", \"Schattenpreis\", \"Slack\", \"RHS\"]\n",
    "# )\n",
    "# constr_df"
   ]
  },
  {
   "cell_type": "code",
   "execution_count": 8,
   "id": "954c4b8f",
   "metadata": {},
   "outputs": [
    {
     "name": "stdout",
     "output_type": "stream",
     "text": [
      "Set parameter LogToConsole to value 0\n"
     ]
    }
   ],
   "source": [
    "# Dasselbe in kürzerer Form\n",
    "\n",
    "m1 = gp.Model(\"Cocktail 2\")\n",
    "m1.Params.LogToConsole = 0 # keine Ausgabe in der Konsole\n",
    "\n",
    "x = m1.addMVar(2, name=\"Cocktails\")\n",
    "\n",
    "# Zielfunktion definieren\n",
    "\n",
    "# Nebenbedingungen definieren\n",
    "\n",
    "\n",
    "# m1.optimize()\n",
    "\n",
    "# # Ergebnisse ausgeben\n",
    "# print(\"Optimaler Cocktailmix:\")\n",
    "# print(f\"Bloody Mary Light: {x.X[0]:.2f} Stück\")\n",
    "# print(f\"Bloody Mary Stark: {x.X[1]:.2f} Stück\")\n",
    "\n",
    "# m1.write(\"cocktail-2.lp\")\n",
    "\n",
    "# with open(\"cocktail-2.lp\") as f:\n",
    "#     print(f.read())\n",
    "\n",
    "# # Die Nebenbedingungen ausgeben als pandas DataFrame\n",
    "# constr_df = pd.DataFrame([\n",
    "#     (c.ConstrName, c.Pi, c.Slack, c.RHS) for c in m1.getConstrs()],\n",
    "#     columns=[\"Name\", \"Schattenpreis\", \"Slack\", \"RHS\"]\n",
    "# )\n",
    "# constr_df"
   ]
  },
  {
   "cell_type": "markdown",
   "id": "c618e455",
   "metadata": {},
   "source": [
    "## Das duale Problem\n",
    "\n",
    "Schauen wir uns eine einfache Optimierungsaufgabe an:\n",
    "\n",
    "$$\n",
    "\\begin{align*}\n",
    "\\text{max} & \\quad 2x_1 + 3x_2 \\\\\n",
    "\\text{s.t.} & \\quad x_1 + x_2 \\leq 8 \\\\\n",
    "& \\quad x_1 + 2 x_2 \\leq 12 \\\\\n",
    "& x_1, x_2 \\geq 0\n",
    "\\end{align*}\n",
    "$$\n",
    "\n",
    "Ihre Lösung ist $[x_1, x_2] = [4, 4]$, also erreichen wir den grösstmöglichen Gewinn von $2 \\cdot 4 + 3 \\cdot 4 = 20$ Euro. Können wir aber **beweisen**, dass es keinen grösseren Gewinn gibt?\n",
    " "
   ]
  },
  {
   "cell_type": "markdown",
   "id": "ee81f7bc",
   "metadata": {},
   "source": [
    "Die duale Aufgabe zur Barmanagement-Optimierung ist:\n",
    "\n",
    "$$\n",
    "\\begin{align*}\n",
    "\\text{min} & \\quad 2000 y_1 + 4000 y_2 \\\\\n",
    "\\text{s.t.} & \\quad 20 y_1 + 80 y_2 \\geq 3 \\\\\n",
    "& \\quad 40 y_1 + 60 y_2 \\geq 4 \\\\\n",
    "& \\quad y_1, y_2 \\geq 0 \\\\\n",
    "\\end{align*}\n",
    "$$\n",
    "\n"
   ]
  },
  {
   "cell_type": "code",
   "execution_count": 9,
   "id": "398f9c00",
   "metadata": {},
   "outputs": [
    {
     "name": "stdout",
     "output_type": "stream",
     "text": [
      "Set parameter LogToConsole to value 0\n"
     ]
    },
    {
     "name": "stdout",
     "output_type": "stream",
     "text": [
      "\\ Model Cocktail dual\n",
      "\\ LP format - for model browsing. Use MPS format to capture full model detail.\n",
      "Minimize\n",
      "  0 Wert_von_Vodka + 0 Wert_von_Tomatensaft\n",
      "Subject To\n",
      "Bounds\n",
      "End\n",
      "\n"
     ]
    }
   ],
   "source": [
    "# Das duale Problem (1)\n",
    "\n",
    "md = gp.Model(\"Cocktail dual\")\n",
    "md.Params.LogToConsole = 0 # keine Ausgabe in der Konsole\n",
    "\n",
    "y1 = md.addVar(name=\"Wert von Vodka\") # Schattenpreis Vodka\n",
    "y2 = md.addVar(name=\"Wert von Tomatensaft\") # Schattenpreis Tomatensaft\n",
    "\n",
    "# Einschränkungen definieren\n",
    "\n",
    "\n",
    "# Kontrolle: das LP ausgeben\n",
    "md.write(\"cocktail-dual.lp\") # Speichern des Modells in einer Datei\n",
    "\n",
    "with open(\"cocktail-dual.lp\", \"r\") as f:\n",
    "    print(f.read())\n",
    "\n",
    "# md.optimize()\n",
    "\n",
    "# # Ergebnisse ausgeben\n",
    "# print(\"Optimale Werte der Ressourcen:\")\n",
    "\n",
    "# print(f\"Wert von Vodka: {y1.X:.2f} Euro /ml\")\n",
    "# print(f\"Wert von Tomatensaft: {y2.X:.2f} Euro/ml\")\n",
    "# print(f\"Gewinn: {md.ObjVal:.2f} Euro\")\n",
    "\n",
    "# # Die Nebenbedingungen ausgeben als pandas DataFrame\n",
    "# constr_df = pd.DataFrame([\n",
    "#     (c.ConstrName, c.Slack, c.RHS, c.Pi, c.Sense) for c in md.getConstrs()], \n",
    "#     columns=[\"Name\", \"Slack\", \"RHS\", \"Schattenpreis\", \"Sense\"\n",
    "# ])\n",
    "\n",
    "# constr_df\n"
   ]
  },
  {
   "cell_type": "code",
   "execution_count": 10,
   "id": "6c37adda",
   "metadata": {},
   "outputs": [
    {
     "name": "stdout",
     "output_type": "stream",
     "text": [
      "Set parameter LogToConsole to value 0\n"
     ]
    },
    {
     "name": "stdout",
     "output_type": "stream",
     "text": [
      "\\ Model Cocktail Dual 2\n",
      "\\ LP format - for model browsing. Use MPS format to capture full model detail.\n",
      "Minimize\n",
      " \n",
      "Subject To\n",
      "Bounds\n",
      "End\n",
      "\n"
     ]
    }
   ],
   "source": [
    "# Das Duale Problem (2)\n",
    "\n",
    "m2 = gp.Model(\"Cocktail Dual 2\")\n",
    "\n",
    "m2.Params.LogToConsole = 0 # keine Ausgabe in der Konsole\n",
    "\n",
    "# Variablen definieren (mit addMVar)\n",
    "\n",
    "# Zielfunktion definieren\n",
    "\n",
    "\n",
    "# Nebenbedingungen definieren (mit addConstr)\n",
    "\n",
    "# m2.optimize()\n",
    "\n",
    "m2.write(\"cocktail-dual-2.lp\") # Speichern des Modells in einer Datei\n",
    "\n",
    "with open(\"cocktail-dual-2.lp\", \"r\") as f:\n",
    "    print(f.read())\n",
    "\n",
    "# # Ergebnisse ausgeben\n",
    "# print(\"Schattenpreise:\")\n",
    "\n",
    "# print(f\"Wert von Vodka: {y.X[0]:.2f} Euro/ml\")\n",
    "# print(f\"Wert von Tomatensaft: {y.X[1]:.2f} Euro/ml\")\n",
    "# print(f\"Gewinn: {m2.ObjVal:.2f} Euro\")\n",
    "# # Die Nebenbedingungen ausgeben als pandas DataFrame\n",
    "\n",
    "# constr_df = pd.DataFrame([\n",
    "#     (c.ConstrName, c.Slack, c.RHS, c.Pi, c.Sense) for c in m2.getConstrs()],\n",
    "#     columns=[\"Name\", \"Slack\", \"RHS\", \"Schattenpreis\", \"Sense\"\n",
    "# ])\n",
    "\n",
    "# constr_df\n"
   ]
  },
  {
   "cell_type": "code",
   "execution_count": 11,
   "id": "fca0a7b5",
   "metadata": {},
   "outputs": [
    {
     "data": {
      "text/plain": [
       "array([100, 100])"
      ]
     },
     "execution_count": 11,
     "metadata": {},
     "output_type": "execute_result"
    }
   ],
   "source": [
    "# Wie viel von den Resourcen verbrauchen wir, falls wir 2 BML und 2 BLS machen?\n",
    "\n",
    "bar_rezepte @ np.array([1, 1])"
   ]
  },
  {
   "cell_type": "markdown",
   "id": "2948e5b9",
   "metadata": {},
   "source": [
    "# Cocktails mit drei Zutaten\n"
   ]
  },
  {
   "cell_type": "code",
   "execution_count": 12,
   "id": "d46c4edf",
   "metadata": {},
   "outputs": [
    {
     "data": {
      "text/html": [
       "        <script type=\"text/javascript\">\n",
       "        window.PlotlyConfig = {MathJaxConfig: 'local'};\n",
       "        if (window.MathJax && window.MathJax.Hub && window.MathJax.Hub.Config) {window.MathJax.Hub.Config({SVG: {font: \"STIX-Web\"}});}\n",
       "        if (typeof require !== 'undefined') {\n",
       "        require.undef(\"plotly\");\n",
       "        requirejs.config({\n",
       "            paths: {\n",
       "                'plotly': ['https://cdn.plot.ly/plotly-2.35.2.min']\n",
       "            }\n",
       "        });\n",
       "        require(['plotly'], function(Plotly) {\n",
       "            window._Plotly = Plotly;\n",
       "        });\n",
       "        }\n",
       "        </script>\n",
       "        "
      ]
     },
     "metadata": {},
     "output_type": "display_data"
    },
    {
     "data": {
      "text/html": [
       "<div>                            <div id=\"b6373804-192d-4e14-b337-c9f8ed148f60\" class=\"plotly-graph-div\" style=\"height:525px; width:100%;\"></div>            <script type=\"text/javascript\">                require([\"plotly\"], function(Plotly) {                    window.PLOTLYENV=window.PLOTLYENV || {};                                    if (document.getElementById(\"b6373804-192d-4e14-b337-c9f8ed148f60\")) {                    Plotly.newPlot(                        \"b6373804-192d-4e14-b337-c9f8ed148f60\",                        [{\"line\":{\"color\":\"firebrick\",\"width\":5},\"marker\":{\"size\":5},\"mode\":\"lines+markers\",\"name\":\"Bloody Mary Rezept\",\"x\":[0,20],\"y\":[0,0],\"z\":[0,80],\"type\":\"scatter3d\"},{\"line\":{\"color\":\"steelblue\",\"width\":5},\"marker\":{\"size\":5},\"mode\":\"lines+markers\",\"name\":\"Rum Pure Rezept\",\"x\":[0,0],\"y\":[0,50],\"z\":[0,0],\"type\":\"scatter3d\"},{\"line\":{\"color\":\"orange\",\"width\":5},\"marker\":{\"size\":5},\"mode\":\"lines+markers\",\"name\":\"Crazy Cocktail Rezept\",\"x\":[0,40],\"y\":[0,40],\"z\":[0,20],\"type\":\"scatter3d\"}],                        {\"template\":{\"data\":{\"histogram2dcontour\":[{\"type\":\"histogram2dcontour\",\"colorbar\":{\"outlinewidth\":0,\"ticks\":\"\"},\"colorscale\":[[0.0,\"#0d0887\"],[0.1111111111111111,\"#46039f\"],[0.2222222222222222,\"#7201a8\"],[0.3333333333333333,\"#9c179e\"],[0.4444444444444444,\"#bd3786\"],[0.5555555555555556,\"#d8576b\"],[0.6666666666666666,\"#ed7953\"],[0.7777777777777778,\"#fb9f3a\"],[0.8888888888888888,\"#fdca26\"],[1.0,\"#f0f921\"]]}],\"choropleth\":[{\"type\":\"choropleth\",\"colorbar\":{\"outlinewidth\":0,\"ticks\":\"\"}}],\"histogram2d\":[{\"type\":\"histogram2d\",\"colorbar\":{\"outlinewidth\":0,\"ticks\":\"\"},\"colorscale\":[[0.0,\"#0d0887\"],[0.1111111111111111,\"#46039f\"],[0.2222222222222222,\"#7201a8\"],[0.3333333333333333,\"#9c179e\"],[0.4444444444444444,\"#bd3786\"],[0.5555555555555556,\"#d8576b\"],[0.6666666666666666,\"#ed7953\"],[0.7777777777777778,\"#fb9f3a\"],[0.8888888888888888,\"#fdca26\"],[1.0,\"#f0f921\"]]}],\"heatmap\":[{\"type\":\"heatmap\",\"colorbar\":{\"outlinewidth\":0,\"ticks\":\"\"},\"colorscale\":[[0.0,\"#0d0887\"],[0.1111111111111111,\"#46039f\"],[0.2222222222222222,\"#7201a8\"],[0.3333333333333333,\"#9c179e\"],[0.4444444444444444,\"#bd3786\"],[0.5555555555555556,\"#d8576b\"],[0.6666666666666666,\"#ed7953\"],[0.7777777777777778,\"#fb9f3a\"],[0.8888888888888888,\"#fdca26\"],[1.0,\"#f0f921\"]]}],\"heatmapgl\":[{\"type\":\"heatmapgl\",\"colorbar\":{\"outlinewidth\":0,\"ticks\":\"\"},\"colorscale\":[[0.0,\"#0d0887\"],[0.1111111111111111,\"#46039f\"],[0.2222222222222222,\"#7201a8\"],[0.3333333333333333,\"#9c179e\"],[0.4444444444444444,\"#bd3786\"],[0.5555555555555556,\"#d8576b\"],[0.6666666666666666,\"#ed7953\"],[0.7777777777777778,\"#fb9f3a\"],[0.8888888888888888,\"#fdca26\"],[1.0,\"#f0f921\"]]}],\"contourcarpet\":[{\"type\":\"contourcarpet\",\"colorbar\":{\"outlinewidth\":0,\"ticks\":\"\"}}],\"contour\":[{\"type\":\"contour\",\"colorbar\":{\"outlinewidth\":0,\"ticks\":\"\"},\"colorscale\":[[0.0,\"#0d0887\"],[0.1111111111111111,\"#46039f\"],[0.2222222222222222,\"#7201a8\"],[0.3333333333333333,\"#9c179e\"],[0.4444444444444444,\"#bd3786\"],[0.5555555555555556,\"#d8576b\"],[0.6666666666666666,\"#ed7953\"],[0.7777777777777778,\"#fb9f3a\"],[0.8888888888888888,\"#fdca26\"],[1.0,\"#f0f921\"]]}],\"surface\":[{\"type\":\"surface\",\"colorbar\":{\"outlinewidth\":0,\"ticks\":\"\"},\"colorscale\":[[0.0,\"#0d0887\"],[0.1111111111111111,\"#46039f\"],[0.2222222222222222,\"#7201a8\"],[0.3333333333333333,\"#9c179e\"],[0.4444444444444444,\"#bd3786\"],[0.5555555555555556,\"#d8576b\"],[0.6666666666666666,\"#ed7953\"],[0.7777777777777778,\"#fb9f3a\"],[0.8888888888888888,\"#fdca26\"],[1.0,\"#f0f921\"]]}],\"mesh3d\":[{\"type\":\"mesh3d\",\"colorbar\":{\"outlinewidth\":0,\"ticks\":\"\"}}],\"scatter\":[{\"fillpattern\":{\"fillmode\":\"overlay\",\"size\":10,\"solidity\":0.2},\"type\":\"scatter\"}],\"parcoords\":[{\"type\":\"parcoords\",\"line\":{\"colorbar\":{\"outlinewidth\":0,\"ticks\":\"\"}}}],\"scatterpolargl\":[{\"type\":\"scatterpolargl\",\"marker\":{\"colorbar\":{\"outlinewidth\":0,\"ticks\":\"\"}}}],\"bar\":[{\"error_x\":{\"color\":\"#2a3f5f\"},\"error_y\":{\"color\":\"#2a3f5f\"},\"marker\":{\"line\":{\"color\":\"#E5ECF6\",\"width\":0.5},\"pattern\":{\"fillmode\":\"overlay\",\"size\":10,\"solidity\":0.2}},\"type\":\"bar\"}],\"scattergeo\":[{\"type\":\"scattergeo\",\"marker\":{\"colorbar\":{\"outlinewidth\":0,\"ticks\":\"\"}}}],\"scatterpolar\":[{\"type\":\"scatterpolar\",\"marker\":{\"colorbar\":{\"outlinewidth\":0,\"ticks\":\"\"}}}],\"histogram\":[{\"marker\":{\"pattern\":{\"fillmode\":\"overlay\",\"size\":10,\"solidity\":0.2}},\"type\":\"histogram\"}],\"scattergl\":[{\"type\":\"scattergl\",\"marker\":{\"colorbar\":{\"outlinewidth\":0,\"ticks\":\"\"}}}],\"scatter3d\":[{\"type\":\"scatter3d\",\"line\":{\"colorbar\":{\"outlinewidth\":0,\"ticks\":\"\"}},\"marker\":{\"colorbar\":{\"outlinewidth\":0,\"ticks\":\"\"}}}],\"scattermapbox\":[{\"type\":\"scattermapbox\",\"marker\":{\"colorbar\":{\"outlinewidth\":0,\"ticks\":\"\"}}}],\"scatterternary\":[{\"type\":\"scatterternary\",\"marker\":{\"colorbar\":{\"outlinewidth\":0,\"ticks\":\"\"}}}],\"scattercarpet\":[{\"type\":\"scattercarpet\",\"marker\":{\"colorbar\":{\"outlinewidth\":0,\"ticks\":\"\"}}}],\"carpet\":[{\"aaxis\":{\"endlinecolor\":\"#2a3f5f\",\"gridcolor\":\"white\",\"linecolor\":\"white\",\"minorgridcolor\":\"white\",\"startlinecolor\":\"#2a3f5f\"},\"baxis\":{\"endlinecolor\":\"#2a3f5f\",\"gridcolor\":\"white\",\"linecolor\":\"white\",\"minorgridcolor\":\"white\",\"startlinecolor\":\"#2a3f5f\"},\"type\":\"carpet\"}],\"table\":[{\"cells\":{\"fill\":{\"color\":\"#EBF0F8\"},\"line\":{\"color\":\"white\"}},\"header\":{\"fill\":{\"color\":\"#C8D4E3\"},\"line\":{\"color\":\"white\"}},\"type\":\"table\"}],\"barpolar\":[{\"marker\":{\"line\":{\"color\":\"#E5ECF6\",\"width\":0.5},\"pattern\":{\"fillmode\":\"overlay\",\"size\":10,\"solidity\":0.2}},\"type\":\"barpolar\"}],\"pie\":[{\"automargin\":true,\"type\":\"pie\"}]},\"layout\":{\"autotypenumbers\":\"strict\",\"colorway\":[\"#636efa\",\"#EF553B\",\"#00cc96\",\"#ab63fa\",\"#FFA15A\",\"#19d3f3\",\"#FF6692\",\"#B6E880\",\"#FF97FF\",\"#FECB52\"],\"font\":{\"color\":\"#2a3f5f\"},\"hovermode\":\"closest\",\"hoverlabel\":{\"align\":\"left\"},\"paper_bgcolor\":\"white\",\"plot_bgcolor\":\"#E5ECF6\",\"polar\":{\"bgcolor\":\"#E5ECF6\",\"angularaxis\":{\"gridcolor\":\"white\",\"linecolor\":\"white\",\"ticks\":\"\"},\"radialaxis\":{\"gridcolor\":\"white\",\"linecolor\":\"white\",\"ticks\":\"\"}},\"ternary\":{\"bgcolor\":\"#E5ECF6\",\"aaxis\":{\"gridcolor\":\"white\",\"linecolor\":\"white\",\"ticks\":\"\"},\"baxis\":{\"gridcolor\":\"white\",\"linecolor\":\"white\",\"ticks\":\"\"},\"caxis\":{\"gridcolor\":\"white\",\"linecolor\":\"white\",\"ticks\":\"\"}},\"coloraxis\":{\"colorbar\":{\"outlinewidth\":0,\"ticks\":\"\"}},\"colorscale\":{\"sequential\":[[0.0,\"#0d0887\"],[0.1111111111111111,\"#46039f\"],[0.2222222222222222,\"#7201a8\"],[0.3333333333333333,\"#9c179e\"],[0.4444444444444444,\"#bd3786\"],[0.5555555555555556,\"#d8576b\"],[0.6666666666666666,\"#ed7953\"],[0.7777777777777778,\"#fb9f3a\"],[0.8888888888888888,\"#fdca26\"],[1.0,\"#f0f921\"]],\"sequentialminus\":[[0.0,\"#0d0887\"],[0.1111111111111111,\"#46039f\"],[0.2222222222222222,\"#7201a8\"],[0.3333333333333333,\"#9c179e\"],[0.4444444444444444,\"#bd3786\"],[0.5555555555555556,\"#d8576b\"],[0.6666666666666666,\"#ed7953\"],[0.7777777777777778,\"#fb9f3a\"],[0.8888888888888888,\"#fdca26\"],[1.0,\"#f0f921\"]],\"diverging\":[[0,\"#8e0152\"],[0.1,\"#c51b7d\"],[0.2,\"#de77ae\"],[0.3,\"#f1b6da\"],[0.4,\"#fde0ef\"],[0.5,\"#f7f7f7\"],[0.6,\"#e6f5d0\"],[0.7,\"#b8e186\"],[0.8,\"#7fbc41\"],[0.9,\"#4d9221\"],[1,\"#276419\"]]},\"xaxis\":{\"gridcolor\":\"white\",\"linecolor\":\"white\",\"ticks\":\"\",\"title\":{\"standoff\":15},\"zerolinecolor\":\"white\",\"automargin\":true,\"zerolinewidth\":2},\"yaxis\":{\"gridcolor\":\"white\",\"linecolor\":\"white\",\"ticks\":\"\",\"title\":{\"standoff\":15},\"zerolinecolor\":\"white\",\"automargin\":true,\"zerolinewidth\":2},\"scene\":{\"xaxis\":{\"backgroundcolor\":\"#E5ECF6\",\"gridcolor\":\"white\",\"linecolor\":\"white\",\"showbackground\":true,\"ticks\":\"\",\"zerolinecolor\":\"white\",\"gridwidth\":2},\"yaxis\":{\"backgroundcolor\":\"#E5ECF6\",\"gridcolor\":\"white\",\"linecolor\":\"white\",\"showbackground\":true,\"ticks\":\"\",\"zerolinecolor\":\"white\",\"gridwidth\":2},\"zaxis\":{\"backgroundcolor\":\"#E5ECF6\",\"gridcolor\":\"white\",\"linecolor\":\"white\",\"showbackground\":true,\"ticks\":\"\",\"zerolinecolor\":\"white\",\"gridwidth\":2}},\"shapedefaults\":{\"line\":{\"color\":\"#2a3f5f\"}},\"annotationdefaults\":{\"arrowcolor\":\"#2a3f5f\",\"arrowhead\":0,\"arrowwidth\":1},\"geo\":{\"bgcolor\":\"white\",\"landcolor\":\"#E5ECF6\",\"subunitcolor\":\"white\",\"showland\":true,\"showlakes\":true,\"lakecolor\":\"white\"},\"title\":{\"x\":0.05},\"mapbox\":{\"style\":\"light\"},\"margin\":{\"b\":0,\"l\":0,\"r\":0,\"t\":30}}},\"scene\":{\"xaxis\":{\"title\":{\"text\":\"Vodka\"},\"range\":[0,1]},\"yaxis\":{\"title\":{\"text\":\"Rum\"},\"range\":[0,1]},\"zaxis\":{\"title\":{\"text\":\"Tomatensaft\"},\"range\":[0,1]}},\"title\":{\"text\":\"3D Diagram der Cocktails\"}},                        {\"responsive\": true}                    ).then(function(){\n",
       "                            \n",
       "var gd = document.getElementById('b6373804-192d-4e14-b337-c9f8ed148f60');\n",
       "var x = new MutationObserver(function (mutations, observer) {{\n",
       "        var display = window.getComputedStyle(gd).display;\n",
       "        if (!display || display === 'none') {{\n",
       "            console.log([gd, 'removed!']);\n",
       "            Plotly.purge(gd);\n",
       "            observer.disconnect();\n",
       "        }}\n",
       "}});\n",
       "\n",
       "// Listen for the removal of the full notebook cells\n",
       "var notebookContainer = gd.closest('#notebook-container');\n",
       "if (notebookContainer) {{\n",
       "    x.observe(notebookContainer, {childList: true});\n",
       "}}\n",
       "\n",
       "// Listen for the clearing of the current output cell\n",
       "var outputEl = gd.closest('.output');\n",
       "if (outputEl) {{\n",
       "    x.observe(outputEl, {childList: true});\n",
       "}}\n",
       "\n",
       "                        })                };                });            </script>        </div>"
      ]
     },
     "metadata": {},
     "output_type": "display_data"
    }
   ],
   "source": [
    "# Ingredients 100 ml vodka, 100 ml rum, 100 ml tomato juice\n",
    "zutaten_3 = np.array([1, 1, 1])\n",
    "\n",
    "# Rezepte (in ml)\n",
    "\n",
    "bloody_mary_rezept = np.array([20, 0, 80])\n",
    "rum_pure_rezept = np.array([0, 50, 0])\n",
    "crazy_rezept = np.array([40, 40, 20])\n",
    "\n",
    "alle_rezepte = np.stack([\n",
    "    bloody_mary_rezept,\n",
    "    rum_pure_rezept,\n",
    "    crazy_rezept\n",
    "])\n",
    "\n",
    "rezept_namen = [\n",
    "    \"Bloody Mary Rezept\",\n",
    "    \"Rum Pure Rezept\",\n",
    "    \"Crazy Cocktail Rezept\"\n",
    "]\n",
    "\n",
    "cocktail_colors = [\n",
    "    \"firebrick\",\n",
    "    \"steelblue\",\n",
    "    \"orange\"\n",
    "]\n",
    "\n",
    "# Create a 3D scatter plot with plotly showing the rows of all_cocktails as vectors \n",
    "\n",
    "fig = go.Figure()\n",
    "\n",
    "# Add each cocktail as a vector\n",
    "for i, cocktail in enumerate(alle_rezepte):\n",
    "    fig.add_trace(go.Scatter3d(\n",
    "        x=[0, cocktail[0]],  # Start at origin (0, 0, 0)\n",
    "        y=[0, cocktail[1]],\n",
    "        z=[0, cocktail[2]],\n",
    "        mode='lines+markers',\n",
    "        name=rezept_namen[i],\n",
    "        line=dict(color=cocktail_colors[i], width=5),\n",
    "        marker=dict(size=5)\n",
    "    ))\n",
    "\n",
    "# Set plot layout\n",
    "fig.update_layout(\n",
    "    title=\"3D Diagram der Cocktails\",\n",
    "    scene=dict(\n",
    "        xaxis=dict(\n",
    "            title=\"Vodka\",\n",
    "            range=[0, 1]\n",
    "        ),\n",
    "        yaxis=dict(\n",
    "            title=\"Rum\",\n",
    "            range=[0, 1]\n",
    "        ),\n",
    "        zaxis=dict(\n",
    "            title=\"Tomatensaft\",\n",
    "            range=[0, 1]\n",
    "        )\n",
    "    )\n",
    ")\n",
    "\n",
    "# Show the plot\n",
    "fig.show()"
   ]
  },
  {
   "cell_type": "markdown",
   "id": "3313b443",
   "metadata": {},
   "source": [
    "## Modifikation von Rezepten\n"
   ]
  },
  {
   "cell_type": "code",
   "execution_count": 13,
   "id": "96613d91",
   "metadata": {},
   "outputs": [],
   "source": [
    "\n",
    "# Nimm die Zutaten, erhöhe die erste Zutat (Vodka) um 20 Prozent, ignoriere alle anderen Zutaten\n",
    "nimm_den_vodka_verdoppele_ihn_und_ignoriere_den_rest = np.array([2, 0, 0])\n",
    "\n",
    "# Nimm die zweite Zutat (Rum), verändere die Menge nicht, ignoriere alle anderen Zutaten\n",
    "nimm_nur_den_rum_so_wie_er_ist = np.array([0, 1, 0])\n",
    "\n",
    "# Nimm die dritte Zutat (Tomato Juice), verändere die Menge nicht, ignoriere alle anderen Zutaten\n",
    "nimm_den_tomatensaft_so_wie_er_ist = np.array([0, 0, 1])"
   ]
  },
  {
   "cell_type": "code",
   "execution_count": 14,
   "id": "1b8b3f36",
   "metadata": {},
   "outputs": [
    {
     "data": {
      "text/plain": [
       "array([[2, 0, 0],\n",
       "       [0, 1, 0],\n",
       "       [0, 0, 1]])"
      ]
     },
     "execution_count": 14,
     "metadata": {},
     "output_type": "execute_result"
    }
   ],
   "source": [
    "verdoppele_den_vodka_im_rezept = np.stack([\n",
    "    nimm_den_vodka_verdoppele_ihn_und_ignoriere_den_rest,\n",
    "    nimm_nur_den_rum_so_wie_er_ist,\n",
    "    nimm_den_tomatensaft_so_wie_er_ist\n",
    "])\n",
    "\n",
    "verdoppele_den_vodka_im_rezept"
   ]
  },
  {
   "cell_type": "code",
   "execution_count": 15,
   "id": "de845f1b",
   "metadata": {},
   "outputs": [
    {
     "name": "stdout",
     "output_type": "stream",
     "text": [
      "[[20  0 80]\n",
      " [ 0 50  0]\n",
      " [40 40 20]]\n"
     ]
    },
    {
     "data": {
      "text/plain": [
       "array([[40,  0, 80],\n",
       "       [ 0, 50,  0],\n",
       "       [80, 40, 20]])"
      ]
     },
     "execution_count": 15,
     "metadata": {},
     "output_type": "execute_result"
    }
   ],
   "source": [
    "modifizierte_rezepte = verdoppele_den_vodka_im_rezept @ alle_rezepte.T\n",
    "print(alle_rezepte)\n",
    "modifizierte_rezepte.T"
   ]
  },
  {
   "cell_type": "code",
   "execution_count": 16,
   "id": "db8120c6",
   "metadata": {},
   "outputs": [
    {
     "data": {
      "text/html": [
       "<div>                            <div id=\"6218bc37-d40a-4df5-aa31-12fe8f788d0b\" class=\"plotly-graph-div\" style=\"height:525px; width:100%;\"></div>            <script type=\"text/javascript\">                require([\"plotly\"], function(Plotly) {                    window.PLOTLYENV=window.PLOTLYENV || {};                                    if (document.getElementById(\"6218bc37-d40a-4df5-aa31-12fe8f788d0b\")) {                    Plotly.newPlot(                        \"6218bc37-d40a-4df5-aa31-12fe8f788d0b\",                        [{\"line\":{\"color\":\"firebrick\",\"width\":5},\"marker\":{\"size\":5},\"mode\":\"lines+markers\",\"name\":\"Bloody Mary Rezept\",\"x\":[0,20],\"y\":[0,0],\"z\":[0,80],\"type\":\"scatter3d\"},{\"line\":{\"color\":\"steelblue\",\"width\":5},\"marker\":{\"size\":5},\"mode\":\"lines+markers\",\"name\":\"Rum Pure Rezept\",\"x\":[0,0],\"y\":[0,50],\"z\":[0,0],\"type\":\"scatter3d\"},{\"line\":{\"color\":\"orange\",\"width\":5},\"marker\":{\"size\":5},\"mode\":\"lines+markers\",\"name\":\"Crazy Cocktail Rezept\",\"x\":[0,40],\"y\":[0,40],\"z\":[0,20],\"type\":\"scatter3d\"},{\"line\":{\"color\":\"firebrick\",\"dash\":\"dash\",\"width\":5},\"marker\":{\"size\":5},\"mode\":\"lines+markers\",\"name\":\"Bloody Mary Rezept modifiziert\",\"x\":[0,40],\"y\":[0,0],\"z\":[0,80],\"type\":\"scatter3d\"},{\"line\":{\"color\":\"steelblue\",\"dash\":\"dash\",\"width\":5},\"marker\":{\"size\":5},\"mode\":\"lines+markers\",\"name\":\"Rum Pure Rezept modifiziert\",\"x\":[0,0],\"y\":[0,50],\"z\":[0,0],\"type\":\"scatter3d\"},{\"line\":{\"color\":\"orange\",\"dash\":\"dash\",\"width\":5},\"marker\":{\"size\":5},\"mode\":\"lines+markers\",\"name\":\"Crazy Cocktail Rezept modifiziert\",\"x\":[0,80],\"y\":[0,40],\"z\":[0,20],\"type\":\"scatter3d\"}],                        {\"template\":{\"data\":{\"histogram2dcontour\":[{\"type\":\"histogram2dcontour\",\"colorbar\":{\"outlinewidth\":0,\"ticks\":\"\"},\"colorscale\":[[0.0,\"#0d0887\"],[0.1111111111111111,\"#46039f\"],[0.2222222222222222,\"#7201a8\"],[0.3333333333333333,\"#9c179e\"],[0.4444444444444444,\"#bd3786\"],[0.5555555555555556,\"#d8576b\"],[0.6666666666666666,\"#ed7953\"],[0.7777777777777778,\"#fb9f3a\"],[0.8888888888888888,\"#fdca26\"],[1.0,\"#f0f921\"]]}],\"choropleth\":[{\"type\":\"choropleth\",\"colorbar\":{\"outlinewidth\":0,\"ticks\":\"\"}}],\"histogram2d\":[{\"type\":\"histogram2d\",\"colorbar\":{\"outlinewidth\":0,\"ticks\":\"\"},\"colorscale\":[[0.0,\"#0d0887\"],[0.1111111111111111,\"#46039f\"],[0.2222222222222222,\"#7201a8\"],[0.3333333333333333,\"#9c179e\"],[0.4444444444444444,\"#bd3786\"],[0.5555555555555556,\"#d8576b\"],[0.6666666666666666,\"#ed7953\"],[0.7777777777777778,\"#fb9f3a\"],[0.8888888888888888,\"#fdca26\"],[1.0,\"#f0f921\"]]}],\"heatmap\":[{\"type\":\"heatmap\",\"colorbar\":{\"outlinewidth\":0,\"ticks\":\"\"},\"colorscale\":[[0.0,\"#0d0887\"],[0.1111111111111111,\"#46039f\"],[0.2222222222222222,\"#7201a8\"],[0.3333333333333333,\"#9c179e\"],[0.4444444444444444,\"#bd3786\"],[0.5555555555555556,\"#d8576b\"],[0.6666666666666666,\"#ed7953\"],[0.7777777777777778,\"#fb9f3a\"],[0.8888888888888888,\"#fdca26\"],[1.0,\"#f0f921\"]]}],\"heatmapgl\":[{\"type\":\"heatmapgl\",\"colorbar\":{\"outlinewidth\":0,\"ticks\":\"\"},\"colorscale\":[[0.0,\"#0d0887\"],[0.1111111111111111,\"#46039f\"],[0.2222222222222222,\"#7201a8\"],[0.3333333333333333,\"#9c179e\"],[0.4444444444444444,\"#bd3786\"],[0.5555555555555556,\"#d8576b\"],[0.6666666666666666,\"#ed7953\"],[0.7777777777777778,\"#fb9f3a\"],[0.8888888888888888,\"#fdca26\"],[1.0,\"#f0f921\"]]}],\"contourcarpet\":[{\"type\":\"contourcarpet\",\"colorbar\":{\"outlinewidth\":0,\"ticks\":\"\"}}],\"contour\":[{\"type\":\"contour\",\"colorbar\":{\"outlinewidth\":0,\"ticks\":\"\"},\"colorscale\":[[0.0,\"#0d0887\"],[0.1111111111111111,\"#46039f\"],[0.2222222222222222,\"#7201a8\"],[0.3333333333333333,\"#9c179e\"],[0.4444444444444444,\"#bd3786\"],[0.5555555555555556,\"#d8576b\"],[0.6666666666666666,\"#ed7953\"],[0.7777777777777778,\"#fb9f3a\"],[0.8888888888888888,\"#fdca26\"],[1.0,\"#f0f921\"]]}],\"surface\":[{\"type\":\"surface\",\"colorbar\":{\"outlinewidth\":0,\"ticks\":\"\"},\"colorscale\":[[0.0,\"#0d0887\"],[0.1111111111111111,\"#46039f\"],[0.2222222222222222,\"#7201a8\"],[0.3333333333333333,\"#9c179e\"],[0.4444444444444444,\"#bd3786\"],[0.5555555555555556,\"#d8576b\"],[0.6666666666666666,\"#ed7953\"],[0.7777777777777778,\"#fb9f3a\"],[0.8888888888888888,\"#fdca26\"],[1.0,\"#f0f921\"]]}],\"mesh3d\":[{\"type\":\"mesh3d\",\"colorbar\":{\"outlinewidth\":0,\"ticks\":\"\"}}],\"scatter\":[{\"fillpattern\":{\"fillmode\":\"overlay\",\"size\":10,\"solidity\":0.2},\"type\":\"scatter\"}],\"parcoords\":[{\"type\":\"parcoords\",\"line\":{\"colorbar\":{\"outlinewidth\":0,\"ticks\":\"\"}}}],\"scatterpolargl\":[{\"type\":\"scatterpolargl\",\"marker\":{\"colorbar\":{\"outlinewidth\":0,\"ticks\":\"\"}}}],\"bar\":[{\"error_x\":{\"color\":\"#2a3f5f\"},\"error_y\":{\"color\":\"#2a3f5f\"},\"marker\":{\"line\":{\"color\":\"#E5ECF6\",\"width\":0.5},\"pattern\":{\"fillmode\":\"overlay\",\"size\":10,\"solidity\":0.2}},\"type\":\"bar\"}],\"scattergeo\":[{\"type\":\"scattergeo\",\"marker\":{\"colorbar\":{\"outlinewidth\":0,\"ticks\":\"\"}}}],\"scatterpolar\":[{\"type\":\"scatterpolar\",\"marker\":{\"colorbar\":{\"outlinewidth\":0,\"ticks\":\"\"}}}],\"histogram\":[{\"marker\":{\"pattern\":{\"fillmode\":\"overlay\",\"size\":10,\"solidity\":0.2}},\"type\":\"histogram\"}],\"scattergl\":[{\"type\":\"scattergl\",\"marker\":{\"colorbar\":{\"outlinewidth\":0,\"ticks\":\"\"}}}],\"scatter3d\":[{\"type\":\"scatter3d\",\"line\":{\"colorbar\":{\"outlinewidth\":0,\"ticks\":\"\"}},\"marker\":{\"colorbar\":{\"outlinewidth\":0,\"ticks\":\"\"}}}],\"scattermapbox\":[{\"type\":\"scattermapbox\",\"marker\":{\"colorbar\":{\"outlinewidth\":0,\"ticks\":\"\"}}}],\"scatterternary\":[{\"type\":\"scatterternary\",\"marker\":{\"colorbar\":{\"outlinewidth\":0,\"ticks\":\"\"}}}],\"scattercarpet\":[{\"type\":\"scattercarpet\",\"marker\":{\"colorbar\":{\"outlinewidth\":0,\"ticks\":\"\"}}}],\"carpet\":[{\"aaxis\":{\"endlinecolor\":\"#2a3f5f\",\"gridcolor\":\"white\",\"linecolor\":\"white\",\"minorgridcolor\":\"white\",\"startlinecolor\":\"#2a3f5f\"},\"baxis\":{\"endlinecolor\":\"#2a3f5f\",\"gridcolor\":\"white\",\"linecolor\":\"white\",\"minorgridcolor\":\"white\",\"startlinecolor\":\"#2a3f5f\"},\"type\":\"carpet\"}],\"table\":[{\"cells\":{\"fill\":{\"color\":\"#EBF0F8\"},\"line\":{\"color\":\"white\"}},\"header\":{\"fill\":{\"color\":\"#C8D4E3\"},\"line\":{\"color\":\"white\"}},\"type\":\"table\"}],\"barpolar\":[{\"marker\":{\"line\":{\"color\":\"#E5ECF6\",\"width\":0.5},\"pattern\":{\"fillmode\":\"overlay\",\"size\":10,\"solidity\":0.2}},\"type\":\"barpolar\"}],\"pie\":[{\"automargin\":true,\"type\":\"pie\"}]},\"layout\":{\"autotypenumbers\":\"strict\",\"colorway\":[\"#636efa\",\"#EF553B\",\"#00cc96\",\"#ab63fa\",\"#FFA15A\",\"#19d3f3\",\"#FF6692\",\"#B6E880\",\"#FF97FF\",\"#FECB52\"],\"font\":{\"color\":\"#2a3f5f\"},\"hovermode\":\"closest\",\"hoverlabel\":{\"align\":\"left\"},\"paper_bgcolor\":\"white\",\"plot_bgcolor\":\"#E5ECF6\",\"polar\":{\"bgcolor\":\"#E5ECF6\",\"angularaxis\":{\"gridcolor\":\"white\",\"linecolor\":\"white\",\"ticks\":\"\"},\"radialaxis\":{\"gridcolor\":\"white\",\"linecolor\":\"white\",\"ticks\":\"\"}},\"ternary\":{\"bgcolor\":\"#E5ECF6\",\"aaxis\":{\"gridcolor\":\"white\",\"linecolor\":\"white\",\"ticks\":\"\"},\"baxis\":{\"gridcolor\":\"white\",\"linecolor\":\"white\",\"ticks\":\"\"},\"caxis\":{\"gridcolor\":\"white\",\"linecolor\":\"white\",\"ticks\":\"\"}},\"coloraxis\":{\"colorbar\":{\"outlinewidth\":0,\"ticks\":\"\"}},\"colorscale\":{\"sequential\":[[0.0,\"#0d0887\"],[0.1111111111111111,\"#46039f\"],[0.2222222222222222,\"#7201a8\"],[0.3333333333333333,\"#9c179e\"],[0.4444444444444444,\"#bd3786\"],[0.5555555555555556,\"#d8576b\"],[0.6666666666666666,\"#ed7953\"],[0.7777777777777778,\"#fb9f3a\"],[0.8888888888888888,\"#fdca26\"],[1.0,\"#f0f921\"]],\"sequentialminus\":[[0.0,\"#0d0887\"],[0.1111111111111111,\"#46039f\"],[0.2222222222222222,\"#7201a8\"],[0.3333333333333333,\"#9c179e\"],[0.4444444444444444,\"#bd3786\"],[0.5555555555555556,\"#d8576b\"],[0.6666666666666666,\"#ed7953\"],[0.7777777777777778,\"#fb9f3a\"],[0.8888888888888888,\"#fdca26\"],[1.0,\"#f0f921\"]],\"diverging\":[[0,\"#8e0152\"],[0.1,\"#c51b7d\"],[0.2,\"#de77ae\"],[0.3,\"#f1b6da\"],[0.4,\"#fde0ef\"],[0.5,\"#f7f7f7\"],[0.6,\"#e6f5d0\"],[0.7,\"#b8e186\"],[0.8,\"#7fbc41\"],[0.9,\"#4d9221\"],[1,\"#276419\"]]},\"xaxis\":{\"gridcolor\":\"white\",\"linecolor\":\"white\",\"ticks\":\"\",\"title\":{\"standoff\":15},\"zerolinecolor\":\"white\",\"automargin\":true,\"zerolinewidth\":2},\"yaxis\":{\"gridcolor\":\"white\",\"linecolor\":\"white\",\"ticks\":\"\",\"title\":{\"standoff\":15},\"zerolinecolor\":\"white\",\"automargin\":true,\"zerolinewidth\":2},\"scene\":{\"xaxis\":{\"backgroundcolor\":\"#E5ECF6\",\"gridcolor\":\"white\",\"linecolor\":\"white\",\"showbackground\":true,\"ticks\":\"\",\"zerolinecolor\":\"white\",\"gridwidth\":2},\"yaxis\":{\"backgroundcolor\":\"#E5ECF6\",\"gridcolor\":\"white\",\"linecolor\":\"white\",\"showbackground\":true,\"ticks\":\"\",\"zerolinecolor\":\"white\",\"gridwidth\":2},\"zaxis\":{\"backgroundcolor\":\"#E5ECF6\",\"gridcolor\":\"white\",\"linecolor\":\"white\",\"showbackground\":true,\"ticks\":\"\",\"zerolinecolor\":\"white\",\"gridwidth\":2}},\"shapedefaults\":{\"line\":{\"color\":\"#2a3f5f\"}},\"annotationdefaults\":{\"arrowcolor\":\"#2a3f5f\",\"arrowhead\":0,\"arrowwidth\":1},\"geo\":{\"bgcolor\":\"white\",\"landcolor\":\"#E5ECF6\",\"subunitcolor\":\"white\",\"showland\":true,\"showlakes\":true,\"lakecolor\":\"white\"},\"title\":{\"x\":0.05},\"mapbox\":{\"style\":\"light\"},\"margin\":{\"b\":0,\"l\":0,\"r\":0,\"t\":30}}},\"scene\":{\"xaxis\":{\"title\":{\"text\":\"Vodka\"},\"range\":[0,1]},\"yaxis\":{\"title\":{\"text\":\"Rum\"},\"range\":[0,1]},\"zaxis\":{\"title\":{\"text\":\"Tomatensaft\"},\"range\":[0,1]}},\"title\":{\"text\":\"3D Diagram der Cocktails: die originalen Rezepte und die modifizierten Rezepte\"}},                        {\"responsive\": true}                    ).then(function(){\n",
       "                            \n",
       "var gd = document.getElementById('6218bc37-d40a-4df5-aa31-12fe8f788d0b');\n",
       "var x = new MutationObserver(function (mutations, observer) {{\n",
       "        var display = window.getComputedStyle(gd).display;\n",
       "        if (!display || display === 'none') {{\n",
       "            console.log([gd, 'removed!']);\n",
       "            Plotly.purge(gd);\n",
       "            observer.disconnect();\n",
       "        }}\n",
       "}});\n",
       "\n",
       "// Listen for the removal of the full notebook cells\n",
       "var notebookContainer = gd.closest('#notebook-container');\n",
       "if (notebookContainer) {{\n",
       "    x.observe(notebookContainer, {childList: true});\n",
       "}}\n",
       "\n",
       "// Listen for the clearing of the current output cell\n",
       "var outputEl = gd.closest('.output');\n",
       "if (outputEl) {{\n",
       "    x.observe(outputEl, {childList: true});\n",
       "}}\n",
       "\n",
       "                        })                };                });            </script>        </div>"
      ]
     },
     "metadata": {},
     "output_type": "display_data"
    }
   ],
   "source": [
    "# Create a 3D scatter plot with plotly showing the rows of all_cocktails as vectors \n",
    "\n",
    "# Add each cocktail as a vector\n",
    "for i, cocktail in enumerate(modifizierte_rezepte.T):\n",
    "    fig.add_trace(go.Scatter3d(\n",
    "        x=[0, cocktail[0]],  # Start at origin (0, 0, 0)\n",
    "        y=[0, cocktail[1]],\n",
    "        z=[0, cocktail[2]],\n",
    "        mode='lines+markers',\n",
    "        name=f\"{rezept_namen[i]} modifiziert\",\n",
    "        line=dict(color=cocktail_colors[i], width=5, dash='dash'),\n",
    "        marker=dict(size=5)\n",
    "    ))\n",
    "\n",
    "fig.update_layout(\n",
    "    title = \"3D Diagram der Cocktails: die originalen Rezepte und die modifizierten Rezepte\",\n",
    ")\n",
    "# Show the plot\n",
    "fig.show()"
   ]
  },
  {
   "cell_type": "code",
   "execution_count": 17,
   "id": "c882eaf4",
   "metadata": {},
   "outputs": [
    {
     "data": {
      "text/plain": [
       "array([40,  0, 80])"
      ]
     },
     "execution_count": 17,
     "metadata": {},
     "output_type": "execute_result"
    }
   ],
   "source": [
    "bloody_mary_mit_doppelt_vodka_rezept = verdoppele_den_vodka_im_rezept @ bloody_mary_rezept\n",
    "bloody_mary_mit_doppelt_vodka_rezept"
   ]
  },
  {
   "cell_type": "code",
   "execution_count": 18,
   "id": "acc686f7",
   "metadata": {},
   "outputs": [
    {
     "data": {
      "text/plain": [
       "array([80, 40, 20])"
      ]
     },
     "execution_count": 18,
     "metadata": {},
     "output_type": "execute_result"
    }
   ],
   "source": [
    "crazy_mit_doppelt_vodka_rezept = crazy_rezept @ verdoppele_den_vodka_im_rezept\n",
    "crazy_mit_doppelt_vodka_rezept"
   ]
  },
  {
   "cell_type": "code",
   "execution_count": 19,
   "id": "b41eff3c",
   "metadata": {},
   "outputs": [
    {
     "data": {
      "text/plain": [
       "array([[0, 0, 1],\n",
       "       [0, 1, 0],\n",
       "       [1, 0, 0]])"
      ]
     },
     "execution_count": 19,
     "metadata": {},
     "output_type": "execute_result"
    }
   ],
   "source": [
    "switch_vodka_and_tomato = np.array([\n",
    "    [0, 0, 1],\n",
    "    [0, 1, 0],\n",
    "    [1, 0, 0]\n",
    "])\n",
    "switch_vodka_and_tomato"
   ]
  }
 ],
 "metadata": {
  "kernelspec": {
   "display_name": "Python 3",
   "language": "python",
   "name": "python3"
  },
  "language_info": {
   "codemirror_mode": {
    "name": "ipython",
    "version": 3
   },
   "file_extension": ".py",
   "mimetype": "text/x-python",
   "name": "python",
   "nbconvert_exporter": "python",
   "pygments_lexer": "ipython3",
   "version": "3.11.11"
  }
 },
 "nbformat": 4,
 "nbformat_minor": 5
}
