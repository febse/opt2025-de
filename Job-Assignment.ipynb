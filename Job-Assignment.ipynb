{
 "cells": [
  {
   "cell_type": "markdown",
   "metadata": {},
   "source": [
    "# Aufgabenzuteilung\n",
    "\n",
    "Open in Colab: [![Open in Colab](https://colab.research.google.com/assets/colab-badge.svg)](https://colab.research.google.com/github/febse/opt2025-de/blob/main/Job-Assignment.ipynb)\n",
    "\n",
    "Eine Kreditratingagentur hat drei Mitarbeiter für ein Projekt zur Bewertung von strukturierten Finanzprodukten eingeteilt. Das Projekt hat drei wesentliche Unterprojekte: \n",
    "\n",
    "- Entwicklung von statistischen Modellen (Quantitativ)\n",
    "- Recherche von Finanzprodukten, Literatur und Marktinformationen (Recherche)\n",
    "- Entwicklung von qualitativen Modellen (Qualitativ)\n",
    "\n",
    "Jeder Mitarbeiter muss ein Unterprojekt übernehmen. Die Mitarbeiter haben unterschiedliche Fähigkeiten und Präferenzen, die ihre Effizienz in den verschiedenen Unterprojekten beeinflussen. Die Effizienz der Mitarbeiter in den verschiedenen Unterprojekten ist wie folgt (größerer Wert bedeutet höhere Effizienz):"
   ]
  },
  {
   "cell_type": "code",
   "execution_count": null,
   "metadata": {},
   "outputs": [
    {
     "name": "stdout",
     "output_type": "stream",
     "text": [
      "Requirement already satisfied: gurobipy in /home/amarov/miniconda3/envs/opt2025-de/lib/python3.11/site-packages (12.0.1)\n",
      "Note: you may need to restart the kernel to use updated packages.\n"
     ]
    },
    {
     "data": {
      "application/vnd.microsoft.datawrangler.viewer.v0+json": {
       "columns": [
        {
         "name": "index",
         "rawType": "object",
         "type": "string"
        },
        {
         "name": "Quantitativ",
         "rawType": "int64",
         "type": "integer"
        },
        {
         "name": "Recherche",
         "rawType": "int64",
         "type": "integer"
        },
        {
         "name": "Qualitativ",
         "rawType": "int64",
         "type": "integer"
        }
       ],
       "conversionMethod": "pd.DataFrame",
       "ref": "36ca14cb-4052-4350-b107-5deb1db3be48",
       "rows": [
        [
         "Boyko",
         "53",
         "80",
         "53"
        ],
        [
         "Sasho",
         "27",
         "47",
         "73"
        ],
        [
         "Radi",
         "13",
         "67",
         "47"
        ]
       ],
       "shape": {
        "columns": 3,
        "rows": 3
       }
      },
      "text/html": [
       "<div>\n",
       "<style scoped>\n",
       "    .dataframe tbody tr th:only-of-type {\n",
       "        vertical-align: middle;\n",
       "    }\n",
       "\n",
       "    .dataframe tbody tr th {\n",
       "        vertical-align: top;\n",
       "    }\n",
       "\n",
       "    .dataframe thead th {\n",
       "        text-align: right;\n",
       "    }\n",
       "</style>\n",
       "<table border=\"1\" class=\"dataframe\">\n",
       "  <thead>\n",
       "    <tr style=\"text-align: right;\">\n",
       "      <th></th>\n",
       "      <th>Quantitativ</th>\n",
       "      <th>Recherche</th>\n",
       "      <th>Qualitativ</th>\n",
       "    </tr>\n",
       "  </thead>\n",
       "  <tbody>\n",
       "    <tr>\n",
       "      <th>Boyko</th>\n",
       "      <td>53</td>\n",
       "      <td>80</td>\n",
       "      <td>53</td>\n",
       "    </tr>\n",
       "    <tr>\n",
       "      <th>Sasho</th>\n",
       "      <td>27</td>\n",
       "      <td>47</td>\n",
       "      <td>73</td>\n",
       "    </tr>\n",
       "    <tr>\n",
       "      <th>Radi</th>\n",
       "      <td>13</td>\n",
       "      <td>67</td>\n",
       "      <td>47</td>\n",
       "    </tr>\n",
       "  </tbody>\n",
       "</table>\n",
       "</div>"
      ],
      "text/plain": [
       "       Quantitativ  Recherche  Qualitativ\n",
       "Boyko           53         80          53\n",
       "Sasho           27         47          73\n",
       "Radi            13         67          47"
      ]
     },
     "execution_count": 35,
     "metadata": {},
     "output_type": "execute_result"
    }
   ],
   "source": [
    "%pip install gurobipy\n",
    "\n",
    "import pandas as pd\n",
    "import gurobipy as gp\n",
    "from gurobipy import GRB\n",
    "\n",
    "dt = pd.DataFrame({\n",
    "    'Quantitativ': [53, 27, 13],\n",
    "    'Recherche': [80, 47, 67],\n",
    "    'Qualitativ': [53, 73, 47]\n",
    "}, index=['Boyko', 'Sasho', 'Radi'])\n",
    "dt"
   ]
  },
  {
   "cell_type": "markdown",
   "metadata": {},
   "source": [
    "Unsere Aufgabe ist es, die Mitarbeiter so zuzuweisen, dass die Gesamteffizienz maximiert wird.\n"
   ]
  },
  {
   "cell_type": "markdown",
   "metadata": {},
   "source": [
    "## Das Modell\n",
    "\n",
    "Jedes Modell besteht aus fünf Bestandteilen:\n",
    "\n",
    "1. Mengen\n",
    "2. Variablen\n",
    "3. Parameter\n",
    "4. Zielfunktion\n",
    "5. Einschränkungen\n",
    "\n",
    "In dieser Aufgabe haben wir zwei Mengen:\n",
    "\n",
    "- Mitarbeiter ($M = \\{\\text{Boyko}, \\text{Sasho}, \\text{Radi}\\}$)\n",
    "- Unterprojekte ($P = \\{\\text{Quantitativ}, \\text{Recherche}, \\text{Qualitativ}\\}$)\n",
    "\n",
    "Die Zielvariablen sind:\n",
    "\n",
    "$x_{ij} \\in \\{0, 1\\}$: 1, wenn Mitarbeiter $i$ Unterprojekt $j$ übernimmt, 0 sonst (also binäre Variablen)\n",
    "\n",
    "Die Parameter sind hier die Effizienz der Mitarbeiter in den verschiedenen Unterprojekten:\n",
    "\n",
    "$e_{ij}$: Effizienz von Mitarbeiter $i$ in Unterprojekt $j$\n",
    "\n",
    "Die Zielfunktion ist die Gesamteffizienz:\n",
    "\n",
    "$\\max \\sum_{i \\in M} \\sum_{j \\in P} e_{ij} \\cdot x_{ij}$\n",
    "\n",
    "Das ist eine Kurzform für:\n",
    "\n",
    "$$\n",
    "\\begin{align*}\n",
    "\\max & \\quad e_{\\text{Boyko}, \\text{Quantitativ}} \\cdot x_{\\text{Boyko}, \\text{Quantitativ}} + e_{\\text{Boyko}, \\text{Recherche}} \\cdot x_{\\text{Boyko}, \\text{Recherche}} + e_{\\text{Boyko}, \\text{Qualitativ}} \\cdot x_{\\text{Boyko}, \\text{Qualitativ}} \\\\\n",
    "& + e_{\\text{Sasho}, \\text{Quantitativ}} \\cdot x_{\\text{Sasho}, \\text{Quantitativ}} + e_{\\text{Sasho}, \\text{Recherche}} \\cdot x_{\\text{Sasho}, \\text{Recherche}} + e_{\\text{Sasho}, \\text{Qualitativ}} \\cdot x_{\\text{Sasho}, \\text{Qualitativ}} \\\\\n",
    "& + e_{\\text{Radi}, \\text{Quantitativ}} \\cdot x_{\\text{Radi}, \\text{Quantitativ}} + e_{\\text{Radi}, \\text{Recherche}} \\cdot x_{\\text{Radi}, \\text{Recherche}} + e_{\\text{Radi}, \\text{Qualitativ}} \\cdot x_{\\text{Radi}, \\text{Qualitativ}}\n",
    "\\end{align*}\n",
    "$$\n",
    "\n",
    "Die Einschränkungen sind:\n",
    "\n",
    "1. Jeder Mitarbeiter muss genau ein Unterprojekt übernehmen:\n",
    "\n",
    "$\\sum_{j \\in P} x_{ij} = 1 \\quad \\forall i \\in M$\n",
    "\n",
    "Dies ist eine Kurzform für:\n",
    "\n",
    "$$\n",
    "\\begin{align*}\n",
    "i = \\text{Boyko} & \\quad \\Rightarrow \\quad x_{\\text{Boyko}, \\text{Quantitativ}} + x_{\\text{Boyko}, \\text{Recherche}} + x_{\\text{Boyko}, \\text{Qualitativ}} = 1 \\\\\n",
    "i = \\text{Sasho} & \\quad \\Rightarrow \\quad x_{\\text{Sasho}, \\text{Quantitativ}} + x_{\\text{Sasho}, \\text{Recherche}} + x_{\\text{Sasho}, \\text{Qualitativ}} = 1 \\\\\n",
    "i = \\text{Radi} & \\quad \\Rightarrow \\quad x_{\\text{Radi}, \\text{Quantitativ}} + x_{\\text{Radi}, \\text{Recherche}} + x_{\\text{Radi}, \\text{Qualitativ}} = 1 \\\\\n",
    "\\end{align*}\n",
    "$$\n",
    "\n",
    "2. Jedes Unterprojekt muss von genau einem Mitarbeiter übernommen werden:\n",
    "\n",
    "$\\sum_{i \\in M} x_{ij} = 1 \\quad \\forall j \\in P$\n",
    "\n",
    "Dies ist eine Kurzform für:\n",
    "\n",
    "$$\n",
    "\\begin{align*}\n",
    "j = \\text{Quantitativ} & \\quad \\Rightarrow \\quad x_{\\text{Boyko}, \\text{Quantitativ}} + x_{\\text{Sasho}, \\text{Quantitativ}} + x_{\\text{Radi}, \\text{Quantitativ}} = 1 \\\\\n",
    "j = \\text{Recherche} & \\quad \\Rightarrow \\quad x_{\\text{Boyko}, \\text{Recherche}} + x_{\\text{Sasho}, \\text{Recherche}} + x_{\\text{Radi}, \\text{Recherche}} = 1 \\\\\n",
    "j = \\text{Qualitativ} & \\quad \\Rightarrow \\quad x_{\\text{Boyko}, \\text{Qualitativ}} + x_{\\text{Sasho}, \\text{Qualitativ}} + x_{\\text{Radi}, \\text{Qualitativ}} = 1 \\\\\n",
    "\\end{align*}\n",
    "$$\n",
    "\n",
    "## Umsetzung\n"
   ]
  },
  {
   "cell_type": "code",
   "execution_count": 2,
   "metadata": {},
   "outputs": [
    {
     "name": "stdout",
     "output_type": "stream",
     "text": [
      "Restricted license - for non-production use only - expires 2026-11-23\n",
      "Gurobi Optimizer version 12.0.1 build v12.0.1rc0 (linux64 - \"Ubuntu 24.04.2 LTS\")\n",
      "\n",
      "CPU model: Intel(R) Core(TM) i9-14900K, instruction set [SSE2|AVX|AVX2]\n",
      "Thread count: 32 physical cores, 32 logical processors, using up to 32 threads\n",
      "\n",
      "Optimize a model with 6 rows, 9 columns and 18 nonzeros\n",
      "Model fingerprint: 0xdc8c1267\n",
      "Variable types: 0 continuous, 9 integer (9 binary)\n",
      "Coefficient statistics:\n",
      "  Matrix range     [1e+00, 1e+00]\n",
      "  Objective range  [1e+01, 8e+01]\n",
      "  Bounds range     [1e+00, 1e+00]\n",
      "  RHS range        [1e+00, 1e+00]\n",
      "Presolve time: 0.00s\n",
      "Presolved: 6 rows, 9 columns, 18 nonzeros\n",
      "Variable types: 0 continuous, 9 integer (9 binary)\n",
      "Found heuristic solution: objective 113.0000000\n",
      "Found heuristic solution: objective 147.0000000\n",
      "Found heuristic solution: objective 193.0000000\n",
      "\n",
      "Root relaxation: cutoff, 6 iterations, 0.00 seconds (0.00 work units)\n",
      "\n",
      "    Nodes    |    Current Node    |     Objective Bounds      |     Work\n",
      " Expl Unexpl |  Obj  Depth IntInf | Incumbent    BestBd   Gap | It/Node Time\n",
      "\n",
      "     0     0     cutoff    0       193.00000  193.00000  0.00%     -    0s\n",
      "\n",
      "Explored 1 nodes (6 simplex iterations) in 0.00 seconds (0.00 work units)\n",
      "Thread count was 32 (of 32 available processors)\n",
      "\n",
      "Solution count 3: 193 147 113 \n",
      "\n",
      "Optimal solution found (tolerance 1.00e-04)\n",
      "Best objective 1.930000000000e+02, best bound 1.930000000000e+02, gap 0.0000%\n"
     ]
    },
    {
     "data": {
      "application/vnd.microsoft.datawrangler.viewer.v0+json": {
       "columns": [
        {
         "name": "index",
         "rawType": "int64",
         "type": "integer"
        },
        {
         "name": "Mitarbeiter",
         "rawType": "object",
         "type": "string"
        },
        {
         "name": "Aufgabe",
         "rawType": "object",
         "type": "string"
        },
        {
         "name": "Zuweisung",
         "rawType": "float64",
         "type": "float"
        }
       ],
       "conversionMethod": "pd.DataFrame",
       "ref": "d17fad64-f5a4-4fbe-ab05-fde232eee93e",
       "rows": [
        [
         "0",
         "Boyko",
         "Quantitative",
         "1.0"
        ],
        [
         "1",
         "Boyko",
         "Recherche",
         "-0.0"
        ],
        [
         "2",
         "Boyko",
         "Qualitative",
         "-0.0"
        ],
        [
         "3",
         "Sasho",
         "Quantitative",
         "-0.0"
        ],
        [
         "4",
         "Sasho",
         "Recherche",
         "-0.0"
        ],
        [
         "5",
         "Sasho",
         "Qualitative",
         "1.0"
        ],
        [
         "6",
         "Radi",
         "Quantitative",
         "-0.0"
        ],
        [
         "7",
         "Radi",
         "Recherche",
         "1.0"
        ],
        [
         "8",
         "Radi",
         "Qualitative",
         "-0.0"
        ]
       ],
       "shape": {
        "columns": 3,
        "rows": 9
       }
      },
      "text/html": [
       "<div>\n",
       "<style scoped>\n",
       "    .dataframe tbody tr th:only-of-type {\n",
       "        vertical-align: middle;\n",
       "    }\n",
       "\n",
       "    .dataframe tbody tr th {\n",
       "        vertical-align: top;\n",
       "    }\n",
       "\n",
       "    .dataframe thead th {\n",
       "        text-align: right;\n",
       "    }\n",
       "</style>\n",
       "<table border=\"1\" class=\"dataframe\">\n",
       "  <thead>\n",
       "    <tr style=\"text-align: right;\">\n",
       "      <th></th>\n",
       "      <th>Mitarbeiter</th>\n",
       "      <th>Aufgabe</th>\n",
       "      <th>Zuweisung</th>\n",
       "    </tr>\n",
       "  </thead>\n",
       "  <tbody>\n",
       "    <tr>\n",
       "      <th>0</th>\n",
       "      <td>Boyko</td>\n",
       "      <td>Quantitative</td>\n",
       "      <td>1.0</td>\n",
       "    </tr>\n",
       "    <tr>\n",
       "      <th>1</th>\n",
       "      <td>Boyko</td>\n",
       "      <td>Recherche</td>\n",
       "      <td>-0.0</td>\n",
       "    </tr>\n",
       "    <tr>\n",
       "      <th>2</th>\n",
       "      <td>Boyko</td>\n",
       "      <td>Qualitative</td>\n",
       "      <td>-0.0</td>\n",
       "    </tr>\n",
       "    <tr>\n",
       "      <th>3</th>\n",
       "      <td>Sasho</td>\n",
       "      <td>Quantitative</td>\n",
       "      <td>-0.0</td>\n",
       "    </tr>\n",
       "    <tr>\n",
       "      <th>4</th>\n",
       "      <td>Sasho</td>\n",
       "      <td>Recherche</td>\n",
       "      <td>-0.0</td>\n",
       "    </tr>\n",
       "    <tr>\n",
       "      <th>5</th>\n",
       "      <td>Sasho</td>\n",
       "      <td>Qualitative</td>\n",
       "      <td>1.0</td>\n",
       "    </tr>\n",
       "    <tr>\n",
       "      <th>6</th>\n",
       "      <td>Radi</td>\n",
       "      <td>Quantitative</td>\n",
       "      <td>-0.0</td>\n",
       "    </tr>\n",
       "    <tr>\n",
       "      <th>7</th>\n",
       "      <td>Radi</td>\n",
       "      <td>Recherche</td>\n",
       "      <td>1.0</td>\n",
       "    </tr>\n",
       "    <tr>\n",
       "      <th>8</th>\n",
       "      <td>Radi</td>\n",
       "      <td>Qualitative</td>\n",
       "      <td>-0.0</td>\n",
       "    </tr>\n",
       "  </tbody>\n",
       "</table>\n",
       "</div>"
      ],
      "text/plain": [
       "  Mitarbeiter       Aufgabe  Zuweisung\n",
       "0       Boyko  Quantitative        1.0\n",
       "1       Boyko     Recherche       -0.0\n",
       "2       Boyko   Qualitative       -0.0\n",
       "3       Sasho  Quantitative       -0.0\n",
       "4       Sasho     Recherche       -0.0\n",
       "5       Sasho   Qualitative        1.0\n",
       "6        Radi  Quantitative       -0.0\n",
       "7        Radi     Recherche        1.0\n",
       "8        Radi   Qualitative       -0.0"
      ]
     },
     "execution_count": 2,
     "metadata": {},
     "output_type": "execute_result"
    }
   ],
   "source": [
    "\n",
    "m = gp.Model('Aufgabenzuteilung')\n",
    "\n",
    "# Die Variablen x_{ij} geben an, ob Aufgabe i an Person j zugewiesen wird\n",
    "\n",
    "x = m.addVars(dt.index, dt.columns, vtype=GRB.BINARY, name='assign')\n",
    "\n",
    "# Die Zielfunktion ist die Summe der Produkte der Qualifikationen und der Zuweisungen\n",
    "\n",
    "m.setObjective(sum(dt.loc[i, j] * x[i, j] for i in dt.index for j in dt.columns), GRB.MAXIMIZE)\n",
    "\n",
    "# Jeder Mitarbeiter kann nur eine Aufgabe erhalten\n",
    "\n",
    "m.addConstrs((x.sum(i, '*') == 1 for i in dt.index),'Mitarbeiter')\n",
    "\n",
    "# Jede Aufgabe kann nur einem Mitarbeiter zugewiesen werden\n",
    "\n",
    "m.addConstrs((x.sum('*', j) == 1 for j in dt.columns), 'Aufgabe')\n",
    "\n",
    "m.optimize()\n",
    "\n",
    "# Die Lösung as pandas DataFrame\n",
    "\n",
    "solution = pd.DataFrame(\n",
    "    ((i, j, x[i, j].x) for i in dt.index for j in dt.columns),\n",
    "    columns=['Mitarbeiter', 'Aufgabe', 'Zuweisung']\n",
    ")\n",
    "solution"
   ]
  },
  {
   "cell_type": "code",
   "execution_count": 7,
   "metadata": {},
   "outputs": [
    {
     "data": {
      "application/vnd.microsoft.datawrangler.viewer.v0+json": {
       "columns": [
        {
         "name": "Mitarbeiter",
         "rawType": "object",
         "type": "string"
        },
        {
         "name": "Qualitative",
         "rawType": "float64",
         "type": "float"
        },
        {
         "name": "Quantitative",
         "rawType": "float64",
         "type": "float"
        },
        {
         "name": "Recherche",
         "rawType": "float64",
         "type": "float"
        }
       ],
       "conversionMethod": "pd.DataFrame",
       "ref": "56987767-3a5f-498c-ba42-6dcd652138d0",
       "rows": [
        [
         "Boyko",
         "-0.0",
         "1.0",
         "-0.0"
        ],
        [
         "Radi",
         "-0.0",
         "-0.0",
         "1.0"
        ],
        [
         "Sasho",
         "1.0",
         "-0.0",
         "-0.0"
        ]
       ],
       "shape": {
        "columns": 3,
        "rows": 3
       }
      },
      "text/html": [
       "<div>\n",
       "<style scoped>\n",
       "    .dataframe tbody tr th:only-of-type {\n",
       "        vertical-align: middle;\n",
       "    }\n",
       "\n",
       "    .dataframe tbody tr th {\n",
       "        vertical-align: top;\n",
       "    }\n",
       "\n",
       "    .dataframe thead th {\n",
       "        text-align: right;\n",
       "    }\n",
       "</style>\n",
       "<table border=\"1\" class=\"dataframe\">\n",
       "  <thead>\n",
       "    <tr style=\"text-align: right;\">\n",
       "      <th>Aufgabe</th>\n",
       "      <th>Qualitative</th>\n",
       "      <th>Quantitative</th>\n",
       "      <th>Recherche</th>\n",
       "    </tr>\n",
       "    <tr>\n",
       "      <th>Mitarbeiter</th>\n",
       "      <th></th>\n",
       "      <th></th>\n",
       "      <th></th>\n",
       "    </tr>\n",
       "  </thead>\n",
       "  <tbody>\n",
       "    <tr>\n",
       "      <th>Boyko</th>\n",
       "      <td>-0.0</td>\n",
       "      <td>1.0</td>\n",
       "      <td>-0.0</td>\n",
       "    </tr>\n",
       "    <tr>\n",
       "      <th>Radi</th>\n",
       "      <td>-0.0</td>\n",
       "      <td>-0.0</td>\n",
       "      <td>1.0</td>\n",
       "    </tr>\n",
       "    <tr>\n",
       "      <th>Sasho</th>\n",
       "      <td>1.0</td>\n",
       "      <td>-0.0</td>\n",
       "      <td>-0.0</td>\n",
       "    </tr>\n",
       "  </tbody>\n",
       "</table>\n",
       "</div>"
      ],
      "text/plain": [
       "Aufgabe      Qualitative  Quantitative  Recherche\n",
       "Mitarbeiter                                      \n",
       "Boyko               -0.0           1.0       -0.0\n",
       "Radi                -0.0          -0.0        1.0\n",
       "Sasho                1.0          -0.0       -0.0"
      ]
     },
     "execution_count": 7,
     "metadata": {},
     "output_type": "execute_result"
    }
   ],
   "source": [
    "# Um die Zuweisungen zu visualisieren, können wir die Tabelle umformen\n",
    "\n",
    "solution.pivot(index='Mitarbeiter', columns='Aufgabe', values='Zuweisung')\n"
   ]
  },
  {
   "cell_type": "code",
   "execution_count": 3,
   "metadata": {},
   "outputs": [
    {
     "name": "stdout",
     "output_type": "stream",
     "text": [
      "\\ Model Aufgabenzuteilung\n",
      "\\ LP format - for model browsing. Use MPS format to capture full model detail.\n",
      "Maximize\n",
      "  53 assign[Boyko,Quantitative] + 80 assign[Boyko,Recherche]\n",
      "   + 53 assign[Boyko,Qualitative] + 27 assign[Sasho,Quantitative]\n",
      "   + 47 assign[Sasho,Recherche] + 73 assign[Sasho,Qualitative]\n",
      "   + 13 assign[Radi,Quantitative] + 67 assign[Radi,Recherche]\n",
      "   + 47 assign[Radi,Qualitative]\n",
      "Subject To\n",
      " Mitarbeiter[Boyko]: assign[Boyko,Quantitative] + assign[Boyko,Recherche]\n",
      "   + assign[Boyko,Qualitative] = 1\n",
      " Mitarbeiter[Sasho]: assign[Sasho,Quantitative] + assign[Sasho,Recherche]\n",
      "   + assign[Sasho,Qualitative] = 1\n",
      " Mitarbeiter[Radi]: assign[Radi,Quantitative] + assign[Radi,Recherche]\n",
      "   + assign[Radi,Qualitative] = 1\n",
      " Aufgabe[Quantitative]: assign[Boyko,Quantitative]\n",
      "   + assign[Sasho,Quantitative] + assign[Radi,Quantitative] = 1\n",
      " Aufgabe[Recherche]: assign[Boyko,Recherche] + assign[Sasho,Recherche]\n",
      "   + assign[Radi,Recherche] = 1\n",
      " Aufgabe[Qualitative]: assign[Boyko,Qualitative]\n",
      "   + assign[Sasho,Qualitative] + assign[Radi,Qualitative] = 1\n",
      "Bounds\n",
      "Binaries\n",
      " assign[Boyko,Quantitative] assign[Boyko,Recherche]\n",
      " assign[Boyko,Qualitative] assign[Sasho,Quantitative]\n",
      " assign[Sasho,Recherche] assign[Sasho,Qualitative]\n",
      " assign[Radi,Quantitative] assign[Radi,Recherche] assign[Radi,Qualitative]\n",
      "End\n",
      "\n"
     ]
    }
   ],
   "source": [
    "m.write('Aufgabenzuteilung.lp')\n",
    "\n",
    "with open('Aufgabenzuteilung.lp', 'r') as f:\n",
    "    print(f.read())\n",
    "    "
   ]
  },
  {
   "cell_type": "markdown",
   "metadata": {},
   "source": [
    "Einen alternativen Ansatz zur Modellierung wäre es, zuerst den Datensatz umzustrukturieren, so dass die Effizienz der Mitarbeiter in den verschiedenen Unterprojekten in einer Spalte steht (Langform). Dann könnten wir `x.prod()` verwenden und die Schleife in der Zielfunktion vermeiden."
   ]
  },
  {
   "cell_type": "code",
   "execution_count": null,
   "metadata": {},
   "outputs": [
    {
     "data": {
      "text/plain": [
       "Boyko  Quantitative    53\n",
       "       Recherche       80\n",
       "       Qualitative     53\n",
       "Sasho  Quantitative    27\n",
       "       Recherche       47\n",
       "       Qualitative     73\n",
       "Radi   Quantitative    13\n",
       "       Recherche       67\n",
       "       Qualitative     47\n",
       "dtype: int64"
      ]
     },
     "execution_count": 24,
     "metadata": {},
     "output_type": "execute_result"
    }
   ],
   "source": [
    "# Den Datensatz in Langform bringen. Das Ergebnis ist eine Serie mit einem MultiIndex\n",
    "\n",
    "dt_long = dt.stack()\n",
    "dt_long"
   ]
  },
  {
   "cell_type": "code",
   "execution_count": 25,
   "metadata": {},
   "outputs": [
    {
     "data": {
      "text/plain": [
       "MultiIndex([('Boyko', 'Quantitative'),\n",
       "            ('Boyko',    'Recherche'),\n",
       "            ('Boyko',  'Qualitative'),\n",
       "            ('Sasho', 'Quantitative'),\n",
       "            ('Sasho',    'Recherche'),\n",
       "            ('Sasho',  'Qualitative'),\n",
       "            ( 'Radi', 'Quantitative'),\n",
       "            ( 'Radi',    'Recherche'),\n",
       "            ( 'Radi',  'Qualitative')],\n",
       "           )"
      ]
     },
     "execution_count": 25,
     "metadata": {},
     "output_type": "execute_result"
    }
   ],
   "source": [
    "dt_long.index"
   ]
  },
  {
   "cell_type": "code",
   "execution_count": 28,
   "metadata": {},
   "outputs": [
    {
     "data": {
      "text/plain": [
       "Index(['Boyko', 'Sasho', 'Radi'], dtype='object')"
      ]
     },
     "execution_count": 28,
     "metadata": {},
     "output_type": "execute_result"
    }
   ],
   "source": [
    "# Auf die einzelnen Werte des MultiIndex zugreifen\n",
    "\n",
    "dt_long.index.levels[0]"
   ]
  },
  {
   "cell_type": "code",
   "execution_count": 29,
   "metadata": {},
   "outputs": [
    {
     "data": {
      "text/plain": [
       "Index(['Quantitative', 'Recherche', 'Qualitative'], dtype='object')"
      ]
     },
     "execution_count": 29,
     "metadata": {},
     "output_type": "execute_result"
    }
   ],
   "source": [
    "dt_long.index.levels[1]"
   ]
  },
  {
   "cell_type": "code",
   "execution_count": 32,
   "metadata": {},
   "outputs": [
    {
     "data": {
      "text/plain": [
       "{('Boyko', 'Quantitative'): 53,\n",
       " ('Boyko', 'Recherche'): 80,\n",
       " ('Boyko', 'Qualitative'): 53,\n",
       " ('Sasho', 'Quantitative'): 27,\n",
       " ('Sasho', 'Recherche'): 47,\n",
       " ('Sasho', 'Qualitative'): 73,\n",
       " ('Radi', 'Quantitative'): 13,\n",
       " ('Radi', 'Recherche'): 67,\n",
       " ('Radi', 'Qualitative'): 47}"
      ]
     },
     "execution_count": 32,
     "metadata": {},
     "output_type": "execute_result"
    }
   ],
   "source": [
    "# Die Serie in ein Dictionary umwandeln\n",
    "\n",
    "dt_long.to_dict()"
   ]
  },
  {
   "cell_type": "code",
   "execution_count": 34,
   "metadata": {},
   "outputs": [
    {
     "data": {
      "text/plain": [
       "[<gurobi.TempConstr: assign[Boyko,Quantitative] + assign[Boyko,Recherche] + assign[Boyko,Qualitative] == 1>,\n",
       " <gurobi.TempConstr: assign[Sasho,Quantitative] + assign[Sasho,Recherche] + assign[Sasho,Qualitative] == 1>,\n",
       " <gurobi.TempConstr: assign[Radi,Quantitative] + assign[Radi,Recherche] + assign[Radi,Qualitative] == 1>]"
      ]
     },
     "execution_count": 34,
     "metadata": {},
     "output_type": "execute_result"
    }
   ],
   "source": [
    "list((x.sum(i, '*') == 1 for i in dt_long.index.levels[0]))"
   ]
  },
  {
   "cell_type": "code",
   "execution_count": 30,
   "metadata": {},
   "outputs": [
    {
     "name": "stdout",
     "output_type": "stream",
     "text": [
      "Set parameter LogToConsole to value 0\n",
      "\\ Model Aufgabenzuteilung 1\n",
      "\\ LP format - for model browsing. Use MPS format to capture full model detail.\n",
      "Maximize\n",
      "  53 assign[Boyko,Quantitative] + 80 assign[Boyko,Recherche]\n",
      "   + 53 assign[Boyko,Qualitative] + 27 assign[Sasho,Quantitative]\n",
      "   + 47 assign[Sasho,Recherche] + 73 assign[Sasho,Qualitative]\n",
      "   + 13 assign[Radi,Quantitative] + 67 assign[Radi,Recherche]\n",
      "   + 47 assign[Radi,Qualitative]\n",
      "Subject To\n",
      " Mitarbeiter[Boyko]: assign[Boyko,Quantitative] + assign[Boyko,Recherche]\n",
      "   + assign[Boyko,Qualitative] = 1\n",
      " Mitarbeiter[Sasho]: assign[Sasho,Quantitative] + assign[Sasho,Recherche]\n",
      "   + assign[Sasho,Qualitative] = 1\n",
      " Mitarbeiter[Radi]: assign[Radi,Quantitative] + assign[Radi,Recherche]\n",
      "   + assign[Radi,Qualitative] = 1\n",
      " Unterprojekt[Quantitative]: assign[Boyko,Quantitative]\n",
      "   + assign[Sasho,Quantitative] + assign[Radi,Quantitative] = 1\n",
      " Unterprojekt[Recherche]: assign[Boyko,Recherche] + assign[Sasho,Recherche]\n",
      "   + assign[Radi,Recherche] = 1\n",
      " Unterprojekt[Qualitative]: assign[Boyko,Qualitative]\n",
      "   + assign[Sasho,Qualitative] + assign[Radi,Qualitative] = 1\n",
      "Bounds\n",
      "Binaries\n",
      " assign[Boyko,Quantitative] assign[Boyko,Recherche]\n",
      " assign[Boyko,Qualitative] assign[Sasho,Quantitative]\n",
      " assign[Sasho,Recherche] assign[Sasho,Qualitative]\n",
      " assign[Radi,Quantitative] assign[Radi,Recherche] assign[Radi,Qualitative]\n",
      "End\n",
      "\n"
     ]
    },
    {
     "data": {
      "application/vnd.microsoft.datawrangler.viewer.v0+json": {
       "columns": [
        {
         "name": "Mitarbeiter",
         "rawType": "object",
         "type": "string"
        },
        {
         "name": "Qualitative",
         "rawType": "float64",
         "type": "float"
        },
        {
         "name": "Quantitative",
         "rawType": "float64",
         "type": "float"
        },
        {
         "name": "Recherche",
         "rawType": "float64",
         "type": "float"
        }
       ],
       "conversionMethod": "pd.DataFrame",
       "ref": "90bbce70-97ed-4070-9ce9-fa370562eb82",
       "rows": [
        [
         "Boyko",
         "-0.0",
         "1.0",
         "-0.0"
        ],
        [
         "Radi",
         "-0.0",
         "-0.0",
         "1.0"
        ],
        [
         "Sasho",
         "1.0",
         "-0.0",
         "-0.0"
        ]
       ],
       "shape": {
        "columns": 3,
        "rows": 3
       }
      },
      "text/html": [
       "<div>\n",
       "<style scoped>\n",
       "    .dataframe tbody tr th:only-of-type {\n",
       "        vertical-align: middle;\n",
       "    }\n",
       "\n",
       "    .dataframe tbody tr th {\n",
       "        vertical-align: top;\n",
       "    }\n",
       "\n",
       "    .dataframe thead th {\n",
       "        text-align: right;\n",
       "    }\n",
       "</style>\n",
       "<table border=\"1\" class=\"dataframe\">\n",
       "  <thead>\n",
       "    <tr style=\"text-align: right;\">\n",
       "      <th>Unterprojekt</th>\n",
       "      <th>Qualitative</th>\n",
       "      <th>Quantitative</th>\n",
       "      <th>Recherche</th>\n",
       "    </tr>\n",
       "    <tr>\n",
       "      <th>Mitarbeiter</th>\n",
       "      <th></th>\n",
       "      <th></th>\n",
       "      <th></th>\n",
       "    </tr>\n",
       "  </thead>\n",
       "  <tbody>\n",
       "    <tr>\n",
       "      <th>Boyko</th>\n",
       "      <td>-0.0</td>\n",
       "      <td>1.0</td>\n",
       "      <td>-0.0</td>\n",
       "    </tr>\n",
       "    <tr>\n",
       "      <th>Radi</th>\n",
       "      <td>-0.0</td>\n",
       "      <td>-0.0</td>\n",
       "      <td>1.0</td>\n",
       "    </tr>\n",
       "    <tr>\n",
       "      <th>Sasho</th>\n",
       "      <td>1.0</td>\n",
       "      <td>-0.0</td>\n",
       "      <td>-0.0</td>\n",
       "    </tr>\n",
       "  </tbody>\n",
       "</table>\n",
       "</div>"
      ],
      "text/plain": [
       "Unterprojekt  Qualitative  Quantitative  Recherche\n",
       "Mitarbeiter                                       \n",
       "Boyko                -0.0           1.0       -0.0\n",
       "Radi                 -0.0          -0.0        1.0\n",
       "Sasho                 1.0          -0.0       -0.0"
      ]
     },
     "execution_count": 30,
     "metadata": {},
     "output_type": "execute_result"
    }
   ],
   "source": [
    "m1 = gp.Model('Aufgabenzuteilung 1')\n",
    "m1.Params.LogToConsole = 0\n",
    "\n",
    "x = m1.addVars(dt_long.index, vtype=GRB.BINARY, name='assign')\n",
    "\n",
    "m1.setObjective(x.prod(dt_long.to_dict()), GRB.MAXIMIZE)\n",
    "\n",
    "m1.addConstrs((x.sum(i, '*') == 1 for i in dt_long.index.levels[0]), 'Mitarbeiter')\n",
    "m1.addConstrs((x.sum('*', j) == 1 for j in dt_long.index.levels[1]), 'Unterprojekt')\n",
    "\n",
    "m1.write('Aufgabenzuteilung 1.lp')\n",
    "\n",
    "with open('Aufgabenzuteilung 1.lp', 'r') as f:\n",
    "    print(f.read())\n",
    "\n",
    "m1.optimize()\n",
    "\n",
    "solution1 = pd.DataFrame(\n",
    "    ((i, j, x[i, j].x) for i, j in dt_long.index),\n",
    "    columns=['Mitarbeiter', 'Unterprojekt', 'Zuweisung']\n",
    ")\n",
    "solution1.pivot(index='Mitarbeiter', columns='Unterprojekt', values='Zuweisung')"
   ]
  }
 ],
 "metadata": {
  "kernelspec": {
   "display_name": "opt2025-de",
   "language": "python",
   "name": "python3"
  },
  "language_info": {
   "codemirror_mode": {
    "name": "ipython",
    "version": 3
   },
   "file_extension": ".py",
   "mimetype": "text/x-python",
   "name": "python",
   "nbconvert_exporter": "python",
   "pygments_lexer": "ipython3",
   "version": "3.11.11"
  }
 },
 "nbformat": 4,
 "nbformat_minor": 2
}
