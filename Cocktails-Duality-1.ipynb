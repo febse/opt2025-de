{
 "cells": [
  {
   "cell_type": "markdown",
   "id": "68d41136",
   "metadata": {},
   "source": [
    "# Cocktails und duale Preise\n",
    "\n",
    "Open in Colab: [![Open in Colab](https://colab.research.google.com/assets/colab-badge.svg)](https://colab.research.google.com/github/febse/opt2025-de/blob/main/Cocktails-Duality.ipynb)\n",
    "\n",
    "- [Cocktails (shared)](https://febunisofia-my.sharepoint.com/:x:/g/personal/amarov_feb_uni-sofia_bg/ESP-SwOFNNhGpNlhQtnI1xsBrR8nw-eklsYqMyCA-eJiAw?e=Tfqjsq&nav=MTVfezAwMDAwMDAwLTAwMDEtMDAwMC0wMDAwLTAwMDAwMDAwMDAwMH0)\n",
    "- [Cocktails (download)](https://github.com/febse/data/raw/refs/heads/main/opt/Cocktails_2d.xlsx)"
   ]
  },
  {
   "cell_type": "code",
   "execution_count": null,
   "id": "1fa06850",
   "metadata": {},
   "outputs": [
    {
     "name": "stdout",
     "output_type": "stream",
     "text": [
      "Requirement already satisfied: plotly in c:\\users\\boyko\\.conda\\envs\\opt2025-de\\lib\\site-packages (5.24.1)\n",
      "Requirement already satisfied: sympy in c:\\users\\boyko\\.conda\\envs\\opt2025-de\\lib\\site-packages (1.13.3)\n",
      "Requirement already satisfied: tenacity>=6.2.0 in c:\\users\\boyko\\.conda\\envs\\opt2025-de\\lib\\site-packages (from plotly) (9.0.0)\n",
      "Requirement already satisfied: packaging in c:\\users\\boyko\\.conda\\envs\\opt2025-de\\lib\\site-packages (from plotly) (24.2)\n",
      "Requirement already satisfied: mpmath<1.4,>=1.1.0 in c:\\users\\boyko\\.conda\\envs\\opt2025-de\\lib\\site-packages (from sympy) (1.3.0)\n",
      "Note: you may need to restart the kernel to use updated packages.\n"
     ]
    }
   ],
   "source": [
    "%pip install gurobipy plotly sympy\n",
    "\n",
    "import numpy as np\n",
    "import plotly.graph_objects as go\n",
    "import pandas as pd\n",
    "import gurobipy as gp\n",
    "from gurobipy import GRB"
   ]
  },
  {
   "cell_type": "markdown",
   "id": "188c225d",
   "metadata": {},
   "source": [
    "## Barmanagement\n",
    "\n",
    "Stellen wir uns vor, dass wir eine kleine Bar managen. Wir sind so spezialisiert, dass wir nur Bloody Mary in zwei Varianten anbieten:\n",
    "\n",
    "- Bloody Mary Light (BML), der aus 20 ml Vodka und 80 ml Tomatensaft besteht\n",
    "- Bloody Mary Stark (BMS), der aus 40 ml Vodka und 60 ml Tomatensaft besteht\n",
    "\n",
    "In einer Stunde haben 2000 ml Vodka und 4000 ml Tomatensaft zur Verfügung. Wie viele von beiden Cocktails sollten wir zubereiten, um den Gewinn zu maximieren? Ein Glass Bloody Mary Light (100 ml) bring uns 3 Euro Gewinn ein, ein Glass (100 ml) Bloody Mary Stark bringt uns 4 Euro Gewinn ein.\n",
    "\n",
    "- Schreiben Sie das Modell zuerst auf Papier auf\n",
    "- Lösen Sie das Modell mit Excel Solver\n",
    "- Lösen Sie das Modell mit Gurobi in Python (einmal mit `.addVar` und einmal mit `.addMVar`)\n",
    "- Formulieren Sie die duale Optimierungsaufgabe und lösen Sie diese mit Excel Solver und Gurobi (auch mit `.addVar` und `.addMVar`)"
   ]
  },
  {
   "cell_type": "code",
   "execution_count": null,
   "id": "81511d37",
   "metadata": {},
   "outputs": [
    {
     "name": "stdout",
     "output_type": "stream",
     "text": [
      "Ressourcen: [2000 4000]\n",
      "Gewinn pro Cocktail: [3 4]\n"
     ]
    },
    {
     "data": {
      "text/plain": [
       "array([[20, 80],\n",
       "       [40, 60]])"
      ]
     },
     "execution_count": 3,
     "metadata": {},
     "output_type": "execute_result"
    }
   ],
   "source": [
    "ressourcen = np.array([2000, 4000]) # ml Vodka, ml Tomatensaft\n",
    "\n",
    "print(\"Ressourcen:\", ressourcen)\n",
    "\n",
    "gewinn_pro_coktail = np.array([3, 4])\n",
    "\n",
    "print(\"Gewinn pro Cocktail:\", gewinn_pro_coktail)\n",
    "\n",
    "rezept_BML = np.array([20, 80]) # ml Vodka, ml Tomatensaft\n",
    "rezept_BMS = np.array([40, 60]) # ml Vodka, ml Tomatensaft\n",
    "\n",
    "bar_rezepte = np.array([rezept_BML, rezept_BMS])\n",
    "bar_rezepte"
   ]
  },
  {
   "cell_type": "code",
   "execution_count": 5,
   "id": "7808459d",
   "metadata": {},
   "outputs": [
    {
     "data": {
      "text/plain": [
       "array([[20, 40],\n",
       "       [80, 60]])"
      ]
     },
     "execution_count": 5,
     "metadata": {},
     "output_type": "execute_result"
    }
   ],
   "source": [
    "verbrauchs_koeffizienten = bar_rezepte.T\n",
    "verbrauchs_koeffizienten"
   ]
  },
  {
   "cell_type": "code",
   "execution_count": 12,
   "id": "2a9857c2",
   "metadata": {},
   "outputs": [
    {
     "name": "stdout",
     "output_type": "stream",
     "text": [
      "Verbrauch von Vodka: [20 40]\n",
      "Verbrauch von Tomatensaft: [80 60]\n"
     ]
    }
   ],
   "source": [
    "verbrauch_vodka = verbrauchs_koeffizienten[0,:]\n",
    "print(\"Verbrauch von Vodka:\", verbrauch_vodka)\n",
    "\n",
    "verbrauch_tomatensaft = verbrauchs_koeffizienten[1,:]\n",
    "print(\"Verbrauch von Tomatensaft:\", verbrauch_tomatensaft)\n"
   ]
  },
  {
   "cell_type": "markdown",
   "id": "44bb5a71",
   "metadata": {},
   "source": [
    "Berechnen Sie den Verbrauch von Vodka und Tomatensaft für die Produktion von \n",
    "\n",
    "- 2 Cocktails BML und 3 Cocktails BMS\n",
    "- 3 Cocktails BML und 2 Cocktails BMS\n",
    "- 4 Cocktails BML und 1 Cocktails BMS\n",
    "- 1 Cocktails BML und 4 Cocktails BMS\n",
    "\n",
    "Benutzen Sie dazu Formeln in Excel und `numpy` in Python"
   ]
  },
  {
   "cell_type": "code",
   "execution_count": null,
   "id": "4c9e0490",
   "metadata": {},
   "outputs": [
    {
     "data": {
      "text/plain": [
       "np.int64(160)"
      ]
     },
     "execution_count": 15,
     "metadata": {},
     "output_type": "execute_result"
    }
   ],
   "source": [
    "# Verbrauch von Vodka bei der Produktion von 2 Bloody Mary Light und 3 Bloody Mary Stark\n",
    "verbrauch_vodka @ np.array([2, 3])\n",
    "\n",
    "# Verbrauch von Tomatensaft bei der Produktion von 2 Bloody Mary Light und 3 Bloody Mary Stark\n"
   ]
  },
  {
   "cell_type": "code",
   "execution_count": null,
   "id": "a87f76dd",
   "metadata": {},
   "outputs": [
    {
     "name": "stdout",
     "output_type": "stream",
     "text": [
      "Set parameter LogToConsole to value 0\n"
     ]
    },
    {
     "name": "stdout",
     "output_type": "stream",
     "text": [
      "\\ Model Cocktail\n",
      "\\ LP format - for model browsing. Use MPS format to capture full model detail.\n",
      "Maximize\n",
      "  3 Light + 4 Stark\n",
      "Subject To\n",
      " Vodka: 20 Light + 40 Stark <= 2000\n",
      " Tomatensaft: 80 Light + 60 Stark <= 4000\n",
      "Bounds\n",
      "End\n",
      "\n",
      "Optimaler Cocktailmix:\n",
      "Bloody Mary Light: 20.00 Stück\n",
      "Bloody Mary Stark: 40.00 Stück\n"
     ]
    },
    {
     "data": {
      "application/vnd.microsoft.datawrangler.viewer.v0+json": {
       "columns": [
        {
         "name": "index",
         "rawType": "int64",
         "type": "integer"
        },
        {
         "name": "Name",
         "rawType": "object",
         "type": "string"
        },
        {
         "name": "Slack",
         "rawType": "float64",
         "type": "float"
        },
        {
         "name": "RHS",
         "rawType": "float64",
         "type": "float"
        },
        {
         "name": "Schattenpreis",
         "rawType": "float64",
         "type": "float"
        },
        {
         "name": "Sense",
         "rawType": "object",
         "type": "string"
        }
       ],
       "conversionMethod": "pd.DataFrame",
       "ref": "b9e286ef-97aa-463a-a2ec-830ee25de6d5",
       "rows": [
        [
         "0",
         "Vodka",
         "0.0",
         "2000.0",
         "0.07",
         "<"
        ],
        [
         "1",
         "Tomatensaft",
         "0.0",
         "4000.0",
         "0.019999999999999997",
         "<"
        ]
       ],
       "shape": {
        "columns": 5,
        "rows": 2
       }
      },
      "text/html": [
       "<div>\n",
       "<style scoped>\n",
       "    .dataframe tbody tr th:only-of-type {\n",
       "        vertical-align: middle;\n",
       "    }\n",
       "\n",
       "    .dataframe tbody tr th {\n",
       "        vertical-align: top;\n",
       "    }\n",
       "\n",
       "    .dataframe thead th {\n",
       "        text-align: right;\n",
       "    }\n",
       "</style>\n",
       "<table border=\"1\" class=\"dataframe\">\n",
       "  <thead>\n",
       "    <tr style=\"text-align: right;\">\n",
       "      <th></th>\n",
       "      <th>Name</th>\n",
       "      <th>Slack</th>\n",
       "      <th>RHS</th>\n",
       "      <th>Schattenpreis</th>\n",
       "      <th>Sense</th>\n",
       "    </tr>\n",
       "  </thead>\n",
       "  <tbody>\n",
       "    <tr>\n",
       "      <th>0</th>\n",
       "      <td>Vodka</td>\n",
       "      <td>0.0</td>\n",
       "      <td>2000.0</td>\n",
       "      <td>0.07</td>\n",
       "      <td>&lt;</td>\n",
       "    </tr>\n",
       "    <tr>\n",
       "      <th>1</th>\n",
       "      <td>Tomatensaft</td>\n",
       "      <td>0.0</td>\n",
       "      <td>4000.0</td>\n",
       "      <td>0.02</td>\n",
       "      <td>&lt;</td>\n",
       "    </tr>\n",
       "  </tbody>\n",
       "</table>\n",
       "</div>"
      ],
      "text/plain": [
       "          Name  Slack     RHS  Schattenpreis Sense\n",
       "0        Vodka    0.0  2000.0           0.07     <\n",
       "1  Tomatensaft    0.0  4000.0           0.02     <"
      ]
     },
     "execution_count": 11,
     "metadata": {},
     "output_type": "execute_result"
    }
   ],
   "source": [
    "# Modell erstellen\n",
    "\n",
    "m = gp.Model(\"Cocktail\")\n",
    "m.Params.LogToConsole = 0 # keine Ausgabe in der Konsole\n",
    "\n",
    "# Variablen definieren\n",
    "\n",
    "x1 = m.addVar(name=\"Light\") # Anzahl von Bloody Mary Light Cocktails\n",
    "x2 = m.addVar(name=\"Stark\") # Anzahl von Bloody Mary Stark Cocktails\n",
    "\n",
    "# Zielfunktion definieren\n",
    "\n",
    "m.setObjective(3 * x1 + 4 * x2, GRB.MAXIMIZE)\n",
    "\n",
    "# Nebenbedingungen definieren\n",
    "\n",
    "m.addConstr(20 * x1 + 40 * x2 <= ressourcen[0], \"Vodka\")\n",
    "m.addConstr(80 * x1 + 60 * x2 <= ressourcen[1], \"Tomatensaft\")\n",
    "\n",
    "m.optimize()\n",
    "\n",
    "m.write(\"cocktail.lp\") # Speichern des Modells in einer Datei\n",
    "\n",
    "with open(\"cocktail.lp\", \"r\") as f:\n",
    "    print(f.read())\n",
    "\n",
    "# Ergebnisse ausgeben\n",
    "\n",
    "print(\"Optimaler Cocktailmix:\")\n",
    "\n",
    "print(f\"Bloody Mary Light: {x1.X:.2f} Stück\")\n",
    "print(f\"Bloody Mary Stark: {x2.X:.2f} Stück\")\n",
    "\n",
    "# Die Nebenbedingungen ausgeben als pandas DataFrame\n",
    "\n",
    "# Die Nebenbedingungen ausgeben als pandas DataFrame\n",
    "constr_df = pd.DataFrame([\n",
    "    (c.ConstrName, c.Pi, c.Slack, c.RHS) for c in m.getConstrs()],\n",
    "    columns=[\"Name\", \"Schattenpreis\", \"Slack\", \"RHS\"]\n",
    ")\n",
    "constr_df"
   ]
  },
  {
   "cell_type": "code",
   "execution_count": null,
   "id": "954c4b8f",
   "metadata": {},
   "outputs": [
    {
     "name": "stdout",
     "output_type": "stream",
     "text": [
      "Set parameter LogToConsole to value 0\n",
      "Optimaler Cocktailmix:\n",
      "Bloody Mary Light: 20.00 Stück\n",
      "Bloody Mary Stark: 40.00 Stück\n",
      "\\ Model Cocktail 2\n",
      "\\ LP format - for model browsing. Use MPS format to capture full model detail.\n",
      "Maximize\n",
      "  3 Cocktail[0] + 4 Cocktail[1]\n",
      "Subject To\n",
      " Rezept[0]: 20 Cocktail[0] + 40 Cocktail[1] <= 2000\n",
      " Rezept[1]: 80 Cocktail[0] + 60 Cocktail[1] <= 4000\n",
      "Bounds\n",
      "End\n",
      "\n"
     ]
    },
    {
     "data": {
      "application/vnd.microsoft.datawrangler.viewer.v0+json": {
       "columns": [
        {
         "name": "index",
         "rawType": "int64",
         "type": "integer"
        },
        {
         "name": "Name",
         "rawType": "object",
         "type": "string"
        },
        {
         "name": "Slack",
         "rawType": "float64",
         "type": "float"
        },
        {
         "name": "RHS",
         "rawType": "float64",
         "type": "float"
        },
        {
         "name": "Schattenpreis",
         "rawType": "float64",
         "type": "float"
        },
        {
         "name": "Sense",
         "rawType": "object",
         "type": "string"
        }
       ],
       "conversionMethod": "pd.DataFrame",
       "ref": "2f75d37e-4114-4da1-b52d-cf476de46638",
       "rows": [
        [
         "0",
         "Rezept[0]",
         "0.0",
         "2000.0",
         "0.07",
         "<"
        ],
        [
         "1",
         "Rezept[1]",
         "0.0",
         "4000.0",
         "0.019999999999999997",
         "<"
        ]
       ],
       "shape": {
        "columns": 5,
        "rows": 2
       }
      },
      "text/html": [
       "<div>\n",
       "<style scoped>\n",
       "    .dataframe tbody tr th:only-of-type {\n",
       "        vertical-align: middle;\n",
       "    }\n",
       "\n",
       "    .dataframe tbody tr th {\n",
       "        vertical-align: top;\n",
       "    }\n",
       "\n",
       "    .dataframe thead th {\n",
       "        text-align: right;\n",
       "    }\n",
       "</style>\n",
       "<table border=\"1\" class=\"dataframe\">\n",
       "  <thead>\n",
       "    <tr style=\"text-align: right;\">\n",
       "      <th></th>\n",
       "      <th>Name</th>\n",
       "      <th>Slack</th>\n",
       "      <th>RHS</th>\n",
       "      <th>Schattenpreis</th>\n",
       "      <th>Sense</th>\n",
       "    </tr>\n",
       "  </thead>\n",
       "  <tbody>\n",
       "    <tr>\n",
       "      <th>0</th>\n",
       "      <td>Rezept[0]</td>\n",
       "      <td>0.0</td>\n",
       "      <td>2000.0</td>\n",
       "      <td>0.07</td>\n",
       "      <td>&lt;</td>\n",
       "    </tr>\n",
       "    <tr>\n",
       "      <th>1</th>\n",
       "      <td>Rezept[1]</td>\n",
       "      <td>0.0</td>\n",
       "      <td>4000.0</td>\n",
       "      <td>0.02</td>\n",
       "      <td>&lt;</td>\n",
       "    </tr>\n",
       "  </tbody>\n",
       "</table>\n",
       "</div>"
      ],
      "text/plain": [
       "        Name  Slack     RHS  Schattenpreis Sense\n",
       "0  Rezept[0]    0.0  2000.0           0.07     <\n",
       "1  Rezept[1]    0.0  4000.0           0.02     <"
      ]
     },
     "execution_count": 22,
     "metadata": {},
     "output_type": "execute_result"
    }
   ],
   "source": [
    "# Dasselbe in kürzerer Form\n",
    "\n",
    "m1 = gp.Model(\"Cocktail 2\")\n",
    "m1.Params.LogToConsole = 0 # keine Ausgabe in der Konsole\n",
    "\n",
    "x = m1.addMVar(2, name=\"Cocktails\")\n",
    "\n",
    "m1.setObjective(gewinn_pro_coktail @ x, GRB.MAXIMIZE)\n",
    "\n",
    "m1.addConstr(verbrauchs_koeffizienten @ x <= ressourcen, \"Ressourcen\")\n",
    "\n",
    "m1.optimize()\n",
    "\n",
    "# Ergebnisse ausgeben\n",
    "print(\"Optimaler Cocktailmix:\")\n",
    "print(f\"Bloody Mary Light: {x.X[0]:.2f} Stück\")\n",
    "print(f\"Bloody Mary Stark: {x.X[1]:.2f} Stück\")\n",
    "\n",
    "m1.write(\"cocktail-2.lp\")\n",
    "\n",
    "with open(\"cocktail-2.lp\") as f:\n",
    "    print(f.read())\n",
    "\n",
    "# Die Nebenbedingungen ausgeben als pandas DataFrame\n",
    "constr_df = pd.DataFrame([\n",
    "    (c.ConstrName, c.Pi, c.Slack, c.RHS) for c in m1.getConstrs()],\n",
    "    columns=[\"Name\", \"Schattenpreis\", \"Slack\", \"RHS\"]\n",
    ")\n",
    "constr_df"
   ]
  },
  {
   "cell_type": "markdown",
   "id": "c618e455",
   "metadata": {},
   "source": [
    "## Das duale Problem\n",
    "\n",
    "Schauenf wir uns eine einfache Optimierungsaufgabe an:\n",
    "\n",
    "$$\n",
    "\\begin{align*}\n",
    "\\text{max} & \\quad 2x_1 + 3x_2 \\\\\n",
    "\\text{s.t.} & \\quad x_1 + x_2 \\leq 8 \\\\\n",
    "& \\quad x_1 + 2 x_2 \\leq 12 \\\\\n",
    "& x_1, x_2 \\geq 0\n",
    "\\end{align*}\n",
    "$$\n",
    "\n",
    "Ihre Lösung ist $[x_1, x_2] = [4, 4]$, also erreichen wir den grösstmöglichen Gewinn von $2 \\cdot 4 + 3 \\cdot 4 = 20$ Euro. Können wir aber **beweisen**, dass es keinen grösseren Gewinn gibt?\n",
    " "
   ]
  },
  {
   "cell_type": "markdown",
   "id": "ee81f7bc",
   "metadata": {},
   "source": [
    "\n",
    "\n",
    "Die Optimierungsaufgabe für die kleine Bar lautet:\n",
    "\n",
    "$$\n",
    "\\begin{align*}\n",
    "\\text{max} & \\quad 3x_1 + 4x_2 \\\\\n",
    "\\text{s.t.} & \\quad 20 x_1 + 40x_2 \\leq 2000 \\\\\n",
    "& \\quad 80 x_1 + 60x_2 \\leq 4000 \\\\\n",
    "& \\quad x_1, x_2 \\geq 0\n",
    "\\end{align*}\n",
    "$$\n",
    "\n",
    "wobei $x_1$ und $x_2$ die Anzahl der Cocktails Bloody Mary Light und Bloody Mary Stark darstellen. Wir haben auch den optimalen Produktionsplan $[x_1, x_2] = [20, 40]$, also erreichen wir den grösstmöglichen Gewinn von $3 \\cdot 20 + 4 \\cdot 40 = 220$ Euro, indem wir 20 Cocktails Bloody Mary Light und 40 Cocktails Bloody Mary Stark zubereiten. Können wir aber **beweisen**, dass dies der optimale Produktionsplan ist?\n",
    "\n",
    "Lassen Sie uns die zwei Ungleichungen mit den Faktoren $0.07$ und $0.02$ multiplizieren und dann addieren:\n",
    "\n",
    "$$\n",
    "\\begin{align*}\n",
    "0.07 \\cdot (20 x_1 + 40x_2) + 0.02 \\cdot (80 x_1 + 60x_2) & \\leq 0.07 \\cdot 2000 + 0.02 \\cdot 4000 \\\\\n",
    "\\end{align*}\n",
    "$$\n",
    "\n",
    "Jetzt bringen wir diese Gleichung in die Form:\n",
    "\n",
    "$$\n",
    "\\begin{align*}\n",
    "(0.07 \\cdot 20 + 0.02 \\cdot 80) x_1 + (0.07 \\cdot 40 + 0.02 \\cdot 60) x_2 & \\leq 0.07 \\cdot 2000 + 0.02 \\cdot 4000 \n",
    "\\end{align*}\n",
    "$$\n",
    "\n",
    "Also haben wir:\n",
    "\n",
    "$$\n",
    "\\begin{align*}\n",
    "3 x_1 + 4 x_2 & \\leq 220 \\\\\n",
    "\\end{align*}\n",
    "$$\n",
    "\n",
    "Nun haben wir eine neue Ungleichung, in der auf der linken Seite eigentlich die Zielfunktion steht. Diese Ungleichung sagt uns aber, dass unter den gegebenen Bedingungen der Gewinn nicht grösser als 220 Euro sein kann, was ein Beweis für die Optimalität unseres Produktionsplans ist.\n",
    "\n",
    "Diese Ungleichung haben wir aus den ursprünglichen Ungleichungen abgeleitet, die wir mit den Faktoren $0.07$ und $0.02$ multipliziert haben. Wie haben wir diese Faktoren gefunden? Lassen Sie uns die ursprüngliche Aufgabe noch einmal aufschreiben:\n",
    "\n",
    "$$\n",
    "\\begin{align*}\n",
    "\\text{max} & \\quad 3x_1 + 4x_2 \\\\\n",
    "\\text{s.t.} & \\quad 20 x_1 + 40x_2 \\leq 2000 \\\\\n",
    "& \\quad 80 x_1 + 60x_2 \\leq 4000 \\\\\n",
    "& \\quad x_1, x_2 \\geq 0\n",
    "\\end{align*}\n",
    "$$\n",
    "\n",
    "Wir können beide Ungleichungen mit irgendwelchen Faktoren $y_1$ und $y_2$ multiplizieren. Solange $y_1$ und $y_2$ positiv sind, ändert sich die Ungleichung nicht. Wenn wir die beiden Ungleichungen addieren, erhalten wir eine neue Ungleichung:\n",
    "\n",
    "$$\n",
    "\\begin{align*}\n",
    "(20 x_1 + 40x_2)y_1 & \\leq 2000y_1 \\\\\n",
    "(80 x_1 + 60x_2)y_2 & \\leq 4000y_2 \\\\\n",
    "\\end{align*}\n",
    "$$\n",
    "\n",
    "$$\n",
    "\\begin{align*}\n",
    "20 y_1 x_1 + 40 y_1 x_2 & \\leq 2000 y_1 \\\\\n",
    "80 y_2 x_1 + 60 y_2 x_2 & \\leq 4000 y_2 \\\\\n",
    "\\end{align*}\n",
    "$$\n",
    "\n",
    "Nun addieren wir die beiden Ungleichungen:\n",
    "\n",
    "$$\n",
    "\\begin{align*}\n",
    "(20 y_1 + 80 y_2) x_1 + (40 y_1 + 60 y_2) x_2 & \\leq 2000 y_1 + 4000 y_2 \\\\\n",
    "\\end{align*}\n",
    "$$\n",
    "\n",
    "Wie linke Seite der Ungleichung hat die Form der Zielfunktion, nur dass die Variablen $x_1$ und $x_2$ mit den Faktoren $20 y_1 + 80 y_2$ und $40 y_1 + 60 y_2$ multipliziert werden und nicht mit den Faktoren $3$ und $4$. Falls wir aber fordern, dass die Faktoren $20 y_1 + 80 y_2$ und $40 y_1 + 60 y_2$ grösser oder gleich $3$ und $4$ sind, dann haben wir eine neue Ungleichung, die uns sagt, die linke Seite immer grösser oder gleich der Zielfunktion ist. \n",
    "\n",
    "Schreiben wir die Ungleichungen auf:\n",
    "\n",
    "$$\n",
    "\\begin{align*}\n",
    "\\underset{\\text{Zielfunktion}}{3 x_1 + 4 x_2} & \\leq (20 y_1 + 80 y_2) x_1 + (40 y_1 + 60 y_2) x_2 \\leq \\underset{\\text{Obere Schranke}}{2000 y_1 + 4000 y_2} \\\\\n",
    "\\end{align*}\n",
    "$$\n",
    "\n",
    "$$\n",
    "\\begin{align*}\n",
    "20 y_1 + 80 y_2 & \\geq 3 \\\\\n",
    "40 y_1 + 60 y_2 & \\geq 4 \\\\\n",
    "\\end{align*}\n",
    "$$\n",
    "\n",
    "Interessant ist hier, dass wir eine obere Schranke für die Zielfunktion hergeleitet haben. Nun stellt sich die Frage, ob wir die **kleinste** obere Schranke finden können. Die obere Schranke ist linear, die Einschränkungen sind auch linear, also haben wir nur noch eine neue lineare Optimierungsaufgabe zu lösen:\n",
    "\n",
    "$$\n",
    "\\begin{align*}\n",
    "\\text{min} & \\quad 2000 y_1 + 4000 y_2 \\\\\n",
    "\\text{s.t.} & \\quad 20 y_1 + 80 y_2 \\geq 3 \\\\\n",
    "& \\quad 40 y_1 + 60 y_2 \\geq 4 \\\\\n",
    "& \\quad y_1, y_2 \\geq 0 \\\\\n",
    "\\end{align*}\n",
    "$$\n",
    "\n",
    "Bevor wir mit der Lösung anfangen, ist es sinnvoll, sich die Messeinheiten der $y_1$ und $y_2$ Variablen anzuschauen.\n",
    "\n",
    "$$\n",
    "\\underset{\\text{Gewinn (Euro)}}{3 x_1 + 4 x_2} \\leq \\underset{\\text{Obere Schranke (Euro)}}{2000 y_1 + 4000y_2}\n",
    "$$\n",
    "\n",
    "Damit die Messeinheiten kompatibel sind, muss die rechte Seite der Ungleichung in Euro sein. Die Koeffizienten (2000 ml) und (4000 ml) sind die Mengen der Zutaten, die wir haben. Also müssen die Produkte von $2000 y_1$ und $2000 y_2$ mit in Euro gemessen sein.\n",
    "\n",
    "Also sind die Messeinheiten von $y_1$ und $y_2$ Euro pro ml.\n",
    "\n",
    "$$\n",
    "2000 [\\text{ml}] \\cdot y_1 \\left[\\frac{\\text{Euro}}{\\text{ml}}\\right] + 4000 [\\text{ml}] \\cdot y_2 \\left[\\frac{\\text{Euro}}{\\text{ml}}\\right] = [\\text{Euro}]\n",
    "$$\n",
    "\n"
   ]
  },
  {
   "cell_type": "code",
   "execution_count": null,
   "id": "398f9c00",
   "metadata": {},
   "outputs": [
    {
     "name": "stdout",
     "output_type": "stream",
     "text": [
      "Set parameter LogToConsole to value 0\n",
      "\\ Model Cocktail dual\n",
      "\\ LP format - for model browsing. Use MPS format to capture full model detail.\n",
      "Minimize\n",
      "  2000 SP_Vodka + 4000 SP_Tomatensaft\n",
      "Subject To\n",
      " Bloody_Mary_Light: 20 SP_Vodka + 80 SP_Tomatensaft >= 3\n",
      " Bloody_Mary_Stark: 40 SP_Vodka + 60 SP_Tomatensaft >= 4\n",
      "Bounds\n",
      "End\n",
      "\n",
      "Optimale Schattenpreise:\n",
      "Vodka: 0.07 Euro /ml\n",
      "Tomatensaft: 0.02 Euro/ml\n",
      "Gewinn: 220.00 Euro\n"
     ]
    },
    {
     "data": {
      "application/vnd.microsoft.datawrangler.viewer.v0+json": {
       "columns": [
        {
         "name": "index",
         "rawType": "int64",
         "type": "integer"
        },
        {
         "name": "Name",
         "rawType": "object",
         "type": "string"
        },
        {
         "name": "Slack",
         "rawType": "float64",
         "type": "float"
        },
        {
         "name": "RHS",
         "rawType": "float64",
         "type": "float"
        },
        {
         "name": "Schattenpreis",
         "rawType": "float64",
         "type": "float"
        },
        {
         "name": "Sense",
         "rawType": "object",
         "type": "string"
        }
       ],
       "conversionMethod": "pd.DataFrame",
       "ref": "bbd0682d-d530-43f0-acb3-24114a57a9d5",
       "rows": [
        [
         "0",
         "Bloody Mary Light",
         "0.0",
         "3.0",
         "20.0",
         ">"
        ],
        [
         "1",
         "Bloody Mary Stark",
         "0.0",
         "4.0",
         "40.0",
         ">"
        ]
       ],
       "shape": {
        "columns": 5,
        "rows": 2
       }
      },
      "text/html": [
       "<div>\n",
       "<style scoped>\n",
       "    .dataframe tbody tr th:only-of-type {\n",
       "        vertical-align: middle;\n",
       "    }\n",
       "\n",
       "    .dataframe tbody tr th {\n",
       "        vertical-align: top;\n",
       "    }\n",
       "\n",
       "    .dataframe thead th {\n",
       "        text-align: right;\n",
       "    }\n",
       "</style>\n",
       "<table border=\"1\" class=\"dataframe\">\n",
       "  <thead>\n",
       "    <tr style=\"text-align: right;\">\n",
       "      <th></th>\n",
       "      <th>Name</th>\n",
       "      <th>Slack</th>\n",
       "      <th>RHS</th>\n",
       "      <th>Schattenpreis</th>\n",
       "      <th>Sense</th>\n",
       "    </tr>\n",
       "  </thead>\n",
       "  <tbody>\n",
       "    <tr>\n",
       "      <th>0</th>\n",
       "      <td>Bloody Mary Light</td>\n",
       "      <td>0.0</td>\n",
       "      <td>3.0</td>\n",
       "      <td>20.0</td>\n",
       "      <td>&gt;</td>\n",
       "    </tr>\n",
       "    <tr>\n",
       "      <th>1</th>\n",
       "      <td>Bloody Mary Stark</td>\n",
       "      <td>0.0</td>\n",
       "      <td>4.0</td>\n",
       "      <td>40.0</td>\n",
       "      <td>&gt;</td>\n",
       "    </tr>\n",
       "  </tbody>\n",
       "</table>\n",
       "</div>"
      ],
      "text/plain": [
       "                Name  Slack  RHS  Schattenpreis Sense\n",
       "0  Bloody Mary Light    0.0  3.0           20.0     >\n",
       "1  Bloody Mary Stark    0.0  4.0           40.0     >"
      ]
     },
     "execution_count": 29,
     "metadata": {},
     "output_type": "execute_result"
    }
   ],
   "source": [
    "# Das duale Problem (1)\n",
    "\n",
    "md = gp.Model(\"Cocktail dual\")\n",
    "md.Params.LogToConsole = 0 # keine Ausgabe in der Konsole\n",
    "\n",
    "y1 = md.addVar(name=\"Wert von Vodka\") # Schattenpreis Vodka\n",
    "y2 = md.addVar(name=\"Wert von Tomatensaft\") # Schattenpreis Tomatensaft\n",
    "\n",
    "# Zielfunktion definieren\n",
    "md.setObjective(ressourcen[0] * y1 + ressourcen[1] * y2, GRB.MINIMIZE)\n",
    "\n",
    "# Nebenbedingungen definieren\n",
    "\n",
    "md.addConstr(20 * y1 + 80 * y2 >= 3, \"Bloody Mary Light\")\n",
    "md.addConstr(40 * y1 + 60 * y2 >= 4, \"Bloody Mary Stark\")\n",
    "\n",
    "\n",
    "md.write(\"cocktail-dual.lp\") # Speichern des Modells in einer Datei\n",
    "\n",
    "with open(\"cocktail-dual.lp\", \"r\") as f:\n",
    "    print(f.read())\n",
    "\n",
    "md.optimize()\n",
    "\n",
    "# Ergebnisse ausgeben\n",
    "print(\"Optimale Werte der Ressourcen:\")\n",
    "\n",
    "print(f\"Wert von Vodka: {y1.X:.2f} Euro /ml\")\n",
    "print(f\"Wert von Tomatensaft: {y2.X:.2f} Euro/ml\")\n",
    "print(f\"Gewinn: {md.ObjVal:.2f} Euro\")\n",
    "\n",
    "# Die Nebenbedingungen ausgeben als pandas DataFrame\n",
    "constr_df = pd.DataFrame([\n",
    "    (c.ConstrName, c.Slack, c.RHS, c.Pi, c.Sense) for c in md.getConstrs()], \n",
    "    columns=[\"Name\", \"Slack\", \"RHS\", \"Schattenpreis\", \"Sense\"\n",
    "])\n",
    "\n",
    "constr_df\n"
   ]
  },
  {
   "cell_type": "code",
   "execution_count": 16,
   "id": "6c37adda",
   "metadata": {},
   "outputs": [
    {
     "name": "stdout",
     "output_type": "stream",
     "text": [
      "Set parameter LogToConsole to value 0\n",
      "\\ Model Cocktail Dual 2\n",
      "\\ LP format - for model browsing. Use MPS format to capture full model detail.\n",
      "Minimize\n",
      "  2000 Werte[0] + 4000 Werte[1]\n",
      "Subject To\n",
      " Cocktail[0]: 20 Werte[0] + 80 Werte[1] >= 3\n",
      " Cocktail[1]: 40 Werte[0] + 60 Werte[1] >= 4\n",
      "Bounds\n",
      "End\n",
      "\n",
      "Schattenpreise:\n",
      "Wert von Vodka: 0.07 Euro/ml\n",
      "Wert von Tomatensaft: 0.02 Euro/ml\n",
      "Gewinn: 220.00 Euro\n"
     ]
    },
    {
     "data": {
      "application/vnd.microsoft.datawrangler.viewer.v0+json": {
       "columns": [
        {
         "name": "index",
         "rawType": "int64",
         "type": "integer"
        },
        {
         "name": "Name",
         "rawType": "object",
         "type": "string"
        },
        {
         "name": "Slack",
         "rawType": "float64",
         "type": "float"
        },
        {
         "name": "RHS",
         "rawType": "float64",
         "type": "float"
        },
        {
         "name": "Schattenpreis",
         "rawType": "float64",
         "type": "float"
        },
        {
         "name": "Sense",
         "rawType": "object",
         "type": "string"
        }
       ],
       "conversionMethod": "pd.DataFrame",
       "ref": "d2a1c768-53a9-41b0-b187-7d53d36861ff",
       "rows": [
        [
         "0",
         "Cocktail[0]",
         "0.0",
         "3.0",
         "20.0",
         ">"
        ],
        [
         "1",
         "Cocktail[1]",
         "0.0",
         "4.0",
         "40.0",
         ">"
        ]
       ],
       "shape": {
        "columns": 5,
        "rows": 2
       }
      },
      "text/html": [
       "<div>\n",
       "<style scoped>\n",
       "    .dataframe tbody tr th:only-of-type {\n",
       "        vertical-align: middle;\n",
       "    }\n",
       "\n",
       "    .dataframe tbody tr th {\n",
       "        vertical-align: top;\n",
       "    }\n",
       "\n",
       "    .dataframe thead th {\n",
       "        text-align: right;\n",
       "    }\n",
       "</style>\n",
       "<table border=\"1\" class=\"dataframe\">\n",
       "  <thead>\n",
       "    <tr style=\"text-align: right;\">\n",
       "      <th></th>\n",
       "      <th>Name</th>\n",
       "      <th>Slack</th>\n",
       "      <th>RHS</th>\n",
       "      <th>Schattenpreis</th>\n",
       "      <th>Sense</th>\n",
       "    </tr>\n",
       "  </thead>\n",
       "  <tbody>\n",
       "    <tr>\n",
       "      <th>0</th>\n",
       "      <td>Cocktail[0]</td>\n",
       "      <td>0.0</td>\n",
       "      <td>3.0</td>\n",
       "      <td>20.0</td>\n",
       "      <td>&gt;</td>\n",
       "    </tr>\n",
       "    <tr>\n",
       "      <th>1</th>\n",
       "      <td>Cocktail[1]</td>\n",
       "      <td>0.0</td>\n",
       "      <td>4.0</td>\n",
       "      <td>40.0</td>\n",
       "      <td>&gt;</td>\n",
       "    </tr>\n",
       "  </tbody>\n",
       "</table>\n",
       "</div>"
      ],
      "text/plain": [
       "          Name  Slack  RHS  Schattenpreis Sense\n",
       "0  Cocktail[0]    0.0  3.0           20.0     >\n",
       "1  Cocktail[1]    0.0  4.0           40.0     >"
      ]
     },
     "execution_count": 16,
     "metadata": {},
     "output_type": "execute_result"
    }
   ],
   "source": [
    "# Das Duale Problem (2)\n",
    "\n",
    "m2 = gp.Model(\"Cocktail Dual 2\")\n",
    "\n",
    "m2.Params.LogToConsole = 0 # keine Ausgabe in der Konsole\n",
    "\n",
    "# Variablen definieren\n",
    "y = m2.addMVar(2, name=\"Werte\")\n",
    "\n",
    "# Zielfunktion definieren\n",
    "m2.setObjective(ressourcen @ y, GRB.MINIMIZE)\n",
    "\n",
    "# Nebenbedingungen definieren\n",
    "\n",
    "m2.addConstr(bar_rezepte @ y >= gewinn_pro_coktail, \"Cocktail\")\n",
    "\n",
    "m2.optimize()\n",
    "\n",
    "m2.write(\"cocktail-dual-2.lp\") # Speichern des Modells in einer Datei\n",
    "\n",
    "with open(\"cocktail-dual-2.lp\", \"r\") as f:\n",
    "    print(f.read())\n",
    "\n",
    "# Ergebnisse ausgeben\n",
    "print(\"Schattenpreise:\")\n",
    "\n",
    "print(f\"Wert von Vodka: {y.X[0]:.2f} Euro/ml\")\n",
    "print(f\"Wert von Tomatensaft: {y.X[1]:.2f} Euro/ml\")\n",
    "print(f\"Gewinn: {m2.ObjVal:.2f} Euro\")\n",
    "# Die Nebenbedingungen ausgeben als pandas DataFrame\n",
    "\n",
    "constr_df = pd.DataFrame([\n",
    "    (c.ConstrName, c.Slack, c.RHS, c.Pi, c.Sense) for c in m2.getConstrs()],\n",
    "    columns=[\"Name\", \"Slack\", \"RHS\", \"Schattenpreis\", \"Sense\"\n",
    "])\n",
    "\n",
    "constr_df\n"
   ]
  },
  {
   "cell_type": "code",
   "execution_count": null,
   "id": "fca0a7b5",
   "metadata": {},
   "outputs": [
    {
     "data": {
      "text/plain": [
       "array([100, 100])"
      ]
     },
     "execution_count": 13,
     "metadata": {},
     "output_type": "execute_result"
    }
   ],
   "source": [
    "# Wie viel von den Ressourcen verbrauchen wir, falls wir 2 Bloody Marys Light und 2 Bloody Marys Stark machen?\n",
    "\n",
    "bar_rezepte @ np.array([2, 2])"
   ]
  },
  {
   "cell_type": "code",
   "execution_count": null,
   "id": "523018cd",
   "metadata": {},
   "outputs": [
    {
     "data": {
      "application/vnd.plotly.v1+json": {
       "config": {
        "plotlyServerURL": "https://plot.ly"
       },
       "data": [
        {
         "line": {
          "color": "blue",
          "width": 1
         },
         "marker": {
          "size": 2
         },
         "mode": "lines+markers",
         "name": "V1",
         "type": "scatter",
         "x": [
          0,
          1
         ],
         "y": [
          0,
          0
         ]
        },
        {
         "line": {
          "color": "red",
          "width": 1
         },
         "marker": {
          "size": 2
         },
         "mode": "lines+markers",
         "name": "V2",
         "type": "scatter",
         "x": [
          0,
          0
         ],
         "y": [
          0,
          1
         ]
        },
        {
         "line": {
          "color": "green",
          "width": 1
         },
         "marker": {
          "size": 2
         },
         "mode": "lines+markers",
         "name": "V1 + V2",
         "type": "scatter",
         "x": [
          0,
          1
         ],
         "y": [
          0,
          1
         ]
        },
        {
         "fill": "toself",
         "fillcolor": "rgba(0, 100, 200, 0.2)",
         "line": {
          "color": "rgba(255,255,255,0)"
         },
         "name": "Area",
         "type": "scatter",
         "x": [
          0,
          1,
          1,
          0,
          0
         ],
         "y": [
          0,
          0,
          1,
          1,
          0
         ]
        }
       ],
       "frames": [
        {
         "data": [
          {
           "line": {
            "color": "blue",
            "width": 1
           },
           "marker": {
            "size": 2
           },
           "mode": "lines+markers",
           "name": "V1",
           "type": "scatter",
           "x": [
            0,
            1
           ],
           "y": [
            0,
            0
           ]
          },
          {
           "line": {
            "color": "red",
            "width": 1
           },
           "marker": {
            "size": 2
           },
           "mode": "lines+markers",
           "name": "V2",
           "type": "scatter",
           "x": [
            0,
            0
           ],
           "y": [
            0,
            1
           ]
          },
          {
           "line": {
            "color": "green",
            "width": 1
           },
           "marker": {
            "size": 2
           },
           "mode": "lines+markers",
           "name": "V1 + V2",
           "type": "scatter",
           "x": [
            0,
            1
           ],
           "y": [
            0,
            1
           ]
          },
          {
           "fill": "toself",
           "fillcolor": "rgba(0, 100, 200, 0.2)",
           "line": {
            "color": "rgba(255,255,255,0)"
           },
           "name": "Area",
           "type": "scatter",
           "x": [
            0,
            1,
            1,
            0,
            0
           ],
           "y": [
            0,
            0,
            1,
            1,
            0
           ]
          }
         ]
        },
        {
         "data": [
          {
           "line": {
            "color": "blue",
            "width": 1
           },
           "marker": {
            "size": 2
           },
           "mode": "lines+markers",
           "name": "V1",
           "type": "scatter",
           "x": [
            0,
            1
           ],
           "y": [
            0,
            0
           ]
          },
          {
           "line": {
            "color": "red",
            "width": 1
           },
           "marker": {
            "size": 2
           },
           "mode": "lines+markers",
           "name": "V2",
           "type": "scatter",
           "x": [
            0,
            0
           ],
           "y": [
            0,
            1
           ]
          },
          {
           "line": {
            "color": "green",
            "width": 1
           },
           "marker": {
            "size": 2
           },
           "mode": "lines+markers",
           "name": "V1 + V2",
           "type": "scatter",
           "x": [
            0,
            1
           ],
           "y": [
            0,
            1
           ]
          },
          {
           "fill": "toself",
           "fillcolor": "rgba(0, 100, 200, 0.2)",
           "line": {
            "color": "rgba(255,255,255,0)"
           },
           "name": "Area",
           "type": "scatter",
           "x": [
            0,
            1,
            1,
            0,
            0
           ],
           "y": [
            0,
            0,
            1,
            1,
            0
           ]
          }
         ]
        },
        {
         "data": [
          {
           "line": {
            "color": "blue",
            "width": 1
           },
           "marker": {
            "size": 2
           },
           "mode": "lines+markers",
           "name": "V1",
           "type": "scatter",
           "x": [
            0,
            1.0204081632653061
           ],
           "y": [
            0,
            0
           ]
          },
          {
           "line": {
            "color": "red",
            "width": 1
           },
           "marker": {
            "size": 2
           },
           "mode": "lines+markers",
           "name": "V2",
           "type": "scatter",
           "x": [
            0,
            0
           ],
           "y": [
            0,
            1
           ]
          },
          {
           "line": {
            "color": "green",
            "width": 1
           },
           "marker": {
            "size": 2
           },
           "mode": "lines+markers",
           "name": "V1 + V2",
           "type": "scatter",
           "x": [
            0,
            1.0204081632653061
           ],
           "y": [
            0,
            1
           ]
          },
          {
           "fill": "toself",
           "fillcolor": "rgba(0, 100, 200, 0.2)",
           "line": {
            "color": "rgba(255,255,255,0)"
           },
           "name": "Area",
           "type": "scatter",
           "x": [
            0,
            1.0204081632653061,
            1.0204081632653061,
            0,
            0
           ],
           "y": [
            0,
            0,
            1,
            1,
            0
           ]
          }
         ]
        },
        {
         "data": [
          {
           "line": {
            "color": "blue",
            "width": 1
           },
           "marker": {
            "size": 2
           },
           "mode": "lines+markers",
           "name": "V1",
           "type": "scatter",
           "x": [
            0,
            1.0408163265306123
           ],
           "y": [
            0,
            0
           ]
          },
          {
           "line": {
            "color": "red",
            "width": 1
           },
           "marker": {
            "size": 2
           },
           "mode": "lines+markers",
           "name": "V2",
           "type": "scatter",
           "x": [
            0,
            0
           ],
           "y": [
            0,
            1
           ]
          },
          {
           "line": {
            "color": "green",
            "width": 1
           },
           "marker": {
            "size": 2
           },
           "mode": "lines+markers",
           "name": "V1 + V2",
           "type": "scatter",
           "x": [
            0,
            1.0408163265306123
           ],
           "y": [
            0,
            1
           ]
          },
          {
           "fill": "toself",
           "fillcolor": "rgba(0, 100, 200, 0.2)",
           "line": {
            "color": "rgba(255,255,255,0)"
           },
           "name": "Area",
           "type": "scatter",
           "x": [
            0,
            1.0408163265306123,
            1.0408163265306123,
            0,
            0
           ],
           "y": [
            0,
            0,
            1,
            1,
            0
           ]
          }
         ]
        },
        {
         "data": [
          {
           "line": {
            "color": "blue",
            "width": 1
           },
           "marker": {
            "size": 2
           },
           "mode": "lines+markers",
           "name": "V1",
           "type": "scatter",
           "x": [
            0,
            1.0612244897959184
           ],
           "y": [
            0,
            0
           ]
          },
          {
           "line": {
            "color": "red",
            "width": 1
           },
           "marker": {
            "size": 2
           },
           "mode": "lines+markers",
           "name": "V2",
           "type": "scatter",
           "x": [
            0,
            0
           ],
           "y": [
            0,
            1
           ]
          },
          {
           "line": {
            "color": "green",
            "width": 1
           },
           "marker": {
            "size": 2
           },
           "mode": "lines+markers",
           "name": "V1 + V2",
           "type": "scatter",
           "x": [
            0,
            1.0612244897959184
           ],
           "y": [
            0,
            1
           ]
          },
          {
           "fill": "toself",
           "fillcolor": "rgba(0, 100, 200, 0.2)",
           "line": {
            "color": "rgba(255,255,255,0)"
           },
           "name": "Area",
           "type": "scatter",
           "x": [
            0,
            1.0612244897959184,
            1.0612244897959184,
            0,
            0
           ],
           "y": [
            0,
            0,
            1,
            1,
            0
           ]
          }
         ]
        },
        {
         "data": [
          {
           "line": {
            "color": "blue",
            "width": 1
           },
           "marker": {
            "size": 2
           },
           "mode": "lines+markers",
           "name": "V1",
           "type": "scatter",
           "x": [
            0,
            1.0816326530612246
           ],
           "y": [
            0,
            0
           ]
          },
          {
           "line": {
            "color": "red",
            "width": 1
           },
           "marker": {
            "size": 2
           },
           "mode": "lines+markers",
           "name": "V2",
           "type": "scatter",
           "x": [
            0,
            0
           ],
           "y": [
            0,
            1
           ]
          },
          {
           "line": {
            "color": "green",
            "width": 1
           },
           "marker": {
            "size": 2
           },
           "mode": "lines+markers",
           "name": "V1 + V2",
           "type": "scatter",
           "x": [
            0,
            1.0816326530612246
           ],
           "y": [
            0,
            1
           ]
          },
          {
           "fill": "toself",
           "fillcolor": "rgba(0, 100, 200, 0.2)",
           "line": {
            "color": "rgba(255,255,255,0)"
           },
           "name": "Area",
           "type": "scatter",
           "x": [
            0,
            1.0816326530612246,
            1.0816326530612246,
            0,
            0
           ],
           "y": [
            0,
            0,
            1,
            1,
            0
           ]
          }
         ]
        },
        {
         "data": [
          {
           "line": {
            "color": "blue",
            "width": 1
           },
           "marker": {
            "size": 2
           },
           "mode": "lines+markers",
           "name": "V1",
           "type": "scatter",
           "x": [
            0,
            1.1020408163265305
           ],
           "y": [
            0,
            0
           ]
          },
          {
           "line": {
            "color": "red",
            "width": 1
           },
           "marker": {
            "size": 2
           },
           "mode": "lines+markers",
           "name": "V2",
           "type": "scatter",
           "x": [
            0,
            0
           ],
           "y": [
            0,
            1
           ]
          },
          {
           "line": {
            "color": "green",
            "width": 1
           },
           "marker": {
            "size": 2
           },
           "mode": "lines+markers",
           "name": "V1 + V2",
           "type": "scatter",
           "x": [
            0,
            1.1020408163265305
           ],
           "y": [
            0,
            1
           ]
          },
          {
           "fill": "toself",
           "fillcolor": "rgba(0, 100, 200, 0.2)",
           "line": {
            "color": "rgba(255,255,255,0)"
           },
           "name": "Area",
           "type": "scatter",
           "x": [
            0,
            1.1020408163265305,
            1.1020408163265305,
            0,
            0
           ],
           "y": [
            0,
            0,
            1,
            1,
            0
           ]
          }
         ]
        },
        {
         "data": [
          {
           "line": {
            "color": "blue",
            "width": 1
           },
           "marker": {
            "size": 2
           },
           "mode": "lines+markers",
           "name": "V1",
           "type": "scatter",
           "x": [
            0,
            1.1224489795918366
           ],
           "y": [
            0,
            0
           ]
          },
          {
           "line": {
            "color": "red",
            "width": 1
           },
           "marker": {
            "size": 2
           },
           "mode": "lines+markers",
           "name": "V2",
           "type": "scatter",
           "x": [
            0,
            0
           ],
           "y": [
            0,
            1
           ]
          },
          {
           "line": {
            "color": "green",
            "width": 1
           },
           "marker": {
            "size": 2
           },
           "mode": "lines+markers",
           "name": "V1 + V2",
           "type": "scatter",
           "x": [
            0,
            1.1224489795918366
           ],
           "y": [
            0,
            1
           ]
          },
          {
           "fill": "toself",
           "fillcolor": "rgba(0, 100, 200, 0.2)",
           "line": {
            "color": "rgba(255,255,255,0)"
           },
           "name": "Area",
           "type": "scatter",
           "x": [
            0,
            1.1224489795918366,
            1.1224489795918366,
            0,
            0
           ],
           "y": [
            0,
            0,
            1,
            1,
            0
           ]
          }
         ]
        },
        {
         "data": [
          {
           "line": {
            "color": "blue",
            "width": 1
           },
           "marker": {
            "size": 2
           },
           "mode": "lines+markers",
           "name": "V1",
           "type": "scatter",
           "x": [
            0,
            1.1428571428571428
           ],
           "y": [
            0,
            0
           ]
          },
          {
           "line": {
            "color": "red",
            "width": 1
           },
           "marker": {
            "size": 2
           },
           "mode": "lines+markers",
           "name": "V2",
           "type": "scatter",
           "x": [
            0,
            0
           ],
           "y": [
            0,
            1
           ]
          },
          {
           "line": {
            "color": "green",
            "width": 1
           },
           "marker": {
            "size": 2
           },
           "mode": "lines+markers",
           "name": "V1 + V2",
           "type": "scatter",
           "x": [
            0,
            1.1428571428571428
           ],
           "y": [
            0,
            1
           ]
          },
          {
           "fill": "toself",
           "fillcolor": "rgba(0, 100, 200, 0.2)",
           "line": {
            "color": "rgba(255,255,255,0)"
           },
           "name": "Area",
           "type": "scatter",
           "x": [
            0,
            1.1428571428571428,
            1.1428571428571428,
            0,
            0
           ],
           "y": [
            0,
            0,
            1,
            1,
            0
           ]
          }
         ]
        },
        {
         "data": [
          {
           "line": {
            "color": "blue",
            "width": 1
           },
           "marker": {
            "size": 2
           },
           "mode": "lines+markers",
           "name": "V1",
           "type": "scatter",
           "x": [
            0,
            1.163265306122449
           ],
           "y": [
            0,
            0
           ]
          },
          {
           "line": {
            "color": "red",
            "width": 1
           },
           "marker": {
            "size": 2
           },
           "mode": "lines+markers",
           "name": "V2",
           "type": "scatter",
           "x": [
            0,
            0
           ],
           "y": [
            0,
            1
           ]
          },
          {
           "line": {
            "color": "green",
            "width": 1
           },
           "marker": {
            "size": 2
           },
           "mode": "lines+markers",
           "name": "V1 + V2",
           "type": "scatter",
           "x": [
            0,
            1.163265306122449
           ],
           "y": [
            0,
            1
           ]
          },
          {
           "fill": "toself",
           "fillcolor": "rgba(0, 100, 200, 0.2)",
           "line": {
            "color": "rgba(255,255,255,0)"
           },
           "name": "Area",
           "type": "scatter",
           "x": [
            0,
            1.163265306122449,
            1.163265306122449,
            0,
            0
           ],
           "y": [
            0,
            0,
            1,
            1,
            0
           ]
          }
         ]
        },
        {
         "data": [
          {
           "line": {
            "color": "blue",
            "width": 1
           },
           "marker": {
            "size": 2
           },
           "mode": "lines+markers",
           "name": "V1",
           "type": "scatter",
           "x": [
            0,
            1.183673469387755
           ],
           "y": [
            0,
            0
           ]
          },
          {
           "line": {
            "color": "red",
            "width": 1
           },
           "marker": {
            "size": 2
           },
           "mode": "lines+markers",
           "name": "V2",
           "type": "scatter",
           "x": [
            0,
            0
           ],
           "y": [
            0,
            1
           ]
          },
          {
           "line": {
            "color": "green",
            "width": 1
           },
           "marker": {
            "size": 2
           },
           "mode": "lines+markers",
           "name": "V1 + V2",
           "type": "scatter",
           "x": [
            0,
            1.183673469387755
           ],
           "y": [
            0,
            1
           ]
          },
          {
           "fill": "toself",
           "fillcolor": "rgba(0, 100, 200, 0.2)",
           "line": {
            "color": "rgba(255,255,255,0)"
           },
           "name": "Area",
           "type": "scatter",
           "x": [
            0,
            1.183673469387755,
            1.183673469387755,
            0,
            0
           ],
           "y": [
            0,
            0,
            1,
            1,
            0
           ]
          }
         ]
        },
        {
         "data": [
          {
           "line": {
            "color": "blue",
            "width": 1
           },
           "marker": {
            "size": 2
           },
           "mode": "lines+markers",
           "name": "V1",
           "type": "scatter",
           "x": [
            0,
            1.2040816326530612
           ],
           "y": [
            0,
            0
           ]
          },
          {
           "line": {
            "color": "red",
            "width": 1
           },
           "marker": {
            "size": 2
           },
           "mode": "lines+markers",
           "name": "V2",
           "type": "scatter",
           "x": [
            0,
            0
           ],
           "y": [
            0,
            1
           ]
          },
          {
           "line": {
            "color": "green",
            "width": 1
           },
           "marker": {
            "size": 2
           },
           "mode": "lines+markers",
           "name": "V1 + V2",
           "type": "scatter",
           "x": [
            0,
            1.2040816326530612
           ],
           "y": [
            0,
            1
           ]
          },
          {
           "fill": "toself",
           "fillcolor": "rgba(0, 100, 200, 0.2)",
           "line": {
            "color": "rgba(255,255,255,0)"
           },
           "name": "Area",
           "type": "scatter",
           "x": [
            0,
            1.2040816326530612,
            1.2040816326530612,
            0,
            0
           ],
           "y": [
            0,
            0,
            1,
            1,
            0
           ]
          }
         ]
        },
        {
         "data": [
          {
           "line": {
            "color": "blue",
            "width": 1
           },
           "marker": {
            "size": 2
           },
           "mode": "lines+markers",
           "name": "V1",
           "type": "scatter",
           "x": [
            0,
            1.2244897959183674
           ],
           "y": [
            0,
            0
           ]
          },
          {
           "line": {
            "color": "red",
            "width": 1
           },
           "marker": {
            "size": 2
           },
           "mode": "lines+markers",
           "name": "V2",
           "type": "scatter",
           "x": [
            0,
            0
           ],
           "y": [
            0,
            1
           ]
          },
          {
           "line": {
            "color": "green",
            "width": 1
           },
           "marker": {
            "size": 2
           },
           "mode": "lines+markers",
           "name": "V1 + V2",
           "type": "scatter",
           "x": [
            0,
            1.2244897959183674
           ],
           "y": [
            0,
            1
           ]
          },
          {
           "fill": "toself",
           "fillcolor": "rgba(0, 100, 200, 0.2)",
           "line": {
            "color": "rgba(255,255,255,0)"
           },
           "name": "Area",
           "type": "scatter",
           "x": [
            0,
            1.2244897959183674,
            1.2244897959183674,
            0,
            0
           ],
           "y": [
            0,
            0,
            1,
            1,
            0
           ]
          }
         ]
        },
        {
         "data": [
          {
           "line": {
            "color": "blue",
            "width": 1
           },
           "marker": {
            "size": 2
           },
           "mode": "lines+markers",
           "name": "V1",
           "type": "scatter",
           "x": [
            0,
            1.2448979591836735
           ],
           "y": [
            0,
            0
           ]
          },
          {
           "line": {
            "color": "red",
            "width": 1
           },
           "marker": {
            "size": 2
           },
           "mode": "lines+markers",
           "name": "V2",
           "type": "scatter",
           "x": [
            0,
            0
           ],
           "y": [
            0,
            1
           ]
          },
          {
           "line": {
            "color": "green",
            "width": 1
           },
           "marker": {
            "size": 2
           },
           "mode": "lines+markers",
           "name": "V1 + V2",
           "type": "scatter",
           "x": [
            0,
            1.2448979591836735
           ],
           "y": [
            0,
            1
           ]
          },
          {
           "fill": "toself",
           "fillcolor": "rgba(0, 100, 200, 0.2)",
           "line": {
            "color": "rgba(255,255,255,0)"
           },
           "name": "Area",
           "type": "scatter",
           "x": [
            0,
            1.2448979591836735,
            1.2448979591836735,
            0,
            0
           ],
           "y": [
            0,
            0,
            1,
            1,
            0
           ]
          }
         ]
        },
        {
         "data": [
          {
           "line": {
            "color": "blue",
            "width": 1
           },
           "marker": {
            "size": 2
           },
           "mode": "lines+markers",
           "name": "V1",
           "type": "scatter",
           "x": [
            0,
            1.2653061224489797
           ],
           "y": [
            0,
            0
           ]
          },
          {
           "line": {
            "color": "red",
            "width": 1
           },
           "marker": {
            "size": 2
           },
           "mode": "lines+markers",
           "name": "V2",
           "type": "scatter",
           "x": [
            0,
            0
           ],
           "y": [
            0,
            1
           ]
          },
          {
           "line": {
            "color": "green",
            "width": 1
           },
           "marker": {
            "size": 2
           },
           "mode": "lines+markers",
           "name": "V1 + V2",
           "type": "scatter",
           "x": [
            0,
            1.2653061224489797
           ],
           "y": [
            0,
            1
           ]
          },
          {
           "fill": "toself",
           "fillcolor": "rgba(0, 100, 200, 0.2)",
           "line": {
            "color": "rgba(255,255,255,0)"
           },
           "name": "Area",
           "type": "scatter",
           "x": [
            0,
            1.2653061224489797,
            1.2653061224489797,
            0,
            0
           ],
           "y": [
            0,
            0,
            1,
            1,
            0
           ]
          }
         ]
        },
        {
         "data": [
          {
           "line": {
            "color": "blue",
            "width": 1
           },
           "marker": {
            "size": 2
           },
           "mode": "lines+markers",
           "name": "V1",
           "type": "scatter",
           "x": [
            0,
            1.2857142857142856
           ],
           "y": [
            0,
            0
           ]
          },
          {
           "line": {
            "color": "red",
            "width": 1
           },
           "marker": {
            "size": 2
           },
           "mode": "lines+markers",
           "name": "V2",
           "type": "scatter",
           "x": [
            0,
            0
           ],
           "y": [
            0,
            1
           ]
          },
          {
           "line": {
            "color": "green",
            "width": 1
           },
           "marker": {
            "size": 2
           },
           "mode": "lines+markers",
           "name": "V1 + V2",
           "type": "scatter",
           "x": [
            0,
            1.2857142857142856
           ],
           "y": [
            0,
            1
           ]
          },
          {
           "fill": "toself",
           "fillcolor": "rgba(0, 100, 200, 0.2)",
           "line": {
            "color": "rgba(255,255,255,0)"
           },
           "name": "Area",
           "type": "scatter",
           "x": [
            0,
            1.2857142857142856,
            1.2857142857142856,
            0,
            0
           ],
           "y": [
            0,
            0,
            1,
            1,
            0
           ]
          }
         ]
        },
        {
         "data": [
          {
           "line": {
            "color": "blue",
            "width": 1
           },
           "marker": {
            "size": 2
           },
           "mode": "lines+markers",
           "name": "V1",
           "type": "scatter",
           "x": [
            0,
            1.3061224489795917
           ],
           "y": [
            0,
            0
           ]
          },
          {
           "line": {
            "color": "red",
            "width": 1
           },
           "marker": {
            "size": 2
           },
           "mode": "lines+markers",
           "name": "V2",
           "type": "scatter",
           "x": [
            0,
            0
           ],
           "y": [
            0,
            1
           ]
          },
          {
           "line": {
            "color": "green",
            "width": 1
           },
           "marker": {
            "size": 2
           },
           "mode": "lines+markers",
           "name": "V1 + V2",
           "type": "scatter",
           "x": [
            0,
            1.3061224489795917
           ],
           "y": [
            0,
            1
           ]
          },
          {
           "fill": "toself",
           "fillcolor": "rgba(0, 100, 200, 0.2)",
           "line": {
            "color": "rgba(255,255,255,0)"
           },
           "name": "Area",
           "type": "scatter",
           "x": [
            0,
            1.3061224489795917,
            1.3061224489795917,
            0,
            0
           ],
           "y": [
            0,
            0,
            1,
            1,
            0
           ]
          }
         ]
        },
        {
         "data": [
          {
           "line": {
            "color": "blue",
            "width": 1
           },
           "marker": {
            "size": 2
           },
           "mode": "lines+markers",
           "name": "V1",
           "type": "scatter",
           "x": [
            0,
            1.3265306122448979
           ],
           "y": [
            0,
            0
           ]
          },
          {
           "line": {
            "color": "red",
            "width": 1
           },
           "marker": {
            "size": 2
           },
           "mode": "lines+markers",
           "name": "V2",
           "type": "scatter",
           "x": [
            0,
            0
           ],
           "y": [
            0,
            1
           ]
          },
          {
           "line": {
            "color": "green",
            "width": 1
           },
           "marker": {
            "size": 2
           },
           "mode": "lines+markers",
           "name": "V1 + V2",
           "type": "scatter",
           "x": [
            0,
            1.3265306122448979
           ],
           "y": [
            0,
            1
           ]
          },
          {
           "fill": "toself",
           "fillcolor": "rgba(0, 100, 200, 0.2)",
           "line": {
            "color": "rgba(255,255,255,0)"
           },
           "name": "Area",
           "type": "scatter",
           "x": [
            0,
            1.3265306122448979,
            1.3265306122448979,
            0,
            0
           ],
           "y": [
            0,
            0,
            1,
            1,
            0
           ]
          }
         ]
        },
        {
         "data": [
          {
           "line": {
            "color": "blue",
            "width": 1
           },
           "marker": {
            "size": 2
           },
           "mode": "lines+markers",
           "name": "V1",
           "type": "scatter",
           "x": [
            0,
            1.346938775510204
           ],
           "y": [
            0,
            0
           ]
          },
          {
           "line": {
            "color": "red",
            "width": 1
           },
           "marker": {
            "size": 2
           },
           "mode": "lines+markers",
           "name": "V2",
           "type": "scatter",
           "x": [
            0,
            0
           ],
           "y": [
            0,
            1
           ]
          },
          {
           "line": {
            "color": "green",
            "width": 1
           },
           "marker": {
            "size": 2
           },
           "mode": "lines+markers",
           "name": "V1 + V2",
           "type": "scatter",
           "x": [
            0,
            1.346938775510204
           ],
           "y": [
            0,
            1
           ]
          },
          {
           "fill": "toself",
           "fillcolor": "rgba(0, 100, 200, 0.2)",
           "line": {
            "color": "rgba(255,255,255,0)"
           },
           "name": "Area",
           "type": "scatter",
           "x": [
            0,
            1.346938775510204,
            1.346938775510204,
            0,
            0
           ],
           "y": [
            0,
            0,
            1,
            1,
            0
           ]
          }
         ]
        },
        {
         "data": [
          {
           "line": {
            "color": "blue",
            "width": 1
           },
           "marker": {
            "size": 2
           },
           "mode": "lines+markers",
           "name": "V1",
           "type": "scatter",
           "x": [
            0,
            1.3673469387755102
           ],
           "y": [
            0,
            0
           ]
          },
          {
           "line": {
            "color": "red",
            "width": 1
           },
           "marker": {
            "size": 2
           },
           "mode": "lines+markers",
           "name": "V2",
           "type": "scatter",
           "x": [
            0,
            0
           ],
           "y": [
            0,
            1
           ]
          },
          {
           "line": {
            "color": "green",
            "width": 1
           },
           "marker": {
            "size": 2
           },
           "mode": "lines+markers",
           "name": "V1 + V2",
           "type": "scatter",
           "x": [
            0,
            1.3673469387755102
           ],
           "y": [
            0,
            1
           ]
          },
          {
           "fill": "toself",
           "fillcolor": "rgba(0, 100, 200, 0.2)",
           "line": {
            "color": "rgba(255,255,255,0)"
           },
           "name": "Area",
           "type": "scatter",
           "x": [
            0,
            1.3673469387755102,
            1.3673469387755102,
            0,
            0
           ],
           "y": [
            0,
            0,
            1,
            1,
            0
           ]
          }
         ]
        },
        {
         "data": [
          {
           "line": {
            "color": "blue",
            "width": 1
           },
           "marker": {
            "size": 2
           },
           "mode": "lines+markers",
           "name": "V1",
           "type": "scatter",
           "x": [
            0,
            1.3877551020408163
           ],
           "y": [
            0,
            0
           ]
          },
          {
           "line": {
            "color": "red",
            "width": 1
           },
           "marker": {
            "size": 2
           },
           "mode": "lines+markers",
           "name": "V2",
           "type": "scatter",
           "x": [
            0,
            0
           ],
           "y": [
            0,
            1
           ]
          },
          {
           "line": {
            "color": "green",
            "width": 1
           },
           "marker": {
            "size": 2
           },
           "mode": "lines+markers",
           "name": "V1 + V2",
           "type": "scatter",
           "x": [
            0,
            1.3877551020408163
           ],
           "y": [
            0,
            1
           ]
          },
          {
           "fill": "toself",
           "fillcolor": "rgba(0, 100, 200, 0.2)",
           "line": {
            "color": "rgba(255,255,255,0)"
           },
           "name": "Area",
           "type": "scatter",
           "x": [
            0,
            1.3877551020408163,
            1.3877551020408163,
            0,
            0
           ],
           "y": [
            0,
            0,
            1,
            1,
            0
           ]
          }
         ]
        },
        {
         "data": [
          {
           "line": {
            "color": "blue",
            "width": 1
           },
           "marker": {
            "size": 2
           },
           "mode": "lines+markers",
           "name": "V1",
           "type": "scatter",
           "x": [
            0,
            1.4081632653061225
           ],
           "y": [
            0,
            0
           ]
          },
          {
           "line": {
            "color": "red",
            "width": 1
           },
           "marker": {
            "size": 2
           },
           "mode": "lines+markers",
           "name": "V2",
           "type": "scatter",
           "x": [
            0,
            0
           ],
           "y": [
            0,
            1
           ]
          },
          {
           "line": {
            "color": "green",
            "width": 1
           },
           "marker": {
            "size": 2
           },
           "mode": "lines+markers",
           "name": "V1 + V2",
           "type": "scatter",
           "x": [
            0,
            1.4081632653061225
           ],
           "y": [
            0,
            1
           ]
          },
          {
           "fill": "toself",
           "fillcolor": "rgba(0, 100, 200, 0.2)",
           "line": {
            "color": "rgba(255,255,255,0)"
           },
           "name": "Area",
           "type": "scatter",
           "x": [
            0,
            1.4081632653061225,
            1.4081632653061225,
            0,
            0
           ],
           "y": [
            0,
            0,
            1,
            1,
            0
           ]
          }
         ]
        },
        {
         "data": [
          {
           "line": {
            "color": "blue",
            "width": 1
           },
           "marker": {
            "size": 2
           },
           "mode": "lines+markers",
           "name": "V1",
           "type": "scatter",
           "x": [
            0,
            1.4285714285714286
           ],
           "y": [
            0,
            0
           ]
          },
          {
           "line": {
            "color": "red",
            "width": 1
           },
           "marker": {
            "size": 2
           },
           "mode": "lines+markers",
           "name": "V2",
           "type": "scatter",
           "x": [
            0,
            0
           ],
           "y": [
            0,
            1
           ]
          },
          {
           "line": {
            "color": "green",
            "width": 1
           },
           "marker": {
            "size": 2
           },
           "mode": "lines+markers",
           "name": "V1 + V2",
           "type": "scatter",
           "x": [
            0,
            1.4285714285714286
           ],
           "y": [
            0,
            1
           ]
          },
          {
           "fill": "toself",
           "fillcolor": "rgba(0, 100, 200, 0.2)",
           "line": {
            "color": "rgba(255,255,255,0)"
           },
           "name": "Area",
           "type": "scatter",
           "x": [
            0,
            1.4285714285714286,
            1.4285714285714286,
            0,
            0
           ],
           "y": [
            0,
            0,
            1,
            1,
            0
           ]
          }
         ]
        },
        {
         "data": [
          {
           "line": {
            "color": "blue",
            "width": 1
           },
           "marker": {
            "size": 2
           },
           "mode": "lines+markers",
           "name": "V1",
           "type": "scatter",
           "x": [
            0,
            1.4489795918367347
           ],
           "y": [
            0,
            0
           ]
          },
          {
           "line": {
            "color": "red",
            "width": 1
           },
           "marker": {
            "size": 2
           },
           "mode": "lines+markers",
           "name": "V2",
           "type": "scatter",
           "x": [
            0,
            0
           ],
           "y": [
            0,
            1
           ]
          },
          {
           "line": {
            "color": "green",
            "width": 1
           },
           "marker": {
            "size": 2
           },
           "mode": "lines+markers",
           "name": "V1 + V2",
           "type": "scatter",
           "x": [
            0,
            1.4489795918367347
           ],
           "y": [
            0,
            1
           ]
          },
          {
           "fill": "toself",
           "fillcolor": "rgba(0, 100, 200, 0.2)",
           "line": {
            "color": "rgba(255,255,255,0)"
           },
           "name": "Area",
           "type": "scatter",
           "x": [
            0,
            1.4489795918367347,
            1.4489795918367347,
            0,
            0
           ],
           "y": [
            0,
            0,
            1,
            1,
            0
           ]
          }
         ]
        },
        {
         "data": [
          {
           "line": {
            "color": "blue",
            "width": 1
           },
           "marker": {
            "size": 2
           },
           "mode": "lines+markers",
           "name": "V1",
           "type": "scatter",
           "x": [
            0,
            1.4693877551020407
           ],
           "y": [
            0,
            0
           ]
          },
          {
           "line": {
            "color": "red",
            "width": 1
           },
           "marker": {
            "size": 2
           },
           "mode": "lines+markers",
           "name": "V2",
           "type": "scatter",
           "x": [
            0,
            0
           ],
           "y": [
            0,
            1
           ]
          },
          {
           "line": {
            "color": "green",
            "width": 1
           },
           "marker": {
            "size": 2
           },
           "mode": "lines+markers",
           "name": "V1 + V2",
           "type": "scatter",
           "x": [
            0,
            1.4693877551020407
           ],
           "y": [
            0,
            1
           ]
          },
          {
           "fill": "toself",
           "fillcolor": "rgba(0, 100, 200, 0.2)",
           "line": {
            "color": "rgba(255,255,255,0)"
           },
           "name": "Area",
           "type": "scatter",
           "x": [
            0,
            1.4693877551020407,
            1.4693877551020407,
            0,
            0
           ],
           "y": [
            0,
            0,
            1,
            1,
            0
           ]
          }
         ]
        },
        {
         "data": [
          {
           "line": {
            "color": "blue",
            "width": 1
           },
           "marker": {
            "size": 2
           },
           "mode": "lines+markers",
           "name": "V1",
           "type": "scatter",
           "x": [
            0,
            1.489795918367347
           ],
           "y": [
            0,
            0
           ]
          },
          {
           "line": {
            "color": "red",
            "width": 1
           },
           "marker": {
            "size": 2
           },
           "mode": "lines+markers",
           "name": "V2",
           "type": "scatter",
           "x": [
            0,
            0
           ],
           "y": [
            0,
            1
           ]
          },
          {
           "line": {
            "color": "green",
            "width": 1
           },
           "marker": {
            "size": 2
           },
           "mode": "lines+markers",
           "name": "V1 + V2",
           "type": "scatter",
           "x": [
            0,
            1.489795918367347
           ],
           "y": [
            0,
            1
           ]
          },
          {
           "fill": "toself",
           "fillcolor": "rgba(0, 100, 200, 0.2)",
           "line": {
            "color": "rgba(255,255,255,0)"
           },
           "name": "Area",
           "type": "scatter",
           "x": [
            0,
            1.489795918367347,
            1.489795918367347,
            0,
            0
           ],
           "y": [
            0,
            0,
            1,
            1,
            0
           ]
          }
         ]
        },
        {
         "data": [
          {
           "line": {
            "color": "blue",
            "width": 1
           },
           "marker": {
            "size": 2
           },
           "mode": "lines+markers",
           "name": "V1",
           "type": "scatter",
           "x": [
            0,
            1.510204081632653
           ],
           "y": [
            0,
            0
           ]
          },
          {
           "line": {
            "color": "red",
            "width": 1
           },
           "marker": {
            "size": 2
           },
           "mode": "lines+markers",
           "name": "V2",
           "type": "scatter",
           "x": [
            0,
            0
           ],
           "y": [
            0,
            1
           ]
          },
          {
           "line": {
            "color": "green",
            "width": 1
           },
           "marker": {
            "size": 2
           },
           "mode": "lines+markers",
           "name": "V1 + V2",
           "type": "scatter",
           "x": [
            0,
            1.510204081632653
           ],
           "y": [
            0,
            1
           ]
          },
          {
           "fill": "toself",
           "fillcolor": "rgba(0, 100, 200, 0.2)",
           "line": {
            "color": "rgba(255,255,255,0)"
           },
           "name": "Area",
           "type": "scatter",
           "x": [
            0,
            1.510204081632653,
            1.510204081632653,
            0,
            0
           ],
           "y": [
            0,
            0,
            1,
            1,
            0
           ]
          }
         ]
        },
        {
         "data": [
          {
           "line": {
            "color": "blue",
            "width": 1
           },
           "marker": {
            "size": 2
           },
           "mode": "lines+markers",
           "name": "V1",
           "type": "scatter",
           "x": [
            0,
            1.530612244897959
           ],
           "y": [
            0,
            0
           ]
          },
          {
           "line": {
            "color": "red",
            "width": 1
           },
           "marker": {
            "size": 2
           },
           "mode": "lines+markers",
           "name": "V2",
           "type": "scatter",
           "x": [
            0,
            0
           ],
           "y": [
            0,
            1
           ]
          },
          {
           "line": {
            "color": "green",
            "width": 1
           },
           "marker": {
            "size": 2
           },
           "mode": "lines+markers",
           "name": "V1 + V2",
           "type": "scatter",
           "x": [
            0,
            1.530612244897959
           ],
           "y": [
            0,
            1
           ]
          },
          {
           "fill": "toself",
           "fillcolor": "rgba(0, 100, 200, 0.2)",
           "line": {
            "color": "rgba(255,255,255,0)"
           },
           "name": "Area",
           "type": "scatter",
           "x": [
            0,
            1.530612244897959,
            1.530612244897959,
            0,
            0
           ],
           "y": [
            0,
            0,
            1,
            1,
            0
           ]
          }
         ]
        },
        {
         "data": [
          {
           "line": {
            "color": "blue",
            "width": 1
           },
           "marker": {
            "size": 2
           },
           "mode": "lines+markers",
           "name": "V1",
           "type": "scatter",
           "x": [
            0,
            1.5510204081632653
           ],
           "y": [
            0,
            0
           ]
          },
          {
           "line": {
            "color": "red",
            "width": 1
           },
           "marker": {
            "size": 2
           },
           "mode": "lines+markers",
           "name": "V2",
           "type": "scatter",
           "x": [
            0,
            0
           ],
           "y": [
            0,
            1
           ]
          },
          {
           "line": {
            "color": "green",
            "width": 1
           },
           "marker": {
            "size": 2
           },
           "mode": "lines+markers",
           "name": "V1 + V2",
           "type": "scatter",
           "x": [
            0,
            1.5510204081632653
           ],
           "y": [
            0,
            1
           ]
          },
          {
           "fill": "toself",
           "fillcolor": "rgba(0, 100, 200, 0.2)",
           "line": {
            "color": "rgba(255,255,255,0)"
           },
           "name": "Area",
           "type": "scatter",
           "x": [
            0,
            1.5510204081632653,
            1.5510204081632653,
            0,
            0
           ],
           "y": [
            0,
            0,
            1,
            1,
            0
           ]
          }
         ]
        },
        {
         "data": [
          {
           "line": {
            "color": "blue",
            "width": 1
           },
           "marker": {
            "size": 2
           },
           "mode": "lines+markers",
           "name": "V1",
           "type": "scatter",
           "x": [
            0,
            1.5714285714285714
           ],
           "y": [
            0,
            0
           ]
          },
          {
           "line": {
            "color": "red",
            "width": 1
           },
           "marker": {
            "size": 2
           },
           "mode": "lines+markers",
           "name": "V2",
           "type": "scatter",
           "x": [
            0,
            0
           ],
           "y": [
            0,
            1
           ]
          },
          {
           "line": {
            "color": "green",
            "width": 1
           },
           "marker": {
            "size": 2
           },
           "mode": "lines+markers",
           "name": "V1 + V2",
           "type": "scatter",
           "x": [
            0,
            1.5714285714285714
           ],
           "y": [
            0,
            1
           ]
          },
          {
           "fill": "toself",
           "fillcolor": "rgba(0, 100, 200, 0.2)",
           "line": {
            "color": "rgba(255,255,255,0)"
           },
           "name": "Area",
           "type": "scatter",
           "x": [
            0,
            1.5714285714285714,
            1.5714285714285714,
            0,
            0
           ],
           "y": [
            0,
            0,
            1,
            1,
            0
           ]
          }
         ]
        },
        {
         "data": [
          {
           "line": {
            "color": "blue",
            "width": 1
           },
           "marker": {
            "size": 2
           },
           "mode": "lines+markers",
           "name": "V1",
           "type": "scatter",
           "x": [
            0,
            1.5918367346938775
           ],
           "y": [
            0,
            0
           ]
          },
          {
           "line": {
            "color": "red",
            "width": 1
           },
           "marker": {
            "size": 2
           },
           "mode": "lines+markers",
           "name": "V2",
           "type": "scatter",
           "x": [
            0,
            0
           ],
           "y": [
            0,
            1
           ]
          },
          {
           "line": {
            "color": "green",
            "width": 1
           },
           "marker": {
            "size": 2
           },
           "mode": "lines+markers",
           "name": "V1 + V2",
           "type": "scatter",
           "x": [
            0,
            1.5918367346938775
           ],
           "y": [
            0,
            1
           ]
          },
          {
           "fill": "toself",
           "fillcolor": "rgba(0, 100, 200, 0.2)",
           "line": {
            "color": "rgba(255,255,255,0)"
           },
           "name": "Area",
           "type": "scatter",
           "x": [
            0,
            1.5918367346938775,
            1.5918367346938775,
            0,
            0
           ],
           "y": [
            0,
            0,
            1,
            1,
            0
           ]
          }
         ]
        },
        {
         "data": [
          {
           "line": {
            "color": "blue",
            "width": 1
           },
           "marker": {
            "size": 2
           },
           "mode": "lines+markers",
           "name": "V1",
           "type": "scatter",
           "x": [
            0,
            1.6122448979591835
           ],
           "y": [
            0,
            0
           ]
          },
          {
           "line": {
            "color": "red",
            "width": 1
           },
           "marker": {
            "size": 2
           },
           "mode": "lines+markers",
           "name": "V2",
           "type": "scatter",
           "x": [
            0,
            0
           ],
           "y": [
            0,
            1
           ]
          },
          {
           "line": {
            "color": "green",
            "width": 1
           },
           "marker": {
            "size": 2
           },
           "mode": "lines+markers",
           "name": "V1 + V2",
           "type": "scatter",
           "x": [
            0,
            1.6122448979591835
           ],
           "y": [
            0,
            1
           ]
          },
          {
           "fill": "toself",
           "fillcolor": "rgba(0, 100, 200, 0.2)",
           "line": {
            "color": "rgba(255,255,255,0)"
           },
           "name": "Area",
           "type": "scatter",
           "x": [
            0,
            1.6122448979591835,
            1.6122448979591835,
            0,
            0
           ],
           "y": [
            0,
            0,
            1,
            1,
            0
           ]
          }
         ]
        },
        {
         "data": [
          {
           "line": {
            "color": "blue",
            "width": 1
           },
           "marker": {
            "size": 2
           },
           "mode": "lines+markers",
           "name": "V1",
           "type": "scatter",
           "x": [
            0,
            1.6326530612244898
           ],
           "y": [
            0,
            0
           ]
          },
          {
           "line": {
            "color": "red",
            "width": 1
           },
           "marker": {
            "size": 2
           },
           "mode": "lines+markers",
           "name": "V2",
           "type": "scatter",
           "x": [
            0,
            0
           ],
           "y": [
            0,
            1
           ]
          },
          {
           "line": {
            "color": "green",
            "width": 1
           },
           "marker": {
            "size": 2
           },
           "mode": "lines+markers",
           "name": "V1 + V2",
           "type": "scatter",
           "x": [
            0,
            1.6326530612244898
           ],
           "y": [
            0,
            1
           ]
          },
          {
           "fill": "toself",
           "fillcolor": "rgba(0, 100, 200, 0.2)",
           "line": {
            "color": "rgba(255,255,255,0)"
           },
           "name": "Area",
           "type": "scatter",
           "x": [
            0,
            1.6326530612244898,
            1.6326530612244898,
            0,
            0
           ],
           "y": [
            0,
            0,
            1,
            1,
            0
           ]
          }
         ]
        },
        {
         "data": [
          {
           "line": {
            "color": "blue",
            "width": 1
           },
           "marker": {
            "size": 2
           },
           "mode": "lines+markers",
           "name": "V1",
           "type": "scatter",
           "x": [
            0,
            1.6530612244897958
           ],
           "y": [
            0,
            0
           ]
          },
          {
           "line": {
            "color": "red",
            "width": 1
           },
           "marker": {
            "size": 2
           },
           "mode": "lines+markers",
           "name": "V2",
           "type": "scatter",
           "x": [
            0,
            0
           ],
           "y": [
            0,
            1
           ]
          },
          {
           "line": {
            "color": "green",
            "width": 1
           },
           "marker": {
            "size": 2
           },
           "mode": "lines+markers",
           "name": "V1 + V2",
           "type": "scatter",
           "x": [
            0,
            1.6530612244897958
           ],
           "y": [
            0,
            1
           ]
          },
          {
           "fill": "toself",
           "fillcolor": "rgba(0, 100, 200, 0.2)",
           "line": {
            "color": "rgba(255,255,255,0)"
           },
           "name": "Area",
           "type": "scatter",
           "x": [
            0,
            1.6530612244897958,
            1.6530612244897958,
            0,
            0
           ],
           "y": [
            0,
            0,
            1,
            1,
            0
           ]
          }
         ]
        },
        {
         "data": [
          {
           "line": {
            "color": "blue",
            "width": 1
           },
           "marker": {
            "size": 2
           },
           "mode": "lines+markers",
           "name": "V1",
           "type": "scatter",
           "x": [
            0,
            1.6734693877551021
           ],
           "y": [
            0,
            0
           ]
          },
          {
           "line": {
            "color": "red",
            "width": 1
           },
           "marker": {
            "size": 2
           },
           "mode": "lines+markers",
           "name": "V2",
           "type": "scatter",
           "x": [
            0,
            0
           ],
           "y": [
            0,
            1
           ]
          },
          {
           "line": {
            "color": "green",
            "width": 1
           },
           "marker": {
            "size": 2
           },
           "mode": "lines+markers",
           "name": "V1 + V2",
           "type": "scatter",
           "x": [
            0,
            1.6734693877551021
           ],
           "y": [
            0,
            1
           ]
          },
          {
           "fill": "toself",
           "fillcolor": "rgba(0, 100, 200, 0.2)",
           "line": {
            "color": "rgba(255,255,255,0)"
           },
           "name": "Area",
           "type": "scatter",
           "x": [
            0,
            1.6734693877551021,
            1.6734693877551021,
            0,
            0
           ],
           "y": [
            0,
            0,
            1,
            1,
            0
           ]
          }
         ]
        },
        {
         "data": [
          {
           "line": {
            "color": "blue",
            "width": 1
           },
           "marker": {
            "size": 2
           },
           "mode": "lines+markers",
           "name": "V1",
           "type": "scatter",
           "x": [
            0,
            1.693877551020408
           ],
           "y": [
            0,
            0
           ]
          },
          {
           "line": {
            "color": "red",
            "width": 1
           },
           "marker": {
            "size": 2
           },
           "mode": "lines+markers",
           "name": "V2",
           "type": "scatter",
           "x": [
            0,
            0
           ],
           "y": [
            0,
            1
           ]
          },
          {
           "line": {
            "color": "green",
            "width": 1
           },
           "marker": {
            "size": 2
           },
           "mode": "lines+markers",
           "name": "V1 + V2",
           "type": "scatter",
           "x": [
            0,
            1.693877551020408
           ],
           "y": [
            0,
            1
           ]
          },
          {
           "fill": "toself",
           "fillcolor": "rgba(0, 100, 200, 0.2)",
           "line": {
            "color": "rgba(255,255,255,0)"
           },
           "name": "Area",
           "type": "scatter",
           "x": [
            0,
            1.693877551020408,
            1.693877551020408,
            0,
            0
           ],
           "y": [
            0,
            0,
            1,
            1,
            0
           ]
          }
         ]
        },
        {
         "data": [
          {
           "line": {
            "color": "blue",
            "width": 1
           },
           "marker": {
            "size": 2
           },
           "mode": "lines+markers",
           "name": "V1",
           "type": "scatter",
           "x": [
            0,
            1.7142857142857142
           ],
           "y": [
            0,
            0
           ]
          },
          {
           "line": {
            "color": "red",
            "width": 1
           },
           "marker": {
            "size": 2
           },
           "mode": "lines+markers",
           "name": "V2",
           "type": "scatter",
           "x": [
            0,
            0
           ],
           "y": [
            0,
            1
           ]
          },
          {
           "line": {
            "color": "green",
            "width": 1
           },
           "marker": {
            "size": 2
           },
           "mode": "lines+markers",
           "name": "V1 + V2",
           "type": "scatter",
           "x": [
            0,
            1.7142857142857142
           ],
           "y": [
            0,
            1
           ]
          },
          {
           "fill": "toself",
           "fillcolor": "rgba(0, 100, 200, 0.2)",
           "line": {
            "color": "rgba(255,255,255,0)"
           },
           "name": "Area",
           "type": "scatter",
           "x": [
            0,
            1.7142857142857142,
            1.7142857142857142,
            0,
            0
           ],
           "y": [
            0,
            0,
            1,
            1,
            0
           ]
          }
         ]
        },
        {
         "data": [
          {
           "line": {
            "color": "blue",
            "width": 1
           },
           "marker": {
            "size": 2
           },
           "mode": "lines+markers",
           "name": "V1",
           "type": "scatter",
           "x": [
            0,
            1.7346938775510203
           ],
           "y": [
            0,
            0
           ]
          },
          {
           "line": {
            "color": "red",
            "width": 1
           },
           "marker": {
            "size": 2
           },
           "mode": "lines+markers",
           "name": "V2",
           "type": "scatter",
           "x": [
            0,
            0
           ],
           "y": [
            0,
            1
           ]
          },
          {
           "line": {
            "color": "green",
            "width": 1
           },
           "marker": {
            "size": 2
           },
           "mode": "lines+markers",
           "name": "V1 + V2",
           "type": "scatter",
           "x": [
            0,
            1.7346938775510203
           ],
           "y": [
            0,
            1
           ]
          },
          {
           "fill": "toself",
           "fillcolor": "rgba(0, 100, 200, 0.2)",
           "line": {
            "color": "rgba(255,255,255,0)"
           },
           "name": "Area",
           "type": "scatter",
           "x": [
            0,
            1.7346938775510203,
            1.7346938775510203,
            0,
            0
           ],
           "y": [
            0,
            0,
            1,
            1,
            0
           ]
          }
         ]
        },
        {
         "data": [
          {
           "line": {
            "color": "blue",
            "width": 1
           },
           "marker": {
            "size": 2
           },
           "mode": "lines+markers",
           "name": "V1",
           "type": "scatter",
           "x": [
            0,
            1.7551020408163265
           ],
           "y": [
            0,
            0
           ]
          },
          {
           "line": {
            "color": "red",
            "width": 1
           },
           "marker": {
            "size": 2
           },
           "mode": "lines+markers",
           "name": "V2",
           "type": "scatter",
           "x": [
            0,
            0
           ],
           "y": [
            0,
            1
           ]
          },
          {
           "line": {
            "color": "green",
            "width": 1
           },
           "marker": {
            "size": 2
           },
           "mode": "lines+markers",
           "name": "V1 + V2",
           "type": "scatter",
           "x": [
            0,
            1.7551020408163265
           ],
           "y": [
            0,
            1
           ]
          },
          {
           "fill": "toself",
           "fillcolor": "rgba(0, 100, 200, 0.2)",
           "line": {
            "color": "rgba(255,255,255,0)"
           },
           "name": "Area",
           "type": "scatter",
           "x": [
            0,
            1.7551020408163265,
            1.7551020408163265,
            0,
            0
           ],
           "y": [
            0,
            0,
            1,
            1,
            0
           ]
          }
         ]
        },
        {
         "data": [
          {
           "line": {
            "color": "blue",
            "width": 1
           },
           "marker": {
            "size": 2
           },
           "mode": "lines+markers",
           "name": "V1",
           "type": "scatter",
           "x": [
            0,
            1.7755102040816326
           ],
           "y": [
            0,
            0
           ]
          },
          {
           "line": {
            "color": "red",
            "width": 1
           },
           "marker": {
            "size": 2
           },
           "mode": "lines+markers",
           "name": "V2",
           "type": "scatter",
           "x": [
            0,
            0
           ],
           "y": [
            0,
            1
           ]
          },
          {
           "line": {
            "color": "green",
            "width": 1
           },
           "marker": {
            "size": 2
           },
           "mode": "lines+markers",
           "name": "V1 + V2",
           "type": "scatter",
           "x": [
            0,
            1.7755102040816326
           ],
           "y": [
            0,
            1
           ]
          },
          {
           "fill": "toself",
           "fillcolor": "rgba(0, 100, 200, 0.2)",
           "line": {
            "color": "rgba(255,255,255,0)"
           },
           "name": "Area",
           "type": "scatter",
           "x": [
            0,
            1.7755102040816326,
            1.7755102040816326,
            0,
            0
           ],
           "y": [
            0,
            0,
            1,
            1,
            0
           ]
          }
         ]
        },
        {
         "data": [
          {
           "line": {
            "color": "blue",
            "width": 1
           },
           "marker": {
            "size": 2
           },
           "mode": "lines+markers",
           "name": "V1",
           "type": "scatter",
           "x": [
            0,
            1.7959183673469385
           ],
           "y": [
            0,
            0
           ]
          },
          {
           "line": {
            "color": "red",
            "width": 1
           },
           "marker": {
            "size": 2
           },
           "mode": "lines+markers",
           "name": "V2",
           "type": "scatter",
           "x": [
            0,
            0
           ],
           "y": [
            0,
            1
           ]
          },
          {
           "line": {
            "color": "green",
            "width": 1
           },
           "marker": {
            "size": 2
           },
           "mode": "lines+markers",
           "name": "V1 + V2",
           "type": "scatter",
           "x": [
            0,
            1.7959183673469385
           ],
           "y": [
            0,
            1
           ]
          },
          {
           "fill": "toself",
           "fillcolor": "rgba(0, 100, 200, 0.2)",
           "line": {
            "color": "rgba(255,255,255,0)"
           },
           "name": "Area",
           "type": "scatter",
           "x": [
            0,
            1.7959183673469385,
            1.7959183673469385,
            0,
            0
           ],
           "y": [
            0,
            0,
            1,
            1,
            0
           ]
          }
         ]
        },
        {
         "data": [
          {
           "line": {
            "color": "blue",
            "width": 1
           },
           "marker": {
            "size": 2
           },
           "mode": "lines+markers",
           "name": "V1",
           "type": "scatter",
           "x": [
            0,
            1.816326530612245
           ],
           "y": [
            0,
            0
           ]
          },
          {
           "line": {
            "color": "red",
            "width": 1
           },
           "marker": {
            "size": 2
           },
           "mode": "lines+markers",
           "name": "V2",
           "type": "scatter",
           "x": [
            0,
            0
           ],
           "y": [
            0,
            1
           ]
          },
          {
           "line": {
            "color": "green",
            "width": 1
           },
           "marker": {
            "size": 2
           },
           "mode": "lines+markers",
           "name": "V1 + V2",
           "type": "scatter",
           "x": [
            0,
            1.816326530612245
           ],
           "y": [
            0,
            1
           ]
          },
          {
           "fill": "toself",
           "fillcolor": "rgba(0, 100, 200, 0.2)",
           "line": {
            "color": "rgba(255,255,255,0)"
           },
           "name": "Area",
           "type": "scatter",
           "x": [
            0,
            1.816326530612245,
            1.816326530612245,
            0,
            0
           ],
           "y": [
            0,
            0,
            1,
            1,
            0
           ]
          }
         ]
        },
        {
         "data": [
          {
           "line": {
            "color": "blue",
            "width": 1
           },
           "marker": {
            "size": 2
           },
           "mode": "lines+markers",
           "name": "V1",
           "type": "scatter",
           "x": [
            0,
            1.8367346938775508
           ],
           "y": [
            0,
            0
           ]
          },
          {
           "line": {
            "color": "red",
            "width": 1
           },
           "marker": {
            "size": 2
           },
           "mode": "lines+markers",
           "name": "V2",
           "type": "scatter",
           "x": [
            0,
            0
           ],
           "y": [
            0,
            1
           ]
          },
          {
           "line": {
            "color": "green",
            "width": 1
           },
           "marker": {
            "size": 2
           },
           "mode": "lines+markers",
           "name": "V1 + V2",
           "type": "scatter",
           "x": [
            0,
            1.8367346938775508
           ],
           "y": [
            0,
            1
           ]
          },
          {
           "fill": "toself",
           "fillcolor": "rgba(0, 100, 200, 0.2)",
           "line": {
            "color": "rgba(255,255,255,0)"
           },
           "name": "Area",
           "type": "scatter",
           "x": [
            0,
            1.8367346938775508,
            1.8367346938775508,
            0,
            0
           ],
           "y": [
            0,
            0,
            1,
            1,
            0
           ]
          }
         ]
        },
        {
         "data": [
          {
           "line": {
            "color": "blue",
            "width": 1
           },
           "marker": {
            "size": 2
           },
           "mode": "lines+markers",
           "name": "V1",
           "type": "scatter",
           "x": [
            0,
            1.8571428571428572
           ],
           "y": [
            0,
            0
           ]
          },
          {
           "line": {
            "color": "red",
            "width": 1
           },
           "marker": {
            "size": 2
           },
           "mode": "lines+markers",
           "name": "V2",
           "type": "scatter",
           "x": [
            0,
            0
           ],
           "y": [
            0,
            1
           ]
          },
          {
           "line": {
            "color": "green",
            "width": 1
           },
           "marker": {
            "size": 2
           },
           "mode": "lines+markers",
           "name": "V1 + V2",
           "type": "scatter",
           "x": [
            0,
            1.8571428571428572
           ],
           "y": [
            0,
            1
           ]
          },
          {
           "fill": "toself",
           "fillcolor": "rgba(0, 100, 200, 0.2)",
           "line": {
            "color": "rgba(255,255,255,0)"
           },
           "name": "Area",
           "type": "scatter",
           "x": [
            0,
            1.8571428571428572,
            1.8571428571428572,
            0,
            0
           ],
           "y": [
            0,
            0,
            1,
            1,
            0
           ]
          }
         ]
        },
        {
         "data": [
          {
           "line": {
            "color": "blue",
            "width": 1
           },
           "marker": {
            "size": 2
           },
           "mode": "lines+markers",
           "name": "V1",
           "type": "scatter",
           "x": [
            0,
            1.8775510204081631
           ],
           "y": [
            0,
            0
           ]
          },
          {
           "line": {
            "color": "red",
            "width": 1
           },
           "marker": {
            "size": 2
           },
           "mode": "lines+markers",
           "name": "V2",
           "type": "scatter",
           "x": [
            0,
            0
           ],
           "y": [
            0,
            1
           ]
          },
          {
           "line": {
            "color": "green",
            "width": 1
           },
           "marker": {
            "size": 2
           },
           "mode": "lines+markers",
           "name": "V1 + V2",
           "type": "scatter",
           "x": [
            0,
            1.8775510204081631
           ],
           "y": [
            0,
            1
           ]
          },
          {
           "fill": "toself",
           "fillcolor": "rgba(0, 100, 200, 0.2)",
           "line": {
            "color": "rgba(255,255,255,0)"
           },
           "name": "Area",
           "type": "scatter",
           "x": [
            0,
            1.8775510204081631,
            1.8775510204081631,
            0,
            0
           ],
           "y": [
            0,
            0,
            1,
            1,
            0
           ]
          }
         ]
        },
        {
         "data": [
          {
           "line": {
            "color": "blue",
            "width": 1
           },
           "marker": {
            "size": 2
           },
           "mode": "lines+markers",
           "name": "V1",
           "type": "scatter",
           "x": [
            0,
            1.8979591836734693
           ],
           "y": [
            0,
            0
           ]
          },
          {
           "line": {
            "color": "red",
            "width": 1
           },
           "marker": {
            "size": 2
           },
           "mode": "lines+markers",
           "name": "V2",
           "type": "scatter",
           "x": [
            0,
            0
           ],
           "y": [
            0,
            1
           ]
          },
          {
           "line": {
            "color": "green",
            "width": 1
           },
           "marker": {
            "size": 2
           },
           "mode": "lines+markers",
           "name": "V1 + V2",
           "type": "scatter",
           "x": [
            0,
            1.8979591836734693
           ],
           "y": [
            0,
            1
           ]
          },
          {
           "fill": "toself",
           "fillcolor": "rgba(0, 100, 200, 0.2)",
           "line": {
            "color": "rgba(255,255,255,0)"
           },
           "name": "Area",
           "type": "scatter",
           "x": [
            0,
            1.8979591836734693,
            1.8979591836734693,
            0,
            0
           ],
           "y": [
            0,
            0,
            1,
            1,
            0
           ]
          }
         ]
        },
        {
         "data": [
          {
           "line": {
            "color": "blue",
            "width": 1
           },
           "marker": {
            "size": 2
           },
           "mode": "lines+markers",
           "name": "V1",
           "type": "scatter",
           "x": [
            0,
            1.9183673469387754
           ],
           "y": [
            0,
            0
           ]
          },
          {
           "line": {
            "color": "red",
            "width": 1
           },
           "marker": {
            "size": 2
           },
           "mode": "lines+markers",
           "name": "V2",
           "type": "scatter",
           "x": [
            0,
            0
           ],
           "y": [
            0,
            1
           ]
          },
          {
           "line": {
            "color": "green",
            "width": 1
           },
           "marker": {
            "size": 2
           },
           "mode": "lines+markers",
           "name": "V1 + V2",
           "type": "scatter",
           "x": [
            0,
            1.9183673469387754
           ],
           "y": [
            0,
            1
           ]
          },
          {
           "fill": "toself",
           "fillcolor": "rgba(0, 100, 200, 0.2)",
           "line": {
            "color": "rgba(255,255,255,0)"
           },
           "name": "Area",
           "type": "scatter",
           "x": [
            0,
            1.9183673469387754,
            1.9183673469387754,
            0,
            0
           ],
           "y": [
            0,
            0,
            1,
            1,
            0
           ]
          }
         ]
        },
        {
         "data": [
          {
           "line": {
            "color": "blue",
            "width": 1
           },
           "marker": {
            "size": 2
           },
           "mode": "lines+markers",
           "name": "V1",
           "type": "scatter",
           "x": [
            0,
            1.9387755102040816
           ],
           "y": [
            0,
            0
           ]
          },
          {
           "line": {
            "color": "red",
            "width": 1
           },
           "marker": {
            "size": 2
           },
           "mode": "lines+markers",
           "name": "V2",
           "type": "scatter",
           "x": [
            0,
            0
           ],
           "y": [
            0,
            1
           ]
          },
          {
           "line": {
            "color": "green",
            "width": 1
           },
           "marker": {
            "size": 2
           },
           "mode": "lines+markers",
           "name": "V1 + V2",
           "type": "scatter",
           "x": [
            0,
            1.9387755102040816
           ],
           "y": [
            0,
            1
           ]
          },
          {
           "fill": "toself",
           "fillcolor": "rgba(0, 100, 200, 0.2)",
           "line": {
            "color": "rgba(255,255,255,0)"
           },
           "name": "Area",
           "type": "scatter",
           "x": [
            0,
            1.9387755102040816,
            1.9387755102040816,
            0,
            0
           ],
           "y": [
            0,
            0,
            1,
            1,
            0
           ]
          }
         ]
        },
        {
         "data": [
          {
           "line": {
            "color": "blue",
            "width": 1
           },
           "marker": {
            "size": 2
           },
           "mode": "lines+markers",
           "name": "V1",
           "type": "scatter",
           "x": [
            0,
            1.9591836734693877
           ],
           "y": [
            0,
            0
           ]
          },
          {
           "line": {
            "color": "red",
            "width": 1
           },
           "marker": {
            "size": 2
           },
           "mode": "lines+markers",
           "name": "V2",
           "type": "scatter",
           "x": [
            0,
            0
           ],
           "y": [
            0,
            1
           ]
          },
          {
           "line": {
            "color": "green",
            "width": 1
           },
           "marker": {
            "size": 2
           },
           "mode": "lines+markers",
           "name": "V1 + V2",
           "type": "scatter",
           "x": [
            0,
            1.9591836734693877
           ],
           "y": [
            0,
            1
           ]
          },
          {
           "fill": "toself",
           "fillcolor": "rgba(0, 100, 200, 0.2)",
           "line": {
            "color": "rgba(255,255,255,0)"
           },
           "name": "Area",
           "type": "scatter",
           "x": [
            0,
            1.9591836734693877,
            1.9591836734693877,
            0,
            0
           ],
           "y": [
            0,
            0,
            1,
            1,
            0
           ]
          }
         ]
        },
        {
         "data": [
          {
           "line": {
            "color": "blue",
            "width": 1
           },
           "marker": {
            "size": 2
           },
           "mode": "lines+markers",
           "name": "V1",
           "type": "scatter",
           "x": [
            0,
            1.9795918367346939
           ],
           "y": [
            0,
            0
           ]
          },
          {
           "line": {
            "color": "red",
            "width": 1
           },
           "marker": {
            "size": 2
           },
           "mode": "lines+markers",
           "name": "V2",
           "type": "scatter",
           "x": [
            0,
            0
           ],
           "y": [
            0,
            1
           ]
          },
          {
           "line": {
            "color": "green",
            "width": 1
           },
           "marker": {
            "size": 2
           },
           "mode": "lines+markers",
           "name": "V1 + V2",
           "type": "scatter",
           "x": [
            0,
            1.9795918367346939
           ],
           "y": [
            0,
            1
           ]
          },
          {
           "fill": "toself",
           "fillcolor": "rgba(0, 100, 200, 0.2)",
           "line": {
            "color": "rgba(255,255,255,0)"
           },
           "name": "Area",
           "type": "scatter",
           "x": [
            0,
            1.9795918367346939,
            1.9795918367346939,
            0,
            0
           ],
           "y": [
            0,
            0,
            1,
            1,
            0
           ]
          }
         ]
        },
        {
         "data": [
          {
           "line": {
            "color": "blue",
            "width": 1
           },
           "marker": {
            "size": 2
           },
           "mode": "lines+markers",
           "name": "V1",
           "type": "scatter",
           "x": [
            0,
            2
           ],
           "y": [
            0,
            0
           ]
          },
          {
           "line": {
            "color": "red",
            "width": 1
           },
           "marker": {
            "size": 2
           },
           "mode": "lines+markers",
           "name": "V2",
           "type": "scatter",
           "x": [
            0,
            0
           ],
           "y": [
            0,
            1
           ]
          },
          {
           "line": {
            "color": "green",
            "width": 1
           },
           "marker": {
            "size": 2
           },
           "mode": "lines+markers",
           "name": "V1 + V2",
           "type": "scatter",
           "x": [
            0,
            2
           ],
           "y": [
            0,
            1
           ]
          },
          {
           "fill": "toself",
           "fillcolor": "rgba(0, 100, 200, 0.2)",
           "line": {
            "color": "rgba(255,255,255,0)"
           },
           "name": "Area",
           "type": "scatter",
           "x": [
            0,
            2,
            2,
            0,
            0
           ],
           "y": [
            0,
            0,
            1,
            1,
            0
           ]
          }
         ]
        }
       ],
       "layout": {
        "height": 450,
        "showlegend": true,
        "template": {
         "data": {
          "bar": [
           {
            "error_x": {
             "color": "#2a3f5f"
            },
            "error_y": {
             "color": "#2a3f5f"
            },
            "marker": {
             "line": {
              "color": "#E5ECF6",
              "width": 0.5
             },
             "pattern": {
              "fillmode": "overlay",
              "size": 10,
              "solidity": 0.2
             }
            },
            "type": "bar"
           }
          ],
          "barpolar": [
           {
            "marker": {
             "line": {
              "color": "#E5ECF6",
              "width": 0.5
             },
             "pattern": {
              "fillmode": "overlay",
              "size": 10,
              "solidity": 0.2
             }
            },
            "type": "barpolar"
           }
          ],
          "carpet": [
           {
            "aaxis": {
             "endlinecolor": "#2a3f5f",
             "gridcolor": "white",
             "linecolor": "white",
             "minorgridcolor": "white",
             "startlinecolor": "#2a3f5f"
            },
            "baxis": {
             "endlinecolor": "#2a3f5f",
             "gridcolor": "white",
             "linecolor": "white",
             "minorgridcolor": "white",
             "startlinecolor": "#2a3f5f"
            },
            "type": "carpet"
           }
          ],
          "choropleth": [
           {
            "colorbar": {
             "outlinewidth": 0,
             "ticks": ""
            },
            "type": "choropleth"
           }
          ],
          "contour": [
           {
            "colorbar": {
             "outlinewidth": 0,
             "ticks": ""
            },
            "colorscale": [
             [
              0,
              "#0d0887"
             ],
             [
              0.1111111111111111,
              "#46039f"
             ],
             [
              0.2222222222222222,
              "#7201a8"
             ],
             [
              0.3333333333333333,
              "#9c179e"
             ],
             [
              0.4444444444444444,
              "#bd3786"
             ],
             [
              0.5555555555555556,
              "#d8576b"
             ],
             [
              0.6666666666666666,
              "#ed7953"
             ],
             [
              0.7777777777777778,
              "#fb9f3a"
             ],
             [
              0.8888888888888888,
              "#fdca26"
             ],
             [
              1,
              "#f0f921"
             ]
            ],
            "type": "contour"
           }
          ],
          "contourcarpet": [
           {
            "colorbar": {
             "outlinewidth": 0,
             "ticks": ""
            },
            "type": "contourcarpet"
           }
          ],
          "heatmap": [
           {
            "colorbar": {
             "outlinewidth": 0,
             "ticks": ""
            },
            "colorscale": [
             [
              0,
              "#0d0887"
             ],
             [
              0.1111111111111111,
              "#46039f"
             ],
             [
              0.2222222222222222,
              "#7201a8"
             ],
             [
              0.3333333333333333,
              "#9c179e"
             ],
             [
              0.4444444444444444,
              "#bd3786"
             ],
             [
              0.5555555555555556,
              "#d8576b"
             ],
             [
              0.6666666666666666,
              "#ed7953"
             ],
             [
              0.7777777777777778,
              "#fb9f3a"
             ],
             [
              0.8888888888888888,
              "#fdca26"
             ],
             [
              1,
              "#f0f921"
             ]
            ],
            "type": "heatmap"
           }
          ],
          "heatmapgl": [
           {
            "colorbar": {
             "outlinewidth": 0,
             "ticks": ""
            },
            "colorscale": [
             [
              0,
              "#0d0887"
             ],
             [
              0.1111111111111111,
              "#46039f"
             ],
             [
              0.2222222222222222,
              "#7201a8"
             ],
             [
              0.3333333333333333,
              "#9c179e"
             ],
             [
              0.4444444444444444,
              "#bd3786"
             ],
             [
              0.5555555555555556,
              "#d8576b"
             ],
             [
              0.6666666666666666,
              "#ed7953"
             ],
             [
              0.7777777777777778,
              "#fb9f3a"
             ],
             [
              0.8888888888888888,
              "#fdca26"
             ],
             [
              1,
              "#f0f921"
             ]
            ],
            "type": "heatmapgl"
           }
          ],
          "histogram": [
           {
            "marker": {
             "pattern": {
              "fillmode": "overlay",
              "size": 10,
              "solidity": 0.2
             }
            },
            "type": "histogram"
           }
          ],
          "histogram2d": [
           {
            "colorbar": {
             "outlinewidth": 0,
             "ticks": ""
            },
            "colorscale": [
             [
              0,
              "#0d0887"
             ],
             [
              0.1111111111111111,
              "#46039f"
             ],
             [
              0.2222222222222222,
              "#7201a8"
             ],
             [
              0.3333333333333333,
              "#9c179e"
             ],
             [
              0.4444444444444444,
              "#bd3786"
             ],
             [
              0.5555555555555556,
              "#d8576b"
             ],
             [
              0.6666666666666666,
              "#ed7953"
             ],
             [
              0.7777777777777778,
              "#fb9f3a"
             ],
             [
              0.8888888888888888,
              "#fdca26"
             ],
             [
              1,
              "#f0f921"
             ]
            ],
            "type": "histogram2d"
           }
          ],
          "histogram2dcontour": [
           {
            "colorbar": {
             "outlinewidth": 0,
             "ticks": ""
            },
            "colorscale": [
             [
              0,
              "#0d0887"
             ],
             [
              0.1111111111111111,
              "#46039f"
             ],
             [
              0.2222222222222222,
              "#7201a8"
             ],
             [
              0.3333333333333333,
              "#9c179e"
             ],
             [
              0.4444444444444444,
              "#bd3786"
             ],
             [
              0.5555555555555556,
              "#d8576b"
             ],
             [
              0.6666666666666666,
              "#ed7953"
             ],
             [
              0.7777777777777778,
              "#fb9f3a"
             ],
             [
              0.8888888888888888,
              "#fdca26"
             ],
             [
              1,
              "#f0f921"
             ]
            ],
            "type": "histogram2dcontour"
           }
          ],
          "mesh3d": [
           {
            "colorbar": {
             "outlinewidth": 0,
             "ticks": ""
            },
            "type": "mesh3d"
           }
          ],
          "parcoords": [
           {
            "line": {
             "colorbar": {
              "outlinewidth": 0,
              "ticks": ""
             }
            },
            "type": "parcoords"
           }
          ],
          "pie": [
           {
            "automargin": true,
            "type": "pie"
           }
          ],
          "scatter": [
           {
            "fillpattern": {
             "fillmode": "overlay",
             "size": 10,
             "solidity": 0.2
            },
            "type": "scatter"
           }
          ],
          "scatter3d": [
           {
            "line": {
             "colorbar": {
              "outlinewidth": 0,
              "ticks": ""
             }
            },
            "marker": {
             "colorbar": {
              "outlinewidth": 0,
              "ticks": ""
             }
            },
            "type": "scatter3d"
           }
          ],
          "scattercarpet": [
           {
            "marker": {
             "colorbar": {
              "outlinewidth": 0,
              "ticks": ""
             }
            },
            "type": "scattercarpet"
           }
          ],
          "scattergeo": [
           {
            "marker": {
             "colorbar": {
              "outlinewidth": 0,
              "ticks": ""
             }
            },
            "type": "scattergeo"
           }
          ],
          "scattergl": [
           {
            "marker": {
             "colorbar": {
              "outlinewidth": 0,
              "ticks": ""
             }
            },
            "type": "scattergl"
           }
          ],
          "scattermapbox": [
           {
            "marker": {
             "colorbar": {
              "outlinewidth": 0,
              "ticks": ""
             }
            },
            "type": "scattermapbox"
           }
          ],
          "scatterpolar": [
           {
            "marker": {
             "colorbar": {
              "outlinewidth": 0,
              "ticks": ""
             }
            },
            "type": "scatterpolar"
           }
          ],
          "scatterpolargl": [
           {
            "marker": {
             "colorbar": {
              "outlinewidth": 0,
              "ticks": ""
             }
            },
            "type": "scatterpolargl"
           }
          ],
          "scatterternary": [
           {
            "marker": {
             "colorbar": {
              "outlinewidth": 0,
              "ticks": ""
             }
            },
            "type": "scatterternary"
           }
          ],
          "surface": [
           {
            "colorbar": {
             "outlinewidth": 0,
             "ticks": ""
            },
            "colorscale": [
             [
              0,
              "#0d0887"
             ],
             [
              0.1111111111111111,
              "#46039f"
             ],
             [
              0.2222222222222222,
              "#7201a8"
             ],
             [
              0.3333333333333333,
              "#9c179e"
             ],
             [
              0.4444444444444444,
              "#bd3786"
             ],
             [
              0.5555555555555556,
              "#d8576b"
             ],
             [
              0.6666666666666666,
              "#ed7953"
             ],
             [
              0.7777777777777778,
              "#fb9f3a"
             ],
             [
              0.8888888888888888,
              "#fdca26"
             ],
             [
              1,
              "#f0f921"
             ]
            ],
            "type": "surface"
           }
          ],
          "table": [
           {
            "cells": {
             "fill": {
              "color": "#EBF0F8"
             },
             "line": {
              "color": "white"
             }
            },
            "header": {
             "fill": {
              "color": "#C8D4E3"
             },
             "line": {
              "color": "white"
             }
            },
            "type": "table"
           }
          ]
         },
         "layout": {
          "annotationdefaults": {
           "arrowcolor": "#2a3f5f",
           "arrowhead": 0,
           "arrowwidth": 1
          },
          "autotypenumbers": "strict",
          "coloraxis": {
           "colorbar": {
            "outlinewidth": 0,
            "ticks": ""
           }
          },
          "colorscale": {
           "diverging": [
            [
             0,
             "#8e0152"
            ],
            [
             0.1,
             "#c51b7d"
            ],
            [
             0.2,
             "#de77ae"
            ],
            [
             0.3,
             "#f1b6da"
            ],
            [
             0.4,
             "#fde0ef"
            ],
            [
             0.5,
             "#f7f7f7"
            ],
            [
             0.6,
             "#e6f5d0"
            ],
            [
             0.7,
             "#b8e186"
            ],
            [
             0.8,
             "#7fbc41"
            ],
            [
             0.9,
             "#4d9221"
            ],
            [
             1,
             "#276419"
            ]
           ],
           "sequential": [
            [
             0,
             "#0d0887"
            ],
            [
             0.1111111111111111,
             "#46039f"
            ],
            [
             0.2222222222222222,
             "#7201a8"
            ],
            [
             0.3333333333333333,
             "#9c179e"
            ],
            [
             0.4444444444444444,
             "#bd3786"
            ],
            [
             0.5555555555555556,
             "#d8576b"
            ],
            [
             0.6666666666666666,
             "#ed7953"
            ],
            [
             0.7777777777777778,
             "#fb9f3a"
            ],
            [
             0.8888888888888888,
             "#fdca26"
            ],
            [
             1,
             "#f0f921"
            ]
           ],
           "sequentialminus": [
            [
             0,
             "#0d0887"
            ],
            [
             0.1111111111111111,
             "#46039f"
            ],
            [
             0.2222222222222222,
             "#7201a8"
            ],
            [
             0.3333333333333333,
             "#9c179e"
            ],
            [
             0.4444444444444444,
             "#bd3786"
            ],
            [
             0.5555555555555556,
             "#d8576b"
            ],
            [
             0.6666666666666666,
             "#ed7953"
            ],
            [
             0.7777777777777778,
             "#fb9f3a"
            ],
            [
             0.8888888888888888,
             "#fdca26"
            ],
            [
             1,
             "#f0f921"
            ]
           ]
          },
          "colorway": [
           "#636efa",
           "#EF553B",
           "#00cc96",
           "#ab63fa",
           "#FFA15A",
           "#19d3f3",
           "#FF6692",
           "#B6E880",
           "#FF97FF",
           "#FECB52"
          ],
          "font": {
           "color": "#2a3f5f"
          },
          "geo": {
           "bgcolor": "white",
           "lakecolor": "white",
           "landcolor": "#E5ECF6",
           "showlakes": true,
           "showland": true,
           "subunitcolor": "white"
          },
          "hoverlabel": {
           "align": "left"
          },
          "hovermode": "closest",
          "mapbox": {
           "style": "light"
          },
          "paper_bgcolor": "white",
          "plot_bgcolor": "#E5ECF6",
          "polar": {
           "angularaxis": {
            "gridcolor": "white",
            "linecolor": "white",
            "ticks": ""
           },
           "bgcolor": "#E5ECF6",
           "radialaxis": {
            "gridcolor": "white",
            "linecolor": "white",
            "ticks": ""
           }
          },
          "scene": {
           "xaxis": {
            "backgroundcolor": "#E5ECF6",
            "gridcolor": "white",
            "gridwidth": 2,
            "linecolor": "white",
            "showbackground": true,
            "ticks": "",
            "zerolinecolor": "white"
           },
           "yaxis": {
            "backgroundcolor": "#E5ECF6",
            "gridcolor": "white",
            "gridwidth": 2,
            "linecolor": "white",
            "showbackground": true,
            "ticks": "",
            "zerolinecolor": "white"
           },
           "zaxis": {
            "backgroundcolor": "#E5ECF6",
            "gridcolor": "white",
            "gridwidth": 2,
            "linecolor": "white",
            "showbackground": true,
            "ticks": "",
            "zerolinecolor": "white"
           }
          },
          "shapedefaults": {
           "line": {
            "color": "#2a3f5f"
           }
          },
          "ternary": {
           "aaxis": {
            "gridcolor": "white",
            "linecolor": "white",
            "ticks": ""
           },
           "baxis": {
            "gridcolor": "white",
            "linecolor": "white",
            "ticks": ""
           },
           "bgcolor": "#E5ECF6",
           "caxis": {
            "gridcolor": "white",
            "linecolor": "white",
            "ticks": ""
           }
          },
          "title": {
           "x": 0.05
          },
          "xaxis": {
           "automargin": true,
           "gridcolor": "white",
           "linecolor": "white",
           "ticks": "",
           "title": {
            "standoff": 15
           },
           "zerolinecolor": "white",
           "zerolinewidth": 2
          },
          "yaxis": {
           "automargin": true,
           "gridcolor": "white",
           "linecolor": "white",
           "ticks": "",
           "title": {
            "standoff": 15
           },
           "zerolinecolor": "white",
           "zerolinewidth": 2
          }
         }
        },
        "title": {
         "text": "Area and stretching in the x direction"
        },
        "updatemenus": [
         {
          "buttons": [
           {
            "args": [
             null,
             {
              "frame": {
               "duration": 50,
               "redraw": false
              },
              "fromcurrent": true,
              "transition": {
               "duration": 10
              }
             }
            ],
            "label": "Play",
            "method": "animate"
           }
          ],
          "type": "buttons"
         }
        ],
        "width": 600,
        "xaxis": {
         "range": [
          -2.3,
          2.3
         ],
         "title": {
          "text": "x"
         }
        },
        "yaxis": {
         "range": [
          -2.3,
          2.3
         ],
         "title": {
          "text": "y"
         }
        }
       }
      }
     },
     "metadata": {},
     "output_type": "display_data"
    }
   ],
   "source": [
    "# Scale in the x direction\n",
    "\n",
    "def create_frame_data(v1, v2, A):\n",
    "    v1_tr, v2_tr = A @ v1, A @ v2\n",
    "\n",
    "    tr_sum = v1_tr + v2_tr\n",
    "\n",
    "    return [\n",
    "        go.Scatter(\n",
    "            x=[0, v1_tr[0]],\n",
    "            y=[0, v1_tr[1]],\n",
    "            mode='lines+markers',\n",
    "            name='V1',\n",
    "            line=dict(color='blue', width=1),\n",
    "            marker=dict(size=2)\n",
    "        ),\n",
    "        go.Scatter(\n",
    "            x=[0, v2_tr[0]],\n",
    "            y=[0, v2_tr[1]],\n",
    "            mode='lines+markers',\n",
    "            name='V2',\n",
    "            line=dict(color='red', width=1),\n",
    "            marker=dict(size=2)\n",
    "        ),\n",
    "        go.Scatter(\n",
    "            x=[0, tr_sum[0]],\n",
    "            y=[0, tr_sum[1]],\n",
    "            mode='lines+markers',\n",
    "            name='V1 + V2',\n",
    "            line=dict(color='green', width=1),\n",
    "            marker=dict(size=2)\n",
    "        ),\n",
    "        go.Scatter(\n",
    "            x=[0, v1_tr[0], tr_sum[0], v2_tr[0], 0],  # Define the polygon vertices\n",
    "            y=[0, v1_tr[1], tr_sum[1], v2_tr[1], 0],\n",
    "            fill='toself',\n",
    "            fillcolor='rgba(0, 100, 200, 0.2)',  # Set fill color with transparency\n",
    "            line=dict(color='rgba(255,255,255,0)'),  # No border line\n",
    "            name='Area'\n",
    "        )\n",
    "    ]\n",
    "\n",
    "def create_animation(v1, v2, A_list):    \n",
    "    # Plot the unit vectors and their sum\n",
    "    A = A_list[0]\n",
    "\n",
    "    fig = go.Figure(\n",
    "        data=create_frame_data(v1, v2, A),\n",
    "        layout=go.Layout(\n",
    "            title='Area and stretching in the x direction',\n",
    "            xaxis=dict(title='x', range=[-2.3, 2.3]),  # Set X-axis range\n",
    "            yaxis=dict(title='y', range=[-2.3, 2.3]),  # Set Y-axis range\n",
    "            showlegend=True,\n",
    "            width=800,\n",
    "            height=600\n",
    "        ),\n",
    "    )\n",
    "\n",
    "    frames = [go.Frame(data = create_frame_data(v1, v2, A_frame)) for A_frame in A_list]\n",
    "\n",
    "    fig.update_layout(width=600, height=450,\n",
    "            updatemenus = [\n",
    "                dict(type = \"buttons\",\n",
    "                    buttons = [\n",
    "                        dict(\n",
    "                    args = [None, {\"frame\": {\"duration\": 50, \"redraw\": False},\n",
    "                                    \"fromcurrent\": True, \"transition\": {\"duration\": 10}}],\n",
    "                    label = \"Play\",\n",
    "                    method = \"animate\",\n",
    "                    )])])\n",
    "\n",
    "    fig.update(frames=frames)\n",
    "    \n",
    "    return fig\n",
    "\n",
    "unit1 = np.array([1, 0])\n",
    "unit2 = np.array([0, 1])\n",
    "\n",
    "A_list = [np.identity(2)] + [\n",
    "    np.array([[x, 0], [0, 1]]) for x in np.linspace(1, 2, 50)\n",
    "]\n",
    "\n",
    "fig1 = create_animation(unit1, unit2, A_list)\n",
    "fig1.show()\n"
   ]
  },
  {
   "cell_type": "code",
   "execution_count": null,
   "id": "fc05e6bb",
   "metadata": {},
   "outputs": [
    {
     "data": {
      "application/vnd.plotly.v1+json": {
       "config": {
        "plotlyServerURL": "https://plot.ly"
       },
       "data": [
        {
         "line": {
          "color": "blue",
          "width": 1
         },
         "marker": {
          "size": 2
         },
         "mode": "lines+markers",
         "name": "V1",
         "type": "scatter",
         "x": [
          0,
          1
         ],
         "y": [
          0,
          0
         ]
        },
        {
         "line": {
          "color": "red",
          "width": 1
         },
         "marker": {
          "size": 2
         },
         "mode": "lines+markers",
         "name": "V2",
         "type": "scatter",
         "x": [
          0,
          0
         ],
         "y": [
          0,
          1
         ]
        },
        {
         "line": {
          "color": "green",
          "width": 1
         },
         "marker": {
          "size": 2
         },
         "mode": "lines+markers",
         "name": "V1 + V2",
         "type": "scatter",
         "x": [
          0,
          1
         ],
         "y": [
          0,
          1
         ]
        },
        {
         "fill": "toself",
         "fillcolor": "rgba(0, 100, 200, 0.2)",
         "line": {
          "color": "rgba(255,255,255,0)"
         },
         "name": "Area",
         "type": "scatter",
         "x": [
          0,
          1,
          1,
          0,
          0
         ],
         "y": [
          0,
          0,
          1,
          1,
          0
         ]
        }
       ],
       "frames": [
        {
         "data": [
          {
           "line": {
            "color": "blue",
            "width": 1
           },
           "marker": {
            "size": 2
           },
           "mode": "lines+markers",
           "name": "V1",
           "type": "scatter",
           "x": [
            0,
            1
           ],
           "y": [
            0,
            0
           ]
          },
          {
           "line": {
            "color": "red",
            "width": 1
           },
           "marker": {
            "size": 2
           },
           "mode": "lines+markers",
           "name": "V2",
           "type": "scatter",
           "x": [
            0,
            0
           ],
           "y": [
            0,
            1
           ]
          },
          {
           "line": {
            "color": "green",
            "width": 1
           },
           "marker": {
            "size": 2
           },
           "mode": "lines+markers",
           "name": "V1 + V2",
           "type": "scatter",
           "x": [
            0,
            1
           ],
           "y": [
            0,
            1
           ]
          },
          {
           "fill": "toself",
           "fillcolor": "rgba(0, 100, 200, 0.2)",
           "line": {
            "color": "rgba(255,255,255,0)"
           },
           "name": "Area",
           "type": "scatter",
           "x": [
            0,
            1,
            1,
            0,
            0
           ],
           "y": [
            0,
            0,
            1,
            1,
            0
           ]
          }
         ]
        },
        {
         "data": [
          {
           "line": {
            "color": "blue",
            "width": 1
           },
           "marker": {
            "size": 2
           },
           "mode": "lines+markers",
           "name": "V1",
           "type": "scatter",
           "x": [
            0,
            1
           ],
           "y": [
            0,
            0
           ]
          },
          {
           "line": {
            "color": "red",
            "width": 1
           },
           "marker": {
            "size": 2
           },
           "mode": "lines+markers",
           "name": "V2",
           "type": "scatter",
           "x": [
            0,
            0
           ],
           "y": [
            0,
            1.0204081632653061
           ]
          },
          {
           "line": {
            "color": "green",
            "width": 1
           },
           "marker": {
            "size": 2
           },
           "mode": "lines+markers",
           "name": "V1 + V2",
           "type": "scatter",
           "x": [
            0,
            1
           ],
           "y": [
            0,
            1.0204081632653061
           ]
          },
          {
           "fill": "toself",
           "fillcolor": "rgba(0, 100, 200, 0.2)",
           "line": {
            "color": "rgba(255,255,255,0)"
           },
           "name": "Area",
           "type": "scatter",
           "x": [
            0,
            1,
            1,
            0,
            0
           ],
           "y": [
            0,
            0,
            1.0204081632653061,
            1.0204081632653061,
            0
           ]
          }
         ]
        },
        {
         "data": [
          {
           "line": {
            "color": "blue",
            "width": 1
           },
           "marker": {
            "size": 2
           },
           "mode": "lines+markers",
           "name": "V1",
           "type": "scatter",
           "x": [
            0,
            1
           ],
           "y": [
            0,
            0
           ]
          },
          {
           "line": {
            "color": "red",
            "width": 1
           },
           "marker": {
            "size": 2
           },
           "mode": "lines+markers",
           "name": "V2",
           "type": "scatter",
           "x": [
            0,
            0
           ],
           "y": [
            0,
            1.0408163265306123
           ]
          },
          {
           "line": {
            "color": "green",
            "width": 1
           },
           "marker": {
            "size": 2
           },
           "mode": "lines+markers",
           "name": "V1 + V2",
           "type": "scatter",
           "x": [
            0,
            1
           ],
           "y": [
            0,
            1.0408163265306123
           ]
          },
          {
           "fill": "toself",
           "fillcolor": "rgba(0, 100, 200, 0.2)",
           "line": {
            "color": "rgba(255,255,255,0)"
           },
           "name": "Area",
           "type": "scatter",
           "x": [
            0,
            1,
            1,
            0,
            0
           ],
           "y": [
            0,
            0,
            1.0408163265306123,
            1.0408163265306123,
            0
           ]
          }
         ]
        },
        {
         "data": [
          {
           "line": {
            "color": "blue",
            "width": 1
           },
           "marker": {
            "size": 2
           },
           "mode": "lines+markers",
           "name": "V1",
           "type": "scatter",
           "x": [
            0,
            1
           ],
           "y": [
            0,
            0
           ]
          },
          {
           "line": {
            "color": "red",
            "width": 1
           },
           "marker": {
            "size": 2
           },
           "mode": "lines+markers",
           "name": "V2",
           "type": "scatter",
           "x": [
            0,
            0
           ],
           "y": [
            0,
            1.0612244897959184
           ]
          },
          {
           "line": {
            "color": "green",
            "width": 1
           },
           "marker": {
            "size": 2
           },
           "mode": "lines+markers",
           "name": "V1 + V2",
           "type": "scatter",
           "x": [
            0,
            1
           ],
           "y": [
            0,
            1.0612244897959184
           ]
          },
          {
           "fill": "toself",
           "fillcolor": "rgba(0, 100, 200, 0.2)",
           "line": {
            "color": "rgba(255,255,255,0)"
           },
           "name": "Area",
           "type": "scatter",
           "x": [
            0,
            1,
            1,
            0,
            0
           ],
           "y": [
            0,
            0,
            1.0612244897959184,
            1.0612244897959184,
            0
           ]
          }
         ]
        },
        {
         "data": [
          {
           "line": {
            "color": "blue",
            "width": 1
           },
           "marker": {
            "size": 2
           },
           "mode": "lines+markers",
           "name": "V1",
           "type": "scatter",
           "x": [
            0,
            1
           ],
           "y": [
            0,
            0
           ]
          },
          {
           "line": {
            "color": "red",
            "width": 1
           },
           "marker": {
            "size": 2
           },
           "mode": "lines+markers",
           "name": "V2",
           "type": "scatter",
           "x": [
            0,
            0
           ],
           "y": [
            0,
            1.0816326530612246
           ]
          },
          {
           "line": {
            "color": "green",
            "width": 1
           },
           "marker": {
            "size": 2
           },
           "mode": "lines+markers",
           "name": "V1 + V2",
           "type": "scatter",
           "x": [
            0,
            1
           ],
           "y": [
            0,
            1.0816326530612246
           ]
          },
          {
           "fill": "toself",
           "fillcolor": "rgba(0, 100, 200, 0.2)",
           "line": {
            "color": "rgba(255,255,255,0)"
           },
           "name": "Area",
           "type": "scatter",
           "x": [
            0,
            1,
            1,
            0,
            0
           ],
           "y": [
            0,
            0,
            1.0816326530612246,
            1.0816326530612246,
            0
           ]
          }
         ]
        },
        {
         "data": [
          {
           "line": {
            "color": "blue",
            "width": 1
           },
           "marker": {
            "size": 2
           },
           "mode": "lines+markers",
           "name": "V1",
           "type": "scatter",
           "x": [
            0,
            1
           ],
           "y": [
            0,
            0
           ]
          },
          {
           "line": {
            "color": "red",
            "width": 1
           },
           "marker": {
            "size": 2
           },
           "mode": "lines+markers",
           "name": "V2",
           "type": "scatter",
           "x": [
            0,
            0
           ],
           "y": [
            0,
            1.1020408163265305
           ]
          },
          {
           "line": {
            "color": "green",
            "width": 1
           },
           "marker": {
            "size": 2
           },
           "mode": "lines+markers",
           "name": "V1 + V2",
           "type": "scatter",
           "x": [
            0,
            1
           ],
           "y": [
            0,
            1.1020408163265305
           ]
          },
          {
           "fill": "toself",
           "fillcolor": "rgba(0, 100, 200, 0.2)",
           "line": {
            "color": "rgba(255,255,255,0)"
           },
           "name": "Area",
           "type": "scatter",
           "x": [
            0,
            1,
            1,
            0,
            0
           ],
           "y": [
            0,
            0,
            1.1020408163265305,
            1.1020408163265305,
            0
           ]
          }
         ]
        },
        {
         "data": [
          {
           "line": {
            "color": "blue",
            "width": 1
           },
           "marker": {
            "size": 2
           },
           "mode": "lines+markers",
           "name": "V1",
           "type": "scatter",
           "x": [
            0,
            1
           ],
           "y": [
            0,
            0
           ]
          },
          {
           "line": {
            "color": "red",
            "width": 1
           },
           "marker": {
            "size": 2
           },
           "mode": "lines+markers",
           "name": "V2",
           "type": "scatter",
           "x": [
            0,
            0
           ],
           "y": [
            0,
            1.1224489795918366
           ]
          },
          {
           "line": {
            "color": "green",
            "width": 1
           },
           "marker": {
            "size": 2
           },
           "mode": "lines+markers",
           "name": "V1 + V2",
           "type": "scatter",
           "x": [
            0,
            1
           ],
           "y": [
            0,
            1.1224489795918366
           ]
          },
          {
           "fill": "toself",
           "fillcolor": "rgba(0, 100, 200, 0.2)",
           "line": {
            "color": "rgba(255,255,255,0)"
           },
           "name": "Area",
           "type": "scatter",
           "x": [
            0,
            1,
            1,
            0,
            0
           ],
           "y": [
            0,
            0,
            1.1224489795918366,
            1.1224489795918366,
            0
           ]
          }
         ]
        },
        {
         "data": [
          {
           "line": {
            "color": "blue",
            "width": 1
           },
           "marker": {
            "size": 2
           },
           "mode": "lines+markers",
           "name": "V1",
           "type": "scatter",
           "x": [
            0,
            1
           ],
           "y": [
            0,
            0
           ]
          },
          {
           "line": {
            "color": "red",
            "width": 1
           },
           "marker": {
            "size": 2
           },
           "mode": "lines+markers",
           "name": "V2",
           "type": "scatter",
           "x": [
            0,
            0
           ],
           "y": [
            0,
            1.1428571428571428
           ]
          },
          {
           "line": {
            "color": "green",
            "width": 1
           },
           "marker": {
            "size": 2
           },
           "mode": "lines+markers",
           "name": "V1 + V2",
           "type": "scatter",
           "x": [
            0,
            1
           ],
           "y": [
            0,
            1.1428571428571428
           ]
          },
          {
           "fill": "toself",
           "fillcolor": "rgba(0, 100, 200, 0.2)",
           "line": {
            "color": "rgba(255,255,255,0)"
           },
           "name": "Area",
           "type": "scatter",
           "x": [
            0,
            1,
            1,
            0,
            0
           ],
           "y": [
            0,
            0,
            1.1428571428571428,
            1.1428571428571428,
            0
           ]
          }
         ]
        },
        {
         "data": [
          {
           "line": {
            "color": "blue",
            "width": 1
           },
           "marker": {
            "size": 2
           },
           "mode": "lines+markers",
           "name": "V1",
           "type": "scatter",
           "x": [
            0,
            1
           ],
           "y": [
            0,
            0
           ]
          },
          {
           "line": {
            "color": "red",
            "width": 1
           },
           "marker": {
            "size": 2
           },
           "mode": "lines+markers",
           "name": "V2",
           "type": "scatter",
           "x": [
            0,
            0
           ],
           "y": [
            0,
            1.163265306122449
           ]
          },
          {
           "line": {
            "color": "green",
            "width": 1
           },
           "marker": {
            "size": 2
           },
           "mode": "lines+markers",
           "name": "V1 + V2",
           "type": "scatter",
           "x": [
            0,
            1
           ],
           "y": [
            0,
            1.163265306122449
           ]
          },
          {
           "fill": "toself",
           "fillcolor": "rgba(0, 100, 200, 0.2)",
           "line": {
            "color": "rgba(255,255,255,0)"
           },
           "name": "Area",
           "type": "scatter",
           "x": [
            0,
            1,
            1,
            0,
            0
           ],
           "y": [
            0,
            0,
            1.163265306122449,
            1.163265306122449,
            0
           ]
          }
         ]
        },
        {
         "data": [
          {
           "line": {
            "color": "blue",
            "width": 1
           },
           "marker": {
            "size": 2
           },
           "mode": "lines+markers",
           "name": "V1",
           "type": "scatter",
           "x": [
            0,
            1
           ],
           "y": [
            0,
            0
           ]
          },
          {
           "line": {
            "color": "red",
            "width": 1
           },
           "marker": {
            "size": 2
           },
           "mode": "lines+markers",
           "name": "V2",
           "type": "scatter",
           "x": [
            0,
            0
           ],
           "y": [
            0,
            1.183673469387755
           ]
          },
          {
           "line": {
            "color": "green",
            "width": 1
           },
           "marker": {
            "size": 2
           },
           "mode": "lines+markers",
           "name": "V1 + V2",
           "type": "scatter",
           "x": [
            0,
            1
           ],
           "y": [
            0,
            1.183673469387755
           ]
          },
          {
           "fill": "toself",
           "fillcolor": "rgba(0, 100, 200, 0.2)",
           "line": {
            "color": "rgba(255,255,255,0)"
           },
           "name": "Area",
           "type": "scatter",
           "x": [
            0,
            1,
            1,
            0,
            0
           ],
           "y": [
            0,
            0,
            1.183673469387755,
            1.183673469387755,
            0
           ]
          }
         ]
        },
        {
         "data": [
          {
           "line": {
            "color": "blue",
            "width": 1
           },
           "marker": {
            "size": 2
           },
           "mode": "lines+markers",
           "name": "V1",
           "type": "scatter",
           "x": [
            0,
            1
           ],
           "y": [
            0,
            0
           ]
          },
          {
           "line": {
            "color": "red",
            "width": 1
           },
           "marker": {
            "size": 2
           },
           "mode": "lines+markers",
           "name": "V2",
           "type": "scatter",
           "x": [
            0,
            0
           ],
           "y": [
            0,
            1.2040816326530612
           ]
          },
          {
           "line": {
            "color": "green",
            "width": 1
           },
           "marker": {
            "size": 2
           },
           "mode": "lines+markers",
           "name": "V1 + V2",
           "type": "scatter",
           "x": [
            0,
            1
           ],
           "y": [
            0,
            1.2040816326530612
           ]
          },
          {
           "fill": "toself",
           "fillcolor": "rgba(0, 100, 200, 0.2)",
           "line": {
            "color": "rgba(255,255,255,0)"
           },
           "name": "Area",
           "type": "scatter",
           "x": [
            0,
            1,
            1,
            0,
            0
           ],
           "y": [
            0,
            0,
            1.2040816326530612,
            1.2040816326530612,
            0
           ]
          }
         ]
        },
        {
         "data": [
          {
           "line": {
            "color": "blue",
            "width": 1
           },
           "marker": {
            "size": 2
           },
           "mode": "lines+markers",
           "name": "V1",
           "type": "scatter",
           "x": [
            0,
            1
           ],
           "y": [
            0,
            0
           ]
          },
          {
           "line": {
            "color": "red",
            "width": 1
           },
           "marker": {
            "size": 2
           },
           "mode": "lines+markers",
           "name": "V2",
           "type": "scatter",
           "x": [
            0,
            0
           ],
           "y": [
            0,
            1.2244897959183674
           ]
          },
          {
           "line": {
            "color": "green",
            "width": 1
           },
           "marker": {
            "size": 2
           },
           "mode": "lines+markers",
           "name": "V1 + V2",
           "type": "scatter",
           "x": [
            0,
            1
           ],
           "y": [
            0,
            1.2244897959183674
           ]
          },
          {
           "fill": "toself",
           "fillcolor": "rgba(0, 100, 200, 0.2)",
           "line": {
            "color": "rgba(255,255,255,0)"
           },
           "name": "Area",
           "type": "scatter",
           "x": [
            0,
            1,
            1,
            0,
            0
           ],
           "y": [
            0,
            0,
            1.2244897959183674,
            1.2244897959183674,
            0
           ]
          }
         ]
        },
        {
         "data": [
          {
           "line": {
            "color": "blue",
            "width": 1
           },
           "marker": {
            "size": 2
           },
           "mode": "lines+markers",
           "name": "V1",
           "type": "scatter",
           "x": [
            0,
            1
           ],
           "y": [
            0,
            0
           ]
          },
          {
           "line": {
            "color": "red",
            "width": 1
           },
           "marker": {
            "size": 2
           },
           "mode": "lines+markers",
           "name": "V2",
           "type": "scatter",
           "x": [
            0,
            0
           ],
           "y": [
            0,
            1.2448979591836735
           ]
          },
          {
           "line": {
            "color": "green",
            "width": 1
           },
           "marker": {
            "size": 2
           },
           "mode": "lines+markers",
           "name": "V1 + V2",
           "type": "scatter",
           "x": [
            0,
            1
           ],
           "y": [
            0,
            1.2448979591836735
           ]
          },
          {
           "fill": "toself",
           "fillcolor": "rgba(0, 100, 200, 0.2)",
           "line": {
            "color": "rgba(255,255,255,0)"
           },
           "name": "Area",
           "type": "scatter",
           "x": [
            0,
            1,
            1,
            0,
            0
           ],
           "y": [
            0,
            0,
            1.2448979591836735,
            1.2448979591836735,
            0
           ]
          }
         ]
        },
        {
         "data": [
          {
           "line": {
            "color": "blue",
            "width": 1
           },
           "marker": {
            "size": 2
           },
           "mode": "lines+markers",
           "name": "V1",
           "type": "scatter",
           "x": [
            0,
            1
           ],
           "y": [
            0,
            0
           ]
          },
          {
           "line": {
            "color": "red",
            "width": 1
           },
           "marker": {
            "size": 2
           },
           "mode": "lines+markers",
           "name": "V2",
           "type": "scatter",
           "x": [
            0,
            0
           ],
           "y": [
            0,
            1.2653061224489797
           ]
          },
          {
           "line": {
            "color": "green",
            "width": 1
           },
           "marker": {
            "size": 2
           },
           "mode": "lines+markers",
           "name": "V1 + V2",
           "type": "scatter",
           "x": [
            0,
            1
           ],
           "y": [
            0,
            1.2653061224489797
           ]
          },
          {
           "fill": "toself",
           "fillcolor": "rgba(0, 100, 200, 0.2)",
           "line": {
            "color": "rgba(255,255,255,0)"
           },
           "name": "Area",
           "type": "scatter",
           "x": [
            0,
            1,
            1,
            0,
            0
           ],
           "y": [
            0,
            0,
            1.2653061224489797,
            1.2653061224489797,
            0
           ]
          }
         ]
        },
        {
         "data": [
          {
           "line": {
            "color": "blue",
            "width": 1
           },
           "marker": {
            "size": 2
           },
           "mode": "lines+markers",
           "name": "V1",
           "type": "scatter",
           "x": [
            0,
            1
           ],
           "y": [
            0,
            0
           ]
          },
          {
           "line": {
            "color": "red",
            "width": 1
           },
           "marker": {
            "size": 2
           },
           "mode": "lines+markers",
           "name": "V2",
           "type": "scatter",
           "x": [
            0,
            0
           ],
           "y": [
            0,
            1.2857142857142856
           ]
          },
          {
           "line": {
            "color": "green",
            "width": 1
           },
           "marker": {
            "size": 2
           },
           "mode": "lines+markers",
           "name": "V1 + V2",
           "type": "scatter",
           "x": [
            0,
            1
           ],
           "y": [
            0,
            1.2857142857142856
           ]
          },
          {
           "fill": "toself",
           "fillcolor": "rgba(0, 100, 200, 0.2)",
           "line": {
            "color": "rgba(255,255,255,0)"
           },
           "name": "Area",
           "type": "scatter",
           "x": [
            0,
            1,
            1,
            0,
            0
           ],
           "y": [
            0,
            0,
            1.2857142857142856,
            1.2857142857142856,
            0
           ]
          }
         ]
        },
        {
         "data": [
          {
           "line": {
            "color": "blue",
            "width": 1
           },
           "marker": {
            "size": 2
           },
           "mode": "lines+markers",
           "name": "V1",
           "type": "scatter",
           "x": [
            0,
            1
           ],
           "y": [
            0,
            0
           ]
          },
          {
           "line": {
            "color": "red",
            "width": 1
           },
           "marker": {
            "size": 2
           },
           "mode": "lines+markers",
           "name": "V2",
           "type": "scatter",
           "x": [
            0,
            0
           ],
           "y": [
            0,
            1.3061224489795917
           ]
          },
          {
           "line": {
            "color": "green",
            "width": 1
           },
           "marker": {
            "size": 2
           },
           "mode": "lines+markers",
           "name": "V1 + V2",
           "type": "scatter",
           "x": [
            0,
            1
           ],
           "y": [
            0,
            1.3061224489795917
           ]
          },
          {
           "fill": "toself",
           "fillcolor": "rgba(0, 100, 200, 0.2)",
           "line": {
            "color": "rgba(255,255,255,0)"
           },
           "name": "Area",
           "type": "scatter",
           "x": [
            0,
            1,
            1,
            0,
            0
           ],
           "y": [
            0,
            0,
            1.3061224489795917,
            1.3061224489795917,
            0
           ]
          }
         ]
        },
        {
         "data": [
          {
           "line": {
            "color": "blue",
            "width": 1
           },
           "marker": {
            "size": 2
           },
           "mode": "lines+markers",
           "name": "V1",
           "type": "scatter",
           "x": [
            0,
            1
           ],
           "y": [
            0,
            0
           ]
          },
          {
           "line": {
            "color": "red",
            "width": 1
           },
           "marker": {
            "size": 2
           },
           "mode": "lines+markers",
           "name": "V2",
           "type": "scatter",
           "x": [
            0,
            0
           ],
           "y": [
            0,
            1.3265306122448979
           ]
          },
          {
           "line": {
            "color": "green",
            "width": 1
           },
           "marker": {
            "size": 2
           },
           "mode": "lines+markers",
           "name": "V1 + V2",
           "type": "scatter",
           "x": [
            0,
            1
           ],
           "y": [
            0,
            1.3265306122448979
           ]
          },
          {
           "fill": "toself",
           "fillcolor": "rgba(0, 100, 200, 0.2)",
           "line": {
            "color": "rgba(255,255,255,0)"
           },
           "name": "Area",
           "type": "scatter",
           "x": [
            0,
            1,
            1,
            0,
            0
           ],
           "y": [
            0,
            0,
            1.3265306122448979,
            1.3265306122448979,
            0
           ]
          }
         ]
        },
        {
         "data": [
          {
           "line": {
            "color": "blue",
            "width": 1
           },
           "marker": {
            "size": 2
           },
           "mode": "lines+markers",
           "name": "V1",
           "type": "scatter",
           "x": [
            0,
            1
           ],
           "y": [
            0,
            0
           ]
          },
          {
           "line": {
            "color": "red",
            "width": 1
           },
           "marker": {
            "size": 2
           },
           "mode": "lines+markers",
           "name": "V2",
           "type": "scatter",
           "x": [
            0,
            0
           ],
           "y": [
            0,
            1.346938775510204
           ]
          },
          {
           "line": {
            "color": "green",
            "width": 1
           },
           "marker": {
            "size": 2
           },
           "mode": "lines+markers",
           "name": "V1 + V2",
           "type": "scatter",
           "x": [
            0,
            1
           ],
           "y": [
            0,
            1.346938775510204
           ]
          },
          {
           "fill": "toself",
           "fillcolor": "rgba(0, 100, 200, 0.2)",
           "line": {
            "color": "rgba(255,255,255,0)"
           },
           "name": "Area",
           "type": "scatter",
           "x": [
            0,
            1,
            1,
            0,
            0
           ],
           "y": [
            0,
            0,
            1.346938775510204,
            1.346938775510204,
            0
           ]
          }
         ]
        },
        {
         "data": [
          {
           "line": {
            "color": "blue",
            "width": 1
           },
           "marker": {
            "size": 2
           },
           "mode": "lines+markers",
           "name": "V1",
           "type": "scatter",
           "x": [
            0,
            1
           ],
           "y": [
            0,
            0
           ]
          },
          {
           "line": {
            "color": "red",
            "width": 1
           },
           "marker": {
            "size": 2
           },
           "mode": "lines+markers",
           "name": "V2",
           "type": "scatter",
           "x": [
            0,
            0
           ],
           "y": [
            0,
            1.3673469387755102
           ]
          },
          {
           "line": {
            "color": "green",
            "width": 1
           },
           "marker": {
            "size": 2
           },
           "mode": "lines+markers",
           "name": "V1 + V2",
           "type": "scatter",
           "x": [
            0,
            1
           ],
           "y": [
            0,
            1.3673469387755102
           ]
          },
          {
           "fill": "toself",
           "fillcolor": "rgba(0, 100, 200, 0.2)",
           "line": {
            "color": "rgba(255,255,255,0)"
           },
           "name": "Area",
           "type": "scatter",
           "x": [
            0,
            1,
            1,
            0,
            0
           ],
           "y": [
            0,
            0,
            1.3673469387755102,
            1.3673469387755102,
            0
           ]
          }
         ]
        },
        {
         "data": [
          {
           "line": {
            "color": "blue",
            "width": 1
           },
           "marker": {
            "size": 2
           },
           "mode": "lines+markers",
           "name": "V1",
           "type": "scatter",
           "x": [
            0,
            1
           ],
           "y": [
            0,
            0
           ]
          },
          {
           "line": {
            "color": "red",
            "width": 1
           },
           "marker": {
            "size": 2
           },
           "mode": "lines+markers",
           "name": "V2",
           "type": "scatter",
           "x": [
            0,
            0
           ],
           "y": [
            0,
            1.3877551020408163
           ]
          },
          {
           "line": {
            "color": "green",
            "width": 1
           },
           "marker": {
            "size": 2
           },
           "mode": "lines+markers",
           "name": "V1 + V2",
           "type": "scatter",
           "x": [
            0,
            1
           ],
           "y": [
            0,
            1.3877551020408163
           ]
          },
          {
           "fill": "toself",
           "fillcolor": "rgba(0, 100, 200, 0.2)",
           "line": {
            "color": "rgba(255,255,255,0)"
           },
           "name": "Area",
           "type": "scatter",
           "x": [
            0,
            1,
            1,
            0,
            0
           ],
           "y": [
            0,
            0,
            1.3877551020408163,
            1.3877551020408163,
            0
           ]
          }
         ]
        },
        {
         "data": [
          {
           "line": {
            "color": "blue",
            "width": 1
           },
           "marker": {
            "size": 2
           },
           "mode": "lines+markers",
           "name": "V1",
           "type": "scatter",
           "x": [
            0,
            1
           ],
           "y": [
            0,
            0
           ]
          },
          {
           "line": {
            "color": "red",
            "width": 1
           },
           "marker": {
            "size": 2
           },
           "mode": "lines+markers",
           "name": "V2",
           "type": "scatter",
           "x": [
            0,
            0
           ],
           "y": [
            0,
            1.4081632653061225
           ]
          },
          {
           "line": {
            "color": "green",
            "width": 1
           },
           "marker": {
            "size": 2
           },
           "mode": "lines+markers",
           "name": "V1 + V2",
           "type": "scatter",
           "x": [
            0,
            1
           ],
           "y": [
            0,
            1.4081632653061225
           ]
          },
          {
           "fill": "toself",
           "fillcolor": "rgba(0, 100, 200, 0.2)",
           "line": {
            "color": "rgba(255,255,255,0)"
           },
           "name": "Area",
           "type": "scatter",
           "x": [
            0,
            1,
            1,
            0,
            0
           ],
           "y": [
            0,
            0,
            1.4081632653061225,
            1.4081632653061225,
            0
           ]
          }
         ]
        },
        {
         "data": [
          {
           "line": {
            "color": "blue",
            "width": 1
           },
           "marker": {
            "size": 2
           },
           "mode": "lines+markers",
           "name": "V1",
           "type": "scatter",
           "x": [
            0,
            1
           ],
           "y": [
            0,
            0
           ]
          },
          {
           "line": {
            "color": "red",
            "width": 1
           },
           "marker": {
            "size": 2
           },
           "mode": "lines+markers",
           "name": "V2",
           "type": "scatter",
           "x": [
            0,
            0
           ],
           "y": [
            0,
            1.4285714285714286
           ]
          },
          {
           "line": {
            "color": "green",
            "width": 1
           },
           "marker": {
            "size": 2
           },
           "mode": "lines+markers",
           "name": "V1 + V2",
           "type": "scatter",
           "x": [
            0,
            1
           ],
           "y": [
            0,
            1.4285714285714286
           ]
          },
          {
           "fill": "toself",
           "fillcolor": "rgba(0, 100, 200, 0.2)",
           "line": {
            "color": "rgba(255,255,255,0)"
           },
           "name": "Area",
           "type": "scatter",
           "x": [
            0,
            1,
            1,
            0,
            0
           ],
           "y": [
            0,
            0,
            1.4285714285714286,
            1.4285714285714286,
            0
           ]
          }
         ]
        },
        {
         "data": [
          {
           "line": {
            "color": "blue",
            "width": 1
           },
           "marker": {
            "size": 2
           },
           "mode": "lines+markers",
           "name": "V1",
           "type": "scatter",
           "x": [
            0,
            1
           ],
           "y": [
            0,
            0
           ]
          },
          {
           "line": {
            "color": "red",
            "width": 1
           },
           "marker": {
            "size": 2
           },
           "mode": "lines+markers",
           "name": "V2",
           "type": "scatter",
           "x": [
            0,
            0
           ],
           "y": [
            0,
            1.4489795918367347
           ]
          },
          {
           "line": {
            "color": "green",
            "width": 1
           },
           "marker": {
            "size": 2
           },
           "mode": "lines+markers",
           "name": "V1 + V2",
           "type": "scatter",
           "x": [
            0,
            1
           ],
           "y": [
            0,
            1.4489795918367347
           ]
          },
          {
           "fill": "toself",
           "fillcolor": "rgba(0, 100, 200, 0.2)",
           "line": {
            "color": "rgba(255,255,255,0)"
           },
           "name": "Area",
           "type": "scatter",
           "x": [
            0,
            1,
            1,
            0,
            0
           ],
           "y": [
            0,
            0,
            1.4489795918367347,
            1.4489795918367347,
            0
           ]
          }
         ]
        },
        {
         "data": [
          {
           "line": {
            "color": "blue",
            "width": 1
           },
           "marker": {
            "size": 2
           },
           "mode": "lines+markers",
           "name": "V1",
           "type": "scatter",
           "x": [
            0,
            1
           ],
           "y": [
            0,
            0
           ]
          },
          {
           "line": {
            "color": "red",
            "width": 1
           },
           "marker": {
            "size": 2
           },
           "mode": "lines+markers",
           "name": "V2",
           "type": "scatter",
           "x": [
            0,
            0
           ],
           "y": [
            0,
            1.4693877551020407
           ]
          },
          {
           "line": {
            "color": "green",
            "width": 1
           },
           "marker": {
            "size": 2
           },
           "mode": "lines+markers",
           "name": "V1 + V2",
           "type": "scatter",
           "x": [
            0,
            1
           ],
           "y": [
            0,
            1.4693877551020407
           ]
          },
          {
           "fill": "toself",
           "fillcolor": "rgba(0, 100, 200, 0.2)",
           "line": {
            "color": "rgba(255,255,255,0)"
           },
           "name": "Area",
           "type": "scatter",
           "x": [
            0,
            1,
            1,
            0,
            0
           ],
           "y": [
            0,
            0,
            1.4693877551020407,
            1.4693877551020407,
            0
           ]
          }
         ]
        },
        {
         "data": [
          {
           "line": {
            "color": "blue",
            "width": 1
           },
           "marker": {
            "size": 2
           },
           "mode": "lines+markers",
           "name": "V1",
           "type": "scatter",
           "x": [
            0,
            1
           ],
           "y": [
            0,
            0
           ]
          },
          {
           "line": {
            "color": "red",
            "width": 1
           },
           "marker": {
            "size": 2
           },
           "mode": "lines+markers",
           "name": "V2",
           "type": "scatter",
           "x": [
            0,
            0
           ],
           "y": [
            0,
            1.489795918367347
           ]
          },
          {
           "line": {
            "color": "green",
            "width": 1
           },
           "marker": {
            "size": 2
           },
           "mode": "lines+markers",
           "name": "V1 + V2",
           "type": "scatter",
           "x": [
            0,
            1
           ],
           "y": [
            0,
            1.489795918367347
           ]
          },
          {
           "fill": "toself",
           "fillcolor": "rgba(0, 100, 200, 0.2)",
           "line": {
            "color": "rgba(255,255,255,0)"
           },
           "name": "Area",
           "type": "scatter",
           "x": [
            0,
            1,
            1,
            0,
            0
           ],
           "y": [
            0,
            0,
            1.489795918367347,
            1.489795918367347,
            0
           ]
          }
         ]
        },
        {
         "data": [
          {
           "line": {
            "color": "blue",
            "width": 1
           },
           "marker": {
            "size": 2
           },
           "mode": "lines+markers",
           "name": "V1",
           "type": "scatter",
           "x": [
            0,
            1
           ],
           "y": [
            0,
            0
           ]
          },
          {
           "line": {
            "color": "red",
            "width": 1
           },
           "marker": {
            "size": 2
           },
           "mode": "lines+markers",
           "name": "V2",
           "type": "scatter",
           "x": [
            0,
            0
           ],
           "y": [
            0,
            1.510204081632653
           ]
          },
          {
           "line": {
            "color": "green",
            "width": 1
           },
           "marker": {
            "size": 2
           },
           "mode": "lines+markers",
           "name": "V1 + V2",
           "type": "scatter",
           "x": [
            0,
            1
           ],
           "y": [
            0,
            1.510204081632653
           ]
          },
          {
           "fill": "toself",
           "fillcolor": "rgba(0, 100, 200, 0.2)",
           "line": {
            "color": "rgba(255,255,255,0)"
           },
           "name": "Area",
           "type": "scatter",
           "x": [
            0,
            1,
            1,
            0,
            0
           ],
           "y": [
            0,
            0,
            1.510204081632653,
            1.510204081632653,
            0
           ]
          }
         ]
        },
        {
         "data": [
          {
           "line": {
            "color": "blue",
            "width": 1
           },
           "marker": {
            "size": 2
           },
           "mode": "lines+markers",
           "name": "V1",
           "type": "scatter",
           "x": [
            0,
            1
           ],
           "y": [
            0,
            0
           ]
          },
          {
           "line": {
            "color": "red",
            "width": 1
           },
           "marker": {
            "size": 2
           },
           "mode": "lines+markers",
           "name": "V2",
           "type": "scatter",
           "x": [
            0,
            0
           ],
           "y": [
            0,
            1.530612244897959
           ]
          },
          {
           "line": {
            "color": "green",
            "width": 1
           },
           "marker": {
            "size": 2
           },
           "mode": "lines+markers",
           "name": "V1 + V2",
           "type": "scatter",
           "x": [
            0,
            1
           ],
           "y": [
            0,
            1.530612244897959
           ]
          },
          {
           "fill": "toself",
           "fillcolor": "rgba(0, 100, 200, 0.2)",
           "line": {
            "color": "rgba(255,255,255,0)"
           },
           "name": "Area",
           "type": "scatter",
           "x": [
            0,
            1,
            1,
            0,
            0
           ],
           "y": [
            0,
            0,
            1.530612244897959,
            1.530612244897959,
            0
           ]
          }
         ]
        },
        {
         "data": [
          {
           "line": {
            "color": "blue",
            "width": 1
           },
           "marker": {
            "size": 2
           },
           "mode": "lines+markers",
           "name": "V1",
           "type": "scatter",
           "x": [
            0,
            1
           ],
           "y": [
            0,
            0
           ]
          },
          {
           "line": {
            "color": "red",
            "width": 1
           },
           "marker": {
            "size": 2
           },
           "mode": "lines+markers",
           "name": "V2",
           "type": "scatter",
           "x": [
            0,
            0
           ],
           "y": [
            0,
            1.5510204081632653
           ]
          },
          {
           "line": {
            "color": "green",
            "width": 1
           },
           "marker": {
            "size": 2
           },
           "mode": "lines+markers",
           "name": "V1 + V2",
           "type": "scatter",
           "x": [
            0,
            1
           ],
           "y": [
            0,
            1.5510204081632653
           ]
          },
          {
           "fill": "toself",
           "fillcolor": "rgba(0, 100, 200, 0.2)",
           "line": {
            "color": "rgba(255,255,255,0)"
           },
           "name": "Area",
           "type": "scatter",
           "x": [
            0,
            1,
            1,
            0,
            0
           ],
           "y": [
            0,
            0,
            1.5510204081632653,
            1.5510204081632653,
            0
           ]
          }
         ]
        },
        {
         "data": [
          {
           "line": {
            "color": "blue",
            "width": 1
           },
           "marker": {
            "size": 2
           },
           "mode": "lines+markers",
           "name": "V1",
           "type": "scatter",
           "x": [
            0,
            1
           ],
           "y": [
            0,
            0
           ]
          },
          {
           "line": {
            "color": "red",
            "width": 1
           },
           "marker": {
            "size": 2
           },
           "mode": "lines+markers",
           "name": "V2",
           "type": "scatter",
           "x": [
            0,
            0
           ],
           "y": [
            0,
            1.5714285714285714
           ]
          },
          {
           "line": {
            "color": "green",
            "width": 1
           },
           "marker": {
            "size": 2
           },
           "mode": "lines+markers",
           "name": "V1 + V2",
           "type": "scatter",
           "x": [
            0,
            1
           ],
           "y": [
            0,
            1.5714285714285714
           ]
          },
          {
           "fill": "toself",
           "fillcolor": "rgba(0, 100, 200, 0.2)",
           "line": {
            "color": "rgba(255,255,255,0)"
           },
           "name": "Area",
           "type": "scatter",
           "x": [
            0,
            1,
            1,
            0,
            0
           ],
           "y": [
            0,
            0,
            1.5714285714285714,
            1.5714285714285714,
            0
           ]
          }
         ]
        },
        {
         "data": [
          {
           "line": {
            "color": "blue",
            "width": 1
           },
           "marker": {
            "size": 2
           },
           "mode": "lines+markers",
           "name": "V1",
           "type": "scatter",
           "x": [
            0,
            1
           ],
           "y": [
            0,
            0
           ]
          },
          {
           "line": {
            "color": "red",
            "width": 1
           },
           "marker": {
            "size": 2
           },
           "mode": "lines+markers",
           "name": "V2",
           "type": "scatter",
           "x": [
            0,
            0
           ],
           "y": [
            0,
            1.5918367346938775
           ]
          },
          {
           "line": {
            "color": "green",
            "width": 1
           },
           "marker": {
            "size": 2
           },
           "mode": "lines+markers",
           "name": "V1 + V2",
           "type": "scatter",
           "x": [
            0,
            1
           ],
           "y": [
            0,
            1.5918367346938775
           ]
          },
          {
           "fill": "toself",
           "fillcolor": "rgba(0, 100, 200, 0.2)",
           "line": {
            "color": "rgba(255,255,255,0)"
           },
           "name": "Area",
           "type": "scatter",
           "x": [
            0,
            1,
            1,
            0,
            0
           ],
           "y": [
            0,
            0,
            1.5918367346938775,
            1.5918367346938775,
            0
           ]
          }
         ]
        },
        {
         "data": [
          {
           "line": {
            "color": "blue",
            "width": 1
           },
           "marker": {
            "size": 2
           },
           "mode": "lines+markers",
           "name": "V1",
           "type": "scatter",
           "x": [
            0,
            1
           ],
           "y": [
            0,
            0
           ]
          },
          {
           "line": {
            "color": "red",
            "width": 1
           },
           "marker": {
            "size": 2
           },
           "mode": "lines+markers",
           "name": "V2",
           "type": "scatter",
           "x": [
            0,
            0
           ],
           "y": [
            0,
            1.6122448979591835
           ]
          },
          {
           "line": {
            "color": "green",
            "width": 1
           },
           "marker": {
            "size": 2
           },
           "mode": "lines+markers",
           "name": "V1 + V2",
           "type": "scatter",
           "x": [
            0,
            1
           ],
           "y": [
            0,
            1.6122448979591835
           ]
          },
          {
           "fill": "toself",
           "fillcolor": "rgba(0, 100, 200, 0.2)",
           "line": {
            "color": "rgba(255,255,255,0)"
           },
           "name": "Area",
           "type": "scatter",
           "x": [
            0,
            1,
            1,
            0,
            0
           ],
           "y": [
            0,
            0,
            1.6122448979591835,
            1.6122448979591835,
            0
           ]
          }
         ]
        },
        {
         "data": [
          {
           "line": {
            "color": "blue",
            "width": 1
           },
           "marker": {
            "size": 2
           },
           "mode": "lines+markers",
           "name": "V1",
           "type": "scatter",
           "x": [
            0,
            1
           ],
           "y": [
            0,
            0
           ]
          },
          {
           "line": {
            "color": "red",
            "width": 1
           },
           "marker": {
            "size": 2
           },
           "mode": "lines+markers",
           "name": "V2",
           "type": "scatter",
           "x": [
            0,
            0
           ],
           "y": [
            0,
            1.6326530612244898
           ]
          },
          {
           "line": {
            "color": "green",
            "width": 1
           },
           "marker": {
            "size": 2
           },
           "mode": "lines+markers",
           "name": "V1 + V2",
           "type": "scatter",
           "x": [
            0,
            1
           ],
           "y": [
            0,
            1.6326530612244898
           ]
          },
          {
           "fill": "toself",
           "fillcolor": "rgba(0, 100, 200, 0.2)",
           "line": {
            "color": "rgba(255,255,255,0)"
           },
           "name": "Area",
           "type": "scatter",
           "x": [
            0,
            1,
            1,
            0,
            0
           ],
           "y": [
            0,
            0,
            1.6326530612244898,
            1.6326530612244898,
            0
           ]
          }
         ]
        },
        {
         "data": [
          {
           "line": {
            "color": "blue",
            "width": 1
           },
           "marker": {
            "size": 2
           },
           "mode": "lines+markers",
           "name": "V1",
           "type": "scatter",
           "x": [
            0,
            1
           ],
           "y": [
            0,
            0
           ]
          },
          {
           "line": {
            "color": "red",
            "width": 1
           },
           "marker": {
            "size": 2
           },
           "mode": "lines+markers",
           "name": "V2",
           "type": "scatter",
           "x": [
            0,
            0
           ],
           "y": [
            0,
            1.6530612244897958
           ]
          },
          {
           "line": {
            "color": "green",
            "width": 1
           },
           "marker": {
            "size": 2
           },
           "mode": "lines+markers",
           "name": "V1 + V2",
           "type": "scatter",
           "x": [
            0,
            1
           ],
           "y": [
            0,
            1.6530612244897958
           ]
          },
          {
           "fill": "toself",
           "fillcolor": "rgba(0, 100, 200, 0.2)",
           "line": {
            "color": "rgba(255,255,255,0)"
           },
           "name": "Area",
           "type": "scatter",
           "x": [
            0,
            1,
            1,
            0,
            0
           ],
           "y": [
            0,
            0,
            1.6530612244897958,
            1.6530612244897958,
            0
           ]
          }
         ]
        },
        {
         "data": [
          {
           "line": {
            "color": "blue",
            "width": 1
           },
           "marker": {
            "size": 2
           },
           "mode": "lines+markers",
           "name": "V1",
           "type": "scatter",
           "x": [
            0,
            1
           ],
           "y": [
            0,
            0
           ]
          },
          {
           "line": {
            "color": "red",
            "width": 1
           },
           "marker": {
            "size": 2
           },
           "mode": "lines+markers",
           "name": "V2",
           "type": "scatter",
           "x": [
            0,
            0
           ],
           "y": [
            0,
            1.6734693877551021
           ]
          },
          {
           "line": {
            "color": "green",
            "width": 1
           },
           "marker": {
            "size": 2
           },
           "mode": "lines+markers",
           "name": "V1 + V2",
           "type": "scatter",
           "x": [
            0,
            1
           ],
           "y": [
            0,
            1.6734693877551021
           ]
          },
          {
           "fill": "toself",
           "fillcolor": "rgba(0, 100, 200, 0.2)",
           "line": {
            "color": "rgba(255,255,255,0)"
           },
           "name": "Area",
           "type": "scatter",
           "x": [
            0,
            1,
            1,
            0,
            0
           ],
           "y": [
            0,
            0,
            1.6734693877551021,
            1.6734693877551021,
            0
           ]
          }
         ]
        },
        {
         "data": [
          {
           "line": {
            "color": "blue",
            "width": 1
           },
           "marker": {
            "size": 2
           },
           "mode": "lines+markers",
           "name": "V1",
           "type": "scatter",
           "x": [
            0,
            1
           ],
           "y": [
            0,
            0
           ]
          },
          {
           "line": {
            "color": "red",
            "width": 1
           },
           "marker": {
            "size": 2
           },
           "mode": "lines+markers",
           "name": "V2",
           "type": "scatter",
           "x": [
            0,
            0
           ],
           "y": [
            0,
            1.693877551020408
           ]
          },
          {
           "line": {
            "color": "green",
            "width": 1
           },
           "marker": {
            "size": 2
           },
           "mode": "lines+markers",
           "name": "V1 + V2",
           "type": "scatter",
           "x": [
            0,
            1
           ],
           "y": [
            0,
            1.693877551020408
           ]
          },
          {
           "fill": "toself",
           "fillcolor": "rgba(0, 100, 200, 0.2)",
           "line": {
            "color": "rgba(255,255,255,0)"
           },
           "name": "Area",
           "type": "scatter",
           "x": [
            0,
            1,
            1,
            0,
            0
           ],
           "y": [
            0,
            0,
            1.693877551020408,
            1.693877551020408,
            0
           ]
          }
         ]
        },
        {
         "data": [
          {
           "line": {
            "color": "blue",
            "width": 1
           },
           "marker": {
            "size": 2
           },
           "mode": "lines+markers",
           "name": "V1",
           "type": "scatter",
           "x": [
            0,
            1
           ],
           "y": [
            0,
            0
           ]
          },
          {
           "line": {
            "color": "red",
            "width": 1
           },
           "marker": {
            "size": 2
           },
           "mode": "lines+markers",
           "name": "V2",
           "type": "scatter",
           "x": [
            0,
            0
           ],
           "y": [
            0,
            1.7142857142857142
           ]
          },
          {
           "line": {
            "color": "green",
            "width": 1
           },
           "marker": {
            "size": 2
           },
           "mode": "lines+markers",
           "name": "V1 + V2",
           "type": "scatter",
           "x": [
            0,
            1
           ],
           "y": [
            0,
            1.7142857142857142
           ]
          },
          {
           "fill": "toself",
           "fillcolor": "rgba(0, 100, 200, 0.2)",
           "line": {
            "color": "rgba(255,255,255,0)"
           },
           "name": "Area",
           "type": "scatter",
           "x": [
            0,
            1,
            1,
            0,
            0
           ],
           "y": [
            0,
            0,
            1.7142857142857142,
            1.7142857142857142,
            0
           ]
          }
         ]
        },
        {
         "data": [
          {
           "line": {
            "color": "blue",
            "width": 1
           },
           "marker": {
            "size": 2
           },
           "mode": "lines+markers",
           "name": "V1",
           "type": "scatter",
           "x": [
            0,
            1
           ],
           "y": [
            0,
            0
           ]
          },
          {
           "line": {
            "color": "red",
            "width": 1
           },
           "marker": {
            "size": 2
           },
           "mode": "lines+markers",
           "name": "V2",
           "type": "scatter",
           "x": [
            0,
            0
           ],
           "y": [
            0,
            1.7346938775510203
           ]
          },
          {
           "line": {
            "color": "green",
            "width": 1
           },
           "marker": {
            "size": 2
           },
           "mode": "lines+markers",
           "name": "V1 + V2",
           "type": "scatter",
           "x": [
            0,
            1
           ],
           "y": [
            0,
            1.7346938775510203
           ]
          },
          {
           "fill": "toself",
           "fillcolor": "rgba(0, 100, 200, 0.2)",
           "line": {
            "color": "rgba(255,255,255,0)"
           },
           "name": "Area",
           "type": "scatter",
           "x": [
            0,
            1,
            1,
            0,
            0
           ],
           "y": [
            0,
            0,
            1.7346938775510203,
            1.7346938775510203,
            0
           ]
          }
         ]
        },
        {
         "data": [
          {
           "line": {
            "color": "blue",
            "width": 1
           },
           "marker": {
            "size": 2
           },
           "mode": "lines+markers",
           "name": "V1",
           "type": "scatter",
           "x": [
            0,
            1
           ],
           "y": [
            0,
            0
           ]
          },
          {
           "line": {
            "color": "red",
            "width": 1
           },
           "marker": {
            "size": 2
           },
           "mode": "lines+markers",
           "name": "V2",
           "type": "scatter",
           "x": [
            0,
            0
           ],
           "y": [
            0,
            1.7551020408163265
           ]
          },
          {
           "line": {
            "color": "green",
            "width": 1
           },
           "marker": {
            "size": 2
           },
           "mode": "lines+markers",
           "name": "V1 + V2",
           "type": "scatter",
           "x": [
            0,
            1
           ],
           "y": [
            0,
            1.7551020408163265
           ]
          },
          {
           "fill": "toself",
           "fillcolor": "rgba(0, 100, 200, 0.2)",
           "line": {
            "color": "rgba(255,255,255,0)"
           },
           "name": "Area",
           "type": "scatter",
           "x": [
            0,
            1,
            1,
            0,
            0
           ],
           "y": [
            0,
            0,
            1.7551020408163265,
            1.7551020408163265,
            0
           ]
          }
         ]
        },
        {
         "data": [
          {
           "line": {
            "color": "blue",
            "width": 1
           },
           "marker": {
            "size": 2
           },
           "mode": "lines+markers",
           "name": "V1",
           "type": "scatter",
           "x": [
            0,
            1
           ],
           "y": [
            0,
            0
           ]
          },
          {
           "line": {
            "color": "red",
            "width": 1
           },
           "marker": {
            "size": 2
           },
           "mode": "lines+markers",
           "name": "V2",
           "type": "scatter",
           "x": [
            0,
            0
           ],
           "y": [
            0,
            1.7755102040816326
           ]
          },
          {
           "line": {
            "color": "green",
            "width": 1
           },
           "marker": {
            "size": 2
           },
           "mode": "lines+markers",
           "name": "V1 + V2",
           "type": "scatter",
           "x": [
            0,
            1
           ],
           "y": [
            0,
            1.7755102040816326
           ]
          },
          {
           "fill": "toself",
           "fillcolor": "rgba(0, 100, 200, 0.2)",
           "line": {
            "color": "rgba(255,255,255,0)"
           },
           "name": "Area",
           "type": "scatter",
           "x": [
            0,
            1,
            1,
            0,
            0
           ],
           "y": [
            0,
            0,
            1.7755102040816326,
            1.7755102040816326,
            0
           ]
          }
         ]
        },
        {
         "data": [
          {
           "line": {
            "color": "blue",
            "width": 1
           },
           "marker": {
            "size": 2
           },
           "mode": "lines+markers",
           "name": "V1",
           "type": "scatter",
           "x": [
            0,
            1
           ],
           "y": [
            0,
            0
           ]
          },
          {
           "line": {
            "color": "red",
            "width": 1
           },
           "marker": {
            "size": 2
           },
           "mode": "lines+markers",
           "name": "V2",
           "type": "scatter",
           "x": [
            0,
            0
           ],
           "y": [
            0,
            1.7959183673469385
           ]
          },
          {
           "line": {
            "color": "green",
            "width": 1
           },
           "marker": {
            "size": 2
           },
           "mode": "lines+markers",
           "name": "V1 + V2",
           "type": "scatter",
           "x": [
            0,
            1
           ],
           "y": [
            0,
            1.7959183673469385
           ]
          },
          {
           "fill": "toself",
           "fillcolor": "rgba(0, 100, 200, 0.2)",
           "line": {
            "color": "rgba(255,255,255,0)"
           },
           "name": "Area",
           "type": "scatter",
           "x": [
            0,
            1,
            1,
            0,
            0
           ],
           "y": [
            0,
            0,
            1.7959183673469385,
            1.7959183673469385,
            0
           ]
          }
         ]
        },
        {
         "data": [
          {
           "line": {
            "color": "blue",
            "width": 1
           },
           "marker": {
            "size": 2
           },
           "mode": "lines+markers",
           "name": "V1",
           "type": "scatter",
           "x": [
            0,
            1
           ],
           "y": [
            0,
            0
           ]
          },
          {
           "line": {
            "color": "red",
            "width": 1
           },
           "marker": {
            "size": 2
           },
           "mode": "lines+markers",
           "name": "V2",
           "type": "scatter",
           "x": [
            0,
            0
           ],
           "y": [
            0,
            1.816326530612245
           ]
          },
          {
           "line": {
            "color": "green",
            "width": 1
           },
           "marker": {
            "size": 2
           },
           "mode": "lines+markers",
           "name": "V1 + V2",
           "type": "scatter",
           "x": [
            0,
            1
           ],
           "y": [
            0,
            1.816326530612245
           ]
          },
          {
           "fill": "toself",
           "fillcolor": "rgba(0, 100, 200, 0.2)",
           "line": {
            "color": "rgba(255,255,255,0)"
           },
           "name": "Area",
           "type": "scatter",
           "x": [
            0,
            1,
            1,
            0,
            0
           ],
           "y": [
            0,
            0,
            1.816326530612245,
            1.816326530612245,
            0
           ]
          }
         ]
        },
        {
         "data": [
          {
           "line": {
            "color": "blue",
            "width": 1
           },
           "marker": {
            "size": 2
           },
           "mode": "lines+markers",
           "name": "V1",
           "type": "scatter",
           "x": [
            0,
            1
           ],
           "y": [
            0,
            0
           ]
          },
          {
           "line": {
            "color": "red",
            "width": 1
           },
           "marker": {
            "size": 2
           },
           "mode": "lines+markers",
           "name": "V2",
           "type": "scatter",
           "x": [
            0,
            0
           ],
           "y": [
            0,
            1.8367346938775508
           ]
          },
          {
           "line": {
            "color": "green",
            "width": 1
           },
           "marker": {
            "size": 2
           },
           "mode": "lines+markers",
           "name": "V1 + V2",
           "type": "scatter",
           "x": [
            0,
            1
           ],
           "y": [
            0,
            1.8367346938775508
           ]
          },
          {
           "fill": "toself",
           "fillcolor": "rgba(0, 100, 200, 0.2)",
           "line": {
            "color": "rgba(255,255,255,0)"
           },
           "name": "Area",
           "type": "scatter",
           "x": [
            0,
            1,
            1,
            0,
            0
           ],
           "y": [
            0,
            0,
            1.8367346938775508,
            1.8367346938775508,
            0
           ]
          }
         ]
        },
        {
         "data": [
          {
           "line": {
            "color": "blue",
            "width": 1
           },
           "marker": {
            "size": 2
           },
           "mode": "lines+markers",
           "name": "V1",
           "type": "scatter",
           "x": [
            0,
            1
           ],
           "y": [
            0,
            0
           ]
          },
          {
           "line": {
            "color": "red",
            "width": 1
           },
           "marker": {
            "size": 2
           },
           "mode": "lines+markers",
           "name": "V2",
           "type": "scatter",
           "x": [
            0,
            0
           ],
           "y": [
            0,
            1.8571428571428572
           ]
          },
          {
           "line": {
            "color": "green",
            "width": 1
           },
           "marker": {
            "size": 2
           },
           "mode": "lines+markers",
           "name": "V1 + V2",
           "type": "scatter",
           "x": [
            0,
            1
           ],
           "y": [
            0,
            1.8571428571428572
           ]
          },
          {
           "fill": "toself",
           "fillcolor": "rgba(0, 100, 200, 0.2)",
           "line": {
            "color": "rgba(255,255,255,0)"
           },
           "name": "Area",
           "type": "scatter",
           "x": [
            0,
            1,
            1,
            0,
            0
           ],
           "y": [
            0,
            0,
            1.8571428571428572,
            1.8571428571428572,
            0
           ]
          }
         ]
        },
        {
         "data": [
          {
           "line": {
            "color": "blue",
            "width": 1
           },
           "marker": {
            "size": 2
           },
           "mode": "lines+markers",
           "name": "V1",
           "type": "scatter",
           "x": [
            0,
            1
           ],
           "y": [
            0,
            0
           ]
          },
          {
           "line": {
            "color": "red",
            "width": 1
           },
           "marker": {
            "size": 2
           },
           "mode": "lines+markers",
           "name": "V2",
           "type": "scatter",
           "x": [
            0,
            0
           ],
           "y": [
            0,
            1.8775510204081631
           ]
          },
          {
           "line": {
            "color": "green",
            "width": 1
           },
           "marker": {
            "size": 2
           },
           "mode": "lines+markers",
           "name": "V1 + V2",
           "type": "scatter",
           "x": [
            0,
            1
           ],
           "y": [
            0,
            1.8775510204081631
           ]
          },
          {
           "fill": "toself",
           "fillcolor": "rgba(0, 100, 200, 0.2)",
           "line": {
            "color": "rgba(255,255,255,0)"
           },
           "name": "Area",
           "type": "scatter",
           "x": [
            0,
            1,
            1,
            0,
            0
           ],
           "y": [
            0,
            0,
            1.8775510204081631,
            1.8775510204081631,
            0
           ]
          }
         ]
        },
        {
         "data": [
          {
           "line": {
            "color": "blue",
            "width": 1
           },
           "marker": {
            "size": 2
           },
           "mode": "lines+markers",
           "name": "V1",
           "type": "scatter",
           "x": [
            0,
            1
           ],
           "y": [
            0,
            0
           ]
          },
          {
           "line": {
            "color": "red",
            "width": 1
           },
           "marker": {
            "size": 2
           },
           "mode": "lines+markers",
           "name": "V2",
           "type": "scatter",
           "x": [
            0,
            0
           ],
           "y": [
            0,
            1.8979591836734693
           ]
          },
          {
           "line": {
            "color": "green",
            "width": 1
           },
           "marker": {
            "size": 2
           },
           "mode": "lines+markers",
           "name": "V1 + V2",
           "type": "scatter",
           "x": [
            0,
            1
           ],
           "y": [
            0,
            1.8979591836734693
           ]
          },
          {
           "fill": "toself",
           "fillcolor": "rgba(0, 100, 200, 0.2)",
           "line": {
            "color": "rgba(255,255,255,0)"
           },
           "name": "Area",
           "type": "scatter",
           "x": [
            0,
            1,
            1,
            0,
            0
           ],
           "y": [
            0,
            0,
            1.8979591836734693,
            1.8979591836734693,
            0
           ]
          }
         ]
        },
        {
         "data": [
          {
           "line": {
            "color": "blue",
            "width": 1
           },
           "marker": {
            "size": 2
           },
           "mode": "lines+markers",
           "name": "V1",
           "type": "scatter",
           "x": [
            0,
            1
           ],
           "y": [
            0,
            0
           ]
          },
          {
           "line": {
            "color": "red",
            "width": 1
           },
           "marker": {
            "size": 2
           },
           "mode": "lines+markers",
           "name": "V2",
           "type": "scatter",
           "x": [
            0,
            0
           ],
           "y": [
            0,
            1.9183673469387754
           ]
          },
          {
           "line": {
            "color": "green",
            "width": 1
           },
           "marker": {
            "size": 2
           },
           "mode": "lines+markers",
           "name": "V1 + V2",
           "type": "scatter",
           "x": [
            0,
            1
           ],
           "y": [
            0,
            1.9183673469387754
           ]
          },
          {
           "fill": "toself",
           "fillcolor": "rgba(0, 100, 200, 0.2)",
           "line": {
            "color": "rgba(255,255,255,0)"
           },
           "name": "Area",
           "type": "scatter",
           "x": [
            0,
            1,
            1,
            0,
            0
           ],
           "y": [
            0,
            0,
            1.9183673469387754,
            1.9183673469387754,
            0
           ]
          }
         ]
        },
        {
         "data": [
          {
           "line": {
            "color": "blue",
            "width": 1
           },
           "marker": {
            "size": 2
           },
           "mode": "lines+markers",
           "name": "V1",
           "type": "scatter",
           "x": [
            0,
            1
           ],
           "y": [
            0,
            0
           ]
          },
          {
           "line": {
            "color": "red",
            "width": 1
           },
           "marker": {
            "size": 2
           },
           "mode": "lines+markers",
           "name": "V2",
           "type": "scatter",
           "x": [
            0,
            0
           ],
           "y": [
            0,
            1.9387755102040816
           ]
          },
          {
           "line": {
            "color": "green",
            "width": 1
           },
           "marker": {
            "size": 2
           },
           "mode": "lines+markers",
           "name": "V1 + V2",
           "type": "scatter",
           "x": [
            0,
            1
           ],
           "y": [
            0,
            1.9387755102040816
           ]
          },
          {
           "fill": "toself",
           "fillcolor": "rgba(0, 100, 200, 0.2)",
           "line": {
            "color": "rgba(255,255,255,0)"
           },
           "name": "Area",
           "type": "scatter",
           "x": [
            0,
            1,
            1,
            0,
            0
           ],
           "y": [
            0,
            0,
            1.9387755102040816,
            1.9387755102040816,
            0
           ]
          }
         ]
        },
        {
         "data": [
          {
           "line": {
            "color": "blue",
            "width": 1
           },
           "marker": {
            "size": 2
           },
           "mode": "lines+markers",
           "name": "V1",
           "type": "scatter",
           "x": [
            0,
            1
           ],
           "y": [
            0,
            0
           ]
          },
          {
           "line": {
            "color": "red",
            "width": 1
           },
           "marker": {
            "size": 2
           },
           "mode": "lines+markers",
           "name": "V2",
           "type": "scatter",
           "x": [
            0,
            0
           ],
           "y": [
            0,
            1.9591836734693877
           ]
          },
          {
           "line": {
            "color": "green",
            "width": 1
           },
           "marker": {
            "size": 2
           },
           "mode": "lines+markers",
           "name": "V1 + V2",
           "type": "scatter",
           "x": [
            0,
            1
           ],
           "y": [
            0,
            1.9591836734693877
           ]
          },
          {
           "fill": "toself",
           "fillcolor": "rgba(0, 100, 200, 0.2)",
           "line": {
            "color": "rgba(255,255,255,0)"
           },
           "name": "Area",
           "type": "scatter",
           "x": [
            0,
            1,
            1,
            0,
            0
           ],
           "y": [
            0,
            0,
            1.9591836734693877,
            1.9591836734693877,
            0
           ]
          }
         ]
        },
        {
         "data": [
          {
           "line": {
            "color": "blue",
            "width": 1
           },
           "marker": {
            "size": 2
           },
           "mode": "lines+markers",
           "name": "V1",
           "type": "scatter",
           "x": [
            0,
            1
           ],
           "y": [
            0,
            0
           ]
          },
          {
           "line": {
            "color": "red",
            "width": 1
           },
           "marker": {
            "size": 2
           },
           "mode": "lines+markers",
           "name": "V2",
           "type": "scatter",
           "x": [
            0,
            0
           ],
           "y": [
            0,
            1.9795918367346939
           ]
          },
          {
           "line": {
            "color": "green",
            "width": 1
           },
           "marker": {
            "size": 2
           },
           "mode": "lines+markers",
           "name": "V1 + V2",
           "type": "scatter",
           "x": [
            0,
            1
           ],
           "y": [
            0,
            1.9795918367346939
           ]
          },
          {
           "fill": "toself",
           "fillcolor": "rgba(0, 100, 200, 0.2)",
           "line": {
            "color": "rgba(255,255,255,0)"
           },
           "name": "Area",
           "type": "scatter",
           "x": [
            0,
            1,
            1,
            0,
            0
           ],
           "y": [
            0,
            0,
            1.9795918367346939,
            1.9795918367346939,
            0
           ]
          }
         ]
        },
        {
         "data": [
          {
           "line": {
            "color": "blue",
            "width": 1
           },
           "marker": {
            "size": 2
           },
           "mode": "lines+markers",
           "name": "V1",
           "type": "scatter",
           "x": [
            0,
            1
           ],
           "y": [
            0,
            0
           ]
          },
          {
           "line": {
            "color": "red",
            "width": 1
           },
           "marker": {
            "size": 2
           },
           "mode": "lines+markers",
           "name": "V2",
           "type": "scatter",
           "x": [
            0,
            0
           ],
           "y": [
            0,
            2
           ]
          },
          {
           "line": {
            "color": "green",
            "width": 1
           },
           "marker": {
            "size": 2
           },
           "mode": "lines+markers",
           "name": "V1 + V2",
           "type": "scatter",
           "x": [
            0,
            1
           ],
           "y": [
            0,
            2
           ]
          },
          {
           "fill": "toself",
           "fillcolor": "rgba(0, 100, 200, 0.2)",
           "line": {
            "color": "rgba(255,255,255,0)"
           },
           "name": "Area",
           "type": "scatter",
           "x": [
            0,
            1,
            1,
            0,
            0
           ],
           "y": [
            0,
            0,
            2,
            2,
            0
           ]
          }
         ]
        }
       ],
       "layout": {
        "height": 450,
        "showlegend": true,
        "template": {
         "data": {
          "bar": [
           {
            "error_x": {
             "color": "#2a3f5f"
            },
            "error_y": {
             "color": "#2a3f5f"
            },
            "marker": {
             "line": {
              "color": "#E5ECF6",
              "width": 0.5
             },
             "pattern": {
              "fillmode": "overlay",
              "size": 10,
              "solidity": 0.2
             }
            },
            "type": "bar"
           }
          ],
          "barpolar": [
           {
            "marker": {
             "line": {
              "color": "#E5ECF6",
              "width": 0.5
             },
             "pattern": {
              "fillmode": "overlay",
              "size": 10,
              "solidity": 0.2
             }
            },
            "type": "barpolar"
           }
          ],
          "carpet": [
           {
            "aaxis": {
             "endlinecolor": "#2a3f5f",
             "gridcolor": "white",
             "linecolor": "white",
             "minorgridcolor": "white",
             "startlinecolor": "#2a3f5f"
            },
            "baxis": {
             "endlinecolor": "#2a3f5f",
             "gridcolor": "white",
             "linecolor": "white",
             "minorgridcolor": "white",
             "startlinecolor": "#2a3f5f"
            },
            "type": "carpet"
           }
          ],
          "choropleth": [
           {
            "colorbar": {
             "outlinewidth": 0,
             "ticks": ""
            },
            "type": "choropleth"
           }
          ],
          "contour": [
           {
            "colorbar": {
             "outlinewidth": 0,
             "ticks": ""
            },
            "colorscale": [
             [
              0,
              "#0d0887"
             ],
             [
              0.1111111111111111,
              "#46039f"
             ],
             [
              0.2222222222222222,
              "#7201a8"
             ],
             [
              0.3333333333333333,
              "#9c179e"
             ],
             [
              0.4444444444444444,
              "#bd3786"
             ],
             [
              0.5555555555555556,
              "#d8576b"
             ],
             [
              0.6666666666666666,
              "#ed7953"
             ],
             [
              0.7777777777777778,
              "#fb9f3a"
             ],
             [
              0.8888888888888888,
              "#fdca26"
             ],
             [
              1,
              "#f0f921"
             ]
            ],
            "type": "contour"
           }
          ],
          "contourcarpet": [
           {
            "colorbar": {
             "outlinewidth": 0,
             "ticks": ""
            },
            "type": "contourcarpet"
           }
          ],
          "heatmap": [
           {
            "colorbar": {
             "outlinewidth": 0,
             "ticks": ""
            },
            "colorscale": [
             [
              0,
              "#0d0887"
             ],
             [
              0.1111111111111111,
              "#46039f"
             ],
             [
              0.2222222222222222,
              "#7201a8"
             ],
             [
              0.3333333333333333,
              "#9c179e"
             ],
             [
              0.4444444444444444,
              "#bd3786"
             ],
             [
              0.5555555555555556,
              "#d8576b"
             ],
             [
              0.6666666666666666,
              "#ed7953"
             ],
             [
              0.7777777777777778,
              "#fb9f3a"
             ],
             [
              0.8888888888888888,
              "#fdca26"
             ],
             [
              1,
              "#f0f921"
             ]
            ],
            "type": "heatmap"
           }
          ],
          "heatmapgl": [
           {
            "colorbar": {
             "outlinewidth": 0,
             "ticks": ""
            },
            "colorscale": [
             [
              0,
              "#0d0887"
             ],
             [
              0.1111111111111111,
              "#46039f"
             ],
             [
              0.2222222222222222,
              "#7201a8"
             ],
             [
              0.3333333333333333,
              "#9c179e"
             ],
             [
              0.4444444444444444,
              "#bd3786"
             ],
             [
              0.5555555555555556,
              "#d8576b"
             ],
             [
              0.6666666666666666,
              "#ed7953"
             ],
             [
              0.7777777777777778,
              "#fb9f3a"
             ],
             [
              0.8888888888888888,
              "#fdca26"
             ],
             [
              1,
              "#f0f921"
             ]
            ],
            "type": "heatmapgl"
           }
          ],
          "histogram": [
           {
            "marker": {
             "pattern": {
              "fillmode": "overlay",
              "size": 10,
              "solidity": 0.2
             }
            },
            "type": "histogram"
           }
          ],
          "histogram2d": [
           {
            "colorbar": {
             "outlinewidth": 0,
             "ticks": ""
            },
            "colorscale": [
             [
              0,
              "#0d0887"
             ],
             [
              0.1111111111111111,
              "#46039f"
             ],
             [
              0.2222222222222222,
              "#7201a8"
             ],
             [
              0.3333333333333333,
              "#9c179e"
             ],
             [
              0.4444444444444444,
              "#bd3786"
             ],
             [
              0.5555555555555556,
              "#d8576b"
             ],
             [
              0.6666666666666666,
              "#ed7953"
             ],
             [
              0.7777777777777778,
              "#fb9f3a"
             ],
             [
              0.8888888888888888,
              "#fdca26"
             ],
             [
              1,
              "#f0f921"
             ]
            ],
            "type": "histogram2d"
           }
          ],
          "histogram2dcontour": [
           {
            "colorbar": {
             "outlinewidth": 0,
             "ticks": ""
            },
            "colorscale": [
             [
              0,
              "#0d0887"
             ],
             [
              0.1111111111111111,
              "#46039f"
             ],
             [
              0.2222222222222222,
              "#7201a8"
             ],
             [
              0.3333333333333333,
              "#9c179e"
             ],
             [
              0.4444444444444444,
              "#bd3786"
             ],
             [
              0.5555555555555556,
              "#d8576b"
             ],
             [
              0.6666666666666666,
              "#ed7953"
             ],
             [
              0.7777777777777778,
              "#fb9f3a"
             ],
             [
              0.8888888888888888,
              "#fdca26"
             ],
             [
              1,
              "#f0f921"
             ]
            ],
            "type": "histogram2dcontour"
           }
          ],
          "mesh3d": [
           {
            "colorbar": {
             "outlinewidth": 0,
             "ticks": ""
            },
            "type": "mesh3d"
           }
          ],
          "parcoords": [
           {
            "line": {
             "colorbar": {
              "outlinewidth": 0,
              "ticks": ""
             }
            },
            "type": "parcoords"
           }
          ],
          "pie": [
           {
            "automargin": true,
            "type": "pie"
           }
          ],
          "scatter": [
           {
            "fillpattern": {
             "fillmode": "overlay",
             "size": 10,
             "solidity": 0.2
            },
            "type": "scatter"
           }
          ],
          "scatter3d": [
           {
            "line": {
             "colorbar": {
              "outlinewidth": 0,
              "ticks": ""
             }
            },
            "marker": {
             "colorbar": {
              "outlinewidth": 0,
              "ticks": ""
             }
            },
            "type": "scatter3d"
           }
          ],
          "scattercarpet": [
           {
            "marker": {
             "colorbar": {
              "outlinewidth": 0,
              "ticks": ""
             }
            },
            "type": "scattercarpet"
           }
          ],
          "scattergeo": [
           {
            "marker": {
             "colorbar": {
              "outlinewidth": 0,
              "ticks": ""
             }
            },
            "type": "scattergeo"
           }
          ],
          "scattergl": [
           {
            "marker": {
             "colorbar": {
              "outlinewidth": 0,
              "ticks": ""
             }
            },
            "type": "scattergl"
           }
          ],
          "scattermapbox": [
           {
            "marker": {
             "colorbar": {
              "outlinewidth": 0,
              "ticks": ""
             }
            },
            "type": "scattermapbox"
           }
          ],
          "scatterpolar": [
           {
            "marker": {
             "colorbar": {
              "outlinewidth": 0,
              "ticks": ""
             }
            },
            "type": "scatterpolar"
           }
          ],
          "scatterpolargl": [
           {
            "marker": {
             "colorbar": {
              "outlinewidth": 0,
              "ticks": ""
             }
            },
            "type": "scatterpolargl"
           }
          ],
          "scatterternary": [
           {
            "marker": {
             "colorbar": {
              "outlinewidth": 0,
              "ticks": ""
             }
            },
            "type": "scatterternary"
           }
          ],
          "surface": [
           {
            "colorbar": {
             "outlinewidth": 0,
             "ticks": ""
            },
            "colorscale": [
             [
              0,
              "#0d0887"
             ],
             [
              0.1111111111111111,
              "#46039f"
             ],
             [
              0.2222222222222222,
              "#7201a8"
             ],
             [
              0.3333333333333333,
              "#9c179e"
             ],
             [
              0.4444444444444444,
              "#bd3786"
             ],
             [
              0.5555555555555556,
              "#d8576b"
             ],
             [
              0.6666666666666666,
              "#ed7953"
             ],
             [
              0.7777777777777778,
              "#fb9f3a"
             ],
             [
              0.8888888888888888,
              "#fdca26"
             ],
             [
              1,
              "#f0f921"
             ]
            ],
            "type": "surface"
           }
          ],
          "table": [
           {
            "cells": {
             "fill": {
              "color": "#EBF0F8"
             },
             "line": {
              "color": "white"
             }
            },
            "header": {
             "fill": {
              "color": "#C8D4E3"
             },
             "line": {
              "color": "white"
             }
            },
            "type": "table"
           }
          ]
         },
         "layout": {
          "annotationdefaults": {
           "arrowcolor": "#2a3f5f",
           "arrowhead": 0,
           "arrowwidth": 1
          },
          "autotypenumbers": "strict",
          "coloraxis": {
           "colorbar": {
            "outlinewidth": 0,
            "ticks": ""
           }
          },
          "colorscale": {
           "diverging": [
            [
             0,
             "#8e0152"
            ],
            [
             0.1,
             "#c51b7d"
            ],
            [
             0.2,
             "#de77ae"
            ],
            [
             0.3,
             "#f1b6da"
            ],
            [
             0.4,
             "#fde0ef"
            ],
            [
             0.5,
             "#f7f7f7"
            ],
            [
             0.6,
             "#e6f5d0"
            ],
            [
             0.7,
             "#b8e186"
            ],
            [
             0.8,
             "#7fbc41"
            ],
            [
             0.9,
             "#4d9221"
            ],
            [
             1,
             "#276419"
            ]
           ],
           "sequential": [
            [
             0,
             "#0d0887"
            ],
            [
             0.1111111111111111,
             "#46039f"
            ],
            [
             0.2222222222222222,
             "#7201a8"
            ],
            [
             0.3333333333333333,
             "#9c179e"
            ],
            [
             0.4444444444444444,
             "#bd3786"
            ],
            [
             0.5555555555555556,
             "#d8576b"
            ],
            [
             0.6666666666666666,
             "#ed7953"
            ],
            [
             0.7777777777777778,
             "#fb9f3a"
            ],
            [
             0.8888888888888888,
             "#fdca26"
            ],
            [
             1,
             "#f0f921"
            ]
           ],
           "sequentialminus": [
            [
             0,
             "#0d0887"
            ],
            [
             0.1111111111111111,
             "#46039f"
            ],
            [
             0.2222222222222222,
             "#7201a8"
            ],
            [
             0.3333333333333333,
             "#9c179e"
            ],
            [
             0.4444444444444444,
             "#bd3786"
            ],
            [
             0.5555555555555556,
             "#d8576b"
            ],
            [
             0.6666666666666666,
             "#ed7953"
            ],
            [
             0.7777777777777778,
             "#fb9f3a"
            ],
            [
             0.8888888888888888,
             "#fdca26"
            ],
            [
             1,
             "#f0f921"
            ]
           ]
          },
          "colorway": [
           "#636efa",
           "#EF553B",
           "#00cc96",
           "#ab63fa",
           "#FFA15A",
           "#19d3f3",
           "#FF6692",
           "#B6E880",
           "#FF97FF",
           "#FECB52"
          ],
          "font": {
           "color": "#2a3f5f"
          },
          "geo": {
           "bgcolor": "white",
           "lakecolor": "white",
           "landcolor": "#E5ECF6",
           "showlakes": true,
           "showland": true,
           "subunitcolor": "white"
          },
          "hoverlabel": {
           "align": "left"
          },
          "hovermode": "closest",
          "mapbox": {
           "style": "light"
          },
          "paper_bgcolor": "white",
          "plot_bgcolor": "#E5ECF6",
          "polar": {
           "angularaxis": {
            "gridcolor": "white",
            "linecolor": "white",
            "ticks": ""
           },
           "bgcolor": "#E5ECF6",
           "radialaxis": {
            "gridcolor": "white",
            "linecolor": "white",
            "ticks": ""
           }
          },
          "scene": {
           "xaxis": {
            "backgroundcolor": "#E5ECF6",
            "gridcolor": "white",
            "gridwidth": 2,
            "linecolor": "white",
            "showbackground": true,
            "ticks": "",
            "zerolinecolor": "white"
           },
           "yaxis": {
            "backgroundcolor": "#E5ECF6",
            "gridcolor": "white",
            "gridwidth": 2,
            "linecolor": "white",
            "showbackground": true,
            "ticks": "",
            "zerolinecolor": "white"
           },
           "zaxis": {
            "backgroundcolor": "#E5ECF6",
            "gridcolor": "white",
            "gridwidth": 2,
            "linecolor": "white",
            "showbackground": true,
            "ticks": "",
            "zerolinecolor": "white"
           }
          },
          "shapedefaults": {
           "line": {
            "color": "#2a3f5f"
           }
          },
          "ternary": {
           "aaxis": {
            "gridcolor": "white",
            "linecolor": "white",
            "ticks": ""
           },
           "baxis": {
            "gridcolor": "white",
            "linecolor": "white",
            "ticks": ""
           },
           "bgcolor": "#E5ECF6",
           "caxis": {
            "gridcolor": "white",
            "linecolor": "white",
            "ticks": ""
           }
          },
          "title": {
           "x": 0.05
          },
          "xaxis": {
           "automargin": true,
           "gridcolor": "white",
           "linecolor": "white",
           "ticks": "",
           "title": {
            "standoff": 15
           },
           "zerolinecolor": "white",
           "zerolinewidth": 2
          },
          "yaxis": {
           "automargin": true,
           "gridcolor": "white",
           "linecolor": "white",
           "ticks": "",
           "title": {
            "standoff": 15
           },
           "zerolinecolor": "white",
           "zerolinewidth": 2
          }
         }
        },
        "title": {
         "text": "Area and stretching in the x direction"
        },
        "updatemenus": [
         {
          "buttons": [
           {
            "args": [
             null,
             {
              "frame": {
               "duration": 50,
               "redraw": false
              },
              "fromcurrent": true,
              "transition": {
               "duration": 10
              }
             }
            ],
            "label": "Play",
            "method": "animate"
           }
          ],
          "type": "buttons"
         }
        ],
        "width": 600,
        "xaxis": {
         "range": [
          -2.3,
          2.3
         ],
         "title": {
          "text": "x"
         }
        },
        "yaxis": {
         "range": [
          -2.3,
          2.3
         ],
         "title": {
          "text": "y"
         }
        }
       }
      }
     },
     "metadata": {},
     "output_type": "display_data"
    }
   ],
   "source": [
    "# Scale in the y direction\n",
    "\n",
    "fig2 = create_animation(unit1, unit2, [\n",
    "    np.array([[1, 0], [0, y]]) for y in np.linspace(1, 2, 50)\n",
    "])\n",
    "fig2.show()"
   ]
  },
  {
   "cell_type": "code",
   "execution_count": null,
   "id": "492ec4c8",
   "metadata": {},
   "outputs": [
    {
     "data": {
      "application/vnd.plotly.v1+json": {
       "config": {
        "plotlyServerURL": "https://plot.ly"
       },
       "data": [
        {
         "line": {
          "color": "blue",
          "width": 1
         },
         "marker": {
          "size": 2
         },
         "mode": "lines+markers",
         "name": "V1",
         "type": "scatter",
         "x": [
          0,
          1
         ],
         "y": [
          0,
          0
         ]
        },
        {
         "line": {
          "color": "red",
          "width": 1
         },
         "marker": {
          "size": 2
         },
         "mode": "lines+markers",
         "name": "V2",
         "type": "scatter",
         "x": [
          0,
          0
         ],
         "y": [
          0,
          1
         ]
        },
        {
         "line": {
          "color": "green",
          "width": 1
         },
         "marker": {
          "size": 2
         },
         "mode": "lines+markers",
         "name": "V1 + V2",
         "type": "scatter",
         "x": [
          0,
          1
         ],
         "y": [
          0,
          1
         ]
        },
        {
         "fill": "toself",
         "fillcolor": "rgba(0, 100, 200, 0.2)",
         "line": {
          "color": "rgba(255,255,255,0)"
         },
         "name": "Area",
         "type": "scatter",
         "x": [
          0,
          1,
          1,
          0,
          0
         ],
         "y": [
          0,
          0,
          1,
          1,
          0
         ]
        }
       ],
       "frames": [
        {
         "data": [
          {
           "line": {
            "color": "blue",
            "width": 1
           },
           "marker": {
            "size": 2
           },
           "mode": "lines+markers",
           "name": "V1",
           "type": "scatter",
           "x": [
            0,
            1
           ],
           "y": [
            0,
            0
           ]
          },
          {
           "line": {
            "color": "red",
            "width": 1
           },
           "marker": {
            "size": 2
           },
           "mode": "lines+markers",
           "name": "V2",
           "type": "scatter",
           "x": [
            0,
            0
           ],
           "y": [
            0,
            1
           ]
          },
          {
           "line": {
            "color": "green",
            "width": 1
           },
           "marker": {
            "size": 2
           },
           "mode": "lines+markers",
           "name": "V1 + V2",
           "type": "scatter",
           "x": [
            0,
            1
           ],
           "y": [
            0,
            1
           ]
          },
          {
           "fill": "toself",
           "fillcolor": "rgba(0, 100, 200, 0.2)",
           "line": {
            "color": "rgba(255,255,255,0)"
           },
           "name": "Area",
           "type": "scatter",
           "x": [
            0,
            1,
            1,
            0,
            0
           ],
           "y": [
            0,
            0,
            1,
            1,
            0
           ]
          }
         ]
        },
        {
         "data": [
          {
           "line": {
            "color": "blue",
            "width": 1
           },
           "marker": {
            "size": 2
           },
           "mode": "lines+markers",
           "name": "V1",
           "type": "scatter",
           "x": [
            0,
            1.0204081632653061
           ],
           "y": [
            0,
            0
           ]
          },
          {
           "line": {
            "color": "red",
            "width": 1
           },
           "marker": {
            "size": 2
           },
           "mode": "lines+markers",
           "name": "V2",
           "type": "scatter",
           "x": [
            0,
            0
           ],
           "y": [
            0,
            1.0204081632653061
           ]
          },
          {
           "line": {
            "color": "green",
            "width": 1
           },
           "marker": {
            "size": 2
           },
           "mode": "lines+markers",
           "name": "V1 + V2",
           "type": "scatter",
           "x": [
            0,
            1.0204081632653061
           ],
           "y": [
            0,
            1.0204081632653061
           ]
          },
          {
           "fill": "toself",
           "fillcolor": "rgba(0, 100, 200, 0.2)",
           "line": {
            "color": "rgba(255,255,255,0)"
           },
           "name": "Area",
           "type": "scatter",
           "x": [
            0,
            1.0204081632653061,
            1.0204081632653061,
            0,
            0
           ],
           "y": [
            0,
            0,
            1.0204081632653061,
            1.0204081632653061,
            0
           ]
          }
         ]
        },
        {
         "data": [
          {
           "line": {
            "color": "blue",
            "width": 1
           },
           "marker": {
            "size": 2
           },
           "mode": "lines+markers",
           "name": "V1",
           "type": "scatter",
           "x": [
            0,
            1.0408163265306123
           ],
           "y": [
            0,
            0
           ]
          },
          {
           "line": {
            "color": "red",
            "width": 1
           },
           "marker": {
            "size": 2
           },
           "mode": "lines+markers",
           "name": "V2",
           "type": "scatter",
           "x": [
            0,
            0
           ],
           "y": [
            0,
            1.0408163265306123
           ]
          },
          {
           "line": {
            "color": "green",
            "width": 1
           },
           "marker": {
            "size": 2
           },
           "mode": "lines+markers",
           "name": "V1 + V2",
           "type": "scatter",
           "x": [
            0,
            1.0408163265306123
           ],
           "y": [
            0,
            1.0408163265306123
           ]
          },
          {
           "fill": "toself",
           "fillcolor": "rgba(0, 100, 200, 0.2)",
           "line": {
            "color": "rgba(255,255,255,0)"
           },
           "name": "Area",
           "type": "scatter",
           "x": [
            0,
            1.0408163265306123,
            1.0408163265306123,
            0,
            0
           ],
           "y": [
            0,
            0,
            1.0408163265306123,
            1.0408163265306123,
            0
           ]
          }
         ]
        },
        {
         "data": [
          {
           "line": {
            "color": "blue",
            "width": 1
           },
           "marker": {
            "size": 2
           },
           "mode": "lines+markers",
           "name": "V1",
           "type": "scatter",
           "x": [
            0,
            1.0612244897959184
           ],
           "y": [
            0,
            0
           ]
          },
          {
           "line": {
            "color": "red",
            "width": 1
           },
           "marker": {
            "size": 2
           },
           "mode": "lines+markers",
           "name": "V2",
           "type": "scatter",
           "x": [
            0,
            0
           ],
           "y": [
            0,
            1.0612244897959184
           ]
          },
          {
           "line": {
            "color": "green",
            "width": 1
           },
           "marker": {
            "size": 2
           },
           "mode": "lines+markers",
           "name": "V1 + V2",
           "type": "scatter",
           "x": [
            0,
            1.0612244897959184
           ],
           "y": [
            0,
            1.0612244897959184
           ]
          },
          {
           "fill": "toself",
           "fillcolor": "rgba(0, 100, 200, 0.2)",
           "line": {
            "color": "rgba(255,255,255,0)"
           },
           "name": "Area",
           "type": "scatter",
           "x": [
            0,
            1.0612244897959184,
            1.0612244897959184,
            0,
            0
           ],
           "y": [
            0,
            0,
            1.0612244897959184,
            1.0612244897959184,
            0
           ]
          }
         ]
        },
        {
         "data": [
          {
           "line": {
            "color": "blue",
            "width": 1
           },
           "marker": {
            "size": 2
           },
           "mode": "lines+markers",
           "name": "V1",
           "type": "scatter",
           "x": [
            0,
            1.0816326530612246
           ],
           "y": [
            0,
            0
           ]
          },
          {
           "line": {
            "color": "red",
            "width": 1
           },
           "marker": {
            "size": 2
           },
           "mode": "lines+markers",
           "name": "V2",
           "type": "scatter",
           "x": [
            0,
            0
           ],
           "y": [
            0,
            1.0816326530612246
           ]
          },
          {
           "line": {
            "color": "green",
            "width": 1
           },
           "marker": {
            "size": 2
           },
           "mode": "lines+markers",
           "name": "V1 + V2",
           "type": "scatter",
           "x": [
            0,
            1.0816326530612246
           ],
           "y": [
            0,
            1.0816326530612246
           ]
          },
          {
           "fill": "toself",
           "fillcolor": "rgba(0, 100, 200, 0.2)",
           "line": {
            "color": "rgba(255,255,255,0)"
           },
           "name": "Area",
           "type": "scatter",
           "x": [
            0,
            1.0816326530612246,
            1.0816326530612246,
            0,
            0
           ],
           "y": [
            0,
            0,
            1.0816326530612246,
            1.0816326530612246,
            0
           ]
          }
         ]
        },
        {
         "data": [
          {
           "line": {
            "color": "blue",
            "width": 1
           },
           "marker": {
            "size": 2
           },
           "mode": "lines+markers",
           "name": "V1",
           "type": "scatter",
           "x": [
            0,
            1.1020408163265305
           ],
           "y": [
            0,
            0
           ]
          },
          {
           "line": {
            "color": "red",
            "width": 1
           },
           "marker": {
            "size": 2
           },
           "mode": "lines+markers",
           "name": "V2",
           "type": "scatter",
           "x": [
            0,
            0
           ],
           "y": [
            0,
            1.1020408163265305
           ]
          },
          {
           "line": {
            "color": "green",
            "width": 1
           },
           "marker": {
            "size": 2
           },
           "mode": "lines+markers",
           "name": "V1 + V2",
           "type": "scatter",
           "x": [
            0,
            1.1020408163265305
           ],
           "y": [
            0,
            1.1020408163265305
           ]
          },
          {
           "fill": "toself",
           "fillcolor": "rgba(0, 100, 200, 0.2)",
           "line": {
            "color": "rgba(255,255,255,0)"
           },
           "name": "Area",
           "type": "scatter",
           "x": [
            0,
            1.1020408163265305,
            1.1020408163265305,
            0,
            0
           ],
           "y": [
            0,
            0,
            1.1020408163265305,
            1.1020408163265305,
            0
           ]
          }
         ]
        },
        {
         "data": [
          {
           "line": {
            "color": "blue",
            "width": 1
           },
           "marker": {
            "size": 2
           },
           "mode": "lines+markers",
           "name": "V1",
           "type": "scatter",
           "x": [
            0,
            1.1224489795918366
           ],
           "y": [
            0,
            0
           ]
          },
          {
           "line": {
            "color": "red",
            "width": 1
           },
           "marker": {
            "size": 2
           },
           "mode": "lines+markers",
           "name": "V2",
           "type": "scatter",
           "x": [
            0,
            0
           ],
           "y": [
            0,
            1.1224489795918366
           ]
          },
          {
           "line": {
            "color": "green",
            "width": 1
           },
           "marker": {
            "size": 2
           },
           "mode": "lines+markers",
           "name": "V1 + V2",
           "type": "scatter",
           "x": [
            0,
            1.1224489795918366
           ],
           "y": [
            0,
            1.1224489795918366
           ]
          },
          {
           "fill": "toself",
           "fillcolor": "rgba(0, 100, 200, 0.2)",
           "line": {
            "color": "rgba(255,255,255,0)"
           },
           "name": "Area",
           "type": "scatter",
           "x": [
            0,
            1.1224489795918366,
            1.1224489795918366,
            0,
            0
           ],
           "y": [
            0,
            0,
            1.1224489795918366,
            1.1224489795918366,
            0
           ]
          }
         ]
        },
        {
         "data": [
          {
           "line": {
            "color": "blue",
            "width": 1
           },
           "marker": {
            "size": 2
           },
           "mode": "lines+markers",
           "name": "V1",
           "type": "scatter",
           "x": [
            0,
            1.1428571428571428
           ],
           "y": [
            0,
            0
           ]
          },
          {
           "line": {
            "color": "red",
            "width": 1
           },
           "marker": {
            "size": 2
           },
           "mode": "lines+markers",
           "name": "V2",
           "type": "scatter",
           "x": [
            0,
            0
           ],
           "y": [
            0,
            1.1428571428571428
           ]
          },
          {
           "line": {
            "color": "green",
            "width": 1
           },
           "marker": {
            "size": 2
           },
           "mode": "lines+markers",
           "name": "V1 + V2",
           "type": "scatter",
           "x": [
            0,
            1.1428571428571428
           ],
           "y": [
            0,
            1.1428571428571428
           ]
          },
          {
           "fill": "toself",
           "fillcolor": "rgba(0, 100, 200, 0.2)",
           "line": {
            "color": "rgba(255,255,255,0)"
           },
           "name": "Area",
           "type": "scatter",
           "x": [
            0,
            1.1428571428571428,
            1.1428571428571428,
            0,
            0
           ],
           "y": [
            0,
            0,
            1.1428571428571428,
            1.1428571428571428,
            0
           ]
          }
         ]
        },
        {
         "data": [
          {
           "line": {
            "color": "blue",
            "width": 1
           },
           "marker": {
            "size": 2
           },
           "mode": "lines+markers",
           "name": "V1",
           "type": "scatter",
           "x": [
            0,
            1.163265306122449
           ],
           "y": [
            0,
            0
           ]
          },
          {
           "line": {
            "color": "red",
            "width": 1
           },
           "marker": {
            "size": 2
           },
           "mode": "lines+markers",
           "name": "V2",
           "type": "scatter",
           "x": [
            0,
            0
           ],
           "y": [
            0,
            1.163265306122449
           ]
          },
          {
           "line": {
            "color": "green",
            "width": 1
           },
           "marker": {
            "size": 2
           },
           "mode": "lines+markers",
           "name": "V1 + V2",
           "type": "scatter",
           "x": [
            0,
            1.163265306122449
           ],
           "y": [
            0,
            1.163265306122449
           ]
          },
          {
           "fill": "toself",
           "fillcolor": "rgba(0, 100, 200, 0.2)",
           "line": {
            "color": "rgba(255,255,255,0)"
           },
           "name": "Area",
           "type": "scatter",
           "x": [
            0,
            1.163265306122449,
            1.163265306122449,
            0,
            0
           ],
           "y": [
            0,
            0,
            1.163265306122449,
            1.163265306122449,
            0
           ]
          }
         ]
        },
        {
         "data": [
          {
           "line": {
            "color": "blue",
            "width": 1
           },
           "marker": {
            "size": 2
           },
           "mode": "lines+markers",
           "name": "V1",
           "type": "scatter",
           "x": [
            0,
            1.183673469387755
           ],
           "y": [
            0,
            0
           ]
          },
          {
           "line": {
            "color": "red",
            "width": 1
           },
           "marker": {
            "size": 2
           },
           "mode": "lines+markers",
           "name": "V2",
           "type": "scatter",
           "x": [
            0,
            0
           ],
           "y": [
            0,
            1.183673469387755
           ]
          },
          {
           "line": {
            "color": "green",
            "width": 1
           },
           "marker": {
            "size": 2
           },
           "mode": "lines+markers",
           "name": "V1 + V2",
           "type": "scatter",
           "x": [
            0,
            1.183673469387755
           ],
           "y": [
            0,
            1.183673469387755
           ]
          },
          {
           "fill": "toself",
           "fillcolor": "rgba(0, 100, 200, 0.2)",
           "line": {
            "color": "rgba(255,255,255,0)"
           },
           "name": "Area",
           "type": "scatter",
           "x": [
            0,
            1.183673469387755,
            1.183673469387755,
            0,
            0
           ],
           "y": [
            0,
            0,
            1.183673469387755,
            1.183673469387755,
            0
           ]
          }
         ]
        },
        {
         "data": [
          {
           "line": {
            "color": "blue",
            "width": 1
           },
           "marker": {
            "size": 2
           },
           "mode": "lines+markers",
           "name": "V1",
           "type": "scatter",
           "x": [
            0,
            1.2040816326530612
           ],
           "y": [
            0,
            0
           ]
          },
          {
           "line": {
            "color": "red",
            "width": 1
           },
           "marker": {
            "size": 2
           },
           "mode": "lines+markers",
           "name": "V2",
           "type": "scatter",
           "x": [
            0,
            0
           ],
           "y": [
            0,
            1.2040816326530612
           ]
          },
          {
           "line": {
            "color": "green",
            "width": 1
           },
           "marker": {
            "size": 2
           },
           "mode": "lines+markers",
           "name": "V1 + V2",
           "type": "scatter",
           "x": [
            0,
            1.2040816326530612
           ],
           "y": [
            0,
            1.2040816326530612
           ]
          },
          {
           "fill": "toself",
           "fillcolor": "rgba(0, 100, 200, 0.2)",
           "line": {
            "color": "rgba(255,255,255,0)"
           },
           "name": "Area",
           "type": "scatter",
           "x": [
            0,
            1.2040816326530612,
            1.2040816326530612,
            0,
            0
           ],
           "y": [
            0,
            0,
            1.2040816326530612,
            1.2040816326530612,
            0
           ]
          }
         ]
        },
        {
         "data": [
          {
           "line": {
            "color": "blue",
            "width": 1
           },
           "marker": {
            "size": 2
           },
           "mode": "lines+markers",
           "name": "V1",
           "type": "scatter",
           "x": [
            0,
            1.2244897959183674
           ],
           "y": [
            0,
            0
           ]
          },
          {
           "line": {
            "color": "red",
            "width": 1
           },
           "marker": {
            "size": 2
           },
           "mode": "lines+markers",
           "name": "V2",
           "type": "scatter",
           "x": [
            0,
            0
           ],
           "y": [
            0,
            1.2244897959183674
           ]
          },
          {
           "line": {
            "color": "green",
            "width": 1
           },
           "marker": {
            "size": 2
           },
           "mode": "lines+markers",
           "name": "V1 + V2",
           "type": "scatter",
           "x": [
            0,
            1.2244897959183674
           ],
           "y": [
            0,
            1.2244897959183674
           ]
          },
          {
           "fill": "toself",
           "fillcolor": "rgba(0, 100, 200, 0.2)",
           "line": {
            "color": "rgba(255,255,255,0)"
           },
           "name": "Area",
           "type": "scatter",
           "x": [
            0,
            1.2244897959183674,
            1.2244897959183674,
            0,
            0
           ],
           "y": [
            0,
            0,
            1.2244897959183674,
            1.2244897959183674,
            0
           ]
          }
         ]
        },
        {
         "data": [
          {
           "line": {
            "color": "blue",
            "width": 1
           },
           "marker": {
            "size": 2
           },
           "mode": "lines+markers",
           "name": "V1",
           "type": "scatter",
           "x": [
            0,
            1.2448979591836735
           ],
           "y": [
            0,
            0
           ]
          },
          {
           "line": {
            "color": "red",
            "width": 1
           },
           "marker": {
            "size": 2
           },
           "mode": "lines+markers",
           "name": "V2",
           "type": "scatter",
           "x": [
            0,
            0
           ],
           "y": [
            0,
            1.2448979591836735
           ]
          },
          {
           "line": {
            "color": "green",
            "width": 1
           },
           "marker": {
            "size": 2
           },
           "mode": "lines+markers",
           "name": "V1 + V2",
           "type": "scatter",
           "x": [
            0,
            1.2448979591836735
           ],
           "y": [
            0,
            1.2448979591836735
           ]
          },
          {
           "fill": "toself",
           "fillcolor": "rgba(0, 100, 200, 0.2)",
           "line": {
            "color": "rgba(255,255,255,0)"
           },
           "name": "Area",
           "type": "scatter",
           "x": [
            0,
            1.2448979591836735,
            1.2448979591836735,
            0,
            0
           ],
           "y": [
            0,
            0,
            1.2448979591836735,
            1.2448979591836735,
            0
           ]
          }
         ]
        },
        {
         "data": [
          {
           "line": {
            "color": "blue",
            "width": 1
           },
           "marker": {
            "size": 2
           },
           "mode": "lines+markers",
           "name": "V1",
           "type": "scatter",
           "x": [
            0,
            1.2653061224489797
           ],
           "y": [
            0,
            0
           ]
          },
          {
           "line": {
            "color": "red",
            "width": 1
           },
           "marker": {
            "size": 2
           },
           "mode": "lines+markers",
           "name": "V2",
           "type": "scatter",
           "x": [
            0,
            0
           ],
           "y": [
            0,
            1.2653061224489797
           ]
          },
          {
           "line": {
            "color": "green",
            "width": 1
           },
           "marker": {
            "size": 2
           },
           "mode": "lines+markers",
           "name": "V1 + V2",
           "type": "scatter",
           "x": [
            0,
            1.2653061224489797
           ],
           "y": [
            0,
            1.2653061224489797
           ]
          },
          {
           "fill": "toself",
           "fillcolor": "rgba(0, 100, 200, 0.2)",
           "line": {
            "color": "rgba(255,255,255,0)"
           },
           "name": "Area",
           "type": "scatter",
           "x": [
            0,
            1.2653061224489797,
            1.2653061224489797,
            0,
            0
           ],
           "y": [
            0,
            0,
            1.2653061224489797,
            1.2653061224489797,
            0
           ]
          }
         ]
        },
        {
         "data": [
          {
           "line": {
            "color": "blue",
            "width": 1
           },
           "marker": {
            "size": 2
           },
           "mode": "lines+markers",
           "name": "V1",
           "type": "scatter",
           "x": [
            0,
            1.2857142857142856
           ],
           "y": [
            0,
            0
           ]
          },
          {
           "line": {
            "color": "red",
            "width": 1
           },
           "marker": {
            "size": 2
           },
           "mode": "lines+markers",
           "name": "V2",
           "type": "scatter",
           "x": [
            0,
            0
           ],
           "y": [
            0,
            1.2857142857142856
           ]
          },
          {
           "line": {
            "color": "green",
            "width": 1
           },
           "marker": {
            "size": 2
           },
           "mode": "lines+markers",
           "name": "V1 + V2",
           "type": "scatter",
           "x": [
            0,
            1.2857142857142856
           ],
           "y": [
            0,
            1.2857142857142856
           ]
          },
          {
           "fill": "toself",
           "fillcolor": "rgba(0, 100, 200, 0.2)",
           "line": {
            "color": "rgba(255,255,255,0)"
           },
           "name": "Area",
           "type": "scatter",
           "x": [
            0,
            1.2857142857142856,
            1.2857142857142856,
            0,
            0
           ],
           "y": [
            0,
            0,
            1.2857142857142856,
            1.2857142857142856,
            0
           ]
          }
         ]
        },
        {
         "data": [
          {
           "line": {
            "color": "blue",
            "width": 1
           },
           "marker": {
            "size": 2
           },
           "mode": "lines+markers",
           "name": "V1",
           "type": "scatter",
           "x": [
            0,
            1.3061224489795917
           ],
           "y": [
            0,
            0
           ]
          },
          {
           "line": {
            "color": "red",
            "width": 1
           },
           "marker": {
            "size": 2
           },
           "mode": "lines+markers",
           "name": "V2",
           "type": "scatter",
           "x": [
            0,
            0
           ],
           "y": [
            0,
            1.3061224489795917
           ]
          },
          {
           "line": {
            "color": "green",
            "width": 1
           },
           "marker": {
            "size": 2
           },
           "mode": "lines+markers",
           "name": "V1 + V2",
           "type": "scatter",
           "x": [
            0,
            1.3061224489795917
           ],
           "y": [
            0,
            1.3061224489795917
           ]
          },
          {
           "fill": "toself",
           "fillcolor": "rgba(0, 100, 200, 0.2)",
           "line": {
            "color": "rgba(255,255,255,0)"
           },
           "name": "Area",
           "type": "scatter",
           "x": [
            0,
            1.3061224489795917,
            1.3061224489795917,
            0,
            0
           ],
           "y": [
            0,
            0,
            1.3061224489795917,
            1.3061224489795917,
            0
           ]
          }
         ]
        },
        {
         "data": [
          {
           "line": {
            "color": "blue",
            "width": 1
           },
           "marker": {
            "size": 2
           },
           "mode": "lines+markers",
           "name": "V1",
           "type": "scatter",
           "x": [
            0,
            1.3265306122448979
           ],
           "y": [
            0,
            0
           ]
          },
          {
           "line": {
            "color": "red",
            "width": 1
           },
           "marker": {
            "size": 2
           },
           "mode": "lines+markers",
           "name": "V2",
           "type": "scatter",
           "x": [
            0,
            0
           ],
           "y": [
            0,
            1.3265306122448979
           ]
          },
          {
           "line": {
            "color": "green",
            "width": 1
           },
           "marker": {
            "size": 2
           },
           "mode": "lines+markers",
           "name": "V1 + V2",
           "type": "scatter",
           "x": [
            0,
            1.3265306122448979
           ],
           "y": [
            0,
            1.3265306122448979
           ]
          },
          {
           "fill": "toself",
           "fillcolor": "rgba(0, 100, 200, 0.2)",
           "line": {
            "color": "rgba(255,255,255,0)"
           },
           "name": "Area",
           "type": "scatter",
           "x": [
            0,
            1.3265306122448979,
            1.3265306122448979,
            0,
            0
           ],
           "y": [
            0,
            0,
            1.3265306122448979,
            1.3265306122448979,
            0
           ]
          }
         ]
        },
        {
         "data": [
          {
           "line": {
            "color": "blue",
            "width": 1
           },
           "marker": {
            "size": 2
           },
           "mode": "lines+markers",
           "name": "V1",
           "type": "scatter",
           "x": [
            0,
            1.346938775510204
           ],
           "y": [
            0,
            0
           ]
          },
          {
           "line": {
            "color": "red",
            "width": 1
           },
           "marker": {
            "size": 2
           },
           "mode": "lines+markers",
           "name": "V2",
           "type": "scatter",
           "x": [
            0,
            0
           ],
           "y": [
            0,
            1.346938775510204
           ]
          },
          {
           "line": {
            "color": "green",
            "width": 1
           },
           "marker": {
            "size": 2
           },
           "mode": "lines+markers",
           "name": "V1 + V2",
           "type": "scatter",
           "x": [
            0,
            1.346938775510204
           ],
           "y": [
            0,
            1.346938775510204
           ]
          },
          {
           "fill": "toself",
           "fillcolor": "rgba(0, 100, 200, 0.2)",
           "line": {
            "color": "rgba(255,255,255,0)"
           },
           "name": "Area",
           "type": "scatter",
           "x": [
            0,
            1.346938775510204,
            1.346938775510204,
            0,
            0
           ],
           "y": [
            0,
            0,
            1.346938775510204,
            1.346938775510204,
            0
           ]
          }
         ]
        },
        {
         "data": [
          {
           "line": {
            "color": "blue",
            "width": 1
           },
           "marker": {
            "size": 2
           },
           "mode": "lines+markers",
           "name": "V1",
           "type": "scatter",
           "x": [
            0,
            1.3673469387755102
           ],
           "y": [
            0,
            0
           ]
          },
          {
           "line": {
            "color": "red",
            "width": 1
           },
           "marker": {
            "size": 2
           },
           "mode": "lines+markers",
           "name": "V2",
           "type": "scatter",
           "x": [
            0,
            0
           ],
           "y": [
            0,
            1.3673469387755102
           ]
          },
          {
           "line": {
            "color": "green",
            "width": 1
           },
           "marker": {
            "size": 2
           },
           "mode": "lines+markers",
           "name": "V1 + V2",
           "type": "scatter",
           "x": [
            0,
            1.3673469387755102
           ],
           "y": [
            0,
            1.3673469387755102
           ]
          },
          {
           "fill": "toself",
           "fillcolor": "rgba(0, 100, 200, 0.2)",
           "line": {
            "color": "rgba(255,255,255,0)"
           },
           "name": "Area",
           "type": "scatter",
           "x": [
            0,
            1.3673469387755102,
            1.3673469387755102,
            0,
            0
           ],
           "y": [
            0,
            0,
            1.3673469387755102,
            1.3673469387755102,
            0
           ]
          }
         ]
        },
        {
         "data": [
          {
           "line": {
            "color": "blue",
            "width": 1
           },
           "marker": {
            "size": 2
           },
           "mode": "lines+markers",
           "name": "V1",
           "type": "scatter",
           "x": [
            0,
            1.3877551020408163
           ],
           "y": [
            0,
            0
           ]
          },
          {
           "line": {
            "color": "red",
            "width": 1
           },
           "marker": {
            "size": 2
           },
           "mode": "lines+markers",
           "name": "V2",
           "type": "scatter",
           "x": [
            0,
            0
           ],
           "y": [
            0,
            1.3877551020408163
           ]
          },
          {
           "line": {
            "color": "green",
            "width": 1
           },
           "marker": {
            "size": 2
           },
           "mode": "lines+markers",
           "name": "V1 + V2",
           "type": "scatter",
           "x": [
            0,
            1.3877551020408163
           ],
           "y": [
            0,
            1.3877551020408163
           ]
          },
          {
           "fill": "toself",
           "fillcolor": "rgba(0, 100, 200, 0.2)",
           "line": {
            "color": "rgba(255,255,255,0)"
           },
           "name": "Area",
           "type": "scatter",
           "x": [
            0,
            1.3877551020408163,
            1.3877551020408163,
            0,
            0
           ],
           "y": [
            0,
            0,
            1.3877551020408163,
            1.3877551020408163,
            0
           ]
          }
         ]
        },
        {
         "data": [
          {
           "line": {
            "color": "blue",
            "width": 1
           },
           "marker": {
            "size": 2
           },
           "mode": "lines+markers",
           "name": "V1",
           "type": "scatter",
           "x": [
            0,
            1.4081632653061225
           ],
           "y": [
            0,
            0
           ]
          },
          {
           "line": {
            "color": "red",
            "width": 1
           },
           "marker": {
            "size": 2
           },
           "mode": "lines+markers",
           "name": "V2",
           "type": "scatter",
           "x": [
            0,
            0
           ],
           "y": [
            0,
            1.4081632653061225
           ]
          },
          {
           "line": {
            "color": "green",
            "width": 1
           },
           "marker": {
            "size": 2
           },
           "mode": "lines+markers",
           "name": "V1 + V2",
           "type": "scatter",
           "x": [
            0,
            1.4081632653061225
           ],
           "y": [
            0,
            1.4081632653061225
           ]
          },
          {
           "fill": "toself",
           "fillcolor": "rgba(0, 100, 200, 0.2)",
           "line": {
            "color": "rgba(255,255,255,0)"
           },
           "name": "Area",
           "type": "scatter",
           "x": [
            0,
            1.4081632653061225,
            1.4081632653061225,
            0,
            0
           ],
           "y": [
            0,
            0,
            1.4081632653061225,
            1.4081632653061225,
            0
           ]
          }
         ]
        },
        {
         "data": [
          {
           "line": {
            "color": "blue",
            "width": 1
           },
           "marker": {
            "size": 2
           },
           "mode": "lines+markers",
           "name": "V1",
           "type": "scatter",
           "x": [
            0,
            1.4285714285714286
           ],
           "y": [
            0,
            0
           ]
          },
          {
           "line": {
            "color": "red",
            "width": 1
           },
           "marker": {
            "size": 2
           },
           "mode": "lines+markers",
           "name": "V2",
           "type": "scatter",
           "x": [
            0,
            0
           ],
           "y": [
            0,
            1.4285714285714286
           ]
          },
          {
           "line": {
            "color": "green",
            "width": 1
           },
           "marker": {
            "size": 2
           },
           "mode": "lines+markers",
           "name": "V1 + V2",
           "type": "scatter",
           "x": [
            0,
            1.4285714285714286
           ],
           "y": [
            0,
            1.4285714285714286
           ]
          },
          {
           "fill": "toself",
           "fillcolor": "rgba(0, 100, 200, 0.2)",
           "line": {
            "color": "rgba(255,255,255,0)"
           },
           "name": "Area",
           "type": "scatter",
           "x": [
            0,
            1.4285714285714286,
            1.4285714285714286,
            0,
            0
           ],
           "y": [
            0,
            0,
            1.4285714285714286,
            1.4285714285714286,
            0
           ]
          }
         ]
        },
        {
         "data": [
          {
           "line": {
            "color": "blue",
            "width": 1
           },
           "marker": {
            "size": 2
           },
           "mode": "lines+markers",
           "name": "V1",
           "type": "scatter",
           "x": [
            0,
            1.4489795918367347
           ],
           "y": [
            0,
            0
           ]
          },
          {
           "line": {
            "color": "red",
            "width": 1
           },
           "marker": {
            "size": 2
           },
           "mode": "lines+markers",
           "name": "V2",
           "type": "scatter",
           "x": [
            0,
            0
           ],
           "y": [
            0,
            1.4489795918367347
           ]
          },
          {
           "line": {
            "color": "green",
            "width": 1
           },
           "marker": {
            "size": 2
           },
           "mode": "lines+markers",
           "name": "V1 + V2",
           "type": "scatter",
           "x": [
            0,
            1.4489795918367347
           ],
           "y": [
            0,
            1.4489795918367347
           ]
          },
          {
           "fill": "toself",
           "fillcolor": "rgba(0, 100, 200, 0.2)",
           "line": {
            "color": "rgba(255,255,255,0)"
           },
           "name": "Area",
           "type": "scatter",
           "x": [
            0,
            1.4489795918367347,
            1.4489795918367347,
            0,
            0
           ],
           "y": [
            0,
            0,
            1.4489795918367347,
            1.4489795918367347,
            0
           ]
          }
         ]
        },
        {
         "data": [
          {
           "line": {
            "color": "blue",
            "width": 1
           },
           "marker": {
            "size": 2
           },
           "mode": "lines+markers",
           "name": "V1",
           "type": "scatter",
           "x": [
            0,
            1.4693877551020407
           ],
           "y": [
            0,
            0
           ]
          },
          {
           "line": {
            "color": "red",
            "width": 1
           },
           "marker": {
            "size": 2
           },
           "mode": "lines+markers",
           "name": "V2",
           "type": "scatter",
           "x": [
            0,
            0
           ],
           "y": [
            0,
            1.4693877551020407
           ]
          },
          {
           "line": {
            "color": "green",
            "width": 1
           },
           "marker": {
            "size": 2
           },
           "mode": "lines+markers",
           "name": "V1 + V2",
           "type": "scatter",
           "x": [
            0,
            1.4693877551020407
           ],
           "y": [
            0,
            1.4693877551020407
           ]
          },
          {
           "fill": "toself",
           "fillcolor": "rgba(0, 100, 200, 0.2)",
           "line": {
            "color": "rgba(255,255,255,0)"
           },
           "name": "Area",
           "type": "scatter",
           "x": [
            0,
            1.4693877551020407,
            1.4693877551020407,
            0,
            0
           ],
           "y": [
            0,
            0,
            1.4693877551020407,
            1.4693877551020407,
            0
           ]
          }
         ]
        },
        {
         "data": [
          {
           "line": {
            "color": "blue",
            "width": 1
           },
           "marker": {
            "size": 2
           },
           "mode": "lines+markers",
           "name": "V1",
           "type": "scatter",
           "x": [
            0,
            1.489795918367347
           ],
           "y": [
            0,
            0
           ]
          },
          {
           "line": {
            "color": "red",
            "width": 1
           },
           "marker": {
            "size": 2
           },
           "mode": "lines+markers",
           "name": "V2",
           "type": "scatter",
           "x": [
            0,
            0
           ],
           "y": [
            0,
            1.489795918367347
           ]
          },
          {
           "line": {
            "color": "green",
            "width": 1
           },
           "marker": {
            "size": 2
           },
           "mode": "lines+markers",
           "name": "V1 + V2",
           "type": "scatter",
           "x": [
            0,
            1.489795918367347
           ],
           "y": [
            0,
            1.489795918367347
           ]
          },
          {
           "fill": "toself",
           "fillcolor": "rgba(0, 100, 200, 0.2)",
           "line": {
            "color": "rgba(255,255,255,0)"
           },
           "name": "Area",
           "type": "scatter",
           "x": [
            0,
            1.489795918367347,
            1.489795918367347,
            0,
            0
           ],
           "y": [
            0,
            0,
            1.489795918367347,
            1.489795918367347,
            0
           ]
          }
         ]
        },
        {
         "data": [
          {
           "line": {
            "color": "blue",
            "width": 1
           },
           "marker": {
            "size": 2
           },
           "mode": "lines+markers",
           "name": "V1",
           "type": "scatter",
           "x": [
            0,
            1.510204081632653
           ],
           "y": [
            0,
            0
           ]
          },
          {
           "line": {
            "color": "red",
            "width": 1
           },
           "marker": {
            "size": 2
           },
           "mode": "lines+markers",
           "name": "V2",
           "type": "scatter",
           "x": [
            0,
            0
           ],
           "y": [
            0,
            1.510204081632653
           ]
          },
          {
           "line": {
            "color": "green",
            "width": 1
           },
           "marker": {
            "size": 2
           },
           "mode": "lines+markers",
           "name": "V1 + V2",
           "type": "scatter",
           "x": [
            0,
            1.510204081632653
           ],
           "y": [
            0,
            1.510204081632653
           ]
          },
          {
           "fill": "toself",
           "fillcolor": "rgba(0, 100, 200, 0.2)",
           "line": {
            "color": "rgba(255,255,255,0)"
           },
           "name": "Area",
           "type": "scatter",
           "x": [
            0,
            1.510204081632653,
            1.510204081632653,
            0,
            0
           ],
           "y": [
            0,
            0,
            1.510204081632653,
            1.510204081632653,
            0
           ]
          }
         ]
        },
        {
         "data": [
          {
           "line": {
            "color": "blue",
            "width": 1
           },
           "marker": {
            "size": 2
           },
           "mode": "lines+markers",
           "name": "V1",
           "type": "scatter",
           "x": [
            0,
            1.530612244897959
           ],
           "y": [
            0,
            0
           ]
          },
          {
           "line": {
            "color": "red",
            "width": 1
           },
           "marker": {
            "size": 2
           },
           "mode": "lines+markers",
           "name": "V2",
           "type": "scatter",
           "x": [
            0,
            0
           ],
           "y": [
            0,
            1.530612244897959
           ]
          },
          {
           "line": {
            "color": "green",
            "width": 1
           },
           "marker": {
            "size": 2
           },
           "mode": "lines+markers",
           "name": "V1 + V2",
           "type": "scatter",
           "x": [
            0,
            1.530612244897959
           ],
           "y": [
            0,
            1.530612244897959
           ]
          },
          {
           "fill": "toself",
           "fillcolor": "rgba(0, 100, 200, 0.2)",
           "line": {
            "color": "rgba(255,255,255,0)"
           },
           "name": "Area",
           "type": "scatter",
           "x": [
            0,
            1.530612244897959,
            1.530612244897959,
            0,
            0
           ],
           "y": [
            0,
            0,
            1.530612244897959,
            1.530612244897959,
            0
           ]
          }
         ]
        },
        {
         "data": [
          {
           "line": {
            "color": "blue",
            "width": 1
           },
           "marker": {
            "size": 2
           },
           "mode": "lines+markers",
           "name": "V1",
           "type": "scatter",
           "x": [
            0,
            1.5510204081632653
           ],
           "y": [
            0,
            0
           ]
          },
          {
           "line": {
            "color": "red",
            "width": 1
           },
           "marker": {
            "size": 2
           },
           "mode": "lines+markers",
           "name": "V2",
           "type": "scatter",
           "x": [
            0,
            0
           ],
           "y": [
            0,
            1.5510204081632653
           ]
          },
          {
           "line": {
            "color": "green",
            "width": 1
           },
           "marker": {
            "size": 2
           },
           "mode": "lines+markers",
           "name": "V1 + V2",
           "type": "scatter",
           "x": [
            0,
            1.5510204081632653
           ],
           "y": [
            0,
            1.5510204081632653
           ]
          },
          {
           "fill": "toself",
           "fillcolor": "rgba(0, 100, 200, 0.2)",
           "line": {
            "color": "rgba(255,255,255,0)"
           },
           "name": "Area",
           "type": "scatter",
           "x": [
            0,
            1.5510204081632653,
            1.5510204081632653,
            0,
            0
           ],
           "y": [
            0,
            0,
            1.5510204081632653,
            1.5510204081632653,
            0
           ]
          }
         ]
        },
        {
         "data": [
          {
           "line": {
            "color": "blue",
            "width": 1
           },
           "marker": {
            "size": 2
           },
           "mode": "lines+markers",
           "name": "V1",
           "type": "scatter",
           "x": [
            0,
            1.5714285714285714
           ],
           "y": [
            0,
            0
           ]
          },
          {
           "line": {
            "color": "red",
            "width": 1
           },
           "marker": {
            "size": 2
           },
           "mode": "lines+markers",
           "name": "V2",
           "type": "scatter",
           "x": [
            0,
            0
           ],
           "y": [
            0,
            1.5714285714285714
           ]
          },
          {
           "line": {
            "color": "green",
            "width": 1
           },
           "marker": {
            "size": 2
           },
           "mode": "lines+markers",
           "name": "V1 + V2",
           "type": "scatter",
           "x": [
            0,
            1.5714285714285714
           ],
           "y": [
            0,
            1.5714285714285714
           ]
          },
          {
           "fill": "toself",
           "fillcolor": "rgba(0, 100, 200, 0.2)",
           "line": {
            "color": "rgba(255,255,255,0)"
           },
           "name": "Area",
           "type": "scatter",
           "x": [
            0,
            1.5714285714285714,
            1.5714285714285714,
            0,
            0
           ],
           "y": [
            0,
            0,
            1.5714285714285714,
            1.5714285714285714,
            0
           ]
          }
         ]
        },
        {
         "data": [
          {
           "line": {
            "color": "blue",
            "width": 1
           },
           "marker": {
            "size": 2
           },
           "mode": "lines+markers",
           "name": "V1",
           "type": "scatter",
           "x": [
            0,
            1.5918367346938775
           ],
           "y": [
            0,
            0
           ]
          },
          {
           "line": {
            "color": "red",
            "width": 1
           },
           "marker": {
            "size": 2
           },
           "mode": "lines+markers",
           "name": "V2",
           "type": "scatter",
           "x": [
            0,
            0
           ],
           "y": [
            0,
            1.5918367346938775
           ]
          },
          {
           "line": {
            "color": "green",
            "width": 1
           },
           "marker": {
            "size": 2
           },
           "mode": "lines+markers",
           "name": "V1 + V2",
           "type": "scatter",
           "x": [
            0,
            1.5918367346938775
           ],
           "y": [
            0,
            1.5918367346938775
           ]
          },
          {
           "fill": "toself",
           "fillcolor": "rgba(0, 100, 200, 0.2)",
           "line": {
            "color": "rgba(255,255,255,0)"
           },
           "name": "Area",
           "type": "scatter",
           "x": [
            0,
            1.5918367346938775,
            1.5918367346938775,
            0,
            0
           ],
           "y": [
            0,
            0,
            1.5918367346938775,
            1.5918367346938775,
            0
           ]
          }
         ]
        },
        {
         "data": [
          {
           "line": {
            "color": "blue",
            "width": 1
           },
           "marker": {
            "size": 2
           },
           "mode": "lines+markers",
           "name": "V1",
           "type": "scatter",
           "x": [
            0,
            1.6122448979591835
           ],
           "y": [
            0,
            0
           ]
          },
          {
           "line": {
            "color": "red",
            "width": 1
           },
           "marker": {
            "size": 2
           },
           "mode": "lines+markers",
           "name": "V2",
           "type": "scatter",
           "x": [
            0,
            0
           ],
           "y": [
            0,
            1.6122448979591835
           ]
          },
          {
           "line": {
            "color": "green",
            "width": 1
           },
           "marker": {
            "size": 2
           },
           "mode": "lines+markers",
           "name": "V1 + V2",
           "type": "scatter",
           "x": [
            0,
            1.6122448979591835
           ],
           "y": [
            0,
            1.6122448979591835
           ]
          },
          {
           "fill": "toself",
           "fillcolor": "rgba(0, 100, 200, 0.2)",
           "line": {
            "color": "rgba(255,255,255,0)"
           },
           "name": "Area",
           "type": "scatter",
           "x": [
            0,
            1.6122448979591835,
            1.6122448979591835,
            0,
            0
           ],
           "y": [
            0,
            0,
            1.6122448979591835,
            1.6122448979591835,
            0
           ]
          }
         ]
        },
        {
         "data": [
          {
           "line": {
            "color": "blue",
            "width": 1
           },
           "marker": {
            "size": 2
           },
           "mode": "lines+markers",
           "name": "V1",
           "type": "scatter",
           "x": [
            0,
            1.6326530612244898
           ],
           "y": [
            0,
            0
           ]
          },
          {
           "line": {
            "color": "red",
            "width": 1
           },
           "marker": {
            "size": 2
           },
           "mode": "lines+markers",
           "name": "V2",
           "type": "scatter",
           "x": [
            0,
            0
           ],
           "y": [
            0,
            1.6326530612244898
           ]
          },
          {
           "line": {
            "color": "green",
            "width": 1
           },
           "marker": {
            "size": 2
           },
           "mode": "lines+markers",
           "name": "V1 + V2",
           "type": "scatter",
           "x": [
            0,
            1.6326530612244898
           ],
           "y": [
            0,
            1.6326530612244898
           ]
          },
          {
           "fill": "toself",
           "fillcolor": "rgba(0, 100, 200, 0.2)",
           "line": {
            "color": "rgba(255,255,255,0)"
           },
           "name": "Area",
           "type": "scatter",
           "x": [
            0,
            1.6326530612244898,
            1.6326530612244898,
            0,
            0
           ],
           "y": [
            0,
            0,
            1.6326530612244898,
            1.6326530612244898,
            0
           ]
          }
         ]
        },
        {
         "data": [
          {
           "line": {
            "color": "blue",
            "width": 1
           },
           "marker": {
            "size": 2
           },
           "mode": "lines+markers",
           "name": "V1",
           "type": "scatter",
           "x": [
            0,
            1.6530612244897958
           ],
           "y": [
            0,
            0
           ]
          },
          {
           "line": {
            "color": "red",
            "width": 1
           },
           "marker": {
            "size": 2
           },
           "mode": "lines+markers",
           "name": "V2",
           "type": "scatter",
           "x": [
            0,
            0
           ],
           "y": [
            0,
            1.6530612244897958
           ]
          },
          {
           "line": {
            "color": "green",
            "width": 1
           },
           "marker": {
            "size": 2
           },
           "mode": "lines+markers",
           "name": "V1 + V2",
           "type": "scatter",
           "x": [
            0,
            1.6530612244897958
           ],
           "y": [
            0,
            1.6530612244897958
           ]
          },
          {
           "fill": "toself",
           "fillcolor": "rgba(0, 100, 200, 0.2)",
           "line": {
            "color": "rgba(255,255,255,0)"
           },
           "name": "Area",
           "type": "scatter",
           "x": [
            0,
            1.6530612244897958,
            1.6530612244897958,
            0,
            0
           ],
           "y": [
            0,
            0,
            1.6530612244897958,
            1.6530612244897958,
            0
           ]
          }
         ]
        },
        {
         "data": [
          {
           "line": {
            "color": "blue",
            "width": 1
           },
           "marker": {
            "size": 2
           },
           "mode": "lines+markers",
           "name": "V1",
           "type": "scatter",
           "x": [
            0,
            1.6734693877551021
           ],
           "y": [
            0,
            0
           ]
          },
          {
           "line": {
            "color": "red",
            "width": 1
           },
           "marker": {
            "size": 2
           },
           "mode": "lines+markers",
           "name": "V2",
           "type": "scatter",
           "x": [
            0,
            0
           ],
           "y": [
            0,
            1.6734693877551021
           ]
          },
          {
           "line": {
            "color": "green",
            "width": 1
           },
           "marker": {
            "size": 2
           },
           "mode": "lines+markers",
           "name": "V1 + V2",
           "type": "scatter",
           "x": [
            0,
            1.6734693877551021
           ],
           "y": [
            0,
            1.6734693877551021
           ]
          },
          {
           "fill": "toself",
           "fillcolor": "rgba(0, 100, 200, 0.2)",
           "line": {
            "color": "rgba(255,255,255,0)"
           },
           "name": "Area",
           "type": "scatter",
           "x": [
            0,
            1.6734693877551021,
            1.6734693877551021,
            0,
            0
           ],
           "y": [
            0,
            0,
            1.6734693877551021,
            1.6734693877551021,
            0
           ]
          }
         ]
        },
        {
         "data": [
          {
           "line": {
            "color": "blue",
            "width": 1
           },
           "marker": {
            "size": 2
           },
           "mode": "lines+markers",
           "name": "V1",
           "type": "scatter",
           "x": [
            0,
            1.693877551020408
           ],
           "y": [
            0,
            0
           ]
          },
          {
           "line": {
            "color": "red",
            "width": 1
           },
           "marker": {
            "size": 2
           },
           "mode": "lines+markers",
           "name": "V2",
           "type": "scatter",
           "x": [
            0,
            0
           ],
           "y": [
            0,
            1.693877551020408
           ]
          },
          {
           "line": {
            "color": "green",
            "width": 1
           },
           "marker": {
            "size": 2
           },
           "mode": "lines+markers",
           "name": "V1 + V2",
           "type": "scatter",
           "x": [
            0,
            1.693877551020408
           ],
           "y": [
            0,
            1.693877551020408
           ]
          },
          {
           "fill": "toself",
           "fillcolor": "rgba(0, 100, 200, 0.2)",
           "line": {
            "color": "rgba(255,255,255,0)"
           },
           "name": "Area",
           "type": "scatter",
           "x": [
            0,
            1.693877551020408,
            1.693877551020408,
            0,
            0
           ],
           "y": [
            0,
            0,
            1.693877551020408,
            1.693877551020408,
            0
           ]
          }
         ]
        },
        {
         "data": [
          {
           "line": {
            "color": "blue",
            "width": 1
           },
           "marker": {
            "size": 2
           },
           "mode": "lines+markers",
           "name": "V1",
           "type": "scatter",
           "x": [
            0,
            1.7142857142857142
           ],
           "y": [
            0,
            0
           ]
          },
          {
           "line": {
            "color": "red",
            "width": 1
           },
           "marker": {
            "size": 2
           },
           "mode": "lines+markers",
           "name": "V2",
           "type": "scatter",
           "x": [
            0,
            0
           ],
           "y": [
            0,
            1.7142857142857142
           ]
          },
          {
           "line": {
            "color": "green",
            "width": 1
           },
           "marker": {
            "size": 2
           },
           "mode": "lines+markers",
           "name": "V1 + V2",
           "type": "scatter",
           "x": [
            0,
            1.7142857142857142
           ],
           "y": [
            0,
            1.7142857142857142
           ]
          },
          {
           "fill": "toself",
           "fillcolor": "rgba(0, 100, 200, 0.2)",
           "line": {
            "color": "rgba(255,255,255,0)"
           },
           "name": "Area",
           "type": "scatter",
           "x": [
            0,
            1.7142857142857142,
            1.7142857142857142,
            0,
            0
           ],
           "y": [
            0,
            0,
            1.7142857142857142,
            1.7142857142857142,
            0
           ]
          }
         ]
        },
        {
         "data": [
          {
           "line": {
            "color": "blue",
            "width": 1
           },
           "marker": {
            "size": 2
           },
           "mode": "lines+markers",
           "name": "V1",
           "type": "scatter",
           "x": [
            0,
            1.7346938775510203
           ],
           "y": [
            0,
            0
           ]
          },
          {
           "line": {
            "color": "red",
            "width": 1
           },
           "marker": {
            "size": 2
           },
           "mode": "lines+markers",
           "name": "V2",
           "type": "scatter",
           "x": [
            0,
            0
           ],
           "y": [
            0,
            1.7346938775510203
           ]
          },
          {
           "line": {
            "color": "green",
            "width": 1
           },
           "marker": {
            "size": 2
           },
           "mode": "lines+markers",
           "name": "V1 + V2",
           "type": "scatter",
           "x": [
            0,
            1.7346938775510203
           ],
           "y": [
            0,
            1.7346938775510203
           ]
          },
          {
           "fill": "toself",
           "fillcolor": "rgba(0, 100, 200, 0.2)",
           "line": {
            "color": "rgba(255,255,255,0)"
           },
           "name": "Area",
           "type": "scatter",
           "x": [
            0,
            1.7346938775510203,
            1.7346938775510203,
            0,
            0
           ],
           "y": [
            0,
            0,
            1.7346938775510203,
            1.7346938775510203,
            0
           ]
          }
         ]
        },
        {
         "data": [
          {
           "line": {
            "color": "blue",
            "width": 1
           },
           "marker": {
            "size": 2
           },
           "mode": "lines+markers",
           "name": "V1",
           "type": "scatter",
           "x": [
            0,
            1.7551020408163265
           ],
           "y": [
            0,
            0
           ]
          },
          {
           "line": {
            "color": "red",
            "width": 1
           },
           "marker": {
            "size": 2
           },
           "mode": "lines+markers",
           "name": "V2",
           "type": "scatter",
           "x": [
            0,
            0
           ],
           "y": [
            0,
            1.7551020408163265
           ]
          },
          {
           "line": {
            "color": "green",
            "width": 1
           },
           "marker": {
            "size": 2
           },
           "mode": "lines+markers",
           "name": "V1 + V2",
           "type": "scatter",
           "x": [
            0,
            1.7551020408163265
           ],
           "y": [
            0,
            1.7551020408163265
           ]
          },
          {
           "fill": "toself",
           "fillcolor": "rgba(0, 100, 200, 0.2)",
           "line": {
            "color": "rgba(255,255,255,0)"
           },
           "name": "Area",
           "type": "scatter",
           "x": [
            0,
            1.7551020408163265,
            1.7551020408163265,
            0,
            0
           ],
           "y": [
            0,
            0,
            1.7551020408163265,
            1.7551020408163265,
            0
           ]
          }
         ]
        },
        {
         "data": [
          {
           "line": {
            "color": "blue",
            "width": 1
           },
           "marker": {
            "size": 2
           },
           "mode": "lines+markers",
           "name": "V1",
           "type": "scatter",
           "x": [
            0,
            1.7755102040816326
           ],
           "y": [
            0,
            0
           ]
          },
          {
           "line": {
            "color": "red",
            "width": 1
           },
           "marker": {
            "size": 2
           },
           "mode": "lines+markers",
           "name": "V2",
           "type": "scatter",
           "x": [
            0,
            0
           ],
           "y": [
            0,
            1.7755102040816326
           ]
          },
          {
           "line": {
            "color": "green",
            "width": 1
           },
           "marker": {
            "size": 2
           },
           "mode": "lines+markers",
           "name": "V1 + V2",
           "type": "scatter",
           "x": [
            0,
            1.7755102040816326
           ],
           "y": [
            0,
            1.7755102040816326
           ]
          },
          {
           "fill": "toself",
           "fillcolor": "rgba(0, 100, 200, 0.2)",
           "line": {
            "color": "rgba(255,255,255,0)"
           },
           "name": "Area",
           "type": "scatter",
           "x": [
            0,
            1.7755102040816326,
            1.7755102040816326,
            0,
            0
           ],
           "y": [
            0,
            0,
            1.7755102040816326,
            1.7755102040816326,
            0
           ]
          }
         ]
        },
        {
         "data": [
          {
           "line": {
            "color": "blue",
            "width": 1
           },
           "marker": {
            "size": 2
           },
           "mode": "lines+markers",
           "name": "V1",
           "type": "scatter",
           "x": [
            0,
            1.7959183673469385
           ],
           "y": [
            0,
            0
           ]
          },
          {
           "line": {
            "color": "red",
            "width": 1
           },
           "marker": {
            "size": 2
           },
           "mode": "lines+markers",
           "name": "V2",
           "type": "scatter",
           "x": [
            0,
            0
           ],
           "y": [
            0,
            1.7959183673469385
           ]
          },
          {
           "line": {
            "color": "green",
            "width": 1
           },
           "marker": {
            "size": 2
           },
           "mode": "lines+markers",
           "name": "V1 + V2",
           "type": "scatter",
           "x": [
            0,
            1.7959183673469385
           ],
           "y": [
            0,
            1.7959183673469385
           ]
          },
          {
           "fill": "toself",
           "fillcolor": "rgba(0, 100, 200, 0.2)",
           "line": {
            "color": "rgba(255,255,255,0)"
           },
           "name": "Area",
           "type": "scatter",
           "x": [
            0,
            1.7959183673469385,
            1.7959183673469385,
            0,
            0
           ],
           "y": [
            0,
            0,
            1.7959183673469385,
            1.7959183673469385,
            0
           ]
          }
         ]
        },
        {
         "data": [
          {
           "line": {
            "color": "blue",
            "width": 1
           },
           "marker": {
            "size": 2
           },
           "mode": "lines+markers",
           "name": "V1",
           "type": "scatter",
           "x": [
            0,
            1.816326530612245
           ],
           "y": [
            0,
            0
           ]
          },
          {
           "line": {
            "color": "red",
            "width": 1
           },
           "marker": {
            "size": 2
           },
           "mode": "lines+markers",
           "name": "V2",
           "type": "scatter",
           "x": [
            0,
            0
           ],
           "y": [
            0,
            1.816326530612245
           ]
          },
          {
           "line": {
            "color": "green",
            "width": 1
           },
           "marker": {
            "size": 2
           },
           "mode": "lines+markers",
           "name": "V1 + V2",
           "type": "scatter",
           "x": [
            0,
            1.816326530612245
           ],
           "y": [
            0,
            1.816326530612245
           ]
          },
          {
           "fill": "toself",
           "fillcolor": "rgba(0, 100, 200, 0.2)",
           "line": {
            "color": "rgba(255,255,255,0)"
           },
           "name": "Area",
           "type": "scatter",
           "x": [
            0,
            1.816326530612245,
            1.816326530612245,
            0,
            0
           ],
           "y": [
            0,
            0,
            1.816326530612245,
            1.816326530612245,
            0
           ]
          }
         ]
        },
        {
         "data": [
          {
           "line": {
            "color": "blue",
            "width": 1
           },
           "marker": {
            "size": 2
           },
           "mode": "lines+markers",
           "name": "V1",
           "type": "scatter",
           "x": [
            0,
            1.8367346938775508
           ],
           "y": [
            0,
            0
           ]
          },
          {
           "line": {
            "color": "red",
            "width": 1
           },
           "marker": {
            "size": 2
           },
           "mode": "lines+markers",
           "name": "V2",
           "type": "scatter",
           "x": [
            0,
            0
           ],
           "y": [
            0,
            1.8367346938775508
           ]
          },
          {
           "line": {
            "color": "green",
            "width": 1
           },
           "marker": {
            "size": 2
           },
           "mode": "lines+markers",
           "name": "V1 + V2",
           "type": "scatter",
           "x": [
            0,
            1.8367346938775508
           ],
           "y": [
            0,
            1.8367346938775508
           ]
          },
          {
           "fill": "toself",
           "fillcolor": "rgba(0, 100, 200, 0.2)",
           "line": {
            "color": "rgba(255,255,255,0)"
           },
           "name": "Area",
           "type": "scatter",
           "x": [
            0,
            1.8367346938775508,
            1.8367346938775508,
            0,
            0
           ],
           "y": [
            0,
            0,
            1.8367346938775508,
            1.8367346938775508,
            0
           ]
          }
         ]
        },
        {
         "data": [
          {
           "line": {
            "color": "blue",
            "width": 1
           },
           "marker": {
            "size": 2
           },
           "mode": "lines+markers",
           "name": "V1",
           "type": "scatter",
           "x": [
            0,
            1.8571428571428572
           ],
           "y": [
            0,
            0
           ]
          },
          {
           "line": {
            "color": "red",
            "width": 1
           },
           "marker": {
            "size": 2
           },
           "mode": "lines+markers",
           "name": "V2",
           "type": "scatter",
           "x": [
            0,
            0
           ],
           "y": [
            0,
            1.8571428571428572
           ]
          },
          {
           "line": {
            "color": "green",
            "width": 1
           },
           "marker": {
            "size": 2
           },
           "mode": "lines+markers",
           "name": "V1 + V2",
           "type": "scatter",
           "x": [
            0,
            1.8571428571428572
           ],
           "y": [
            0,
            1.8571428571428572
           ]
          },
          {
           "fill": "toself",
           "fillcolor": "rgba(0, 100, 200, 0.2)",
           "line": {
            "color": "rgba(255,255,255,0)"
           },
           "name": "Area",
           "type": "scatter",
           "x": [
            0,
            1.8571428571428572,
            1.8571428571428572,
            0,
            0
           ],
           "y": [
            0,
            0,
            1.8571428571428572,
            1.8571428571428572,
            0
           ]
          }
         ]
        },
        {
         "data": [
          {
           "line": {
            "color": "blue",
            "width": 1
           },
           "marker": {
            "size": 2
           },
           "mode": "lines+markers",
           "name": "V1",
           "type": "scatter",
           "x": [
            0,
            1.8775510204081631
           ],
           "y": [
            0,
            0
           ]
          },
          {
           "line": {
            "color": "red",
            "width": 1
           },
           "marker": {
            "size": 2
           },
           "mode": "lines+markers",
           "name": "V2",
           "type": "scatter",
           "x": [
            0,
            0
           ],
           "y": [
            0,
            1.8775510204081631
           ]
          },
          {
           "line": {
            "color": "green",
            "width": 1
           },
           "marker": {
            "size": 2
           },
           "mode": "lines+markers",
           "name": "V1 + V2",
           "type": "scatter",
           "x": [
            0,
            1.8775510204081631
           ],
           "y": [
            0,
            1.8775510204081631
           ]
          },
          {
           "fill": "toself",
           "fillcolor": "rgba(0, 100, 200, 0.2)",
           "line": {
            "color": "rgba(255,255,255,0)"
           },
           "name": "Area",
           "type": "scatter",
           "x": [
            0,
            1.8775510204081631,
            1.8775510204081631,
            0,
            0
           ],
           "y": [
            0,
            0,
            1.8775510204081631,
            1.8775510204081631,
            0
           ]
          }
         ]
        },
        {
         "data": [
          {
           "line": {
            "color": "blue",
            "width": 1
           },
           "marker": {
            "size": 2
           },
           "mode": "lines+markers",
           "name": "V1",
           "type": "scatter",
           "x": [
            0,
            1.8979591836734693
           ],
           "y": [
            0,
            0
           ]
          },
          {
           "line": {
            "color": "red",
            "width": 1
           },
           "marker": {
            "size": 2
           },
           "mode": "lines+markers",
           "name": "V2",
           "type": "scatter",
           "x": [
            0,
            0
           ],
           "y": [
            0,
            1.8979591836734693
           ]
          },
          {
           "line": {
            "color": "green",
            "width": 1
           },
           "marker": {
            "size": 2
           },
           "mode": "lines+markers",
           "name": "V1 + V2",
           "type": "scatter",
           "x": [
            0,
            1.8979591836734693
           ],
           "y": [
            0,
            1.8979591836734693
           ]
          },
          {
           "fill": "toself",
           "fillcolor": "rgba(0, 100, 200, 0.2)",
           "line": {
            "color": "rgba(255,255,255,0)"
           },
           "name": "Area",
           "type": "scatter",
           "x": [
            0,
            1.8979591836734693,
            1.8979591836734693,
            0,
            0
           ],
           "y": [
            0,
            0,
            1.8979591836734693,
            1.8979591836734693,
            0
           ]
          }
         ]
        },
        {
         "data": [
          {
           "line": {
            "color": "blue",
            "width": 1
           },
           "marker": {
            "size": 2
           },
           "mode": "lines+markers",
           "name": "V1",
           "type": "scatter",
           "x": [
            0,
            1.9183673469387754
           ],
           "y": [
            0,
            0
           ]
          },
          {
           "line": {
            "color": "red",
            "width": 1
           },
           "marker": {
            "size": 2
           },
           "mode": "lines+markers",
           "name": "V2",
           "type": "scatter",
           "x": [
            0,
            0
           ],
           "y": [
            0,
            1.9183673469387754
           ]
          },
          {
           "line": {
            "color": "green",
            "width": 1
           },
           "marker": {
            "size": 2
           },
           "mode": "lines+markers",
           "name": "V1 + V2",
           "type": "scatter",
           "x": [
            0,
            1.9183673469387754
           ],
           "y": [
            0,
            1.9183673469387754
           ]
          },
          {
           "fill": "toself",
           "fillcolor": "rgba(0, 100, 200, 0.2)",
           "line": {
            "color": "rgba(255,255,255,0)"
           },
           "name": "Area",
           "type": "scatter",
           "x": [
            0,
            1.9183673469387754,
            1.9183673469387754,
            0,
            0
           ],
           "y": [
            0,
            0,
            1.9183673469387754,
            1.9183673469387754,
            0
           ]
          }
         ]
        },
        {
         "data": [
          {
           "line": {
            "color": "blue",
            "width": 1
           },
           "marker": {
            "size": 2
           },
           "mode": "lines+markers",
           "name": "V1",
           "type": "scatter",
           "x": [
            0,
            1.9387755102040816
           ],
           "y": [
            0,
            0
           ]
          },
          {
           "line": {
            "color": "red",
            "width": 1
           },
           "marker": {
            "size": 2
           },
           "mode": "lines+markers",
           "name": "V2",
           "type": "scatter",
           "x": [
            0,
            0
           ],
           "y": [
            0,
            1.9387755102040816
           ]
          },
          {
           "line": {
            "color": "green",
            "width": 1
           },
           "marker": {
            "size": 2
           },
           "mode": "lines+markers",
           "name": "V1 + V2",
           "type": "scatter",
           "x": [
            0,
            1.9387755102040816
           ],
           "y": [
            0,
            1.9387755102040816
           ]
          },
          {
           "fill": "toself",
           "fillcolor": "rgba(0, 100, 200, 0.2)",
           "line": {
            "color": "rgba(255,255,255,0)"
           },
           "name": "Area",
           "type": "scatter",
           "x": [
            0,
            1.9387755102040816,
            1.9387755102040816,
            0,
            0
           ],
           "y": [
            0,
            0,
            1.9387755102040816,
            1.9387755102040816,
            0
           ]
          }
         ]
        },
        {
         "data": [
          {
           "line": {
            "color": "blue",
            "width": 1
           },
           "marker": {
            "size": 2
           },
           "mode": "lines+markers",
           "name": "V1",
           "type": "scatter",
           "x": [
            0,
            1.9591836734693877
           ],
           "y": [
            0,
            0
           ]
          },
          {
           "line": {
            "color": "red",
            "width": 1
           },
           "marker": {
            "size": 2
           },
           "mode": "lines+markers",
           "name": "V2",
           "type": "scatter",
           "x": [
            0,
            0
           ],
           "y": [
            0,
            1.9591836734693877
           ]
          },
          {
           "line": {
            "color": "green",
            "width": 1
           },
           "marker": {
            "size": 2
           },
           "mode": "lines+markers",
           "name": "V1 + V2",
           "type": "scatter",
           "x": [
            0,
            1.9591836734693877
           ],
           "y": [
            0,
            1.9591836734693877
           ]
          },
          {
           "fill": "toself",
           "fillcolor": "rgba(0, 100, 200, 0.2)",
           "line": {
            "color": "rgba(255,255,255,0)"
           },
           "name": "Area",
           "type": "scatter",
           "x": [
            0,
            1.9591836734693877,
            1.9591836734693877,
            0,
            0
           ],
           "y": [
            0,
            0,
            1.9591836734693877,
            1.9591836734693877,
            0
           ]
          }
         ]
        },
        {
         "data": [
          {
           "line": {
            "color": "blue",
            "width": 1
           },
           "marker": {
            "size": 2
           },
           "mode": "lines+markers",
           "name": "V1",
           "type": "scatter",
           "x": [
            0,
            1.9795918367346939
           ],
           "y": [
            0,
            0
           ]
          },
          {
           "line": {
            "color": "red",
            "width": 1
           },
           "marker": {
            "size": 2
           },
           "mode": "lines+markers",
           "name": "V2",
           "type": "scatter",
           "x": [
            0,
            0
           ],
           "y": [
            0,
            1.9795918367346939
           ]
          },
          {
           "line": {
            "color": "green",
            "width": 1
           },
           "marker": {
            "size": 2
           },
           "mode": "lines+markers",
           "name": "V1 + V2",
           "type": "scatter",
           "x": [
            0,
            1.9795918367346939
           ],
           "y": [
            0,
            1.9795918367346939
           ]
          },
          {
           "fill": "toself",
           "fillcolor": "rgba(0, 100, 200, 0.2)",
           "line": {
            "color": "rgba(255,255,255,0)"
           },
           "name": "Area",
           "type": "scatter",
           "x": [
            0,
            1.9795918367346939,
            1.9795918367346939,
            0,
            0
           ],
           "y": [
            0,
            0,
            1.9795918367346939,
            1.9795918367346939,
            0
           ]
          }
         ]
        },
        {
         "data": [
          {
           "line": {
            "color": "blue",
            "width": 1
           },
           "marker": {
            "size": 2
           },
           "mode": "lines+markers",
           "name": "V1",
           "type": "scatter",
           "x": [
            0,
            2
           ],
           "y": [
            0,
            0
           ]
          },
          {
           "line": {
            "color": "red",
            "width": 1
           },
           "marker": {
            "size": 2
           },
           "mode": "lines+markers",
           "name": "V2",
           "type": "scatter",
           "x": [
            0,
            0
           ],
           "y": [
            0,
            2
           ]
          },
          {
           "line": {
            "color": "green",
            "width": 1
           },
           "marker": {
            "size": 2
           },
           "mode": "lines+markers",
           "name": "V1 + V2",
           "type": "scatter",
           "x": [
            0,
            2
           ],
           "y": [
            0,
            2
           ]
          },
          {
           "fill": "toself",
           "fillcolor": "rgba(0, 100, 200, 0.2)",
           "line": {
            "color": "rgba(255,255,255,0)"
           },
           "name": "Area",
           "type": "scatter",
           "x": [
            0,
            2,
            2,
            0,
            0
           ],
           "y": [
            0,
            0,
            2,
            2,
            0
           ]
          }
         ]
        }
       ],
       "layout": {
        "height": 450,
        "showlegend": true,
        "template": {
         "data": {
          "bar": [
           {
            "error_x": {
             "color": "#2a3f5f"
            },
            "error_y": {
             "color": "#2a3f5f"
            },
            "marker": {
             "line": {
              "color": "#E5ECF6",
              "width": 0.5
             },
             "pattern": {
              "fillmode": "overlay",
              "size": 10,
              "solidity": 0.2
             }
            },
            "type": "bar"
           }
          ],
          "barpolar": [
           {
            "marker": {
             "line": {
              "color": "#E5ECF6",
              "width": 0.5
             },
             "pattern": {
              "fillmode": "overlay",
              "size": 10,
              "solidity": 0.2
             }
            },
            "type": "barpolar"
           }
          ],
          "carpet": [
           {
            "aaxis": {
             "endlinecolor": "#2a3f5f",
             "gridcolor": "white",
             "linecolor": "white",
             "minorgridcolor": "white",
             "startlinecolor": "#2a3f5f"
            },
            "baxis": {
             "endlinecolor": "#2a3f5f",
             "gridcolor": "white",
             "linecolor": "white",
             "minorgridcolor": "white",
             "startlinecolor": "#2a3f5f"
            },
            "type": "carpet"
           }
          ],
          "choropleth": [
           {
            "colorbar": {
             "outlinewidth": 0,
             "ticks": ""
            },
            "type": "choropleth"
           }
          ],
          "contour": [
           {
            "colorbar": {
             "outlinewidth": 0,
             "ticks": ""
            },
            "colorscale": [
             [
              0,
              "#0d0887"
             ],
             [
              0.1111111111111111,
              "#46039f"
             ],
             [
              0.2222222222222222,
              "#7201a8"
             ],
             [
              0.3333333333333333,
              "#9c179e"
             ],
             [
              0.4444444444444444,
              "#bd3786"
             ],
             [
              0.5555555555555556,
              "#d8576b"
             ],
             [
              0.6666666666666666,
              "#ed7953"
             ],
             [
              0.7777777777777778,
              "#fb9f3a"
             ],
             [
              0.8888888888888888,
              "#fdca26"
             ],
             [
              1,
              "#f0f921"
             ]
            ],
            "type": "contour"
           }
          ],
          "contourcarpet": [
           {
            "colorbar": {
             "outlinewidth": 0,
             "ticks": ""
            },
            "type": "contourcarpet"
           }
          ],
          "heatmap": [
           {
            "colorbar": {
             "outlinewidth": 0,
             "ticks": ""
            },
            "colorscale": [
             [
              0,
              "#0d0887"
             ],
             [
              0.1111111111111111,
              "#46039f"
             ],
             [
              0.2222222222222222,
              "#7201a8"
             ],
             [
              0.3333333333333333,
              "#9c179e"
             ],
             [
              0.4444444444444444,
              "#bd3786"
             ],
             [
              0.5555555555555556,
              "#d8576b"
             ],
             [
              0.6666666666666666,
              "#ed7953"
             ],
             [
              0.7777777777777778,
              "#fb9f3a"
             ],
             [
              0.8888888888888888,
              "#fdca26"
             ],
             [
              1,
              "#f0f921"
             ]
            ],
            "type": "heatmap"
           }
          ],
          "heatmapgl": [
           {
            "colorbar": {
             "outlinewidth": 0,
             "ticks": ""
            },
            "colorscale": [
             [
              0,
              "#0d0887"
             ],
             [
              0.1111111111111111,
              "#46039f"
             ],
             [
              0.2222222222222222,
              "#7201a8"
             ],
             [
              0.3333333333333333,
              "#9c179e"
             ],
             [
              0.4444444444444444,
              "#bd3786"
             ],
             [
              0.5555555555555556,
              "#d8576b"
             ],
             [
              0.6666666666666666,
              "#ed7953"
             ],
             [
              0.7777777777777778,
              "#fb9f3a"
             ],
             [
              0.8888888888888888,
              "#fdca26"
             ],
             [
              1,
              "#f0f921"
             ]
            ],
            "type": "heatmapgl"
           }
          ],
          "histogram": [
           {
            "marker": {
             "pattern": {
              "fillmode": "overlay",
              "size": 10,
              "solidity": 0.2
             }
            },
            "type": "histogram"
           }
          ],
          "histogram2d": [
           {
            "colorbar": {
             "outlinewidth": 0,
             "ticks": ""
            },
            "colorscale": [
             [
              0,
              "#0d0887"
             ],
             [
              0.1111111111111111,
              "#46039f"
             ],
             [
              0.2222222222222222,
              "#7201a8"
             ],
             [
              0.3333333333333333,
              "#9c179e"
             ],
             [
              0.4444444444444444,
              "#bd3786"
             ],
             [
              0.5555555555555556,
              "#d8576b"
             ],
             [
              0.6666666666666666,
              "#ed7953"
             ],
             [
              0.7777777777777778,
              "#fb9f3a"
             ],
             [
              0.8888888888888888,
              "#fdca26"
             ],
             [
              1,
              "#f0f921"
             ]
            ],
            "type": "histogram2d"
           }
          ],
          "histogram2dcontour": [
           {
            "colorbar": {
             "outlinewidth": 0,
             "ticks": ""
            },
            "colorscale": [
             [
              0,
              "#0d0887"
             ],
             [
              0.1111111111111111,
              "#46039f"
             ],
             [
              0.2222222222222222,
              "#7201a8"
             ],
             [
              0.3333333333333333,
              "#9c179e"
             ],
             [
              0.4444444444444444,
              "#bd3786"
             ],
             [
              0.5555555555555556,
              "#d8576b"
             ],
             [
              0.6666666666666666,
              "#ed7953"
             ],
             [
              0.7777777777777778,
              "#fb9f3a"
             ],
             [
              0.8888888888888888,
              "#fdca26"
             ],
             [
              1,
              "#f0f921"
             ]
            ],
            "type": "histogram2dcontour"
           }
          ],
          "mesh3d": [
           {
            "colorbar": {
             "outlinewidth": 0,
             "ticks": ""
            },
            "type": "mesh3d"
           }
          ],
          "parcoords": [
           {
            "line": {
             "colorbar": {
              "outlinewidth": 0,
              "ticks": ""
             }
            },
            "type": "parcoords"
           }
          ],
          "pie": [
           {
            "automargin": true,
            "type": "pie"
           }
          ],
          "scatter": [
           {
            "fillpattern": {
             "fillmode": "overlay",
             "size": 10,
             "solidity": 0.2
            },
            "type": "scatter"
           }
          ],
          "scatter3d": [
           {
            "line": {
             "colorbar": {
              "outlinewidth": 0,
              "ticks": ""
             }
            },
            "marker": {
             "colorbar": {
              "outlinewidth": 0,
              "ticks": ""
             }
            },
            "type": "scatter3d"
           }
          ],
          "scattercarpet": [
           {
            "marker": {
             "colorbar": {
              "outlinewidth": 0,
              "ticks": ""
             }
            },
            "type": "scattercarpet"
           }
          ],
          "scattergeo": [
           {
            "marker": {
             "colorbar": {
              "outlinewidth": 0,
              "ticks": ""
             }
            },
            "type": "scattergeo"
           }
          ],
          "scattergl": [
           {
            "marker": {
             "colorbar": {
              "outlinewidth": 0,
              "ticks": ""
             }
            },
            "type": "scattergl"
           }
          ],
          "scattermapbox": [
           {
            "marker": {
             "colorbar": {
              "outlinewidth": 0,
              "ticks": ""
             }
            },
            "type": "scattermapbox"
           }
          ],
          "scatterpolar": [
           {
            "marker": {
             "colorbar": {
              "outlinewidth": 0,
              "ticks": ""
             }
            },
            "type": "scatterpolar"
           }
          ],
          "scatterpolargl": [
           {
            "marker": {
             "colorbar": {
              "outlinewidth": 0,
              "ticks": ""
             }
            },
            "type": "scatterpolargl"
           }
          ],
          "scatterternary": [
           {
            "marker": {
             "colorbar": {
              "outlinewidth": 0,
              "ticks": ""
             }
            },
            "type": "scatterternary"
           }
          ],
          "surface": [
           {
            "colorbar": {
             "outlinewidth": 0,
             "ticks": ""
            },
            "colorscale": [
             [
              0,
              "#0d0887"
             ],
             [
              0.1111111111111111,
              "#46039f"
             ],
             [
              0.2222222222222222,
              "#7201a8"
             ],
             [
              0.3333333333333333,
              "#9c179e"
             ],
             [
              0.4444444444444444,
              "#bd3786"
             ],
             [
              0.5555555555555556,
              "#d8576b"
             ],
             [
              0.6666666666666666,
              "#ed7953"
             ],
             [
              0.7777777777777778,
              "#fb9f3a"
             ],
             [
              0.8888888888888888,
              "#fdca26"
             ],
             [
              1,
              "#f0f921"
             ]
            ],
            "type": "surface"
           }
          ],
          "table": [
           {
            "cells": {
             "fill": {
              "color": "#EBF0F8"
             },
             "line": {
              "color": "white"
             }
            },
            "header": {
             "fill": {
              "color": "#C8D4E3"
             },
             "line": {
              "color": "white"
             }
            },
            "type": "table"
           }
          ]
         },
         "layout": {
          "annotationdefaults": {
           "arrowcolor": "#2a3f5f",
           "arrowhead": 0,
           "arrowwidth": 1
          },
          "autotypenumbers": "strict",
          "coloraxis": {
           "colorbar": {
            "outlinewidth": 0,
            "ticks": ""
           }
          },
          "colorscale": {
           "diverging": [
            [
             0,
             "#8e0152"
            ],
            [
             0.1,
             "#c51b7d"
            ],
            [
             0.2,
             "#de77ae"
            ],
            [
             0.3,
             "#f1b6da"
            ],
            [
             0.4,
             "#fde0ef"
            ],
            [
             0.5,
             "#f7f7f7"
            ],
            [
             0.6,
             "#e6f5d0"
            ],
            [
             0.7,
             "#b8e186"
            ],
            [
             0.8,
             "#7fbc41"
            ],
            [
             0.9,
             "#4d9221"
            ],
            [
             1,
             "#276419"
            ]
           ],
           "sequential": [
            [
             0,
             "#0d0887"
            ],
            [
             0.1111111111111111,
             "#46039f"
            ],
            [
             0.2222222222222222,
             "#7201a8"
            ],
            [
             0.3333333333333333,
             "#9c179e"
            ],
            [
             0.4444444444444444,
             "#bd3786"
            ],
            [
             0.5555555555555556,
             "#d8576b"
            ],
            [
             0.6666666666666666,
             "#ed7953"
            ],
            [
             0.7777777777777778,
             "#fb9f3a"
            ],
            [
             0.8888888888888888,
             "#fdca26"
            ],
            [
             1,
             "#f0f921"
            ]
           ],
           "sequentialminus": [
            [
             0,
             "#0d0887"
            ],
            [
             0.1111111111111111,
             "#46039f"
            ],
            [
             0.2222222222222222,
             "#7201a8"
            ],
            [
             0.3333333333333333,
             "#9c179e"
            ],
            [
             0.4444444444444444,
             "#bd3786"
            ],
            [
             0.5555555555555556,
             "#d8576b"
            ],
            [
             0.6666666666666666,
             "#ed7953"
            ],
            [
             0.7777777777777778,
             "#fb9f3a"
            ],
            [
             0.8888888888888888,
             "#fdca26"
            ],
            [
             1,
             "#f0f921"
            ]
           ]
          },
          "colorway": [
           "#636efa",
           "#EF553B",
           "#00cc96",
           "#ab63fa",
           "#FFA15A",
           "#19d3f3",
           "#FF6692",
           "#B6E880",
           "#FF97FF",
           "#FECB52"
          ],
          "font": {
           "color": "#2a3f5f"
          },
          "geo": {
           "bgcolor": "white",
           "lakecolor": "white",
           "landcolor": "#E5ECF6",
           "showlakes": true,
           "showland": true,
           "subunitcolor": "white"
          },
          "hoverlabel": {
           "align": "left"
          },
          "hovermode": "closest",
          "mapbox": {
           "style": "light"
          },
          "paper_bgcolor": "white",
          "plot_bgcolor": "#E5ECF6",
          "polar": {
           "angularaxis": {
            "gridcolor": "white",
            "linecolor": "white",
            "ticks": ""
           },
           "bgcolor": "#E5ECF6",
           "radialaxis": {
            "gridcolor": "white",
            "linecolor": "white",
            "ticks": ""
           }
          },
          "scene": {
           "xaxis": {
            "backgroundcolor": "#E5ECF6",
            "gridcolor": "white",
            "gridwidth": 2,
            "linecolor": "white",
            "showbackground": true,
            "ticks": "",
            "zerolinecolor": "white"
           },
           "yaxis": {
            "backgroundcolor": "#E5ECF6",
            "gridcolor": "white",
            "gridwidth": 2,
            "linecolor": "white",
            "showbackground": true,
            "ticks": "",
            "zerolinecolor": "white"
           },
           "zaxis": {
            "backgroundcolor": "#E5ECF6",
            "gridcolor": "white",
            "gridwidth": 2,
            "linecolor": "white",
            "showbackground": true,
            "ticks": "",
            "zerolinecolor": "white"
           }
          },
          "shapedefaults": {
           "line": {
            "color": "#2a3f5f"
           }
          },
          "ternary": {
           "aaxis": {
            "gridcolor": "white",
            "linecolor": "white",
            "ticks": ""
           },
           "baxis": {
            "gridcolor": "white",
            "linecolor": "white",
            "ticks": ""
           },
           "bgcolor": "#E5ECF6",
           "caxis": {
            "gridcolor": "white",
            "linecolor": "white",
            "ticks": ""
           }
          },
          "title": {
           "x": 0.05
          },
          "xaxis": {
           "automargin": true,
           "gridcolor": "white",
           "linecolor": "white",
           "ticks": "",
           "title": {
            "standoff": 15
           },
           "zerolinecolor": "white",
           "zerolinewidth": 2
          },
          "yaxis": {
           "automargin": true,
           "gridcolor": "white",
           "linecolor": "white",
           "ticks": "",
           "title": {
            "standoff": 15
           },
           "zerolinecolor": "white",
           "zerolinewidth": 2
          }
         }
        },
        "title": {
         "text": "Area and stretching in the x direction"
        },
        "updatemenus": [
         {
          "buttons": [
           {
            "args": [
             null,
             {
              "frame": {
               "duration": 50,
               "redraw": false
              },
              "fromcurrent": true,
              "transition": {
               "duration": 10
              }
             }
            ],
            "label": "Play",
            "method": "animate"
           }
          ],
          "type": "buttons"
         }
        ],
        "width": 600,
        "xaxis": {
         "range": [
          -2.3,
          2.3
         ],
         "title": {
          "text": "x"
         }
        },
        "yaxis": {
         "range": [
          -2.3,
          2.3
         ],
         "title": {
          "text": "y"
         }
        }
       }
      }
     },
     "metadata": {},
     "output_type": "display_data"
    }
   ],
   "source": [
    "# Scale in the x and y direction\n",
    "\n",
    "fig3 = create_animation(unit1, unit2, [\n",
    "    np.array([[x, 0], [0, y]]) for x, y in zip(np.linspace(1, 2, 50), np.linspace(1, 2, 50))\n",
    "])\n",
    "fig3.show()"
   ]
  },
  {
   "cell_type": "code",
   "execution_count": null,
   "id": "5615cd15",
   "metadata": {},
   "outputs": [
    {
     "data": {
      "application/vnd.plotly.v1+json": {
       "config": {
        "plotlyServerURL": "https://plot.ly"
       },
       "data": [
        {
         "line": {
          "color": "blue",
          "width": 1
         },
         "marker": {
          "size": 2
         },
         "mode": "lines+markers",
         "name": "V1",
         "type": "scatter",
         "x": [
          0,
          1
         ],
         "y": [
          0,
          0
         ]
        },
        {
         "line": {
          "color": "red",
          "width": 1
         },
         "marker": {
          "size": 2
         },
         "mode": "lines+markers",
         "name": "V2",
         "type": "scatter",
         "x": [
          0,
          0
         ],
         "y": [
          0,
          1
         ]
        },
        {
         "line": {
          "color": "green",
          "width": 1
         },
         "marker": {
          "size": 2
         },
         "mode": "lines+markers",
         "name": "V1 + V2",
         "type": "scatter",
         "x": [
          0,
          1
         ],
         "y": [
          0,
          1
         ]
        },
        {
         "fill": "toself",
         "fillcolor": "rgba(0, 100, 200, 0.2)",
         "line": {
          "color": "rgba(255,255,255,0)"
         },
         "name": "Area",
         "type": "scatter",
         "x": [
          0,
          1,
          1,
          0,
          0
         ],
         "y": [
          0,
          0,
          1,
          1,
          0
         ]
        }
       ],
       "frames": [
        {
         "data": [
          {
           "line": {
            "color": "blue",
            "width": 1
           },
           "marker": {
            "size": 2
           },
           "mode": "lines+markers",
           "name": "V1",
           "type": "scatter",
           "x": [
            0,
            1
           ],
           "y": [
            0,
            0
           ]
          },
          {
           "line": {
            "color": "red",
            "width": 1
           },
           "marker": {
            "size": 2
           },
           "mode": "lines+markers",
           "name": "V2",
           "type": "scatter",
           "x": [
            0,
            0
           ],
           "y": [
            0,
            1
           ]
          },
          {
           "line": {
            "color": "green",
            "width": 1
           },
           "marker": {
            "size": 2
           },
           "mode": "lines+markers",
           "name": "V1 + V2",
           "type": "scatter",
           "x": [
            0,
            1
           ],
           "y": [
            0,
            1
           ]
          },
          {
           "fill": "toself",
           "fillcolor": "rgba(0, 100, 200, 0.2)",
           "line": {
            "color": "rgba(255,255,255,0)"
           },
           "name": "Area",
           "type": "scatter",
           "x": [
            0,
            1,
            1,
            0,
            0
           ],
           "y": [
            0,
            0,
            1,
            1,
            0
           ]
          }
         ]
        },
        {
         "data": [
          {
           "line": {
            "color": "blue",
            "width": 1
           },
           "marker": {
            "size": 2
           },
           "mode": "lines+markers",
           "name": "V1",
           "type": "scatter",
           "x": [
            0,
            1
           ],
           "y": [
            0,
            0
           ]
          },
          {
           "line": {
            "color": "red",
            "width": 1
           },
           "marker": {
            "size": 2
           },
           "mode": "lines+markers",
           "name": "V2",
           "type": "scatter",
           "x": [
            0,
            0.02040816326530612
           ],
           "y": [
            0,
            1
           ]
          },
          {
           "line": {
            "color": "green",
            "width": 1
           },
           "marker": {
            "size": 2
           },
           "mode": "lines+markers",
           "name": "V1 + V2",
           "type": "scatter",
           "x": [
            0,
            1.0204081632653061
           ],
           "y": [
            0,
            1
           ]
          },
          {
           "fill": "toself",
           "fillcolor": "rgba(0, 100, 200, 0.2)",
           "line": {
            "color": "rgba(255,255,255,0)"
           },
           "name": "Area",
           "type": "scatter",
           "x": [
            0,
            1,
            1.0204081632653061,
            0.02040816326530612,
            0
           ],
           "y": [
            0,
            0,
            1,
            1,
            0
           ]
          }
         ]
        },
        {
         "data": [
          {
           "line": {
            "color": "blue",
            "width": 1
           },
           "marker": {
            "size": 2
           },
           "mode": "lines+markers",
           "name": "V1",
           "type": "scatter",
           "x": [
            0,
            1
           ],
           "y": [
            0,
            0
           ]
          },
          {
           "line": {
            "color": "red",
            "width": 1
           },
           "marker": {
            "size": 2
           },
           "mode": "lines+markers",
           "name": "V2",
           "type": "scatter",
           "x": [
            0,
            0.04081632653061224
           ],
           "y": [
            0,
            1
           ]
          },
          {
           "line": {
            "color": "green",
            "width": 1
           },
           "marker": {
            "size": 2
           },
           "mode": "lines+markers",
           "name": "V1 + V2",
           "type": "scatter",
           "x": [
            0,
            1.0408163265306123
           ],
           "y": [
            0,
            1
           ]
          },
          {
           "fill": "toself",
           "fillcolor": "rgba(0, 100, 200, 0.2)",
           "line": {
            "color": "rgba(255,255,255,0)"
           },
           "name": "Area",
           "type": "scatter",
           "x": [
            0,
            1,
            1.0408163265306123,
            0.04081632653061224,
            0
           ],
           "y": [
            0,
            0,
            1,
            1,
            0
           ]
          }
         ]
        },
        {
         "data": [
          {
           "line": {
            "color": "blue",
            "width": 1
           },
           "marker": {
            "size": 2
           },
           "mode": "lines+markers",
           "name": "V1",
           "type": "scatter",
           "x": [
            0,
            1
           ],
           "y": [
            0,
            0
           ]
          },
          {
           "line": {
            "color": "red",
            "width": 1
           },
           "marker": {
            "size": 2
           },
           "mode": "lines+markers",
           "name": "V2",
           "type": "scatter",
           "x": [
            0,
            0.061224489795918366
           ],
           "y": [
            0,
            1
           ]
          },
          {
           "line": {
            "color": "green",
            "width": 1
           },
           "marker": {
            "size": 2
           },
           "mode": "lines+markers",
           "name": "V1 + V2",
           "type": "scatter",
           "x": [
            0,
            1.0612244897959184
           ],
           "y": [
            0,
            1
           ]
          },
          {
           "fill": "toself",
           "fillcolor": "rgba(0, 100, 200, 0.2)",
           "line": {
            "color": "rgba(255,255,255,0)"
           },
           "name": "Area",
           "type": "scatter",
           "x": [
            0,
            1,
            1.0612244897959184,
            0.061224489795918366,
            0
           ],
           "y": [
            0,
            0,
            1,
            1,
            0
           ]
          }
         ]
        },
        {
         "data": [
          {
           "line": {
            "color": "blue",
            "width": 1
           },
           "marker": {
            "size": 2
           },
           "mode": "lines+markers",
           "name": "V1",
           "type": "scatter",
           "x": [
            0,
            1
           ],
           "y": [
            0,
            0
           ]
          },
          {
           "line": {
            "color": "red",
            "width": 1
           },
           "marker": {
            "size": 2
           },
           "mode": "lines+markers",
           "name": "V2",
           "type": "scatter",
           "x": [
            0,
            0.08163265306122448
           ],
           "y": [
            0,
            1
           ]
          },
          {
           "line": {
            "color": "green",
            "width": 1
           },
           "marker": {
            "size": 2
           },
           "mode": "lines+markers",
           "name": "V1 + V2",
           "type": "scatter",
           "x": [
            0,
            1.0816326530612246
           ],
           "y": [
            0,
            1
           ]
          },
          {
           "fill": "toself",
           "fillcolor": "rgba(0, 100, 200, 0.2)",
           "line": {
            "color": "rgba(255,255,255,0)"
           },
           "name": "Area",
           "type": "scatter",
           "x": [
            0,
            1,
            1.0816326530612246,
            0.08163265306122448,
            0
           ],
           "y": [
            0,
            0,
            1,
            1,
            0
           ]
          }
         ]
        },
        {
         "data": [
          {
           "line": {
            "color": "blue",
            "width": 1
           },
           "marker": {
            "size": 2
           },
           "mode": "lines+markers",
           "name": "V1",
           "type": "scatter",
           "x": [
            0,
            1
           ],
           "y": [
            0,
            0
           ]
          },
          {
           "line": {
            "color": "red",
            "width": 1
           },
           "marker": {
            "size": 2
           },
           "mode": "lines+markers",
           "name": "V2",
           "type": "scatter",
           "x": [
            0,
            0.1020408163265306
           ],
           "y": [
            0,
            1
           ]
          },
          {
           "line": {
            "color": "green",
            "width": 1
           },
           "marker": {
            "size": 2
           },
           "mode": "lines+markers",
           "name": "V1 + V2",
           "type": "scatter",
           "x": [
            0,
            1.1020408163265305
           ],
           "y": [
            0,
            1
           ]
          },
          {
           "fill": "toself",
           "fillcolor": "rgba(0, 100, 200, 0.2)",
           "line": {
            "color": "rgba(255,255,255,0)"
           },
           "name": "Area",
           "type": "scatter",
           "x": [
            0,
            1,
            1.1020408163265305,
            0.1020408163265306,
            0
           ],
           "y": [
            0,
            0,
            1,
            1,
            0
           ]
          }
         ]
        },
        {
         "data": [
          {
           "line": {
            "color": "blue",
            "width": 1
           },
           "marker": {
            "size": 2
           },
           "mode": "lines+markers",
           "name": "V1",
           "type": "scatter",
           "x": [
            0,
            1
           ],
           "y": [
            0,
            0
           ]
          },
          {
           "line": {
            "color": "red",
            "width": 1
           },
           "marker": {
            "size": 2
           },
           "mode": "lines+markers",
           "name": "V2",
           "type": "scatter",
           "x": [
            0,
            0.12244897959183673
           ],
           "y": [
            0,
            1
           ]
          },
          {
           "line": {
            "color": "green",
            "width": 1
           },
           "marker": {
            "size": 2
           },
           "mode": "lines+markers",
           "name": "V1 + V2",
           "type": "scatter",
           "x": [
            0,
            1.1224489795918366
           ],
           "y": [
            0,
            1
           ]
          },
          {
           "fill": "toself",
           "fillcolor": "rgba(0, 100, 200, 0.2)",
           "line": {
            "color": "rgba(255,255,255,0)"
           },
           "name": "Area",
           "type": "scatter",
           "x": [
            0,
            1,
            1.1224489795918366,
            0.12244897959183673,
            0
           ],
           "y": [
            0,
            0,
            1,
            1,
            0
           ]
          }
         ]
        },
        {
         "data": [
          {
           "line": {
            "color": "blue",
            "width": 1
           },
           "marker": {
            "size": 2
           },
           "mode": "lines+markers",
           "name": "V1",
           "type": "scatter",
           "x": [
            0,
            1
           ],
           "y": [
            0,
            0
           ]
          },
          {
           "line": {
            "color": "red",
            "width": 1
           },
           "marker": {
            "size": 2
           },
           "mode": "lines+markers",
           "name": "V2",
           "type": "scatter",
           "x": [
            0,
            0.14285714285714285
           ],
           "y": [
            0,
            1
           ]
          },
          {
           "line": {
            "color": "green",
            "width": 1
           },
           "marker": {
            "size": 2
           },
           "mode": "lines+markers",
           "name": "V1 + V2",
           "type": "scatter",
           "x": [
            0,
            1.1428571428571428
           ],
           "y": [
            0,
            1
           ]
          },
          {
           "fill": "toself",
           "fillcolor": "rgba(0, 100, 200, 0.2)",
           "line": {
            "color": "rgba(255,255,255,0)"
           },
           "name": "Area",
           "type": "scatter",
           "x": [
            0,
            1,
            1.1428571428571428,
            0.14285714285714285,
            0
           ],
           "y": [
            0,
            0,
            1,
            1,
            0
           ]
          }
         ]
        },
        {
         "data": [
          {
           "line": {
            "color": "blue",
            "width": 1
           },
           "marker": {
            "size": 2
           },
           "mode": "lines+markers",
           "name": "V1",
           "type": "scatter",
           "x": [
            0,
            1
           ],
           "y": [
            0,
            0
           ]
          },
          {
           "line": {
            "color": "red",
            "width": 1
           },
           "marker": {
            "size": 2
           },
           "mode": "lines+markers",
           "name": "V2",
           "type": "scatter",
           "x": [
            0,
            0.16326530612244897
           ],
           "y": [
            0,
            1
           ]
          },
          {
           "line": {
            "color": "green",
            "width": 1
           },
           "marker": {
            "size": 2
           },
           "mode": "lines+markers",
           "name": "V1 + V2",
           "type": "scatter",
           "x": [
            0,
            1.163265306122449
           ],
           "y": [
            0,
            1
           ]
          },
          {
           "fill": "toself",
           "fillcolor": "rgba(0, 100, 200, 0.2)",
           "line": {
            "color": "rgba(255,255,255,0)"
           },
           "name": "Area",
           "type": "scatter",
           "x": [
            0,
            1,
            1.163265306122449,
            0.16326530612244897,
            0
           ],
           "y": [
            0,
            0,
            1,
            1,
            0
           ]
          }
         ]
        },
        {
         "data": [
          {
           "line": {
            "color": "blue",
            "width": 1
           },
           "marker": {
            "size": 2
           },
           "mode": "lines+markers",
           "name": "V1",
           "type": "scatter",
           "x": [
            0,
            1
           ],
           "y": [
            0,
            0
           ]
          },
          {
           "line": {
            "color": "red",
            "width": 1
           },
           "marker": {
            "size": 2
           },
           "mode": "lines+markers",
           "name": "V2",
           "type": "scatter",
           "x": [
            0,
            0.18367346938775508
           ],
           "y": [
            0,
            1
           ]
          },
          {
           "line": {
            "color": "green",
            "width": 1
           },
           "marker": {
            "size": 2
           },
           "mode": "lines+markers",
           "name": "V1 + V2",
           "type": "scatter",
           "x": [
            0,
            1.183673469387755
           ],
           "y": [
            0,
            1
           ]
          },
          {
           "fill": "toself",
           "fillcolor": "rgba(0, 100, 200, 0.2)",
           "line": {
            "color": "rgba(255,255,255,0)"
           },
           "name": "Area",
           "type": "scatter",
           "x": [
            0,
            1,
            1.183673469387755,
            0.18367346938775508,
            0
           ],
           "y": [
            0,
            0,
            1,
            1,
            0
           ]
          }
         ]
        },
        {
         "data": [
          {
           "line": {
            "color": "blue",
            "width": 1
           },
           "marker": {
            "size": 2
           },
           "mode": "lines+markers",
           "name": "V1",
           "type": "scatter",
           "x": [
            0,
            1
           ],
           "y": [
            0,
            0
           ]
          },
          {
           "line": {
            "color": "red",
            "width": 1
           },
           "marker": {
            "size": 2
           },
           "mode": "lines+markers",
           "name": "V2",
           "type": "scatter",
           "x": [
            0,
            0.2040816326530612
           ],
           "y": [
            0,
            1
           ]
          },
          {
           "line": {
            "color": "green",
            "width": 1
           },
           "marker": {
            "size": 2
           },
           "mode": "lines+markers",
           "name": "V1 + V2",
           "type": "scatter",
           "x": [
            0,
            1.2040816326530612
           ],
           "y": [
            0,
            1
           ]
          },
          {
           "fill": "toself",
           "fillcolor": "rgba(0, 100, 200, 0.2)",
           "line": {
            "color": "rgba(255,255,255,0)"
           },
           "name": "Area",
           "type": "scatter",
           "x": [
            0,
            1,
            1.2040816326530612,
            0.2040816326530612,
            0
           ],
           "y": [
            0,
            0,
            1,
            1,
            0
           ]
          }
         ]
        },
        {
         "data": [
          {
           "line": {
            "color": "blue",
            "width": 1
           },
           "marker": {
            "size": 2
           },
           "mode": "lines+markers",
           "name": "V1",
           "type": "scatter",
           "x": [
            0,
            1
           ],
           "y": [
            0,
            0
           ]
          },
          {
           "line": {
            "color": "red",
            "width": 1
           },
           "marker": {
            "size": 2
           },
           "mode": "lines+markers",
           "name": "V2",
           "type": "scatter",
           "x": [
            0,
            0.22448979591836732
           ],
           "y": [
            0,
            1
           ]
          },
          {
           "line": {
            "color": "green",
            "width": 1
           },
           "marker": {
            "size": 2
           },
           "mode": "lines+markers",
           "name": "V1 + V2",
           "type": "scatter",
           "x": [
            0,
            1.2244897959183674
           ],
           "y": [
            0,
            1
           ]
          },
          {
           "fill": "toself",
           "fillcolor": "rgba(0, 100, 200, 0.2)",
           "line": {
            "color": "rgba(255,255,255,0)"
           },
           "name": "Area",
           "type": "scatter",
           "x": [
            0,
            1,
            1.2244897959183674,
            0.22448979591836732,
            0
           ],
           "y": [
            0,
            0,
            1,
            1,
            0
           ]
          }
         ]
        },
        {
         "data": [
          {
           "line": {
            "color": "blue",
            "width": 1
           },
           "marker": {
            "size": 2
           },
           "mode": "lines+markers",
           "name": "V1",
           "type": "scatter",
           "x": [
            0,
            1
           ],
           "y": [
            0,
            0
           ]
          },
          {
           "line": {
            "color": "red",
            "width": 1
           },
           "marker": {
            "size": 2
           },
           "mode": "lines+markers",
           "name": "V2",
           "type": "scatter",
           "x": [
            0,
            0.24489795918367346
           ],
           "y": [
            0,
            1
           ]
          },
          {
           "line": {
            "color": "green",
            "width": 1
           },
           "marker": {
            "size": 2
           },
           "mode": "lines+markers",
           "name": "V1 + V2",
           "type": "scatter",
           "x": [
            0,
            1.2448979591836735
           ],
           "y": [
            0,
            1
           ]
          },
          {
           "fill": "toself",
           "fillcolor": "rgba(0, 100, 200, 0.2)",
           "line": {
            "color": "rgba(255,255,255,0)"
           },
           "name": "Area",
           "type": "scatter",
           "x": [
            0,
            1,
            1.2448979591836735,
            0.24489795918367346,
            0
           ],
           "y": [
            0,
            0,
            1,
            1,
            0
           ]
          }
         ]
        },
        {
         "data": [
          {
           "line": {
            "color": "blue",
            "width": 1
           },
           "marker": {
            "size": 2
           },
           "mode": "lines+markers",
           "name": "V1",
           "type": "scatter",
           "x": [
            0,
            1
           ],
           "y": [
            0,
            0
           ]
          },
          {
           "line": {
            "color": "red",
            "width": 1
           },
           "marker": {
            "size": 2
           },
           "mode": "lines+markers",
           "name": "V2",
           "type": "scatter",
           "x": [
            0,
            0.26530612244897955
           ],
           "y": [
            0,
            1
           ]
          },
          {
           "line": {
            "color": "green",
            "width": 1
           },
           "marker": {
            "size": 2
           },
           "mode": "lines+markers",
           "name": "V1 + V2",
           "type": "scatter",
           "x": [
            0,
            1.2653061224489797
           ],
           "y": [
            0,
            1
           ]
          },
          {
           "fill": "toself",
           "fillcolor": "rgba(0, 100, 200, 0.2)",
           "line": {
            "color": "rgba(255,255,255,0)"
           },
           "name": "Area",
           "type": "scatter",
           "x": [
            0,
            1,
            1.2653061224489797,
            0.26530612244897955,
            0
           ],
           "y": [
            0,
            0,
            1,
            1,
            0
           ]
          }
         ]
        },
        {
         "data": [
          {
           "line": {
            "color": "blue",
            "width": 1
           },
           "marker": {
            "size": 2
           },
           "mode": "lines+markers",
           "name": "V1",
           "type": "scatter",
           "x": [
            0,
            1
           ],
           "y": [
            0,
            0
           ]
          },
          {
           "line": {
            "color": "red",
            "width": 1
           },
           "marker": {
            "size": 2
           },
           "mode": "lines+markers",
           "name": "V2",
           "type": "scatter",
           "x": [
            0,
            0.2857142857142857
           ],
           "y": [
            0,
            1
           ]
          },
          {
           "line": {
            "color": "green",
            "width": 1
           },
           "marker": {
            "size": 2
           },
           "mode": "lines+markers",
           "name": "V1 + V2",
           "type": "scatter",
           "x": [
            0,
            1.2857142857142856
           ],
           "y": [
            0,
            1
           ]
          },
          {
           "fill": "toself",
           "fillcolor": "rgba(0, 100, 200, 0.2)",
           "line": {
            "color": "rgba(255,255,255,0)"
           },
           "name": "Area",
           "type": "scatter",
           "x": [
            0,
            1,
            1.2857142857142856,
            0.2857142857142857,
            0
           ],
           "y": [
            0,
            0,
            1,
            1,
            0
           ]
          }
         ]
        },
        {
         "data": [
          {
           "line": {
            "color": "blue",
            "width": 1
           },
           "marker": {
            "size": 2
           },
           "mode": "lines+markers",
           "name": "V1",
           "type": "scatter",
           "x": [
            0,
            1
           ],
           "y": [
            0,
            0
           ]
          },
          {
           "line": {
            "color": "red",
            "width": 1
           },
           "marker": {
            "size": 2
           },
           "mode": "lines+markers",
           "name": "V2",
           "type": "scatter",
           "x": [
            0,
            0.3061224489795918
           ],
           "y": [
            0,
            1
           ]
          },
          {
           "line": {
            "color": "green",
            "width": 1
           },
           "marker": {
            "size": 2
           },
           "mode": "lines+markers",
           "name": "V1 + V2",
           "type": "scatter",
           "x": [
            0,
            1.3061224489795917
           ],
           "y": [
            0,
            1
           ]
          },
          {
           "fill": "toself",
           "fillcolor": "rgba(0, 100, 200, 0.2)",
           "line": {
            "color": "rgba(255,255,255,0)"
           },
           "name": "Area",
           "type": "scatter",
           "x": [
            0,
            1,
            1.3061224489795917,
            0.3061224489795918,
            0
           ],
           "y": [
            0,
            0,
            1,
            1,
            0
           ]
          }
         ]
        },
        {
         "data": [
          {
           "line": {
            "color": "blue",
            "width": 1
           },
           "marker": {
            "size": 2
           },
           "mode": "lines+markers",
           "name": "V1",
           "type": "scatter",
           "x": [
            0,
            1
           ],
           "y": [
            0,
            0
           ]
          },
          {
           "line": {
            "color": "red",
            "width": 1
           },
           "marker": {
            "size": 2
           },
           "mode": "lines+markers",
           "name": "V2",
           "type": "scatter",
           "x": [
            0,
            0.32653061224489793
           ],
           "y": [
            0,
            1
           ]
          },
          {
           "line": {
            "color": "green",
            "width": 1
           },
           "marker": {
            "size": 2
           },
           "mode": "lines+markers",
           "name": "V1 + V2",
           "type": "scatter",
           "x": [
            0,
            1.3265306122448979
           ],
           "y": [
            0,
            1
           ]
          },
          {
           "fill": "toself",
           "fillcolor": "rgba(0, 100, 200, 0.2)",
           "line": {
            "color": "rgba(255,255,255,0)"
           },
           "name": "Area",
           "type": "scatter",
           "x": [
            0,
            1,
            1.3265306122448979,
            0.32653061224489793,
            0
           ],
           "y": [
            0,
            0,
            1,
            1,
            0
           ]
          }
         ]
        },
        {
         "data": [
          {
           "line": {
            "color": "blue",
            "width": 1
           },
           "marker": {
            "size": 2
           },
           "mode": "lines+markers",
           "name": "V1",
           "type": "scatter",
           "x": [
            0,
            1
           ],
           "y": [
            0,
            0
           ]
          },
          {
           "line": {
            "color": "red",
            "width": 1
           },
           "marker": {
            "size": 2
           },
           "mode": "lines+markers",
           "name": "V2",
           "type": "scatter",
           "x": [
            0,
            0.3469387755102041
           ],
           "y": [
            0,
            1
           ]
          },
          {
           "line": {
            "color": "green",
            "width": 1
           },
           "marker": {
            "size": 2
           },
           "mode": "lines+markers",
           "name": "V1 + V2",
           "type": "scatter",
           "x": [
            0,
            1.346938775510204
           ],
           "y": [
            0,
            1
           ]
          },
          {
           "fill": "toself",
           "fillcolor": "rgba(0, 100, 200, 0.2)",
           "line": {
            "color": "rgba(255,255,255,0)"
           },
           "name": "Area",
           "type": "scatter",
           "x": [
            0,
            1,
            1.346938775510204,
            0.3469387755102041,
            0
           ],
           "y": [
            0,
            0,
            1,
            1,
            0
           ]
          }
         ]
        },
        {
         "data": [
          {
           "line": {
            "color": "blue",
            "width": 1
           },
           "marker": {
            "size": 2
           },
           "mode": "lines+markers",
           "name": "V1",
           "type": "scatter",
           "x": [
            0,
            1
           ],
           "y": [
            0,
            0
           ]
          },
          {
           "line": {
            "color": "red",
            "width": 1
           },
           "marker": {
            "size": 2
           },
           "mode": "lines+markers",
           "name": "V2",
           "type": "scatter",
           "x": [
            0,
            0.36734693877551017
           ],
           "y": [
            0,
            1
           ]
          },
          {
           "line": {
            "color": "green",
            "width": 1
           },
           "marker": {
            "size": 2
           },
           "mode": "lines+markers",
           "name": "V1 + V2",
           "type": "scatter",
           "x": [
            0,
            1.3673469387755102
           ],
           "y": [
            0,
            1
           ]
          },
          {
           "fill": "toself",
           "fillcolor": "rgba(0, 100, 200, 0.2)",
           "line": {
            "color": "rgba(255,255,255,0)"
           },
           "name": "Area",
           "type": "scatter",
           "x": [
            0,
            1,
            1.3673469387755102,
            0.36734693877551017,
            0
           ],
           "y": [
            0,
            0,
            1,
            1,
            0
           ]
          }
         ]
        },
        {
         "data": [
          {
           "line": {
            "color": "blue",
            "width": 1
           },
           "marker": {
            "size": 2
           },
           "mode": "lines+markers",
           "name": "V1",
           "type": "scatter",
           "x": [
            0,
            1
           ],
           "y": [
            0,
            0
           ]
          },
          {
           "line": {
            "color": "red",
            "width": 1
           },
           "marker": {
            "size": 2
           },
           "mode": "lines+markers",
           "name": "V2",
           "type": "scatter",
           "x": [
            0,
            0.3877551020408163
           ],
           "y": [
            0,
            1
           ]
          },
          {
           "line": {
            "color": "green",
            "width": 1
           },
           "marker": {
            "size": 2
           },
           "mode": "lines+markers",
           "name": "V1 + V2",
           "type": "scatter",
           "x": [
            0,
            1.3877551020408163
           ],
           "y": [
            0,
            1
           ]
          },
          {
           "fill": "toself",
           "fillcolor": "rgba(0, 100, 200, 0.2)",
           "line": {
            "color": "rgba(255,255,255,0)"
           },
           "name": "Area",
           "type": "scatter",
           "x": [
            0,
            1,
            1.3877551020408163,
            0.3877551020408163,
            0
           ],
           "y": [
            0,
            0,
            1,
            1,
            0
           ]
          }
         ]
        },
        {
         "data": [
          {
           "line": {
            "color": "blue",
            "width": 1
           },
           "marker": {
            "size": 2
           },
           "mode": "lines+markers",
           "name": "V1",
           "type": "scatter",
           "x": [
            0,
            1
           ],
           "y": [
            0,
            0
           ]
          },
          {
           "line": {
            "color": "red",
            "width": 1
           },
           "marker": {
            "size": 2
           },
           "mode": "lines+markers",
           "name": "V2",
           "type": "scatter",
           "x": [
            0,
            0.4081632653061224
           ],
           "y": [
            0,
            1
           ]
          },
          {
           "line": {
            "color": "green",
            "width": 1
           },
           "marker": {
            "size": 2
           },
           "mode": "lines+markers",
           "name": "V1 + V2",
           "type": "scatter",
           "x": [
            0,
            1.4081632653061225
           ],
           "y": [
            0,
            1
           ]
          },
          {
           "fill": "toself",
           "fillcolor": "rgba(0, 100, 200, 0.2)",
           "line": {
            "color": "rgba(255,255,255,0)"
           },
           "name": "Area",
           "type": "scatter",
           "x": [
            0,
            1,
            1.4081632653061225,
            0.4081632653061224,
            0
           ],
           "y": [
            0,
            0,
            1,
            1,
            0
           ]
          }
         ]
        },
        {
         "data": [
          {
           "line": {
            "color": "blue",
            "width": 1
           },
           "marker": {
            "size": 2
           },
           "mode": "lines+markers",
           "name": "V1",
           "type": "scatter",
           "x": [
            0,
            1
           ],
           "y": [
            0,
            0
           ]
          },
          {
           "line": {
            "color": "red",
            "width": 1
           },
           "marker": {
            "size": 2
           },
           "mode": "lines+markers",
           "name": "V2",
           "type": "scatter",
           "x": [
            0,
            0.42857142857142855
           ],
           "y": [
            0,
            1
           ]
          },
          {
           "line": {
            "color": "green",
            "width": 1
           },
           "marker": {
            "size": 2
           },
           "mode": "lines+markers",
           "name": "V1 + V2",
           "type": "scatter",
           "x": [
            0,
            1.4285714285714286
           ],
           "y": [
            0,
            1
           ]
          },
          {
           "fill": "toself",
           "fillcolor": "rgba(0, 100, 200, 0.2)",
           "line": {
            "color": "rgba(255,255,255,0)"
           },
           "name": "Area",
           "type": "scatter",
           "x": [
            0,
            1,
            1.4285714285714286,
            0.42857142857142855,
            0
           ],
           "y": [
            0,
            0,
            1,
            1,
            0
           ]
          }
         ]
        },
        {
         "data": [
          {
           "line": {
            "color": "blue",
            "width": 1
           },
           "marker": {
            "size": 2
           },
           "mode": "lines+markers",
           "name": "V1",
           "type": "scatter",
           "x": [
            0,
            1
           ],
           "y": [
            0,
            0
           ]
          },
          {
           "line": {
            "color": "red",
            "width": 1
           },
           "marker": {
            "size": 2
           },
           "mode": "lines+markers",
           "name": "V2",
           "type": "scatter",
           "x": [
            0,
            0.44897959183673464
           ],
           "y": [
            0,
            1
           ]
          },
          {
           "line": {
            "color": "green",
            "width": 1
           },
           "marker": {
            "size": 2
           },
           "mode": "lines+markers",
           "name": "V1 + V2",
           "type": "scatter",
           "x": [
            0,
            1.4489795918367347
           ],
           "y": [
            0,
            1
           ]
          },
          {
           "fill": "toself",
           "fillcolor": "rgba(0, 100, 200, 0.2)",
           "line": {
            "color": "rgba(255,255,255,0)"
           },
           "name": "Area",
           "type": "scatter",
           "x": [
            0,
            1,
            1.4489795918367347,
            0.44897959183673464,
            0
           ],
           "y": [
            0,
            0,
            1,
            1,
            0
           ]
          }
         ]
        },
        {
         "data": [
          {
           "line": {
            "color": "blue",
            "width": 1
           },
           "marker": {
            "size": 2
           },
           "mode": "lines+markers",
           "name": "V1",
           "type": "scatter",
           "x": [
            0,
            1
           ],
           "y": [
            0,
            0
           ]
          },
          {
           "line": {
            "color": "red",
            "width": 1
           },
           "marker": {
            "size": 2
           },
           "mode": "lines+markers",
           "name": "V2",
           "type": "scatter",
           "x": [
            0,
            0.4693877551020408
           ],
           "y": [
            0,
            1
           ]
          },
          {
           "line": {
            "color": "green",
            "width": 1
           },
           "marker": {
            "size": 2
           },
           "mode": "lines+markers",
           "name": "V1 + V2",
           "type": "scatter",
           "x": [
            0,
            1.4693877551020407
           ],
           "y": [
            0,
            1
           ]
          },
          {
           "fill": "toself",
           "fillcolor": "rgba(0, 100, 200, 0.2)",
           "line": {
            "color": "rgba(255,255,255,0)"
           },
           "name": "Area",
           "type": "scatter",
           "x": [
            0,
            1,
            1.4693877551020407,
            0.4693877551020408,
            0
           ],
           "y": [
            0,
            0,
            1,
            1,
            0
           ]
          }
         ]
        },
        {
         "data": [
          {
           "line": {
            "color": "blue",
            "width": 1
           },
           "marker": {
            "size": 2
           },
           "mode": "lines+markers",
           "name": "V1",
           "type": "scatter",
           "x": [
            0,
            1
           ],
           "y": [
            0,
            0
           ]
          },
          {
           "line": {
            "color": "red",
            "width": 1
           },
           "marker": {
            "size": 2
           },
           "mode": "lines+markers",
           "name": "V2",
           "type": "scatter",
           "x": [
            0,
            0.4897959183673469
           ],
           "y": [
            0,
            1
           ]
          },
          {
           "line": {
            "color": "green",
            "width": 1
           },
           "marker": {
            "size": 2
           },
           "mode": "lines+markers",
           "name": "V1 + V2",
           "type": "scatter",
           "x": [
            0,
            1.489795918367347
           ],
           "y": [
            0,
            1
           ]
          },
          {
           "fill": "toself",
           "fillcolor": "rgba(0, 100, 200, 0.2)",
           "line": {
            "color": "rgba(255,255,255,0)"
           },
           "name": "Area",
           "type": "scatter",
           "x": [
            0,
            1,
            1.489795918367347,
            0.4897959183673469,
            0
           ],
           "y": [
            0,
            0,
            1,
            1,
            0
           ]
          }
         ]
        },
        {
         "data": [
          {
           "line": {
            "color": "blue",
            "width": 1
           },
           "marker": {
            "size": 2
           },
           "mode": "lines+markers",
           "name": "V1",
           "type": "scatter",
           "x": [
            0,
            1
           ],
           "y": [
            0,
            0
           ]
          },
          {
           "line": {
            "color": "red",
            "width": 1
           },
           "marker": {
            "size": 2
           },
           "mode": "lines+markers",
           "name": "V2",
           "type": "scatter",
           "x": [
            0,
            0.5102040816326531
           ],
           "y": [
            0,
            1
           ]
          },
          {
           "line": {
            "color": "green",
            "width": 1
           },
           "marker": {
            "size": 2
           },
           "mode": "lines+markers",
           "name": "V1 + V2",
           "type": "scatter",
           "x": [
            0,
            1.510204081632653
           ],
           "y": [
            0,
            1
           ]
          },
          {
           "fill": "toself",
           "fillcolor": "rgba(0, 100, 200, 0.2)",
           "line": {
            "color": "rgba(255,255,255,0)"
           },
           "name": "Area",
           "type": "scatter",
           "x": [
            0,
            1,
            1.510204081632653,
            0.5102040816326531,
            0
           ],
           "y": [
            0,
            0,
            1,
            1,
            0
           ]
          }
         ]
        },
        {
         "data": [
          {
           "line": {
            "color": "blue",
            "width": 1
           },
           "marker": {
            "size": 2
           },
           "mode": "lines+markers",
           "name": "V1",
           "type": "scatter",
           "x": [
            0,
            1
           ],
           "y": [
            0,
            0
           ]
          },
          {
           "line": {
            "color": "red",
            "width": 1
           },
           "marker": {
            "size": 2
           },
           "mode": "lines+markers",
           "name": "V2",
           "type": "scatter",
           "x": [
            0,
            0.5306122448979591
           ],
           "y": [
            0,
            1
           ]
          },
          {
           "line": {
            "color": "green",
            "width": 1
           },
           "marker": {
            "size": 2
           },
           "mode": "lines+markers",
           "name": "V1 + V2",
           "type": "scatter",
           "x": [
            0,
            1.530612244897959
           ],
           "y": [
            0,
            1
           ]
          },
          {
           "fill": "toself",
           "fillcolor": "rgba(0, 100, 200, 0.2)",
           "line": {
            "color": "rgba(255,255,255,0)"
           },
           "name": "Area",
           "type": "scatter",
           "x": [
            0,
            1,
            1.530612244897959,
            0.5306122448979591,
            0
           ],
           "y": [
            0,
            0,
            1,
            1,
            0
           ]
          }
         ]
        },
        {
         "data": [
          {
           "line": {
            "color": "blue",
            "width": 1
           },
           "marker": {
            "size": 2
           },
           "mode": "lines+markers",
           "name": "V1",
           "type": "scatter",
           "x": [
            0,
            1
           ],
           "y": [
            0,
            0
           ]
          },
          {
           "line": {
            "color": "red",
            "width": 1
           },
           "marker": {
            "size": 2
           },
           "mode": "lines+markers",
           "name": "V2",
           "type": "scatter",
           "x": [
            0,
            0.5510204081632653
           ],
           "y": [
            0,
            1
           ]
          },
          {
           "line": {
            "color": "green",
            "width": 1
           },
           "marker": {
            "size": 2
           },
           "mode": "lines+markers",
           "name": "V1 + V2",
           "type": "scatter",
           "x": [
            0,
            1.5510204081632653
           ],
           "y": [
            0,
            1
           ]
          },
          {
           "fill": "toself",
           "fillcolor": "rgba(0, 100, 200, 0.2)",
           "line": {
            "color": "rgba(255,255,255,0)"
           },
           "name": "Area",
           "type": "scatter",
           "x": [
            0,
            1,
            1.5510204081632653,
            0.5510204081632653,
            0
           ],
           "y": [
            0,
            0,
            1,
            1,
            0
           ]
          }
         ]
        },
        {
         "data": [
          {
           "line": {
            "color": "blue",
            "width": 1
           },
           "marker": {
            "size": 2
           },
           "mode": "lines+markers",
           "name": "V1",
           "type": "scatter",
           "x": [
            0,
            1
           ],
           "y": [
            0,
            0
           ]
          },
          {
           "line": {
            "color": "red",
            "width": 1
           },
           "marker": {
            "size": 2
           },
           "mode": "lines+markers",
           "name": "V2",
           "type": "scatter",
           "x": [
            0,
            0.5714285714285714
           ],
           "y": [
            0,
            1
           ]
          },
          {
           "line": {
            "color": "green",
            "width": 1
           },
           "marker": {
            "size": 2
           },
           "mode": "lines+markers",
           "name": "V1 + V2",
           "type": "scatter",
           "x": [
            0,
            1.5714285714285714
           ],
           "y": [
            0,
            1
           ]
          },
          {
           "fill": "toself",
           "fillcolor": "rgba(0, 100, 200, 0.2)",
           "line": {
            "color": "rgba(255,255,255,0)"
           },
           "name": "Area",
           "type": "scatter",
           "x": [
            0,
            1,
            1.5714285714285714,
            0.5714285714285714,
            0
           ],
           "y": [
            0,
            0,
            1,
            1,
            0
           ]
          }
         ]
        },
        {
         "data": [
          {
           "line": {
            "color": "blue",
            "width": 1
           },
           "marker": {
            "size": 2
           },
           "mode": "lines+markers",
           "name": "V1",
           "type": "scatter",
           "x": [
            0,
            1
           ],
           "y": [
            0,
            0
           ]
          },
          {
           "line": {
            "color": "red",
            "width": 1
           },
           "marker": {
            "size": 2
           },
           "mode": "lines+markers",
           "name": "V2",
           "type": "scatter",
           "x": [
            0,
            0.5918367346938775
           ],
           "y": [
            0,
            1
           ]
          },
          {
           "line": {
            "color": "green",
            "width": 1
           },
           "marker": {
            "size": 2
           },
           "mode": "lines+markers",
           "name": "V1 + V2",
           "type": "scatter",
           "x": [
            0,
            1.5918367346938775
           ],
           "y": [
            0,
            1
           ]
          },
          {
           "fill": "toself",
           "fillcolor": "rgba(0, 100, 200, 0.2)",
           "line": {
            "color": "rgba(255,255,255,0)"
           },
           "name": "Area",
           "type": "scatter",
           "x": [
            0,
            1,
            1.5918367346938775,
            0.5918367346938775,
            0
           ],
           "y": [
            0,
            0,
            1,
            1,
            0
           ]
          }
         ]
        },
        {
         "data": [
          {
           "line": {
            "color": "blue",
            "width": 1
           },
           "marker": {
            "size": 2
           },
           "mode": "lines+markers",
           "name": "V1",
           "type": "scatter",
           "x": [
            0,
            1
           ],
           "y": [
            0,
            0
           ]
          },
          {
           "line": {
            "color": "red",
            "width": 1
           },
           "marker": {
            "size": 2
           },
           "mode": "lines+markers",
           "name": "V2",
           "type": "scatter",
           "x": [
            0,
            0.6122448979591836
           ],
           "y": [
            0,
            1
           ]
          },
          {
           "line": {
            "color": "green",
            "width": 1
           },
           "marker": {
            "size": 2
           },
           "mode": "lines+markers",
           "name": "V1 + V2",
           "type": "scatter",
           "x": [
            0,
            1.6122448979591835
           ],
           "y": [
            0,
            1
           ]
          },
          {
           "fill": "toself",
           "fillcolor": "rgba(0, 100, 200, 0.2)",
           "line": {
            "color": "rgba(255,255,255,0)"
           },
           "name": "Area",
           "type": "scatter",
           "x": [
            0,
            1,
            1.6122448979591835,
            0.6122448979591836,
            0
           ],
           "y": [
            0,
            0,
            1,
            1,
            0
           ]
          }
         ]
        },
        {
         "data": [
          {
           "line": {
            "color": "blue",
            "width": 1
           },
           "marker": {
            "size": 2
           },
           "mode": "lines+markers",
           "name": "V1",
           "type": "scatter",
           "x": [
            0,
            1
           ],
           "y": [
            0,
            0
           ]
          },
          {
           "line": {
            "color": "red",
            "width": 1
           },
           "marker": {
            "size": 2
           },
           "mode": "lines+markers",
           "name": "V2",
           "type": "scatter",
           "x": [
            0,
            0.6326530612244897
           ],
           "y": [
            0,
            1
           ]
          },
          {
           "line": {
            "color": "green",
            "width": 1
           },
           "marker": {
            "size": 2
           },
           "mode": "lines+markers",
           "name": "V1 + V2",
           "type": "scatter",
           "x": [
            0,
            1.6326530612244898
           ],
           "y": [
            0,
            1
           ]
          },
          {
           "fill": "toself",
           "fillcolor": "rgba(0, 100, 200, 0.2)",
           "line": {
            "color": "rgba(255,255,255,0)"
           },
           "name": "Area",
           "type": "scatter",
           "x": [
            0,
            1,
            1.6326530612244898,
            0.6326530612244897,
            0
           ],
           "y": [
            0,
            0,
            1,
            1,
            0
           ]
          }
         ]
        },
        {
         "data": [
          {
           "line": {
            "color": "blue",
            "width": 1
           },
           "marker": {
            "size": 2
           },
           "mode": "lines+markers",
           "name": "V1",
           "type": "scatter",
           "x": [
            0,
            1
           ],
           "y": [
            0,
            0
           ]
          },
          {
           "line": {
            "color": "red",
            "width": 1
           },
           "marker": {
            "size": 2
           },
           "mode": "lines+markers",
           "name": "V2",
           "type": "scatter",
           "x": [
            0,
            0.6530612244897959
           ],
           "y": [
            0,
            1
           ]
          },
          {
           "line": {
            "color": "green",
            "width": 1
           },
           "marker": {
            "size": 2
           },
           "mode": "lines+markers",
           "name": "V1 + V2",
           "type": "scatter",
           "x": [
            0,
            1.6530612244897958
           ],
           "y": [
            0,
            1
           ]
          },
          {
           "fill": "toself",
           "fillcolor": "rgba(0, 100, 200, 0.2)",
           "line": {
            "color": "rgba(255,255,255,0)"
           },
           "name": "Area",
           "type": "scatter",
           "x": [
            0,
            1,
            1.6530612244897958,
            0.6530612244897959,
            0
           ],
           "y": [
            0,
            0,
            1,
            1,
            0
           ]
          }
         ]
        },
        {
         "data": [
          {
           "line": {
            "color": "blue",
            "width": 1
           },
           "marker": {
            "size": 2
           },
           "mode": "lines+markers",
           "name": "V1",
           "type": "scatter",
           "x": [
            0,
            1
           ],
           "y": [
            0,
            0
           ]
          },
          {
           "line": {
            "color": "red",
            "width": 1
           },
           "marker": {
            "size": 2
           },
           "mode": "lines+markers",
           "name": "V2",
           "type": "scatter",
           "x": [
            0,
            0.673469387755102
           ],
           "y": [
            0,
            1
           ]
          },
          {
           "line": {
            "color": "green",
            "width": 1
           },
           "marker": {
            "size": 2
           },
           "mode": "lines+markers",
           "name": "V1 + V2",
           "type": "scatter",
           "x": [
            0,
            1.6734693877551021
           ],
           "y": [
            0,
            1
           ]
          },
          {
           "fill": "toself",
           "fillcolor": "rgba(0, 100, 200, 0.2)",
           "line": {
            "color": "rgba(255,255,255,0)"
           },
           "name": "Area",
           "type": "scatter",
           "x": [
            0,
            1,
            1.6734693877551021,
            0.673469387755102,
            0
           ],
           "y": [
            0,
            0,
            1,
            1,
            0
           ]
          }
         ]
        },
        {
         "data": [
          {
           "line": {
            "color": "blue",
            "width": 1
           },
           "marker": {
            "size": 2
           },
           "mode": "lines+markers",
           "name": "V1",
           "type": "scatter",
           "x": [
            0,
            1
           ],
           "y": [
            0,
            0
           ]
          },
          {
           "line": {
            "color": "red",
            "width": 1
           },
           "marker": {
            "size": 2
           },
           "mode": "lines+markers",
           "name": "V2",
           "type": "scatter",
           "x": [
            0,
            0.6938775510204082
           ],
           "y": [
            0,
            1
           ]
          },
          {
           "line": {
            "color": "green",
            "width": 1
           },
           "marker": {
            "size": 2
           },
           "mode": "lines+markers",
           "name": "V1 + V2",
           "type": "scatter",
           "x": [
            0,
            1.693877551020408
           ],
           "y": [
            0,
            1
           ]
          },
          {
           "fill": "toself",
           "fillcolor": "rgba(0, 100, 200, 0.2)",
           "line": {
            "color": "rgba(255,255,255,0)"
           },
           "name": "Area",
           "type": "scatter",
           "x": [
            0,
            1,
            1.693877551020408,
            0.6938775510204082,
            0
           ],
           "y": [
            0,
            0,
            1,
            1,
            0
           ]
          }
         ]
        },
        {
         "data": [
          {
           "line": {
            "color": "blue",
            "width": 1
           },
           "marker": {
            "size": 2
           },
           "mode": "lines+markers",
           "name": "V1",
           "type": "scatter",
           "x": [
            0,
            1
           ],
           "y": [
            0,
            0
           ]
          },
          {
           "line": {
            "color": "red",
            "width": 1
           },
           "marker": {
            "size": 2
           },
           "mode": "lines+markers",
           "name": "V2",
           "type": "scatter",
           "x": [
            0,
            0.7142857142857142
           ],
           "y": [
            0,
            1
           ]
          },
          {
           "line": {
            "color": "green",
            "width": 1
           },
           "marker": {
            "size": 2
           },
           "mode": "lines+markers",
           "name": "V1 + V2",
           "type": "scatter",
           "x": [
            0,
            1.7142857142857142
           ],
           "y": [
            0,
            1
           ]
          },
          {
           "fill": "toself",
           "fillcolor": "rgba(0, 100, 200, 0.2)",
           "line": {
            "color": "rgba(255,255,255,0)"
           },
           "name": "Area",
           "type": "scatter",
           "x": [
            0,
            1,
            1.7142857142857142,
            0.7142857142857142,
            0
           ],
           "y": [
            0,
            0,
            1,
            1,
            0
           ]
          }
         ]
        },
        {
         "data": [
          {
           "line": {
            "color": "blue",
            "width": 1
           },
           "marker": {
            "size": 2
           },
           "mode": "lines+markers",
           "name": "V1",
           "type": "scatter",
           "x": [
            0,
            1
           ],
           "y": [
            0,
            0
           ]
          },
          {
           "line": {
            "color": "red",
            "width": 1
           },
           "marker": {
            "size": 2
           },
           "mode": "lines+markers",
           "name": "V2",
           "type": "scatter",
           "x": [
            0,
            0.7346938775510203
           ],
           "y": [
            0,
            1
           ]
          },
          {
           "line": {
            "color": "green",
            "width": 1
           },
           "marker": {
            "size": 2
           },
           "mode": "lines+markers",
           "name": "V1 + V2",
           "type": "scatter",
           "x": [
            0,
            1.7346938775510203
           ],
           "y": [
            0,
            1
           ]
          },
          {
           "fill": "toself",
           "fillcolor": "rgba(0, 100, 200, 0.2)",
           "line": {
            "color": "rgba(255,255,255,0)"
           },
           "name": "Area",
           "type": "scatter",
           "x": [
            0,
            1,
            1.7346938775510203,
            0.7346938775510203,
            0
           ],
           "y": [
            0,
            0,
            1,
            1,
            0
           ]
          }
         ]
        },
        {
         "data": [
          {
           "line": {
            "color": "blue",
            "width": 1
           },
           "marker": {
            "size": 2
           },
           "mode": "lines+markers",
           "name": "V1",
           "type": "scatter",
           "x": [
            0,
            1
           ],
           "y": [
            0,
            0
           ]
          },
          {
           "line": {
            "color": "red",
            "width": 1
           },
           "marker": {
            "size": 2
           },
           "mode": "lines+markers",
           "name": "V2",
           "type": "scatter",
           "x": [
            0,
            0.7551020408163265
           ],
           "y": [
            0,
            1
           ]
          },
          {
           "line": {
            "color": "green",
            "width": 1
           },
           "marker": {
            "size": 2
           },
           "mode": "lines+markers",
           "name": "V1 + V2",
           "type": "scatter",
           "x": [
            0,
            1.7551020408163265
           ],
           "y": [
            0,
            1
           ]
          },
          {
           "fill": "toself",
           "fillcolor": "rgba(0, 100, 200, 0.2)",
           "line": {
            "color": "rgba(255,255,255,0)"
           },
           "name": "Area",
           "type": "scatter",
           "x": [
            0,
            1,
            1.7551020408163265,
            0.7551020408163265,
            0
           ],
           "y": [
            0,
            0,
            1,
            1,
            0
           ]
          }
         ]
        },
        {
         "data": [
          {
           "line": {
            "color": "blue",
            "width": 1
           },
           "marker": {
            "size": 2
           },
           "mode": "lines+markers",
           "name": "V1",
           "type": "scatter",
           "x": [
            0,
            1
           ],
           "y": [
            0,
            0
           ]
          },
          {
           "line": {
            "color": "red",
            "width": 1
           },
           "marker": {
            "size": 2
           },
           "mode": "lines+markers",
           "name": "V2",
           "type": "scatter",
           "x": [
            0,
            0.7755102040816326
           ],
           "y": [
            0,
            1
           ]
          },
          {
           "line": {
            "color": "green",
            "width": 1
           },
           "marker": {
            "size": 2
           },
           "mode": "lines+markers",
           "name": "V1 + V2",
           "type": "scatter",
           "x": [
            0,
            1.7755102040816326
           ],
           "y": [
            0,
            1
           ]
          },
          {
           "fill": "toself",
           "fillcolor": "rgba(0, 100, 200, 0.2)",
           "line": {
            "color": "rgba(255,255,255,0)"
           },
           "name": "Area",
           "type": "scatter",
           "x": [
            0,
            1,
            1.7755102040816326,
            0.7755102040816326,
            0
           ],
           "y": [
            0,
            0,
            1,
            1,
            0
           ]
          }
         ]
        },
        {
         "data": [
          {
           "line": {
            "color": "blue",
            "width": 1
           },
           "marker": {
            "size": 2
           },
           "mode": "lines+markers",
           "name": "V1",
           "type": "scatter",
           "x": [
            0,
            1
           ],
           "y": [
            0,
            0
           ]
          },
          {
           "line": {
            "color": "red",
            "width": 1
           },
           "marker": {
            "size": 2
           },
           "mode": "lines+markers",
           "name": "V2",
           "type": "scatter",
           "x": [
            0,
            0.7959183673469387
           ],
           "y": [
            0,
            1
           ]
          },
          {
           "line": {
            "color": "green",
            "width": 1
           },
           "marker": {
            "size": 2
           },
           "mode": "lines+markers",
           "name": "V1 + V2",
           "type": "scatter",
           "x": [
            0,
            1.7959183673469385
           ],
           "y": [
            0,
            1
           ]
          },
          {
           "fill": "toself",
           "fillcolor": "rgba(0, 100, 200, 0.2)",
           "line": {
            "color": "rgba(255,255,255,0)"
           },
           "name": "Area",
           "type": "scatter",
           "x": [
            0,
            1,
            1.7959183673469385,
            0.7959183673469387,
            0
           ],
           "y": [
            0,
            0,
            1,
            1,
            0
           ]
          }
         ]
        },
        {
         "data": [
          {
           "line": {
            "color": "blue",
            "width": 1
           },
           "marker": {
            "size": 2
           },
           "mode": "lines+markers",
           "name": "V1",
           "type": "scatter",
           "x": [
            0,
            1
           ],
           "y": [
            0,
            0
           ]
          },
          {
           "line": {
            "color": "red",
            "width": 1
           },
           "marker": {
            "size": 2
           },
           "mode": "lines+markers",
           "name": "V2",
           "type": "scatter",
           "x": [
            0,
            0.8163265306122448
           ],
           "y": [
            0,
            1
           ]
          },
          {
           "line": {
            "color": "green",
            "width": 1
           },
           "marker": {
            "size": 2
           },
           "mode": "lines+markers",
           "name": "V1 + V2",
           "type": "scatter",
           "x": [
            0,
            1.816326530612245
           ],
           "y": [
            0,
            1
           ]
          },
          {
           "fill": "toself",
           "fillcolor": "rgba(0, 100, 200, 0.2)",
           "line": {
            "color": "rgba(255,255,255,0)"
           },
           "name": "Area",
           "type": "scatter",
           "x": [
            0,
            1,
            1.816326530612245,
            0.8163265306122448,
            0
           ],
           "y": [
            0,
            0,
            1,
            1,
            0
           ]
          }
         ]
        },
        {
         "data": [
          {
           "line": {
            "color": "blue",
            "width": 1
           },
           "marker": {
            "size": 2
           },
           "mode": "lines+markers",
           "name": "V1",
           "type": "scatter",
           "x": [
            0,
            1
           ],
           "y": [
            0,
            0
           ]
          },
          {
           "line": {
            "color": "red",
            "width": 1
           },
           "marker": {
            "size": 2
           },
           "mode": "lines+markers",
           "name": "V2",
           "type": "scatter",
           "x": [
            0,
            0.836734693877551
           ],
           "y": [
            0,
            1
           ]
          },
          {
           "line": {
            "color": "green",
            "width": 1
           },
           "marker": {
            "size": 2
           },
           "mode": "lines+markers",
           "name": "V1 + V2",
           "type": "scatter",
           "x": [
            0,
            1.8367346938775508
           ],
           "y": [
            0,
            1
           ]
          },
          {
           "fill": "toself",
           "fillcolor": "rgba(0, 100, 200, 0.2)",
           "line": {
            "color": "rgba(255,255,255,0)"
           },
           "name": "Area",
           "type": "scatter",
           "x": [
            0,
            1,
            1.8367346938775508,
            0.836734693877551,
            0
           ],
           "y": [
            0,
            0,
            1,
            1,
            0
           ]
          }
         ]
        },
        {
         "data": [
          {
           "line": {
            "color": "blue",
            "width": 1
           },
           "marker": {
            "size": 2
           },
           "mode": "lines+markers",
           "name": "V1",
           "type": "scatter",
           "x": [
            0,
            1
           ],
           "y": [
            0,
            0
           ]
          },
          {
           "line": {
            "color": "red",
            "width": 1
           },
           "marker": {
            "size": 2
           },
           "mode": "lines+markers",
           "name": "V2",
           "type": "scatter",
           "x": [
            0,
            0.8571428571428571
           ],
           "y": [
            0,
            1
           ]
          },
          {
           "line": {
            "color": "green",
            "width": 1
           },
           "marker": {
            "size": 2
           },
           "mode": "lines+markers",
           "name": "V1 + V2",
           "type": "scatter",
           "x": [
            0,
            1.8571428571428572
           ],
           "y": [
            0,
            1
           ]
          },
          {
           "fill": "toself",
           "fillcolor": "rgba(0, 100, 200, 0.2)",
           "line": {
            "color": "rgba(255,255,255,0)"
           },
           "name": "Area",
           "type": "scatter",
           "x": [
            0,
            1,
            1.8571428571428572,
            0.8571428571428571,
            0
           ],
           "y": [
            0,
            0,
            1,
            1,
            0
           ]
          }
         ]
        },
        {
         "data": [
          {
           "line": {
            "color": "blue",
            "width": 1
           },
           "marker": {
            "size": 2
           },
           "mode": "lines+markers",
           "name": "V1",
           "type": "scatter",
           "x": [
            0,
            1
           ],
           "y": [
            0,
            0
           ]
          },
          {
           "line": {
            "color": "red",
            "width": 1
           },
           "marker": {
            "size": 2
           },
           "mode": "lines+markers",
           "name": "V2",
           "type": "scatter",
           "x": [
            0,
            0.8775510204081632
           ],
           "y": [
            0,
            1
           ]
          },
          {
           "line": {
            "color": "green",
            "width": 1
           },
           "marker": {
            "size": 2
           },
           "mode": "lines+markers",
           "name": "V1 + V2",
           "type": "scatter",
           "x": [
            0,
            1.8775510204081631
           ],
           "y": [
            0,
            1
           ]
          },
          {
           "fill": "toself",
           "fillcolor": "rgba(0, 100, 200, 0.2)",
           "line": {
            "color": "rgba(255,255,255,0)"
           },
           "name": "Area",
           "type": "scatter",
           "x": [
            0,
            1,
            1.8775510204081631,
            0.8775510204081632,
            0
           ],
           "y": [
            0,
            0,
            1,
            1,
            0
           ]
          }
         ]
        },
        {
         "data": [
          {
           "line": {
            "color": "blue",
            "width": 1
           },
           "marker": {
            "size": 2
           },
           "mode": "lines+markers",
           "name": "V1",
           "type": "scatter",
           "x": [
            0,
            1
           ],
           "y": [
            0,
            0
           ]
          },
          {
           "line": {
            "color": "red",
            "width": 1
           },
           "marker": {
            "size": 2
           },
           "mode": "lines+markers",
           "name": "V2",
           "type": "scatter",
           "x": [
            0,
            0.8979591836734693
           ],
           "y": [
            0,
            1
           ]
          },
          {
           "line": {
            "color": "green",
            "width": 1
           },
           "marker": {
            "size": 2
           },
           "mode": "lines+markers",
           "name": "V1 + V2",
           "type": "scatter",
           "x": [
            0,
            1.8979591836734693
           ],
           "y": [
            0,
            1
           ]
          },
          {
           "fill": "toself",
           "fillcolor": "rgba(0, 100, 200, 0.2)",
           "line": {
            "color": "rgba(255,255,255,0)"
           },
           "name": "Area",
           "type": "scatter",
           "x": [
            0,
            1,
            1.8979591836734693,
            0.8979591836734693,
            0
           ],
           "y": [
            0,
            0,
            1,
            1,
            0
           ]
          }
         ]
        },
        {
         "data": [
          {
           "line": {
            "color": "blue",
            "width": 1
           },
           "marker": {
            "size": 2
           },
           "mode": "lines+markers",
           "name": "V1",
           "type": "scatter",
           "x": [
            0,
            1
           ],
           "y": [
            0,
            0
           ]
          },
          {
           "line": {
            "color": "red",
            "width": 1
           },
           "marker": {
            "size": 2
           },
           "mode": "lines+markers",
           "name": "V2",
           "type": "scatter",
           "x": [
            0,
            0.9183673469387754
           ],
           "y": [
            0,
            1
           ]
          },
          {
           "line": {
            "color": "green",
            "width": 1
           },
           "marker": {
            "size": 2
           },
           "mode": "lines+markers",
           "name": "V1 + V2",
           "type": "scatter",
           "x": [
            0,
            1.9183673469387754
           ],
           "y": [
            0,
            1
           ]
          },
          {
           "fill": "toself",
           "fillcolor": "rgba(0, 100, 200, 0.2)",
           "line": {
            "color": "rgba(255,255,255,0)"
           },
           "name": "Area",
           "type": "scatter",
           "x": [
            0,
            1,
            1.9183673469387754,
            0.9183673469387754,
            0
           ],
           "y": [
            0,
            0,
            1,
            1,
            0
           ]
          }
         ]
        },
        {
         "data": [
          {
           "line": {
            "color": "blue",
            "width": 1
           },
           "marker": {
            "size": 2
           },
           "mode": "lines+markers",
           "name": "V1",
           "type": "scatter",
           "x": [
            0,
            1
           ],
           "y": [
            0,
            0
           ]
          },
          {
           "line": {
            "color": "red",
            "width": 1
           },
           "marker": {
            "size": 2
           },
           "mode": "lines+markers",
           "name": "V2",
           "type": "scatter",
           "x": [
            0,
            0.9387755102040816
           ],
           "y": [
            0,
            1
           ]
          },
          {
           "line": {
            "color": "green",
            "width": 1
           },
           "marker": {
            "size": 2
           },
           "mode": "lines+markers",
           "name": "V1 + V2",
           "type": "scatter",
           "x": [
            0,
            1.9387755102040816
           ],
           "y": [
            0,
            1
           ]
          },
          {
           "fill": "toself",
           "fillcolor": "rgba(0, 100, 200, 0.2)",
           "line": {
            "color": "rgba(255,255,255,0)"
           },
           "name": "Area",
           "type": "scatter",
           "x": [
            0,
            1,
            1.9387755102040816,
            0.9387755102040816,
            0
           ],
           "y": [
            0,
            0,
            1,
            1,
            0
           ]
          }
         ]
        },
        {
         "data": [
          {
           "line": {
            "color": "blue",
            "width": 1
           },
           "marker": {
            "size": 2
           },
           "mode": "lines+markers",
           "name": "V1",
           "type": "scatter",
           "x": [
            0,
            1
           ],
           "y": [
            0,
            0
           ]
          },
          {
           "line": {
            "color": "red",
            "width": 1
           },
           "marker": {
            "size": 2
           },
           "mode": "lines+markers",
           "name": "V2",
           "type": "scatter",
           "x": [
            0,
            0.9591836734693877
           ],
           "y": [
            0,
            1
           ]
          },
          {
           "line": {
            "color": "green",
            "width": 1
           },
           "marker": {
            "size": 2
           },
           "mode": "lines+markers",
           "name": "V1 + V2",
           "type": "scatter",
           "x": [
            0,
            1.9591836734693877
           ],
           "y": [
            0,
            1
           ]
          },
          {
           "fill": "toself",
           "fillcolor": "rgba(0, 100, 200, 0.2)",
           "line": {
            "color": "rgba(255,255,255,0)"
           },
           "name": "Area",
           "type": "scatter",
           "x": [
            0,
            1,
            1.9591836734693877,
            0.9591836734693877,
            0
           ],
           "y": [
            0,
            0,
            1,
            1,
            0
           ]
          }
         ]
        },
        {
         "data": [
          {
           "line": {
            "color": "blue",
            "width": 1
           },
           "marker": {
            "size": 2
           },
           "mode": "lines+markers",
           "name": "V1",
           "type": "scatter",
           "x": [
            0,
            1
           ],
           "y": [
            0,
            0
           ]
          },
          {
           "line": {
            "color": "red",
            "width": 1
           },
           "marker": {
            "size": 2
           },
           "mode": "lines+markers",
           "name": "V2",
           "type": "scatter",
           "x": [
            0,
            0.9795918367346939
           ],
           "y": [
            0,
            1
           ]
          },
          {
           "line": {
            "color": "green",
            "width": 1
           },
           "marker": {
            "size": 2
           },
           "mode": "lines+markers",
           "name": "V1 + V2",
           "type": "scatter",
           "x": [
            0,
            1.9795918367346939
           ],
           "y": [
            0,
            1
           ]
          },
          {
           "fill": "toself",
           "fillcolor": "rgba(0, 100, 200, 0.2)",
           "line": {
            "color": "rgba(255,255,255,0)"
           },
           "name": "Area",
           "type": "scatter",
           "x": [
            0,
            1,
            1.9795918367346939,
            0.9795918367346939,
            0
           ],
           "y": [
            0,
            0,
            1,
            1,
            0
           ]
          }
         ]
        },
        {
         "data": [
          {
           "line": {
            "color": "blue",
            "width": 1
           },
           "marker": {
            "size": 2
           },
           "mode": "lines+markers",
           "name": "V1",
           "type": "scatter",
           "x": [
            0,
            1
           ],
           "y": [
            0,
            0
           ]
          },
          {
           "line": {
            "color": "red",
            "width": 1
           },
           "marker": {
            "size": 2
           },
           "mode": "lines+markers",
           "name": "V2",
           "type": "scatter",
           "x": [
            0,
            1
           ],
           "y": [
            0,
            1
           ]
          },
          {
           "line": {
            "color": "green",
            "width": 1
           },
           "marker": {
            "size": 2
           },
           "mode": "lines+markers",
           "name": "V1 + V2",
           "type": "scatter",
           "x": [
            0,
            2
           ],
           "y": [
            0,
            1
           ]
          },
          {
           "fill": "toself",
           "fillcolor": "rgba(0, 100, 200, 0.2)",
           "line": {
            "color": "rgba(255,255,255,0)"
           },
           "name": "Area",
           "type": "scatter",
           "x": [
            0,
            1,
            2,
            1,
            0
           ],
           "y": [
            0,
            0,
            1,
            1,
            0
           ]
          }
         ]
        }
       ],
       "layout": {
        "height": 450,
        "showlegend": true,
        "template": {
         "data": {
          "bar": [
           {
            "error_x": {
             "color": "#2a3f5f"
            },
            "error_y": {
             "color": "#2a3f5f"
            },
            "marker": {
             "line": {
              "color": "#E5ECF6",
              "width": 0.5
             },
             "pattern": {
              "fillmode": "overlay",
              "size": 10,
              "solidity": 0.2
             }
            },
            "type": "bar"
           }
          ],
          "barpolar": [
           {
            "marker": {
             "line": {
              "color": "#E5ECF6",
              "width": 0.5
             },
             "pattern": {
              "fillmode": "overlay",
              "size": 10,
              "solidity": 0.2
             }
            },
            "type": "barpolar"
           }
          ],
          "carpet": [
           {
            "aaxis": {
             "endlinecolor": "#2a3f5f",
             "gridcolor": "white",
             "linecolor": "white",
             "minorgridcolor": "white",
             "startlinecolor": "#2a3f5f"
            },
            "baxis": {
             "endlinecolor": "#2a3f5f",
             "gridcolor": "white",
             "linecolor": "white",
             "minorgridcolor": "white",
             "startlinecolor": "#2a3f5f"
            },
            "type": "carpet"
           }
          ],
          "choropleth": [
           {
            "colorbar": {
             "outlinewidth": 0,
             "ticks": ""
            },
            "type": "choropleth"
           }
          ],
          "contour": [
           {
            "colorbar": {
             "outlinewidth": 0,
             "ticks": ""
            },
            "colorscale": [
             [
              0,
              "#0d0887"
             ],
             [
              0.1111111111111111,
              "#46039f"
             ],
             [
              0.2222222222222222,
              "#7201a8"
             ],
             [
              0.3333333333333333,
              "#9c179e"
             ],
             [
              0.4444444444444444,
              "#bd3786"
             ],
             [
              0.5555555555555556,
              "#d8576b"
             ],
             [
              0.6666666666666666,
              "#ed7953"
             ],
             [
              0.7777777777777778,
              "#fb9f3a"
             ],
             [
              0.8888888888888888,
              "#fdca26"
             ],
             [
              1,
              "#f0f921"
             ]
            ],
            "type": "contour"
           }
          ],
          "contourcarpet": [
           {
            "colorbar": {
             "outlinewidth": 0,
             "ticks": ""
            },
            "type": "contourcarpet"
           }
          ],
          "heatmap": [
           {
            "colorbar": {
             "outlinewidth": 0,
             "ticks": ""
            },
            "colorscale": [
             [
              0,
              "#0d0887"
             ],
             [
              0.1111111111111111,
              "#46039f"
             ],
             [
              0.2222222222222222,
              "#7201a8"
             ],
             [
              0.3333333333333333,
              "#9c179e"
             ],
             [
              0.4444444444444444,
              "#bd3786"
             ],
             [
              0.5555555555555556,
              "#d8576b"
             ],
             [
              0.6666666666666666,
              "#ed7953"
             ],
             [
              0.7777777777777778,
              "#fb9f3a"
             ],
             [
              0.8888888888888888,
              "#fdca26"
             ],
             [
              1,
              "#f0f921"
             ]
            ],
            "type": "heatmap"
           }
          ],
          "heatmapgl": [
           {
            "colorbar": {
             "outlinewidth": 0,
             "ticks": ""
            },
            "colorscale": [
             [
              0,
              "#0d0887"
             ],
             [
              0.1111111111111111,
              "#46039f"
             ],
             [
              0.2222222222222222,
              "#7201a8"
             ],
             [
              0.3333333333333333,
              "#9c179e"
             ],
             [
              0.4444444444444444,
              "#bd3786"
             ],
             [
              0.5555555555555556,
              "#d8576b"
             ],
             [
              0.6666666666666666,
              "#ed7953"
             ],
             [
              0.7777777777777778,
              "#fb9f3a"
             ],
             [
              0.8888888888888888,
              "#fdca26"
             ],
             [
              1,
              "#f0f921"
             ]
            ],
            "type": "heatmapgl"
           }
          ],
          "histogram": [
           {
            "marker": {
             "pattern": {
              "fillmode": "overlay",
              "size": 10,
              "solidity": 0.2
             }
            },
            "type": "histogram"
           }
          ],
          "histogram2d": [
           {
            "colorbar": {
             "outlinewidth": 0,
             "ticks": ""
            },
            "colorscale": [
             [
              0,
              "#0d0887"
             ],
             [
              0.1111111111111111,
              "#46039f"
             ],
             [
              0.2222222222222222,
              "#7201a8"
             ],
             [
              0.3333333333333333,
              "#9c179e"
             ],
             [
              0.4444444444444444,
              "#bd3786"
             ],
             [
              0.5555555555555556,
              "#d8576b"
             ],
             [
              0.6666666666666666,
              "#ed7953"
             ],
             [
              0.7777777777777778,
              "#fb9f3a"
             ],
             [
              0.8888888888888888,
              "#fdca26"
             ],
             [
              1,
              "#f0f921"
             ]
            ],
            "type": "histogram2d"
           }
          ],
          "histogram2dcontour": [
           {
            "colorbar": {
             "outlinewidth": 0,
             "ticks": ""
            },
            "colorscale": [
             [
              0,
              "#0d0887"
             ],
             [
              0.1111111111111111,
              "#46039f"
             ],
             [
              0.2222222222222222,
              "#7201a8"
             ],
             [
              0.3333333333333333,
              "#9c179e"
             ],
             [
              0.4444444444444444,
              "#bd3786"
             ],
             [
              0.5555555555555556,
              "#d8576b"
             ],
             [
              0.6666666666666666,
              "#ed7953"
             ],
             [
              0.7777777777777778,
              "#fb9f3a"
             ],
             [
              0.8888888888888888,
              "#fdca26"
             ],
             [
              1,
              "#f0f921"
             ]
            ],
            "type": "histogram2dcontour"
           }
          ],
          "mesh3d": [
           {
            "colorbar": {
             "outlinewidth": 0,
             "ticks": ""
            },
            "type": "mesh3d"
           }
          ],
          "parcoords": [
           {
            "line": {
             "colorbar": {
              "outlinewidth": 0,
              "ticks": ""
             }
            },
            "type": "parcoords"
           }
          ],
          "pie": [
           {
            "automargin": true,
            "type": "pie"
           }
          ],
          "scatter": [
           {
            "fillpattern": {
             "fillmode": "overlay",
             "size": 10,
             "solidity": 0.2
            },
            "type": "scatter"
           }
          ],
          "scatter3d": [
           {
            "line": {
             "colorbar": {
              "outlinewidth": 0,
              "ticks": ""
             }
            },
            "marker": {
             "colorbar": {
              "outlinewidth": 0,
              "ticks": ""
             }
            },
            "type": "scatter3d"
           }
          ],
          "scattercarpet": [
           {
            "marker": {
             "colorbar": {
              "outlinewidth": 0,
              "ticks": ""
             }
            },
            "type": "scattercarpet"
           }
          ],
          "scattergeo": [
           {
            "marker": {
             "colorbar": {
              "outlinewidth": 0,
              "ticks": ""
             }
            },
            "type": "scattergeo"
           }
          ],
          "scattergl": [
           {
            "marker": {
             "colorbar": {
              "outlinewidth": 0,
              "ticks": ""
             }
            },
            "type": "scattergl"
           }
          ],
          "scattermapbox": [
           {
            "marker": {
             "colorbar": {
              "outlinewidth": 0,
              "ticks": ""
             }
            },
            "type": "scattermapbox"
           }
          ],
          "scatterpolar": [
           {
            "marker": {
             "colorbar": {
              "outlinewidth": 0,
              "ticks": ""
             }
            },
            "type": "scatterpolar"
           }
          ],
          "scatterpolargl": [
           {
            "marker": {
             "colorbar": {
              "outlinewidth": 0,
              "ticks": ""
             }
            },
            "type": "scatterpolargl"
           }
          ],
          "scatterternary": [
           {
            "marker": {
             "colorbar": {
              "outlinewidth": 0,
              "ticks": ""
             }
            },
            "type": "scatterternary"
           }
          ],
          "surface": [
           {
            "colorbar": {
             "outlinewidth": 0,
             "ticks": ""
            },
            "colorscale": [
             [
              0,
              "#0d0887"
             ],
             [
              0.1111111111111111,
              "#46039f"
             ],
             [
              0.2222222222222222,
              "#7201a8"
             ],
             [
              0.3333333333333333,
              "#9c179e"
             ],
             [
              0.4444444444444444,
              "#bd3786"
             ],
             [
              0.5555555555555556,
              "#d8576b"
             ],
             [
              0.6666666666666666,
              "#ed7953"
             ],
             [
              0.7777777777777778,
              "#fb9f3a"
             ],
             [
              0.8888888888888888,
              "#fdca26"
             ],
             [
              1,
              "#f0f921"
             ]
            ],
            "type": "surface"
           }
          ],
          "table": [
           {
            "cells": {
             "fill": {
              "color": "#EBF0F8"
             },
             "line": {
              "color": "white"
             }
            },
            "header": {
             "fill": {
              "color": "#C8D4E3"
             },
             "line": {
              "color": "white"
             }
            },
            "type": "table"
           }
          ]
         },
         "layout": {
          "annotationdefaults": {
           "arrowcolor": "#2a3f5f",
           "arrowhead": 0,
           "arrowwidth": 1
          },
          "autotypenumbers": "strict",
          "coloraxis": {
           "colorbar": {
            "outlinewidth": 0,
            "ticks": ""
           }
          },
          "colorscale": {
           "diverging": [
            [
             0,
             "#8e0152"
            ],
            [
             0.1,
             "#c51b7d"
            ],
            [
             0.2,
             "#de77ae"
            ],
            [
             0.3,
             "#f1b6da"
            ],
            [
             0.4,
             "#fde0ef"
            ],
            [
             0.5,
             "#f7f7f7"
            ],
            [
             0.6,
             "#e6f5d0"
            ],
            [
             0.7,
             "#b8e186"
            ],
            [
             0.8,
             "#7fbc41"
            ],
            [
             0.9,
             "#4d9221"
            ],
            [
             1,
             "#276419"
            ]
           ],
           "sequential": [
            [
             0,
             "#0d0887"
            ],
            [
             0.1111111111111111,
             "#46039f"
            ],
            [
             0.2222222222222222,
             "#7201a8"
            ],
            [
             0.3333333333333333,
             "#9c179e"
            ],
            [
             0.4444444444444444,
             "#bd3786"
            ],
            [
             0.5555555555555556,
             "#d8576b"
            ],
            [
             0.6666666666666666,
             "#ed7953"
            ],
            [
             0.7777777777777778,
             "#fb9f3a"
            ],
            [
             0.8888888888888888,
             "#fdca26"
            ],
            [
             1,
             "#f0f921"
            ]
           ],
           "sequentialminus": [
            [
             0,
             "#0d0887"
            ],
            [
             0.1111111111111111,
             "#46039f"
            ],
            [
             0.2222222222222222,
             "#7201a8"
            ],
            [
             0.3333333333333333,
             "#9c179e"
            ],
            [
             0.4444444444444444,
             "#bd3786"
            ],
            [
             0.5555555555555556,
             "#d8576b"
            ],
            [
             0.6666666666666666,
             "#ed7953"
            ],
            [
             0.7777777777777778,
             "#fb9f3a"
            ],
            [
             0.8888888888888888,
             "#fdca26"
            ],
            [
             1,
             "#f0f921"
            ]
           ]
          },
          "colorway": [
           "#636efa",
           "#EF553B",
           "#00cc96",
           "#ab63fa",
           "#FFA15A",
           "#19d3f3",
           "#FF6692",
           "#B6E880",
           "#FF97FF",
           "#FECB52"
          ],
          "font": {
           "color": "#2a3f5f"
          },
          "geo": {
           "bgcolor": "white",
           "lakecolor": "white",
           "landcolor": "#E5ECF6",
           "showlakes": true,
           "showland": true,
           "subunitcolor": "white"
          },
          "hoverlabel": {
           "align": "left"
          },
          "hovermode": "closest",
          "mapbox": {
           "style": "light"
          },
          "paper_bgcolor": "white",
          "plot_bgcolor": "#E5ECF6",
          "polar": {
           "angularaxis": {
            "gridcolor": "white",
            "linecolor": "white",
            "ticks": ""
           },
           "bgcolor": "#E5ECF6",
           "radialaxis": {
            "gridcolor": "white",
            "linecolor": "white",
            "ticks": ""
           }
          },
          "scene": {
           "xaxis": {
            "backgroundcolor": "#E5ECF6",
            "gridcolor": "white",
            "gridwidth": 2,
            "linecolor": "white",
            "showbackground": true,
            "ticks": "",
            "zerolinecolor": "white"
           },
           "yaxis": {
            "backgroundcolor": "#E5ECF6",
            "gridcolor": "white",
            "gridwidth": 2,
            "linecolor": "white",
            "showbackground": true,
            "ticks": "",
            "zerolinecolor": "white"
           },
           "zaxis": {
            "backgroundcolor": "#E5ECF6",
            "gridcolor": "white",
            "gridwidth": 2,
            "linecolor": "white",
            "showbackground": true,
            "ticks": "",
            "zerolinecolor": "white"
           }
          },
          "shapedefaults": {
           "line": {
            "color": "#2a3f5f"
           }
          },
          "ternary": {
           "aaxis": {
            "gridcolor": "white",
            "linecolor": "white",
            "ticks": ""
           },
           "baxis": {
            "gridcolor": "white",
            "linecolor": "white",
            "ticks": ""
           },
           "bgcolor": "#E5ECF6",
           "caxis": {
            "gridcolor": "white",
            "linecolor": "white",
            "ticks": ""
           }
          },
          "title": {
           "x": 0.05
          },
          "xaxis": {
           "automargin": true,
           "gridcolor": "white",
           "linecolor": "white",
           "ticks": "",
           "title": {
            "standoff": 15
           },
           "zerolinecolor": "white",
           "zerolinewidth": 2
          },
          "yaxis": {
           "automargin": true,
           "gridcolor": "white",
           "linecolor": "white",
           "ticks": "",
           "title": {
            "standoff": 15
           },
           "zerolinecolor": "white",
           "zerolinewidth": 2
          }
         }
        },
        "title": {
         "text": "Area and stretching in the x direction"
        },
        "updatemenus": [
         {
          "buttons": [
           {
            "args": [
             null,
             {
              "frame": {
               "duration": 50,
               "redraw": false
              },
              "fromcurrent": true,
              "transition": {
               "duration": 10
              }
             }
            ],
            "label": "Play",
            "method": "animate"
           }
          ],
          "type": "buttons"
         }
        ],
        "width": 600,
        "xaxis": {
         "range": [
          -2.3,
          2.3
         ],
         "title": {
          "text": "x"
         }
        },
        "yaxis": {
         "range": [
          -2.3,
          2.3
         ],
         "title": {
          "text": "y"
         }
        }
       }
      }
     },
     "metadata": {},
     "output_type": "display_data"
    }
   ],
   "source": [
    "# Sheer in the x direction\n",
    "\n",
    "fig4 = create_animation(unit1, unit2, [\n",
    "    np.array([[1, x], [0, 1]]) for x in np.linspace(0, 1, 50)\n",
    "])\n",
    "fig4.show()"
   ]
  },
  {
   "cell_type": "code",
   "execution_count": null,
   "id": "251dbdf2",
   "metadata": {},
   "outputs": [
    {
     "data": {
      "application/vnd.plotly.v1+json": {
       "config": {
        "plotlyServerURL": "https://plot.ly"
       },
       "data": [
        {
         "line": {
          "color": "blue",
          "width": 1
         },
         "marker": {
          "size": 2
         },
         "mode": "lines+markers",
         "name": "V1",
         "type": "scatter",
         "x": [
          0,
          1
         ],
         "y": [
          0,
          0
         ]
        },
        {
         "line": {
          "color": "red",
          "width": 1
         },
         "marker": {
          "size": 2
         },
         "mode": "lines+markers",
         "name": "V2",
         "type": "scatter",
         "x": [
          0,
          0
         ],
         "y": [
          0,
          1
         ]
        },
        {
         "line": {
          "color": "green",
          "width": 1
         },
         "marker": {
          "size": 2
         },
         "mode": "lines+markers",
         "name": "V1 + V2",
         "type": "scatter",
         "x": [
          0,
          1
         ],
         "y": [
          0,
          1
         ]
        },
        {
         "fill": "toself",
         "fillcolor": "rgba(0, 100, 200, 0.2)",
         "line": {
          "color": "rgba(255,255,255,0)"
         },
         "name": "Area",
         "type": "scatter",
         "x": [
          0,
          1,
          1,
          0,
          0
         ],
         "y": [
          0,
          0,
          1,
          1,
          0
         ]
        }
       ],
       "frames": [
        {
         "data": [
          {
           "line": {
            "color": "blue",
            "width": 1
           },
           "marker": {
            "size": 2
           },
           "mode": "lines+markers",
           "name": "V1",
           "type": "scatter",
           "x": [
            0,
            1
           ],
           "y": [
            0,
            0
           ]
          },
          {
           "line": {
            "color": "red",
            "width": 1
           },
           "marker": {
            "size": 2
           },
           "mode": "lines+markers",
           "name": "V2",
           "type": "scatter",
           "x": [
            0,
            0
           ],
           "y": [
            0,
            1
           ]
          },
          {
           "line": {
            "color": "green",
            "width": 1
           },
           "marker": {
            "size": 2
           },
           "mode": "lines+markers",
           "name": "V1 + V2",
           "type": "scatter",
           "x": [
            0,
            1
           ],
           "y": [
            0,
            1
           ]
          },
          {
           "fill": "toself",
           "fillcolor": "rgba(0, 100, 200, 0.2)",
           "line": {
            "color": "rgba(255,255,255,0)"
           },
           "name": "Area",
           "type": "scatter",
           "x": [
            0,
            1,
            1,
            0,
            0
           ],
           "y": [
            0,
            0,
            1,
            1,
            0
           ]
          }
         ]
        },
        {
         "data": [
          {
           "line": {
            "color": "blue",
            "width": 1
           },
           "marker": {
            "size": 2
           },
           "mode": "lines+markers",
           "name": "V1",
           "type": "scatter",
           "x": [
            0,
            1
           ],
           "y": [
            0,
            0.02040816326530612
           ]
          },
          {
           "line": {
            "color": "red",
            "width": 1
           },
           "marker": {
            "size": 2
           },
           "mode": "lines+markers",
           "name": "V2",
           "type": "scatter",
           "x": [
            0,
            0
           ],
           "y": [
            0,
            1
           ]
          },
          {
           "line": {
            "color": "green",
            "width": 1
           },
           "marker": {
            "size": 2
           },
           "mode": "lines+markers",
           "name": "V1 + V2",
           "type": "scatter",
           "x": [
            0,
            1
           ],
           "y": [
            0,
            1.0204081632653061
           ]
          },
          {
           "fill": "toself",
           "fillcolor": "rgba(0, 100, 200, 0.2)",
           "line": {
            "color": "rgba(255,255,255,0)"
           },
           "name": "Area",
           "type": "scatter",
           "x": [
            0,
            1,
            1,
            0,
            0
           ],
           "y": [
            0,
            0.02040816326530612,
            1.0204081632653061,
            1,
            0
           ]
          }
         ]
        },
        {
         "data": [
          {
           "line": {
            "color": "blue",
            "width": 1
           },
           "marker": {
            "size": 2
           },
           "mode": "lines+markers",
           "name": "V1",
           "type": "scatter",
           "x": [
            0,
            1
           ],
           "y": [
            0,
            0.04081632653061224
           ]
          },
          {
           "line": {
            "color": "red",
            "width": 1
           },
           "marker": {
            "size": 2
           },
           "mode": "lines+markers",
           "name": "V2",
           "type": "scatter",
           "x": [
            0,
            0
           ],
           "y": [
            0,
            1
           ]
          },
          {
           "line": {
            "color": "green",
            "width": 1
           },
           "marker": {
            "size": 2
           },
           "mode": "lines+markers",
           "name": "V1 + V2",
           "type": "scatter",
           "x": [
            0,
            1
           ],
           "y": [
            0,
            1.0408163265306123
           ]
          },
          {
           "fill": "toself",
           "fillcolor": "rgba(0, 100, 200, 0.2)",
           "line": {
            "color": "rgba(255,255,255,0)"
           },
           "name": "Area",
           "type": "scatter",
           "x": [
            0,
            1,
            1,
            0,
            0
           ],
           "y": [
            0,
            0.04081632653061224,
            1.0408163265306123,
            1,
            0
           ]
          }
         ]
        },
        {
         "data": [
          {
           "line": {
            "color": "blue",
            "width": 1
           },
           "marker": {
            "size": 2
           },
           "mode": "lines+markers",
           "name": "V1",
           "type": "scatter",
           "x": [
            0,
            1
           ],
           "y": [
            0,
            0.061224489795918366
           ]
          },
          {
           "line": {
            "color": "red",
            "width": 1
           },
           "marker": {
            "size": 2
           },
           "mode": "lines+markers",
           "name": "V2",
           "type": "scatter",
           "x": [
            0,
            0
           ],
           "y": [
            0,
            1
           ]
          },
          {
           "line": {
            "color": "green",
            "width": 1
           },
           "marker": {
            "size": 2
           },
           "mode": "lines+markers",
           "name": "V1 + V2",
           "type": "scatter",
           "x": [
            0,
            1
           ],
           "y": [
            0,
            1.0612244897959184
           ]
          },
          {
           "fill": "toself",
           "fillcolor": "rgba(0, 100, 200, 0.2)",
           "line": {
            "color": "rgba(255,255,255,0)"
           },
           "name": "Area",
           "type": "scatter",
           "x": [
            0,
            1,
            1,
            0,
            0
           ],
           "y": [
            0,
            0.061224489795918366,
            1.0612244897959184,
            1,
            0
           ]
          }
         ]
        },
        {
         "data": [
          {
           "line": {
            "color": "blue",
            "width": 1
           },
           "marker": {
            "size": 2
           },
           "mode": "lines+markers",
           "name": "V1",
           "type": "scatter",
           "x": [
            0,
            1
           ],
           "y": [
            0,
            0.08163265306122448
           ]
          },
          {
           "line": {
            "color": "red",
            "width": 1
           },
           "marker": {
            "size": 2
           },
           "mode": "lines+markers",
           "name": "V2",
           "type": "scatter",
           "x": [
            0,
            0
           ],
           "y": [
            0,
            1
           ]
          },
          {
           "line": {
            "color": "green",
            "width": 1
           },
           "marker": {
            "size": 2
           },
           "mode": "lines+markers",
           "name": "V1 + V2",
           "type": "scatter",
           "x": [
            0,
            1
           ],
           "y": [
            0,
            1.0816326530612246
           ]
          },
          {
           "fill": "toself",
           "fillcolor": "rgba(0, 100, 200, 0.2)",
           "line": {
            "color": "rgba(255,255,255,0)"
           },
           "name": "Area",
           "type": "scatter",
           "x": [
            0,
            1,
            1,
            0,
            0
           ],
           "y": [
            0,
            0.08163265306122448,
            1.0816326530612246,
            1,
            0
           ]
          }
         ]
        },
        {
         "data": [
          {
           "line": {
            "color": "blue",
            "width": 1
           },
           "marker": {
            "size": 2
           },
           "mode": "lines+markers",
           "name": "V1",
           "type": "scatter",
           "x": [
            0,
            1
           ],
           "y": [
            0,
            0.1020408163265306
           ]
          },
          {
           "line": {
            "color": "red",
            "width": 1
           },
           "marker": {
            "size": 2
           },
           "mode": "lines+markers",
           "name": "V2",
           "type": "scatter",
           "x": [
            0,
            0
           ],
           "y": [
            0,
            1
           ]
          },
          {
           "line": {
            "color": "green",
            "width": 1
           },
           "marker": {
            "size": 2
           },
           "mode": "lines+markers",
           "name": "V1 + V2",
           "type": "scatter",
           "x": [
            0,
            1
           ],
           "y": [
            0,
            1.1020408163265305
           ]
          },
          {
           "fill": "toself",
           "fillcolor": "rgba(0, 100, 200, 0.2)",
           "line": {
            "color": "rgba(255,255,255,0)"
           },
           "name": "Area",
           "type": "scatter",
           "x": [
            0,
            1,
            1,
            0,
            0
           ],
           "y": [
            0,
            0.1020408163265306,
            1.1020408163265305,
            1,
            0
           ]
          }
         ]
        },
        {
         "data": [
          {
           "line": {
            "color": "blue",
            "width": 1
           },
           "marker": {
            "size": 2
           },
           "mode": "lines+markers",
           "name": "V1",
           "type": "scatter",
           "x": [
            0,
            1
           ],
           "y": [
            0,
            0.12244897959183673
           ]
          },
          {
           "line": {
            "color": "red",
            "width": 1
           },
           "marker": {
            "size": 2
           },
           "mode": "lines+markers",
           "name": "V2",
           "type": "scatter",
           "x": [
            0,
            0
           ],
           "y": [
            0,
            1
           ]
          },
          {
           "line": {
            "color": "green",
            "width": 1
           },
           "marker": {
            "size": 2
           },
           "mode": "lines+markers",
           "name": "V1 + V2",
           "type": "scatter",
           "x": [
            0,
            1
           ],
           "y": [
            0,
            1.1224489795918366
           ]
          },
          {
           "fill": "toself",
           "fillcolor": "rgba(0, 100, 200, 0.2)",
           "line": {
            "color": "rgba(255,255,255,0)"
           },
           "name": "Area",
           "type": "scatter",
           "x": [
            0,
            1,
            1,
            0,
            0
           ],
           "y": [
            0,
            0.12244897959183673,
            1.1224489795918366,
            1,
            0
           ]
          }
         ]
        },
        {
         "data": [
          {
           "line": {
            "color": "blue",
            "width": 1
           },
           "marker": {
            "size": 2
           },
           "mode": "lines+markers",
           "name": "V1",
           "type": "scatter",
           "x": [
            0,
            1
           ],
           "y": [
            0,
            0.14285714285714285
           ]
          },
          {
           "line": {
            "color": "red",
            "width": 1
           },
           "marker": {
            "size": 2
           },
           "mode": "lines+markers",
           "name": "V2",
           "type": "scatter",
           "x": [
            0,
            0
           ],
           "y": [
            0,
            1
           ]
          },
          {
           "line": {
            "color": "green",
            "width": 1
           },
           "marker": {
            "size": 2
           },
           "mode": "lines+markers",
           "name": "V1 + V2",
           "type": "scatter",
           "x": [
            0,
            1
           ],
           "y": [
            0,
            1.1428571428571428
           ]
          },
          {
           "fill": "toself",
           "fillcolor": "rgba(0, 100, 200, 0.2)",
           "line": {
            "color": "rgba(255,255,255,0)"
           },
           "name": "Area",
           "type": "scatter",
           "x": [
            0,
            1,
            1,
            0,
            0
           ],
           "y": [
            0,
            0.14285714285714285,
            1.1428571428571428,
            1,
            0
           ]
          }
         ]
        },
        {
         "data": [
          {
           "line": {
            "color": "blue",
            "width": 1
           },
           "marker": {
            "size": 2
           },
           "mode": "lines+markers",
           "name": "V1",
           "type": "scatter",
           "x": [
            0,
            1
           ],
           "y": [
            0,
            0.16326530612244897
           ]
          },
          {
           "line": {
            "color": "red",
            "width": 1
           },
           "marker": {
            "size": 2
           },
           "mode": "lines+markers",
           "name": "V2",
           "type": "scatter",
           "x": [
            0,
            0
           ],
           "y": [
            0,
            1
           ]
          },
          {
           "line": {
            "color": "green",
            "width": 1
           },
           "marker": {
            "size": 2
           },
           "mode": "lines+markers",
           "name": "V1 + V2",
           "type": "scatter",
           "x": [
            0,
            1
           ],
           "y": [
            0,
            1.163265306122449
           ]
          },
          {
           "fill": "toself",
           "fillcolor": "rgba(0, 100, 200, 0.2)",
           "line": {
            "color": "rgba(255,255,255,0)"
           },
           "name": "Area",
           "type": "scatter",
           "x": [
            0,
            1,
            1,
            0,
            0
           ],
           "y": [
            0,
            0.16326530612244897,
            1.163265306122449,
            1,
            0
           ]
          }
         ]
        },
        {
         "data": [
          {
           "line": {
            "color": "blue",
            "width": 1
           },
           "marker": {
            "size": 2
           },
           "mode": "lines+markers",
           "name": "V1",
           "type": "scatter",
           "x": [
            0,
            1
           ],
           "y": [
            0,
            0.18367346938775508
           ]
          },
          {
           "line": {
            "color": "red",
            "width": 1
           },
           "marker": {
            "size": 2
           },
           "mode": "lines+markers",
           "name": "V2",
           "type": "scatter",
           "x": [
            0,
            0
           ],
           "y": [
            0,
            1
           ]
          },
          {
           "line": {
            "color": "green",
            "width": 1
           },
           "marker": {
            "size": 2
           },
           "mode": "lines+markers",
           "name": "V1 + V2",
           "type": "scatter",
           "x": [
            0,
            1
           ],
           "y": [
            0,
            1.183673469387755
           ]
          },
          {
           "fill": "toself",
           "fillcolor": "rgba(0, 100, 200, 0.2)",
           "line": {
            "color": "rgba(255,255,255,0)"
           },
           "name": "Area",
           "type": "scatter",
           "x": [
            0,
            1,
            1,
            0,
            0
           ],
           "y": [
            0,
            0.18367346938775508,
            1.183673469387755,
            1,
            0
           ]
          }
         ]
        },
        {
         "data": [
          {
           "line": {
            "color": "blue",
            "width": 1
           },
           "marker": {
            "size": 2
           },
           "mode": "lines+markers",
           "name": "V1",
           "type": "scatter",
           "x": [
            0,
            1
           ],
           "y": [
            0,
            0.2040816326530612
           ]
          },
          {
           "line": {
            "color": "red",
            "width": 1
           },
           "marker": {
            "size": 2
           },
           "mode": "lines+markers",
           "name": "V2",
           "type": "scatter",
           "x": [
            0,
            0
           ],
           "y": [
            0,
            1
           ]
          },
          {
           "line": {
            "color": "green",
            "width": 1
           },
           "marker": {
            "size": 2
           },
           "mode": "lines+markers",
           "name": "V1 + V2",
           "type": "scatter",
           "x": [
            0,
            1
           ],
           "y": [
            0,
            1.2040816326530612
           ]
          },
          {
           "fill": "toself",
           "fillcolor": "rgba(0, 100, 200, 0.2)",
           "line": {
            "color": "rgba(255,255,255,0)"
           },
           "name": "Area",
           "type": "scatter",
           "x": [
            0,
            1,
            1,
            0,
            0
           ],
           "y": [
            0,
            0.2040816326530612,
            1.2040816326530612,
            1,
            0
           ]
          }
         ]
        },
        {
         "data": [
          {
           "line": {
            "color": "blue",
            "width": 1
           },
           "marker": {
            "size": 2
           },
           "mode": "lines+markers",
           "name": "V1",
           "type": "scatter",
           "x": [
            0,
            1
           ],
           "y": [
            0,
            0.22448979591836732
           ]
          },
          {
           "line": {
            "color": "red",
            "width": 1
           },
           "marker": {
            "size": 2
           },
           "mode": "lines+markers",
           "name": "V2",
           "type": "scatter",
           "x": [
            0,
            0
           ],
           "y": [
            0,
            1
           ]
          },
          {
           "line": {
            "color": "green",
            "width": 1
           },
           "marker": {
            "size": 2
           },
           "mode": "lines+markers",
           "name": "V1 + V2",
           "type": "scatter",
           "x": [
            0,
            1
           ],
           "y": [
            0,
            1.2244897959183674
           ]
          },
          {
           "fill": "toself",
           "fillcolor": "rgba(0, 100, 200, 0.2)",
           "line": {
            "color": "rgba(255,255,255,0)"
           },
           "name": "Area",
           "type": "scatter",
           "x": [
            0,
            1,
            1,
            0,
            0
           ],
           "y": [
            0,
            0.22448979591836732,
            1.2244897959183674,
            1,
            0
           ]
          }
         ]
        },
        {
         "data": [
          {
           "line": {
            "color": "blue",
            "width": 1
           },
           "marker": {
            "size": 2
           },
           "mode": "lines+markers",
           "name": "V1",
           "type": "scatter",
           "x": [
            0,
            1
           ],
           "y": [
            0,
            0.24489795918367346
           ]
          },
          {
           "line": {
            "color": "red",
            "width": 1
           },
           "marker": {
            "size": 2
           },
           "mode": "lines+markers",
           "name": "V2",
           "type": "scatter",
           "x": [
            0,
            0
           ],
           "y": [
            0,
            1
           ]
          },
          {
           "line": {
            "color": "green",
            "width": 1
           },
           "marker": {
            "size": 2
           },
           "mode": "lines+markers",
           "name": "V1 + V2",
           "type": "scatter",
           "x": [
            0,
            1
           ],
           "y": [
            0,
            1.2448979591836735
           ]
          },
          {
           "fill": "toself",
           "fillcolor": "rgba(0, 100, 200, 0.2)",
           "line": {
            "color": "rgba(255,255,255,0)"
           },
           "name": "Area",
           "type": "scatter",
           "x": [
            0,
            1,
            1,
            0,
            0
           ],
           "y": [
            0,
            0.24489795918367346,
            1.2448979591836735,
            1,
            0
           ]
          }
         ]
        },
        {
         "data": [
          {
           "line": {
            "color": "blue",
            "width": 1
           },
           "marker": {
            "size": 2
           },
           "mode": "lines+markers",
           "name": "V1",
           "type": "scatter",
           "x": [
            0,
            1
           ],
           "y": [
            0,
            0.26530612244897955
           ]
          },
          {
           "line": {
            "color": "red",
            "width": 1
           },
           "marker": {
            "size": 2
           },
           "mode": "lines+markers",
           "name": "V2",
           "type": "scatter",
           "x": [
            0,
            0
           ],
           "y": [
            0,
            1
           ]
          },
          {
           "line": {
            "color": "green",
            "width": 1
           },
           "marker": {
            "size": 2
           },
           "mode": "lines+markers",
           "name": "V1 + V2",
           "type": "scatter",
           "x": [
            0,
            1
           ],
           "y": [
            0,
            1.2653061224489797
           ]
          },
          {
           "fill": "toself",
           "fillcolor": "rgba(0, 100, 200, 0.2)",
           "line": {
            "color": "rgba(255,255,255,0)"
           },
           "name": "Area",
           "type": "scatter",
           "x": [
            0,
            1,
            1,
            0,
            0
           ],
           "y": [
            0,
            0.26530612244897955,
            1.2653061224489797,
            1,
            0
           ]
          }
         ]
        },
        {
         "data": [
          {
           "line": {
            "color": "blue",
            "width": 1
           },
           "marker": {
            "size": 2
           },
           "mode": "lines+markers",
           "name": "V1",
           "type": "scatter",
           "x": [
            0,
            1
           ],
           "y": [
            0,
            0.2857142857142857
           ]
          },
          {
           "line": {
            "color": "red",
            "width": 1
           },
           "marker": {
            "size": 2
           },
           "mode": "lines+markers",
           "name": "V2",
           "type": "scatter",
           "x": [
            0,
            0
           ],
           "y": [
            0,
            1
           ]
          },
          {
           "line": {
            "color": "green",
            "width": 1
           },
           "marker": {
            "size": 2
           },
           "mode": "lines+markers",
           "name": "V1 + V2",
           "type": "scatter",
           "x": [
            0,
            1
           ],
           "y": [
            0,
            1.2857142857142856
           ]
          },
          {
           "fill": "toself",
           "fillcolor": "rgba(0, 100, 200, 0.2)",
           "line": {
            "color": "rgba(255,255,255,0)"
           },
           "name": "Area",
           "type": "scatter",
           "x": [
            0,
            1,
            1,
            0,
            0
           ],
           "y": [
            0,
            0.2857142857142857,
            1.2857142857142856,
            1,
            0
           ]
          }
         ]
        },
        {
         "data": [
          {
           "line": {
            "color": "blue",
            "width": 1
           },
           "marker": {
            "size": 2
           },
           "mode": "lines+markers",
           "name": "V1",
           "type": "scatter",
           "x": [
            0,
            1
           ],
           "y": [
            0,
            0.3061224489795918
           ]
          },
          {
           "line": {
            "color": "red",
            "width": 1
           },
           "marker": {
            "size": 2
           },
           "mode": "lines+markers",
           "name": "V2",
           "type": "scatter",
           "x": [
            0,
            0
           ],
           "y": [
            0,
            1
           ]
          },
          {
           "line": {
            "color": "green",
            "width": 1
           },
           "marker": {
            "size": 2
           },
           "mode": "lines+markers",
           "name": "V1 + V2",
           "type": "scatter",
           "x": [
            0,
            1
           ],
           "y": [
            0,
            1.3061224489795917
           ]
          },
          {
           "fill": "toself",
           "fillcolor": "rgba(0, 100, 200, 0.2)",
           "line": {
            "color": "rgba(255,255,255,0)"
           },
           "name": "Area",
           "type": "scatter",
           "x": [
            0,
            1,
            1,
            0,
            0
           ],
           "y": [
            0,
            0.3061224489795918,
            1.3061224489795917,
            1,
            0
           ]
          }
         ]
        },
        {
         "data": [
          {
           "line": {
            "color": "blue",
            "width": 1
           },
           "marker": {
            "size": 2
           },
           "mode": "lines+markers",
           "name": "V1",
           "type": "scatter",
           "x": [
            0,
            1
           ],
           "y": [
            0,
            0.32653061224489793
           ]
          },
          {
           "line": {
            "color": "red",
            "width": 1
           },
           "marker": {
            "size": 2
           },
           "mode": "lines+markers",
           "name": "V2",
           "type": "scatter",
           "x": [
            0,
            0
           ],
           "y": [
            0,
            1
           ]
          },
          {
           "line": {
            "color": "green",
            "width": 1
           },
           "marker": {
            "size": 2
           },
           "mode": "lines+markers",
           "name": "V1 + V2",
           "type": "scatter",
           "x": [
            0,
            1
           ],
           "y": [
            0,
            1.3265306122448979
           ]
          },
          {
           "fill": "toself",
           "fillcolor": "rgba(0, 100, 200, 0.2)",
           "line": {
            "color": "rgba(255,255,255,0)"
           },
           "name": "Area",
           "type": "scatter",
           "x": [
            0,
            1,
            1,
            0,
            0
           ],
           "y": [
            0,
            0.32653061224489793,
            1.3265306122448979,
            1,
            0
           ]
          }
         ]
        },
        {
         "data": [
          {
           "line": {
            "color": "blue",
            "width": 1
           },
           "marker": {
            "size": 2
           },
           "mode": "lines+markers",
           "name": "V1",
           "type": "scatter",
           "x": [
            0,
            1
           ],
           "y": [
            0,
            0.3469387755102041
           ]
          },
          {
           "line": {
            "color": "red",
            "width": 1
           },
           "marker": {
            "size": 2
           },
           "mode": "lines+markers",
           "name": "V2",
           "type": "scatter",
           "x": [
            0,
            0
           ],
           "y": [
            0,
            1
           ]
          },
          {
           "line": {
            "color": "green",
            "width": 1
           },
           "marker": {
            "size": 2
           },
           "mode": "lines+markers",
           "name": "V1 + V2",
           "type": "scatter",
           "x": [
            0,
            1
           ],
           "y": [
            0,
            1.346938775510204
           ]
          },
          {
           "fill": "toself",
           "fillcolor": "rgba(0, 100, 200, 0.2)",
           "line": {
            "color": "rgba(255,255,255,0)"
           },
           "name": "Area",
           "type": "scatter",
           "x": [
            0,
            1,
            1,
            0,
            0
           ],
           "y": [
            0,
            0.3469387755102041,
            1.346938775510204,
            1,
            0
           ]
          }
         ]
        },
        {
         "data": [
          {
           "line": {
            "color": "blue",
            "width": 1
           },
           "marker": {
            "size": 2
           },
           "mode": "lines+markers",
           "name": "V1",
           "type": "scatter",
           "x": [
            0,
            1
           ],
           "y": [
            0,
            0.36734693877551017
           ]
          },
          {
           "line": {
            "color": "red",
            "width": 1
           },
           "marker": {
            "size": 2
           },
           "mode": "lines+markers",
           "name": "V2",
           "type": "scatter",
           "x": [
            0,
            0
           ],
           "y": [
            0,
            1
           ]
          },
          {
           "line": {
            "color": "green",
            "width": 1
           },
           "marker": {
            "size": 2
           },
           "mode": "lines+markers",
           "name": "V1 + V2",
           "type": "scatter",
           "x": [
            0,
            1
           ],
           "y": [
            0,
            1.3673469387755102
           ]
          },
          {
           "fill": "toself",
           "fillcolor": "rgba(0, 100, 200, 0.2)",
           "line": {
            "color": "rgba(255,255,255,0)"
           },
           "name": "Area",
           "type": "scatter",
           "x": [
            0,
            1,
            1,
            0,
            0
           ],
           "y": [
            0,
            0.36734693877551017,
            1.3673469387755102,
            1,
            0
           ]
          }
         ]
        },
        {
         "data": [
          {
           "line": {
            "color": "blue",
            "width": 1
           },
           "marker": {
            "size": 2
           },
           "mode": "lines+markers",
           "name": "V1",
           "type": "scatter",
           "x": [
            0,
            1
           ],
           "y": [
            0,
            0.3877551020408163
           ]
          },
          {
           "line": {
            "color": "red",
            "width": 1
           },
           "marker": {
            "size": 2
           },
           "mode": "lines+markers",
           "name": "V2",
           "type": "scatter",
           "x": [
            0,
            0
           ],
           "y": [
            0,
            1
           ]
          },
          {
           "line": {
            "color": "green",
            "width": 1
           },
           "marker": {
            "size": 2
           },
           "mode": "lines+markers",
           "name": "V1 + V2",
           "type": "scatter",
           "x": [
            0,
            1
           ],
           "y": [
            0,
            1.3877551020408163
           ]
          },
          {
           "fill": "toself",
           "fillcolor": "rgba(0, 100, 200, 0.2)",
           "line": {
            "color": "rgba(255,255,255,0)"
           },
           "name": "Area",
           "type": "scatter",
           "x": [
            0,
            1,
            1,
            0,
            0
           ],
           "y": [
            0,
            0.3877551020408163,
            1.3877551020408163,
            1,
            0
           ]
          }
         ]
        },
        {
         "data": [
          {
           "line": {
            "color": "blue",
            "width": 1
           },
           "marker": {
            "size": 2
           },
           "mode": "lines+markers",
           "name": "V1",
           "type": "scatter",
           "x": [
            0,
            1
           ],
           "y": [
            0,
            0.4081632653061224
           ]
          },
          {
           "line": {
            "color": "red",
            "width": 1
           },
           "marker": {
            "size": 2
           },
           "mode": "lines+markers",
           "name": "V2",
           "type": "scatter",
           "x": [
            0,
            0
           ],
           "y": [
            0,
            1
           ]
          },
          {
           "line": {
            "color": "green",
            "width": 1
           },
           "marker": {
            "size": 2
           },
           "mode": "lines+markers",
           "name": "V1 + V2",
           "type": "scatter",
           "x": [
            0,
            1
           ],
           "y": [
            0,
            1.4081632653061225
           ]
          },
          {
           "fill": "toself",
           "fillcolor": "rgba(0, 100, 200, 0.2)",
           "line": {
            "color": "rgba(255,255,255,0)"
           },
           "name": "Area",
           "type": "scatter",
           "x": [
            0,
            1,
            1,
            0,
            0
           ],
           "y": [
            0,
            0.4081632653061224,
            1.4081632653061225,
            1,
            0
           ]
          }
         ]
        },
        {
         "data": [
          {
           "line": {
            "color": "blue",
            "width": 1
           },
           "marker": {
            "size": 2
           },
           "mode": "lines+markers",
           "name": "V1",
           "type": "scatter",
           "x": [
            0,
            1
           ],
           "y": [
            0,
            0.42857142857142855
           ]
          },
          {
           "line": {
            "color": "red",
            "width": 1
           },
           "marker": {
            "size": 2
           },
           "mode": "lines+markers",
           "name": "V2",
           "type": "scatter",
           "x": [
            0,
            0
           ],
           "y": [
            0,
            1
           ]
          },
          {
           "line": {
            "color": "green",
            "width": 1
           },
           "marker": {
            "size": 2
           },
           "mode": "lines+markers",
           "name": "V1 + V2",
           "type": "scatter",
           "x": [
            0,
            1
           ],
           "y": [
            0,
            1.4285714285714286
           ]
          },
          {
           "fill": "toself",
           "fillcolor": "rgba(0, 100, 200, 0.2)",
           "line": {
            "color": "rgba(255,255,255,0)"
           },
           "name": "Area",
           "type": "scatter",
           "x": [
            0,
            1,
            1,
            0,
            0
           ],
           "y": [
            0,
            0.42857142857142855,
            1.4285714285714286,
            1,
            0
           ]
          }
         ]
        },
        {
         "data": [
          {
           "line": {
            "color": "blue",
            "width": 1
           },
           "marker": {
            "size": 2
           },
           "mode": "lines+markers",
           "name": "V1",
           "type": "scatter",
           "x": [
            0,
            1
           ],
           "y": [
            0,
            0.44897959183673464
           ]
          },
          {
           "line": {
            "color": "red",
            "width": 1
           },
           "marker": {
            "size": 2
           },
           "mode": "lines+markers",
           "name": "V2",
           "type": "scatter",
           "x": [
            0,
            0
           ],
           "y": [
            0,
            1
           ]
          },
          {
           "line": {
            "color": "green",
            "width": 1
           },
           "marker": {
            "size": 2
           },
           "mode": "lines+markers",
           "name": "V1 + V2",
           "type": "scatter",
           "x": [
            0,
            1
           ],
           "y": [
            0,
            1.4489795918367347
           ]
          },
          {
           "fill": "toself",
           "fillcolor": "rgba(0, 100, 200, 0.2)",
           "line": {
            "color": "rgba(255,255,255,0)"
           },
           "name": "Area",
           "type": "scatter",
           "x": [
            0,
            1,
            1,
            0,
            0
           ],
           "y": [
            0,
            0.44897959183673464,
            1.4489795918367347,
            1,
            0
           ]
          }
         ]
        },
        {
         "data": [
          {
           "line": {
            "color": "blue",
            "width": 1
           },
           "marker": {
            "size": 2
           },
           "mode": "lines+markers",
           "name": "V1",
           "type": "scatter",
           "x": [
            0,
            1
           ],
           "y": [
            0,
            0.4693877551020408
           ]
          },
          {
           "line": {
            "color": "red",
            "width": 1
           },
           "marker": {
            "size": 2
           },
           "mode": "lines+markers",
           "name": "V2",
           "type": "scatter",
           "x": [
            0,
            0
           ],
           "y": [
            0,
            1
           ]
          },
          {
           "line": {
            "color": "green",
            "width": 1
           },
           "marker": {
            "size": 2
           },
           "mode": "lines+markers",
           "name": "V1 + V2",
           "type": "scatter",
           "x": [
            0,
            1
           ],
           "y": [
            0,
            1.4693877551020407
           ]
          },
          {
           "fill": "toself",
           "fillcolor": "rgba(0, 100, 200, 0.2)",
           "line": {
            "color": "rgba(255,255,255,0)"
           },
           "name": "Area",
           "type": "scatter",
           "x": [
            0,
            1,
            1,
            0,
            0
           ],
           "y": [
            0,
            0.4693877551020408,
            1.4693877551020407,
            1,
            0
           ]
          }
         ]
        },
        {
         "data": [
          {
           "line": {
            "color": "blue",
            "width": 1
           },
           "marker": {
            "size": 2
           },
           "mode": "lines+markers",
           "name": "V1",
           "type": "scatter",
           "x": [
            0,
            1
           ],
           "y": [
            0,
            0.4897959183673469
           ]
          },
          {
           "line": {
            "color": "red",
            "width": 1
           },
           "marker": {
            "size": 2
           },
           "mode": "lines+markers",
           "name": "V2",
           "type": "scatter",
           "x": [
            0,
            0
           ],
           "y": [
            0,
            1
           ]
          },
          {
           "line": {
            "color": "green",
            "width": 1
           },
           "marker": {
            "size": 2
           },
           "mode": "lines+markers",
           "name": "V1 + V2",
           "type": "scatter",
           "x": [
            0,
            1
           ],
           "y": [
            0,
            1.489795918367347
           ]
          },
          {
           "fill": "toself",
           "fillcolor": "rgba(0, 100, 200, 0.2)",
           "line": {
            "color": "rgba(255,255,255,0)"
           },
           "name": "Area",
           "type": "scatter",
           "x": [
            0,
            1,
            1,
            0,
            0
           ],
           "y": [
            0,
            0.4897959183673469,
            1.489795918367347,
            1,
            0
           ]
          }
         ]
        },
        {
         "data": [
          {
           "line": {
            "color": "blue",
            "width": 1
           },
           "marker": {
            "size": 2
           },
           "mode": "lines+markers",
           "name": "V1",
           "type": "scatter",
           "x": [
            0,
            1
           ],
           "y": [
            0,
            0.5102040816326531
           ]
          },
          {
           "line": {
            "color": "red",
            "width": 1
           },
           "marker": {
            "size": 2
           },
           "mode": "lines+markers",
           "name": "V2",
           "type": "scatter",
           "x": [
            0,
            0
           ],
           "y": [
            0,
            1
           ]
          },
          {
           "line": {
            "color": "green",
            "width": 1
           },
           "marker": {
            "size": 2
           },
           "mode": "lines+markers",
           "name": "V1 + V2",
           "type": "scatter",
           "x": [
            0,
            1
           ],
           "y": [
            0,
            1.510204081632653
           ]
          },
          {
           "fill": "toself",
           "fillcolor": "rgba(0, 100, 200, 0.2)",
           "line": {
            "color": "rgba(255,255,255,0)"
           },
           "name": "Area",
           "type": "scatter",
           "x": [
            0,
            1,
            1,
            0,
            0
           ],
           "y": [
            0,
            0.5102040816326531,
            1.510204081632653,
            1,
            0
           ]
          }
         ]
        },
        {
         "data": [
          {
           "line": {
            "color": "blue",
            "width": 1
           },
           "marker": {
            "size": 2
           },
           "mode": "lines+markers",
           "name": "V1",
           "type": "scatter",
           "x": [
            0,
            1
           ],
           "y": [
            0,
            0.5306122448979591
           ]
          },
          {
           "line": {
            "color": "red",
            "width": 1
           },
           "marker": {
            "size": 2
           },
           "mode": "lines+markers",
           "name": "V2",
           "type": "scatter",
           "x": [
            0,
            0
           ],
           "y": [
            0,
            1
           ]
          },
          {
           "line": {
            "color": "green",
            "width": 1
           },
           "marker": {
            "size": 2
           },
           "mode": "lines+markers",
           "name": "V1 + V2",
           "type": "scatter",
           "x": [
            0,
            1
           ],
           "y": [
            0,
            1.530612244897959
           ]
          },
          {
           "fill": "toself",
           "fillcolor": "rgba(0, 100, 200, 0.2)",
           "line": {
            "color": "rgba(255,255,255,0)"
           },
           "name": "Area",
           "type": "scatter",
           "x": [
            0,
            1,
            1,
            0,
            0
           ],
           "y": [
            0,
            0.5306122448979591,
            1.530612244897959,
            1,
            0
           ]
          }
         ]
        },
        {
         "data": [
          {
           "line": {
            "color": "blue",
            "width": 1
           },
           "marker": {
            "size": 2
           },
           "mode": "lines+markers",
           "name": "V1",
           "type": "scatter",
           "x": [
            0,
            1
           ],
           "y": [
            0,
            0.5510204081632653
           ]
          },
          {
           "line": {
            "color": "red",
            "width": 1
           },
           "marker": {
            "size": 2
           },
           "mode": "lines+markers",
           "name": "V2",
           "type": "scatter",
           "x": [
            0,
            0
           ],
           "y": [
            0,
            1
           ]
          },
          {
           "line": {
            "color": "green",
            "width": 1
           },
           "marker": {
            "size": 2
           },
           "mode": "lines+markers",
           "name": "V1 + V2",
           "type": "scatter",
           "x": [
            0,
            1
           ],
           "y": [
            0,
            1.5510204081632653
           ]
          },
          {
           "fill": "toself",
           "fillcolor": "rgba(0, 100, 200, 0.2)",
           "line": {
            "color": "rgba(255,255,255,0)"
           },
           "name": "Area",
           "type": "scatter",
           "x": [
            0,
            1,
            1,
            0,
            0
           ],
           "y": [
            0,
            0.5510204081632653,
            1.5510204081632653,
            1,
            0
           ]
          }
         ]
        },
        {
         "data": [
          {
           "line": {
            "color": "blue",
            "width": 1
           },
           "marker": {
            "size": 2
           },
           "mode": "lines+markers",
           "name": "V1",
           "type": "scatter",
           "x": [
            0,
            1
           ],
           "y": [
            0,
            0.5714285714285714
           ]
          },
          {
           "line": {
            "color": "red",
            "width": 1
           },
           "marker": {
            "size": 2
           },
           "mode": "lines+markers",
           "name": "V2",
           "type": "scatter",
           "x": [
            0,
            0
           ],
           "y": [
            0,
            1
           ]
          },
          {
           "line": {
            "color": "green",
            "width": 1
           },
           "marker": {
            "size": 2
           },
           "mode": "lines+markers",
           "name": "V1 + V2",
           "type": "scatter",
           "x": [
            0,
            1
           ],
           "y": [
            0,
            1.5714285714285714
           ]
          },
          {
           "fill": "toself",
           "fillcolor": "rgba(0, 100, 200, 0.2)",
           "line": {
            "color": "rgba(255,255,255,0)"
           },
           "name": "Area",
           "type": "scatter",
           "x": [
            0,
            1,
            1,
            0,
            0
           ],
           "y": [
            0,
            0.5714285714285714,
            1.5714285714285714,
            1,
            0
           ]
          }
         ]
        },
        {
         "data": [
          {
           "line": {
            "color": "blue",
            "width": 1
           },
           "marker": {
            "size": 2
           },
           "mode": "lines+markers",
           "name": "V1",
           "type": "scatter",
           "x": [
            0,
            1
           ],
           "y": [
            0,
            0.5918367346938775
           ]
          },
          {
           "line": {
            "color": "red",
            "width": 1
           },
           "marker": {
            "size": 2
           },
           "mode": "lines+markers",
           "name": "V2",
           "type": "scatter",
           "x": [
            0,
            0
           ],
           "y": [
            0,
            1
           ]
          },
          {
           "line": {
            "color": "green",
            "width": 1
           },
           "marker": {
            "size": 2
           },
           "mode": "lines+markers",
           "name": "V1 + V2",
           "type": "scatter",
           "x": [
            0,
            1
           ],
           "y": [
            0,
            1.5918367346938775
           ]
          },
          {
           "fill": "toself",
           "fillcolor": "rgba(0, 100, 200, 0.2)",
           "line": {
            "color": "rgba(255,255,255,0)"
           },
           "name": "Area",
           "type": "scatter",
           "x": [
            0,
            1,
            1,
            0,
            0
           ],
           "y": [
            0,
            0.5918367346938775,
            1.5918367346938775,
            1,
            0
           ]
          }
         ]
        },
        {
         "data": [
          {
           "line": {
            "color": "blue",
            "width": 1
           },
           "marker": {
            "size": 2
           },
           "mode": "lines+markers",
           "name": "V1",
           "type": "scatter",
           "x": [
            0,
            1
           ],
           "y": [
            0,
            0.6122448979591836
           ]
          },
          {
           "line": {
            "color": "red",
            "width": 1
           },
           "marker": {
            "size": 2
           },
           "mode": "lines+markers",
           "name": "V2",
           "type": "scatter",
           "x": [
            0,
            0
           ],
           "y": [
            0,
            1
           ]
          },
          {
           "line": {
            "color": "green",
            "width": 1
           },
           "marker": {
            "size": 2
           },
           "mode": "lines+markers",
           "name": "V1 + V2",
           "type": "scatter",
           "x": [
            0,
            1
           ],
           "y": [
            0,
            1.6122448979591835
           ]
          },
          {
           "fill": "toself",
           "fillcolor": "rgba(0, 100, 200, 0.2)",
           "line": {
            "color": "rgba(255,255,255,0)"
           },
           "name": "Area",
           "type": "scatter",
           "x": [
            0,
            1,
            1,
            0,
            0
           ],
           "y": [
            0,
            0.6122448979591836,
            1.6122448979591835,
            1,
            0
           ]
          }
         ]
        },
        {
         "data": [
          {
           "line": {
            "color": "blue",
            "width": 1
           },
           "marker": {
            "size": 2
           },
           "mode": "lines+markers",
           "name": "V1",
           "type": "scatter",
           "x": [
            0,
            1
           ],
           "y": [
            0,
            0.6326530612244897
           ]
          },
          {
           "line": {
            "color": "red",
            "width": 1
           },
           "marker": {
            "size": 2
           },
           "mode": "lines+markers",
           "name": "V2",
           "type": "scatter",
           "x": [
            0,
            0
           ],
           "y": [
            0,
            1
           ]
          },
          {
           "line": {
            "color": "green",
            "width": 1
           },
           "marker": {
            "size": 2
           },
           "mode": "lines+markers",
           "name": "V1 + V2",
           "type": "scatter",
           "x": [
            0,
            1
           ],
           "y": [
            0,
            1.6326530612244898
           ]
          },
          {
           "fill": "toself",
           "fillcolor": "rgba(0, 100, 200, 0.2)",
           "line": {
            "color": "rgba(255,255,255,0)"
           },
           "name": "Area",
           "type": "scatter",
           "x": [
            0,
            1,
            1,
            0,
            0
           ],
           "y": [
            0,
            0.6326530612244897,
            1.6326530612244898,
            1,
            0
           ]
          }
         ]
        },
        {
         "data": [
          {
           "line": {
            "color": "blue",
            "width": 1
           },
           "marker": {
            "size": 2
           },
           "mode": "lines+markers",
           "name": "V1",
           "type": "scatter",
           "x": [
            0,
            1
           ],
           "y": [
            0,
            0.6530612244897959
           ]
          },
          {
           "line": {
            "color": "red",
            "width": 1
           },
           "marker": {
            "size": 2
           },
           "mode": "lines+markers",
           "name": "V2",
           "type": "scatter",
           "x": [
            0,
            0
           ],
           "y": [
            0,
            1
           ]
          },
          {
           "line": {
            "color": "green",
            "width": 1
           },
           "marker": {
            "size": 2
           },
           "mode": "lines+markers",
           "name": "V1 + V2",
           "type": "scatter",
           "x": [
            0,
            1
           ],
           "y": [
            0,
            1.6530612244897958
           ]
          },
          {
           "fill": "toself",
           "fillcolor": "rgba(0, 100, 200, 0.2)",
           "line": {
            "color": "rgba(255,255,255,0)"
           },
           "name": "Area",
           "type": "scatter",
           "x": [
            0,
            1,
            1,
            0,
            0
           ],
           "y": [
            0,
            0.6530612244897959,
            1.6530612244897958,
            1,
            0
           ]
          }
         ]
        },
        {
         "data": [
          {
           "line": {
            "color": "blue",
            "width": 1
           },
           "marker": {
            "size": 2
           },
           "mode": "lines+markers",
           "name": "V1",
           "type": "scatter",
           "x": [
            0,
            1
           ],
           "y": [
            0,
            0.673469387755102
           ]
          },
          {
           "line": {
            "color": "red",
            "width": 1
           },
           "marker": {
            "size": 2
           },
           "mode": "lines+markers",
           "name": "V2",
           "type": "scatter",
           "x": [
            0,
            0
           ],
           "y": [
            0,
            1
           ]
          },
          {
           "line": {
            "color": "green",
            "width": 1
           },
           "marker": {
            "size": 2
           },
           "mode": "lines+markers",
           "name": "V1 + V2",
           "type": "scatter",
           "x": [
            0,
            1
           ],
           "y": [
            0,
            1.6734693877551021
           ]
          },
          {
           "fill": "toself",
           "fillcolor": "rgba(0, 100, 200, 0.2)",
           "line": {
            "color": "rgba(255,255,255,0)"
           },
           "name": "Area",
           "type": "scatter",
           "x": [
            0,
            1,
            1,
            0,
            0
           ],
           "y": [
            0,
            0.673469387755102,
            1.6734693877551021,
            1,
            0
           ]
          }
         ]
        },
        {
         "data": [
          {
           "line": {
            "color": "blue",
            "width": 1
           },
           "marker": {
            "size": 2
           },
           "mode": "lines+markers",
           "name": "V1",
           "type": "scatter",
           "x": [
            0,
            1
           ],
           "y": [
            0,
            0.6938775510204082
           ]
          },
          {
           "line": {
            "color": "red",
            "width": 1
           },
           "marker": {
            "size": 2
           },
           "mode": "lines+markers",
           "name": "V2",
           "type": "scatter",
           "x": [
            0,
            0
           ],
           "y": [
            0,
            1
           ]
          },
          {
           "line": {
            "color": "green",
            "width": 1
           },
           "marker": {
            "size": 2
           },
           "mode": "lines+markers",
           "name": "V1 + V2",
           "type": "scatter",
           "x": [
            0,
            1
           ],
           "y": [
            0,
            1.693877551020408
           ]
          },
          {
           "fill": "toself",
           "fillcolor": "rgba(0, 100, 200, 0.2)",
           "line": {
            "color": "rgba(255,255,255,0)"
           },
           "name": "Area",
           "type": "scatter",
           "x": [
            0,
            1,
            1,
            0,
            0
           ],
           "y": [
            0,
            0.6938775510204082,
            1.693877551020408,
            1,
            0
           ]
          }
         ]
        },
        {
         "data": [
          {
           "line": {
            "color": "blue",
            "width": 1
           },
           "marker": {
            "size": 2
           },
           "mode": "lines+markers",
           "name": "V1",
           "type": "scatter",
           "x": [
            0,
            1
           ],
           "y": [
            0,
            0.7142857142857142
           ]
          },
          {
           "line": {
            "color": "red",
            "width": 1
           },
           "marker": {
            "size": 2
           },
           "mode": "lines+markers",
           "name": "V2",
           "type": "scatter",
           "x": [
            0,
            0
           ],
           "y": [
            0,
            1
           ]
          },
          {
           "line": {
            "color": "green",
            "width": 1
           },
           "marker": {
            "size": 2
           },
           "mode": "lines+markers",
           "name": "V1 + V2",
           "type": "scatter",
           "x": [
            0,
            1
           ],
           "y": [
            0,
            1.7142857142857142
           ]
          },
          {
           "fill": "toself",
           "fillcolor": "rgba(0, 100, 200, 0.2)",
           "line": {
            "color": "rgba(255,255,255,0)"
           },
           "name": "Area",
           "type": "scatter",
           "x": [
            0,
            1,
            1,
            0,
            0
           ],
           "y": [
            0,
            0.7142857142857142,
            1.7142857142857142,
            1,
            0
           ]
          }
         ]
        },
        {
         "data": [
          {
           "line": {
            "color": "blue",
            "width": 1
           },
           "marker": {
            "size": 2
           },
           "mode": "lines+markers",
           "name": "V1",
           "type": "scatter",
           "x": [
            0,
            1
           ],
           "y": [
            0,
            0.7346938775510203
           ]
          },
          {
           "line": {
            "color": "red",
            "width": 1
           },
           "marker": {
            "size": 2
           },
           "mode": "lines+markers",
           "name": "V2",
           "type": "scatter",
           "x": [
            0,
            0
           ],
           "y": [
            0,
            1
           ]
          },
          {
           "line": {
            "color": "green",
            "width": 1
           },
           "marker": {
            "size": 2
           },
           "mode": "lines+markers",
           "name": "V1 + V2",
           "type": "scatter",
           "x": [
            0,
            1
           ],
           "y": [
            0,
            1.7346938775510203
           ]
          },
          {
           "fill": "toself",
           "fillcolor": "rgba(0, 100, 200, 0.2)",
           "line": {
            "color": "rgba(255,255,255,0)"
           },
           "name": "Area",
           "type": "scatter",
           "x": [
            0,
            1,
            1,
            0,
            0
           ],
           "y": [
            0,
            0.7346938775510203,
            1.7346938775510203,
            1,
            0
           ]
          }
         ]
        },
        {
         "data": [
          {
           "line": {
            "color": "blue",
            "width": 1
           },
           "marker": {
            "size": 2
           },
           "mode": "lines+markers",
           "name": "V1",
           "type": "scatter",
           "x": [
            0,
            1
           ],
           "y": [
            0,
            0.7551020408163265
           ]
          },
          {
           "line": {
            "color": "red",
            "width": 1
           },
           "marker": {
            "size": 2
           },
           "mode": "lines+markers",
           "name": "V2",
           "type": "scatter",
           "x": [
            0,
            0
           ],
           "y": [
            0,
            1
           ]
          },
          {
           "line": {
            "color": "green",
            "width": 1
           },
           "marker": {
            "size": 2
           },
           "mode": "lines+markers",
           "name": "V1 + V2",
           "type": "scatter",
           "x": [
            0,
            1
           ],
           "y": [
            0,
            1.7551020408163265
           ]
          },
          {
           "fill": "toself",
           "fillcolor": "rgba(0, 100, 200, 0.2)",
           "line": {
            "color": "rgba(255,255,255,0)"
           },
           "name": "Area",
           "type": "scatter",
           "x": [
            0,
            1,
            1,
            0,
            0
           ],
           "y": [
            0,
            0.7551020408163265,
            1.7551020408163265,
            1,
            0
           ]
          }
         ]
        },
        {
         "data": [
          {
           "line": {
            "color": "blue",
            "width": 1
           },
           "marker": {
            "size": 2
           },
           "mode": "lines+markers",
           "name": "V1",
           "type": "scatter",
           "x": [
            0,
            1
           ],
           "y": [
            0,
            0.7755102040816326
           ]
          },
          {
           "line": {
            "color": "red",
            "width": 1
           },
           "marker": {
            "size": 2
           },
           "mode": "lines+markers",
           "name": "V2",
           "type": "scatter",
           "x": [
            0,
            0
           ],
           "y": [
            0,
            1
           ]
          },
          {
           "line": {
            "color": "green",
            "width": 1
           },
           "marker": {
            "size": 2
           },
           "mode": "lines+markers",
           "name": "V1 + V2",
           "type": "scatter",
           "x": [
            0,
            1
           ],
           "y": [
            0,
            1.7755102040816326
           ]
          },
          {
           "fill": "toself",
           "fillcolor": "rgba(0, 100, 200, 0.2)",
           "line": {
            "color": "rgba(255,255,255,0)"
           },
           "name": "Area",
           "type": "scatter",
           "x": [
            0,
            1,
            1,
            0,
            0
           ],
           "y": [
            0,
            0.7755102040816326,
            1.7755102040816326,
            1,
            0
           ]
          }
         ]
        },
        {
         "data": [
          {
           "line": {
            "color": "blue",
            "width": 1
           },
           "marker": {
            "size": 2
           },
           "mode": "lines+markers",
           "name": "V1",
           "type": "scatter",
           "x": [
            0,
            1
           ],
           "y": [
            0,
            0.7959183673469387
           ]
          },
          {
           "line": {
            "color": "red",
            "width": 1
           },
           "marker": {
            "size": 2
           },
           "mode": "lines+markers",
           "name": "V2",
           "type": "scatter",
           "x": [
            0,
            0
           ],
           "y": [
            0,
            1
           ]
          },
          {
           "line": {
            "color": "green",
            "width": 1
           },
           "marker": {
            "size": 2
           },
           "mode": "lines+markers",
           "name": "V1 + V2",
           "type": "scatter",
           "x": [
            0,
            1
           ],
           "y": [
            0,
            1.7959183673469385
           ]
          },
          {
           "fill": "toself",
           "fillcolor": "rgba(0, 100, 200, 0.2)",
           "line": {
            "color": "rgba(255,255,255,0)"
           },
           "name": "Area",
           "type": "scatter",
           "x": [
            0,
            1,
            1,
            0,
            0
           ],
           "y": [
            0,
            0.7959183673469387,
            1.7959183673469385,
            1,
            0
           ]
          }
         ]
        },
        {
         "data": [
          {
           "line": {
            "color": "blue",
            "width": 1
           },
           "marker": {
            "size": 2
           },
           "mode": "lines+markers",
           "name": "V1",
           "type": "scatter",
           "x": [
            0,
            1
           ],
           "y": [
            0,
            0.8163265306122448
           ]
          },
          {
           "line": {
            "color": "red",
            "width": 1
           },
           "marker": {
            "size": 2
           },
           "mode": "lines+markers",
           "name": "V2",
           "type": "scatter",
           "x": [
            0,
            0
           ],
           "y": [
            0,
            1
           ]
          },
          {
           "line": {
            "color": "green",
            "width": 1
           },
           "marker": {
            "size": 2
           },
           "mode": "lines+markers",
           "name": "V1 + V2",
           "type": "scatter",
           "x": [
            0,
            1
           ],
           "y": [
            0,
            1.816326530612245
           ]
          },
          {
           "fill": "toself",
           "fillcolor": "rgba(0, 100, 200, 0.2)",
           "line": {
            "color": "rgba(255,255,255,0)"
           },
           "name": "Area",
           "type": "scatter",
           "x": [
            0,
            1,
            1,
            0,
            0
           ],
           "y": [
            0,
            0.8163265306122448,
            1.816326530612245,
            1,
            0
           ]
          }
         ]
        },
        {
         "data": [
          {
           "line": {
            "color": "blue",
            "width": 1
           },
           "marker": {
            "size": 2
           },
           "mode": "lines+markers",
           "name": "V1",
           "type": "scatter",
           "x": [
            0,
            1
           ],
           "y": [
            0,
            0.836734693877551
           ]
          },
          {
           "line": {
            "color": "red",
            "width": 1
           },
           "marker": {
            "size": 2
           },
           "mode": "lines+markers",
           "name": "V2",
           "type": "scatter",
           "x": [
            0,
            0
           ],
           "y": [
            0,
            1
           ]
          },
          {
           "line": {
            "color": "green",
            "width": 1
           },
           "marker": {
            "size": 2
           },
           "mode": "lines+markers",
           "name": "V1 + V2",
           "type": "scatter",
           "x": [
            0,
            1
           ],
           "y": [
            0,
            1.8367346938775508
           ]
          },
          {
           "fill": "toself",
           "fillcolor": "rgba(0, 100, 200, 0.2)",
           "line": {
            "color": "rgba(255,255,255,0)"
           },
           "name": "Area",
           "type": "scatter",
           "x": [
            0,
            1,
            1,
            0,
            0
           ],
           "y": [
            0,
            0.836734693877551,
            1.8367346938775508,
            1,
            0
           ]
          }
         ]
        },
        {
         "data": [
          {
           "line": {
            "color": "blue",
            "width": 1
           },
           "marker": {
            "size": 2
           },
           "mode": "lines+markers",
           "name": "V1",
           "type": "scatter",
           "x": [
            0,
            1
           ],
           "y": [
            0,
            0.8571428571428571
           ]
          },
          {
           "line": {
            "color": "red",
            "width": 1
           },
           "marker": {
            "size": 2
           },
           "mode": "lines+markers",
           "name": "V2",
           "type": "scatter",
           "x": [
            0,
            0
           ],
           "y": [
            0,
            1
           ]
          },
          {
           "line": {
            "color": "green",
            "width": 1
           },
           "marker": {
            "size": 2
           },
           "mode": "lines+markers",
           "name": "V1 + V2",
           "type": "scatter",
           "x": [
            0,
            1
           ],
           "y": [
            0,
            1.8571428571428572
           ]
          },
          {
           "fill": "toself",
           "fillcolor": "rgba(0, 100, 200, 0.2)",
           "line": {
            "color": "rgba(255,255,255,0)"
           },
           "name": "Area",
           "type": "scatter",
           "x": [
            0,
            1,
            1,
            0,
            0
           ],
           "y": [
            0,
            0.8571428571428571,
            1.8571428571428572,
            1,
            0
           ]
          }
         ]
        },
        {
         "data": [
          {
           "line": {
            "color": "blue",
            "width": 1
           },
           "marker": {
            "size": 2
           },
           "mode": "lines+markers",
           "name": "V1",
           "type": "scatter",
           "x": [
            0,
            1
           ],
           "y": [
            0,
            0.8775510204081632
           ]
          },
          {
           "line": {
            "color": "red",
            "width": 1
           },
           "marker": {
            "size": 2
           },
           "mode": "lines+markers",
           "name": "V2",
           "type": "scatter",
           "x": [
            0,
            0
           ],
           "y": [
            0,
            1
           ]
          },
          {
           "line": {
            "color": "green",
            "width": 1
           },
           "marker": {
            "size": 2
           },
           "mode": "lines+markers",
           "name": "V1 + V2",
           "type": "scatter",
           "x": [
            0,
            1
           ],
           "y": [
            0,
            1.8775510204081631
           ]
          },
          {
           "fill": "toself",
           "fillcolor": "rgba(0, 100, 200, 0.2)",
           "line": {
            "color": "rgba(255,255,255,0)"
           },
           "name": "Area",
           "type": "scatter",
           "x": [
            0,
            1,
            1,
            0,
            0
           ],
           "y": [
            0,
            0.8775510204081632,
            1.8775510204081631,
            1,
            0
           ]
          }
         ]
        },
        {
         "data": [
          {
           "line": {
            "color": "blue",
            "width": 1
           },
           "marker": {
            "size": 2
           },
           "mode": "lines+markers",
           "name": "V1",
           "type": "scatter",
           "x": [
            0,
            1
           ],
           "y": [
            0,
            0.8979591836734693
           ]
          },
          {
           "line": {
            "color": "red",
            "width": 1
           },
           "marker": {
            "size": 2
           },
           "mode": "lines+markers",
           "name": "V2",
           "type": "scatter",
           "x": [
            0,
            0
           ],
           "y": [
            0,
            1
           ]
          },
          {
           "line": {
            "color": "green",
            "width": 1
           },
           "marker": {
            "size": 2
           },
           "mode": "lines+markers",
           "name": "V1 + V2",
           "type": "scatter",
           "x": [
            0,
            1
           ],
           "y": [
            0,
            1.8979591836734693
           ]
          },
          {
           "fill": "toself",
           "fillcolor": "rgba(0, 100, 200, 0.2)",
           "line": {
            "color": "rgba(255,255,255,0)"
           },
           "name": "Area",
           "type": "scatter",
           "x": [
            0,
            1,
            1,
            0,
            0
           ],
           "y": [
            0,
            0.8979591836734693,
            1.8979591836734693,
            1,
            0
           ]
          }
         ]
        },
        {
         "data": [
          {
           "line": {
            "color": "blue",
            "width": 1
           },
           "marker": {
            "size": 2
           },
           "mode": "lines+markers",
           "name": "V1",
           "type": "scatter",
           "x": [
            0,
            1
           ],
           "y": [
            0,
            0.9183673469387754
           ]
          },
          {
           "line": {
            "color": "red",
            "width": 1
           },
           "marker": {
            "size": 2
           },
           "mode": "lines+markers",
           "name": "V2",
           "type": "scatter",
           "x": [
            0,
            0
           ],
           "y": [
            0,
            1
           ]
          },
          {
           "line": {
            "color": "green",
            "width": 1
           },
           "marker": {
            "size": 2
           },
           "mode": "lines+markers",
           "name": "V1 + V2",
           "type": "scatter",
           "x": [
            0,
            1
           ],
           "y": [
            0,
            1.9183673469387754
           ]
          },
          {
           "fill": "toself",
           "fillcolor": "rgba(0, 100, 200, 0.2)",
           "line": {
            "color": "rgba(255,255,255,0)"
           },
           "name": "Area",
           "type": "scatter",
           "x": [
            0,
            1,
            1,
            0,
            0
           ],
           "y": [
            0,
            0.9183673469387754,
            1.9183673469387754,
            1,
            0
           ]
          }
         ]
        },
        {
         "data": [
          {
           "line": {
            "color": "blue",
            "width": 1
           },
           "marker": {
            "size": 2
           },
           "mode": "lines+markers",
           "name": "V1",
           "type": "scatter",
           "x": [
            0,
            1
           ],
           "y": [
            0,
            0.9387755102040816
           ]
          },
          {
           "line": {
            "color": "red",
            "width": 1
           },
           "marker": {
            "size": 2
           },
           "mode": "lines+markers",
           "name": "V2",
           "type": "scatter",
           "x": [
            0,
            0
           ],
           "y": [
            0,
            1
           ]
          },
          {
           "line": {
            "color": "green",
            "width": 1
           },
           "marker": {
            "size": 2
           },
           "mode": "lines+markers",
           "name": "V1 + V2",
           "type": "scatter",
           "x": [
            0,
            1
           ],
           "y": [
            0,
            1.9387755102040816
           ]
          },
          {
           "fill": "toself",
           "fillcolor": "rgba(0, 100, 200, 0.2)",
           "line": {
            "color": "rgba(255,255,255,0)"
           },
           "name": "Area",
           "type": "scatter",
           "x": [
            0,
            1,
            1,
            0,
            0
           ],
           "y": [
            0,
            0.9387755102040816,
            1.9387755102040816,
            1,
            0
           ]
          }
         ]
        },
        {
         "data": [
          {
           "line": {
            "color": "blue",
            "width": 1
           },
           "marker": {
            "size": 2
           },
           "mode": "lines+markers",
           "name": "V1",
           "type": "scatter",
           "x": [
            0,
            1
           ],
           "y": [
            0,
            0.9591836734693877
           ]
          },
          {
           "line": {
            "color": "red",
            "width": 1
           },
           "marker": {
            "size": 2
           },
           "mode": "lines+markers",
           "name": "V2",
           "type": "scatter",
           "x": [
            0,
            0
           ],
           "y": [
            0,
            1
           ]
          },
          {
           "line": {
            "color": "green",
            "width": 1
           },
           "marker": {
            "size": 2
           },
           "mode": "lines+markers",
           "name": "V1 + V2",
           "type": "scatter",
           "x": [
            0,
            1
           ],
           "y": [
            0,
            1.9591836734693877
           ]
          },
          {
           "fill": "toself",
           "fillcolor": "rgba(0, 100, 200, 0.2)",
           "line": {
            "color": "rgba(255,255,255,0)"
           },
           "name": "Area",
           "type": "scatter",
           "x": [
            0,
            1,
            1,
            0,
            0
           ],
           "y": [
            0,
            0.9591836734693877,
            1.9591836734693877,
            1,
            0
           ]
          }
         ]
        },
        {
         "data": [
          {
           "line": {
            "color": "blue",
            "width": 1
           },
           "marker": {
            "size": 2
           },
           "mode": "lines+markers",
           "name": "V1",
           "type": "scatter",
           "x": [
            0,
            1
           ],
           "y": [
            0,
            0.9795918367346939
           ]
          },
          {
           "line": {
            "color": "red",
            "width": 1
           },
           "marker": {
            "size": 2
           },
           "mode": "lines+markers",
           "name": "V2",
           "type": "scatter",
           "x": [
            0,
            0
           ],
           "y": [
            0,
            1
           ]
          },
          {
           "line": {
            "color": "green",
            "width": 1
           },
           "marker": {
            "size": 2
           },
           "mode": "lines+markers",
           "name": "V1 + V2",
           "type": "scatter",
           "x": [
            0,
            1
           ],
           "y": [
            0,
            1.9795918367346939
           ]
          },
          {
           "fill": "toself",
           "fillcolor": "rgba(0, 100, 200, 0.2)",
           "line": {
            "color": "rgba(255,255,255,0)"
           },
           "name": "Area",
           "type": "scatter",
           "x": [
            0,
            1,
            1,
            0,
            0
           ],
           "y": [
            0,
            0.9795918367346939,
            1.9795918367346939,
            1,
            0
           ]
          }
         ]
        },
        {
         "data": [
          {
           "line": {
            "color": "blue",
            "width": 1
           },
           "marker": {
            "size": 2
           },
           "mode": "lines+markers",
           "name": "V1",
           "type": "scatter",
           "x": [
            0,
            1
           ],
           "y": [
            0,
            1
           ]
          },
          {
           "line": {
            "color": "red",
            "width": 1
           },
           "marker": {
            "size": 2
           },
           "mode": "lines+markers",
           "name": "V2",
           "type": "scatter",
           "x": [
            0,
            0
           ],
           "y": [
            0,
            1
           ]
          },
          {
           "line": {
            "color": "green",
            "width": 1
           },
           "marker": {
            "size": 2
           },
           "mode": "lines+markers",
           "name": "V1 + V2",
           "type": "scatter",
           "x": [
            0,
            1
           ],
           "y": [
            0,
            2
           ]
          },
          {
           "fill": "toself",
           "fillcolor": "rgba(0, 100, 200, 0.2)",
           "line": {
            "color": "rgba(255,255,255,0)"
           },
           "name": "Area",
           "type": "scatter",
           "x": [
            0,
            1,
            1,
            0,
            0
           ],
           "y": [
            0,
            1,
            2,
            1,
            0
           ]
          }
         ]
        }
       ],
       "layout": {
        "height": 450,
        "showlegend": true,
        "template": {
         "data": {
          "bar": [
           {
            "error_x": {
             "color": "#2a3f5f"
            },
            "error_y": {
             "color": "#2a3f5f"
            },
            "marker": {
             "line": {
              "color": "#E5ECF6",
              "width": 0.5
             },
             "pattern": {
              "fillmode": "overlay",
              "size": 10,
              "solidity": 0.2
             }
            },
            "type": "bar"
           }
          ],
          "barpolar": [
           {
            "marker": {
             "line": {
              "color": "#E5ECF6",
              "width": 0.5
             },
             "pattern": {
              "fillmode": "overlay",
              "size": 10,
              "solidity": 0.2
             }
            },
            "type": "barpolar"
           }
          ],
          "carpet": [
           {
            "aaxis": {
             "endlinecolor": "#2a3f5f",
             "gridcolor": "white",
             "linecolor": "white",
             "minorgridcolor": "white",
             "startlinecolor": "#2a3f5f"
            },
            "baxis": {
             "endlinecolor": "#2a3f5f",
             "gridcolor": "white",
             "linecolor": "white",
             "minorgridcolor": "white",
             "startlinecolor": "#2a3f5f"
            },
            "type": "carpet"
           }
          ],
          "choropleth": [
           {
            "colorbar": {
             "outlinewidth": 0,
             "ticks": ""
            },
            "type": "choropleth"
           }
          ],
          "contour": [
           {
            "colorbar": {
             "outlinewidth": 0,
             "ticks": ""
            },
            "colorscale": [
             [
              0,
              "#0d0887"
             ],
             [
              0.1111111111111111,
              "#46039f"
             ],
             [
              0.2222222222222222,
              "#7201a8"
             ],
             [
              0.3333333333333333,
              "#9c179e"
             ],
             [
              0.4444444444444444,
              "#bd3786"
             ],
             [
              0.5555555555555556,
              "#d8576b"
             ],
             [
              0.6666666666666666,
              "#ed7953"
             ],
             [
              0.7777777777777778,
              "#fb9f3a"
             ],
             [
              0.8888888888888888,
              "#fdca26"
             ],
             [
              1,
              "#f0f921"
             ]
            ],
            "type": "contour"
           }
          ],
          "contourcarpet": [
           {
            "colorbar": {
             "outlinewidth": 0,
             "ticks": ""
            },
            "type": "contourcarpet"
           }
          ],
          "heatmap": [
           {
            "colorbar": {
             "outlinewidth": 0,
             "ticks": ""
            },
            "colorscale": [
             [
              0,
              "#0d0887"
             ],
             [
              0.1111111111111111,
              "#46039f"
             ],
             [
              0.2222222222222222,
              "#7201a8"
             ],
             [
              0.3333333333333333,
              "#9c179e"
             ],
             [
              0.4444444444444444,
              "#bd3786"
             ],
             [
              0.5555555555555556,
              "#d8576b"
             ],
             [
              0.6666666666666666,
              "#ed7953"
             ],
             [
              0.7777777777777778,
              "#fb9f3a"
             ],
             [
              0.8888888888888888,
              "#fdca26"
             ],
             [
              1,
              "#f0f921"
             ]
            ],
            "type": "heatmap"
           }
          ],
          "heatmapgl": [
           {
            "colorbar": {
             "outlinewidth": 0,
             "ticks": ""
            },
            "colorscale": [
             [
              0,
              "#0d0887"
             ],
             [
              0.1111111111111111,
              "#46039f"
             ],
             [
              0.2222222222222222,
              "#7201a8"
             ],
             [
              0.3333333333333333,
              "#9c179e"
             ],
             [
              0.4444444444444444,
              "#bd3786"
             ],
             [
              0.5555555555555556,
              "#d8576b"
             ],
             [
              0.6666666666666666,
              "#ed7953"
             ],
             [
              0.7777777777777778,
              "#fb9f3a"
             ],
             [
              0.8888888888888888,
              "#fdca26"
             ],
             [
              1,
              "#f0f921"
             ]
            ],
            "type": "heatmapgl"
           }
          ],
          "histogram": [
           {
            "marker": {
             "pattern": {
              "fillmode": "overlay",
              "size": 10,
              "solidity": 0.2
             }
            },
            "type": "histogram"
           }
          ],
          "histogram2d": [
           {
            "colorbar": {
             "outlinewidth": 0,
             "ticks": ""
            },
            "colorscale": [
             [
              0,
              "#0d0887"
             ],
             [
              0.1111111111111111,
              "#46039f"
             ],
             [
              0.2222222222222222,
              "#7201a8"
             ],
             [
              0.3333333333333333,
              "#9c179e"
             ],
             [
              0.4444444444444444,
              "#bd3786"
             ],
             [
              0.5555555555555556,
              "#d8576b"
             ],
             [
              0.6666666666666666,
              "#ed7953"
             ],
             [
              0.7777777777777778,
              "#fb9f3a"
             ],
             [
              0.8888888888888888,
              "#fdca26"
             ],
             [
              1,
              "#f0f921"
             ]
            ],
            "type": "histogram2d"
           }
          ],
          "histogram2dcontour": [
           {
            "colorbar": {
             "outlinewidth": 0,
             "ticks": ""
            },
            "colorscale": [
             [
              0,
              "#0d0887"
             ],
             [
              0.1111111111111111,
              "#46039f"
             ],
             [
              0.2222222222222222,
              "#7201a8"
             ],
             [
              0.3333333333333333,
              "#9c179e"
             ],
             [
              0.4444444444444444,
              "#bd3786"
             ],
             [
              0.5555555555555556,
              "#d8576b"
             ],
             [
              0.6666666666666666,
              "#ed7953"
             ],
             [
              0.7777777777777778,
              "#fb9f3a"
             ],
             [
              0.8888888888888888,
              "#fdca26"
             ],
             [
              1,
              "#f0f921"
             ]
            ],
            "type": "histogram2dcontour"
           }
          ],
          "mesh3d": [
           {
            "colorbar": {
             "outlinewidth": 0,
             "ticks": ""
            },
            "type": "mesh3d"
           }
          ],
          "parcoords": [
           {
            "line": {
             "colorbar": {
              "outlinewidth": 0,
              "ticks": ""
             }
            },
            "type": "parcoords"
           }
          ],
          "pie": [
           {
            "automargin": true,
            "type": "pie"
           }
          ],
          "scatter": [
           {
            "fillpattern": {
             "fillmode": "overlay",
             "size": 10,
             "solidity": 0.2
            },
            "type": "scatter"
           }
          ],
          "scatter3d": [
           {
            "line": {
             "colorbar": {
              "outlinewidth": 0,
              "ticks": ""
             }
            },
            "marker": {
             "colorbar": {
              "outlinewidth": 0,
              "ticks": ""
             }
            },
            "type": "scatter3d"
           }
          ],
          "scattercarpet": [
           {
            "marker": {
             "colorbar": {
              "outlinewidth": 0,
              "ticks": ""
             }
            },
            "type": "scattercarpet"
           }
          ],
          "scattergeo": [
           {
            "marker": {
             "colorbar": {
              "outlinewidth": 0,
              "ticks": ""
             }
            },
            "type": "scattergeo"
           }
          ],
          "scattergl": [
           {
            "marker": {
             "colorbar": {
              "outlinewidth": 0,
              "ticks": ""
             }
            },
            "type": "scattergl"
           }
          ],
          "scattermapbox": [
           {
            "marker": {
             "colorbar": {
              "outlinewidth": 0,
              "ticks": ""
             }
            },
            "type": "scattermapbox"
           }
          ],
          "scatterpolar": [
           {
            "marker": {
             "colorbar": {
              "outlinewidth": 0,
              "ticks": ""
             }
            },
            "type": "scatterpolar"
           }
          ],
          "scatterpolargl": [
           {
            "marker": {
             "colorbar": {
              "outlinewidth": 0,
              "ticks": ""
             }
            },
            "type": "scatterpolargl"
           }
          ],
          "scatterternary": [
           {
            "marker": {
             "colorbar": {
              "outlinewidth": 0,
              "ticks": ""
             }
            },
            "type": "scatterternary"
           }
          ],
          "surface": [
           {
            "colorbar": {
             "outlinewidth": 0,
             "ticks": ""
            },
            "colorscale": [
             [
              0,
              "#0d0887"
             ],
             [
              0.1111111111111111,
              "#46039f"
             ],
             [
              0.2222222222222222,
              "#7201a8"
             ],
             [
              0.3333333333333333,
              "#9c179e"
             ],
             [
              0.4444444444444444,
              "#bd3786"
             ],
             [
              0.5555555555555556,
              "#d8576b"
             ],
             [
              0.6666666666666666,
              "#ed7953"
             ],
             [
              0.7777777777777778,
              "#fb9f3a"
             ],
             [
              0.8888888888888888,
              "#fdca26"
             ],
             [
              1,
              "#f0f921"
             ]
            ],
            "type": "surface"
           }
          ],
          "table": [
           {
            "cells": {
             "fill": {
              "color": "#EBF0F8"
             },
             "line": {
              "color": "white"
             }
            },
            "header": {
             "fill": {
              "color": "#C8D4E3"
             },
             "line": {
              "color": "white"
             }
            },
            "type": "table"
           }
          ]
         },
         "layout": {
          "annotationdefaults": {
           "arrowcolor": "#2a3f5f",
           "arrowhead": 0,
           "arrowwidth": 1
          },
          "autotypenumbers": "strict",
          "coloraxis": {
           "colorbar": {
            "outlinewidth": 0,
            "ticks": ""
           }
          },
          "colorscale": {
           "diverging": [
            [
             0,
             "#8e0152"
            ],
            [
             0.1,
             "#c51b7d"
            ],
            [
             0.2,
             "#de77ae"
            ],
            [
             0.3,
             "#f1b6da"
            ],
            [
             0.4,
             "#fde0ef"
            ],
            [
             0.5,
             "#f7f7f7"
            ],
            [
             0.6,
             "#e6f5d0"
            ],
            [
             0.7,
             "#b8e186"
            ],
            [
             0.8,
             "#7fbc41"
            ],
            [
             0.9,
             "#4d9221"
            ],
            [
             1,
             "#276419"
            ]
           ],
           "sequential": [
            [
             0,
             "#0d0887"
            ],
            [
             0.1111111111111111,
             "#46039f"
            ],
            [
             0.2222222222222222,
             "#7201a8"
            ],
            [
             0.3333333333333333,
             "#9c179e"
            ],
            [
             0.4444444444444444,
             "#bd3786"
            ],
            [
             0.5555555555555556,
             "#d8576b"
            ],
            [
             0.6666666666666666,
             "#ed7953"
            ],
            [
             0.7777777777777778,
             "#fb9f3a"
            ],
            [
             0.8888888888888888,
             "#fdca26"
            ],
            [
             1,
             "#f0f921"
            ]
           ],
           "sequentialminus": [
            [
             0,
             "#0d0887"
            ],
            [
             0.1111111111111111,
             "#46039f"
            ],
            [
             0.2222222222222222,
             "#7201a8"
            ],
            [
             0.3333333333333333,
             "#9c179e"
            ],
            [
             0.4444444444444444,
             "#bd3786"
            ],
            [
             0.5555555555555556,
             "#d8576b"
            ],
            [
             0.6666666666666666,
             "#ed7953"
            ],
            [
             0.7777777777777778,
             "#fb9f3a"
            ],
            [
             0.8888888888888888,
             "#fdca26"
            ],
            [
             1,
             "#f0f921"
            ]
           ]
          },
          "colorway": [
           "#636efa",
           "#EF553B",
           "#00cc96",
           "#ab63fa",
           "#FFA15A",
           "#19d3f3",
           "#FF6692",
           "#B6E880",
           "#FF97FF",
           "#FECB52"
          ],
          "font": {
           "color": "#2a3f5f"
          },
          "geo": {
           "bgcolor": "white",
           "lakecolor": "white",
           "landcolor": "#E5ECF6",
           "showlakes": true,
           "showland": true,
           "subunitcolor": "white"
          },
          "hoverlabel": {
           "align": "left"
          },
          "hovermode": "closest",
          "mapbox": {
           "style": "light"
          },
          "paper_bgcolor": "white",
          "plot_bgcolor": "#E5ECF6",
          "polar": {
           "angularaxis": {
            "gridcolor": "white",
            "linecolor": "white",
            "ticks": ""
           },
           "bgcolor": "#E5ECF6",
           "radialaxis": {
            "gridcolor": "white",
            "linecolor": "white",
            "ticks": ""
           }
          },
          "scene": {
           "xaxis": {
            "backgroundcolor": "#E5ECF6",
            "gridcolor": "white",
            "gridwidth": 2,
            "linecolor": "white",
            "showbackground": true,
            "ticks": "",
            "zerolinecolor": "white"
           },
           "yaxis": {
            "backgroundcolor": "#E5ECF6",
            "gridcolor": "white",
            "gridwidth": 2,
            "linecolor": "white",
            "showbackground": true,
            "ticks": "",
            "zerolinecolor": "white"
           },
           "zaxis": {
            "backgroundcolor": "#E5ECF6",
            "gridcolor": "white",
            "gridwidth": 2,
            "linecolor": "white",
            "showbackground": true,
            "ticks": "",
            "zerolinecolor": "white"
           }
          },
          "shapedefaults": {
           "line": {
            "color": "#2a3f5f"
           }
          },
          "ternary": {
           "aaxis": {
            "gridcolor": "white",
            "linecolor": "white",
            "ticks": ""
           },
           "baxis": {
            "gridcolor": "white",
            "linecolor": "white",
            "ticks": ""
           },
           "bgcolor": "#E5ECF6",
           "caxis": {
            "gridcolor": "white",
            "linecolor": "white",
            "ticks": ""
           }
          },
          "title": {
           "x": 0.05
          },
          "xaxis": {
           "automargin": true,
           "gridcolor": "white",
           "linecolor": "white",
           "ticks": "",
           "title": {
            "standoff": 15
           },
           "zerolinecolor": "white",
           "zerolinewidth": 2
          },
          "yaxis": {
           "automargin": true,
           "gridcolor": "white",
           "linecolor": "white",
           "ticks": "",
           "title": {
            "standoff": 15
           },
           "zerolinecolor": "white",
           "zerolinewidth": 2
          }
         }
        },
        "title": {
         "text": "Area and stretching in the x direction"
        },
        "updatemenus": [
         {
          "buttons": [
           {
            "args": [
             null,
             {
              "frame": {
               "duration": 50,
               "redraw": false
              },
              "fromcurrent": true,
              "transition": {
               "duration": 10
              }
             }
            ],
            "label": "Play",
            "method": "animate"
           }
          ],
          "type": "buttons"
         }
        ],
        "width": 600,
        "xaxis": {
         "range": [
          -2.3,
          2.3
         ],
         "title": {
          "text": "x"
         }
        },
        "yaxis": {
         "range": [
          -2.3,
          2.3
         ],
         "title": {
          "text": "y"
         }
        }
       }
      }
     },
     "metadata": {},
     "output_type": "display_data"
    }
   ],
   "source": [
    "# Sheer in the y direction\n",
    "\n",
    "fig5 = create_animation(unit1, unit2, [\n",
    "    np.array([[1, 0], [x, 1]]) for x in np.linspace(0, 1, 50)\n",
    "])\n",
    "fig5.show()\n"
   ]
  },
  {
   "cell_type": "code",
   "execution_count": null,
   "id": "9d10a805",
   "metadata": {},
   "outputs": [
    {
     "data": {
      "application/vnd.plotly.v1+json": {
       "config": {
        "plotlyServerURL": "https://plot.ly"
       },
       "data": [
        {
         "line": {
          "color": "blue",
          "width": 1
         },
         "marker": {
          "size": 2
         },
         "mode": "lines+markers",
         "name": "V1",
         "type": "scatter",
         "x": [
          0,
          1
         ],
         "y": [
          0,
          0
         ]
        },
        {
         "line": {
          "color": "red",
          "width": 1
         },
         "marker": {
          "size": 2
         },
         "mode": "lines+markers",
         "name": "V2",
         "type": "scatter",
         "x": [
          0,
          0
         ],
         "y": [
          0,
          1
         ]
        },
        {
         "line": {
          "color": "green",
          "width": 1
         },
         "marker": {
          "size": 2
         },
         "mode": "lines+markers",
         "name": "V1 + V2",
         "type": "scatter",
         "x": [
          0,
          1
         ],
         "y": [
          0,
          1
         ]
        },
        {
         "fill": "toself",
         "fillcolor": "rgba(0, 100, 200, 0.2)",
         "line": {
          "color": "rgba(255,255,255,0)"
         },
         "name": "Area",
         "type": "scatter",
         "x": [
          0,
          1,
          1,
          0,
          0
         ],
         "y": [
          0,
          0,
          1,
          1,
          0
         ]
        }
       ],
       "frames": [
        {
         "data": [
          {
           "line": {
            "color": "blue",
            "width": 1
           },
           "marker": {
            "size": 2
           },
           "mode": "lines+markers",
           "name": "V1",
           "type": "scatter",
           "x": [
            0,
            1
           ],
           "y": [
            0,
            0
           ]
          },
          {
           "line": {
            "color": "red",
            "width": 1
           },
           "marker": {
            "size": 2
           },
           "mode": "lines+markers",
           "name": "V2",
           "type": "scatter",
           "x": [
            0,
            0
           ],
           "y": [
            0,
            1
           ]
          },
          {
           "line": {
            "color": "green",
            "width": 1
           },
           "marker": {
            "size": 2
           },
           "mode": "lines+markers",
           "name": "V1 + V2",
           "type": "scatter",
           "x": [
            0,
            1
           ],
           "y": [
            0,
            1
           ]
          },
          {
           "fill": "toself",
           "fillcolor": "rgba(0, 100, 200, 0.2)",
           "line": {
            "color": "rgba(255,255,255,0)"
           },
           "name": "Area",
           "type": "scatter",
           "x": [
            0,
            1,
            1,
            0,
            0
           ],
           "y": [
            0,
            0,
            1,
            1,
            0
           ]
          }
         ]
        },
        {
         "data": [
          {
           "line": {
            "color": "blue",
            "width": 1
           },
           "marker": {
            "size": 2
           },
           "mode": "lines+markers",
           "name": "V1",
           "type": "scatter",
           "x": [
            0,
            1
           ],
           "y": [
            0,
            0.02040816326530612
           ]
          },
          {
           "line": {
            "color": "red",
            "width": 1
           },
           "marker": {
            "size": 2
           },
           "mode": "lines+markers",
           "name": "V2",
           "type": "scatter",
           "x": [
            0,
            0.02040816326530612
           ],
           "y": [
            0,
            1
           ]
          },
          {
           "line": {
            "color": "green",
            "width": 1
           },
           "marker": {
            "size": 2
           },
           "mode": "lines+markers",
           "name": "V1 + V2",
           "type": "scatter",
           "x": [
            0,
            1.0204081632653061
           ],
           "y": [
            0,
            1.0204081632653061
           ]
          },
          {
           "fill": "toself",
           "fillcolor": "rgba(0, 100, 200, 0.2)",
           "line": {
            "color": "rgba(255,255,255,0)"
           },
           "name": "Area",
           "type": "scatter",
           "x": [
            0,
            1,
            1.0204081632653061,
            0.02040816326530612,
            0
           ],
           "y": [
            0,
            0.02040816326530612,
            1.0204081632653061,
            1,
            0
           ]
          }
         ]
        },
        {
         "data": [
          {
           "line": {
            "color": "blue",
            "width": 1
           },
           "marker": {
            "size": 2
           },
           "mode": "lines+markers",
           "name": "V1",
           "type": "scatter",
           "x": [
            0,
            1
           ],
           "y": [
            0,
            0.04081632653061224
           ]
          },
          {
           "line": {
            "color": "red",
            "width": 1
           },
           "marker": {
            "size": 2
           },
           "mode": "lines+markers",
           "name": "V2",
           "type": "scatter",
           "x": [
            0,
            0.04081632653061224
           ],
           "y": [
            0,
            1
           ]
          },
          {
           "line": {
            "color": "green",
            "width": 1
           },
           "marker": {
            "size": 2
           },
           "mode": "lines+markers",
           "name": "V1 + V2",
           "type": "scatter",
           "x": [
            0,
            1.0408163265306123
           ],
           "y": [
            0,
            1.0408163265306123
           ]
          },
          {
           "fill": "toself",
           "fillcolor": "rgba(0, 100, 200, 0.2)",
           "line": {
            "color": "rgba(255,255,255,0)"
           },
           "name": "Area",
           "type": "scatter",
           "x": [
            0,
            1,
            1.0408163265306123,
            0.04081632653061224,
            0
           ],
           "y": [
            0,
            0.04081632653061224,
            1.0408163265306123,
            1,
            0
           ]
          }
         ]
        },
        {
         "data": [
          {
           "line": {
            "color": "blue",
            "width": 1
           },
           "marker": {
            "size": 2
           },
           "mode": "lines+markers",
           "name": "V1",
           "type": "scatter",
           "x": [
            0,
            1
           ],
           "y": [
            0,
            0.061224489795918366
           ]
          },
          {
           "line": {
            "color": "red",
            "width": 1
           },
           "marker": {
            "size": 2
           },
           "mode": "lines+markers",
           "name": "V2",
           "type": "scatter",
           "x": [
            0,
            0.061224489795918366
           ],
           "y": [
            0,
            1
           ]
          },
          {
           "line": {
            "color": "green",
            "width": 1
           },
           "marker": {
            "size": 2
           },
           "mode": "lines+markers",
           "name": "V1 + V2",
           "type": "scatter",
           "x": [
            0,
            1.0612244897959184
           ],
           "y": [
            0,
            1.0612244897959184
           ]
          },
          {
           "fill": "toself",
           "fillcolor": "rgba(0, 100, 200, 0.2)",
           "line": {
            "color": "rgba(255,255,255,0)"
           },
           "name": "Area",
           "type": "scatter",
           "x": [
            0,
            1,
            1.0612244897959184,
            0.061224489795918366,
            0
           ],
           "y": [
            0,
            0.061224489795918366,
            1.0612244897959184,
            1,
            0
           ]
          }
         ]
        },
        {
         "data": [
          {
           "line": {
            "color": "blue",
            "width": 1
           },
           "marker": {
            "size": 2
           },
           "mode": "lines+markers",
           "name": "V1",
           "type": "scatter",
           "x": [
            0,
            1
           ],
           "y": [
            0,
            0.08163265306122448
           ]
          },
          {
           "line": {
            "color": "red",
            "width": 1
           },
           "marker": {
            "size": 2
           },
           "mode": "lines+markers",
           "name": "V2",
           "type": "scatter",
           "x": [
            0,
            0.08163265306122448
           ],
           "y": [
            0,
            1
           ]
          },
          {
           "line": {
            "color": "green",
            "width": 1
           },
           "marker": {
            "size": 2
           },
           "mode": "lines+markers",
           "name": "V1 + V2",
           "type": "scatter",
           "x": [
            0,
            1.0816326530612246
           ],
           "y": [
            0,
            1.0816326530612246
           ]
          },
          {
           "fill": "toself",
           "fillcolor": "rgba(0, 100, 200, 0.2)",
           "line": {
            "color": "rgba(255,255,255,0)"
           },
           "name": "Area",
           "type": "scatter",
           "x": [
            0,
            1,
            1.0816326530612246,
            0.08163265306122448,
            0
           ],
           "y": [
            0,
            0.08163265306122448,
            1.0816326530612246,
            1,
            0
           ]
          }
         ]
        },
        {
         "data": [
          {
           "line": {
            "color": "blue",
            "width": 1
           },
           "marker": {
            "size": 2
           },
           "mode": "lines+markers",
           "name": "V1",
           "type": "scatter",
           "x": [
            0,
            1
           ],
           "y": [
            0,
            0.1020408163265306
           ]
          },
          {
           "line": {
            "color": "red",
            "width": 1
           },
           "marker": {
            "size": 2
           },
           "mode": "lines+markers",
           "name": "V2",
           "type": "scatter",
           "x": [
            0,
            0.1020408163265306
           ],
           "y": [
            0,
            1
           ]
          },
          {
           "line": {
            "color": "green",
            "width": 1
           },
           "marker": {
            "size": 2
           },
           "mode": "lines+markers",
           "name": "V1 + V2",
           "type": "scatter",
           "x": [
            0,
            1.1020408163265305
           ],
           "y": [
            0,
            1.1020408163265305
           ]
          },
          {
           "fill": "toself",
           "fillcolor": "rgba(0, 100, 200, 0.2)",
           "line": {
            "color": "rgba(255,255,255,0)"
           },
           "name": "Area",
           "type": "scatter",
           "x": [
            0,
            1,
            1.1020408163265305,
            0.1020408163265306,
            0
           ],
           "y": [
            0,
            0.1020408163265306,
            1.1020408163265305,
            1,
            0
           ]
          }
         ]
        },
        {
         "data": [
          {
           "line": {
            "color": "blue",
            "width": 1
           },
           "marker": {
            "size": 2
           },
           "mode": "lines+markers",
           "name": "V1",
           "type": "scatter",
           "x": [
            0,
            1
           ],
           "y": [
            0,
            0.12244897959183673
           ]
          },
          {
           "line": {
            "color": "red",
            "width": 1
           },
           "marker": {
            "size": 2
           },
           "mode": "lines+markers",
           "name": "V2",
           "type": "scatter",
           "x": [
            0,
            0.12244897959183673
           ],
           "y": [
            0,
            1
           ]
          },
          {
           "line": {
            "color": "green",
            "width": 1
           },
           "marker": {
            "size": 2
           },
           "mode": "lines+markers",
           "name": "V1 + V2",
           "type": "scatter",
           "x": [
            0,
            1.1224489795918366
           ],
           "y": [
            0,
            1.1224489795918366
           ]
          },
          {
           "fill": "toself",
           "fillcolor": "rgba(0, 100, 200, 0.2)",
           "line": {
            "color": "rgba(255,255,255,0)"
           },
           "name": "Area",
           "type": "scatter",
           "x": [
            0,
            1,
            1.1224489795918366,
            0.12244897959183673,
            0
           ],
           "y": [
            0,
            0.12244897959183673,
            1.1224489795918366,
            1,
            0
           ]
          }
         ]
        },
        {
         "data": [
          {
           "line": {
            "color": "blue",
            "width": 1
           },
           "marker": {
            "size": 2
           },
           "mode": "lines+markers",
           "name": "V1",
           "type": "scatter",
           "x": [
            0,
            1
           ],
           "y": [
            0,
            0.14285714285714285
           ]
          },
          {
           "line": {
            "color": "red",
            "width": 1
           },
           "marker": {
            "size": 2
           },
           "mode": "lines+markers",
           "name": "V2",
           "type": "scatter",
           "x": [
            0,
            0.14285714285714285
           ],
           "y": [
            0,
            1
           ]
          },
          {
           "line": {
            "color": "green",
            "width": 1
           },
           "marker": {
            "size": 2
           },
           "mode": "lines+markers",
           "name": "V1 + V2",
           "type": "scatter",
           "x": [
            0,
            1.1428571428571428
           ],
           "y": [
            0,
            1.1428571428571428
           ]
          },
          {
           "fill": "toself",
           "fillcolor": "rgba(0, 100, 200, 0.2)",
           "line": {
            "color": "rgba(255,255,255,0)"
           },
           "name": "Area",
           "type": "scatter",
           "x": [
            0,
            1,
            1.1428571428571428,
            0.14285714285714285,
            0
           ],
           "y": [
            0,
            0.14285714285714285,
            1.1428571428571428,
            1,
            0
           ]
          }
         ]
        },
        {
         "data": [
          {
           "line": {
            "color": "blue",
            "width": 1
           },
           "marker": {
            "size": 2
           },
           "mode": "lines+markers",
           "name": "V1",
           "type": "scatter",
           "x": [
            0,
            1
           ],
           "y": [
            0,
            0.16326530612244897
           ]
          },
          {
           "line": {
            "color": "red",
            "width": 1
           },
           "marker": {
            "size": 2
           },
           "mode": "lines+markers",
           "name": "V2",
           "type": "scatter",
           "x": [
            0,
            0.16326530612244897
           ],
           "y": [
            0,
            1
           ]
          },
          {
           "line": {
            "color": "green",
            "width": 1
           },
           "marker": {
            "size": 2
           },
           "mode": "lines+markers",
           "name": "V1 + V2",
           "type": "scatter",
           "x": [
            0,
            1.163265306122449
           ],
           "y": [
            0,
            1.163265306122449
           ]
          },
          {
           "fill": "toself",
           "fillcolor": "rgba(0, 100, 200, 0.2)",
           "line": {
            "color": "rgba(255,255,255,0)"
           },
           "name": "Area",
           "type": "scatter",
           "x": [
            0,
            1,
            1.163265306122449,
            0.16326530612244897,
            0
           ],
           "y": [
            0,
            0.16326530612244897,
            1.163265306122449,
            1,
            0
           ]
          }
         ]
        },
        {
         "data": [
          {
           "line": {
            "color": "blue",
            "width": 1
           },
           "marker": {
            "size": 2
           },
           "mode": "lines+markers",
           "name": "V1",
           "type": "scatter",
           "x": [
            0,
            1
           ],
           "y": [
            0,
            0.18367346938775508
           ]
          },
          {
           "line": {
            "color": "red",
            "width": 1
           },
           "marker": {
            "size": 2
           },
           "mode": "lines+markers",
           "name": "V2",
           "type": "scatter",
           "x": [
            0,
            0.18367346938775508
           ],
           "y": [
            0,
            1
           ]
          },
          {
           "line": {
            "color": "green",
            "width": 1
           },
           "marker": {
            "size": 2
           },
           "mode": "lines+markers",
           "name": "V1 + V2",
           "type": "scatter",
           "x": [
            0,
            1.183673469387755
           ],
           "y": [
            0,
            1.183673469387755
           ]
          },
          {
           "fill": "toself",
           "fillcolor": "rgba(0, 100, 200, 0.2)",
           "line": {
            "color": "rgba(255,255,255,0)"
           },
           "name": "Area",
           "type": "scatter",
           "x": [
            0,
            1,
            1.183673469387755,
            0.18367346938775508,
            0
           ],
           "y": [
            0,
            0.18367346938775508,
            1.183673469387755,
            1,
            0
           ]
          }
         ]
        },
        {
         "data": [
          {
           "line": {
            "color": "blue",
            "width": 1
           },
           "marker": {
            "size": 2
           },
           "mode": "lines+markers",
           "name": "V1",
           "type": "scatter",
           "x": [
            0,
            1
           ],
           "y": [
            0,
            0.2040816326530612
           ]
          },
          {
           "line": {
            "color": "red",
            "width": 1
           },
           "marker": {
            "size": 2
           },
           "mode": "lines+markers",
           "name": "V2",
           "type": "scatter",
           "x": [
            0,
            0.2040816326530612
           ],
           "y": [
            0,
            1
           ]
          },
          {
           "line": {
            "color": "green",
            "width": 1
           },
           "marker": {
            "size": 2
           },
           "mode": "lines+markers",
           "name": "V1 + V2",
           "type": "scatter",
           "x": [
            0,
            1.2040816326530612
           ],
           "y": [
            0,
            1.2040816326530612
           ]
          },
          {
           "fill": "toself",
           "fillcolor": "rgba(0, 100, 200, 0.2)",
           "line": {
            "color": "rgba(255,255,255,0)"
           },
           "name": "Area",
           "type": "scatter",
           "x": [
            0,
            1,
            1.2040816326530612,
            0.2040816326530612,
            0
           ],
           "y": [
            0,
            0.2040816326530612,
            1.2040816326530612,
            1,
            0
           ]
          }
         ]
        },
        {
         "data": [
          {
           "line": {
            "color": "blue",
            "width": 1
           },
           "marker": {
            "size": 2
           },
           "mode": "lines+markers",
           "name": "V1",
           "type": "scatter",
           "x": [
            0,
            1
           ],
           "y": [
            0,
            0.22448979591836732
           ]
          },
          {
           "line": {
            "color": "red",
            "width": 1
           },
           "marker": {
            "size": 2
           },
           "mode": "lines+markers",
           "name": "V2",
           "type": "scatter",
           "x": [
            0,
            0.22448979591836732
           ],
           "y": [
            0,
            1
           ]
          },
          {
           "line": {
            "color": "green",
            "width": 1
           },
           "marker": {
            "size": 2
           },
           "mode": "lines+markers",
           "name": "V1 + V2",
           "type": "scatter",
           "x": [
            0,
            1.2244897959183674
           ],
           "y": [
            0,
            1.2244897959183674
           ]
          },
          {
           "fill": "toself",
           "fillcolor": "rgba(0, 100, 200, 0.2)",
           "line": {
            "color": "rgba(255,255,255,0)"
           },
           "name": "Area",
           "type": "scatter",
           "x": [
            0,
            1,
            1.2244897959183674,
            0.22448979591836732,
            0
           ],
           "y": [
            0,
            0.22448979591836732,
            1.2244897959183674,
            1,
            0
           ]
          }
         ]
        },
        {
         "data": [
          {
           "line": {
            "color": "blue",
            "width": 1
           },
           "marker": {
            "size": 2
           },
           "mode": "lines+markers",
           "name": "V1",
           "type": "scatter",
           "x": [
            0,
            1
           ],
           "y": [
            0,
            0.24489795918367346
           ]
          },
          {
           "line": {
            "color": "red",
            "width": 1
           },
           "marker": {
            "size": 2
           },
           "mode": "lines+markers",
           "name": "V2",
           "type": "scatter",
           "x": [
            0,
            0.24489795918367346
           ],
           "y": [
            0,
            1
           ]
          },
          {
           "line": {
            "color": "green",
            "width": 1
           },
           "marker": {
            "size": 2
           },
           "mode": "lines+markers",
           "name": "V1 + V2",
           "type": "scatter",
           "x": [
            0,
            1.2448979591836735
           ],
           "y": [
            0,
            1.2448979591836735
           ]
          },
          {
           "fill": "toself",
           "fillcolor": "rgba(0, 100, 200, 0.2)",
           "line": {
            "color": "rgba(255,255,255,0)"
           },
           "name": "Area",
           "type": "scatter",
           "x": [
            0,
            1,
            1.2448979591836735,
            0.24489795918367346,
            0
           ],
           "y": [
            0,
            0.24489795918367346,
            1.2448979591836735,
            1,
            0
           ]
          }
         ]
        },
        {
         "data": [
          {
           "line": {
            "color": "blue",
            "width": 1
           },
           "marker": {
            "size": 2
           },
           "mode": "lines+markers",
           "name": "V1",
           "type": "scatter",
           "x": [
            0,
            1
           ],
           "y": [
            0,
            0.26530612244897955
           ]
          },
          {
           "line": {
            "color": "red",
            "width": 1
           },
           "marker": {
            "size": 2
           },
           "mode": "lines+markers",
           "name": "V2",
           "type": "scatter",
           "x": [
            0,
            0.26530612244897955
           ],
           "y": [
            0,
            1
           ]
          },
          {
           "line": {
            "color": "green",
            "width": 1
           },
           "marker": {
            "size": 2
           },
           "mode": "lines+markers",
           "name": "V1 + V2",
           "type": "scatter",
           "x": [
            0,
            1.2653061224489797
           ],
           "y": [
            0,
            1.2653061224489797
           ]
          },
          {
           "fill": "toself",
           "fillcolor": "rgba(0, 100, 200, 0.2)",
           "line": {
            "color": "rgba(255,255,255,0)"
           },
           "name": "Area",
           "type": "scatter",
           "x": [
            0,
            1,
            1.2653061224489797,
            0.26530612244897955,
            0
           ],
           "y": [
            0,
            0.26530612244897955,
            1.2653061224489797,
            1,
            0
           ]
          }
         ]
        },
        {
         "data": [
          {
           "line": {
            "color": "blue",
            "width": 1
           },
           "marker": {
            "size": 2
           },
           "mode": "lines+markers",
           "name": "V1",
           "type": "scatter",
           "x": [
            0,
            1
           ],
           "y": [
            0,
            0.2857142857142857
           ]
          },
          {
           "line": {
            "color": "red",
            "width": 1
           },
           "marker": {
            "size": 2
           },
           "mode": "lines+markers",
           "name": "V2",
           "type": "scatter",
           "x": [
            0,
            0.2857142857142857
           ],
           "y": [
            0,
            1
           ]
          },
          {
           "line": {
            "color": "green",
            "width": 1
           },
           "marker": {
            "size": 2
           },
           "mode": "lines+markers",
           "name": "V1 + V2",
           "type": "scatter",
           "x": [
            0,
            1.2857142857142856
           ],
           "y": [
            0,
            1.2857142857142856
           ]
          },
          {
           "fill": "toself",
           "fillcolor": "rgba(0, 100, 200, 0.2)",
           "line": {
            "color": "rgba(255,255,255,0)"
           },
           "name": "Area",
           "type": "scatter",
           "x": [
            0,
            1,
            1.2857142857142856,
            0.2857142857142857,
            0
           ],
           "y": [
            0,
            0.2857142857142857,
            1.2857142857142856,
            1,
            0
           ]
          }
         ]
        },
        {
         "data": [
          {
           "line": {
            "color": "blue",
            "width": 1
           },
           "marker": {
            "size": 2
           },
           "mode": "lines+markers",
           "name": "V1",
           "type": "scatter",
           "x": [
            0,
            1
           ],
           "y": [
            0,
            0.3061224489795918
           ]
          },
          {
           "line": {
            "color": "red",
            "width": 1
           },
           "marker": {
            "size": 2
           },
           "mode": "lines+markers",
           "name": "V2",
           "type": "scatter",
           "x": [
            0,
            0.3061224489795918
           ],
           "y": [
            0,
            1
           ]
          },
          {
           "line": {
            "color": "green",
            "width": 1
           },
           "marker": {
            "size": 2
           },
           "mode": "lines+markers",
           "name": "V1 + V2",
           "type": "scatter",
           "x": [
            0,
            1.3061224489795917
           ],
           "y": [
            0,
            1.3061224489795917
           ]
          },
          {
           "fill": "toself",
           "fillcolor": "rgba(0, 100, 200, 0.2)",
           "line": {
            "color": "rgba(255,255,255,0)"
           },
           "name": "Area",
           "type": "scatter",
           "x": [
            0,
            1,
            1.3061224489795917,
            0.3061224489795918,
            0
           ],
           "y": [
            0,
            0.3061224489795918,
            1.3061224489795917,
            1,
            0
           ]
          }
         ]
        },
        {
         "data": [
          {
           "line": {
            "color": "blue",
            "width": 1
           },
           "marker": {
            "size": 2
           },
           "mode": "lines+markers",
           "name": "V1",
           "type": "scatter",
           "x": [
            0,
            1
           ],
           "y": [
            0,
            0.32653061224489793
           ]
          },
          {
           "line": {
            "color": "red",
            "width": 1
           },
           "marker": {
            "size": 2
           },
           "mode": "lines+markers",
           "name": "V2",
           "type": "scatter",
           "x": [
            0,
            0.32653061224489793
           ],
           "y": [
            0,
            1
           ]
          },
          {
           "line": {
            "color": "green",
            "width": 1
           },
           "marker": {
            "size": 2
           },
           "mode": "lines+markers",
           "name": "V1 + V2",
           "type": "scatter",
           "x": [
            0,
            1.3265306122448979
           ],
           "y": [
            0,
            1.3265306122448979
           ]
          },
          {
           "fill": "toself",
           "fillcolor": "rgba(0, 100, 200, 0.2)",
           "line": {
            "color": "rgba(255,255,255,0)"
           },
           "name": "Area",
           "type": "scatter",
           "x": [
            0,
            1,
            1.3265306122448979,
            0.32653061224489793,
            0
           ],
           "y": [
            0,
            0.32653061224489793,
            1.3265306122448979,
            1,
            0
           ]
          }
         ]
        },
        {
         "data": [
          {
           "line": {
            "color": "blue",
            "width": 1
           },
           "marker": {
            "size": 2
           },
           "mode": "lines+markers",
           "name": "V1",
           "type": "scatter",
           "x": [
            0,
            1
           ],
           "y": [
            0,
            0.3469387755102041
           ]
          },
          {
           "line": {
            "color": "red",
            "width": 1
           },
           "marker": {
            "size": 2
           },
           "mode": "lines+markers",
           "name": "V2",
           "type": "scatter",
           "x": [
            0,
            0.3469387755102041
           ],
           "y": [
            0,
            1
           ]
          },
          {
           "line": {
            "color": "green",
            "width": 1
           },
           "marker": {
            "size": 2
           },
           "mode": "lines+markers",
           "name": "V1 + V2",
           "type": "scatter",
           "x": [
            0,
            1.346938775510204
           ],
           "y": [
            0,
            1.346938775510204
           ]
          },
          {
           "fill": "toself",
           "fillcolor": "rgba(0, 100, 200, 0.2)",
           "line": {
            "color": "rgba(255,255,255,0)"
           },
           "name": "Area",
           "type": "scatter",
           "x": [
            0,
            1,
            1.346938775510204,
            0.3469387755102041,
            0
           ],
           "y": [
            0,
            0.3469387755102041,
            1.346938775510204,
            1,
            0
           ]
          }
         ]
        },
        {
         "data": [
          {
           "line": {
            "color": "blue",
            "width": 1
           },
           "marker": {
            "size": 2
           },
           "mode": "lines+markers",
           "name": "V1",
           "type": "scatter",
           "x": [
            0,
            1
           ],
           "y": [
            0,
            0.36734693877551017
           ]
          },
          {
           "line": {
            "color": "red",
            "width": 1
           },
           "marker": {
            "size": 2
           },
           "mode": "lines+markers",
           "name": "V2",
           "type": "scatter",
           "x": [
            0,
            0.36734693877551017
           ],
           "y": [
            0,
            1
           ]
          },
          {
           "line": {
            "color": "green",
            "width": 1
           },
           "marker": {
            "size": 2
           },
           "mode": "lines+markers",
           "name": "V1 + V2",
           "type": "scatter",
           "x": [
            0,
            1.3673469387755102
           ],
           "y": [
            0,
            1.3673469387755102
           ]
          },
          {
           "fill": "toself",
           "fillcolor": "rgba(0, 100, 200, 0.2)",
           "line": {
            "color": "rgba(255,255,255,0)"
           },
           "name": "Area",
           "type": "scatter",
           "x": [
            0,
            1,
            1.3673469387755102,
            0.36734693877551017,
            0
           ],
           "y": [
            0,
            0.36734693877551017,
            1.3673469387755102,
            1,
            0
           ]
          }
         ]
        },
        {
         "data": [
          {
           "line": {
            "color": "blue",
            "width": 1
           },
           "marker": {
            "size": 2
           },
           "mode": "lines+markers",
           "name": "V1",
           "type": "scatter",
           "x": [
            0,
            1
           ],
           "y": [
            0,
            0.3877551020408163
           ]
          },
          {
           "line": {
            "color": "red",
            "width": 1
           },
           "marker": {
            "size": 2
           },
           "mode": "lines+markers",
           "name": "V2",
           "type": "scatter",
           "x": [
            0,
            0.3877551020408163
           ],
           "y": [
            0,
            1
           ]
          },
          {
           "line": {
            "color": "green",
            "width": 1
           },
           "marker": {
            "size": 2
           },
           "mode": "lines+markers",
           "name": "V1 + V2",
           "type": "scatter",
           "x": [
            0,
            1.3877551020408163
           ],
           "y": [
            0,
            1.3877551020408163
           ]
          },
          {
           "fill": "toself",
           "fillcolor": "rgba(0, 100, 200, 0.2)",
           "line": {
            "color": "rgba(255,255,255,0)"
           },
           "name": "Area",
           "type": "scatter",
           "x": [
            0,
            1,
            1.3877551020408163,
            0.3877551020408163,
            0
           ],
           "y": [
            0,
            0.3877551020408163,
            1.3877551020408163,
            1,
            0
           ]
          }
         ]
        },
        {
         "data": [
          {
           "line": {
            "color": "blue",
            "width": 1
           },
           "marker": {
            "size": 2
           },
           "mode": "lines+markers",
           "name": "V1",
           "type": "scatter",
           "x": [
            0,
            1
           ],
           "y": [
            0,
            0.4081632653061224
           ]
          },
          {
           "line": {
            "color": "red",
            "width": 1
           },
           "marker": {
            "size": 2
           },
           "mode": "lines+markers",
           "name": "V2",
           "type": "scatter",
           "x": [
            0,
            0.4081632653061224
           ],
           "y": [
            0,
            1
           ]
          },
          {
           "line": {
            "color": "green",
            "width": 1
           },
           "marker": {
            "size": 2
           },
           "mode": "lines+markers",
           "name": "V1 + V2",
           "type": "scatter",
           "x": [
            0,
            1.4081632653061225
           ],
           "y": [
            0,
            1.4081632653061225
           ]
          },
          {
           "fill": "toself",
           "fillcolor": "rgba(0, 100, 200, 0.2)",
           "line": {
            "color": "rgba(255,255,255,0)"
           },
           "name": "Area",
           "type": "scatter",
           "x": [
            0,
            1,
            1.4081632653061225,
            0.4081632653061224,
            0
           ],
           "y": [
            0,
            0.4081632653061224,
            1.4081632653061225,
            1,
            0
           ]
          }
         ]
        },
        {
         "data": [
          {
           "line": {
            "color": "blue",
            "width": 1
           },
           "marker": {
            "size": 2
           },
           "mode": "lines+markers",
           "name": "V1",
           "type": "scatter",
           "x": [
            0,
            1
           ],
           "y": [
            0,
            0.42857142857142855
           ]
          },
          {
           "line": {
            "color": "red",
            "width": 1
           },
           "marker": {
            "size": 2
           },
           "mode": "lines+markers",
           "name": "V2",
           "type": "scatter",
           "x": [
            0,
            0.42857142857142855
           ],
           "y": [
            0,
            1
           ]
          },
          {
           "line": {
            "color": "green",
            "width": 1
           },
           "marker": {
            "size": 2
           },
           "mode": "lines+markers",
           "name": "V1 + V2",
           "type": "scatter",
           "x": [
            0,
            1.4285714285714286
           ],
           "y": [
            0,
            1.4285714285714286
           ]
          },
          {
           "fill": "toself",
           "fillcolor": "rgba(0, 100, 200, 0.2)",
           "line": {
            "color": "rgba(255,255,255,0)"
           },
           "name": "Area",
           "type": "scatter",
           "x": [
            0,
            1,
            1.4285714285714286,
            0.42857142857142855,
            0
           ],
           "y": [
            0,
            0.42857142857142855,
            1.4285714285714286,
            1,
            0
           ]
          }
         ]
        },
        {
         "data": [
          {
           "line": {
            "color": "blue",
            "width": 1
           },
           "marker": {
            "size": 2
           },
           "mode": "lines+markers",
           "name": "V1",
           "type": "scatter",
           "x": [
            0,
            1
           ],
           "y": [
            0,
            0.44897959183673464
           ]
          },
          {
           "line": {
            "color": "red",
            "width": 1
           },
           "marker": {
            "size": 2
           },
           "mode": "lines+markers",
           "name": "V2",
           "type": "scatter",
           "x": [
            0,
            0.44897959183673464
           ],
           "y": [
            0,
            1
           ]
          },
          {
           "line": {
            "color": "green",
            "width": 1
           },
           "marker": {
            "size": 2
           },
           "mode": "lines+markers",
           "name": "V1 + V2",
           "type": "scatter",
           "x": [
            0,
            1.4489795918367347
           ],
           "y": [
            0,
            1.4489795918367347
           ]
          },
          {
           "fill": "toself",
           "fillcolor": "rgba(0, 100, 200, 0.2)",
           "line": {
            "color": "rgba(255,255,255,0)"
           },
           "name": "Area",
           "type": "scatter",
           "x": [
            0,
            1,
            1.4489795918367347,
            0.44897959183673464,
            0
           ],
           "y": [
            0,
            0.44897959183673464,
            1.4489795918367347,
            1,
            0
           ]
          }
         ]
        },
        {
         "data": [
          {
           "line": {
            "color": "blue",
            "width": 1
           },
           "marker": {
            "size": 2
           },
           "mode": "lines+markers",
           "name": "V1",
           "type": "scatter",
           "x": [
            0,
            1
           ],
           "y": [
            0,
            0.4693877551020408
           ]
          },
          {
           "line": {
            "color": "red",
            "width": 1
           },
           "marker": {
            "size": 2
           },
           "mode": "lines+markers",
           "name": "V2",
           "type": "scatter",
           "x": [
            0,
            0.4693877551020408
           ],
           "y": [
            0,
            1
           ]
          },
          {
           "line": {
            "color": "green",
            "width": 1
           },
           "marker": {
            "size": 2
           },
           "mode": "lines+markers",
           "name": "V1 + V2",
           "type": "scatter",
           "x": [
            0,
            1.4693877551020407
           ],
           "y": [
            0,
            1.4693877551020407
           ]
          },
          {
           "fill": "toself",
           "fillcolor": "rgba(0, 100, 200, 0.2)",
           "line": {
            "color": "rgba(255,255,255,0)"
           },
           "name": "Area",
           "type": "scatter",
           "x": [
            0,
            1,
            1.4693877551020407,
            0.4693877551020408,
            0
           ],
           "y": [
            0,
            0.4693877551020408,
            1.4693877551020407,
            1,
            0
           ]
          }
         ]
        },
        {
         "data": [
          {
           "line": {
            "color": "blue",
            "width": 1
           },
           "marker": {
            "size": 2
           },
           "mode": "lines+markers",
           "name": "V1",
           "type": "scatter",
           "x": [
            0,
            1
           ],
           "y": [
            0,
            0.4897959183673469
           ]
          },
          {
           "line": {
            "color": "red",
            "width": 1
           },
           "marker": {
            "size": 2
           },
           "mode": "lines+markers",
           "name": "V2",
           "type": "scatter",
           "x": [
            0,
            0.4897959183673469
           ],
           "y": [
            0,
            1
           ]
          },
          {
           "line": {
            "color": "green",
            "width": 1
           },
           "marker": {
            "size": 2
           },
           "mode": "lines+markers",
           "name": "V1 + V2",
           "type": "scatter",
           "x": [
            0,
            1.489795918367347
           ],
           "y": [
            0,
            1.489795918367347
           ]
          },
          {
           "fill": "toself",
           "fillcolor": "rgba(0, 100, 200, 0.2)",
           "line": {
            "color": "rgba(255,255,255,0)"
           },
           "name": "Area",
           "type": "scatter",
           "x": [
            0,
            1,
            1.489795918367347,
            0.4897959183673469,
            0
           ],
           "y": [
            0,
            0.4897959183673469,
            1.489795918367347,
            1,
            0
           ]
          }
         ]
        },
        {
         "data": [
          {
           "line": {
            "color": "blue",
            "width": 1
           },
           "marker": {
            "size": 2
           },
           "mode": "lines+markers",
           "name": "V1",
           "type": "scatter",
           "x": [
            0,
            1
           ],
           "y": [
            0,
            0.5102040816326531
           ]
          },
          {
           "line": {
            "color": "red",
            "width": 1
           },
           "marker": {
            "size": 2
           },
           "mode": "lines+markers",
           "name": "V2",
           "type": "scatter",
           "x": [
            0,
            0.5102040816326531
           ],
           "y": [
            0,
            1
           ]
          },
          {
           "line": {
            "color": "green",
            "width": 1
           },
           "marker": {
            "size": 2
           },
           "mode": "lines+markers",
           "name": "V1 + V2",
           "type": "scatter",
           "x": [
            0,
            1.510204081632653
           ],
           "y": [
            0,
            1.510204081632653
           ]
          },
          {
           "fill": "toself",
           "fillcolor": "rgba(0, 100, 200, 0.2)",
           "line": {
            "color": "rgba(255,255,255,0)"
           },
           "name": "Area",
           "type": "scatter",
           "x": [
            0,
            1,
            1.510204081632653,
            0.5102040816326531,
            0
           ],
           "y": [
            0,
            0.5102040816326531,
            1.510204081632653,
            1,
            0
           ]
          }
         ]
        },
        {
         "data": [
          {
           "line": {
            "color": "blue",
            "width": 1
           },
           "marker": {
            "size": 2
           },
           "mode": "lines+markers",
           "name": "V1",
           "type": "scatter",
           "x": [
            0,
            1
           ],
           "y": [
            0,
            0.5306122448979591
           ]
          },
          {
           "line": {
            "color": "red",
            "width": 1
           },
           "marker": {
            "size": 2
           },
           "mode": "lines+markers",
           "name": "V2",
           "type": "scatter",
           "x": [
            0,
            0.5306122448979591
           ],
           "y": [
            0,
            1
           ]
          },
          {
           "line": {
            "color": "green",
            "width": 1
           },
           "marker": {
            "size": 2
           },
           "mode": "lines+markers",
           "name": "V1 + V2",
           "type": "scatter",
           "x": [
            0,
            1.530612244897959
           ],
           "y": [
            0,
            1.530612244897959
           ]
          },
          {
           "fill": "toself",
           "fillcolor": "rgba(0, 100, 200, 0.2)",
           "line": {
            "color": "rgba(255,255,255,0)"
           },
           "name": "Area",
           "type": "scatter",
           "x": [
            0,
            1,
            1.530612244897959,
            0.5306122448979591,
            0
           ],
           "y": [
            0,
            0.5306122448979591,
            1.530612244897959,
            1,
            0
           ]
          }
         ]
        },
        {
         "data": [
          {
           "line": {
            "color": "blue",
            "width": 1
           },
           "marker": {
            "size": 2
           },
           "mode": "lines+markers",
           "name": "V1",
           "type": "scatter",
           "x": [
            0,
            1
           ],
           "y": [
            0,
            0.5510204081632653
           ]
          },
          {
           "line": {
            "color": "red",
            "width": 1
           },
           "marker": {
            "size": 2
           },
           "mode": "lines+markers",
           "name": "V2",
           "type": "scatter",
           "x": [
            0,
            0.5510204081632653
           ],
           "y": [
            0,
            1
           ]
          },
          {
           "line": {
            "color": "green",
            "width": 1
           },
           "marker": {
            "size": 2
           },
           "mode": "lines+markers",
           "name": "V1 + V2",
           "type": "scatter",
           "x": [
            0,
            1.5510204081632653
           ],
           "y": [
            0,
            1.5510204081632653
           ]
          },
          {
           "fill": "toself",
           "fillcolor": "rgba(0, 100, 200, 0.2)",
           "line": {
            "color": "rgba(255,255,255,0)"
           },
           "name": "Area",
           "type": "scatter",
           "x": [
            0,
            1,
            1.5510204081632653,
            0.5510204081632653,
            0
           ],
           "y": [
            0,
            0.5510204081632653,
            1.5510204081632653,
            1,
            0
           ]
          }
         ]
        },
        {
         "data": [
          {
           "line": {
            "color": "blue",
            "width": 1
           },
           "marker": {
            "size": 2
           },
           "mode": "lines+markers",
           "name": "V1",
           "type": "scatter",
           "x": [
            0,
            1
           ],
           "y": [
            0,
            0.5714285714285714
           ]
          },
          {
           "line": {
            "color": "red",
            "width": 1
           },
           "marker": {
            "size": 2
           },
           "mode": "lines+markers",
           "name": "V2",
           "type": "scatter",
           "x": [
            0,
            0.5714285714285714
           ],
           "y": [
            0,
            1
           ]
          },
          {
           "line": {
            "color": "green",
            "width": 1
           },
           "marker": {
            "size": 2
           },
           "mode": "lines+markers",
           "name": "V1 + V2",
           "type": "scatter",
           "x": [
            0,
            1.5714285714285714
           ],
           "y": [
            0,
            1.5714285714285714
           ]
          },
          {
           "fill": "toself",
           "fillcolor": "rgba(0, 100, 200, 0.2)",
           "line": {
            "color": "rgba(255,255,255,0)"
           },
           "name": "Area",
           "type": "scatter",
           "x": [
            0,
            1,
            1.5714285714285714,
            0.5714285714285714,
            0
           ],
           "y": [
            0,
            0.5714285714285714,
            1.5714285714285714,
            1,
            0
           ]
          }
         ]
        },
        {
         "data": [
          {
           "line": {
            "color": "blue",
            "width": 1
           },
           "marker": {
            "size": 2
           },
           "mode": "lines+markers",
           "name": "V1",
           "type": "scatter",
           "x": [
            0,
            1
           ],
           "y": [
            0,
            0.5918367346938775
           ]
          },
          {
           "line": {
            "color": "red",
            "width": 1
           },
           "marker": {
            "size": 2
           },
           "mode": "lines+markers",
           "name": "V2",
           "type": "scatter",
           "x": [
            0,
            0.5918367346938775
           ],
           "y": [
            0,
            1
           ]
          },
          {
           "line": {
            "color": "green",
            "width": 1
           },
           "marker": {
            "size": 2
           },
           "mode": "lines+markers",
           "name": "V1 + V2",
           "type": "scatter",
           "x": [
            0,
            1.5918367346938775
           ],
           "y": [
            0,
            1.5918367346938775
           ]
          },
          {
           "fill": "toself",
           "fillcolor": "rgba(0, 100, 200, 0.2)",
           "line": {
            "color": "rgba(255,255,255,0)"
           },
           "name": "Area",
           "type": "scatter",
           "x": [
            0,
            1,
            1.5918367346938775,
            0.5918367346938775,
            0
           ],
           "y": [
            0,
            0.5918367346938775,
            1.5918367346938775,
            1,
            0
           ]
          }
         ]
        },
        {
         "data": [
          {
           "line": {
            "color": "blue",
            "width": 1
           },
           "marker": {
            "size": 2
           },
           "mode": "lines+markers",
           "name": "V1",
           "type": "scatter",
           "x": [
            0,
            1
           ],
           "y": [
            0,
            0.6122448979591836
           ]
          },
          {
           "line": {
            "color": "red",
            "width": 1
           },
           "marker": {
            "size": 2
           },
           "mode": "lines+markers",
           "name": "V2",
           "type": "scatter",
           "x": [
            0,
            0.6122448979591836
           ],
           "y": [
            0,
            1
           ]
          },
          {
           "line": {
            "color": "green",
            "width": 1
           },
           "marker": {
            "size": 2
           },
           "mode": "lines+markers",
           "name": "V1 + V2",
           "type": "scatter",
           "x": [
            0,
            1.6122448979591835
           ],
           "y": [
            0,
            1.6122448979591835
           ]
          },
          {
           "fill": "toself",
           "fillcolor": "rgba(0, 100, 200, 0.2)",
           "line": {
            "color": "rgba(255,255,255,0)"
           },
           "name": "Area",
           "type": "scatter",
           "x": [
            0,
            1,
            1.6122448979591835,
            0.6122448979591836,
            0
           ],
           "y": [
            0,
            0.6122448979591836,
            1.6122448979591835,
            1,
            0
           ]
          }
         ]
        },
        {
         "data": [
          {
           "line": {
            "color": "blue",
            "width": 1
           },
           "marker": {
            "size": 2
           },
           "mode": "lines+markers",
           "name": "V1",
           "type": "scatter",
           "x": [
            0,
            1
           ],
           "y": [
            0,
            0.6326530612244897
           ]
          },
          {
           "line": {
            "color": "red",
            "width": 1
           },
           "marker": {
            "size": 2
           },
           "mode": "lines+markers",
           "name": "V2",
           "type": "scatter",
           "x": [
            0,
            0.6326530612244897
           ],
           "y": [
            0,
            1
           ]
          },
          {
           "line": {
            "color": "green",
            "width": 1
           },
           "marker": {
            "size": 2
           },
           "mode": "lines+markers",
           "name": "V1 + V2",
           "type": "scatter",
           "x": [
            0,
            1.6326530612244898
           ],
           "y": [
            0,
            1.6326530612244898
           ]
          },
          {
           "fill": "toself",
           "fillcolor": "rgba(0, 100, 200, 0.2)",
           "line": {
            "color": "rgba(255,255,255,0)"
           },
           "name": "Area",
           "type": "scatter",
           "x": [
            0,
            1,
            1.6326530612244898,
            0.6326530612244897,
            0
           ],
           "y": [
            0,
            0.6326530612244897,
            1.6326530612244898,
            1,
            0
           ]
          }
         ]
        },
        {
         "data": [
          {
           "line": {
            "color": "blue",
            "width": 1
           },
           "marker": {
            "size": 2
           },
           "mode": "lines+markers",
           "name": "V1",
           "type": "scatter",
           "x": [
            0,
            1
           ],
           "y": [
            0,
            0.6530612244897959
           ]
          },
          {
           "line": {
            "color": "red",
            "width": 1
           },
           "marker": {
            "size": 2
           },
           "mode": "lines+markers",
           "name": "V2",
           "type": "scatter",
           "x": [
            0,
            0.6530612244897959
           ],
           "y": [
            0,
            1
           ]
          },
          {
           "line": {
            "color": "green",
            "width": 1
           },
           "marker": {
            "size": 2
           },
           "mode": "lines+markers",
           "name": "V1 + V2",
           "type": "scatter",
           "x": [
            0,
            1.6530612244897958
           ],
           "y": [
            0,
            1.6530612244897958
           ]
          },
          {
           "fill": "toself",
           "fillcolor": "rgba(0, 100, 200, 0.2)",
           "line": {
            "color": "rgba(255,255,255,0)"
           },
           "name": "Area",
           "type": "scatter",
           "x": [
            0,
            1,
            1.6530612244897958,
            0.6530612244897959,
            0
           ],
           "y": [
            0,
            0.6530612244897959,
            1.6530612244897958,
            1,
            0
           ]
          }
         ]
        },
        {
         "data": [
          {
           "line": {
            "color": "blue",
            "width": 1
           },
           "marker": {
            "size": 2
           },
           "mode": "lines+markers",
           "name": "V1",
           "type": "scatter",
           "x": [
            0,
            1
           ],
           "y": [
            0,
            0.673469387755102
           ]
          },
          {
           "line": {
            "color": "red",
            "width": 1
           },
           "marker": {
            "size": 2
           },
           "mode": "lines+markers",
           "name": "V2",
           "type": "scatter",
           "x": [
            0,
            0.673469387755102
           ],
           "y": [
            0,
            1
           ]
          },
          {
           "line": {
            "color": "green",
            "width": 1
           },
           "marker": {
            "size": 2
           },
           "mode": "lines+markers",
           "name": "V1 + V2",
           "type": "scatter",
           "x": [
            0,
            1.6734693877551021
           ],
           "y": [
            0,
            1.6734693877551021
           ]
          },
          {
           "fill": "toself",
           "fillcolor": "rgba(0, 100, 200, 0.2)",
           "line": {
            "color": "rgba(255,255,255,0)"
           },
           "name": "Area",
           "type": "scatter",
           "x": [
            0,
            1,
            1.6734693877551021,
            0.673469387755102,
            0
           ],
           "y": [
            0,
            0.673469387755102,
            1.6734693877551021,
            1,
            0
           ]
          }
         ]
        },
        {
         "data": [
          {
           "line": {
            "color": "blue",
            "width": 1
           },
           "marker": {
            "size": 2
           },
           "mode": "lines+markers",
           "name": "V1",
           "type": "scatter",
           "x": [
            0,
            1
           ],
           "y": [
            0,
            0.6938775510204082
           ]
          },
          {
           "line": {
            "color": "red",
            "width": 1
           },
           "marker": {
            "size": 2
           },
           "mode": "lines+markers",
           "name": "V2",
           "type": "scatter",
           "x": [
            0,
            0.6938775510204082
           ],
           "y": [
            0,
            1
           ]
          },
          {
           "line": {
            "color": "green",
            "width": 1
           },
           "marker": {
            "size": 2
           },
           "mode": "lines+markers",
           "name": "V1 + V2",
           "type": "scatter",
           "x": [
            0,
            1.693877551020408
           ],
           "y": [
            0,
            1.693877551020408
           ]
          },
          {
           "fill": "toself",
           "fillcolor": "rgba(0, 100, 200, 0.2)",
           "line": {
            "color": "rgba(255,255,255,0)"
           },
           "name": "Area",
           "type": "scatter",
           "x": [
            0,
            1,
            1.693877551020408,
            0.6938775510204082,
            0
           ],
           "y": [
            0,
            0.6938775510204082,
            1.693877551020408,
            1,
            0
           ]
          }
         ]
        },
        {
         "data": [
          {
           "line": {
            "color": "blue",
            "width": 1
           },
           "marker": {
            "size": 2
           },
           "mode": "lines+markers",
           "name": "V1",
           "type": "scatter",
           "x": [
            0,
            1
           ],
           "y": [
            0,
            0.7142857142857142
           ]
          },
          {
           "line": {
            "color": "red",
            "width": 1
           },
           "marker": {
            "size": 2
           },
           "mode": "lines+markers",
           "name": "V2",
           "type": "scatter",
           "x": [
            0,
            0.7142857142857142
           ],
           "y": [
            0,
            1
           ]
          },
          {
           "line": {
            "color": "green",
            "width": 1
           },
           "marker": {
            "size": 2
           },
           "mode": "lines+markers",
           "name": "V1 + V2",
           "type": "scatter",
           "x": [
            0,
            1.7142857142857142
           ],
           "y": [
            0,
            1.7142857142857142
           ]
          },
          {
           "fill": "toself",
           "fillcolor": "rgba(0, 100, 200, 0.2)",
           "line": {
            "color": "rgba(255,255,255,0)"
           },
           "name": "Area",
           "type": "scatter",
           "x": [
            0,
            1,
            1.7142857142857142,
            0.7142857142857142,
            0
           ],
           "y": [
            0,
            0.7142857142857142,
            1.7142857142857142,
            1,
            0
           ]
          }
         ]
        },
        {
         "data": [
          {
           "line": {
            "color": "blue",
            "width": 1
           },
           "marker": {
            "size": 2
           },
           "mode": "lines+markers",
           "name": "V1",
           "type": "scatter",
           "x": [
            0,
            1
           ],
           "y": [
            0,
            0.7346938775510203
           ]
          },
          {
           "line": {
            "color": "red",
            "width": 1
           },
           "marker": {
            "size": 2
           },
           "mode": "lines+markers",
           "name": "V2",
           "type": "scatter",
           "x": [
            0,
            0.7346938775510203
           ],
           "y": [
            0,
            1
           ]
          },
          {
           "line": {
            "color": "green",
            "width": 1
           },
           "marker": {
            "size": 2
           },
           "mode": "lines+markers",
           "name": "V1 + V2",
           "type": "scatter",
           "x": [
            0,
            1.7346938775510203
           ],
           "y": [
            0,
            1.7346938775510203
           ]
          },
          {
           "fill": "toself",
           "fillcolor": "rgba(0, 100, 200, 0.2)",
           "line": {
            "color": "rgba(255,255,255,0)"
           },
           "name": "Area",
           "type": "scatter",
           "x": [
            0,
            1,
            1.7346938775510203,
            0.7346938775510203,
            0
           ],
           "y": [
            0,
            0.7346938775510203,
            1.7346938775510203,
            1,
            0
           ]
          }
         ]
        },
        {
         "data": [
          {
           "line": {
            "color": "blue",
            "width": 1
           },
           "marker": {
            "size": 2
           },
           "mode": "lines+markers",
           "name": "V1",
           "type": "scatter",
           "x": [
            0,
            1
           ],
           "y": [
            0,
            0.7551020408163265
           ]
          },
          {
           "line": {
            "color": "red",
            "width": 1
           },
           "marker": {
            "size": 2
           },
           "mode": "lines+markers",
           "name": "V2",
           "type": "scatter",
           "x": [
            0,
            0.7551020408163265
           ],
           "y": [
            0,
            1
           ]
          },
          {
           "line": {
            "color": "green",
            "width": 1
           },
           "marker": {
            "size": 2
           },
           "mode": "lines+markers",
           "name": "V1 + V2",
           "type": "scatter",
           "x": [
            0,
            1.7551020408163265
           ],
           "y": [
            0,
            1.7551020408163265
           ]
          },
          {
           "fill": "toself",
           "fillcolor": "rgba(0, 100, 200, 0.2)",
           "line": {
            "color": "rgba(255,255,255,0)"
           },
           "name": "Area",
           "type": "scatter",
           "x": [
            0,
            1,
            1.7551020408163265,
            0.7551020408163265,
            0
           ],
           "y": [
            0,
            0.7551020408163265,
            1.7551020408163265,
            1,
            0
           ]
          }
         ]
        },
        {
         "data": [
          {
           "line": {
            "color": "blue",
            "width": 1
           },
           "marker": {
            "size": 2
           },
           "mode": "lines+markers",
           "name": "V1",
           "type": "scatter",
           "x": [
            0,
            1
           ],
           "y": [
            0,
            0.7755102040816326
           ]
          },
          {
           "line": {
            "color": "red",
            "width": 1
           },
           "marker": {
            "size": 2
           },
           "mode": "lines+markers",
           "name": "V2",
           "type": "scatter",
           "x": [
            0,
            0.7755102040816326
           ],
           "y": [
            0,
            1
           ]
          },
          {
           "line": {
            "color": "green",
            "width": 1
           },
           "marker": {
            "size": 2
           },
           "mode": "lines+markers",
           "name": "V1 + V2",
           "type": "scatter",
           "x": [
            0,
            1.7755102040816326
           ],
           "y": [
            0,
            1.7755102040816326
           ]
          },
          {
           "fill": "toself",
           "fillcolor": "rgba(0, 100, 200, 0.2)",
           "line": {
            "color": "rgba(255,255,255,0)"
           },
           "name": "Area",
           "type": "scatter",
           "x": [
            0,
            1,
            1.7755102040816326,
            0.7755102040816326,
            0
           ],
           "y": [
            0,
            0.7755102040816326,
            1.7755102040816326,
            1,
            0
           ]
          }
         ]
        },
        {
         "data": [
          {
           "line": {
            "color": "blue",
            "width": 1
           },
           "marker": {
            "size": 2
           },
           "mode": "lines+markers",
           "name": "V1",
           "type": "scatter",
           "x": [
            0,
            1
           ],
           "y": [
            0,
            0.7959183673469387
           ]
          },
          {
           "line": {
            "color": "red",
            "width": 1
           },
           "marker": {
            "size": 2
           },
           "mode": "lines+markers",
           "name": "V2",
           "type": "scatter",
           "x": [
            0,
            0.7959183673469387
           ],
           "y": [
            0,
            1
           ]
          },
          {
           "line": {
            "color": "green",
            "width": 1
           },
           "marker": {
            "size": 2
           },
           "mode": "lines+markers",
           "name": "V1 + V2",
           "type": "scatter",
           "x": [
            0,
            1.7959183673469385
           ],
           "y": [
            0,
            1.7959183673469385
           ]
          },
          {
           "fill": "toself",
           "fillcolor": "rgba(0, 100, 200, 0.2)",
           "line": {
            "color": "rgba(255,255,255,0)"
           },
           "name": "Area",
           "type": "scatter",
           "x": [
            0,
            1,
            1.7959183673469385,
            0.7959183673469387,
            0
           ],
           "y": [
            0,
            0.7959183673469387,
            1.7959183673469385,
            1,
            0
           ]
          }
         ]
        },
        {
         "data": [
          {
           "line": {
            "color": "blue",
            "width": 1
           },
           "marker": {
            "size": 2
           },
           "mode": "lines+markers",
           "name": "V1",
           "type": "scatter",
           "x": [
            0,
            1
           ],
           "y": [
            0,
            0.8163265306122448
           ]
          },
          {
           "line": {
            "color": "red",
            "width": 1
           },
           "marker": {
            "size": 2
           },
           "mode": "lines+markers",
           "name": "V2",
           "type": "scatter",
           "x": [
            0,
            0.8163265306122448
           ],
           "y": [
            0,
            1
           ]
          },
          {
           "line": {
            "color": "green",
            "width": 1
           },
           "marker": {
            "size": 2
           },
           "mode": "lines+markers",
           "name": "V1 + V2",
           "type": "scatter",
           "x": [
            0,
            1.816326530612245
           ],
           "y": [
            0,
            1.816326530612245
           ]
          },
          {
           "fill": "toself",
           "fillcolor": "rgba(0, 100, 200, 0.2)",
           "line": {
            "color": "rgba(255,255,255,0)"
           },
           "name": "Area",
           "type": "scatter",
           "x": [
            0,
            1,
            1.816326530612245,
            0.8163265306122448,
            0
           ],
           "y": [
            0,
            0.8163265306122448,
            1.816326530612245,
            1,
            0
           ]
          }
         ]
        },
        {
         "data": [
          {
           "line": {
            "color": "blue",
            "width": 1
           },
           "marker": {
            "size": 2
           },
           "mode": "lines+markers",
           "name": "V1",
           "type": "scatter",
           "x": [
            0,
            1
           ],
           "y": [
            0,
            0.836734693877551
           ]
          },
          {
           "line": {
            "color": "red",
            "width": 1
           },
           "marker": {
            "size": 2
           },
           "mode": "lines+markers",
           "name": "V2",
           "type": "scatter",
           "x": [
            0,
            0.836734693877551
           ],
           "y": [
            0,
            1
           ]
          },
          {
           "line": {
            "color": "green",
            "width": 1
           },
           "marker": {
            "size": 2
           },
           "mode": "lines+markers",
           "name": "V1 + V2",
           "type": "scatter",
           "x": [
            0,
            1.8367346938775508
           ],
           "y": [
            0,
            1.8367346938775508
           ]
          },
          {
           "fill": "toself",
           "fillcolor": "rgba(0, 100, 200, 0.2)",
           "line": {
            "color": "rgba(255,255,255,0)"
           },
           "name": "Area",
           "type": "scatter",
           "x": [
            0,
            1,
            1.8367346938775508,
            0.836734693877551,
            0
           ],
           "y": [
            0,
            0.836734693877551,
            1.8367346938775508,
            1,
            0
           ]
          }
         ]
        },
        {
         "data": [
          {
           "line": {
            "color": "blue",
            "width": 1
           },
           "marker": {
            "size": 2
           },
           "mode": "lines+markers",
           "name": "V1",
           "type": "scatter",
           "x": [
            0,
            1
           ],
           "y": [
            0,
            0.8571428571428571
           ]
          },
          {
           "line": {
            "color": "red",
            "width": 1
           },
           "marker": {
            "size": 2
           },
           "mode": "lines+markers",
           "name": "V2",
           "type": "scatter",
           "x": [
            0,
            0.8571428571428571
           ],
           "y": [
            0,
            1
           ]
          },
          {
           "line": {
            "color": "green",
            "width": 1
           },
           "marker": {
            "size": 2
           },
           "mode": "lines+markers",
           "name": "V1 + V2",
           "type": "scatter",
           "x": [
            0,
            1.8571428571428572
           ],
           "y": [
            0,
            1.8571428571428572
           ]
          },
          {
           "fill": "toself",
           "fillcolor": "rgba(0, 100, 200, 0.2)",
           "line": {
            "color": "rgba(255,255,255,0)"
           },
           "name": "Area",
           "type": "scatter",
           "x": [
            0,
            1,
            1.8571428571428572,
            0.8571428571428571,
            0
           ],
           "y": [
            0,
            0.8571428571428571,
            1.8571428571428572,
            1,
            0
           ]
          }
         ]
        },
        {
         "data": [
          {
           "line": {
            "color": "blue",
            "width": 1
           },
           "marker": {
            "size": 2
           },
           "mode": "lines+markers",
           "name": "V1",
           "type": "scatter",
           "x": [
            0,
            1
           ],
           "y": [
            0,
            0.8775510204081632
           ]
          },
          {
           "line": {
            "color": "red",
            "width": 1
           },
           "marker": {
            "size": 2
           },
           "mode": "lines+markers",
           "name": "V2",
           "type": "scatter",
           "x": [
            0,
            0.8775510204081632
           ],
           "y": [
            0,
            1
           ]
          },
          {
           "line": {
            "color": "green",
            "width": 1
           },
           "marker": {
            "size": 2
           },
           "mode": "lines+markers",
           "name": "V1 + V2",
           "type": "scatter",
           "x": [
            0,
            1.8775510204081631
           ],
           "y": [
            0,
            1.8775510204081631
           ]
          },
          {
           "fill": "toself",
           "fillcolor": "rgba(0, 100, 200, 0.2)",
           "line": {
            "color": "rgba(255,255,255,0)"
           },
           "name": "Area",
           "type": "scatter",
           "x": [
            0,
            1,
            1.8775510204081631,
            0.8775510204081632,
            0
           ],
           "y": [
            0,
            0.8775510204081632,
            1.8775510204081631,
            1,
            0
           ]
          }
         ]
        },
        {
         "data": [
          {
           "line": {
            "color": "blue",
            "width": 1
           },
           "marker": {
            "size": 2
           },
           "mode": "lines+markers",
           "name": "V1",
           "type": "scatter",
           "x": [
            0,
            1
           ],
           "y": [
            0,
            0.8979591836734693
           ]
          },
          {
           "line": {
            "color": "red",
            "width": 1
           },
           "marker": {
            "size": 2
           },
           "mode": "lines+markers",
           "name": "V2",
           "type": "scatter",
           "x": [
            0,
            0.8979591836734693
           ],
           "y": [
            0,
            1
           ]
          },
          {
           "line": {
            "color": "green",
            "width": 1
           },
           "marker": {
            "size": 2
           },
           "mode": "lines+markers",
           "name": "V1 + V2",
           "type": "scatter",
           "x": [
            0,
            1.8979591836734693
           ],
           "y": [
            0,
            1.8979591836734693
           ]
          },
          {
           "fill": "toself",
           "fillcolor": "rgba(0, 100, 200, 0.2)",
           "line": {
            "color": "rgba(255,255,255,0)"
           },
           "name": "Area",
           "type": "scatter",
           "x": [
            0,
            1,
            1.8979591836734693,
            0.8979591836734693,
            0
           ],
           "y": [
            0,
            0.8979591836734693,
            1.8979591836734693,
            1,
            0
           ]
          }
         ]
        },
        {
         "data": [
          {
           "line": {
            "color": "blue",
            "width": 1
           },
           "marker": {
            "size": 2
           },
           "mode": "lines+markers",
           "name": "V1",
           "type": "scatter",
           "x": [
            0,
            1
           ],
           "y": [
            0,
            0.9183673469387754
           ]
          },
          {
           "line": {
            "color": "red",
            "width": 1
           },
           "marker": {
            "size": 2
           },
           "mode": "lines+markers",
           "name": "V2",
           "type": "scatter",
           "x": [
            0,
            0.9183673469387754
           ],
           "y": [
            0,
            1
           ]
          },
          {
           "line": {
            "color": "green",
            "width": 1
           },
           "marker": {
            "size": 2
           },
           "mode": "lines+markers",
           "name": "V1 + V2",
           "type": "scatter",
           "x": [
            0,
            1.9183673469387754
           ],
           "y": [
            0,
            1.9183673469387754
           ]
          },
          {
           "fill": "toself",
           "fillcolor": "rgba(0, 100, 200, 0.2)",
           "line": {
            "color": "rgba(255,255,255,0)"
           },
           "name": "Area",
           "type": "scatter",
           "x": [
            0,
            1,
            1.9183673469387754,
            0.9183673469387754,
            0
           ],
           "y": [
            0,
            0.9183673469387754,
            1.9183673469387754,
            1,
            0
           ]
          }
         ]
        },
        {
         "data": [
          {
           "line": {
            "color": "blue",
            "width": 1
           },
           "marker": {
            "size": 2
           },
           "mode": "lines+markers",
           "name": "V1",
           "type": "scatter",
           "x": [
            0,
            1
           ],
           "y": [
            0,
            0.9387755102040816
           ]
          },
          {
           "line": {
            "color": "red",
            "width": 1
           },
           "marker": {
            "size": 2
           },
           "mode": "lines+markers",
           "name": "V2",
           "type": "scatter",
           "x": [
            0,
            0.9387755102040816
           ],
           "y": [
            0,
            1
           ]
          },
          {
           "line": {
            "color": "green",
            "width": 1
           },
           "marker": {
            "size": 2
           },
           "mode": "lines+markers",
           "name": "V1 + V2",
           "type": "scatter",
           "x": [
            0,
            1.9387755102040816
           ],
           "y": [
            0,
            1.9387755102040816
           ]
          },
          {
           "fill": "toself",
           "fillcolor": "rgba(0, 100, 200, 0.2)",
           "line": {
            "color": "rgba(255,255,255,0)"
           },
           "name": "Area",
           "type": "scatter",
           "x": [
            0,
            1,
            1.9387755102040816,
            0.9387755102040816,
            0
           ],
           "y": [
            0,
            0.9387755102040816,
            1.9387755102040816,
            1,
            0
           ]
          }
         ]
        },
        {
         "data": [
          {
           "line": {
            "color": "blue",
            "width": 1
           },
           "marker": {
            "size": 2
           },
           "mode": "lines+markers",
           "name": "V1",
           "type": "scatter",
           "x": [
            0,
            1
           ],
           "y": [
            0,
            0.9591836734693877
           ]
          },
          {
           "line": {
            "color": "red",
            "width": 1
           },
           "marker": {
            "size": 2
           },
           "mode": "lines+markers",
           "name": "V2",
           "type": "scatter",
           "x": [
            0,
            0.9591836734693877
           ],
           "y": [
            0,
            1
           ]
          },
          {
           "line": {
            "color": "green",
            "width": 1
           },
           "marker": {
            "size": 2
           },
           "mode": "lines+markers",
           "name": "V1 + V2",
           "type": "scatter",
           "x": [
            0,
            1.9591836734693877
           ],
           "y": [
            0,
            1.9591836734693877
           ]
          },
          {
           "fill": "toself",
           "fillcolor": "rgba(0, 100, 200, 0.2)",
           "line": {
            "color": "rgba(255,255,255,0)"
           },
           "name": "Area",
           "type": "scatter",
           "x": [
            0,
            1,
            1.9591836734693877,
            0.9591836734693877,
            0
           ],
           "y": [
            0,
            0.9591836734693877,
            1.9591836734693877,
            1,
            0
           ]
          }
         ]
        },
        {
         "data": [
          {
           "line": {
            "color": "blue",
            "width": 1
           },
           "marker": {
            "size": 2
           },
           "mode": "lines+markers",
           "name": "V1",
           "type": "scatter",
           "x": [
            0,
            1
           ],
           "y": [
            0,
            0.9795918367346939
           ]
          },
          {
           "line": {
            "color": "red",
            "width": 1
           },
           "marker": {
            "size": 2
           },
           "mode": "lines+markers",
           "name": "V2",
           "type": "scatter",
           "x": [
            0,
            0.9795918367346939
           ],
           "y": [
            0,
            1
           ]
          },
          {
           "line": {
            "color": "green",
            "width": 1
           },
           "marker": {
            "size": 2
           },
           "mode": "lines+markers",
           "name": "V1 + V2",
           "type": "scatter",
           "x": [
            0,
            1.9795918367346939
           ],
           "y": [
            0,
            1.9795918367346939
           ]
          },
          {
           "fill": "toself",
           "fillcolor": "rgba(0, 100, 200, 0.2)",
           "line": {
            "color": "rgba(255,255,255,0)"
           },
           "name": "Area",
           "type": "scatter",
           "x": [
            0,
            1,
            1.9795918367346939,
            0.9795918367346939,
            0
           ],
           "y": [
            0,
            0.9795918367346939,
            1.9795918367346939,
            1,
            0
           ]
          }
         ]
        },
        {
         "data": [
          {
           "line": {
            "color": "blue",
            "width": 1
           },
           "marker": {
            "size": 2
           },
           "mode": "lines+markers",
           "name": "V1",
           "type": "scatter",
           "x": [
            0,
            1
           ],
           "y": [
            0,
            1
           ]
          },
          {
           "line": {
            "color": "red",
            "width": 1
           },
           "marker": {
            "size": 2
           },
           "mode": "lines+markers",
           "name": "V2",
           "type": "scatter",
           "x": [
            0,
            1
           ],
           "y": [
            0,
            1
           ]
          },
          {
           "line": {
            "color": "green",
            "width": 1
           },
           "marker": {
            "size": 2
           },
           "mode": "lines+markers",
           "name": "V1 + V2",
           "type": "scatter",
           "x": [
            0,
            2
           ],
           "y": [
            0,
            2
           ]
          },
          {
           "fill": "toself",
           "fillcolor": "rgba(0, 100, 200, 0.2)",
           "line": {
            "color": "rgba(255,255,255,0)"
           },
           "name": "Area",
           "type": "scatter",
           "x": [
            0,
            1,
            2,
            1,
            0
           ],
           "y": [
            0,
            1,
            2,
            1,
            0
           ]
          }
         ]
        }
       ],
       "layout": {
        "height": 450,
        "showlegend": true,
        "template": {
         "data": {
          "bar": [
           {
            "error_x": {
             "color": "#2a3f5f"
            },
            "error_y": {
             "color": "#2a3f5f"
            },
            "marker": {
             "line": {
              "color": "#E5ECF6",
              "width": 0.5
             },
             "pattern": {
              "fillmode": "overlay",
              "size": 10,
              "solidity": 0.2
             }
            },
            "type": "bar"
           }
          ],
          "barpolar": [
           {
            "marker": {
             "line": {
              "color": "#E5ECF6",
              "width": 0.5
             },
             "pattern": {
              "fillmode": "overlay",
              "size": 10,
              "solidity": 0.2
             }
            },
            "type": "barpolar"
           }
          ],
          "carpet": [
           {
            "aaxis": {
             "endlinecolor": "#2a3f5f",
             "gridcolor": "white",
             "linecolor": "white",
             "minorgridcolor": "white",
             "startlinecolor": "#2a3f5f"
            },
            "baxis": {
             "endlinecolor": "#2a3f5f",
             "gridcolor": "white",
             "linecolor": "white",
             "minorgridcolor": "white",
             "startlinecolor": "#2a3f5f"
            },
            "type": "carpet"
           }
          ],
          "choropleth": [
           {
            "colorbar": {
             "outlinewidth": 0,
             "ticks": ""
            },
            "type": "choropleth"
           }
          ],
          "contour": [
           {
            "colorbar": {
             "outlinewidth": 0,
             "ticks": ""
            },
            "colorscale": [
             [
              0,
              "#0d0887"
             ],
             [
              0.1111111111111111,
              "#46039f"
             ],
             [
              0.2222222222222222,
              "#7201a8"
             ],
             [
              0.3333333333333333,
              "#9c179e"
             ],
             [
              0.4444444444444444,
              "#bd3786"
             ],
             [
              0.5555555555555556,
              "#d8576b"
             ],
             [
              0.6666666666666666,
              "#ed7953"
             ],
             [
              0.7777777777777778,
              "#fb9f3a"
             ],
             [
              0.8888888888888888,
              "#fdca26"
             ],
             [
              1,
              "#f0f921"
             ]
            ],
            "type": "contour"
           }
          ],
          "contourcarpet": [
           {
            "colorbar": {
             "outlinewidth": 0,
             "ticks": ""
            },
            "type": "contourcarpet"
           }
          ],
          "heatmap": [
           {
            "colorbar": {
             "outlinewidth": 0,
             "ticks": ""
            },
            "colorscale": [
             [
              0,
              "#0d0887"
             ],
             [
              0.1111111111111111,
              "#46039f"
             ],
             [
              0.2222222222222222,
              "#7201a8"
             ],
             [
              0.3333333333333333,
              "#9c179e"
             ],
             [
              0.4444444444444444,
              "#bd3786"
             ],
             [
              0.5555555555555556,
              "#d8576b"
             ],
             [
              0.6666666666666666,
              "#ed7953"
             ],
             [
              0.7777777777777778,
              "#fb9f3a"
             ],
             [
              0.8888888888888888,
              "#fdca26"
             ],
             [
              1,
              "#f0f921"
             ]
            ],
            "type": "heatmap"
           }
          ],
          "heatmapgl": [
           {
            "colorbar": {
             "outlinewidth": 0,
             "ticks": ""
            },
            "colorscale": [
             [
              0,
              "#0d0887"
             ],
             [
              0.1111111111111111,
              "#46039f"
             ],
             [
              0.2222222222222222,
              "#7201a8"
             ],
             [
              0.3333333333333333,
              "#9c179e"
             ],
             [
              0.4444444444444444,
              "#bd3786"
             ],
             [
              0.5555555555555556,
              "#d8576b"
             ],
             [
              0.6666666666666666,
              "#ed7953"
             ],
             [
              0.7777777777777778,
              "#fb9f3a"
             ],
             [
              0.8888888888888888,
              "#fdca26"
             ],
             [
              1,
              "#f0f921"
             ]
            ],
            "type": "heatmapgl"
           }
          ],
          "histogram": [
           {
            "marker": {
             "pattern": {
              "fillmode": "overlay",
              "size": 10,
              "solidity": 0.2
             }
            },
            "type": "histogram"
           }
          ],
          "histogram2d": [
           {
            "colorbar": {
             "outlinewidth": 0,
             "ticks": ""
            },
            "colorscale": [
             [
              0,
              "#0d0887"
             ],
             [
              0.1111111111111111,
              "#46039f"
             ],
             [
              0.2222222222222222,
              "#7201a8"
             ],
             [
              0.3333333333333333,
              "#9c179e"
             ],
             [
              0.4444444444444444,
              "#bd3786"
             ],
             [
              0.5555555555555556,
              "#d8576b"
             ],
             [
              0.6666666666666666,
              "#ed7953"
             ],
             [
              0.7777777777777778,
              "#fb9f3a"
             ],
             [
              0.8888888888888888,
              "#fdca26"
             ],
             [
              1,
              "#f0f921"
             ]
            ],
            "type": "histogram2d"
           }
          ],
          "histogram2dcontour": [
           {
            "colorbar": {
             "outlinewidth": 0,
             "ticks": ""
            },
            "colorscale": [
             [
              0,
              "#0d0887"
             ],
             [
              0.1111111111111111,
              "#46039f"
             ],
             [
              0.2222222222222222,
              "#7201a8"
             ],
             [
              0.3333333333333333,
              "#9c179e"
             ],
             [
              0.4444444444444444,
              "#bd3786"
             ],
             [
              0.5555555555555556,
              "#d8576b"
             ],
             [
              0.6666666666666666,
              "#ed7953"
             ],
             [
              0.7777777777777778,
              "#fb9f3a"
             ],
             [
              0.8888888888888888,
              "#fdca26"
             ],
             [
              1,
              "#f0f921"
             ]
            ],
            "type": "histogram2dcontour"
           }
          ],
          "mesh3d": [
           {
            "colorbar": {
             "outlinewidth": 0,
             "ticks": ""
            },
            "type": "mesh3d"
           }
          ],
          "parcoords": [
           {
            "line": {
             "colorbar": {
              "outlinewidth": 0,
              "ticks": ""
             }
            },
            "type": "parcoords"
           }
          ],
          "pie": [
           {
            "automargin": true,
            "type": "pie"
           }
          ],
          "scatter": [
           {
            "fillpattern": {
             "fillmode": "overlay",
             "size": 10,
             "solidity": 0.2
            },
            "type": "scatter"
           }
          ],
          "scatter3d": [
           {
            "line": {
             "colorbar": {
              "outlinewidth": 0,
              "ticks": ""
             }
            },
            "marker": {
             "colorbar": {
              "outlinewidth": 0,
              "ticks": ""
             }
            },
            "type": "scatter3d"
           }
          ],
          "scattercarpet": [
           {
            "marker": {
             "colorbar": {
              "outlinewidth": 0,
              "ticks": ""
             }
            },
            "type": "scattercarpet"
           }
          ],
          "scattergeo": [
           {
            "marker": {
             "colorbar": {
              "outlinewidth": 0,
              "ticks": ""
             }
            },
            "type": "scattergeo"
           }
          ],
          "scattergl": [
           {
            "marker": {
             "colorbar": {
              "outlinewidth": 0,
              "ticks": ""
             }
            },
            "type": "scattergl"
           }
          ],
          "scattermapbox": [
           {
            "marker": {
             "colorbar": {
              "outlinewidth": 0,
              "ticks": ""
             }
            },
            "type": "scattermapbox"
           }
          ],
          "scatterpolar": [
           {
            "marker": {
             "colorbar": {
              "outlinewidth": 0,
              "ticks": ""
             }
            },
            "type": "scatterpolar"
           }
          ],
          "scatterpolargl": [
           {
            "marker": {
             "colorbar": {
              "outlinewidth": 0,
              "ticks": ""
             }
            },
            "type": "scatterpolargl"
           }
          ],
          "scatterternary": [
           {
            "marker": {
             "colorbar": {
              "outlinewidth": 0,
              "ticks": ""
             }
            },
            "type": "scatterternary"
           }
          ],
          "surface": [
           {
            "colorbar": {
             "outlinewidth": 0,
             "ticks": ""
            },
            "colorscale": [
             [
              0,
              "#0d0887"
             ],
             [
              0.1111111111111111,
              "#46039f"
             ],
             [
              0.2222222222222222,
              "#7201a8"
             ],
             [
              0.3333333333333333,
              "#9c179e"
             ],
             [
              0.4444444444444444,
              "#bd3786"
             ],
             [
              0.5555555555555556,
              "#d8576b"
             ],
             [
              0.6666666666666666,
              "#ed7953"
             ],
             [
              0.7777777777777778,
              "#fb9f3a"
             ],
             [
              0.8888888888888888,
              "#fdca26"
             ],
             [
              1,
              "#f0f921"
             ]
            ],
            "type": "surface"
           }
          ],
          "table": [
           {
            "cells": {
             "fill": {
              "color": "#EBF0F8"
             },
             "line": {
              "color": "white"
             }
            },
            "header": {
             "fill": {
              "color": "#C8D4E3"
             },
             "line": {
              "color": "white"
             }
            },
            "type": "table"
           }
          ]
         },
         "layout": {
          "annotationdefaults": {
           "arrowcolor": "#2a3f5f",
           "arrowhead": 0,
           "arrowwidth": 1
          },
          "autotypenumbers": "strict",
          "coloraxis": {
           "colorbar": {
            "outlinewidth": 0,
            "ticks": ""
           }
          },
          "colorscale": {
           "diverging": [
            [
             0,
             "#8e0152"
            ],
            [
             0.1,
             "#c51b7d"
            ],
            [
             0.2,
             "#de77ae"
            ],
            [
             0.3,
             "#f1b6da"
            ],
            [
             0.4,
             "#fde0ef"
            ],
            [
             0.5,
             "#f7f7f7"
            ],
            [
             0.6,
             "#e6f5d0"
            ],
            [
             0.7,
             "#b8e186"
            ],
            [
             0.8,
             "#7fbc41"
            ],
            [
             0.9,
             "#4d9221"
            ],
            [
             1,
             "#276419"
            ]
           ],
           "sequential": [
            [
             0,
             "#0d0887"
            ],
            [
             0.1111111111111111,
             "#46039f"
            ],
            [
             0.2222222222222222,
             "#7201a8"
            ],
            [
             0.3333333333333333,
             "#9c179e"
            ],
            [
             0.4444444444444444,
             "#bd3786"
            ],
            [
             0.5555555555555556,
             "#d8576b"
            ],
            [
             0.6666666666666666,
             "#ed7953"
            ],
            [
             0.7777777777777778,
             "#fb9f3a"
            ],
            [
             0.8888888888888888,
             "#fdca26"
            ],
            [
             1,
             "#f0f921"
            ]
           ],
           "sequentialminus": [
            [
             0,
             "#0d0887"
            ],
            [
             0.1111111111111111,
             "#46039f"
            ],
            [
             0.2222222222222222,
             "#7201a8"
            ],
            [
             0.3333333333333333,
             "#9c179e"
            ],
            [
             0.4444444444444444,
             "#bd3786"
            ],
            [
             0.5555555555555556,
             "#d8576b"
            ],
            [
             0.6666666666666666,
             "#ed7953"
            ],
            [
             0.7777777777777778,
             "#fb9f3a"
            ],
            [
             0.8888888888888888,
             "#fdca26"
            ],
            [
             1,
             "#f0f921"
            ]
           ]
          },
          "colorway": [
           "#636efa",
           "#EF553B",
           "#00cc96",
           "#ab63fa",
           "#FFA15A",
           "#19d3f3",
           "#FF6692",
           "#B6E880",
           "#FF97FF",
           "#FECB52"
          ],
          "font": {
           "color": "#2a3f5f"
          },
          "geo": {
           "bgcolor": "white",
           "lakecolor": "white",
           "landcolor": "#E5ECF6",
           "showlakes": true,
           "showland": true,
           "subunitcolor": "white"
          },
          "hoverlabel": {
           "align": "left"
          },
          "hovermode": "closest",
          "mapbox": {
           "style": "light"
          },
          "paper_bgcolor": "white",
          "plot_bgcolor": "#E5ECF6",
          "polar": {
           "angularaxis": {
            "gridcolor": "white",
            "linecolor": "white",
            "ticks": ""
           },
           "bgcolor": "#E5ECF6",
           "radialaxis": {
            "gridcolor": "white",
            "linecolor": "white",
            "ticks": ""
           }
          },
          "scene": {
           "xaxis": {
            "backgroundcolor": "#E5ECF6",
            "gridcolor": "white",
            "gridwidth": 2,
            "linecolor": "white",
            "showbackground": true,
            "ticks": "",
            "zerolinecolor": "white"
           },
           "yaxis": {
            "backgroundcolor": "#E5ECF6",
            "gridcolor": "white",
            "gridwidth": 2,
            "linecolor": "white",
            "showbackground": true,
            "ticks": "",
            "zerolinecolor": "white"
           },
           "zaxis": {
            "backgroundcolor": "#E5ECF6",
            "gridcolor": "white",
            "gridwidth": 2,
            "linecolor": "white",
            "showbackground": true,
            "ticks": "",
            "zerolinecolor": "white"
           }
          },
          "shapedefaults": {
           "line": {
            "color": "#2a3f5f"
           }
          },
          "ternary": {
           "aaxis": {
            "gridcolor": "white",
            "linecolor": "white",
            "ticks": ""
           },
           "baxis": {
            "gridcolor": "white",
            "linecolor": "white",
            "ticks": ""
           },
           "bgcolor": "#E5ECF6",
           "caxis": {
            "gridcolor": "white",
            "linecolor": "white",
            "ticks": ""
           }
          },
          "title": {
           "x": 0.05
          },
          "xaxis": {
           "automargin": true,
           "gridcolor": "white",
           "linecolor": "white",
           "ticks": "",
           "title": {
            "standoff": 15
           },
           "zerolinecolor": "white",
           "zerolinewidth": 2
          },
          "yaxis": {
           "automargin": true,
           "gridcolor": "white",
           "linecolor": "white",
           "ticks": "",
           "title": {
            "standoff": 15
           },
           "zerolinecolor": "white",
           "zerolinewidth": 2
          }
         }
        },
        "title": {
         "text": "Area and stretching in the x direction"
        },
        "updatemenus": [
         {
          "buttons": [
           {
            "args": [
             null,
             {
              "frame": {
               "duration": 50,
               "redraw": false
              },
              "fromcurrent": true,
              "transition": {
               "duration": 10
              }
             }
            ],
            "label": "Play",
            "method": "animate"
           }
          ],
          "type": "buttons"
         }
        ],
        "width": 600,
        "xaxis": {
         "range": [
          -2.3,
          2.3
         ],
         "title": {
          "text": "x"
         }
        },
        "yaxis": {
         "range": [
          -2.3,
          2.3
         ],
         "title": {
          "text": "y"
         }
        }
       }
      }
     },
     "metadata": {},
     "output_type": "display_data"
    }
   ],
   "source": [
    "# Sheer in the x and y direction\n",
    "\n",
    "fig6 = create_animation(unit1, unit2, [\n",
    "    np.array([[1, x], [y, 1]]) for x, y in zip(np.linspace(0, 1, 50), np.linspace(0, 1, 50))\n",
    "])\n",
    "fig6.show()\n"
   ]
  },
  {
   "cell_type": "code",
   "execution_count": null,
   "id": "84850417",
   "metadata": {},
   "outputs": [
    {
     "data": {
      "application/vnd.plotly.v1+json": {
       "config": {
        "plotlyServerURL": "https://plot.ly"
       },
       "data": [
        {
         "line": {
          "color": "blue",
          "width": 1
         },
         "marker": {
          "size": 2
         },
         "mode": "lines+markers",
         "name": "V1",
         "type": "scatter",
         "x": [
          0,
          1
         ],
         "y": [
          0,
          0
         ]
        },
        {
         "line": {
          "color": "red",
          "width": 1
         },
         "marker": {
          "size": 2
         },
         "mode": "lines+markers",
         "name": "V2",
         "type": "scatter",
         "x": [
          0,
          0
         ],
         "y": [
          0,
          1
         ]
        },
        {
         "line": {
          "color": "green",
          "width": 1
         },
         "marker": {
          "size": 2
         },
         "mode": "lines+markers",
         "name": "V1 + V2",
         "type": "scatter",
         "x": [
          0,
          1
         ],
         "y": [
          0,
          1
         ]
        },
        {
         "fill": "toself",
         "fillcolor": "rgba(0, 100, 200, 0.2)",
         "line": {
          "color": "rgba(255,255,255,0)"
         },
         "name": "Area",
         "type": "scatter",
         "x": [
          0,
          1,
          1,
          0,
          0
         ],
         "y": [
          0,
          0,
          1,
          1,
          0
         ]
        }
       ],
       "frames": [
        {
         "data": [
          {
           "line": {
            "color": "blue",
            "width": 1
           },
           "marker": {
            "size": 2
           },
           "mode": "lines+markers",
           "name": "V1",
           "type": "scatter",
           "x": [
            0,
            1
           ],
           "y": [
            0,
            0
           ]
          },
          {
           "line": {
            "color": "red",
            "width": 1
           },
           "marker": {
            "size": 2
           },
           "mode": "lines+markers",
           "name": "V2",
           "type": "scatter",
           "x": [
            0,
            0
           ],
           "y": [
            0,
            1
           ]
          },
          {
           "line": {
            "color": "green",
            "width": 1
           },
           "marker": {
            "size": 2
           },
           "mode": "lines+markers",
           "name": "V1 + V2",
           "type": "scatter",
           "x": [
            0,
            1
           ],
           "y": [
            0,
            1
           ]
          },
          {
           "fill": "toself",
           "fillcolor": "rgba(0, 100, 200, 0.2)",
           "line": {
            "color": "rgba(255,255,255,0)"
           },
           "name": "Area",
           "type": "scatter",
           "x": [
            0,
            1,
            1,
            0,
            0
           ],
           "y": [
            0,
            0,
            1,
            1,
            0
           ]
          }
         ]
        },
        {
         "data": [
          {
           "line": {
            "color": "blue",
            "width": 1
           },
           "marker": {
            "size": 2
           },
           "mode": "lines+markers",
           "name": "V1",
           "type": "scatter",
           "x": [
            0,
            1.0204081632653061
           ],
           "y": [
            0,
            0.02040816326530612
           ]
          },
          {
           "line": {
            "color": "red",
            "width": 1
           },
           "marker": {
            "size": 2
           },
           "mode": "lines+markers",
           "name": "V2",
           "type": "scatter",
           "x": [
            0,
            0.02040816326530612
           ],
           "y": [
            0,
            1.0204081632653061
           ]
          },
          {
           "line": {
            "color": "green",
            "width": 1
           },
           "marker": {
            "size": 2
           },
           "mode": "lines+markers",
           "name": "V1 + V2",
           "type": "scatter",
           "x": [
            0,
            1.0408163265306123
           ],
           "y": [
            0,
            1.0408163265306123
           ]
          },
          {
           "fill": "toself",
           "fillcolor": "rgba(0, 100, 200, 0.2)",
           "line": {
            "color": "rgba(255,255,255,0)"
           },
           "name": "Area",
           "type": "scatter",
           "x": [
            0,
            1.0204081632653061,
            1.0408163265306123,
            0.02040816326530612,
            0
           ],
           "y": [
            0,
            0.02040816326530612,
            1.0408163265306123,
            1.0204081632653061,
            0
           ]
          }
         ]
        },
        {
         "data": [
          {
           "line": {
            "color": "blue",
            "width": 1
           },
           "marker": {
            "size": 2
           },
           "mode": "lines+markers",
           "name": "V1",
           "type": "scatter",
           "x": [
            0,
            1.0408163265306123
           ],
           "y": [
            0,
            0.04081632653061224
           ]
          },
          {
           "line": {
            "color": "red",
            "width": 1
           },
           "marker": {
            "size": 2
           },
           "mode": "lines+markers",
           "name": "V2",
           "type": "scatter",
           "x": [
            0,
            0.04081632653061224
           ],
           "y": [
            0,
            1.0408163265306123
           ]
          },
          {
           "line": {
            "color": "green",
            "width": 1
           },
           "marker": {
            "size": 2
           },
           "mode": "lines+markers",
           "name": "V1 + V2",
           "type": "scatter",
           "x": [
            0,
            1.0816326530612246
           ],
           "y": [
            0,
            1.0816326530612246
           ]
          },
          {
           "fill": "toself",
           "fillcolor": "rgba(0, 100, 200, 0.2)",
           "line": {
            "color": "rgba(255,255,255,0)"
           },
           "name": "Area",
           "type": "scatter",
           "x": [
            0,
            1.0408163265306123,
            1.0816326530612246,
            0.04081632653061224,
            0
           ],
           "y": [
            0,
            0.04081632653061224,
            1.0816326530612246,
            1.0408163265306123,
            0
           ]
          }
         ]
        },
        {
         "data": [
          {
           "line": {
            "color": "blue",
            "width": 1
           },
           "marker": {
            "size": 2
           },
           "mode": "lines+markers",
           "name": "V1",
           "type": "scatter",
           "x": [
            0,
            1.0612244897959184
           ],
           "y": [
            0,
            0.061224489795918366
           ]
          },
          {
           "line": {
            "color": "red",
            "width": 1
           },
           "marker": {
            "size": 2
           },
           "mode": "lines+markers",
           "name": "V2",
           "type": "scatter",
           "x": [
            0,
            0.061224489795918366
           ],
           "y": [
            0,
            1.0612244897959184
           ]
          },
          {
           "line": {
            "color": "green",
            "width": 1
           },
           "marker": {
            "size": 2
           },
           "mode": "lines+markers",
           "name": "V1 + V2",
           "type": "scatter",
           "x": [
            0,
            1.1224489795918369
           ],
           "y": [
            0,
            1.1224489795918369
           ]
          },
          {
           "fill": "toself",
           "fillcolor": "rgba(0, 100, 200, 0.2)",
           "line": {
            "color": "rgba(255,255,255,0)"
           },
           "name": "Area",
           "type": "scatter",
           "x": [
            0,
            1.0612244897959184,
            1.1224489795918369,
            0.061224489795918366,
            0
           ],
           "y": [
            0,
            0.061224489795918366,
            1.1224489795918369,
            1.0612244897959184,
            0
           ]
          }
         ]
        },
        {
         "data": [
          {
           "line": {
            "color": "blue",
            "width": 1
           },
           "marker": {
            "size": 2
           },
           "mode": "lines+markers",
           "name": "V1",
           "type": "scatter",
           "x": [
            0,
            1.0816326530612246
           ],
           "y": [
            0,
            0.08163265306122448
           ]
          },
          {
           "line": {
            "color": "red",
            "width": 1
           },
           "marker": {
            "size": 2
           },
           "mode": "lines+markers",
           "name": "V2",
           "type": "scatter",
           "x": [
            0,
            0.08163265306122448
           ],
           "y": [
            0,
            1.0816326530612246
           ]
          },
          {
           "line": {
            "color": "green",
            "width": 1
           },
           "marker": {
            "size": 2
           },
           "mode": "lines+markers",
           "name": "V1 + V2",
           "type": "scatter",
           "x": [
            0,
            1.1632653061224492
           ],
           "y": [
            0,
            1.1632653061224492
           ]
          },
          {
           "fill": "toself",
           "fillcolor": "rgba(0, 100, 200, 0.2)",
           "line": {
            "color": "rgba(255,255,255,0)"
           },
           "name": "Area",
           "type": "scatter",
           "x": [
            0,
            1.0816326530612246,
            1.1632653061224492,
            0.08163265306122448,
            0
           ],
           "y": [
            0,
            0.08163265306122448,
            1.1632653061224492,
            1.0816326530612246,
            0
           ]
          }
         ]
        },
        {
         "data": [
          {
           "line": {
            "color": "blue",
            "width": 1
           },
           "marker": {
            "size": 2
           },
           "mode": "lines+markers",
           "name": "V1",
           "type": "scatter",
           "x": [
            0,
            1.1020408163265305
           ],
           "y": [
            0,
            0.1020408163265306
           ]
          },
          {
           "line": {
            "color": "red",
            "width": 1
           },
           "marker": {
            "size": 2
           },
           "mode": "lines+markers",
           "name": "V2",
           "type": "scatter",
           "x": [
            0,
            0.1020408163265306
           ],
           "y": [
            0,
            1.1020408163265305
           ]
          },
          {
           "line": {
            "color": "green",
            "width": 1
           },
           "marker": {
            "size": 2
           },
           "mode": "lines+markers",
           "name": "V1 + V2",
           "type": "scatter",
           "x": [
            0,
            1.204081632653061
           ],
           "y": [
            0,
            1.204081632653061
           ]
          },
          {
           "fill": "toself",
           "fillcolor": "rgba(0, 100, 200, 0.2)",
           "line": {
            "color": "rgba(255,255,255,0)"
           },
           "name": "Area",
           "type": "scatter",
           "x": [
            0,
            1.1020408163265305,
            1.204081632653061,
            0.1020408163265306,
            0
           ],
           "y": [
            0,
            0.1020408163265306,
            1.204081632653061,
            1.1020408163265305,
            0
           ]
          }
         ]
        },
        {
         "data": [
          {
           "line": {
            "color": "blue",
            "width": 1
           },
           "marker": {
            "size": 2
           },
           "mode": "lines+markers",
           "name": "V1",
           "type": "scatter",
           "x": [
            0,
            1.1224489795918366
           ],
           "y": [
            0,
            0.12244897959183673
           ]
          },
          {
           "line": {
            "color": "red",
            "width": 1
           },
           "marker": {
            "size": 2
           },
           "mode": "lines+markers",
           "name": "V2",
           "type": "scatter",
           "x": [
            0,
            0.12244897959183673
           ],
           "y": [
            0,
            1.1224489795918366
           ]
          },
          {
           "line": {
            "color": "green",
            "width": 1
           },
           "marker": {
            "size": 2
           },
           "mode": "lines+markers",
           "name": "V1 + V2",
           "type": "scatter",
           "x": [
            0,
            1.2448979591836733
           ],
           "y": [
            0,
            1.2448979591836733
           ]
          },
          {
           "fill": "toself",
           "fillcolor": "rgba(0, 100, 200, 0.2)",
           "line": {
            "color": "rgba(255,255,255,0)"
           },
           "name": "Area",
           "type": "scatter",
           "x": [
            0,
            1.1224489795918366,
            1.2448979591836733,
            0.12244897959183673,
            0
           ],
           "y": [
            0,
            0.12244897959183673,
            1.2448979591836733,
            1.1224489795918366,
            0
           ]
          }
         ]
        },
        {
         "data": [
          {
           "line": {
            "color": "blue",
            "width": 1
           },
           "marker": {
            "size": 2
           },
           "mode": "lines+markers",
           "name": "V1",
           "type": "scatter",
           "x": [
            0,
            1.1428571428571428
           ],
           "y": [
            0,
            0.14285714285714285
           ]
          },
          {
           "line": {
            "color": "red",
            "width": 1
           },
           "marker": {
            "size": 2
           },
           "mode": "lines+markers",
           "name": "V2",
           "type": "scatter",
           "x": [
            0,
            0.14285714285714285
           ],
           "y": [
            0,
            1.1428571428571428
           ]
          },
          {
           "line": {
            "color": "green",
            "width": 1
           },
           "marker": {
            "size": 2
           },
           "mode": "lines+markers",
           "name": "V1 + V2",
           "type": "scatter",
           "x": [
            0,
            1.2857142857142856
           ],
           "y": [
            0,
            1.2857142857142856
           ]
          },
          {
           "fill": "toself",
           "fillcolor": "rgba(0, 100, 200, 0.2)",
           "line": {
            "color": "rgba(255,255,255,0)"
           },
           "name": "Area",
           "type": "scatter",
           "x": [
            0,
            1.1428571428571428,
            1.2857142857142856,
            0.14285714285714285,
            0
           ],
           "y": [
            0,
            0.14285714285714285,
            1.2857142857142856,
            1.1428571428571428,
            0
           ]
          }
         ]
        },
        {
         "data": [
          {
           "line": {
            "color": "blue",
            "width": 1
           },
           "marker": {
            "size": 2
           },
           "mode": "lines+markers",
           "name": "V1",
           "type": "scatter",
           "x": [
            0,
            1.163265306122449
           ],
           "y": [
            0,
            0.16326530612244897
           ]
          },
          {
           "line": {
            "color": "red",
            "width": 1
           },
           "marker": {
            "size": 2
           },
           "mode": "lines+markers",
           "name": "V2",
           "type": "scatter",
           "x": [
            0,
            0.16326530612244897
           ],
           "y": [
            0,
            1.163265306122449
           ]
          },
          {
           "line": {
            "color": "green",
            "width": 1
           },
           "marker": {
            "size": 2
           },
           "mode": "lines+markers",
           "name": "V1 + V2",
           "type": "scatter",
           "x": [
            0,
            1.3265306122448979
           ],
           "y": [
            0,
            1.3265306122448979
           ]
          },
          {
           "fill": "toself",
           "fillcolor": "rgba(0, 100, 200, 0.2)",
           "line": {
            "color": "rgba(255,255,255,0)"
           },
           "name": "Area",
           "type": "scatter",
           "x": [
            0,
            1.163265306122449,
            1.3265306122448979,
            0.16326530612244897,
            0
           ],
           "y": [
            0,
            0.16326530612244897,
            1.3265306122448979,
            1.163265306122449,
            0
           ]
          }
         ]
        },
        {
         "data": [
          {
           "line": {
            "color": "blue",
            "width": 1
           },
           "marker": {
            "size": 2
           },
           "mode": "lines+markers",
           "name": "V1",
           "type": "scatter",
           "x": [
            0,
            1.183673469387755
           ],
           "y": [
            0,
            0.18367346938775508
           ]
          },
          {
           "line": {
            "color": "red",
            "width": 1
           },
           "marker": {
            "size": 2
           },
           "mode": "lines+markers",
           "name": "V2",
           "type": "scatter",
           "x": [
            0,
            0.18367346938775508
           ],
           "y": [
            0,
            1.183673469387755
           ]
          },
          {
           "line": {
            "color": "green",
            "width": 1
           },
           "marker": {
            "size": 2
           },
           "mode": "lines+markers",
           "name": "V1 + V2",
           "type": "scatter",
           "x": [
            0,
            1.3673469387755102
           ],
           "y": [
            0,
            1.3673469387755102
           ]
          },
          {
           "fill": "toself",
           "fillcolor": "rgba(0, 100, 200, 0.2)",
           "line": {
            "color": "rgba(255,255,255,0)"
           },
           "name": "Area",
           "type": "scatter",
           "x": [
            0,
            1.183673469387755,
            1.3673469387755102,
            0.18367346938775508,
            0
           ],
           "y": [
            0,
            0.18367346938775508,
            1.3673469387755102,
            1.183673469387755,
            0
           ]
          }
         ]
        },
        {
         "data": [
          {
           "line": {
            "color": "blue",
            "width": 1
           },
           "marker": {
            "size": 2
           },
           "mode": "lines+markers",
           "name": "V1",
           "type": "scatter",
           "x": [
            0,
            1.2040816326530612
           ],
           "y": [
            0,
            0.2040816326530612
           ]
          },
          {
           "line": {
            "color": "red",
            "width": 1
           },
           "marker": {
            "size": 2
           },
           "mode": "lines+markers",
           "name": "V2",
           "type": "scatter",
           "x": [
            0,
            0.2040816326530612
           ],
           "y": [
            0,
            1.2040816326530612
           ]
          },
          {
           "line": {
            "color": "green",
            "width": 1
           },
           "marker": {
            "size": 2
           },
           "mode": "lines+markers",
           "name": "V1 + V2",
           "type": "scatter",
           "x": [
            0,
            1.4081632653061225
           ],
           "y": [
            0,
            1.4081632653061225
           ]
          },
          {
           "fill": "toself",
           "fillcolor": "rgba(0, 100, 200, 0.2)",
           "line": {
            "color": "rgba(255,255,255,0)"
           },
           "name": "Area",
           "type": "scatter",
           "x": [
            0,
            1.2040816326530612,
            1.4081632653061225,
            0.2040816326530612,
            0
           ],
           "y": [
            0,
            0.2040816326530612,
            1.4081632653061225,
            1.2040816326530612,
            0
           ]
          }
         ]
        },
        {
         "data": [
          {
           "line": {
            "color": "blue",
            "width": 1
           },
           "marker": {
            "size": 2
           },
           "mode": "lines+markers",
           "name": "V1",
           "type": "scatter",
           "x": [
            0,
            1.2244897959183674
           ],
           "y": [
            0,
            0.22448979591836732
           ]
          },
          {
           "line": {
            "color": "red",
            "width": 1
           },
           "marker": {
            "size": 2
           },
           "mode": "lines+markers",
           "name": "V2",
           "type": "scatter",
           "x": [
            0,
            0.22448979591836732
           ],
           "y": [
            0,
            1.2244897959183674
           ]
          },
          {
           "line": {
            "color": "green",
            "width": 1
           },
           "marker": {
            "size": 2
           },
           "mode": "lines+markers",
           "name": "V1 + V2",
           "type": "scatter",
           "x": [
            0,
            1.4489795918367347
           ],
           "y": [
            0,
            1.4489795918367347
           ]
          },
          {
           "fill": "toself",
           "fillcolor": "rgba(0, 100, 200, 0.2)",
           "line": {
            "color": "rgba(255,255,255,0)"
           },
           "name": "Area",
           "type": "scatter",
           "x": [
            0,
            1.2244897959183674,
            1.4489795918367347,
            0.22448979591836732,
            0
           ],
           "y": [
            0,
            0.22448979591836732,
            1.4489795918367347,
            1.2244897959183674,
            0
           ]
          }
         ]
        },
        {
         "data": [
          {
           "line": {
            "color": "blue",
            "width": 1
           },
           "marker": {
            "size": 2
           },
           "mode": "lines+markers",
           "name": "V1",
           "type": "scatter",
           "x": [
            0,
            1.2448979591836735
           ],
           "y": [
            0,
            0.24489795918367346
           ]
          },
          {
           "line": {
            "color": "red",
            "width": 1
           },
           "marker": {
            "size": 2
           },
           "mode": "lines+markers",
           "name": "V2",
           "type": "scatter",
           "x": [
            0,
            0.24489795918367346
           ],
           "y": [
            0,
            1.2448979591836735
           ]
          },
          {
           "line": {
            "color": "green",
            "width": 1
           },
           "marker": {
            "size": 2
           },
           "mode": "lines+markers",
           "name": "V1 + V2",
           "type": "scatter",
           "x": [
            0,
            1.489795918367347
           ],
           "y": [
            0,
            1.489795918367347
           ]
          },
          {
           "fill": "toself",
           "fillcolor": "rgba(0, 100, 200, 0.2)",
           "line": {
            "color": "rgba(255,255,255,0)"
           },
           "name": "Area",
           "type": "scatter",
           "x": [
            0,
            1.2448979591836735,
            1.489795918367347,
            0.24489795918367346,
            0
           ],
           "y": [
            0,
            0.24489795918367346,
            1.489795918367347,
            1.2448979591836735,
            0
           ]
          }
         ]
        },
        {
         "data": [
          {
           "line": {
            "color": "blue",
            "width": 1
           },
           "marker": {
            "size": 2
           },
           "mode": "lines+markers",
           "name": "V1",
           "type": "scatter",
           "x": [
            0,
            1.2653061224489797
           ],
           "y": [
            0,
            0.26530612244897955
           ]
          },
          {
           "line": {
            "color": "red",
            "width": 1
           },
           "marker": {
            "size": 2
           },
           "mode": "lines+markers",
           "name": "V2",
           "type": "scatter",
           "x": [
            0,
            0.26530612244897955
           ],
           "y": [
            0,
            1.2653061224489797
           ]
          },
          {
           "line": {
            "color": "green",
            "width": 1
           },
           "marker": {
            "size": 2
           },
           "mode": "lines+markers",
           "name": "V1 + V2",
           "type": "scatter",
           "x": [
            0,
            1.5306122448979593
           ],
           "y": [
            0,
            1.5306122448979593
           ]
          },
          {
           "fill": "toself",
           "fillcolor": "rgba(0, 100, 200, 0.2)",
           "line": {
            "color": "rgba(255,255,255,0)"
           },
           "name": "Area",
           "type": "scatter",
           "x": [
            0,
            1.2653061224489797,
            1.5306122448979593,
            0.26530612244897955,
            0
           ],
           "y": [
            0,
            0.26530612244897955,
            1.5306122448979593,
            1.2653061224489797,
            0
           ]
          }
         ]
        },
        {
         "data": [
          {
           "line": {
            "color": "blue",
            "width": 1
           },
           "marker": {
            "size": 2
           },
           "mode": "lines+markers",
           "name": "V1",
           "type": "scatter",
           "x": [
            0,
            1.2857142857142856
           ],
           "y": [
            0,
            0.2857142857142857
           ]
          },
          {
           "line": {
            "color": "red",
            "width": 1
           },
           "marker": {
            "size": 2
           },
           "mode": "lines+markers",
           "name": "V2",
           "type": "scatter",
           "x": [
            0,
            0.2857142857142857
           ],
           "y": [
            0,
            1.2857142857142856
           ]
          },
          {
           "line": {
            "color": "green",
            "width": 1
           },
           "marker": {
            "size": 2
           },
           "mode": "lines+markers",
           "name": "V1 + V2",
           "type": "scatter",
           "x": [
            0,
            1.5714285714285712
           ],
           "y": [
            0,
            1.5714285714285712
           ]
          },
          {
           "fill": "toself",
           "fillcolor": "rgba(0, 100, 200, 0.2)",
           "line": {
            "color": "rgba(255,255,255,0)"
           },
           "name": "Area",
           "type": "scatter",
           "x": [
            0,
            1.2857142857142856,
            1.5714285714285712,
            0.2857142857142857,
            0
           ],
           "y": [
            0,
            0.2857142857142857,
            1.5714285714285712,
            1.2857142857142856,
            0
           ]
          }
         ]
        },
        {
         "data": [
          {
           "line": {
            "color": "blue",
            "width": 1
           },
           "marker": {
            "size": 2
           },
           "mode": "lines+markers",
           "name": "V1",
           "type": "scatter",
           "x": [
            0,
            1.3061224489795917
           ],
           "y": [
            0,
            0.3061224489795918
           ]
          },
          {
           "line": {
            "color": "red",
            "width": 1
           },
           "marker": {
            "size": 2
           },
           "mode": "lines+markers",
           "name": "V2",
           "type": "scatter",
           "x": [
            0,
            0.3061224489795918
           ],
           "y": [
            0,
            1.3061224489795917
           ]
          },
          {
           "line": {
            "color": "green",
            "width": 1
           },
           "marker": {
            "size": 2
           },
           "mode": "lines+markers",
           "name": "V1 + V2",
           "type": "scatter",
           "x": [
            0,
            1.6122448979591835
           ],
           "y": [
            0,
            1.6122448979591835
           ]
          },
          {
           "fill": "toself",
           "fillcolor": "rgba(0, 100, 200, 0.2)",
           "line": {
            "color": "rgba(255,255,255,0)"
           },
           "name": "Area",
           "type": "scatter",
           "x": [
            0,
            1.3061224489795917,
            1.6122448979591835,
            0.3061224489795918,
            0
           ],
           "y": [
            0,
            0.3061224489795918,
            1.6122448979591835,
            1.3061224489795917,
            0
           ]
          }
         ]
        },
        {
         "data": [
          {
           "line": {
            "color": "blue",
            "width": 1
           },
           "marker": {
            "size": 2
           },
           "mode": "lines+markers",
           "name": "V1",
           "type": "scatter",
           "x": [
            0,
            1.3265306122448979
           ],
           "y": [
            0,
            0.32653061224489793
           ]
          },
          {
           "line": {
            "color": "red",
            "width": 1
           },
           "marker": {
            "size": 2
           },
           "mode": "lines+markers",
           "name": "V2",
           "type": "scatter",
           "x": [
            0,
            0.32653061224489793
           ],
           "y": [
            0,
            1.3265306122448979
           ]
          },
          {
           "line": {
            "color": "green",
            "width": 1
           },
           "marker": {
            "size": 2
           },
           "mode": "lines+markers",
           "name": "V1 + V2",
           "type": "scatter",
           "x": [
            0,
            1.6530612244897958
           ],
           "y": [
            0,
            1.6530612244897958
           ]
          },
          {
           "fill": "toself",
           "fillcolor": "rgba(0, 100, 200, 0.2)",
           "line": {
            "color": "rgba(255,255,255,0)"
           },
           "name": "Area",
           "type": "scatter",
           "x": [
            0,
            1.3265306122448979,
            1.6530612244897958,
            0.32653061224489793,
            0
           ],
           "y": [
            0,
            0.32653061224489793,
            1.6530612244897958,
            1.3265306122448979,
            0
           ]
          }
         ]
        },
        {
         "data": [
          {
           "line": {
            "color": "blue",
            "width": 1
           },
           "marker": {
            "size": 2
           },
           "mode": "lines+markers",
           "name": "V1",
           "type": "scatter",
           "x": [
            0,
            1.346938775510204
           ],
           "y": [
            0,
            0.3469387755102041
           ]
          },
          {
           "line": {
            "color": "red",
            "width": 1
           },
           "marker": {
            "size": 2
           },
           "mode": "lines+markers",
           "name": "V2",
           "type": "scatter",
           "x": [
            0,
            0.3469387755102041
           ],
           "y": [
            0,
            1.346938775510204
           ]
          },
          {
           "line": {
            "color": "green",
            "width": 1
           },
           "marker": {
            "size": 2
           },
           "mode": "lines+markers",
           "name": "V1 + V2",
           "type": "scatter",
           "x": [
            0,
            1.693877551020408
           ],
           "y": [
            0,
            1.693877551020408
           ]
          },
          {
           "fill": "toself",
           "fillcolor": "rgba(0, 100, 200, 0.2)",
           "line": {
            "color": "rgba(255,255,255,0)"
           },
           "name": "Area",
           "type": "scatter",
           "x": [
            0,
            1.346938775510204,
            1.693877551020408,
            0.3469387755102041,
            0
           ],
           "y": [
            0,
            0.3469387755102041,
            1.693877551020408,
            1.346938775510204,
            0
           ]
          }
         ]
        },
        {
         "data": [
          {
           "line": {
            "color": "blue",
            "width": 1
           },
           "marker": {
            "size": 2
           },
           "mode": "lines+markers",
           "name": "V1",
           "type": "scatter",
           "x": [
            0,
            1.3673469387755102
           ],
           "y": [
            0,
            0.36734693877551017
           ]
          },
          {
           "line": {
            "color": "red",
            "width": 1
           },
           "marker": {
            "size": 2
           },
           "mode": "lines+markers",
           "name": "V2",
           "type": "scatter",
           "x": [
            0,
            0.36734693877551017
           ],
           "y": [
            0,
            1.3673469387755102
           ]
          },
          {
           "line": {
            "color": "green",
            "width": 1
           },
           "marker": {
            "size": 2
           },
           "mode": "lines+markers",
           "name": "V1 + V2",
           "type": "scatter",
           "x": [
            0,
            1.7346938775510203
           ],
           "y": [
            0,
            1.7346938775510203
           ]
          },
          {
           "fill": "toself",
           "fillcolor": "rgba(0, 100, 200, 0.2)",
           "line": {
            "color": "rgba(255,255,255,0)"
           },
           "name": "Area",
           "type": "scatter",
           "x": [
            0,
            1.3673469387755102,
            1.7346938775510203,
            0.36734693877551017,
            0
           ],
           "y": [
            0,
            0.36734693877551017,
            1.7346938775510203,
            1.3673469387755102,
            0
           ]
          }
         ]
        },
        {
         "data": [
          {
           "line": {
            "color": "blue",
            "width": 1
           },
           "marker": {
            "size": 2
           },
           "mode": "lines+markers",
           "name": "V1",
           "type": "scatter",
           "x": [
            0,
            1.3877551020408163
           ],
           "y": [
            0,
            0.3877551020408163
           ]
          },
          {
           "line": {
            "color": "red",
            "width": 1
           },
           "marker": {
            "size": 2
           },
           "mode": "lines+markers",
           "name": "V2",
           "type": "scatter",
           "x": [
            0,
            0.3877551020408163
           ],
           "y": [
            0,
            1.3877551020408163
           ]
          },
          {
           "line": {
            "color": "green",
            "width": 1
           },
           "marker": {
            "size": 2
           },
           "mode": "lines+markers",
           "name": "V1 + V2",
           "type": "scatter",
           "x": [
            0,
            1.7755102040816326
           ],
           "y": [
            0,
            1.7755102040816326
           ]
          },
          {
           "fill": "toself",
           "fillcolor": "rgba(0, 100, 200, 0.2)",
           "line": {
            "color": "rgba(255,255,255,0)"
           },
           "name": "Area",
           "type": "scatter",
           "x": [
            0,
            1.3877551020408163,
            1.7755102040816326,
            0.3877551020408163,
            0
           ],
           "y": [
            0,
            0.3877551020408163,
            1.7755102040816326,
            1.3877551020408163,
            0
           ]
          }
         ]
        },
        {
         "data": [
          {
           "line": {
            "color": "blue",
            "width": 1
           },
           "marker": {
            "size": 2
           },
           "mode": "lines+markers",
           "name": "V1",
           "type": "scatter",
           "x": [
            0,
            1.4081632653061225
           ],
           "y": [
            0,
            0.4081632653061224
           ]
          },
          {
           "line": {
            "color": "red",
            "width": 1
           },
           "marker": {
            "size": 2
           },
           "mode": "lines+markers",
           "name": "V2",
           "type": "scatter",
           "x": [
            0,
            0.4081632653061224
           ],
           "y": [
            0,
            1.4081632653061225
           ]
          },
          {
           "line": {
            "color": "green",
            "width": 1
           },
           "marker": {
            "size": 2
           },
           "mode": "lines+markers",
           "name": "V1 + V2",
           "type": "scatter",
           "x": [
            0,
            1.816326530612245
           ],
           "y": [
            0,
            1.816326530612245
           ]
          },
          {
           "fill": "toself",
           "fillcolor": "rgba(0, 100, 200, 0.2)",
           "line": {
            "color": "rgba(255,255,255,0)"
           },
           "name": "Area",
           "type": "scatter",
           "x": [
            0,
            1.4081632653061225,
            1.816326530612245,
            0.4081632653061224,
            0
           ],
           "y": [
            0,
            0.4081632653061224,
            1.816326530612245,
            1.4081632653061225,
            0
           ]
          }
         ]
        },
        {
         "data": [
          {
           "line": {
            "color": "blue",
            "width": 1
           },
           "marker": {
            "size": 2
           },
           "mode": "lines+markers",
           "name": "V1",
           "type": "scatter",
           "x": [
            0,
            1.4285714285714286
           ],
           "y": [
            0,
            0.42857142857142855
           ]
          },
          {
           "line": {
            "color": "red",
            "width": 1
           },
           "marker": {
            "size": 2
           },
           "mode": "lines+markers",
           "name": "V2",
           "type": "scatter",
           "x": [
            0,
            0.42857142857142855
           ],
           "y": [
            0,
            1.4285714285714286
           ]
          },
          {
           "line": {
            "color": "green",
            "width": 1
           },
           "marker": {
            "size": 2
           },
           "mode": "lines+markers",
           "name": "V1 + V2",
           "type": "scatter",
           "x": [
            0,
            1.8571428571428572
           ],
           "y": [
            0,
            1.8571428571428572
           ]
          },
          {
           "fill": "toself",
           "fillcolor": "rgba(0, 100, 200, 0.2)",
           "line": {
            "color": "rgba(255,255,255,0)"
           },
           "name": "Area",
           "type": "scatter",
           "x": [
            0,
            1.4285714285714286,
            1.8571428571428572,
            0.42857142857142855,
            0
           ],
           "y": [
            0,
            0.42857142857142855,
            1.8571428571428572,
            1.4285714285714286,
            0
           ]
          }
         ]
        },
        {
         "data": [
          {
           "line": {
            "color": "blue",
            "width": 1
           },
           "marker": {
            "size": 2
           },
           "mode": "lines+markers",
           "name": "V1",
           "type": "scatter",
           "x": [
            0,
            1.4489795918367347
           ],
           "y": [
            0,
            0.44897959183673464
           ]
          },
          {
           "line": {
            "color": "red",
            "width": 1
           },
           "marker": {
            "size": 2
           },
           "mode": "lines+markers",
           "name": "V2",
           "type": "scatter",
           "x": [
            0,
            0.44897959183673464
           ],
           "y": [
            0,
            1.4489795918367347
           ]
          },
          {
           "line": {
            "color": "green",
            "width": 1
           },
           "marker": {
            "size": 2
           },
           "mode": "lines+markers",
           "name": "V1 + V2",
           "type": "scatter",
           "x": [
            0,
            1.8979591836734695
           ],
           "y": [
            0,
            1.8979591836734695
           ]
          },
          {
           "fill": "toself",
           "fillcolor": "rgba(0, 100, 200, 0.2)",
           "line": {
            "color": "rgba(255,255,255,0)"
           },
           "name": "Area",
           "type": "scatter",
           "x": [
            0,
            1.4489795918367347,
            1.8979591836734695,
            0.44897959183673464,
            0
           ],
           "y": [
            0,
            0.44897959183673464,
            1.8979591836734695,
            1.4489795918367347,
            0
           ]
          }
         ]
        },
        {
         "data": [
          {
           "line": {
            "color": "blue",
            "width": 1
           },
           "marker": {
            "size": 2
           },
           "mode": "lines+markers",
           "name": "V1",
           "type": "scatter",
           "x": [
            0,
            1.4693877551020407
           ],
           "y": [
            0,
            0.4693877551020408
           ]
          },
          {
           "line": {
            "color": "red",
            "width": 1
           },
           "marker": {
            "size": 2
           },
           "mode": "lines+markers",
           "name": "V2",
           "type": "scatter",
           "x": [
            0,
            0.4693877551020408
           ],
           "y": [
            0,
            1.4693877551020407
           ]
          },
          {
           "line": {
            "color": "green",
            "width": 1
           },
           "marker": {
            "size": 2
           },
           "mode": "lines+markers",
           "name": "V1 + V2",
           "type": "scatter",
           "x": [
            0,
            1.9387755102040813
           ],
           "y": [
            0,
            1.9387755102040813
           ]
          },
          {
           "fill": "toself",
           "fillcolor": "rgba(0, 100, 200, 0.2)",
           "line": {
            "color": "rgba(255,255,255,0)"
           },
           "name": "Area",
           "type": "scatter",
           "x": [
            0,
            1.4693877551020407,
            1.9387755102040813,
            0.4693877551020408,
            0
           ],
           "y": [
            0,
            0.4693877551020408,
            1.9387755102040813,
            1.4693877551020407,
            0
           ]
          }
         ]
        },
        {
         "data": [
          {
           "line": {
            "color": "blue",
            "width": 1
           },
           "marker": {
            "size": 2
           },
           "mode": "lines+markers",
           "name": "V1",
           "type": "scatter",
           "x": [
            0,
            1.489795918367347
           ],
           "y": [
            0,
            0.4897959183673469
           ]
          },
          {
           "line": {
            "color": "red",
            "width": 1
           },
           "marker": {
            "size": 2
           },
           "mode": "lines+markers",
           "name": "V2",
           "type": "scatter",
           "x": [
            0,
            0.4897959183673469
           ],
           "y": [
            0,
            1.489795918367347
           ]
          },
          {
           "line": {
            "color": "green",
            "width": 1
           },
           "marker": {
            "size": 2
           },
           "mode": "lines+markers",
           "name": "V1 + V2",
           "type": "scatter",
           "x": [
            0,
            1.979591836734694
           ],
           "y": [
            0,
            1.979591836734694
           ]
          },
          {
           "fill": "toself",
           "fillcolor": "rgba(0, 100, 200, 0.2)",
           "line": {
            "color": "rgba(255,255,255,0)"
           },
           "name": "Area",
           "type": "scatter",
           "x": [
            0,
            1.489795918367347,
            1.979591836734694,
            0.4897959183673469,
            0
           ],
           "y": [
            0,
            0.4897959183673469,
            1.979591836734694,
            1.489795918367347,
            0
           ]
          }
         ]
        },
        {
         "data": [
          {
           "line": {
            "color": "blue",
            "width": 1
           },
           "marker": {
            "size": 2
           },
           "mode": "lines+markers",
           "name": "V1",
           "type": "scatter",
           "x": [
            0,
            1.510204081632653
           ],
           "y": [
            0,
            0.5102040816326531
           ]
          },
          {
           "line": {
            "color": "red",
            "width": 1
           },
           "marker": {
            "size": 2
           },
           "mode": "lines+markers",
           "name": "V2",
           "type": "scatter",
           "x": [
            0,
            0.5102040816326531
           ],
           "y": [
            0,
            1.510204081632653
           ]
          },
          {
           "line": {
            "color": "green",
            "width": 1
           },
           "marker": {
            "size": 2
           },
           "mode": "lines+markers",
           "name": "V1 + V2",
           "type": "scatter",
           "x": [
            0,
            2.020408163265306
           ],
           "y": [
            0,
            2.020408163265306
           ]
          },
          {
           "fill": "toself",
           "fillcolor": "rgba(0, 100, 200, 0.2)",
           "line": {
            "color": "rgba(255,255,255,0)"
           },
           "name": "Area",
           "type": "scatter",
           "x": [
            0,
            1.510204081632653,
            2.020408163265306,
            0.5102040816326531,
            0
           ],
           "y": [
            0,
            0.5102040816326531,
            2.020408163265306,
            1.510204081632653,
            0
           ]
          }
         ]
        },
        {
         "data": [
          {
           "line": {
            "color": "blue",
            "width": 1
           },
           "marker": {
            "size": 2
           },
           "mode": "lines+markers",
           "name": "V1",
           "type": "scatter",
           "x": [
            0,
            1.530612244897959
           ],
           "y": [
            0,
            0.5306122448979591
           ]
          },
          {
           "line": {
            "color": "red",
            "width": 1
           },
           "marker": {
            "size": 2
           },
           "mode": "lines+markers",
           "name": "V2",
           "type": "scatter",
           "x": [
            0,
            0.5306122448979591
           ],
           "y": [
            0,
            1.530612244897959
           ]
          },
          {
           "line": {
            "color": "green",
            "width": 1
           },
           "marker": {
            "size": 2
           },
           "mode": "lines+markers",
           "name": "V1 + V2",
           "type": "scatter",
           "x": [
            0,
            2.061224489795918
           ],
           "y": [
            0,
            2.061224489795918
           ]
          },
          {
           "fill": "toself",
           "fillcolor": "rgba(0, 100, 200, 0.2)",
           "line": {
            "color": "rgba(255,255,255,0)"
           },
           "name": "Area",
           "type": "scatter",
           "x": [
            0,
            1.530612244897959,
            2.061224489795918,
            0.5306122448979591,
            0
           ],
           "y": [
            0,
            0.5306122448979591,
            2.061224489795918,
            1.530612244897959,
            0
           ]
          }
         ]
        },
        {
         "data": [
          {
           "line": {
            "color": "blue",
            "width": 1
           },
           "marker": {
            "size": 2
           },
           "mode": "lines+markers",
           "name": "V1",
           "type": "scatter",
           "x": [
            0,
            1.5510204081632653
           ],
           "y": [
            0,
            0.5510204081632653
           ]
          },
          {
           "line": {
            "color": "red",
            "width": 1
           },
           "marker": {
            "size": 2
           },
           "mode": "lines+markers",
           "name": "V2",
           "type": "scatter",
           "x": [
            0,
            0.5510204081632653
           ],
           "y": [
            0,
            1.5510204081632653
           ]
          },
          {
           "line": {
            "color": "green",
            "width": 1
           },
           "marker": {
            "size": 2
           },
           "mode": "lines+markers",
           "name": "V1 + V2",
           "type": "scatter",
           "x": [
            0,
            2.1020408163265305
           ],
           "y": [
            0,
            2.1020408163265305
           ]
          },
          {
           "fill": "toself",
           "fillcolor": "rgba(0, 100, 200, 0.2)",
           "line": {
            "color": "rgba(255,255,255,0)"
           },
           "name": "Area",
           "type": "scatter",
           "x": [
            0,
            1.5510204081632653,
            2.1020408163265305,
            0.5510204081632653,
            0
           ],
           "y": [
            0,
            0.5510204081632653,
            2.1020408163265305,
            1.5510204081632653,
            0
           ]
          }
         ]
        },
        {
         "data": [
          {
           "line": {
            "color": "blue",
            "width": 1
           },
           "marker": {
            "size": 2
           },
           "mode": "lines+markers",
           "name": "V1",
           "type": "scatter",
           "x": [
            0,
            1.5714285714285714
           ],
           "y": [
            0,
            0.5714285714285714
           ]
          },
          {
           "line": {
            "color": "red",
            "width": 1
           },
           "marker": {
            "size": 2
           },
           "mode": "lines+markers",
           "name": "V2",
           "type": "scatter",
           "x": [
            0,
            0.5714285714285714
           ],
           "y": [
            0,
            1.5714285714285714
           ]
          },
          {
           "line": {
            "color": "green",
            "width": 1
           },
           "marker": {
            "size": 2
           },
           "mode": "lines+markers",
           "name": "V1 + V2",
           "type": "scatter",
           "x": [
            0,
            2.142857142857143
           ],
           "y": [
            0,
            2.142857142857143
           ]
          },
          {
           "fill": "toself",
           "fillcolor": "rgba(0, 100, 200, 0.2)",
           "line": {
            "color": "rgba(255,255,255,0)"
           },
           "name": "Area",
           "type": "scatter",
           "x": [
            0,
            1.5714285714285714,
            2.142857142857143,
            0.5714285714285714,
            0
           ],
           "y": [
            0,
            0.5714285714285714,
            2.142857142857143,
            1.5714285714285714,
            0
           ]
          }
         ]
        },
        {
         "data": [
          {
           "line": {
            "color": "blue",
            "width": 1
           },
           "marker": {
            "size": 2
           },
           "mode": "lines+markers",
           "name": "V1",
           "type": "scatter",
           "x": [
            0,
            1.5918367346938775
           ],
           "y": [
            0,
            0.5918367346938775
           ]
          },
          {
           "line": {
            "color": "red",
            "width": 1
           },
           "marker": {
            "size": 2
           },
           "mode": "lines+markers",
           "name": "V2",
           "type": "scatter",
           "x": [
            0,
            0.5918367346938775
           ],
           "y": [
            0,
            1.5918367346938775
           ]
          },
          {
           "line": {
            "color": "green",
            "width": 1
           },
           "marker": {
            "size": 2
           },
           "mode": "lines+markers",
           "name": "V1 + V2",
           "type": "scatter",
           "x": [
            0,
            2.183673469387755
           ],
           "y": [
            0,
            2.183673469387755
           ]
          },
          {
           "fill": "toself",
           "fillcolor": "rgba(0, 100, 200, 0.2)",
           "line": {
            "color": "rgba(255,255,255,0)"
           },
           "name": "Area",
           "type": "scatter",
           "x": [
            0,
            1.5918367346938775,
            2.183673469387755,
            0.5918367346938775,
            0
           ],
           "y": [
            0,
            0.5918367346938775,
            2.183673469387755,
            1.5918367346938775,
            0
           ]
          }
         ]
        },
        {
         "data": [
          {
           "line": {
            "color": "blue",
            "width": 1
           },
           "marker": {
            "size": 2
           },
           "mode": "lines+markers",
           "name": "V1",
           "type": "scatter",
           "x": [
            0,
            1.6122448979591835
           ],
           "y": [
            0,
            0.6122448979591836
           ]
          },
          {
           "line": {
            "color": "red",
            "width": 1
           },
           "marker": {
            "size": 2
           },
           "mode": "lines+markers",
           "name": "V2",
           "type": "scatter",
           "x": [
            0,
            0.6122448979591836
           ],
           "y": [
            0,
            1.6122448979591835
           ]
          },
          {
           "line": {
            "color": "green",
            "width": 1
           },
           "marker": {
            "size": 2
           },
           "mode": "lines+markers",
           "name": "V1 + V2",
           "type": "scatter",
           "x": [
            0,
            2.224489795918367
           ],
           "y": [
            0,
            2.224489795918367
           ]
          },
          {
           "fill": "toself",
           "fillcolor": "rgba(0, 100, 200, 0.2)",
           "line": {
            "color": "rgba(255,255,255,0)"
           },
           "name": "Area",
           "type": "scatter",
           "x": [
            0,
            1.6122448979591835,
            2.224489795918367,
            0.6122448979591836,
            0
           ],
           "y": [
            0,
            0.6122448979591836,
            2.224489795918367,
            1.6122448979591835,
            0
           ]
          }
         ]
        },
        {
         "data": [
          {
           "line": {
            "color": "blue",
            "width": 1
           },
           "marker": {
            "size": 2
           },
           "mode": "lines+markers",
           "name": "V1",
           "type": "scatter",
           "x": [
            0,
            1.6326530612244898
           ],
           "y": [
            0,
            0.6326530612244897
           ]
          },
          {
           "line": {
            "color": "red",
            "width": 1
           },
           "marker": {
            "size": 2
           },
           "mode": "lines+markers",
           "name": "V2",
           "type": "scatter",
           "x": [
            0,
            0.6326530612244897
           ],
           "y": [
            0,
            1.6326530612244898
           ]
          },
          {
           "line": {
            "color": "green",
            "width": 1
           },
           "marker": {
            "size": 2
           },
           "mode": "lines+markers",
           "name": "V1 + V2",
           "type": "scatter",
           "x": [
            0,
            2.2653061224489797
           ],
           "y": [
            0,
            2.2653061224489797
           ]
          },
          {
           "fill": "toself",
           "fillcolor": "rgba(0, 100, 200, 0.2)",
           "line": {
            "color": "rgba(255,255,255,0)"
           },
           "name": "Area",
           "type": "scatter",
           "x": [
            0,
            1.6326530612244898,
            2.2653061224489797,
            0.6326530612244897,
            0
           ],
           "y": [
            0,
            0.6326530612244897,
            2.2653061224489797,
            1.6326530612244898,
            0
           ]
          }
         ]
        },
        {
         "data": [
          {
           "line": {
            "color": "blue",
            "width": 1
           },
           "marker": {
            "size": 2
           },
           "mode": "lines+markers",
           "name": "V1",
           "type": "scatter",
           "x": [
            0,
            1.6530612244897958
           ],
           "y": [
            0,
            0.6530612244897959
           ]
          },
          {
           "line": {
            "color": "red",
            "width": 1
           },
           "marker": {
            "size": 2
           },
           "mode": "lines+markers",
           "name": "V2",
           "type": "scatter",
           "x": [
            0,
            0.6530612244897959
           ],
           "y": [
            0,
            1.6530612244897958
           ]
          },
          {
           "line": {
            "color": "green",
            "width": 1
           },
           "marker": {
            "size": 2
           },
           "mode": "lines+markers",
           "name": "V1 + V2",
           "type": "scatter",
           "x": [
            0,
            2.3061224489795915
           ],
           "y": [
            0,
            2.3061224489795915
           ]
          },
          {
           "fill": "toself",
           "fillcolor": "rgba(0, 100, 200, 0.2)",
           "line": {
            "color": "rgba(255,255,255,0)"
           },
           "name": "Area",
           "type": "scatter",
           "x": [
            0,
            1.6530612244897958,
            2.3061224489795915,
            0.6530612244897959,
            0
           ],
           "y": [
            0,
            0.6530612244897959,
            2.3061224489795915,
            1.6530612244897958,
            0
           ]
          }
         ]
        },
        {
         "data": [
          {
           "line": {
            "color": "blue",
            "width": 1
           },
           "marker": {
            "size": 2
           },
           "mode": "lines+markers",
           "name": "V1",
           "type": "scatter",
           "x": [
            0,
            1.6734693877551021
           ],
           "y": [
            0,
            0.673469387755102
           ]
          },
          {
           "line": {
            "color": "red",
            "width": 1
           },
           "marker": {
            "size": 2
           },
           "mode": "lines+markers",
           "name": "V2",
           "type": "scatter",
           "x": [
            0,
            0.673469387755102
           ],
           "y": [
            0,
            1.6734693877551021
           ]
          },
          {
           "line": {
            "color": "green",
            "width": 1
           },
           "marker": {
            "size": 2
           },
           "mode": "lines+markers",
           "name": "V1 + V2",
           "type": "scatter",
           "x": [
            0,
            2.3469387755102042
           ],
           "y": [
            0,
            2.3469387755102042
           ]
          },
          {
           "fill": "toself",
           "fillcolor": "rgba(0, 100, 200, 0.2)",
           "line": {
            "color": "rgba(255,255,255,0)"
           },
           "name": "Area",
           "type": "scatter",
           "x": [
            0,
            1.6734693877551021,
            2.3469387755102042,
            0.673469387755102,
            0
           ],
           "y": [
            0,
            0.673469387755102,
            2.3469387755102042,
            1.6734693877551021,
            0
           ]
          }
         ]
        },
        {
         "data": [
          {
           "line": {
            "color": "blue",
            "width": 1
           },
           "marker": {
            "size": 2
           },
           "mode": "lines+markers",
           "name": "V1",
           "type": "scatter",
           "x": [
            0,
            1.693877551020408
           ],
           "y": [
            0,
            0.6938775510204082
           ]
          },
          {
           "line": {
            "color": "red",
            "width": 1
           },
           "marker": {
            "size": 2
           },
           "mode": "lines+markers",
           "name": "V2",
           "type": "scatter",
           "x": [
            0,
            0.6938775510204082
           ],
           "y": [
            0,
            1.693877551020408
           ]
          },
          {
           "line": {
            "color": "green",
            "width": 1
           },
           "marker": {
            "size": 2
           },
           "mode": "lines+markers",
           "name": "V1 + V2",
           "type": "scatter",
           "x": [
            0,
            2.387755102040816
           ],
           "y": [
            0,
            2.387755102040816
           ]
          },
          {
           "fill": "toself",
           "fillcolor": "rgba(0, 100, 200, 0.2)",
           "line": {
            "color": "rgba(255,255,255,0)"
           },
           "name": "Area",
           "type": "scatter",
           "x": [
            0,
            1.693877551020408,
            2.387755102040816,
            0.6938775510204082,
            0
           ],
           "y": [
            0,
            0.6938775510204082,
            2.387755102040816,
            1.693877551020408,
            0
           ]
          }
         ]
        },
        {
         "data": [
          {
           "line": {
            "color": "blue",
            "width": 1
           },
           "marker": {
            "size": 2
           },
           "mode": "lines+markers",
           "name": "V1",
           "type": "scatter",
           "x": [
            0,
            1.7142857142857142
           ],
           "y": [
            0,
            0.7142857142857142
           ]
          },
          {
           "line": {
            "color": "red",
            "width": 1
           },
           "marker": {
            "size": 2
           },
           "mode": "lines+markers",
           "name": "V2",
           "type": "scatter",
           "x": [
            0,
            0.7142857142857142
           ],
           "y": [
            0,
            1.7142857142857142
           ]
          },
          {
           "line": {
            "color": "green",
            "width": 1
           },
           "marker": {
            "size": 2
           },
           "mode": "lines+markers",
           "name": "V1 + V2",
           "type": "scatter",
           "x": [
            0,
            2.4285714285714284
           ],
           "y": [
            0,
            2.4285714285714284
           ]
          },
          {
           "fill": "toself",
           "fillcolor": "rgba(0, 100, 200, 0.2)",
           "line": {
            "color": "rgba(255,255,255,0)"
           },
           "name": "Area",
           "type": "scatter",
           "x": [
            0,
            1.7142857142857142,
            2.4285714285714284,
            0.7142857142857142,
            0
           ],
           "y": [
            0,
            0.7142857142857142,
            2.4285714285714284,
            1.7142857142857142,
            0
           ]
          }
         ]
        },
        {
         "data": [
          {
           "line": {
            "color": "blue",
            "width": 1
           },
           "marker": {
            "size": 2
           },
           "mode": "lines+markers",
           "name": "V1",
           "type": "scatter",
           "x": [
            0,
            1.7346938775510203
           ],
           "y": [
            0,
            0.7346938775510203
           ]
          },
          {
           "line": {
            "color": "red",
            "width": 1
           },
           "marker": {
            "size": 2
           },
           "mode": "lines+markers",
           "name": "V2",
           "type": "scatter",
           "x": [
            0,
            0.7346938775510203
           ],
           "y": [
            0,
            1.7346938775510203
           ]
          },
          {
           "line": {
            "color": "green",
            "width": 1
           },
           "marker": {
            "size": 2
           },
           "mode": "lines+markers",
           "name": "V1 + V2",
           "type": "scatter",
           "x": [
            0,
            2.4693877551020407
           ],
           "y": [
            0,
            2.4693877551020407
           ]
          },
          {
           "fill": "toself",
           "fillcolor": "rgba(0, 100, 200, 0.2)",
           "line": {
            "color": "rgba(255,255,255,0)"
           },
           "name": "Area",
           "type": "scatter",
           "x": [
            0,
            1.7346938775510203,
            2.4693877551020407,
            0.7346938775510203,
            0
           ],
           "y": [
            0,
            0.7346938775510203,
            2.4693877551020407,
            1.7346938775510203,
            0
           ]
          }
         ]
        },
        {
         "data": [
          {
           "line": {
            "color": "blue",
            "width": 1
           },
           "marker": {
            "size": 2
           },
           "mode": "lines+markers",
           "name": "V1",
           "type": "scatter",
           "x": [
            0,
            1.7551020408163265
           ],
           "y": [
            0,
            0.7551020408163265
           ]
          },
          {
           "line": {
            "color": "red",
            "width": 1
           },
           "marker": {
            "size": 2
           },
           "mode": "lines+markers",
           "name": "V2",
           "type": "scatter",
           "x": [
            0,
            0.7551020408163265
           ],
           "y": [
            0,
            1.7551020408163265
           ]
          },
          {
           "line": {
            "color": "green",
            "width": 1
           },
           "marker": {
            "size": 2
           },
           "mode": "lines+markers",
           "name": "V1 + V2",
           "type": "scatter",
           "x": [
            0,
            2.510204081632653
           ],
           "y": [
            0,
            2.510204081632653
           ]
          },
          {
           "fill": "toself",
           "fillcolor": "rgba(0, 100, 200, 0.2)",
           "line": {
            "color": "rgba(255,255,255,0)"
           },
           "name": "Area",
           "type": "scatter",
           "x": [
            0,
            1.7551020408163265,
            2.510204081632653,
            0.7551020408163265,
            0
           ],
           "y": [
            0,
            0.7551020408163265,
            2.510204081632653,
            1.7551020408163265,
            0
           ]
          }
         ]
        },
        {
         "data": [
          {
           "line": {
            "color": "blue",
            "width": 1
           },
           "marker": {
            "size": 2
           },
           "mode": "lines+markers",
           "name": "V1",
           "type": "scatter",
           "x": [
            0,
            1.7755102040816326
           ],
           "y": [
            0,
            0.7755102040816326
           ]
          },
          {
           "line": {
            "color": "red",
            "width": 1
           },
           "marker": {
            "size": 2
           },
           "mode": "lines+markers",
           "name": "V2",
           "type": "scatter",
           "x": [
            0,
            0.7755102040816326
           ],
           "y": [
            0,
            1.7755102040816326
           ]
          },
          {
           "line": {
            "color": "green",
            "width": 1
           },
           "marker": {
            "size": 2
           },
           "mode": "lines+markers",
           "name": "V1 + V2",
           "type": "scatter",
           "x": [
            0,
            2.5510204081632653
           ],
           "y": [
            0,
            2.5510204081632653
           ]
          },
          {
           "fill": "toself",
           "fillcolor": "rgba(0, 100, 200, 0.2)",
           "line": {
            "color": "rgba(255,255,255,0)"
           },
           "name": "Area",
           "type": "scatter",
           "x": [
            0,
            1.7755102040816326,
            2.5510204081632653,
            0.7755102040816326,
            0
           ],
           "y": [
            0,
            0.7755102040816326,
            2.5510204081632653,
            1.7755102040816326,
            0
           ]
          }
         ]
        },
        {
         "data": [
          {
           "line": {
            "color": "blue",
            "width": 1
           },
           "marker": {
            "size": 2
           },
           "mode": "lines+markers",
           "name": "V1",
           "type": "scatter",
           "x": [
            0,
            1.7959183673469385
           ],
           "y": [
            0,
            0.7959183673469387
           ]
          },
          {
           "line": {
            "color": "red",
            "width": 1
           },
           "marker": {
            "size": 2
           },
           "mode": "lines+markers",
           "name": "V2",
           "type": "scatter",
           "x": [
            0,
            0.7959183673469387
           ],
           "y": [
            0,
            1.7959183673469385
           ]
          },
          {
           "line": {
            "color": "green",
            "width": 1
           },
           "marker": {
            "size": 2
           },
           "mode": "lines+markers",
           "name": "V1 + V2",
           "type": "scatter",
           "x": [
            0,
            2.591836734693877
           ],
           "y": [
            0,
            2.591836734693877
           ]
          },
          {
           "fill": "toself",
           "fillcolor": "rgba(0, 100, 200, 0.2)",
           "line": {
            "color": "rgba(255,255,255,0)"
           },
           "name": "Area",
           "type": "scatter",
           "x": [
            0,
            1.7959183673469385,
            2.591836734693877,
            0.7959183673469387,
            0
           ],
           "y": [
            0,
            0.7959183673469387,
            2.591836734693877,
            1.7959183673469385,
            0
           ]
          }
         ]
        },
        {
         "data": [
          {
           "line": {
            "color": "blue",
            "width": 1
           },
           "marker": {
            "size": 2
           },
           "mode": "lines+markers",
           "name": "V1",
           "type": "scatter",
           "x": [
            0,
            1.816326530612245
           ],
           "y": [
            0,
            0.8163265306122448
           ]
          },
          {
           "line": {
            "color": "red",
            "width": 1
           },
           "marker": {
            "size": 2
           },
           "mode": "lines+markers",
           "name": "V2",
           "type": "scatter",
           "x": [
            0,
            0.8163265306122448
           ],
           "y": [
            0,
            1.816326530612245
           ]
          },
          {
           "line": {
            "color": "green",
            "width": 1
           },
           "marker": {
            "size": 2
           },
           "mode": "lines+markers",
           "name": "V1 + V2",
           "type": "scatter",
           "x": [
            0,
            2.63265306122449
           ],
           "y": [
            0,
            2.63265306122449
           ]
          },
          {
           "fill": "toself",
           "fillcolor": "rgba(0, 100, 200, 0.2)",
           "line": {
            "color": "rgba(255,255,255,0)"
           },
           "name": "Area",
           "type": "scatter",
           "x": [
            0,
            1.816326530612245,
            2.63265306122449,
            0.8163265306122448,
            0
           ],
           "y": [
            0,
            0.8163265306122448,
            2.63265306122449,
            1.816326530612245,
            0
           ]
          }
         ]
        },
        {
         "data": [
          {
           "line": {
            "color": "blue",
            "width": 1
           },
           "marker": {
            "size": 2
           },
           "mode": "lines+markers",
           "name": "V1",
           "type": "scatter",
           "x": [
            0,
            1.8367346938775508
           ],
           "y": [
            0,
            0.836734693877551
           ]
          },
          {
           "line": {
            "color": "red",
            "width": 1
           },
           "marker": {
            "size": 2
           },
           "mode": "lines+markers",
           "name": "V2",
           "type": "scatter",
           "x": [
            0,
            0.836734693877551
           ],
           "y": [
            0,
            1.8367346938775508
           ]
          },
          {
           "line": {
            "color": "green",
            "width": 1
           },
           "marker": {
            "size": 2
           },
           "mode": "lines+markers",
           "name": "V1 + V2",
           "type": "scatter",
           "x": [
            0,
            2.6734693877551017
           ],
           "y": [
            0,
            2.6734693877551017
           ]
          },
          {
           "fill": "toself",
           "fillcolor": "rgba(0, 100, 200, 0.2)",
           "line": {
            "color": "rgba(255,255,255,0)"
           },
           "name": "Area",
           "type": "scatter",
           "x": [
            0,
            1.8367346938775508,
            2.6734693877551017,
            0.836734693877551,
            0
           ],
           "y": [
            0,
            0.836734693877551,
            2.6734693877551017,
            1.8367346938775508,
            0
           ]
          }
         ]
        },
        {
         "data": [
          {
           "line": {
            "color": "blue",
            "width": 1
           },
           "marker": {
            "size": 2
           },
           "mode": "lines+markers",
           "name": "V1",
           "type": "scatter",
           "x": [
            0,
            1.8571428571428572
           ],
           "y": [
            0,
            0.8571428571428571
           ]
          },
          {
           "line": {
            "color": "red",
            "width": 1
           },
           "marker": {
            "size": 2
           },
           "mode": "lines+markers",
           "name": "V2",
           "type": "scatter",
           "x": [
            0,
            0.8571428571428571
           ],
           "y": [
            0,
            1.8571428571428572
           ]
          },
          {
           "line": {
            "color": "green",
            "width": 1
           },
           "marker": {
            "size": 2
           },
           "mode": "lines+markers",
           "name": "V1 + V2",
           "type": "scatter",
           "x": [
            0,
            2.7142857142857144
           ],
           "y": [
            0,
            2.7142857142857144
           ]
          },
          {
           "fill": "toself",
           "fillcolor": "rgba(0, 100, 200, 0.2)",
           "line": {
            "color": "rgba(255,255,255,0)"
           },
           "name": "Area",
           "type": "scatter",
           "x": [
            0,
            1.8571428571428572,
            2.7142857142857144,
            0.8571428571428571,
            0
           ],
           "y": [
            0,
            0.8571428571428571,
            2.7142857142857144,
            1.8571428571428572,
            0
           ]
          }
         ]
        },
        {
         "data": [
          {
           "line": {
            "color": "blue",
            "width": 1
           },
           "marker": {
            "size": 2
           },
           "mode": "lines+markers",
           "name": "V1",
           "type": "scatter",
           "x": [
            0,
            1.8775510204081631
           ],
           "y": [
            0,
            0.8775510204081632
           ]
          },
          {
           "line": {
            "color": "red",
            "width": 1
           },
           "marker": {
            "size": 2
           },
           "mode": "lines+markers",
           "name": "V2",
           "type": "scatter",
           "x": [
            0,
            0.8775510204081632
           ],
           "y": [
            0,
            1.8775510204081631
           ]
          },
          {
           "line": {
            "color": "green",
            "width": 1
           },
           "marker": {
            "size": 2
           },
           "mode": "lines+markers",
           "name": "V1 + V2",
           "type": "scatter",
           "x": [
            0,
            2.7551020408163263
           ],
           "y": [
            0,
            2.7551020408163263
           ]
          },
          {
           "fill": "toself",
           "fillcolor": "rgba(0, 100, 200, 0.2)",
           "line": {
            "color": "rgba(255,255,255,0)"
           },
           "name": "Area",
           "type": "scatter",
           "x": [
            0,
            1.8775510204081631,
            2.7551020408163263,
            0.8775510204081632,
            0
           ],
           "y": [
            0,
            0.8775510204081632,
            2.7551020408163263,
            1.8775510204081631,
            0
           ]
          }
         ]
        },
        {
         "data": [
          {
           "line": {
            "color": "blue",
            "width": 1
           },
           "marker": {
            "size": 2
           },
           "mode": "lines+markers",
           "name": "V1",
           "type": "scatter",
           "x": [
            0,
            1.8979591836734693
           ],
           "y": [
            0,
            0.8979591836734693
           ]
          },
          {
           "line": {
            "color": "red",
            "width": 1
           },
           "marker": {
            "size": 2
           },
           "mode": "lines+markers",
           "name": "V2",
           "type": "scatter",
           "x": [
            0,
            0.8979591836734693
           ],
           "y": [
            0,
            1.8979591836734693
           ]
          },
          {
           "line": {
            "color": "green",
            "width": 1
           },
           "marker": {
            "size": 2
           },
           "mode": "lines+markers",
           "name": "V1 + V2",
           "type": "scatter",
           "x": [
            0,
            2.7959183673469385
           ],
           "y": [
            0,
            2.7959183673469385
           ]
          },
          {
           "fill": "toself",
           "fillcolor": "rgba(0, 100, 200, 0.2)",
           "line": {
            "color": "rgba(255,255,255,0)"
           },
           "name": "Area",
           "type": "scatter",
           "x": [
            0,
            1.8979591836734693,
            2.7959183673469385,
            0.8979591836734693,
            0
           ],
           "y": [
            0,
            0.8979591836734693,
            2.7959183673469385,
            1.8979591836734693,
            0
           ]
          }
         ]
        },
        {
         "data": [
          {
           "line": {
            "color": "blue",
            "width": 1
           },
           "marker": {
            "size": 2
           },
           "mode": "lines+markers",
           "name": "V1",
           "type": "scatter",
           "x": [
            0,
            1.9183673469387754
           ],
           "y": [
            0,
            0.9183673469387754
           ]
          },
          {
           "line": {
            "color": "red",
            "width": 1
           },
           "marker": {
            "size": 2
           },
           "mode": "lines+markers",
           "name": "V2",
           "type": "scatter",
           "x": [
            0,
            0.9183673469387754
           ],
           "y": [
            0,
            1.9183673469387754
           ]
          },
          {
           "line": {
            "color": "green",
            "width": 1
           },
           "marker": {
            "size": 2
           },
           "mode": "lines+markers",
           "name": "V1 + V2",
           "type": "scatter",
           "x": [
            0,
            2.836734693877551
           ],
           "y": [
            0,
            2.836734693877551
           ]
          },
          {
           "fill": "toself",
           "fillcolor": "rgba(0, 100, 200, 0.2)",
           "line": {
            "color": "rgba(255,255,255,0)"
           },
           "name": "Area",
           "type": "scatter",
           "x": [
            0,
            1.9183673469387754,
            2.836734693877551,
            0.9183673469387754,
            0
           ],
           "y": [
            0,
            0.9183673469387754,
            2.836734693877551,
            1.9183673469387754,
            0
           ]
          }
         ]
        },
        {
         "data": [
          {
           "line": {
            "color": "blue",
            "width": 1
           },
           "marker": {
            "size": 2
           },
           "mode": "lines+markers",
           "name": "V1",
           "type": "scatter",
           "x": [
            0,
            1.9387755102040816
           ],
           "y": [
            0,
            0.9387755102040816
           ]
          },
          {
           "line": {
            "color": "red",
            "width": 1
           },
           "marker": {
            "size": 2
           },
           "mode": "lines+markers",
           "name": "V2",
           "type": "scatter",
           "x": [
            0,
            0.9387755102040816
           ],
           "y": [
            0,
            1.9387755102040816
           ]
          },
          {
           "line": {
            "color": "green",
            "width": 1
           },
           "marker": {
            "size": 2
           },
           "mode": "lines+markers",
           "name": "V1 + V2",
           "type": "scatter",
           "x": [
            0,
            2.877551020408163
           ],
           "y": [
            0,
            2.877551020408163
           ]
          },
          {
           "fill": "toself",
           "fillcolor": "rgba(0, 100, 200, 0.2)",
           "line": {
            "color": "rgba(255,255,255,0)"
           },
           "name": "Area",
           "type": "scatter",
           "x": [
            0,
            1.9387755102040816,
            2.877551020408163,
            0.9387755102040816,
            0
           ],
           "y": [
            0,
            0.9387755102040816,
            2.877551020408163,
            1.9387755102040816,
            0
           ]
          }
         ]
        },
        {
         "data": [
          {
           "line": {
            "color": "blue",
            "width": 1
           },
           "marker": {
            "size": 2
           },
           "mode": "lines+markers",
           "name": "V1",
           "type": "scatter",
           "x": [
            0,
            1.9591836734693877
           ],
           "y": [
            0,
            0.9591836734693877
           ]
          },
          {
           "line": {
            "color": "red",
            "width": 1
           },
           "marker": {
            "size": 2
           },
           "mode": "lines+markers",
           "name": "V2",
           "type": "scatter",
           "x": [
            0,
            0.9591836734693877
           ],
           "y": [
            0,
            1.9591836734693877
           ]
          },
          {
           "line": {
            "color": "green",
            "width": 1
           },
           "marker": {
            "size": 2
           },
           "mode": "lines+markers",
           "name": "V1 + V2",
           "type": "scatter",
           "x": [
            0,
            2.9183673469387754
           ],
           "y": [
            0,
            2.9183673469387754
           ]
          },
          {
           "fill": "toself",
           "fillcolor": "rgba(0, 100, 200, 0.2)",
           "line": {
            "color": "rgba(255,255,255,0)"
           },
           "name": "Area",
           "type": "scatter",
           "x": [
            0,
            1.9591836734693877,
            2.9183673469387754,
            0.9591836734693877,
            0
           ],
           "y": [
            0,
            0.9591836734693877,
            2.9183673469387754,
            1.9591836734693877,
            0
           ]
          }
         ]
        },
        {
         "data": [
          {
           "line": {
            "color": "blue",
            "width": 1
           },
           "marker": {
            "size": 2
           },
           "mode": "lines+markers",
           "name": "V1",
           "type": "scatter",
           "x": [
            0,
            1.9795918367346939
           ],
           "y": [
            0,
            0.9795918367346939
           ]
          },
          {
           "line": {
            "color": "red",
            "width": 1
           },
           "marker": {
            "size": 2
           },
           "mode": "lines+markers",
           "name": "V2",
           "type": "scatter",
           "x": [
            0,
            0.9795918367346939
           ],
           "y": [
            0,
            1.9795918367346939
           ]
          },
          {
           "line": {
            "color": "green",
            "width": 1
           },
           "marker": {
            "size": 2
           },
           "mode": "lines+markers",
           "name": "V1 + V2",
           "type": "scatter",
           "x": [
            0,
            2.9591836734693877
           ],
           "y": [
            0,
            2.9591836734693877
           ]
          },
          {
           "fill": "toself",
           "fillcolor": "rgba(0, 100, 200, 0.2)",
           "line": {
            "color": "rgba(255,255,255,0)"
           },
           "name": "Area",
           "type": "scatter",
           "x": [
            0,
            1.9795918367346939,
            2.9591836734693877,
            0.9795918367346939,
            0
           ],
           "y": [
            0,
            0.9795918367346939,
            2.9591836734693877,
            1.9795918367346939,
            0
           ]
          }
         ]
        },
        {
         "data": [
          {
           "line": {
            "color": "blue",
            "width": 1
           },
           "marker": {
            "size": 2
           },
           "mode": "lines+markers",
           "name": "V1",
           "type": "scatter",
           "x": [
            0,
            2
           ],
           "y": [
            0,
            1
           ]
          },
          {
           "line": {
            "color": "red",
            "width": 1
           },
           "marker": {
            "size": 2
           },
           "mode": "lines+markers",
           "name": "V2",
           "type": "scatter",
           "x": [
            0,
            1
           ],
           "y": [
            0,
            2
           ]
          },
          {
           "line": {
            "color": "green",
            "width": 1
           },
           "marker": {
            "size": 2
           },
           "mode": "lines+markers",
           "name": "V1 + V2",
           "type": "scatter",
           "x": [
            0,
            3
           ],
           "y": [
            0,
            3
           ]
          },
          {
           "fill": "toself",
           "fillcolor": "rgba(0, 100, 200, 0.2)",
           "line": {
            "color": "rgba(255,255,255,0)"
           },
           "name": "Area",
           "type": "scatter",
           "x": [
            0,
            2,
            3,
            1,
            0
           ],
           "y": [
            0,
            1,
            3,
            2,
            0
           ]
          }
         ]
        }
       ],
       "layout": {
        "height": 450,
        "showlegend": true,
        "template": {
         "data": {
          "bar": [
           {
            "error_x": {
             "color": "#2a3f5f"
            },
            "error_y": {
             "color": "#2a3f5f"
            },
            "marker": {
             "line": {
              "color": "#E5ECF6",
              "width": 0.5
             },
             "pattern": {
              "fillmode": "overlay",
              "size": 10,
              "solidity": 0.2
             }
            },
            "type": "bar"
           }
          ],
          "barpolar": [
           {
            "marker": {
             "line": {
              "color": "#E5ECF6",
              "width": 0.5
             },
             "pattern": {
              "fillmode": "overlay",
              "size": 10,
              "solidity": 0.2
             }
            },
            "type": "barpolar"
           }
          ],
          "carpet": [
           {
            "aaxis": {
             "endlinecolor": "#2a3f5f",
             "gridcolor": "white",
             "linecolor": "white",
             "minorgridcolor": "white",
             "startlinecolor": "#2a3f5f"
            },
            "baxis": {
             "endlinecolor": "#2a3f5f",
             "gridcolor": "white",
             "linecolor": "white",
             "minorgridcolor": "white",
             "startlinecolor": "#2a3f5f"
            },
            "type": "carpet"
           }
          ],
          "choropleth": [
           {
            "colorbar": {
             "outlinewidth": 0,
             "ticks": ""
            },
            "type": "choropleth"
           }
          ],
          "contour": [
           {
            "colorbar": {
             "outlinewidth": 0,
             "ticks": ""
            },
            "colorscale": [
             [
              0,
              "#0d0887"
             ],
             [
              0.1111111111111111,
              "#46039f"
             ],
             [
              0.2222222222222222,
              "#7201a8"
             ],
             [
              0.3333333333333333,
              "#9c179e"
             ],
             [
              0.4444444444444444,
              "#bd3786"
             ],
             [
              0.5555555555555556,
              "#d8576b"
             ],
             [
              0.6666666666666666,
              "#ed7953"
             ],
             [
              0.7777777777777778,
              "#fb9f3a"
             ],
             [
              0.8888888888888888,
              "#fdca26"
             ],
             [
              1,
              "#f0f921"
             ]
            ],
            "type": "contour"
           }
          ],
          "contourcarpet": [
           {
            "colorbar": {
             "outlinewidth": 0,
             "ticks": ""
            },
            "type": "contourcarpet"
           }
          ],
          "heatmap": [
           {
            "colorbar": {
             "outlinewidth": 0,
             "ticks": ""
            },
            "colorscale": [
             [
              0,
              "#0d0887"
             ],
             [
              0.1111111111111111,
              "#46039f"
             ],
             [
              0.2222222222222222,
              "#7201a8"
             ],
             [
              0.3333333333333333,
              "#9c179e"
             ],
             [
              0.4444444444444444,
              "#bd3786"
             ],
             [
              0.5555555555555556,
              "#d8576b"
             ],
             [
              0.6666666666666666,
              "#ed7953"
             ],
             [
              0.7777777777777778,
              "#fb9f3a"
             ],
             [
              0.8888888888888888,
              "#fdca26"
             ],
             [
              1,
              "#f0f921"
             ]
            ],
            "type": "heatmap"
           }
          ],
          "heatmapgl": [
           {
            "colorbar": {
             "outlinewidth": 0,
             "ticks": ""
            },
            "colorscale": [
             [
              0,
              "#0d0887"
             ],
             [
              0.1111111111111111,
              "#46039f"
             ],
             [
              0.2222222222222222,
              "#7201a8"
             ],
             [
              0.3333333333333333,
              "#9c179e"
             ],
             [
              0.4444444444444444,
              "#bd3786"
             ],
             [
              0.5555555555555556,
              "#d8576b"
             ],
             [
              0.6666666666666666,
              "#ed7953"
             ],
             [
              0.7777777777777778,
              "#fb9f3a"
             ],
             [
              0.8888888888888888,
              "#fdca26"
             ],
             [
              1,
              "#f0f921"
             ]
            ],
            "type": "heatmapgl"
           }
          ],
          "histogram": [
           {
            "marker": {
             "pattern": {
              "fillmode": "overlay",
              "size": 10,
              "solidity": 0.2
             }
            },
            "type": "histogram"
           }
          ],
          "histogram2d": [
           {
            "colorbar": {
             "outlinewidth": 0,
             "ticks": ""
            },
            "colorscale": [
             [
              0,
              "#0d0887"
             ],
             [
              0.1111111111111111,
              "#46039f"
             ],
             [
              0.2222222222222222,
              "#7201a8"
             ],
             [
              0.3333333333333333,
              "#9c179e"
             ],
             [
              0.4444444444444444,
              "#bd3786"
             ],
             [
              0.5555555555555556,
              "#d8576b"
             ],
             [
              0.6666666666666666,
              "#ed7953"
             ],
             [
              0.7777777777777778,
              "#fb9f3a"
             ],
             [
              0.8888888888888888,
              "#fdca26"
             ],
             [
              1,
              "#f0f921"
             ]
            ],
            "type": "histogram2d"
           }
          ],
          "histogram2dcontour": [
           {
            "colorbar": {
             "outlinewidth": 0,
             "ticks": ""
            },
            "colorscale": [
             [
              0,
              "#0d0887"
             ],
             [
              0.1111111111111111,
              "#46039f"
             ],
             [
              0.2222222222222222,
              "#7201a8"
             ],
             [
              0.3333333333333333,
              "#9c179e"
             ],
             [
              0.4444444444444444,
              "#bd3786"
             ],
             [
              0.5555555555555556,
              "#d8576b"
             ],
             [
              0.6666666666666666,
              "#ed7953"
             ],
             [
              0.7777777777777778,
              "#fb9f3a"
             ],
             [
              0.8888888888888888,
              "#fdca26"
             ],
             [
              1,
              "#f0f921"
             ]
            ],
            "type": "histogram2dcontour"
           }
          ],
          "mesh3d": [
           {
            "colorbar": {
             "outlinewidth": 0,
             "ticks": ""
            },
            "type": "mesh3d"
           }
          ],
          "parcoords": [
           {
            "line": {
             "colorbar": {
              "outlinewidth": 0,
              "ticks": ""
             }
            },
            "type": "parcoords"
           }
          ],
          "pie": [
           {
            "automargin": true,
            "type": "pie"
           }
          ],
          "scatter": [
           {
            "fillpattern": {
             "fillmode": "overlay",
             "size": 10,
             "solidity": 0.2
            },
            "type": "scatter"
           }
          ],
          "scatter3d": [
           {
            "line": {
             "colorbar": {
              "outlinewidth": 0,
              "ticks": ""
             }
            },
            "marker": {
             "colorbar": {
              "outlinewidth": 0,
              "ticks": ""
             }
            },
            "type": "scatter3d"
           }
          ],
          "scattercarpet": [
           {
            "marker": {
             "colorbar": {
              "outlinewidth": 0,
              "ticks": ""
             }
            },
            "type": "scattercarpet"
           }
          ],
          "scattergeo": [
           {
            "marker": {
             "colorbar": {
              "outlinewidth": 0,
              "ticks": ""
             }
            },
            "type": "scattergeo"
           }
          ],
          "scattergl": [
           {
            "marker": {
             "colorbar": {
              "outlinewidth": 0,
              "ticks": ""
             }
            },
            "type": "scattergl"
           }
          ],
          "scattermapbox": [
           {
            "marker": {
             "colorbar": {
              "outlinewidth": 0,
              "ticks": ""
             }
            },
            "type": "scattermapbox"
           }
          ],
          "scatterpolar": [
           {
            "marker": {
             "colorbar": {
              "outlinewidth": 0,
              "ticks": ""
             }
            },
            "type": "scatterpolar"
           }
          ],
          "scatterpolargl": [
           {
            "marker": {
             "colorbar": {
              "outlinewidth": 0,
              "ticks": ""
             }
            },
            "type": "scatterpolargl"
           }
          ],
          "scatterternary": [
           {
            "marker": {
             "colorbar": {
              "outlinewidth": 0,
              "ticks": ""
             }
            },
            "type": "scatterternary"
           }
          ],
          "surface": [
           {
            "colorbar": {
             "outlinewidth": 0,
             "ticks": ""
            },
            "colorscale": [
             [
              0,
              "#0d0887"
             ],
             [
              0.1111111111111111,
              "#46039f"
             ],
             [
              0.2222222222222222,
              "#7201a8"
             ],
             [
              0.3333333333333333,
              "#9c179e"
             ],
             [
              0.4444444444444444,
              "#bd3786"
             ],
             [
              0.5555555555555556,
              "#d8576b"
             ],
             [
              0.6666666666666666,
              "#ed7953"
             ],
             [
              0.7777777777777778,
              "#fb9f3a"
             ],
             [
              0.8888888888888888,
              "#fdca26"
             ],
             [
              1,
              "#f0f921"
             ]
            ],
            "type": "surface"
           }
          ],
          "table": [
           {
            "cells": {
             "fill": {
              "color": "#EBF0F8"
             },
             "line": {
              "color": "white"
             }
            },
            "header": {
             "fill": {
              "color": "#C8D4E3"
             },
             "line": {
              "color": "white"
             }
            },
            "type": "table"
           }
          ]
         },
         "layout": {
          "annotationdefaults": {
           "arrowcolor": "#2a3f5f",
           "arrowhead": 0,
           "arrowwidth": 1
          },
          "autotypenumbers": "strict",
          "coloraxis": {
           "colorbar": {
            "outlinewidth": 0,
            "ticks": ""
           }
          },
          "colorscale": {
           "diverging": [
            [
             0,
             "#8e0152"
            ],
            [
             0.1,
             "#c51b7d"
            ],
            [
             0.2,
             "#de77ae"
            ],
            [
             0.3,
             "#f1b6da"
            ],
            [
             0.4,
             "#fde0ef"
            ],
            [
             0.5,
             "#f7f7f7"
            ],
            [
             0.6,
             "#e6f5d0"
            ],
            [
             0.7,
             "#b8e186"
            ],
            [
             0.8,
             "#7fbc41"
            ],
            [
             0.9,
             "#4d9221"
            ],
            [
             1,
             "#276419"
            ]
           ],
           "sequential": [
            [
             0,
             "#0d0887"
            ],
            [
             0.1111111111111111,
             "#46039f"
            ],
            [
             0.2222222222222222,
             "#7201a8"
            ],
            [
             0.3333333333333333,
             "#9c179e"
            ],
            [
             0.4444444444444444,
             "#bd3786"
            ],
            [
             0.5555555555555556,
             "#d8576b"
            ],
            [
             0.6666666666666666,
             "#ed7953"
            ],
            [
             0.7777777777777778,
             "#fb9f3a"
            ],
            [
             0.8888888888888888,
             "#fdca26"
            ],
            [
             1,
             "#f0f921"
            ]
           ],
           "sequentialminus": [
            [
             0,
             "#0d0887"
            ],
            [
             0.1111111111111111,
             "#46039f"
            ],
            [
             0.2222222222222222,
             "#7201a8"
            ],
            [
             0.3333333333333333,
             "#9c179e"
            ],
            [
             0.4444444444444444,
             "#bd3786"
            ],
            [
             0.5555555555555556,
             "#d8576b"
            ],
            [
             0.6666666666666666,
             "#ed7953"
            ],
            [
             0.7777777777777778,
             "#fb9f3a"
            ],
            [
             0.8888888888888888,
             "#fdca26"
            ],
            [
             1,
             "#f0f921"
            ]
           ]
          },
          "colorway": [
           "#636efa",
           "#EF553B",
           "#00cc96",
           "#ab63fa",
           "#FFA15A",
           "#19d3f3",
           "#FF6692",
           "#B6E880",
           "#FF97FF",
           "#FECB52"
          ],
          "font": {
           "color": "#2a3f5f"
          },
          "geo": {
           "bgcolor": "white",
           "lakecolor": "white",
           "landcolor": "#E5ECF6",
           "showlakes": true,
           "showland": true,
           "subunitcolor": "white"
          },
          "hoverlabel": {
           "align": "left"
          },
          "hovermode": "closest",
          "mapbox": {
           "style": "light"
          },
          "paper_bgcolor": "white",
          "plot_bgcolor": "#E5ECF6",
          "polar": {
           "angularaxis": {
            "gridcolor": "white",
            "linecolor": "white",
            "ticks": ""
           },
           "bgcolor": "#E5ECF6",
           "radialaxis": {
            "gridcolor": "white",
            "linecolor": "white",
            "ticks": ""
           }
          },
          "scene": {
           "xaxis": {
            "backgroundcolor": "#E5ECF6",
            "gridcolor": "white",
            "gridwidth": 2,
            "linecolor": "white",
            "showbackground": true,
            "ticks": "",
            "zerolinecolor": "white"
           },
           "yaxis": {
            "backgroundcolor": "#E5ECF6",
            "gridcolor": "white",
            "gridwidth": 2,
            "linecolor": "white",
            "showbackground": true,
            "ticks": "",
            "zerolinecolor": "white"
           },
           "zaxis": {
            "backgroundcolor": "#E5ECF6",
            "gridcolor": "white",
            "gridwidth": 2,
            "linecolor": "white",
            "showbackground": true,
            "ticks": "",
            "zerolinecolor": "white"
           }
          },
          "shapedefaults": {
           "line": {
            "color": "#2a3f5f"
           }
          },
          "ternary": {
           "aaxis": {
            "gridcolor": "white",
            "linecolor": "white",
            "ticks": ""
           },
           "baxis": {
            "gridcolor": "white",
            "linecolor": "white",
            "ticks": ""
           },
           "bgcolor": "#E5ECF6",
           "caxis": {
            "gridcolor": "white",
            "linecolor": "white",
            "ticks": ""
           }
          },
          "title": {
           "x": 0.05
          },
          "xaxis": {
           "automargin": true,
           "gridcolor": "white",
           "linecolor": "white",
           "ticks": "",
           "title": {
            "standoff": 15
           },
           "zerolinecolor": "white",
           "zerolinewidth": 2
          },
          "yaxis": {
           "automargin": true,
           "gridcolor": "white",
           "linecolor": "white",
           "ticks": "",
           "title": {
            "standoff": 15
           },
           "zerolinecolor": "white",
           "zerolinewidth": 2
          }
         }
        },
        "title": {
         "text": "Area and stretching in the x direction"
        },
        "updatemenus": [
         {
          "buttons": [
           {
            "args": [
             null,
             {
              "frame": {
               "duration": 50,
               "redraw": false
              },
              "fromcurrent": true,
              "transition": {
               "duration": 10
              }
             }
            ],
            "label": "Play",
            "method": "animate"
           }
          ],
          "type": "buttons"
         }
        ],
        "width": 600,
        "xaxis": {
         "range": [
          -2.3,
          2.3
         ],
         "title": {
          "text": "x"
         }
        },
        "yaxis": {
         "range": [
          -2.3,
          2.3
         ],
         "title": {
          "text": "y"
         }
        }
       }
      }
     },
     "metadata": {},
     "output_type": "display_data"
    }
   ],
   "source": [
    "# Scale and shear in the in both directions\n",
    "\n",
    "fig7 = create_animation(unit1, unit2, [\n",
    "    np.array([[x, x1], [y1, y]]) for x, y, x1, y1 in zip(np.linspace(1, 2, 50), np.linspace(1, 2, 50), np.linspace(0, 1, 50), np.linspace(0, 1, 50))])\n",
    "fig7.show()"
   ]
  },
  {
   "cell_type": "code",
   "execution_count": null,
   "id": "dc2ff793",
   "metadata": {},
   "outputs": [
    {
     "data": {
      "text/plain": [
       "array([3., 3.])"
      ]
     },
     "execution_count": 56,
     "metadata": {},
     "output_type": "execute_result"
    }
   ],
   "source": [
    "np.ones((2, 2)) @ np.array([-2, 5])"
   ]
  },
  {
   "cell_type": "code",
   "execution_count": null,
   "id": "0bdeec18",
   "metadata": {},
   "outputs": [
    {
     "data": {
      "text/plain": [
       "array([0., 0.])"
      ]
     },
     "execution_count": 57,
     "metadata": {},
     "output_type": "execute_result"
    }
   ],
   "source": [
    "np.ones((2, 2)) @ np.array([-1, 1])"
   ]
  },
  {
   "cell_type": "code",
   "execution_count": null,
   "id": "39965120",
   "metadata": {},
   "outputs": [
    {
     "data": {
      "text/plain": [
       "np.float64(0.0)"
      ]
     },
     "execution_count": 58,
     "metadata": {},
     "output_type": "execute_result"
    }
   ],
   "source": [
    "np.linalg.det(np.ones((2, 2)))"
   ]
  },
  {
   "cell_type": "code",
   "execution_count": null,
   "id": "1e9d3f03",
   "metadata": {},
   "outputs": [
    {
     "data": {
      "application/vnd.plotly.v1+json": {
       "config": {
        "plotlyServerURL": "https://plot.ly"
       },
       "data": [
        {
         "line": {
          "color": "blue",
          "width": 1
         },
         "marker": {
          "size": 2
         },
         "mode": "lines+markers",
         "name": "V1",
         "type": "scatter",
         "x": [
          0,
          -4
         ],
         "y": [
          0,
          -2
         ]
        },
        {
         "line": {
          "color": "blue",
          "dash": "dash",
          "width": 1
         },
         "marker": {
          "size": 2
         },
         "mode": "lines+markers",
         "name": "V1",
         "type": "scatter",
         "x": [
          0,
          -2
         ],
         "y": [
          0,
          0
         ]
        },
        {
         "line": {
          "color": "red",
          "width": 1
         },
         "marker": {
          "size": 2
         },
         "mode": "lines+markers",
         "name": "V2",
         "type": "scatter",
         "x": [
          0,
          -1
         ],
         "y": [
          0,
          4
         ]
        }
       ],
       "frames": [
        {
         "data": [
          {
           "line": {
            "color": "blue",
            "width": 1
           },
           "marker": {
            "size": 2
           },
           "mode": "lines+markers",
           "name": "V1",
           "type": "scatter",
           "x": [
            0,
            -4
           ],
           "y": [
            0,
            -2
           ]
          },
          {
           "line": {
            "color": "blue",
            "dash": "dash",
            "width": 1
           },
           "marker": {
            "size": 2
           },
           "mode": "lines+markers",
           "name": "V1",
           "type": "scatter",
           "x": [
            0,
            -2
           ],
           "y": [
            0,
            0
           ]
          },
          {
           "line": {
            "color": "red",
            "width": 1
           },
           "marker": {
            "size": 2
           },
           "mode": "lines+markers",
           "name": "V2",
           "type": "scatter",
           "x": [
            0,
            -1
           ],
           "y": [
            0,
            4
           ]
          }
         ]
        },
        {
         "data": [
          {
           "line": {
            "color": "blue",
            "width": 1
           },
           "marker": {
            "size": 2
           },
           "mode": "lines+markers",
           "name": "V1",
           "type": "scatter",
           "x": [
            0,
            -3.938775510204082
           ],
           "y": [
            0,
            -1.8775510204081634
           ]
          },
          {
           "line": {
            "color": "blue",
            "dash": "dash",
            "width": 1
           },
           "marker": {
            "size": 2
           },
           "mode": "lines+markers",
           "name": "V1",
           "type": "scatter",
           "x": [
            0,
            -1.956268221574344
           ],
           "y": [
            0,
            0.026239067055393587
           ]
          },
          {
           "line": {
            "color": "red",
            "width": 1
           },
           "marker": {
            "size": 2
           },
           "mode": "lines+markers",
           "name": "V2",
           "type": "scatter",
           "x": [
            0,
            -1
           ],
           "y": [
            0,
            4
           ]
          }
         ]
        },
        {
         "data": [
          {
           "line": {
            "color": "blue",
            "width": 1
           },
           "marker": {
            "size": 2
           },
           "mode": "lines+markers",
           "name": "V1",
           "type": "scatter",
           "x": [
            0,
            -3.877551020408163
           ],
           "y": [
            0,
            -1.7551020408163265
           ]
          },
          {
           "line": {
            "color": "blue",
            "dash": "dash",
            "width": 1
           },
           "marker": {
            "size": 2
           },
           "mode": "lines+markers",
           "name": "V1",
           "type": "scatter",
           "x": [
            0,
            -1.912536443148688
           ],
           "y": [
            0,
            0.052478134110787174
           ]
          },
          {
           "line": {
            "color": "red",
            "width": 1
           },
           "marker": {
            "size": 2
           },
           "mode": "lines+markers",
           "name": "V2",
           "type": "scatter",
           "x": [
            0,
            -1
           ],
           "y": [
            0,
            4
           ]
          }
         ]
        },
        {
         "data": [
          {
           "line": {
            "color": "blue",
            "width": 1
           },
           "marker": {
            "size": 2
           },
           "mode": "lines+markers",
           "name": "V1",
           "type": "scatter",
           "x": [
            0,
            -3.816326530612245
           ],
           "y": [
            0,
            -1.6326530612244898
           ]
          },
          {
           "line": {
            "color": "blue",
            "dash": "dash",
            "width": 1
           },
           "marker": {
            "size": 2
           },
           "mode": "lines+markers",
           "name": "V1",
           "type": "scatter",
           "x": [
            0,
            -1.868804664723032
           ],
           "y": [
            0,
            0.07871720116618076
           ]
          },
          {
           "line": {
            "color": "red",
            "width": 1
           },
           "marker": {
            "size": 2
           },
           "mode": "lines+markers",
           "name": "V2",
           "type": "scatter",
           "x": [
            0,
            -1
           ],
           "y": [
            0,
            4
           ]
          }
         ]
        },
        {
         "data": [
          {
           "line": {
            "color": "blue",
            "width": 1
           },
           "marker": {
            "size": 2
           },
           "mode": "lines+markers",
           "name": "V1",
           "type": "scatter",
           "x": [
            0,
            -3.7551020408163267
           ],
           "y": [
            0,
            -1.5102040816326532
           ]
          },
          {
           "line": {
            "color": "blue",
            "dash": "dash",
            "width": 1
           },
           "marker": {
            "size": 2
           },
           "mode": "lines+markers",
           "name": "V1",
           "type": "scatter",
           "x": [
            0,
            -1.8250728862973762
           ],
           "y": [
            0,
            0.10495626822157435
           ]
          },
          {
           "line": {
            "color": "red",
            "width": 1
           },
           "marker": {
            "size": 2
           },
           "mode": "lines+markers",
           "name": "V2",
           "type": "scatter",
           "x": [
            0,
            -1
           ],
           "y": [
            0,
            4
           ]
          }
         ]
        },
        {
         "data": [
          {
           "line": {
            "color": "blue",
            "width": 1
           },
           "marker": {
            "size": 2
           },
           "mode": "lines+markers",
           "name": "V1",
           "type": "scatter",
           "x": [
            0,
            -3.693877551020408
           ],
           "y": [
            0,
            -1.387755102040816
           ]
          },
          {
           "line": {
            "color": "blue",
            "dash": "dash",
            "width": 1
           },
           "marker": {
            "size": 2
           },
           "mode": "lines+markers",
           "name": "V1",
           "type": "scatter",
           "x": [
            0,
            -1.78134110787172
           ],
           "y": [
            0,
            0.13119533527696794
           ]
          },
          {
           "line": {
            "color": "red",
            "width": 1
           },
           "marker": {
            "size": 2
           },
           "mode": "lines+markers",
           "name": "V2",
           "type": "scatter",
           "x": [
            0,
            -1
           ],
           "y": [
            0,
            4
           ]
          }
         ]
        },
        {
         "data": [
          {
           "line": {
            "color": "blue",
            "width": 1
           },
           "marker": {
            "size": 2
           },
           "mode": "lines+markers",
           "name": "V1",
           "type": "scatter",
           "x": [
            0,
            -3.63265306122449
           ],
           "y": [
            0,
            -1.2653061224489797
           ]
          },
          {
           "line": {
            "color": "blue",
            "dash": "dash",
            "width": 1
           },
           "marker": {
            "size": 2
           },
           "mode": "lines+markers",
           "name": "V1",
           "type": "scatter",
           "x": [
            0,
            -1.7376093294460642
           ],
           "y": [
            0,
            0.15743440233236153
           ]
          },
          {
           "line": {
            "color": "red",
            "width": 1
           },
           "marker": {
            "size": 2
           },
           "mode": "lines+markers",
           "name": "V2",
           "type": "scatter",
           "x": [
            0,
            -1
           ],
           "y": [
            0,
            4
           ]
          }
         ]
        },
        {
         "data": [
          {
           "line": {
            "color": "blue",
            "width": 1
           },
           "marker": {
            "size": 2
           },
           "mode": "lines+markers",
           "name": "V1",
           "type": "scatter",
           "x": [
            0,
            -3.571428571428571
           ],
           "y": [
            0,
            -1.1428571428571428
           ]
          },
          {
           "line": {
            "color": "blue",
            "dash": "dash",
            "width": 1
           },
           "marker": {
            "size": 2
           },
           "mode": "lines+markers",
           "name": "V1",
           "type": "scatter",
           "x": [
            0,
            -1.693877551020408
           ],
           "y": [
            0,
            0.1836734693877551
           ]
          },
          {
           "line": {
            "color": "red",
            "width": 1
           },
           "marker": {
            "size": 2
           },
           "mode": "lines+markers",
           "name": "V2",
           "type": "scatter",
           "x": [
            0,
            -1
           ],
           "y": [
            0,
            4
           ]
          }
         ]
        },
        {
         "data": [
          {
           "line": {
            "color": "blue",
            "width": 1
           },
           "marker": {
            "size": 2
           },
           "mode": "lines+markers",
           "name": "V1",
           "type": "scatter",
           "x": [
            0,
            -3.510204081632653
           ],
           "y": [
            0,
            -1.020408163265306
           ]
          },
          {
           "line": {
            "color": "blue",
            "dash": "dash",
            "width": 1
           },
           "marker": {
            "size": 2
           },
           "mode": "lines+markers",
           "name": "V1",
           "type": "scatter",
           "x": [
            0,
            -1.6501457725947521
           ],
           "y": [
            0,
            0.2099125364431487
           ]
          },
          {
           "line": {
            "color": "red",
            "width": 1
           },
           "marker": {
            "size": 2
           },
           "mode": "lines+markers",
           "name": "V2",
           "type": "scatter",
           "x": [
            0,
            -1
           ],
           "y": [
            0,
            4
           ]
          }
         ]
        },
        {
         "data": [
          {
           "line": {
            "color": "blue",
            "width": 1
           },
           "marker": {
            "size": 2
           },
           "mode": "lines+markers",
           "name": "V1",
           "type": "scatter",
           "x": [
            0,
            -3.4489795918367347
           ],
           "y": [
            0,
            -0.8979591836734694
           ]
          },
          {
           "line": {
            "color": "blue",
            "dash": "dash",
            "width": 1
           },
           "marker": {
            "size": 2
           },
           "mode": "lines+markers",
           "name": "V1",
           "type": "scatter",
           "x": [
            0,
            -1.6064139941690962
           ],
           "y": [
            0,
            0.23615160349854228
           ]
          },
          {
           "line": {
            "color": "red",
            "width": 1
           },
           "marker": {
            "size": 2
           },
           "mode": "lines+markers",
           "name": "V2",
           "type": "scatter",
           "x": [
            0,
            -1
           ],
           "y": [
            0,
            4
           ]
          }
         ]
        },
        {
         "data": [
          {
           "line": {
            "color": "blue",
            "width": 1
           },
           "marker": {
            "size": 2
           },
           "mode": "lines+markers",
           "name": "V1",
           "type": "scatter",
           "x": [
            0,
            -3.387755102040816
           ],
           "y": [
            0,
            -0.7755102040816324
           ]
          },
          {
           "line": {
            "color": "blue",
            "dash": "dash",
            "width": 1
           },
           "marker": {
            "size": 2
           },
           "mode": "lines+markers",
           "name": "V1",
           "type": "scatter",
           "x": [
            0,
            -1.5626822157434401
           ],
           "y": [
            0,
            0.2623906705539359
           ]
          },
          {
           "line": {
            "color": "red",
            "width": 1
           },
           "marker": {
            "size": 2
           },
           "mode": "lines+markers",
           "name": "V2",
           "type": "scatter",
           "x": [
            0,
            -1
           ],
           "y": [
            0,
            4
           ]
          }
         ]
        },
        {
         "data": [
          {
           "line": {
            "color": "blue",
            "width": 1
           },
           "marker": {
            "size": 2
           },
           "mode": "lines+markers",
           "name": "V1",
           "type": "scatter",
           "x": [
            0,
            -3.326530612244898
           ],
           "y": [
            0,
            -0.6530612244897958
           ]
          },
          {
           "line": {
            "color": "blue",
            "dash": "dash",
            "width": 1
           },
           "marker": {
            "size": 2
           },
           "mode": "lines+markers",
           "name": "V1",
           "type": "scatter",
           "x": [
            0,
            -1.5189504373177842
           ],
           "y": [
            0,
            0.2886297376093295
           ]
          },
          {
           "line": {
            "color": "red",
            "width": 1
           },
           "marker": {
            "size": 2
           },
           "mode": "lines+markers",
           "name": "V2",
           "type": "scatter",
           "x": [
            0,
            -1
           ],
           "y": [
            0,
            4
           ]
          }
         ]
        },
        {
         "data": [
          {
           "line": {
            "color": "blue",
            "width": 1
           },
           "marker": {
            "size": 2
           },
           "mode": "lines+markers",
           "name": "V1",
           "type": "scatter",
           "x": [
            0,
            -3.2653061224489797
           ],
           "y": [
            0,
            -0.5306122448979591
           ]
          },
          {
           "line": {
            "color": "blue",
            "dash": "dash",
            "width": 1
           },
           "marker": {
            "size": 2
           },
           "mode": "lines+markers",
           "name": "V1",
           "type": "scatter",
           "x": [
            0,
            -1.4752186588921283
           ],
           "y": [
            0,
            0.31486880466472306
           ]
          },
          {
           "line": {
            "color": "red",
            "width": 1
           },
           "marker": {
            "size": 2
           },
           "mode": "lines+markers",
           "name": "V2",
           "type": "scatter",
           "x": [
            0,
            -1
           ],
           "y": [
            0,
            4
           ]
          }
         ]
        },
        {
         "data": [
          {
           "line": {
            "color": "blue",
            "width": 1
           },
           "marker": {
            "size": 2
           },
           "mode": "lines+markers",
           "name": "V1",
           "type": "scatter",
           "x": [
            0,
            -3.204081632653061
           ],
           "y": [
            0,
            -0.40816326530612224
           ]
          },
          {
           "line": {
            "color": "blue",
            "dash": "dash",
            "width": 1
           },
           "marker": {
            "size": 2
           },
           "mode": "lines+markers",
           "name": "V1",
           "type": "scatter",
           "x": [
            0,
            -1.4314868804664722
           ],
           "y": [
            0,
            0.34110787172011664
           ]
          },
          {
           "line": {
            "color": "red",
            "width": 1
           },
           "marker": {
            "size": 2
           },
           "mode": "lines+markers",
           "name": "V2",
           "type": "scatter",
           "x": [
            0,
            -1
           ],
           "y": [
            0,
            4
           ]
          }
         ]
        },
        {
         "data": [
          {
           "line": {
            "color": "blue",
            "width": 1
           },
           "marker": {
            "size": 2
           },
           "mode": "lines+markers",
           "name": "V1",
           "type": "scatter",
           "x": [
            0,
            -3.142857142857143
           ],
           "y": [
            0,
            -0.2857142857142856
           ]
          },
          {
           "line": {
            "color": "blue",
            "dash": "dash",
            "width": 1
           },
           "marker": {
            "size": 2
           },
           "mode": "lines+markers",
           "name": "V1",
           "type": "scatter",
           "x": [
            0,
            -1.3877551020408163
           ],
           "y": [
            0,
            0.3673469387755102
           ]
          },
          {
           "line": {
            "color": "red",
            "width": 1
           },
           "marker": {
            "size": 2
           },
           "mode": "lines+markers",
           "name": "V2",
           "type": "scatter",
           "x": [
            0,
            -1
           ],
           "y": [
            0,
            4
           ]
          }
         ]
        },
        {
         "data": [
          {
           "line": {
            "color": "blue",
            "width": 1
           },
           "marker": {
            "size": 2
           },
           "mode": "lines+markers",
           "name": "V1",
           "type": "scatter",
           "x": [
            0,
            -3.0816326530612246
           ],
           "y": [
            0,
            -0.16326530612244894
           ]
          },
          {
           "line": {
            "color": "blue",
            "dash": "dash",
            "width": 1
           },
           "marker": {
            "size": 2
           },
           "mode": "lines+markers",
           "name": "V1",
           "type": "scatter",
           "x": [
            0,
            -1.3440233236151604
           ],
           "y": [
            0,
            0.3935860058309038
           ]
          },
          {
           "line": {
            "color": "red",
            "width": 1
           },
           "marker": {
            "size": 2
           },
           "mode": "lines+markers",
           "name": "V2",
           "type": "scatter",
           "x": [
            0,
            -1
           ],
           "y": [
            0,
            4
           ]
          }
         ]
        },
        {
         "data": [
          {
           "line": {
            "color": "blue",
            "width": 1
           },
           "marker": {
            "size": 2
           },
           "mode": "lines+markers",
           "name": "V1",
           "type": "scatter",
           "x": [
            0,
            -3.020408163265306
           ],
           "y": [
            0,
            -0.04081632653061207
           ]
          },
          {
           "line": {
            "color": "blue",
            "dash": "dash",
            "width": 1
           },
           "marker": {
            "size": 2
           },
           "mode": "lines+markers",
           "name": "V1",
           "type": "scatter",
           "x": [
            0,
            -1.3002915451895043
           ],
           "y": [
            0,
            0.4198250728862974
           ]
          },
          {
           "line": {
            "color": "red",
            "width": 1
           },
           "marker": {
            "size": 2
           },
           "mode": "lines+markers",
           "name": "V2",
           "type": "scatter",
           "x": [
            0,
            -1
           ],
           "y": [
            0,
            4
           ]
          }
         ]
        },
        {
         "data": [
          {
           "line": {
            "color": "blue",
            "width": 1
           },
           "marker": {
            "size": 2
           },
           "mode": "lines+markers",
           "name": "V1",
           "type": "scatter",
           "x": [
            0,
            -2.9591836734693877
           ],
           "y": [
            0,
            0.08163265306122458
           ]
          },
          {
           "line": {
            "color": "blue",
            "dash": "dash",
            "width": 1
           },
           "marker": {
            "size": 2
           },
           "mode": "lines+markers",
           "name": "V1",
           "type": "scatter",
           "x": [
            0,
            -1.2565597667638484
           ],
           "y": [
            0,
            0.446064139941691
           ]
          },
          {
           "line": {
            "color": "red",
            "width": 1
           },
           "marker": {
            "size": 2
           },
           "mode": "lines+markers",
           "name": "V2",
           "type": "scatter",
           "x": [
            0,
            -1
           ],
           "y": [
            0,
            4
           ]
          }
         ]
        },
        {
         "data": [
          {
           "line": {
            "color": "blue",
            "width": 1
           },
           "marker": {
            "size": 2
           },
           "mode": "lines+markers",
           "name": "V1",
           "type": "scatter",
           "x": [
            0,
            -2.8979591836734695
           ],
           "y": [
            0,
            0.20408163265306123
           ]
          },
          {
           "line": {
            "color": "blue",
            "dash": "dash",
            "width": 1
           },
           "marker": {
            "size": 2
           },
           "mode": "lines+markers",
           "name": "V1",
           "type": "scatter",
           "x": [
            0,
            -1.2128279883381925
           ],
           "y": [
            0,
            0.47230320699708456
           ]
          },
          {
           "line": {
            "color": "red",
            "width": 1
           },
           "marker": {
            "size": 2
           },
           "mode": "lines+markers",
           "name": "V2",
           "type": "scatter",
           "x": [
            0,
            -1
           ],
           "y": [
            0,
            4
           ]
          }
         ]
        },
        {
         "data": [
          {
           "line": {
            "color": "blue",
            "width": 1
           },
           "marker": {
            "size": 2
           },
           "mode": "lines+markers",
           "name": "V1",
           "type": "scatter",
           "x": [
            0,
            -2.836734693877551
           ],
           "y": [
            0,
            0.3265306122448981
           ]
          },
          {
           "line": {
            "color": "blue",
            "dash": "dash",
            "width": 1
           },
           "marker": {
            "size": 2
           },
           "mode": "lines+markers",
           "name": "V1",
           "type": "scatter",
           "x": [
            0,
            -1.1690962099125364
           ],
           "y": [
            0,
            0.49854227405247814
           ]
          },
          {
           "line": {
            "color": "red",
            "width": 1
           },
           "marker": {
            "size": 2
           },
           "mode": "lines+markers",
           "name": "V2",
           "type": "scatter",
           "x": [
            0,
            -1
           ],
           "y": [
            0,
            4
           ]
          }
         ]
        },
        {
         "data": [
          {
           "line": {
            "color": "blue",
            "width": 1
           },
           "marker": {
            "size": 2
           },
           "mode": "lines+markers",
           "name": "V1",
           "type": "scatter",
           "x": [
            0,
            -2.7755102040816326
           ],
           "y": [
            0,
            0.44897959183673497
           ]
          },
          {
           "line": {
            "color": "blue",
            "dash": "dash",
            "width": 1
           },
           "marker": {
            "size": 2
           },
           "mode": "lines+markers",
           "name": "V1",
           "type": "scatter",
           "x": [
            0,
            -1.1253644314868805
           ],
           "y": [
            0,
            0.5247813411078718
           ]
          },
          {
           "line": {
            "color": "red",
            "width": 1
           },
           "marker": {
            "size": 2
           },
           "mode": "lines+markers",
           "name": "V2",
           "type": "scatter",
           "x": [
            0,
            -1
           ],
           "y": [
            0,
            4
           ]
          }
         ]
        },
        {
         "data": [
          {
           "line": {
            "color": "blue",
            "width": 1
           },
           "marker": {
            "size": 2
           },
           "mode": "lines+markers",
           "name": "V1",
           "type": "scatter",
           "x": [
            0,
            -2.7142857142857144
           ],
           "y": [
            0,
            0.5714285714285716
           ]
          },
          {
           "line": {
            "color": "blue",
            "dash": "dash",
            "width": 1
           },
           "marker": {
            "size": 2
           },
           "mode": "lines+markers",
           "name": "V1",
           "type": "scatter",
           "x": [
            0,
            -1.0816326530612246
           ],
           "y": [
            0,
            0.5510204081632654
           ]
          },
          {
           "line": {
            "color": "red",
            "width": 1
           },
           "marker": {
            "size": 2
           },
           "mode": "lines+markers",
           "name": "V2",
           "type": "scatter",
           "x": [
            0,
            -1
           ],
           "y": [
            0,
            4
           ]
          }
         ]
        },
        {
         "data": [
          {
           "line": {
            "color": "blue",
            "width": 1
           },
           "marker": {
            "size": 2
           },
           "mode": "lines+markers",
           "name": "V1",
           "type": "scatter",
           "x": [
            0,
            -2.6530612244897958
           ],
           "y": [
            0,
            0.6938775510204085
           ]
          },
          {
           "line": {
            "color": "blue",
            "dash": "dash",
            "width": 1
           },
           "marker": {
            "size": 2
           },
           "mode": "lines+markers",
           "name": "V1",
           "type": "scatter",
           "x": [
            0,
            -1.0379008746355685
           ],
           "y": [
            0,
            0.577259475218659
           ]
          },
          {
           "line": {
            "color": "red",
            "width": 1
           },
           "marker": {
            "size": 2
           },
           "mode": "lines+markers",
           "name": "V2",
           "type": "scatter",
           "x": [
            0,
            -1
           ],
           "y": [
            0,
            4
           ]
          }
         ]
        },
        {
         "data": [
          {
           "line": {
            "color": "blue",
            "width": 1
           },
           "marker": {
            "size": 2
           },
           "mode": "lines+markers",
           "name": "V1",
           "type": "scatter",
           "x": [
            0,
            -2.5918367346938775
           ],
           "y": [
            0,
            0.8163265306122451
           ]
          },
          {
           "line": {
            "color": "blue",
            "dash": "dash",
            "width": 1
           },
           "marker": {
            "size": 2
           },
           "mode": "lines+markers",
           "name": "V1",
           "type": "scatter",
           "x": [
            0,
            -0.9941690962099126
           ],
           "y": [
            0,
            0.6034985422740525
           ]
          },
          {
           "line": {
            "color": "red",
            "width": 1
           },
           "marker": {
            "size": 2
           },
           "mode": "lines+markers",
           "name": "V2",
           "type": "scatter",
           "x": [
            0,
            -1
           ],
           "y": [
            0,
            4
           ]
          }
         ]
        },
        {
         "data": [
          {
           "line": {
            "color": "blue",
            "width": 1
           },
           "marker": {
            "size": 2
           },
           "mode": "lines+markers",
           "name": "V1",
           "type": "scatter",
           "x": [
            0,
            -2.5306122448979593
           ],
           "y": [
            0,
            0.9387755102040818
           ]
          },
          {
           "line": {
            "color": "blue",
            "dash": "dash",
            "width": 1
           },
           "marker": {
            "size": 2
           },
           "mode": "lines+markers",
           "name": "V1",
           "type": "scatter",
           "x": [
            0,
            -0.9504373177842567
           ],
           "y": [
            0,
            0.6297376093294461
           ]
          },
          {
           "line": {
            "color": "red",
            "width": 1
           },
           "marker": {
            "size": 2
           },
           "mode": "lines+markers",
           "name": "V2",
           "type": "scatter",
           "x": [
            0,
            -1
           ],
           "y": [
            0,
            4
           ]
          }
         ]
        },
        {
         "data": [
          {
           "line": {
            "color": "blue",
            "width": 1
           },
           "marker": {
            "size": 2
           },
           "mode": "lines+markers",
           "name": "V1",
           "type": "scatter",
           "x": [
            0,
            -2.4693877551020407
           ],
           "y": [
            0,
            1.0612244897959187
           ]
          },
          {
           "line": {
            "color": "blue",
            "dash": "dash",
            "width": 1
           },
           "marker": {
            "size": 2
           },
           "mode": "lines+markers",
           "name": "V1",
           "type": "scatter",
           "x": [
            0,
            -0.9067055393586005
           ],
           "y": [
            0,
            0.6559766763848397
           ]
          },
          {
           "line": {
            "color": "red",
            "width": 1
           },
           "marker": {
            "size": 2
           },
           "mode": "lines+markers",
           "name": "V2",
           "type": "scatter",
           "x": [
            0,
            -1
           ],
           "y": [
            0,
            4
           ]
          }
         ]
        },
        {
         "data": [
          {
           "line": {
            "color": "blue",
            "width": 1
           },
           "marker": {
            "size": 2
           },
           "mode": "lines+markers",
           "name": "V1",
           "type": "scatter",
           "x": [
            0,
            -2.4081632653061225
           ],
           "y": [
            0,
            1.1836734693877553
           ]
          },
          {
           "line": {
            "color": "blue",
            "dash": "dash",
            "width": 1
           },
           "marker": {
            "size": 2
           },
           "mode": "lines+markers",
           "name": "V1",
           "type": "scatter",
           "x": [
            0,
            -0.8629737609329446
           ],
           "y": [
            0,
            0.6822157434402333
           ]
          },
          {
           "line": {
            "color": "red",
            "width": 1
           },
           "marker": {
            "size": 2
           },
           "mode": "lines+markers",
           "name": "V2",
           "type": "scatter",
           "x": [
            0,
            -1
           ],
           "y": [
            0,
            4
           ]
          }
         ]
        },
        {
         "data": [
          {
           "line": {
            "color": "blue",
            "width": 1
           },
           "marker": {
            "size": 2
           },
           "mode": "lines+markers",
           "name": "V1",
           "type": "scatter",
           "x": [
            0,
            -2.3469387755102042
           ],
           "y": [
            0,
            1.306122448979592
           ]
          },
          {
           "line": {
            "color": "blue",
            "dash": "dash",
            "width": 1
           },
           "marker": {
            "size": 2
           },
           "mode": "lines+markers",
           "name": "V1",
           "type": "scatter",
           "x": [
            0,
            -0.8192419825072887
           ],
           "y": [
            0,
            0.7084548104956269
           ]
          },
          {
           "line": {
            "color": "red",
            "width": 1
           },
           "marker": {
            "size": 2
           },
           "mode": "lines+markers",
           "name": "V2",
           "type": "scatter",
           "x": [
            0,
            -1
           ],
           "y": [
            0,
            4
           ]
          }
         ]
        },
        {
         "data": [
          {
           "line": {
            "color": "blue",
            "width": 1
           },
           "marker": {
            "size": 2
           },
           "mode": "lines+markers",
           "name": "V1",
           "type": "scatter",
           "x": [
            0,
            -2.2857142857142856
           ],
           "y": [
            0,
            1.4285714285714288
           ]
          },
          {
           "line": {
            "color": "blue",
            "dash": "dash",
            "width": 1
           },
           "marker": {
            "size": 2
           },
           "mode": "lines+markers",
           "name": "V1",
           "type": "scatter",
           "x": [
            0,
            -0.7755102040816326
           ],
           "y": [
            0,
            0.7346938775510204
           ]
          },
          {
           "line": {
            "color": "red",
            "width": 1
           },
           "marker": {
            "size": 2
           },
           "mode": "lines+markers",
           "name": "V2",
           "type": "scatter",
           "x": [
            0,
            -1
           ],
           "y": [
            0,
            4
           ]
          }
         ]
        },
        {
         "data": [
          {
           "line": {
            "color": "blue",
            "width": 1
           },
           "marker": {
            "size": 2
           },
           "mode": "lines+markers",
           "name": "V1",
           "type": "scatter",
           "x": [
            0,
            -2.2244897959183674
           ],
           "y": [
            0,
            1.5510204081632655
           ]
          },
          {
           "line": {
            "color": "blue",
            "dash": "dash",
            "width": 1
           },
           "marker": {
            "size": 2
           },
           "mode": "lines+markers",
           "name": "V1",
           "type": "scatter",
           "x": [
            0,
            -0.7317784256559767
           ],
           "y": [
            0,
            0.760932944606414
           ]
          },
          {
           "line": {
            "color": "red",
            "width": 1
           },
           "marker": {
            "size": 2
           },
           "mode": "lines+markers",
           "name": "V2",
           "type": "scatter",
           "x": [
            0,
            -1
           ],
           "y": [
            0,
            4
           ]
          }
         ]
        },
        {
         "data": [
          {
           "line": {
            "color": "blue",
            "width": 1
           },
           "marker": {
            "size": 2
           },
           "mode": "lines+markers",
           "name": "V1",
           "type": "scatter",
           "x": [
            0,
            -2.163265306122449
           ],
           "y": [
            0,
            1.6734693877551021
           ]
          },
          {
           "line": {
            "color": "blue",
            "dash": "dash",
            "width": 1
           },
           "marker": {
            "size": 2
           },
           "mode": "lines+markers",
           "name": "V1",
           "type": "scatter",
           "x": [
            0,
            -0.6880466472303208
           ],
           "y": [
            0,
            0.7871720116618076
           ]
          },
          {
           "line": {
            "color": "red",
            "width": 1
           },
           "marker": {
            "size": 2
           },
           "mode": "lines+markers",
           "name": "V2",
           "type": "scatter",
           "x": [
            0,
            -1
           ],
           "y": [
            0,
            4
           ]
          }
         ]
        },
        {
         "data": [
          {
           "line": {
            "color": "blue",
            "width": 1
           },
           "marker": {
            "size": 2
           },
           "mode": "lines+markers",
           "name": "V1",
           "type": "scatter",
           "x": [
            0,
            -2.1020408163265305
           ],
           "y": [
            0,
            1.795918367346939
           ]
          },
          {
           "line": {
            "color": "blue",
            "dash": "dash",
            "width": 1
           },
           "marker": {
            "size": 2
           },
           "mode": "lines+markers",
           "name": "V1",
           "type": "scatter",
           "x": [
            0,
            -0.6443148688046647
           ],
           "y": [
            0,
            0.8134110787172012
           ]
          },
          {
           "line": {
            "color": "red",
            "width": 1
           },
           "marker": {
            "size": 2
           },
           "mode": "lines+markers",
           "name": "V2",
           "type": "scatter",
           "x": [
            0,
            -1
           ],
           "y": [
            0,
            4
           ]
          }
         ]
        },
        {
         "data": [
          {
           "line": {
            "color": "blue",
            "width": 1
           },
           "marker": {
            "size": 2
           },
           "mode": "lines+markers",
           "name": "V1",
           "type": "scatter",
           "x": [
            0,
            -2.0408163265306123
           ],
           "y": [
            0,
            1.9183673469387756
           ]
          },
          {
           "line": {
            "color": "blue",
            "dash": "dash",
            "width": 1
           },
           "marker": {
            "size": 2
           },
           "mode": "lines+markers",
           "name": "V1",
           "type": "scatter",
           "x": [
            0,
            -0.6005830903790088
           ],
           "y": [
            0,
            0.8396501457725948
           ]
          },
          {
           "line": {
            "color": "red",
            "width": 1
           },
           "marker": {
            "size": 2
           },
           "mode": "lines+markers",
           "name": "V2",
           "type": "scatter",
           "x": [
            0,
            -1
           ],
           "y": [
            0,
            4
           ]
          }
         ]
        },
        {
         "data": [
          {
           "line": {
            "color": "blue",
            "width": 1
           },
           "marker": {
            "size": 2
           },
           "mode": "lines+markers",
           "name": "V1",
           "type": "scatter",
           "x": [
            0,
            -1.979591836734694
           ],
           "y": [
            0,
            2.0408163265306123
           ]
          },
          {
           "line": {
            "color": "blue",
            "dash": "dash",
            "width": 1
           },
           "marker": {
            "size": 2
           },
           "mode": "lines+markers",
           "name": "V1",
           "type": "scatter",
           "x": [
            0,
            -0.5568513119533529
           ],
           "y": [
            0,
            0.8658892128279884
           ]
          },
          {
           "line": {
            "color": "red",
            "width": 1
           },
           "marker": {
            "size": 2
           },
           "mode": "lines+markers",
           "name": "V2",
           "type": "scatter",
           "x": [
            0,
            -1
           ],
           "y": [
            0,
            4
           ]
          }
         ]
        },
        {
         "data": [
          {
           "line": {
            "color": "blue",
            "width": 1
           },
           "marker": {
            "size": 2
           },
           "mode": "lines+markers",
           "name": "V1",
           "type": "scatter",
           "x": [
            0,
            -1.9183673469387754
           ],
           "y": [
            0,
            2.163265306122449
           ]
          },
          {
           "line": {
            "color": "blue",
            "dash": "dash",
            "width": 1
           },
           "marker": {
            "size": 2
           },
           "mode": "lines+markers",
           "name": "V1",
           "type": "scatter",
           "x": [
            0,
            -0.5131195335276968
           ],
           "y": [
            0,
            0.892128279883382
           ]
          },
          {
           "line": {
            "color": "red",
            "width": 1
           },
           "marker": {
            "size": 2
           },
           "mode": "lines+markers",
           "name": "V2",
           "type": "scatter",
           "x": [
            0,
            -1
           ],
           "y": [
            0,
            4
           ]
          }
         ]
        },
        {
         "data": [
          {
           "line": {
            "color": "blue",
            "width": 1
           },
           "marker": {
            "size": 2
           },
           "mode": "lines+markers",
           "name": "V1",
           "type": "scatter",
           "x": [
            0,
            -1.8571428571428572
           ],
           "y": [
            0,
            2.2857142857142856
           ]
          },
          {
           "line": {
            "color": "blue",
            "dash": "dash",
            "width": 1
           },
           "marker": {
            "size": 2
           },
           "mode": "lines+markers",
           "name": "V1",
           "type": "scatter",
           "x": [
            0,
            -0.4693877551020409
           ],
           "y": [
            0,
            0.9183673469387755
           ]
          },
          {
           "line": {
            "color": "red",
            "width": 1
           },
           "marker": {
            "size": 2
           },
           "mode": "lines+markers",
           "name": "V2",
           "type": "scatter",
           "x": [
            0,
            -1
           ],
           "y": [
            0,
            4
           ]
          }
         ]
        },
        {
         "data": [
          {
           "line": {
            "color": "blue",
            "width": 1
           },
           "marker": {
            "size": 2
           },
           "mode": "lines+markers",
           "name": "V1",
           "type": "scatter",
           "x": [
            0,
            -1.795918367346939
           ],
           "y": [
            0,
            2.4081632653061225
           ]
          },
          {
           "line": {
            "color": "blue",
            "dash": "dash",
            "width": 1
           },
           "marker": {
            "size": 2
           },
           "mode": "lines+markers",
           "name": "V1",
           "type": "scatter",
           "x": [
            0,
            -0.425655976676385
           ],
           "y": [
            0,
            0.9446064139941691
           ]
          },
          {
           "line": {
            "color": "red",
            "width": 1
           },
           "marker": {
            "size": 2
           },
           "mode": "lines+markers",
           "name": "V2",
           "type": "scatter",
           "x": [
            0,
            -1
           ],
           "y": [
            0,
            4
           ]
          }
         ]
        },
        {
         "data": [
          {
           "line": {
            "color": "blue",
            "width": 1
           },
           "marker": {
            "size": 2
           },
           "mode": "lines+markers",
           "name": "V1",
           "type": "scatter",
           "x": [
            0,
            -1.7346938775510203
           ],
           "y": [
            0,
            2.5306122448979593
           ]
          },
          {
           "line": {
            "color": "blue",
            "dash": "dash",
            "width": 1
           },
           "marker": {
            "size": 2
           },
           "mode": "lines+markers",
           "name": "V1",
           "type": "scatter",
           "x": [
            0,
            -0.3819241982507289
           ],
           "y": [
            0,
            0.9708454810495627
           ]
          },
          {
           "line": {
            "color": "red",
            "width": 1
           },
           "marker": {
            "size": 2
           },
           "mode": "lines+markers",
           "name": "V2",
           "type": "scatter",
           "x": [
            0,
            -1
           ],
           "y": [
            0,
            4
           ]
          }
         ]
        },
        {
         "data": [
          {
           "line": {
            "color": "blue",
            "width": 1
           },
           "marker": {
            "size": 2
           },
           "mode": "lines+markers",
           "name": "V1",
           "type": "scatter",
           "x": [
            0,
            -1.6734693877551021
           ],
           "y": [
            0,
            2.6530612244897958
           ]
          },
          {
           "line": {
            "color": "blue",
            "dash": "dash",
            "width": 1
           },
           "marker": {
            "size": 2
           },
           "mode": "lines+markers",
           "name": "V1",
           "type": "scatter",
           "x": [
            0,
            -0.338192419825073
           ],
           "y": [
            0,
            0.9970845481049563
           ]
          },
          {
           "line": {
            "color": "red",
            "width": 1
           },
           "marker": {
            "size": 2
           },
           "mode": "lines+markers",
           "name": "V2",
           "type": "scatter",
           "x": [
            0,
            -1
           ],
           "y": [
            0,
            4
           ]
          }
         ]
        },
        {
         "data": [
          {
           "line": {
            "color": "blue",
            "width": 1
           },
           "marker": {
            "size": 2
           },
           "mode": "lines+markers",
           "name": "V1",
           "type": "scatter",
           "x": [
            0,
            -1.6122448979591841
           ],
           "y": [
            0,
            2.775510204081633
           ]
          },
          {
           "line": {
            "color": "blue",
            "dash": "dash",
            "width": 1
           },
           "marker": {
            "size": 2
           },
           "mode": "lines+markers",
           "name": "V1",
           "type": "scatter",
           "x": [
            0,
            -0.2944606413994171
           ],
           "y": [
            0,
            1.02332361516035
           ]
          },
          {
           "line": {
            "color": "red",
            "width": 1
           },
           "marker": {
            "size": 2
           },
           "mode": "lines+markers",
           "name": "V2",
           "type": "scatter",
           "x": [
            0,
            -1
           ],
           "y": [
            0,
            4
           ]
          }
         ]
        },
        {
         "data": [
          {
           "line": {
            "color": "blue",
            "width": 1
           },
           "marker": {
            "size": 2
           },
           "mode": "lines+markers",
           "name": "V1",
           "type": "scatter",
           "x": [
            0,
            -1.5510204081632655
           ],
           "y": [
            0,
            2.89795918367347
           ]
          },
          {
           "line": {
            "color": "blue",
            "dash": "dash",
            "width": 1
           },
           "marker": {
            "size": 2
           },
           "mode": "lines+markers",
           "name": "V1",
           "type": "scatter",
           "x": [
            0,
            -0.25072886297376096
           ],
           "y": [
            0,
            1.0495626822157436
           ]
          },
          {
           "line": {
            "color": "red",
            "width": 1
           },
           "marker": {
            "size": 2
           },
           "mode": "lines+markers",
           "name": "V2",
           "type": "scatter",
           "x": [
            0,
            -1
           ],
           "y": [
            0,
            4
           ]
          }
         ]
        },
        {
         "data": [
          {
           "line": {
            "color": "blue",
            "width": 1
           },
           "marker": {
            "size": 2
           },
           "mode": "lines+markers",
           "name": "V1",
           "type": "scatter",
           "x": [
            0,
            -1.4897959183673473
           ],
           "y": [
            0,
            3.020408163265307
           ]
          },
          {
           "line": {
            "color": "blue",
            "dash": "dash",
            "width": 1
           },
           "marker": {
            "size": 2
           },
           "mode": "lines+markers",
           "name": "V1",
           "type": "scatter",
           "x": [
            0,
            -0.20699708454810506
           ],
           "y": [
            0,
            1.0758017492711371
           ]
          },
          {
           "line": {
            "color": "red",
            "width": 1
           },
           "marker": {
            "size": 2
           },
           "mode": "lines+markers",
           "name": "V2",
           "type": "scatter",
           "x": [
            0,
            -1
           ],
           "y": [
            0,
            4
           ]
          }
         ]
        },
        {
         "data": [
          {
           "line": {
            "color": "blue",
            "width": 1
           },
           "marker": {
            "size": 2
           },
           "mode": "lines+markers",
           "name": "V1",
           "type": "scatter",
           "x": [
            0,
            -1.428571428571429
           ],
           "y": [
            0,
            3.1428571428571432
           ]
          },
          {
           "line": {
            "color": "blue",
            "dash": "dash",
            "width": 1
           },
           "marker": {
            "size": 2
           },
           "mode": "lines+markers",
           "name": "V1",
           "type": "scatter",
           "x": [
            0,
            -0.16326530612244916
           ],
           "y": [
            0,
            1.1020408163265307
           ]
          },
          {
           "line": {
            "color": "red",
            "width": 1
           },
           "marker": {
            "size": 2
           },
           "mode": "lines+markers",
           "name": "V2",
           "type": "scatter",
           "x": [
            0,
            -1
           ],
           "y": [
            0,
            4
           ]
          }
         ]
        },
        {
         "data": [
          {
           "line": {
            "color": "blue",
            "width": 1
           },
           "marker": {
            "size": 2
           },
           "mode": "lines+markers",
           "name": "V1",
           "type": "scatter",
           "x": [
            0,
            -1.3673469387755104
           ],
           "y": [
            0,
            3.26530612244898
           ]
          },
          {
           "line": {
            "color": "blue",
            "dash": "dash",
            "width": 1
           },
           "marker": {
            "size": 2
           },
           "mode": "lines+markers",
           "name": "V1",
           "type": "scatter",
           "x": [
            0,
            -0.11953352769679304
           ],
           "y": [
            0,
            1.1282798833819243
           ]
          },
          {
           "line": {
            "color": "red",
            "width": 1
           },
           "marker": {
            "size": 2
           },
           "mode": "lines+markers",
           "name": "V2",
           "type": "scatter",
           "x": [
            0,
            -1
           ],
           "y": [
            0,
            4
           ]
          }
         ]
        },
        {
         "data": [
          {
           "line": {
            "color": "blue",
            "width": 1
           },
           "marker": {
            "size": 2
           },
           "mode": "lines+markers",
           "name": "V1",
           "type": "scatter",
           "x": [
            0,
            -1.3061224489795922
           ],
           "y": [
            0,
            3.387755102040817
           ]
          },
          {
           "line": {
            "color": "blue",
            "dash": "dash",
            "width": 1
           },
           "marker": {
            "size": 2
           },
           "mode": "lines+markers",
           "name": "V1",
           "type": "scatter",
           "x": [
            0,
            -0.07580174927113714
           ],
           "y": [
            0,
            1.154518950437318
           ]
          },
          {
           "line": {
            "color": "red",
            "width": 1
           },
           "marker": {
            "size": 2
           },
           "mode": "lines+markers",
           "name": "V2",
           "type": "scatter",
           "x": [
            0,
            -1
           ],
           "y": [
            0,
            4
           ]
          }
         ]
        },
        {
         "data": [
          {
           "line": {
            "color": "blue",
            "width": 1
           },
           "marker": {
            "size": 2
           },
           "mode": "lines+markers",
           "name": "V1",
           "type": "scatter",
           "x": [
            0,
            -1.244897959183674
           ],
           "y": [
            0,
            3.5102040816326534
           ]
          },
          {
           "line": {
            "color": "blue",
            "dash": "dash",
            "width": 1
           },
           "marker": {
            "size": 2
           },
           "mode": "lines+markers",
           "name": "V1",
           "type": "scatter",
           "x": [
            0,
            -0.032069970845481244
           ],
           "y": [
            0,
            1.1807580174927115
           ]
          },
          {
           "line": {
            "color": "red",
            "width": 1
           },
           "marker": {
            "size": 2
           },
           "mode": "lines+markers",
           "name": "V2",
           "type": "scatter",
           "x": [
            0,
            -1
           ],
           "y": [
            0,
            4
           ]
          }
         ]
        },
        {
         "data": [
          {
           "line": {
            "color": "blue",
            "width": 1
           },
           "marker": {
            "size": 2
           },
           "mode": "lines+markers",
           "name": "V1",
           "type": "scatter",
           "x": [
            0,
            -1.1836734693877553
           ],
           "y": [
            0,
            3.6326530612244903
           ]
          },
          {
           "line": {
            "color": "blue",
            "dash": "dash",
            "width": 1
           },
           "marker": {
            "size": 2
           },
           "mode": "lines+markers",
           "name": "V1",
           "type": "scatter",
           "x": [
            0,
            0.011661807580174877
           ],
           "y": [
            0,
            1.206997084548105
           ]
          },
          {
           "line": {
            "color": "red",
            "width": 1
           },
           "marker": {
            "size": 2
           },
           "mode": "lines+markers",
           "name": "V2",
           "type": "scatter",
           "x": [
            0,
            -1
           ],
           "y": [
            0,
            4
           ]
          }
         ]
        },
        {
         "data": [
          {
           "line": {
            "color": "blue",
            "width": 1
           },
           "marker": {
            "size": 2
           },
           "mode": "lines+markers",
           "name": "V1",
           "type": "scatter",
           "x": [
            0,
            -1.1224489795918366
           ],
           "y": [
            0,
            3.755102040816327
           ]
          },
          {
           "line": {
            "color": "blue",
            "dash": "dash",
            "width": 1
           },
           "marker": {
            "size": 2
           },
           "mode": "lines+markers",
           "name": "V1",
           "type": "scatter",
           "x": [
            0,
            0.055393586005831
           ],
           "y": [
            0,
            1.2332361516034986
           ]
          },
          {
           "line": {
            "color": "red",
            "width": 1
           },
           "marker": {
            "size": 2
           },
           "mode": "lines+markers",
           "name": "V2",
           "type": "scatter",
           "x": [
            0,
            -1
           ],
           "y": [
            0,
            4
           ]
          }
         ]
        },
        {
         "data": [
          {
           "line": {
            "color": "blue",
            "width": 1
           },
           "marker": {
            "size": 2
           },
           "mode": "lines+markers",
           "name": "V1",
           "type": "scatter",
           "x": [
            0,
            -1.0612244897959189
           ],
           "y": [
            0,
            3.8775510204081636
           ]
          },
          {
           "line": {
            "color": "blue",
            "dash": "dash",
            "width": 1
           },
           "marker": {
            "size": 2
           },
           "mode": "lines+markers",
           "name": "V1",
           "type": "scatter",
           "x": [
            0,
            0.09912536443148667
           ],
           "y": [
            0,
            1.2594752186588922
           ]
          },
          {
           "line": {
            "color": "red",
            "width": 1
           },
           "marker": {
            "size": 2
           },
           "mode": "lines+markers",
           "name": "V2",
           "type": "scatter",
           "x": [
            0,
            -1
           ],
           "y": [
            0,
            4
           ]
          }
         ]
        },
        {
         "data": [
          {
           "line": {
            "color": "blue",
            "width": 1
           },
           "marker": {
            "size": 2
           },
           "mode": "lines+markers",
           "name": "V1",
           "type": "scatter",
           "x": [
            0,
            -1
           ],
           "y": [
            0,
            4.000000000000001
           ]
          },
          {
           "line": {
            "color": "blue",
            "dash": "dash",
            "width": 1
           },
           "marker": {
            "size": 2
           },
           "mode": "lines+markers",
           "name": "V1",
           "type": "scatter",
           "x": [
            0,
            0.1428571428571429
           ],
           "y": [
            0,
            1.2857142857142858
           ]
          },
          {
           "line": {
            "color": "red",
            "width": 1
           },
           "marker": {
            "size": 2
           },
           "mode": "lines+markers",
           "name": "V2",
           "type": "scatter",
           "x": [
            0,
            -1
           ],
           "y": [
            0,
            4
           ]
          }
         ]
        }
       ],
       "layout": {
        "height": 450,
        "showlegend": true,
        "template": {
         "data": {
          "bar": [
           {
            "error_x": {
             "color": "#2a3f5f"
            },
            "error_y": {
             "color": "#2a3f5f"
            },
            "marker": {
             "line": {
              "color": "#E5ECF6",
              "width": 0.5
             },
             "pattern": {
              "fillmode": "overlay",
              "size": 10,
              "solidity": 0.2
             }
            },
            "type": "bar"
           }
          ],
          "barpolar": [
           {
            "marker": {
             "line": {
              "color": "#E5ECF6",
              "width": 0.5
             },
             "pattern": {
              "fillmode": "overlay",
              "size": 10,
              "solidity": 0.2
             }
            },
            "type": "barpolar"
           }
          ],
          "carpet": [
           {
            "aaxis": {
             "endlinecolor": "#2a3f5f",
             "gridcolor": "white",
             "linecolor": "white",
             "minorgridcolor": "white",
             "startlinecolor": "#2a3f5f"
            },
            "baxis": {
             "endlinecolor": "#2a3f5f",
             "gridcolor": "white",
             "linecolor": "white",
             "minorgridcolor": "white",
             "startlinecolor": "#2a3f5f"
            },
            "type": "carpet"
           }
          ],
          "choropleth": [
           {
            "colorbar": {
             "outlinewidth": 0,
             "ticks": ""
            },
            "type": "choropleth"
           }
          ],
          "contour": [
           {
            "colorbar": {
             "outlinewidth": 0,
             "ticks": ""
            },
            "colorscale": [
             [
              0,
              "#0d0887"
             ],
             [
              0.1111111111111111,
              "#46039f"
             ],
             [
              0.2222222222222222,
              "#7201a8"
             ],
             [
              0.3333333333333333,
              "#9c179e"
             ],
             [
              0.4444444444444444,
              "#bd3786"
             ],
             [
              0.5555555555555556,
              "#d8576b"
             ],
             [
              0.6666666666666666,
              "#ed7953"
             ],
             [
              0.7777777777777778,
              "#fb9f3a"
             ],
             [
              0.8888888888888888,
              "#fdca26"
             ],
             [
              1,
              "#f0f921"
             ]
            ],
            "type": "contour"
           }
          ],
          "contourcarpet": [
           {
            "colorbar": {
             "outlinewidth": 0,
             "ticks": ""
            },
            "type": "contourcarpet"
           }
          ],
          "heatmap": [
           {
            "colorbar": {
             "outlinewidth": 0,
             "ticks": ""
            },
            "colorscale": [
             [
              0,
              "#0d0887"
             ],
             [
              0.1111111111111111,
              "#46039f"
             ],
             [
              0.2222222222222222,
              "#7201a8"
             ],
             [
              0.3333333333333333,
              "#9c179e"
             ],
             [
              0.4444444444444444,
              "#bd3786"
             ],
             [
              0.5555555555555556,
              "#d8576b"
             ],
             [
              0.6666666666666666,
              "#ed7953"
             ],
             [
              0.7777777777777778,
              "#fb9f3a"
             ],
             [
              0.8888888888888888,
              "#fdca26"
             ],
             [
              1,
              "#f0f921"
             ]
            ],
            "type": "heatmap"
           }
          ],
          "heatmapgl": [
           {
            "colorbar": {
             "outlinewidth": 0,
             "ticks": ""
            },
            "colorscale": [
             [
              0,
              "#0d0887"
             ],
             [
              0.1111111111111111,
              "#46039f"
             ],
             [
              0.2222222222222222,
              "#7201a8"
             ],
             [
              0.3333333333333333,
              "#9c179e"
             ],
             [
              0.4444444444444444,
              "#bd3786"
             ],
             [
              0.5555555555555556,
              "#d8576b"
             ],
             [
              0.6666666666666666,
              "#ed7953"
             ],
             [
              0.7777777777777778,
              "#fb9f3a"
             ],
             [
              0.8888888888888888,
              "#fdca26"
             ],
             [
              1,
              "#f0f921"
             ]
            ],
            "type": "heatmapgl"
           }
          ],
          "histogram": [
           {
            "marker": {
             "pattern": {
              "fillmode": "overlay",
              "size": 10,
              "solidity": 0.2
             }
            },
            "type": "histogram"
           }
          ],
          "histogram2d": [
           {
            "colorbar": {
             "outlinewidth": 0,
             "ticks": ""
            },
            "colorscale": [
             [
              0,
              "#0d0887"
             ],
             [
              0.1111111111111111,
              "#46039f"
             ],
             [
              0.2222222222222222,
              "#7201a8"
             ],
             [
              0.3333333333333333,
              "#9c179e"
             ],
             [
              0.4444444444444444,
              "#bd3786"
             ],
             [
              0.5555555555555556,
              "#d8576b"
             ],
             [
              0.6666666666666666,
              "#ed7953"
             ],
             [
              0.7777777777777778,
              "#fb9f3a"
             ],
             [
              0.8888888888888888,
              "#fdca26"
             ],
             [
              1,
              "#f0f921"
             ]
            ],
            "type": "histogram2d"
           }
          ],
          "histogram2dcontour": [
           {
            "colorbar": {
             "outlinewidth": 0,
             "ticks": ""
            },
            "colorscale": [
             [
              0,
              "#0d0887"
             ],
             [
              0.1111111111111111,
              "#46039f"
             ],
             [
              0.2222222222222222,
              "#7201a8"
             ],
             [
              0.3333333333333333,
              "#9c179e"
             ],
             [
              0.4444444444444444,
              "#bd3786"
             ],
             [
              0.5555555555555556,
              "#d8576b"
             ],
             [
              0.6666666666666666,
              "#ed7953"
             ],
             [
              0.7777777777777778,
              "#fb9f3a"
             ],
             [
              0.8888888888888888,
              "#fdca26"
             ],
             [
              1,
              "#f0f921"
             ]
            ],
            "type": "histogram2dcontour"
           }
          ],
          "mesh3d": [
           {
            "colorbar": {
             "outlinewidth": 0,
             "ticks": ""
            },
            "type": "mesh3d"
           }
          ],
          "parcoords": [
           {
            "line": {
             "colorbar": {
              "outlinewidth": 0,
              "ticks": ""
             }
            },
            "type": "parcoords"
           }
          ],
          "pie": [
           {
            "automargin": true,
            "type": "pie"
           }
          ],
          "scatter": [
           {
            "fillpattern": {
             "fillmode": "overlay",
             "size": 10,
             "solidity": 0.2
            },
            "type": "scatter"
           }
          ],
          "scatter3d": [
           {
            "line": {
             "colorbar": {
              "outlinewidth": 0,
              "ticks": ""
             }
            },
            "marker": {
             "colorbar": {
              "outlinewidth": 0,
              "ticks": ""
             }
            },
            "type": "scatter3d"
           }
          ],
          "scattercarpet": [
           {
            "marker": {
             "colorbar": {
              "outlinewidth": 0,
              "ticks": ""
             }
            },
            "type": "scattercarpet"
           }
          ],
          "scattergeo": [
           {
            "marker": {
             "colorbar": {
              "outlinewidth": 0,
              "ticks": ""
             }
            },
            "type": "scattergeo"
           }
          ],
          "scattergl": [
           {
            "marker": {
             "colorbar": {
              "outlinewidth": 0,
              "ticks": ""
             }
            },
            "type": "scattergl"
           }
          ],
          "scattermapbox": [
           {
            "marker": {
             "colorbar": {
              "outlinewidth": 0,
              "ticks": ""
             }
            },
            "type": "scattermapbox"
           }
          ],
          "scatterpolar": [
           {
            "marker": {
             "colorbar": {
              "outlinewidth": 0,
              "ticks": ""
             }
            },
            "type": "scatterpolar"
           }
          ],
          "scatterpolargl": [
           {
            "marker": {
             "colorbar": {
              "outlinewidth": 0,
              "ticks": ""
             }
            },
            "type": "scatterpolargl"
           }
          ],
          "scatterternary": [
           {
            "marker": {
             "colorbar": {
              "outlinewidth": 0,
              "ticks": ""
             }
            },
            "type": "scatterternary"
           }
          ],
          "surface": [
           {
            "colorbar": {
             "outlinewidth": 0,
             "ticks": ""
            },
            "colorscale": [
             [
              0,
              "#0d0887"
             ],
             [
              0.1111111111111111,
              "#46039f"
             ],
             [
              0.2222222222222222,
              "#7201a8"
             ],
             [
              0.3333333333333333,
              "#9c179e"
             ],
             [
              0.4444444444444444,
              "#bd3786"
             ],
             [
              0.5555555555555556,
              "#d8576b"
             ],
             [
              0.6666666666666666,
              "#ed7953"
             ],
             [
              0.7777777777777778,
              "#fb9f3a"
             ],
             [
              0.8888888888888888,
              "#fdca26"
             ],
             [
              1,
              "#f0f921"
             ]
            ],
            "type": "surface"
           }
          ],
          "table": [
           {
            "cells": {
             "fill": {
              "color": "#EBF0F8"
             },
             "line": {
              "color": "white"
             }
            },
            "header": {
             "fill": {
              "color": "#C8D4E3"
             },
             "line": {
              "color": "white"
             }
            },
            "type": "table"
           }
          ]
         },
         "layout": {
          "annotationdefaults": {
           "arrowcolor": "#2a3f5f",
           "arrowhead": 0,
           "arrowwidth": 1
          },
          "autotypenumbers": "strict",
          "coloraxis": {
           "colorbar": {
            "outlinewidth": 0,
            "ticks": ""
           }
          },
          "colorscale": {
           "diverging": [
            [
             0,
             "#8e0152"
            ],
            [
             0.1,
             "#c51b7d"
            ],
            [
             0.2,
             "#de77ae"
            ],
            [
             0.3,
             "#f1b6da"
            ],
            [
             0.4,
             "#fde0ef"
            ],
            [
             0.5,
             "#f7f7f7"
            ],
            [
             0.6,
             "#e6f5d0"
            ],
            [
             0.7,
             "#b8e186"
            ],
            [
             0.8,
             "#7fbc41"
            ],
            [
             0.9,
             "#4d9221"
            ],
            [
             1,
             "#276419"
            ]
           ],
           "sequential": [
            [
             0,
             "#0d0887"
            ],
            [
             0.1111111111111111,
             "#46039f"
            ],
            [
             0.2222222222222222,
             "#7201a8"
            ],
            [
             0.3333333333333333,
             "#9c179e"
            ],
            [
             0.4444444444444444,
             "#bd3786"
            ],
            [
             0.5555555555555556,
             "#d8576b"
            ],
            [
             0.6666666666666666,
             "#ed7953"
            ],
            [
             0.7777777777777778,
             "#fb9f3a"
            ],
            [
             0.8888888888888888,
             "#fdca26"
            ],
            [
             1,
             "#f0f921"
            ]
           ],
           "sequentialminus": [
            [
             0,
             "#0d0887"
            ],
            [
             0.1111111111111111,
             "#46039f"
            ],
            [
             0.2222222222222222,
             "#7201a8"
            ],
            [
             0.3333333333333333,
             "#9c179e"
            ],
            [
             0.4444444444444444,
             "#bd3786"
            ],
            [
             0.5555555555555556,
             "#d8576b"
            ],
            [
             0.6666666666666666,
             "#ed7953"
            ],
            [
             0.7777777777777778,
             "#fb9f3a"
            ],
            [
             0.8888888888888888,
             "#fdca26"
            ],
            [
             1,
             "#f0f921"
            ]
           ]
          },
          "colorway": [
           "#636efa",
           "#EF553B",
           "#00cc96",
           "#ab63fa",
           "#FFA15A",
           "#19d3f3",
           "#FF6692",
           "#B6E880",
           "#FF97FF",
           "#FECB52"
          ],
          "font": {
           "color": "#2a3f5f"
          },
          "geo": {
           "bgcolor": "white",
           "lakecolor": "white",
           "landcolor": "#E5ECF6",
           "showlakes": true,
           "showland": true,
           "subunitcolor": "white"
          },
          "hoverlabel": {
           "align": "left"
          },
          "hovermode": "closest",
          "mapbox": {
           "style": "light"
          },
          "paper_bgcolor": "white",
          "plot_bgcolor": "#E5ECF6",
          "polar": {
           "angularaxis": {
            "gridcolor": "white",
            "linecolor": "white",
            "ticks": ""
           },
           "bgcolor": "#E5ECF6",
           "radialaxis": {
            "gridcolor": "white",
            "linecolor": "white",
            "ticks": ""
           }
          },
          "scene": {
           "xaxis": {
            "backgroundcolor": "#E5ECF6",
            "gridcolor": "white",
            "gridwidth": 2,
            "linecolor": "white",
            "showbackground": true,
            "ticks": "",
            "zerolinecolor": "white"
           },
           "yaxis": {
            "backgroundcolor": "#E5ECF6",
            "gridcolor": "white",
            "gridwidth": 2,
            "linecolor": "white",
            "showbackground": true,
            "ticks": "",
            "zerolinecolor": "white"
           },
           "zaxis": {
            "backgroundcolor": "#E5ECF6",
            "gridcolor": "white",
            "gridwidth": 2,
            "linecolor": "white",
            "showbackground": true,
            "ticks": "",
            "zerolinecolor": "white"
           }
          },
          "shapedefaults": {
           "line": {
            "color": "#2a3f5f"
           }
          },
          "ternary": {
           "aaxis": {
            "gridcolor": "white",
            "linecolor": "white",
            "ticks": ""
           },
           "baxis": {
            "gridcolor": "white",
            "linecolor": "white",
            "ticks": ""
           },
           "bgcolor": "#E5ECF6",
           "caxis": {
            "gridcolor": "white",
            "linecolor": "white",
            "ticks": ""
           }
          },
          "title": {
           "x": 0.05
          },
          "xaxis": {
           "automargin": true,
           "gridcolor": "white",
           "linecolor": "white",
           "ticks": "",
           "title": {
            "standoff": 15
           },
           "zerolinecolor": "white",
           "zerolinewidth": 2
          },
          "yaxis": {
           "automargin": true,
           "gridcolor": "white",
           "linecolor": "white",
           "ticks": "",
           "title": {
            "standoff": 15
           },
           "zerolinecolor": "white",
           "zerolinewidth": 2
          }
         }
        },
        "title": {
         "text": "Solution of a system of equations"
        },
        "updatemenus": [
         {
          "buttons": [
           {
            "args": [
             null,
             {
              "frame": {
               "duration": 50,
               "redraw": false
              },
              "fromcurrent": true,
              "transition": {
               "duration": 10
              }
             }
            ],
            "label": "Play",
            "method": "animate"
           }
          ],
          "type": "buttons"
         }
        ],
        "width": 600,
        "xaxis": {
         "range": [
          -6,
          1
         ],
         "title": {
          "text": "x"
         }
        },
        "yaxis": {
         "range": [
          -3,
          5
         ],
         "title": {
          "text": "y"
         }
        }
       }
      }
     },
     "metadata": {},
     "output_type": "display_data"
    }
   ],
   "source": [
    "# Scale in the x direction\n",
    "\n",
    "def create_frame_data1(v1, v2, A):\n",
    "    v1_tr, v2_tr = A @ v1, v2\n",
    "\n",
    "    return [\n",
    "        go.Scatter(\n",
    "            x=[0, v1_tr[0]],\n",
    "            y=[0, v1_tr[1]],\n",
    "            mode='lines+markers',\n",
    "            name='V1',\n",
    "            line=dict(color='blue', width=1),\n",
    "            marker=dict(size=2)\n",
    "        ),\n",
    "        go.Scatter(\n",
    "            x=[0, v1[0]],\n",
    "            y=[0, v1[1]],\n",
    "            mode='lines+markers',\n",
    "            name='V1',\n",
    "            line=dict(color='blue', width=1, dash='dash'),\n",
    "            marker=dict(size=2)\n",
    "        ),\n",
    "        go.Scatter(\n",
    "            x=[0, v2_tr[0]],\n",
    "            y=[0, v2_tr[1]],\n",
    "            mode='lines+markers',\n",
    "            name='V2',\n",
    "            line=dict(color='red', width=1),\n",
    "            marker=dict(size=2)\n",
    "        ),\n",
    "    ]\n",
    "\n",
    "def create_animation1(v1_list, v2, A, xrange=[-2.3, 2.3], yrange=[-2.3, 2.3], title='Area and stretching in the x direction'):    \n",
    "    # Plot the unit vectors and their sum\n",
    "    fig = go.Figure(\n",
    "        data=create_frame_data1(v1_list[0], v2, A),\n",
    "        layout=go.Layout(\n",
    "            title=title,\n",
    "            xaxis=dict(title='x', range=xrange),  # Set X-axis range\n",
    "            yaxis=dict(title='y', range=yrange),  # Set Y-axis range\n",
    "            showlegend=True,\n",
    "            width=800,\n",
    "            height=600\n",
    "        ),\n",
    "    )\n",
    "\n",
    "    frames = [go.Frame(data = create_frame_data1(v1, v2, A)) for v1 in v1_list]\n",
    "\n",
    "    fig.update_layout(width=600, height=450,\n",
    "            updatemenus = [\n",
    "                dict(type = \"buttons\",\n",
    "                    buttons = [\n",
    "                        dict(\n",
    "                    args = [None, {\"frame\": {\"duration\": 50, \"redraw\": False},\n",
    "                                    \"fromcurrent\": True, \"transition\": {\"duration\": 10}}],\n",
    "                    label = \"Play\",\n",
    "                    method = \"animate\",\n",
    "                    )])])\n",
    "\n",
    "    fig.update(frames=frames)\n",
    "    \n",
    "    return fig\n",
    "\n",
    "\n",
    "v2 = np.array([-1, 4])\n",
    "\n",
    "A = np.array([[2, -1], [1, 3]])\n",
    "\n",
    "sol = np.linalg.solve(A, v2)\n",
    "\n",
    "v1_list = [np.array([v1_, v2_]) for v1_, v2_ in zip(np.linspace(-2, sol[0], 50), np.linspace(0, sol[1], 50))]\n",
    "\n",
    "fig9 = create_animation1(v1_list, v2, A, xrange=[-6, 1], yrange=[-3, 5], title='Solution of a system of equations')\n",
    "fig9.show()\n"
   ]
  },
  {
   "cell_type": "markdown",
   "id": "2948e5b9",
   "metadata": {},
   "source": [
    "# Cocktails mit drei Zutaten\n"
   ]
  },
  {
   "cell_type": "code",
   "execution_count": null,
   "id": "d46c4edf",
   "metadata": {},
   "outputs": [
    {
     "data": {
      "application/vnd.plotly.v1+json": {
       "config": {
        "plotlyServerURL": "https://plot.ly"
       },
       "data": [
        {
         "line": {
          "color": "firebrick",
          "width": 5
         },
         "marker": {
          "size": 5
         },
         "mode": "lines+markers",
         "name": "Bloody Mary Rezept",
         "type": "scatter3d",
         "x": [
          0,
          0.3
         ],
         "y": [
          0,
          0
         ],
         "z": [
          0,
          0.6
         ]
        },
        {
         "line": {
          "color": "steelblue",
          "width": 5
         },
         "marker": {
          "size": 5
         },
         "mode": "lines+markers",
         "name": "Rum Pure Rezept",
         "type": "scatter3d",
         "x": [
          0,
          0
         ],
         "y": [
          0,
          0.4
         ],
         "z": [
          0,
          0
         ]
        },
        {
         "line": {
          "color": "orange",
          "width": 5
         },
         "marker": {
          "size": 5
         },
         "mode": "lines+markers",
         "name": "Crazy Cocktail Rezept",
         "type": "scatter3d",
         "x": [
          0,
          0.4
         ],
         "y": [
          0,
          0.4
         ],
         "z": [
          0,
          0.3
         ]
        }
       ],
       "layout": {
        "scene": {
         "xaxis": {
          "range": [
           0,
           1
          ],
          "title": {
           "text": "Vodka"
          }
         },
         "yaxis": {
          "range": [
           0,
           1
          ],
          "title": {
           "text": "Rum"
          }
         },
         "zaxis": {
          "range": [
           0,
           1
          ],
          "title": {
           "text": "Tomatensaft"
          }
         }
        },
        "template": {
         "data": {
          "bar": [
           {
            "error_x": {
             "color": "#2a3f5f"
            },
            "error_y": {
             "color": "#2a3f5f"
            },
            "marker": {
             "line": {
              "color": "#E5ECF6",
              "width": 0.5
             },
             "pattern": {
              "fillmode": "overlay",
              "size": 10,
              "solidity": 0.2
             }
            },
            "type": "bar"
           }
          ],
          "barpolar": [
           {
            "marker": {
             "line": {
              "color": "#E5ECF6",
              "width": 0.5
             },
             "pattern": {
              "fillmode": "overlay",
              "size": 10,
              "solidity": 0.2
             }
            },
            "type": "barpolar"
           }
          ],
          "carpet": [
           {
            "aaxis": {
             "endlinecolor": "#2a3f5f",
             "gridcolor": "white",
             "linecolor": "white",
             "minorgridcolor": "white",
             "startlinecolor": "#2a3f5f"
            },
            "baxis": {
             "endlinecolor": "#2a3f5f",
             "gridcolor": "white",
             "linecolor": "white",
             "minorgridcolor": "white",
             "startlinecolor": "#2a3f5f"
            },
            "type": "carpet"
           }
          ],
          "choropleth": [
           {
            "colorbar": {
             "outlinewidth": 0,
             "ticks": ""
            },
            "type": "choropleth"
           }
          ],
          "contour": [
           {
            "colorbar": {
             "outlinewidth": 0,
             "ticks": ""
            },
            "colorscale": [
             [
              0,
              "#0d0887"
             ],
             [
              0.1111111111111111,
              "#46039f"
             ],
             [
              0.2222222222222222,
              "#7201a8"
             ],
             [
              0.3333333333333333,
              "#9c179e"
             ],
             [
              0.4444444444444444,
              "#bd3786"
             ],
             [
              0.5555555555555556,
              "#d8576b"
             ],
             [
              0.6666666666666666,
              "#ed7953"
             ],
             [
              0.7777777777777778,
              "#fb9f3a"
             ],
             [
              0.8888888888888888,
              "#fdca26"
             ],
             [
              1,
              "#f0f921"
             ]
            ],
            "type": "contour"
           }
          ],
          "contourcarpet": [
           {
            "colorbar": {
             "outlinewidth": 0,
             "ticks": ""
            },
            "type": "contourcarpet"
           }
          ],
          "heatmap": [
           {
            "colorbar": {
             "outlinewidth": 0,
             "ticks": ""
            },
            "colorscale": [
             [
              0,
              "#0d0887"
             ],
             [
              0.1111111111111111,
              "#46039f"
             ],
             [
              0.2222222222222222,
              "#7201a8"
             ],
             [
              0.3333333333333333,
              "#9c179e"
             ],
             [
              0.4444444444444444,
              "#bd3786"
             ],
             [
              0.5555555555555556,
              "#d8576b"
             ],
             [
              0.6666666666666666,
              "#ed7953"
             ],
             [
              0.7777777777777778,
              "#fb9f3a"
             ],
             [
              0.8888888888888888,
              "#fdca26"
             ],
             [
              1,
              "#f0f921"
             ]
            ],
            "type": "heatmap"
           }
          ],
          "heatmapgl": [
           {
            "colorbar": {
             "outlinewidth": 0,
             "ticks": ""
            },
            "colorscale": [
             [
              0,
              "#0d0887"
             ],
             [
              0.1111111111111111,
              "#46039f"
             ],
             [
              0.2222222222222222,
              "#7201a8"
             ],
             [
              0.3333333333333333,
              "#9c179e"
             ],
             [
              0.4444444444444444,
              "#bd3786"
             ],
             [
              0.5555555555555556,
              "#d8576b"
             ],
             [
              0.6666666666666666,
              "#ed7953"
             ],
             [
              0.7777777777777778,
              "#fb9f3a"
             ],
             [
              0.8888888888888888,
              "#fdca26"
             ],
             [
              1,
              "#f0f921"
             ]
            ],
            "type": "heatmapgl"
           }
          ],
          "histogram": [
           {
            "marker": {
             "pattern": {
              "fillmode": "overlay",
              "size": 10,
              "solidity": 0.2
             }
            },
            "type": "histogram"
           }
          ],
          "histogram2d": [
           {
            "colorbar": {
             "outlinewidth": 0,
             "ticks": ""
            },
            "colorscale": [
             [
              0,
              "#0d0887"
             ],
             [
              0.1111111111111111,
              "#46039f"
             ],
             [
              0.2222222222222222,
              "#7201a8"
             ],
             [
              0.3333333333333333,
              "#9c179e"
             ],
             [
              0.4444444444444444,
              "#bd3786"
             ],
             [
              0.5555555555555556,
              "#d8576b"
             ],
             [
              0.6666666666666666,
              "#ed7953"
             ],
             [
              0.7777777777777778,
              "#fb9f3a"
             ],
             [
              0.8888888888888888,
              "#fdca26"
             ],
             [
              1,
              "#f0f921"
             ]
            ],
            "type": "histogram2d"
           }
          ],
          "histogram2dcontour": [
           {
            "colorbar": {
             "outlinewidth": 0,
             "ticks": ""
            },
            "colorscale": [
             [
              0,
              "#0d0887"
             ],
             [
              0.1111111111111111,
              "#46039f"
             ],
             [
              0.2222222222222222,
              "#7201a8"
             ],
             [
              0.3333333333333333,
              "#9c179e"
             ],
             [
              0.4444444444444444,
              "#bd3786"
             ],
             [
              0.5555555555555556,
              "#d8576b"
             ],
             [
              0.6666666666666666,
              "#ed7953"
             ],
             [
              0.7777777777777778,
              "#fb9f3a"
             ],
             [
              0.8888888888888888,
              "#fdca26"
             ],
             [
              1,
              "#f0f921"
             ]
            ],
            "type": "histogram2dcontour"
           }
          ],
          "mesh3d": [
           {
            "colorbar": {
             "outlinewidth": 0,
             "ticks": ""
            },
            "type": "mesh3d"
           }
          ],
          "parcoords": [
           {
            "line": {
             "colorbar": {
              "outlinewidth": 0,
              "ticks": ""
             }
            },
            "type": "parcoords"
           }
          ],
          "pie": [
           {
            "automargin": true,
            "type": "pie"
           }
          ],
          "scatter": [
           {
            "fillpattern": {
             "fillmode": "overlay",
             "size": 10,
             "solidity": 0.2
            },
            "type": "scatter"
           }
          ],
          "scatter3d": [
           {
            "line": {
             "colorbar": {
              "outlinewidth": 0,
              "ticks": ""
             }
            },
            "marker": {
             "colorbar": {
              "outlinewidth": 0,
              "ticks": ""
             }
            },
            "type": "scatter3d"
           }
          ],
          "scattercarpet": [
           {
            "marker": {
             "colorbar": {
              "outlinewidth": 0,
              "ticks": ""
             }
            },
            "type": "scattercarpet"
           }
          ],
          "scattergeo": [
           {
            "marker": {
             "colorbar": {
              "outlinewidth": 0,
              "ticks": ""
             }
            },
            "type": "scattergeo"
           }
          ],
          "scattergl": [
           {
            "marker": {
             "colorbar": {
              "outlinewidth": 0,
              "ticks": ""
             }
            },
            "type": "scattergl"
           }
          ],
          "scattermapbox": [
           {
            "marker": {
             "colorbar": {
              "outlinewidth": 0,
              "ticks": ""
             }
            },
            "type": "scattermapbox"
           }
          ],
          "scatterpolar": [
           {
            "marker": {
             "colorbar": {
              "outlinewidth": 0,
              "ticks": ""
             }
            },
            "type": "scatterpolar"
           }
          ],
          "scatterpolargl": [
           {
            "marker": {
             "colorbar": {
              "outlinewidth": 0,
              "ticks": ""
             }
            },
            "type": "scatterpolargl"
           }
          ],
          "scatterternary": [
           {
            "marker": {
             "colorbar": {
              "outlinewidth": 0,
              "ticks": ""
             }
            },
            "type": "scatterternary"
           }
          ],
          "surface": [
           {
            "colorbar": {
             "outlinewidth": 0,
             "ticks": ""
            },
            "colorscale": [
             [
              0,
              "#0d0887"
             ],
             [
              0.1111111111111111,
              "#46039f"
             ],
             [
              0.2222222222222222,
              "#7201a8"
             ],
             [
              0.3333333333333333,
              "#9c179e"
             ],
             [
              0.4444444444444444,
              "#bd3786"
             ],
             [
              0.5555555555555556,
              "#d8576b"
             ],
             [
              0.6666666666666666,
              "#ed7953"
             ],
             [
              0.7777777777777778,
              "#fb9f3a"
             ],
             [
              0.8888888888888888,
              "#fdca26"
             ],
             [
              1,
              "#f0f921"
             ]
            ],
            "type": "surface"
           }
          ],
          "table": [
           {
            "cells": {
             "fill": {
              "color": "#EBF0F8"
             },
             "line": {
              "color": "white"
             }
            },
            "header": {
             "fill": {
              "color": "#C8D4E3"
             },
             "line": {
              "color": "white"
             }
            },
            "type": "table"
           }
          ]
         },
         "layout": {
          "annotationdefaults": {
           "arrowcolor": "#2a3f5f",
           "arrowhead": 0,
           "arrowwidth": 1
          },
          "autotypenumbers": "strict",
          "coloraxis": {
           "colorbar": {
            "outlinewidth": 0,
            "ticks": ""
           }
          },
          "colorscale": {
           "diverging": [
            [
             0,
             "#8e0152"
            ],
            [
             0.1,
             "#c51b7d"
            ],
            [
             0.2,
             "#de77ae"
            ],
            [
             0.3,
             "#f1b6da"
            ],
            [
             0.4,
             "#fde0ef"
            ],
            [
             0.5,
             "#f7f7f7"
            ],
            [
             0.6,
             "#e6f5d0"
            ],
            [
             0.7,
             "#b8e186"
            ],
            [
             0.8,
             "#7fbc41"
            ],
            [
             0.9,
             "#4d9221"
            ],
            [
             1,
             "#276419"
            ]
           ],
           "sequential": [
            [
             0,
             "#0d0887"
            ],
            [
             0.1111111111111111,
             "#46039f"
            ],
            [
             0.2222222222222222,
             "#7201a8"
            ],
            [
             0.3333333333333333,
             "#9c179e"
            ],
            [
             0.4444444444444444,
             "#bd3786"
            ],
            [
             0.5555555555555556,
             "#d8576b"
            ],
            [
             0.6666666666666666,
             "#ed7953"
            ],
            [
             0.7777777777777778,
             "#fb9f3a"
            ],
            [
             0.8888888888888888,
             "#fdca26"
            ],
            [
             1,
             "#f0f921"
            ]
           ],
           "sequentialminus": [
            [
             0,
             "#0d0887"
            ],
            [
             0.1111111111111111,
             "#46039f"
            ],
            [
             0.2222222222222222,
             "#7201a8"
            ],
            [
             0.3333333333333333,
             "#9c179e"
            ],
            [
             0.4444444444444444,
             "#bd3786"
            ],
            [
             0.5555555555555556,
             "#d8576b"
            ],
            [
             0.6666666666666666,
             "#ed7953"
            ],
            [
             0.7777777777777778,
             "#fb9f3a"
            ],
            [
             0.8888888888888888,
             "#fdca26"
            ],
            [
             1,
             "#f0f921"
            ]
           ]
          },
          "colorway": [
           "#636efa",
           "#EF553B",
           "#00cc96",
           "#ab63fa",
           "#FFA15A",
           "#19d3f3",
           "#FF6692",
           "#B6E880",
           "#FF97FF",
           "#FECB52"
          ],
          "font": {
           "color": "#2a3f5f"
          },
          "geo": {
           "bgcolor": "white",
           "lakecolor": "white",
           "landcolor": "#E5ECF6",
           "showlakes": true,
           "showland": true,
           "subunitcolor": "white"
          },
          "hoverlabel": {
           "align": "left"
          },
          "hovermode": "closest",
          "mapbox": {
           "style": "light"
          },
          "paper_bgcolor": "white",
          "plot_bgcolor": "#E5ECF6",
          "polar": {
           "angularaxis": {
            "gridcolor": "white",
            "linecolor": "white",
            "ticks": ""
           },
           "bgcolor": "#E5ECF6",
           "radialaxis": {
            "gridcolor": "white",
            "linecolor": "white",
            "ticks": ""
           }
          },
          "scene": {
           "xaxis": {
            "backgroundcolor": "#E5ECF6",
            "gridcolor": "white",
            "gridwidth": 2,
            "linecolor": "white",
            "showbackground": true,
            "ticks": "",
            "zerolinecolor": "white"
           },
           "yaxis": {
            "backgroundcolor": "#E5ECF6",
            "gridcolor": "white",
            "gridwidth": 2,
            "linecolor": "white",
            "showbackground": true,
            "ticks": "",
            "zerolinecolor": "white"
           },
           "zaxis": {
            "backgroundcolor": "#E5ECF6",
            "gridcolor": "white",
            "gridwidth": 2,
            "linecolor": "white",
            "showbackground": true,
            "ticks": "",
            "zerolinecolor": "white"
           }
          },
          "shapedefaults": {
           "line": {
            "color": "#2a3f5f"
           }
          },
          "ternary": {
           "aaxis": {
            "gridcolor": "white",
            "linecolor": "white",
            "ticks": ""
           },
           "baxis": {
            "gridcolor": "white",
            "linecolor": "white",
            "ticks": ""
           },
           "bgcolor": "#E5ECF6",
           "caxis": {
            "gridcolor": "white",
            "linecolor": "white",
            "ticks": ""
           }
          },
          "title": {
           "x": 0.05
          },
          "xaxis": {
           "automargin": true,
           "gridcolor": "white",
           "linecolor": "white",
           "ticks": "",
           "title": {
            "standoff": 15
           },
           "zerolinecolor": "white",
           "zerolinewidth": 2
          },
          "yaxis": {
           "automargin": true,
           "gridcolor": "white",
           "linecolor": "white",
           "ticks": "",
           "title": {
            "standoff": 15
           },
           "zerolinecolor": "white",
           "zerolinewidth": 2
          }
         }
        },
        "title": {
         "text": "3D Diagram der Cocktails"
        }
       }
      }
     },
     "metadata": {},
     "output_type": "display_data"
    }
   ],
   "source": [
    "# Ingredients 100 ml vodka, 100 ml rum, 100 ml tomato juice\n",
    "zutaten_3 = np.array([1, 1, 1])\n",
    "\n",
    "# Rezepte (in ml)\n",
    "\n",
    "bloody_mary_rezept = np.array([20, 0, 80])\n",
    "rum_pure_rezept = np.array([0, 50, 0])\n",
    "crazy_rezept = np.array([40, 40, 20])\n",
    "\n",
    "alle_rezepte = np.stack([\n",
    "    bloody_mary_rezept,\n",
    "    rum_pure_rezept,\n",
    "    crazy_rezept\n",
    "])\n",
    "\n",
    "rezept_namen = [\n",
    "    \"Bloody Mary Rezept\",\n",
    "    \"Rum Pure Rezept\",\n",
    "    \"Crazy Cocktail Rezept\"\n",
    "]\n",
    "\n",
    "cocktail_colors = [\n",
    "    \"firebrick\",\n",
    "    \"steelblue\",\n",
    "    \"orange\"\n",
    "]\n",
    "\n",
    "# Create a 3D scatter plot with plotly showing the rows of all_cocktails as vectors \n",
    "\n",
    "fig = go.Figure()\n",
    "\n",
    "# Add each cocktail as a vector\n",
    "for i, cocktail in enumerate(alle_rezepte):\n",
    "    fig.add_trace(go.Scatter3d(\n",
    "        x=[0, cocktail[0]],  # Start at origin (0, 0, 0)\n",
    "        y=[0, cocktail[1]],\n",
    "        z=[0, cocktail[2]],\n",
    "        mode='lines+markers',\n",
    "        name=rezept_namen[i],\n",
    "        line=dict(color=cocktail_colors[i], width=5),\n",
    "        marker=dict(size=5)\n",
    "    ))\n",
    "\n",
    "# Set plot layout\n",
    "fig.update_layout(\n",
    "    title=\"3D Diagram der Cocktails\",\n",
    "    scene=dict(\n",
    "        xaxis=dict(\n",
    "            title=\"Vodka\",\n",
    "            range=[0, 1]\n",
    "        ),\n",
    "        yaxis=dict(\n",
    "            title=\"Rum\",\n",
    "            range=[0, 1]\n",
    "        ),\n",
    "        zaxis=dict(\n",
    "            title=\"Tomatensaft\",\n",
    "            range=[0, 1]\n",
    "        )\n",
    "    )\n",
    ")\n",
    "\n",
    "# Show the plot\n",
    "fig.show()"
   ]
  },
  {
   "cell_type": "markdown",
   "id": "3313b443",
   "metadata": {},
   "source": [
    "## Modifikation von Rezepten\n"
   ]
  },
  {
   "cell_type": "code",
   "execution_count": null,
   "id": "96613d91",
   "metadata": {},
   "outputs": [],
   "source": [
    "\n",
    "# Nimm die Zutaten, erhöhe die erste Zutat (Vodka) um 20 Prozent, ignoriere alle anderen Zutaten\n",
    "nimm_den_vodka_verdoppele_ihn_und_ignoriere_den_rest = np.array([2, 0, 0])\n",
    "\n",
    "# Nimm die zweite Zutat (Rum), verändere die Menge nicht, ignoriere alle anderen Zutaten\n",
    "nimm_nur_den_rum_so_wie_er_ist = np.array([0, 1, 0])\n",
    "\n",
    "# Nimm die dritte Zutat (Tomato Juice), verändere die Menge nicht, ignoriere alle anderen Zutaten\n",
    "nimm_den_tomatensaft_so_wie_er_ist = np.array([0, 0, 1])"
   ]
  },
  {
   "cell_type": "code",
   "execution_count": null,
   "id": "1b8b3f36",
   "metadata": {},
   "outputs": [
    {
     "data": {
      "text/plain": [
       "array([[2, 0, 0],\n",
       "       [0, 1, 0],\n",
       "       [0, 0, 1]])"
      ]
     },
     "metadata": {},
     "output_type": "display_data"
    }
   ],
   "source": [
    "verdoppele_den_vodka_im_rezept = np.stack([\n",
    "    nimm_den_vodka_verdoppele_ihn_und_ignoriere_den_rest,\n",
    "    nimm_nur_den_rum_so_wie_er_ist,\n",
    "    nimm_den_tomatensaft_so_wie_er_ist\n",
    "])\n",
    "\n",
    "verdoppele_den_vodka_im_rezept"
   ]
  },
  {
   "cell_type": "code",
   "execution_count": null,
   "id": "de845f1b",
   "metadata": {},
   "outputs": [
    {
     "name": "stdout",
     "output_type": "stream",
     "text": [
      "[[0.3 0.  0.6]\n",
      " [0.  0.4 0. ]\n",
      " [0.4 0.4 0.3]]\n"
     ]
    },
    {
     "data": {
      "text/plain": [
       "array([[0.6, 0. , 0.6],\n",
       "       [0. , 0.4, 0. ],\n",
       "       [0.8, 0.4, 0.3]])"
      ]
     },
     "metadata": {},
     "output_type": "display_data"
    }
   ],
   "source": [
    "modifizierte_rezepte = verdoppele_den_vodka_im_rezept @ alle_rezepte.T\n",
    "print(alle_rezepte)\n",
    "modifizierte_rezepte.T"
   ]
  },
  {
   "cell_type": "code",
   "execution_count": null,
   "id": "db8120c6",
   "metadata": {},
   "outputs": [
    {
     "data": {
      "application/vnd.plotly.v1+json": {
       "config": {
        "plotlyServerURL": "https://plot.ly"
       },
       "data": [
        {
         "line": {
          "color": "firebrick",
          "width": 5
         },
         "marker": {
          "size": 5
         },
         "mode": "lines+markers",
         "name": "Bloody Mary Rezept",
         "type": "scatter3d",
         "x": [
          0,
          0.3
         ],
         "y": [
          0,
          0
         ],
         "z": [
          0,
          0.6
         ]
        },
        {
         "line": {
          "color": "steelblue",
          "width": 5
         },
         "marker": {
          "size": 5
         },
         "mode": "lines+markers",
         "name": "Rum Pure Rezept",
         "type": "scatter3d",
         "x": [
          0,
          0
         ],
         "y": [
          0,
          0.4
         ],
         "z": [
          0,
          0
         ]
        },
        {
         "line": {
          "color": "orange",
          "width": 5
         },
         "marker": {
          "size": 5
         },
         "mode": "lines+markers",
         "name": "Crazy Cocktail Rezept",
         "type": "scatter3d",
         "x": [
          0,
          0.4
         ],
         "y": [
          0,
          0.4
         ],
         "z": [
          0,
          0.3
         ]
        },
        {
         "line": {
          "color": "firebrick",
          "dash": "dash",
          "width": 5
         },
         "marker": {
          "size": 5
         },
         "mode": "lines+markers",
         "name": "Bloody Mary Rezept modifiziert",
         "type": "scatter3d",
         "x": [
          0,
          0.6
         ],
         "y": [
          0,
          0
         ],
         "z": [
          0,
          0.6
         ]
        },
        {
         "line": {
          "color": "steelblue",
          "dash": "dash",
          "width": 5
         },
         "marker": {
          "size": 5
         },
         "mode": "lines+markers",
         "name": "Rum Pure Rezept modifiziert",
         "type": "scatter3d",
         "x": [
          0,
          0
         ],
         "y": [
          0,
          0.4
         ],
         "z": [
          0,
          0
         ]
        },
        {
         "line": {
          "color": "orange",
          "dash": "dash",
          "width": 5
         },
         "marker": {
          "size": 5
         },
         "mode": "lines+markers",
         "name": "Crazy Cocktail Rezept modifiziert",
         "type": "scatter3d",
         "x": [
          0,
          0.8
         ],
         "y": [
          0,
          0.4
         ],
         "z": [
          0,
          0.3
         ]
        }
       ],
       "layout": {
        "scene": {
         "xaxis": {
          "range": [
           0,
           1
          ],
          "title": {
           "text": "Vodka"
          }
         },
         "yaxis": {
          "range": [
           0,
           1
          ],
          "title": {
           "text": "Rum"
          }
         },
         "zaxis": {
          "range": [
           0,
           1
          ],
          "title": {
           "text": "Tomatensaft"
          }
         }
        },
        "template": {
         "data": {
          "bar": [
           {
            "error_x": {
             "color": "#2a3f5f"
            },
            "error_y": {
             "color": "#2a3f5f"
            },
            "marker": {
             "line": {
              "color": "#E5ECF6",
              "width": 0.5
             },
             "pattern": {
              "fillmode": "overlay",
              "size": 10,
              "solidity": 0.2
             }
            },
            "type": "bar"
           }
          ],
          "barpolar": [
           {
            "marker": {
             "line": {
              "color": "#E5ECF6",
              "width": 0.5
             },
             "pattern": {
              "fillmode": "overlay",
              "size": 10,
              "solidity": 0.2
             }
            },
            "type": "barpolar"
           }
          ],
          "carpet": [
           {
            "aaxis": {
             "endlinecolor": "#2a3f5f",
             "gridcolor": "white",
             "linecolor": "white",
             "minorgridcolor": "white",
             "startlinecolor": "#2a3f5f"
            },
            "baxis": {
             "endlinecolor": "#2a3f5f",
             "gridcolor": "white",
             "linecolor": "white",
             "minorgridcolor": "white",
             "startlinecolor": "#2a3f5f"
            },
            "type": "carpet"
           }
          ],
          "choropleth": [
           {
            "colorbar": {
             "outlinewidth": 0,
             "ticks": ""
            },
            "type": "choropleth"
           }
          ],
          "contour": [
           {
            "colorbar": {
             "outlinewidth": 0,
             "ticks": ""
            },
            "colorscale": [
             [
              0,
              "#0d0887"
             ],
             [
              0.1111111111111111,
              "#46039f"
             ],
             [
              0.2222222222222222,
              "#7201a8"
             ],
             [
              0.3333333333333333,
              "#9c179e"
             ],
             [
              0.4444444444444444,
              "#bd3786"
             ],
             [
              0.5555555555555556,
              "#d8576b"
             ],
             [
              0.6666666666666666,
              "#ed7953"
             ],
             [
              0.7777777777777778,
              "#fb9f3a"
             ],
             [
              0.8888888888888888,
              "#fdca26"
             ],
             [
              1,
              "#f0f921"
             ]
            ],
            "type": "contour"
           }
          ],
          "contourcarpet": [
           {
            "colorbar": {
             "outlinewidth": 0,
             "ticks": ""
            },
            "type": "contourcarpet"
           }
          ],
          "heatmap": [
           {
            "colorbar": {
             "outlinewidth": 0,
             "ticks": ""
            },
            "colorscale": [
             [
              0,
              "#0d0887"
             ],
             [
              0.1111111111111111,
              "#46039f"
             ],
             [
              0.2222222222222222,
              "#7201a8"
             ],
             [
              0.3333333333333333,
              "#9c179e"
             ],
             [
              0.4444444444444444,
              "#bd3786"
             ],
             [
              0.5555555555555556,
              "#d8576b"
             ],
             [
              0.6666666666666666,
              "#ed7953"
             ],
             [
              0.7777777777777778,
              "#fb9f3a"
             ],
             [
              0.8888888888888888,
              "#fdca26"
             ],
             [
              1,
              "#f0f921"
             ]
            ],
            "type": "heatmap"
           }
          ],
          "heatmapgl": [
           {
            "colorbar": {
             "outlinewidth": 0,
             "ticks": ""
            },
            "colorscale": [
             [
              0,
              "#0d0887"
             ],
             [
              0.1111111111111111,
              "#46039f"
             ],
             [
              0.2222222222222222,
              "#7201a8"
             ],
             [
              0.3333333333333333,
              "#9c179e"
             ],
             [
              0.4444444444444444,
              "#bd3786"
             ],
             [
              0.5555555555555556,
              "#d8576b"
             ],
             [
              0.6666666666666666,
              "#ed7953"
             ],
             [
              0.7777777777777778,
              "#fb9f3a"
             ],
             [
              0.8888888888888888,
              "#fdca26"
             ],
             [
              1,
              "#f0f921"
             ]
            ],
            "type": "heatmapgl"
           }
          ],
          "histogram": [
           {
            "marker": {
             "pattern": {
              "fillmode": "overlay",
              "size": 10,
              "solidity": 0.2
             }
            },
            "type": "histogram"
           }
          ],
          "histogram2d": [
           {
            "colorbar": {
             "outlinewidth": 0,
             "ticks": ""
            },
            "colorscale": [
             [
              0,
              "#0d0887"
             ],
             [
              0.1111111111111111,
              "#46039f"
             ],
             [
              0.2222222222222222,
              "#7201a8"
             ],
             [
              0.3333333333333333,
              "#9c179e"
             ],
             [
              0.4444444444444444,
              "#bd3786"
             ],
             [
              0.5555555555555556,
              "#d8576b"
             ],
             [
              0.6666666666666666,
              "#ed7953"
             ],
             [
              0.7777777777777778,
              "#fb9f3a"
             ],
             [
              0.8888888888888888,
              "#fdca26"
             ],
             [
              1,
              "#f0f921"
             ]
            ],
            "type": "histogram2d"
           }
          ],
          "histogram2dcontour": [
           {
            "colorbar": {
             "outlinewidth": 0,
             "ticks": ""
            },
            "colorscale": [
             [
              0,
              "#0d0887"
             ],
             [
              0.1111111111111111,
              "#46039f"
             ],
             [
              0.2222222222222222,
              "#7201a8"
             ],
             [
              0.3333333333333333,
              "#9c179e"
             ],
             [
              0.4444444444444444,
              "#bd3786"
             ],
             [
              0.5555555555555556,
              "#d8576b"
             ],
             [
              0.6666666666666666,
              "#ed7953"
             ],
             [
              0.7777777777777778,
              "#fb9f3a"
             ],
             [
              0.8888888888888888,
              "#fdca26"
             ],
             [
              1,
              "#f0f921"
             ]
            ],
            "type": "histogram2dcontour"
           }
          ],
          "mesh3d": [
           {
            "colorbar": {
             "outlinewidth": 0,
             "ticks": ""
            },
            "type": "mesh3d"
           }
          ],
          "parcoords": [
           {
            "line": {
             "colorbar": {
              "outlinewidth": 0,
              "ticks": ""
             }
            },
            "type": "parcoords"
           }
          ],
          "pie": [
           {
            "automargin": true,
            "type": "pie"
           }
          ],
          "scatter": [
           {
            "fillpattern": {
             "fillmode": "overlay",
             "size": 10,
             "solidity": 0.2
            },
            "type": "scatter"
           }
          ],
          "scatter3d": [
           {
            "line": {
             "colorbar": {
              "outlinewidth": 0,
              "ticks": ""
             }
            },
            "marker": {
             "colorbar": {
              "outlinewidth": 0,
              "ticks": ""
             }
            },
            "type": "scatter3d"
           }
          ],
          "scattercarpet": [
           {
            "marker": {
             "colorbar": {
              "outlinewidth": 0,
              "ticks": ""
             }
            },
            "type": "scattercarpet"
           }
          ],
          "scattergeo": [
           {
            "marker": {
             "colorbar": {
              "outlinewidth": 0,
              "ticks": ""
             }
            },
            "type": "scattergeo"
           }
          ],
          "scattergl": [
           {
            "marker": {
             "colorbar": {
              "outlinewidth": 0,
              "ticks": ""
             }
            },
            "type": "scattergl"
           }
          ],
          "scattermapbox": [
           {
            "marker": {
             "colorbar": {
              "outlinewidth": 0,
              "ticks": ""
             }
            },
            "type": "scattermapbox"
           }
          ],
          "scatterpolar": [
           {
            "marker": {
             "colorbar": {
              "outlinewidth": 0,
              "ticks": ""
             }
            },
            "type": "scatterpolar"
           }
          ],
          "scatterpolargl": [
           {
            "marker": {
             "colorbar": {
              "outlinewidth": 0,
              "ticks": ""
             }
            },
            "type": "scatterpolargl"
           }
          ],
          "scatterternary": [
           {
            "marker": {
             "colorbar": {
              "outlinewidth": 0,
              "ticks": ""
             }
            },
            "type": "scatterternary"
           }
          ],
          "surface": [
           {
            "colorbar": {
             "outlinewidth": 0,
             "ticks": ""
            },
            "colorscale": [
             [
              0,
              "#0d0887"
             ],
             [
              0.1111111111111111,
              "#46039f"
             ],
             [
              0.2222222222222222,
              "#7201a8"
             ],
             [
              0.3333333333333333,
              "#9c179e"
             ],
             [
              0.4444444444444444,
              "#bd3786"
             ],
             [
              0.5555555555555556,
              "#d8576b"
             ],
             [
              0.6666666666666666,
              "#ed7953"
             ],
             [
              0.7777777777777778,
              "#fb9f3a"
             ],
             [
              0.8888888888888888,
              "#fdca26"
             ],
             [
              1,
              "#f0f921"
             ]
            ],
            "type": "surface"
           }
          ],
          "table": [
           {
            "cells": {
             "fill": {
              "color": "#EBF0F8"
             },
             "line": {
              "color": "white"
             }
            },
            "header": {
             "fill": {
              "color": "#C8D4E3"
             },
             "line": {
              "color": "white"
             }
            },
            "type": "table"
           }
          ]
         },
         "layout": {
          "annotationdefaults": {
           "arrowcolor": "#2a3f5f",
           "arrowhead": 0,
           "arrowwidth": 1
          },
          "autotypenumbers": "strict",
          "coloraxis": {
           "colorbar": {
            "outlinewidth": 0,
            "ticks": ""
           }
          },
          "colorscale": {
           "diverging": [
            [
             0,
             "#8e0152"
            ],
            [
             0.1,
             "#c51b7d"
            ],
            [
             0.2,
             "#de77ae"
            ],
            [
             0.3,
             "#f1b6da"
            ],
            [
             0.4,
             "#fde0ef"
            ],
            [
             0.5,
             "#f7f7f7"
            ],
            [
             0.6,
             "#e6f5d0"
            ],
            [
             0.7,
             "#b8e186"
            ],
            [
             0.8,
             "#7fbc41"
            ],
            [
             0.9,
             "#4d9221"
            ],
            [
             1,
             "#276419"
            ]
           ],
           "sequential": [
            [
             0,
             "#0d0887"
            ],
            [
             0.1111111111111111,
             "#46039f"
            ],
            [
             0.2222222222222222,
             "#7201a8"
            ],
            [
             0.3333333333333333,
             "#9c179e"
            ],
            [
             0.4444444444444444,
             "#bd3786"
            ],
            [
             0.5555555555555556,
             "#d8576b"
            ],
            [
             0.6666666666666666,
             "#ed7953"
            ],
            [
             0.7777777777777778,
             "#fb9f3a"
            ],
            [
             0.8888888888888888,
             "#fdca26"
            ],
            [
             1,
             "#f0f921"
            ]
           ],
           "sequentialminus": [
            [
             0,
             "#0d0887"
            ],
            [
             0.1111111111111111,
             "#46039f"
            ],
            [
             0.2222222222222222,
             "#7201a8"
            ],
            [
             0.3333333333333333,
             "#9c179e"
            ],
            [
             0.4444444444444444,
             "#bd3786"
            ],
            [
             0.5555555555555556,
             "#d8576b"
            ],
            [
             0.6666666666666666,
             "#ed7953"
            ],
            [
             0.7777777777777778,
             "#fb9f3a"
            ],
            [
             0.8888888888888888,
             "#fdca26"
            ],
            [
             1,
             "#f0f921"
            ]
           ]
          },
          "colorway": [
           "#636efa",
           "#EF553B",
           "#00cc96",
           "#ab63fa",
           "#FFA15A",
           "#19d3f3",
           "#FF6692",
           "#B6E880",
           "#FF97FF",
           "#FECB52"
          ],
          "font": {
           "color": "#2a3f5f"
          },
          "geo": {
           "bgcolor": "white",
           "lakecolor": "white",
           "landcolor": "#E5ECF6",
           "showlakes": true,
           "showland": true,
           "subunitcolor": "white"
          },
          "hoverlabel": {
           "align": "left"
          },
          "hovermode": "closest",
          "mapbox": {
           "style": "light"
          },
          "paper_bgcolor": "white",
          "plot_bgcolor": "#E5ECF6",
          "polar": {
           "angularaxis": {
            "gridcolor": "white",
            "linecolor": "white",
            "ticks": ""
           },
           "bgcolor": "#E5ECF6",
           "radialaxis": {
            "gridcolor": "white",
            "linecolor": "white",
            "ticks": ""
           }
          },
          "scene": {
           "xaxis": {
            "backgroundcolor": "#E5ECF6",
            "gridcolor": "white",
            "gridwidth": 2,
            "linecolor": "white",
            "showbackground": true,
            "ticks": "",
            "zerolinecolor": "white"
           },
           "yaxis": {
            "backgroundcolor": "#E5ECF6",
            "gridcolor": "white",
            "gridwidth": 2,
            "linecolor": "white",
            "showbackground": true,
            "ticks": "",
            "zerolinecolor": "white"
           },
           "zaxis": {
            "backgroundcolor": "#E5ECF6",
            "gridcolor": "white",
            "gridwidth": 2,
            "linecolor": "white",
            "showbackground": true,
            "ticks": "",
            "zerolinecolor": "white"
           }
          },
          "shapedefaults": {
           "line": {
            "color": "#2a3f5f"
           }
          },
          "ternary": {
           "aaxis": {
            "gridcolor": "white",
            "linecolor": "white",
            "ticks": ""
           },
           "baxis": {
            "gridcolor": "white",
            "linecolor": "white",
            "ticks": ""
           },
           "bgcolor": "#E5ECF6",
           "caxis": {
            "gridcolor": "white",
            "linecolor": "white",
            "ticks": ""
           }
          },
          "title": {
           "x": 0.05
          },
          "xaxis": {
           "automargin": true,
           "gridcolor": "white",
           "linecolor": "white",
           "ticks": "",
           "title": {
            "standoff": 15
           },
           "zerolinecolor": "white",
           "zerolinewidth": 2
          },
          "yaxis": {
           "automargin": true,
           "gridcolor": "white",
           "linecolor": "white",
           "ticks": "",
           "title": {
            "standoff": 15
           },
           "zerolinecolor": "white",
           "zerolinewidth": 2
          }
         }
        },
        "title": {
         "text": "3D Diagram der Cocktails: die originalen Rezepte und die modifizierten Rezepte"
        }
       }
      }
     },
     "metadata": {},
     "output_type": "display_data"
    }
   ],
   "source": [
    "# Create a 3D scatter plot with plotly showing the rows of all_cocktails as vectors \n",
    "\n",
    "# Add each cocktail as a vector\n",
    "for i, cocktail in enumerate(modifizierte_rezepte.T):\n",
    "    fig.add_trace(go.Scatter3d(\n",
    "        x=[0, cocktail[0]],  # Start at origin (0, 0, 0)\n",
    "        y=[0, cocktail[1]],\n",
    "        z=[0, cocktail[2]],\n",
    "        mode='lines+markers',\n",
    "        name=f\"{rezept_namen[i]} modifiziert\",\n",
    "        line=dict(color=cocktail_colors[i], width=5, dash='dash'),\n",
    "        marker=dict(size=5)\n",
    "    ))\n",
    "\n",
    "fig.update_layout(\n",
    "    title = \"3D Diagram der Cocktails: die originalen Rezepte und die modifizierten Rezepte\",\n",
    ")\n",
    "# Show the plot\n",
    "fig.show()"
   ]
  },
  {
   "cell_type": "code",
   "execution_count": null,
   "id": "c882eaf4",
   "metadata": {},
   "outputs": [
    {
     "data": {
      "text/plain": [
       "array([0.6, 0. , 0.6])"
      ]
     },
     "metadata": {},
     "output_type": "display_data"
    }
   ],
   "source": [
    "bloody_mary_mit_doppelt_vodka_rezept = verdoppele_den_vodka_im_rezept @ bloody_mary_rezept\n",
    "bloody_mary_mit_doppelt_vodka_rezept"
   ]
  },
  {
   "cell_type": "code",
   "execution_count": null,
   "id": "acc686f7",
   "metadata": {},
   "outputs": [
    {
     "data": {
      "text/plain": [
       "array([0.8, 0.4, 0.3])"
      ]
     },
     "metadata": {},
     "output_type": "display_data"
    }
   ],
   "source": [
    "crazy_mit_doppelt_vodka_rezept = crazy_rezept @ verdoppele_den_vodka_im_rezept\n",
    "crazy_mit_doppelt_vodka_rezept"
   ]
  },
  {
   "cell_type": "code",
   "execution_count": null,
   "id": "b41eff3c",
   "metadata": {},
   "outputs": [
    {
     "data": {
      "text/plain": [
       "array([[0, 0, 1],\n",
       "       [0, 1, 0],\n",
       "       [1, 0, 0]])"
      ]
     },
     "metadata": {},
     "output_type": "display_data"
    }
   ],
   "source": [
    "switch_vodka_and_tomato = np.array([\n",
    "    [0, 0, 1],\n",
    "    [0, 1, 0],\n",
    "    [1, 0, 0]\n",
    "])\n",
    "switch_vodka_and_tomato"
   ]
  }
 ],
 "metadata": {
  "kernelspec": {
   "display_name": "Python 3",
   "language": "python",
   "name": "python3"
  },
  "language_info": {
   "codemirror_mode": {
    "name": "ipython",
    "version": 3
   },
   "file_extension": ".py",
   "mimetype": "text/x-python",
   "name": "python",
   "nbconvert_exporter": "python",
   "pygments_lexer": "ipython3",
   "version": "3.11.11"
  }
 },
 "nbformat": 4,
 "nbformat_minor": 5
}
