{
 "cells": [
  {
   "cell_type": "markdown",
   "id": "68d41136",
   "metadata": {},
   "source": [
    "# Cocktails (Übung)\n",
    "\n",
    "- [Recipes (shared)](https://febunisofia-my.sharepoint.com/:x:/g/personal/amarov_feb_uni-sofia_bg/EUhPq44ZYlBEoP9hs0mxvNwBtUDlucZSIMeZsdWZZFoWmQ?e=PehWdg)\n",
    "- [Recipes](https://github.com/febse/data/raw/refs/heads/main/opt/Recipes.xlsx)"
   ]
  },
  {
   "cell_type": "code",
   "execution_count": 27,
   "id": "1fa06850",
   "metadata": {},
   "outputs": [
    {
     "name": "stdout",
     "output_type": "stream",
     "text": [
      "Requirement already satisfied: plotly in c:\\users\\boyko\\.conda\\envs\\opt2025-de\\lib\\site-packages (5.24.1)\n",
      "Requirement already satisfied: sympy in c:\\users\\boyko\\.conda\\envs\\opt2025-de\\lib\\site-packages (1.13.3)\n",
      "Requirement already satisfied: tenacity>=6.2.0 in c:\\users\\boyko\\.conda\\envs\\opt2025-de\\lib\\site-packages (from plotly) (9.0.0)\n",
      "Requirement already satisfied: packaging in c:\\users\\boyko\\.conda\\envs\\opt2025-de\\lib\\site-packages (from plotly) (24.2)\n",
      "Requirement already satisfied: mpmath<1.4,>=1.1.0 in c:\\users\\boyko\\.conda\\envs\\opt2025-de\\lib\\site-packages (from sympy) (1.3.0)\n",
      "Note: you may need to restart the kernel to use updated packages.\n"
     ]
    }
   ],
   "source": [
    "%pip install plotly sympy\n",
    "\n",
    "import numpy as np\n",
    "import plotly.graph_objects as go\n"
   ]
  },
  {
   "cell_type": "markdown",
   "id": "a1912182",
   "metadata": {},
   "source": [
    "# Excel Beispiele\n"
   ]
  },
  {
   "cell_type": "markdown",
   "id": "aeed743c",
   "metadata": {},
   "source": [
    "# Einfachere Cocktails\n"
   ]
  },
  {
   "cell_type": "code",
   "execution_count": 28,
   "id": "440ef061",
   "metadata": {},
   "outputs": [
    {
     "data": {
      "application/vnd.plotly.v1+json": {
       "config": {
        "plotlyServerURL": "https://plot.ly"
       },
       "data": [
        {
         "line": {
          "color": "red",
          "width": 5
         },
         "marker": {
          "size": 5
         },
         "mode": "lines+markers",
         "name": "Bloody Mary Recipe",
         "type": "scatter3d",
         "x": [
          0,
          0.2
         ],
         "y": [
          0,
          0
         ],
         "z": [
          0,
          0.6
         ]
        },
        {
         "line": {
          "color": "steelblue",
          "width": 5
         },
         "marker": {
          "size": 5
         },
         "mode": "lines+markers",
         "name": "Rum Pure Recipe",
         "type": "scatter3d",
         "x": [
          0,
          0
         ],
         "y": [
          0,
          0.3
         ],
         "z": [
          0,
          0
         ]
        },
        {
         "line": {
          "color": "firebrick",
          "width": 5
         },
         "marker": {
          "size": 5
         },
         "mode": "lines+markers",
         "name": "Crazy Cocktail Recipe",
         "type": "scatter3d",
         "x": [
          0,
          0.1
         ],
         "y": [
          0,
          0.2
         ],
         "z": [
          0,
          0.7
         ]
        }
       ],
       "layout": {
        "scene": {
         "xaxis": {
          "title": {
           "text": "Vodka"
          }
         },
         "yaxis": {
          "title": {
           "text": "Rum"
          }
         },
         "zaxis": {
          "title": {
           "text": "Tomatensaft"
          }
         }
        },
        "template": {
         "data": {
          "bar": [
           {
            "error_x": {
             "color": "#2a3f5f"
            },
            "error_y": {
             "color": "#2a3f5f"
            },
            "marker": {
             "line": {
              "color": "#E5ECF6",
              "width": 0.5
             },
             "pattern": {
              "fillmode": "overlay",
              "size": 10,
              "solidity": 0.2
             }
            },
            "type": "bar"
           }
          ],
          "barpolar": [
           {
            "marker": {
             "line": {
              "color": "#E5ECF6",
              "width": 0.5
             },
             "pattern": {
              "fillmode": "overlay",
              "size": 10,
              "solidity": 0.2
             }
            },
            "type": "barpolar"
           }
          ],
          "carpet": [
           {
            "aaxis": {
             "endlinecolor": "#2a3f5f",
             "gridcolor": "white",
             "linecolor": "white",
             "minorgridcolor": "white",
             "startlinecolor": "#2a3f5f"
            },
            "baxis": {
             "endlinecolor": "#2a3f5f",
             "gridcolor": "white",
             "linecolor": "white",
             "minorgridcolor": "white",
             "startlinecolor": "#2a3f5f"
            },
            "type": "carpet"
           }
          ],
          "choropleth": [
           {
            "colorbar": {
             "outlinewidth": 0,
             "ticks": ""
            },
            "type": "choropleth"
           }
          ],
          "contour": [
           {
            "colorbar": {
             "outlinewidth": 0,
             "ticks": ""
            },
            "colorscale": [
             [
              0,
              "#0d0887"
             ],
             [
              0.1111111111111111,
              "#46039f"
             ],
             [
              0.2222222222222222,
              "#7201a8"
             ],
             [
              0.3333333333333333,
              "#9c179e"
             ],
             [
              0.4444444444444444,
              "#bd3786"
             ],
             [
              0.5555555555555556,
              "#d8576b"
             ],
             [
              0.6666666666666666,
              "#ed7953"
             ],
             [
              0.7777777777777778,
              "#fb9f3a"
             ],
             [
              0.8888888888888888,
              "#fdca26"
             ],
             [
              1,
              "#f0f921"
             ]
            ],
            "type": "contour"
           }
          ],
          "contourcarpet": [
           {
            "colorbar": {
             "outlinewidth": 0,
             "ticks": ""
            },
            "type": "contourcarpet"
           }
          ],
          "heatmap": [
           {
            "colorbar": {
             "outlinewidth": 0,
             "ticks": ""
            },
            "colorscale": [
             [
              0,
              "#0d0887"
             ],
             [
              0.1111111111111111,
              "#46039f"
             ],
             [
              0.2222222222222222,
              "#7201a8"
             ],
             [
              0.3333333333333333,
              "#9c179e"
             ],
             [
              0.4444444444444444,
              "#bd3786"
             ],
             [
              0.5555555555555556,
              "#d8576b"
             ],
             [
              0.6666666666666666,
              "#ed7953"
             ],
             [
              0.7777777777777778,
              "#fb9f3a"
             ],
             [
              0.8888888888888888,
              "#fdca26"
             ],
             [
              1,
              "#f0f921"
             ]
            ],
            "type": "heatmap"
           }
          ],
          "heatmapgl": [
           {
            "colorbar": {
             "outlinewidth": 0,
             "ticks": ""
            },
            "colorscale": [
             [
              0,
              "#0d0887"
             ],
             [
              0.1111111111111111,
              "#46039f"
             ],
             [
              0.2222222222222222,
              "#7201a8"
             ],
             [
              0.3333333333333333,
              "#9c179e"
             ],
             [
              0.4444444444444444,
              "#bd3786"
             ],
             [
              0.5555555555555556,
              "#d8576b"
             ],
             [
              0.6666666666666666,
              "#ed7953"
             ],
             [
              0.7777777777777778,
              "#fb9f3a"
             ],
             [
              0.8888888888888888,
              "#fdca26"
             ],
             [
              1,
              "#f0f921"
             ]
            ],
            "type": "heatmapgl"
           }
          ],
          "histogram": [
           {
            "marker": {
             "pattern": {
              "fillmode": "overlay",
              "size": 10,
              "solidity": 0.2
             }
            },
            "type": "histogram"
           }
          ],
          "histogram2d": [
           {
            "colorbar": {
             "outlinewidth": 0,
             "ticks": ""
            },
            "colorscale": [
             [
              0,
              "#0d0887"
             ],
             [
              0.1111111111111111,
              "#46039f"
             ],
             [
              0.2222222222222222,
              "#7201a8"
             ],
             [
              0.3333333333333333,
              "#9c179e"
             ],
             [
              0.4444444444444444,
              "#bd3786"
             ],
             [
              0.5555555555555556,
              "#d8576b"
             ],
             [
              0.6666666666666666,
              "#ed7953"
             ],
             [
              0.7777777777777778,
              "#fb9f3a"
             ],
             [
              0.8888888888888888,
              "#fdca26"
             ],
             [
              1,
              "#f0f921"
             ]
            ],
            "type": "histogram2d"
           }
          ],
          "histogram2dcontour": [
           {
            "colorbar": {
             "outlinewidth": 0,
             "ticks": ""
            },
            "colorscale": [
             [
              0,
              "#0d0887"
             ],
             [
              0.1111111111111111,
              "#46039f"
             ],
             [
              0.2222222222222222,
              "#7201a8"
             ],
             [
              0.3333333333333333,
              "#9c179e"
             ],
             [
              0.4444444444444444,
              "#bd3786"
             ],
             [
              0.5555555555555556,
              "#d8576b"
             ],
             [
              0.6666666666666666,
              "#ed7953"
             ],
             [
              0.7777777777777778,
              "#fb9f3a"
             ],
             [
              0.8888888888888888,
              "#fdca26"
             ],
             [
              1,
              "#f0f921"
             ]
            ],
            "type": "histogram2dcontour"
           }
          ],
          "mesh3d": [
           {
            "colorbar": {
             "outlinewidth": 0,
             "ticks": ""
            },
            "type": "mesh3d"
           }
          ],
          "parcoords": [
           {
            "line": {
             "colorbar": {
              "outlinewidth": 0,
              "ticks": ""
             }
            },
            "type": "parcoords"
           }
          ],
          "pie": [
           {
            "automargin": true,
            "type": "pie"
           }
          ],
          "scatter": [
           {
            "fillpattern": {
             "fillmode": "overlay",
             "size": 10,
             "solidity": 0.2
            },
            "type": "scatter"
           }
          ],
          "scatter3d": [
           {
            "line": {
             "colorbar": {
              "outlinewidth": 0,
              "ticks": ""
             }
            },
            "marker": {
             "colorbar": {
              "outlinewidth": 0,
              "ticks": ""
             }
            },
            "type": "scatter3d"
           }
          ],
          "scattercarpet": [
           {
            "marker": {
             "colorbar": {
              "outlinewidth": 0,
              "ticks": ""
             }
            },
            "type": "scattercarpet"
           }
          ],
          "scattergeo": [
           {
            "marker": {
             "colorbar": {
              "outlinewidth": 0,
              "ticks": ""
             }
            },
            "type": "scattergeo"
           }
          ],
          "scattergl": [
           {
            "marker": {
             "colorbar": {
              "outlinewidth": 0,
              "ticks": ""
             }
            },
            "type": "scattergl"
           }
          ],
          "scattermapbox": [
           {
            "marker": {
             "colorbar": {
              "outlinewidth": 0,
              "ticks": ""
             }
            },
            "type": "scattermapbox"
           }
          ],
          "scatterpolar": [
           {
            "marker": {
             "colorbar": {
              "outlinewidth": 0,
              "ticks": ""
             }
            },
            "type": "scatterpolar"
           }
          ],
          "scatterpolargl": [
           {
            "marker": {
             "colorbar": {
              "outlinewidth": 0,
              "ticks": ""
             }
            },
            "type": "scatterpolargl"
           }
          ],
          "scatterternary": [
           {
            "marker": {
             "colorbar": {
              "outlinewidth": 0,
              "ticks": ""
             }
            },
            "type": "scatterternary"
           }
          ],
          "surface": [
           {
            "colorbar": {
             "outlinewidth": 0,
             "ticks": ""
            },
            "colorscale": [
             [
              0,
              "#0d0887"
             ],
             [
              0.1111111111111111,
              "#46039f"
             ],
             [
              0.2222222222222222,
              "#7201a8"
             ],
             [
              0.3333333333333333,
              "#9c179e"
             ],
             [
              0.4444444444444444,
              "#bd3786"
             ],
             [
              0.5555555555555556,
              "#d8576b"
             ],
             [
              0.6666666666666666,
              "#ed7953"
             ],
             [
              0.7777777777777778,
              "#fb9f3a"
             ],
             [
              0.8888888888888888,
              "#fdca26"
             ],
             [
              1,
              "#f0f921"
             ]
            ],
            "type": "surface"
           }
          ],
          "table": [
           {
            "cells": {
             "fill": {
              "color": "#EBF0F8"
             },
             "line": {
              "color": "white"
             }
            },
            "header": {
             "fill": {
              "color": "#C8D4E3"
             },
             "line": {
              "color": "white"
             }
            },
            "type": "table"
           }
          ]
         },
         "layout": {
          "annotationdefaults": {
           "arrowcolor": "#2a3f5f",
           "arrowhead": 0,
           "arrowwidth": 1
          },
          "autotypenumbers": "strict",
          "coloraxis": {
           "colorbar": {
            "outlinewidth": 0,
            "ticks": ""
           }
          },
          "colorscale": {
           "diverging": [
            [
             0,
             "#8e0152"
            ],
            [
             0.1,
             "#c51b7d"
            ],
            [
             0.2,
             "#de77ae"
            ],
            [
             0.3,
             "#f1b6da"
            ],
            [
             0.4,
             "#fde0ef"
            ],
            [
             0.5,
             "#f7f7f7"
            ],
            [
             0.6,
             "#e6f5d0"
            ],
            [
             0.7,
             "#b8e186"
            ],
            [
             0.8,
             "#7fbc41"
            ],
            [
             0.9,
             "#4d9221"
            ],
            [
             1,
             "#276419"
            ]
           ],
           "sequential": [
            [
             0,
             "#0d0887"
            ],
            [
             0.1111111111111111,
             "#46039f"
            ],
            [
             0.2222222222222222,
             "#7201a8"
            ],
            [
             0.3333333333333333,
             "#9c179e"
            ],
            [
             0.4444444444444444,
             "#bd3786"
            ],
            [
             0.5555555555555556,
             "#d8576b"
            ],
            [
             0.6666666666666666,
             "#ed7953"
            ],
            [
             0.7777777777777778,
             "#fb9f3a"
            ],
            [
             0.8888888888888888,
             "#fdca26"
            ],
            [
             1,
             "#f0f921"
            ]
           ],
           "sequentialminus": [
            [
             0,
             "#0d0887"
            ],
            [
             0.1111111111111111,
             "#46039f"
            ],
            [
             0.2222222222222222,
             "#7201a8"
            ],
            [
             0.3333333333333333,
             "#9c179e"
            ],
            [
             0.4444444444444444,
             "#bd3786"
            ],
            [
             0.5555555555555556,
             "#d8576b"
            ],
            [
             0.6666666666666666,
             "#ed7953"
            ],
            [
             0.7777777777777778,
             "#fb9f3a"
            ],
            [
             0.8888888888888888,
             "#fdca26"
            ],
            [
             1,
             "#f0f921"
            ]
           ]
          },
          "colorway": [
           "#636efa",
           "#EF553B",
           "#00cc96",
           "#ab63fa",
           "#FFA15A",
           "#19d3f3",
           "#FF6692",
           "#B6E880",
           "#FF97FF",
           "#FECB52"
          ],
          "font": {
           "color": "#2a3f5f"
          },
          "geo": {
           "bgcolor": "white",
           "lakecolor": "white",
           "landcolor": "#E5ECF6",
           "showlakes": true,
           "showland": true,
           "subunitcolor": "white"
          },
          "hoverlabel": {
           "align": "left"
          },
          "hovermode": "closest",
          "mapbox": {
           "style": "light"
          },
          "paper_bgcolor": "white",
          "plot_bgcolor": "#E5ECF6",
          "polar": {
           "angularaxis": {
            "gridcolor": "white",
            "linecolor": "white",
            "ticks": ""
           },
           "bgcolor": "#E5ECF6",
           "radialaxis": {
            "gridcolor": "white",
            "linecolor": "white",
            "ticks": ""
           }
          },
          "scene": {
           "xaxis": {
            "backgroundcolor": "#E5ECF6",
            "gridcolor": "white",
            "gridwidth": 2,
            "linecolor": "white",
            "showbackground": true,
            "ticks": "",
            "zerolinecolor": "white"
           },
           "yaxis": {
            "backgroundcolor": "#E5ECF6",
            "gridcolor": "white",
            "gridwidth": 2,
            "linecolor": "white",
            "showbackground": true,
            "ticks": "",
            "zerolinecolor": "white"
           },
           "zaxis": {
            "backgroundcolor": "#E5ECF6",
            "gridcolor": "white",
            "gridwidth": 2,
            "linecolor": "white",
            "showbackground": true,
            "ticks": "",
            "zerolinecolor": "white"
           }
          },
          "shapedefaults": {
           "line": {
            "color": "#2a3f5f"
           }
          },
          "ternary": {
           "aaxis": {
            "gridcolor": "white",
            "linecolor": "white",
            "ticks": ""
           },
           "baxis": {
            "gridcolor": "white",
            "linecolor": "white",
            "ticks": ""
           },
           "bgcolor": "#E5ECF6",
           "caxis": {
            "gridcolor": "white",
            "linecolor": "white",
            "ticks": ""
           }
          },
          "title": {
           "x": 0.05
          },
          "xaxis": {
           "automargin": true,
           "gridcolor": "white",
           "linecolor": "white",
           "ticks": "",
           "title": {
            "standoff": 15
           },
           "zerolinecolor": "white",
           "zerolinewidth": 2
          },
          "yaxis": {
           "automargin": true,
           "gridcolor": "white",
           "linecolor": "white",
           "ticks": "",
           "title": {
            "standoff": 15
           },
           "zerolinecolor": "white",
           "zerolinewidth": 2
          }
         }
        },
        "title": {
         "text": "3D Scatter Plot of Cocktail Vectors"
        }
       }
      }
     },
     "metadata": {},
     "output_type": "display_data"
    }
   ],
   "source": [
    "# Ingredients 100 ml vodka, 100 ml rum, 100 ml tomato juice\n",
    "ingredients = np.array([100, 100, 100])\n",
    "\n",
    "# Recipes:\n",
    "bloody_mary_recipe = np.array([0.2, 0, 0.6])\n",
    "rum_pure_recipe = np.array([0, 0.3, 0])\n",
    "crazy_cocktail_recipe = np.array([0.1, 0.2, 0.7])\n",
    "\n",
    "all_cocktails = np.stack([\n",
    "    bloody_mary_recipe,\n",
    "    rum_pure_recipe,\n",
    "    crazy_cocktail_recipe\n",
    "])\n",
    "\n",
    "cocktail_names = [\n",
    "    \"Bloody Mary Recipe\",\n",
    "    \"Rum Pure Recipe\",\n",
    "    \"Crazy Cocktail Recipe\"\n",
    "]\n",
    "\n",
    "cocktail_colors = [\n",
    "    \"red\",\n",
    "    \"steelblue\",\n",
    "    \"firebrick\"\n",
    "]\n",
    "\n",
    "# Create a 3D scatter plot with plotly showing the rows of all_cocktails as vectors \n",
    "\n",
    "fig = go.Figure()\n",
    "\n",
    "# Add each cocktail as a vector\n",
    "for i, cocktail in enumerate(all_cocktails):\n",
    "    fig.add_trace(go.Scatter3d(\n",
    "        x=[0, cocktail[0]],  # Start at origin (0, 0, 0)\n",
    "        y=[0, cocktail[1]],\n",
    "        z=[0, cocktail[2]],\n",
    "        mode='lines+markers',\n",
    "        name=cocktail_names[i],\n",
    "        line=dict(color=cocktail_colors[i], width=5),\n",
    "        marker=dict(size=5)\n",
    "    ))\n",
    "\n",
    "# Set plot layout\n",
    "fig.update_layout(\n",
    "    title=\"3D Scatter Plot of Cocktail Vectors\",\n",
    "    scene=dict(\n",
    "        xaxis_title=\"Vodka\",\n",
    "        yaxis_title=\"Rum\",\n",
    "        zaxis_title=\"Tomatensaft\"\n",
    "    )\n",
    ")\n",
    "\n",
    "# Show the plot\n",
    "fig.show()"
   ]
  },
  {
   "cell_type": "markdown",
   "id": "9046aebc",
   "metadata": {},
   "source": [
    "## Modifikation von Rezepten\n"
   ]
  },
  {
   "cell_type": "code",
   "execution_count": 29,
   "id": "20167888",
   "metadata": {},
   "outputs": [],
   "source": [
    "\n",
    "# Nimm die Zutaten, erhöhe die erste Zutat (Vodka) um 20 Prozent, ignoriere alle anderen Zutaten\n",
    "increase_vodka = np.array([1.2, 0, 0])\n",
    "\n",
    "# Nimm die zweite Zutat (Rum), verändere die Menge nicht, ignoriere alle anderen Zutaten\n",
    "keep_rum = np.array([0, 1, 0])\n",
    "\n",
    "# Nimm die dritte Zutat (Tomato Juice), verändere die Menge nicht, ignoriere alle anderen Zutaten\n",
    "keep_tomato = np.array([0, 0, 1])"
   ]
  },
  {
   "cell_type": "code",
   "execution_count": 30,
   "id": "23127d5e",
   "metadata": {},
   "outputs": [
    {
     "data": {
      "text/plain": [
       "array([[1.2, 0. , 0. ],\n",
       "       [0. , 1. , 0. ],\n",
       "       [0. , 0. , 1. ]])"
      ]
     },
     "execution_count": 30,
     "metadata": {},
     "output_type": "execute_result"
    }
   ],
   "source": [
    "increase_vodka = np.stack([\n",
    "    increase_vodka,\n",
    "    keep_rum,\n",
    "    keep_tomato\n",
    "])\n",
    "\n",
    "increase_vodka"
   ]
  },
  {
   "cell_type": "code",
   "execution_count": 31,
   "id": "4a5b8c0a",
   "metadata": {},
   "outputs": [
    {
     "data": {
      "text/plain": [
       "array([0.24, 0.  , 0.6 ])"
      ]
     },
     "execution_count": 31,
     "metadata": {},
     "output_type": "execute_result"
    }
   ],
   "source": [
    "stronger_bloody_mary_recipe = bloody_mary_recipe @ increase_vodka\n",
    "stronger_bloody_mary_recipe"
   ]
  },
  {
   "cell_type": "code",
   "execution_count": 32,
   "id": "1a670022",
   "metadata": {},
   "outputs": [
    {
     "data": {
      "text/plain": [
       "array([0.12, 0.2 , 0.7 ])"
      ]
     },
     "execution_count": 32,
     "metadata": {},
     "output_type": "execute_result"
    }
   ],
   "source": [
    "stronger_crazy_recipe = crazy_cocktail_recipe @ increase_vodka\n",
    "stronger_crazy_recipe"
   ]
  },
  {
   "cell_type": "code",
   "execution_count": 33,
   "id": "d5a972ea",
   "metadata": {},
   "outputs": [
    {
     "data": {
      "text/plain": [
       "array([[0, 0, 1],\n",
       "       [0, 1, 0],\n",
       "       [1, 0, 0]])"
      ]
     },
     "execution_count": 33,
     "metadata": {},
     "output_type": "execute_result"
    }
   ],
   "source": [
    "switch_vodka_and_tomato = np.array([\n",
    "    [0, 0, 1],\n",
    "    [0, 1, 0],\n",
    "    [1, 0, 0]\n",
    "])\n",
    "switch_vodka_and_tomato"
   ]
  },
  {
   "cell_type": "code",
   "execution_count": 34,
   "id": "b631a4a2",
   "metadata": {},
   "outputs": [
    {
     "data": {
      "text/plain": [
       "array([0.6, 0. , 0.2])"
      ]
     },
     "execution_count": 34,
     "metadata": {},
     "output_type": "execute_result"
    }
   ],
   "source": [
    "reverse_bloody_mary_recipe = bloody_mary_recipe @ switch_vodka_and_tomato\n",
    "reverse_bloody_mary_recipe"
   ]
  },
  {
   "cell_type": "code",
   "execution_count": 35,
   "id": "a480c572",
   "metadata": {},
   "outputs": [
    {
     "data": {
      "text/plain": [
       "np.float64(92.0)"
      ]
     },
     "execution_count": 35,
     "metadata": {},
     "output_type": "execute_result"
    }
   ],
   "source": [
    "# Make a reverse bloody mary\n",
    "\n",
    "reverse_bloody_mary_actual_cocktail = increase_vodka @ reverse_bloody_mary_recipe @ ingredients\n",
    "reverse_bloody_mary_actual_cocktail"
   ]
  },
  {
   "cell_type": "code",
   "execution_count": 36,
   "id": "89277f5c",
   "metadata": {},
   "outputs": [
    {
     "data": {
      "text/plain": [
       "array([[0.83333333, 0.        , 0.        ],\n",
       "       [0.        , 1.        , 0.        ],\n",
       "       [0.        , 0.        , 1.        ]])"
      ]
     },
     "execution_count": 36,
     "metadata": {},
     "output_type": "execute_result"
    }
   ],
   "source": [
    "# How to reverse operations?\n",
    "\n",
    "np.linalg.inv(increase_vodka)"
   ]
  },
  {
   "cell_type": "markdown",
   "id": "188c225d",
   "metadata": {},
   "source": [
    "## Barmanagement\n",
    "\n",
    "Stellen wir uns vor, dass wir eine kleine Bar managen. Wir sind so spezialisiert, dass wir nur drei Getränke anbieten:\n",
    "\n",
    "- Bloody Mary\n",
    "- Rum Mary\n",
    "- Crazy Cocktail\n",
    "\n",
    "Wir können alle Cocktails in beliebigen Mengen anbieten, allerdings sind unsere Lieferungen auf 10 l Vodka, 10 l Rum und 30 l Tomatensaft\n",
    "begrenzt.\n"
   ]
  },
  {
   "cell_type": "code",
   "execution_count": 38,
   "id": "81511d37",
   "metadata": {},
   "outputs": [
    {
     "data": {
      "text/plain": [
       "array([[0.2, 0. , 0.6],\n",
       "       [0. , 0.4, 0.6],\n",
       "       [0.1, 0.2, 0.7]])"
      ]
     },
     "execution_count": 38,
     "metadata": {},
     "output_type": "execute_result"
    }
   ],
   "source": [
    "# Unsere Cocktail Rezepte\n",
    "\n",
    "rum_mary = np.array([0, 0.4, 0.6])\n",
    "\n",
    "bar_recipes = np.stack([\n",
    "    bloody_mary_recipe,\n",
    "    rum_mary,\n",
    "    crazy_cocktail_recipe,\n",
    "])\n",
    "\n",
    "bar_recipes"
   ]
  },
  {
   "cell_type": "code",
   "execution_count": 39,
   "id": "2a3763de",
   "metadata": {},
   "outputs": [
    {
     "data": {
      "text/plain": [
       "array([[0.2, 0. , 0.1],\n",
       "       [0. , 0.4, 0.2],\n",
       "       [0.6, 0.6, 0.7]])"
      ]
     },
     "execution_count": 39,
     "metadata": {},
     "output_type": "execute_result"
    }
   ],
   "source": [
    "bar_recipes.T"
   ]
  },
  {
   "cell_type": "code",
   "execution_count": 43,
   "id": "17d26e7d",
   "metadata": {},
   "outputs": [
    {
     "data": {
      "text/latex": [
       "$\\displaystyle \\left[\\begin{matrix}0.2 & 0.0 & 0.1\\\\0.0 & 0.4 & 0.2\\\\0.6 & 0.6 & 0.7\\end{matrix}\\right]$"
      ],
      "text/plain": [
       "Matrix([\n",
       "[0.2, 0.0, 0.1],\n",
       "[0.0, 0.4, 0.2],\n",
       "[0.6, 0.6, 0.7]])"
      ]
     },
     "execution_count": 43,
     "metadata": {},
     "output_type": "execute_result"
    }
   ],
   "source": [
    "from sympy import Matrix, symbols\n",
    "\n",
    "x1, x2, x3 = symbols('x_{bloody} x_{rum} x_{crazy}')\n",
    "\n",
    "M = Matrix(bar_recipes.T)\n",
    "M"
   ]
  },
  {
   "cell_type": "code",
   "execution_count": 41,
   "id": "b8b36d2e",
   "metadata": {},
   "outputs": [
    {
     "data": {
      "text/latex": [
       "$\\displaystyle \\left[\\begin{matrix}0.2 x_{bloody} + 0.1 x_{crazy}\\\\0.2 x_{crazy} + 0.4 x_{rum}\\\\0.6 x_{bloody} + 0.7 x_{crazy} + 0.6 x_{rum}\\end{matrix}\\right]$"
      ],
      "text/plain": [
       "Matrix([\n",
       "[              0.2*x_{bloody} + 0.1*x_{crazy}],\n",
       "[                 0.2*x_{crazy} + 0.4*x_{rum}],\n",
       "[0.6*x_{bloody} + 0.7*x_{crazy} + 0.6*x_{rum}]])"
      ]
     },
     "execution_count": 41,
     "metadata": {},
     "output_type": "execute_result"
    }
   ],
   "source": [
    "M @ Matrix([x1, x2, x3])"
   ]
  },
  {
   "cell_type": "markdown",
   "id": "43b88a08",
   "metadata": {},
   "source": [
    "Wieviel von jedem Cocktail müssen wir produzieren, um die Zutaten voll auszuschöpfen?\n",
    "\n",
    "$$\n",
    "\\begin{align*}\n",
    "0.3 x_{\\text{bloody}} + 0.0 x_{\\text{rum}} + 0.2 x_{\\text{crazy}} & = 10 \\quad \\text{Vodka} \\\\\n",
    "0.0 x_{\\text{bloody}} + 0.4 x_{\\text{rum}} + 0.3 x_{\\text{crazy}} & = 10 \\quad \\text{Rum} \\\\\n",
    "0.2 x_{\\text{bloody}} + 0.5 x_{\\text{rum}} + 0.3 x_{\\text{crazy}} & = 30 \\quad \\text{Tomatensaft} \\\\\n",
    "\\end{align*}\n",
    "$$"
   ]
  },
  {
   "cell_type": "code",
   "execution_count": null,
   "id": "3dc06217",
   "metadata": {},
   "outputs": [
    {
     "data": {
      "text/latex": [
       "$\\displaystyle \\left\\{\\left( 250.0, \\  200.0, \\  -300.0\\right)\\right\\}$"
      ],
      "text/plain": [
       "{(250.0, 200.0, -300.0)}"
      ]
     },
     "execution_count": 51,
     "metadata": {},
     "output_type": "execute_result"
    }
   ],
   "source": [
    "from sympy import linsolve\n",
    "\n",
    "linsolve([M, [10, 10, 30]], [x1, x2, x3])"
   ]
  },
  {
   "cell_type": "code",
   "execution_count": 52,
   "id": "6a3cb546",
   "metadata": {},
   "outputs": [
    {
     "data": {
      "text/plain": [
       "array([ 125.,  100., -150.])"
      ]
     },
     "execution_count": 52,
     "metadata": {},
     "output_type": "execute_result"
    }
   ],
   "source": [
    "from numpy import linalg\n",
    "\n",
    "linalg.solve(bar_recipes.T, [10, 10, 30])"
   ]
  }
 ],
 "metadata": {
  "kernelspec": {
   "display_name": "Python 3",
   "language": "python",
   "name": "python3"
  },
  "language_info": {
   "codemirror_mode": {
    "name": "ipython",
    "version": 3
   },
   "file_extension": ".py",
   "mimetype": "text/x-python",
   "name": "python",
   "nbconvert_exporter": "python",
   "pygments_lexer": "ipython3",
   "version": "3.11.11"
  }
 },
 "nbformat": 4,
 "nbformat_minor": 5
}
