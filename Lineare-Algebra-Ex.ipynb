{
 "cells": [
  {
   "cell_type": "markdown",
   "id": "68d41136",
   "metadata": {},
   "source": [
    "# Buchhaltung mit Excel und Numpy (Übung)\n",
    "\n",
    "Open in Colab: [![Open in Colab](https://colab.research.google.com/assets/colab-badge.svg)](https://colab.research.google.com/github/febse/opt2025-de/blob/main/Lineare-Algebra-Ex.ipynb)\n",
    "\n",
    "- [Rez (shared)](https://febunisofia-my.sharepoint.com/:x:/g/personal/amarov_feb_uni-sofia_bg/EUhPq44ZYlBEoP9hs0mxvNwBtUDlucZSIMeZsdWZZFoWmQ?e=PehWdg)\n",
    "- [Recipes](https://github.com/febse/data/raw/refs/heads/main/opt/Recipes.xlsx)\n"
   ]
  },
  {
   "cell_type": "code",
   "execution_count": 4,
   "id": "1fa06850",
   "metadata": {},
   "outputs": [
    {
     "name": "stdout",
     "output_type": "stream",
     "text": [
      "Requirement already satisfied: plotly in c:\\users\\boyko\\.conda\\envs\\opt2025-de\\lib\\site-packages (5.24.1)Note: you may need to restart the kernel to use updated packages.\n",
      "\n",
      "Requirement already satisfied: tenacity>=6.2.0 in c:\\users\\boyko\\.conda\\envs\\opt2025-de\\lib\\site-packages (from plotly) (9.0.0)\n",
      "Requirement already satisfied: packaging in c:\\users\\boyko\\.conda\\envs\\opt2025-de\\lib\\site-packages (from plotly) (24.2)\n"
     ]
    }
   ],
   "source": [
    "%pip install plotly\n",
    "\n",
    "import numpy as np\n",
    "import plotly.express as px\n",
    "import plotly.graph_objects as go"
   ]
  },
  {
   "cell_type": "code",
   "execution_count": 22,
   "id": "440ef061",
   "metadata": {},
   "outputs": [
    {
     "data": {
      "application/vnd.plotly.v1+json": {
       "config": {
        "plotlyServerURL": "https://plot.ly"
       },
       "data": [
        {
         "hovertemplate": "x=%{x}<br>y=%{y}<br>z=%{z}<extra></extra>",
         "legendgroup": "",
         "line": {
          "color": "#636efa",
          "dash": "solid"
         },
         "marker": {
          "symbol": "circle"
         },
         "mode": "lines",
         "name": "",
         "scene": "scene",
         "showlegend": false,
         "type": "scatter3d",
         "x": [
          0,
          0.2
         ],
         "y": [
          0,
          0
         ],
         "z": [
          0,
          0.6
         ]
        },
        {
         "line": {
          "color": "blue"
         },
         "mode": "lines",
         "type": "scatter3d",
         "x": [
          0,
          0
         ],
         "y": [
          0,
          0.3
         ],
         "z": [
          0,
          0
         ]
        },
        {
         "marker": {
          "size": 5
         },
         "mode": "markers",
         "name": "Crazy Cocktail",
         "type": "scatter3d",
         "x": [
          0.1
         ],
         "y": [
          0.2
         ],
         "z": [
          0.7
         ]
        },
        {
         "line": {
          "color": "red"
         },
         "mode": "lines",
         "type": "scatter3d",
         "x": [
          0,
          0.4
         ],
         "y": [
          0,
          0
         ],
         "z": [
          0,
          0.4
         ]
        },
        {
         "marker": {
          "size": 5
         },
         "mode": "markers",
         "name": "Strong Bloody Mary",
         "type": "scatter3d",
         "x": [
          0.4
         ],
         "y": [
          0
         ],
         "z": [
          0.4
         ]
        },
        {
         "line": {
          "color": "red"
         },
         "mode": "lines",
         "name": "Crazy Cocktail",
         "type": "scatter3d",
         "x": [
          0.1
         ],
         "y": [
          0.2
         ],
         "z": [
          0.7
         ]
        },
        {
         "marker": {
          "size": 5
         },
         "mode": "markers",
         "name": "Origin",
         "type": "scatter3d",
         "x": [
          0,
          0
         ],
         "y": [
          0,
          0
         ],
         "z": [
          0,
          0
         ]
        },
        {
         "marker": {
          "size": 5
         },
         "mode": "markers",
         "name": "Bloody Mary",
         "type": "scatter3d",
         "x": [
          0.2
         ],
         "y": [
          0
         ],
         "z": [
          0.6
         ]
        },
        {
         "marker": {
          "size": 5
         },
         "mode": "markers",
         "name": "Rum Pure",
         "type": "scatter3d",
         "x": [
          0
         ],
         "y": [
          0.3
         ],
         "z": [
          0
         ]
        }
       ],
       "layout": {
        "legend": {
         "tracegroupgap": 0
        },
        "margin": {
         "t": 60
        },
        "scene": {
         "domain": {
          "x": [
           0,
           1
          ],
          "y": [
           0,
           1
          ]
         },
         "xaxis": {
          "title": {
           "text": "Tomato juice (ml)"
          }
         },
         "yaxis": {
          "title": {
           "text": "Rum (ml)"
          }
         },
         "zaxis": {
          "title": {
           "text": "Vodka (ml)"
          }
         }
        },
        "template": {
         "data": {
          "bar": [
           {
            "error_x": {
             "color": "#2a3f5f"
            },
            "error_y": {
             "color": "#2a3f5f"
            },
            "marker": {
             "line": {
              "color": "#E5ECF6",
              "width": 0.5
             },
             "pattern": {
              "fillmode": "overlay",
              "size": 10,
              "solidity": 0.2
             }
            },
            "type": "bar"
           }
          ],
          "barpolar": [
           {
            "marker": {
             "line": {
              "color": "#E5ECF6",
              "width": 0.5
             },
             "pattern": {
              "fillmode": "overlay",
              "size": 10,
              "solidity": 0.2
             }
            },
            "type": "barpolar"
           }
          ],
          "carpet": [
           {
            "aaxis": {
             "endlinecolor": "#2a3f5f",
             "gridcolor": "white",
             "linecolor": "white",
             "minorgridcolor": "white",
             "startlinecolor": "#2a3f5f"
            },
            "baxis": {
             "endlinecolor": "#2a3f5f",
             "gridcolor": "white",
             "linecolor": "white",
             "minorgridcolor": "white",
             "startlinecolor": "#2a3f5f"
            },
            "type": "carpet"
           }
          ],
          "choropleth": [
           {
            "colorbar": {
             "outlinewidth": 0,
             "ticks": ""
            },
            "type": "choropleth"
           }
          ],
          "contour": [
           {
            "colorbar": {
             "outlinewidth": 0,
             "ticks": ""
            },
            "colorscale": [
             [
              0,
              "#0d0887"
             ],
             [
              0.1111111111111111,
              "#46039f"
             ],
             [
              0.2222222222222222,
              "#7201a8"
             ],
             [
              0.3333333333333333,
              "#9c179e"
             ],
             [
              0.4444444444444444,
              "#bd3786"
             ],
             [
              0.5555555555555556,
              "#d8576b"
             ],
             [
              0.6666666666666666,
              "#ed7953"
             ],
             [
              0.7777777777777778,
              "#fb9f3a"
             ],
             [
              0.8888888888888888,
              "#fdca26"
             ],
             [
              1,
              "#f0f921"
             ]
            ],
            "type": "contour"
           }
          ],
          "contourcarpet": [
           {
            "colorbar": {
             "outlinewidth": 0,
             "ticks": ""
            },
            "type": "contourcarpet"
           }
          ],
          "heatmap": [
           {
            "colorbar": {
             "outlinewidth": 0,
             "ticks": ""
            },
            "colorscale": [
             [
              0,
              "#0d0887"
             ],
             [
              0.1111111111111111,
              "#46039f"
             ],
             [
              0.2222222222222222,
              "#7201a8"
             ],
             [
              0.3333333333333333,
              "#9c179e"
             ],
             [
              0.4444444444444444,
              "#bd3786"
             ],
             [
              0.5555555555555556,
              "#d8576b"
             ],
             [
              0.6666666666666666,
              "#ed7953"
             ],
             [
              0.7777777777777778,
              "#fb9f3a"
             ],
             [
              0.8888888888888888,
              "#fdca26"
             ],
             [
              1,
              "#f0f921"
             ]
            ],
            "type": "heatmap"
           }
          ],
          "heatmapgl": [
           {
            "colorbar": {
             "outlinewidth": 0,
             "ticks": ""
            },
            "colorscale": [
             [
              0,
              "#0d0887"
             ],
             [
              0.1111111111111111,
              "#46039f"
             ],
             [
              0.2222222222222222,
              "#7201a8"
             ],
             [
              0.3333333333333333,
              "#9c179e"
             ],
             [
              0.4444444444444444,
              "#bd3786"
             ],
             [
              0.5555555555555556,
              "#d8576b"
             ],
             [
              0.6666666666666666,
              "#ed7953"
             ],
             [
              0.7777777777777778,
              "#fb9f3a"
             ],
             [
              0.8888888888888888,
              "#fdca26"
             ],
             [
              1,
              "#f0f921"
             ]
            ],
            "type": "heatmapgl"
           }
          ],
          "histogram": [
           {
            "marker": {
             "pattern": {
              "fillmode": "overlay",
              "size": 10,
              "solidity": 0.2
             }
            },
            "type": "histogram"
           }
          ],
          "histogram2d": [
           {
            "colorbar": {
             "outlinewidth": 0,
             "ticks": ""
            },
            "colorscale": [
             [
              0,
              "#0d0887"
             ],
             [
              0.1111111111111111,
              "#46039f"
             ],
             [
              0.2222222222222222,
              "#7201a8"
             ],
             [
              0.3333333333333333,
              "#9c179e"
             ],
             [
              0.4444444444444444,
              "#bd3786"
             ],
             [
              0.5555555555555556,
              "#d8576b"
             ],
             [
              0.6666666666666666,
              "#ed7953"
             ],
             [
              0.7777777777777778,
              "#fb9f3a"
             ],
             [
              0.8888888888888888,
              "#fdca26"
             ],
             [
              1,
              "#f0f921"
             ]
            ],
            "type": "histogram2d"
           }
          ],
          "histogram2dcontour": [
           {
            "colorbar": {
             "outlinewidth": 0,
             "ticks": ""
            },
            "colorscale": [
             [
              0,
              "#0d0887"
             ],
             [
              0.1111111111111111,
              "#46039f"
             ],
             [
              0.2222222222222222,
              "#7201a8"
             ],
             [
              0.3333333333333333,
              "#9c179e"
             ],
             [
              0.4444444444444444,
              "#bd3786"
             ],
             [
              0.5555555555555556,
              "#d8576b"
             ],
             [
              0.6666666666666666,
              "#ed7953"
             ],
             [
              0.7777777777777778,
              "#fb9f3a"
             ],
             [
              0.8888888888888888,
              "#fdca26"
             ],
             [
              1,
              "#f0f921"
             ]
            ],
            "type": "histogram2dcontour"
           }
          ],
          "mesh3d": [
           {
            "colorbar": {
             "outlinewidth": 0,
             "ticks": ""
            },
            "type": "mesh3d"
           }
          ],
          "parcoords": [
           {
            "line": {
             "colorbar": {
              "outlinewidth": 0,
              "ticks": ""
             }
            },
            "type": "parcoords"
           }
          ],
          "pie": [
           {
            "automargin": true,
            "type": "pie"
           }
          ],
          "scatter": [
           {
            "fillpattern": {
             "fillmode": "overlay",
             "size": 10,
             "solidity": 0.2
            },
            "type": "scatter"
           }
          ],
          "scatter3d": [
           {
            "line": {
             "colorbar": {
              "outlinewidth": 0,
              "ticks": ""
             }
            },
            "marker": {
             "colorbar": {
              "outlinewidth": 0,
              "ticks": ""
             }
            },
            "type": "scatter3d"
           }
          ],
          "scattercarpet": [
           {
            "marker": {
             "colorbar": {
              "outlinewidth": 0,
              "ticks": ""
             }
            },
            "type": "scattercarpet"
           }
          ],
          "scattergeo": [
           {
            "marker": {
             "colorbar": {
              "outlinewidth": 0,
              "ticks": ""
             }
            },
            "type": "scattergeo"
           }
          ],
          "scattergl": [
           {
            "marker": {
             "colorbar": {
              "outlinewidth": 0,
              "ticks": ""
             }
            },
            "type": "scattergl"
           }
          ],
          "scattermapbox": [
           {
            "marker": {
             "colorbar": {
              "outlinewidth": 0,
              "ticks": ""
             }
            },
            "type": "scattermapbox"
           }
          ],
          "scatterpolar": [
           {
            "marker": {
             "colorbar": {
              "outlinewidth": 0,
              "ticks": ""
             }
            },
            "type": "scatterpolar"
           }
          ],
          "scatterpolargl": [
           {
            "marker": {
             "colorbar": {
              "outlinewidth": 0,
              "ticks": ""
             }
            },
            "type": "scatterpolargl"
           }
          ],
          "scatterternary": [
           {
            "marker": {
             "colorbar": {
              "outlinewidth": 0,
              "ticks": ""
             }
            },
            "type": "scatterternary"
           }
          ],
          "surface": [
           {
            "colorbar": {
             "outlinewidth": 0,
             "ticks": ""
            },
            "colorscale": [
             [
              0,
              "#0d0887"
             ],
             [
              0.1111111111111111,
              "#46039f"
             ],
             [
              0.2222222222222222,
              "#7201a8"
             ],
             [
              0.3333333333333333,
              "#9c179e"
             ],
             [
              0.4444444444444444,
              "#bd3786"
             ],
             [
              0.5555555555555556,
              "#d8576b"
             ],
             [
              0.6666666666666666,
              "#ed7953"
             ],
             [
              0.7777777777777778,
              "#fb9f3a"
             ],
             [
              0.8888888888888888,
              "#fdca26"
             ],
             [
              1,
              "#f0f921"
             ]
            ],
            "type": "surface"
           }
          ],
          "table": [
           {
            "cells": {
             "fill": {
              "color": "#EBF0F8"
             },
             "line": {
              "color": "white"
             }
            },
            "header": {
             "fill": {
              "color": "#C8D4E3"
             },
             "line": {
              "color": "white"
             }
            },
            "type": "table"
           }
          ]
         },
         "layout": {
          "annotationdefaults": {
           "arrowcolor": "#2a3f5f",
           "arrowhead": 0,
           "arrowwidth": 1
          },
          "autotypenumbers": "strict",
          "coloraxis": {
           "colorbar": {
            "outlinewidth": 0,
            "ticks": ""
           }
          },
          "colorscale": {
           "diverging": [
            [
             0,
             "#8e0152"
            ],
            [
             0.1,
             "#c51b7d"
            ],
            [
             0.2,
             "#de77ae"
            ],
            [
             0.3,
             "#f1b6da"
            ],
            [
             0.4,
             "#fde0ef"
            ],
            [
             0.5,
             "#f7f7f7"
            ],
            [
             0.6,
             "#e6f5d0"
            ],
            [
             0.7,
             "#b8e186"
            ],
            [
             0.8,
             "#7fbc41"
            ],
            [
             0.9,
             "#4d9221"
            ],
            [
             1,
             "#276419"
            ]
           ],
           "sequential": [
            [
             0,
             "#0d0887"
            ],
            [
             0.1111111111111111,
             "#46039f"
            ],
            [
             0.2222222222222222,
             "#7201a8"
            ],
            [
             0.3333333333333333,
             "#9c179e"
            ],
            [
             0.4444444444444444,
             "#bd3786"
            ],
            [
             0.5555555555555556,
             "#d8576b"
            ],
            [
             0.6666666666666666,
             "#ed7953"
            ],
            [
             0.7777777777777778,
             "#fb9f3a"
            ],
            [
             0.8888888888888888,
             "#fdca26"
            ],
            [
             1,
             "#f0f921"
            ]
           ],
           "sequentialminus": [
            [
             0,
             "#0d0887"
            ],
            [
             0.1111111111111111,
             "#46039f"
            ],
            [
             0.2222222222222222,
             "#7201a8"
            ],
            [
             0.3333333333333333,
             "#9c179e"
            ],
            [
             0.4444444444444444,
             "#bd3786"
            ],
            [
             0.5555555555555556,
             "#d8576b"
            ],
            [
             0.6666666666666666,
             "#ed7953"
            ],
            [
             0.7777777777777778,
             "#fb9f3a"
            ],
            [
             0.8888888888888888,
             "#fdca26"
            ],
            [
             1,
             "#f0f921"
            ]
           ]
          },
          "colorway": [
           "#636efa",
           "#EF553B",
           "#00cc96",
           "#ab63fa",
           "#FFA15A",
           "#19d3f3",
           "#FF6692",
           "#B6E880",
           "#FF97FF",
           "#FECB52"
          ],
          "font": {
           "color": "#2a3f5f"
          },
          "geo": {
           "bgcolor": "white",
           "lakecolor": "white",
           "landcolor": "#E5ECF6",
           "showlakes": true,
           "showland": true,
           "subunitcolor": "white"
          },
          "hoverlabel": {
           "align": "left"
          },
          "hovermode": "closest",
          "mapbox": {
           "style": "light"
          },
          "paper_bgcolor": "white",
          "plot_bgcolor": "#E5ECF6",
          "polar": {
           "angularaxis": {
            "gridcolor": "white",
            "linecolor": "white",
            "ticks": ""
           },
           "bgcolor": "#E5ECF6",
           "radialaxis": {
            "gridcolor": "white",
            "linecolor": "white",
            "ticks": ""
           }
          },
          "scene": {
           "xaxis": {
            "backgroundcolor": "#E5ECF6",
            "gridcolor": "white",
            "gridwidth": 2,
            "linecolor": "white",
            "showbackground": true,
            "ticks": "",
            "zerolinecolor": "white"
           },
           "yaxis": {
            "backgroundcolor": "#E5ECF6",
            "gridcolor": "white",
            "gridwidth": 2,
            "linecolor": "white",
            "showbackground": true,
            "ticks": "",
            "zerolinecolor": "white"
           },
           "zaxis": {
            "backgroundcolor": "#E5ECF6",
            "gridcolor": "white",
            "gridwidth": 2,
            "linecolor": "white",
            "showbackground": true,
            "ticks": "",
            "zerolinecolor": "white"
           }
          },
          "shapedefaults": {
           "line": {
            "color": "#2a3f5f"
           }
          },
          "ternary": {
           "aaxis": {
            "gridcolor": "white",
            "linecolor": "white",
            "ticks": ""
           },
           "baxis": {
            "gridcolor": "white",
            "linecolor": "white",
            "ticks": ""
           },
           "bgcolor": "#E5ECF6",
           "caxis": {
            "gridcolor": "white",
            "linecolor": "white",
            "ticks": ""
           }
          },
          "title": {
           "x": 0.05
          },
          "xaxis": {
           "automargin": true,
           "gridcolor": "white",
           "linecolor": "white",
           "ticks": "",
           "title": {
            "standoff": 15
           },
           "zerolinecolor": "white",
           "zerolinewidth": 2
          },
          "yaxis": {
           "automargin": true,
           "gridcolor": "white",
           "linecolor": "white",
           "ticks": "",
           "title": {
            "standoff": 15
           },
           "zerolinecolor": "white",
           "zerolinewidth": 2
          }
         }
        },
        "title": {
         "text": "3D Vector Representation of Bloody Mary and Rum Pure"
        }
       }
      }
     },
     "metadata": {},
     "output_type": "display_data"
    }
   ],
   "source": [
    "bloody_mary = np.array([0.2, 0, 0.6])\n",
    "strong_bloody_mary = np.array([0.4, 0, 0.4])\n",
    "rum_pure = np.array([0, 0.3, 0])\n",
    "crazy_cocktail = np.array([0.1, 0.2, 0.7])\n",
    "\n",
    "# Plot the two vectors in 3D space\n",
    "\n",
    "fig = px.line_3d(x=[0, bloody_mary[0]], y=[0, bloody_mary[1]], z=[0, bloody_mary[2]])\n",
    "fig.add_scatter3d(x=[0, rum_pure[0]], y=[0, rum_pure[1]], z=[0, rum_pure[2]], mode='lines', line=dict(color='blue'))\n",
    "fig.add_scatter3d(x=[crazy_cocktail[0]], y=[crazy_cocktail[1]], z=[crazy_cocktail[2]], mode='markers', marker=dict(size=5), name='Crazy Cocktail')\n",
    "fig.add_scatter3d(x=[0, strong_bloody_mary[0]], y=[0, strong_bloody_mary[1]], z=[0, strong_bloody_mary[2]], mode='lines', line=dict(color='red'))\n",
    "fig.add_scatter3d(x=[strong_bloody_mary[0]], y=[strong_bloody_mary[1]], z=[strong_bloody_mary[2]], mode='markers', marker=dict(size=5), name='Strong Bloody Mary')\n",
    "\n",
    "fig.add_scatter3d(x=[crazy_cocktail[0]], y=[crazy_cocktail[1]], z=[crazy_cocktail[2]], mode='lines', line=dict(color='red'), name='Crazy Cocktail')\n",
    "fig.add_scatter3d(x=[0, 0], y=[0, 0], z=[0, 0], mode='markers', marker=dict(size=5), name='Origin')\n",
    "fig.add_scatter3d(x=[bloody_mary[0]], y=[bloody_mary[1]], z=[bloody_mary[2]], mode='markers', marker=dict(size=5), name='Bloody Mary')\n",
    "fig.add_scatter3d(x=[rum_pure[0]], y=[rum_pure[1]], z=[rum_pure[2]], mode='markers', marker=dict(size=5), name='Rum Pure')\n",
    "fig.update_layout(scene=dict(xaxis_title='Tomato juice (ml)', yaxis_title='Rum (ml)', zaxis_title='Vodka (ml)'), title='3D Vector Representation of Bloody Mary and Rum Pure')\n",
    "fig.show()\n"
   ]
  },
  {
   "cell_type": "markdown",
   "id": "07b4a8fc",
   "metadata": {},
   "source": [
    "\n",
    "\n",
    "- [Konten](https://github.com/febse/data/raw/refs/heads/main/opt/Konten.xlsx)\n",
    "- [Konten (shared)](https://febunisofia-my.sharepoint.com/:x:/g/personal/amarov_feb_uni-sofia_bg/EQNsytBLVrdHjWlTNNh7w7AB5irt4Xxa-TEYyeyVdNM7sQ?e=hysC4M)\n",
    "\n",
    "\n",
    "Stellen wir uns vor, dass wir mehrere Bankkonten haben, z.B. ein Konto in BGN in Bulgarien (z.B. Unicredit), ein PayPal-Konto in USD und ein Revolut-Konto in Euro. Wir möchten wissen, wie viel Geld wir insgesamt haben. Die einzelne Kontostände sind z.B. $x = 1000$ BGN in dem BGN-Konto, $y = 500$ USD in dem PayPal-Konto und $z = 200$ Euro in dem Revolut-Konto. Wir können diese Kontostände nicht direkt addieren, weil sie in verschiedenen Währungen sind. Um unser Gesamtvermögen zu berechnen, müssen wir alle Kontostände in die gleiche Währung umrechnen. Wir können das mit den Wechselkursen machen:\n",
    "\n",
    "- 1 BGN = 0.51 Euro\n",
    "- 1 USD = 0.91 Euro\n",
    "- 1 Euro = 1 Euro\n",
    "\n",
    "- Der Gesamtwert in Euro\n",
    "- Der Gesamtwert in Euro des PayPal-Kontos\n",
    "- Der Gesamtwert in USD des PayPal-Kontos\n",
    "- Der Durchschnittswert in Euro\n",
    "- Der Gesamtwert vom bulgarischen Konto und dem PayPal-Konto (in Euro)\n",
    "- Die Summe des Bank-und PayPal-Kontos in Euro abzüglich des Revolut-Kontostands\n"
   ]
  },
  {
   "cell_type": "code",
   "execution_count": null,
   "id": "cfc0f145",
   "metadata": {},
   "outputs": [
    {
     "name": "stdout",
     "output_type": "stream",
     "text": [
      "Per Hand 1: 1166.2918811962186\n",
      "Per Hand: 1165.0\n"
     ]
    },
    {
     "data": {
      "text/plain": [
       "np.float64(1165.0)"
      ]
     },
     "execution_count": 1,
     "metadata": {},
     "output_type": "execute_result"
    }
   ],
   "source": [
    "import numpy as np\n",
    "\n",
    "# Die Daten\n",
    "balances = np.array([1000, 500, 200])\n",
    "\n",
    "# Die Operationen\n",
    "rates = np.array([0.51, 0.91, 1])"
   ]
  }
 ],
 "metadata": {
  "kernelspec": {
   "display_name": "Python 3",
   "language": "python",
   "name": "python3"
  },
  "language_info": {
   "codemirror_mode": {
    "name": "ipython",
    "version": 3
   },
   "file_extension": ".py",
   "mimetype": "text/x-python",
   "name": "python",
   "nbconvert_exporter": "python",
   "pygments_lexer": "ipython3",
   "version": "3.11.11"
  }
 },
 "nbformat": 4,
 "nbformat_minor": 5
}
