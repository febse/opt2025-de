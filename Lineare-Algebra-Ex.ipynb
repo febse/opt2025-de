{
 "cells": [
  {
   "cell_type": "markdown",
   "id": "68d41136",
   "metadata": {},
   "source": [
    "# Cocktails (Übung)\n",
    "\n",
    "- [Recipes (shared)](https://febunisofia-my.sharepoint.com/:x:/g/personal/amarov_feb_uni-sofia_bg/EUhPq44ZYlBEoP9hs0mxvNwBtUDlucZSIMeZsdWZZFoWmQ?e=PehWdg)\n",
    "- [Recipes](https://github.com/febse/data/raw/refs/heads/main/opt/Recipes.xlsx)"
   ]
  },
  {
   "cell_type": "code",
   "execution_count": 2,
   "id": "1fa06850",
   "metadata": {},
   "outputs": [
    {
     "name": "stdout",
     "output_type": "stream",
     "text": [
      "Requirement already satisfied: plotly in c:\\users\\boyko\\.conda\\envs\\opt2025-de\\lib\\site-packages (5.24.1)\n",
      "Requirement already satisfied: sympy in c:\\users\\boyko\\.conda\\envs\\opt2025-de\\lib\\site-packages (1.13.3)\n",
      "Requirement already satisfied: tenacity>=6.2.0 in c:\\users\\boyko\\.conda\\envs\\opt2025-de\\lib\\site-packages (from plotly) (9.0.0)\n",
      "Requirement already satisfied: packaging in c:\\users\\boyko\\.conda\\envs\\opt2025-de\\lib\\site-packages (from plotly) (24.2)\n",
      "Requirement already satisfied: mpmath<1.4,>=1.1.0 in c:\\users\\boyko\\.conda\\envs\\opt2025-de\\lib\\site-packages (from sympy) (1.3.0)\n",
      "Note: you may need to restart the kernel to use updated packages.\n"
     ]
    }
   ],
   "source": [
    "%pip install plotly sympy\n",
    "\n",
    "import numpy as np\n",
    "import plotly.graph_objects as go"
   ]
  },
  {
   "cell_type": "markdown",
   "id": "a1912182",
   "metadata": {},
   "source": [
    "# Excel Beispiele\n"
   ]
  },
  {
   "cell_type": "markdown",
   "id": "aeed743c",
   "metadata": {},
   "source": [
    "# Einfachere Cocktails\n"
   ]
  },
  {
   "cell_type": "code",
   "execution_count": 3,
   "id": "440ef061",
   "metadata": {},
   "outputs": [
    {
     "data": {
      "application/vnd.plotly.v1+json": {
       "config": {
        "plotlyServerURL": "https://plot.ly"
       },
       "data": [
        {
         "line": {
          "color": "red",
          "width": 5
         },
         "marker": {
          "size": 5
         },
         "mode": "lines+markers",
         "name": "Bloody Mary Recipe",
         "type": "scatter3d",
         "x": [
          0,
          0.2
         ],
         "y": [
          0,
          0
         ],
         "z": [
          0,
          0.6
         ]
        },
        {
         "line": {
          "color": "steelblue",
          "width": 5
         },
         "marker": {
          "size": 5
         },
         "mode": "lines+markers",
         "name": "Rum Pure Recipe",
         "type": "scatter3d",
         "x": [
          0,
          0
         ],
         "y": [
          0,
          0.3
         ],
         "z": [
          0,
          0
         ]
        },
        {
         "line": {
          "color": "firebrick",
          "width": 5
         },
         "marker": {
          "size": 5
         },
         "mode": "lines+markers",
         "name": "Crazy Cocktail Recipe",
         "type": "scatter3d",
         "x": [
          0,
          0.1
         ],
         "y": [
          0,
          0.2
         ],
         "z": [
          0,
          0.7
         ]
        }
       ],
       "layout": {
        "scene": {
         "xaxis": {
          "title": {
           "text": "Vodka"
          }
         },
         "yaxis": {
          "title": {
           "text": "Rum"
          }
         },
         "zaxis": {
          "title": {
           "text": "Tomatensaft"
          }
         }
        },
        "template": {
         "data": {
          "bar": [
           {
            "error_x": {
             "color": "#2a3f5f"
            },
            "error_y": {
             "color": "#2a3f5f"
            },
            "marker": {
             "line": {
              "color": "#E5ECF6",
              "width": 0.5
             },
             "pattern": {
              "fillmode": "overlay",
              "size": 10,
              "solidity": 0.2
             }
            },
            "type": "bar"
           }
          ],
          "barpolar": [
           {
            "marker": {
             "line": {
              "color": "#E5ECF6",
              "width": 0.5
             },
             "pattern": {
              "fillmode": "overlay",
              "size": 10,
              "solidity": 0.2
             }
            },
            "type": "barpolar"
           }
          ],
          "carpet": [
           {
            "aaxis": {
             "endlinecolor": "#2a3f5f",
             "gridcolor": "white",
             "linecolor": "white",
             "minorgridcolor": "white",
             "startlinecolor": "#2a3f5f"
            },
            "baxis": {
             "endlinecolor": "#2a3f5f",
             "gridcolor": "white",
             "linecolor": "white",
             "minorgridcolor": "white",
             "startlinecolor": "#2a3f5f"
            },
            "type": "carpet"
           }
          ],
          "choropleth": [
           {
            "colorbar": {
             "outlinewidth": 0,
             "ticks": ""
            },
            "type": "choropleth"
           }
          ],
          "contour": [
           {
            "colorbar": {
             "outlinewidth": 0,
             "ticks": ""
            },
            "colorscale": [
             [
              0,
              "#0d0887"
             ],
             [
              0.1111111111111111,
              "#46039f"
             ],
             [
              0.2222222222222222,
              "#7201a8"
             ],
             [
              0.3333333333333333,
              "#9c179e"
             ],
             [
              0.4444444444444444,
              "#bd3786"
             ],
             [
              0.5555555555555556,
              "#d8576b"
             ],
             [
              0.6666666666666666,
              "#ed7953"
             ],
             [
              0.7777777777777778,
              "#fb9f3a"
             ],
             [
              0.8888888888888888,
              "#fdca26"
             ],
             [
              1,
              "#f0f921"
             ]
            ],
            "type": "contour"
           }
          ],
          "contourcarpet": [
           {
            "colorbar": {
             "outlinewidth": 0,
             "ticks": ""
            },
            "type": "contourcarpet"
           }
          ],
          "heatmap": [
           {
            "colorbar": {
             "outlinewidth": 0,
             "ticks": ""
            },
            "colorscale": [
             [
              0,
              "#0d0887"
             ],
             [
              0.1111111111111111,
              "#46039f"
             ],
             [
              0.2222222222222222,
              "#7201a8"
             ],
             [
              0.3333333333333333,
              "#9c179e"
             ],
             [
              0.4444444444444444,
              "#bd3786"
             ],
             [
              0.5555555555555556,
              "#d8576b"
             ],
             [
              0.6666666666666666,
              "#ed7953"
             ],
             [
              0.7777777777777778,
              "#fb9f3a"
             ],
             [
              0.8888888888888888,
              "#fdca26"
             ],
             [
              1,
              "#f0f921"
             ]
            ],
            "type": "heatmap"
           }
          ],
          "heatmapgl": [
           {
            "colorbar": {
             "outlinewidth": 0,
             "ticks": ""
            },
            "colorscale": [
             [
              0,
              "#0d0887"
             ],
             [
              0.1111111111111111,
              "#46039f"
             ],
             [
              0.2222222222222222,
              "#7201a8"
             ],
             [
              0.3333333333333333,
              "#9c179e"
             ],
             [
              0.4444444444444444,
              "#bd3786"
             ],
             [
              0.5555555555555556,
              "#d8576b"
             ],
             [
              0.6666666666666666,
              "#ed7953"
             ],
             [
              0.7777777777777778,
              "#fb9f3a"
             ],
             [
              0.8888888888888888,
              "#fdca26"
             ],
             [
              1,
              "#f0f921"
             ]
            ],
            "type": "heatmapgl"
           }
          ],
          "histogram": [
           {
            "marker": {
             "pattern": {
              "fillmode": "overlay",
              "size": 10,
              "solidity": 0.2
             }
            },
            "type": "histogram"
           }
          ],
          "histogram2d": [
           {
            "colorbar": {
             "outlinewidth": 0,
             "ticks": ""
            },
            "colorscale": [
             [
              0,
              "#0d0887"
             ],
             [
              0.1111111111111111,
              "#46039f"
             ],
             [
              0.2222222222222222,
              "#7201a8"
             ],
             [
              0.3333333333333333,
              "#9c179e"
             ],
             [
              0.4444444444444444,
              "#bd3786"
             ],
             [
              0.5555555555555556,
              "#d8576b"
             ],
             [
              0.6666666666666666,
              "#ed7953"
             ],
             [
              0.7777777777777778,
              "#fb9f3a"
             ],
             [
              0.8888888888888888,
              "#fdca26"
             ],
             [
              1,
              "#f0f921"
             ]
            ],
            "type": "histogram2d"
           }
          ],
          "histogram2dcontour": [
           {
            "colorbar": {
             "outlinewidth": 0,
             "ticks": ""
            },
            "colorscale": [
             [
              0,
              "#0d0887"
             ],
             [
              0.1111111111111111,
              "#46039f"
             ],
             [
              0.2222222222222222,
              "#7201a8"
             ],
             [
              0.3333333333333333,
              "#9c179e"
             ],
             [
              0.4444444444444444,
              "#bd3786"
             ],
             [
              0.5555555555555556,
              "#d8576b"
             ],
             [
              0.6666666666666666,
              "#ed7953"
             ],
             [
              0.7777777777777778,
              "#fb9f3a"
             ],
             [
              0.8888888888888888,
              "#fdca26"
             ],
             [
              1,
              "#f0f921"
             ]
            ],
            "type": "histogram2dcontour"
           }
          ],
          "mesh3d": [
           {
            "colorbar": {
             "outlinewidth": 0,
             "ticks": ""
            },
            "type": "mesh3d"
           }
          ],
          "parcoords": [
           {
            "line": {
             "colorbar": {
              "outlinewidth": 0,
              "ticks": ""
             }
            },
            "type": "parcoords"
           }
          ],
          "pie": [
           {
            "automargin": true,
            "type": "pie"
           }
          ],
          "scatter": [
           {
            "fillpattern": {
             "fillmode": "overlay",
             "size": 10,
             "solidity": 0.2
            },
            "type": "scatter"
           }
          ],
          "scatter3d": [
           {
            "line": {
             "colorbar": {
              "outlinewidth": 0,
              "ticks": ""
             }
            },
            "marker": {
             "colorbar": {
              "outlinewidth": 0,
              "ticks": ""
             }
            },
            "type": "scatter3d"
           }
          ],
          "scattercarpet": [
           {
            "marker": {
             "colorbar": {
              "outlinewidth": 0,
              "ticks": ""
             }
            },
            "type": "scattercarpet"
           }
          ],
          "scattergeo": [
           {
            "marker": {
             "colorbar": {
              "outlinewidth": 0,
              "ticks": ""
             }
            },
            "type": "scattergeo"
           }
          ],
          "scattergl": [
           {
            "marker": {
             "colorbar": {
              "outlinewidth": 0,
              "ticks": ""
             }
            },
            "type": "scattergl"
           }
          ],
          "scattermapbox": [
           {
            "marker": {
             "colorbar": {
              "outlinewidth": 0,
              "ticks": ""
             }
            },
            "type": "scattermapbox"
           }
          ],
          "scatterpolar": [
           {
            "marker": {
             "colorbar": {
              "outlinewidth": 0,
              "ticks": ""
             }
            },
            "type": "scatterpolar"
           }
          ],
          "scatterpolargl": [
           {
            "marker": {
             "colorbar": {
              "outlinewidth": 0,
              "ticks": ""
             }
            },
            "type": "scatterpolargl"
           }
          ],
          "scatterternary": [
           {
            "marker": {
             "colorbar": {
              "outlinewidth": 0,
              "ticks": ""
             }
            },
            "type": "scatterternary"
           }
          ],
          "surface": [
           {
            "colorbar": {
             "outlinewidth": 0,
             "ticks": ""
            },
            "colorscale": [
             [
              0,
              "#0d0887"
             ],
             [
              0.1111111111111111,
              "#46039f"
             ],
             [
              0.2222222222222222,
              "#7201a8"
             ],
             [
              0.3333333333333333,
              "#9c179e"
             ],
             [
              0.4444444444444444,
              "#bd3786"
             ],
             [
              0.5555555555555556,
              "#d8576b"
             ],
             [
              0.6666666666666666,
              "#ed7953"
             ],
             [
              0.7777777777777778,
              "#fb9f3a"
             ],
             [
              0.8888888888888888,
              "#fdca26"
             ],
             [
              1,
              "#f0f921"
             ]
            ],
            "type": "surface"
           }
          ],
          "table": [
           {
            "cells": {
             "fill": {
              "color": "#EBF0F8"
             },
             "line": {
              "color": "white"
             }
            },
            "header": {
             "fill": {
              "color": "#C8D4E3"
             },
             "line": {
              "color": "white"
             }
            },
            "type": "table"
           }
          ]
         },
         "layout": {
          "annotationdefaults": {
           "arrowcolor": "#2a3f5f",
           "arrowhead": 0,
           "arrowwidth": 1
          },
          "autotypenumbers": "strict",
          "coloraxis": {
           "colorbar": {
            "outlinewidth": 0,
            "ticks": ""
           }
          },
          "colorscale": {
           "diverging": [
            [
             0,
             "#8e0152"
            ],
            [
             0.1,
             "#c51b7d"
            ],
            [
             0.2,
             "#de77ae"
            ],
            [
             0.3,
             "#f1b6da"
            ],
            [
             0.4,
             "#fde0ef"
            ],
            [
             0.5,
             "#f7f7f7"
            ],
            [
             0.6,
             "#e6f5d0"
            ],
            [
             0.7,
             "#b8e186"
            ],
            [
             0.8,
             "#7fbc41"
            ],
            [
             0.9,
             "#4d9221"
            ],
            [
             1,
             "#276419"
            ]
           ],
           "sequential": [
            [
             0,
             "#0d0887"
            ],
            [
             0.1111111111111111,
             "#46039f"
            ],
            [
             0.2222222222222222,
             "#7201a8"
            ],
            [
             0.3333333333333333,
             "#9c179e"
            ],
            [
             0.4444444444444444,
             "#bd3786"
            ],
            [
             0.5555555555555556,
             "#d8576b"
            ],
            [
             0.6666666666666666,
             "#ed7953"
            ],
            [
             0.7777777777777778,
             "#fb9f3a"
            ],
            [
             0.8888888888888888,
             "#fdca26"
            ],
            [
             1,
             "#f0f921"
            ]
           ],
           "sequentialminus": [
            [
             0,
             "#0d0887"
            ],
            [
             0.1111111111111111,
             "#46039f"
            ],
            [
             0.2222222222222222,
             "#7201a8"
            ],
            [
             0.3333333333333333,
             "#9c179e"
            ],
            [
             0.4444444444444444,
             "#bd3786"
            ],
            [
             0.5555555555555556,
             "#d8576b"
            ],
            [
             0.6666666666666666,
             "#ed7953"
            ],
            [
             0.7777777777777778,
             "#fb9f3a"
            ],
            [
             0.8888888888888888,
             "#fdca26"
            ],
            [
             1,
             "#f0f921"
            ]
           ]
          },
          "colorway": [
           "#636efa",
           "#EF553B",
           "#00cc96",
           "#ab63fa",
           "#FFA15A",
           "#19d3f3",
           "#FF6692",
           "#B6E880",
           "#FF97FF",
           "#FECB52"
          ],
          "font": {
           "color": "#2a3f5f"
          },
          "geo": {
           "bgcolor": "white",
           "lakecolor": "white",
           "landcolor": "#E5ECF6",
           "showlakes": true,
           "showland": true,
           "subunitcolor": "white"
          },
          "hoverlabel": {
           "align": "left"
          },
          "hovermode": "closest",
          "mapbox": {
           "style": "light"
          },
          "paper_bgcolor": "white",
          "plot_bgcolor": "#E5ECF6",
          "polar": {
           "angularaxis": {
            "gridcolor": "white",
            "linecolor": "white",
            "ticks": ""
           },
           "bgcolor": "#E5ECF6",
           "radialaxis": {
            "gridcolor": "white",
            "linecolor": "white",
            "ticks": ""
           }
          },
          "scene": {
           "xaxis": {
            "backgroundcolor": "#E5ECF6",
            "gridcolor": "white",
            "gridwidth": 2,
            "linecolor": "white",
            "showbackground": true,
            "ticks": "",
            "zerolinecolor": "white"
           },
           "yaxis": {
            "backgroundcolor": "#E5ECF6",
            "gridcolor": "white",
            "gridwidth": 2,
            "linecolor": "white",
            "showbackground": true,
            "ticks": "",
            "zerolinecolor": "white"
           },
           "zaxis": {
            "backgroundcolor": "#E5ECF6",
            "gridcolor": "white",
            "gridwidth": 2,
            "linecolor": "white",
            "showbackground": true,
            "ticks": "",
            "zerolinecolor": "white"
           }
          },
          "shapedefaults": {
           "line": {
            "color": "#2a3f5f"
           }
          },
          "ternary": {
           "aaxis": {
            "gridcolor": "white",
            "linecolor": "white",
            "ticks": ""
           },
           "baxis": {
            "gridcolor": "white",
            "linecolor": "white",
            "ticks": ""
           },
           "bgcolor": "#E5ECF6",
           "caxis": {
            "gridcolor": "white",
            "linecolor": "white",
            "ticks": ""
           }
          },
          "title": {
           "x": 0.05
          },
          "xaxis": {
           "automargin": true,
           "gridcolor": "white",
           "linecolor": "white",
           "ticks": "",
           "title": {
            "standoff": 15
           },
           "zerolinecolor": "white",
           "zerolinewidth": 2
          },
          "yaxis": {
           "automargin": true,
           "gridcolor": "white",
           "linecolor": "white",
           "ticks": "",
           "title": {
            "standoff": 15
           },
           "zerolinecolor": "white",
           "zerolinewidth": 2
          }
         }
        },
        "title": {
         "text": "3D Diagram der Cocktails"
        }
       }
      }
     },
     "metadata": {},
     "output_type": "display_data"
    }
   ],
   "source": [
    "# Ingredients 100 ml vodka, 100 ml rum, 100 ml tomato juice\n",
    "ingredients = np.array([100, 100, 100])\n",
    "\n",
    "# Recipes:\n",
    "bloody_mary_recipe = np.array([0.2, 0, 0.6])\n",
    "rum_pure_recipe = np.array([0, 0.3, 0])\n",
    "crazy_cocktail_recipe = np.array([0.1, 0.2, 0.7])\n",
    "\n",
    "all_cocktails = np.stack([\n",
    "    bloody_mary_recipe,\n",
    "    rum_pure_recipe,\n",
    "    crazy_cocktail_recipe\n",
    "])\n",
    "\n",
    "cocktail_names = [\n",
    "    \"Bloody Mary Recipe\",\n",
    "    \"Rum Pure Recipe\",\n",
    "    \"Crazy Cocktail Recipe\"\n",
    "]\n",
    "\n",
    "cocktail_colors = [\n",
    "    \"red\",\n",
    "    \"steelblue\",\n",
    "    \"firebrick\"\n",
    "]\n",
    "\n",
    "# Create a 3D scatter plot with plotly showing the rows of all_cocktails as vectors \n",
    "\n",
    "fig = go.Figure()\n",
    "\n",
    "# Add each cocktail as a vector\n",
    "for i, cocktail in enumerate(all_cocktails):\n",
    "    fig.add_trace(go.Scatter3d(\n",
    "        x=[0, cocktail[0]],  # Start at origin (0, 0, 0)\n",
    "        y=[0, cocktail[1]],\n",
    "        z=[0, cocktail[2]],\n",
    "        mode='lines+markers',\n",
    "        name=cocktail_names[i],\n",
    "        line=dict(color=cocktail_colors[i], width=5),\n",
    "        marker=dict(size=5)\n",
    "    ))\n",
    "\n",
    "# Set plot layout\n",
    "fig.update_layout(\n",
    "    title=\"3D Diagram der Cocktails\",\n",
    "    scene=dict(\n",
    "        xaxis_title=\"Vodka\",\n",
    "        yaxis_title=\"Rum\",\n",
    "        zaxis_title=\"Tomatensaft\"\n",
    "    )\n",
    ")\n",
    "\n",
    "# Show the plot\n",
    "fig.show()"
   ]
  },
  {
   "cell_type": "markdown",
   "id": "9046aebc",
   "metadata": {},
   "source": [
    "## Modifikation von Rezepten\n"
   ]
  },
  {
   "cell_type": "code",
   "execution_count": 4,
   "id": "20167888",
   "metadata": {},
   "outputs": [],
   "source": [
    "\n",
    "# Nimm die Zutaten, erhöhe die erste Zutat (Vodka) um 20 Prozent, ignoriere alle anderen Zutaten\n",
    "increase_vodka = np.array([1.2, 0, 0])\n",
    "\n",
    "# Nimm die zweite Zutat (Rum), verändere die Menge nicht, ignoriere alle anderen Zutaten\n",
    "keep_rum = np.array([0, 1, 0])\n",
    "\n",
    "# Nimm die dritte Zutat (Tomato Juice), verändere die Menge nicht, ignoriere alle anderen Zutaten\n",
    "keep_tomato = np.array([0, 0, 1])"
   ]
  },
  {
   "cell_type": "code",
   "execution_count": 5,
   "id": "23127d5e",
   "metadata": {},
   "outputs": [
    {
     "data": {
      "text/plain": [
       "array([[1.2, 0. , 0. ],\n",
       "       [0. , 1. , 0. ],\n",
       "       [0. , 0. , 1. ]])"
      ]
     },
     "execution_count": 5,
     "metadata": {},
     "output_type": "execute_result"
    }
   ],
   "source": [
    "increase_vodka = np.stack([\n",
    "    increase_vodka,\n",
    "    keep_rum,\n",
    "    keep_tomato\n",
    "])\n",
    "\n",
    "increase_vodka"
   ]
  },
  {
   "cell_type": "code",
   "execution_count": 6,
   "id": "4a5b8c0a",
   "metadata": {},
   "outputs": [
    {
     "data": {
      "text/plain": [
       "array([0.24, 0.  , 0.6 ])"
      ]
     },
     "execution_count": 6,
     "metadata": {},
     "output_type": "execute_result"
    }
   ],
   "source": [
    "stronger_bloody_mary_recipe = bloody_mary_recipe @ increase_vodka\n",
    "stronger_bloody_mary_recipe"
   ]
  },
  {
   "cell_type": "code",
   "execution_count": 7,
   "id": "1a670022",
   "metadata": {},
   "outputs": [
    {
     "data": {
      "text/plain": [
       "array([0.12, 0.2 , 0.7 ])"
      ]
     },
     "execution_count": 7,
     "metadata": {},
     "output_type": "execute_result"
    }
   ],
   "source": [
    "stronger_crazy_recipe = crazy_cocktail_recipe @ increase_vodka\n",
    "stronger_crazy_recipe"
   ]
  },
  {
   "cell_type": "code",
   "execution_count": 8,
   "id": "d5a972ea",
   "metadata": {},
   "outputs": [
    {
     "data": {
      "text/plain": [
       "array([[0, 0, 1],\n",
       "       [0, 1, 0],\n",
       "       [1, 0, 0]])"
      ]
     },
     "execution_count": 8,
     "metadata": {},
     "output_type": "execute_result"
    }
   ],
   "source": [
    "switch_vodka_and_tomato = np.array([\n",
    "    [0, 0, 1],\n",
    "    [0, 1, 0],\n",
    "    [1, 0, 0]\n",
    "])\n",
    "switch_vodka_and_tomato"
   ]
  },
  {
   "cell_type": "code",
   "execution_count": 9,
   "id": "b631a4a2",
   "metadata": {},
   "outputs": [
    {
     "data": {
      "text/plain": [
       "array([0.6, 0. , 0.2])"
      ]
     },
     "execution_count": 9,
     "metadata": {},
     "output_type": "execute_result"
    }
   ],
   "source": [
    "reverse_bloody_mary_recipe = bloody_mary_recipe @ switch_vodka_and_tomato\n",
    "reverse_bloody_mary_recipe"
   ]
  },
  {
   "cell_type": "code",
   "execution_count": 10,
   "id": "a480c572",
   "metadata": {},
   "outputs": [
    {
     "data": {
      "text/plain": [
       "np.float64(92.0)"
      ]
     },
     "execution_count": 10,
     "metadata": {},
     "output_type": "execute_result"
    }
   ],
   "source": [
    "# Make a reverse bloody mary\n",
    "\n",
    "reverse_bloody_mary_actual_cocktail = increase_vodka @ reverse_bloody_mary_recipe @ ingredients\n",
    "reverse_bloody_mary_actual_cocktail"
   ]
  },
  {
   "cell_type": "code",
   "execution_count": 11,
   "id": "89277f5c",
   "metadata": {},
   "outputs": [
    {
     "data": {
      "text/plain": [
       "array([[0.83333333, 0.        , 0.        ],\n",
       "       [0.        , 1.        , 0.        ],\n",
       "       [0.        , 0.        , 1.        ]])"
      ]
     },
     "execution_count": 11,
     "metadata": {},
     "output_type": "execute_result"
    }
   ],
   "source": [
    "# How to reverse operations?\n",
    "\n",
    "np.linalg.inv(increase_vodka)"
   ]
  },
  {
   "cell_type": "markdown",
   "id": "188c225d",
   "metadata": {},
   "source": [
    "## Barmanagement\n",
    "\n",
    "Stellen wir uns vor, dass wir eine kleine Bar managen. Wir sind so spezialisiert, dass wir nur drei Getränke anbieten:\n",
    "\n",
    "- Bloody Mary\n",
    "- Rum Mary\n",
    "- Crazy Cocktail\n",
    "\n",
    "Wir können alle Cocktails in beliebigen Mengen anbieten, allerdings sind unsere Lieferungen auf 10 l Vodka, 10 l Rum und 30 l Tomatensaft\n",
    "begrenzt.\n"
   ]
  },
  {
   "cell_type": "code",
   "execution_count": 12,
   "id": "81511d37",
   "metadata": {},
   "outputs": [
    {
     "data": {
      "text/plain": [
       "array([[0.2, 0. , 0.6],\n",
       "       [0. , 0.4, 0.6],\n",
       "       [0.1, 0.2, 0.7]])"
      ]
     },
     "execution_count": 12,
     "metadata": {},
     "output_type": "execute_result"
    }
   ],
   "source": [
    "# Unsere Cocktail Rezepte\n",
    "\n",
    "rum_mary = np.array([0, 0.4, 0.6])\n",
    "\n",
    "bar_recipes = np.stack([\n",
    "    bloody_mary_recipe,\n",
    "    rum_mary,\n",
    "    crazy_cocktail_recipe,\n",
    "])\n",
    "\n",
    "bar_recipes"
   ]
  },
  {
   "cell_type": "code",
   "execution_count": 13,
   "id": "2a3763de",
   "metadata": {},
   "outputs": [
    {
     "data": {
      "text/plain": [
       "array([[0.2, 0. , 0.1],\n",
       "       [0. , 0.4, 0.2],\n",
       "       [0.6, 0.6, 0.7]])"
      ]
     },
     "execution_count": 13,
     "metadata": {},
     "output_type": "execute_result"
    }
   ],
   "source": [
    "bar_recipes.T"
   ]
  },
  {
   "cell_type": "code",
   "execution_count": 14,
   "id": "17d26e7d",
   "metadata": {},
   "outputs": [
    {
     "data": {
      "text/latex": [
       "$\\displaystyle \\left[\\begin{matrix}0.2 & 0.0 & 0.6\\\\0.0 & 0.4 & 0.6\\\\0.1 & 0.2 & 0.7\\end{matrix}\\right]$"
      ],
      "text/plain": [
       "Matrix([\n",
       "[0.2, 0.0, 0.6],\n",
       "[0.0, 0.4, 0.6],\n",
       "[0.1, 0.2, 0.7]])"
      ]
     },
     "execution_count": 14,
     "metadata": {},
     "output_type": "execute_result"
    }
   ],
   "source": [
    "from sympy import Matrix, symbols\n",
    "\n",
    "x1, x2, x3 = symbols('x_{bloody} x_{rum} x_{crazy}')\n",
    "y1, y2, y3 = symbols('y_{vodka} y_{rum} y_{tomato}')\n",
    "\n",
    "x = Matrix([x1, x2, x3])\n",
    "y = Matrix([y1, y2, y3])\n",
    "\n",
    "M = Matrix(bar_recipes)\n",
    "M"
   ]
  },
  {
   "cell_type": "code",
   "execution_count": 15,
   "id": "4fcc8be4",
   "metadata": {},
   "outputs": [
    {
     "data": {
      "text/latex": [
       "$\\displaystyle \\left[\\begin{matrix}0.2 & 0.0 & 0.1\\\\0.0 & 0.4 & 0.2\\\\0.6 & 0.6 & 0.7\\end{matrix}\\right]$"
      ],
      "text/plain": [
       "Matrix([\n",
       "[0.2, 0.0, 0.1],\n",
       "[0.0, 0.4, 0.2],\n",
       "[0.6, 0.6, 0.7]])"
      ]
     },
     "execution_count": 15,
     "metadata": {},
     "output_type": "execute_result"
    }
   ],
   "source": [
    "M.T"
   ]
  },
  {
   "cell_type": "code",
   "execution_count": 16,
   "id": "ae7106ae",
   "metadata": {},
   "outputs": [
    {
     "data": {
      "text/latex": [
       "$\\displaystyle \\left[\\begin{matrix}x_{bloody}\\\\x_{rum}\\\\x_{crazy}\\end{matrix}\\right]$"
      ],
      "text/plain": [
       "Matrix([\n",
       "[x_{bloody}],\n",
       "[   x_{rum}],\n",
       "[ x_{crazy}]])"
      ]
     },
     "execution_count": 16,
     "metadata": {},
     "output_type": "execute_result"
    }
   ],
   "source": [
    "x"
   ]
  },
  {
   "cell_type": "code",
   "execution_count": 17,
   "id": "b8b36d2e",
   "metadata": {},
   "outputs": [
    {
     "data": {
      "text/latex": [
       "$\\displaystyle \\left[\\begin{matrix}0.1 y_{tomato} + 0.2 y_{vodka}\\\\0.4 y_{rum} + 0.2 y_{tomato}\\\\0.6 y_{rum} + 0.7 y_{tomato} + 0.6 y_{vodka}\\end{matrix}\\right]$"
      ],
      "text/plain": [
       "Matrix([\n",
       "[              0.1*y_{tomato} + 0.2*y_{vodka}],\n",
       "[                0.4*y_{rum} + 0.2*y_{tomato}],\n",
       "[0.6*y_{rum} + 0.7*y_{tomato} + 0.6*y_{vodka}]])"
      ]
     },
     "execution_count": 17,
     "metadata": {},
     "output_type": "execute_result"
    }
   ],
   "source": [
    "M.T @ y"
   ]
  },
  {
   "cell_type": "code",
   "execution_count": 18,
   "id": "90f47e79",
   "metadata": {},
   "outputs": [
    {
     "data": {
      "text/latex": [
       "$\\displaystyle \\left[\\begin{matrix}0.2 x_{bloody} + 0.1 x_{crazy}\\\\0.2 x_{crazy} + 0.4 x_{rum}\\\\0.6 x_{bloody} + 0.7 x_{crazy} + 0.6 x_{rum}\\end{matrix}\\right]$"
      ],
      "text/plain": [
       "Matrix([\n",
       "[              0.2*x_{bloody} + 0.1*x_{crazy}],\n",
       "[                 0.2*x_{crazy} + 0.4*x_{rum}],\n",
       "[0.6*x_{bloody} + 0.7*x_{crazy} + 0.6*x_{rum}]])"
      ]
     },
     "execution_count": 18,
     "metadata": {},
     "output_type": "execute_result"
    }
   ],
   "source": [
    "M.T @ x"
   ]
  },
  {
   "cell_type": "markdown",
   "id": "43b88a08",
   "metadata": {},
   "source": [
    "Wieviel von jedem Cocktail müssen wir produzieren, um die Zutaten voll auszuschöpfen?\n",
    "\n",
    "$$\n",
    "\\begin{align*}\n",
    "0.3 x_{\\text{bloody}} + 0.0 x_{\\text{rum}} + 0.2 x_{\\text{crazy}} & = 10 \\quad \\text{Vodka} \\\\\n",
    "0.0 x_{\\text{bloody}} + 0.4 x_{\\text{rum}} + 0.3 x_{\\text{crazy}} & = 10 \\quad \\text{Rum} \\\\\n",
    "0.2 x_{\\text{bloody}} + 0.5 x_{\\text{rum}} + 0.3 x_{\\text{crazy}} & = 30 \\quad \\text{Tomatensaft} \\\\\n",
    "\\end{align*}\n",
    "$$"
   ]
  },
  {
   "cell_type": "code",
   "execution_count": 19,
   "id": "3dc06217",
   "metadata": {},
   "outputs": [
    {
     "data": {
      "text/latex": [
       "$\\displaystyle \\left\\{\\left( -550.000000000001, \\  -275.0, \\  200.0\\right)\\right\\}$"
      ],
      "text/plain": [
       "{(-550.000000000001, -275.0, 200.0)}"
      ]
     },
     "execution_count": 19,
     "metadata": {},
     "output_type": "execute_result"
    }
   ],
   "source": [
    "from sympy import linsolve\n",
    "\n",
    "linsolve([M, [10, 10, 30]], [x1, x2, x3])"
   ]
  },
  {
   "cell_type": "code",
   "execution_count": 20,
   "id": "6a3cb546",
   "metadata": {},
   "outputs": [
    {
     "data": {
      "text/plain": [
       "array([ 125.,  100., -150.])"
      ]
     },
     "execution_count": 20,
     "metadata": {},
     "output_type": "execute_result"
    }
   ],
   "source": [
    "from numpy import linalg\n",
    "\n",
    "linalg.solve(bar_recipes.T, [10, 10, 30])"
   ]
  },
  {
   "cell_type": "code",
   "execution_count": 61,
   "id": "523018cd",
   "metadata": {},
   "outputs": [
    {
     "data": {
      "application/vnd.plotly.v1+json": {
       "config": {
        "plotlyServerURL": "https://plot.ly"
       },
       "data": [
        {
         "line": {
          "color": "blue",
          "width": 1
         },
         "marker": {
          "size": 2
         },
         "mode": "lines+markers",
         "name": "V1",
         "type": "scatter",
         "x": [
          0,
          1
         ],
         "y": [
          0,
          0
         ]
        },
        {
         "line": {
          "color": "red",
          "width": 1
         },
         "marker": {
          "size": 2
         },
         "mode": "lines+markers",
         "name": "V2",
         "type": "scatter",
         "x": [
          0,
          0
         ],
         "y": [
          0,
          1
         ]
        },
        {
         "line": {
          "color": "green",
          "width": 1
         },
         "marker": {
          "size": 2
         },
         "mode": "lines+markers",
         "name": "V1 + V2",
         "type": "scatter",
         "x": [
          0,
          1
         ],
         "y": [
          0,
          1
         ]
        },
        {
         "fill": "toself",
         "fillcolor": "rgba(0, 100, 200, 0.2)",
         "line": {
          "color": "rgba(255,255,255,0)"
         },
         "name": "Area",
         "type": "scatter",
         "x": [
          0,
          1,
          1,
          0,
          0
         ],
         "y": [
          0,
          0,
          1,
          1,
          0
         ]
        }
       ],
       "frames": [
        {
         "data": [
          {
           "line": {
            "color": "blue",
            "width": 1
           },
           "marker": {
            "size": 2
           },
           "mode": "lines+markers",
           "name": "V1",
           "type": "scatter",
           "x": [
            0,
            1
           ],
           "y": [
            0,
            0
           ]
          },
          {
           "line": {
            "color": "red",
            "width": 1
           },
           "marker": {
            "size": 2
           },
           "mode": "lines+markers",
           "name": "V2",
           "type": "scatter",
           "x": [
            0,
            0
           ],
           "y": [
            0,
            1
           ]
          },
          {
           "line": {
            "color": "green",
            "width": 1
           },
           "marker": {
            "size": 2
           },
           "mode": "lines+markers",
           "name": "V1 + V2",
           "type": "scatter",
           "x": [
            0,
            1
           ],
           "y": [
            0,
            1
           ]
          },
          {
           "fill": "toself",
           "fillcolor": "rgba(0, 100, 200, 0.2)",
           "line": {
            "color": "rgba(255,255,255,0)"
           },
           "name": "Area",
           "type": "scatter",
           "x": [
            0,
            1,
            1,
            0,
            0
           ],
           "y": [
            0,
            0,
            1,
            1,
            0
           ]
          }
         ]
        },
        {
         "data": [
          {
           "line": {
            "color": "blue",
            "width": 1
           },
           "marker": {
            "size": 2
           },
           "mode": "lines+markers",
           "name": "V1",
           "type": "scatter",
           "x": [
            0,
            1
           ],
           "y": [
            0,
            0
           ]
          },
          {
           "line": {
            "color": "red",
            "width": 1
           },
           "marker": {
            "size": 2
           },
           "mode": "lines+markers",
           "name": "V2",
           "type": "scatter",
           "x": [
            0,
            0
           ],
           "y": [
            0,
            1
           ]
          },
          {
           "line": {
            "color": "green",
            "width": 1
           },
           "marker": {
            "size": 2
           },
           "mode": "lines+markers",
           "name": "V1 + V2",
           "type": "scatter",
           "x": [
            0,
            1
           ],
           "y": [
            0,
            1
           ]
          },
          {
           "fill": "toself",
           "fillcolor": "rgba(0, 100, 200, 0.2)",
           "line": {
            "color": "rgba(255,255,255,0)"
           },
           "name": "Area",
           "type": "scatter",
           "x": [
            0,
            1,
            1,
            0,
            0
           ],
           "y": [
            0,
            0,
            1,
            1,
            0
           ]
          }
         ]
        },
        {
         "data": [
          {
           "line": {
            "color": "blue",
            "width": 1
           },
           "marker": {
            "size": 2
           },
           "mode": "lines+markers",
           "name": "V1",
           "type": "scatter",
           "x": [
            0,
            1.0204081632653061
           ],
           "y": [
            0,
            0
           ]
          },
          {
           "line": {
            "color": "red",
            "width": 1
           },
           "marker": {
            "size": 2
           },
           "mode": "lines+markers",
           "name": "V2",
           "type": "scatter",
           "x": [
            0,
            0
           ],
           "y": [
            0,
            1
           ]
          },
          {
           "line": {
            "color": "green",
            "width": 1
           },
           "marker": {
            "size": 2
           },
           "mode": "lines+markers",
           "name": "V1 + V2",
           "type": "scatter",
           "x": [
            0,
            1.0204081632653061
           ],
           "y": [
            0,
            1
           ]
          },
          {
           "fill": "toself",
           "fillcolor": "rgba(0, 100, 200, 0.2)",
           "line": {
            "color": "rgba(255,255,255,0)"
           },
           "name": "Area",
           "type": "scatter",
           "x": [
            0,
            1.0204081632653061,
            1.0204081632653061,
            0,
            0
           ],
           "y": [
            0,
            0,
            1,
            1,
            0
           ]
          }
         ]
        },
        {
         "data": [
          {
           "line": {
            "color": "blue",
            "width": 1
           },
           "marker": {
            "size": 2
           },
           "mode": "lines+markers",
           "name": "V1",
           "type": "scatter",
           "x": [
            0,
            1.0408163265306123
           ],
           "y": [
            0,
            0
           ]
          },
          {
           "line": {
            "color": "red",
            "width": 1
           },
           "marker": {
            "size": 2
           },
           "mode": "lines+markers",
           "name": "V2",
           "type": "scatter",
           "x": [
            0,
            0
           ],
           "y": [
            0,
            1
           ]
          },
          {
           "line": {
            "color": "green",
            "width": 1
           },
           "marker": {
            "size": 2
           },
           "mode": "lines+markers",
           "name": "V1 + V2",
           "type": "scatter",
           "x": [
            0,
            1.0408163265306123
           ],
           "y": [
            0,
            1
           ]
          },
          {
           "fill": "toself",
           "fillcolor": "rgba(0, 100, 200, 0.2)",
           "line": {
            "color": "rgba(255,255,255,0)"
           },
           "name": "Area",
           "type": "scatter",
           "x": [
            0,
            1.0408163265306123,
            1.0408163265306123,
            0,
            0
           ],
           "y": [
            0,
            0,
            1,
            1,
            0
           ]
          }
         ]
        },
        {
         "data": [
          {
           "line": {
            "color": "blue",
            "width": 1
           },
           "marker": {
            "size": 2
           },
           "mode": "lines+markers",
           "name": "V1",
           "type": "scatter",
           "x": [
            0,
            1.0612244897959184
           ],
           "y": [
            0,
            0
           ]
          },
          {
           "line": {
            "color": "red",
            "width": 1
           },
           "marker": {
            "size": 2
           },
           "mode": "lines+markers",
           "name": "V2",
           "type": "scatter",
           "x": [
            0,
            0
           ],
           "y": [
            0,
            1
           ]
          },
          {
           "line": {
            "color": "green",
            "width": 1
           },
           "marker": {
            "size": 2
           },
           "mode": "lines+markers",
           "name": "V1 + V2",
           "type": "scatter",
           "x": [
            0,
            1.0612244897959184
           ],
           "y": [
            0,
            1
           ]
          },
          {
           "fill": "toself",
           "fillcolor": "rgba(0, 100, 200, 0.2)",
           "line": {
            "color": "rgba(255,255,255,0)"
           },
           "name": "Area",
           "type": "scatter",
           "x": [
            0,
            1.0612244897959184,
            1.0612244897959184,
            0,
            0
           ],
           "y": [
            0,
            0,
            1,
            1,
            0
           ]
          }
         ]
        },
        {
         "data": [
          {
           "line": {
            "color": "blue",
            "width": 1
           },
           "marker": {
            "size": 2
           },
           "mode": "lines+markers",
           "name": "V1",
           "type": "scatter",
           "x": [
            0,
            1.0816326530612246
           ],
           "y": [
            0,
            0
           ]
          },
          {
           "line": {
            "color": "red",
            "width": 1
           },
           "marker": {
            "size": 2
           },
           "mode": "lines+markers",
           "name": "V2",
           "type": "scatter",
           "x": [
            0,
            0
           ],
           "y": [
            0,
            1
           ]
          },
          {
           "line": {
            "color": "green",
            "width": 1
           },
           "marker": {
            "size": 2
           },
           "mode": "lines+markers",
           "name": "V1 + V2",
           "type": "scatter",
           "x": [
            0,
            1.0816326530612246
           ],
           "y": [
            0,
            1
           ]
          },
          {
           "fill": "toself",
           "fillcolor": "rgba(0, 100, 200, 0.2)",
           "line": {
            "color": "rgba(255,255,255,0)"
           },
           "name": "Area",
           "type": "scatter",
           "x": [
            0,
            1.0816326530612246,
            1.0816326530612246,
            0,
            0
           ],
           "y": [
            0,
            0,
            1,
            1,
            0
           ]
          }
         ]
        },
        {
         "data": [
          {
           "line": {
            "color": "blue",
            "width": 1
           },
           "marker": {
            "size": 2
           },
           "mode": "lines+markers",
           "name": "V1",
           "type": "scatter",
           "x": [
            0,
            1.1020408163265305
           ],
           "y": [
            0,
            0
           ]
          },
          {
           "line": {
            "color": "red",
            "width": 1
           },
           "marker": {
            "size": 2
           },
           "mode": "lines+markers",
           "name": "V2",
           "type": "scatter",
           "x": [
            0,
            0
           ],
           "y": [
            0,
            1
           ]
          },
          {
           "line": {
            "color": "green",
            "width": 1
           },
           "marker": {
            "size": 2
           },
           "mode": "lines+markers",
           "name": "V1 + V2",
           "type": "scatter",
           "x": [
            0,
            1.1020408163265305
           ],
           "y": [
            0,
            1
           ]
          },
          {
           "fill": "toself",
           "fillcolor": "rgba(0, 100, 200, 0.2)",
           "line": {
            "color": "rgba(255,255,255,0)"
           },
           "name": "Area",
           "type": "scatter",
           "x": [
            0,
            1.1020408163265305,
            1.1020408163265305,
            0,
            0
           ],
           "y": [
            0,
            0,
            1,
            1,
            0
           ]
          }
         ]
        },
        {
         "data": [
          {
           "line": {
            "color": "blue",
            "width": 1
           },
           "marker": {
            "size": 2
           },
           "mode": "lines+markers",
           "name": "V1",
           "type": "scatter",
           "x": [
            0,
            1.1224489795918366
           ],
           "y": [
            0,
            0
           ]
          },
          {
           "line": {
            "color": "red",
            "width": 1
           },
           "marker": {
            "size": 2
           },
           "mode": "lines+markers",
           "name": "V2",
           "type": "scatter",
           "x": [
            0,
            0
           ],
           "y": [
            0,
            1
           ]
          },
          {
           "line": {
            "color": "green",
            "width": 1
           },
           "marker": {
            "size": 2
           },
           "mode": "lines+markers",
           "name": "V1 + V2",
           "type": "scatter",
           "x": [
            0,
            1.1224489795918366
           ],
           "y": [
            0,
            1
           ]
          },
          {
           "fill": "toself",
           "fillcolor": "rgba(0, 100, 200, 0.2)",
           "line": {
            "color": "rgba(255,255,255,0)"
           },
           "name": "Area",
           "type": "scatter",
           "x": [
            0,
            1.1224489795918366,
            1.1224489795918366,
            0,
            0
           ],
           "y": [
            0,
            0,
            1,
            1,
            0
           ]
          }
         ]
        },
        {
         "data": [
          {
           "line": {
            "color": "blue",
            "width": 1
           },
           "marker": {
            "size": 2
           },
           "mode": "lines+markers",
           "name": "V1",
           "type": "scatter",
           "x": [
            0,
            1.1428571428571428
           ],
           "y": [
            0,
            0
           ]
          },
          {
           "line": {
            "color": "red",
            "width": 1
           },
           "marker": {
            "size": 2
           },
           "mode": "lines+markers",
           "name": "V2",
           "type": "scatter",
           "x": [
            0,
            0
           ],
           "y": [
            0,
            1
           ]
          },
          {
           "line": {
            "color": "green",
            "width": 1
           },
           "marker": {
            "size": 2
           },
           "mode": "lines+markers",
           "name": "V1 + V2",
           "type": "scatter",
           "x": [
            0,
            1.1428571428571428
           ],
           "y": [
            0,
            1
           ]
          },
          {
           "fill": "toself",
           "fillcolor": "rgba(0, 100, 200, 0.2)",
           "line": {
            "color": "rgba(255,255,255,0)"
           },
           "name": "Area",
           "type": "scatter",
           "x": [
            0,
            1.1428571428571428,
            1.1428571428571428,
            0,
            0
           ],
           "y": [
            0,
            0,
            1,
            1,
            0
           ]
          }
         ]
        },
        {
         "data": [
          {
           "line": {
            "color": "blue",
            "width": 1
           },
           "marker": {
            "size": 2
           },
           "mode": "lines+markers",
           "name": "V1",
           "type": "scatter",
           "x": [
            0,
            1.163265306122449
           ],
           "y": [
            0,
            0
           ]
          },
          {
           "line": {
            "color": "red",
            "width": 1
           },
           "marker": {
            "size": 2
           },
           "mode": "lines+markers",
           "name": "V2",
           "type": "scatter",
           "x": [
            0,
            0
           ],
           "y": [
            0,
            1
           ]
          },
          {
           "line": {
            "color": "green",
            "width": 1
           },
           "marker": {
            "size": 2
           },
           "mode": "lines+markers",
           "name": "V1 + V2",
           "type": "scatter",
           "x": [
            0,
            1.163265306122449
           ],
           "y": [
            0,
            1
           ]
          },
          {
           "fill": "toself",
           "fillcolor": "rgba(0, 100, 200, 0.2)",
           "line": {
            "color": "rgba(255,255,255,0)"
           },
           "name": "Area",
           "type": "scatter",
           "x": [
            0,
            1.163265306122449,
            1.163265306122449,
            0,
            0
           ],
           "y": [
            0,
            0,
            1,
            1,
            0
           ]
          }
         ]
        },
        {
         "data": [
          {
           "line": {
            "color": "blue",
            "width": 1
           },
           "marker": {
            "size": 2
           },
           "mode": "lines+markers",
           "name": "V1",
           "type": "scatter",
           "x": [
            0,
            1.183673469387755
           ],
           "y": [
            0,
            0
           ]
          },
          {
           "line": {
            "color": "red",
            "width": 1
           },
           "marker": {
            "size": 2
           },
           "mode": "lines+markers",
           "name": "V2",
           "type": "scatter",
           "x": [
            0,
            0
           ],
           "y": [
            0,
            1
           ]
          },
          {
           "line": {
            "color": "green",
            "width": 1
           },
           "marker": {
            "size": 2
           },
           "mode": "lines+markers",
           "name": "V1 + V2",
           "type": "scatter",
           "x": [
            0,
            1.183673469387755
           ],
           "y": [
            0,
            1
           ]
          },
          {
           "fill": "toself",
           "fillcolor": "rgba(0, 100, 200, 0.2)",
           "line": {
            "color": "rgba(255,255,255,0)"
           },
           "name": "Area",
           "type": "scatter",
           "x": [
            0,
            1.183673469387755,
            1.183673469387755,
            0,
            0
           ],
           "y": [
            0,
            0,
            1,
            1,
            0
           ]
          }
         ]
        },
        {
         "data": [
          {
           "line": {
            "color": "blue",
            "width": 1
           },
           "marker": {
            "size": 2
           },
           "mode": "lines+markers",
           "name": "V1",
           "type": "scatter",
           "x": [
            0,
            1.2040816326530612
           ],
           "y": [
            0,
            0
           ]
          },
          {
           "line": {
            "color": "red",
            "width": 1
           },
           "marker": {
            "size": 2
           },
           "mode": "lines+markers",
           "name": "V2",
           "type": "scatter",
           "x": [
            0,
            0
           ],
           "y": [
            0,
            1
           ]
          },
          {
           "line": {
            "color": "green",
            "width": 1
           },
           "marker": {
            "size": 2
           },
           "mode": "lines+markers",
           "name": "V1 + V2",
           "type": "scatter",
           "x": [
            0,
            1.2040816326530612
           ],
           "y": [
            0,
            1
           ]
          },
          {
           "fill": "toself",
           "fillcolor": "rgba(0, 100, 200, 0.2)",
           "line": {
            "color": "rgba(255,255,255,0)"
           },
           "name": "Area",
           "type": "scatter",
           "x": [
            0,
            1.2040816326530612,
            1.2040816326530612,
            0,
            0
           ],
           "y": [
            0,
            0,
            1,
            1,
            0
           ]
          }
         ]
        },
        {
         "data": [
          {
           "line": {
            "color": "blue",
            "width": 1
           },
           "marker": {
            "size": 2
           },
           "mode": "lines+markers",
           "name": "V1",
           "type": "scatter",
           "x": [
            0,
            1.2244897959183674
           ],
           "y": [
            0,
            0
           ]
          },
          {
           "line": {
            "color": "red",
            "width": 1
           },
           "marker": {
            "size": 2
           },
           "mode": "lines+markers",
           "name": "V2",
           "type": "scatter",
           "x": [
            0,
            0
           ],
           "y": [
            0,
            1
           ]
          },
          {
           "line": {
            "color": "green",
            "width": 1
           },
           "marker": {
            "size": 2
           },
           "mode": "lines+markers",
           "name": "V1 + V2",
           "type": "scatter",
           "x": [
            0,
            1.2244897959183674
           ],
           "y": [
            0,
            1
           ]
          },
          {
           "fill": "toself",
           "fillcolor": "rgba(0, 100, 200, 0.2)",
           "line": {
            "color": "rgba(255,255,255,0)"
           },
           "name": "Area",
           "type": "scatter",
           "x": [
            0,
            1.2244897959183674,
            1.2244897959183674,
            0,
            0
           ],
           "y": [
            0,
            0,
            1,
            1,
            0
           ]
          }
         ]
        },
        {
         "data": [
          {
           "line": {
            "color": "blue",
            "width": 1
           },
           "marker": {
            "size": 2
           },
           "mode": "lines+markers",
           "name": "V1",
           "type": "scatter",
           "x": [
            0,
            1.2448979591836735
           ],
           "y": [
            0,
            0
           ]
          },
          {
           "line": {
            "color": "red",
            "width": 1
           },
           "marker": {
            "size": 2
           },
           "mode": "lines+markers",
           "name": "V2",
           "type": "scatter",
           "x": [
            0,
            0
           ],
           "y": [
            0,
            1
           ]
          },
          {
           "line": {
            "color": "green",
            "width": 1
           },
           "marker": {
            "size": 2
           },
           "mode": "lines+markers",
           "name": "V1 + V2",
           "type": "scatter",
           "x": [
            0,
            1.2448979591836735
           ],
           "y": [
            0,
            1
           ]
          },
          {
           "fill": "toself",
           "fillcolor": "rgba(0, 100, 200, 0.2)",
           "line": {
            "color": "rgba(255,255,255,0)"
           },
           "name": "Area",
           "type": "scatter",
           "x": [
            0,
            1.2448979591836735,
            1.2448979591836735,
            0,
            0
           ],
           "y": [
            0,
            0,
            1,
            1,
            0
           ]
          }
         ]
        },
        {
         "data": [
          {
           "line": {
            "color": "blue",
            "width": 1
           },
           "marker": {
            "size": 2
           },
           "mode": "lines+markers",
           "name": "V1",
           "type": "scatter",
           "x": [
            0,
            1.2653061224489797
           ],
           "y": [
            0,
            0
           ]
          },
          {
           "line": {
            "color": "red",
            "width": 1
           },
           "marker": {
            "size": 2
           },
           "mode": "lines+markers",
           "name": "V2",
           "type": "scatter",
           "x": [
            0,
            0
           ],
           "y": [
            0,
            1
           ]
          },
          {
           "line": {
            "color": "green",
            "width": 1
           },
           "marker": {
            "size": 2
           },
           "mode": "lines+markers",
           "name": "V1 + V2",
           "type": "scatter",
           "x": [
            0,
            1.2653061224489797
           ],
           "y": [
            0,
            1
           ]
          },
          {
           "fill": "toself",
           "fillcolor": "rgba(0, 100, 200, 0.2)",
           "line": {
            "color": "rgba(255,255,255,0)"
           },
           "name": "Area",
           "type": "scatter",
           "x": [
            0,
            1.2653061224489797,
            1.2653061224489797,
            0,
            0
           ],
           "y": [
            0,
            0,
            1,
            1,
            0
           ]
          }
         ]
        },
        {
         "data": [
          {
           "line": {
            "color": "blue",
            "width": 1
           },
           "marker": {
            "size": 2
           },
           "mode": "lines+markers",
           "name": "V1",
           "type": "scatter",
           "x": [
            0,
            1.2857142857142856
           ],
           "y": [
            0,
            0
           ]
          },
          {
           "line": {
            "color": "red",
            "width": 1
           },
           "marker": {
            "size": 2
           },
           "mode": "lines+markers",
           "name": "V2",
           "type": "scatter",
           "x": [
            0,
            0
           ],
           "y": [
            0,
            1
           ]
          },
          {
           "line": {
            "color": "green",
            "width": 1
           },
           "marker": {
            "size": 2
           },
           "mode": "lines+markers",
           "name": "V1 + V2",
           "type": "scatter",
           "x": [
            0,
            1.2857142857142856
           ],
           "y": [
            0,
            1
           ]
          },
          {
           "fill": "toself",
           "fillcolor": "rgba(0, 100, 200, 0.2)",
           "line": {
            "color": "rgba(255,255,255,0)"
           },
           "name": "Area",
           "type": "scatter",
           "x": [
            0,
            1.2857142857142856,
            1.2857142857142856,
            0,
            0
           ],
           "y": [
            0,
            0,
            1,
            1,
            0
           ]
          }
         ]
        },
        {
         "data": [
          {
           "line": {
            "color": "blue",
            "width": 1
           },
           "marker": {
            "size": 2
           },
           "mode": "lines+markers",
           "name": "V1",
           "type": "scatter",
           "x": [
            0,
            1.3061224489795917
           ],
           "y": [
            0,
            0
           ]
          },
          {
           "line": {
            "color": "red",
            "width": 1
           },
           "marker": {
            "size": 2
           },
           "mode": "lines+markers",
           "name": "V2",
           "type": "scatter",
           "x": [
            0,
            0
           ],
           "y": [
            0,
            1
           ]
          },
          {
           "line": {
            "color": "green",
            "width": 1
           },
           "marker": {
            "size": 2
           },
           "mode": "lines+markers",
           "name": "V1 + V2",
           "type": "scatter",
           "x": [
            0,
            1.3061224489795917
           ],
           "y": [
            0,
            1
           ]
          },
          {
           "fill": "toself",
           "fillcolor": "rgba(0, 100, 200, 0.2)",
           "line": {
            "color": "rgba(255,255,255,0)"
           },
           "name": "Area",
           "type": "scatter",
           "x": [
            0,
            1.3061224489795917,
            1.3061224489795917,
            0,
            0
           ],
           "y": [
            0,
            0,
            1,
            1,
            0
           ]
          }
         ]
        },
        {
         "data": [
          {
           "line": {
            "color": "blue",
            "width": 1
           },
           "marker": {
            "size": 2
           },
           "mode": "lines+markers",
           "name": "V1",
           "type": "scatter",
           "x": [
            0,
            1.3265306122448979
           ],
           "y": [
            0,
            0
           ]
          },
          {
           "line": {
            "color": "red",
            "width": 1
           },
           "marker": {
            "size": 2
           },
           "mode": "lines+markers",
           "name": "V2",
           "type": "scatter",
           "x": [
            0,
            0
           ],
           "y": [
            0,
            1
           ]
          },
          {
           "line": {
            "color": "green",
            "width": 1
           },
           "marker": {
            "size": 2
           },
           "mode": "lines+markers",
           "name": "V1 + V2",
           "type": "scatter",
           "x": [
            0,
            1.3265306122448979
           ],
           "y": [
            0,
            1
           ]
          },
          {
           "fill": "toself",
           "fillcolor": "rgba(0, 100, 200, 0.2)",
           "line": {
            "color": "rgba(255,255,255,0)"
           },
           "name": "Area",
           "type": "scatter",
           "x": [
            0,
            1.3265306122448979,
            1.3265306122448979,
            0,
            0
           ],
           "y": [
            0,
            0,
            1,
            1,
            0
           ]
          }
         ]
        },
        {
         "data": [
          {
           "line": {
            "color": "blue",
            "width": 1
           },
           "marker": {
            "size": 2
           },
           "mode": "lines+markers",
           "name": "V1",
           "type": "scatter",
           "x": [
            0,
            1.346938775510204
           ],
           "y": [
            0,
            0
           ]
          },
          {
           "line": {
            "color": "red",
            "width": 1
           },
           "marker": {
            "size": 2
           },
           "mode": "lines+markers",
           "name": "V2",
           "type": "scatter",
           "x": [
            0,
            0
           ],
           "y": [
            0,
            1
           ]
          },
          {
           "line": {
            "color": "green",
            "width": 1
           },
           "marker": {
            "size": 2
           },
           "mode": "lines+markers",
           "name": "V1 + V2",
           "type": "scatter",
           "x": [
            0,
            1.346938775510204
           ],
           "y": [
            0,
            1
           ]
          },
          {
           "fill": "toself",
           "fillcolor": "rgba(0, 100, 200, 0.2)",
           "line": {
            "color": "rgba(255,255,255,0)"
           },
           "name": "Area",
           "type": "scatter",
           "x": [
            0,
            1.346938775510204,
            1.346938775510204,
            0,
            0
           ],
           "y": [
            0,
            0,
            1,
            1,
            0
           ]
          }
         ]
        },
        {
         "data": [
          {
           "line": {
            "color": "blue",
            "width": 1
           },
           "marker": {
            "size": 2
           },
           "mode": "lines+markers",
           "name": "V1",
           "type": "scatter",
           "x": [
            0,
            1.3673469387755102
           ],
           "y": [
            0,
            0
           ]
          },
          {
           "line": {
            "color": "red",
            "width": 1
           },
           "marker": {
            "size": 2
           },
           "mode": "lines+markers",
           "name": "V2",
           "type": "scatter",
           "x": [
            0,
            0
           ],
           "y": [
            0,
            1
           ]
          },
          {
           "line": {
            "color": "green",
            "width": 1
           },
           "marker": {
            "size": 2
           },
           "mode": "lines+markers",
           "name": "V1 + V2",
           "type": "scatter",
           "x": [
            0,
            1.3673469387755102
           ],
           "y": [
            0,
            1
           ]
          },
          {
           "fill": "toself",
           "fillcolor": "rgba(0, 100, 200, 0.2)",
           "line": {
            "color": "rgba(255,255,255,0)"
           },
           "name": "Area",
           "type": "scatter",
           "x": [
            0,
            1.3673469387755102,
            1.3673469387755102,
            0,
            0
           ],
           "y": [
            0,
            0,
            1,
            1,
            0
           ]
          }
         ]
        },
        {
         "data": [
          {
           "line": {
            "color": "blue",
            "width": 1
           },
           "marker": {
            "size": 2
           },
           "mode": "lines+markers",
           "name": "V1",
           "type": "scatter",
           "x": [
            0,
            1.3877551020408163
           ],
           "y": [
            0,
            0
           ]
          },
          {
           "line": {
            "color": "red",
            "width": 1
           },
           "marker": {
            "size": 2
           },
           "mode": "lines+markers",
           "name": "V2",
           "type": "scatter",
           "x": [
            0,
            0
           ],
           "y": [
            0,
            1
           ]
          },
          {
           "line": {
            "color": "green",
            "width": 1
           },
           "marker": {
            "size": 2
           },
           "mode": "lines+markers",
           "name": "V1 + V2",
           "type": "scatter",
           "x": [
            0,
            1.3877551020408163
           ],
           "y": [
            0,
            1
           ]
          },
          {
           "fill": "toself",
           "fillcolor": "rgba(0, 100, 200, 0.2)",
           "line": {
            "color": "rgba(255,255,255,0)"
           },
           "name": "Area",
           "type": "scatter",
           "x": [
            0,
            1.3877551020408163,
            1.3877551020408163,
            0,
            0
           ],
           "y": [
            0,
            0,
            1,
            1,
            0
           ]
          }
         ]
        },
        {
         "data": [
          {
           "line": {
            "color": "blue",
            "width": 1
           },
           "marker": {
            "size": 2
           },
           "mode": "lines+markers",
           "name": "V1",
           "type": "scatter",
           "x": [
            0,
            1.4081632653061225
           ],
           "y": [
            0,
            0
           ]
          },
          {
           "line": {
            "color": "red",
            "width": 1
           },
           "marker": {
            "size": 2
           },
           "mode": "lines+markers",
           "name": "V2",
           "type": "scatter",
           "x": [
            0,
            0
           ],
           "y": [
            0,
            1
           ]
          },
          {
           "line": {
            "color": "green",
            "width": 1
           },
           "marker": {
            "size": 2
           },
           "mode": "lines+markers",
           "name": "V1 + V2",
           "type": "scatter",
           "x": [
            0,
            1.4081632653061225
           ],
           "y": [
            0,
            1
           ]
          },
          {
           "fill": "toself",
           "fillcolor": "rgba(0, 100, 200, 0.2)",
           "line": {
            "color": "rgba(255,255,255,0)"
           },
           "name": "Area",
           "type": "scatter",
           "x": [
            0,
            1.4081632653061225,
            1.4081632653061225,
            0,
            0
           ],
           "y": [
            0,
            0,
            1,
            1,
            0
           ]
          }
         ]
        },
        {
         "data": [
          {
           "line": {
            "color": "blue",
            "width": 1
           },
           "marker": {
            "size": 2
           },
           "mode": "lines+markers",
           "name": "V1",
           "type": "scatter",
           "x": [
            0,
            1.4285714285714286
           ],
           "y": [
            0,
            0
           ]
          },
          {
           "line": {
            "color": "red",
            "width": 1
           },
           "marker": {
            "size": 2
           },
           "mode": "lines+markers",
           "name": "V2",
           "type": "scatter",
           "x": [
            0,
            0
           ],
           "y": [
            0,
            1
           ]
          },
          {
           "line": {
            "color": "green",
            "width": 1
           },
           "marker": {
            "size": 2
           },
           "mode": "lines+markers",
           "name": "V1 + V2",
           "type": "scatter",
           "x": [
            0,
            1.4285714285714286
           ],
           "y": [
            0,
            1
           ]
          },
          {
           "fill": "toself",
           "fillcolor": "rgba(0, 100, 200, 0.2)",
           "line": {
            "color": "rgba(255,255,255,0)"
           },
           "name": "Area",
           "type": "scatter",
           "x": [
            0,
            1.4285714285714286,
            1.4285714285714286,
            0,
            0
           ],
           "y": [
            0,
            0,
            1,
            1,
            0
           ]
          }
         ]
        },
        {
         "data": [
          {
           "line": {
            "color": "blue",
            "width": 1
           },
           "marker": {
            "size": 2
           },
           "mode": "lines+markers",
           "name": "V1",
           "type": "scatter",
           "x": [
            0,
            1.4489795918367347
           ],
           "y": [
            0,
            0
           ]
          },
          {
           "line": {
            "color": "red",
            "width": 1
           },
           "marker": {
            "size": 2
           },
           "mode": "lines+markers",
           "name": "V2",
           "type": "scatter",
           "x": [
            0,
            0
           ],
           "y": [
            0,
            1
           ]
          },
          {
           "line": {
            "color": "green",
            "width": 1
           },
           "marker": {
            "size": 2
           },
           "mode": "lines+markers",
           "name": "V1 + V2",
           "type": "scatter",
           "x": [
            0,
            1.4489795918367347
           ],
           "y": [
            0,
            1
           ]
          },
          {
           "fill": "toself",
           "fillcolor": "rgba(0, 100, 200, 0.2)",
           "line": {
            "color": "rgba(255,255,255,0)"
           },
           "name": "Area",
           "type": "scatter",
           "x": [
            0,
            1.4489795918367347,
            1.4489795918367347,
            0,
            0
           ],
           "y": [
            0,
            0,
            1,
            1,
            0
           ]
          }
         ]
        },
        {
         "data": [
          {
           "line": {
            "color": "blue",
            "width": 1
           },
           "marker": {
            "size": 2
           },
           "mode": "lines+markers",
           "name": "V1",
           "type": "scatter",
           "x": [
            0,
            1.4693877551020407
           ],
           "y": [
            0,
            0
           ]
          },
          {
           "line": {
            "color": "red",
            "width": 1
           },
           "marker": {
            "size": 2
           },
           "mode": "lines+markers",
           "name": "V2",
           "type": "scatter",
           "x": [
            0,
            0
           ],
           "y": [
            0,
            1
           ]
          },
          {
           "line": {
            "color": "green",
            "width": 1
           },
           "marker": {
            "size": 2
           },
           "mode": "lines+markers",
           "name": "V1 + V2",
           "type": "scatter",
           "x": [
            0,
            1.4693877551020407
           ],
           "y": [
            0,
            1
           ]
          },
          {
           "fill": "toself",
           "fillcolor": "rgba(0, 100, 200, 0.2)",
           "line": {
            "color": "rgba(255,255,255,0)"
           },
           "name": "Area",
           "type": "scatter",
           "x": [
            0,
            1.4693877551020407,
            1.4693877551020407,
            0,
            0
           ],
           "y": [
            0,
            0,
            1,
            1,
            0
           ]
          }
         ]
        },
        {
         "data": [
          {
           "line": {
            "color": "blue",
            "width": 1
           },
           "marker": {
            "size": 2
           },
           "mode": "lines+markers",
           "name": "V1",
           "type": "scatter",
           "x": [
            0,
            1.489795918367347
           ],
           "y": [
            0,
            0
           ]
          },
          {
           "line": {
            "color": "red",
            "width": 1
           },
           "marker": {
            "size": 2
           },
           "mode": "lines+markers",
           "name": "V2",
           "type": "scatter",
           "x": [
            0,
            0
           ],
           "y": [
            0,
            1
           ]
          },
          {
           "line": {
            "color": "green",
            "width": 1
           },
           "marker": {
            "size": 2
           },
           "mode": "lines+markers",
           "name": "V1 + V2",
           "type": "scatter",
           "x": [
            0,
            1.489795918367347
           ],
           "y": [
            0,
            1
           ]
          },
          {
           "fill": "toself",
           "fillcolor": "rgba(0, 100, 200, 0.2)",
           "line": {
            "color": "rgba(255,255,255,0)"
           },
           "name": "Area",
           "type": "scatter",
           "x": [
            0,
            1.489795918367347,
            1.489795918367347,
            0,
            0
           ],
           "y": [
            0,
            0,
            1,
            1,
            0
           ]
          }
         ]
        },
        {
         "data": [
          {
           "line": {
            "color": "blue",
            "width": 1
           },
           "marker": {
            "size": 2
           },
           "mode": "lines+markers",
           "name": "V1",
           "type": "scatter",
           "x": [
            0,
            1.510204081632653
           ],
           "y": [
            0,
            0
           ]
          },
          {
           "line": {
            "color": "red",
            "width": 1
           },
           "marker": {
            "size": 2
           },
           "mode": "lines+markers",
           "name": "V2",
           "type": "scatter",
           "x": [
            0,
            0
           ],
           "y": [
            0,
            1
           ]
          },
          {
           "line": {
            "color": "green",
            "width": 1
           },
           "marker": {
            "size": 2
           },
           "mode": "lines+markers",
           "name": "V1 + V2",
           "type": "scatter",
           "x": [
            0,
            1.510204081632653
           ],
           "y": [
            0,
            1
           ]
          },
          {
           "fill": "toself",
           "fillcolor": "rgba(0, 100, 200, 0.2)",
           "line": {
            "color": "rgba(255,255,255,0)"
           },
           "name": "Area",
           "type": "scatter",
           "x": [
            0,
            1.510204081632653,
            1.510204081632653,
            0,
            0
           ],
           "y": [
            0,
            0,
            1,
            1,
            0
           ]
          }
         ]
        },
        {
         "data": [
          {
           "line": {
            "color": "blue",
            "width": 1
           },
           "marker": {
            "size": 2
           },
           "mode": "lines+markers",
           "name": "V1",
           "type": "scatter",
           "x": [
            0,
            1.530612244897959
           ],
           "y": [
            0,
            0
           ]
          },
          {
           "line": {
            "color": "red",
            "width": 1
           },
           "marker": {
            "size": 2
           },
           "mode": "lines+markers",
           "name": "V2",
           "type": "scatter",
           "x": [
            0,
            0
           ],
           "y": [
            0,
            1
           ]
          },
          {
           "line": {
            "color": "green",
            "width": 1
           },
           "marker": {
            "size": 2
           },
           "mode": "lines+markers",
           "name": "V1 + V2",
           "type": "scatter",
           "x": [
            0,
            1.530612244897959
           ],
           "y": [
            0,
            1
           ]
          },
          {
           "fill": "toself",
           "fillcolor": "rgba(0, 100, 200, 0.2)",
           "line": {
            "color": "rgba(255,255,255,0)"
           },
           "name": "Area",
           "type": "scatter",
           "x": [
            0,
            1.530612244897959,
            1.530612244897959,
            0,
            0
           ],
           "y": [
            0,
            0,
            1,
            1,
            0
           ]
          }
         ]
        },
        {
         "data": [
          {
           "line": {
            "color": "blue",
            "width": 1
           },
           "marker": {
            "size": 2
           },
           "mode": "lines+markers",
           "name": "V1",
           "type": "scatter",
           "x": [
            0,
            1.5510204081632653
           ],
           "y": [
            0,
            0
           ]
          },
          {
           "line": {
            "color": "red",
            "width": 1
           },
           "marker": {
            "size": 2
           },
           "mode": "lines+markers",
           "name": "V2",
           "type": "scatter",
           "x": [
            0,
            0
           ],
           "y": [
            0,
            1
           ]
          },
          {
           "line": {
            "color": "green",
            "width": 1
           },
           "marker": {
            "size": 2
           },
           "mode": "lines+markers",
           "name": "V1 + V2",
           "type": "scatter",
           "x": [
            0,
            1.5510204081632653
           ],
           "y": [
            0,
            1
           ]
          },
          {
           "fill": "toself",
           "fillcolor": "rgba(0, 100, 200, 0.2)",
           "line": {
            "color": "rgba(255,255,255,0)"
           },
           "name": "Area",
           "type": "scatter",
           "x": [
            0,
            1.5510204081632653,
            1.5510204081632653,
            0,
            0
           ],
           "y": [
            0,
            0,
            1,
            1,
            0
           ]
          }
         ]
        },
        {
         "data": [
          {
           "line": {
            "color": "blue",
            "width": 1
           },
           "marker": {
            "size": 2
           },
           "mode": "lines+markers",
           "name": "V1",
           "type": "scatter",
           "x": [
            0,
            1.5714285714285714
           ],
           "y": [
            0,
            0
           ]
          },
          {
           "line": {
            "color": "red",
            "width": 1
           },
           "marker": {
            "size": 2
           },
           "mode": "lines+markers",
           "name": "V2",
           "type": "scatter",
           "x": [
            0,
            0
           ],
           "y": [
            0,
            1
           ]
          },
          {
           "line": {
            "color": "green",
            "width": 1
           },
           "marker": {
            "size": 2
           },
           "mode": "lines+markers",
           "name": "V1 + V2",
           "type": "scatter",
           "x": [
            0,
            1.5714285714285714
           ],
           "y": [
            0,
            1
           ]
          },
          {
           "fill": "toself",
           "fillcolor": "rgba(0, 100, 200, 0.2)",
           "line": {
            "color": "rgba(255,255,255,0)"
           },
           "name": "Area",
           "type": "scatter",
           "x": [
            0,
            1.5714285714285714,
            1.5714285714285714,
            0,
            0
           ],
           "y": [
            0,
            0,
            1,
            1,
            0
           ]
          }
         ]
        },
        {
         "data": [
          {
           "line": {
            "color": "blue",
            "width": 1
           },
           "marker": {
            "size": 2
           },
           "mode": "lines+markers",
           "name": "V1",
           "type": "scatter",
           "x": [
            0,
            1.5918367346938775
           ],
           "y": [
            0,
            0
           ]
          },
          {
           "line": {
            "color": "red",
            "width": 1
           },
           "marker": {
            "size": 2
           },
           "mode": "lines+markers",
           "name": "V2",
           "type": "scatter",
           "x": [
            0,
            0
           ],
           "y": [
            0,
            1
           ]
          },
          {
           "line": {
            "color": "green",
            "width": 1
           },
           "marker": {
            "size": 2
           },
           "mode": "lines+markers",
           "name": "V1 + V2",
           "type": "scatter",
           "x": [
            0,
            1.5918367346938775
           ],
           "y": [
            0,
            1
           ]
          },
          {
           "fill": "toself",
           "fillcolor": "rgba(0, 100, 200, 0.2)",
           "line": {
            "color": "rgba(255,255,255,0)"
           },
           "name": "Area",
           "type": "scatter",
           "x": [
            0,
            1.5918367346938775,
            1.5918367346938775,
            0,
            0
           ],
           "y": [
            0,
            0,
            1,
            1,
            0
           ]
          }
         ]
        },
        {
         "data": [
          {
           "line": {
            "color": "blue",
            "width": 1
           },
           "marker": {
            "size": 2
           },
           "mode": "lines+markers",
           "name": "V1",
           "type": "scatter",
           "x": [
            0,
            1.6122448979591835
           ],
           "y": [
            0,
            0
           ]
          },
          {
           "line": {
            "color": "red",
            "width": 1
           },
           "marker": {
            "size": 2
           },
           "mode": "lines+markers",
           "name": "V2",
           "type": "scatter",
           "x": [
            0,
            0
           ],
           "y": [
            0,
            1
           ]
          },
          {
           "line": {
            "color": "green",
            "width": 1
           },
           "marker": {
            "size": 2
           },
           "mode": "lines+markers",
           "name": "V1 + V2",
           "type": "scatter",
           "x": [
            0,
            1.6122448979591835
           ],
           "y": [
            0,
            1
           ]
          },
          {
           "fill": "toself",
           "fillcolor": "rgba(0, 100, 200, 0.2)",
           "line": {
            "color": "rgba(255,255,255,0)"
           },
           "name": "Area",
           "type": "scatter",
           "x": [
            0,
            1.6122448979591835,
            1.6122448979591835,
            0,
            0
           ],
           "y": [
            0,
            0,
            1,
            1,
            0
           ]
          }
         ]
        },
        {
         "data": [
          {
           "line": {
            "color": "blue",
            "width": 1
           },
           "marker": {
            "size": 2
           },
           "mode": "lines+markers",
           "name": "V1",
           "type": "scatter",
           "x": [
            0,
            1.6326530612244898
           ],
           "y": [
            0,
            0
           ]
          },
          {
           "line": {
            "color": "red",
            "width": 1
           },
           "marker": {
            "size": 2
           },
           "mode": "lines+markers",
           "name": "V2",
           "type": "scatter",
           "x": [
            0,
            0
           ],
           "y": [
            0,
            1
           ]
          },
          {
           "line": {
            "color": "green",
            "width": 1
           },
           "marker": {
            "size": 2
           },
           "mode": "lines+markers",
           "name": "V1 + V2",
           "type": "scatter",
           "x": [
            0,
            1.6326530612244898
           ],
           "y": [
            0,
            1
           ]
          },
          {
           "fill": "toself",
           "fillcolor": "rgba(0, 100, 200, 0.2)",
           "line": {
            "color": "rgba(255,255,255,0)"
           },
           "name": "Area",
           "type": "scatter",
           "x": [
            0,
            1.6326530612244898,
            1.6326530612244898,
            0,
            0
           ],
           "y": [
            0,
            0,
            1,
            1,
            0
           ]
          }
         ]
        },
        {
         "data": [
          {
           "line": {
            "color": "blue",
            "width": 1
           },
           "marker": {
            "size": 2
           },
           "mode": "lines+markers",
           "name": "V1",
           "type": "scatter",
           "x": [
            0,
            1.6530612244897958
           ],
           "y": [
            0,
            0
           ]
          },
          {
           "line": {
            "color": "red",
            "width": 1
           },
           "marker": {
            "size": 2
           },
           "mode": "lines+markers",
           "name": "V2",
           "type": "scatter",
           "x": [
            0,
            0
           ],
           "y": [
            0,
            1
           ]
          },
          {
           "line": {
            "color": "green",
            "width": 1
           },
           "marker": {
            "size": 2
           },
           "mode": "lines+markers",
           "name": "V1 + V2",
           "type": "scatter",
           "x": [
            0,
            1.6530612244897958
           ],
           "y": [
            0,
            1
           ]
          },
          {
           "fill": "toself",
           "fillcolor": "rgba(0, 100, 200, 0.2)",
           "line": {
            "color": "rgba(255,255,255,0)"
           },
           "name": "Area",
           "type": "scatter",
           "x": [
            0,
            1.6530612244897958,
            1.6530612244897958,
            0,
            0
           ],
           "y": [
            0,
            0,
            1,
            1,
            0
           ]
          }
         ]
        },
        {
         "data": [
          {
           "line": {
            "color": "blue",
            "width": 1
           },
           "marker": {
            "size": 2
           },
           "mode": "lines+markers",
           "name": "V1",
           "type": "scatter",
           "x": [
            0,
            1.6734693877551021
           ],
           "y": [
            0,
            0
           ]
          },
          {
           "line": {
            "color": "red",
            "width": 1
           },
           "marker": {
            "size": 2
           },
           "mode": "lines+markers",
           "name": "V2",
           "type": "scatter",
           "x": [
            0,
            0
           ],
           "y": [
            0,
            1
           ]
          },
          {
           "line": {
            "color": "green",
            "width": 1
           },
           "marker": {
            "size": 2
           },
           "mode": "lines+markers",
           "name": "V1 + V2",
           "type": "scatter",
           "x": [
            0,
            1.6734693877551021
           ],
           "y": [
            0,
            1
           ]
          },
          {
           "fill": "toself",
           "fillcolor": "rgba(0, 100, 200, 0.2)",
           "line": {
            "color": "rgba(255,255,255,0)"
           },
           "name": "Area",
           "type": "scatter",
           "x": [
            0,
            1.6734693877551021,
            1.6734693877551021,
            0,
            0
           ],
           "y": [
            0,
            0,
            1,
            1,
            0
           ]
          }
         ]
        },
        {
         "data": [
          {
           "line": {
            "color": "blue",
            "width": 1
           },
           "marker": {
            "size": 2
           },
           "mode": "lines+markers",
           "name": "V1",
           "type": "scatter",
           "x": [
            0,
            1.693877551020408
           ],
           "y": [
            0,
            0
           ]
          },
          {
           "line": {
            "color": "red",
            "width": 1
           },
           "marker": {
            "size": 2
           },
           "mode": "lines+markers",
           "name": "V2",
           "type": "scatter",
           "x": [
            0,
            0
           ],
           "y": [
            0,
            1
           ]
          },
          {
           "line": {
            "color": "green",
            "width": 1
           },
           "marker": {
            "size": 2
           },
           "mode": "lines+markers",
           "name": "V1 + V2",
           "type": "scatter",
           "x": [
            0,
            1.693877551020408
           ],
           "y": [
            0,
            1
           ]
          },
          {
           "fill": "toself",
           "fillcolor": "rgba(0, 100, 200, 0.2)",
           "line": {
            "color": "rgba(255,255,255,0)"
           },
           "name": "Area",
           "type": "scatter",
           "x": [
            0,
            1.693877551020408,
            1.693877551020408,
            0,
            0
           ],
           "y": [
            0,
            0,
            1,
            1,
            0
           ]
          }
         ]
        },
        {
         "data": [
          {
           "line": {
            "color": "blue",
            "width": 1
           },
           "marker": {
            "size": 2
           },
           "mode": "lines+markers",
           "name": "V1",
           "type": "scatter",
           "x": [
            0,
            1.7142857142857142
           ],
           "y": [
            0,
            0
           ]
          },
          {
           "line": {
            "color": "red",
            "width": 1
           },
           "marker": {
            "size": 2
           },
           "mode": "lines+markers",
           "name": "V2",
           "type": "scatter",
           "x": [
            0,
            0
           ],
           "y": [
            0,
            1
           ]
          },
          {
           "line": {
            "color": "green",
            "width": 1
           },
           "marker": {
            "size": 2
           },
           "mode": "lines+markers",
           "name": "V1 + V2",
           "type": "scatter",
           "x": [
            0,
            1.7142857142857142
           ],
           "y": [
            0,
            1
           ]
          },
          {
           "fill": "toself",
           "fillcolor": "rgba(0, 100, 200, 0.2)",
           "line": {
            "color": "rgba(255,255,255,0)"
           },
           "name": "Area",
           "type": "scatter",
           "x": [
            0,
            1.7142857142857142,
            1.7142857142857142,
            0,
            0
           ],
           "y": [
            0,
            0,
            1,
            1,
            0
           ]
          }
         ]
        },
        {
         "data": [
          {
           "line": {
            "color": "blue",
            "width": 1
           },
           "marker": {
            "size": 2
           },
           "mode": "lines+markers",
           "name": "V1",
           "type": "scatter",
           "x": [
            0,
            1.7346938775510203
           ],
           "y": [
            0,
            0
           ]
          },
          {
           "line": {
            "color": "red",
            "width": 1
           },
           "marker": {
            "size": 2
           },
           "mode": "lines+markers",
           "name": "V2",
           "type": "scatter",
           "x": [
            0,
            0
           ],
           "y": [
            0,
            1
           ]
          },
          {
           "line": {
            "color": "green",
            "width": 1
           },
           "marker": {
            "size": 2
           },
           "mode": "lines+markers",
           "name": "V1 + V2",
           "type": "scatter",
           "x": [
            0,
            1.7346938775510203
           ],
           "y": [
            0,
            1
           ]
          },
          {
           "fill": "toself",
           "fillcolor": "rgba(0, 100, 200, 0.2)",
           "line": {
            "color": "rgba(255,255,255,0)"
           },
           "name": "Area",
           "type": "scatter",
           "x": [
            0,
            1.7346938775510203,
            1.7346938775510203,
            0,
            0
           ],
           "y": [
            0,
            0,
            1,
            1,
            0
           ]
          }
         ]
        },
        {
         "data": [
          {
           "line": {
            "color": "blue",
            "width": 1
           },
           "marker": {
            "size": 2
           },
           "mode": "lines+markers",
           "name": "V1",
           "type": "scatter",
           "x": [
            0,
            1.7551020408163265
           ],
           "y": [
            0,
            0
           ]
          },
          {
           "line": {
            "color": "red",
            "width": 1
           },
           "marker": {
            "size": 2
           },
           "mode": "lines+markers",
           "name": "V2",
           "type": "scatter",
           "x": [
            0,
            0
           ],
           "y": [
            0,
            1
           ]
          },
          {
           "line": {
            "color": "green",
            "width": 1
           },
           "marker": {
            "size": 2
           },
           "mode": "lines+markers",
           "name": "V1 + V2",
           "type": "scatter",
           "x": [
            0,
            1.7551020408163265
           ],
           "y": [
            0,
            1
           ]
          },
          {
           "fill": "toself",
           "fillcolor": "rgba(0, 100, 200, 0.2)",
           "line": {
            "color": "rgba(255,255,255,0)"
           },
           "name": "Area",
           "type": "scatter",
           "x": [
            0,
            1.7551020408163265,
            1.7551020408163265,
            0,
            0
           ],
           "y": [
            0,
            0,
            1,
            1,
            0
           ]
          }
         ]
        },
        {
         "data": [
          {
           "line": {
            "color": "blue",
            "width": 1
           },
           "marker": {
            "size": 2
           },
           "mode": "lines+markers",
           "name": "V1",
           "type": "scatter",
           "x": [
            0,
            1.7755102040816326
           ],
           "y": [
            0,
            0
           ]
          },
          {
           "line": {
            "color": "red",
            "width": 1
           },
           "marker": {
            "size": 2
           },
           "mode": "lines+markers",
           "name": "V2",
           "type": "scatter",
           "x": [
            0,
            0
           ],
           "y": [
            0,
            1
           ]
          },
          {
           "line": {
            "color": "green",
            "width": 1
           },
           "marker": {
            "size": 2
           },
           "mode": "lines+markers",
           "name": "V1 + V2",
           "type": "scatter",
           "x": [
            0,
            1.7755102040816326
           ],
           "y": [
            0,
            1
           ]
          },
          {
           "fill": "toself",
           "fillcolor": "rgba(0, 100, 200, 0.2)",
           "line": {
            "color": "rgba(255,255,255,0)"
           },
           "name": "Area",
           "type": "scatter",
           "x": [
            0,
            1.7755102040816326,
            1.7755102040816326,
            0,
            0
           ],
           "y": [
            0,
            0,
            1,
            1,
            0
           ]
          }
         ]
        },
        {
         "data": [
          {
           "line": {
            "color": "blue",
            "width": 1
           },
           "marker": {
            "size": 2
           },
           "mode": "lines+markers",
           "name": "V1",
           "type": "scatter",
           "x": [
            0,
            1.7959183673469385
           ],
           "y": [
            0,
            0
           ]
          },
          {
           "line": {
            "color": "red",
            "width": 1
           },
           "marker": {
            "size": 2
           },
           "mode": "lines+markers",
           "name": "V2",
           "type": "scatter",
           "x": [
            0,
            0
           ],
           "y": [
            0,
            1
           ]
          },
          {
           "line": {
            "color": "green",
            "width": 1
           },
           "marker": {
            "size": 2
           },
           "mode": "lines+markers",
           "name": "V1 + V2",
           "type": "scatter",
           "x": [
            0,
            1.7959183673469385
           ],
           "y": [
            0,
            1
           ]
          },
          {
           "fill": "toself",
           "fillcolor": "rgba(0, 100, 200, 0.2)",
           "line": {
            "color": "rgba(255,255,255,0)"
           },
           "name": "Area",
           "type": "scatter",
           "x": [
            0,
            1.7959183673469385,
            1.7959183673469385,
            0,
            0
           ],
           "y": [
            0,
            0,
            1,
            1,
            0
           ]
          }
         ]
        },
        {
         "data": [
          {
           "line": {
            "color": "blue",
            "width": 1
           },
           "marker": {
            "size": 2
           },
           "mode": "lines+markers",
           "name": "V1",
           "type": "scatter",
           "x": [
            0,
            1.816326530612245
           ],
           "y": [
            0,
            0
           ]
          },
          {
           "line": {
            "color": "red",
            "width": 1
           },
           "marker": {
            "size": 2
           },
           "mode": "lines+markers",
           "name": "V2",
           "type": "scatter",
           "x": [
            0,
            0
           ],
           "y": [
            0,
            1
           ]
          },
          {
           "line": {
            "color": "green",
            "width": 1
           },
           "marker": {
            "size": 2
           },
           "mode": "lines+markers",
           "name": "V1 + V2",
           "type": "scatter",
           "x": [
            0,
            1.816326530612245
           ],
           "y": [
            0,
            1
           ]
          },
          {
           "fill": "toself",
           "fillcolor": "rgba(0, 100, 200, 0.2)",
           "line": {
            "color": "rgba(255,255,255,0)"
           },
           "name": "Area",
           "type": "scatter",
           "x": [
            0,
            1.816326530612245,
            1.816326530612245,
            0,
            0
           ],
           "y": [
            0,
            0,
            1,
            1,
            0
           ]
          }
         ]
        },
        {
         "data": [
          {
           "line": {
            "color": "blue",
            "width": 1
           },
           "marker": {
            "size": 2
           },
           "mode": "lines+markers",
           "name": "V1",
           "type": "scatter",
           "x": [
            0,
            1.8367346938775508
           ],
           "y": [
            0,
            0
           ]
          },
          {
           "line": {
            "color": "red",
            "width": 1
           },
           "marker": {
            "size": 2
           },
           "mode": "lines+markers",
           "name": "V2",
           "type": "scatter",
           "x": [
            0,
            0
           ],
           "y": [
            0,
            1
           ]
          },
          {
           "line": {
            "color": "green",
            "width": 1
           },
           "marker": {
            "size": 2
           },
           "mode": "lines+markers",
           "name": "V1 + V2",
           "type": "scatter",
           "x": [
            0,
            1.8367346938775508
           ],
           "y": [
            0,
            1
           ]
          },
          {
           "fill": "toself",
           "fillcolor": "rgba(0, 100, 200, 0.2)",
           "line": {
            "color": "rgba(255,255,255,0)"
           },
           "name": "Area",
           "type": "scatter",
           "x": [
            0,
            1.8367346938775508,
            1.8367346938775508,
            0,
            0
           ],
           "y": [
            0,
            0,
            1,
            1,
            0
           ]
          }
         ]
        },
        {
         "data": [
          {
           "line": {
            "color": "blue",
            "width": 1
           },
           "marker": {
            "size": 2
           },
           "mode": "lines+markers",
           "name": "V1",
           "type": "scatter",
           "x": [
            0,
            1.8571428571428572
           ],
           "y": [
            0,
            0
           ]
          },
          {
           "line": {
            "color": "red",
            "width": 1
           },
           "marker": {
            "size": 2
           },
           "mode": "lines+markers",
           "name": "V2",
           "type": "scatter",
           "x": [
            0,
            0
           ],
           "y": [
            0,
            1
           ]
          },
          {
           "line": {
            "color": "green",
            "width": 1
           },
           "marker": {
            "size": 2
           },
           "mode": "lines+markers",
           "name": "V1 + V2",
           "type": "scatter",
           "x": [
            0,
            1.8571428571428572
           ],
           "y": [
            0,
            1
           ]
          },
          {
           "fill": "toself",
           "fillcolor": "rgba(0, 100, 200, 0.2)",
           "line": {
            "color": "rgba(255,255,255,0)"
           },
           "name": "Area",
           "type": "scatter",
           "x": [
            0,
            1.8571428571428572,
            1.8571428571428572,
            0,
            0
           ],
           "y": [
            0,
            0,
            1,
            1,
            0
           ]
          }
         ]
        },
        {
         "data": [
          {
           "line": {
            "color": "blue",
            "width": 1
           },
           "marker": {
            "size": 2
           },
           "mode": "lines+markers",
           "name": "V1",
           "type": "scatter",
           "x": [
            0,
            1.8775510204081631
           ],
           "y": [
            0,
            0
           ]
          },
          {
           "line": {
            "color": "red",
            "width": 1
           },
           "marker": {
            "size": 2
           },
           "mode": "lines+markers",
           "name": "V2",
           "type": "scatter",
           "x": [
            0,
            0
           ],
           "y": [
            0,
            1
           ]
          },
          {
           "line": {
            "color": "green",
            "width": 1
           },
           "marker": {
            "size": 2
           },
           "mode": "lines+markers",
           "name": "V1 + V2",
           "type": "scatter",
           "x": [
            0,
            1.8775510204081631
           ],
           "y": [
            0,
            1
           ]
          },
          {
           "fill": "toself",
           "fillcolor": "rgba(0, 100, 200, 0.2)",
           "line": {
            "color": "rgba(255,255,255,0)"
           },
           "name": "Area",
           "type": "scatter",
           "x": [
            0,
            1.8775510204081631,
            1.8775510204081631,
            0,
            0
           ],
           "y": [
            0,
            0,
            1,
            1,
            0
           ]
          }
         ]
        },
        {
         "data": [
          {
           "line": {
            "color": "blue",
            "width": 1
           },
           "marker": {
            "size": 2
           },
           "mode": "lines+markers",
           "name": "V1",
           "type": "scatter",
           "x": [
            0,
            1.8979591836734693
           ],
           "y": [
            0,
            0
           ]
          },
          {
           "line": {
            "color": "red",
            "width": 1
           },
           "marker": {
            "size": 2
           },
           "mode": "lines+markers",
           "name": "V2",
           "type": "scatter",
           "x": [
            0,
            0
           ],
           "y": [
            0,
            1
           ]
          },
          {
           "line": {
            "color": "green",
            "width": 1
           },
           "marker": {
            "size": 2
           },
           "mode": "lines+markers",
           "name": "V1 + V2",
           "type": "scatter",
           "x": [
            0,
            1.8979591836734693
           ],
           "y": [
            0,
            1
           ]
          },
          {
           "fill": "toself",
           "fillcolor": "rgba(0, 100, 200, 0.2)",
           "line": {
            "color": "rgba(255,255,255,0)"
           },
           "name": "Area",
           "type": "scatter",
           "x": [
            0,
            1.8979591836734693,
            1.8979591836734693,
            0,
            0
           ],
           "y": [
            0,
            0,
            1,
            1,
            0
           ]
          }
         ]
        },
        {
         "data": [
          {
           "line": {
            "color": "blue",
            "width": 1
           },
           "marker": {
            "size": 2
           },
           "mode": "lines+markers",
           "name": "V1",
           "type": "scatter",
           "x": [
            0,
            1.9183673469387754
           ],
           "y": [
            0,
            0
           ]
          },
          {
           "line": {
            "color": "red",
            "width": 1
           },
           "marker": {
            "size": 2
           },
           "mode": "lines+markers",
           "name": "V2",
           "type": "scatter",
           "x": [
            0,
            0
           ],
           "y": [
            0,
            1
           ]
          },
          {
           "line": {
            "color": "green",
            "width": 1
           },
           "marker": {
            "size": 2
           },
           "mode": "lines+markers",
           "name": "V1 + V2",
           "type": "scatter",
           "x": [
            0,
            1.9183673469387754
           ],
           "y": [
            0,
            1
           ]
          },
          {
           "fill": "toself",
           "fillcolor": "rgba(0, 100, 200, 0.2)",
           "line": {
            "color": "rgba(255,255,255,0)"
           },
           "name": "Area",
           "type": "scatter",
           "x": [
            0,
            1.9183673469387754,
            1.9183673469387754,
            0,
            0
           ],
           "y": [
            0,
            0,
            1,
            1,
            0
           ]
          }
         ]
        },
        {
         "data": [
          {
           "line": {
            "color": "blue",
            "width": 1
           },
           "marker": {
            "size": 2
           },
           "mode": "lines+markers",
           "name": "V1",
           "type": "scatter",
           "x": [
            0,
            1.9387755102040816
           ],
           "y": [
            0,
            0
           ]
          },
          {
           "line": {
            "color": "red",
            "width": 1
           },
           "marker": {
            "size": 2
           },
           "mode": "lines+markers",
           "name": "V2",
           "type": "scatter",
           "x": [
            0,
            0
           ],
           "y": [
            0,
            1
           ]
          },
          {
           "line": {
            "color": "green",
            "width": 1
           },
           "marker": {
            "size": 2
           },
           "mode": "lines+markers",
           "name": "V1 + V2",
           "type": "scatter",
           "x": [
            0,
            1.9387755102040816
           ],
           "y": [
            0,
            1
           ]
          },
          {
           "fill": "toself",
           "fillcolor": "rgba(0, 100, 200, 0.2)",
           "line": {
            "color": "rgba(255,255,255,0)"
           },
           "name": "Area",
           "type": "scatter",
           "x": [
            0,
            1.9387755102040816,
            1.9387755102040816,
            0,
            0
           ],
           "y": [
            0,
            0,
            1,
            1,
            0
           ]
          }
         ]
        },
        {
         "data": [
          {
           "line": {
            "color": "blue",
            "width": 1
           },
           "marker": {
            "size": 2
           },
           "mode": "lines+markers",
           "name": "V1",
           "type": "scatter",
           "x": [
            0,
            1.9591836734693877
           ],
           "y": [
            0,
            0
           ]
          },
          {
           "line": {
            "color": "red",
            "width": 1
           },
           "marker": {
            "size": 2
           },
           "mode": "lines+markers",
           "name": "V2",
           "type": "scatter",
           "x": [
            0,
            0
           ],
           "y": [
            0,
            1
           ]
          },
          {
           "line": {
            "color": "green",
            "width": 1
           },
           "marker": {
            "size": 2
           },
           "mode": "lines+markers",
           "name": "V1 + V2",
           "type": "scatter",
           "x": [
            0,
            1.9591836734693877
           ],
           "y": [
            0,
            1
           ]
          },
          {
           "fill": "toself",
           "fillcolor": "rgba(0, 100, 200, 0.2)",
           "line": {
            "color": "rgba(255,255,255,0)"
           },
           "name": "Area",
           "type": "scatter",
           "x": [
            0,
            1.9591836734693877,
            1.9591836734693877,
            0,
            0
           ],
           "y": [
            0,
            0,
            1,
            1,
            0
           ]
          }
         ]
        },
        {
         "data": [
          {
           "line": {
            "color": "blue",
            "width": 1
           },
           "marker": {
            "size": 2
           },
           "mode": "lines+markers",
           "name": "V1",
           "type": "scatter",
           "x": [
            0,
            1.9795918367346939
           ],
           "y": [
            0,
            0
           ]
          },
          {
           "line": {
            "color": "red",
            "width": 1
           },
           "marker": {
            "size": 2
           },
           "mode": "lines+markers",
           "name": "V2",
           "type": "scatter",
           "x": [
            0,
            0
           ],
           "y": [
            0,
            1
           ]
          },
          {
           "line": {
            "color": "green",
            "width": 1
           },
           "marker": {
            "size": 2
           },
           "mode": "lines+markers",
           "name": "V1 + V2",
           "type": "scatter",
           "x": [
            0,
            1.9795918367346939
           ],
           "y": [
            0,
            1
           ]
          },
          {
           "fill": "toself",
           "fillcolor": "rgba(0, 100, 200, 0.2)",
           "line": {
            "color": "rgba(255,255,255,0)"
           },
           "name": "Area",
           "type": "scatter",
           "x": [
            0,
            1.9795918367346939,
            1.9795918367346939,
            0,
            0
           ],
           "y": [
            0,
            0,
            1,
            1,
            0
           ]
          }
         ]
        },
        {
         "data": [
          {
           "line": {
            "color": "blue",
            "width": 1
           },
           "marker": {
            "size": 2
           },
           "mode": "lines+markers",
           "name": "V1",
           "type": "scatter",
           "x": [
            0,
            2
           ],
           "y": [
            0,
            0
           ]
          },
          {
           "line": {
            "color": "red",
            "width": 1
           },
           "marker": {
            "size": 2
           },
           "mode": "lines+markers",
           "name": "V2",
           "type": "scatter",
           "x": [
            0,
            0
           ],
           "y": [
            0,
            1
           ]
          },
          {
           "line": {
            "color": "green",
            "width": 1
           },
           "marker": {
            "size": 2
           },
           "mode": "lines+markers",
           "name": "V1 + V2",
           "type": "scatter",
           "x": [
            0,
            2
           ],
           "y": [
            0,
            1
           ]
          },
          {
           "fill": "toself",
           "fillcolor": "rgba(0, 100, 200, 0.2)",
           "line": {
            "color": "rgba(255,255,255,0)"
           },
           "name": "Area",
           "type": "scatter",
           "x": [
            0,
            2,
            2,
            0,
            0
           ],
           "y": [
            0,
            0,
            1,
            1,
            0
           ]
          }
         ]
        }
       ],
       "layout": {
        "height": 450,
        "showlegend": true,
        "template": {
         "data": {
          "bar": [
           {
            "error_x": {
             "color": "#2a3f5f"
            },
            "error_y": {
             "color": "#2a3f5f"
            },
            "marker": {
             "line": {
              "color": "#E5ECF6",
              "width": 0.5
             },
             "pattern": {
              "fillmode": "overlay",
              "size": 10,
              "solidity": 0.2
             }
            },
            "type": "bar"
           }
          ],
          "barpolar": [
           {
            "marker": {
             "line": {
              "color": "#E5ECF6",
              "width": 0.5
             },
             "pattern": {
              "fillmode": "overlay",
              "size": 10,
              "solidity": 0.2
             }
            },
            "type": "barpolar"
           }
          ],
          "carpet": [
           {
            "aaxis": {
             "endlinecolor": "#2a3f5f",
             "gridcolor": "white",
             "linecolor": "white",
             "minorgridcolor": "white",
             "startlinecolor": "#2a3f5f"
            },
            "baxis": {
             "endlinecolor": "#2a3f5f",
             "gridcolor": "white",
             "linecolor": "white",
             "minorgridcolor": "white",
             "startlinecolor": "#2a3f5f"
            },
            "type": "carpet"
           }
          ],
          "choropleth": [
           {
            "colorbar": {
             "outlinewidth": 0,
             "ticks": ""
            },
            "type": "choropleth"
           }
          ],
          "contour": [
           {
            "colorbar": {
             "outlinewidth": 0,
             "ticks": ""
            },
            "colorscale": [
             [
              0,
              "#0d0887"
             ],
             [
              0.1111111111111111,
              "#46039f"
             ],
             [
              0.2222222222222222,
              "#7201a8"
             ],
             [
              0.3333333333333333,
              "#9c179e"
             ],
             [
              0.4444444444444444,
              "#bd3786"
             ],
             [
              0.5555555555555556,
              "#d8576b"
             ],
             [
              0.6666666666666666,
              "#ed7953"
             ],
             [
              0.7777777777777778,
              "#fb9f3a"
             ],
             [
              0.8888888888888888,
              "#fdca26"
             ],
             [
              1,
              "#f0f921"
             ]
            ],
            "type": "contour"
           }
          ],
          "contourcarpet": [
           {
            "colorbar": {
             "outlinewidth": 0,
             "ticks": ""
            },
            "type": "contourcarpet"
           }
          ],
          "heatmap": [
           {
            "colorbar": {
             "outlinewidth": 0,
             "ticks": ""
            },
            "colorscale": [
             [
              0,
              "#0d0887"
             ],
             [
              0.1111111111111111,
              "#46039f"
             ],
             [
              0.2222222222222222,
              "#7201a8"
             ],
             [
              0.3333333333333333,
              "#9c179e"
             ],
             [
              0.4444444444444444,
              "#bd3786"
             ],
             [
              0.5555555555555556,
              "#d8576b"
             ],
             [
              0.6666666666666666,
              "#ed7953"
             ],
             [
              0.7777777777777778,
              "#fb9f3a"
             ],
             [
              0.8888888888888888,
              "#fdca26"
             ],
             [
              1,
              "#f0f921"
             ]
            ],
            "type": "heatmap"
           }
          ],
          "heatmapgl": [
           {
            "colorbar": {
             "outlinewidth": 0,
             "ticks": ""
            },
            "colorscale": [
             [
              0,
              "#0d0887"
             ],
             [
              0.1111111111111111,
              "#46039f"
             ],
             [
              0.2222222222222222,
              "#7201a8"
             ],
             [
              0.3333333333333333,
              "#9c179e"
             ],
             [
              0.4444444444444444,
              "#bd3786"
             ],
             [
              0.5555555555555556,
              "#d8576b"
             ],
             [
              0.6666666666666666,
              "#ed7953"
             ],
             [
              0.7777777777777778,
              "#fb9f3a"
             ],
             [
              0.8888888888888888,
              "#fdca26"
             ],
             [
              1,
              "#f0f921"
             ]
            ],
            "type": "heatmapgl"
           }
          ],
          "histogram": [
           {
            "marker": {
             "pattern": {
              "fillmode": "overlay",
              "size": 10,
              "solidity": 0.2
             }
            },
            "type": "histogram"
           }
          ],
          "histogram2d": [
           {
            "colorbar": {
             "outlinewidth": 0,
             "ticks": ""
            },
            "colorscale": [
             [
              0,
              "#0d0887"
             ],
             [
              0.1111111111111111,
              "#46039f"
             ],
             [
              0.2222222222222222,
              "#7201a8"
             ],
             [
              0.3333333333333333,
              "#9c179e"
             ],
             [
              0.4444444444444444,
              "#bd3786"
             ],
             [
              0.5555555555555556,
              "#d8576b"
             ],
             [
              0.6666666666666666,
              "#ed7953"
             ],
             [
              0.7777777777777778,
              "#fb9f3a"
             ],
             [
              0.8888888888888888,
              "#fdca26"
             ],
             [
              1,
              "#f0f921"
             ]
            ],
            "type": "histogram2d"
           }
          ],
          "histogram2dcontour": [
           {
            "colorbar": {
             "outlinewidth": 0,
             "ticks": ""
            },
            "colorscale": [
             [
              0,
              "#0d0887"
             ],
             [
              0.1111111111111111,
              "#46039f"
             ],
             [
              0.2222222222222222,
              "#7201a8"
             ],
             [
              0.3333333333333333,
              "#9c179e"
             ],
             [
              0.4444444444444444,
              "#bd3786"
             ],
             [
              0.5555555555555556,
              "#d8576b"
             ],
             [
              0.6666666666666666,
              "#ed7953"
             ],
             [
              0.7777777777777778,
              "#fb9f3a"
             ],
             [
              0.8888888888888888,
              "#fdca26"
             ],
             [
              1,
              "#f0f921"
             ]
            ],
            "type": "histogram2dcontour"
           }
          ],
          "mesh3d": [
           {
            "colorbar": {
             "outlinewidth": 0,
             "ticks": ""
            },
            "type": "mesh3d"
           }
          ],
          "parcoords": [
           {
            "line": {
             "colorbar": {
              "outlinewidth": 0,
              "ticks": ""
             }
            },
            "type": "parcoords"
           }
          ],
          "pie": [
           {
            "automargin": true,
            "type": "pie"
           }
          ],
          "scatter": [
           {
            "fillpattern": {
             "fillmode": "overlay",
             "size": 10,
             "solidity": 0.2
            },
            "type": "scatter"
           }
          ],
          "scatter3d": [
           {
            "line": {
             "colorbar": {
              "outlinewidth": 0,
              "ticks": ""
             }
            },
            "marker": {
             "colorbar": {
              "outlinewidth": 0,
              "ticks": ""
             }
            },
            "type": "scatter3d"
           }
          ],
          "scattercarpet": [
           {
            "marker": {
             "colorbar": {
              "outlinewidth": 0,
              "ticks": ""
             }
            },
            "type": "scattercarpet"
           }
          ],
          "scattergeo": [
           {
            "marker": {
             "colorbar": {
              "outlinewidth": 0,
              "ticks": ""
             }
            },
            "type": "scattergeo"
           }
          ],
          "scattergl": [
           {
            "marker": {
             "colorbar": {
              "outlinewidth": 0,
              "ticks": ""
             }
            },
            "type": "scattergl"
           }
          ],
          "scattermapbox": [
           {
            "marker": {
             "colorbar": {
              "outlinewidth": 0,
              "ticks": ""
             }
            },
            "type": "scattermapbox"
           }
          ],
          "scatterpolar": [
           {
            "marker": {
             "colorbar": {
              "outlinewidth": 0,
              "ticks": ""
             }
            },
            "type": "scatterpolar"
           }
          ],
          "scatterpolargl": [
           {
            "marker": {
             "colorbar": {
              "outlinewidth": 0,
              "ticks": ""
             }
            },
            "type": "scatterpolargl"
           }
          ],
          "scatterternary": [
           {
            "marker": {
             "colorbar": {
              "outlinewidth": 0,
              "ticks": ""
             }
            },
            "type": "scatterternary"
           }
          ],
          "surface": [
           {
            "colorbar": {
             "outlinewidth": 0,
             "ticks": ""
            },
            "colorscale": [
             [
              0,
              "#0d0887"
             ],
             [
              0.1111111111111111,
              "#46039f"
             ],
             [
              0.2222222222222222,
              "#7201a8"
             ],
             [
              0.3333333333333333,
              "#9c179e"
             ],
             [
              0.4444444444444444,
              "#bd3786"
             ],
             [
              0.5555555555555556,
              "#d8576b"
             ],
             [
              0.6666666666666666,
              "#ed7953"
             ],
             [
              0.7777777777777778,
              "#fb9f3a"
             ],
             [
              0.8888888888888888,
              "#fdca26"
             ],
             [
              1,
              "#f0f921"
             ]
            ],
            "type": "surface"
           }
          ],
          "table": [
           {
            "cells": {
             "fill": {
              "color": "#EBF0F8"
             },
             "line": {
              "color": "white"
             }
            },
            "header": {
             "fill": {
              "color": "#C8D4E3"
             },
             "line": {
              "color": "white"
             }
            },
            "type": "table"
           }
          ]
         },
         "layout": {
          "annotationdefaults": {
           "arrowcolor": "#2a3f5f",
           "arrowhead": 0,
           "arrowwidth": 1
          },
          "autotypenumbers": "strict",
          "coloraxis": {
           "colorbar": {
            "outlinewidth": 0,
            "ticks": ""
           }
          },
          "colorscale": {
           "diverging": [
            [
             0,
             "#8e0152"
            ],
            [
             0.1,
             "#c51b7d"
            ],
            [
             0.2,
             "#de77ae"
            ],
            [
             0.3,
             "#f1b6da"
            ],
            [
             0.4,
             "#fde0ef"
            ],
            [
             0.5,
             "#f7f7f7"
            ],
            [
             0.6,
             "#e6f5d0"
            ],
            [
             0.7,
             "#b8e186"
            ],
            [
             0.8,
             "#7fbc41"
            ],
            [
             0.9,
             "#4d9221"
            ],
            [
             1,
             "#276419"
            ]
           ],
           "sequential": [
            [
             0,
             "#0d0887"
            ],
            [
             0.1111111111111111,
             "#46039f"
            ],
            [
             0.2222222222222222,
             "#7201a8"
            ],
            [
             0.3333333333333333,
             "#9c179e"
            ],
            [
             0.4444444444444444,
             "#bd3786"
            ],
            [
             0.5555555555555556,
             "#d8576b"
            ],
            [
             0.6666666666666666,
             "#ed7953"
            ],
            [
             0.7777777777777778,
             "#fb9f3a"
            ],
            [
             0.8888888888888888,
             "#fdca26"
            ],
            [
             1,
             "#f0f921"
            ]
           ],
           "sequentialminus": [
            [
             0,
             "#0d0887"
            ],
            [
             0.1111111111111111,
             "#46039f"
            ],
            [
             0.2222222222222222,
             "#7201a8"
            ],
            [
             0.3333333333333333,
             "#9c179e"
            ],
            [
             0.4444444444444444,
             "#bd3786"
            ],
            [
             0.5555555555555556,
             "#d8576b"
            ],
            [
             0.6666666666666666,
             "#ed7953"
            ],
            [
             0.7777777777777778,
             "#fb9f3a"
            ],
            [
             0.8888888888888888,
             "#fdca26"
            ],
            [
             1,
             "#f0f921"
            ]
           ]
          },
          "colorway": [
           "#636efa",
           "#EF553B",
           "#00cc96",
           "#ab63fa",
           "#FFA15A",
           "#19d3f3",
           "#FF6692",
           "#B6E880",
           "#FF97FF",
           "#FECB52"
          ],
          "font": {
           "color": "#2a3f5f"
          },
          "geo": {
           "bgcolor": "white",
           "lakecolor": "white",
           "landcolor": "#E5ECF6",
           "showlakes": true,
           "showland": true,
           "subunitcolor": "white"
          },
          "hoverlabel": {
           "align": "left"
          },
          "hovermode": "closest",
          "mapbox": {
           "style": "light"
          },
          "paper_bgcolor": "white",
          "plot_bgcolor": "#E5ECF6",
          "polar": {
           "angularaxis": {
            "gridcolor": "white",
            "linecolor": "white",
            "ticks": ""
           },
           "bgcolor": "#E5ECF6",
           "radialaxis": {
            "gridcolor": "white",
            "linecolor": "white",
            "ticks": ""
           }
          },
          "scene": {
           "xaxis": {
            "backgroundcolor": "#E5ECF6",
            "gridcolor": "white",
            "gridwidth": 2,
            "linecolor": "white",
            "showbackground": true,
            "ticks": "",
            "zerolinecolor": "white"
           },
           "yaxis": {
            "backgroundcolor": "#E5ECF6",
            "gridcolor": "white",
            "gridwidth": 2,
            "linecolor": "white",
            "showbackground": true,
            "ticks": "",
            "zerolinecolor": "white"
           },
           "zaxis": {
            "backgroundcolor": "#E5ECF6",
            "gridcolor": "white",
            "gridwidth": 2,
            "linecolor": "white",
            "showbackground": true,
            "ticks": "",
            "zerolinecolor": "white"
           }
          },
          "shapedefaults": {
           "line": {
            "color": "#2a3f5f"
           }
          },
          "ternary": {
           "aaxis": {
            "gridcolor": "white",
            "linecolor": "white",
            "ticks": ""
           },
           "baxis": {
            "gridcolor": "white",
            "linecolor": "white",
            "ticks": ""
           },
           "bgcolor": "#E5ECF6",
           "caxis": {
            "gridcolor": "white",
            "linecolor": "white",
            "ticks": ""
           }
          },
          "title": {
           "x": 0.05
          },
          "xaxis": {
           "automargin": true,
           "gridcolor": "white",
           "linecolor": "white",
           "ticks": "",
           "title": {
            "standoff": 15
           },
           "zerolinecolor": "white",
           "zerolinewidth": 2
          },
          "yaxis": {
           "automargin": true,
           "gridcolor": "white",
           "linecolor": "white",
           "ticks": "",
           "title": {
            "standoff": 15
           },
           "zerolinecolor": "white",
           "zerolinewidth": 2
          }
         }
        },
        "title": {
         "text": "Area and stretching in the x direction"
        },
        "updatemenus": [
         {
          "buttons": [
           {
            "args": [
             null,
             {
              "frame": {
               "duration": 50,
               "redraw": false
              },
              "fromcurrent": true,
              "transition": {
               "duration": 10
              }
             }
            ],
            "label": "Play",
            "method": "animate"
           }
          ],
          "type": "buttons"
         }
        ],
        "width": 600,
        "xaxis": {
         "range": [
          -2.3,
          2.3
         ],
         "title": {
          "text": "x"
         }
        },
        "yaxis": {
         "range": [
          -2.3,
          2.3
         ],
         "title": {
          "text": "y"
         }
        }
       }
      }
     },
     "metadata": {},
     "output_type": "display_data"
    }
   ],
   "source": [
    "# Scale in the x direction\n",
    "\n",
    "def create_frame_data(v1, v2, A):\n",
    "    v1_tr, v2_tr = A @ v1, A @ v2\n",
    "\n",
    "    tr_sum = v1_tr + v2_tr\n",
    "\n",
    "    return [\n",
    "        go.Scatter(\n",
    "            x=[0, v1_tr[0]],\n",
    "            y=[0, v1_tr[1]],\n",
    "            mode='lines+markers',\n",
    "            name='V1',\n",
    "            line=dict(color='blue', width=1),\n",
    "            marker=dict(size=2)\n",
    "        ),\n",
    "        go.Scatter(\n",
    "            x=[0, v2_tr[0]],\n",
    "            y=[0, v2_tr[1]],\n",
    "            mode='lines+markers',\n",
    "            name='V2',\n",
    "            line=dict(color='red', width=1),\n",
    "            marker=dict(size=2)\n",
    "        ),\n",
    "        go.Scatter(\n",
    "            x=[0, tr_sum[0]],\n",
    "            y=[0, tr_sum[1]],\n",
    "            mode='lines+markers',\n",
    "            name='V1 + V2',\n",
    "            line=dict(color='green', width=1),\n",
    "            marker=dict(size=2)\n",
    "        ),\n",
    "        go.Scatter(\n",
    "            x=[0, v1_tr[0], tr_sum[0], v2_tr[0], 0],  # Define the polygon vertices\n",
    "            y=[0, v1_tr[1], tr_sum[1], v2_tr[1], 0],\n",
    "            fill='toself',\n",
    "            fillcolor='rgba(0, 100, 200, 0.2)',  # Set fill color with transparency\n",
    "            line=dict(color='rgba(255,255,255,0)'),  # No border line\n",
    "            name='Area'\n",
    "        )\n",
    "    ]\n",
    "\n",
    "def create_animation(v1, v2, A_list):    \n",
    "    # Plot the unit vectors and their sum\n",
    "    A = A_list[0]\n",
    "\n",
    "    fig = go.Figure(\n",
    "        data=create_frame_data(v1, v2, A),\n",
    "        layout=go.Layout(\n",
    "            title='Area and stretching in the x direction',\n",
    "            xaxis=dict(title='x', range=[-2.3, 2.3]),  # Set X-axis range\n",
    "            yaxis=dict(title='y', range=[-2.3, 2.3]),  # Set Y-axis range\n",
    "            showlegend=True,\n",
    "            width=800,\n",
    "            height=600\n",
    "        ),\n",
    "    )\n",
    "\n",
    "    frames = [go.Frame(data = create_frame_data(v1, v2, A_frame)) for A_frame in A_list]\n",
    "\n",
    "    fig.update_layout(width=600, height=450,\n",
    "            updatemenus = [\n",
    "                dict(type = \"buttons\",\n",
    "                    buttons = [\n",
    "                        dict(\n",
    "                    args = [None, {\"frame\": {\"duration\": 50, \"redraw\": False},\n",
    "                                    \"fromcurrent\": True, \"transition\": {\"duration\": 10}}],\n",
    "                    label = \"Play\",\n",
    "                    method = \"animate\",\n",
    "                    )])])\n",
    "\n",
    "    fig.update(frames=frames)\n",
    "\n",
    "    return fig\n",
    "\n",
    "unit1 = np.array([1, 0])\n",
    "unit2 = np.array([0, 1])\n",
    "\n",
    "A_list = [np.identity(2)] + [\n",
    "    np.array([[x, 0], [0, 1]]) for x in np.linspace(1, 2, 50)\n",
    "]\n",
    "\n",
    "fig1 = create_animation(unit1, unit2, A_list)\n",
    "fig1.show()\n"
   ]
  },
  {
   "cell_type": "code",
   "execution_count": 62,
   "id": "fc05e6bb",
   "metadata": {},
   "outputs": [
    {
     "data": {
      "application/vnd.plotly.v1+json": {
       "config": {
        "plotlyServerURL": "https://plot.ly"
       },
       "data": [
        {
         "line": {
          "color": "blue",
          "width": 1
         },
         "marker": {
          "size": 2
         },
         "mode": "lines+markers",
         "name": "V1",
         "type": "scatter",
         "x": [
          0,
          1
         ],
         "y": [
          0,
          0
         ]
        },
        {
         "line": {
          "color": "red",
          "width": 1
         },
         "marker": {
          "size": 2
         },
         "mode": "lines+markers",
         "name": "V2",
         "type": "scatter",
         "x": [
          0,
          0
         ],
         "y": [
          0,
          1
         ]
        },
        {
         "line": {
          "color": "green",
          "width": 1
         },
         "marker": {
          "size": 2
         },
         "mode": "lines+markers",
         "name": "V1 + V2",
         "type": "scatter",
         "x": [
          0,
          1
         ],
         "y": [
          0,
          1
         ]
        },
        {
         "fill": "toself",
         "fillcolor": "rgba(0, 100, 200, 0.2)",
         "line": {
          "color": "rgba(255,255,255,0)"
         },
         "name": "Area",
         "type": "scatter",
         "x": [
          0,
          1,
          1,
          0,
          0
         ],
         "y": [
          0,
          0,
          1,
          1,
          0
         ]
        }
       ],
       "frames": [
        {
         "data": [
          {
           "line": {
            "color": "blue",
            "width": 1
           },
           "marker": {
            "size": 2
           },
           "mode": "lines+markers",
           "name": "V1",
           "type": "scatter",
           "x": [
            0,
            1
           ],
           "y": [
            0,
            0
           ]
          },
          {
           "line": {
            "color": "red",
            "width": 1
           },
           "marker": {
            "size": 2
           },
           "mode": "lines+markers",
           "name": "V2",
           "type": "scatter",
           "x": [
            0,
            0
           ],
           "y": [
            0,
            1
           ]
          },
          {
           "line": {
            "color": "green",
            "width": 1
           },
           "marker": {
            "size": 2
           },
           "mode": "lines+markers",
           "name": "V1 + V2",
           "type": "scatter",
           "x": [
            0,
            1
           ],
           "y": [
            0,
            1
           ]
          },
          {
           "fill": "toself",
           "fillcolor": "rgba(0, 100, 200, 0.2)",
           "line": {
            "color": "rgba(255,255,255,0)"
           },
           "name": "Area",
           "type": "scatter",
           "x": [
            0,
            1,
            1,
            0,
            0
           ],
           "y": [
            0,
            0,
            1,
            1,
            0
           ]
          }
         ]
        },
        {
         "data": [
          {
           "line": {
            "color": "blue",
            "width": 1
           },
           "marker": {
            "size": 2
           },
           "mode": "lines+markers",
           "name": "V1",
           "type": "scatter",
           "x": [
            0,
            1
           ],
           "y": [
            0,
            0
           ]
          },
          {
           "line": {
            "color": "red",
            "width": 1
           },
           "marker": {
            "size": 2
           },
           "mode": "lines+markers",
           "name": "V2",
           "type": "scatter",
           "x": [
            0,
            0
           ],
           "y": [
            0,
            1.0204081632653061
           ]
          },
          {
           "line": {
            "color": "green",
            "width": 1
           },
           "marker": {
            "size": 2
           },
           "mode": "lines+markers",
           "name": "V1 + V2",
           "type": "scatter",
           "x": [
            0,
            1
           ],
           "y": [
            0,
            1.0204081632653061
           ]
          },
          {
           "fill": "toself",
           "fillcolor": "rgba(0, 100, 200, 0.2)",
           "line": {
            "color": "rgba(255,255,255,0)"
           },
           "name": "Area",
           "type": "scatter",
           "x": [
            0,
            1,
            1,
            0,
            0
           ],
           "y": [
            0,
            0,
            1.0204081632653061,
            1.0204081632653061,
            0
           ]
          }
         ]
        },
        {
         "data": [
          {
           "line": {
            "color": "blue",
            "width": 1
           },
           "marker": {
            "size": 2
           },
           "mode": "lines+markers",
           "name": "V1",
           "type": "scatter",
           "x": [
            0,
            1
           ],
           "y": [
            0,
            0
           ]
          },
          {
           "line": {
            "color": "red",
            "width": 1
           },
           "marker": {
            "size": 2
           },
           "mode": "lines+markers",
           "name": "V2",
           "type": "scatter",
           "x": [
            0,
            0
           ],
           "y": [
            0,
            1.0408163265306123
           ]
          },
          {
           "line": {
            "color": "green",
            "width": 1
           },
           "marker": {
            "size": 2
           },
           "mode": "lines+markers",
           "name": "V1 + V2",
           "type": "scatter",
           "x": [
            0,
            1
           ],
           "y": [
            0,
            1.0408163265306123
           ]
          },
          {
           "fill": "toself",
           "fillcolor": "rgba(0, 100, 200, 0.2)",
           "line": {
            "color": "rgba(255,255,255,0)"
           },
           "name": "Area",
           "type": "scatter",
           "x": [
            0,
            1,
            1,
            0,
            0
           ],
           "y": [
            0,
            0,
            1.0408163265306123,
            1.0408163265306123,
            0
           ]
          }
         ]
        },
        {
         "data": [
          {
           "line": {
            "color": "blue",
            "width": 1
           },
           "marker": {
            "size": 2
           },
           "mode": "lines+markers",
           "name": "V1",
           "type": "scatter",
           "x": [
            0,
            1
           ],
           "y": [
            0,
            0
           ]
          },
          {
           "line": {
            "color": "red",
            "width": 1
           },
           "marker": {
            "size": 2
           },
           "mode": "lines+markers",
           "name": "V2",
           "type": "scatter",
           "x": [
            0,
            0
           ],
           "y": [
            0,
            1.0612244897959184
           ]
          },
          {
           "line": {
            "color": "green",
            "width": 1
           },
           "marker": {
            "size": 2
           },
           "mode": "lines+markers",
           "name": "V1 + V2",
           "type": "scatter",
           "x": [
            0,
            1
           ],
           "y": [
            0,
            1.0612244897959184
           ]
          },
          {
           "fill": "toself",
           "fillcolor": "rgba(0, 100, 200, 0.2)",
           "line": {
            "color": "rgba(255,255,255,0)"
           },
           "name": "Area",
           "type": "scatter",
           "x": [
            0,
            1,
            1,
            0,
            0
           ],
           "y": [
            0,
            0,
            1.0612244897959184,
            1.0612244897959184,
            0
           ]
          }
         ]
        },
        {
         "data": [
          {
           "line": {
            "color": "blue",
            "width": 1
           },
           "marker": {
            "size": 2
           },
           "mode": "lines+markers",
           "name": "V1",
           "type": "scatter",
           "x": [
            0,
            1
           ],
           "y": [
            0,
            0
           ]
          },
          {
           "line": {
            "color": "red",
            "width": 1
           },
           "marker": {
            "size": 2
           },
           "mode": "lines+markers",
           "name": "V2",
           "type": "scatter",
           "x": [
            0,
            0
           ],
           "y": [
            0,
            1.0816326530612246
           ]
          },
          {
           "line": {
            "color": "green",
            "width": 1
           },
           "marker": {
            "size": 2
           },
           "mode": "lines+markers",
           "name": "V1 + V2",
           "type": "scatter",
           "x": [
            0,
            1
           ],
           "y": [
            0,
            1.0816326530612246
           ]
          },
          {
           "fill": "toself",
           "fillcolor": "rgba(0, 100, 200, 0.2)",
           "line": {
            "color": "rgba(255,255,255,0)"
           },
           "name": "Area",
           "type": "scatter",
           "x": [
            0,
            1,
            1,
            0,
            0
           ],
           "y": [
            0,
            0,
            1.0816326530612246,
            1.0816326530612246,
            0
           ]
          }
         ]
        },
        {
         "data": [
          {
           "line": {
            "color": "blue",
            "width": 1
           },
           "marker": {
            "size": 2
           },
           "mode": "lines+markers",
           "name": "V1",
           "type": "scatter",
           "x": [
            0,
            1
           ],
           "y": [
            0,
            0
           ]
          },
          {
           "line": {
            "color": "red",
            "width": 1
           },
           "marker": {
            "size": 2
           },
           "mode": "lines+markers",
           "name": "V2",
           "type": "scatter",
           "x": [
            0,
            0
           ],
           "y": [
            0,
            1.1020408163265305
           ]
          },
          {
           "line": {
            "color": "green",
            "width": 1
           },
           "marker": {
            "size": 2
           },
           "mode": "lines+markers",
           "name": "V1 + V2",
           "type": "scatter",
           "x": [
            0,
            1
           ],
           "y": [
            0,
            1.1020408163265305
           ]
          },
          {
           "fill": "toself",
           "fillcolor": "rgba(0, 100, 200, 0.2)",
           "line": {
            "color": "rgba(255,255,255,0)"
           },
           "name": "Area",
           "type": "scatter",
           "x": [
            0,
            1,
            1,
            0,
            0
           ],
           "y": [
            0,
            0,
            1.1020408163265305,
            1.1020408163265305,
            0
           ]
          }
         ]
        },
        {
         "data": [
          {
           "line": {
            "color": "blue",
            "width": 1
           },
           "marker": {
            "size": 2
           },
           "mode": "lines+markers",
           "name": "V1",
           "type": "scatter",
           "x": [
            0,
            1
           ],
           "y": [
            0,
            0
           ]
          },
          {
           "line": {
            "color": "red",
            "width": 1
           },
           "marker": {
            "size": 2
           },
           "mode": "lines+markers",
           "name": "V2",
           "type": "scatter",
           "x": [
            0,
            0
           ],
           "y": [
            0,
            1.1224489795918366
           ]
          },
          {
           "line": {
            "color": "green",
            "width": 1
           },
           "marker": {
            "size": 2
           },
           "mode": "lines+markers",
           "name": "V1 + V2",
           "type": "scatter",
           "x": [
            0,
            1
           ],
           "y": [
            0,
            1.1224489795918366
           ]
          },
          {
           "fill": "toself",
           "fillcolor": "rgba(0, 100, 200, 0.2)",
           "line": {
            "color": "rgba(255,255,255,0)"
           },
           "name": "Area",
           "type": "scatter",
           "x": [
            0,
            1,
            1,
            0,
            0
           ],
           "y": [
            0,
            0,
            1.1224489795918366,
            1.1224489795918366,
            0
           ]
          }
         ]
        },
        {
         "data": [
          {
           "line": {
            "color": "blue",
            "width": 1
           },
           "marker": {
            "size": 2
           },
           "mode": "lines+markers",
           "name": "V1",
           "type": "scatter",
           "x": [
            0,
            1
           ],
           "y": [
            0,
            0
           ]
          },
          {
           "line": {
            "color": "red",
            "width": 1
           },
           "marker": {
            "size": 2
           },
           "mode": "lines+markers",
           "name": "V2",
           "type": "scatter",
           "x": [
            0,
            0
           ],
           "y": [
            0,
            1.1428571428571428
           ]
          },
          {
           "line": {
            "color": "green",
            "width": 1
           },
           "marker": {
            "size": 2
           },
           "mode": "lines+markers",
           "name": "V1 + V2",
           "type": "scatter",
           "x": [
            0,
            1
           ],
           "y": [
            0,
            1.1428571428571428
           ]
          },
          {
           "fill": "toself",
           "fillcolor": "rgba(0, 100, 200, 0.2)",
           "line": {
            "color": "rgba(255,255,255,0)"
           },
           "name": "Area",
           "type": "scatter",
           "x": [
            0,
            1,
            1,
            0,
            0
           ],
           "y": [
            0,
            0,
            1.1428571428571428,
            1.1428571428571428,
            0
           ]
          }
         ]
        },
        {
         "data": [
          {
           "line": {
            "color": "blue",
            "width": 1
           },
           "marker": {
            "size": 2
           },
           "mode": "lines+markers",
           "name": "V1",
           "type": "scatter",
           "x": [
            0,
            1
           ],
           "y": [
            0,
            0
           ]
          },
          {
           "line": {
            "color": "red",
            "width": 1
           },
           "marker": {
            "size": 2
           },
           "mode": "lines+markers",
           "name": "V2",
           "type": "scatter",
           "x": [
            0,
            0
           ],
           "y": [
            0,
            1.163265306122449
           ]
          },
          {
           "line": {
            "color": "green",
            "width": 1
           },
           "marker": {
            "size": 2
           },
           "mode": "lines+markers",
           "name": "V1 + V2",
           "type": "scatter",
           "x": [
            0,
            1
           ],
           "y": [
            0,
            1.163265306122449
           ]
          },
          {
           "fill": "toself",
           "fillcolor": "rgba(0, 100, 200, 0.2)",
           "line": {
            "color": "rgba(255,255,255,0)"
           },
           "name": "Area",
           "type": "scatter",
           "x": [
            0,
            1,
            1,
            0,
            0
           ],
           "y": [
            0,
            0,
            1.163265306122449,
            1.163265306122449,
            0
           ]
          }
         ]
        },
        {
         "data": [
          {
           "line": {
            "color": "blue",
            "width": 1
           },
           "marker": {
            "size": 2
           },
           "mode": "lines+markers",
           "name": "V1",
           "type": "scatter",
           "x": [
            0,
            1
           ],
           "y": [
            0,
            0
           ]
          },
          {
           "line": {
            "color": "red",
            "width": 1
           },
           "marker": {
            "size": 2
           },
           "mode": "lines+markers",
           "name": "V2",
           "type": "scatter",
           "x": [
            0,
            0
           ],
           "y": [
            0,
            1.183673469387755
           ]
          },
          {
           "line": {
            "color": "green",
            "width": 1
           },
           "marker": {
            "size": 2
           },
           "mode": "lines+markers",
           "name": "V1 + V2",
           "type": "scatter",
           "x": [
            0,
            1
           ],
           "y": [
            0,
            1.183673469387755
           ]
          },
          {
           "fill": "toself",
           "fillcolor": "rgba(0, 100, 200, 0.2)",
           "line": {
            "color": "rgba(255,255,255,0)"
           },
           "name": "Area",
           "type": "scatter",
           "x": [
            0,
            1,
            1,
            0,
            0
           ],
           "y": [
            0,
            0,
            1.183673469387755,
            1.183673469387755,
            0
           ]
          }
         ]
        },
        {
         "data": [
          {
           "line": {
            "color": "blue",
            "width": 1
           },
           "marker": {
            "size": 2
           },
           "mode": "lines+markers",
           "name": "V1",
           "type": "scatter",
           "x": [
            0,
            1
           ],
           "y": [
            0,
            0
           ]
          },
          {
           "line": {
            "color": "red",
            "width": 1
           },
           "marker": {
            "size": 2
           },
           "mode": "lines+markers",
           "name": "V2",
           "type": "scatter",
           "x": [
            0,
            0
           ],
           "y": [
            0,
            1.2040816326530612
           ]
          },
          {
           "line": {
            "color": "green",
            "width": 1
           },
           "marker": {
            "size": 2
           },
           "mode": "lines+markers",
           "name": "V1 + V2",
           "type": "scatter",
           "x": [
            0,
            1
           ],
           "y": [
            0,
            1.2040816326530612
           ]
          },
          {
           "fill": "toself",
           "fillcolor": "rgba(0, 100, 200, 0.2)",
           "line": {
            "color": "rgba(255,255,255,0)"
           },
           "name": "Area",
           "type": "scatter",
           "x": [
            0,
            1,
            1,
            0,
            0
           ],
           "y": [
            0,
            0,
            1.2040816326530612,
            1.2040816326530612,
            0
           ]
          }
         ]
        },
        {
         "data": [
          {
           "line": {
            "color": "blue",
            "width": 1
           },
           "marker": {
            "size": 2
           },
           "mode": "lines+markers",
           "name": "V1",
           "type": "scatter",
           "x": [
            0,
            1
           ],
           "y": [
            0,
            0
           ]
          },
          {
           "line": {
            "color": "red",
            "width": 1
           },
           "marker": {
            "size": 2
           },
           "mode": "lines+markers",
           "name": "V2",
           "type": "scatter",
           "x": [
            0,
            0
           ],
           "y": [
            0,
            1.2244897959183674
           ]
          },
          {
           "line": {
            "color": "green",
            "width": 1
           },
           "marker": {
            "size": 2
           },
           "mode": "lines+markers",
           "name": "V1 + V2",
           "type": "scatter",
           "x": [
            0,
            1
           ],
           "y": [
            0,
            1.2244897959183674
           ]
          },
          {
           "fill": "toself",
           "fillcolor": "rgba(0, 100, 200, 0.2)",
           "line": {
            "color": "rgba(255,255,255,0)"
           },
           "name": "Area",
           "type": "scatter",
           "x": [
            0,
            1,
            1,
            0,
            0
           ],
           "y": [
            0,
            0,
            1.2244897959183674,
            1.2244897959183674,
            0
           ]
          }
         ]
        },
        {
         "data": [
          {
           "line": {
            "color": "blue",
            "width": 1
           },
           "marker": {
            "size": 2
           },
           "mode": "lines+markers",
           "name": "V1",
           "type": "scatter",
           "x": [
            0,
            1
           ],
           "y": [
            0,
            0
           ]
          },
          {
           "line": {
            "color": "red",
            "width": 1
           },
           "marker": {
            "size": 2
           },
           "mode": "lines+markers",
           "name": "V2",
           "type": "scatter",
           "x": [
            0,
            0
           ],
           "y": [
            0,
            1.2448979591836735
           ]
          },
          {
           "line": {
            "color": "green",
            "width": 1
           },
           "marker": {
            "size": 2
           },
           "mode": "lines+markers",
           "name": "V1 + V2",
           "type": "scatter",
           "x": [
            0,
            1
           ],
           "y": [
            0,
            1.2448979591836735
           ]
          },
          {
           "fill": "toself",
           "fillcolor": "rgba(0, 100, 200, 0.2)",
           "line": {
            "color": "rgba(255,255,255,0)"
           },
           "name": "Area",
           "type": "scatter",
           "x": [
            0,
            1,
            1,
            0,
            0
           ],
           "y": [
            0,
            0,
            1.2448979591836735,
            1.2448979591836735,
            0
           ]
          }
         ]
        },
        {
         "data": [
          {
           "line": {
            "color": "blue",
            "width": 1
           },
           "marker": {
            "size": 2
           },
           "mode": "lines+markers",
           "name": "V1",
           "type": "scatter",
           "x": [
            0,
            1
           ],
           "y": [
            0,
            0
           ]
          },
          {
           "line": {
            "color": "red",
            "width": 1
           },
           "marker": {
            "size": 2
           },
           "mode": "lines+markers",
           "name": "V2",
           "type": "scatter",
           "x": [
            0,
            0
           ],
           "y": [
            0,
            1.2653061224489797
           ]
          },
          {
           "line": {
            "color": "green",
            "width": 1
           },
           "marker": {
            "size": 2
           },
           "mode": "lines+markers",
           "name": "V1 + V2",
           "type": "scatter",
           "x": [
            0,
            1
           ],
           "y": [
            0,
            1.2653061224489797
           ]
          },
          {
           "fill": "toself",
           "fillcolor": "rgba(0, 100, 200, 0.2)",
           "line": {
            "color": "rgba(255,255,255,0)"
           },
           "name": "Area",
           "type": "scatter",
           "x": [
            0,
            1,
            1,
            0,
            0
           ],
           "y": [
            0,
            0,
            1.2653061224489797,
            1.2653061224489797,
            0
           ]
          }
         ]
        },
        {
         "data": [
          {
           "line": {
            "color": "blue",
            "width": 1
           },
           "marker": {
            "size": 2
           },
           "mode": "lines+markers",
           "name": "V1",
           "type": "scatter",
           "x": [
            0,
            1
           ],
           "y": [
            0,
            0
           ]
          },
          {
           "line": {
            "color": "red",
            "width": 1
           },
           "marker": {
            "size": 2
           },
           "mode": "lines+markers",
           "name": "V2",
           "type": "scatter",
           "x": [
            0,
            0
           ],
           "y": [
            0,
            1.2857142857142856
           ]
          },
          {
           "line": {
            "color": "green",
            "width": 1
           },
           "marker": {
            "size": 2
           },
           "mode": "lines+markers",
           "name": "V1 + V2",
           "type": "scatter",
           "x": [
            0,
            1
           ],
           "y": [
            0,
            1.2857142857142856
           ]
          },
          {
           "fill": "toself",
           "fillcolor": "rgba(0, 100, 200, 0.2)",
           "line": {
            "color": "rgba(255,255,255,0)"
           },
           "name": "Area",
           "type": "scatter",
           "x": [
            0,
            1,
            1,
            0,
            0
           ],
           "y": [
            0,
            0,
            1.2857142857142856,
            1.2857142857142856,
            0
           ]
          }
         ]
        },
        {
         "data": [
          {
           "line": {
            "color": "blue",
            "width": 1
           },
           "marker": {
            "size": 2
           },
           "mode": "lines+markers",
           "name": "V1",
           "type": "scatter",
           "x": [
            0,
            1
           ],
           "y": [
            0,
            0
           ]
          },
          {
           "line": {
            "color": "red",
            "width": 1
           },
           "marker": {
            "size": 2
           },
           "mode": "lines+markers",
           "name": "V2",
           "type": "scatter",
           "x": [
            0,
            0
           ],
           "y": [
            0,
            1.3061224489795917
           ]
          },
          {
           "line": {
            "color": "green",
            "width": 1
           },
           "marker": {
            "size": 2
           },
           "mode": "lines+markers",
           "name": "V1 + V2",
           "type": "scatter",
           "x": [
            0,
            1
           ],
           "y": [
            0,
            1.3061224489795917
           ]
          },
          {
           "fill": "toself",
           "fillcolor": "rgba(0, 100, 200, 0.2)",
           "line": {
            "color": "rgba(255,255,255,0)"
           },
           "name": "Area",
           "type": "scatter",
           "x": [
            0,
            1,
            1,
            0,
            0
           ],
           "y": [
            0,
            0,
            1.3061224489795917,
            1.3061224489795917,
            0
           ]
          }
         ]
        },
        {
         "data": [
          {
           "line": {
            "color": "blue",
            "width": 1
           },
           "marker": {
            "size": 2
           },
           "mode": "lines+markers",
           "name": "V1",
           "type": "scatter",
           "x": [
            0,
            1
           ],
           "y": [
            0,
            0
           ]
          },
          {
           "line": {
            "color": "red",
            "width": 1
           },
           "marker": {
            "size": 2
           },
           "mode": "lines+markers",
           "name": "V2",
           "type": "scatter",
           "x": [
            0,
            0
           ],
           "y": [
            0,
            1.3265306122448979
           ]
          },
          {
           "line": {
            "color": "green",
            "width": 1
           },
           "marker": {
            "size": 2
           },
           "mode": "lines+markers",
           "name": "V1 + V2",
           "type": "scatter",
           "x": [
            0,
            1
           ],
           "y": [
            0,
            1.3265306122448979
           ]
          },
          {
           "fill": "toself",
           "fillcolor": "rgba(0, 100, 200, 0.2)",
           "line": {
            "color": "rgba(255,255,255,0)"
           },
           "name": "Area",
           "type": "scatter",
           "x": [
            0,
            1,
            1,
            0,
            0
           ],
           "y": [
            0,
            0,
            1.3265306122448979,
            1.3265306122448979,
            0
           ]
          }
         ]
        },
        {
         "data": [
          {
           "line": {
            "color": "blue",
            "width": 1
           },
           "marker": {
            "size": 2
           },
           "mode": "lines+markers",
           "name": "V1",
           "type": "scatter",
           "x": [
            0,
            1
           ],
           "y": [
            0,
            0
           ]
          },
          {
           "line": {
            "color": "red",
            "width": 1
           },
           "marker": {
            "size": 2
           },
           "mode": "lines+markers",
           "name": "V2",
           "type": "scatter",
           "x": [
            0,
            0
           ],
           "y": [
            0,
            1.346938775510204
           ]
          },
          {
           "line": {
            "color": "green",
            "width": 1
           },
           "marker": {
            "size": 2
           },
           "mode": "lines+markers",
           "name": "V1 + V2",
           "type": "scatter",
           "x": [
            0,
            1
           ],
           "y": [
            0,
            1.346938775510204
           ]
          },
          {
           "fill": "toself",
           "fillcolor": "rgba(0, 100, 200, 0.2)",
           "line": {
            "color": "rgba(255,255,255,0)"
           },
           "name": "Area",
           "type": "scatter",
           "x": [
            0,
            1,
            1,
            0,
            0
           ],
           "y": [
            0,
            0,
            1.346938775510204,
            1.346938775510204,
            0
           ]
          }
         ]
        },
        {
         "data": [
          {
           "line": {
            "color": "blue",
            "width": 1
           },
           "marker": {
            "size": 2
           },
           "mode": "lines+markers",
           "name": "V1",
           "type": "scatter",
           "x": [
            0,
            1
           ],
           "y": [
            0,
            0
           ]
          },
          {
           "line": {
            "color": "red",
            "width": 1
           },
           "marker": {
            "size": 2
           },
           "mode": "lines+markers",
           "name": "V2",
           "type": "scatter",
           "x": [
            0,
            0
           ],
           "y": [
            0,
            1.3673469387755102
           ]
          },
          {
           "line": {
            "color": "green",
            "width": 1
           },
           "marker": {
            "size": 2
           },
           "mode": "lines+markers",
           "name": "V1 + V2",
           "type": "scatter",
           "x": [
            0,
            1
           ],
           "y": [
            0,
            1.3673469387755102
           ]
          },
          {
           "fill": "toself",
           "fillcolor": "rgba(0, 100, 200, 0.2)",
           "line": {
            "color": "rgba(255,255,255,0)"
           },
           "name": "Area",
           "type": "scatter",
           "x": [
            0,
            1,
            1,
            0,
            0
           ],
           "y": [
            0,
            0,
            1.3673469387755102,
            1.3673469387755102,
            0
           ]
          }
         ]
        },
        {
         "data": [
          {
           "line": {
            "color": "blue",
            "width": 1
           },
           "marker": {
            "size": 2
           },
           "mode": "lines+markers",
           "name": "V1",
           "type": "scatter",
           "x": [
            0,
            1
           ],
           "y": [
            0,
            0
           ]
          },
          {
           "line": {
            "color": "red",
            "width": 1
           },
           "marker": {
            "size": 2
           },
           "mode": "lines+markers",
           "name": "V2",
           "type": "scatter",
           "x": [
            0,
            0
           ],
           "y": [
            0,
            1.3877551020408163
           ]
          },
          {
           "line": {
            "color": "green",
            "width": 1
           },
           "marker": {
            "size": 2
           },
           "mode": "lines+markers",
           "name": "V1 + V2",
           "type": "scatter",
           "x": [
            0,
            1
           ],
           "y": [
            0,
            1.3877551020408163
           ]
          },
          {
           "fill": "toself",
           "fillcolor": "rgba(0, 100, 200, 0.2)",
           "line": {
            "color": "rgba(255,255,255,0)"
           },
           "name": "Area",
           "type": "scatter",
           "x": [
            0,
            1,
            1,
            0,
            0
           ],
           "y": [
            0,
            0,
            1.3877551020408163,
            1.3877551020408163,
            0
           ]
          }
         ]
        },
        {
         "data": [
          {
           "line": {
            "color": "blue",
            "width": 1
           },
           "marker": {
            "size": 2
           },
           "mode": "lines+markers",
           "name": "V1",
           "type": "scatter",
           "x": [
            0,
            1
           ],
           "y": [
            0,
            0
           ]
          },
          {
           "line": {
            "color": "red",
            "width": 1
           },
           "marker": {
            "size": 2
           },
           "mode": "lines+markers",
           "name": "V2",
           "type": "scatter",
           "x": [
            0,
            0
           ],
           "y": [
            0,
            1.4081632653061225
           ]
          },
          {
           "line": {
            "color": "green",
            "width": 1
           },
           "marker": {
            "size": 2
           },
           "mode": "lines+markers",
           "name": "V1 + V2",
           "type": "scatter",
           "x": [
            0,
            1
           ],
           "y": [
            0,
            1.4081632653061225
           ]
          },
          {
           "fill": "toself",
           "fillcolor": "rgba(0, 100, 200, 0.2)",
           "line": {
            "color": "rgba(255,255,255,0)"
           },
           "name": "Area",
           "type": "scatter",
           "x": [
            0,
            1,
            1,
            0,
            0
           ],
           "y": [
            0,
            0,
            1.4081632653061225,
            1.4081632653061225,
            0
           ]
          }
         ]
        },
        {
         "data": [
          {
           "line": {
            "color": "blue",
            "width": 1
           },
           "marker": {
            "size": 2
           },
           "mode": "lines+markers",
           "name": "V1",
           "type": "scatter",
           "x": [
            0,
            1
           ],
           "y": [
            0,
            0
           ]
          },
          {
           "line": {
            "color": "red",
            "width": 1
           },
           "marker": {
            "size": 2
           },
           "mode": "lines+markers",
           "name": "V2",
           "type": "scatter",
           "x": [
            0,
            0
           ],
           "y": [
            0,
            1.4285714285714286
           ]
          },
          {
           "line": {
            "color": "green",
            "width": 1
           },
           "marker": {
            "size": 2
           },
           "mode": "lines+markers",
           "name": "V1 + V2",
           "type": "scatter",
           "x": [
            0,
            1
           ],
           "y": [
            0,
            1.4285714285714286
           ]
          },
          {
           "fill": "toself",
           "fillcolor": "rgba(0, 100, 200, 0.2)",
           "line": {
            "color": "rgba(255,255,255,0)"
           },
           "name": "Area",
           "type": "scatter",
           "x": [
            0,
            1,
            1,
            0,
            0
           ],
           "y": [
            0,
            0,
            1.4285714285714286,
            1.4285714285714286,
            0
           ]
          }
         ]
        },
        {
         "data": [
          {
           "line": {
            "color": "blue",
            "width": 1
           },
           "marker": {
            "size": 2
           },
           "mode": "lines+markers",
           "name": "V1",
           "type": "scatter",
           "x": [
            0,
            1
           ],
           "y": [
            0,
            0
           ]
          },
          {
           "line": {
            "color": "red",
            "width": 1
           },
           "marker": {
            "size": 2
           },
           "mode": "lines+markers",
           "name": "V2",
           "type": "scatter",
           "x": [
            0,
            0
           ],
           "y": [
            0,
            1.4489795918367347
           ]
          },
          {
           "line": {
            "color": "green",
            "width": 1
           },
           "marker": {
            "size": 2
           },
           "mode": "lines+markers",
           "name": "V1 + V2",
           "type": "scatter",
           "x": [
            0,
            1
           ],
           "y": [
            0,
            1.4489795918367347
           ]
          },
          {
           "fill": "toself",
           "fillcolor": "rgba(0, 100, 200, 0.2)",
           "line": {
            "color": "rgba(255,255,255,0)"
           },
           "name": "Area",
           "type": "scatter",
           "x": [
            0,
            1,
            1,
            0,
            0
           ],
           "y": [
            0,
            0,
            1.4489795918367347,
            1.4489795918367347,
            0
           ]
          }
         ]
        },
        {
         "data": [
          {
           "line": {
            "color": "blue",
            "width": 1
           },
           "marker": {
            "size": 2
           },
           "mode": "lines+markers",
           "name": "V1",
           "type": "scatter",
           "x": [
            0,
            1
           ],
           "y": [
            0,
            0
           ]
          },
          {
           "line": {
            "color": "red",
            "width": 1
           },
           "marker": {
            "size": 2
           },
           "mode": "lines+markers",
           "name": "V2",
           "type": "scatter",
           "x": [
            0,
            0
           ],
           "y": [
            0,
            1.4693877551020407
           ]
          },
          {
           "line": {
            "color": "green",
            "width": 1
           },
           "marker": {
            "size": 2
           },
           "mode": "lines+markers",
           "name": "V1 + V2",
           "type": "scatter",
           "x": [
            0,
            1
           ],
           "y": [
            0,
            1.4693877551020407
           ]
          },
          {
           "fill": "toself",
           "fillcolor": "rgba(0, 100, 200, 0.2)",
           "line": {
            "color": "rgba(255,255,255,0)"
           },
           "name": "Area",
           "type": "scatter",
           "x": [
            0,
            1,
            1,
            0,
            0
           ],
           "y": [
            0,
            0,
            1.4693877551020407,
            1.4693877551020407,
            0
           ]
          }
         ]
        },
        {
         "data": [
          {
           "line": {
            "color": "blue",
            "width": 1
           },
           "marker": {
            "size": 2
           },
           "mode": "lines+markers",
           "name": "V1",
           "type": "scatter",
           "x": [
            0,
            1
           ],
           "y": [
            0,
            0
           ]
          },
          {
           "line": {
            "color": "red",
            "width": 1
           },
           "marker": {
            "size": 2
           },
           "mode": "lines+markers",
           "name": "V2",
           "type": "scatter",
           "x": [
            0,
            0
           ],
           "y": [
            0,
            1.489795918367347
           ]
          },
          {
           "line": {
            "color": "green",
            "width": 1
           },
           "marker": {
            "size": 2
           },
           "mode": "lines+markers",
           "name": "V1 + V2",
           "type": "scatter",
           "x": [
            0,
            1
           ],
           "y": [
            0,
            1.489795918367347
           ]
          },
          {
           "fill": "toself",
           "fillcolor": "rgba(0, 100, 200, 0.2)",
           "line": {
            "color": "rgba(255,255,255,0)"
           },
           "name": "Area",
           "type": "scatter",
           "x": [
            0,
            1,
            1,
            0,
            0
           ],
           "y": [
            0,
            0,
            1.489795918367347,
            1.489795918367347,
            0
           ]
          }
         ]
        },
        {
         "data": [
          {
           "line": {
            "color": "blue",
            "width": 1
           },
           "marker": {
            "size": 2
           },
           "mode": "lines+markers",
           "name": "V1",
           "type": "scatter",
           "x": [
            0,
            1
           ],
           "y": [
            0,
            0
           ]
          },
          {
           "line": {
            "color": "red",
            "width": 1
           },
           "marker": {
            "size": 2
           },
           "mode": "lines+markers",
           "name": "V2",
           "type": "scatter",
           "x": [
            0,
            0
           ],
           "y": [
            0,
            1.510204081632653
           ]
          },
          {
           "line": {
            "color": "green",
            "width": 1
           },
           "marker": {
            "size": 2
           },
           "mode": "lines+markers",
           "name": "V1 + V2",
           "type": "scatter",
           "x": [
            0,
            1
           ],
           "y": [
            0,
            1.510204081632653
           ]
          },
          {
           "fill": "toself",
           "fillcolor": "rgba(0, 100, 200, 0.2)",
           "line": {
            "color": "rgba(255,255,255,0)"
           },
           "name": "Area",
           "type": "scatter",
           "x": [
            0,
            1,
            1,
            0,
            0
           ],
           "y": [
            0,
            0,
            1.510204081632653,
            1.510204081632653,
            0
           ]
          }
         ]
        },
        {
         "data": [
          {
           "line": {
            "color": "blue",
            "width": 1
           },
           "marker": {
            "size": 2
           },
           "mode": "lines+markers",
           "name": "V1",
           "type": "scatter",
           "x": [
            0,
            1
           ],
           "y": [
            0,
            0
           ]
          },
          {
           "line": {
            "color": "red",
            "width": 1
           },
           "marker": {
            "size": 2
           },
           "mode": "lines+markers",
           "name": "V2",
           "type": "scatter",
           "x": [
            0,
            0
           ],
           "y": [
            0,
            1.530612244897959
           ]
          },
          {
           "line": {
            "color": "green",
            "width": 1
           },
           "marker": {
            "size": 2
           },
           "mode": "lines+markers",
           "name": "V1 + V2",
           "type": "scatter",
           "x": [
            0,
            1
           ],
           "y": [
            0,
            1.530612244897959
           ]
          },
          {
           "fill": "toself",
           "fillcolor": "rgba(0, 100, 200, 0.2)",
           "line": {
            "color": "rgba(255,255,255,0)"
           },
           "name": "Area",
           "type": "scatter",
           "x": [
            0,
            1,
            1,
            0,
            0
           ],
           "y": [
            0,
            0,
            1.530612244897959,
            1.530612244897959,
            0
           ]
          }
         ]
        },
        {
         "data": [
          {
           "line": {
            "color": "blue",
            "width": 1
           },
           "marker": {
            "size": 2
           },
           "mode": "lines+markers",
           "name": "V1",
           "type": "scatter",
           "x": [
            0,
            1
           ],
           "y": [
            0,
            0
           ]
          },
          {
           "line": {
            "color": "red",
            "width": 1
           },
           "marker": {
            "size": 2
           },
           "mode": "lines+markers",
           "name": "V2",
           "type": "scatter",
           "x": [
            0,
            0
           ],
           "y": [
            0,
            1.5510204081632653
           ]
          },
          {
           "line": {
            "color": "green",
            "width": 1
           },
           "marker": {
            "size": 2
           },
           "mode": "lines+markers",
           "name": "V1 + V2",
           "type": "scatter",
           "x": [
            0,
            1
           ],
           "y": [
            0,
            1.5510204081632653
           ]
          },
          {
           "fill": "toself",
           "fillcolor": "rgba(0, 100, 200, 0.2)",
           "line": {
            "color": "rgba(255,255,255,0)"
           },
           "name": "Area",
           "type": "scatter",
           "x": [
            0,
            1,
            1,
            0,
            0
           ],
           "y": [
            0,
            0,
            1.5510204081632653,
            1.5510204081632653,
            0
           ]
          }
         ]
        },
        {
         "data": [
          {
           "line": {
            "color": "blue",
            "width": 1
           },
           "marker": {
            "size": 2
           },
           "mode": "lines+markers",
           "name": "V1",
           "type": "scatter",
           "x": [
            0,
            1
           ],
           "y": [
            0,
            0
           ]
          },
          {
           "line": {
            "color": "red",
            "width": 1
           },
           "marker": {
            "size": 2
           },
           "mode": "lines+markers",
           "name": "V2",
           "type": "scatter",
           "x": [
            0,
            0
           ],
           "y": [
            0,
            1.5714285714285714
           ]
          },
          {
           "line": {
            "color": "green",
            "width": 1
           },
           "marker": {
            "size": 2
           },
           "mode": "lines+markers",
           "name": "V1 + V2",
           "type": "scatter",
           "x": [
            0,
            1
           ],
           "y": [
            0,
            1.5714285714285714
           ]
          },
          {
           "fill": "toself",
           "fillcolor": "rgba(0, 100, 200, 0.2)",
           "line": {
            "color": "rgba(255,255,255,0)"
           },
           "name": "Area",
           "type": "scatter",
           "x": [
            0,
            1,
            1,
            0,
            0
           ],
           "y": [
            0,
            0,
            1.5714285714285714,
            1.5714285714285714,
            0
           ]
          }
         ]
        },
        {
         "data": [
          {
           "line": {
            "color": "blue",
            "width": 1
           },
           "marker": {
            "size": 2
           },
           "mode": "lines+markers",
           "name": "V1",
           "type": "scatter",
           "x": [
            0,
            1
           ],
           "y": [
            0,
            0
           ]
          },
          {
           "line": {
            "color": "red",
            "width": 1
           },
           "marker": {
            "size": 2
           },
           "mode": "lines+markers",
           "name": "V2",
           "type": "scatter",
           "x": [
            0,
            0
           ],
           "y": [
            0,
            1.5918367346938775
           ]
          },
          {
           "line": {
            "color": "green",
            "width": 1
           },
           "marker": {
            "size": 2
           },
           "mode": "lines+markers",
           "name": "V1 + V2",
           "type": "scatter",
           "x": [
            0,
            1
           ],
           "y": [
            0,
            1.5918367346938775
           ]
          },
          {
           "fill": "toself",
           "fillcolor": "rgba(0, 100, 200, 0.2)",
           "line": {
            "color": "rgba(255,255,255,0)"
           },
           "name": "Area",
           "type": "scatter",
           "x": [
            0,
            1,
            1,
            0,
            0
           ],
           "y": [
            0,
            0,
            1.5918367346938775,
            1.5918367346938775,
            0
           ]
          }
         ]
        },
        {
         "data": [
          {
           "line": {
            "color": "blue",
            "width": 1
           },
           "marker": {
            "size": 2
           },
           "mode": "lines+markers",
           "name": "V1",
           "type": "scatter",
           "x": [
            0,
            1
           ],
           "y": [
            0,
            0
           ]
          },
          {
           "line": {
            "color": "red",
            "width": 1
           },
           "marker": {
            "size": 2
           },
           "mode": "lines+markers",
           "name": "V2",
           "type": "scatter",
           "x": [
            0,
            0
           ],
           "y": [
            0,
            1.6122448979591835
           ]
          },
          {
           "line": {
            "color": "green",
            "width": 1
           },
           "marker": {
            "size": 2
           },
           "mode": "lines+markers",
           "name": "V1 + V2",
           "type": "scatter",
           "x": [
            0,
            1
           ],
           "y": [
            0,
            1.6122448979591835
           ]
          },
          {
           "fill": "toself",
           "fillcolor": "rgba(0, 100, 200, 0.2)",
           "line": {
            "color": "rgba(255,255,255,0)"
           },
           "name": "Area",
           "type": "scatter",
           "x": [
            0,
            1,
            1,
            0,
            0
           ],
           "y": [
            0,
            0,
            1.6122448979591835,
            1.6122448979591835,
            0
           ]
          }
         ]
        },
        {
         "data": [
          {
           "line": {
            "color": "blue",
            "width": 1
           },
           "marker": {
            "size": 2
           },
           "mode": "lines+markers",
           "name": "V1",
           "type": "scatter",
           "x": [
            0,
            1
           ],
           "y": [
            0,
            0
           ]
          },
          {
           "line": {
            "color": "red",
            "width": 1
           },
           "marker": {
            "size": 2
           },
           "mode": "lines+markers",
           "name": "V2",
           "type": "scatter",
           "x": [
            0,
            0
           ],
           "y": [
            0,
            1.6326530612244898
           ]
          },
          {
           "line": {
            "color": "green",
            "width": 1
           },
           "marker": {
            "size": 2
           },
           "mode": "lines+markers",
           "name": "V1 + V2",
           "type": "scatter",
           "x": [
            0,
            1
           ],
           "y": [
            0,
            1.6326530612244898
           ]
          },
          {
           "fill": "toself",
           "fillcolor": "rgba(0, 100, 200, 0.2)",
           "line": {
            "color": "rgba(255,255,255,0)"
           },
           "name": "Area",
           "type": "scatter",
           "x": [
            0,
            1,
            1,
            0,
            0
           ],
           "y": [
            0,
            0,
            1.6326530612244898,
            1.6326530612244898,
            0
           ]
          }
         ]
        },
        {
         "data": [
          {
           "line": {
            "color": "blue",
            "width": 1
           },
           "marker": {
            "size": 2
           },
           "mode": "lines+markers",
           "name": "V1",
           "type": "scatter",
           "x": [
            0,
            1
           ],
           "y": [
            0,
            0
           ]
          },
          {
           "line": {
            "color": "red",
            "width": 1
           },
           "marker": {
            "size": 2
           },
           "mode": "lines+markers",
           "name": "V2",
           "type": "scatter",
           "x": [
            0,
            0
           ],
           "y": [
            0,
            1.6530612244897958
           ]
          },
          {
           "line": {
            "color": "green",
            "width": 1
           },
           "marker": {
            "size": 2
           },
           "mode": "lines+markers",
           "name": "V1 + V2",
           "type": "scatter",
           "x": [
            0,
            1
           ],
           "y": [
            0,
            1.6530612244897958
           ]
          },
          {
           "fill": "toself",
           "fillcolor": "rgba(0, 100, 200, 0.2)",
           "line": {
            "color": "rgba(255,255,255,0)"
           },
           "name": "Area",
           "type": "scatter",
           "x": [
            0,
            1,
            1,
            0,
            0
           ],
           "y": [
            0,
            0,
            1.6530612244897958,
            1.6530612244897958,
            0
           ]
          }
         ]
        },
        {
         "data": [
          {
           "line": {
            "color": "blue",
            "width": 1
           },
           "marker": {
            "size": 2
           },
           "mode": "lines+markers",
           "name": "V1",
           "type": "scatter",
           "x": [
            0,
            1
           ],
           "y": [
            0,
            0
           ]
          },
          {
           "line": {
            "color": "red",
            "width": 1
           },
           "marker": {
            "size": 2
           },
           "mode": "lines+markers",
           "name": "V2",
           "type": "scatter",
           "x": [
            0,
            0
           ],
           "y": [
            0,
            1.6734693877551021
           ]
          },
          {
           "line": {
            "color": "green",
            "width": 1
           },
           "marker": {
            "size": 2
           },
           "mode": "lines+markers",
           "name": "V1 + V2",
           "type": "scatter",
           "x": [
            0,
            1
           ],
           "y": [
            0,
            1.6734693877551021
           ]
          },
          {
           "fill": "toself",
           "fillcolor": "rgba(0, 100, 200, 0.2)",
           "line": {
            "color": "rgba(255,255,255,0)"
           },
           "name": "Area",
           "type": "scatter",
           "x": [
            0,
            1,
            1,
            0,
            0
           ],
           "y": [
            0,
            0,
            1.6734693877551021,
            1.6734693877551021,
            0
           ]
          }
         ]
        },
        {
         "data": [
          {
           "line": {
            "color": "blue",
            "width": 1
           },
           "marker": {
            "size": 2
           },
           "mode": "lines+markers",
           "name": "V1",
           "type": "scatter",
           "x": [
            0,
            1
           ],
           "y": [
            0,
            0
           ]
          },
          {
           "line": {
            "color": "red",
            "width": 1
           },
           "marker": {
            "size": 2
           },
           "mode": "lines+markers",
           "name": "V2",
           "type": "scatter",
           "x": [
            0,
            0
           ],
           "y": [
            0,
            1.693877551020408
           ]
          },
          {
           "line": {
            "color": "green",
            "width": 1
           },
           "marker": {
            "size": 2
           },
           "mode": "lines+markers",
           "name": "V1 + V2",
           "type": "scatter",
           "x": [
            0,
            1
           ],
           "y": [
            0,
            1.693877551020408
           ]
          },
          {
           "fill": "toself",
           "fillcolor": "rgba(0, 100, 200, 0.2)",
           "line": {
            "color": "rgba(255,255,255,0)"
           },
           "name": "Area",
           "type": "scatter",
           "x": [
            0,
            1,
            1,
            0,
            0
           ],
           "y": [
            0,
            0,
            1.693877551020408,
            1.693877551020408,
            0
           ]
          }
         ]
        },
        {
         "data": [
          {
           "line": {
            "color": "blue",
            "width": 1
           },
           "marker": {
            "size": 2
           },
           "mode": "lines+markers",
           "name": "V1",
           "type": "scatter",
           "x": [
            0,
            1
           ],
           "y": [
            0,
            0
           ]
          },
          {
           "line": {
            "color": "red",
            "width": 1
           },
           "marker": {
            "size": 2
           },
           "mode": "lines+markers",
           "name": "V2",
           "type": "scatter",
           "x": [
            0,
            0
           ],
           "y": [
            0,
            1.7142857142857142
           ]
          },
          {
           "line": {
            "color": "green",
            "width": 1
           },
           "marker": {
            "size": 2
           },
           "mode": "lines+markers",
           "name": "V1 + V2",
           "type": "scatter",
           "x": [
            0,
            1
           ],
           "y": [
            0,
            1.7142857142857142
           ]
          },
          {
           "fill": "toself",
           "fillcolor": "rgba(0, 100, 200, 0.2)",
           "line": {
            "color": "rgba(255,255,255,0)"
           },
           "name": "Area",
           "type": "scatter",
           "x": [
            0,
            1,
            1,
            0,
            0
           ],
           "y": [
            0,
            0,
            1.7142857142857142,
            1.7142857142857142,
            0
           ]
          }
         ]
        },
        {
         "data": [
          {
           "line": {
            "color": "blue",
            "width": 1
           },
           "marker": {
            "size": 2
           },
           "mode": "lines+markers",
           "name": "V1",
           "type": "scatter",
           "x": [
            0,
            1
           ],
           "y": [
            0,
            0
           ]
          },
          {
           "line": {
            "color": "red",
            "width": 1
           },
           "marker": {
            "size": 2
           },
           "mode": "lines+markers",
           "name": "V2",
           "type": "scatter",
           "x": [
            0,
            0
           ],
           "y": [
            0,
            1.7346938775510203
           ]
          },
          {
           "line": {
            "color": "green",
            "width": 1
           },
           "marker": {
            "size": 2
           },
           "mode": "lines+markers",
           "name": "V1 + V2",
           "type": "scatter",
           "x": [
            0,
            1
           ],
           "y": [
            0,
            1.7346938775510203
           ]
          },
          {
           "fill": "toself",
           "fillcolor": "rgba(0, 100, 200, 0.2)",
           "line": {
            "color": "rgba(255,255,255,0)"
           },
           "name": "Area",
           "type": "scatter",
           "x": [
            0,
            1,
            1,
            0,
            0
           ],
           "y": [
            0,
            0,
            1.7346938775510203,
            1.7346938775510203,
            0
           ]
          }
         ]
        },
        {
         "data": [
          {
           "line": {
            "color": "blue",
            "width": 1
           },
           "marker": {
            "size": 2
           },
           "mode": "lines+markers",
           "name": "V1",
           "type": "scatter",
           "x": [
            0,
            1
           ],
           "y": [
            0,
            0
           ]
          },
          {
           "line": {
            "color": "red",
            "width": 1
           },
           "marker": {
            "size": 2
           },
           "mode": "lines+markers",
           "name": "V2",
           "type": "scatter",
           "x": [
            0,
            0
           ],
           "y": [
            0,
            1.7551020408163265
           ]
          },
          {
           "line": {
            "color": "green",
            "width": 1
           },
           "marker": {
            "size": 2
           },
           "mode": "lines+markers",
           "name": "V1 + V2",
           "type": "scatter",
           "x": [
            0,
            1
           ],
           "y": [
            0,
            1.7551020408163265
           ]
          },
          {
           "fill": "toself",
           "fillcolor": "rgba(0, 100, 200, 0.2)",
           "line": {
            "color": "rgba(255,255,255,0)"
           },
           "name": "Area",
           "type": "scatter",
           "x": [
            0,
            1,
            1,
            0,
            0
           ],
           "y": [
            0,
            0,
            1.7551020408163265,
            1.7551020408163265,
            0
           ]
          }
         ]
        },
        {
         "data": [
          {
           "line": {
            "color": "blue",
            "width": 1
           },
           "marker": {
            "size": 2
           },
           "mode": "lines+markers",
           "name": "V1",
           "type": "scatter",
           "x": [
            0,
            1
           ],
           "y": [
            0,
            0
           ]
          },
          {
           "line": {
            "color": "red",
            "width": 1
           },
           "marker": {
            "size": 2
           },
           "mode": "lines+markers",
           "name": "V2",
           "type": "scatter",
           "x": [
            0,
            0
           ],
           "y": [
            0,
            1.7755102040816326
           ]
          },
          {
           "line": {
            "color": "green",
            "width": 1
           },
           "marker": {
            "size": 2
           },
           "mode": "lines+markers",
           "name": "V1 + V2",
           "type": "scatter",
           "x": [
            0,
            1
           ],
           "y": [
            0,
            1.7755102040816326
           ]
          },
          {
           "fill": "toself",
           "fillcolor": "rgba(0, 100, 200, 0.2)",
           "line": {
            "color": "rgba(255,255,255,0)"
           },
           "name": "Area",
           "type": "scatter",
           "x": [
            0,
            1,
            1,
            0,
            0
           ],
           "y": [
            0,
            0,
            1.7755102040816326,
            1.7755102040816326,
            0
           ]
          }
         ]
        },
        {
         "data": [
          {
           "line": {
            "color": "blue",
            "width": 1
           },
           "marker": {
            "size": 2
           },
           "mode": "lines+markers",
           "name": "V1",
           "type": "scatter",
           "x": [
            0,
            1
           ],
           "y": [
            0,
            0
           ]
          },
          {
           "line": {
            "color": "red",
            "width": 1
           },
           "marker": {
            "size": 2
           },
           "mode": "lines+markers",
           "name": "V2",
           "type": "scatter",
           "x": [
            0,
            0
           ],
           "y": [
            0,
            1.7959183673469385
           ]
          },
          {
           "line": {
            "color": "green",
            "width": 1
           },
           "marker": {
            "size": 2
           },
           "mode": "lines+markers",
           "name": "V1 + V2",
           "type": "scatter",
           "x": [
            0,
            1
           ],
           "y": [
            0,
            1.7959183673469385
           ]
          },
          {
           "fill": "toself",
           "fillcolor": "rgba(0, 100, 200, 0.2)",
           "line": {
            "color": "rgba(255,255,255,0)"
           },
           "name": "Area",
           "type": "scatter",
           "x": [
            0,
            1,
            1,
            0,
            0
           ],
           "y": [
            0,
            0,
            1.7959183673469385,
            1.7959183673469385,
            0
           ]
          }
         ]
        },
        {
         "data": [
          {
           "line": {
            "color": "blue",
            "width": 1
           },
           "marker": {
            "size": 2
           },
           "mode": "lines+markers",
           "name": "V1",
           "type": "scatter",
           "x": [
            0,
            1
           ],
           "y": [
            0,
            0
           ]
          },
          {
           "line": {
            "color": "red",
            "width": 1
           },
           "marker": {
            "size": 2
           },
           "mode": "lines+markers",
           "name": "V2",
           "type": "scatter",
           "x": [
            0,
            0
           ],
           "y": [
            0,
            1.816326530612245
           ]
          },
          {
           "line": {
            "color": "green",
            "width": 1
           },
           "marker": {
            "size": 2
           },
           "mode": "lines+markers",
           "name": "V1 + V2",
           "type": "scatter",
           "x": [
            0,
            1
           ],
           "y": [
            0,
            1.816326530612245
           ]
          },
          {
           "fill": "toself",
           "fillcolor": "rgba(0, 100, 200, 0.2)",
           "line": {
            "color": "rgba(255,255,255,0)"
           },
           "name": "Area",
           "type": "scatter",
           "x": [
            0,
            1,
            1,
            0,
            0
           ],
           "y": [
            0,
            0,
            1.816326530612245,
            1.816326530612245,
            0
           ]
          }
         ]
        },
        {
         "data": [
          {
           "line": {
            "color": "blue",
            "width": 1
           },
           "marker": {
            "size": 2
           },
           "mode": "lines+markers",
           "name": "V1",
           "type": "scatter",
           "x": [
            0,
            1
           ],
           "y": [
            0,
            0
           ]
          },
          {
           "line": {
            "color": "red",
            "width": 1
           },
           "marker": {
            "size": 2
           },
           "mode": "lines+markers",
           "name": "V2",
           "type": "scatter",
           "x": [
            0,
            0
           ],
           "y": [
            0,
            1.8367346938775508
           ]
          },
          {
           "line": {
            "color": "green",
            "width": 1
           },
           "marker": {
            "size": 2
           },
           "mode": "lines+markers",
           "name": "V1 + V2",
           "type": "scatter",
           "x": [
            0,
            1
           ],
           "y": [
            0,
            1.8367346938775508
           ]
          },
          {
           "fill": "toself",
           "fillcolor": "rgba(0, 100, 200, 0.2)",
           "line": {
            "color": "rgba(255,255,255,0)"
           },
           "name": "Area",
           "type": "scatter",
           "x": [
            0,
            1,
            1,
            0,
            0
           ],
           "y": [
            0,
            0,
            1.8367346938775508,
            1.8367346938775508,
            0
           ]
          }
         ]
        },
        {
         "data": [
          {
           "line": {
            "color": "blue",
            "width": 1
           },
           "marker": {
            "size": 2
           },
           "mode": "lines+markers",
           "name": "V1",
           "type": "scatter",
           "x": [
            0,
            1
           ],
           "y": [
            0,
            0
           ]
          },
          {
           "line": {
            "color": "red",
            "width": 1
           },
           "marker": {
            "size": 2
           },
           "mode": "lines+markers",
           "name": "V2",
           "type": "scatter",
           "x": [
            0,
            0
           ],
           "y": [
            0,
            1.8571428571428572
           ]
          },
          {
           "line": {
            "color": "green",
            "width": 1
           },
           "marker": {
            "size": 2
           },
           "mode": "lines+markers",
           "name": "V1 + V2",
           "type": "scatter",
           "x": [
            0,
            1
           ],
           "y": [
            0,
            1.8571428571428572
           ]
          },
          {
           "fill": "toself",
           "fillcolor": "rgba(0, 100, 200, 0.2)",
           "line": {
            "color": "rgba(255,255,255,0)"
           },
           "name": "Area",
           "type": "scatter",
           "x": [
            0,
            1,
            1,
            0,
            0
           ],
           "y": [
            0,
            0,
            1.8571428571428572,
            1.8571428571428572,
            0
           ]
          }
         ]
        },
        {
         "data": [
          {
           "line": {
            "color": "blue",
            "width": 1
           },
           "marker": {
            "size": 2
           },
           "mode": "lines+markers",
           "name": "V1",
           "type": "scatter",
           "x": [
            0,
            1
           ],
           "y": [
            0,
            0
           ]
          },
          {
           "line": {
            "color": "red",
            "width": 1
           },
           "marker": {
            "size": 2
           },
           "mode": "lines+markers",
           "name": "V2",
           "type": "scatter",
           "x": [
            0,
            0
           ],
           "y": [
            0,
            1.8775510204081631
           ]
          },
          {
           "line": {
            "color": "green",
            "width": 1
           },
           "marker": {
            "size": 2
           },
           "mode": "lines+markers",
           "name": "V1 + V2",
           "type": "scatter",
           "x": [
            0,
            1
           ],
           "y": [
            0,
            1.8775510204081631
           ]
          },
          {
           "fill": "toself",
           "fillcolor": "rgba(0, 100, 200, 0.2)",
           "line": {
            "color": "rgba(255,255,255,0)"
           },
           "name": "Area",
           "type": "scatter",
           "x": [
            0,
            1,
            1,
            0,
            0
           ],
           "y": [
            0,
            0,
            1.8775510204081631,
            1.8775510204081631,
            0
           ]
          }
         ]
        },
        {
         "data": [
          {
           "line": {
            "color": "blue",
            "width": 1
           },
           "marker": {
            "size": 2
           },
           "mode": "lines+markers",
           "name": "V1",
           "type": "scatter",
           "x": [
            0,
            1
           ],
           "y": [
            0,
            0
           ]
          },
          {
           "line": {
            "color": "red",
            "width": 1
           },
           "marker": {
            "size": 2
           },
           "mode": "lines+markers",
           "name": "V2",
           "type": "scatter",
           "x": [
            0,
            0
           ],
           "y": [
            0,
            1.8979591836734693
           ]
          },
          {
           "line": {
            "color": "green",
            "width": 1
           },
           "marker": {
            "size": 2
           },
           "mode": "lines+markers",
           "name": "V1 + V2",
           "type": "scatter",
           "x": [
            0,
            1
           ],
           "y": [
            0,
            1.8979591836734693
           ]
          },
          {
           "fill": "toself",
           "fillcolor": "rgba(0, 100, 200, 0.2)",
           "line": {
            "color": "rgba(255,255,255,0)"
           },
           "name": "Area",
           "type": "scatter",
           "x": [
            0,
            1,
            1,
            0,
            0
           ],
           "y": [
            0,
            0,
            1.8979591836734693,
            1.8979591836734693,
            0
           ]
          }
         ]
        },
        {
         "data": [
          {
           "line": {
            "color": "blue",
            "width": 1
           },
           "marker": {
            "size": 2
           },
           "mode": "lines+markers",
           "name": "V1",
           "type": "scatter",
           "x": [
            0,
            1
           ],
           "y": [
            0,
            0
           ]
          },
          {
           "line": {
            "color": "red",
            "width": 1
           },
           "marker": {
            "size": 2
           },
           "mode": "lines+markers",
           "name": "V2",
           "type": "scatter",
           "x": [
            0,
            0
           ],
           "y": [
            0,
            1.9183673469387754
           ]
          },
          {
           "line": {
            "color": "green",
            "width": 1
           },
           "marker": {
            "size": 2
           },
           "mode": "lines+markers",
           "name": "V1 + V2",
           "type": "scatter",
           "x": [
            0,
            1
           ],
           "y": [
            0,
            1.9183673469387754
           ]
          },
          {
           "fill": "toself",
           "fillcolor": "rgba(0, 100, 200, 0.2)",
           "line": {
            "color": "rgba(255,255,255,0)"
           },
           "name": "Area",
           "type": "scatter",
           "x": [
            0,
            1,
            1,
            0,
            0
           ],
           "y": [
            0,
            0,
            1.9183673469387754,
            1.9183673469387754,
            0
           ]
          }
         ]
        },
        {
         "data": [
          {
           "line": {
            "color": "blue",
            "width": 1
           },
           "marker": {
            "size": 2
           },
           "mode": "lines+markers",
           "name": "V1",
           "type": "scatter",
           "x": [
            0,
            1
           ],
           "y": [
            0,
            0
           ]
          },
          {
           "line": {
            "color": "red",
            "width": 1
           },
           "marker": {
            "size": 2
           },
           "mode": "lines+markers",
           "name": "V2",
           "type": "scatter",
           "x": [
            0,
            0
           ],
           "y": [
            0,
            1.9387755102040816
           ]
          },
          {
           "line": {
            "color": "green",
            "width": 1
           },
           "marker": {
            "size": 2
           },
           "mode": "lines+markers",
           "name": "V1 + V2",
           "type": "scatter",
           "x": [
            0,
            1
           ],
           "y": [
            0,
            1.9387755102040816
           ]
          },
          {
           "fill": "toself",
           "fillcolor": "rgba(0, 100, 200, 0.2)",
           "line": {
            "color": "rgba(255,255,255,0)"
           },
           "name": "Area",
           "type": "scatter",
           "x": [
            0,
            1,
            1,
            0,
            0
           ],
           "y": [
            0,
            0,
            1.9387755102040816,
            1.9387755102040816,
            0
           ]
          }
         ]
        },
        {
         "data": [
          {
           "line": {
            "color": "blue",
            "width": 1
           },
           "marker": {
            "size": 2
           },
           "mode": "lines+markers",
           "name": "V1",
           "type": "scatter",
           "x": [
            0,
            1
           ],
           "y": [
            0,
            0
           ]
          },
          {
           "line": {
            "color": "red",
            "width": 1
           },
           "marker": {
            "size": 2
           },
           "mode": "lines+markers",
           "name": "V2",
           "type": "scatter",
           "x": [
            0,
            0
           ],
           "y": [
            0,
            1.9591836734693877
           ]
          },
          {
           "line": {
            "color": "green",
            "width": 1
           },
           "marker": {
            "size": 2
           },
           "mode": "lines+markers",
           "name": "V1 + V2",
           "type": "scatter",
           "x": [
            0,
            1
           ],
           "y": [
            0,
            1.9591836734693877
           ]
          },
          {
           "fill": "toself",
           "fillcolor": "rgba(0, 100, 200, 0.2)",
           "line": {
            "color": "rgba(255,255,255,0)"
           },
           "name": "Area",
           "type": "scatter",
           "x": [
            0,
            1,
            1,
            0,
            0
           ],
           "y": [
            0,
            0,
            1.9591836734693877,
            1.9591836734693877,
            0
           ]
          }
         ]
        },
        {
         "data": [
          {
           "line": {
            "color": "blue",
            "width": 1
           },
           "marker": {
            "size": 2
           },
           "mode": "lines+markers",
           "name": "V1",
           "type": "scatter",
           "x": [
            0,
            1
           ],
           "y": [
            0,
            0
           ]
          },
          {
           "line": {
            "color": "red",
            "width": 1
           },
           "marker": {
            "size": 2
           },
           "mode": "lines+markers",
           "name": "V2",
           "type": "scatter",
           "x": [
            0,
            0
           ],
           "y": [
            0,
            1.9795918367346939
           ]
          },
          {
           "line": {
            "color": "green",
            "width": 1
           },
           "marker": {
            "size": 2
           },
           "mode": "lines+markers",
           "name": "V1 + V2",
           "type": "scatter",
           "x": [
            0,
            1
           ],
           "y": [
            0,
            1.9795918367346939
           ]
          },
          {
           "fill": "toself",
           "fillcolor": "rgba(0, 100, 200, 0.2)",
           "line": {
            "color": "rgba(255,255,255,0)"
           },
           "name": "Area",
           "type": "scatter",
           "x": [
            0,
            1,
            1,
            0,
            0
           ],
           "y": [
            0,
            0,
            1.9795918367346939,
            1.9795918367346939,
            0
           ]
          }
         ]
        },
        {
         "data": [
          {
           "line": {
            "color": "blue",
            "width": 1
           },
           "marker": {
            "size": 2
           },
           "mode": "lines+markers",
           "name": "V1",
           "type": "scatter",
           "x": [
            0,
            1
           ],
           "y": [
            0,
            0
           ]
          },
          {
           "line": {
            "color": "red",
            "width": 1
           },
           "marker": {
            "size": 2
           },
           "mode": "lines+markers",
           "name": "V2",
           "type": "scatter",
           "x": [
            0,
            0
           ],
           "y": [
            0,
            2
           ]
          },
          {
           "line": {
            "color": "green",
            "width": 1
           },
           "marker": {
            "size": 2
           },
           "mode": "lines+markers",
           "name": "V1 + V2",
           "type": "scatter",
           "x": [
            0,
            1
           ],
           "y": [
            0,
            2
           ]
          },
          {
           "fill": "toself",
           "fillcolor": "rgba(0, 100, 200, 0.2)",
           "line": {
            "color": "rgba(255,255,255,0)"
           },
           "name": "Area",
           "type": "scatter",
           "x": [
            0,
            1,
            1,
            0,
            0
           ],
           "y": [
            0,
            0,
            2,
            2,
            0
           ]
          }
         ]
        }
       ],
       "layout": {
        "height": 450,
        "showlegend": true,
        "template": {
         "data": {
          "bar": [
           {
            "error_x": {
             "color": "#2a3f5f"
            },
            "error_y": {
             "color": "#2a3f5f"
            },
            "marker": {
             "line": {
              "color": "#E5ECF6",
              "width": 0.5
             },
             "pattern": {
              "fillmode": "overlay",
              "size": 10,
              "solidity": 0.2
             }
            },
            "type": "bar"
           }
          ],
          "barpolar": [
           {
            "marker": {
             "line": {
              "color": "#E5ECF6",
              "width": 0.5
             },
             "pattern": {
              "fillmode": "overlay",
              "size": 10,
              "solidity": 0.2
             }
            },
            "type": "barpolar"
           }
          ],
          "carpet": [
           {
            "aaxis": {
             "endlinecolor": "#2a3f5f",
             "gridcolor": "white",
             "linecolor": "white",
             "minorgridcolor": "white",
             "startlinecolor": "#2a3f5f"
            },
            "baxis": {
             "endlinecolor": "#2a3f5f",
             "gridcolor": "white",
             "linecolor": "white",
             "minorgridcolor": "white",
             "startlinecolor": "#2a3f5f"
            },
            "type": "carpet"
           }
          ],
          "choropleth": [
           {
            "colorbar": {
             "outlinewidth": 0,
             "ticks": ""
            },
            "type": "choropleth"
           }
          ],
          "contour": [
           {
            "colorbar": {
             "outlinewidth": 0,
             "ticks": ""
            },
            "colorscale": [
             [
              0,
              "#0d0887"
             ],
             [
              0.1111111111111111,
              "#46039f"
             ],
             [
              0.2222222222222222,
              "#7201a8"
             ],
             [
              0.3333333333333333,
              "#9c179e"
             ],
             [
              0.4444444444444444,
              "#bd3786"
             ],
             [
              0.5555555555555556,
              "#d8576b"
             ],
             [
              0.6666666666666666,
              "#ed7953"
             ],
             [
              0.7777777777777778,
              "#fb9f3a"
             ],
             [
              0.8888888888888888,
              "#fdca26"
             ],
             [
              1,
              "#f0f921"
             ]
            ],
            "type": "contour"
           }
          ],
          "contourcarpet": [
           {
            "colorbar": {
             "outlinewidth": 0,
             "ticks": ""
            },
            "type": "contourcarpet"
           }
          ],
          "heatmap": [
           {
            "colorbar": {
             "outlinewidth": 0,
             "ticks": ""
            },
            "colorscale": [
             [
              0,
              "#0d0887"
             ],
             [
              0.1111111111111111,
              "#46039f"
             ],
             [
              0.2222222222222222,
              "#7201a8"
             ],
             [
              0.3333333333333333,
              "#9c179e"
             ],
             [
              0.4444444444444444,
              "#bd3786"
             ],
             [
              0.5555555555555556,
              "#d8576b"
             ],
             [
              0.6666666666666666,
              "#ed7953"
             ],
             [
              0.7777777777777778,
              "#fb9f3a"
             ],
             [
              0.8888888888888888,
              "#fdca26"
             ],
             [
              1,
              "#f0f921"
             ]
            ],
            "type": "heatmap"
           }
          ],
          "heatmapgl": [
           {
            "colorbar": {
             "outlinewidth": 0,
             "ticks": ""
            },
            "colorscale": [
             [
              0,
              "#0d0887"
             ],
             [
              0.1111111111111111,
              "#46039f"
             ],
             [
              0.2222222222222222,
              "#7201a8"
             ],
             [
              0.3333333333333333,
              "#9c179e"
             ],
             [
              0.4444444444444444,
              "#bd3786"
             ],
             [
              0.5555555555555556,
              "#d8576b"
             ],
             [
              0.6666666666666666,
              "#ed7953"
             ],
             [
              0.7777777777777778,
              "#fb9f3a"
             ],
             [
              0.8888888888888888,
              "#fdca26"
             ],
             [
              1,
              "#f0f921"
             ]
            ],
            "type": "heatmapgl"
           }
          ],
          "histogram": [
           {
            "marker": {
             "pattern": {
              "fillmode": "overlay",
              "size": 10,
              "solidity": 0.2
             }
            },
            "type": "histogram"
           }
          ],
          "histogram2d": [
           {
            "colorbar": {
             "outlinewidth": 0,
             "ticks": ""
            },
            "colorscale": [
             [
              0,
              "#0d0887"
             ],
             [
              0.1111111111111111,
              "#46039f"
             ],
             [
              0.2222222222222222,
              "#7201a8"
             ],
             [
              0.3333333333333333,
              "#9c179e"
             ],
             [
              0.4444444444444444,
              "#bd3786"
             ],
             [
              0.5555555555555556,
              "#d8576b"
             ],
             [
              0.6666666666666666,
              "#ed7953"
             ],
             [
              0.7777777777777778,
              "#fb9f3a"
             ],
             [
              0.8888888888888888,
              "#fdca26"
             ],
             [
              1,
              "#f0f921"
             ]
            ],
            "type": "histogram2d"
           }
          ],
          "histogram2dcontour": [
           {
            "colorbar": {
             "outlinewidth": 0,
             "ticks": ""
            },
            "colorscale": [
             [
              0,
              "#0d0887"
             ],
             [
              0.1111111111111111,
              "#46039f"
             ],
             [
              0.2222222222222222,
              "#7201a8"
             ],
             [
              0.3333333333333333,
              "#9c179e"
             ],
             [
              0.4444444444444444,
              "#bd3786"
             ],
             [
              0.5555555555555556,
              "#d8576b"
             ],
             [
              0.6666666666666666,
              "#ed7953"
             ],
             [
              0.7777777777777778,
              "#fb9f3a"
             ],
             [
              0.8888888888888888,
              "#fdca26"
             ],
             [
              1,
              "#f0f921"
             ]
            ],
            "type": "histogram2dcontour"
           }
          ],
          "mesh3d": [
           {
            "colorbar": {
             "outlinewidth": 0,
             "ticks": ""
            },
            "type": "mesh3d"
           }
          ],
          "parcoords": [
           {
            "line": {
             "colorbar": {
              "outlinewidth": 0,
              "ticks": ""
             }
            },
            "type": "parcoords"
           }
          ],
          "pie": [
           {
            "automargin": true,
            "type": "pie"
           }
          ],
          "scatter": [
           {
            "fillpattern": {
             "fillmode": "overlay",
             "size": 10,
             "solidity": 0.2
            },
            "type": "scatter"
           }
          ],
          "scatter3d": [
           {
            "line": {
             "colorbar": {
              "outlinewidth": 0,
              "ticks": ""
             }
            },
            "marker": {
             "colorbar": {
              "outlinewidth": 0,
              "ticks": ""
             }
            },
            "type": "scatter3d"
           }
          ],
          "scattercarpet": [
           {
            "marker": {
             "colorbar": {
              "outlinewidth": 0,
              "ticks": ""
             }
            },
            "type": "scattercarpet"
           }
          ],
          "scattergeo": [
           {
            "marker": {
             "colorbar": {
              "outlinewidth": 0,
              "ticks": ""
             }
            },
            "type": "scattergeo"
           }
          ],
          "scattergl": [
           {
            "marker": {
             "colorbar": {
              "outlinewidth": 0,
              "ticks": ""
             }
            },
            "type": "scattergl"
           }
          ],
          "scattermapbox": [
           {
            "marker": {
             "colorbar": {
              "outlinewidth": 0,
              "ticks": ""
             }
            },
            "type": "scattermapbox"
           }
          ],
          "scatterpolar": [
           {
            "marker": {
             "colorbar": {
              "outlinewidth": 0,
              "ticks": ""
             }
            },
            "type": "scatterpolar"
           }
          ],
          "scatterpolargl": [
           {
            "marker": {
             "colorbar": {
              "outlinewidth": 0,
              "ticks": ""
             }
            },
            "type": "scatterpolargl"
           }
          ],
          "scatterternary": [
           {
            "marker": {
             "colorbar": {
              "outlinewidth": 0,
              "ticks": ""
             }
            },
            "type": "scatterternary"
           }
          ],
          "surface": [
           {
            "colorbar": {
             "outlinewidth": 0,
             "ticks": ""
            },
            "colorscale": [
             [
              0,
              "#0d0887"
             ],
             [
              0.1111111111111111,
              "#46039f"
             ],
             [
              0.2222222222222222,
              "#7201a8"
             ],
             [
              0.3333333333333333,
              "#9c179e"
             ],
             [
              0.4444444444444444,
              "#bd3786"
             ],
             [
              0.5555555555555556,
              "#d8576b"
             ],
             [
              0.6666666666666666,
              "#ed7953"
             ],
             [
              0.7777777777777778,
              "#fb9f3a"
             ],
             [
              0.8888888888888888,
              "#fdca26"
             ],
             [
              1,
              "#f0f921"
             ]
            ],
            "type": "surface"
           }
          ],
          "table": [
           {
            "cells": {
             "fill": {
              "color": "#EBF0F8"
             },
             "line": {
              "color": "white"
             }
            },
            "header": {
             "fill": {
              "color": "#C8D4E3"
             },
             "line": {
              "color": "white"
             }
            },
            "type": "table"
           }
          ]
         },
         "layout": {
          "annotationdefaults": {
           "arrowcolor": "#2a3f5f",
           "arrowhead": 0,
           "arrowwidth": 1
          },
          "autotypenumbers": "strict",
          "coloraxis": {
           "colorbar": {
            "outlinewidth": 0,
            "ticks": ""
           }
          },
          "colorscale": {
           "diverging": [
            [
             0,
             "#8e0152"
            ],
            [
             0.1,
             "#c51b7d"
            ],
            [
             0.2,
             "#de77ae"
            ],
            [
             0.3,
             "#f1b6da"
            ],
            [
             0.4,
             "#fde0ef"
            ],
            [
             0.5,
             "#f7f7f7"
            ],
            [
             0.6,
             "#e6f5d0"
            ],
            [
             0.7,
             "#b8e186"
            ],
            [
             0.8,
             "#7fbc41"
            ],
            [
             0.9,
             "#4d9221"
            ],
            [
             1,
             "#276419"
            ]
           ],
           "sequential": [
            [
             0,
             "#0d0887"
            ],
            [
             0.1111111111111111,
             "#46039f"
            ],
            [
             0.2222222222222222,
             "#7201a8"
            ],
            [
             0.3333333333333333,
             "#9c179e"
            ],
            [
             0.4444444444444444,
             "#bd3786"
            ],
            [
             0.5555555555555556,
             "#d8576b"
            ],
            [
             0.6666666666666666,
             "#ed7953"
            ],
            [
             0.7777777777777778,
             "#fb9f3a"
            ],
            [
             0.8888888888888888,
             "#fdca26"
            ],
            [
             1,
             "#f0f921"
            ]
           ],
           "sequentialminus": [
            [
             0,
             "#0d0887"
            ],
            [
             0.1111111111111111,
             "#46039f"
            ],
            [
             0.2222222222222222,
             "#7201a8"
            ],
            [
             0.3333333333333333,
             "#9c179e"
            ],
            [
             0.4444444444444444,
             "#bd3786"
            ],
            [
             0.5555555555555556,
             "#d8576b"
            ],
            [
             0.6666666666666666,
             "#ed7953"
            ],
            [
             0.7777777777777778,
             "#fb9f3a"
            ],
            [
             0.8888888888888888,
             "#fdca26"
            ],
            [
             1,
             "#f0f921"
            ]
           ]
          },
          "colorway": [
           "#636efa",
           "#EF553B",
           "#00cc96",
           "#ab63fa",
           "#FFA15A",
           "#19d3f3",
           "#FF6692",
           "#B6E880",
           "#FF97FF",
           "#FECB52"
          ],
          "font": {
           "color": "#2a3f5f"
          },
          "geo": {
           "bgcolor": "white",
           "lakecolor": "white",
           "landcolor": "#E5ECF6",
           "showlakes": true,
           "showland": true,
           "subunitcolor": "white"
          },
          "hoverlabel": {
           "align": "left"
          },
          "hovermode": "closest",
          "mapbox": {
           "style": "light"
          },
          "paper_bgcolor": "white",
          "plot_bgcolor": "#E5ECF6",
          "polar": {
           "angularaxis": {
            "gridcolor": "white",
            "linecolor": "white",
            "ticks": ""
           },
           "bgcolor": "#E5ECF6",
           "radialaxis": {
            "gridcolor": "white",
            "linecolor": "white",
            "ticks": ""
           }
          },
          "scene": {
           "xaxis": {
            "backgroundcolor": "#E5ECF6",
            "gridcolor": "white",
            "gridwidth": 2,
            "linecolor": "white",
            "showbackground": true,
            "ticks": "",
            "zerolinecolor": "white"
           },
           "yaxis": {
            "backgroundcolor": "#E5ECF6",
            "gridcolor": "white",
            "gridwidth": 2,
            "linecolor": "white",
            "showbackground": true,
            "ticks": "",
            "zerolinecolor": "white"
           },
           "zaxis": {
            "backgroundcolor": "#E5ECF6",
            "gridcolor": "white",
            "gridwidth": 2,
            "linecolor": "white",
            "showbackground": true,
            "ticks": "",
            "zerolinecolor": "white"
           }
          },
          "shapedefaults": {
           "line": {
            "color": "#2a3f5f"
           }
          },
          "ternary": {
           "aaxis": {
            "gridcolor": "white",
            "linecolor": "white",
            "ticks": ""
           },
           "baxis": {
            "gridcolor": "white",
            "linecolor": "white",
            "ticks": ""
           },
           "bgcolor": "#E5ECF6",
           "caxis": {
            "gridcolor": "white",
            "linecolor": "white",
            "ticks": ""
           }
          },
          "title": {
           "x": 0.05
          },
          "xaxis": {
           "automargin": true,
           "gridcolor": "white",
           "linecolor": "white",
           "ticks": "",
           "title": {
            "standoff": 15
           },
           "zerolinecolor": "white",
           "zerolinewidth": 2
          },
          "yaxis": {
           "automargin": true,
           "gridcolor": "white",
           "linecolor": "white",
           "ticks": "",
           "title": {
            "standoff": 15
           },
           "zerolinecolor": "white",
           "zerolinewidth": 2
          }
         }
        },
        "title": {
         "text": "Area and stretching in the x direction"
        },
        "updatemenus": [
         {
          "buttons": [
           {
            "args": [
             null,
             {
              "frame": {
               "duration": 50,
               "redraw": false
              },
              "fromcurrent": true,
              "transition": {
               "duration": 10
              }
             }
            ],
            "label": "Play",
            "method": "animate"
           }
          ],
          "type": "buttons"
         }
        ],
        "width": 600,
        "xaxis": {
         "range": [
          -2.3,
          2.3
         ],
         "title": {
          "text": "x"
         }
        },
        "yaxis": {
         "range": [
          -2.3,
          2.3
         ],
         "title": {
          "text": "y"
         }
        }
       }
      }
     },
     "metadata": {},
     "output_type": "display_data"
    }
   ],
   "source": [
    "# Scale in the y direction\n",
    "\n",
    "fig2 = create_animation(unit1, unit2, [\n",
    "    np.array([[1, 0], [0, y]]) for y in np.linspace(1, 2, 50)\n",
    "])\n",
    "fig2.show()"
   ]
  },
  {
   "cell_type": "code",
   "execution_count": 63,
   "id": "492ec4c8",
   "metadata": {},
   "outputs": [
    {
     "data": {
      "application/vnd.plotly.v1+json": {
       "config": {
        "plotlyServerURL": "https://plot.ly"
       },
       "data": [
        {
         "line": {
          "color": "blue",
          "width": 1
         },
         "marker": {
          "size": 2
         },
         "mode": "lines+markers",
         "name": "V1",
         "type": "scatter",
         "x": [
          0,
          1
         ],
         "y": [
          0,
          0
         ]
        },
        {
         "line": {
          "color": "red",
          "width": 1
         },
         "marker": {
          "size": 2
         },
         "mode": "lines+markers",
         "name": "V2",
         "type": "scatter",
         "x": [
          0,
          0
         ],
         "y": [
          0,
          1
         ]
        },
        {
         "line": {
          "color": "green",
          "width": 1
         },
         "marker": {
          "size": 2
         },
         "mode": "lines+markers",
         "name": "V1 + V2",
         "type": "scatter",
         "x": [
          0,
          1
         ],
         "y": [
          0,
          1
         ]
        },
        {
         "fill": "toself",
         "fillcolor": "rgba(0, 100, 200, 0.2)",
         "line": {
          "color": "rgba(255,255,255,0)"
         },
         "name": "Area",
         "type": "scatter",
         "x": [
          0,
          1,
          1,
          0,
          0
         ],
         "y": [
          0,
          0,
          1,
          1,
          0
         ]
        }
       ],
       "frames": [
        {
         "data": [
          {
           "line": {
            "color": "blue",
            "width": 1
           },
           "marker": {
            "size": 2
           },
           "mode": "lines+markers",
           "name": "V1",
           "type": "scatter",
           "x": [
            0,
            1
           ],
           "y": [
            0,
            0
           ]
          },
          {
           "line": {
            "color": "red",
            "width": 1
           },
           "marker": {
            "size": 2
           },
           "mode": "lines+markers",
           "name": "V2",
           "type": "scatter",
           "x": [
            0,
            0
           ],
           "y": [
            0,
            1
           ]
          },
          {
           "line": {
            "color": "green",
            "width": 1
           },
           "marker": {
            "size": 2
           },
           "mode": "lines+markers",
           "name": "V1 + V2",
           "type": "scatter",
           "x": [
            0,
            1
           ],
           "y": [
            0,
            1
           ]
          },
          {
           "fill": "toself",
           "fillcolor": "rgba(0, 100, 200, 0.2)",
           "line": {
            "color": "rgba(255,255,255,0)"
           },
           "name": "Area",
           "type": "scatter",
           "x": [
            0,
            1,
            1,
            0,
            0
           ],
           "y": [
            0,
            0,
            1,
            1,
            0
           ]
          }
         ]
        },
        {
         "data": [
          {
           "line": {
            "color": "blue",
            "width": 1
           },
           "marker": {
            "size": 2
           },
           "mode": "lines+markers",
           "name": "V1",
           "type": "scatter",
           "x": [
            0,
            1.0204081632653061
           ],
           "y": [
            0,
            0
           ]
          },
          {
           "line": {
            "color": "red",
            "width": 1
           },
           "marker": {
            "size": 2
           },
           "mode": "lines+markers",
           "name": "V2",
           "type": "scatter",
           "x": [
            0,
            0
           ],
           "y": [
            0,
            1.0204081632653061
           ]
          },
          {
           "line": {
            "color": "green",
            "width": 1
           },
           "marker": {
            "size": 2
           },
           "mode": "lines+markers",
           "name": "V1 + V2",
           "type": "scatter",
           "x": [
            0,
            1.0204081632653061
           ],
           "y": [
            0,
            1.0204081632653061
           ]
          },
          {
           "fill": "toself",
           "fillcolor": "rgba(0, 100, 200, 0.2)",
           "line": {
            "color": "rgba(255,255,255,0)"
           },
           "name": "Area",
           "type": "scatter",
           "x": [
            0,
            1.0204081632653061,
            1.0204081632653061,
            0,
            0
           ],
           "y": [
            0,
            0,
            1.0204081632653061,
            1.0204081632653061,
            0
           ]
          }
         ]
        },
        {
         "data": [
          {
           "line": {
            "color": "blue",
            "width": 1
           },
           "marker": {
            "size": 2
           },
           "mode": "lines+markers",
           "name": "V1",
           "type": "scatter",
           "x": [
            0,
            1.0408163265306123
           ],
           "y": [
            0,
            0
           ]
          },
          {
           "line": {
            "color": "red",
            "width": 1
           },
           "marker": {
            "size": 2
           },
           "mode": "lines+markers",
           "name": "V2",
           "type": "scatter",
           "x": [
            0,
            0
           ],
           "y": [
            0,
            1.0408163265306123
           ]
          },
          {
           "line": {
            "color": "green",
            "width": 1
           },
           "marker": {
            "size": 2
           },
           "mode": "lines+markers",
           "name": "V1 + V2",
           "type": "scatter",
           "x": [
            0,
            1.0408163265306123
           ],
           "y": [
            0,
            1.0408163265306123
           ]
          },
          {
           "fill": "toself",
           "fillcolor": "rgba(0, 100, 200, 0.2)",
           "line": {
            "color": "rgba(255,255,255,0)"
           },
           "name": "Area",
           "type": "scatter",
           "x": [
            0,
            1.0408163265306123,
            1.0408163265306123,
            0,
            0
           ],
           "y": [
            0,
            0,
            1.0408163265306123,
            1.0408163265306123,
            0
           ]
          }
         ]
        },
        {
         "data": [
          {
           "line": {
            "color": "blue",
            "width": 1
           },
           "marker": {
            "size": 2
           },
           "mode": "lines+markers",
           "name": "V1",
           "type": "scatter",
           "x": [
            0,
            1.0612244897959184
           ],
           "y": [
            0,
            0
           ]
          },
          {
           "line": {
            "color": "red",
            "width": 1
           },
           "marker": {
            "size": 2
           },
           "mode": "lines+markers",
           "name": "V2",
           "type": "scatter",
           "x": [
            0,
            0
           ],
           "y": [
            0,
            1.0612244897959184
           ]
          },
          {
           "line": {
            "color": "green",
            "width": 1
           },
           "marker": {
            "size": 2
           },
           "mode": "lines+markers",
           "name": "V1 + V2",
           "type": "scatter",
           "x": [
            0,
            1.0612244897959184
           ],
           "y": [
            0,
            1.0612244897959184
           ]
          },
          {
           "fill": "toself",
           "fillcolor": "rgba(0, 100, 200, 0.2)",
           "line": {
            "color": "rgba(255,255,255,0)"
           },
           "name": "Area",
           "type": "scatter",
           "x": [
            0,
            1.0612244897959184,
            1.0612244897959184,
            0,
            0
           ],
           "y": [
            0,
            0,
            1.0612244897959184,
            1.0612244897959184,
            0
           ]
          }
         ]
        },
        {
         "data": [
          {
           "line": {
            "color": "blue",
            "width": 1
           },
           "marker": {
            "size": 2
           },
           "mode": "lines+markers",
           "name": "V1",
           "type": "scatter",
           "x": [
            0,
            1.0816326530612246
           ],
           "y": [
            0,
            0
           ]
          },
          {
           "line": {
            "color": "red",
            "width": 1
           },
           "marker": {
            "size": 2
           },
           "mode": "lines+markers",
           "name": "V2",
           "type": "scatter",
           "x": [
            0,
            0
           ],
           "y": [
            0,
            1.0816326530612246
           ]
          },
          {
           "line": {
            "color": "green",
            "width": 1
           },
           "marker": {
            "size": 2
           },
           "mode": "lines+markers",
           "name": "V1 + V2",
           "type": "scatter",
           "x": [
            0,
            1.0816326530612246
           ],
           "y": [
            0,
            1.0816326530612246
           ]
          },
          {
           "fill": "toself",
           "fillcolor": "rgba(0, 100, 200, 0.2)",
           "line": {
            "color": "rgba(255,255,255,0)"
           },
           "name": "Area",
           "type": "scatter",
           "x": [
            0,
            1.0816326530612246,
            1.0816326530612246,
            0,
            0
           ],
           "y": [
            0,
            0,
            1.0816326530612246,
            1.0816326530612246,
            0
           ]
          }
         ]
        },
        {
         "data": [
          {
           "line": {
            "color": "blue",
            "width": 1
           },
           "marker": {
            "size": 2
           },
           "mode": "lines+markers",
           "name": "V1",
           "type": "scatter",
           "x": [
            0,
            1.1020408163265305
           ],
           "y": [
            0,
            0
           ]
          },
          {
           "line": {
            "color": "red",
            "width": 1
           },
           "marker": {
            "size": 2
           },
           "mode": "lines+markers",
           "name": "V2",
           "type": "scatter",
           "x": [
            0,
            0
           ],
           "y": [
            0,
            1.1020408163265305
           ]
          },
          {
           "line": {
            "color": "green",
            "width": 1
           },
           "marker": {
            "size": 2
           },
           "mode": "lines+markers",
           "name": "V1 + V2",
           "type": "scatter",
           "x": [
            0,
            1.1020408163265305
           ],
           "y": [
            0,
            1.1020408163265305
           ]
          },
          {
           "fill": "toself",
           "fillcolor": "rgba(0, 100, 200, 0.2)",
           "line": {
            "color": "rgba(255,255,255,0)"
           },
           "name": "Area",
           "type": "scatter",
           "x": [
            0,
            1.1020408163265305,
            1.1020408163265305,
            0,
            0
           ],
           "y": [
            0,
            0,
            1.1020408163265305,
            1.1020408163265305,
            0
           ]
          }
         ]
        },
        {
         "data": [
          {
           "line": {
            "color": "blue",
            "width": 1
           },
           "marker": {
            "size": 2
           },
           "mode": "lines+markers",
           "name": "V1",
           "type": "scatter",
           "x": [
            0,
            1.1224489795918366
           ],
           "y": [
            0,
            0
           ]
          },
          {
           "line": {
            "color": "red",
            "width": 1
           },
           "marker": {
            "size": 2
           },
           "mode": "lines+markers",
           "name": "V2",
           "type": "scatter",
           "x": [
            0,
            0
           ],
           "y": [
            0,
            1.1224489795918366
           ]
          },
          {
           "line": {
            "color": "green",
            "width": 1
           },
           "marker": {
            "size": 2
           },
           "mode": "lines+markers",
           "name": "V1 + V2",
           "type": "scatter",
           "x": [
            0,
            1.1224489795918366
           ],
           "y": [
            0,
            1.1224489795918366
           ]
          },
          {
           "fill": "toself",
           "fillcolor": "rgba(0, 100, 200, 0.2)",
           "line": {
            "color": "rgba(255,255,255,0)"
           },
           "name": "Area",
           "type": "scatter",
           "x": [
            0,
            1.1224489795918366,
            1.1224489795918366,
            0,
            0
           ],
           "y": [
            0,
            0,
            1.1224489795918366,
            1.1224489795918366,
            0
           ]
          }
         ]
        },
        {
         "data": [
          {
           "line": {
            "color": "blue",
            "width": 1
           },
           "marker": {
            "size": 2
           },
           "mode": "lines+markers",
           "name": "V1",
           "type": "scatter",
           "x": [
            0,
            1.1428571428571428
           ],
           "y": [
            0,
            0
           ]
          },
          {
           "line": {
            "color": "red",
            "width": 1
           },
           "marker": {
            "size": 2
           },
           "mode": "lines+markers",
           "name": "V2",
           "type": "scatter",
           "x": [
            0,
            0
           ],
           "y": [
            0,
            1.1428571428571428
           ]
          },
          {
           "line": {
            "color": "green",
            "width": 1
           },
           "marker": {
            "size": 2
           },
           "mode": "lines+markers",
           "name": "V1 + V2",
           "type": "scatter",
           "x": [
            0,
            1.1428571428571428
           ],
           "y": [
            0,
            1.1428571428571428
           ]
          },
          {
           "fill": "toself",
           "fillcolor": "rgba(0, 100, 200, 0.2)",
           "line": {
            "color": "rgba(255,255,255,0)"
           },
           "name": "Area",
           "type": "scatter",
           "x": [
            0,
            1.1428571428571428,
            1.1428571428571428,
            0,
            0
           ],
           "y": [
            0,
            0,
            1.1428571428571428,
            1.1428571428571428,
            0
           ]
          }
         ]
        },
        {
         "data": [
          {
           "line": {
            "color": "blue",
            "width": 1
           },
           "marker": {
            "size": 2
           },
           "mode": "lines+markers",
           "name": "V1",
           "type": "scatter",
           "x": [
            0,
            1.163265306122449
           ],
           "y": [
            0,
            0
           ]
          },
          {
           "line": {
            "color": "red",
            "width": 1
           },
           "marker": {
            "size": 2
           },
           "mode": "lines+markers",
           "name": "V2",
           "type": "scatter",
           "x": [
            0,
            0
           ],
           "y": [
            0,
            1.163265306122449
           ]
          },
          {
           "line": {
            "color": "green",
            "width": 1
           },
           "marker": {
            "size": 2
           },
           "mode": "lines+markers",
           "name": "V1 + V2",
           "type": "scatter",
           "x": [
            0,
            1.163265306122449
           ],
           "y": [
            0,
            1.163265306122449
           ]
          },
          {
           "fill": "toself",
           "fillcolor": "rgba(0, 100, 200, 0.2)",
           "line": {
            "color": "rgba(255,255,255,0)"
           },
           "name": "Area",
           "type": "scatter",
           "x": [
            0,
            1.163265306122449,
            1.163265306122449,
            0,
            0
           ],
           "y": [
            0,
            0,
            1.163265306122449,
            1.163265306122449,
            0
           ]
          }
         ]
        },
        {
         "data": [
          {
           "line": {
            "color": "blue",
            "width": 1
           },
           "marker": {
            "size": 2
           },
           "mode": "lines+markers",
           "name": "V1",
           "type": "scatter",
           "x": [
            0,
            1.183673469387755
           ],
           "y": [
            0,
            0
           ]
          },
          {
           "line": {
            "color": "red",
            "width": 1
           },
           "marker": {
            "size": 2
           },
           "mode": "lines+markers",
           "name": "V2",
           "type": "scatter",
           "x": [
            0,
            0
           ],
           "y": [
            0,
            1.183673469387755
           ]
          },
          {
           "line": {
            "color": "green",
            "width": 1
           },
           "marker": {
            "size": 2
           },
           "mode": "lines+markers",
           "name": "V1 + V2",
           "type": "scatter",
           "x": [
            0,
            1.183673469387755
           ],
           "y": [
            0,
            1.183673469387755
           ]
          },
          {
           "fill": "toself",
           "fillcolor": "rgba(0, 100, 200, 0.2)",
           "line": {
            "color": "rgba(255,255,255,0)"
           },
           "name": "Area",
           "type": "scatter",
           "x": [
            0,
            1.183673469387755,
            1.183673469387755,
            0,
            0
           ],
           "y": [
            0,
            0,
            1.183673469387755,
            1.183673469387755,
            0
           ]
          }
         ]
        },
        {
         "data": [
          {
           "line": {
            "color": "blue",
            "width": 1
           },
           "marker": {
            "size": 2
           },
           "mode": "lines+markers",
           "name": "V1",
           "type": "scatter",
           "x": [
            0,
            1.2040816326530612
           ],
           "y": [
            0,
            0
           ]
          },
          {
           "line": {
            "color": "red",
            "width": 1
           },
           "marker": {
            "size": 2
           },
           "mode": "lines+markers",
           "name": "V2",
           "type": "scatter",
           "x": [
            0,
            0
           ],
           "y": [
            0,
            1.2040816326530612
           ]
          },
          {
           "line": {
            "color": "green",
            "width": 1
           },
           "marker": {
            "size": 2
           },
           "mode": "lines+markers",
           "name": "V1 + V2",
           "type": "scatter",
           "x": [
            0,
            1.2040816326530612
           ],
           "y": [
            0,
            1.2040816326530612
           ]
          },
          {
           "fill": "toself",
           "fillcolor": "rgba(0, 100, 200, 0.2)",
           "line": {
            "color": "rgba(255,255,255,0)"
           },
           "name": "Area",
           "type": "scatter",
           "x": [
            0,
            1.2040816326530612,
            1.2040816326530612,
            0,
            0
           ],
           "y": [
            0,
            0,
            1.2040816326530612,
            1.2040816326530612,
            0
           ]
          }
         ]
        },
        {
         "data": [
          {
           "line": {
            "color": "blue",
            "width": 1
           },
           "marker": {
            "size": 2
           },
           "mode": "lines+markers",
           "name": "V1",
           "type": "scatter",
           "x": [
            0,
            1.2244897959183674
           ],
           "y": [
            0,
            0
           ]
          },
          {
           "line": {
            "color": "red",
            "width": 1
           },
           "marker": {
            "size": 2
           },
           "mode": "lines+markers",
           "name": "V2",
           "type": "scatter",
           "x": [
            0,
            0
           ],
           "y": [
            0,
            1.2244897959183674
           ]
          },
          {
           "line": {
            "color": "green",
            "width": 1
           },
           "marker": {
            "size": 2
           },
           "mode": "lines+markers",
           "name": "V1 + V2",
           "type": "scatter",
           "x": [
            0,
            1.2244897959183674
           ],
           "y": [
            0,
            1.2244897959183674
           ]
          },
          {
           "fill": "toself",
           "fillcolor": "rgba(0, 100, 200, 0.2)",
           "line": {
            "color": "rgba(255,255,255,0)"
           },
           "name": "Area",
           "type": "scatter",
           "x": [
            0,
            1.2244897959183674,
            1.2244897959183674,
            0,
            0
           ],
           "y": [
            0,
            0,
            1.2244897959183674,
            1.2244897959183674,
            0
           ]
          }
         ]
        },
        {
         "data": [
          {
           "line": {
            "color": "blue",
            "width": 1
           },
           "marker": {
            "size": 2
           },
           "mode": "lines+markers",
           "name": "V1",
           "type": "scatter",
           "x": [
            0,
            1.2448979591836735
           ],
           "y": [
            0,
            0
           ]
          },
          {
           "line": {
            "color": "red",
            "width": 1
           },
           "marker": {
            "size": 2
           },
           "mode": "lines+markers",
           "name": "V2",
           "type": "scatter",
           "x": [
            0,
            0
           ],
           "y": [
            0,
            1.2448979591836735
           ]
          },
          {
           "line": {
            "color": "green",
            "width": 1
           },
           "marker": {
            "size": 2
           },
           "mode": "lines+markers",
           "name": "V1 + V2",
           "type": "scatter",
           "x": [
            0,
            1.2448979591836735
           ],
           "y": [
            0,
            1.2448979591836735
           ]
          },
          {
           "fill": "toself",
           "fillcolor": "rgba(0, 100, 200, 0.2)",
           "line": {
            "color": "rgba(255,255,255,0)"
           },
           "name": "Area",
           "type": "scatter",
           "x": [
            0,
            1.2448979591836735,
            1.2448979591836735,
            0,
            0
           ],
           "y": [
            0,
            0,
            1.2448979591836735,
            1.2448979591836735,
            0
           ]
          }
         ]
        },
        {
         "data": [
          {
           "line": {
            "color": "blue",
            "width": 1
           },
           "marker": {
            "size": 2
           },
           "mode": "lines+markers",
           "name": "V1",
           "type": "scatter",
           "x": [
            0,
            1.2653061224489797
           ],
           "y": [
            0,
            0
           ]
          },
          {
           "line": {
            "color": "red",
            "width": 1
           },
           "marker": {
            "size": 2
           },
           "mode": "lines+markers",
           "name": "V2",
           "type": "scatter",
           "x": [
            0,
            0
           ],
           "y": [
            0,
            1.2653061224489797
           ]
          },
          {
           "line": {
            "color": "green",
            "width": 1
           },
           "marker": {
            "size": 2
           },
           "mode": "lines+markers",
           "name": "V1 + V2",
           "type": "scatter",
           "x": [
            0,
            1.2653061224489797
           ],
           "y": [
            0,
            1.2653061224489797
           ]
          },
          {
           "fill": "toself",
           "fillcolor": "rgba(0, 100, 200, 0.2)",
           "line": {
            "color": "rgba(255,255,255,0)"
           },
           "name": "Area",
           "type": "scatter",
           "x": [
            0,
            1.2653061224489797,
            1.2653061224489797,
            0,
            0
           ],
           "y": [
            0,
            0,
            1.2653061224489797,
            1.2653061224489797,
            0
           ]
          }
         ]
        },
        {
         "data": [
          {
           "line": {
            "color": "blue",
            "width": 1
           },
           "marker": {
            "size": 2
           },
           "mode": "lines+markers",
           "name": "V1",
           "type": "scatter",
           "x": [
            0,
            1.2857142857142856
           ],
           "y": [
            0,
            0
           ]
          },
          {
           "line": {
            "color": "red",
            "width": 1
           },
           "marker": {
            "size": 2
           },
           "mode": "lines+markers",
           "name": "V2",
           "type": "scatter",
           "x": [
            0,
            0
           ],
           "y": [
            0,
            1.2857142857142856
           ]
          },
          {
           "line": {
            "color": "green",
            "width": 1
           },
           "marker": {
            "size": 2
           },
           "mode": "lines+markers",
           "name": "V1 + V2",
           "type": "scatter",
           "x": [
            0,
            1.2857142857142856
           ],
           "y": [
            0,
            1.2857142857142856
           ]
          },
          {
           "fill": "toself",
           "fillcolor": "rgba(0, 100, 200, 0.2)",
           "line": {
            "color": "rgba(255,255,255,0)"
           },
           "name": "Area",
           "type": "scatter",
           "x": [
            0,
            1.2857142857142856,
            1.2857142857142856,
            0,
            0
           ],
           "y": [
            0,
            0,
            1.2857142857142856,
            1.2857142857142856,
            0
           ]
          }
         ]
        },
        {
         "data": [
          {
           "line": {
            "color": "blue",
            "width": 1
           },
           "marker": {
            "size": 2
           },
           "mode": "lines+markers",
           "name": "V1",
           "type": "scatter",
           "x": [
            0,
            1.3061224489795917
           ],
           "y": [
            0,
            0
           ]
          },
          {
           "line": {
            "color": "red",
            "width": 1
           },
           "marker": {
            "size": 2
           },
           "mode": "lines+markers",
           "name": "V2",
           "type": "scatter",
           "x": [
            0,
            0
           ],
           "y": [
            0,
            1.3061224489795917
           ]
          },
          {
           "line": {
            "color": "green",
            "width": 1
           },
           "marker": {
            "size": 2
           },
           "mode": "lines+markers",
           "name": "V1 + V2",
           "type": "scatter",
           "x": [
            0,
            1.3061224489795917
           ],
           "y": [
            0,
            1.3061224489795917
           ]
          },
          {
           "fill": "toself",
           "fillcolor": "rgba(0, 100, 200, 0.2)",
           "line": {
            "color": "rgba(255,255,255,0)"
           },
           "name": "Area",
           "type": "scatter",
           "x": [
            0,
            1.3061224489795917,
            1.3061224489795917,
            0,
            0
           ],
           "y": [
            0,
            0,
            1.3061224489795917,
            1.3061224489795917,
            0
           ]
          }
         ]
        },
        {
         "data": [
          {
           "line": {
            "color": "blue",
            "width": 1
           },
           "marker": {
            "size": 2
           },
           "mode": "lines+markers",
           "name": "V1",
           "type": "scatter",
           "x": [
            0,
            1.3265306122448979
           ],
           "y": [
            0,
            0
           ]
          },
          {
           "line": {
            "color": "red",
            "width": 1
           },
           "marker": {
            "size": 2
           },
           "mode": "lines+markers",
           "name": "V2",
           "type": "scatter",
           "x": [
            0,
            0
           ],
           "y": [
            0,
            1.3265306122448979
           ]
          },
          {
           "line": {
            "color": "green",
            "width": 1
           },
           "marker": {
            "size": 2
           },
           "mode": "lines+markers",
           "name": "V1 + V2",
           "type": "scatter",
           "x": [
            0,
            1.3265306122448979
           ],
           "y": [
            0,
            1.3265306122448979
           ]
          },
          {
           "fill": "toself",
           "fillcolor": "rgba(0, 100, 200, 0.2)",
           "line": {
            "color": "rgba(255,255,255,0)"
           },
           "name": "Area",
           "type": "scatter",
           "x": [
            0,
            1.3265306122448979,
            1.3265306122448979,
            0,
            0
           ],
           "y": [
            0,
            0,
            1.3265306122448979,
            1.3265306122448979,
            0
           ]
          }
         ]
        },
        {
         "data": [
          {
           "line": {
            "color": "blue",
            "width": 1
           },
           "marker": {
            "size": 2
           },
           "mode": "lines+markers",
           "name": "V1",
           "type": "scatter",
           "x": [
            0,
            1.346938775510204
           ],
           "y": [
            0,
            0
           ]
          },
          {
           "line": {
            "color": "red",
            "width": 1
           },
           "marker": {
            "size": 2
           },
           "mode": "lines+markers",
           "name": "V2",
           "type": "scatter",
           "x": [
            0,
            0
           ],
           "y": [
            0,
            1.346938775510204
           ]
          },
          {
           "line": {
            "color": "green",
            "width": 1
           },
           "marker": {
            "size": 2
           },
           "mode": "lines+markers",
           "name": "V1 + V2",
           "type": "scatter",
           "x": [
            0,
            1.346938775510204
           ],
           "y": [
            0,
            1.346938775510204
           ]
          },
          {
           "fill": "toself",
           "fillcolor": "rgba(0, 100, 200, 0.2)",
           "line": {
            "color": "rgba(255,255,255,0)"
           },
           "name": "Area",
           "type": "scatter",
           "x": [
            0,
            1.346938775510204,
            1.346938775510204,
            0,
            0
           ],
           "y": [
            0,
            0,
            1.346938775510204,
            1.346938775510204,
            0
           ]
          }
         ]
        },
        {
         "data": [
          {
           "line": {
            "color": "blue",
            "width": 1
           },
           "marker": {
            "size": 2
           },
           "mode": "lines+markers",
           "name": "V1",
           "type": "scatter",
           "x": [
            0,
            1.3673469387755102
           ],
           "y": [
            0,
            0
           ]
          },
          {
           "line": {
            "color": "red",
            "width": 1
           },
           "marker": {
            "size": 2
           },
           "mode": "lines+markers",
           "name": "V2",
           "type": "scatter",
           "x": [
            0,
            0
           ],
           "y": [
            0,
            1.3673469387755102
           ]
          },
          {
           "line": {
            "color": "green",
            "width": 1
           },
           "marker": {
            "size": 2
           },
           "mode": "lines+markers",
           "name": "V1 + V2",
           "type": "scatter",
           "x": [
            0,
            1.3673469387755102
           ],
           "y": [
            0,
            1.3673469387755102
           ]
          },
          {
           "fill": "toself",
           "fillcolor": "rgba(0, 100, 200, 0.2)",
           "line": {
            "color": "rgba(255,255,255,0)"
           },
           "name": "Area",
           "type": "scatter",
           "x": [
            0,
            1.3673469387755102,
            1.3673469387755102,
            0,
            0
           ],
           "y": [
            0,
            0,
            1.3673469387755102,
            1.3673469387755102,
            0
           ]
          }
         ]
        },
        {
         "data": [
          {
           "line": {
            "color": "blue",
            "width": 1
           },
           "marker": {
            "size": 2
           },
           "mode": "lines+markers",
           "name": "V1",
           "type": "scatter",
           "x": [
            0,
            1.3877551020408163
           ],
           "y": [
            0,
            0
           ]
          },
          {
           "line": {
            "color": "red",
            "width": 1
           },
           "marker": {
            "size": 2
           },
           "mode": "lines+markers",
           "name": "V2",
           "type": "scatter",
           "x": [
            0,
            0
           ],
           "y": [
            0,
            1.3877551020408163
           ]
          },
          {
           "line": {
            "color": "green",
            "width": 1
           },
           "marker": {
            "size": 2
           },
           "mode": "lines+markers",
           "name": "V1 + V2",
           "type": "scatter",
           "x": [
            0,
            1.3877551020408163
           ],
           "y": [
            0,
            1.3877551020408163
           ]
          },
          {
           "fill": "toself",
           "fillcolor": "rgba(0, 100, 200, 0.2)",
           "line": {
            "color": "rgba(255,255,255,0)"
           },
           "name": "Area",
           "type": "scatter",
           "x": [
            0,
            1.3877551020408163,
            1.3877551020408163,
            0,
            0
           ],
           "y": [
            0,
            0,
            1.3877551020408163,
            1.3877551020408163,
            0
           ]
          }
         ]
        },
        {
         "data": [
          {
           "line": {
            "color": "blue",
            "width": 1
           },
           "marker": {
            "size": 2
           },
           "mode": "lines+markers",
           "name": "V1",
           "type": "scatter",
           "x": [
            0,
            1.4081632653061225
           ],
           "y": [
            0,
            0
           ]
          },
          {
           "line": {
            "color": "red",
            "width": 1
           },
           "marker": {
            "size": 2
           },
           "mode": "lines+markers",
           "name": "V2",
           "type": "scatter",
           "x": [
            0,
            0
           ],
           "y": [
            0,
            1.4081632653061225
           ]
          },
          {
           "line": {
            "color": "green",
            "width": 1
           },
           "marker": {
            "size": 2
           },
           "mode": "lines+markers",
           "name": "V1 + V2",
           "type": "scatter",
           "x": [
            0,
            1.4081632653061225
           ],
           "y": [
            0,
            1.4081632653061225
           ]
          },
          {
           "fill": "toself",
           "fillcolor": "rgba(0, 100, 200, 0.2)",
           "line": {
            "color": "rgba(255,255,255,0)"
           },
           "name": "Area",
           "type": "scatter",
           "x": [
            0,
            1.4081632653061225,
            1.4081632653061225,
            0,
            0
           ],
           "y": [
            0,
            0,
            1.4081632653061225,
            1.4081632653061225,
            0
           ]
          }
         ]
        },
        {
         "data": [
          {
           "line": {
            "color": "blue",
            "width": 1
           },
           "marker": {
            "size": 2
           },
           "mode": "lines+markers",
           "name": "V1",
           "type": "scatter",
           "x": [
            0,
            1.4285714285714286
           ],
           "y": [
            0,
            0
           ]
          },
          {
           "line": {
            "color": "red",
            "width": 1
           },
           "marker": {
            "size": 2
           },
           "mode": "lines+markers",
           "name": "V2",
           "type": "scatter",
           "x": [
            0,
            0
           ],
           "y": [
            0,
            1.4285714285714286
           ]
          },
          {
           "line": {
            "color": "green",
            "width": 1
           },
           "marker": {
            "size": 2
           },
           "mode": "lines+markers",
           "name": "V1 + V2",
           "type": "scatter",
           "x": [
            0,
            1.4285714285714286
           ],
           "y": [
            0,
            1.4285714285714286
           ]
          },
          {
           "fill": "toself",
           "fillcolor": "rgba(0, 100, 200, 0.2)",
           "line": {
            "color": "rgba(255,255,255,0)"
           },
           "name": "Area",
           "type": "scatter",
           "x": [
            0,
            1.4285714285714286,
            1.4285714285714286,
            0,
            0
           ],
           "y": [
            0,
            0,
            1.4285714285714286,
            1.4285714285714286,
            0
           ]
          }
         ]
        },
        {
         "data": [
          {
           "line": {
            "color": "blue",
            "width": 1
           },
           "marker": {
            "size": 2
           },
           "mode": "lines+markers",
           "name": "V1",
           "type": "scatter",
           "x": [
            0,
            1.4489795918367347
           ],
           "y": [
            0,
            0
           ]
          },
          {
           "line": {
            "color": "red",
            "width": 1
           },
           "marker": {
            "size": 2
           },
           "mode": "lines+markers",
           "name": "V2",
           "type": "scatter",
           "x": [
            0,
            0
           ],
           "y": [
            0,
            1.4489795918367347
           ]
          },
          {
           "line": {
            "color": "green",
            "width": 1
           },
           "marker": {
            "size": 2
           },
           "mode": "lines+markers",
           "name": "V1 + V2",
           "type": "scatter",
           "x": [
            0,
            1.4489795918367347
           ],
           "y": [
            0,
            1.4489795918367347
           ]
          },
          {
           "fill": "toself",
           "fillcolor": "rgba(0, 100, 200, 0.2)",
           "line": {
            "color": "rgba(255,255,255,0)"
           },
           "name": "Area",
           "type": "scatter",
           "x": [
            0,
            1.4489795918367347,
            1.4489795918367347,
            0,
            0
           ],
           "y": [
            0,
            0,
            1.4489795918367347,
            1.4489795918367347,
            0
           ]
          }
         ]
        },
        {
         "data": [
          {
           "line": {
            "color": "blue",
            "width": 1
           },
           "marker": {
            "size": 2
           },
           "mode": "lines+markers",
           "name": "V1",
           "type": "scatter",
           "x": [
            0,
            1.4693877551020407
           ],
           "y": [
            0,
            0
           ]
          },
          {
           "line": {
            "color": "red",
            "width": 1
           },
           "marker": {
            "size": 2
           },
           "mode": "lines+markers",
           "name": "V2",
           "type": "scatter",
           "x": [
            0,
            0
           ],
           "y": [
            0,
            1.4693877551020407
           ]
          },
          {
           "line": {
            "color": "green",
            "width": 1
           },
           "marker": {
            "size": 2
           },
           "mode": "lines+markers",
           "name": "V1 + V2",
           "type": "scatter",
           "x": [
            0,
            1.4693877551020407
           ],
           "y": [
            0,
            1.4693877551020407
           ]
          },
          {
           "fill": "toself",
           "fillcolor": "rgba(0, 100, 200, 0.2)",
           "line": {
            "color": "rgba(255,255,255,0)"
           },
           "name": "Area",
           "type": "scatter",
           "x": [
            0,
            1.4693877551020407,
            1.4693877551020407,
            0,
            0
           ],
           "y": [
            0,
            0,
            1.4693877551020407,
            1.4693877551020407,
            0
           ]
          }
         ]
        },
        {
         "data": [
          {
           "line": {
            "color": "blue",
            "width": 1
           },
           "marker": {
            "size": 2
           },
           "mode": "lines+markers",
           "name": "V1",
           "type": "scatter",
           "x": [
            0,
            1.489795918367347
           ],
           "y": [
            0,
            0
           ]
          },
          {
           "line": {
            "color": "red",
            "width": 1
           },
           "marker": {
            "size": 2
           },
           "mode": "lines+markers",
           "name": "V2",
           "type": "scatter",
           "x": [
            0,
            0
           ],
           "y": [
            0,
            1.489795918367347
           ]
          },
          {
           "line": {
            "color": "green",
            "width": 1
           },
           "marker": {
            "size": 2
           },
           "mode": "lines+markers",
           "name": "V1 + V2",
           "type": "scatter",
           "x": [
            0,
            1.489795918367347
           ],
           "y": [
            0,
            1.489795918367347
           ]
          },
          {
           "fill": "toself",
           "fillcolor": "rgba(0, 100, 200, 0.2)",
           "line": {
            "color": "rgba(255,255,255,0)"
           },
           "name": "Area",
           "type": "scatter",
           "x": [
            0,
            1.489795918367347,
            1.489795918367347,
            0,
            0
           ],
           "y": [
            0,
            0,
            1.489795918367347,
            1.489795918367347,
            0
           ]
          }
         ]
        },
        {
         "data": [
          {
           "line": {
            "color": "blue",
            "width": 1
           },
           "marker": {
            "size": 2
           },
           "mode": "lines+markers",
           "name": "V1",
           "type": "scatter",
           "x": [
            0,
            1.510204081632653
           ],
           "y": [
            0,
            0
           ]
          },
          {
           "line": {
            "color": "red",
            "width": 1
           },
           "marker": {
            "size": 2
           },
           "mode": "lines+markers",
           "name": "V2",
           "type": "scatter",
           "x": [
            0,
            0
           ],
           "y": [
            0,
            1.510204081632653
           ]
          },
          {
           "line": {
            "color": "green",
            "width": 1
           },
           "marker": {
            "size": 2
           },
           "mode": "lines+markers",
           "name": "V1 + V2",
           "type": "scatter",
           "x": [
            0,
            1.510204081632653
           ],
           "y": [
            0,
            1.510204081632653
           ]
          },
          {
           "fill": "toself",
           "fillcolor": "rgba(0, 100, 200, 0.2)",
           "line": {
            "color": "rgba(255,255,255,0)"
           },
           "name": "Area",
           "type": "scatter",
           "x": [
            0,
            1.510204081632653,
            1.510204081632653,
            0,
            0
           ],
           "y": [
            0,
            0,
            1.510204081632653,
            1.510204081632653,
            0
           ]
          }
         ]
        },
        {
         "data": [
          {
           "line": {
            "color": "blue",
            "width": 1
           },
           "marker": {
            "size": 2
           },
           "mode": "lines+markers",
           "name": "V1",
           "type": "scatter",
           "x": [
            0,
            1.530612244897959
           ],
           "y": [
            0,
            0
           ]
          },
          {
           "line": {
            "color": "red",
            "width": 1
           },
           "marker": {
            "size": 2
           },
           "mode": "lines+markers",
           "name": "V2",
           "type": "scatter",
           "x": [
            0,
            0
           ],
           "y": [
            0,
            1.530612244897959
           ]
          },
          {
           "line": {
            "color": "green",
            "width": 1
           },
           "marker": {
            "size": 2
           },
           "mode": "lines+markers",
           "name": "V1 + V2",
           "type": "scatter",
           "x": [
            0,
            1.530612244897959
           ],
           "y": [
            0,
            1.530612244897959
           ]
          },
          {
           "fill": "toself",
           "fillcolor": "rgba(0, 100, 200, 0.2)",
           "line": {
            "color": "rgba(255,255,255,0)"
           },
           "name": "Area",
           "type": "scatter",
           "x": [
            0,
            1.530612244897959,
            1.530612244897959,
            0,
            0
           ],
           "y": [
            0,
            0,
            1.530612244897959,
            1.530612244897959,
            0
           ]
          }
         ]
        },
        {
         "data": [
          {
           "line": {
            "color": "blue",
            "width": 1
           },
           "marker": {
            "size": 2
           },
           "mode": "lines+markers",
           "name": "V1",
           "type": "scatter",
           "x": [
            0,
            1.5510204081632653
           ],
           "y": [
            0,
            0
           ]
          },
          {
           "line": {
            "color": "red",
            "width": 1
           },
           "marker": {
            "size": 2
           },
           "mode": "lines+markers",
           "name": "V2",
           "type": "scatter",
           "x": [
            0,
            0
           ],
           "y": [
            0,
            1.5510204081632653
           ]
          },
          {
           "line": {
            "color": "green",
            "width": 1
           },
           "marker": {
            "size": 2
           },
           "mode": "lines+markers",
           "name": "V1 + V2",
           "type": "scatter",
           "x": [
            0,
            1.5510204081632653
           ],
           "y": [
            0,
            1.5510204081632653
           ]
          },
          {
           "fill": "toself",
           "fillcolor": "rgba(0, 100, 200, 0.2)",
           "line": {
            "color": "rgba(255,255,255,0)"
           },
           "name": "Area",
           "type": "scatter",
           "x": [
            0,
            1.5510204081632653,
            1.5510204081632653,
            0,
            0
           ],
           "y": [
            0,
            0,
            1.5510204081632653,
            1.5510204081632653,
            0
           ]
          }
         ]
        },
        {
         "data": [
          {
           "line": {
            "color": "blue",
            "width": 1
           },
           "marker": {
            "size": 2
           },
           "mode": "lines+markers",
           "name": "V1",
           "type": "scatter",
           "x": [
            0,
            1.5714285714285714
           ],
           "y": [
            0,
            0
           ]
          },
          {
           "line": {
            "color": "red",
            "width": 1
           },
           "marker": {
            "size": 2
           },
           "mode": "lines+markers",
           "name": "V2",
           "type": "scatter",
           "x": [
            0,
            0
           ],
           "y": [
            0,
            1.5714285714285714
           ]
          },
          {
           "line": {
            "color": "green",
            "width": 1
           },
           "marker": {
            "size": 2
           },
           "mode": "lines+markers",
           "name": "V1 + V2",
           "type": "scatter",
           "x": [
            0,
            1.5714285714285714
           ],
           "y": [
            0,
            1.5714285714285714
           ]
          },
          {
           "fill": "toself",
           "fillcolor": "rgba(0, 100, 200, 0.2)",
           "line": {
            "color": "rgba(255,255,255,0)"
           },
           "name": "Area",
           "type": "scatter",
           "x": [
            0,
            1.5714285714285714,
            1.5714285714285714,
            0,
            0
           ],
           "y": [
            0,
            0,
            1.5714285714285714,
            1.5714285714285714,
            0
           ]
          }
         ]
        },
        {
         "data": [
          {
           "line": {
            "color": "blue",
            "width": 1
           },
           "marker": {
            "size": 2
           },
           "mode": "lines+markers",
           "name": "V1",
           "type": "scatter",
           "x": [
            0,
            1.5918367346938775
           ],
           "y": [
            0,
            0
           ]
          },
          {
           "line": {
            "color": "red",
            "width": 1
           },
           "marker": {
            "size": 2
           },
           "mode": "lines+markers",
           "name": "V2",
           "type": "scatter",
           "x": [
            0,
            0
           ],
           "y": [
            0,
            1.5918367346938775
           ]
          },
          {
           "line": {
            "color": "green",
            "width": 1
           },
           "marker": {
            "size": 2
           },
           "mode": "lines+markers",
           "name": "V1 + V2",
           "type": "scatter",
           "x": [
            0,
            1.5918367346938775
           ],
           "y": [
            0,
            1.5918367346938775
           ]
          },
          {
           "fill": "toself",
           "fillcolor": "rgba(0, 100, 200, 0.2)",
           "line": {
            "color": "rgba(255,255,255,0)"
           },
           "name": "Area",
           "type": "scatter",
           "x": [
            0,
            1.5918367346938775,
            1.5918367346938775,
            0,
            0
           ],
           "y": [
            0,
            0,
            1.5918367346938775,
            1.5918367346938775,
            0
           ]
          }
         ]
        },
        {
         "data": [
          {
           "line": {
            "color": "blue",
            "width": 1
           },
           "marker": {
            "size": 2
           },
           "mode": "lines+markers",
           "name": "V1",
           "type": "scatter",
           "x": [
            0,
            1.6122448979591835
           ],
           "y": [
            0,
            0
           ]
          },
          {
           "line": {
            "color": "red",
            "width": 1
           },
           "marker": {
            "size": 2
           },
           "mode": "lines+markers",
           "name": "V2",
           "type": "scatter",
           "x": [
            0,
            0
           ],
           "y": [
            0,
            1.6122448979591835
           ]
          },
          {
           "line": {
            "color": "green",
            "width": 1
           },
           "marker": {
            "size": 2
           },
           "mode": "lines+markers",
           "name": "V1 + V2",
           "type": "scatter",
           "x": [
            0,
            1.6122448979591835
           ],
           "y": [
            0,
            1.6122448979591835
           ]
          },
          {
           "fill": "toself",
           "fillcolor": "rgba(0, 100, 200, 0.2)",
           "line": {
            "color": "rgba(255,255,255,0)"
           },
           "name": "Area",
           "type": "scatter",
           "x": [
            0,
            1.6122448979591835,
            1.6122448979591835,
            0,
            0
           ],
           "y": [
            0,
            0,
            1.6122448979591835,
            1.6122448979591835,
            0
           ]
          }
         ]
        },
        {
         "data": [
          {
           "line": {
            "color": "blue",
            "width": 1
           },
           "marker": {
            "size": 2
           },
           "mode": "lines+markers",
           "name": "V1",
           "type": "scatter",
           "x": [
            0,
            1.6326530612244898
           ],
           "y": [
            0,
            0
           ]
          },
          {
           "line": {
            "color": "red",
            "width": 1
           },
           "marker": {
            "size": 2
           },
           "mode": "lines+markers",
           "name": "V2",
           "type": "scatter",
           "x": [
            0,
            0
           ],
           "y": [
            0,
            1.6326530612244898
           ]
          },
          {
           "line": {
            "color": "green",
            "width": 1
           },
           "marker": {
            "size": 2
           },
           "mode": "lines+markers",
           "name": "V1 + V2",
           "type": "scatter",
           "x": [
            0,
            1.6326530612244898
           ],
           "y": [
            0,
            1.6326530612244898
           ]
          },
          {
           "fill": "toself",
           "fillcolor": "rgba(0, 100, 200, 0.2)",
           "line": {
            "color": "rgba(255,255,255,0)"
           },
           "name": "Area",
           "type": "scatter",
           "x": [
            0,
            1.6326530612244898,
            1.6326530612244898,
            0,
            0
           ],
           "y": [
            0,
            0,
            1.6326530612244898,
            1.6326530612244898,
            0
           ]
          }
         ]
        },
        {
         "data": [
          {
           "line": {
            "color": "blue",
            "width": 1
           },
           "marker": {
            "size": 2
           },
           "mode": "lines+markers",
           "name": "V1",
           "type": "scatter",
           "x": [
            0,
            1.6530612244897958
           ],
           "y": [
            0,
            0
           ]
          },
          {
           "line": {
            "color": "red",
            "width": 1
           },
           "marker": {
            "size": 2
           },
           "mode": "lines+markers",
           "name": "V2",
           "type": "scatter",
           "x": [
            0,
            0
           ],
           "y": [
            0,
            1.6530612244897958
           ]
          },
          {
           "line": {
            "color": "green",
            "width": 1
           },
           "marker": {
            "size": 2
           },
           "mode": "lines+markers",
           "name": "V1 + V2",
           "type": "scatter",
           "x": [
            0,
            1.6530612244897958
           ],
           "y": [
            0,
            1.6530612244897958
           ]
          },
          {
           "fill": "toself",
           "fillcolor": "rgba(0, 100, 200, 0.2)",
           "line": {
            "color": "rgba(255,255,255,0)"
           },
           "name": "Area",
           "type": "scatter",
           "x": [
            0,
            1.6530612244897958,
            1.6530612244897958,
            0,
            0
           ],
           "y": [
            0,
            0,
            1.6530612244897958,
            1.6530612244897958,
            0
           ]
          }
         ]
        },
        {
         "data": [
          {
           "line": {
            "color": "blue",
            "width": 1
           },
           "marker": {
            "size": 2
           },
           "mode": "lines+markers",
           "name": "V1",
           "type": "scatter",
           "x": [
            0,
            1.6734693877551021
           ],
           "y": [
            0,
            0
           ]
          },
          {
           "line": {
            "color": "red",
            "width": 1
           },
           "marker": {
            "size": 2
           },
           "mode": "lines+markers",
           "name": "V2",
           "type": "scatter",
           "x": [
            0,
            0
           ],
           "y": [
            0,
            1.6734693877551021
           ]
          },
          {
           "line": {
            "color": "green",
            "width": 1
           },
           "marker": {
            "size": 2
           },
           "mode": "lines+markers",
           "name": "V1 + V2",
           "type": "scatter",
           "x": [
            0,
            1.6734693877551021
           ],
           "y": [
            0,
            1.6734693877551021
           ]
          },
          {
           "fill": "toself",
           "fillcolor": "rgba(0, 100, 200, 0.2)",
           "line": {
            "color": "rgba(255,255,255,0)"
           },
           "name": "Area",
           "type": "scatter",
           "x": [
            0,
            1.6734693877551021,
            1.6734693877551021,
            0,
            0
           ],
           "y": [
            0,
            0,
            1.6734693877551021,
            1.6734693877551021,
            0
           ]
          }
         ]
        },
        {
         "data": [
          {
           "line": {
            "color": "blue",
            "width": 1
           },
           "marker": {
            "size": 2
           },
           "mode": "lines+markers",
           "name": "V1",
           "type": "scatter",
           "x": [
            0,
            1.693877551020408
           ],
           "y": [
            0,
            0
           ]
          },
          {
           "line": {
            "color": "red",
            "width": 1
           },
           "marker": {
            "size": 2
           },
           "mode": "lines+markers",
           "name": "V2",
           "type": "scatter",
           "x": [
            0,
            0
           ],
           "y": [
            0,
            1.693877551020408
           ]
          },
          {
           "line": {
            "color": "green",
            "width": 1
           },
           "marker": {
            "size": 2
           },
           "mode": "lines+markers",
           "name": "V1 + V2",
           "type": "scatter",
           "x": [
            0,
            1.693877551020408
           ],
           "y": [
            0,
            1.693877551020408
           ]
          },
          {
           "fill": "toself",
           "fillcolor": "rgba(0, 100, 200, 0.2)",
           "line": {
            "color": "rgba(255,255,255,0)"
           },
           "name": "Area",
           "type": "scatter",
           "x": [
            0,
            1.693877551020408,
            1.693877551020408,
            0,
            0
           ],
           "y": [
            0,
            0,
            1.693877551020408,
            1.693877551020408,
            0
           ]
          }
         ]
        },
        {
         "data": [
          {
           "line": {
            "color": "blue",
            "width": 1
           },
           "marker": {
            "size": 2
           },
           "mode": "lines+markers",
           "name": "V1",
           "type": "scatter",
           "x": [
            0,
            1.7142857142857142
           ],
           "y": [
            0,
            0
           ]
          },
          {
           "line": {
            "color": "red",
            "width": 1
           },
           "marker": {
            "size": 2
           },
           "mode": "lines+markers",
           "name": "V2",
           "type": "scatter",
           "x": [
            0,
            0
           ],
           "y": [
            0,
            1.7142857142857142
           ]
          },
          {
           "line": {
            "color": "green",
            "width": 1
           },
           "marker": {
            "size": 2
           },
           "mode": "lines+markers",
           "name": "V1 + V2",
           "type": "scatter",
           "x": [
            0,
            1.7142857142857142
           ],
           "y": [
            0,
            1.7142857142857142
           ]
          },
          {
           "fill": "toself",
           "fillcolor": "rgba(0, 100, 200, 0.2)",
           "line": {
            "color": "rgba(255,255,255,0)"
           },
           "name": "Area",
           "type": "scatter",
           "x": [
            0,
            1.7142857142857142,
            1.7142857142857142,
            0,
            0
           ],
           "y": [
            0,
            0,
            1.7142857142857142,
            1.7142857142857142,
            0
           ]
          }
         ]
        },
        {
         "data": [
          {
           "line": {
            "color": "blue",
            "width": 1
           },
           "marker": {
            "size": 2
           },
           "mode": "lines+markers",
           "name": "V1",
           "type": "scatter",
           "x": [
            0,
            1.7346938775510203
           ],
           "y": [
            0,
            0
           ]
          },
          {
           "line": {
            "color": "red",
            "width": 1
           },
           "marker": {
            "size": 2
           },
           "mode": "lines+markers",
           "name": "V2",
           "type": "scatter",
           "x": [
            0,
            0
           ],
           "y": [
            0,
            1.7346938775510203
           ]
          },
          {
           "line": {
            "color": "green",
            "width": 1
           },
           "marker": {
            "size": 2
           },
           "mode": "lines+markers",
           "name": "V1 + V2",
           "type": "scatter",
           "x": [
            0,
            1.7346938775510203
           ],
           "y": [
            0,
            1.7346938775510203
           ]
          },
          {
           "fill": "toself",
           "fillcolor": "rgba(0, 100, 200, 0.2)",
           "line": {
            "color": "rgba(255,255,255,0)"
           },
           "name": "Area",
           "type": "scatter",
           "x": [
            0,
            1.7346938775510203,
            1.7346938775510203,
            0,
            0
           ],
           "y": [
            0,
            0,
            1.7346938775510203,
            1.7346938775510203,
            0
           ]
          }
         ]
        },
        {
         "data": [
          {
           "line": {
            "color": "blue",
            "width": 1
           },
           "marker": {
            "size": 2
           },
           "mode": "lines+markers",
           "name": "V1",
           "type": "scatter",
           "x": [
            0,
            1.7551020408163265
           ],
           "y": [
            0,
            0
           ]
          },
          {
           "line": {
            "color": "red",
            "width": 1
           },
           "marker": {
            "size": 2
           },
           "mode": "lines+markers",
           "name": "V2",
           "type": "scatter",
           "x": [
            0,
            0
           ],
           "y": [
            0,
            1.7551020408163265
           ]
          },
          {
           "line": {
            "color": "green",
            "width": 1
           },
           "marker": {
            "size": 2
           },
           "mode": "lines+markers",
           "name": "V1 + V2",
           "type": "scatter",
           "x": [
            0,
            1.7551020408163265
           ],
           "y": [
            0,
            1.7551020408163265
           ]
          },
          {
           "fill": "toself",
           "fillcolor": "rgba(0, 100, 200, 0.2)",
           "line": {
            "color": "rgba(255,255,255,0)"
           },
           "name": "Area",
           "type": "scatter",
           "x": [
            0,
            1.7551020408163265,
            1.7551020408163265,
            0,
            0
           ],
           "y": [
            0,
            0,
            1.7551020408163265,
            1.7551020408163265,
            0
           ]
          }
         ]
        },
        {
         "data": [
          {
           "line": {
            "color": "blue",
            "width": 1
           },
           "marker": {
            "size": 2
           },
           "mode": "lines+markers",
           "name": "V1",
           "type": "scatter",
           "x": [
            0,
            1.7755102040816326
           ],
           "y": [
            0,
            0
           ]
          },
          {
           "line": {
            "color": "red",
            "width": 1
           },
           "marker": {
            "size": 2
           },
           "mode": "lines+markers",
           "name": "V2",
           "type": "scatter",
           "x": [
            0,
            0
           ],
           "y": [
            0,
            1.7755102040816326
           ]
          },
          {
           "line": {
            "color": "green",
            "width": 1
           },
           "marker": {
            "size": 2
           },
           "mode": "lines+markers",
           "name": "V1 + V2",
           "type": "scatter",
           "x": [
            0,
            1.7755102040816326
           ],
           "y": [
            0,
            1.7755102040816326
           ]
          },
          {
           "fill": "toself",
           "fillcolor": "rgba(0, 100, 200, 0.2)",
           "line": {
            "color": "rgba(255,255,255,0)"
           },
           "name": "Area",
           "type": "scatter",
           "x": [
            0,
            1.7755102040816326,
            1.7755102040816326,
            0,
            0
           ],
           "y": [
            0,
            0,
            1.7755102040816326,
            1.7755102040816326,
            0
           ]
          }
         ]
        },
        {
         "data": [
          {
           "line": {
            "color": "blue",
            "width": 1
           },
           "marker": {
            "size": 2
           },
           "mode": "lines+markers",
           "name": "V1",
           "type": "scatter",
           "x": [
            0,
            1.7959183673469385
           ],
           "y": [
            0,
            0
           ]
          },
          {
           "line": {
            "color": "red",
            "width": 1
           },
           "marker": {
            "size": 2
           },
           "mode": "lines+markers",
           "name": "V2",
           "type": "scatter",
           "x": [
            0,
            0
           ],
           "y": [
            0,
            1.7959183673469385
           ]
          },
          {
           "line": {
            "color": "green",
            "width": 1
           },
           "marker": {
            "size": 2
           },
           "mode": "lines+markers",
           "name": "V1 + V2",
           "type": "scatter",
           "x": [
            0,
            1.7959183673469385
           ],
           "y": [
            0,
            1.7959183673469385
           ]
          },
          {
           "fill": "toself",
           "fillcolor": "rgba(0, 100, 200, 0.2)",
           "line": {
            "color": "rgba(255,255,255,0)"
           },
           "name": "Area",
           "type": "scatter",
           "x": [
            0,
            1.7959183673469385,
            1.7959183673469385,
            0,
            0
           ],
           "y": [
            0,
            0,
            1.7959183673469385,
            1.7959183673469385,
            0
           ]
          }
         ]
        },
        {
         "data": [
          {
           "line": {
            "color": "blue",
            "width": 1
           },
           "marker": {
            "size": 2
           },
           "mode": "lines+markers",
           "name": "V1",
           "type": "scatter",
           "x": [
            0,
            1.816326530612245
           ],
           "y": [
            0,
            0
           ]
          },
          {
           "line": {
            "color": "red",
            "width": 1
           },
           "marker": {
            "size": 2
           },
           "mode": "lines+markers",
           "name": "V2",
           "type": "scatter",
           "x": [
            0,
            0
           ],
           "y": [
            0,
            1.816326530612245
           ]
          },
          {
           "line": {
            "color": "green",
            "width": 1
           },
           "marker": {
            "size": 2
           },
           "mode": "lines+markers",
           "name": "V1 + V2",
           "type": "scatter",
           "x": [
            0,
            1.816326530612245
           ],
           "y": [
            0,
            1.816326530612245
           ]
          },
          {
           "fill": "toself",
           "fillcolor": "rgba(0, 100, 200, 0.2)",
           "line": {
            "color": "rgba(255,255,255,0)"
           },
           "name": "Area",
           "type": "scatter",
           "x": [
            0,
            1.816326530612245,
            1.816326530612245,
            0,
            0
           ],
           "y": [
            0,
            0,
            1.816326530612245,
            1.816326530612245,
            0
           ]
          }
         ]
        },
        {
         "data": [
          {
           "line": {
            "color": "blue",
            "width": 1
           },
           "marker": {
            "size": 2
           },
           "mode": "lines+markers",
           "name": "V1",
           "type": "scatter",
           "x": [
            0,
            1.8367346938775508
           ],
           "y": [
            0,
            0
           ]
          },
          {
           "line": {
            "color": "red",
            "width": 1
           },
           "marker": {
            "size": 2
           },
           "mode": "lines+markers",
           "name": "V2",
           "type": "scatter",
           "x": [
            0,
            0
           ],
           "y": [
            0,
            1.8367346938775508
           ]
          },
          {
           "line": {
            "color": "green",
            "width": 1
           },
           "marker": {
            "size": 2
           },
           "mode": "lines+markers",
           "name": "V1 + V2",
           "type": "scatter",
           "x": [
            0,
            1.8367346938775508
           ],
           "y": [
            0,
            1.8367346938775508
           ]
          },
          {
           "fill": "toself",
           "fillcolor": "rgba(0, 100, 200, 0.2)",
           "line": {
            "color": "rgba(255,255,255,0)"
           },
           "name": "Area",
           "type": "scatter",
           "x": [
            0,
            1.8367346938775508,
            1.8367346938775508,
            0,
            0
           ],
           "y": [
            0,
            0,
            1.8367346938775508,
            1.8367346938775508,
            0
           ]
          }
         ]
        },
        {
         "data": [
          {
           "line": {
            "color": "blue",
            "width": 1
           },
           "marker": {
            "size": 2
           },
           "mode": "lines+markers",
           "name": "V1",
           "type": "scatter",
           "x": [
            0,
            1.8571428571428572
           ],
           "y": [
            0,
            0
           ]
          },
          {
           "line": {
            "color": "red",
            "width": 1
           },
           "marker": {
            "size": 2
           },
           "mode": "lines+markers",
           "name": "V2",
           "type": "scatter",
           "x": [
            0,
            0
           ],
           "y": [
            0,
            1.8571428571428572
           ]
          },
          {
           "line": {
            "color": "green",
            "width": 1
           },
           "marker": {
            "size": 2
           },
           "mode": "lines+markers",
           "name": "V1 + V2",
           "type": "scatter",
           "x": [
            0,
            1.8571428571428572
           ],
           "y": [
            0,
            1.8571428571428572
           ]
          },
          {
           "fill": "toself",
           "fillcolor": "rgba(0, 100, 200, 0.2)",
           "line": {
            "color": "rgba(255,255,255,0)"
           },
           "name": "Area",
           "type": "scatter",
           "x": [
            0,
            1.8571428571428572,
            1.8571428571428572,
            0,
            0
           ],
           "y": [
            0,
            0,
            1.8571428571428572,
            1.8571428571428572,
            0
           ]
          }
         ]
        },
        {
         "data": [
          {
           "line": {
            "color": "blue",
            "width": 1
           },
           "marker": {
            "size": 2
           },
           "mode": "lines+markers",
           "name": "V1",
           "type": "scatter",
           "x": [
            0,
            1.8775510204081631
           ],
           "y": [
            0,
            0
           ]
          },
          {
           "line": {
            "color": "red",
            "width": 1
           },
           "marker": {
            "size": 2
           },
           "mode": "lines+markers",
           "name": "V2",
           "type": "scatter",
           "x": [
            0,
            0
           ],
           "y": [
            0,
            1.8775510204081631
           ]
          },
          {
           "line": {
            "color": "green",
            "width": 1
           },
           "marker": {
            "size": 2
           },
           "mode": "lines+markers",
           "name": "V1 + V2",
           "type": "scatter",
           "x": [
            0,
            1.8775510204081631
           ],
           "y": [
            0,
            1.8775510204081631
           ]
          },
          {
           "fill": "toself",
           "fillcolor": "rgba(0, 100, 200, 0.2)",
           "line": {
            "color": "rgba(255,255,255,0)"
           },
           "name": "Area",
           "type": "scatter",
           "x": [
            0,
            1.8775510204081631,
            1.8775510204081631,
            0,
            0
           ],
           "y": [
            0,
            0,
            1.8775510204081631,
            1.8775510204081631,
            0
           ]
          }
         ]
        },
        {
         "data": [
          {
           "line": {
            "color": "blue",
            "width": 1
           },
           "marker": {
            "size": 2
           },
           "mode": "lines+markers",
           "name": "V1",
           "type": "scatter",
           "x": [
            0,
            1.8979591836734693
           ],
           "y": [
            0,
            0
           ]
          },
          {
           "line": {
            "color": "red",
            "width": 1
           },
           "marker": {
            "size": 2
           },
           "mode": "lines+markers",
           "name": "V2",
           "type": "scatter",
           "x": [
            0,
            0
           ],
           "y": [
            0,
            1.8979591836734693
           ]
          },
          {
           "line": {
            "color": "green",
            "width": 1
           },
           "marker": {
            "size": 2
           },
           "mode": "lines+markers",
           "name": "V1 + V2",
           "type": "scatter",
           "x": [
            0,
            1.8979591836734693
           ],
           "y": [
            0,
            1.8979591836734693
           ]
          },
          {
           "fill": "toself",
           "fillcolor": "rgba(0, 100, 200, 0.2)",
           "line": {
            "color": "rgba(255,255,255,0)"
           },
           "name": "Area",
           "type": "scatter",
           "x": [
            0,
            1.8979591836734693,
            1.8979591836734693,
            0,
            0
           ],
           "y": [
            0,
            0,
            1.8979591836734693,
            1.8979591836734693,
            0
           ]
          }
         ]
        },
        {
         "data": [
          {
           "line": {
            "color": "blue",
            "width": 1
           },
           "marker": {
            "size": 2
           },
           "mode": "lines+markers",
           "name": "V1",
           "type": "scatter",
           "x": [
            0,
            1.9183673469387754
           ],
           "y": [
            0,
            0
           ]
          },
          {
           "line": {
            "color": "red",
            "width": 1
           },
           "marker": {
            "size": 2
           },
           "mode": "lines+markers",
           "name": "V2",
           "type": "scatter",
           "x": [
            0,
            0
           ],
           "y": [
            0,
            1.9183673469387754
           ]
          },
          {
           "line": {
            "color": "green",
            "width": 1
           },
           "marker": {
            "size": 2
           },
           "mode": "lines+markers",
           "name": "V1 + V2",
           "type": "scatter",
           "x": [
            0,
            1.9183673469387754
           ],
           "y": [
            0,
            1.9183673469387754
           ]
          },
          {
           "fill": "toself",
           "fillcolor": "rgba(0, 100, 200, 0.2)",
           "line": {
            "color": "rgba(255,255,255,0)"
           },
           "name": "Area",
           "type": "scatter",
           "x": [
            0,
            1.9183673469387754,
            1.9183673469387754,
            0,
            0
           ],
           "y": [
            0,
            0,
            1.9183673469387754,
            1.9183673469387754,
            0
           ]
          }
         ]
        },
        {
         "data": [
          {
           "line": {
            "color": "blue",
            "width": 1
           },
           "marker": {
            "size": 2
           },
           "mode": "lines+markers",
           "name": "V1",
           "type": "scatter",
           "x": [
            0,
            1.9387755102040816
           ],
           "y": [
            0,
            0
           ]
          },
          {
           "line": {
            "color": "red",
            "width": 1
           },
           "marker": {
            "size": 2
           },
           "mode": "lines+markers",
           "name": "V2",
           "type": "scatter",
           "x": [
            0,
            0
           ],
           "y": [
            0,
            1.9387755102040816
           ]
          },
          {
           "line": {
            "color": "green",
            "width": 1
           },
           "marker": {
            "size": 2
           },
           "mode": "lines+markers",
           "name": "V1 + V2",
           "type": "scatter",
           "x": [
            0,
            1.9387755102040816
           ],
           "y": [
            0,
            1.9387755102040816
           ]
          },
          {
           "fill": "toself",
           "fillcolor": "rgba(0, 100, 200, 0.2)",
           "line": {
            "color": "rgba(255,255,255,0)"
           },
           "name": "Area",
           "type": "scatter",
           "x": [
            0,
            1.9387755102040816,
            1.9387755102040816,
            0,
            0
           ],
           "y": [
            0,
            0,
            1.9387755102040816,
            1.9387755102040816,
            0
           ]
          }
         ]
        },
        {
         "data": [
          {
           "line": {
            "color": "blue",
            "width": 1
           },
           "marker": {
            "size": 2
           },
           "mode": "lines+markers",
           "name": "V1",
           "type": "scatter",
           "x": [
            0,
            1.9591836734693877
           ],
           "y": [
            0,
            0
           ]
          },
          {
           "line": {
            "color": "red",
            "width": 1
           },
           "marker": {
            "size": 2
           },
           "mode": "lines+markers",
           "name": "V2",
           "type": "scatter",
           "x": [
            0,
            0
           ],
           "y": [
            0,
            1.9591836734693877
           ]
          },
          {
           "line": {
            "color": "green",
            "width": 1
           },
           "marker": {
            "size": 2
           },
           "mode": "lines+markers",
           "name": "V1 + V2",
           "type": "scatter",
           "x": [
            0,
            1.9591836734693877
           ],
           "y": [
            0,
            1.9591836734693877
           ]
          },
          {
           "fill": "toself",
           "fillcolor": "rgba(0, 100, 200, 0.2)",
           "line": {
            "color": "rgba(255,255,255,0)"
           },
           "name": "Area",
           "type": "scatter",
           "x": [
            0,
            1.9591836734693877,
            1.9591836734693877,
            0,
            0
           ],
           "y": [
            0,
            0,
            1.9591836734693877,
            1.9591836734693877,
            0
           ]
          }
         ]
        },
        {
         "data": [
          {
           "line": {
            "color": "blue",
            "width": 1
           },
           "marker": {
            "size": 2
           },
           "mode": "lines+markers",
           "name": "V1",
           "type": "scatter",
           "x": [
            0,
            1.9795918367346939
           ],
           "y": [
            0,
            0
           ]
          },
          {
           "line": {
            "color": "red",
            "width": 1
           },
           "marker": {
            "size": 2
           },
           "mode": "lines+markers",
           "name": "V2",
           "type": "scatter",
           "x": [
            0,
            0
           ],
           "y": [
            0,
            1.9795918367346939
           ]
          },
          {
           "line": {
            "color": "green",
            "width": 1
           },
           "marker": {
            "size": 2
           },
           "mode": "lines+markers",
           "name": "V1 + V2",
           "type": "scatter",
           "x": [
            0,
            1.9795918367346939
           ],
           "y": [
            0,
            1.9795918367346939
           ]
          },
          {
           "fill": "toself",
           "fillcolor": "rgba(0, 100, 200, 0.2)",
           "line": {
            "color": "rgba(255,255,255,0)"
           },
           "name": "Area",
           "type": "scatter",
           "x": [
            0,
            1.9795918367346939,
            1.9795918367346939,
            0,
            0
           ],
           "y": [
            0,
            0,
            1.9795918367346939,
            1.9795918367346939,
            0
           ]
          }
         ]
        },
        {
         "data": [
          {
           "line": {
            "color": "blue",
            "width": 1
           },
           "marker": {
            "size": 2
           },
           "mode": "lines+markers",
           "name": "V1",
           "type": "scatter",
           "x": [
            0,
            2
           ],
           "y": [
            0,
            0
           ]
          },
          {
           "line": {
            "color": "red",
            "width": 1
           },
           "marker": {
            "size": 2
           },
           "mode": "lines+markers",
           "name": "V2",
           "type": "scatter",
           "x": [
            0,
            0
           ],
           "y": [
            0,
            2
           ]
          },
          {
           "line": {
            "color": "green",
            "width": 1
           },
           "marker": {
            "size": 2
           },
           "mode": "lines+markers",
           "name": "V1 + V2",
           "type": "scatter",
           "x": [
            0,
            2
           ],
           "y": [
            0,
            2
           ]
          },
          {
           "fill": "toself",
           "fillcolor": "rgba(0, 100, 200, 0.2)",
           "line": {
            "color": "rgba(255,255,255,0)"
           },
           "name": "Area",
           "type": "scatter",
           "x": [
            0,
            2,
            2,
            0,
            0
           ],
           "y": [
            0,
            0,
            2,
            2,
            0
           ]
          }
         ]
        }
       ],
       "layout": {
        "height": 450,
        "showlegend": true,
        "template": {
         "data": {
          "bar": [
           {
            "error_x": {
             "color": "#2a3f5f"
            },
            "error_y": {
             "color": "#2a3f5f"
            },
            "marker": {
             "line": {
              "color": "#E5ECF6",
              "width": 0.5
             },
             "pattern": {
              "fillmode": "overlay",
              "size": 10,
              "solidity": 0.2
             }
            },
            "type": "bar"
           }
          ],
          "barpolar": [
           {
            "marker": {
             "line": {
              "color": "#E5ECF6",
              "width": 0.5
             },
             "pattern": {
              "fillmode": "overlay",
              "size": 10,
              "solidity": 0.2
             }
            },
            "type": "barpolar"
           }
          ],
          "carpet": [
           {
            "aaxis": {
             "endlinecolor": "#2a3f5f",
             "gridcolor": "white",
             "linecolor": "white",
             "minorgridcolor": "white",
             "startlinecolor": "#2a3f5f"
            },
            "baxis": {
             "endlinecolor": "#2a3f5f",
             "gridcolor": "white",
             "linecolor": "white",
             "minorgridcolor": "white",
             "startlinecolor": "#2a3f5f"
            },
            "type": "carpet"
           }
          ],
          "choropleth": [
           {
            "colorbar": {
             "outlinewidth": 0,
             "ticks": ""
            },
            "type": "choropleth"
           }
          ],
          "contour": [
           {
            "colorbar": {
             "outlinewidth": 0,
             "ticks": ""
            },
            "colorscale": [
             [
              0,
              "#0d0887"
             ],
             [
              0.1111111111111111,
              "#46039f"
             ],
             [
              0.2222222222222222,
              "#7201a8"
             ],
             [
              0.3333333333333333,
              "#9c179e"
             ],
             [
              0.4444444444444444,
              "#bd3786"
             ],
             [
              0.5555555555555556,
              "#d8576b"
             ],
             [
              0.6666666666666666,
              "#ed7953"
             ],
             [
              0.7777777777777778,
              "#fb9f3a"
             ],
             [
              0.8888888888888888,
              "#fdca26"
             ],
             [
              1,
              "#f0f921"
             ]
            ],
            "type": "contour"
           }
          ],
          "contourcarpet": [
           {
            "colorbar": {
             "outlinewidth": 0,
             "ticks": ""
            },
            "type": "contourcarpet"
           }
          ],
          "heatmap": [
           {
            "colorbar": {
             "outlinewidth": 0,
             "ticks": ""
            },
            "colorscale": [
             [
              0,
              "#0d0887"
             ],
             [
              0.1111111111111111,
              "#46039f"
             ],
             [
              0.2222222222222222,
              "#7201a8"
             ],
             [
              0.3333333333333333,
              "#9c179e"
             ],
             [
              0.4444444444444444,
              "#bd3786"
             ],
             [
              0.5555555555555556,
              "#d8576b"
             ],
             [
              0.6666666666666666,
              "#ed7953"
             ],
             [
              0.7777777777777778,
              "#fb9f3a"
             ],
             [
              0.8888888888888888,
              "#fdca26"
             ],
             [
              1,
              "#f0f921"
             ]
            ],
            "type": "heatmap"
           }
          ],
          "heatmapgl": [
           {
            "colorbar": {
             "outlinewidth": 0,
             "ticks": ""
            },
            "colorscale": [
             [
              0,
              "#0d0887"
             ],
             [
              0.1111111111111111,
              "#46039f"
             ],
             [
              0.2222222222222222,
              "#7201a8"
             ],
             [
              0.3333333333333333,
              "#9c179e"
             ],
             [
              0.4444444444444444,
              "#bd3786"
             ],
             [
              0.5555555555555556,
              "#d8576b"
             ],
             [
              0.6666666666666666,
              "#ed7953"
             ],
             [
              0.7777777777777778,
              "#fb9f3a"
             ],
             [
              0.8888888888888888,
              "#fdca26"
             ],
             [
              1,
              "#f0f921"
             ]
            ],
            "type": "heatmapgl"
           }
          ],
          "histogram": [
           {
            "marker": {
             "pattern": {
              "fillmode": "overlay",
              "size": 10,
              "solidity": 0.2
             }
            },
            "type": "histogram"
           }
          ],
          "histogram2d": [
           {
            "colorbar": {
             "outlinewidth": 0,
             "ticks": ""
            },
            "colorscale": [
             [
              0,
              "#0d0887"
             ],
             [
              0.1111111111111111,
              "#46039f"
             ],
             [
              0.2222222222222222,
              "#7201a8"
             ],
             [
              0.3333333333333333,
              "#9c179e"
             ],
             [
              0.4444444444444444,
              "#bd3786"
             ],
             [
              0.5555555555555556,
              "#d8576b"
             ],
             [
              0.6666666666666666,
              "#ed7953"
             ],
             [
              0.7777777777777778,
              "#fb9f3a"
             ],
             [
              0.8888888888888888,
              "#fdca26"
             ],
             [
              1,
              "#f0f921"
             ]
            ],
            "type": "histogram2d"
           }
          ],
          "histogram2dcontour": [
           {
            "colorbar": {
             "outlinewidth": 0,
             "ticks": ""
            },
            "colorscale": [
             [
              0,
              "#0d0887"
             ],
             [
              0.1111111111111111,
              "#46039f"
             ],
             [
              0.2222222222222222,
              "#7201a8"
             ],
             [
              0.3333333333333333,
              "#9c179e"
             ],
             [
              0.4444444444444444,
              "#bd3786"
             ],
             [
              0.5555555555555556,
              "#d8576b"
             ],
             [
              0.6666666666666666,
              "#ed7953"
             ],
             [
              0.7777777777777778,
              "#fb9f3a"
             ],
             [
              0.8888888888888888,
              "#fdca26"
             ],
             [
              1,
              "#f0f921"
             ]
            ],
            "type": "histogram2dcontour"
           }
          ],
          "mesh3d": [
           {
            "colorbar": {
             "outlinewidth": 0,
             "ticks": ""
            },
            "type": "mesh3d"
           }
          ],
          "parcoords": [
           {
            "line": {
             "colorbar": {
              "outlinewidth": 0,
              "ticks": ""
             }
            },
            "type": "parcoords"
           }
          ],
          "pie": [
           {
            "automargin": true,
            "type": "pie"
           }
          ],
          "scatter": [
           {
            "fillpattern": {
             "fillmode": "overlay",
             "size": 10,
             "solidity": 0.2
            },
            "type": "scatter"
           }
          ],
          "scatter3d": [
           {
            "line": {
             "colorbar": {
              "outlinewidth": 0,
              "ticks": ""
             }
            },
            "marker": {
             "colorbar": {
              "outlinewidth": 0,
              "ticks": ""
             }
            },
            "type": "scatter3d"
           }
          ],
          "scattercarpet": [
           {
            "marker": {
             "colorbar": {
              "outlinewidth": 0,
              "ticks": ""
             }
            },
            "type": "scattercarpet"
           }
          ],
          "scattergeo": [
           {
            "marker": {
             "colorbar": {
              "outlinewidth": 0,
              "ticks": ""
             }
            },
            "type": "scattergeo"
           }
          ],
          "scattergl": [
           {
            "marker": {
             "colorbar": {
              "outlinewidth": 0,
              "ticks": ""
             }
            },
            "type": "scattergl"
           }
          ],
          "scattermapbox": [
           {
            "marker": {
             "colorbar": {
              "outlinewidth": 0,
              "ticks": ""
             }
            },
            "type": "scattermapbox"
           }
          ],
          "scatterpolar": [
           {
            "marker": {
             "colorbar": {
              "outlinewidth": 0,
              "ticks": ""
             }
            },
            "type": "scatterpolar"
           }
          ],
          "scatterpolargl": [
           {
            "marker": {
             "colorbar": {
              "outlinewidth": 0,
              "ticks": ""
             }
            },
            "type": "scatterpolargl"
           }
          ],
          "scatterternary": [
           {
            "marker": {
             "colorbar": {
              "outlinewidth": 0,
              "ticks": ""
             }
            },
            "type": "scatterternary"
           }
          ],
          "surface": [
           {
            "colorbar": {
             "outlinewidth": 0,
             "ticks": ""
            },
            "colorscale": [
             [
              0,
              "#0d0887"
             ],
             [
              0.1111111111111111,
              "#46039f"
             ],
             [
              0.2222222222222222,
              "#7201a8"
             ],
             [
              0.3333333333333333,
              "#9c179e"
             ],
             [
              0.4444444444444444,
              "#bd3786"
             ],
             [
              0.5555555555555556,
              "#d8576b"
             ],
             [
              0.6666666666666666,
              "#ed7953"
             ],
             [
              0.7777777777777778,
              "#fb9f3a"
             ],
             [
              0.8888888888888888,
              "#fdca26"
             ],
             [
              1,
              "#f0f921"
             ]
            ],
            "type": "surface"
           }
          ],
          "table": [
           {
            "cells": {
             "fill": {
              "color": "#EBF0F8"
             },
             "line": {
              "color": "white"
             }
            },
            "header": {
             "fill": {
              "color": "#C8D4E3"
             },
             "line": {
              "color": "white"
             }
            },
            "type": "table"
           }
          ]
         },
         "layout": {
          "annotationdefaults": {
           "arrowcolor": "#2a3f5f",
           "arrowhead": 0,
           "arrowwidth": 1
          },
          "autotypenumbers": "strict",
          "coloraxis": {
           "colorbar": {
            "outlinewidth": 0,
            "ticks": ""
           }
          },
          "colorscale": {
           "diverging": [
            [
             0,
             "#8e0152"
            ],
            [
             0.1,
             "#c51b7d"
            ],
            [
             0.2,
             "#de77ae"
            ],
            [
             0.3,
             "#f1b6da"
            ],
            [
             0.4,
             "#fde0ef"
            ],
            [
             0.5,
             "#f7f7f7"
            ],
            [
             0.6,
             "#e6f5d0"
            ],
            [
             0.7,
             "#b8e186"
            ],
            [
             0.8,
             "#7fbc41"
            ],
            [
             0.9,
             "#4d9221"
            ],
            [
             1,
             "#276419"
            ]
           ],
           "sequential": [
            [
             0,
             "#0d0887"
            ],
            [
             0.1111111111111111,
             "#46039f"
            ],
            [
             0.2222222222222222,
             "#7201a8"
            ],
            [
             0.3333333333333333,
             "#9c179e"
            ],
            [
             0.4444444444444444,
             "#bd3786"
            ],
            [
             0.5555555555555556,
             "#d8576b"
            ],
            [
             0.6666666666666666,
             "#ed7953"
            ],
            [
             0.7777777777777778,
             "#fb9f3a"
            ],
            [
             0.8888888888888888,
             "#fdca26"
            ],
            [
             1,
             "#f0f921"
            ]
           ],
           "sequentialminus": [
            [
             0,
             "#0d0887"
            ],
            [
             0.1111111111111111,
             "#46039f"
            ],
            [
             0.2222222222222222,
             "#7201a8"
            ],
            [
             0.3333333333333333,
             "#9c179e"
            ],
            [
             0.4444444444444444,
             "#bd3786"
            ],
            [
             0.5555555555555556,
             "#d8576b"
            ],
            [
             0.6666666666666666,
             "#ed7953"
            ],
            [
             0.7777777777777778,
             "#fb9f3a"
            ],
            [
             0.8888888888888888,
             "#fdca26"
            ],
            [
             1,
             "#f0f921"
            ]
           ]
          },
          "colorway": [
           "#636efa",
           "#EF553B",
           "#00cc96",
           "#ab63fa",
           "#FFA15A",
           "#19d3f3",
           "#FF6692",
           "#B6E880",
           "#FF97FF",
           "#FECB52"
          ],
          "font": {
           "color": "#2a3f5f"
          },
          "geo": {
           "bgcolor": "white",
           "lakecolor": "white",
           "landcolor": "#E5ECF6",
           "showlakes": true,
           "showland": true,
           "subunitcolor": "white"
          },
          "hoverlabel": {
           "align": "left"
          },
          "hovermode": "closest",
          "mapbox": {
           "style": "light"
          },
          "paper_bgcolor": "white",
          "plot_bgcolor": "#E5ECF6",
          "polar": {
           "angularaxis": {
            "gridcolor": "white",
            "linecolor": "white",
            "ticks": ""
           },
           "bgcolor": "#E5ECF6",
           "radialaxis": {
            "gridcolor": "white",
            "linecolor": "white",
            "ticks": ""
           }
          },
          "scene": {
           "xaxis": {
            "backgroundcolor": "#E5ECF6",
            "gridcolor": "white",
            "gridwidth": 2,
            "linecolor": "white",
            "showbackground": true,
            "ticks": "",
            "zerolinecolor": "white"
           },
           "yaxis": {
            "backgroundcolor": "#E5ECF6",
            "gridcolor": "white",
            "gridwidth": 2,
            "linecolor": "white",
            "showbackground": true,
            "ticks": "",
            "zerolinecolor": "white"
           },
           "zaxis": {
            "backgroundcolor": "#E5ECF6",
            "gridcolor": "white",
            "gridwidth": 2,
            "linecolor": "white",
            "showbackground": true,
            "ticks": "",
            "zerolinecolor": "white"
           }
          },
          "shapedefaults": {
           "line": {
            "color": "#2a3f5f"
           }
          },
          "ternary": {
           "aaxis": {
            "gridcolor": "white",
            "linecolor": "white",
            "ticks": ""
           },
           "baxis": {
            "gridcolor": "white",
            "linecolor": "white",
            "ticks": ""
           },
           "bgcolor": "#E5ECF6",
           "caxis": {
            "gridcolor": "white",
            "linecolor": "white",
            "ticks": ""
           }
          },
          "title": {
           "x": 0.05
          },
          "xaxis": {
           "automargin": true,
           "gridcolor": "white",
           "linecolor": "white",
           "ticks": "",
           "title": {
            "standoff": 15
           },
           "zerolinecolor": "white",
           "zerolinewidth": 2
          },
          "yaxis": {
           "automargin": true,
           "gridcolor": "white",
           "linecolor": "white",
           "ticks": "",
           "title": {
            "standoff": 15
           },
           "zerolinecolor": "white",
           "zerolinewidth": 2
          }
         }
        },
        "title": {
         "text": "Area and stretching in the x direction"
        },
        "updatemenus": [
         {
          "buttons": [
           {
            "args": [
             null,
             {
              "frame": {
               "duration": 50,
               "redraw": false
              },
              "fromcurrent": true,
              "transition": {
               "duration": 10
              }
             }
            ],
            "label": "Play",
            "method": "animate"
           }
          ],
          "type": "buttons"
         }
        ],
        "width": 600,
        "xaxis": {
         "range": [
          -2.3,
          2.3
         ],
         "title": {
          "text": "x"
         }
        },
        "yaxis": {
         "range": [
          -2.3,
          2.3
         ],
         "title": {
          "text": "y"
         }
        }
       }
      }
     },
     "metadata": {},
     "output_type": "display_data"
    }
   ],
   "source": [
    "# Scale in the x and y direction\n",
    "\n",
    "fig3 = create_animation(unit1, unit2, [\n",
    "    np.array([[x, 0], [0, y]]) for x, y in zip(np.linspace(1, 2, 50), np.linspace(1, 2, 50))\n",
    "])\n",
    "fig3.show()"
   ]
  },
  {
   "cell_type": "code",
   "execution_count": 64,
   "id": "5615cd15",
   "metadata": {},
   "outputs": [
    {
     "data": {
      "application/vnd.plotly.v1+json": {
       "config": {
        "plotlyServerURL": "https://plot.ly"
       },
       "data": [
        {
         "line": {
          "color": "blue",
          "width": 1
         },
         "marker": {
          "size": 2
         },
         "mode": "lines+markers",
         "name": "V1",
         "type": "scatter",
         "x": [
          0,
          1
         ],
         "y": [
          0,
          0
         ]
        },
        {
         "line": {
          "color": "red",
          "width": 1
         },
         "marker": {
          "size": 2
         },
         "mode": "lines+markers",
         "name": "V2",
         "type": "scatter",
         "x": [
          0,
          0
         ],
         "y": [
          0,
          1
         ]
        },
        {
         "line": {
          "color": "green",
          "width": 1
         },
         "marker": {
          "size": 2
         },
         "mode": "lines+markers",
         "name": "V1 + V2",
         "type": "scatter",
         "x": [
          0,
          1
         ],
         "y": [
          0,
          1
         ]
        },
        {
         "fill": "toself",
         "fillcolor": "rgba(0, 100, 200, 0.2)",
         "line": {
          "color": "rgba(255,255,255,0)"
         },
         "name": "Area",
         "type": "scatter",
         "x": [
          0,
          1,
          1,
          0,
          0
         ],
         "y": [
          0,
          0,
          1,
          1,
          0
         ]
        }
       ],
       "frames": [
        {
         "data": [
          {
           "line": {
            "color": "blue",
            "width": 1
           },
           "marker": {
            "size": 2
           },
           "mode": "lines+markers",
           "name": "V1",
           "type": "scatter",
           "x": [
            0,
            1
           ],
           "y": [
            0,
            0
           ]
          },
          {
           "line": {
            "color": "red",
            "width": 1
           },
           "marker": {
            "size": 2
           },
           "mode": "lines+markers",
           "name": "V2",
           "type": "scatter",
           "x": [
            0,
            0
           ],
           "y": [
            0,
            1
           ]
          },
          {
           "line": {
            "color": "green",
            "width": 1
           },
           "marker": {
            "size": 2
           },
           "mode": "lines+markers",
           "name": "V1 + V2",
           "type": "scatter",
           "x": [
            0,
            1
           ],
           "y": [
            0,
            1
           ]
          },
          {
           "fill": "toself",
           "fillcolor": "rgba(0, 100, 200, 0.2)",
           "line": {
            "color": "rgba(255,255,255,0)"
           },
           "name": "Area",
           "type": "scatter",
           "x": [
            0,
            1,
            1,
            0,
            0
           ],
           "y": [
            0,
            0,
            1,
            1,
            0
           ]
          }
         ]
        },
        {
         "data": [
          {
           "line": {
            "color": "blue",
            "width": 1
           },
           "marker": {
            "size": 2
           },
           "mode": "lines+markers",
           "name": "V1",
           "type": "scatter",
           "x": [
            0,
            1
           ],
           "y": [
            0,
            0
           ]
          },
          {
           "line": {
            "color": "red",
            "width": 1
           },
           "marker": {
            "size": 2
           },
           "mode": "lines+markers",
           "name": "V2",
           "type": "scatter",
           "x": [
            0,
            0.02040816326530612
           ],
           "y": [
            0,
            1
           ]
          },
          {
           "line": {
            "color": "green",
            "width": 1
           },
           "marker": {
            "size": 2
           },
           "mode": "lines+markers",
           "name": "V1 + V2",
           "type": "scatter",
           "x": [
            0,
            1.0204081632653061
           ],
           "y": [
            0,
            1
           ]
          },
          {
           "fill": "toself",
           "fillcolor": "rgba(0, 100, 200, 0.2)",
           "line": {
            "color": "rgba(255,255,255,0)"
           },
           "name": "Area",
           "type": "scatter",
           "x": [
            0,
            1,
            1.0204081632653061,
            0.02040816326530612,
            0
           ],
           "y": [
            0,
            0,
            1,
            1,
            0
           ]
          }
         ]
        },
        {
         "data": [
          {
           "line": {
            "color": "blue",
            "width": 1
           },
           "marker": {
            "size": 2
           },
           "mode": "lines+markers",
           "name": "V1",
           "type": "scatter",
           "x": [
            0,
            1
           ],
           "y": [
            0,
            0
           ]
          },
          {
           "line": {
            "color": "red",
            "width": 1
           },
           "marker": {
            "size": 2
           },
           "mode": "lines+markers",
           "name": "V2",
           "type": "scatter",
           "x": [
            0,
            0.04081632653061224
           ],
           "y": [
            0,
            1
           ]
          },
          {
           "line": {
            "color": "green",
            "width": 1
           },
           "marker": {
            "size": 2
           },
           "mode": "lines+markers",
           "name": "V1 + V2",
           "type": "scatter",
           "x": [
            0,
            1.0408163265306123
           ],
           "y": [
            0,
            1
           ]
          },
          {
           "fill": "toself",
           "fillcolor": "rgba(0, 100, 200, 0.2)",
           "line": {
            "color": "rgba(255,255,255,0)"
           },
           "name": "Area",
           "type": "scatter",
           "x": [
            0,
            1,
            1.0408163265306123,
            0.04081632653061224,
            0
           ],
           "y": [
            0,
            0,
            1,
            1,
            0
           ]
          }
         ]
        },
        {
         "data": [
          {
           "line": {
            "color": "blue",
            "width": 1
           },
           "marker": {
            "size": 2
           },
           "mode": "lines+markers",
           "name": "V1",
           "type": "scatter",
           "x": [
            0,
            1
           ],
           "y": [
            0,
            0
           ]
          },
          {
           "line": {
            "color": "red",
            "width": 1
           },
           "marker": {
            "size": 2
           },
           "mode": "lines+markers",
           "name": "V2",
           "type": "scatter",
           "x": [
            0,
            0.061224489795918366
           ],
           "y": [
            0,
            1
           ]
          },
          {
           "line": {
            "color": "green",
            "width": 1
           },
           "marker": {
            "size": 2
           },
           "mode": "lines+markers",
           "name": "V1 + V2",
           "type": "scatter",
           "x": [
            0,
            1.0612244897959184
           ],
           "y": [
            0,
            1
           ]
          },
          {
           "fill": "toself",
           "fillcolor": "rgba(0, 100, 200, 0.2)",
           "line": {
            "color": "rgba(255,255,255,0)"
           },
           "name": "Area",
           "type": "scatter",
           "x": [
            0,
            1,
            1.0612244897959184,
            0.061224489795918366,
            0
           ],
           "y": [
            0,
            0,
            1,
            1,
            0
           ]
          }
         ]
        },
        {
         "data": [
          {
           "line": {
            "color": "blue",
            "width": 1
           },
           "marker": {
            "size": 2
           },
           "mode": "lines+markers",
           "name": "V1",
           "type": "scatter",
           "x": [
            0,
            1
           ],
           "y": [
            0,
            0
           ]
          },
          {
           "line": {
            "color": "red",
            "width": 1
           },
           "marker": {
            "size": 2
           },
           "mode": "lines+markers",
           "name": "V2",
           "type": "scatter",
           "x": [
            0,
            0.08163265306122448
           ],
           "y": [
            0,
            1
           ]
          },
          {
           "line": {
            "color": "green",
            "width": 1
           },
           "marker": {
            "size": 2
           },
           "mode": "lines+markers",
           "name": "V1 + V2",
           "type": "scatter",
           "x": [
            0,
            1.0816326530612246
           ],
           "y": [
            0,
            1
           ]
          },
          {
           "fill": "toself",
           "fillcolor": "rgba(0, 100, 200, 0.2)",
           "line": {
            "color": "rgba(255,255,255,0)"
           },
           "name": "Area",
           "type": "scatter",
           "x": [
            0,
            1,
            1.0816326530612246,
            0.08163265306122448,
            0
           ],
           "y": [
            0,
            0,
            1,
            1,
            0
           ]
          }
         ]
        },
        {
         "data": [
          {
           "line": {
            "color": "blue",
            "width": 1
           },
           "marker": {
            "size": 2
           },
           "mode": "lines+markers",
           "name": "V1",
           "type": "scatter",
           "x": [
            0,
            1
           ],
           "y": [
            0,
            0
           ]
          },
          {
           "line": {
            "color": "red",
            "width": 1
           },
           "marker": {
            "size": 2
           },
           "mode": "lines+markers",
           "name": "V2",
           "type": "scatter",
           "x": [
            0,
            0.1020408163265306
           ],
           "y": [
            0,
            1
           ]
          },
          {
           "line": {
            "color": "green",
            "width": 1
           },
           "marker": {
            "size": 2
           },
           "mode": "lines+markers",
           "name": "V1 + V2",
           "type": "scatter",
           "x": [
            0,
            1.1020408163265305
           ],
           "y": [
            0,
            1
           ]
          },
          {
           "fill": "toself",
           "fillcolor": "rgba(0, 100, 200, 0.2)",
           "line": {
            "color": "rgba(255,255,255,0)"
           },
           "name": "Area",
           "type": "scatter",
           "x": [
            0,
            1,
            1.1020408163265305,
            0.1020408163265306,
            0
           ],
           "y": [
            0,
            0,
            1,
            1,
            0
           ]
          }
         ]
        },
        {
         "data": [
          {
           "line": {
            "color": "blue",
            "width": 1
           },
           "marker": {
            "size": 2
           },
           "mode": "lines+markers",
           "name": "V1",
           "type": "scatter",
           "x": [
            0,
            1
           ],
           "y": [
            0,
            0
           ]
          },
          {
           "line": {
            "color": "red",
            "width": 1
           },
           "marker": {
            "size": 2
           },
           "mode": "lines+markers",
           "name": "V2",
           "type": "scatter",
           "x": [
            0,
            0.12244897959183673
           ],
           "y": [
            0,
            1
           ]
          },
          {
           "line": {
            "color": "green",
            "width": 1
           },
           "marker": {
            "size": 2
           },
           "mode": "lines+markers",
           "name": "V1 + V2",
           "type": "scatter",
           "x": [
            0,
            1.1224489795918366
           ],
           "y": [
            0,
            1
           ]
          },
          {
           "fill": "toself",
           "fillcolor": "rgba(0, 100, 200, 0.2)",
           "line": {
            "color": "rgba(255,255,255,0)"
           },
           "name": "Area",
           "type": "scatter",
           "x": [
            0,
            1,
            1.1224489795918366,
            0.12244897959183673,
            0
           ],
           "y": [
            0,
            0,
            1,
            1,
            0
           ]
          }
         ]
        },
        {
         "data": [
          {
           "line": {
            "color": "blue",
            "width": 1
           },
           "marker": {
            "size": 2
           },
           "mode": "lines+markers",
           "name": "V1",
           "type": "scatter",
           "x": [
            0,
            1
           ],
           "y": [
            0,
            0
           ]
          },
          {
           "line": {
            "color": "red",
            "width": 1
           },
           "marker": {
            "size": 2
           },
           "mode": "lines+markers",
           "name": "V2",
           "type": "scatter",
           "x": [
            0,
            0.14285714285714285
           ],
           "y": [
            0,
            1
           ]
          },
          {
           "line": {
            "color": "green",
            "width": 1
           },
           "marker": {
            "size": 2
           },
           "mode": "lines+markers",
           "name": "V1 + V2",
           "type": "scatter",
           "x": [
            0,
            1.1428571428571428
           ],
           "y": [
            0,
            1
           ]
          },
          {
           "fill": "toself",
           "fillcolor": "rgba(0, 100, 200, 0.2)",
           "line": {
            "color": "rgba(255,255,255,0)"
           },
           "name": "Area",
           "type": "scatter",
           "x": [
            0,
            1,
            1.1428571428571428,
            0.14285714285714285,
            0
           ],
           "y": [
            0,
            0,
            1,
            1,
            0
           ]
          }
         ]
        },
        {
         "data": [
          {
           "line": {
            "color": "blue",
            "width": 1
           },
           "marker": {
            "size": 2
           },
           "mode": "lines+markers",
           "name": "V1",
           "type": "scatter",
           "x": [
            0,
            1
           ],
           "y": [
            0,
            0
           ]
          },
          {
           "line": {
            "color": "red",
            "width": 1
           },
           "marker": {
            "size": 2
           },
           "mode": "lines+markers",
           "name": "V2",
           "type": "scatter",
           "x": [
            0,
            0.16326530612244897
           ],
           "y": [
            0,
            1
           ]
          },
          {
           "line": {
            "color": "green",
            "width": 1
           },
           "marker": {
            "size": 2
           },
           "mode": "lines+markers",
           "name": "V1 + V2",
           "type": "scatter",
           "x": [
            0,
            1.163265306122449
           ],
           "y": [
            0,
            1
           ]
          },
          {
           "fill": "toself",
           "fillcolor": "rgba(0, 100, 200, 0.2)",
           "line": {
            "color": "rgba(255,255,255,0)"
           },
           "name": "Area",
           "type": "scatter",
           "x": [
            0,
            1,
            1.163265306122449,
            0.16326530612244897,
            0
           ],
           "y": [
            0,
            0,
            1,
            1,
            0
           ]
          }
         ]
        },
        {
         "data": [
          {
           "line": {
            "color": "blue",
            "width": 1
           },
           "marker": {
            "size": 2
           },
           "mode": "lines+markers",
           "name": "V1",
           "type": "scatter",
           "x": [
            0,
            1
           ],
           "y": [
            0,
            0
           ]
          },
          {
           "line": {
            "color": "red",
            "width": 1
           },
           "marker": {
            "size": 2
           },
           "mode": "lines+markers",
           "name": "V2",
           "type": "scatter",
           "x": [
            0,
            0.18367346938775508
           ],
           "y": [
            0,
            1
           ]
          },
          {
           "line": {
            "color": "green",
            "width": 1
           },
           "marker": {
            "size": 2
           },
           "mode": "lines+markers",
           "name": "V1 + V2",
           "type": "scatter",
           "x": [
            0,
            1.183673469387755
           ],
           "y": [
            0,
            1
           ]
          },
          {
           "fill": "toself",
           "fillcolor": "rgba(0, 100, 200, 0.2)",
           "line": {
            "color": "rgba(255,255,255,0)"
           },
           "name": "Area",
           "type": "scatter",
           "x": [
            0,
            1,
            1.183673469387755,
            0.18367346938775508,
            0
           ],
           "y": [
            0,
            0,
            1,
            1,
            0
           ]
          }
         ]
        },
        {
         "data": [
          {
           "line": {
            "color": "blue",
            "width": 1
           },
           "marker": {
            "size": 2
           },
           "mode": "lines+markers",
           "name": "V1",
           "type": "scatter",
           "x": [
            0,
            1
           ],
           "y": [
            0,
            0
           ]
          },
          {
           "line": {
            "color": "red",
            "width": 1
           },
           "marker": {
            "size": 2
           },
           "mode": "lines+markers",
           "name": "V2",
           "type": "scatter",
           "x": [
            0,
            0.2040816326530612
           ],
           "y": [
            0,
            1
           ]
          },
          {
           "line": {
            "color": "green",
            "width": 1
           },
           "marker": {
            "size": 2
           },
           "mode": "lines+markers",
           "name": "V1 + V2",
           "type": "scatter",
           "x": [
            0,
            1.2040816326530612
           ],
           "y": [
            0,
            1
           ]
          },
          {
           "fill": "toself",
           "fillcolor": "rgba(0, 100, 200, 0.2)",
           "line": {
            "color": "rgba(255,255,255,0)"
           },
           "name": "Area",
           "type": "scatter",
           "x": [
            0,
            1,
            1.2040816326530612,
            0.2040816326530612,
            0
           ],
           "y": [
            0,
            0,
            1,
            1,
            0
           ]
          }
         ]
        },
        {
         "data": [
          {
           "line": {
            "color": "blue",
            "width": 1
           },
           "marker": {
            "size": 2
           },
           "mode": "lines+markers",
           "name": "V1",
           "type": "scatter",
           "x": [
            0,
            1
           ],
           "y": [
            0,
            0
           ]
          },
          {
           "line": {
            "color": "red",
            "width": 1
           },
           "marker": {
            "size": 2
           },
           "mode": "lines+markers",
           "name": "V2",
           "type": "scatter",
           "x": [
            0,
            0.22448979591836732
           ],
           "y": [
            0,
            1
           ]
          },
          {
           "line": {
            "color": "green",
            "width": 1
           },
           "marker": {
            "size": 2
           },
           "mode": "lines+markers",
           "name": "V1 + V2",
           "type": "scatter",
           "x": [
            0,
            1.2244897959183674
           ],
           "y": [
            0,
            1
           ]
          },
          {
           "fill": "toself",
           "fillcolor": "rgba(0, 100, 200, 0.2)",
           "line": {
            "color": "rgba(255,255,255,0)"
           },
           "name": "Area",
           "type": "scatter",
           "x": [
            0,
            1,
            1.2244897959183674,
            0.22448979591836732,
            0
           ],
           "y": [
            0,
            0,
            1,
            1,
            0
           ]
          }
         ]
        },
        {
         "data": [
          {
           "line": {
            "color": "blue",
            "width": 1
           },
           "marker": {
            "size": 2
           },
           "mode": "lines+markers",
           "name": "V1",
           "type": "scatter",
           "x": [
            0,
            1
           ],
           "y": [
            0,
            0
           ]
          },
          {
           "line": {
            "color": "red",
            "width": 1
           },
           "marker": {
            "size": 2
           },
           "mode": "lines+markers",
           "name": "V2",
           "type": "scatter",
           "x": [
            0,
            0.24489795918367346
           ],
           "y": [
            0,
            1
           ]
          },
          {
           "line": {
            "color": "green",
            "width": 1
           },
           "marker": {
            "size": 2
           },
           "mode": "lines+markers",
           "name": "V1 + V2",
           "type": "scatter",
           "x": [
            0,
            1.2448979591836735
           ],
           "y": [
            0,
            1
           ]
          },
          {
           "fill": "toself",
           "fillcolor": "rgba(0, 100, 200, 0.2)",
           "line": {
            "color": "rgba(255,255,255,0)"
           },
           "name": "Area",
           "type": "scatter",
           "x": [
            0,
            1,
            1.2448979591836735,
            0.24489795918367346,
            0
           ],
           "y": [
            0,
            0,
            1,
            1,
            0
           ]
          }
         ]
        },
        {
         "data": [
          {
           "line": {
            "color": "blue",
            "width": 1
           },
           "marker": {
            "size": 2
           },
           "mode": "lines+markers",
           "name": "V1",
           "type": "scatter",
           "x": [
            0,
            1
           ],
           "y": [
            0,
            0
           ]
          },
          {
           "line": {
            "color": "red",
            "width": 1
           },
           "marker": {
            "size": 2
           },
           "mode": "lines+markers",
           "name": "V2",
           "type": "scatter",
           "x": [
            0,
            0.26530612244897955
           ],
           "y": [
            0,
            1
           ]
          },
          {
           "line": {
            "color": "green",
            "width": 1
           },
           "marker": {
            "size": 2
           },
           "mode": "lines+markers",
           "name": "V1 + V2",
           "type": "scatter",
           "x": [
            0,
            1.2653061224489797
           ],
           "y": [
            0,
            1
           ]
          },
          {
           "fill": "toself",
           "fillcolor": "rgba(0, 100, 200, 0.2)",
           "line": {
            "color": "rgba(255,255,255,0)"
           },
           "name": "Area",
           "type": "scatter",
           "x": [
            0,
            1,
            1.2653061224489797,
            0.26530612244897955,
            0
           ],
           "y": [
            0,
            0,
            1,
            1,
            0
           ]
          }
         ]
        },
        {
         "data": [
          {
           "line": {
            "color": "blue",
            "width": 1
           },
           "marker": {
            "size": 2
           },
           "mode": "lines+markers",
           "name": "V1",
           "type": "scatter",
           "x": [
            0,
            1
           ],
           "y": [
            0,
            0
           ]
          },
          {
           "line": {
            "color": "red",
            "width": 1
           },
           "marker": {
            "size": 2
           },
           "mode": "lines+markers",
           "name": "V2",
           "type": "scatter",
           "x": [
            0,
            0.2857142857142857
           ],
           "y": [
            0,
            1
           ]
          },
          {
           "line": {
            "color": "green",
            "width": 1
           },
           "marker": {
            "size": 2
           },
           "mode": "lines+markers",
           "name": "V1 + V2",
           "type": "scatter",
           "x": [
            0,
            1.2857142857142856
           ],
           "y": [
            0,
            1
           ]
          },
          {
           "fill": "toself",
           "fillcolor": "rgba(0, 100, 200, 0.2)",
           "line": {
            "color": "rgba(255,255,255,0)"
           },
           "name": "Area",
           "type": "scatter",
           "x": [
            0,
            1,
            1.2857142857142856,
            0.2857142857142857,
            0
           ],
           "y": [
            0,
            0,
            1,
            1,
            0
           ]
          }
         ]
        },
        {
         "data": [
          {
           "line": {
            "color": "blue",
            "width": 1
           },
           "marker": {
            "size": 2
           },
           "mode": "lines+markers",
           "name": "V1",
           "type": "scatter",
           "x": [
            0,
            1
           ],
           "y": [
            0,
            0
           ]
          },
          {
           "line": {
            "color": "red",
            "width": 1
           },
           "marker": {
            "size": 2
           },
           "mode": "lines+markers",
           "name": "V2",
           "type": "scatter",
           "x": [
            0,
            0.3061224489795918
           ],
           "y": [
            0,
            1
           ]
          },
          {
           "line": {
            "color": "green",
            "width": 1
           },
           "marker": {
            "size": 2
           },
           "mode": "lines+markers",
           "name": "V1 + V2",
           "type": "scatter",
           "x": [
            0,
            1.3061224489795917
           ],
           "y": [
            0,
            1
           ]
          },
          {
           "fill": "toself",
           "fillcolor": "rgba(0, 100, 200, 0.2)",
           "line": {
            "color": "rgba(255,255,255,0)"
           },
           "name": "Area",
           "type": "scatter",
           "x": [
            0,
            1,
            1.3061224489795917,
            0.3061224489795918,
            0
           ],
           "y": [
            0,
            0,
            1,
            1,
            0
           ]
          }
         ]
        },
        {
         "data": [
          {
           "line": {
            "color": "blue",
            "width": 1
           },
           "marker": {
            "size": 2
           },
           "mode": "lines+markers",
           "name": "V1",
           "type": "scatter",
           "x": [
            0,
            1
           ],
           "y": [
            0,
            0
           ]
          },
          {
           "line": {
            "color": "red",
            "width": 1
           },
           "marker": {
            "size": 2
           },
           "mode": "lines+markers",
           "name": "V2",
           "type": "scatter",
           "x": [
            0,
            0.32653061224489793
           ],
           "y": [
            0,
            1
           ]
          },
          {
           "line": {
            "color": "green",
            "width": 1
           },
           "marker": {
            "size": 2
           },
           "mode": "lines+markers",
           "name": "V1 + V2",
           "type": "scatter",
           "x": [
            0,
            1.3265306122448979
           ],
           "y": [
            0,
            1
           ]
          },
          {
           "fill": "toself",
           "fillcolor": "rgba(0, 100, 200, 0.2)",
           "line": {
            "color": "rgba(255,255,255,0)"
           },
           "name": "Area",
           "type": "scatter",
           "x": [
            0,
            1,
            1.3265306122448979,
            0.32653061224489793,
            0
           ],
           "y": [
            0,
            0,
            1,
            1,
            0
           ]
          }
         ]
        },
        {
         "data": [
          {
           "line": {
            "color": "blue",
            "width": 1
           },
           "marker": {
            "size": 2
           },
           "mode": "lines+markers",
           "name": "V1",
           "type": "scatter",
           "x": [
            0,
            1
           ],
           "y": [
            0,
            0
           ]
          },
          {
           "line": {
            "color": "red",
            "width": 1
           },
           "marker": {
            "size": 2
           },
           "mode": "lines+markers",
           "name": "V2",
           "type": "scatter",
           "x": [
            0,
            0.3469387755102041
           ],
           "y": [
            0,
            1
           ]
          },
          {
           "line": {
            "color": "green",
            "width": 1
           },
           "marker": {
            "size": 2
           },
           "mode": "lines+markers",
           "name": "V1 + V2",
           "type": "scatter",
           "x": [
            0,
            1.346938775510204
           ],
           "y": [
            0,
            1
           ]
          },
          {
           "fill": "toself",
           "fillcolor": "rgba(0, 100, 200, 0.2)",
           "line": {
            "color": "rgba(255,255,255,0)"
           },
           "name": "Area",
           "type": "scatter",
           "x": [
            0,
            1,
            1.346938775510204,
            0.3469387755102041,
            0
           ],
           "y": [
            0,
            0,
            1,
            1,
            0
           ]
          }
         ]
        },
        {
         "data": [
          {
           "line": {
            "color": "blue",
            "width": 1
           },
           "marker": {
            "size": 2
           },
           "mode": "lines+markers",
           "name": "V1",
           "type": "scatter",
           "x": [
            0,
            1
           ],
           "y": [
            0,
            0
           ]
          },
          {
           "line": {
            "color": "red",
            "width": 1
           },
           "marker": {
            "size": 2
           },
           "mode": "lines+markers",
           "name": "V2",
           "type": "scatter",
           "x": [
            0,
            0.36734693877551017
           ],
           "y": [
            0,
            1
           ]
          },
          {
           "line": {
            "color": "green",
            "width": 1
           },
           "marker": {
            "size": 2
           },
           "mode": "lines+markers",
           "name": "V1 + V2",
           "type": "scatter",
           "x": [
            0,
            1.3673469387755102
           ],
           "y": [
            0,
            1
           ]
          },
          {
           "fill": "toself",
           "fillcolor": "rgba(0, 100, 200, 0.2)",
           "line": {
            "color": "rgba(255,255,255,0)"
           },
           "name": "Area",
           "type": "scatter",
           "x": [
            0,
            1,
            1.3673469387755102,
            0.36734693877551017,
            0
           ],
           "y": [
            0,
            0,
            1,
            1,
            0
           ]
          }
         ]
        },
        {
         "data": [
          {
           "line": {
            "color": "blue",
            "width": 1
           },
           "marker": {
            "size": 2
           },
           "mode": "lines+markers",
           "name": "V1",
           "type": "scatter",
           "x": [
            0,
            1
           ],
           "y": [
            0,
            0
           ]
          },
          {
           "line": {
            "color": "red",
            "width": 1
           },
           "marker": {
            "size": 2
           },
           "mode": "lines+markers",
           "name": "V2",
           "type": "scatter",
           "x": [
            0,
            0.3877551020408163
           ],
           "y": [
            0,
            1
           ]
          },
          {
           "line": {
            "color": "green",
            "width": 1
           },
           "marker": {
            "size": 2
           },
           "mode": "lines+markers",
           "name": "V1 + V2",
           "type": "scatter",
           "x": [
            0,
            1.3877551020408163
           ],
           "y": [
            0,
            1
           ]
          },
          {
           "fill": "toself",
           "fillcolor": "rgba(0, 100, 200, 0.2)",
           "line": {
            "color": "rgba(255,255,255,0)"
           },
           "name": "Area",
           "type": "scatter",
           "x": [
            0,
            1,
            1.3877551020408163,
            0.3877551020408163,
            0
           ],
           "y": [
            0,
            0,
            1,
            1,
            0
           ]
          }
         ]
        },
        {
         "data": [
          {
           "line": {
            "color": "blue",
            "width": 1
           },
           "marker": {
            "size": 2
           },
           "mode": "lines+markers",
           "name": "V1",
           "type": "scatter",
           "x": [
            0,
            1
           ],
           "y": [
            0,
            0
           ]
          },
          {
           "line": {
            "color": "red",
            "width": 1
           },
           "marker": {
            "size": 2
           },
           "mode": "lines+markers",
           "name": "V2",
           "type": "scatter",
           "x": [
            0,
            0.4081632653061224
           ],
           "y": [
            0,
            1
           ]
          },
          {
           "line": {
            "color": "green",
            "width": 1
           },
           "marker": {
            "size": 2
           },
           "mode": "lines+markers",
           "name": "V1 + V2",
           "type": "scatter",
           "x": [
            0,
            1.4081632653061225
           ],
           "y": [
            0,
            1
           ]
          },
          {
           "fill": "toself",
           "fillcolor": "rgba(0, 100, 200, 0.2)",
           "line": {
            "color": "rgba(255,255,255,0)"
           },
           "name": "Area",
           "type": "scatter",
           "x": [
            0,
            1,
            1.4081632653061225,
            0.4081632653061224,
            0
           ],
           "y": [
            0,
            0,
            1,
            1,
            0
           ]
          }
         ]
        },
        {
         "data": [
          {
           "line": {
            "color": "blue",
            "width": 1
           },
           "marker": {
            "size": 2
           },
           "mode": "lines+markers",
           "name": "V1",
           "type": "scatter",
           "x": [
            0,
            1
           ],
           "y": [
            0,
            0
           ]
          },
          {
           "line": {
            "color": "red",
            "width": 1
           },
           "marker": {
            "size": 2
           },
           "mode": "lines+markers",
           "name": "V2",
           "type": "scatter",
           "x": [
            0,
            0.42857142857142855
           ],
           "y": [
            0,
            1
           ]
          },
          {
           "line": {
            "color": "green",
            "width": 1
           },
           "marker": {
            "size": 2
           },
           "mode": "lines+markers",
           "name": "V1 + V2",
           "type": "scatter",
           "x": [
            0,
            1.4285714285714286
           ],
           "y": [
            0,
            1
           ]
          },
          {
           "fill": "toself",
           "fillcolor": "rgba(0, 100, 200, 0.2)",
           "line": {
            "color": "rgba(255,255,255,0)"
           },
           "name": "Area",
           "type": "scatter",
           "x": [
            0,
            1,
            1.4285714285714286,
            0.42857142857142855,
            0
           ],
           "y": [
            0,
            0,
            1,
            1,
            0
           ]
          }
         ]
        },
        {
         "data": [
          {
           "line": {
            "color": "blue",
            "width": 1
           },
           "marker": {
            "size": 2
           },
           "mode": "lines+markers",
           "name": "V1",
           "type": "scatter",
           "x": [
            0,
            1
           ],
           "y": [
            0,
            0
           ]
          },
          {
           "line": {
            "color": "red",
            "width": 1
           },
           "marker": {
            "size": 2
           },
           "mode": "lines+markers",
           "name": "V2",
           "type": "scatter",
           "x": [
            0,
            0.44897959183673464
           ],
           "y": [
            0,
            1
           ]
          },
          {
           "line": {
            "color": "green",
            "width": 1
           },
           "marker": {
            "size": 2
           },
           "mode": "lines+markers",
           "name": "V1 + V2",
           "type": "scatter",
           "x": [
            0,
            1.4489795918367347
           ],
           "y": [
            0,
            1
           ]
          },
          {
           "fill": "toself",
           "fillcolor": "rgba(0, 100, 200, 0.2)",
           "line": {
            "color": "rgba(255,255,255,0)"
           },
           "name": "Area",
           "type": "scatter",
           "x": [
            0,
            1,
            1.4489795918367347,
            0.44897959183673464,
            0
           ],
           "y": [
            0,
            0,
            1,
            1,
            0
           ]
          }
         ]
        },
        {
         "data": [
          {
           "line": {
            "color": "blue",
            "width": 1
           },
           "marker": {
            "size": 2
           },
           "mode": "lines+markers",
           "name": "V1",
           "type": "scatter",
           "x": [
            0,
            1
           ],
           "y": [
            0,
            0
           ]
          },
          {
           "line": {
            "color": "red",
            "width": 1
           },
           "marker": {
            "size": 2
           },
           "mode": "lines+markers",
           "name": "V2",
           "type": "scatter",
           "x": [
            0,
            0.4693877551020408
           ],
           "y": [
            0,
            1
           ]
          },
          {
           "line": {
            "color": "green",
            "width": 1
           },
           "marker": {
            "size": 2
           },
           "mode": "lines+markers",
           "name": "V1 + V2",
           "type": "scatter",
           "x": [
            0,
            1.4693877551020407
           ],
           "y": [
            0,
            1
           ]
          },
          {
           "fill": "toself",
           "fillcolor": "rgba(0, 100, 200, 0.2)",
           "line": {
            "color": "rgba(255,255,255,0)"
           },
           "name": "Area",
           "type": "scatter",
           "x": [
            0,
            1,
            1.4693877551020407,
            0.4693877551020408,
            0
           ],
           "y": [
            0,
            0,
            1,
            1,
            0
           ]
          }
         ]
        },
        {
         "data": [
          {
           "line": {
            "color": "blue",
            "width": 1
           },
           "marker": {
            "size": 2
           },
           "mode": "lines+markers",
           "name": "V1",
           "type": "scatter",
           "x": [
            0,
            1
           ],
           "y": [
            0,
            0
           ]
          },
          {
           "line": {
            "color": "red",
            "width": 1
           },
           "marker": {
            "size": 2
           },
           "mode": "lines+markers",
           "name": "V2",
           "type": "scatter",
           "x": [
            0,
            0.4897959183673469
           ],
           "y": [
            0,
            1
           ]
          },
          {
           "line": {
            "color": "green",
            "width": 1
           },
           "marker": {
            "size": 2
           },
           "mode": "lines+markers",
           "name": "V1 + V2",
           "type": "scatter",
           "x": [
            0,
            1.489795918367347
           ],
           "y": [
            0,
            1
           ]
          },
          {
           "fill": "toself",
           "fillcolor": "rgba(0, 100, 200, 0.2)",
           "line": {
            "color": "rgba(255,255,255,0)"
           },
           "name": "Area",
           "type": "scatter",
           "x": [
            0,
            1,
            1.489795918367347,
            0.4897959183673469,
            0
           ],
           "y": [
            0,
            0,
            1,
            1,
            0
           ]
          }
         ]
        },
        {
         "data": [
          {
           "line": {
            "color": "blue",
            "width": 1
           },
           "marker": {
            "size": 2
           },
           "mode": "lines+markers",
           "name": "V1",
           "type": "scatter",
           "x": [
            0,
            1
           ],
           "y": [
            0,
            0
           ]
          },
          {
           "line": {
            "color": "red",
            "width": 1
           },
           "marker": {
            "size": 2
           },
           "mode": "lines+markers",
           "name": "V2",
           "type": "scatter",
           "x": [
            0,
            0.5102040816326531
           ],
           "y": [
            0,
            1
           ]
          },
          {
           "line": {
            "color": "green",
            "width": 1
           },
           "marker": {
            "size": 2
           },
           "mode": "lines+markers",
           "name": "V1 + V2",
           "type": "scatter",
           "x": [
            0,
            1.510204081632653
           ],
           "y": [
            0,
            1
           ]
          },
          {
           "fill": "toself",
           "fillcolor": "rgba(0, 100, 200, 0.2)",
           "line": {
            "color": "rgba(255,255,255,0)"
           },
           "name": "Area",
           "type": "scatter",
           "x": [
            0,
            1,
            1.510204081632653,
            0.5102040816326531,
            0
           ],
           "y": [
            0,
            0,
            1,
            1,
            0
           ]
          }
         ]
        },
        {
         "data": [
          {
           "line": {
            "color": "blue",
            "width": 1
           },
           "marker": {
            "size": 2
           },
           "mode": "lines+markers",
           "name": "V1",
           "type": "scatter",
           "x": [
            0,
            1
           ],
           "y": [
            0,
            0
           ]
          },
          {
           "line": {
            "color": "red",
            "width": 1
           },
           "marker": {
            "size": 2
           },
           "mode": "lines+markers",
           "name": "V2",
           "type": "scatter",
           "x": [
            0,
            0.5306122448979591
           ],
           "y": [
            0,
            1
           ]
          },
          {
           "line": {
            "color": "green",
            "width": 1
           },
           "marker": {
            "size": 2
           },
           "mode": "lines+markers",
           "name": "V1 + V2",
           "type": "scatter",
           "x": [
            0,
            1.530612244897959
           ],
           "y": [
            0,
            1
           ]
          },
          {
           "fill": "toself",
           "fillcolor": "rgba(0, 100, 200, 0.2)",
           "line": {
            "color": "rgba(255,255,255,0)"
           },
           "name": "Area",
           "type": "scatter",
           "x": [
            0,
            1,
            1.530612244897959,
            0.5306122448979591,
            0
           ],
           "y": [
            0,
            0,
            1,
            1,
            0
           ]
          }
         ]
        },
        {
         "data": [
          {
           "line": {
            "color": "blue",
            "width": 1
           },
           "marker": {
            "size": 2
           },
           "mode": "lines+markers",
           "name": "V1",
           "type": "scatter",
           "x": [
            0,
            1
           ],
           "y": [
            0,
            0
           ]
          },
          {
           "line": {
            "color": "red",
            "width": 1
           },
           "marker": {
            "size": 2
           },
           "mode": "lines+markers",
           "name": "V2",
           "type": "scatter",
           "x": [
            0,
            0.5510204081632653
           ],
           "y": [
            0,
            1
           ]
          },
          {
           "line": {
            "color": "green",
            "width": 1
           },
           "marker": {
            "size": 2
           },
           "mode": "lines+markers",
           "name": "V1 + V2",
           "type": "scatter",
           "x": [
            0,
            1.5510204081632653
           ],
           "y": [
            0,
            1
           ]
          },
          {
           "fill": "toself",
           "fillcolor": "rgba(0, 100, 200, 0.2)",
           "line": {
            "color": "rgba(255,255,255,0)"
           },
           "name": "Area",
           "type": "scatter",
           "x": [
            0,
            1,
            1.5510204081632653,
            0.5510204081632653,
            0
           ],
           "y": [
            0,
            0,
            1,
            1,
            0
           ]
          }
         ]
        },
        {
         "data": [
          {
           "line": {
            "color": "blue",
            "width": 1
           },
           "marker": {
            "size": 2
           },
           "mode": "lines+markers",
           "name": "V1",
           "type": "scatter",
           "x": [
            0,
            1
           ],
           "y": [
            0,
            0
           ]
          },
          {
           "line": {
            "color": "red",
            "width": 1
           },
           "marker": {
            "size": 2
           },
           "mode": "lines+markers",
           "name": "V2",
           "type": "scatter",
           "x": [
            0,
            0.5714285714285714
           ],
           "y": [
            0,
            1
           ]
          },
          {
           "line": {
            "color": "green",
            "width": 1
           },
           "marker": {
            "size": 2
           },
           "mode": "lines+markers",
           "name": "V1 + V2",
           "type": "scatter",
           "x": [
            0,
            1.5714285714285714
           ],
           "y": [
            0,
            1
           ]
          },
          {
           "fill": "toself",
           "fillcolor": "rgba(0, 100, 200, 0.2)",
           "line": {
            "color": "rgba(255,255,255,0)"
           },
           "name": "Area",
           "type": "scatter",
           "x": [
            0,
            1,
            1.5714285714285714,
            0.5714285714285714,
            0
           ],
           "y": [
            0,
            0,
            1,
            1,
            0
           ]
          }
         ]
        },
        {
         "data": [
          {
           "line": {
            "color": "blue",
            "width": 1
           },
           "marker": {
            "size": 2
           },
           "mode": "lines+markers",
           "name": "V1",
           "type": "scatter",
           "x": [
            0,
            1
           ],
           "y": [
            0,
            0
           ]
          },
          {
           "line": {
            "color": "red",
            "width": 1
           },
           "marker": {
            "size": 2
           },
           "mode": "lines+markers",
           "name": "V2",
           "type": "scatter",
           "x": [
            0,
            0.5918367346938775
           ],
           "y": [
            0,
            1
           ]
          },
          {
           "line": {
            "color": "green",
            "width": 1
           },
           "marker": {
            "size": 2
           },
           "mode": "lines+markers",
           "name": "V1 + V2",
           "type": "scatter",
           "x": [
            0,
            1.5918367346938775
           ],
           "y": [
            0,
            1
           ]
          },
          {
           "fill": "toself",
           "fillcolor": "rgba(0, 100, 200, 0.2)",
           "line": {
            "color": "rgba(255,255,255,0)"
           },
           "name": "Area",
           "type": "scatter",
           "x": [
            0,
            1,
            1.5918367346938775,
            0.5918367346938775,
            0
           ],
           "y": [
            0,
            0,
            1,
            1,
            0
           ]
          }
         ]
        },
        {
         "data": [
          {
           "line": {
            "color": "blue",
            "width": 1
           },
           "marker": {
            "size": 2
           },
           "mode": "lines+markers",
           "name": "V1",
           "type": "scatter",
           "x": [
            0,
            1
           ],
           "y": [
            0,
            0
           ]
          },
          {
           "line": {
            "color": "red",
            "width": 1
           },
           "marker": {
            "size": 2
           },
           "mode": "lines+markers",
           "name": "V2",
           "type": "scatter",
           "x": [
            0,
            0.6122448979591836
           ],
           "y": [
            0,
            1
           ]
          },
          {
           "line": {
            "color": "green",
            "width": 1
           },
           "marker": {
            "size": 2
           },
           "mode": "lines+markers",
           "name": "V1 + V2",
           "type": "scatter",
           "x": [
            0,
            1.6122448979591835
           ],
           "y": [
            0,
            1
           ]
          },
          {
           "fill": "toself",
           "fillcolor": "rgba(0, 100, 200, 0.2)",
           "line": {
            "color": "rgba(255,255,255,0)"
           },
           "name": "Area",
           "type": "scatter",
           "x": [
            0,
            1,
            1.6122448979591835,
            0.6122448979591836,
            0
           ],
           "y": [
            0,
            0,
            1,
            1,
            0
           ]
          }
         ]
        },
        {
         "data": [
          {
           "line": {
            "color": "blue",
            "width": 1
           },
           "marker": {
            "size": 2
           },
           "mode": "lines+markers",
           "name": "V1",
           "type": "scatter",
           "x": [
            0,
            1
           ],
           "y": [
            0,
            0
           ]
          },
          {
           "line": {
            "color": "red",
            "width": 1
           },
           "marker": {
            "size": 2
           },
           "mode": "lines+markers",
           "name": "V2",
           "type": "scatter",
           "x": [
            0,
            0.6326530612244897
           ],
           "y": [
            0,
            1
           ]
          },
          {
           "line": {
            "color": "green",
            "width": 1
           },
           "marker": {
            "size": 2
           },
           "mode": "lines+markers",
           "name": "V1 + V2",
           "type": "scatter",
           "x": [
            0,
            1.6326530612244898
           ],
           "y": [
            0,
            1
           ]
          },
          {
           "fill": "toself",
           "fillcolor": "rgba(0, 100, 200, 0.2)",
           "line": {
            "color": "rgba(255,255,255,0)"
           },
           "name": "Area",
           "type": "scatter",
           "x": [
            0,
            1,
            1.6326530612244898,
            0.6326530612244897,
            0
           ],
           "y": [
            0,
            0,
            1,
            1,
            0
           ]
          }
         ]
        },
        {
         "data": [
          {
           "line": {
            "color": "blue",
            "width": 1
           },
           "marker": {
            "size": 2
           },
           "mode": "lines+markers",
           "name": "V1",
           "type": "scatter",
           "x": [
            0,
            1
           ],
           "y": [
            0,
            0
           ]
          },
          {
           "line": {
            "color": "red",
            "width": 1
           },
           "marker": {
            "size": 2
           },
           "mode": "lines+markers",
           "name": "V2",
           "type": "scatter",
           "x": [
            0,
            0.6530612244897959
           ],
           "y": [
            0,
            1
           ]
          },
          {
           "line": {
            "color": "green",
            "width": 1
           },
           "marker": {
            "size": 2
           },
           "mode": "lines+markers",
           "name": "V1 + V2",
           "type": "scatter",
           "x": [
            0,
            1.6530612244897958
           ],
           "y": [
            0,
            1
           ]
          },
          {
           "fill": "toself",
           "fillcolor": "rgba(0, 100, 200, 0.2)",
           "line": {
            "color": "rgba(255,255,255,0)"
           },
           "name": "Area",
           "type": "scatter",
           "x": [
            0,
            1,
            1.6530612244897958,
            0.6530612244897959,
            0
           ],
           "y": [
            0,
            0,
            1,
            1,
            0
           ]
          }
         ]
        },
        {
         "data": [
          {
           "line": {
            "color": "blue",
            "width": 1
           },
           "marker": {
            "size": 2
           },
           "mode": "lines+markers",
           "name": "V1",
           "type": "scatter",
           "x": [
            0,
            1
           ],
           "y": [
            0,
            0
           ]
          },
          {
           "line": {
            "color": "red",
            "width": 1
           },
           "marker": {
            "size": 2
           },
           "mode": "lines+markers",
           "name": "V2",
           "type": "scatter",
           "x": [
            0,
            0.673469387755102
           ],
           "y": [
            0,
            1
           ]
          },
          {
           "line": {
            "color": "green",
            "width": 1
           },
           "marker": {
            "size": 2
           },
           "mode": "lines+markers",
           "name": "V1 + V2",
           "type": "scatter",
           "x": [
            0,
            1.6734693877551021
           ],
           "y": [
            0,
            1
           ]
          },
          {
           "fill": "toself",
           "fillcolor": "rgba(0, 100, 200, 0.2)",
           "line": {
            "color": "rgba(255,255,255,0)"
           },
           "name": "Area",
           "type": "scatter",
           "x": [
            0,
            1,
            1.6734693877551021,
            0.673469387755102,
            0
           ],
           "y": [
            0,
            0,
            1,
            1,
            0
           ]
          }
         ]
        },
        {
         "data": [
          {
           "line": {
            "color": "blue",
            "width": 1
           },
           "marker": {
            "size": 2
           },
           "mode": "lines+markers",
           "name": "V1",
           "type": "scatter",
           "x": [
            0,
            1
           ],
           "y": [
            0,
            0
           ]
          },
          {
           "line": {
            "color": "red",
            "width": 1
           },
           "marker": {
            "size": 2
           },
           "mode": "lines+markers",
           "name": "V2",
           "type": "scatter",
           "x": [
            0,
            0.6938775510204082
           ],
           "y": [
            0,
            1
           ]
          },
          {
           "line": {
            "color": "green",
            "width": 1
           },
           "marker": {
            "size": 2
           },
           "mode": "lines+markers",
           "name": "V1 + V2",
           "type": "scatter",
           "x": [
            0,
            1.693877551020408
           ],
           "y": [
            0,
            1
           ]
          },
          {
           "fill": "toself",
           "fillcolor": "rgba(0, 100, 200, 0.2)",
           "line": {
            "color": "rgba(255,255,255,0)"
           },
           "name": "Area",
           "type": "scatter",
           "x": [
            0,
            1,
            1.693877551020408,
            0.6938775510204082,
            0
           ],
           "y": [
            0,
            0,
            1,
            1,
            0
           ]
          }
         ]
        },
        {
         "data": [
          {
           "line": {
            "color": "blue",
            "width": 1
           },
           "marker": {
            "size": 2
           },
           "mode": "lines+markers",
           "name": "V1",
           "type": "scatter",
           "x": [
            0,
            1
           ],
           "y": [
            0,
            0
           ]
          },
          {
           "line": {
            "color": "red",
            "width": 1
           },
           "marker": {
            "size": 2
           },
           "mode": "lines+markers",
           "name": "V2",
           "type": "scatter",
           "x": [
            0,
            0.7142857142857142
           ],
           "y": [
            0,
            1
           ]
          },
          {
           "line": {
            "color": "green",
            "width": 1
           },
           "marker": {
            "size": 2
           },
           "mode": "lines+markers",
           "name": "V1 + V2",
           "type": "scatter",
           "x": [
            0,
            1.7142857142857142
           ],
           "y": [
            0,
            1
           ]
          },
          {
           "fill": "toself",
           "fillcolor": "rgba(0, 100, 200, 0.2)",
           "line": {
            "color": "rgba(255,255,255,0)"
           },
           "name": "Area",
           "type": "scatter",
           "x": [
            0,
            1,
            1.7142857142857142,
            0.7142857142857142,
            0
           ],
           "y": [
            0,
            0,
            1,
            1,
            0
           ]
          }
         ]
        },
        {
         "data": [
          {
           "line": {
            "color": "blue",
            "width": 1
           },
           "marker": {
            "size": 2
           },
           "mode": "lines+markers",
           "name": "V1",
           "type": "scatter",
           "x": [
            0,
            1
           ],
           "y": [
            0,
            0
           ]
          },
          {
           "line": {
            "color": "red",
            "width": 1
           },
           "marker": {
            "size": 2
           },
           "mode": "lines+markers",
           "name": "V2",
           "type": "scatter",
           "x": [
            0,
            0.7346938775510203
           ],
           "y": [
            0,
            1
           ]
          },
          {
           "line": {
            "color": "green",
            "width": 1
           },
           "marker": {
            "size": 2
           },
           "mode": "lines+markers",
           "name": "V1 + V2",
           "type": "scatter",
           "x": [
            0,
            1.7346938775510203
           ],
           "y": [
            0,
            1
           ]
          },
          {
           "fill": "toself",
           "fillcolor": "rgba(0, 100, 200, 0.2)",
           "line": {
            "color": "rgba(255,255,255,0)"
           },
           "name": "Area",
           "type": "scatter",
           "x": [
            0,
            1,
            1.7346938775510203,
            0.7346938775510203,
            0
           ],
           "y": [
            0,
            0,
            1,
            1,
            0
           ]
          }
         ]
        },
        {
         "data": [
          {
           "line": {
            "color": "blue",
            "width": 1
           },
           "marker": {
            "size": 2
           },
           "mode": "lines+markers",
           "name": "V1",
           "type": "scatter",
           "x": [
            0,
            1
           ],
           "y": [
            0,
            0
           ]
          },
          {
           "line": {
            "color": "red",
            "width": 1
           },
           "marker": {
            "size": 2
           },
           "mode": "lines+markers",
           "name": "V2",
           "type": "scatter",
           "x": [
            0,
            0.7551020408163265
           ],
           "y": [
            0,
            1
           ]
          },
          {
           "line": {
            "color": "green",
            "width": 1
           },
           "marker": {
            "size": 2
           },
           "mode": "lines+markers",
           "name": "V1 + V2",
           "type": "scatter",
           "x": [
            0,
            1.7551020408163265
           ],
           "y": [
            0,
            1
           ]
          },
          {
           "fill": "toself",
           "fillcolor": "rgba(0, 100, 200, 0.2)",
           "line": {
            "color": "rgba(255,255,255,0)"
           },
           "name": "Area",
           "type": "scatter",
           "x": [
            0,
            1,
            1.7551020408163265,
            0.7551020408163265,
            0
           ],
           "y": [
            0,
            0,
            1,
            1,
            0
           ]
          }
         ]
        },
        {
         "data": [
          {
           "line": {
            "color": "blue",
            "width": 1
           },
           "marker": {
            "size": 2
           },
           "mode": "lines+markers",
           "name": "V1",
           "type": "scatter",
           "x": [
            0,
            1
           ],
           "y": [
            0,
            0
           ]
          },
          {
           "line": {
            "color": "red",
            "width": 1
           },
           "marker": {
            "size": 2
           },
           "mode": "lines+markers",
           "name": "V2",
           "type": "scatter",
           "x": [
            0,
            0.7755102040816326
           ],
           "y": [
            0,
            1
           ]
          },
          {
           "line": {
            "color": "green",
            "width": 1
           },
           "marker": {
            "size": 2
           },
           "mode": "lines+markers",
           "name": "V1 + V2",
           "type": "scatter",
           "x": [
            0,
            1.7755102040816326
           ],
           "y": [
            0,
            1
           ]
          },
          {
           "fill": "toself",
           "fillcolor": "rgba(0, 100, 200, 0.2)",
           "line": {
            "color": "rgba(255,255,255,0)"
           },
           "name": "Area",
           "type": "scatter",
           "x": [
            0,
            1,
            1.7755102040816326,
            0.7755102040816326,
            0
           ],
           "y": [
            0,
            0,
            1,
            1,
            0
           ]
          }
         ]
        },
        {
         "data": [
          {
           "line": {
            "color": "blue",
            "width": 1
           },
           "marker": {
            "size": 2
           },
           "mode": "lines+markers",
           "name": "V1",
           "type": "scatter",
           "x": [
            0,
            1
           ],
           "y": [
            0,
            0
           ]
          },
          {
           "line": {
            "color": "red",
            "width": 1
           },
           "marker": {
            "size": 2
           },
           "mode": "lines+markers",
           "name": "V2",
           "type": "scatter",
           "x": [
            0,
            0.7959183673469387
           ],
           "y": [
            0,
            1
           ]
          },
          {
           "line": {
            "color": "green",
            "width": 1
           },
           "marker": {
            "size": 2
           },
           "mode": "lines+markers",
           "name": "V1 + V2",
           "type": "scatter",
           "x": [
            0,
            1.7959183673469385
           ],
           "y": [
            0,
            1
           ]
          },
          {
           "fill": "toself",
           "fillcolor": "rgba(0, 100, 200, 0.2)",
           "line": {
            "color": "rgba(255,255,255,0)"
           },
           "name": "Area",
           "type": "scatter",
           "x": [
            0,
            1,
            1.7959183673469385,
            0.7959183673469387,
            0
           ],
           "y": [
            0,
            0,
            1,
            1,
            0
           ]
          }
         ]
        },
        {
         "data": [
          {
           "line": {
            "color": "blue",
            "width": 1
           },
           "marker": {
            "size": 2
           },
           "mode": "lines+markers",
           "name": "V1",
           "type": "scatter",
           "x": [
            0,
            1
           ],
           "y": [
            0,
            0
           ]
          },
          {
           "line": {
            "color": "red",
            "width": 1
           },
           "marker": {
            "size": 2
           },
           "mode": "lines+markers",
           "name": "V2",
           "type": "scatter",
           "x": [
            0,
            0.8163265306122448
           ],
           "y": [
            0,
            1
           ]
          },
          {
           "line": {
            "color": "green",
            "width": 1
           },
           "marker": {
            "size": 2
           },
           "mode": "lines+markers",
           "name": "V1 + V2",
           "type": "scatter",
           "x": [
            0,
            1.816326530612245
           ],
           "y": [
            0,
            1
           ]
          },
          {
           "fill": "toself",
           "fillcolor": "rgba(0, 100, 200, 0.2)",
           "line": {
            "color": "rgba(255,255,255,0)"
           },
           "name": "Area",
           "type": "scatter",
           "x": [
            0,
            1,
            1.816326530612245,
            0.8163265306122448,
            0
           ],
           "y": [
            0,
            0,
            1,
            1,
            0
           ]
          }
         ]
        },
        {
         "data": [
          {
           "line": {
            "color": "blue",
            "width": 1
           },
           "marker": {
            "size": 2
           },
           "mode": "lines+markers",
           "name": "V1",
           "type": "scatter",
           "x": [
            0,
            1
           ],
           "y": [
            0,
            0
           ]
          },
          {
           "line": {
            "color": "red",
            "width": 1
           },
           "marker": {
            "size": 2
           },
           "mode": "lines+markers",
           "name": "V2",
           "type": "scatter",
           "x": [
            0,
            0.836734693877551
           ],
           "y": [
            0,
            1
           ]
          },
          {
           "line": {
            "color": "green",
            "width": 1
           },
           "marker": {
            "size": 2
           },
           "mode": "lines+markers",
           "name": "V1 + V2",
           "type": "scatter",
           "x": [
            0,
            1.8367346938775508
           ],
           "y": [
            0,
            1
           ]
          },
          {
           "fill": "toself",
           "fillcolor": "rgba(0, 100, 200, 0.2)",
           "line": {
            "color": "rgba(255,255,255,0)"
           },
           "name": "Area",
           "type": "scatter",
           "x": [
            0,
            1,
            1.8367346938775508,
            0.836734693877551,
            0
           ],
           "y": [
            0,
            0,
            1,
            1,
            0
           ]
          }
         ]
        },
        {
         "data": [
          {
           "line": {
            "color": "blue",
            "width": 1
           },
           "marker": {
            "size": 2
           },
           "mode": "lines+markers",
           "name": "V1",
           "type": "scatter",
           "x": [
            0,
            1
           ],
           "y": [
            0,
            0
           ]
          },
          {
           "line": {
            "color": "red",
            "width": 1
           },
           "marker": {
            "size": 2
           },
           "mode": "lines+markers",
           "name": "V2",
           "type": "scatter",
           "x": [
            0,
            0.8571428571428571
           ],
           "y": [
            0,
            1
           ]
          },
          {
           "line": {
            "color": "green",
            "width": 1
           },
           "marker": {
            "size": 2
           },
           "mode": "lines+markers",
           "name": "V1 + V2",
           "type": "scatter",
           "x": [
            0,
            1.8571428571428572
           ],
           "y": [
            0,
            1
           ]
          },
          {
           "fill": "toself",
           "fillcolor": "rgba(0, 100, 200, 0.2)",
           "line": {
            "color": "rgba(255,255,255,0)"
           },
           "name": "Area",
           "type": "scatter",
           "x": [
            0,
            1,
            1.8571428571428572,
            0.8571428571428571,
            0
           ],
           "y": [
            0,
            0,
            1,
            1,
            0
           ]
          }
         ]
        },
        {
         "data": [
          {
           "line": {
            "color": "blue",
            "width": 1
           },
           "marker": {
            "size": 2
           },
           "mode": "lines+markers",
           "name": "V1",
           "type": "scatter",
           "x": [
            0,
            1
           ],
           "y": [
            0,
            0
           ]
          },
          {
           "line": {
            "color": "red",
            "width": 1
           },
           "marker": {
            "size": 2
           },
           "mode": "lines+markers",
           "name": "V2",
           "type": "scatter",
           "x": [
            0,
            0.8775510204081632
           ],
           "y": [
            0,
            1
           ]
          },
          {
           "line": {
            "color": "green",
            "width": 1
           },
           "marker": {
            "size": 2
           },
           "mode": "lines+markers",
           "name": "V1 + V2",
           "type": "scatter",
           "x": [
            0,
            1.8775510204081631
           ],
           "y": [
            0,
            1
           ]
          },
          {
           "fill": "toself",
           "fillcolor": "rgba(0, 100, 200, 0.2)",
           "line": {
            "color": "rgba(255,255,255,0)"
           },
           "name": "Area",
           "type": "scatter",
           "x": [
            0,
            1,
            1.8775510204081631,
            0.8775510204081632,
            0
           ],
           "y": [
            0,
            0,
            1,
            1,
            0
           ]
          }
         ]
        },
        {
         "data": [
          {
           "line": {
            "color": "blue",
            "width": 1
           },
           "marker": {
            "size": 2
           },
           "mode": "lines+markers",
           "name": "V1",
           "type": "scatter",
           "x": [
            0,
            1
           ],
           "y": [
            0,
            0
           ]
          },
          {
           "line": {
            "color": "red",
            "width": 1
           },
           "marker": {
            "size": 2
           },
           "mode": "lines+markers",
           "name": "V2",
           "type": "scatter",
           "x": [
            0,
            0.8979591836734693
           ],
           "y": [
            0,
            1
           ]
          },
          {
           "line": {
            "color": "green",
            "width": 1
           },
           "marker": {
            "size": 2
           },
           "mode": "lines+markers",
           "name": "V1 + V2",
           "type": "scatter",
           "x": [
            0,
            1.8979591836734693
           ],
           "y": [
            0,
            1
           ]
          },
          {
           "fill": "toself",
           "fillcolor": "rgba(0, 100, 200, 0.2)",
           "line": {
            "color": "rgba(255,255,255,0)"
           },
           "name": "Area",
           "type": "scatter",
           "x": [
            0,
            1,
            1.8979591836734693,
            0.8979591836734693,
            0
           ],
           "y": [
            0,
            0,
            1,
            1,
            0
           ]
          }
         ]
        },
        {
         "data": [
          {
           "line": {
            "color": "blue",
            "width": 1
           },
           "marker": {
            "size": 2
           },
           "mode": "lines+markers",
           "name": "V1",
           "type": "scatter",
           "x": [
            0,
            1
           ],
           "y": [
            0,
            0
           ]
          },
          {
           "line": {
            "color": "red",
            "width": 1
           },
           "marker": {
            "size": 2
           },
           "mode": "lines+markers",
           "name": "V2",
           "type": "scatter",
           "x": [
            0,
            0.9183673469387754
           ],
           "y": [
            0,
            1
           ]
          },
          {
           "line": {
            "color": "green",
            "width": 1
           },
           "marker": {
            "size": 2
           },
           "mode": "lines+markers",
           "name": "V1 + V2",
           "type": "scatter",
           "x": [
            0,
            1.9183673469387754
           ],
           "y": [
            0,
            1
           ]
          },
          {
           "fill": "toself",
           "fillcolor": "rgba(0, 100, 200, 0.2)",
           "line": {
            "color": "rgba(255,255,255,0)"
           },
           "name": "Area",
           "type": "scatter",
           "x": [
            0,
            1,
            1.9183673469387754,
            0.9183673469387754,
            0
           ],
           "y": [
            0,
            0,
            1,
            1,
            0
           ]
          }
         ]
        },
        {
         "data": [
          {
           "line": {
            "color": "blue",
            "width": 1
           },
           "marker": {
            "size": 2
           },
           "mode": "lines+markers",
           "name": "V1",
           "type": "scatter",
           "x": [
            0,
            1
           ],
           "y": [
            0,
            0
           ]
          },
          {
           "line": {
            "color": "red",
            "width": 1
           },
           "marker": {
            "size": 2
           },
           "mode": "lines+markers",
           "name": "V2",
           "type": "scatter",
           "x": [
            0,
            0.9387755102040816
           ],
           "y": [
            0,
            1
           ]
          },
          {
           "line": {
            "color": "green",
            "width": 1
           },
           "marker": {
            "size": 2
           },
           "mode": "lines+markers",
           "name": "V1 + V2",
           "type": "scatter",
           "x": [
            0,
            1.9387755102040816
           ],
           "y": [
            0,
            1
           ]
          },
          {
           "fill": "toself",
           "fillcolor": "rgba(0, 100, 200, 0.2)",
           "line": {
            "color": "rgba(255,255,255,0)"
           },
           "name": "Area",
           "type": "scatter",
           "x": [
            0,
            1,
            1.9387755102040816,
            0.9387755102040816,
            0
           ],
           "y": [
            0,
            0,
            1,
            1,
            0
           ]
          }
         ]
        },
        {
         "data": [
          {
           "line": {
            "color": "blue",
            "width": 1
           },
           "marker": {
            "size": 2
           },
           "mode": "lines+markers",
           "name": "V1",
           "type": "scatter",
           "x": [
            0,
            1
           ],
           "y": [
            0,
            0
           ]
          },
          {
           "line": {
            "color": "red",
            "width": 1
           },
           "marker": {
            "size": 2
           },
           "mode": "lines+markers",
           "name": "V2",
           "type": "scatter",
           "x": [
            0,
            0.9591836734693877
           ],
           "y": [
            0,
            1
           ]
          },
          {
           "line": {
            "color": "green",
            "width": 1
           },
           "marker": {
            "size": 2
           },
           "mode": "lines+markers",
           "name": "V1 + V2",
           "type": "scatter",
           "x": [
            0,
            1.9591836734693877
           ],
           "y": [
            0,
            1
           ]
          },
          {
           "fill": "toself",
           "fillcolor": "rgba(0, 100, 200, 0.2)",
           "line": {
            "color": "rgba(255,255,255,0)"
           },
           "name": "Area",
           "type": "scatter",
           "x": [
            0,
            1,
            1.9591836734693877,
            0.9591836734693877,
            0
           ],
           "y": [
            0,
            0,
            1,
            1,
            0
           ]
          }
         ]
        },
        {
         "data": [
          {
           "line": {
            "color": "blue",
            "width": 1
           },
           "marker": {
            "size": 2
           },
           "mode": "lines+markers",
           "name": "V1",
           "type": "scatter",
           "x": [
            0,
            1
           ],
           "y": [
            0,
            0
           ]
          },
          {
           "line": {
            "color": "red",
            "width": 1
           },
           "marker": {
            "size": 2
           },
           "mode": "lines+markers",
           "name": "V2",
           "type": "scatter",
           "x": [
            0,
            0.9795918367346939
           ],
           "y": [
            0,
            1
           ]
          },
          {
           "line": {
            "color": "green",
            "width": 1
           },
           "marker": {
            "size": 2
           },
           "mode": "lines+markers",
           "name": "V1 + V2",
           "type": "scatter",
           "x": [
            0,
            1.9795918367346939
           ],
           "y": [
            0,
            1
           ]
          },
          {
           "fill": "toself",
           "fillcolor": "rgba(0, 100, 200, 0.2)",
           "line": {
            "color": "rgba(255,255,255,0)"
           },
           "name": "Area",
           "type": "scatter",
           "x": [
            0,
            1,
            1.9795918367346939,
            0.9795918367346939,
            0
           ],
           "y": [
            0,
            0,
            1,
            1,
            0
           ]
          }
         ]
        },
        {
         "data": [
          {
           "line": {
            "color": "blue",
            "width": 1
           },
           "marker": {
            "size": 2
           },
           "mode": "lines+markers",
           "name": "V1",
           "type": "scatter",
           "x": [
            0,
            1
           ],
           "y": [
            0,
            0
           ]
          },
          {
           "line": {
            "color": "red",
            "width": 1
           },
           "marker": {
            "size": 2
           },
           "mode": "lines+markers",
           "name": "V2",
           "type": "scatter",
           "x": [
            0,
            1
           ],
           "y": [
            0,
            1
           ]
          },
          {
           "line": {
            "color": "green",
            "width": 1
           },
           "marker": {
            "size": 2
           },
           "mode": "lines+markers",
           "name": "V1 + V2",
           "type": "scatter",
           "x": [
            0,
            2
           ],
           "y": [
            0,
            1
           ]
          },
          {
           "fill": "toself",
           "fillcolor": "rgba(0, 100, 200, 0.2)",
           "line": {
            "color": "rgba(255,255,255,0)"
           },
           "name": "Area",
           "type": "scatter",
           "x": [
            0,
            1,
            2,
            1,
            0
           ],
           "y": [
            0,
            0,
            1,
            1,
            0
           ]
          }
         ]
        }
       ],
       "layout": {
        "height": 450,
        "showlegend": true,
        "template": {
         "data": {
          "bar": [
           {
            "error_x": {
             "color": "#2a3f5f"
            },
            "error_y": {
             "color": "#2a3f5f"
            },
            "marker": {
             "line": {
              "color": "#E5ECF6",
              "width": 0.5
             },
             "pattern": {
              "fillmode": "overlay",
              "size": 10,
              "solidity": 0.2
             }
            },
            "type": "bar"
           }
          ],
          "barpolar": [
           {
            "marker": {
             "line": {
              "color": "#E5ECF6",
              "width": 0.5
             },
             "pattern": {
              "fillmode": "overlay",
              "size": 10,
              "solidity": 0.2
             }
            },
            "type": "barpolar"
           }
          ],
          "carpet": [
           {
            "aaxis": {
             "endlinecolor": "#2a3f5f",
             "gridcolor": "white",
             "linecolor": "white",
             "minorgridcolor": "white",
             "startlinecolor": "#2a3f5f"
            },
            "baxis": {
             "endlinecolor": "#2a3f5f",
             "gridcolor": "white",
             "linecolor": "white",
             "minorgridcolor": "white",
             "startlinecolor": "#2a3f5f"
            },
            "type": "carpet"
           }
          ],
          "choropleth": [
           {
            "colorbar": {
             "outlinewidth": 0,
             "ticks": ""
            },
            "type": "choropleth"
           }
          ],
          "contour": [
           {
            "colorbar": {
             "outlinewidth": 0,
             "ticks": ""
            },
            "colorscale": [
             [
              0,
              "#0d0887"
             ],
             [
              0.1111111111111111,
              "#46039f"
             ],
             [
              0.2222222222222222,
              "#7201a8"
             ],
             [
              0.3333333333333333,
              "#9c179e"
             ],
             [
              0.4444444444444444,
              "#bd3786"
             ],
             [
              0.5555555555555556,
              "#d8576b"
             ],
             [
              0.6666666666666666,
              "#ed7953"
             ],
             [
              0.7777777777777778,
              "#fb9f3a"
             ],
             [
              0.8888888888888888,
              "#fdca26"
             ],
             [
              1,
              "#f0f921"
             ]
            ],
            "type": "contour"
           }
          ],
          "contourcarpet": [
           {
            "colorbar": {
             "outlinewidth": 0,
             "ticks": ""
            },
            "type": "contourcarpet"
           }
          ],
          "heatmap": [
           {
            "colorbar": {
             "outlinewidth": 0,
             "ticks": ""
            },
            "colorscale": [
             [
              0,
              "#0d0887"
             ],
             [
              0.1111111111111111,
              "#46039f"
             ],
             [
              0.2222222222222222,
              "#7201a8"
             ],
             [
              0.3333333333333333,
              "#9c179e"
             ],
             [
              0.4444444444444444,
              "#bd3786"
             ],
             [
              0.5555555555555556,
              "#d8576b"
             ],
             [
              0.6666666666666666,
              "#ed7953"
             ],
             [
              0.7777777777777778,
              "#fb9f3a"
             ],
             [
              0.8888888888888888,
              "#fdca26"
             ],
             [
              1,
              "#f0f921"
             ]
            ],
            "type": "heatmap"
           }
          ],
          "heatmapgl": [
           {
            "colorbar": {
             "outlinewidth": 0,
             "ticks": ""
            },
            "colorscale": [
             [
              0,
              "#0d0887"
             ],
             [
              0.1111111111111111,
              "#46039f"
             ],
             [
              0.2222222222222222,
              "#7201a8"
             ],
             [
              0.3333333333333333,
              "#9c179e"
             ],
             [
              0.4444444444444444,
              "#bd3786"
             ],
             [
              0.5555555555555556,
              "#d8576b"
             ],
             [
              0.6666666666666666,
              "#ed7953"
             ],
             [
              0.7777777777777778,
              "#fb9f3a"
             ],
             [
              0.8888888888888888,
              "#fdca26"
             ],
             [
              1,
              "#f0f921"
             ]
            ],
            "type": "heatmapgl"
           }
          ],
          "histogram": [
           {
            "marker": {
             "pattern": {
              "fillmode": "overlay",
              "size": 10,
              "solidity": 0.2
             }
            },
            "type": "histogram"
           }
          ],
          "histogram2d": [
           {
            "colorbar": {
             "outlinewidth": 0,
             "ticks": ""
            },
            "colorscale": [
             [
              0,
              "#0d0887"
             ],
             [
              0.1111111111111111,
              "#46039f"
             ],
             [
              0.2222222222222222,
              "#7201a8"
             ],
             [
              0.3333333333333333,
              "#9c179e"
             ],
             [
              0.4444444444444444,
              "#bd3786"
             ],
             [
              0.5555555555555556,
              "#d8576b"
             ],
             [
              0.6666666666666666,
              "#ed7953"
             ],
             [
              0.7777777777777778,
              "#fb9f3a"
             ],
             [
              0.8888888888888888,
              "#fdca26"
             ],
             [
              1,
              "#f0f921"
             ]
            ],
            "type": "histogram2d"
           }
          ],
          "histogram2dcontour": [
           {
            "colorbar": {
             "outlinewidth": 0,
             "ticks": ""
            },
            "colorscale": [
             [
              0,
              "#0d0887"
             ],
             [
              0.1111111111111111,
              "#46039f"
             ],
             [
              0.2222222222222222,
              "#7201a8"
             ],
             [
              0.3333333333333333,
              "#9c179e"
             ],
             [
              0.4444444444444444,
              "#bd3786"
             ],
             [
              0.5555555555555556,
              "#d8576b"
             ],
             [
              0.6666666666666666,
              "#ed7953"
             ],
             [
              0.7777777777777778,
              "#fb9f3a"
             ],
             [
              0.8888888888888888,
              "#fdca26"
             ],
             [
              1,
              "#f0f921"
             ]
            ],
            "type": "histogram2dcontour"
           }
          ],
          "mesh3d": [
           {
            "colorbar": {
             "outlinewidth": 0,
             "ticks": ""
            },
            "type": "mesh3d"
           }
          ],
          "parcoords": [
           {
            "line": {
             "colorbar": {
              "outlinewidth": 0,
              "ticks": ""
             }
            },
            "type": "parcoords"
           }
          ],
          "pie": [
           {
            "automargin": true,
            "type": "pie"
           }
          ],
          "scatter": [
           {
            "fillpattern": {
             "fillmode": "overlay",
             "size": 10,
             "solidity": 0.2
            },
            "type": "scatter"
           }
          ],
          "scatter3d": [
           {
            "line": {
             "colorbar": {
              "outlinewidth": 0,
              "ticks": ""
             }
            },
            "marker": {
             "colorbar": {
              "outlinewidth": 0,
              "ticks": ""
             }
            },
            "type": "scatter3d"
           }
          ],
          "scattercarpet": [
           {
            "marker": {
             "colorbar": {
              "outlinewidth": 0,
              "ticks": ""
             }
            },
            "type": "scattercarpet"
           }
          ],
          "scattergeo": [
           {
            "marker": {
             "colorbar": {
              "outlinewidth": 0,
              "ticks": ""
             }
            },
            "type": "scattergeo"
           }
          ],
          "scattergl": [
           {
            "marker": {
             "colorbar": {
              "outlinewidth": 0,
              "ticks": ""
             }
            },
            "type": "scattergl"
           }
          ],
          "scattermapbox": [
           {
            "marker": {
             "colorbar": {
              "outlinewidth": 0,
              "ticks": ""
             }
            },
            "type": "scattermapbox"
           }
          ],
          "scatterpolar": [
           {
            "marker": {
             "colorbar": {
              "outlinewidth": 0,
              "ticks": ""
             }
            },
            "type": "scatterpolar"
           }
          ],
          "scatterpolargl": [
           {
            "marker": {
             "colorbar": {
              "outlinewidth": 0,
              "ticks": ""
             }
            },
            "type": "scatterpolargl"
           }
          ],
          "scatterternary": [
           {
            "marker": {
             "colorbar": {
              "outlinewidth": 0,
              "ticks": ""
             }
            },
            "type": "scatterternary"
           }
          ],
          "surface": [
           {
            "colorbar": {
             "outlinewidth": 0,
             "ticks": ""
            },
            "colorscale": [
             [
              0,
              "#0d0887"
             ],
             [
              0.1111111111111111,
              "#46039f"
             ],
             [
              0.2222222222222222,
              "#7201a8"
             ],
             [
              0.3333333333333333,
              "#9c179e"
             ],
             [
              0.4444444444444444,
              "#bd3786"
             ],
             [
              0.5555555555555556,
              "#d8576b"
             ],
             [
              0.6666666666666666,
              "#ed7953"
             ],
             [
              0.7777777777777778,
              "#fb9f3a"
             ],
             [
              0.8888888888888888,
              "#fdca26"
             ],
             [
              1,
              "#f0f921"
             ]
            ],
            "type": "surface"
           }
          ],
          "table": [
           {
            "cells": {
             "fill": {
              "color": "#EBF0F8"
             },
             "line": {
              "color": "white"
             }
            },
            "header": {
             "fill": {
              "color": "#C8D4E3"
             },
             "line": {
              "color": "white"
             }
            },
            "type": "table"
           }
          ]
         },
         "layout": {
          "annotationdefaults": {
           "arrowcolor": "#2a3f5f",
           "arrowhead": 0,
           "arrowwidth": 1
          },
          "autotypenumbers": "strict",
          "coloraxis": {
           "colorbar": {
            "outlinewidth": 0,
            "ticks": ""
           }
          },
          "colorscale": {
           "diverging": [
            [
             0,
             "#8e0152"
            ],
            [
             0.1,
             "#c51b7d"
            ],
            [
             0.2,
             "#de77ae"
            ],
            [
             0.3,
             "#f1b6da"
            ],
            [
             0.4,
             "#fde0ef"
            ],
            [
             0.5,
             "#f7f7f7"
            ],
            [
             0.6,
             "#e6f5d0"
            ],
            [
             0.7,
             "#b8e186"
            ],
            [
             0.8,
             "#7fbc41"
            ],
            [
             0.9,
             "#4d9221"
            ],
            [
             1,
             "#276419"
            ]
           ],
           "sequential": [
            [
             0,
             "#0d0887"
            ],
            [
             0.1111111111111111,
             "#46039f"
            ],
            [
             0.2222222222222222,
             "#7201a8"
            ],
            [
             0.3333333333333333,
             "#9c179e"
            ],
            [
             0.4444444444444444,
             "#bd3786"
            ],
            [
             0.5555555555555556,
             "#d8576b"
            ],
            [
             0.6666666666666666,
             "#ed7953"
            ],
            [
             0.7777777777777778,
             "#fb9f3a"
            ],
            [
             0.8888888888888888,
             "#fdca26"
            ],
            [
             1,
             "#f0f921"
            ]
           ],
           "sequentialminus": [
            [
             0,
             "#0d0887"
            ],
            [
             0.1111111111111111,
             "#46039f"
            ],
            [
             0.2222222222222222,
             "#7201a8"
            ],
            [
             0.3333333333333333,
             "#9c179e"
            ],
            [
             0.4444444444444444,
             "#bd3786"
            ],
            [
             0.5555555555555556,
             "#d8576b"
            ],
            [
             0.6666666666666666,
             "#ed7953"
            ],
            [
             0.7777777777777778,
             "#fb9f3a"
            ],
            [
             0.8888888888888888,
             "#fdca26"
            ],
            [
             1,
             "#f0f921"
            ]
           ]
          },
          "colorway": [
           "#636efa",
           "#EF553B",
           "#00cc96",
           "#ab63fa",
           "#FFA15A",
           "#19d3f3",
           "#FF6692",
           "#B6E880",
           "#FF97FF",
           "#FECB52"
          ],
          "font": {
           "color": "#2a3f5f"
          },
          "geo": {
           "bgcolor": "white",
           "lakecolor": "white",
           "landcolor": "#E5ECF6",
           "showlakes": true,
           "showland": true,
           "subunitcolor": "white"
          },
          "hoverlabel": {
           "align": "left"
          },
          "hovermode": "closest",
          "mapbox": {
           "style": "light"
          },
          "paper_bgcolor": "white",
          "plot_bgcolor": "#E5ECF6",
          "polar": {
           "angularaxis": {
            "gridcolor": "white",
            "linecolor": "white",
            "ticks": ""
           },
           "bgcolor": "#E5ECF6",
           "radialaxis": {
            "gridcolor": "white",
            "linecolor": "white",
            "ticks": ""
           }
          },
          "scene": {
           "xaxis": {
            "backgroundcolor": "#E5ECF6",
            "gridcolor": "white",
            "gridwidth": 2,
            "linecolor": "white",
            "showbackground": true,
            "ticks": "",
            "zerolinecolor": "white"
           },
           "yaxis": {
            "backgroundcolor": "#E5ECF6",
            "gridcolor": "white",
            "gridwidth": 2,
            "linecolor": "white",
            "showbackground": true,
            "ticks": "",
            "zerolinecolor": "white"
           },
           "zaxis": {
            "backgroundcolor": "#E5ECF6",
            "gridcolor": "white",
            "gridwidth": 2,
            "linecolor": "white",
            "showbackground": true,
            "ticks": "",
            "zerolinecolor": "white"
           }
          },
          "shapedefaults": {
           "line": {
            "color": "#2a3f5f"
           }
          },
          "ternary": {
           "aaxis": {
            "gridcolor": "white",
            "linecolor": "white",
            "ticks": ""
           },
           "baxis": {
            "gridcolor": "white",
            "linecolor": "white",
            "ticks": ""
           },
           "bgcolor": "#E5ECF6",
           "caxis": {
            "gridcolor": "white",
            "linecolor": "white",
            "ticks": ""
           }
          },
          "title": {
           "x": 0.05
          },
          "xaxis": {
           "automargin": true,
           "gridcolor": "white",
           "linecolor": "white",
           "ticks": "",
           "title": {
            "standoff": 15
           },
           "zerolinecolor": "white",
           "zerolinewidth": 2
          },
          "yaxis": {
           "automargin": true,
           "gridcolor": "white",
           "linecolor": "white",
           "ticks": "",
           "title": {
            "standoff": 15
           },
           "zerolinecolor": "white",
           "zerolinewidth": 2
          }
         }
        },
        "title": {
         "text": "Area and stretching in the x direction"
        },
        "updatemenus": [
         {
          "buttons": [
           {
            "args": [
             null,
             {
              "frame": {
               "duration": 50,
               "redraw": false
              },
              "fromcurrent": true,
              "transition": {
               "duration": 10
              }
             }
            ],
            "label": "Play",
            "method": "animate"
           }
          ],
          "type": "buttons"
         }
        ],
        "width": 600,
        "xaxis": {
         "range": [
          -2.3,
          2.3
         ],
         "title": {
          "text": "x"
         }
        },
        "yaxis": {
         "range": [
          -2.3,
          2.3
         ],
         "title": {
          "text": "y"
         }
        }
       }
      }
     },
     "metadata": {},
     "output_type": "display_data"
    }
   ],
   "source": [
    "# Sheer in the x direction\n",
    "\n",
    "fig4 = create_animation(unit1, unit2, [\n",
    "    np.array([[1, x], [0, 1]]) for x in np.linspace(0, 1, 50)\n",
    "])\n",
    "fig4.show()"
   ]
  },
  {
   "cell_type": "code",
   "execution_count": 65,
   "id": "251dbdf2",
   "metadata": {},
   "outputs": [
    {
     "data": {
      "application/vnd.plotly.v1+json": {
       "config": {
        "plotlyServerURL": "https://plot.ly"
       },
       "data": [
        {
         "line": {
          "color": "blue",
          "width": 1
         },
         "marker": {
          "size": 2
         },
         "mode": "lines+markers",
         "name": "V1",
         "type": "scatter",
         "x": [
          0,
          1
         ],
         "y": [
          0,
          0
         ]
        },
        {
         "line": {
          "color": "red",
          "width": 1
         },
         "marker": {
          "size": 2
         },
         "mode": "lines+markers",
         "name": "V2",
         "type": "scatter",
         "x": [
          0,
          0
         ],
         "y": [
          0,
          1
         ]
        },
        {
         "line": {
          "color": "green",
          "width": 1
         },
         "marker": {
          "size": 2
         },
         "mode": "lines+markers",
         "name": "V1 + V2",
         "type": "scatter",
         "x": [
          0,
          1
         ],
         "y": [
          0,
          1
         ]
        },
        {
         "fill": "toself",
         "fillcolor": "rgba(0, 100, 200, 0.2)",
         "line": {
          "color": "rgba(255,255,255,0)"
         },
         "name": "Area",
         "type": "scatter",
         "x": [
          0,
          1,
          1,
          0,
          0
         ],
         "y": [
          0,
          0,
          1,
          1,
          0
         ]
        }
       ],
       "frames": [
        {
         "data": [
          {
           "line": {
            "color": "blue",
            "width": 1
           },
           "marker": {
            "size": 2
           },
           "mode": "lines+markers",
           "name": "V1",
           "type": "scatter",
           "x": [
            0,
            1
           ],
           "y": [
            0,
            0
           ]
          },
          {
           "line": {
            "color": "red",
            "width": 1
           },
           "marker": {
            "size": 2
           },
           "mode": "lines+markers",
           "name": "V2",
           "type": "scatter",
           "x": [
            0,
            0
           ],
           "y": [
            0,
            1
           ]
          },
          {
           "line": {
            "color": "green",
            "width": 1
           },
           "marker": {
            "size": 2
           },
           "mode": "lines+markers",
           "name": "V1 + V2",
           "type": "scatter",
           "x": [
            0,
            1
           ],
           "y": [
            0,
            1
           ]
          },
          {
           "fill": "toself",
           "fillcolor": "rgba(0, 100, 200, 0.2)",
           "line": {
            "color": "rgba(255,255,255,0)"
           },
           "name": "Area",
           "type": "scatter",
           "x": [
            0,
            1,
            1,
            0,
            0
           ],
           "y": [
            0,
            0,
            1,
            1,
            0
           ]
          }
         ]
        },
        {
         "data": [
          {
           "line": {
            "color": "blue",
            "width": 1
           },
           "marker": {
            "size": 2
           },
           "mode": "lines+markers",
           "name": "V1",
           "type": "scatter",
           "x": [
            0,
            1
           ],
           "y": [
            0,
            0.02040816326530612
           ]
          },
          {
           "line": {
            "color": "red",
            "width": 1
           },
           "marker": {
            "size": 2
           },
           "mode": "lines+markers",
           "name": "V2",
           "type": "scatter",
           "x": [
            0,
            0
           ],
           "y": [
            0,
            1
           ]
          },
          {
           "line": {
            "color": "green",
            "width": 1
           },
           "marker": {
            "size": 2
           },
           "mode": "lines+markers",
           "name": "V1 + V2",
           "type": "scatter",
           "x": [
            0,
            1
           ],
           "y": [
            0,
            1.0204081632653061
           ]
          },
          {
           "fill": "toself",
           "fillcolor": "rgba(0, 100, 200, 0.2)",
           "line": {
            "color": "rgba(255,255,255,0)"
           },
           "name": "Area",
           "type": "scatter",
           "x": [
            0,
            1,
            1,
            0,
            0
           ],
           "y": [
            0,
            0.02040816326530612,
            1.0204081632653061,
            1,
            0
           ]
          }
         ]
        },
        {
         "data": [
          {
           "line": {
            "color": "blue",
            "width": 1
           },
           "marker": {
            "size": 2
           },
           "mode": "lines+markers",
           "name": "V1",
           "type": "scatter",
           "x": [
            0,
            1
           ],
           "y": [
            0,
            0.04081632653061224
           ]
          },
          {
           "line": {
            "color": "red",
            "width": 1
           },
           "marker": {
            "size": 2
           },
           "mode": "lines+markers",
           "name": "V2",
           "type": "scatter",
           "x": [
            0,
            0
           ],
           "y": [
            0,
            1
           ]
          },
          {
           "line": {
            "color": "green",
            "width": 1
           },
           "marker": {
            "size": 2
           },
           "mode": "lines+markers",
           "name": "V1 + V2",
           "type": "scatter",
           "x": [
            0,
            1
           ],
           "y": [
            0,
            1.0408163265306123
           ]
          },
          {
           "fill": "toself",
           "fillcolor": "rgba(0, 100, 200, 0.2)",
           "line": {
            "color": "rgba(255,255,255,0)"
           },
           "name": "Area",
           "type": "scatter",
           "x": [
            0,
            1,
            1,
            0,
            0
           ],
           "y": [
            0,
            0.04081632653061224,
            1.0408163265306123,
            1,
            0
           ]
          }
         ]
        },
        {
         "data": [
          {
           "line": {
            "color": "blue",
            "width": 1
           },
           "marker": {
            "size": 2
           },
           "mode": "lines+markers",
           "name": "V1",
           "type": "scatter",
           "x": [
            0,
            1
           ],
           "y": [
            0,
            0.061224489795918366
           ]
          },
          {
           "line": {
            "color": "red",
            "width": 1
           },
           "marker": {
            "size": 2
           },
           "mode": "lines+markers",
           "name": "V2",
           "type": "scatter",
           "x": [
            0,
            0
           ],
           "y": [
            0,
            1
           ]
          },
          {
           "line": {
            "color": "green",
            "width": 1
           },
           "marker": {
            "size": 2
           },
           "mode": "lines+markers",
           "name": "V1 + V2",
           "type": "scatter",
           "x": [
            0,
            1
           ],
           "y": [
            0,
            1.0612244897959184
           ]
          },
          {
           "fill": "toself",
           "fillcolor": "rgba(0, 100, 200, 0.2)",
           "line": {
            "color": "rgba(255,255,255,0)"
           },
           "name": "Area",
           "type": "scatter",
           "x": [
            0,
            1,
            1,
            0,
            0
           ],
           "y": [
            0,
            0.061224489795918366,
            1.0612244897959184,
            1,
            0
           ]
          }
         ]
        },
        {
         "data": [
          {
           "line": {
            "color": "blue",
            "width": 1
           },
           "marker": {
            "size": 2
           },
           "mode": "lines+markers",
           "name": "V1",
           "type": "scatter",
           "x": [
            0,
            1
           ],
           "y": [
            0,
            0.08163265306122448
           ]
          },
          {
           "line": {
            "color": "red",
            "width": 1
           },
           "marker": {
            "size": 2
           },
           "mode": "lines+markers",
           "name": "V2",
           "type": "scatter",
           "x": [
            0,
            0
           ],
           "y": [
            0,
            1
           ]
          },
          {
           "line": {
            "color": "green",
            "width": 1
           },
           "marker": {
            "size": 2
           },
           "mode": "lines+markers",
           "name": "V1 + V2",
           "type": "scatter",
           "x": [
            0,
            1
           ],
           "y": [
            0,
            1.0816326530612246
           ]
          },
          {
           "fill": "toself",
           "fillcolor": "rgba(0, 100, 200, 0.2)",
           "line": {
            "color": "rgba(255,255,255,0)"
           },
           "name": "Area",
           "type": "scatter",
           "x": [
            0,
            1,
            1,
            0,
            0
           ],
           "y": [
            0,
            0.08163265306122448,
            1.0816326530612246,
            1,
            0
           ]
          }
         ]
        },
        {
         "data": [
          {
           "line": {
            "color": "blue",
            "width": 1
           },
           "marker": {
            "size": 2
           },
           "mode": "lines+markers",
           "name": "V1",
           "type": "scatter",
           "x": [
            0,
            1
           ],
           "y": [
            0,
            0.1020408163265306
           ]
          },
          {
           "line": {
            "color": "red",
            "width": 1
           },
           "marker": {
            "size": 2
           },
           "mode": "lines+markers",
           "name": "V2",
           "type": "scatter",
           "x": [
            0,
            0
           ],
           "y": [
            0,
            1
           ]
          },
          {
           "line": {
            "color": "green",
            "width": 1
           },
           "marker": {
            "size": 2
           },
           "mode": "lines+markers",
           "name": "V1 + V2",
           "type": "scatter",
           "x": [
            0,
            1
           ],
           "y": [
            0,
            1.1020408163265305
           ]
          },
          {
           "fill": "toself",
           "fillcolor": "rgba(0, 100, 200, 0.2)",
           "line": {
            "color": "rgba(255,255,255,0)"
           },
           "name": "Area",
           "type": "scatter",
           "x": [
            0,
            1,
            1,
            0,
            0
           ],
           "y": [
            0,
            0.1020408163265306,
            1.1020408163265305,
            1,
            0
           ]
          }
         ]
        },
        {
         "data": [
          {
           "line": {
            "color": "blue",
            "width": 1
           },
           "marker": {
            "size": 2
           },
           "mode": "lines+markers",
           "name": "V1",
           "type": "scatter",
           "x": [
            0,
            1
           ],
           "y": [
            0,
            0.12244897959183673
           ]
          },
          {
           "line": {
            "color": "red",
            "width": 1
           },
           "marker": {
            "size": 2
           },
           "mode": "lines+markers",
           "name": "V2",
           "type": "scatter",
           "x": [
            0,
            0
           ],
           "y": [
            0,
            1
           ]
          },
          {
           "line": {
            "color": "green",
            "width": 1
           },
           "marker": {
            "size": 2
           },
           "mode": "lines+markers",
           "name": "V1 + V2",
           "type": "scatter",
           "x": [
            0,
            1
           ],
           "y": [
            0,
            1.1224489795918366
           ]
          },
          {
           "fill": "toself",
           "fillcolor": "rgba(0, 100, 200, 0.2)",
           "line": {
            "color": "rgba(255,255,255,0)"
           },
           "name": "Area",
           "type": "scatter",
           "x": [
            0,
            1,
            1,
            0,
            0
           ],
           "y": [
            0,
            0.12244897959183673,
            1.1224489795918366,
            1,
            0
           ]
          }
         ]
        },
        {
         "data": [
          {
           "line": {
            "color": "blue",
            "width": 1
           },
           "marker": {
            "size": 2
           },
           "mode": "lines+markers",
           "name": "V1",
           "type": "scatter",
           "x": [
            0,
            1
           ],
           "y": [
            0,
            0.14285714285714285
           ]
          },
          {
           "line": {
            "color": "red",
            "width": 1
           },
           "marker": {
            "size": 2
           },
           "mode": "lines+markers",
           "name": "V2",
           "type": "scatter",
           "x": [
            0,
            0
           ],
           "y": [
            0,
            1
           ]
          },
          {
           "line": {
            "color": "green",
            "width": 1
           },
           "marker": {
            "size": 2
           },
           "mode": "lines+markers",
           "name": "V1 + V2",
           "type": "scatter",
           "x": [
            0,
            1
           ],
           "y": [
            0,
            1.1428571428571428
           ]
          },
          {
           "fill": "toself",
           "fillcolor": "rgba(0, 100, 200, 0.2)",
           "line": {
            "color": "rgba(255,255,255,0)"
           },
           "name": "Area",
           "type": "scatter",
           "x": [
            0,
            1,
            1,
            0,
            0
           ],
           "y": [
            0,
            0.14285714285714285,
            1.1428571428571428,
            1,
            0
           ]
          }
         ]
        },
        {
         "data": [
          {
           "line": {
            "color": "blue",
            "width": 1
           },
           "marker": {
            "size": 2
           },
           "mode": "lines+markers",
           "name": "V1",
           "type": "scatter",
           "x": [
            0,
            1
           ],
           "y": [
            0,
            0.16326530612244897
           ]
          },
          {
           "line": {
            "color": "red",
            "width": 1
           },
           "marker": {
            "size": 2
           },
           "mode": "lines+markers",
           "name": "V2",
           "type": "scatter",
           "x": [
            0,
            0
           ],
           "y": [
            0,
            1
           ]
          },
          {
           "line": {
            "color": "green",
            "width": 1
           },
           "marker": {
            "size": 2
           },
           "mode": "lines+markers",
           "name": "V1 + V2",
           "type": "scatter",
           "x": [
            0,
            1
           ],
           "y": [
            0,
            1.163265306122449
           ]
          },
          {
           "fill": "toself",
           "fillcolor": "rgba(0, 100, 200, 0.2)",
           "line": {
            "color": "rgba(255,255,255,0)"
           },
           "name": "Area",
           "type": "scatter",
           "x": [
            0,
            1,
            1,
            0,
            0
           ],
           "y": [
            0,
            0.16326530612244897,
            1.163265306122449,
            1,
            0
           ]
          }
         ]
        },
        {
         "data": [
          {
           "line": {
            "color": "blue",
            "width": 1
           },
           "marker": {
            "size": 2
           },
           "mode": "lines+markers",
           "name": "V1",
           "type": "scatter",
           "x": [
            0,
            1
           ],
           "y": [
            0,
            0.18367346938775508
           ]
          },
          {
           "line": {
            "color": "red",
            "width": 1
           },
           "marker": {
            "size": 2
           },
           "mode": "lines+markers",
           "name": "V2",
           "type": "scatter",
           "x": [
            0,
            0
           ],
           "y": [
            0,
            1
           ]
          },
          {
           "line": {
            "color": "green",
            "width": 1
           },
           "marker": {
            "size": 2
           },
           "mode": "lines+markers",
           "name": "V1 + V2",
           "type": "scatter",
           "x": [
            0,
            1
           ],
           "y": [
            0,
            1.183673469387755
           ]
          },
          {
           "fill": "toself",
           "fillcolor": "rgba(0, 100, 200, 0.2)",
           "line": {
            "color": "rgba(255,255,255,0)"
           },
           "name": "Area",
           "type": "scatter",
           "x": [
            0,
            1,
            1,
            0,
            0
           ],
           "y": [
            0,
            0.18367346938775508,
            1.183673469387755,
            1,
            0
           ]
          }
         ]
        },
        {
         "data": [
          {
           "line": {
            "color": "blue",
            "width": 1
           },
           "marker": {
            "size": 2
           },
           "mode": "lines+markers",
           "name": "V1",
           "type": "scatter",
           "x": [
            0,
            1
           ],
           "y": [
            0,
            0.2040816326530612
           ]
          },
          {
           "line": {
            "color": "red",
            "width": 1
           },
           "marker": {
            "size": 2
           },
           "mode": "lines+markers",
           "name": "V2",
           "type": "scatter",
           "x": [
            0,
            0
           ],
           "y": [
            0,
            1
           ]
          },
          {
           "line": {
            "color": "green",
            "width": 1
           },
           "marker": {
            "size": 2
           },
           "mode": "lines+markers",
           "name": "V1 + V2",
           "type": "scatter",
           "x": [
            0,
            1
           ],
           "y": [
            0,
            1.2040816326530612
           ]
          },
          {
           "fill": "toself",
           "fillcolor": "rgba(0, 100, 200, 0.2)",
           "line": {
            "color": "rgba(255,255,255,0)"
           },
           "name": "Area",
           "type": "scatter",
           "x": [
            0,
            1,
            1,
            0,
            0
           ],
           "y": [
            0,
            0.2040816326530612,
            1.2040816326530612,
            1,
            0
           ]
          }
         ]
        },
        {
         "data": [
          {
           "line": {
            "color": "blue",
            "width": 1
           },
           "marker": {
            "size": 2
           },
           "mode": "lines+markers",
           "name": "V1",
           "type": "scatter",
           "x": [
            0,
            1
           ],
           "y": [
            0,
            0.22448979591836732
           ]
          },
          {
           "line": {
            "color": "red",
            "width": 1
           },
           "marker": {
            "size": 2
           },
           "mode": "lines+markers",
           "name": "V2",
           "type": "scatter",
           "x": [
            0,
            0
           ],
           "y": [
            0,
            1
           ]
          },
          {
           "line": {
            "color": "green",
            "width": 1
           },
           "marker": {
            "size": 2
           },
           "mode": "lines+markers",
           "name": "V1 + V2",
           "type": "scatter",
           "x": [
            0,
            1
           ],
           "y": [
            0,
            1.2244897959183674
           ]
          },
          {
           "fill": "toself",
           "fillcolor": "rgba(0, 100, 200, 0.2)",
           "line": {
            "color": "rgba(255,255,255,0)"
           },
           "name": "Area",
           "type": "scatter",
           "x": [
            0,
            1,
            1,
            0,
            0
           ],
           "y": [
            0,
            0.22448979591836732,
            1.2244897959183674,
            1,
            0
           ]
          }
         ]
        },
        {
         "data": [
          {
           "line": {
            "color": "blue",
            "width": 1
           },
           "marker": {
            "size": 2
           },
           "mode": "lines+markers",
           "name": "V1",
           "type": "scatter",
           "x": [
            0,
            1
           ],
           "y": [
            0,
            0.24489795918367346
           ]
          },
          {
           "line": {
            "color": "red",
            "width": 1
           },
           "marker": {
            "size": 2
           },
           "mode": "lines+markers",
           "name": "V2",
           "type": "scatter",
           "x": [
            0,
            0
           ],
           "y": [
            0,
            1
           ]
          },
          {
           "line": {
            "color": "green",
            "width": 1
           },
           "marker": {
            "size": 2
           },
           "mode": "lines+markers",
           "name": "V1 + V2",
           "type": "scatter",
           "x": [
            0,
            1
           ],
           "y": [
            0,
            1.2448979591836735
           ]
          },
          {
           "fill": "toself",
           "fillcolor": "rgba(0, 100, 200, 0.2)",
           "line": {
            "color": "rgba(255,255,255,0)"
           },
           "name": "Area",
           "type": "scatter",
           "x": [
            0,
            1,
            1,
            0,
            0
           ],
           "y": [
            0,
            0.24489795918367346,
            1.2448979591836735,
            1,
            0
           ]
          }
         ]
        },
        {
         "data": [
          {
           "line": {
            "color": "blue",
            "width": 1
           },
           "marker": {
            "size": 2
           },
           "mode": "lines+markers",
           "name": "V1",
           "type": "scatter",
           "x": [
            0,
            1
           ],
           "y": [
            0,
            0.26530612244897955
           ]
          },
          {
           "line": {
            "color": "red",
            "width": 1
           },
           "marker": {
            "size": 2
           },
           "mode": "lines+markers",
           "name": "V2",
           "type": "scatter",
           "x": [
            0,
            0
           ],
           "y": [
            0,
            1
           ]
          },
          {
           "line": {
            "color": "green",
            "width": 1
           },
           "marker": {
            "size": 2
           },
           "mode": "lines+markers",
           "name": "V1 + V2",
           "type": "scatter",
           "x": [
            0,
            1
           ],
           "y": [
            0,
            1.2653061224489797
           ]
          },
          {
           "fill": "toself",
           "fillcolor": "rgba(0, 100, 200, 0.2)",
           "line": {
            "color": "rgba(255,255,255,0)"
           },
           "name": "Area",
           "type": "scatter",
           "x": [
            0,
            1,
            1,
            0,
            0
           ],
           "y": [
            0,
            0.26530612244897955,
            1.2653061224489797,
            1,
            0
           ]
          }
         ]
        },
        {
         "data": [
          {
           "line": {
            "color": "blue",
            "width": 1
           },
           "marker": {
            "size": 2
           },
           "mode": "lines+markers",
           "name": "V1",
           "type": "scatter",
           "x": [
            0,
            1
           ],
           "y": [
            0,
            0.2857142857142857
           ]
          },
          {
           "line": {
            "color": "red",
            "width": 1
           },
           "marker": {
            "size": 2
           },
           "mode": "lines+markers",
           "name": "V2",
           "type": "scatter",
           "x": [
            0,
            0
           ],
           "y": [
            0,
            1
           ]
          },
          {
           "line": {
            "color": "green",
            "width": 1
           },
           "marker": {
            "size": 2
           },
           "mode": "lines+markers",
           "name": "V1 + V2",
           "type": "scatter",
           "x": [
            0,
            1
           ],
           "y": [
            0,
            1.2857142857142856
           ]
          },
          {
           "fill": "toself",
           "fillcolor": "rgba(0, 100, 200, 0.2)",
           "line": {
            "color": "rgba(255,255,255,0)"
           },
           "name": "Area",
           "type": "scatter",
           "x": [
            0,
            1,
            1,
            0,
            0
           ],
           "y": [
            0,
            0.2857142857142857,
            1.2857142857142856,
            1,
            0
           ]
          }
         ]
        },
        {
         "data": [
          {
           "line": {
            "color": "blue",
            "width": 1
           },
           "marker": {
            "size": 2
           },
           "mode": "lines+markers",
           "name": "V1",
           "type": "scatter",
           "x": [
            0,
            1
           ],
           "y": [
            0,
            0.3061224489795918
           ]
          },
          {
           "line": {
            "color": "red",
            "width": 1
           },
           "marker": {
            "size": 2
           },
           "mode": "lines+markers",
           "name": "V2",
           "type": "scatter",
           "x": [
            0,
            0
           ],
           "y": [
            0,
            1
           ]
          },
          {
           "line": {
            "color": "green",
            "width": 1
           },
           "marker": {
            "size": 2
           },
           "mode": "lines+markers",
           "name": "V1 + V2",
           "type": "scatter",
           "x": [
            0,
            1
           ],
           "y": [
            0,
            1.3061224489795917
           ]
          },
          {
           "fill": "toself",
           "fillcolor": "rgba(0, 100, 200, 0.2)",
           "line": {
            "color": "rgba(255,255,255,0)"
           },
           "name": "Area",
           "type": "scatter",
           "x": [
            0,
            1,
            1,
            0,
            0
           ],
           "y": [
            0,
            0.3061224489795918,
            1.3061224489795917,
            1,
            0
           ]
          }
         ]
        },
        {
         "data": [
          {
           "line": {
            "color": "blue",
            "width": 1
           },
           "marker": {
            "size": 2
           },
           "mode": "lines+markers",
           "name": "V1",
           "type": "scatter",
           "x": [
            0,
            1
           ],
           "y": [
            0,
            0.32653061224489793
           ]
          },
          {
           "line": {
            "color": "red",
            "width": 1
           },
           "marker": {
            "size": 2
           },
           "mode": "lines+markers",
           "name": "V2",
           "type": "scatter",
           "x": [
            0,
            0
           ],
           "y": [
            0,
            1
           ]
          },
          {
           "line": {
            "color": "green",
            "width": 1
           },
           "marker": {
            "size": 2
           },
           "mode": "lines+markers",
           "name": "V1 + V2",
           "type": "scatter",
           "x": [
            0,
            1
           ],
           "y": [
            0,
            1.3265306122448979
           ]
          },
          {
           "fill": "toself",
           "fillcolor": "rgba(0, 100, 200, 0.2)",
           "line": {
            "color": "rgba(255,255,255,0)"
           },
           "name": "Area",
           "type": "scatter",
           "x": [
            0,
            1,
            1,
            0,
            0
           ],
           "y": [
            0,
            0.32653061224489793,
            1.3265306122448979,
            1,
            0
           ]
          }
         ]
        },
        {
         "data": [
          {
           "line": {
            "color": "blue",
            "width": 1
           },
           "marker": {
            "size": 2
           },
           "mode": "lines+markers",
           "name": "V1",
           "type": "scatter",
           "x": [
            0,
            1
           ],
           "y": [
            0,
            0.3469387755102041
           ]
          },
          {
           "line": {
            "color": "red",
            "width": 1
           },
           "marker": {
            "size": 2
           },
           "mode": "lines+markers",
           "name": "V2",
           "type": "scatter",
           "x": [
            0,
            0
           ],
           "y": [
            0,
            1
           ]
          },
          {
           "line": {
            "color": "green",
            "width": 1
           },
           "marker": {
            "size": 2
           },
           "mode": "lines+markers",
           "name": "V1 + V2",
           "type": "scatter",
           "x": [
            0,
            1
           ],
           "y": [
            0,
            1.346938775510204
           ]
          },
          {
           "fill": "toself",
           "fillcolor": "rgba(0, 100, 200, 0.2)",
           "line": {
            "color": "rgba(255,255,255,0)"
           },
           "name": "Area",
           "type": "scatter",
           "x": [
            0,
            1,
            1,
            0,
            0
           ],
           "y": [
            0,
            0.3469387755102041,
            1.346938775510204,
            1,
            0
           ]
          }
         ]
        },
        {
         "data": [
          {
           "line": {
            "color": "blue",
            "width": 1
           },
           "marker": {
            "size": 2
           },
           "mode": "lines+markers",
           "name": "V1",
           "type": "scatter",
           "x": [
            0,
            1
           ],
           "y": [
            0,
            0.36734693877551017
           ]
          },
          {
           "line": {
            "color": "red",
            "width": 1
           },
           "marker": {
            "size": 2
           },
           "mode": "lines+markers",
           "name": "V2",
           "type": "scatter",
           "x": [
            0,
            0
           ],
           "y": [
            0,
            1
           ]
          },
          {
           "line": {
            "color": "green",
            "width": 1
           },
           "marker": {
            "size": 2
           },
           "mode": "lines+markers",
           "name": "V1 + V2",
           "type": "scatter",
           "x": [
            0,
            1
           ],
           "y": [
            0,
            1.3673469387755102
           ]
          },
          {
           "fill": "toself",
           "fillcolor": "rgba(0, 100, 200, 0.2)",
           "line": {
            "color": "rgba(255,255,255,0)"
           },
           "name": "Area",
           "type": "scatter",
           "x": [
            0,
            1,
            1,
            0,
            0
           ],
           "y": [
            0,
            0.36734693877551017,
            1.3673469387755102,
            1,
            0
           ]
          }
         ]
        },
        {
         "data": [
          {
           "line": {
            "color": "blue",
            "width": 1
           },
           "marker": {
            "size": 2
           },
           "mode": "lines+markers",
           "name": "V1",
           "type": "scatter",
           "x": [
            0,
            1
           ],
           "y": [
            0,
            0.3877551020408163
           ]
          },
          {
           "line": {
            "color": "red",
            "width": 1
           },
           "marker": {
            "size": 2
           },
           "mode": "lines+markers",
           "name": "V2",
           "type": "scatter",
           "x": [
            0,
            0
           ],
           "y": [
            0,
            1
           ]
          },
          {
           "line": {
            "color": "green",
            "width": 1
           },
           "marker": {
            "size": 2
           },
           "mode": "lines+markers",
           "name": "V1 + V2",
           "type": "scatter",
           "x": [
            0,
            1
           ],
           "y": [
            0,
            1.3877551020408163
           ]
          },
          {
           "fill": "toself",
           "fillcolor": "rgba(0, 100, 200, 0.2)",
           "line": {
            "color": "rgba(255,255,255,0)"
           },
           "name": "Area",
           "type": "scatter",
           "x": [
            0,
            1,
            1,
            0,
            0
           ],
           "y": [
            0,
            0.3877551020408163,
            1.3877551020408163,
            1,
            0
           ]
          }
         ]
        },
        {
         "data": [
          {
           "line": {
            "color": "blue",
            "width": 1
           },
           "marker": {
            "size": 2
           },
           "mode": "lines+markers",
           "name": "V1",
           "type": "scatter",
           "x": [
            0,
            1
           ],
           "y": [
            0,
            0.4081632653061224
           ]
          },
          {
           "line": {
            "color": "red",
            "width": 1
           },
           "marker": {
            "size": 2
           },
           "mode": "lines+markers",
           "name": "V2",
           "type": "scatter",
           "x": [
            0,
            0
           ],
           "y": [
            0,
            1
           ]
          },
          {
           "line": {
            "color": "green",
            "width": 1
           },
           "marker": {
            "size": 2
           },
           "mode": "lines+markers",
           "name": "V1 + V2",
           "type": "scatter",
           "x": [
            0,
            1
           ],
           "y": [
            0,
            1.4081632653061225
           ]
          },
          {
           "fill": "toself",
           "fillcolor": "rgba(0, 100, 200, 0.2)",
           "line": {
            "color": "rgba(255,255,255,0)"
           },
           "name": "Area",
           "type": "scatter",
           "x": [
            0,
            1,
            1,
            0,
            0
           ],
           "y": [
            0,
            0.4081632653061224,
            1.4081632653061225,
            1,
            0
           ]
          }
         ]
        },
        {
         "data": [
          {
           "line": {
            "color": "blue",
            "width": 1
           },
           "marker": {
            "size": 2
           },
           "mode": "lines+markers",
           "name": "V1",
           "type": "scatter",
           "x": [
            0,
            1
           ],
           "y": [
            0,
            0.42857142857142855
           ]
          },
          {
           "line": {
            "color": "red",
            "width": 1
           },
           "marker": {
            "size": 2
           },
           "mode": "lines+markers",
           "name": "V2",
           "type": "scatter",
           "x": [
            0,
            0
           ],
           "y": [
            0,
            1
           ]
          },
          {
           "line": {
            "color": "green",
            "width": 1
           },
           "marker": {
            "size": 2
           },
           "mode": "lines+markers",
           "name": "V1 + V2",
           "type": "scatter",
           "x": [
            0,
            1
           ],
           "y": [
            0,
            1.4285714285714286
           ]
          },
          {
           "fill": "toself",
           "fillcolor": "rgba(0, 100, 200, 0.2)",
           "line": {
            "color": "rgba(255,255,255,0)"
           },
           "name": "Area",
           "type": "scatter",
           "x": [
            0,
            1,
            1,
            0,
            0
           ],
           "y": [
            0,
            0.42857142857142855,
            1.4285714285714286,
            1,
            0
           ]
          }
         ]
        },
        {
         "data": [
          {
           "line": {
            "color": "blue",
            "width": 1
           },
           "marker": {
            "size": 2
           },
           "mode": "lines+markers",
           "name": "V1",
           "type": "scatter",
           "x": [
            0,
            1
           ],
           "y": [
            0,
            0.44897959183673464
           ]
          },
          {
           "line": {
            "color": "red",
            "width": 1
           },
           "marker": {
            "size": 2
           },
           "mode": "lines+markers",
           "name": "V2",
           "type": "scatter",
           "x": [
            0,
            0
           ],
           "y": [
            0,
            1
           ]
          },
          {
           "line": {
            "color": "green",
            "width": 1
           },
           "marker": {
            "size": 2
           },
           "mode": "lines+markers",
           "name": "V1 + V2",
           "type": "scatter",
           "x": [
            0,
            1
           ],
           "y": [
            0,
            1.4489795918367347
           ]
          },
          {
           "fill": "toself",
           "fillcolor": "rgba(0, 100, 200, 0.2)",
           "line": {
            "color": "rgba(255,255,255,0)"
           },
           "name": "Area",
           "type": "scatter",
           "x": [
            0,
            1,
            1,
            0,
            0
           ],
           "y": [
            0,
            0.44897959183673464,
            1.4489795918367347,
            1,
            0
           ]
          }
         ]
        },
        {
         "data": [
          {
           "line": {
            "color": "blue",
            "width": 1
           },
           "marker": {
            "size": 2
           },
           "mode": "lines+markers",
           "name": "V1",
           "type": "scatter",
           "x": [
            0,
            1
           ],
           "y": [
            0,
            0.4693877551020408
           ]
          },
          {
           "line": {
            "color": "red",
            "width": 1
           },
           "marker": {
            "size": 2
           },
           "mode": "lines+markers",
           "name": "V2",
           "type": "scatter",
           "x": [
            0,
            0
           ],
           "y": [
            0,
            1
           ]
          },
          {
           "line": {
            "color": "green",
            "width": 1
           },
           "marker": {
            "size": 2
           },
           "mode": "lines+markers",
           "name": "V1 + V2",
           "type": "scatter",
           "x": [
            0,
            1
           ],
           "y": [
            0,
            1.4693877551020407
           ]
          },
          {
           "fill": "toself",
           "fillcolor": "rgba(0, 100, 200, 0.2)",
           "line": {
            "color": "rgba(255,255,255,0)"
           },
           "name": "Area",
           "type": "scatter",
           "x": [
            0,
            1,
            1,
            0,
            0
           ],
           "y": [
            0,
            0.4693877551020408,
            1.4693877551020407,
            1,
            0
           ]
          }
         ]
        },
        {
         "data": [
          {
           "line": {
            "color": "blue",
            "width": 1
           },
           "marker": {
            "size": 2
           },
           "mode": "lines+markers",
           "name": "V1",
           "type": "scatter",
           "x": [
            0,
            1
           ],
           "y": [
            0,
            0.4897959183673469
           ]
          },
          {
           "line": {
            "color": "red",
            "width": 1
           },
           "marker": {
            "size": 2
           },
           "mode": "lines+markers",
           "name": "V2",
           "type": "scatter",
           "x": [
            0,
            0
           ],
           "y": [
            0,
            1
           ]
          },
          {
           "line": {
            "color": "green",
            "width": 1
           },
           "marker": {
            "size": 2
           },
           "mode": "lines+markers",
           "name": "V1 + V2",
           "type": "scatter",
           "x": [
            0,
            1
           ],
           "y": [
            0,
            1.489795918367347
           ]
          },
          {
           "fill": "toself",
           "fillcolor": "rgba(0, 100, 200, 0.2)",
           "line": {
            "color": "rgba(255,255,255,0)"
           },
           "name": "Area",
           "type": "scatter",
           "x": [
            0,
            1,
            1,
            0,
            0
           ],
           "y": [
            0,
            0.4897959183673469,
            1.489795918367347,
            1,
            0
           ]
          }
         ]
        },
        {
         "data": [
          {
           "line": {
            "color": "blue",
            "width": 1
           },
           "marker": {
            "size": 2
           },
           "mode": "lines+markers",
           "name": "V1",
           "type": "scatter",
           "x": [
            0,
            1
           ],
           "y": [
            0,
            0.5102040816326531
           ]
          },
          {
           "line": {
            "color": "red",
            "width": 1
           },
           "marker": {
            "size": 2
           },
           "mode": "lines+markers",
           "name": "V2",
           "type": "scatter",
           "x": [
            0,
            0
           ],
           "y": [
            0,
            1
           ]
          },
          {
           "line": {
            "color": "green",
            "width": 1
           },
           "marker": {
            "size": 2
           },
           "mode": "lines+markers",
           "name": "V1 + V2",
           "type": "scatter",
           "x": [
            0,
            1
           ],
           "y": [
            0,
            1.510204081632653
           ]
          },
          {
           "fill": "toself",
           "fillcolor": "rgba(0, 100, 200, 0.2)",
           "line": {
            "color": "rgba(255,255,255,0)"
           },
           "name": "Area",
           "type": "scatter",
           "x": [
            0,
            1,
            1,
            0,
            0
           ],
           "y": [
            0,
            0.5102040816326531,
            1.510204081632653,
            1,
            0
           ]
          }
         ]
        },
        {
         "data": [
          {
           "line": {
            "color": "blue",
            "width": 1
           },
           "marker": {
            "size": 2
           },
           "mode": "lines+markers",
           "name": "V1",
           "type": "scatter",
           "x": [
            0,
            1
           ],
           "y": [
            0,
            0.5306122448979591
           ]
          },
          {
           "line": {
            "color": "red",
            "width": 1
           },
           "marker": {
            "size": 2
           },
           "mode": "lines+markers",
           "name": "V2",
           "type": "scatter",
           "x": [
            0,
            0
           ],
           "y": [
            0,
            1
           ]
          },
          {
           "line": {
            "color": "green",
            "width": 1
           },
           "marker": {
            "size": 2
           },
           "mode": "lines+markers",
           "name": "V1 + V2",
           "type": "scatter",
           "x": [
            0,
            1
           ],
           "y": [
            0,
            1.530612244897959
           ]
          },
          {
           "fill": "toself",
           "fillcolor": "rgba(0, 100, 200, 0.2)",
           "line": {
            "color": "rgba(255,255,255,0)"
           },
           "name": "Area",
           "type": "scatter",
           "x": [
            0,
            1,
            1,
            0,
            0
           ],
           "y": [
            0,
            0.5306122448979591,
            1.530612244897959,
            1,
            0
           ]
          }
         ]
        },
        {
         "data": [
          {
           "line": {
            "color": "blue",
            "width": 1
           },
           "marker": {
            "size": 2
           },
           "mode": "lines+markers",
           "name": "V1",
           "type": "scatter",
           "x": [
            0,
            1
           ],
           "y": [
            0,
            0.5510204081632653
           ]
          },
          {
           "line": {
            "color": "red",
            "width": 1
           },
           "marker": {
            "size": 2
           },
           "mode": "lines+markers",
           "name": "V2",
           "type": "scatter",
           "x": [
            0,
            0
           ],
           "y": [
            0,
            1
           ]
          },
          {
           "line": {
            "color": "green",
            "width": 1
           },
           "marker": {
            "size": 2
           },
           "mode": "lines+markers",
           "name": "V1 + V2",
           "type": "scatter",
           "x": [
            0,
            1
           ],
           "y": [
            0,
            1.5510204081632653
           ]
          },
          {
           "fill": "toself",
           "fillcolor": "rgba(0, 100, 200, 0.2)",
           "line": {
            "color": "rgba(255,255,255,0)"
           },
           "name": "Area",
           "type": "scatter",
           "x": [
            0,
            1,
            1,
            0,
            0
           ],
           "y": [
            0,
            0.5510204081632653,
            1.5510204081632653,
            1,
            0
           ]
          }
         ]
        },
        {
         "data": [
          {
           "line": {
            "color": "blue",
            "width": 1
           },
           "marker": {
            "size": 2
           },
           "mode": "lines+markers",
           "name": "V1",
           "type": "scatter",
           "x": [
            0,
            1
           ],
           "y": [
            0,
            0.5714285714285714
           ]
          },
          {
           "line": {
            "color": "red",
            "width": 1
           },
           "marker": {
            "size": 2
           },
           "mode": "lines+markers",
           "name": "V2",
           "type": "scatter",
           "x": [
            0,
            0
           ],
           "y": [
            0,
            1
           ]
          },
          {
           "line": {
            "color": "green",
            "width": 1
           },
           "marker": {
            "size": 2
           },
           "mode": "lines+markers",
           "name": "V1 + V2",
           "type": "scatter",
           "x": [
            0,
            1
           ],
           "y": [
            0,
            1.5714285714285714
           ]
          },
          {
           "fill": "toself",
           "fillcolor": "rgba(0, 100, 200, 0.2)",
           "line": {
            "color": "rgba(255,255,255,0)"
           },
           "name": "Area",
           "type": "scatter",
           "x": [
            0,
            1,
            1,
            0,
            0
           ],
           "y": [
            0,
            0.5714285714285714,
            1.5714285714285714,
            1,
            0
           ]
          }
         ]
        },
        {
         "data": [
          {
           "line": {
            "color": "blue",
            "width": 1
           },
           "marker": {
            "size": 2
           },
           "mode": "lines+markers",
           "name": "V1",
           "type": "scatter",
           "x": [
            0,
            1
           ],
           "y": [
            0,
            0.5918367346938775
           ]
          },
          {
           "line": {
            "color": "red",
            "width": 1
           },
           "marker": {
            "size": 2
           },
           "mode": "lines+markers",
           "name": "V2",
           "type": "scatter",
           "x": [
            0,
            0
           ],
           "y": [
            0,
            1
           ]
          },
          {
           "line": {
            "color": "green",
            "width": 1
           },
           "marker": {
            "size": 2
           },
           "mode": "lines+markers",
           "name": "V1 + V2",
           "type": "scatter",
           "x": [
            0,
            1
           ],
           "y": [
            0,
            1.5918367346938775
           ]
          },
          {
           "fill": "toself",
           "fillcolor": "rgba(0, 100, 200, 0.2)",
           "line": {
            "color": "rgba(255,255,255,0)"
           },
           "name": "Area",
           "type": "scatter",
           "x": [
            0,
            1,
            1,
            0,
            0
           ],
           "y": [
            0,
            0.5918367346938775,
            1.5918367346938775,
            1,
            0
           ]
          }
         ]
        },
        {
         "data": [
          {
           "line": {
            "color": "blue",
            "width": 1
           },
           "marker": {
            "size": 2
           },
           "mode": "lines+markers",
           "name": "V1",
           "type": "scatter",
           "x": [
            0,
            1
           ],
           "y": [
            0,
            0.6122448979591836
           ]
          },
          {
           "line": {
            "color": "red",
            "width": 1
           },
           "marker": {
            "size": 2
           },
           "mode": "lines+markers",
           "name": "V2",
           "type": "scatter",
           "x": [
            0,
            0
           ],
           "y": [
            0,
            1
           ]
          },
          {
           "line": {
            "color": "green",
            "width": 1
           },
           "marker": {
            "size": 2
           },
           "mode": "lines+markers",
           "name": "V1 + V2",
           "type": "scatter",
           "x": [
            0,
            1
           ],
           "y": [
            0,
            1.6122448979591835
           ]
          },
          {
           "fill": "toself",
           "fillcolor": "rgba(0, 100, 200, 0.2)",
           "line": {
            "color": "rgba(255,255,255,0)"
           },
           "name": "Area",
           "type": "scatter",
           "x": [
            0,
            1,
            1,
            0,
            0
           ],
           "y": [
            0,
            0.6122448979591836,
            1.6122448979591835,
            1,
            0
           ]
          }
         ]
        },
        {
         "data": [
          {
           "line": {
            "color": "blue",
            "width": 1
           },
           "marker": {
            "size": 2
           },
           "mode": "lines+markers",
           "name": "V1",
           "type": "scatter",
           "x": [
            0,
            1
           ],
           "y": [
            0,
            0.6326530612244897
           ]
          },
          {
           "line": {
            "color": "red",
            "width": 1
           },
           "marker": {
            "size": 2
           },
           "mode": "lines+markers",
           "name": "V2",
           "type": "scatter",
           "x": [
            0,
            0
           ],
           "y": [
            0,
            1
           ]
          },
          {
           "line": {
            "color": "green",
            "width": 1
           },
           "marker": {
            "size": 2
           },
           "mode": "lines+markers",
           "name": "V1 + V2",
           "type": "scatter",
           "x": [
            0,
            1
           ],
           "y": [
            0,
            1.6326530612244898
           ]
          },
          {
           "fill": "toself",
           "fillcolor": "rgba(0, 100, 200, 0.2)",
           "line": {
            "color": "rgba(255,255,255,0)"
           },
           "name": "Area",
           "type": "scatter",
           "x": [
            0,
            1,
            1,
            0,
            0
           ],
           "y": [
            0,
            0.6326530612244897,
            1.6326530612244898,
            1,
            0
           ]
          }
         ]
        },
        {
         "data": [
          {
           "line": {
            "color": "blue",
            "width": 1
           },
           "marker": {
            "size": 2
           },
           "mode": "lines+markers",
           "name": "V1",
           "type": "scatter",
           "x": [
            0,
            1
           ],
           "y": [
            0,
            0.6530612244897959
           ]
          },
          {
           "line": {
            "color": "red",
            "width": 1
           },
           "marker": {
            "size": 2
           },
           "mode": "lines+markers",
           "name": "V2",
           "type": "scatter",
           "x": [
            0,
            0
           ],
           "y": [
            0,
            1
           ]
          },
          {
           "line": {
            "color": "green",
            "width": 1
           },
           "marker": {
            "size": 2
           },
           "mode": "lines+markers",
           "name": "V1 + V2",
           "type": "scatter",
           "x": [
            0,
            1
           ],
           "y": [
            0,
            1.6530612244897958
           ]
          },
          {
           "fill": "toself",
           "fillcolor": "rgba(0, 100, 200, 0.2)",
           "line": {
            "color": "rgba(255,255,255,0)"
           },
           "name": "Area",
           "type": "scatter",
           "x": [
            0,
            1,
            1,
            0,
            0
           ],
           "y": [
            0,
            0.6530612244897959,
            1.6530612244897958,
            1,
            0
           ]
          }
         ]
        },
        {
         "data": [
          {
           "line": {
            "color": "blue",
            "width": 1
           },
           "marker": {
            "size": 2
           },
           "mode": "lines+markers",
           "name": "V1",
           "type": "scatter",
           "x": [
            0,
            1
           ],
           "y": [
            0,
            0.673469387755102
           ]
          },
          {
           "line": {
            "color": "red",
            "width": 1
           },
           "marker": {
            "size": 2
           },
           "mode": "lines+markers",
           "name": "V2",
           "type": "scatter",
           "x": [
            0,
            0
           ],
           "y": [
            0,
            1
           ]
          },
          {
           "line": {
            "color": "green",
            "width": 1
           },
           "marker": {
            "size": 2
           },
           "mode": "lines+markers",
           "name": "V1 + V2",
           "type": "scatter",
           "x": [
            0,
            1
           ],
           "y": [
            0,
            1.6734693877551021
           ]
          },
          {
           "fill": "toself",
           "fillcolor": "rgba(0, 100, 200, 0.2)",
           "line": {
            "color": "rgba(255,255,255,0)"
           },
           "name": "Area",
           "type": "scatter",
           "x": [
            0,
            1,
            1,
            0,
            0
           ],
           "y": [
            0,
            0.673469387755102,
            1.6734693877551021,
            1,
            0
           ]
          }
         ]
        },
        {
         "data": [
          {
           "line": {
            "color": "blue",
            "width": 1
           },
           "marker": {
            "size": 2
           },
           "mode": "lines+markers",
           "name": "V1",
           "type": "scatter",
           "x": [
            0,
            1
           ],
           "y": [
            0,
            0.6938775510204082
           ]
          },
          {
           "line": {
            "color": "red",
            "width": 1
           },
           "marker": {
            "size": 2
           },
           "mode": "lines+markers",
           "name": "V2",
           "type": "scatter",
           "x": [
            0,
            0
           ],
           "y": [
            0,
            1
           ]
          },
          {
           "line": {
            "color": "green",
            "width": 1
           },
           "marker": {
            "size": 2
           },
           "mode": "lines+markers",
           "name": "V1 + V2",
           "type": "scatter",
           "x": [
            0,
            1
           ],
           "y": [
            0,
            1.693877551020408
           ]
          },
          {
           "fill": "toself",
           "fillcolor": "rgba(0, 100, 200, 0.2)",
           "line": {
            "color": "rgba(255,255,255,0)"
           },
           "name": "Area",
           "type": "scatter",
           "x": [
            0,
            1,
            1,
            0,
            0
           ],
           "y": [
            0,
            0.6938775510204082,
            1.693877551020408,
            1,
            0
           ]
          }
         ]
        },
        {
         "data": [
          {
           "line": {
            "color": "blue",
            "width": 1
           },
           "marker": {
            "size": 2
           },
           "mode": "lines+markers",
           "name": "V1",
           "type": "scatter",
           "x": [
            0,
            1
           ],
           "y": [
            0,
            0.7142857142857142
           ]
          },
          {
           "line": {
            "color": "red",
            "width": 1
           },
           "marker": {
            "size": 2
           },
           "mode": "lines+markers",
           "name": "V2",
           "type": "scatter",
           "x": [
            0,
            0
           ],
           "y": [
            0,
            1
           ]
          },
          {
           "line": {
            "color": "green",
            "width": 1
           },
           "marker": {
            "size": 2
           },
           "mode": "lines+markers",
           "name": "V1 + V2",
           "type": "scatter",
           "x": [
            0,
            1
           ],
           "y": [
            0,
            1.7142857142857142
           ]
          },
          {
           "fill": "toself",
           "fillcolor": "rgba(0, 100, 200, 0.2)",
           "line": {
            "color": "rgba(255,255,255,0)"
           },
           "name": "Area",
           "type": "scatter",
           "x": [
            0,
            1,
            1,
            0,
            0
           ],
           "y": [
            0,
            0.7142857142857142,
            1.7142857142857142,
            1,
            0
           ]
          }
         ]
        },
        {
         "data": [
          {
           "line": {
            "color": "blue",
            "width": 1
           },
           "marker": {
            "size": 2
           },
           "mode": "lines+markers",
           "name": "V1",
           "type": "scatter",
           "x": [
            0,
            1
           ],
           "y": [
            0,
            0.7346938775510203
           ]
          },
          {
           "line": {
            "color": "red",
            "width": 1
           },
           "marker": {
            "size": 2
           },
           "mode": "lines+markers",
           "name": "V2",
           "type": "scatter",
           "x": [
            0,
            0
           ],
           "y": [
            0,
            1
           ]
          },
          {
           "line": {
            "color": "green",
            "width": 1
           },
           "marker": {
            "size": 2
           },
           "mode": "lines+markers",
           "name": "V1 + V2",
           "type": "scatter",
           "x": [
            0,
            1
           ],
           "y": [
            0,
            1.7346938775510203
           ]
          },
          {
           "fill": "toself",
           "fillcolor": "rgba(0, 100, 200, 0.2)",
           "line": {
            "color": "rgba(255,255,255,0)"
           },
           "name": "Area",
           "type": "scatter",
           "x": [
            0,
            1,
            1,
            0,
            0
           ],
           "y": [
            0,
            0.7346938775510203,
            1.7346938775510203,
            1,
            0
           ]
          }
         ]
        },
        {
         "data": [
          {
           "line": {
            "color": "blue",
            "width": 1
           },
           "marker": {
            "size": 2
           },
           "mode": "lines+markers",
           "name": "V1",
           "type": "scatter",
           "x": [
            0,
            1
           ],
           "y": [
            0,
            0.7551020408163265
           ]
          },
          {
           "line": {
            "color": "red",
            "width": 1
           },
           "marker": {
            "size": 2
           },
           "mode": "lines+markers",
           "name": "V2",
           "type": "scatter",
           "x": [
            0,
            0
           ],
           "y": [
            0,
            1
           ]
          },
          {
           "line": {
            "color": "green",
            "width": 1
           },
           "marker": {
            "size": 2
           },
           "mode": "lines+markers",
           "name": "V1 + V2",
           "type": "scatter",
           "x": [
            0,
            1
           ],
           "y": [
            0,
            1.7551020408163265
           ]
          },
          {
           "fill": "toself",
           "fillcolor": "rgba(0, 100, 200, 0.2)",
           "line": {
            "color": "rgba(255,255,255,0)"
           },
           "name": "Area",
           "type": "scatter",
           "x": [
            0,
            1,
            1,
            0,
            0
           ],
           "y": [
            0,
            0.7551020408163265,
            1.7551020408163265,
            1,
            0
           ]
          }
         ]
        },
        {
         "data": [
          {
           "line": {
            "color": "blue",
            "width": 1
           },
           "marker": {
            "size": 2
           },
           "mode": "lines+markers",
           "name": "V1",
           "type": "scatter",
           "x": [
            0,
            1
           ],
           "y": [
            0,
            0.7755102040816326
           ]
          },
          {
           "line": {
            "color": "red",
            "width": 1
           },
           "marker": {
            "size": 2
           },
           "mode": "lines+markers",
           "name": "V2",
           "type": "scatter",
           "x": [
            0,
            0
           ],
           "y": [
            0,
            1
           ]
          },
          {
           "line": {
            "color": "green",
            "width": 1
           },
           "marker": {
            "size": 2
           },
           "mode": "lines+markers",
           "name": "V1 + V2",
           "type": "scatter",
           "x": [
            0,
            1
           ],
           "y": [
            0,
            1.7755102040816326
           ]
          },
          {
           "fill": "toself",
           "fillcolor": "rgba(0, 100, 200, 0.2)",
           "line": {
            "color": "rgba(255,255,255,0)"
           },
           "name": "Area",
           "type": "scatter",
           "x": [
            0,
            1,
            1,
            0,
            0
           ],
           "y": [
            0,
            0.7755102040816326,
            1.7755102040816326,
            1,
            0
           ]
          }
         ]
        },
        {
         "data": [
          {
           "line": {
            "color": "blue",
            "width": 1
           },
           "marker": {
            "size": 2
           },
           "mode": "lines+markers",
           "name": "V1",
           "type": "scatter",
           "x": [
            0,
            1
           ],
           "y": [
            0,
            0.7959183673469387
           ]
          },
          {
           "line": {
            "color": "red",
            "width": 1
           },
           "marker": {
            "size": 2
           },
           "mode": "lines+markers",
           "name": "V2",
           "type": "scatter",
           "x": [
            0,
            0
           ],
           "y": [
            0,
            1
           ]
          },
          {
           "line": {
            "color": "green",
            "width": 1
           },
           "marker": {
            "size": 2
           },
           "mode": "lines+markers",
           "name": "V1 + V2",
           "type": "scatter",
           "x": [
            0,
            1
           ],
           "y": [
            0,
            1.7959183673469385
           ]
          },
          {
           "fill": "toself",
           "fillcolor": "rgba(0, 100, 200, 0.2)",
           "line": {
            "color": "rgba(255,255,255,0)"
           },
           "name": "Area",
           "type": "scatter",
           "x": [
            0,
            1,
            1,
            0,
            0
           ],
           "y": [
            0,
            0.7959183673469387,
            1.7959183673469385,
            1,
            0
           ]
          }
         ]
        },
        {
         "data": [
          {
           "line": {
            "color": "blue",
            "width": 1
           },
           "marker": {
            "size": 2
           },
           "mode": "lines+markers",
           "name": "V1",
           "type": "scatter",
           "x": [
            0,
            1
           ],
           "y": [
            0,
            0.8163265306122448
           ]
          },
          {
           "line": {
            "color": "red",
            "width": 1
           },
           "marker": {
            "size": 2
           },
           "mode": "lines+markers",
           "name": "V2",
           "type": "scatter",
           "x": [
            0,
            0
           ],
           "y": [
            0,
            1
           ]
          },
          {
           "line": {
            "color": "green",
            "width": 1
           },
           "marker": {
            "size": 2
           },
           "mode": "lines+markers",
           "name": "V1 + V2",
           "type": "scatter",
           "x": [
            0,
            1
           ],
           "y": [
            0,
            1.816326530612245
           ]
          },
          {
           "fill": "toself",
           "fillcolor": "rgba(0, 100, 200, 0.2)",
           "line": {
            "color": "rgba(255,255,255,0)"
           },
           "name": "Area",
           "type": "scatter",
           "x": [
            0,
            1,
            1,
            0,
            0
           ],
           "y": [
            0,
            0.8163265306122448,
            1.816326530612245,
            1,
            0
           ]
          }
         ]
        },
        {
         "data": [
          {
           "line": {
            "color": "blue",
            "width": 1
           },
           "marker": {
            "size": 2
           },
           "mode": "lines+markers",
           "name": "V1",
           "type": "scatter",
           "x": [
            0,
            1
           ],
           "y": [
            0,
            0.836734693877551
           ]
          },
          {
           "line": {
            "color": "red",
            "width": 1
           },
           "marker": {
            "size": 2
           },
           "mode": "lines+markers",
           "name": "V2",
           "type": "scatter",
           "x": [
            0,
            0
           ],
           "y": [
            0,
            1
           ]
          },
          {
           "line": {
            "color": "green",
            "width": 1
           },
           "marker": {
            "size": 2
           },
           "mode": "lines+markers",
           "name": "V1 + V2",
           "type": "scatter",
           "x": [
            0,
            1
           ],
           "y": [
            0,
            1.8367346938775508
           ]
          },
          {
           "fill": "toself",
           "fillcolor": "rgba(0, 100, 200, 0.2)",
           "line": {
            "color": "rgba(255,255,255,0)"
           },
           "name": "Area",
           "type": "scatter",
           "x": [
            0,
            1,
            1,
            0,
            0
           ],
           "y": [
            0,
            0.836734693877551,
            1.8367346938775508,
            1,
            0
           ]
          }
         ]
        },
        {
         "data": [
          {
           "line": {
            "color": "blue",
            "width": 1
           },
           "marker": {
            "size": 2
           },
           "mode": "lines+markers",
           "name": "V1",
           "type": "scatter",
           "x": [
            0,
            1
           ],
           "y": [
            0,
            0.8571428571428571
           ]
          },
          {
           "line": {
            "color": "red",
            "width": 1
           },
           "marker": {
            "size": 2
           },
           "mode": "lines+markers",
           "name": "V2",
           "type": "scatter",
           "x": [
            0,
            0
           ],
           "y": [
            0,
            1
           ]
          },
          {
           "line": {
            "color": "green",
            "width": 1
           },
           "marker": {
            "size": 2
           },
           "mode": "lines+markers",
           "name": "V1 + V2",
           "type": "scatter",
           "x": [
            0,
            1
           ],
           "y": [
            0,
            1.8571428571428572
           ]
          },
          {
           "fill": "toself",
           "fillcolor": "rgba(0, 100, 200, 0.2)",
           "line": {
            "color": "rgba(255,255,255,0)"
           },
           "name": "Area",
           "type": "scatter",
           "x": [
            0,
            1,
            1,
            0,
            0
           ],
           "y": [
            0,
            0.8571428571428571,
            1.8571428571428572,
            1,
            0
           ]
          }
         ]
        },
        {
         "data": [
          {
           "line": {
            "color": "blue",
            "width": 1
           },
           "marker": {
            "size": 2
           },
           "mode": "lines+markers",
           "name": "V1",
           "type": "scatter",
           "x": [
            0,
            1
           ],
           "y": [
            0,
            0.8775510204081632
           ]
          },
          {
           "line": {
            "color": "red",
            "width": 1
           },
           "marker": {
            "size": 2
           },
           "mode": "lines+markers",
           "name": "V2",
           "type": "scatter",
           "x": [
            0,
            0
           ],
           "y": [
            0,
            1
           ]
          },
          {
           "line": {
            "color": "green",
            "width": 1
           },
           "marker": {
            "size": 2
           },
           "mode": "lines+markers",
           "name": "V1 + V2",
           "type": "scatter",
           "x": [
            0,
            1
           ],
           "y": [
            0,
            1.8775510204081631
           ]
          },
          {
           "fill": "toself",
           "fillcolor": "rgba(0, 100, 200, 0.2)",
           "line": {
            "color": "rgba(255,255,255,0)"
           },
           "name": "Area",
           "type": "scatter",
           "x": [
            0,
            1,
            1,
            0,
            0
           ],
           "y": [
            0,
            0.8775510204081632,
            1.8775510204081631,
            1,
            0
           ]
          }
         ]
        },
        {
         "data": [
          {
           "line": {
            "color": "blue",
            "width": 1
           },
           "marker": {
            "size": 2
           },
           "mode": "lines+markers",
           "name": "V1",
           "type": "scatter",
           "x": [
            0,
            1
           ],
           "y": [
            0,
            0.8979591836734693
           ]
          },
          {
           "line": {
            "color": "red",
            "width": 1
           },
           "marker": {
            "size": 2
           },
           "mode": "lines+markers",
           "name": "V2",
           "type": "scatter",
           "x": [
            0,
            0
           ],
           "y": [
            0,
            1
           ]
          },
          {
           "line": {
            "color": "green",
            "width": 1
           },
           "marker": {
            "size": 2
           },
           "mode": "lines+markers",
           "name": "V1 + V2",
           "type": "scatter",
           "x": [
            0,
            1
           ],
           "y": [
            0,
            1.8979591836734693
           ]
          },
          {
           "fill": "toself",
           "fillcolor": "rgba(0, 100, 200, 0.2)",
           "line": {
            "color": "rgba(255,255,255,0)"
           },
           "name": "Area",
           "type": "scatter",
           "x": [
            0,
            1,
            1,
            0,
            0
           ],
           "y": [
            0,
            0.8979591836734693,
            1.8979591836734693,
            1,
            0
           ]
          }
         ]
        },
        {
         "data": [
          {
           "line": {
            "color": "blue",
            "width": 1
           },
           "marker": {
            "size": 2
           },
           "mode": "lines+markers",
           "name": "V1",
           "type": "scatter",
           "x": [
            0,
            1
           ],
           "y": [
            0,
            0.9183673469387754
           ]
          },
          {
           "line": {
            "color": "red",
            "width": 1
           },
           "marker": {
            "size": 2
           },
           "mode": "lines+markers",
           "name": "V2",
           "type": "scatter",
           "x": [
            0,
            0
           ],
           "y": [
            0,
            1
           ]
          },
          {
           "line": {
            "color": "green",
            "width": 1
           },
           "marker": {
            "size": 2
           },
           "mode": "lines+markers",
           "name": "V1 + V2",
           "type": "scatter",
           "x": [
            0,
            1
           ],
           "y": [
            0,
            1.9183673469387754
           ]
          },
          {
           "fill": "toself",
           "fillcolor": "rgba(0, 100, 200, 0.2)",
           "line": {
            "color": "rgba(255,255,255,0)"
           },
           "name": "Area",
           "type": "scatter",
           "x": [
            0,
            1,
            1,
            0,
            0
           ],
           "y": [
            0,
            0.9183673469387754,
            1.9183673469387754,
            1,
            0
           ]
          }
         ]
        },
        {
         "data": [
          {
           "line": {
            "color": "blue",
            "width": 1
           },
           "marker": {
            "size": 2
           },
           "mode": "lines+markers",
           "name": "V1",
           "type": "scatter",
           "x": [
            0,
            1
           ],
           "y": [
            0,
            0.9387755102040816
           ]
          },
          {
           "line": {
            "color": "red",
            "width": 1
           },
           "marker": {
            "size": 2
           },
           "mode": "lines+markers",
           "name": "V2",
           "type": "scatter",
           "x": [
            0,
            0
           ],
           "y": [
            0,
            1
           ]
          },
          {
           "line": {
            "color": "green",
            "width": 1
           },
           "marker": {
            "size": 2
           },
           "mode": "lines+markers",
           "name": "V1 + V2",
           "type": "scatter",
           "x": [
            0,
            1
           ],
           "y": [
            0,
            1.9387755102040816
           ]
          },
          {
           "fill": "toself",
           "fillcolor": "rgba(0, 100, 200, 0.2)",
           "line": {
            "color": "rgba(255,255,255,0)"
           },
           "name": "Area",
           "type": "scatter",
           "x": [
            0,
            1,
            1,
            0,
            0
           ],
           "y": [
            0,
            0.9387755102040816,
            1.9387755102040816,
            1,
            0
           ]
          }
         ]
        },
        {
         "data": [
          {
           "line": {
            "color": "blue",
            "width": 1
           },
           "marker": {
            "size": 2
           },
           "mode": "lines+markers",
           "name": "V1",
           "type": "scatter",
           "x": [
            0,
            1
           ],
           "y": [
            0,
            0.9591836734693877
           ]
          },
          {
           "line": {
            "color": "red",
            "width": 1
           },
           "marker": {
            "size": 2
           },
           "mode": "lines+markers",
           "name": "V2",
           "type": "scatter",
           "x": [
            0,
            0
           ],
           "y": [
            0,
            1
           ]
          },
          {
           "line": {
            "color": "green",
            "width": 1
           },
           "marker": {
            "size": 2
           },
           "mode": "lines+markers",
           "name": "V1 + V2",
           "type": "scatter",
           "x": [
            0,
            1
           ],
           "y": [
            0,
            1.9591836734693877
           ]
          },
          {
           "fill": "toself",
           "fillcolor": "rgba(0, 100, 200, 0.2)",
           "line": {
            "color": "rgba(255,255,255,0)"
           },
           "name": "Area",
           "type": "scatter",
           "x": [
            0,
            1,
            1,
            0,
            0
           ],
           "y": [
            0,
            0.9591836734693877,
            1.9591836734693877,
            1,
            0
           ]
          }
         ]
        },
        {
         "data": [
          {
           "line": {
            "color": "blue",
            "width": 1
           },
           "marker": {
            "size": 2
           },
           "mode": "lines+markers",
           "name": "V1",
           "type": "scatter",
           "x": [
            0,
            1
           ],
           "y": [
            0,
            0.9795918367346939
           ]
          },
          {
           "line": {
            "color": "red",
            "width": 1
           },
           "marker": {
            "size": 2
           },
           "mode": "lines+markers",
           "name": "V2",
           "type": "scatter",
           "x": [
            0,
            0
           ],
           "y": [
            0,
            1
           ]
          },
          {
           "line": {
            "color": "green",
            "width": 1
           },
           "marker": {
            "size": 2
           },
           "mode": "lines+markers",
           "name": "V1 + V2",
           "type": "scatter",
           "x": [
            0,
            1
           ],
           "y": [
            0,
            1.9795918367346939
           ]
          },
          {
           "fill": "toself",
           "fillcolor": "rgba(0, 100, 200, 0.2)",
           "line": {
            "color": "rgba(255,255,255,0)"
           },
           "name": "Area",
           "type": "scatter",
           "x": [
            0,
            1,
            1,
            0,
            0
           ],
           "y": [
            0,
            0.9795918367346939,
            1.9795918367346939,
            1,
            0
           ]
          }
         ]
        },
        {
         "data": [
          {
           "line": {
            "color": "blue",
            "width": 1
           },
           "marker": {
            "size": 2
           },
           "mode": "lines+markers",
           "name": "V1",
           "type": "scatter",
           "x": [
            0,
            1
           ],
           "y": [
            0,
            1
           ]
          },
          {
           "line": {
            "color": "red",
            "width": 1
           },
           "marker": {
            "size": 2
           },
           "mode": "lines+markers",
           "name": "V2",
           "type": "scatter",
           "x": [
            0,
            0
           ],
           "y": [
            0,
            1
           ]
          },
          {
           "line": {
            "color": "green",
            "width": 1
           },
           "marker": {
            "size": 2
           },
           "mode": "lines+markers",
           "name": "V1 + V2",
           "type": "scatter",
           "x": [
            0,
            1
           ],
           "y": [
            0,
            2
           ]
          },
          {
           "fill": "toself",
           "fillcolor": "rgba(0, 100, 200, 0.2)",
           "line": {
            "color": "rgba(255,255,255,0)"
           },
           "name": "Area",
           "type": "scatter",
           "x": [
            0,
            1,
            1,
            0,
            0
           ],
           "y": [
            0,
            1,
            2,
            1,
            0
           ]
          }
         ]
        }
       ],
       "layout": {
        "height": 450,
        "showlegend": true,
        "template": {
         "data": {
          "bar": [
           {
            "error_x": {
             "color": "#2a3f5f"
            },
            "error_y": {
             "color": "#2a3f5f"
            },
            "marker": {
             "line": {
              "color": "#E5ECF6",
              "width": 0.5
             },
             "pattern": {
              "fillmode": "overlay",
              "size": 10,
              "solidity": 0.2
             }
            },
            "type": "bar"
           }
          ],
          "barpolar": [
           {
            "marker": {
             "line": {
              "color": "#E5ECF6",
              "width": 0.5
             },
             "pattern": {
              "fillmode": "overlay",
              "size": 10,
              "solidity": 0.2
             }
            },
            "type": "barpolar"
           }
          ],
          "carpet": [
           {
            "aaxis": {
             "endlinecolor": "#2a3f5f",
             "gridcolor": "white",
             "linecolor": "white",
             "minorgridcolor": "white",
             "startlinecolor": "#2a3f5f"
            },
            "baxis": {
             "endlinecolor": "#2a3f5f",
             "gridcolor": "white",
             "linecolor": "white",
             "minorgridcolor": "white",
             "startlinecolor": "#2a3f5f"
            },
            "type": "carpet"
           }
          ],
          "choropleth": [
           {
            "colorbar": {
             "outlinewidth": 0,
             "ticks": ""
            },
            "type": "choropleth"
           }
          ],
          "contour": [
           {
            "colorbar": {
             "outlinewidth": 0,
             "ticks": ""
            },
            "colorscale": [
             [
              0,
              "#0d0887"
             ],
             [
              0.1111111111111111,
              "#46039f"
             ],
             [
              0.2222222222222222,
              "#7201a8"
             ],
             [
              0.3333333333333333,
              "#9c179e"
             ],
             [
              0.4444444444444444,
              "#bd3786"
             ],
             [
              0.5555555555555556,
              "#d8576b"
             ],
             [
              0.6666666666666666,
              "#ed7953"
             ],
             [
              0.7777777777777778,
              "#fb9f3a"
             ],
             [
              0.8888888888888888,
              "#fdca26"
             ],
             [
              1,
              "#f0f921"
             ]
            ],
            "type": "contour"
           }
          ],
          "contourcarpet": [
           {
            "colorbar": {
             "outlinewidth": 0,
             "ticks": ""
            },
            "type": "contourcarpet"
           }
          ],
          "heatmap": [
           {
            "colorbar": {
             "outlinewidth": 0,
             "ticks": ""
            },
            "colorscale": [
             [
              0,
              "#0d0887"
             ],
             [
              0.1111111111111111,
              "#46039f"
             ],
             [
              0.2222222222222222,
              "#7201a8"
             ],
             [
              0.3333333333333333,
              "#9c179e"
             ],
             [
              0.4444444444444444,
              "#bd3786"
             ],
             [
              0.5555555555555556,
              "#d8576b"
             ],
             [
              0.6666666666666666,
              "#ed7953"
             ],
             [
              0.7777777777777778,
              "#fb9f3a"
             ],
             [
              0.8888888888888888,
              "#fdca26"
             ],
             [
              1,
              "#f0f921"
             ]
            ],
            "type": "heatmap"
           }
          ],
          "heatmapgl": [
           {
            "colorbar": {
             "outlinewidth": 0,
             "ticks": ""
            },
            "colorscale": [
             [
              0,
              "#0d0887"
             ],
             [
              0.1111111111111111,
              "#46039f"
             ],
             [
              0.2222222222222222,
              "#7201a8"
             ],
             [
              0.3333333333333333,
              "#9c179e"
             ],
             [
              0.4444444444444444,
              "#bd3786"
             ],
             [
              0.5555555555555556,
              "#d8576b"
             ],
             [
              0.6666666666666666,
              "#ed7953"
             ],
             [
              0.7777777777777778,
              "#fb9f3a"
             ],
             [
              0.8888888888888888,
              "#fdca26"
             ],
             [
              1,
              "#f0f921"
             ]
            ],
            "type": "heatmapgl"
           }
          ],
          "histogram": [
           {
            "marker": {
             "pattern": {
              "fillmode": "overlay",
              "size": 10,
              "solidity": 0.2
             }
            },
            "type": "histogram"
           }
          ],
          "histogram2d": [
           {
            "colorbar": {
             "outlinewidth": 0,
             "ticks": ""
            },
            "colorscale": [
             [
              0,
              "#0d0887"
             ],
             [
              0.1111111111111111,
              "#46039f"
             ],
             [
              0.2222222222222222,
              "#7201a8"
             ],
             [
              0.3333333333333333,
              "#9c179e"
             ],
             [
              0.4444444444444444,
              "#bd3786"
             ],
             [
              0.5555555555555556,
              "#d8576b"
             ],
             [
              0.6666666666666666,
              "#ed7953"
             ],
             [
              0.7777777777777778,
              "#fb9f3a"
             ],
             [
              0.8888888888888888,
              "#fdca26"
             ],
             [
              1,
              "#f0f921"
             ]
            ],
            "type": "histogram2d"
           }
          ],
          "histogram2dcontour": [
           {
            "colorbar": {
             "outlinewidth": 0,
             "ticks": ""
            },
            "colorscale": [
             [
              0,
              "#0d0887"
             ],
             [
              0.1111111111111111,
              "#46039f"
             ],
             [
              0.2222222222222222,
              "#7201a8"
             ],
             [
              0.3333333333333333,
              "#9c179e"
             ],
             [
              0.4444444444444444,
              "#bd3786"
             ],
             [
              0.5555555555555556,
              "#d8576b"
             ],
             [
              0.6666666666666666,
              "#ed7953"
             ],
             [
              0.7777777777777778,
              "#fb9f3a"
             ],
             [
              0.8888888888888888,
              "#fdca26"
             ],
             [
              1,
              "#f0f921"
             ]
            ],
            "type": "histogram2dcontour"
           }
          ],
          "mesh3d": [
           {
            "colorbar": {
             "outlinewidth": 0,
             "ticks": ""
            },
            "type": "mesh3d"
           }
          ],
          "parcoords": [
           {
            "line": {
             "colorbar": {
              "outlinewidth": 0,
              "ticks": ""
             }
            },
            "type": "parcoords"
           }
          ],
          "pie": [
           {
            "automargin": true,
            "type": "pie"
           }
          ],
          "scatter": [
           {
            "fillpattern": {
             "fillmode": "overlay",
             "size": 10,
             "solidity": 0.2
            },
            "type": "scatter"
           }
          ],
          "scatter3d": [
           {
            "line": {
             "colorbar": {
              "outlinewidth": 0,
              "ticks": ""
             }
            },
            "marker": {
             "colorbar": {
              "outlinewidth": 0,
              "ticks": ""
             }
            },
            "type": "scatter3d"
           }
          ],
          "scattercarpet": [
           {
            "marker": {
             "colorbar": {
              "outlinewidth": 0,
              "ticks": ""
             }
            },
            "type": "scattercarpet"
           }
          ],
          "scattergeo": [
           {
            "marker": {
             "colorbar": {
              "outlinewidth": 0,
              "ticks": ""
             }
            },
            "type": "scattergeo"
           }
          ],
          "scattergl": [
           {
            "marker": {
             "colorbar": {
              "outlinewidth": 0,
              "ticks": ""
             }
            },
            "type": "scattergl"
           }
          ],
          "scattermapbox": [
           {
            "marker": {
             "colorbar": {
              "outlinewidth": 0,
              "ticks": ""
             }
            },
            "type": "scattermapbox"
           }
          ],
          "scatterpolar": [
           {
            "marker": {
             "colorbar": {
              "outlinewidth": 0,
              "ticks": ""
             }
            },
            "type": "scatterpolar"
           }
          ],
          "scatterpolargl": [
           {
            "marker": {
             "colorbar": {
              "outlinewidth": 0,
              "ticks": ""
             }
            },
            "type": "scatterpolargl"
           }
          ],
          "scatterternary": [
           {
            "marker": {
             "colorbar": {
              "outlinewidth": 0,
              "ticks": ""
             }
            },
            "type": "scatterternary"
           }
          ],
          "surface": [
           {
            "colorbar": {
             "outlinewidth": 0,
             "ticks": ""
            },
            "colorscale": [
             [
              0,
              "#0d0887"
             ],
             [
              0.1111111111111111,
              "#46039f"
             ],
             [
              0.2222222222222222,
              "#7201a8"
             ],
             [
              0.3333333333333333,
              "#9c179e"
             ],
             [
              0.4444444444444444,
              "#bd3786"
             ],
             [
              0.5555555555555556,
              "#d8576b"
             ],
             [
              0.6666666666666666,
              "#ed7953"
             ],
             [
              0.7777777777777778,
              "#fb9f3a"
             ],
             [
              0.8888888888888888,
              "#fdca26"
             ],
             [
              1,
              "#f0f921"
             ]
            ],
            "type": "surface"
           }
          ],
          "table": [
           {
            "cells": {
             "fill": {
              "color": "#EBF0F8"
             },
             "line": {
              "color": "white"
             }
            },
            "header": {
             "fill": {
              "color": "#C8D4E3"
             },
             "line": {
              "color": "white"
             }
            },
            "type": "table"
           }
          ]
         },
         "layout": {
          "annotationdefaults": {
           "arrowcolor": "#2a3f5f",
           "arrowhead": 0,
           "arrowwidth": 1
          },
          "autotypenumbers": "strict",
          "coloraxis": {
           "colorbar": {
            "outlinewidth": 0,
            "ticks": ""
           }
          },
          "colorscale": {
           "diverging": [
            [
             0,
             "#8e0152"
            ],
            [
             0.1,
             "#c51b7d"
            ],
            [
             0.2,
             "#de77ae"
            ],
            [
             0.3,
             "#f1b6da"
            ],
            [
             0.4,
             "#fde0ef"
            ],
            [
             0.5,
             "#f7f7f7"
            ],
            [
             0.6,
             "#e6f5d0"
            ],
            [
             0.7,
             "#b8e186"
            ],
            [
             0.8,
             "#7fbc41"
            ],
            [
             0.9,
             "#4d9221"
            ],
            [
             1,
             "#276419"
            ]
           ],
           "sequential": [
            [
             0,
             "#0d0887"
            ],
            [
             0.1111111111111111,
             "#46039f"
            ],
            [
             0.2222222222222222,
             "#7201a8"
            ],
            [
             0.3333333333333333,
             "#9c179e"
            ],
            [
             0.4444444444444444,
             "#bd3786"
            ],
            [
             0.5555555555555556,
             "#d8576b"
            ],
            [
             0.6666666666666666,
             "#ed7953"
            ],
            [
             0.7777777777777778,
             "#fb9f3a"
            ],
            [
             0.8888888888888888,
             "#fdca26"
            ],
            [
             1,
             "#f0f921"
            ]
           ],
           "sequentialminus": [
            [
             0,
             "#0d0887"
            ],
            [
             0.1111111111111111,
             "#46039f"
            ],
            [
             0.2222222222222222,
             "#7201a8"
            ],
            [
             0.3333333333333333,
             "#9c179e"
            ],
            [
             0.4444444444444444,
             "#bd3786"
            ],
            [
             0.5555555555555556,
             "#d8576b"
            ],
            [
             0.6666666666666666,
             "#ed7953"
            ],
            [
             0.7777777777777778,
             "#fb9f3a"
            ],
            [
             0.8888888888888888,
             "#fdca26"
            ],
            [
             1,
             "#f0f921"
            ]
           ]
          },
          "colorway": [
           "#636efa",
           "#EF553B",
           "#00cc96",
           "#ab63fa",
           "#FFA15A",
           "#19d3f3",
           "#FF6692",
           "#B6E880",
           "#FF97FF",
           "#FECB52"
          ],
          "font": {
           "color": "#2a3f5f"
          },
          "geo": {
           "bgcolor": "white",
           "lakecolor": "white",
           "landcolor": "#E5ECF6",
           "showlakes": true,
           "showland": true,
           "subunitcolor": "white"
          },
          "hoverlabel": {
           "align": "left"
          },
          "hovermode": "closest",
          "mapbox": {
           "style": "light"
          },
          "paper_bgcolor": "white",
          "plot_bgcolor": "#E5ECF6",
          "polar": {
           "angularaxis": {
            "gridcolor": "white",
            "linecolor": "white",
            "ticks": ""
           },
           "bgcolor": "#E5ECF6",
           "radialaxis": {
            "gridcolor": "white",
            "linecolor": "white",
            "ticks": ""
           }
          },
          "scene": {
           "xaxis": {
            "backgroundcolor": "#E5ECF6",
            "gridcolor": "white",
            "gridwidth": 2,
            "linecolor": "white",
            "showbackground": true,
            "ticks": "",
            "zerolinecolor": "white"
           },
           "yaxis": {
            "backgroundcolor": "#E5ECF6",
            "gridcolor": "white",
            "gridwidth": 2,
            "linecolor": "white",
            "showbackground": true,
            "ticks": "",
            "zerolinecolor": "white"
           },
           "zaxis": {
            "backgroundcolor": "#E5ECF6",
            "gridcolor": "white",
            "gridwidth": 2,
            "linecolor": "white",
            "showbackground": true,
            "ticks": "",
            "zerolinecolor": "white"
           }
          },
          "shapedefaults": {
           "line": {
            "color": "#2a3f5f"
           }
          },
          "ternary": {
           "aaxis": {
            "gridcolor": "white",
            "linecolor": "white",
            "ticks": ""
           },
           "baxis": {
            "gridcolor": "white",
            "linecolor": "white",
            "ticks": ""
           },
           "bgcolor": "#E5ECF6",
           "caxis": {
            "gridcolor": "white",
            "linecolor": "white",
            "ticks": ""
           }
          },
          "title": {
           "x": 0.05
          },
          "xaxis": {
           "automargin": true,
           "gridcolor": "white",
           "linecolor": "white",
           "ticks": "",
           "title": {
            "standoff": 15
           },
           "zerolinecolor": "white",
           "zerolinewidth": 2
          },
          "yaxis": {
           "automargin": true,
           "gridcolor": "white",
           "linecolor": "white",
           "ticks": "",
           "title": {
            "standoff": 15
           },
           "zerolinecolor": "white",
           "zerolinewidth": 2
          }
         }
        },
        "title": {
         "text": "Area and stretching in the x direction"
        },
        "updatemenus": [
         {
          "buttons": [
           {
            "args": [
             null,
             {
              "frame": {
               "duration": 50,
               "redraw": false
              },
              "fromcurrent": true,
              "transition": {
               "duration": 10
              }
             }
            ],
            "label": "Play",
            "method": "animate"
           }
          ],
          "type": "buttons"
         }
        ],
        "width": 600,
        "xaxis": {
         "range": [
          -2.3,
          2.3
         ],
         "title": {
          "text": "x"
         }
        },
        "yaxis": {
         "range": [
          -2.3,
          2.3
         ],
         "title": {
          "text": "y"
         }
        }
       }
      }
     },
     "metadata": {},
     "output_type": "display_data"
    }
   ],
   "source": [
    "# Sheer in the y direction\n",
    "\n",
    "fig5 = create_animation(unit1, unit2, [\n",
    "    np.array([[1, 0], [x, 1]]) for x in np.linspace(0, 1, 50)\n",
    "])\n",
    "fig5.show()\n"
   ]
  },
  {
   "cell_type": "code",
   "execution_count": 76,
   "id": "9d10a805",
   "metadata": {},
   "outputs": [
    {
     "data": {
      "application/vnd.plotly.v1+json": {
       "config": {
        "plotlyServerURL": "https://plot.ly"
       },
       "data": [
        {
         "line": {
          "color": "blue",
          "width": 1
         },
         "marker": {
          "size": 2
         },
         "mode": "lines+markers",
         "name": "V1",
         "type": "scatter",
         "x": [
          0,
          1
         ],
         "y": [
          0,
          0
         ]
        },
        {
         "line": {
          "color": "red",
          "width": 1
         },
         "marker": {
          "size": 2
         },
         "mode": "lines+markers",
         "name": "V2",
         "type": "scatter",
         "x": [
          0,
          0
         ],
         "y": [
          0,
          1
         ]
        },
        {
         "line": {
          "color": "green",
          "width": 1
         },
         "marker": {
          "size": 2
         },
         "mode": "lines+markers",
         "name": "V1 + V2",
         "type": "scatter",
         "x": [
          0,
          1
         ],
         "y": [
          0,
          1
         ]
        },
        {
         "fill": "toself",
         "fillcolor": "rgba(0, 100, 200, 0.2)",
         "line": {
          "color": "rgba(255,255,255,0)"
         },
         "name": "Area",
         "type": "scatter",
         "x": [
          0,
          1,
          1,
          0,
          0
         ],
         "y": [
          0,
          0,
          1,
          1,
          0
         ]
        }
       ],
       "frames": [
        {
         "data": [
          {
           "line": {
            "color": "blue",
            "width": 1
           },
           "marker": {
            "size": 2
           },
           "mode": "lines+markers",
           "name": "V1",
           "type": "scatter",
           "x": [
            0,
            1
           ],
           "y": [
            0,
            0
           ]
          },
          {
           "line": {
            "color": "red",
            "width": 1
           },
           "marker": {
            "size": 2
           },
           "mode": "lines+markers",
           "name": "V2",
           "type": "scatter",
           "x": [
            0,
            0
           ],
           "y": [
            0,
            1
           ]
          },
          {
           "line": {
            "color": "green",
            "width": 1
           },
           "marker": {
            "size": 2
           },
           "mode": "lines+markers",
           "name": "V1 + V2",
           "type": "scatter",
           "x": [
            0,
            1
           ],
           "y": [
            0,
            1
           ]
          },
          {
           "fill": "toself",
           "fillcolor": "rgba(0, 100, 200, 0.2)",
           "line": {
            "color": "rgba(255,255,255,0)"
           },
           "name": "Area",
           "type": "scatter",
           "x": [
            0,
            1,
            1,
            0,
            0
           ],
           "y": [
            0,
            0,
            1,
            1,
            0
           ]
          }
         ]
        },
        {
         "data": [
          {
           "line": {
            "color": "blue",
            "width": 1
           },
           "marker": {
            "size": 2
           },
           "mode": "lines+markers",
           "name": "V1",
           "type": "scatter",
           "x": [
            0,
            1
           ],
           "y": [
            0,
            0.02040816326530612
           ]
          },
          {
           "line": {
            "color": "red",
            "width": 1
           },
           "marker": {
            "size": 2
           },
           "mode": "lines+markers",
           "name": "V2",
           "type": "scatter",
           "x": [
            0,
            0.02040816326530612
           ],
           "y": [
            0,
            1
           ]
          },
          {
           "line": {
            "color": "green",
            "width": 1
           },
           "marker": {
            "size": 2
           },
           "mode": "lines+markers",
           "name": "V1 + V2",
           "type": "scatter",
           "x": [
            0,
            1.0204081632653061
           ],
           "y": [
            0,
            1.0204081632653061
           ]
          },
          {
           "fill": "toself",
           "fillcolor": "rgba(0, 100, 200, 0.2)",
           "line": {
            "color": "rgba(255,255,255,0)"
           },
           "name": "Area",
           "type": "scatter",
           "x": [
            0,
            1,
            1.0204081632653061,
            0.02040816326530612,
            0
           ],
           "y": [
            0,
            0.02040816326530612,
            1.0204081632653061,
            1,
            0
           ]
          }
         ]
        },
        {
         "data": [
          {
           "line": {
            "color": "blue",
            "width": 1
           },
           "marker": {
            "size": 2
           },
           "mode": "lines+markers",
           "name": "V1",
           "type": "scatter",
           "x": [
            0,
            1
           ],
           "y": [
            0,
            0.04081632653061224
           ]
          },
          {
           "line": {
            "color": "red",
            "width": 1
           },
           "marker": {
            "size": 2
           },
           "mode": "lines+markers",
           "name": "V2",
           "type": "scatter",
           "x": [
            0,
            0.04081632653061224
           ],
           "y": [
            0,
            1
           ]
          },
          {
           "line": {
            "color": "green",
            "width": 1
           },
           "marker": {
            "size": 2
           },
           "mode": "lines+markers",
           "name": "V1 + V2",
           "type": "scatter",
           "x": [
            0,
            1.0408163265306123
           ],
           "y": [
            0,
            1.0408163265306123
           ]
          },
          {
           "fill": "toself",
           "fillcolor": "rgba(0, 100, 200, 0.2)",
           "line": {
            "color": "rgba(255,255,255,0)"
           },
           "name": "Area",
           "type": "scatter",
           "x": [
            0,
            1,
            1.0408163265306123,
            0.04081632653061224,
            0
           ],
           "y": [
            0,
            0.04081632653061224,
            1.0408163265306123,
            1,
            0
           ]
          }
         ]
        },
        {
         "data": [
          {
           "line": {
            "color": "blue",
            "width": 1
           },
           "marker": {
            "size": 2
           },
           "mode": "lines+markers",
           "name": "V1",
           "type": "scatter",
           "x": [
            0,
            1
           ],
           "y": [
            0,
            0.061224489795918366
           ]
          },
          {
           "line": {
            "color": "red",
            "width": 1
           },
           "marker": {
            "size": 2
           },
           "mode": "lines+markers",
           "name": "V2",
           "type": "scatter",
           "x": [
            0,
            0.061224489795918366
           ],
           "y": [
            0,
            1
           ]
          },
          {
           "line": {
            "color": "green",
            "width": 1
           },
           "marker": {
            "size": 2
           },
           "mode": "lines+markers",
           "name": "V1 + V2",
           "type": "scatter",
           "x": [
            0,
            1.0612244897959184
           ],
           "y": [
            0,
            1.0612244897959184
           ]
          },
          {
           "fill": "toself",
           "fillcolor": "rgba(0, 100, 200, 0.2)",
           "line": {
            "color": "rgba(255,255,255,0)"
           },
           "name": "Area",
           "type": "scatter",
           "x": [
            0,
            1,
            1.0612244897959184,
            0.061224489795918366,
            0
           ],
           "y": [
            0,
            0.061224489795918366,
            1.0612244897959184,
            1,
            0
           ]
          }
         ]
        },
        {
         "data": [
          {
           "line": {
            "color": "blue",
            "width": 1
           },
           "marker": {
            "size": 2
           },
           "mode": "lines+markers",
           "name": "V1",
           "type": "scatter",
           "x": [
            0,
            1
           ],
           "y": [
            0,
            0.08163265306122448
           ]
          },
          {
           "line": {
            "color": "red",
            "width": 1
           },
           "marker": {
            "size": 2
           },
           "mode": "lines+markers",
           "name": "V2",
           "type": "scatter",
           "x": [
            0,
            0.08163265306122448
           ],
           "y": [
            0,
            1
           ]
          },
          {
           "line": {
            "color": "green",
            "width": 1
           },
           "marker": {
            "size": 2
           },
           "mode": "lines+markers",
           "name": "V1 + V2",
           "type": "scatter",
           "x": [
            0,
            1.0816326530612246
           ],
           "y": [
            0,
            1.0816326530612246
           ]
          },
          {
           "fill": "toself",
           "fillcolor": "rgba(0, 100, 200, 0.2)",
           "line": {
            "color": "rgba(255,255,255,0)"
           },
           "name": "Area",
           "type": "scatter",
           "x": [
            0,
            1,
            1.0816326530612246,
            0.08163265306122448,
            0
           ],
           "y": [
            0,
            0.08163265306122448,
            1.0816326530612246,
            1,
            0
           ]
          }
         ]
        },
        {
         "data": [
          {
           "line": {
            "color": "blue",
            "width": 1
           },
           "marker": {
            "size": 2
           },
           "mode": "lines+markers",
           "name": "V1",
           "type": "scatter",
           "x": [
            0,
            1
           ],
           "y": [
            0,
            0.1020408163265306
           ]
          },
          {
           "line": {
            "color": "red",
            "width": 1
           },
           "marker": {
            "size": 2
           },
           "mode": "lines+markers",
           "name": "V2",
           "type": "scatter",
           "x": [
            0,
            0.1020408163265306
           ],
           "y": [
            0,
            1
           ]
          },
          {
           "line": {
            "color": "green",
            "width": 1
           },
           "marker": {
            "size": 2
           },
           "mode": "lines+markers",
           "name": "V1 + V2",
           "type": "scatter",
           "x": [
            0,
            1.1020408163265305
           ],
           "y": [
            0,
            1.1020408163265305
           ]
          },
          {
           "fill": "toself",
           "fillcolor": "rgba(0, 100, 200, 0.2)",
           "line": {
            "color": "rgba(255,255,255,0)"
           },
           "name": "Area",
           "type": "scatter",
           "x": [
            0,
            1,
            1.1020408163265305,
            0.1020408163265306,
            0
           ],
           "y": [
            0,
            0.1020408163265306,
            1.1020408163265305,
            1,
            0
           ]
          }
         ]
        },
        {
         "data": [
          {
           "line": {
            "color": "blue",
            "width": 1
           },
           "marker": {
            "size": 2
           },
           "mode": "lines+markers",
           "name": "V1",
           "type": "scatter",
           "x": [
            0,
            1
           ],
           "y": [
            0,
            0.12244897959183673
           ]
          },
          {
           "line": {
            "color": "red",
            "width": 1
           },
           "marker": {
            "size": 2
           },
           "mode": "lines+markers",
           "name": "V2",
           "type": "scatter",
           "x": [
            0,
            0.12244897959183673
           ],
           "y": [
            0,
            1
           ]
          },
          {
           "line": {
            "color": "green",
            "width": 1
           },
           "marker": {
            "size": 2
           },
           "mode": "lines+markers",
           "name": "V1 + V2",
           "type": "scatter",
           "x": [
            0,
            1.1224489795918366
           ],
           "y": [
            0,
            1.1224489795918366
           ]
          },
          {
           "fill": "toself",
           "fillcolor": "rgba(0, 100, 200, 0.2)",
           "line": {
            "color": "rgba(255,255,255,0)"
           },
           "name": "Area",
           "type": "scatter",
           "x": [
            0,
            1,
            1.1224489795918366,
            0.12244897959183673,
            0
           ],
           "y": [
            0,
            0.12244897959183673,
            1.1224489795918366,
            1,
            0
           ]
          }
         ]
        },
        {
         "data": [
          {
           "line": {
            "color": "blue",
            "width": 1
           },
           "marker": {
            "size": 2
           },
           "mode": "lines+markers",
           "name": "V1",
           "type": "scatter",
           "x": [
            0,
            1
           ],
           "y": [
            0,
            0.14285714285714285
           ]
          },
          {
           "line": {
            "color": "red",
            "width": 1
           },
           "marker": {
            "size": 2
           },
           "mode": "lines+markers",
           "name": "V2",
           "type": "scatter",
           "x": [
            0,
            0.14285714285714285
           ],
           "y": [
            0,
            1
           ]
          },
          {
           "line": {
            "color": "green",
            "width": 1
           },
           "marker": {
            "size": 2
           },
           "mode": "lines+markers",
           "name": "V1 + V2",
           "type": "scatter",
           "x": [
            0,
            1.1428571428571428
           ],
           "y": [
            0,
            1.1428571428571428
           ]
          },
          {
           "fill": "toself",
           "fillcolor": "rgba(0, 100, 200, 0.2)",
           "line": {
            "color": "rgba(255,255,255,0)"
           },
           "name": "Area",
           "type": "scatter",
           "x": [
            0,
            1,
            1.1428571428571428,
            0.14285714285714285,
            0
           ],
           "y": [
            0,
            0.14285714285714285,
            1.1428571428571428,
            1,
            0
           ]
          }
         ]
        },
        {
         "data": [
          {
           "line": {
            "color": "blue",
            "width": 1
           },
           "marker": {
            "size": 2
           },
           "mode": "lines+markers",
           "name": "V1",
           "type": "scatter",
           "x": [
            0,
            1
           ],
           "y": [
            0,
            0.16326530612244897
           ]
          },
          {
           "line": {
            "color": "red",
            "width": 1
           },
           "marker": {
            "size": 2
           },
           "mode": "lines+markers",
           "name": "V2",
           "type": "scatter",
           "x": [
            0,
            0.16326530612244897
           ],
           "y": [
            0,
            1
           ]
          },
          {
           "line": {
            "color": "green",
            "width": 1
           },
           "marker": {
            "size": 2
           },
           "mode": "lines+markers",
           "name": "V1 + V2",
           "type": "scatter",
           "x": [
            0,
            1.163265306122449
           ],
           "y": [
            0,
            1.163265306122449
           ]
          },
          {
           "fill": "toself",
           "fillcolor": "rgba(0, 100, 200, 0.2)",
           "line": {
            "color": "rgba(255,255,255,0)"
           },
           "name": "Area",
           "type": "scatter",
           "x": [
            0,
            1,
            1.163265306122449,
            0.16326530612244897,
            0
           ],
           "y": [
            0,
            0.16326530612244897,
            1.163265306122449,
            1,
            0
           ]
          }
         ]
        },
        {
         "data": [
          {
           "line": {
            "color": "blue",
            "width": 1
           },
           "marker": {
            "size": 2
           },
           "mode": "lines+markers",
           "name": "V1",
           "type": "scatter",
           "x": [
            0,
            1
           ],
           "y": [
            0,
            0.18367346938775508
           ]
          },
          {
           "line": {
            "color": "red",
            "width": 1
           },
           "marker": {
            "size": 2
           },
           "mode": "lines+markers",
           "name": "V2",
           "type": "scatter",
           "x": [
            0,
            0.18367346938775508
           ],
           "y": [
            0,
            1
           ]
          },
          {
           "line": {
            "color": "green",
            "width": 1
           },
           "marker": {
            "size": 2
           },
           "mode": "lines+markers",
           "name": "V1 + V2",
           "type": "scatter",
           "x": [
            0,
            1.183673469387755
           ],
           "y": [
            0,
            1.183673469387755
           ]
          },
          {
           "fill": "toself",
           "fillcolor": "rgba(0, 100, 200, 0.2)",
           "line": {
            "color": "rgba(255,255,255,0)"
           },
           "name": "Area",
           "type": "scatter",
           "x": [
            0,
            1,
            1.183673469387755,
            0.18367346938775508,
            0
           ],
           "y": [
            0,
            0.18367346938775508,
            1.183673469387755,
            1,
            0
           ]
          }
         ]
        },
        {
         "data": [
          {
           "line": {
            "color": "blue",
            "width": 1
           },
           "marker": {
            "size": 2
           },
           "mode": "lines+markers",
           "name": "V1",
           "type": "scatter",
           "x": [
            0,
            1
           ],
           "y": [
            0,
            0.2040816326530612
           ]
          },
          {
           "line": {
            "color": "red",
            "width": 1
           },
           "marker": {
            "size": 2
           },
           "mode": "lines+markers",
           "name": "V2",
           "type": "scatter",
           "x": [
            0,
            0.2040816326530612
           ],
           "y": [
            0,
            1
           ]
          },
          {
           "line": {
            "color": "green",
            "width": 1
           },
           "marker": {
            "size": 2
           },
           "mode": "lines+markers",
           "name": "V1 + V2",
           "type": "scatter",
           "x": [
            0,
            1.2040816326530612
           ],
           "y": [
            0,
            1.2040816326530612
           ]
          },
          {
           "fill": "toself",
           "fillcolor": "rgba(0, 100, 200, 0.2)",
           "line": {
            "color": "rgba(255,255,255,0)"
           },
           "name": "Area",
           "type": "scatter",
           "x": [
            0,
            1,
            1.2040816326530612,
            0.2040816326530612,
            0
           ],
           "y": [
            0,
            0.2040816326530612,
            1.2040816326530612,
            1,
            0
           ]
          }
         ]
        },
        {
         "data": [
          {
           "line": {
            "color": "blue",
            "width": 1
           },
           "marker": {
            "size": 2
           },
           "mode": "lines+markers",
           "name": "V1",
           "type": "scatter",
           "x": [
            0,
            1
           ],
           "y": [
            0,
            0.22448979591836732
           ]
          },
          {
           "line": {
            "color": "red",
            "width": 1
           },
           "marker": {
            "size": 2
           },
           "mode": "lines+markers",
           "name": "V2",
           "type": "scatter",
           "x": [
            0,
            0.22448979591836732
           ],
           "y": [
            0,
            1
           ]
          },
          {
           "line": {
            "color": "green",
            "width": 1
           },
           "marker": {
            "size": 2
           },
           "mode": "lines+markers",
           "name": "V1 + V2",
           "type": "scatter",
           "x": [
            0,
            1.2244897959183674
           ],
           "y": [
            0,
            1.2244897959183674
           ]
          },
          {
           "fill": "toself",
           "fillcolor": "rgba(0, 100, 200, 0.2)",
           "line": {
            "color": "rgba(255,255,255,0)"
           },
           "name": "Area",
           "type": "scatter",
           "x": [
            0,
            1,
            1.2244897959183674,
            0.22448979591836732,
            0
           ],
           "y": [
            0,
            0.22448979591836732,
            1.2244897959183674,
            1,
            0
           ]
          }
         ]
        },
        {
         "data": [
          {
           "line": {
            "color": "blue",
            "width": 1
           },
           "marker": {
            "size": 2
           },
           "mode": "lines+markers",
           "name": "V1",
           "type": "scatter",
           "x": [
            0,
            1
           ],
           "y": [
            0,
            0.24489795918367346
           ]
          },
          {
           "line": {
            "color": "red",
            "width": 1
           },
           "marker": {
            "size": 2
           },
           "mode": "lines+markers",
           "name": "V2",
           "type": "scatter",
           "x": [
            0,
            0.24489795918367346
           ],
           "y": [
            0,
            1
           ]
          },
          {
           "line": {
            "color": "green",
            "width": 1
           },
           "marker": {
            "size": 2
           },
           "mode": "lines+markers",
           "name": "V1 + V2",
           "type": "scatter",
           "x": [
            0,
            1.2448979591836735
           ],
           "y": [
            0,
            1.2448979591836735
           ]
          },
          {
           "fill": "toself",
           "fillcolor": "rgba(0, 100, 200, 0.2)",
           "line": {
            "color": "rgba(255,255,255,0)"
           },
           "name": "Area",
           "type": "scatter",
           "x": [
            0,
            1,
            1.2448979591836735,
            0.24489795918367346,
            0
           ],
           "y": [
            0,
            0.24489795918367346,
            1.2448979591836735,
            1,
            0
           ]
          }
         ]
        },
        {
         "data": [
          {
           "line": {
            "color": "blue",
            "width": 1
           },
           "marker": {
            "size": 2
           },
           "mode": "lines+markers",
           "name": "V1",
           "type": "scatter",
           "x": [
            0,
            1
           ],
           "y": [
            0,
            0.26530612244897955
           ]
          },
          {
           "line": {
            "color": "red",
            "width": 1
           },
           "marker": {
            "size": 2
           },
           "mode": "lines+markers",
           "name": "V2",
           "type": "scatter",
           "x": [
            0,
            0.26530612244897955
           ],
           "y": [
            0,
            1
           ]
          },
          {
           "line": {
            "color": "green",
            "width": 1
           },
           "marker": {
            "size": 2
           },
           "mode": "lines+markers",
           "name": "V1 + V2",
           "type": "scatter",
           "x": [
            0,
            1.2653061224489797
           ],
           "y": [
            0,
            1.2653061224489797
           ]
          },
          {
           "fill": "toself",
           "fillcolor": "rgba(0, 100, 200, 0.2)",
           "line": {
            "color": "rgba(255,255,255,0)"
           },
           "name": "Area",
           "type": "scatter",
           "x": [
            0,
            1,
            1.2653061224489797,
            0.26530612244897955,
            0
           ],
           "y": [
            0,
            0.26530612244897955,
            1.2653061224489797,
            1,
            0
           ]
          }
         ]
        },
        {
         "data": [
          {
           "line": {
            "color": "blue",
            "width": 1
           },
           "marker": {
            "size": 2
           },
           "mode": "lines+markers",
           "name": "V1",
           "type": "scatter",
           "x": [
            0,
            1
           ],
           "y": [
            0,
            0.2857142857142857
           ]
          },
          {
           "line": {
            "color": "red",
            "width": 1
           },
           "marker": {
            "size": 2
           },
           "mode": "lines+markers",
           "name": "V2",
           "type": "scatter",
           "x": [
            0,
            0.2857142857142857
           ],
           "y": [
            0,
            1
           ]
          },
          {
           "line": {
            "color": "green",
            "width": 1
           },
           "marker": {
            "size": 2
           },
           "mode": "lines+markers",
           "name": "V1 + V2",
           "type": "scatter",
           "x": [
            0,
            1.2857142857142856
           ],
           "y": [
            0,
            1.2857142857142856
           ]
          },
          {
           "fill": "toself",
           "fillcolor": "rgba(0, 100, 200, 0.2)",
           "line": {
            "color": "rgba(255,255,255,0)"
           },
           "name": "Area",
           "type": "scatter",
           "x": [
            0,
            1,
            1.2857142857142856,
            0.2857142857142857,
            0
           ],
           "y": [
            0,
            0.2857142857142857,
            1.2857142857142856,
            1,
            0
           ]
          }
         ]
        },
        {
         "data": [
          {
           "line": {
            "color": "blue",
            "width": 1
           },
           "marker": {
            "size": 2
           },
           "mode": "lines+markers",
           "name": "V1",
           "type": "scatter",
           "x": [
            0,
            1
           ],
           "y": [
            0,
            0.3061224489795918
           ]
          },
          {
           "line": {
            "color": "red",
            "width": 1
           },
           "marker": {
            "size": 2
           },
           "mode": "lines+markers",
           "name": "V2",
           "type": "scatter",
           "x": [
            0,
            0.3061224489795918
           ],
           "y": [
            0,
            1
           ]
          },
          {
           "line": {
            "color": "green",
            "width": 1
           },
           "marker": {
            "size": 2
           },
           "mode": "lines+markers",
           "name": "V1 + V2",
           "type": "scatter",
           "x": [
            0,
            1.3061224489795917
           ],
           "y": [
            0,
            1.3061224489795917
           ]
          },
          {
           "fill": "toself",
           "fillcolor": "rgba(0, 100, 200, 0.2)",
           "line": {
            "color": "rgba(255,255,255,0)"
           },
           "name": "Area",
           "type": "scatter",
           "x": [
            0,
            1,
            1.3061224489795917,
            0.3061224489795918,
            0
           ],
           "y": [
            0,
            0.3061224489795918,
            1.3061224489795917,
            1,
            0
           ]
          }
         ]
        },
        {
         "data": [
          {
           "line": {
            "color": "blue",
            "width": 1
           },
           "marker": {
            "size": 2
           },
           "mode": "lines+markers",
           "name": "V1",
           "type": "scatter",
           "x": [
            0,
            1
           ],
           "y": [
            0,
            0.32653061224489793
           ]
          },
          {
           "line": {
            "color": "red",
            "width": 1
           },
           "marker": {
            "size": 2
           },
           "mode": "lines+markers",
           "name": "V2",
           "type": "scatter",
           "x": [
            0,
            0.32653061224489793
           ],
           "y": [
            0,
            1
           ]
          },
          {
           "line": {
            "color": "green",
            "width": 1
           },
           "marker": {
            "size": 2
           },
           "mode": "lines+markers",
           "name": "V1 + V2",
           "type": "scatter",
           "x": [
            0,
            1.3265306122448979
           ],
           "y": [
            0,
            1.3265306122448979
           ]
          },
          {
           "fill": "toself",
           "fillcolor": "rgba(0, 100, 200, 0.2)",
           "line": {
            "color": "rgba(255,255,255,0)"
           },
           "name": "Area",
           "type": "scatter",
           "x": [
            0,
            1,
            1.3265306122448979,
            0.32653061224489793,
            0
           ],
           "y": [
            0,
            0.32653061224489793,
            1.3265306122448979,
            1,
            0
           ]
          }
         ]
        },
        {
         "data": [
          {
           "line": {
            "color": "blue",
            "width": 1
           },
           "marker": {
            "size": 2
           },
           "mode": "lines+markers",
           "name": "V1",
           "type": "scatter",
           "x": [
            0,
            1
           ],
           "y": [
            0,
            0.3469387755102041
           ]
          },
          {
           "line": {
            "color": "red",
            "width": 1
           },
           "marker": {
            "size": 2
           },
           "mode": "lines+markers",
           "name": "V2",
           "type": "scatter",
           "x": [
            0,
            0.3469387755102041
           ],
           "y": [
            0,
            1
           ]
          },
          {
           "line": {
            "color": "green",
            "width": 1
           },
           "marker": {
            "size": 2
           },
           "mode": "lines+markers",
           "name": "V1 + V2",
           "type": "scatter",
           "x": [
            0,
            1.346938775510204
           ],
           "y": [
            0,
            1.346938775510204
           ]
          },
          {
           "fill": "toself",
           "fillcolor": "rgba(0, 100, 200, 0.2)",
           "line": {
            "color": "rgba(255,255,255,0)"
           },
           "name": "Area",
           "type": "scatter",
           "x": [
            0,
            1,
            1.346938775510204,
            0.3469387755102041,
            0
           ],
           "y": [
            0,
            0.3469387755102041,
            1.346938775510204,
            1,
            0
           ]
          }
         ]
        },
        {
         "data": [
          {
           "line": {
            "color": "blue",
            "width": 1
           },
           "marker": {
            "size": 2
           },
           "mode": "lines+markers",
           "name": "V1",
           "type": "scatter",
           "x": [
            0,
            1
           ],
           "y": [
            0,
            0.36734693877551017
           ]
          },
          {
           "line": {
            "color": "red",
            "width": 1
           },
           "marker": {
            "size": 2
           },
           "mode": "lines+markers",
           "name": "V2",
           "type": "scatter",
           "x": [
            0,
            0.36734693877551017
           ],
           "y": [
            0,
            1
           ]
          },
          {
           "line": {
            "color": "green",
            "width": 1
           },
           "marker": {
            "size": 2
           },
           "mode": "lines+markers",
           "name": "V1 + V2",
           "type": "scatter",
           "x": [
            0,
            1.3673469387755102
           ],
           "y": [
            0,
            1.3673469387755102
           ]
          },
          {
           "fill": "toself",
           "fillcolor": "rgba(0, 100, 200, 0.2)",
           "line": {
            "color": "rgba(255,255,255,0)"
           },
           "name": "Area",
           "type": "scatter",
           "x": [
            0,
            1,
            1.3673469387755102,
            0.36734693877551017,
            0
           ],
           "y": [
            0,
            0.36734693877551017,
            1.3673469387755102,
            1,
            0
           ]
          }
         ]
        },
        {
         "data": [
          {
           "line": {
            "color": "blue",
            "width": 1
           },
           "marker": {
            "size": 2
           },
           "mode": "lines+markers",
           "name": "V1",
           "type": "scatter",
           "x": [
            0,
            1
           ],
           "y": [
            0,
            0.3877551020408163
           ]
          },
          {
           "line": {
            "color": "red",
            "width": 1
           },
           "marker": {
            "size": 2
           },
           "mode": "lines+markers",
           "name": "V2",
           "type": "scatter",
           "x": [
            0,
            0.3877551020408163
           ],
           "y": [
            0,
            1
           ]
          },
          {
           "line": {
            "color": "green",
            "width": 1
           },
           "marker": {
            "size": 2
           },
           "mode": "lines+markers",
           "name": "V1 + V2",
           "type": "scatter",
           "x": [
            0,
            1.3877551020408163
           ],
           "y": [
            0,
            1.3877551020408163
           ]
          },
          {
           "fill": "toself",
           "fillcolor": "rgba(0, 100, 200, 0.2)",
           "line": {
            "color": "rgba(255,255,255,0)"
           },
           "name": "Area",
           "type": "scatter",
           "x": [
            0,
            1,
            1.3877551020408163,
            0.3877551020408163,
            0
           ],
           "y": [
            0,
            0.3877551020408163,
            1.3877551020408163,
            1,
            0
           ]
          }
         ]
        },
        {
         "data": [
          {
           "line": {
            "color": "blue",
            "width": 1
           },
           "marker": {
            "size": 2
           },
           "mode": "lines+markers",
           "name": "V1",
           "type": "scatter",
           "x": [
            0,
            1
           ],
           "y": [
            0,
            0.4081632653061224
           ]
          },
          {
           "line": {
            "color": "red",
            "width": 1
           },
           "marker": {
            "size": 2
           },
           "mode": "lines+markers",
           "name": "V2",
           "type": "scatter",
           "x": [
            0,
            0.4081632653061224
           ],
           "y": [
            0,
            1
           ]
          },
          {
           "line": {
            "color": "green",
            "width": 1
           },
           "marker": {
            "size": 2
           },
           "mode": "lines+markers",
           "name": "V1 + V2",
           "type": "scatter",
           "x": [
            0,
            1.4081632653061225
           ],
           "y": [
            0,
            1.4081632653061225
           ]
          },
          {
           "fill": "toself",
           "fillcolor": "rgba(0, 100, 200, 0.2)",
           "line": {
            "color": "rgba(255,255,255,0)"
           },
           "name": "Area",
           "type": "scatter",
           "x": [
            0,
            1,
            1.4081632653061225,
            0.4081632653061224,
            0
           ],
           "y": [
            0,
            0.4081632653061224,
            1.4081632653061225,
            1,
            0
           ]
          }
         ]
        },
        {
         "data": [
          {
           "line": {
            "color": "blue",
            "width": 1
           },
           "marker": {
            "size": 2
           },
           "mode": "lines+markers",
           "name": "V1",
           "type": "scatter",
           "x": [
            0,
            1
           ],
           "y": [
            0,
            0.42857142857142855
           ]
          },
          {
           "line": {
            "color": "red",
            "width": 1
           },
           "marker": {
            "size": 2
           },
           "mode": "lines+markers",
           "name": "V2",
           "type": "scatter",
           "x": [
            0,
            0.42857142857142855
           ],
           "y": [
            0,
            1
           ]
          },
          {
           "line": {
            "color": "green",
            "width": 1
           },
           "marker": {
            "size": 2
           },
           "mode": "lines+markers",
           "name": "V1 + V2",
           "type": "scatter",
           "x": [
            0,
            1.4285714285714286
           ],
           "y": [
            0,
            1.4285714285714286
           ]
          },
          {
           "fill": "toself",
           "fillcolor": "rgba(0, 100, 200, 0.2)",
           "line": {
            "color": "rgba(255,255,255,0)"
           },
           "name": "Area",
           "type": "scatter",
           "x": [
            0,
            1,
            1.4285714285714286,
            0.42857142857142855,
            0
           ],
           "y": [
            0,
            0.42857142857142855,
            1.4285714285714286,
            1,
            0
           ]
          }
         ]
        },
        {
         "data": [
          {
           "line": {
            "color": "blue",
            "width": 1
           },
           "marker": {
            "size": 2
           },
           "mode": "lines+markers",
           "name": "V1",
           "type": "scatter",
           "x": [
            0,
            1
           ],
           "y": [
            0,
            0.44897959183673464
           ]
          },
          {
           "line": {
            "color": "red",
            "width": 1
           },
           "marker": {
            "size": 2
           },
           "mode": "lines+markers",
           "name": "V2",
           "type": "scatter",
           "x": [
            0,
            0.44897959183673464
           ],
           "y": [
            0,
            1
           ]
          },
          {
           "line": {
            "color": "green",
            "width": 1
           },
           "marker": {
            "size": 2
           },
           "mode": "lines+markers",
           "name": "V1 + V2",
           "type": "scatter",
           "x": [
            0,
            1.4489795918367347
           ],
           "y": [
            0,
            1.4489795918367347
           ]
          },
          {
           "fill": "toself",
           "fillcolor": "rgba(0, 100, 200, 0.2)",
           "line": {
            "color": "rgba(255,255,255,0)"
           },
           "name": "Area",
           "type": "scatter",
           "x": [
            0,
            1,
            1.4489795918367347,
            0.44897959183673464,
            0
           ],
           "y": [
            0,
            0.44897959183673464,
            1.4489795918367347,
            1,
            0
           ]
          }
         ]
        },
        {
         "data": [
          {
           "line": {
            "color": "blue",
            "width": 1
           },
           "marker": {
            "size": 2
           },
           "mode": "lines+markers",
           "name": "V1",
           "type": "scatter",
           "x": [
            0,
            1
           ],
           "y": [
            0,
            0.4693877551020408
           ]
          },
          {
           "line": {
            "color": "red",
            "width": 1
           },
           "marker": {
            "size": 2
           },
           "mode": "lines+markers",
           "name": "V2",
           "type": "scatter",
           "x": [
            0,
            0.4693877551020408
           ],
           "y": [
            0,
            1
           ]
          },
          {
           "line": {
            "color": "green",
            "width": 1
           },
           "marker": {
            "size": 2
           },
           "mode": "lines+markers",
           "name": "V1 + V2",
           "type": "scatter",
           "x": [
            0,
            1.4693877551020407
           ],
           "y": [
            0,
            1.4693877551020407
           ]
          },
          {
           "fill": "toself",
           "fillcolor": "rgba(0, 100, 200, 0.2)",
           "line": {
            "color": "rgba(255,255,255,0)"
           },
           "name": "Area",
           "type": "scatter",
           "x": [
            0,
            1,
            1.4693877551020407,
            0.4693877551020408,
            0
           ],
           "y": [
            0,
            0.4693877551020408,
            1.4693877551020407,
            1,
            0
           ]
          }
         ]
        },
        {
         "data": [
          {
           "line": {
            "color": "blue",
            "width": 1
           },
           "marker": {
            "size": 2
           },
           "mode": "lines+markers",
           "name": "V1",
           "type": "scatter",
           "x": [
            0,
            1
           ],
           "y": [
            0,
            0.4897959183673469
           ]
          },
          {
           "line": {
            "color": "red",
            "width": 1
           },
           "marker": {
            "size": 2
           },
           "mode": "lines+markers",
           "name": "V2",
           "type": "scatter",
           "x": [
            0,
            0.4897959183673469
           ],
           "y": [
            0,
            1
           ]
          },
          {
           "line": {
            "color": "green",
            "width": 1
           },
           "marker": {
            "size": 2
           },
           "mode": "lines+markers",
           "name": "V1 + V2",
           "type": "scatter",
           "x": [
            0,
            1.489795918367347
           ],
           "y": [
            0,
            1.489795918367347
           ]
          },
          {
           "fill": "toself",
           "fillcolor": "rgba(0, 100, 200, 0.2)",
           "line": {
            "color": "rgba(255,255,255,0)"
           },
           "name": "Area",
           "type": "scatter",
           "x": [
            0,
            1,
            1.489795918367347,
            0.4897959183673469,
            0
           ],
           "y": [
            0,
            0.4897959183673469,
            1.489795918367347,
            1,
            0
           ]
          }
         ]
        },
        {
         "data": [
          {
           "line": {
            "color": "blue",
            "width": 1
           },
           "marker": {
            "size": 2
           },
           "mode": "lines+markers",
           "name": "V1",
           "type": "scatter",
           "x": [
            0,
            1
           ],
           "y": [
            0,
            0.5102040816326531
           ]
          },
          {
           "line": {
            "color": "red",
            "width": 1
           },
           "marker": {
            "size": 2
           },
           "mode": "lines+markers",
           "name": "V2",
           "type": "scatter",
           "x": [
            0,
            0.5102040816326531
           ],
           "y": [
            0,
            1
           ]
          },
          {
           "line": {
            "color": "green",
            "width": 1
           },
           "marker": {
            "size": 2
           },
           "mode": "lines+markers",
           "name": "V1 + V2",
           "type": "scatter",
           "x": [
            0,
            1.510204081632653
           ],
           "y": [
            0,
            1.510204081632653
           ]
          },
          {
           "fill": "toself",
           "fillcolor": "rgba(0, 100, 200, 0.2)",
           "line": {
            "color": "rgba(255,255,255,0)"
           },
           "name": "Area",
           "type": "scatter",
           "x": [
            0,
            1,
            1.510204081632653,
            0.5102040816326531,
            0
           ],
           "y": [
            0,
            0.5102040816326531,
            1.510204081632653,
            1,
            0
           ]
          }
         ]
        },
        {
         "data": [
          {
           "line": {
            "color": "blue",
            "width": 1
           },
           "marker": {
            "size": 2
           },
           "mode": "lines+markers",
           "name": "V1",
           "type": "scatter",
           "x": [
            0,
            1
           ],
           "y": [
            0,
            0.5306122448979591
           ]
          },
          {
           "line": {
            "color": "red",
            "width": 1
           },
           "marker": {
            "size": 2
           },
           "mode": "lines+markers",
           "name": "V2",
           "type": "scatter",
           "x": [
            0,
            0.5306122448979591
           ],
           "y": [
            0,
            1
           ]
          },
          {
           "line": {
            "color": "green",
            "width": 1
           },
           "marker": {
            "size": 2
           },
           "mode": "lines+markers",
           "name": "V1 + V2",
           "type": "scatter",
           "x": [
            0,
            1.530612244897959
           ],
           "y": [
            0,
            1.530612244897959
           ]
          },
          {
           "fill": "toself",
           "fillcolor": "rgba(0, 100, 200, 0.2)",
           "line": {
            "color": "rgba(255,255,255,0)"
           },
           "name": "Area",
           "type": "scatter",
           "x": [
            0,
            1,
            1.530612244897959,
            0.5306122448979591,
            0
           ],
           "y": [
            0,
            0.5306122448979591,
            1.530612244897959,
            1,
            0
           ]
          }
         ]
        },
        {
         "data": [
          {
           "line": {
            "color": "blue",
            "width": 1
           },
           "marker": {
            "size": 2
           },
           "mode": "lines+markers",
           "name": "V1",
           "type": "scatter",
           "x": [
            0,
            1
           ],
           "y": [
            0,
            0.5510204081632653
           ]
          },
          {
           "line": {
            "color": "red",
            "width": 1
           },
           "marker": {
            "size": 2
           },
           "mode": "lines+markers",
           "name": "V2",
           "type": "scatter",
           "x": [
            0,
            0.5510204081632653
           ],
           "y": [
            0,
            1
           ]
          },
          {
           "line": {
            "color": "green",
            "width": 1
           },
           "marker": {
            "size": 2
           },
           "mode": "lines+markers",
           "name": "V1 + V2",
           "type": "scatter",
           "x": [
            0,
            1.5510204081632653
           ],
           "y": [
            0,
            1.5510204081632653
           ]
          },
          {
           "fill": "toself",
           "fillcolor": "rgba(0, 100, 200, 0.2)",
           "line": {
            "color": "rgba(255,255,255,0)"
           },
           "name": "Area",
           "type": "scatter",
           "x": [
            0,
            1,
            1.5510204081632653,
            0.5510204081632653,
            0
           ],
           "y": [
            0,
            0.5510204081632653,
            1.5510204081632653,
            1,
            0
           ]
          }
         ]
        },
        {
         "data": [
          {
           "line": {
            "color": "blue",
            "width": 1
           },
           "marker": {
            "size": 2
           },
           "mode": "lines+markers",
           "name": "V1",
           "type": "scatter",
           "x": [
            0,
            1
           ],
           "y": [
            0,
            0.5714285714285714
           ]
          },
          {
           "line": {
            "color": "red",
            "width": 1
           },
           "marker": {
            "size": 2
           },
           "mode": "lines+markers",
           "name": "V2",
           "type": "scatter",
           "x": [
            0,
            0.5714285714285714
           ],
           "y": [
            0,
            1
           ]
          },
          {
           "line": {
            "color": "green",
            "width": 1
           },
           "marker": {
            "size": 2
           },
           "mode": "lines+markers",
           "name": "V1 + V2",
           "type": "scatter",
           "x": [
            0,
            1.5714285714285714
           ],
           "y": [
            0,
            1.5714285714285714
           ]
          },
          {
           "fill": "toself",
           "fillcolor": "rgba(0, 100, 200, 0.2)",
           "line": {
            "color": "rgba(255,255,255,0)"
           },
           "name": "Area",
           "type": "scatter",
           "x": [
            0,
            1,
            1.5714285714285714,
            0.5714285714285714,
            0
           ],
           "y": [
            0,
            0.5714285714285714,
            1.5714285714285714,
            1,
            0
           ]
          }
         ]
        },
        {
         "data": [
          {
           "line": {
            "color": "blue",
            "width": 1
           },
           "marker": {
            "size": 2
           },
           "mode": "lines+markers",
           "name": "V1",
           "type": "scatter",
           "x": [
            0,
            1
           ],
           "y": [
            0,
            0.5918367346938775
           ]
          },
          {
           "line": {
            "color": "red",
            "width": 1
           },
           "marker": {
            "size": 2
           },
           "mode": "lines+markers",
           "name": "V2",
           "type": "scatter",
           "x": [
            0,
            0.5918367346938775
           ],
           "y": [
            0,
            1
           ]
          },
          {
           "line": {
            "color": "green",
            "width": 1
           },
           "marker": {
            "size": 2
           },
           "mode": "lines+markers",
           "name": "V1 + V2",
           "type": "scatter",
           "x": [
            0,
            1.5918367346938775
           ],
           "y": [
            0,
            1.5918367346938775
           ]
          },
          {
           "fill": "toself",
           "fillcolor": "rgba(0, 100, 200, 0.2)",
           "line": {
            "color": "rgba(255,255,255,0)"
           },
           "name": "Area",
           "type": "scatter",
           "x": [
            0,
            1,
            1.5918367346938775,
            0.5918367346938775,
            0
           ],
           "y": [
            0,
            0.5918367346938775,
            1.5918367346938775,
            1,
            0
           ]
          }
         ]
        },
        {
         "data": [
          {
           "line": {
            "color": "blue",
            "width": 1
           },
           "marker": {
            "size": 2
           },
           "mode": "lines+markers",
           "name": "V1",
           "type": "scatter",
           "x": [
            0,
            1
           ],
           "y": [
            0,
            0.6122448979591836
           ]
          },
          {
           "line": {
            "color": "red",
            "width": 1
           },
           "marker": {
            "size": 2
           },
           "mode": "lines+markers",
           "name": "V2",
           "type": "scatter",
           "x": [
            0,
            0.6122448979591836
           ],
           "y": [
            0,
            1
           ]
          },
          {
           "line": {
            "color": "green",
            "width": 1
           },
           "marker": {
            "size": 2
           },
           "mode": "lines+markers",
           "name": "V1 + V2",
           "type": "scatter",
           "x": [
            0,
            1.6122448979591835
           ],
           "y": [
            0,
            1.6122448979591835
           ]
          },
          {
           "fill": "toself",
           "fillcolor": "rgba(0, 100, 200, 0.2)",
           "line": {
            "color": "rgba(255,255,255,0)"
           },
           "name": "Area",
           "type": "scatter",
           "x": [
            0,
            1,
            1.6122448979591835,
            0.6122448979591836,
            0
           ],
           "y": [
            0,
            0.6122448979591836,
            1.6122448979591835,
            1,
            0
           ]
          }
         ]
        },
        {
         "data": [
          {
           "line": {
            "color": "blue",
            "width": 1
           },
           "marker": {
            "size": 2
           },
           "mode": "lines+markers",
           "name": "V1",
           "type": "scatter",
           "x": [
            0,
            1
           ],
           "y": [
            0,
            0.6326530612244897
           ]
          },
          {
           "line": {
            "color": "red",
            "width": 1
           },
           "marker": {
            "size": 2
           },
           "mode": "lines+markers",
           "name": "V2",
           "type": "scatter",
           "x": [
            0,
            0.6326530612244897
           ],
           "y": [
            0,
            1
           ]
          },
          {
           "line": {
            "color": "green",
            "width": 1
           },
           "marker": {
            "size": 2
           },
           "mode": "lines+markers",
           "name": "V1 + V2",
           "type": "scatter",
           "x": [
            0,
            1.6326530612244898
           ],
           "y": [
            0,
            1.6326530612244898
           ]
          },
          {
           "fill": "toself",
           "fillcolor": "rgba(0, 100, 200, 0.2)",
           "line": {
            "color": "rgba(255,255,255,0)"
           },
           "name": "Area",
           "type": "scatter",
           "x": [
            0,
            1,
            1.6326530612244898,
            0.6326530612244897,
            0
           ],
           "y": [
            0,
            0.6326530612244897,
            1.6326530612244898,
            1,
            0
           ]
          }
         ]
        },
        {
         "data": [
          {
           "line": {
            "color": "blue",
            "width": 1
           },
           "marker": {
            "size": 2
           },
           "mode": "lines+markers",
           "name": "V1",
           "type": "scatter",
           "x": [
            0,
            1
           ],
           "y": [
            0,
            0.6530612244897959
           ]
          },
          {
           "line": {
            "color": "red",
            "width": 1
           },
           "marker": {
            "size": 2
           },
           "mode": "lines+markers",
           "name": "V2",
           "type": "scatter",
           "x": [
            0,
            0.6530612244897959
           ],
           "y": [
            0,
            1
           ]
          },
          {
           "line": {
            "color": "green",
            "width": 1
           },
           "marker": {
            "size": 2
           },
           "mode": "lines+markers",
           "name": "V1 + V2",
           "type": "scatter",
           "x": [
            0,
            1.6530612244897958
           ],
           "y": [
            0,
            1.6530612244897958
           ]
          },
          {
           "fill": "toself",
           "fillcolor": "rgba(0, 100, 200, 0.2)",
           "line": {
            "color": "rgba(255,255,255,0)"
           },
           "name": "Area",
           "type": "scatter",
           "x": [
            0,
            1,
            1.6530612244897958,
            0.6530612244897959,
            0
           ],
           "y": [
            0,
            0.6530612244897959,
            1.6530612244897958,
            1,
            0
           ]
          }
         ]
        },
        {
         "data": [
          {
           "line": {
            "color": "blue",
            "width": 1
           },
           "marker": {
            "size": 2
           },
           "mode": "lines+markers",
           "name": "V1",
           "type": "scatter",
           "x": [
            0,
            1
           ],
           "y": [
            0,
            0.673469387755102
           ]
          },
          {
           "line": {
            "color": "red",
            "width": 1
           },
           "marker": {
            "size": 2
           },
           "mode": "lines+markers",
           "name": "V2",
           "type": "scatter",
           "x": [
            0,
            0.673469387755102
           ],
           "y": [
            0,
            1
           ]
          },
          {
           "line": {
            "color": "green",
            "width": 1
           },
           "marker": {
            "size": 2
           },
           "mode": "lines+markers",
           "name": "V1 + V2",
           "type": "scatter",
           "x": [
            0,
            1.6734693877551021
           ],
           "y": [
            0,
            1.6734693877551021
           ]
          },
          {
           "fill": "toself",
           "fillcolor": "rgba(0, 100, 200, 0.2)",
           "line": {
            "color": "rgba(255,255,255,0)"
           },
           "name": "Area",
           "type": "scatter",
           "x": [
            0,
            1,
            1.6734693877551021,
            0.673469387755102,
            0
           ],
           "y": [
            0,
            0.673469387755102,
            1.6734693877551021,
            1,
            0
           ]
          }
         ]
        },
        {
         "data": [
          {
           "line": {
            "color": "blue",
            "width": 1
           },
           "marker": {
            "size": 2
           },
           "mode": "lines+markers",
           "name": "V1",
           "type": "scatter",
           "x": [
            0,
            1
           ],
           "y": [
            0,
            0.6938775510204082
           ]
          },
          {
           "line": {
            "color": "red",
            "width": 1
           },
           "marker": {
            "size": 2
           },
           "mode": "lines+markers",
           "name": "V2",
           "type": "scatter",
           "x": [
            0,
            0.6938775510204082
           ],
           "y": [
            0,
            1
           ]
          },
          {
           "line": {
            "color": "green",
            "width": 1
           },
           "marker": {
            "size": 2
           },
           "mode": "lines+markers",
           "name": "V1 + V2",
           "type": "scatter",
           "x": [
            0,
            1.693877551020408
           ],
           "y": [
            0,
            1.693877551020408
           ]
          },
          {
           "fill": "toself",
           "fillcolor": "rgba(0, 100, 200, 0.2)",
           "line": {
            "color": "rgba(255,255,255,0)"
           },
           "name": "Area",
           "type": "scatter",
           "x": [
            0,
            1,
            1.693877551020408,
            0.6938775510204082,
            0
           ],
           "y": [
            0,
            0.6938775510204082,
            1.693877551020408,
            1,
            0
           ]
          }
         ]
        },
        {
         "data": [
          {
           "line": {
            "color": "blue",
            "width": 1
           },
           "marker": {
            "size": 2
           },
           "mode": "lines+markers",
           "name": "V1",
           "type": "scatter",
           "x": [
            0,
            1
           ],
           "y": [
            0,
            0.7142857142857142
           ]
          },
          {
           "line": {
            "color": "red",
            "width": 1
           },
           "marker": {
            "size": 2
           },
           "mode": "lines+markers",
           "name": "V2",
           "type": "scatter",
           "x": [
            0,
            0.7142857142857142
           ],
           "y": [
            0,
            1
           ]
          },
          {
           "line": {
            "color": "green",
            "width": 1
           },
           "marker": {
            "size": 2
           },
           "mode": "lines+markers",
           "name": "V1 + V2",
           "type": "scatter",
           "x": [
            0,
            1.7142857142857142
           ],
           "y": [
            0,
            1.7142857142857142
           ]
          },
          {
           "fill": "toself",
           "fillcolor": "rgba(0, 100, 200, 0.2)",
           "line": {
            "color": "rgba(255,255,255,0)"
           },
           "name": "Area",
           "type": "scatter",
           "x": [
            0,
            1,
            1.7142857142857142,
            0.7142857142857142,
            0
           ],
           "y": [
            0,
            0.7142857142857142,
            1.7142857142857142,
            1,
            0
           ]
          }
         ]
        },
        {
         "data": [
          {
           "line": {
            "color": "blue",
            "width": 1
           },
           "marker": {
            "size": 2
           },
           "mode": "lines+markers",
           "name": "V1",
           "type": "scatter",
           "x": [
            0,
            1
           ],
           "y": [
            0,
            0.7346938775510203
           ]
          },
          {
           "line": {
            "color": "red",
            "width": 1
           },
           "marker": {
            "size": 2
           },
           "mode": "lines+markers",
           "name": "V2",
           "type": "scatter",
           "x": [
            0,
            0.7346938775510203
           ],
           "y": [
            0,
            1
           ]
          },
          {
           "line": {
            "color": "green",
            "width": 1
           },
           "marker": {
            "size": 2
           },
           "mode": "lines+markers",
           "name": "V1 + V2",
           "type": "scatter",
           "x": [
            0,
            1.7346938775510203
           ],
           "y": [
            0,
            1.7346938775510203
           ]
          },
          {
           "fill": "toself",
           "fillcolor": "rgba(0, 100, 200, 0.2)",
           "line": {
            "color": "rgba(255,255,255,0)"
           },
           "name": "Area",
           "type": "scatter",
           "x": [
            0,
            1,
            1.7346938775510203,
            0.7346938775510203,
            0
           ],
           "y": [
            0,
            0.7346938775510203,
            1.7346938775510203,
            1,
            0
           ]
          }
         ]
        },
        {
         "data": [
          {
           "line": {
            "color": "blue",
            "width": 1
           },
           "marker": {
            "size": 2
           },
           "mode": "lines+markers",
           "name": "V1",
           "type": "scatter",
           "x": [
            0,
            1
           ],
           "y": [
            0,
            0.7551020408163265
           ]
          },
          {
           "line": {
            "color": "red",
            "width": 1
           },
           "marker": {
            "size": 2
           },
           "mode": "lines+markers",
           "name": "V2",
           "type": "scatter",
           "x": [
            0,
            0.7551020408163265
           ],
           "y": [
            0,
            1
           ]
          },
          {
           "line": {
            "color": "green",
            "width": 1
           },
           "marker": {
            "size": 2
           },
           "mode": "lines+markers",
           "name": "V1 + V2",
           "type": "scatter",
           "x": [
            0,
            1.7551020408163265
           ],
           "y": [
            0,
            1.7551020408163265
           ]
          },
          {
           "fill": "toself",
           "fillcolor": "rgba(0, 100, 200, 0.2)",
           "line": {
            "color": "rgba(255,255,255,0)"
           },
           "name": "Area",
           "type": "scatter",
           "x": [
            0,
            1,
            1.7551020408163265,
            0.7551020408163265,
            0
           ],
           "y": [
            0,
            0.7551020408163265,
            1.7551020408163265,
            1,
            0
           ]
          }
         ]
        },
        {
         "data": [
          {
           "line": {
            "color": "blue",
            "width": 1
           },
           "marker": {
            "size": 2
           },
           "mode": "lines+markers",
           "name": "V1",
           "type": "scatter",
           "x": [
            0,
            1
           ],
           "y": [
            0,
            0.7755102040816326
           ]
          },
          {
           "line": {
            "color": "red",
            "width": 1
           },
           "marker": {
            "size": 2
           },
           "mode": "lines+markers",
           "name": "V2",
           "type": "scatter",
           "x": [
            0,
            0.7755102040816326
           ],
           "y": [
            0,
            1
           ]
          },
          {
           "line": {
            "color": "green",
            "width": 1
           },
           "marker": {
            "size": 2
           },
           "mode": "lines+markers",
           "name": "V1 + V2",
           "type": "scatter",
           "x": [
            0,
            1.7755102040816326
           ],
           "y": [
            0,
            1.7755102040816326
           ]
          },
          {
           "fill": "toself",
           "fillcolor": "rgba(0, 100, 200, 0.2)",
           "line": {
            "color": "rgba(255,255,255,0)"
           },
           "name": "Area",
           "type": "scatter",
           "x": [
            0,
            1,
            1.7755102040816326,
            0.7755102040816326,
            0
           ],
           "y": [
            0,
            0.7755102040816326,
            1.7755102040816326,
            1,
            0
           ]
          }
         ]
        },
        {
         "data": [
          {
           "line": {
            "color": "blue",
            "width": 1
           },
           "marker": {
            "size": 2
           },
           "mode": "lines+markers",
           "name": "V1",
           "type": "scatter",
           "x": [
            0,
            1
           ],
           "y": [
            0,
            0.7959183673469387
           ]
          },
          {
           "line": {
            "color": "red",
            "width": 1
           },
           "marker": {
            "size": 2
           },
           "mode": "lines+markers",
           "name": "V2",
           "type": "scatter",
           "x": [
            0,
            0.7959183673469387
           ],
           "y": [
            0,
            1
           ]
          },
          {
           "line": {
            "color": "green",
            "width": 1
           },
           "marker": {
            "size": 2
           },
           "mode": "lines+markers",
           "name": "V1 + V2",
           "type": "scatter",
           "x": [
            0,
            1.7959183673469385
           ],
           "y": [
            0,
            1.7959183673469385
           ]
          },
          {
           "fill": "toself",
           "fillcolor": "rgba(0, 100, 200, 0.2)",
           "line": {
            "color": "rgba(255,255,255,0)"
           },
           "name": "Area",
           "type": "scatter",
           "x": [
            0,
            1,
            1.7959183673469385,
            0.7959183673469387,
            0
           ],
           "y": [
            0,
            0.7959183673469387,
            1.7959183673469385,
            1,
            0
           ]
          }
         ]
        },
        {
         "data": [
          {
           "line": {
            "color": "blue",
            "width": 1
           },
           "marker": {
            "size": 2
           },
           "mode": "lines+markers",
           "name": "V1",
           "type": "scatter",
           "x": [
            0,
            1
           ],
           "y": [
            0,
            0.8163265306122448
           ]
          },
          {
           "line": {
            "color": "red",
            "width": 1
           },
           "marker": {
            "size": 2
           },
           "mode": "lines+markers",
           "name": "V2",
           "type": "scatter",
           "x": [
            0,
            0.8163265306122448
           ],
           "y": [
            0,
            1
           ]
          },
          {
           "line": {
            "color": "green",
            "width": 1
           },
           "marker": {
            "size": 2
           },
           "mode": "lines+markers",
           "name": "V1 + V2",
           "type": "scatter",
           "x": [
            0,
            1.816326530612245
           ],
           "y": [
            0,
            1.816326530612245
           ]
          },
          {
           "fill": "toself",
           "fillcolor": "rgba(0, 100, 200, 0.2)",
           "line": {
            "color": "rgba(255,255,255,0)"
           },
           "name": "Area",
           "type": "scatter",
           "x": [
            0,
            1,
            1.816326530612245,
            0.8163265306122448,
            0
           ],
           "y": [
            0,
            0.8163265306122448,
            1.816326530612245,
            1,
            0
           ]
          }
         ]
        },
        {
         "data": [
          {
           "line": {
            "color": "blue",
            "width": 1
           },
           "marker": {
            "size": 2
           },
           "mode": "lines+markers",
           "name": "V1",
           "type": "scatter",
           "x": [
            0,
            1
           ],
           "y": [
            0,
            0.836734693877551
           ]
          },
          {
           "line": {
            "color": "red",
            "width": 1
           },
           "marker": {
            "size": 2
           },
           "mode": "lines+markers",
           "name": "V2",
           "type": "scatter",
           "x": [
            0,
            0.836734693877551
           ],
           "y": [
            0,
            1
           ]
          },
          {
           "line": {
            "color": "green",
            "width": 1
           },
           "marker": {
            "size": 2
           },
           "mode": "lines+markers",
           "name": "V1 + V2",
           "type": "scatter",
           "x": [
            0,
            1.8367346938775508
           ],
           "y": [
            0,
            1.8367346938775508
           ]
          },
          {
           "fill": "toself",
           "fillcolor": "rgba(0, 100, 200, 0.2)",
           "line": {
            "color": "rgba(255,255,255,0)"
           },
           "name": "Area",
           "type": "scatter",
           "x": [
            0,
            1,
            1.8367346938775508,
            0.836734693877551,
            0
           ],
           "y": [
            0,
            0.836734693877551,
            1.8367346938775508,
            1,
            0
           ]
          }
         ]
        },
        {
         "data": [
          {
           "line": {
            "color": "blue",
            "width": 1
           },
           "marker": {
            "size": 2
           },
           "mode": "lines+markers",
           "name": "V1",
           "type": "scatter",
           "x": [
            0,
            1
           ],
           "y": [
            0,
            0.8571428571428571
           ]
          },
          {
           "line": {
            "color": "red",
            "width": 1
           },
           "marker": {
            "size": 2
           },
           "mode": "lines+markers",
           "name": "V2",
           "type": "scatter",
           "x": [
            0,
            0.8571428571428571
           ],
           "y": [
            0,
            1
           ]
          },
          {
           "line": {
            "color": "green",
            "width": 1
           },
           "marker": {
            "size": 2
           },
           "mode": "lines+markers",
           "name": "V1 + V2",
           "type": "scatter",
           "x": [
            0,
            1.8571428571428572
           ],
           "y": [
            0,
            1.8571428571428572
           ]
          },
          {
           "fill": "toself",
           "fillcolor": "rgba(0, 100, 200, 0.2)",
           "line": {
            "color": "rgba(255,255,255,0)"
           },
           "name": "Area",
           "type": "scatter",
           "x": [
            0,
            1,
            1.8571428571428572,
            0.8571428571428571,
            0
           ],
           "y": [
            0,
            0.8571428571428571,
            1.8571428571428572,
            1,
            0
           ]
          }
         ]
        },
        {
         "data": [
          {
           "line": {
            "color": "blue",
            "width": 1
           },
           "marker": {
            "size": 2
           },
           "mode": "lines+markers",
           "name": "V1",
           "type": "scatter",
           "x": [
            0,
            1
           ],
           "y": [
            0,
            0.8775510204081632
           ]
          },
          {
           "line": {
            "color": "red",
            "width": 1
           },
           "marker": {
            "size": 2
           },
           "mode": "lines+markers",
           "name": "V2",
           "type": "scatter",
           "x": [
            0,
            0.8775510204081632
           ],
           "y": [
            0,
            1
           ]
          },
          {
           "line": {
            "color": "green",
            "width": 1
           },
           "marker": {
            "size": 2
           },
           "mode": "lines+markers",
           "name": "V1 + V2",
           "type": "scatter",
           "x": [
            0,
            1.8775510204081631
           ],
           "y": [
            0,
            1.8775510204081631
           ]
          },
          {
           "fill": "toself",
           "fillcolor": "rgba(0, 100, 200, 0.2)",
           "line": {
            "color": "rgba(255,255,255,0)"
           },
           "name": "Area",
           "type": "scatter",
           "x": [
            0,
            1,
            1.8775510204081631,
            0.8775510204081632,
            0
           ],
           "y": [
            0,
            0.8775510204081632,
            1.8775510204081631,
            1,
            0
           ]
          }
         ]
        },
        {
         "data": [
          {
           "line": {
            "color": "blue",
            "width": 1
           },
           "marker": {
            "size": 2
           },
           "mode": "lines+markers",
           "name": "V1",
           "type": "scatter",
           "x": [
            0,
            1
           ],
           "y": [
            0,
            0.8979591836734693
           ]
          },
          {
           "line": {
            "color": "red",
            "width": 1
           },
           "marker": {
            "size": 2
           },
           "mode": "lines+markers",
           "name": "V2",
           "type": "scatter",
           "x": [
            0,
            0.8979591836734693
           ],
           "y": [
            0,
            1
           ]
          },
          {
           "line": {
            "color": "green",
            "width": 1
           },
           "marker": {
            "size": 2
           },
           "mode": "lines+markers",
           "name": "V1 + V2",
           "type": "scatter",
           "x": [
            0,
            1.8979591836734693
           ],
           "y": [
            0,
            1.8979591836734693
           ]
          },
          {
           "fill": "toself",
           "fillcolor": "rgba(0, 100, 200, 0.2)",
           "line": {
            "color": "rgba(255,255,255,0)"
           },
           "name": "Area",
           "type": "scatter",
           "x": [
            0,
            1,
            1.8979591836734693,
            0.8979591836734693,
            0
           ],
           "y": [
            0,
            0.8979591836734693,
            1.8979591836734693,
            1,
            0
           ]
          }
         ]
        },
        {
         "data": [
          {
           "line": {
            "color": "blue",
            "width": 1
           },
           "marker": {
            "size": 2
           },
           "mode": "lines+markers",
           "name": "V1",
           "type": "scatter",
           "x": [
            0,
            1
           ],
           "y": [
            0,
            0.9183673469387754
           ]
          },
          {
           "line": {
            "color": "red",
            "width": 1
           },
           "marker": {
            "size": 2
           },
           "mode": "lines+markers",
           "name": "V2",
           "type": "scatter",
           "x": [
            0,
            0.9183673469387754
           ],
           "y": [
            0,
            1
           ]
          },
          {
           "line": {
            "color": "green",
            "width": 1
           },
           "marker": {
            "size": 2
           },
           "mode": "lines+markers",
           "name": "V1 + V2",
           "type": "scatter",
           "x": [
            0,
            1.9183673469387754
           ],
           "y": [
            0,
            1.9183673469387754
           ]
          },
          {
           "fill": "toself",
           "fillcolor": "rgba(0, 100, 200, 0.2)",
           "line": {
            "color": "rgba(255,255,255,0)"
           },
           "name": "Area",
           "type": "scatter",
           "x": [
            0,
            1,
            1.9183673469387754,
            0.9183673469387754,
            0
           ],
           "y": [
            0,
            0.9183673469387754,
            1.9183673469387754,
            1,
            0
           ]
          }
         ]
        },
        {
         "data": [
          {
           "line": {
            "color": "blue",
            "width": 1
           },
           "marker": {
            "size": 2
           },
           "mode": "lines+markers",
           "name": "V1",
           "type": "scatter",
           "x": [
            0,
            1
           ],
           "y": [
            0,
            0.9387755102040816
           ]
          },
          {
           "line": {
            "color": "red",
            "width": 1
           },
           "marker": {
            "size": 2
           },
           "mode": "lines+markers",
           "name": "V2",
           "type": "scatter",
           "x": [
            0,
            0.9387755102040816
           ],
           "y": [
            0,
            1
           ]
          },
          {
           "line": {
            "color": "green",
            "width": 1
           },
           "marker": {
            "size": 2
           },
           "mode": "lines+markers",
           "name": "V1 + V2",
           "type": "scatter",
           "x": [
            0,
            1.9387755102040816
           ],
           "y": [
            0,
            1.9387755102040816
           ]
          },
          {
           "fill": "toself",
           "fillcolor": "rgba(0, 100, 200, 0.2)",
           "line": {
            "color": "rgba(255,255,255,0)"
           },
           "name": "Area",
           "type": "scatter",
           "x": [
            0,
            1,
            1.9387755102040816,
            0.9387755102040816,
            0
           ],
           "y": [
            0,
            0.9387755102040816,
            1.9387755102040816,
            1,
            0
           ]
          }
         ]
        },
        {
         "data": [
          {
           "line": {
            "color": "blue",
            "width": 1
           },
           "marker": {
            "size": 2
           },
           "mode": "lines+markers",
           "name": "V1",
           "type": "scatter",
           "x": [
            0,
            1
           ],
           "y": [
            0,
            0.9591836734693877
           ]
          },
          {
           "line": {
            "color": "red",
            "width": 1
           },
           "marker": {
            "size": 2
           },
           "mode": "lines+markers",
           "name": "V2",
           "type": "scatter",
           "x": [
            0,
            0.9591836734693877
           ],
           "y": [
            0,
            1
           ]
          },
          {
           "line": {
            "color": "green",
            "width": 1
           },
           "marker": {
            "size": 2
           },
           "mode": "lines+markers",
           "name": "V1 + V2",
           "type": "scatter",
           "x": [
            0,
            1.9591836734693877
           ],
           "y": [
            0,
            1.9591836734693877
           ]
          },
          {
           "fill": "toself",
           "fillcolor": "rgba(0, 100, 200, 0.2)",
           "line": {
            "color": "rgba(255,255,255,0)"
           },
           "name": "Area",
           "type": "scatter",
           "x": [
            0,
            1,
            1.9591836734693877,
            0.9591836734693877,
            0
           ],
           "y": [
            0,
            0.9591836734693877,
            1.9591836734693877,
            1,
            0
           ]
          }
         ]
        },
        {
         "data": [
          {
           "line": {
            "color": "blue",
            "width": 1
           },
           "marker": {
            "size": 2
           },
           "mode": "lines+markers",
           "name": "V1",
           "type": "scatter",
           "x": [
            0,
            1
           ],
           "y": [
            0,
            0.9795918367346939
           ]
          },
          {
           "line": {
            "color": "red",
            "width": 1
           },
           "marker": {
            "size": 2
           },
           "mode": "lines+markers",
           "name": "V2",
           "type": "scatter",
           "x": [
            0,
            0.9795918367346939
           ],
           "y": [
            0,
            1
           ]
          },
          {
           "line": {
            "color": "green",
            "width": 1
           },
           "marker": {
            "size": 2
           },
           "mode": "lines+markers",
           "name": "V1 + V2",
           "type": "scatter",
           "x": [
            0,
            1.9795918367346939
           ],
           "y": [
            0,
            1.9795918367346939
           ]
          },
          {
           "fill": "toself",
           "fillcolor": "rgba(0, 100, 200, 0.2)",
           "line": {
            "color": "rgba(255,255,255,0)"
           },
           "name": "Area",
           "type": "scatter",
           "x": [
            0,
            1,
            1.9795918367346939,
            0.9795918367346939,
            0
           ],
           "y": [
            0,
            0.9795918367346939,
            1.9795918367346939,
            1,
            0
           ]
          }
         ]
        },
        {
         "data": [
          {
           "line": {
            "color": "blue",
            "width": 1
           },
           "marker": {
            "size": 2
           },
           "mode": "lines+markers",
           "name": "V1",
           "type": "scatter",
           "x": [
            0,
            1
           ],
           "y": [
            0,
            1
           ]
          },
          {
           "line": {
            "color": "red",
            "width": 1
           },
           "marker": {
            "size": 2
           },
           "mode": "lines+markers",
           "name": "V2",
           "type": "scatter",
           "x": [
            0,
            1
           ],
           "y": [
            0,
            1
           ]
          },
          {
           "line": {
            "color": "green",
            "width": 1
           },
           "marker": {
            "size": 2
           },
           "mode": "lines+markers",
           "name": "V1 + V2",
           "type": "scatter",
           "x": [
            0,
            2
           ],
           "y": [
            0,
            2
           ]
          },
          {
           "fill": "toself",
           "fillcolor": "rgba(0, 100, 200, 0.2)",
           "line": {
            "color": "rgba(255,255,255,0)"
           },
           "name": "Area",
           "type": "scatter",
           "x": [
            0,
            1,
            2,
            1,
            0
           ],
           "y": [
            0,
            1,
            2,
            1,
            0
           ]
          }
         ]
        }
       ],
       "layout": {
        "height": 450,
        "showlegend": true,
        "template": {
         "data": {
          "bar": [
           {
            "error_x": {
             "color": "#2a3f5f"
            },
            "error_y": {
             "color": "#2a3f5f"
            },
            "marker": {
             "line": {
              "color": "#E5ECF6",
              "width": 0.5
             },
             "pattern": {
              "fillmode": "overlay",
              "size": 10,
              "solidity": 0.2
             }
            },
            "type": "bar"
           }
          ],
          "barpolar": [
           {
            "marker": {
             "line": {
              "color": "#E5ECF6",
              "width": 0.5
             },
             "pattern": {
              "fillmode": "overlay",
              "size": 10,
              "solidity": 0.2
             }
            },
            "type": "barpolar"
           }
          ],
          "carpet": [
           {
            "aaxis": {
             "endlinecolor": "#2a3f5f",
             "gridcolor": "white",
             "linecolor": "white",
             "minorgridcolor": "white",
             "startlinecolor": "#2a3f5f"
            },
            "baxis": {
             "endlinecolor": "#2a3f5f",
             "gridcolor": "white",
             "linecolor": "white",
             "minorgridcolor": "white",
             "startlinecolor": "#2a3f5f"
            },
            "type": "carpet"
           }
          ],
          "choropleth": [
           {
            "colorbar": {
             "outlinewidth": 0,
             "ticks": ""
            },
            "type": "choropleth"
           }
          ],
          "contour": [
           {
            "colorbar": {
             "outlinewidth": 0,
             "ticks": ""
            },
            "colorscale": [
             [
              0,
              "#0d0887"
             ],
             [
              0.1111111111111111,
              "#46039f"
             ],
             [
              0.2222222222222222,
              "#7201a8"
             ],
             [
              0.3333333333333333,
              "#9c179e"
             ],
             [
              0.4444444444444444,
              "#bd3786"
             ],
             [
              0.5555555555555556,
              "#d8576b"
             ],
             [
              0.6666666666666666,
              "#ed7953"
             ],
             [
              0.7777777777777778,
              "#fb9f3a"
             ],
             [
              0.8888888888888888,
              "#fdca26"
             ],
             [
              1,
              "#f0f921"
             ]
            ],
            "type": "contour"
           }
          ],
          "contourcarpet": [
           {
            "colorbar": {
             "outlinewidth": 0,
             "ticks": ""
            },
            "type": "contourcarpet"
           }
          ],
          "heatmap": [
           {
            "colorbar": {
             "outlinewidth": 0,
             "ticks": ""
            },
            "colorscale": [
             [
              0,
              "#0d0887"
             ],
             [
              0.1111111111111111,
              "#46039f"
             ],
             [
              0.2222222222222222,
              "#7201a8"
             ],
             [
              0.3333333333333333,
              "#9c179e"
             ],
             [
              0.4444444444444444,
              "#bd3786"
             ],
             [
              0.5555555555555556,
              "#d8576b"
             ],
             [
              0.6666666666666666,
              "#ed7953"
             ],
             [
              0.7777777777777778,
              "#fb9f3a"
             ],
             [
              0.8888888888888888,
              "#fdca26"
             ],
             [
              1,
              "#f0f921"
             ]
            ],
            "type": "heatmap"
           }
          ],
          "heatmapgl": [
           {
            "colorbar": {
             "outlinewidth": 0,
             "ticks": ""
            },
            "colorscale": [
             [
              0,
              "#0d0887"
             ],
             [
              0.1111111111111111,
              "#46039f"
             ],
             [
              0.2222222222222222,
              "#7201a8"
             ],
             [
              0.3333333333333333,
              "#9c179e"
             ],
             [
              0.4444444444444444,
              "#bd3786"
             ],
             [
              0.5555555555555556,
              "#d8576b"
             ],
             [
              0.6666666666666666,
              "#ed7953"
             ],
             [
              0.7777777777777778,
              "#fb9f3a"
             ],
             [
              0.8888888888888888,
              "#fdca26"
             ],
             [
              1,
              "#f0f921"
             ]
            ],
            "type": "heatmapgl"
           }
          ],
          "histogram": [
           {
            "marker": {
             "pattern": {
              "fillmode": "overlay",
              "size": 10,
              "solidity": 0.2
             }
            },
            "type": "histogram"
           }
          ],
          "histogram2d": [
           {
            "colorbar": {
             "outlinewidth": 0,
             "ticks": ""
            },
            "colorscale": [
             [
              0,
              "#0d0887"
             ],
             [
              0.1111111111111111,
              "#46039f"
             ],
             [
              0.2222222222222222,
              "#7201a8"
             ],
             [
              0.3333333333333333,
              "#9c179e"
             ],
             [
              0.4444444444444444,
              "#bd3786"
             ],
             [
              0.5555555555555556,
              "#d8576b"
             ],
             [
              0.6666666666666666,
              "#ed7953"
             ],
             [
              0.7777777777777778,
              "#fb9f3a"
             ],
             [
              0.8888888888888888,
              "#fdca26"
             ],
             [
              1,
              "#f0f921"
             ]
            ],
            "type": "histogram2d"
           }
          ],
          "histogram2dcontour": [
           {
            "colorbar": {
             "outlinewidth": 0,
             "ticks": ""
            },
            "colorscale": [
             [
              0,
              "#0d0887"
             ],
             [
              0.1111111111111111,
              "#46039f"
             ],
             [
              0.2222222222222222,
              "#7201a8"
             ],
             [
              0.3333333333333333,
              "#9c179e"
             ],
             [
              0.4444444444444444,
              "#bd3786"
             ],
             [
              0.5555555555555556,
              "#d8576b"
             ],
             [
              0.6666666666666666,
              "#ed7953"
             ],
             [
              0.7777777777777778,
              "#fb9f3a"
             ],
             [
              0.8888888888888888,
              "#fdca26"
             ],
             [
              1,
              "#f0f921"
             ]
            ],
            "type": "histogram2dcontour"
           }
          ],
          "mesh3d": [
           {
            "colorbar": {
             "outlinewidth": 0,
             "ticks": ""
            },
            "type": "mesh3d"
           }
          ],
          "parcoords": [
           {
            "line": {
             "colorbar": {
              "outlinewidth": 0,
              "ticks": ""
             }
            },
            "type": "parcoords"
           }
          ],
          "pie": [
           {
            "automargin": true,
            "type": "pie"
           }
          ],
          "scatter": [
           {
            "fillpattern": {
             "fillmode": "overlay",
             "size": 10,
             "solidity": 0.2
            },
            "type": "scatter"
           }
          ],
          "scatter3d": [
           {
            "line": {
             "colorbar": {
              "outlinewidth": 0,
              "ticks": ""
             }
            },
            "marker": {
             "colorbar": {
              "outlinewidth": 0,
              "ticks": ""
             }
            },
            "type": "scatter3d"
           }
          ],
          "scattercarpet": [
           {
            "marker": {
             "colorbar": {
              "outlinewidth": 0,
              "ticks": ""
             }
            },
            "type": "scattercarpet"
           }
          ],
          "scattergeo": [
           {
            "marker": {
             "colorbar": {
              "outlinewidth": 0,
              "ticks": ""
             }
            },
            "type": "scattergeo"
           }
          ],
          "scattergl": [
           {
            "marker": {
             "colorbar": {
              "outlinewidth": 0,
              "ticks": ""
             }
            },
            "type": "scattergl"
           }
          ],
          "scattermapbox": [
           {
            "marker": {
             "colorbar": {
              "outlinewidth": 0,
              "ticks": ""
             }
            },
            "type": "scattermapbox"
           }
          ],
          "scatterpolar": [
           {
            "marker": {
             "colorbar": {
              "outlinewidth": 0,
              "ticks": ""
             }
            },
            "type": "scatterpolar"
           }
          ],
          "scatterpolargl": [
           {
            "marker": {
             "colorbar": {
              "outlinewidth": 0,
              "ticks": ""
             }
            },
            "type": "scatterpolargl"
           }
          ],
          "scatterternary": [
           {
            "marker": {
             "colorbar": {
              "outlinewidth": 0,
              "ticks": ""
             }
            },
            "type": "scatterternary"
           }
          ],
          "surface": [
           {
            "colorbar": {
             "outlinewidth": 0,
             "ticks": ""
            },
            "colorscale": [
             [
              0,
              "#0d0887"
             ],
             [
              0.1111111111111111,
              "#46039f"
             ],
             [
              0.2222222222222222,
              "#7201a8"
             ],
             [
              0.3333333333333333,
              "#9c179e"
             ],
             [
              0.4444444444444444,
              "#bd3786"
             ],
             [
              0.5555555555555556,
              "#d8576b"
             ],
             [
              0.6666666666666666,
              "#ed7953"
             ],
             [
              0.7777777777777778,
              "#fb9f3a"
             ],
             [
              0.8888888888888888,
              "#fdca26"
             ],
             [
              1,
              "#f0f921"
             ]
            ],
            "type": "surface"
           }
          ],
          "table": [
           {
            "cells": {
             "fill": {
              "color": "#EBF0F8"
             },
             "line": {
              "color": "white"
             }
            },
            "header": {
             "fill": {
              "color": "#C8D4E3"
             },
             "line": {
              "color": "white"
             }
            },
            "type": "table"
           }
          ]
         },
         "layout": {
          "annotationdefaults": {
           "arrowcolor": "#2a3f5f",
           "arrowhead": 0,
           "arrowwidth": 1
          },
          "autotypenumbers": "strict",
          "coloraxis": {
           "colorbar": {
            "outlinewidth": 0,
            "ticks": ""
           }
          },
          "colorscale": {
           "diverging": [
            [
             0,
             "#8e0152"
            ],
            [
             0.1,
             "#c51b7d"
            ],
            [
             0.2,
             "#de77ae"
            ],
            [
             0.3,
             "#f1b6da"
            ],
            [
             0.4,
             "#fde0ef"
            ],
            [
             0.5,
             "#f7f7f7"
            ],
            [
             0.6,
             "#e6f5d0"
            ],
            [
             0.7,
             "#b8e186"
            ],
            [
             0.8,
             "#7fbc41"
            ],
            [
             0.9,
             "#4d9221"
            ],
            [
             1,
             "#276419"
            ]
           ],
           "sequential": [
            [
             0,
             "#0d0887"
            ],
            [
             0.1111111111111111,
             "#46039f"
            ],
            [
             0.2222222222222222,
             "#7201a8"
            ],
            [
             0.3333333333333333,
             "#9c179e"
            ],
            [
             0.4444444444444444,
             "#bd3786"
            ],
            [
             0.5555555555555556,
             "#d8576b"
            ],
            [
             0.6666666666666666,
             "#ed7953"
            ],
            [
             0.7777777777777778,
             "#fb9f3a"
            ],
            [
             0.8888888888888888,
             "#fdca26"
            ],
            [
             1,
             "#f0f921"
            ]
           ],
           "sequentialminus": [
            [
             0,
             "#0d0887"
            ],
            [
             0.1111111111111111,
             "#46039f"
            ],
            [
             0.2222222222222222,
             "#7201a8"
            ],
            [
             0.3333333333333333,
             "#9c179e"
            ],
            [
             0.4444444444444444,
             "#bd3786"
            ],
            [
             0.5555555555555556,
             "#d8576b"
            ],
            [
             0.6666666666666666,
             "#ed7953"
            ],
            [
             0.7777777777777778,
             "#fb9f3a"
            ],
            [
             0.8888888888888888,
             "#fdca26"
            ],
            [
             1,
             "#f0f921"
            ]
           ]
          },
          "colorway": [
           "#636efa",
           "#EF553B",
           "#00cc96",
           "#ab63fa",
           "#FFA15A",
           "#19d3f3",
           "#FF6692",
           "#B6E880",
           "#FF97FF",
           "#FECB52"
          ],
          "font": {
           "color": "#2a3f5f"
          },
          "geo": {
           "bgcolor": "white",
           "lakecolor": "white",
           "landcolor": "#E5ECF6",
           "showlakes": true,
           "showland": true,
           "subunitcolor": "white"
          },
          "hoverlabel": {
           "align": "left"
          },
          "hovermode": "closest",
          "mapbox": {
           "style": "light"
          },
          "paper_bgcolor": "white",
          "plot_bgcolor": "#E5ECF6",
          "polar": {
           "angularaxis": {
            "gridcolor": "white",
            "linecolor": "white",
            "ticks": ""
           },
           "bgcolor": "#E5ECF6",
           "radialaxis": {
            "gridcolor": "white",
            "linecolor": "white",
            "ticks": ""
           }
          },
          "scene": {
           "xaxis": {
            "backgroundcolor": "#E5ECF6",
            "gridcolor": "white",
            "gridwidth": 2,
            "linecolor": "white",
            "showbackground": true,
            "ticks": "",
            "zerolinecolor": "white"
           },
           "yaxis": {
            "backgroundcolor": "#E5ECF6",
            "gridcolor": "white",
            "gridwidth": 2,
            "linecolor": "white",
            "showbackground": true,
            "ticks": "",
            "zerolinecolor": "white"
           },
           "zaxis": {
            "backgroundcolor": "#E5ECF6",
            "gridcolor": "white",
            "gridwidth": 2,
            "linecolor": "white",
            "showbackground": true,
            "ticks": "",
            "zerolinecolor": "white"
           }
          },
          "shapedefaults": {
           "line": {
            "color": "#2a3f5f"
           }
          },
          "ternary": {
           "aaxis": {
            "gridcolor": "white",
            "linecolor": "white",
            "ticks": ""
           },
           "baxis": {
            "gridcolor": "white",
            "linecolor": "white",
            "ticks": ""
           },
           "bgcolor": "#E5ECF6",
           "caxis": {
            "gridcolor": "white",
            "linecolor": "white",
            "ticks": ""
           }
          },
          "title": {
           "x": 0.05
          },
          "xaxis": {
           "automargin": true,
           "gridcolor": "white",
           "linecolor": "white",
           "ticks": "",
           "title": {
            "standoff": 15
           },
           "zerolinecolor": "white",
           "zerolinewidth": 2
          },
          "yaxis": {
           "automargin": true,
           "gridcolor": "white",
           "linecolor": "white",
           "ticks": "",
           "title": {
            "standoff": 15
           },
           "zerolinecolor": "white",
           "zerolinewidth": 2
          }
         }
        },
        "title": {
         "text": "Area and stretching in the x direction"
        },
        "updatemenus": [
         {
          "buttons": [
           {
            "args": [
             null,
             {
              "frame": {
               "duration": 50,
               "redraw": false
              },
              "fromcurrent": true,
              "transition": {
               "duration": 10
              }
             }
            ],
            "label": "Play",
            "method": "animate"
           }
          ],
          "type": "buttons"
         }
        ],
        "width": 600,
        "xaxis": {
         "range": [
          -2.3,
          2.3
         ],
         "title": {
          "text": "x"
         }
        },
        "yaxis": {
         "range": [
          -2.3,
          2.3
         ],
         "title": {
          "text": "y"
         }
        }
       }
      }
     },
     "metadata": {},
     "output_type": "display_data"
    }
   ],
   "source": [
    "# Sheer in the x and y direction\n",
    "\n",
    "fig6 = create_animation(unit1, unit2, [\n",
    "    np.array([[1, x], [y, 1]]) for x, y in zip(np.linspace(0, 1, 50), np.linspace(0, 1, 50))\n",
    "])\n",
    "fig6.show()\n"
   ]
  },
  {
   "cell_type": "code",
   "execution_count": null,
   "id": "84850417",
   "metadata": {},
   "outputs": [
    {
     "data": {
      "application/vnd.plotly.v1+json": {
       "config": {
        "plotlyServerURL": "https://plot.ly"
       },
       "data": [
        {
         "line": {
          "color": "blue",
          "width": 1
         },
         "marker": {
          "size": 2
         },
         "mode": "lines+markers",
         "name": "V1",
         "type": "scatter",
         "x": [
          0,
          1
         ],
         "y": [
          0,
          0
         ]
        },
        {
         "line": {
          "color": "red",
          "width": 1
         },
         "marker": {
          "size": 2
         },
         "mode": "lines+markers",
         "name": "V2",
         "type": "scatter",
         "x": [
          0,
          0
         ],
         "y": [
          0,
          1
         ]
        },
        {
         "line": {
          "color": "green",
          "width": 1
         },
         "marker": {
          "size": 2
         },
         "mode": "lines+markers",
         "name": "V1 + V2",
         "type": "scatter",
         "x": [
          0,
          1
         ],
         "y": [
          0,
          1
         ]
        },
        {
         "fill": "toself",
         "fillcolor": "rgba(0, 100, 200, 0.2)",
         "line": {
          "color": "rgba(255,255,255,0)"
         },
         "name": "Area",
         "type": "scatter",
         "x": [
          0,
          1,
          1,
          0,
          0
         ],
         "y": [
          0,
          0,
          1,
          1,
          0
         ]
        }
       ],
       "frames": [
        {
         "data": [
          {
           "line": {
            "color": "blue",
            "width": 1
           },
           "marker": {
            "size": 2
           },
           "mode": "lines+markers",
           "name": "V1",
           "type": "scatter",
           "x": [
            0,
            1
           ],
           "y": [
            0,
            0
           ]
          },
          {
           "line": {
            "color": "red",
            "width": 1
           },
           "marker": {
            "size": 2
           },
           "mode": "lines+markers",
           "name": "V2",
           "type": "scatter",
           "x": [
            0,
            0
           ],
           "y": [
            0,
            1
           ]
          },
          {
           "line": {
            "color": "green",
            "width": 1
           },
           "marker": {
            "size": 2
           },
           "mode": "lines+markers",
           "name": "V1 + V2",
           "type": "scatter",
           "x": [
            0,
            1
           ],
           "y": [
            0,
            1
           ]
          },
          {
           "fill": "toself",
           "fillcolor": "rgba(0, 100, 200, 0.2)",
           "line": {
            "color": "rgba(255,255,255,0)"
           },
           "name": "Area",
           "type": "scatter",
           "x": [
            0,
            1,
            1,
            0,
            0
           ],
           "y": [
            0,
            0,
            1,
            1,
            0
           ]
          }
         ]
        },
        {
         "data": [
          {
           "line": {
            "color": "blue",
            "width": 1
           },
           "marker": {
            "size": 2
           },
           "mode": "lines+markers",
           "name": "V1",
           "type": "scatter",
           "x": [
            0,
            1.0204081632653061
           ],
           "y": [
            0,
            0.02040816326530612
           ]
          },
          {
           "line": {
            "color": "red",
            "width": 1
           },
           "marker": {
            "size": 2
           },
           "mode": "lines+markers",
           "name": "V2",
           "type": "scatter",
           "x": [
            0,
            0.02040816326530612
           ],
           "y": [
            0,
            1.0204081632653061
           ]
          },
          {
           "line": {
            "color": "green",
            "width": 1
           },
           "marker": {
            "size": 2
           },
           "mode": "lines+markers",
           "name": "V1 + V2",
           "type": "scatter",
           "x": [
            0,
            1.0408163265306123
           ],
           "y": [
            0,
            1.0408163265306123
           ]
          },
          {
           "fill": "toself",
           "fillcolor": "rgba(0, 100, 200, 0.2)",
           "line": {
            "color": "rgba(255,255,255,0)"
           },
           "name": "Area",
           "type": "scatter",
           "x": [
            0,
            1.0204081632653061,
            1.0408163265306123,
            0.02040816326530612,
            0
           ],
           "y": [
            0,
            0.02040816326530612,
            1.0408163265306123,
            1.0204081632653061,
            0
           ]
          }
         ]
        },
        {
         "data": [
          {
           "line": {
            "color": "blue",
            "width": 1
           },
           "marker": {
            "size": 2
           },
           "mode": "lines+markers",
           "name": "V1",
           "type": "scatter",
           "x": [
            0,
            1.0408163265306123
           ],
           "y": [
            0,
            0.04081632653061224
           ]
          },
          {
           "line": {
            "color": "red",
            "width": 1
           },
           "marker": {
            "size": 2
           },
           "mode": "lines+markers",
           "name": "V2",
           "type": "scatter",
           "x": [
            0,
            0.04081632653061224
           ],
           "y": [
            0,
            1.0408163265306123
           ]
          },
          {
           "line": {
            "color": "green",
            "width": 1
           },
           "marker": {
            "size": 2
           },
           "mode": "lines+markers",
           "name": "V1 + V2",
           "type": "scatter",
           "x": [
            0,
            1.0816326530612246
           ],
           "y": [
            0,
            1.0816326530612246
           ]
          },
          {
           "fill": "toself",
           "fillcolor": "rgba(0, 100, 200, 0.2)",
           "line": {
            "color": "rgba(255,255,255,0)"
           },
           "name": "Area",
           "type": "scatter",
           "x": [
            0,
            1.0408163265306123,
            1.0816326530612246,
            0.04081632653061224,
            0
           ],
           "y": [
            0,
            0.04081632653061224,
            1.0816326530612246,
            1.0408163265306123,
            0
           ]
          }
         ]
        },
        {
         "data": [
          {
           "line": {
            "color": "blue",
            "width": 1
           },
           "marker": {
            "size": 2
           },
           "mode": "lines+markers",
           "name": "V1",
           "type": "scatter",
           "x": [
            0,
            1.0612244897959184
           ],
           "y": [
            0,
            0.061224489795918366
           ]
          },
          {
           "line": {
            "color": "red",
            "width": 1
           },
           "marker": {
            "size": 2
           },
           "mode": "lines+markers",
           "name": "V2",
           "type": "scatter",
           "x": [
            0,
            0.061224489795918366
           ],
           "y": [
            0,
            1.0612244897959184
           ]
          },
          {
           "line": {
            "color": "green",
            "width": 1
           },
           "marker": {
            "size": 2
           },
           "mode": "lines+markers",
           "name": "V1 + V2",
           "type": "scatter",
           "x": [
            0,
            1.1224489795918369
           ],
           "y": [
            0,
            1.1224489795918369
           ]
          },
          {
           "fill": "toself",
           "fillcolor": "rgba(0, 100, 200, 0.2)",
           "line": {
            "color": "rgba(255,255,255,0)"
           },
           "name": "Area",
           "type": "scatter",
           "x": [
            0,
            1.0612244897959184,
            1.1224489795918369,
            0.061224489795918366,
            0
           ],
           "y": [
            0,
            0.061224489795918366,
            1.1224489795918369,
            1.0612244897959184,
            0
           ]
          }
         ]
        },
        {
         "data": [
          {
           "line": {
            "color": "blue",
            "width": 1
           },
           "marker": {
            "size": 2
           },
           "mode": "lines+markers",
           "name": "V1",
           "type": "scatter",
           "x": [
            0,
            1.0816326530612246
           ],
           "y": [
            0,
            0.08163265306122448
           ]
          },
          {
           "line": {
            "color": "red",
            "width": 1
           },
           "marker": {
            "size": 2
           },
           "mode": "lines+markers",
           "name": "V2",
           "type": "scatter",
           "x": [
            0,
            0.08163265306122448
           ],
           "y": [
            0,
            1.0816326530612246
           ]
          },
          {
           "line": {
            "color": "green",
            "width": 1
           },
           "marker": {
            "size": 2
           },
           "mode": "lines+markers",
           "name": "V1 + V2",
           "type": "scatter",
           "x": [
            0,
            1.1632653061224492
           ],
           "y": [
            0,
            1.1632653061224492
           ]
          },
          {
           "fill": "toself",
           "fillcolor": "rgba(0, 100, 200, 0.2)",
           "line": {
            "color": "rgba(255,255,255,0)"
           },
           "name": "Area",
           "type": "scatter",
           "x": [
            0,
            1.0816326530612246,
            1.1632653061224492,
            0.08163265306122448,
            0
           ],
           "y": [
            0,
            0.08163265306122448,
            1.1632653061224492,
            1.0816326530612246,
            0
           ]
          }
         ]
        },
        {
         "data": [
          {
           "line": {
            "color": "blue",
            "width": 1
           },
           "marker": {
            "size": 2
           },
           "mode": "lines+markers",
           "name": "V1",
           "type": "scatter",
           "x": [
            0,
            1.1020408163265305
           ],
           "y": [
            0,
            0.1020408163265306
           ]
          },
          {
           "line": {
            "color": "red",
            "width": 1
           },
           "marker": {
            "size": 2
           },
           "mode": "lines+markers",
           "name": "V2",
           "type": "scatter",
           "x": [
            0,
            0.1020408163265306
           ],
           "y": [
            0,
            1.1020408163265305
           ]
          },
          {
           "line": {
            "color": "green",
            "width": 1
           },
           "marker": {
            "size": 2
           },
           "mode": "lines+markers",
           "name": "V1 + V2",
           "type": "scatter",
           "x": [
            0,
            1.204081632653061
           ],
           "y": [
            0,
            1.204081632653061
           ]
          },
          {
           "fill": "toself",
           "fillcolor": "rgba(0, 100, 200, 0.2)",
           "line": {
            "color": "rgba(255,255,255,0)"
           },
           "name": "Area",
           "type": "scatter",
           "x": [
            0,
            1.1020408163265305,
            1.204081632653061,
            0.1020408163265306,
            0
           ],
           "y": [
            0,
            0.1020408163265306,
            1.204081632653061,
            1.1020408163265305,
            0
           ]
          }
         ]
        },
        {
         "data": [
          {
           "line": {
            "color": "blue",
            "width": 1
           },
           "marker": {
            "size": 2
           },
           "mode": "lines+markers",
           "name": "V1",
           "type": "scatter",
           "x": [
            0,
            1.1224489795918366
           ],
           "y": [
            0,
            0.12244897959183673
           ]
          },
          {
           "line": {
            "color": "red",
            "width": 1
           },
           "marker": {
            "size": 2
           },
           "mode": "lines+markers",
           "name": "V2",
           "type": "scatter",
           "x": [
            0,
            0.12244897959183673
           ],
           "y": [
            0,
            1.1224489795918366
           ]
          },
          {
           "line": {
            "color": "green",
            "width": 1
           },
           "marker": {
            "size": 2
           },
           "mode": "lines+markers",
           "name": "V1 + V2",
           "type": "scatter",
           "x": [
            0,
            1.2448979591836733
           ],
           "y": [
            0,
            1.2448979591836733
           ]
          },
          {
           "fill": "toself",
           "fillcolor": "rgba(0, 100, 200, 0.2)",
           "line": {
            "color": "rgba(255,255,255,0)"
           },
           "name": "Area",
           "type": "scatter",
           "x": [
            0,
            1.1224489795918366,
            1.2448979591836733,
            0.12244897959183673,
            0
           ],
           "y": [
            0,
            0.12244897959183673,
            1.2448979591836733,
            1.1224489795918366,
            0
           ]
          }
         ]
        },
        {
         "data": [
          {
           "line": {
            "color": "blue",
            "width": 1
           },
           "marker": {
            "size": 2
           },
           "mode": "lines+markers",
           "name": "V1",
           "type": "scatter",
           "x": [
            0,
            1.1428571428571428
           ],
           "y": [
            0,
            0.14285714285714285
           ]
          },
          {
           "line": {
            "color": "red",
            "width": 1
           },
           "marker": {
            "size": 2
           },
           "mode": "lines+markers",
           "name": "V2",
           "type": "scatter",
           "x": [
            0,
            0.14285714285714285
           ],
           "y": [
            0,
            1.1428571428571428
           ]
          },
          {
           "line": {
            "color": "green",
            "width": 1
           },
           "marker": {
            "size": 2
           },
           "mode": "lines+markers",
           "name": "V1 + V2",
           "type": "scatter",
           "x": [
            0,
            1.2857142857142856
           ],
           "y": [
            0,
            1.2857142857142856
           ]
          },
          {
           "fill": "toself",
           "fillcolor": "rgba(0, 100, 200, 0.2)",
           "line": {
            "color": "rgba(255,255,255,0)"
           },
           "name": "Area",
           "type": "scatter",
           "x": [
            0,
            1.1428571428571428,
            1.2857142857142856,
            0.14285714285714285,
            0
           ],
           "y": [
            0,
            0.14285714285714285,
            1.2857142857142856,
            1.1428571428571428,
            0
           ]
          }
         ]
        },
        {
         "data": [
          {
           "line": {
            "color": "blue",
            "width": 1
           },
           "marker": {
            "size": 2
           },
           "mode": "lines+markers",
           "name": "V1",
           "type": "scatter",
           "x": [
            0,
            1.163265306122449
           ],
           "y": [
            0,
            0.16326530612244897
           ]
          },
          {
           "line": {
            "color": "red",
            "width": 1
           },
           "marker": {
            "size": 2
           },
           "mode": "lines+markers",
           "name": "V2",
           "type": "scatter",
           "x": [
            0,
            0.16326530612244897
           ],
           "y": [
            0,
            1.163265306122449
           ]
          },
          {
           "line": {
            "color": "green",
            "width": 1
           },
           "marker": {
            "size": 2
           },
           "mode": "lines+markers",
           "name": "V1 + V2",
           "type": "scatter",
           "x": [
            0,
            1.3265306122448979
           ],
           "y": [
            0,
            1.3265306122448979
           ]
          },
          {
           "fill": "toself",
           "fillcolor": "rgba(0, 100, 200, 0.2)",
           "line": {
            "color": "rgba(255,255,255,0)"
           },
           "name": "Area",
           "type": "scatter",
           "x": [
            0,
            1.163265306122449,
            1.3265306122448979,
            0.16326530612244897,
            0
           ],
           "y": [
            0,
            0.16326530612244897,
            1.3265306122448979,
            1.163265306122449,
            0
           ]
          }
         ]
        },
        {
         "data": [
          {
           "line": {
            "color": "blue",
            "width": 1
           },
           "marker": {
            "size": 2
           },
           "mode": "lines+markers",
           "name": "V1",
           "type": "scatter",
           "x": [
            0,
            1.183673469387755
           ],
           "y": [
            0,
            0.18367346938775508
           ]
          },
          {
           "line": {
            "color": "red",
            "width": 1
           },
           "marker": {
            "size": 2
           },
           "mode": "lines+markers",
           "name": "V2",
           "type": "scatter",
           "x": [
            0,
            0.18367346938775508
           ],
           "y": [
            0,
            1.183673469387755
           ]
          },
          {
           "line": {
            "color": "green",
            "width": 1
           },
           "marker": {
            "size": 2
           },
           "mode": "lines+markers",
           "name": "V1 + V2",
           "type": "scatter",
           "x": [
            0,
            1.3673469387755102
           ],
           "y": [
            0,
            1.3673469387755102
           ]
          },
          {
           "fill": "toself",
           "fillcolor": "rgba(0, 100, 200, 0.2)",
           "line": {
            "color": "rgba(255,255,255,0)"
           },
           "name": "Area",
           "type": "scatter",
           "x": [
            0,
            1.183673469387755,
            1.3673469387755102,
            0.18367346938775508,
            0
           ],
           "y": [
            0,
            0.18367346938775508,
            1.3673469387755102,
            1.183673469387755,
            0
           ]
          }
         ]
        },
        {
         "data": [
          {
           "line": {
            "color": "blue",
            "width": 1
           },
           "marker": {
            "size": 2
           },
           "mode": "lines+markers",
           "name": "V1",
           "type": "scatter",
           "x": [
            0,
            1.2040816326530612
           ],
           "y": [
            0,
            0.2040816326530612
           ]
          },
          {
           "line": {
            "color": "red",
            "width": 1
           },
           "marker": {
            "size": 2
           },
           "mode": "lines+markers",
           "name": "V2",
           "type": "scatter",
           "x": [
            0,
            0.2040816326530612
           ],
           "y": [
            0,
            1.2040816326530612
           ]
          },
          {
           "line": {
            "color": "green",
            "width": 1
           },
           "marker": {
            "size": 2
           },
           "mode": "lines+markers",
           "name": "V1 + V2",
           "type": "scatter",
           "x": [
            0,
            1.4081632653061225
           ],
           "y": [
            0,
            1.4081632653061225
           ]
          },
          {
           "fill": "toself",
           "fillcolor": "rgba(0, 100, 200, 0.2)",
           "line": {
            "color": "rgba(255,255,255,0)"
           },
           "name": "Area",
           "type": "scatter",
           "x": [
            0,
            1.2040816326530612,
            1.4081632653061225,
            0.2040816326530612,
            0
           ],
           "y": [
            0,
            0.2040816326530612,
            1.4081632653061225,
            1.2040816326530612,
            0
           ]
          }
         ]
        },
        {
         "data": [
          {
           "line": {
            "color": "blue",
            "width": 1
           },
           "marker": {
            "size": 2
           },
           "mode": "lines+markers",
           "name": "V1",
           "type": "scatter",
           "x": [
            0,
            1.2244897959183674
           ],
           "y": [
            0,
            0.22448979591836732
           ]
          },
          {
           "line": {
            "color": "red",
            "width": 1
           },
           "marker": {
            "size": 2
           },
           "mode": "lines+markers",
           "name": "V2",
           "type": "scatter",
           "x": [
            0,
            0.22448979591836732
           ],
           "y": [
            0,
            1.2244897959183674
           ]
          },
          {
           "line": {
            "color": "green",
            "width": 1
           },
           "marker": {
            "size": 2
           },
           "mode": "lines+markers",
           "name": "V1 + V2",
           "type": "scatter",
           "x": [
            0,
            1.4489795918367347
           ],
           "y": [
            0,
            1.4489795918367347
           ]
          },
          {
           "fill": "toself",
           "fillcolor": "rgba(0, 100, 200, 0.2)",
           "line": {
            "color": "rgba(255,255,255,0)"
           },
           "name": "Area",
           "type": "scatter",
           "x": [
            0,
            1.2244897959183674,
            1.4489795918367347,
            0.22448979591836732,
            0
           ],
           "y": [
            0,
            0.22448979591836732,
            1.4489795918367347,
            1.2244897959183674,
            0
           ]
          }
         ]
        },
        {
         "data": [
          {
           "line": {
            "color": "blue",
            "width": 1
           },
           "marker": {
            "size": 2
           },
           "mode": "lines+markers",
           "name": "V1",
           "type": "scatter",
           "x": [
            0,
            1.2448979591836735
           ],
           "y": [
            0,
            0.24489795918367346
           ]
          },
          {
           "line": {
            "color": "red",
            "width": 1
           },
           "marker": {
            "size": 2
           },
           "mode": "lines+markers",
           "name": "V2",
           "type": "scatter",
           "x": [
            0,
            0.24489795918367346
           ],
           "y": [
            0,
            1.2448979591836735
           ]
          },
          {
           "line": {
            "color": "green",
            "width": 1
           },
           "marker": {
            "size": 2
           },
           "mode": "lines+markers",
           "name": "V1 + V2",
           "type": "scatter",
           "x": [
            0,
            1.489795918367347
           ],
           "y": [
            0,
            1.489795918367347
           ]
          },
          {
           "fill": "toself",
           "fillcolor": "rgba(0, 100, 200, 0.2)",
           "line": {
            "color": "rgba(255,255,255,0)"
           },
           "name": "Area",
           "type": "scatter",
           "x": [
            0,
            1.2448979591836735,
            1.489795918367347,
            0.24489795918367346,
            0
           ],
           "y": [
            0,
            0.24489795918367346,
            1.489795918367347,
            1.2448979591836735,
            0
           ]
          }
         ]
        },
        {
         "data": [
          {
           "line": {
            "color": "blue",
            "width": 1
           },
           "marker": {
            "size": 2
           },
           "mode": "lines+markers",
           "name": "V1",
           "type": "scatter",
           "x": [
            0,
            1.2653061224489797
           ],
           "y": [
            0,
            0.26530612244897955
           ]
          },
          {
           "line": {
            "color": "red",
            "width": 1
           },
           "marker": {
            "size": 2
           },
           "mode": "lines+markers",
           "name": "V2",
           "type": "scatter",
           "x": [
            0,
            0.26530612244897955
           ],
           "y": [
            0,
            1.2653061224489797
           ]
          },
          {
           "line": {
            "color": "green",
            "width": 1
           },
           "marker": {
            "size": 2
           },
           "mode": "lines+markers",
           "name": "V1 + V2",
           "type": "scatter",
           "x": [
            0,
            1.5306122448979593
           ],
           "y": [
            0,
            1.5306122448979593
           ]
          },
          {
           "fill": "toself",
           "fillcolor": "rgba(0, 100, 200, 0.2)",
           "line": {
            "color": "rgba(255,255,255,0)"
           },
           "name": "Area",
           "type": "scatter",
           "x": [
            0,
            1.2653061224489797,
            1.5306122448979593,
            0.26530612244897955,
            0
           ],
           "y": [
            0,
            0.26530612244897955,
            1.5306122448979593,
            1.2653061224489797,
            0
           ]
          }
         ]
        },
        {
         "data": [
          {
           "line": {
            "color": "blue",
            "width": 1
           },
           "marker": {
            "size": 2
           },
           "mode": "lines+markers",
           "name": "V1",
           "type": "scatter",
           "x": [
            0,
            1.2857142857142856
           ],
           "y": [
            0,
            0.2857142857142857
           ]
          },
          {
           "line": {
            "color": "red",
            "width": 1
           },
           "marker": {
            "size": 2
           },
           "mode": "lines+markers",
           "name": "V2",
           "type": "scatter",
           "x": [
            0,
            0.2857142857142857
           ],
           "y": [
            0,
            1.2857142857142856
           ]
          },
          {
           "line": {
            "color": "green",
            "width": 1
           },
           "marker": {
            "size": 2
           },
           "mode": "lines+markers",
           "name": "V1 + V2",
           "type": "scatter",
           "x": [
            0,
            1.5714285714285712
           ],
           "y": [
            0,
            1.5714285714285712
           ]
          },
          {
           "fill": "toself",
           "fillcolor": "rgba(0, 100, 200, 0.2)",
           "line": {
            "color": "rgba(255,255,255,0)"
           },
           "name": "Area",
           "type": "scatter",
           "x": [
            0,
            1.2857142857142856,
            1.5714285714285712,
            0.2857142857142857,
            0
           ],
           "y": [
            0,
            0.2857142857142857,
            1.5714285714285712,
            1.2857142857142856,
            0
           ]
          }
         ]
        },
        {
         "data": [
          {
           "line": {
            "color": "blue",
            "width": 1
           },
           "marker": {
            "size": 2
           },
           "mode": "lines+markers",
           "name": "V1",
           "type": "scatter",
           "x": [
            0,
            1.3061224489795917
           ],
           "y": [
            0,
            0.3061224489795918
           ]
          },
          {
           "line": {
            "color": "red",
            "width": 1
           },
           "marker": {
            "size": 2
           },
           "mode": "lines+markers",
           "name": "V2",
           "type": "scatter",
           "x": [
            0,
            0.3061224489795918
           ],
           "y": [
            0,
            1.3061224489795917
           ]
          },
          {
           "line": {
            "color": "green",
            "width": 1
           },
           "marker": {
            "size": 2
           },
           "mode": "lines+markers",
           "name": "V1 + V2",
           "type": "scatter",
           "x": [
            0,
            1.6122448979591835
           ],
           "y": [
            0,
            1.6122448979591835
           ]
          },
          {
           "fill": "toself",
           "fillcolor": "rgba(0, 100, 200, 0.2)",
           "line": {
            "color": "rgba(255,255,255,0)"
           },
           "name": "Area",
           "type": "scatter",
           "x": [
            0,
            1.3061224489795917,
            1.6122448979591835,
            0.3061224489795918,
            0
           ],
           "y": [
            0,
            0.3061224489795918,
            1.6122448979591835,
            1.3061224489795917,
            0
           ]
          }
         ]
        },
        {
         "data": [
          {
           "line": {
            "color": "blue",
            "width": 1
           },
           "marker": {
            "size": 2
           },
           "mode": "lines+markers",
           "name": "V1",
           "type": "scatter",
           "x": [
            0,
            1.3265306122448979
           ],
           "y": [
            0,
            0.32653061224489793
           ]
          },
          {
           "line": {
            "color": "red",
            "width": 1
           },
           "marker": {
            "size": 2
           },
           "mode": "lines+markers",
           "name": "V2",
           "type": "scatter",
           "x": [
            0,
            0.32653061224489793
           ],
           "y": [
            0,
            1.3265306122448979
           ]
          },
          {
           "line": {
            "color": "green",
            "width": 1
           },
           "marker": {
            "size": 2
           },
           "mode": "lines+markers",
           "name": "V1 + V2",
           "type": "scatter",
           "x": [
            0,
            1.6530612244897958
           ],
           "y": [
            0,
            1.6530612244897958
           ]
          },
          {
           "fill": "toself",
           "fillcolor": "rgba(0, 100, 200, 0.2)",
           "line": {
            "color": "rgba(255,255,255,0)"
           },
           "name": "Area",
           "type": "scatter",
           "x": [
            0,
            1.3265306122448979,
            1.6530612244897958,
            0.32653061224489793,
            0
           ],
           "y": [
            0,
            0.32653061224489793,
            1.6530612244897958,
            1.3265306122448979,
            0
           ]
          }
         ]
        },
        {
         "data": [
          {
           "line": {
            "color": "blue",
            "width": 1
           },
           "marker": {
            "size": 2
           },
           "mode": "lines+markers",
           "name": "V1",
           "type": "scatter",
           "x": [
            0,
            1.346938775510204
           ],
           "y": [
            0,
            0.3469387755102041
           ]
          },
          {
           "line": {
            "color": "red",
            "width": 1
           },
           "marker": {
            "size": 2
           },
           "mode": "lines+markers",
           "name": "V2",
           "type": "scatter",
           "x": [
            0,
            0.3469387755102041
           ],
           "y": [
            0,
            1.346938775510204
           ]
          },
          {
           "line": {
            "color": "green",
            "width": 1
           },
           "marker": {
            "size": 2
           },
           "mode": "lines+markers",
           "name": "V1 + V2",
           "type": "scatter",
           "x": [
            0,
            1.693877551020408
           ],
           "y": [
            0,
            1.693877551020408
           ]
          },
          {
           "fill": "toself",
           "fillcolor": "rgba(0, 100, 200, 0.2)",
           "line": {
            "color": "rgba(255,255,255,0)"
           },
           "name": "Area",
           "type": "scatter",
           "x": [
            0,
            1.346938775510204,
            1.693877551020408,
            0.3469387755102041,
            0
           ],
           "y": [
            0,
            0.3469387755102041,
            1.693877551020408,
            1.346938775510204,
            0
           ]
          }
         ]
        },
        {
         "data": [
          {
           "line": {
            "color": "blue",
            "width": 1
           },
           "marker": {
            "size": 2
           },
           "mode": "lines+markers",
           "name": "V1",
           "type": "scatter",
           "x": [
            0,
            1.3673469387755102
           ],
           "y": [
            0,
            0.36734693877551017
           ]
          },
          {
           "line": {
            "color": "red",
            "width": 1
           },
           "marker": {
            "size": 2
           },
           "mode": "lines+markers",
           "name": "V2",
           "type": "scatter",
           "x": [
            0,
            0.36734693877551017
           ],
           "y": [
            0,
            1.3673469387755102
           ]
          },
          {
           "line": {
            "color": "green",
            "width": 1
           },
           "marker": {
            "size": 2
           },
           "mode": "lines+markers",
           "name": "V1 + V2",
           "type": "scatter",
           "x": [
            0,
            1.7346938775510203
           ],
           "y": [
            0,
            1.7346938775510203
           ]
          },
          {
           "fill": "toself",
           "fillcolor": "rgba(0, 100, 200, 0.2)",
           "line": {
            "color": "rgba(255,255,255,0)"
           },
           "name": "Area",
           "type": "scatter",
           "x": [
            0,
            1.3673469387755102,
            1.7346938775510203,
            0.36734693877551017,
            0
           ],
           "y": [
            0,
            0.36734693877551017,
            1.7346938775510203,
            1.3673469387755102,
            0
           ]
          }
         ]
        },
        {
         "data": [
          {
           "line": {
            "color": "blue",
            "width": 1
           },
           "marker": {
            "size": 2
           },
           "mode": "lines+markers",
           "name": "V1",
           "type": "scatter",
           "x": [
            0,
            1.3877551020408163
           ],
           "y": [
            0,
            0.3877551020408163
           ]
          },
          {
           "line": {
            "color": "red",
            "width": 1
           },
           "marker": {
            "size": 2
           },
           "mode": "lines+markers",
           "name": "V2",
           "type": "scatter",
           "x": [
            0,
            0.3877551020408163
           ],
           "y": [
            0,
            1.3877551020408163
           ]
          },
          {
           "line": {
            "color": "green",
            "width": 1
           },
           "marker": {
            "size": 2
           },
           "mode": "lines+markers",
           "name": "V1 + V2",
           "type": "scatter",
           "x": [
            0,
            1.7755102040816326
           ],
           "y": [
            0,
            1.7755102040816326
           ]
          },
          {
           "fill": "toself",
           "fillcolor": "rgba(0, 100, 200, 0.2)",
           "line": {
            "color": "rgba(255,255,255,0)"
           },
           "name": "Area",
           "type": "scatter",
           "x": [
            0,
            1.3877551020408163,
            1.7755102040816326,
            0.3877551020408163,
            0
           ],
           "y": [
            0,
            0.3877551020408163,
            1.7755102040816326,
            1.3877551020408163,
            0
           ]
          }
         ]
        },
        {
         "data": [
          {
           "line": {
            "color": "blue",
            "width": 1
           },
           "marker": {
            "size": 2
           },
           "mode": "lines+markers",
           "name": "V1",
           "type": "scatter",
           "x": [
            0,
            1.4081632653061225
           ],
           "y": [
            0,
            0.4081632653061224
           ]
          },
          {
           "line": {
            "color": "red",
            "width": 1
           },
           "marker": {
            "size": 2
           },
           "mode": "lines+markers",
           "name": "V2",
           "type": "scatter",
           "x": [
            0,
            0.4081632653061224
           ],
           "y": [
            0,
            1.4081632653061225
           ]
          },
          {
           "line": {
            "color": "green",
            "width": 1
           },
           "marker": {
            "size": 2
           },
           "mode": "lines+markers",
           "name": "V1 + V2",
           "type": "scatter",
           "x": [
            0,
            1.816326530612245
           ],
           "y": [
            0,
            1.816326530612245
           ]
          },
          {
           "fill": "toself",
           "fillcolor": "rgba(0, 100, 200, 0.2)",
           "line": {
            "color": "rgba(255,255,255,0)"
           },
           "name": "Area",
           "type": "scatter",
           "x": [
            0,
            1.4081632653061225,
            1.816326530612245,
            0.4081632653061224,
            0
           ],
           "y": [
            0,
            0.4081632653061224,
            1.816326530612245,
            1.4081632653061225,
            0
           ]
          }
         ]
        },
        {
         "data": [
          {
           "line": {
            "color": "blue",
            "width": 1
           },
           "marker": {
            "size": 2
           },
           "mode": "lines+markers",
           "name": "V1",
           "type": "scatter",
           "x": [
            0,
            1.4285714285714286
           ],
           "y": [
            0,
            0.42857142857142855
           ]
          },
          {
           "line": {
            "color": "red",
            "width": 1
           },
           "marker": {
            "size": 2
           },
           "mode": "lines+markers",
           "name": "V2",
           "type": "scatter",
           "x": [
            0,
            0.42857142857142855
           ],
           "y": [
            0,
            1.4285714285714286
           ]
          },
          {
           "line": {
            "color": "green",
            "width": 1
           },
           "marker": {
            "size": 2
           },
           "mode": "lines+markers",
           "name": "V1 + V2",
           "type": "scatter",
           "x": [
            0,
            1.8571428571428572
           ],
           "y": [
            0,
            1.8571428571428572
           ]
          },
          {
           "fill": "toself",
           "fillcolor": "rgba(0, 100, 200, 0.2)",
           "line": {
            "color": "rgba(255,255,255,0)"
           },
           "name": "Area",
           "type": "scatter",
           "x": [
            0,
            1.4285714285714286,
            1.8571428571428572,
            0.42857142857142855,
            0
           ],
           "y": [
            0,
            0.42857142857142855,
            1.8571428571428572,
            1.4285714285714286,
            0
           ]
          }
         ]
        },
        {
         "data": [
          {
           "line": {
            "color": "blue",
            "width": 1
           },
           "marker": {
            "size": 2
           },
           "mode": "lines+markers",
           "name": "V1",
           "type": "scatter",
           "x": [
            0,
            1.4489795918367347
           ],
           "y": [
            0,
            0.44897959183673464
           ]
          },
          {
           "line": {
            "color": "red",
            "width": 1
           },
           "marker": {
            "size": 2
           },
           "mode": "lines+markers",
           "name": "V2",
           "type": "scatter",
           "x": [
            0,
            0.44897959183673464
           ],
           "y": [
            0,
            1.4489795918367347
           ]
          },
          {
           "line": {
            "color": "green",
            "width": 1
           },
           "marker": {
            "size": 2
           },
           "mode": "lines+markers",
           "name": "V1 + V2",
           "type": "scatter",
           "x": [
            0,
            1.8979591836734695
           ],
           "y": [
            0,
            1.8979591836734695
           ]
          },
          {
           "fill": "toself",
           "fillcolor": "rgba(0, 100, 200, 0.2)",
           "line": {
            "color": "rgba(255,255,255,0)"
           },
           "name": "Area",
           "type": "scatter",
           "x": [
            0,
            1.4489795918367347,
            1.8979591836734695,
            0.44897959183673464,
            0
           ],
           "y": [
            0,
            0.44897959183673464,
            1.8979591836734695,
            1.4489795918367347,
            0
           ]
          }
         ]
        },
        {
         "data": [
          {
           "line": {
            "color": "blue",
            "width": 1
           },
           "marker": {
            "size": 2
           },
           "mode": "lines+markers",
           "name": "V1",
           "type": "scatter",
           "x": [
            0,
            1.4693877551020407
           ],
           "y": [
            0,
            0.4693877551020408
           ]
          },
          {
           "line": {
            "color": "red",
            "width": 1
           },
           "marker": {
            "size": 2
           },
           "mode": "lines+markers",
           "name": "V2",
           "type": "scatter",
           "x": [
            0,
            0.4693877551020408
           ],
           "y": [
            0,
            1.4693877551020407
           ]
          },
          {
           "line": {
            "color": "green",
            "width": 1
           },
           "marker": {
            "size": 2
           },
           "mode": "lines+markers",
           "name": "V1 + V2",
           "type": "scatter",
           "x": [
            0,
            1.9387755102040813
           ],
           "y": [
            0,
            1.9387755102040813
           ]
          },
          {
           "fill": "toself",
           "fillcolor": "rgba(0, 100, 200, 0.2)",
           "line": {
            "color": "rgba(255,255,255,0)"
           },
           "name": "Area",
           "type": "scatter",
           "x": [
            0,
            1.4693877551020407,
            1.9387755102040813,
            0.4693877551020408,
            0
           ],
           "y": [
            0,
            0.4693877551020408,
            1.9387755102040813,
            1.4693877551020407,
            0
           ]
          }
         ]
        },
        {
         "data": [
          {
           "line": {
            "color": "blue",
            "width": 1
           },
           "marker": {
            "size": 2
           },
           "mode": "lines+markers",
           "name": "V1",
           "type": "scatter",
           "x": [
            0,
            1.489795918367347
           ],
           "y": [
            0,
            0.4897959183673469
           ]
          },
          {
           "line": {
            "color": "red",
            "width": 1
           },
           "marker": {
            "size": 2
           },
           "mode": "lines+markers",
           "name": "V2",
           "type": "scatter",
           "x": [
            0,
            0.4897959183673469
           ],
           "y": [
            0,
            1.489795918367347
           ]
          },
          {
           "line": {
            "color": "green",
            "width": 1
           },
           "marker": {
            "size": 2
           },
           "mode": "lines+markers",
           "name": "V1 + V2",
           "type": "scatter",
           "x": [
            0,
            1.979591836734694
           ],
           "y": [
            0,
            1.979591836734694
           ]
          },
          {
           "fill": "toself",
           "fillcolor": "rgba(0, 100, 200, 0.2)",
           "line": {
            "color": "rgba(255,255,255,0)"
           },
           "name": "Area",
           "type": "scatter",
           "x": [
            0,
            1.489795918367347,
            1.979591836734694,
            0.4897959183673469,
            0
           ],
           "y": [
            0,
            0.4897959183673469,
            1.979591836734694,
            1.489795918367347,
            0
           ]
          }
         ]
        },
        {
         "data": [
          {
           "line": {
            "color": "blue",
            "width": 1
           },
           "marker": {
            "size": 2
           },
           "mode": "lines+markers",
           "name": "V1",
           "type": "scatter",
           "x": [
            0,
            1.510204081632653
           ],
           "y": [
            0,
            0.5102040816326531
           ]
          },
          {
           "line": {
            "color": "red",
            "width": 1
           },
           "marker": {
            "size": 2
           },
           "mode": "lines+markers",
           "name": "V2",
           "type": "scatter",
           "x": [
            0,
            0.5102040816326531
           ],
           "y": [
            0,
            1.510204081632653
           ]
          },
          {
           "line": {
            "color": "green",
            "width": 1
           },
           "marker": {
            "size": 2
           },
           "mode": "lines+markers",
           "name": "V1 + V2",
           "type": "scatter",
           "x": [
            0,
            2.020408163265306
           ],
           "y": [
            0,
            2.020408163265306
           ]
          },
          {
           "fill": "toself",
           "fillcolor": "rgba(0, 100, 200, 0.2)",
           "line": {
            "color": "rgba(255,255,255,0)"
           },
           "name": "Area",
           "type": "scatter",
           "x": [
            0,
            1.510204081632653,
            2.020408163265306,
            0.5102040816326531,
            0
           ],
           "y": [
            0,
            0.5102040816326531,
            2.020408163265306,
            1.510204081632653,
            0
           ]
          }
         ]
        },
        {
         "data": [
          {
           "line": {
            "color": "blue",
            "width": 1
           },
           "marker": {
            "size": 2
           },
           "mode": "lines+markers",
           "name": "V1",
           "type": "scatter",
           "x": [
            0,
            1.530612244897959
           ],
           "y": [
            0,
            0.5306122448979591
           ]
          },
          {
           "line": {
            "color": "red",
            "width": 1
           },
           "marker": {
            "size": 2
           },
           "mode": "lines+markers",
           "name": "V2",
           "type": "scatter",
           "x": [
            0,
            0.5306122448979591
           ],
           "y": [
            0,
            1.530612244897959
           ]
          },
          {
           "line": {
            "color": "green",
            "width": 1
           },
           "marker": {
            "size": 2
           },
           "mode": "lines+markers",
           "name": "V1 + V2",
           "type": "scatter",
           "x": [
            0,
            2.061224489795918
           ],
           "y": [
            0,
            2.061224489795918
           ]
          },
          {
           "fill": "toself",
           "fillcolor": "rgba(0, 100, 200, 0.2)",
           "line": {
            "color": "rgba(255,255,255,0)"
           },
           "name": "Area",
           "type": "scatter",
           "x": [
            0,
            1.530612244897959,
            2.061224489795918,
            0.5306122448979591,
            0
           ],
           "y": [
            0,
            0.5306122448979591,
            2.061224489795918,
            1.530612244897959,
            0
           ]
          }
         ]
        },
        {
         "data": [
          {
           "line": {
            "color": "blue",
            "width": 1
           },
           "marker": {
            "size": 2
           },
           "mode": "lines+markers",
           "name": "V1",
           "type": "scatter",
           "x": [
            0,
            1.5510204081632653
           ],
           "y": [
            0,
            0.5510204081632653
           ]
          },
          {
           "line": {
            "color": "red",
            "width": 1
           },
           "marker": {
            "size": 2
           },
           "mode": "lines+markers",
           "name": "V2",
           "type": "scatter",
           "x": [
            0,
            0.5510204081632653
           ],
           "y": [
            0,
            1.5510204081632653
           ]
          },
          {
           "line": {
            "color": "green",
            "width": 1
           },
           "marker": {
            "size": 2
           },
           "mode": "lines+markers",
           "name": "V1 + V2",
           "type": "scatter",
           "x": [
            0,
            2.1020408163265305
           ],
           "y": [
            0,
            2.1020408163265305
           ]
          },
          {
           "fill": "toself",
           "fillcolor": "rgba(0, 100, 200, 0.2)",
           "line": {
            "color": "rgba(255,255,255,0)"
           },
           "name": "Area",
           "type": "scatter",
           "x": [
            0,
            1.5510204081632653,
            2.1020408163265305,
            0.5510204081632653,
            0
           ],
           "y": [
            0,
            0.5510204081632653,
            2.1020408163265305,
            1.5510204081632653,
            0
           ]
          }
         ]
        },
        {
         "data": [
          {
           "line": {
            "color": "blue",
            "width": 1
           },
           "marker": {
            "size": 2
           },
           "mode": "lines+markers",
           "name": "V1",
           "type": "scatter",
           "x": [
            0,
            1.5714285714285714
           ],
           "y": [
            0,
            0.5714285714285714
           ]
          },
          {
           "line": {
            "color": "red",
            "width": 1
           },
           "marker": {
            "size": 2
           },
           "mode": "lines+markers",
           "name": "V2",
           "type": "scatter",
           "x": [
            0,
            0.5714285714285714
           ],
           "y": [
            0,
            1.5714285714285714
           ]
          },
          {
           "line": {
            "color": "green",
            "width": 1
           },
           "marker": {
            "size": 2
           },
           "mode": "lines+markers",
           "name": "V1 + V2",
           "type": "scatter",
           "x": [
            0,
            2.142857142857143
           ],
           "y": [
            0,
            2.142857142857143
           ]
          },
          {
           "fill": "toself",
           "fillcolor": "rgba(0, 100, 200, 0.2)",
           "line": {
            "color": "rgba(255,255,255,0)"
           },
           "name": "Area",
           "type": "scatter",
           "x": [
            0,
            1.5714285714285714,
            2.142857142857143,
            0.5714285714285714,
            0
           ],
           "y": [
            0,
            0.5714285714285714,
            2.142857142857143,
            1.5714285714285714,
            0
           ]
          }
         ]
        },
        {
         "data": [
          {
           "line": {
            "color": "blue",
            "width": 1
           },
           "marker": {
            "size": 2
           },
           "mode": "lines+markers",
           "name": "V1",
           "type": "scatter",
           "x": [
            0,
            1.5918367346938775
           ],
           "y": [
            0,
            0.5918367346938775
           ]
          },
          {
           "line": {
            "color": "red",
            "width": 1
           },
           "marker": {
            "size": 2
           },
           "mode": "lines+markers",
           "name": "V2",
           "type": "scatter",
           "x": [
            0,
            0.5918367346938775
           ],
           "y": [
            0,
            1.5918367346938775
           ]
          },
          {
           "line": {
            "color": "green",
            "width": 1
           },
           "marker": {
            "size": 2
           },
           "mode": "lines+markers",
           "name": "V1 + V2",
           "type": "scatter",
           "x": [
            0,
            2.183673469387755
           ],
           "y": [
            0,
            2.183673469387755
           ]
          },
          {
           "fill": "toself",
           "fillcolor": "rgba(0, 100, 200, 0.2)",
           "line": {
            "color": "rgba(255,255,255,0)"
           },
           "name": "Area",
           "type": "scatter",
           "x": [
            0,
            1.5918367346938775,
            2.183673469387755,
            0.5918367346938775,
            0
           ],
           "y": [
            0,
            0.5918367346938775,
            2.183673469387755,
            1.5918367346938775,
            0
           ]
          }
         ]
        },
        {
         "data": [
          {
           "line": {
            "color": "blue",
            "width": 1
           },
           "marker": {
            "size": 2
           },
           "mode": "lines+markers",
           "name": "V1",
           "type": "scatter",
           "x": [
            0,
            1.6122448979591835
           ],
           "y": [
            0,
            0.6122448979591836
           ]
          },
          {
           "line": {
            "color": "red",
            "width": 1
           },
           "marker": {
            "size": 2
           },
           "mode": "lines+markers",
           "name": "V2",
           "type": "scatter",
           "x": [
            0,
            0.6122448979591836
           ],
           "y": [
            0,
            1.6122448979591835
           ]
          },
          {
           "line": {
            "color": "green",
            "width": 1
           },
           "marker": {
            "size": 2
           },
           "mode": "lines+markers",
           "name": "V1 + V2",
           "type": "scatter",
           "x": [
            0,
            2.224489795918367
           ],
           "y": [
            0,
            2.224489795918367
           ]
          },
          {
           "fill": "toself",
           "fillcolor": "rgba(0, 100, 200, 0.2)",
           "line": {
            "color": "rgba(255,255,255,0)"
           },
           "name": "Area",
           "type": "scatter",
           "x": [
            0,
            1.6122448979591835,
            2.224489795918367,
            0.6122448979591836,
            0
           ],
           "y": [
            0,
            0.6122448979591836,
            2.224489795918367,
            1.6122448979591835,
            0
           ]
          }
         ]
        },
        {
         "data": [
          {
           "line": {
            "color": "blue",
            "width": 1
           },
           "marker": {
            "size": 2
           },
           "mode": "lines+markers",
           "name": "V1",
           "type": "scatter",
           "x": [
            0,
            1.6326530612244898
           ],
           "y": [
            0,
            0.6326530612244897
           ]
          },
          {
           "line": {
            "color": "red",
            "width": 1
           },
           "marker": {
            "size": 2
           },
           "mode": "lines+markers",
           "name": "V2",
           "type": "scatter",
           "x": [
            0,
            0.6326530612244897
           ],
           "y": [
            0,
            1.6326530612244898
           ]
          },
          {
           "line": {
            "color": "green",
            "width": 1
           },
           "marker": {
            "size": 2
           },
           "mode": "lines+markers",
           "name": "V1 + V2",
           "type": "scatter",
           "x": [
            0,
            2.2653061224489797
           ],
           "y": [
            0,
            2.2653061224489797
           ]
          },
          {
           "fill": "toself",
           "fillcolor": "rgba(0, 100, 200, 0.2)",
           "line": {
            "color": "rgba(255,255,255,0)"
           },
           "name": "Area",
           "type": "scatter",
           "x": [
            0,
            1.6326530612244898,
            2.2653061224489797,
            0.6326530612244897,
            0
           ],
           "y": [
            0,
            0.6326530612244897,
            2.2653061224489797,
            1.6326530612244898,
            0
           ]
          }
         ]
        },
        {
         "data": [
          {
           "line": {
            "color": "blue",
            "width": 1
           },
           "marker": {
            "size": 2
           },
           "mode": "lines+markers",
           "name": "V1",
           "type": "scatter",
           "x": [
            0,
            1.6530612244897958
           ],
           "y": [
            0,
            0.6530612244897959
           ]
          },
          {
           "line": {
            "color": "red",
            "width": 1
           },
           "marker": {
            "size": 2
           },
           "mode": "lines+markers",
           "name": "V2",
           "type": "scatter",
           "x": [
            0,
            0.6530612244897959
           ],
           "y": [
            0,
            1.6530612244897958
           ]
          },
          {
           "line": {
            "color": "green",
            "width": 1
           },
           "marker": {
            "size": 2
           },
           "mode": "lines+markers",
           "name": "V1 + V2",
           "type": "scatter",
           "x": [
            0,
            2.3061224489795915
           ],
           "y": [
            0,
            2.3061224489795915
           ]
          },
          {
           "fill": "toself",
           "fillcolor": "rgba(0, 100, 200, 0.2)",
           "line": {
            "color": "rgba(255,255,255,0)"
           },
           "name": "Area",
           "type": "scatter",
           "x": [
            0,
            1.6530612244897958,
            2.3061224489795915,
            0.6530612244897959,
            0
           ],
           "y": [
            0,
            0.6530612244897959,
            2.3061224489795915,
            1.6530612244897958,
            0
           ]
          }
         ]
        },
        {
         "data": [
          {
           "line": {
            "color": "blue",
            "width": 1
           },
           "marker": {
            "size": 2
           },
           "mode": "lines+markers",
           "name": "V1",
           "type": "scatter",
           "x": [
            0,
            1.6734693877551021
           ],
           "y": [
            0,
            0.673469387755102
           ]
          },
          {
           "line": {
            "color": "red",
            "width": 1
           },
           "marker": {
            "size": 2
           },
           "mode": "lines+markers",
           "name": "V2",
           "type": "scatter",
           "x": [
            0,
            0.673469387755102
           ],
           "y": [
            0,
            1.6734693877551021
           ]
          },
          {
           "line": {
            "color": "green",
            "width": 1
           },
           "marker": {
            "size": 2
           },
           "mode": "lines+markers",
           "name": "V1 + V2",
           "type": "scatter",
           "x": [
            0,
            2.3469387755102042
           ],
           "y": [
            0,
            2.3469387755102042
           ]
          },
          {
           "fill": "toself",
           "fillcolor": "rgba(0, 100, 200, 0.2)",
           "line": {
            "color": "rgba(255,255,255,0)"
           },
           "name": "Area",
           "type": "scatter",
           "x": [
            0,
            1.6734693877551021,
            2.3469387755102042,
            0.673469387755102,
            0
           ],
           "y": [
            0,
            0.673469387755102,
            2.3469387755102042,
            1.6734693877551021,
            0
           ]
          }
         ]
        },
        {
         "data": [
          {
           "line": {
            "color": "blue",
            "width": 1
           },
           "marker": {
            "size": 2
           },
           "mode": "lines+markers",
           "name": "V1",
           "type": "scatter",
           "x": [
            0,
            1.693877551020408
           ],
           "y": [
            0,
            0.6938775510204082
           ]
          },
          {
           "line": {
            "color": "red",
            "width": 1
           },
           "marker": {
            "size": 2
           },
           "mode": "lines+markers",
           "name": "V2",
           "type": "scatter",
           "x": [
            0,
            0.6938775510204082
           ],
           "y": [
            0,
            1.693877551020408
           ]
          },
          {
           "line": {
            "color": "green",
            "width": 1
           },
           "marker": {
            "size": 2
           },
           "mode": "lines+markers",
           "name": "V1 + V2",
           "type": "scatter",
           "x": [
            0,
            2.387755102040816
           ],
           "y": [
            0,
            2.387755102040816
           ]
          },
          {
           "fill": "toself",
           "fillcolor": "rgba(0, 100, 200, 0.2)",
           "line": {
            "color": "rgba(255,255,255,0)"
           },
           "name": "Area",
           "type": "scatter",
           "x": [
            0,
            1.693877551020408,
            2.387755102040816,
            0.6938775510204082,
            0
           ],
           "y": [
            0,
            0.6938775510204082,
            2.387755102040816,
            1.693877551020408,
            0
           ]
          }
         ]
        },
        {
         "data": [
          {
           "line": {
            "color": "blue",
            "width": 1
           },
           "marker": {
            "size": 2
           },
           "mode": "lines+markers",
           "name": "V1",
           "type": "scatter",
           "x": [
            0,
            1.7142857142857142
           ],
           "y": [
            0,
            0.7142857142857142
           ]
          },
          {
           "line": {
            "color": "red",
            "width": 1
           },
           "marker": {
            "size": 2
           },
           "mode": "lines+markers",
           "name": "V2",
           "type": "scatter",
           "x": [
            0,
            0.7142857142857142
           ],
           "y": [
            0,
            1.7142857142857142
           ]
          },
          {
           "line": {
            "color": "green",
            "width": 1
           },
           "marker": {
            "size": 2
           },
           "mode": "lines+markers",
           "name": "V1 + V2",
           "type": "scatter",
           "x": [
            0,
            2.4285714285714284
           ],
           "y": [
            0,
            2.4285714285714284
           ]
          },
          {
           "fill": "toself",
           "fillcolor": "rgba(0, 100, 200, 0.2)",
           "line": {
            "color": "rgba(255,255,255,0)"
           },
           "name": "Area",
           "type": "scatter",
           "x": [
            0,
            1.7142857142857142,
            2.4285714285714284,
            0.7142857142857142,
            0
           ],
           "y": [
            0,
            0.7142857142857142,
            2.4285714285714284,
            1.7142857142857142,
            0
           ]
          }
         ]
        },
        {
         "data": [
          {
           "line": {
            "color": "blue",
            "width": 1
           },
           "marker": {
            "size": 2
           },
           "mode": "lines+markers",
           "name": "V1",
           "type": "scatter",
           "x": [
            0,
            1.7346938775510203
           ],
           "y": [
            0,
            0.7346938775510203
           ]
          },
          {
           "line": {
            "color": "red",
            "width": 1
           },
           "marker": {
            "size": 2
           },
           "mode": "lines+markers",
           "name": "V2",
           "type": "scatter",
           "x": [
            0,
            0.7346938775510203
           ],
           "y": [
            0,
            1.7346938775510203
           ]
          },
          {
           "line": {
            "color": "green",
            "width": 1
           },
           "marker": {
            "size": 2
           },
           "mode": "lines+markers",
           "name": "V1 + V2",
           "type": "scatter",
           "x": [
            0,
            2.4693877551020407
           ],
           "y": [
            0,
            2.4693877551020407
           ]
          },
          {
           "fill": "toself",
           "fillcolor": "rgba(0, 100, 200, 0.2)",
           "line": {
            "color": "rgba(255,255,255,0)"
           },
           "name": "Area",
           "type": "scatter",
           "x": [
            0,
            1.7346938775510203,
            2.4693877551020407,
            0.7346938775510203,
            0
           ],
           "y": [
            0,
            0.7346938775510203,
            2.4693877551020407,
            1.7346938775510203,
            0
           ]
          }
         ]
        },
        {
         "data": [
          {
           "line": {
            "color": "blue",
            "width": 1
           },
           "marker": {
            "size": 2
           },
           "mode": "lines+markers",
           "name": "V1",
           "type": "scatter",
           "x": [
            0,
            1.7551020408163265
           ],
           "y": [
            0,
            0.7551020408163265
           ]
          },
          {
           "line": {
            "color": "red",
            "width": 1
           },
           "marker": {
            "size": 2
           },
           "mode": "lines+markers",
           "name": "V2",
           "type": "scatter",
           "x": [
            0,
            0.7551020408163265
           ],
           "y": [
            0,
            1.7551020408163265
           ]
          },
          {
           "line": {
            "color": "green",
            "width": 1
           },
           "marker": {
            "size": 2
           },
           "mode": "lines+markers",
           "name": "V1 + V2",
           "type": "scatter",
           "x": [
            0,
            2.510204081632653
           ],
           "y": [
            0,
            2.510204081632653
           ]
          },
          {
           "fill": "toself",
           "fillcolor": "rgba(0, 100, 200, 0.2)",
           "line": {
            "color": "rgba(255,255,255,0)"
           },
           "name": "Area",
           "type": "scatter",
           "x": [
            0,
            1.7551020408163265,
            2.510204081632653,
            0.7551020408163265,
            0
           ],
           "y": [
            0,
            0.7551020408163265,
            2.510204081632653,
            1.7551020408163265,
            0
           ]
          }
         ]
        },
        {
         "data": [
          {
           "line": {
            "color": "blue",
            "width": 1
           },
           "marker": {
            "size": 2
           },
           "mode": "lines+markers",
           "name": "V1",
           "type": "scatter",
           "x": [
            0,
            1.7755102040816326
           ],
           "y": [
            0,
            0.7755102040816326
           ]
          },
          {
           "line": {
            "color": "red",
            "width": 1
           },
           "marker": {
            "size": 2
           },
           "mode": "lines+markers",
           "name": "V2",
           "type": "scatter",
           "x": [
            0,
            0.7755102040816326
           ],
           "y": [
            0,
            1.7755102040816326
           ]
          },
          {
           "line": {
            "color": "green",
            "width": 1
           },
           "marker": {
            "size": 2
           },
           "mode": "lines+markers",
           "name": "V1 + V2",
           "type": "scatter",
           "x": [
            0,
            2.5510204081632653
           ],
           "y": [
            0,
            2.5510204081632653
           ]
          },
          {
           "fill": "toself",
           "fillcolor": "rgba(0, 100, 200, 0.2)",
           "line": {
            "color": "rgba(255,255,255,0)"
           },
           "name": "Area",
           "type": "scatter",
           "x": [
            0,
            1.7755102040816326,
            2.5510204081632653,
            0.7755102040816326,
            0
           ],
           "y": [
            0,
            0.7755102040816326,
            2.5510204081632653,
            1.7755102040816326,
            0
           ]
          }
         ]
        },
        {
         "data": [
          {
           "line": {
            "color": "blue",
            "width": 1
           },
           "marker": {
            "size": 2
           },
           "mode": "lines+markers",
           "name": "V1",
           "type": "scatter",
           "x": [
            0,
            1.7959183673469385
           ],
           "y": [
            0,
            0.7959183673469387
           ]
          },
          {
           "line": {
            "color": "red",
            "width": 1
           },
           "marker": {
            "size": 2
           },
           "mode": "lines+markers",
           "name": "V2",
           "type": "scatter",
           "x": [
            0,
            0.7959183673469387
           ],
           "y": [
            0,
            1.7959183673469385
           ]
          },
          {
           "line": {
            "color": "green",
            "width": 1
           },
           "marker": {
            "size": 2
           },
           "mode": "lines+markers",
           "name": "V1 + V2",
           "type": "scatter",
           "x": [
            0,
            2.591836734693877
           ],
           "y": [
            0,
            2.591836734693877
           ]
          },
          {
           "fill": "toself",
           "fillcolor": "rgba(0, 100, 200, 0.2)",
           "line": {
            "color": "rgba(255,255,255,0)"
           },
           "name": "Area",
           "type": "scatter",
           "x": [
            0,
            1.7959183673469385,
            2.591836734693877,
            0.7959183673469387,
            0
           ],
           "y": [
            0,
            0.7959183673469387,
            2.591836734693877,
            1.7959183673469385,
            0
           ]
          }
         ]
        },
        {
         "data": [
          {
           "line": {
            "color": "blue",
            "width": 1
           },
           "marker": {
            "size": 2
           },
           "mode": "lines+markers",
           "name": "V1",
           "type": "scatter",
           "x": [
            0,
            1.816326530612245
           ],
           "y": [
            0,
            0.8163265306122448
           ]
          },
          {
           "line": {
            "color": "red",
            "width": 1
           },
           "marker": {
            "size": 2
           },
           "mode": "lines+markers",
           "name": "V2",
           "type": "scatter",
           "x": [
            0,
            0.8163265306122448
           ],
           "y": [
            0,
            1.816326530612245
           ]
          },
          {
           "line": {
            "color": "green",
            "width": 1
           },
           "marker": {
            "size": 2
           },
           "mode": "lines+markers",
           "name": "V1 + V2",
           "type": "scatter",
           "x": [
            0,
            2.63265306122449
           ],
           "y": [
            0,
            2.63265306122449
           ]
          },
          {
           "fill": "toself",
           "fillcolor": "rgba(0, 100, 200, 0.2)",
           "line": {
            "color": "rgba(255,255,255,0)"
           },
           "name": "Area",
           "type": "scatter",
           "x": [
            0,
            1.816326530612245,
            2.63265306122449,
            0.8163265306122448,
            0
           ],
           "y": [
            0,
            0.8163265306122448,
            2.63265306122449,
            1.816326530612245,
            0
           ]
          }
         ]
        },
        {
         "data": [
          {
           "line": {
            "color": "blue",
            "width": 1
           },
           "marker": {
            "size": 2
           },
           "mode": "lines+markers",
           "name": "V1",
           "type": "scatter",
           "x": [
            0,
            1.8367346938775508
           ],
           "y": [
            0,
            0.836734693877551
           ]
          },
          {
           "line": {
            "color": "red",
            "width": 1
           },
           "marker": {
            "size": 2
           },
           "mode": "lines+markers",
           "name": "V2",
           "type": "scatter",
           "x": [
            0,
            0.836734693877551
           ],
           "y": [
            0,
            1.8367346938775508
           ]
          },
          {
           "line": {
            "color": "green",
            "width": 1
           },
           "marker": {
            "size": 2
           },
           "mode": "lines+markers",
           "name": "V1 + V2",
           "type": "scatter",
           "x": [
            0,
            2.6734693877551017
           ],
           "y": [
            0,
            2.6734693877551017
           ]
          },
          {
           "fill": "toself",
           "fillcolor": "rgba(0, 100, 200, 0.2)",
           "line": {
            "color": "rgba(255,255,255,0)"
           },
           "name": "Area",
           "type": "scatter",
           "x": [
            0,
            1.8367346938775508,
            2.6734693877551017,
            0.836734693877551,
            0
           ],
           "y": [
            0,
            0.836734693877551,
            2.6734693877551017,
            1.8367346938775508,
            0
           ]
          }
         ]
        },
        {
         "data": [
          {
           "line": {
            "color": "blue",
            "width": 1
           },
           "marker": {
            "size": 2
           },
           "mode": "lines+markers",
           "name": "V1",
           "type": "scatter",
           "x": [
            0,
            1.8571428571428572
           ],
           "y": [
            0,
            0.8571428571428571
           ]
          },
          {
           "line": {
            "color": "red",
            "width": 1
           },
           "marker": {
            "size": 2
           },
           "mode": "lines+markers",
           "name": "V2",
           "type": "scatter",
           "x": [
            0,
            0.8571428571428571
           ],
           "y": [
            0,
            1.8571428571428572
           ]
          },
          {
           "line": {
            "color": "green",
            "width": 1
           },
           "marker": {
            "size": 2
           },
           "mode": "lines+markers",
           "name": "V1 + V2",
           "type": "scatter",
           "x": [
            0,
            2.7142857142857144
           ],
           "y": [
            0,
            2.7142857142857144
           ]
          },
          {
           "fill": "toself",
           "fillcolor": "rgba(0, 100, 200, 0.2)",
           "line": {
            "color": "rgba(255,255,255,0)"
           },
           "name": "Area",
           "type": "scatter",
           "x": [
            0,
            1.8571428571428572,
            2.7142857142857144,
            0.8571428571428571,
            0
           ],
           "y": [
            0,
            0.8571428571428571,
            2.7142857142857144,
            1.8571428571428572,
            0
           ]
          }
         ]
        },
        {
         "data": [
          {
           "line": {
            "color": "blue",
            "width": 1
           },
           "marker": {
            "size": 2
           },
           "mode": "lines+markers",
           "name": "V1",
           "type": "scatter",
           "x": [
            0,
            1.8775510204081631
           ],
           "y": [
            0,
            0.8775510204081632
           ]
          },
          {
           "line": {
            "color": "red",
            "width": 1
           },
           "marker": {
            "size": 2
           },
           "mode": "lines+markers",
           "name": "V2",
           "type": "scatter",
           "x": [
            0,
            0.8775510204081632
           ],
           "y": [
            0,
            1.8775510204081631
           ]
          },
          {
           "line": {
            "color": "green",
            "width": 1
           },
           "marker": {
            "size": 2
           },
           "mode": "lines+markers",
           "name": "V1 + V2",
           "type": "scatter",
           "x": [
            0,
            2.7551020408163263
           ],
           "y": [
            0,
            2.7551020408163263
           ]
          },
          {
           "fill": "toself",
           "fillcolor": "rgba(0, 100, 200, 0.2)",
           "line": {
            "color": "rgba(255,255,255,0)"
           },
           "name": "Area",
           "type": "scatter",
           "x": [
            0,
            1.8775510204081631,
            2.7551020408163263,
            0.8775510204081632,
            0
           ],
           "y": [
            0,
            0.8775510204081632,
            2.7551020408163263,
            1.8775510204081631,
            0
           ]
          }
         ]
        },
        {
         "data": [
          {
           "line": {
            "color": "blue",
            "width": 1
           },
           "marker": {
            "size": 2
           },
           "mode": "lines+markers",
           "name": "V1",
           "type": "scatter",
           "x": [
            0,
            1.8979591836734693
           ],
           "y": [
            0,
            0.8979591836734693
           ]
          },
          {
           "line": {
            "color": "red",
            "width": 1
           },
           "marker": {
            "size": 2
           },
           "mode": "lines+markers",
           "name": "V2",
           "type": "scatter",
           "x": [
            0,
            0.8979591836734693
           ],
           "y": [
            0,
            1.8979591836734693
           ]
          },
          {
           "line": {
            "color": "green",
            "width": 1
           },
           "marker": {
            "size": 2
           },
           "mode": "lines+markers",
           "name": "V1 + V2",
           "type": "scatter",
           "x": [
            0,
            2.7959183673469385
           ],
           "y": [
            0,
            2.7959183673469385
           ]
          },
          {
           "fill": "toself",
           "fillcolor": "rgba(0, 100, 200, 0.2)",
           "line": {
            "color": "rgba(255,255,255,0)"
           },
           "name": "Area",
           "type": "scatter",
           "x": [
            0,
            1.8979591836734693,
            2.7959183673469385,
            0.8979591836734693,
            0
           ],
           "y": [
            0,
            0.8979591836734693,
            2.7959183673469385,
            1.8979591836734693,
            0
           ]
          }
         ]
        },
        {
         "data": [
          {
           "line": {
            "color": "blue",
            "width": 1
           },
           "marker": {
            "size": 2
           },
           "mode": "lines+markers",
           "name": "V1",
           "type": "scatter",
           "x": [
            0,
            1.9183673469387754
           ],
           "y": [
            0,
            0.9183673469387754
           ]
          },
          {
           "line": {
            "color": "red",
            "width": 1
           },
           "marker": {
            "size": 2
           },
           "mode": "lines+markers",
           "name": "V2",
           "type": "scatter",
           "x": [
            0,
            0.9183673469387754
           ],
           "y": [
            0,
            1.9183673469387754
           ]
          },
          {
           "line": {
            "color": "green",
            "width": 1
           },
           "marker": {
            "size": 2
           },
           "mode": "lines+markers",
           "name": "V1 + V2",
           "type": "scatter",
           "x": [
            0,
            2.836734693877551
           ],
           "y": [
            0,
            2.836734693877551
           ]
          },
          {
           "fill": "toself",
           "fillcolor": "rgba(0, 100, 200, 0.2)",
           "line": {
            "color": "rgba(255,255,255,0)"
           },
           "name": "Area",
           "type": "scatter",
           "x": [
            0,
            1.9183673469387754,
            2.836734693877551,
            0.9183673469387754,
            0
           ],
           "y": [
            0,
            0.9183673469387754,
            2.836734693877551,
            1.9183673469387754,
            0
           ]
          }
         ]
        },
        {
         "data": [
          {
           "line": {
            "color": "blue",
            "width": 1
           },
           "marker": {
            "size": 2
           },
           "mode": "lines+markers",
           "name": "V1",
           "type": "scatter",
           "x": [
            0,
            1.9387755102040816
           ],
           "y": [
            0,
            0.9387755102040816
           ]
          },
          {
           "line": {
            "color": "red",
            "width": 1
           },
           "marker": {
            "size": 2
           },
           "mode": "lines+markers",
           "name": "V2",
           "type": "scatter",
           "x": [
            0,
            0.9387755102040816
           ],
           "y": [
            0,
            1.9387755102040816
           ]
          },
          {
           "line": {
            "color": "green",
            "width": 1
           },
           "marker": {
            "size": 2
           },
           "mode": "lines+markers",
           "name": "V1 + V2",
           "type": "scatter",
           "x": [
            0,
            2.877551020408163
           ],
           "y": [
            0,
            2.877551020408163
           ]
          },
          {
           "fill": "toself",
           "fillcolor": "rgba(0, 100, 200, 0.2)",
           "line": {
            "color": "rgba(255,255,255,0)"
           },
           "name": "Area",
           "type": "scatter",
           "x": [
            0,
            1.9387755102040816,
            2.877551020408163,
            0.9387755102040816,
            0
           ],
           "y": [
            0,
            0.9387755102040816,
            2.877551020408163,
            1.9387755102040816,
            0
           ]
          }
         ]
        },
        {
         "data": [
          {
           "line": {
            "color": "blue",
            "width": 1
           },
           "marker": {
            "size": 2
           },
           "mode": "lines+markers",
           "name": "V1",
           "type": "scatter",
           "x": [
            0,
            1.9591836734693877
           ],
           "y": [
            0,
            0.9591836734693877
           ]
          },
          {
           "line": {
            "color": "red",
            "width": 1
           },
           "marker": {
            "size": 2
           },
           "mode": "lines+markers",
           "name": "V2",
           "type": "scatter",
           "x": [
            0,
            0.9591836734693877
           ],
           "y": [
            0,
            1.9591836734693877
           ]
          },
          {
           "line": {
            "color": "green",
            "width": 1
           },
           "marker": {
            "size": 2
           },
           "mode": "lines+markers",
           "name": "V1 + V2",
           "type": "scatter",
           "x": [
            0,
            2.9183673469387754
           ],
           "y": [
            0,
            2.9183673469387754
           ]
          },
          {
           "fill": "toself",
           "fillcolor": "rgba(0, 100, 200, 0.2)",
           "line": {
            "color": "rgba(255,255,255,0)"
           },
           "name": "Area",
           "type": "scatter",
           "x": [
            0,
            1.9591836734693877,
            2.9183673469387754,
            0.9591836734693877,
            0
           ],
           "y": [
            0,
            0.9591836734693877,
            2.9183673469387754,
            1.9591836734693877,
            0
           ]
          }
         ]
        },
        {
         "data": [
          {
           "line": {
            "color": "blue",
            "width": 1
           },
           "marker": {
            "size": 2
           },
           "mode": "lines+markers",
           "name": "V1",
           "type": "scatter",
           "x": [
            0,
            1.9795918367346939
           ],
           "y": [
            0,
            0.9795918367346939
           ]
          },
          {
           "line": {
            "color": "red",
            "width": 1
           },
           "marker": {
            "size": 2
           },
           "mode": "lines+markers",
           "name": "V2",
           "type": "scatter",
           "x": [
            0,
            0.9795918367346939
           ],
           "y": [
            0,
            1.9795918367346939
           ]
          },
          {
           "line": {
            "color": "green",
            "width": 1
           },
           "marker": {
            "size": 2
           },
           "mode": "lines+markers",
           "name": "V1 + V2",
           "type": "scatter",
           "x": [
            0,
            2.9591836734693877
           ],
           "y": [
            0,
            2.9591836734693877
           ]
          },
          {
           "fill": "toself",
           "fillcolor": "rgba(0, 100, 200, 0.2)",
           "line": {
            "color": "rgba(255,255,255,0)"
           },
           "name": "Area",
           "type": "scatter",
           "x": [
            0,
            1.9795918367346939,
            2.9591836734693877,
            0.9795918367346939,
            0
           ],
           "y": [
            0,
            0.9795918367346939,
            2.9591836734693877,
            1.9795918367346939,
            0
           ]
          }
         ]
        },
        {
         "data": [
          {
           "line": {
            "color": "blue",
            "width": 1
           },
           "marker": {
            "size": 2
           },
           "mode": "lines+markers",
           "name": "V1",
           "type": "scatter",
           "x": [
            0,
            2
           ],
           "y": [
            0,
            1
           ]
          },
          {
           "line": {
            "color": "red",
            "width": 1
           },
           "marker": {
            "size": 2
           },
           "mode": "lines+markers",
           "name": "V2",
           "type": "scatter",
           "x": [
            0,
            1
           ],
           "y": [
            0,
            2
           ]
          },
          {
           "line": {
            "color": "green",
            "width": 1
           },
           "marker": {
            "size": 2
           },
           "mode": "lines+markers",
           "name": "V1 + V2",
           "type": "scatter",
           "x": [
            0,
            3
           ],
           "y": [
            0,
            3
           ]
          },
          {
           "fill": "toself",
           "fillcolor": "rgba(0, 100, 200, 0.2)",
           "line": {
            "color": "rgba(255,255,255,0)"
           },
           "name": "Area",
           "type": "scatter",
           "x": [
            0,
            2,
            3,
            1,
            0
           ],
           "y": [
            0,
            1,
            3,
            2,
            0
           ]
          }
         ]
        }
       ],
       "layout": {
        "height": 450,
        "showlegend": true,
        "template": {
         "data": {
          "bar": [
           {
            "error_x": {
             "color": "#2a3f5f"
            },
            "error_y": {
             "color": "#2a3f5f"
            },
            "marker": {
             "line": {
              "color": "#E5ECF6",
              "width": 0.5
             },
             "pattern": {
              "fillmode": "overlay",
              "size": 10,
              "solidity": 0.2
             }
            },
            "type": "bar"
           }
          ],
          "barpolar": [
           {
            "marker": {
             "line": {
              "color": "#E5ECF6",
              "width": 0.5
             },
             "pattern": {
              "fillmode": "overlay",
              "size": 10,
              "solidity": 0.2
             }
            },
            "type": "barpolar"
           }
          ],
          "carpet": [
           {
            "aaxis": {
             "endlinecolor": "#2a3f5f",
             "gridcolor": "white",
             "linecolor": "white",
             "minorgridcolor": "white",
             "startlinecolor": "#2a3f5f"
            },
            "baxis": {
             "endlinecolor": "#2a3f5f",
             "gridcolor": "white",
             "linecolor": "white",
             "minorgridcolor": "white",
             "startlinecolor": "#2a3f5f"
            },
            "type": "carpet"
           }
          ],
          "choropleth": [
           {
            "colorbar": {
             "outlinewidth": 0,
             "ticks": ""
            },
            "type": "choropleth"
           }
          ],
          "contour": [
           {
            "colorbar": {
             "outlinewidth": 0,
             "ticks": ""
            },
            "colorscale": [
             [
              0,
              "#0d0887"
             ],
             [
              0.1111111111111111,
              "#46039f"
             ],
             [
              0.2222222222222222,
              "#7201a8"
             ],
             [
              0.3333333333333333,
              "#9c179e"
             ],
             [
              0.4444444444444444,
              "#bd3786"
             ],
             [
              0.5555555555555556,
              "#d8576b"
             ],
             [
              0.6666666666666666,
              "#ed7953"
             ],
             [
              0.7777777777777778,
              "#fb9f3a"
             ],
             [
              0.8888888888888888,
              "#fdca26"
             ],
             [
              1,
              "#f0f921"
             ]
            ],
            "type": "contour"
           }
          ],
          "contourcarpet": [
           {
            "colorbar": {
             "outlinewidth": 0,
             "ticks": ""
            },
            "type": "contourcarpet"
           }
          ],
          "heatmap": [
           {
            "colorbar": {
             "outlinewidth": 0,
             "ticks": ""
            },
            "colorscale": [
             [
              0,
              "#0d0887"
             ],
             [
              0.1111111111111111,
              "#46039f"
             ],
             [
              0.2222222222222222,
              "#7201a8"
             ],
             [
              0.3333333333333333,
              "#9c179e"
             ],
             [
              0.4444444444444444,
              "#bd3786"
             ],
             [
              0.5555555555555556,
              "#d8576b"
             ],
             [
              0.6666666666666666,
              "#ed7953"
             ],
             [
              0.7777777777777778,
              "#fb9f3a"
             ],
             [
              0.8888888888888888,
              "#fdca26"
             ],
             [
              1,
              "#f0f921"
             ]
            ],
            "type": "heatmap"
           }
          ],
          "heatmapgl": [
           {
            "colorbar": {
             "outlinewidth": 0,
             "ticks": ""
            },
            "colorscale": [
             [
              0,
              "#0d0887"
             ],
             [
              0.1111111111111111,
              "#46039f"
             ],
             [
              0.2222222222222222,
              "#7201a8"
             ],
             [
              0.3333333333333333,
              "#9c179e"
             ],
             [
              0.4444444444444444,
              "#bd3786"
             ],
             [
              0.5555555555555556,
              "#d8576b"
             ],
             [
              0.6666666666666666,
              "#ed7953"
             ],
             [
              0.7777777777777778,
              "#fb9f3a"
             ],
             [
              0.8888888888888888,
              "#fdca26"
             ],
             [
              1,
              "#f0f921"
             ]
            ],
            "type": "heatmapgl"
           }
          ],
          "histogram": [
           {
            "marker": {
             "pattern": {
              "fillmode": "overlay",
              "size": 10,
              "solidity": 0.2
             }
            },
            "type": "histogram"
           }
          ],
          "histogram2d": [
           {
            "colorbar": {
             "outlinewidth": 0,
             "ticks": ""
            },
            "colorscale": [
             [
              0,
              "#0d0887"
             ],
             [
              0.1111111111111111,
              "#46039f"
             ],
             [
              0.2222222222222222,
              "#7201a8"
             ],
             [
              0.3333333333333333,
              "#9c179e"
             ],
             [
              0.4444444444444444,
              "#bd3786"
             ],
             [
              0.5555555555555556,
              "#d8576b"
             ],
             [
              0.6666666666666666,
              "#ed7953"
             ],
             [
              0.7777777777777778,
              "#fb9f3a"
             ],
             [
              0.8888888888888888,
              "#fdca26"
             ],
             [
              1,
              "#f0f921"
             ]
            ],
            "type": "histogram2d"
           }
          ],
          "histogram2dcontour": [
           {
            "colorbar": {
             "outlinewidth": 0,
             "ticks": ""
            },
            "colorscale": [
             [
              0,
              "#0d0887"
             ],
             [
              0.1111111111111111,
              "#46039f"
             ],
             [
              0.2222222222222222,
              "#7201a8"
             ],
             [
              0.3333333333333333,
              "#9c179e"
             ],
             [
              0.4444444444444444,
              "#bd3786"
             ],
             [
              0.5555555555555556,
              "#d8576b"
             ],
             [
              0.6666666666666666,
              "#ed7953"
             ],
             [
              0.7777777777777778,
              "#fb9f3a"
             ],
             [
              0.8888888888888888,
              "#fdca26"
             ],
             [
              1,
              "#f0f921"
             ]
            ],
            "type": "histogram2dcontour"
           }
          ],
          "mesh3d": [
           {
            "colorbar": {
             "outlinewidth": 0,
             "ticks": ""
            },
            "type": "mesh3d"
           }
          ],
          "parcoords": [
           {
            "line": {
             "colorbar": {
              "outlinewidth": 0,
              "ticks": ""
             }
            },
            "type": "parcoords"
           }
          ],
          "pie": [
           {
            "automargin": true,
            "type": "pie"
           }
          ],
          "scatter": [
           {
            "fillpattern": {
             "fillmode": "overlay",
             "size": 10,
             "solidity": 0.2
            },
            "type": "scatter"
           }
          ],
          "scatter3d": [
           {
            "line": {
             "colorbar": {
              "outlinewidth": 0,
              "ticks": ""
             }
            },
            "marker": {
             "colorbar": {
              "outlinewidth": 0,
              "ticks": ""
             }
            },
            "type": "scatter3d"
           }
          ],
          "scattercarpet": [
           {
            "marker": {
             "colorbar": {
              "outlinewidth": 0,
              "ticks": ""
             }
            },
            "type": "scattercarpet"
           }
          ],
          "scattergeo": [
           {
            "marker": {
             "colorbar": {
              "outlinewidth": 0,
              "ticks": ""
             }
            },
            "type": "scattergeo"
           }
          ],
          "scattergl": [
           {
            "marker": {
             "colorbar": {
              "outlinewidth": 0,
              "ticks": ""
             }
            },
            "type": "scattergl"
           }
          ],
          "scattermapbox": [
           {
            "marker": {
             "colorbar": {
              "outlinewidth": 0,
              "ticks": ""
             }
            },
            "type": "scattermapbox"
           }
          ],
          "scatterpolar": [
           {
            "marker": {
             "colorbar": {
              "outlinewidth": 0,
              "ticks": ""
             }
            },
            "type": "scatterpolar"
           }
          ],
          "scatterpolargl": [
           {
            "marker": {
             "colorbar": {
              "outlinewidth": 0,
              "ticks": ""
             }
            },
            "type": "scatterpolargl"
           }
          ],
          "scatterternary": [
           {
            "marker": {
             "colorbar": {
              "outlinewidth": 0,
              "ticks": ""
             }
            },
            "type": "scatterternary"
           }
          ],
          "surface": [
           {
            "colorbar": {
             "outlinewidth": 0,
             "ticks": ""
            },
            "colorscale": [
             [
              0,
              "#0d0887"
             ],
             [
              0.1111111111111111,
              "#46039f"
             ],
             [
              0.2222222222222222,
              "#7201a8"
             ],
             [
              0.3333333333333333,
              "#9c179e"
             ],
             [
              0.4444444444444444,
              "#bd3786"
             ],
             [
              0.5555555555555556,
              "#d8576b"
             ],
             [
              0.6666666666666666,
              "#ed7953"
             ],
             [
              0.7777777777777778,
              "#fb9f3a"
             ],
             [
              0.8888888888888888,
              "#fdca26"
             ],
             [
              1,
              "#f0f921"
             ]
            ],
            "type": "surface"
           }
          ],
          "table": [
           {
            "cells": {
             "fill": {
              "color": "#EBF0F8"
             },
             "line": {
              "color": "white"
             }
            },
            "header": {
             "fill": {
              "color": "#C8D4E3"
             },
             "line": {
              "color": "white"
             }
            },
            "type": "table"
           }
          ]
         },
         "layout": {
          "annotationdefaults": {
           "arrowcolor": "#2a3f5f",
           "arrowhead": 0,
           "arrowwidth": 1
          },
          "autotypenumbers": "strict",
          "coloraxis": {
           "colorbar": {
            "outlinewidth": 0,
            "ticks": ""
           }
          },
          "colorscale": {
           "diverging": [
            [
             0,
             "#8e0152"
            ],
            [
             0.1,
             "#c51b7d"
            ],
            [
             0.2,
             "#de77ae"
            ],
            [
             0.3,
             "#f1b6da"
            ],
            [
             0.4,
             "#fde0ef"
            ],
            [
             0.5,
             "#f7f7f7"
            ],
            [
             0.6,
             "#e6f5d0"
            ],
            [
             0.7,
             "#b8e186"
            ],
            [
             0.8,
             "#7fbc41"
            ],
            [
             0.9,
             "#4d9221"
            ],
            [
             1,
             "#276419"
            ]
           ],
           "sequential": [
            [
             0,
             "#0d0887"
            ],
            [
             0.1111111111111111,
             "#46039f"
            ],
            [
             0.2222222222222222,
             "#7201a8"
            ],
            [
             0.3333333333333333,
             "#9c179e"
            ],
            [
             0.4444444444444444,
             "#bd3786"
            ],
            [
             0.5555555555555556,
             "#d8576b"
            ],
            [
             0.6666666666666666,
             "#ed7953"
            ],
            [
             0.7777777777777778,
             "#fb9f3a"
            ],
            [
             0.8888888888888888,
             "#fdca26"
            ],
            [
             1,
             "#f0f921"
            ]
           ],
           "sequentialminus": [
            [
             0,
             "#0d0887"
            ],
            [
             0.1111111111111111,
             "#46039f"
            ],
            [
             0.2222222222222222,
             "#7201a8"
            ],
            [
             0.3333333333333333,
             "#9c179e"
            ],
            [
             0.4444444444444444,
             "#bd3786"
            ],
            [
             0.5555555555555556,
             "#d8576b"
            ],
            [
             0.6666666666666666,
             "#ed7953"
            ],
            [
             0.7777777777777778,
             "#fb9f3a"
            ],
            [
             0.8888888888888888,
             "#fdca26"
            ],
            [
             1,
             "#f0f921"
            ]
           ]
          },
          "colorway": [
           "#636efa",
           "#EF553B",
           "#00cc96",
           "#ab63fa",
           "#FFA15A",
           "#19d3f3",
           "#FF6692",
           "#B6E880",
           "#FF97FF",
           "#FECB52"
          ],
          "font": {
           "color": "#2a3f5f"
          },
          "geo": {
           "bgcolor": "white",
           "lakecolor": "white",
           "landcolor": "#E5ECF6",
           "showlakes": true,
           "showland": true,
           "subunitcolor": "white"
          },
          "hoverlabel": {
           "align": "left"
          },
          "hovermode": "closest",
          "mapbox": {
           "style": "light"
          },
          "paper_bgcolor": "white",
          "plot_bgcolor": "#E5ECF6",
          "polar": {
           "angularaxis": {
            "gridcolor": "white",
            "linecolor": "white",
            "ticks": ""
           },
           "bgcolor": "#E5ECF6",
           "radialaxis": {
            "gridcolor": "white",
            "linecolor": "white",
            "ticks": ""
           }
          },
          "scene": {
           "xaxis": {
            "backgroundcolor": "#E5ECF6",
            "gridcolor": "white",
            "gridwidth": 2,
            "linecolor": "white",
            "showbackground": true,
            "ticks": "",
            "zerolinecolor": "white"
           },
           "yaxis": {
            "backgroundcolor": "#E5ECF6",
            "gridcolor": "white",
            "gridwidth": 2,
            "linecolor": "white",
            "showbackground": true,
            "ticks": "",
            "zerolinecolor": "white"
           },
           "zaxis": {
            "backgroundcolor": "#E5ECF6",
            "gridcolor": "white",
            "gridwidth": 2,
            "linecolor": "white",
            "showbackground": true,
            "ticks": "",
            "zerolinecolor": "white"
           }
          },
          "shapedefaults": {
           "line": {
            "color": "#2a3f5f"
           }
          },
          "ternary": {
           "aaxis": {
            "gridcolor": "white",
            "linecolor": "white",
            "ticks": ""
           },
           "baxis": {
            "gridcolor": "white",
            "linecolor": "white",
            "ticks": ""
           },
           "bgcolor": "#E5ECF6",
           "caxis": {
            "gridcolor": "white",
            "linecolor": "white",
            "ticks": ""
           }
          },
          "title": {
           "x": 0.05
          },
          "xaxis": {
           "automargin": true,
           "gridcolor": "white",
           "linecolor": "white",
           "ticks": "",
           "title": {
            "standoff": 15
           },
           "zerolinecolor": "white",
           "zerolinewidth": 2
          },
          "yaxis": {
           "automargin": true,
           "gridcolor": "white",
           "linecolor": "white",
           "ticks": "",
           "title": {
            "standoff": 15
           },
           "zerolinecolor": "white",
           "zerolinewidth": 2
          }
         }
        },
        "title": {
         "text": "Area and stretching in the x direction"
        },
        "updatemenus": [
         {
          "buttons": [
           {
            "args": [
             null,
             {
              "frame": {
               "duration": 50,
               "redraw": false
              },
              "fromcurrent": true,
              "transition": {
               "duration": 10
              }
             }
            ],
            "label": "Play",
            "method": "animate"
           }
          ],
          "type": "buttons"
         }
        ],
        "width": 600,
        "xaxis": {
         "range": [
          -2.3,
          2.3
         ],
         "title": {
          "text": "x"
         }
        },
        "yaxis": {
         "range": [
          -2.3,
          2.3
         ],
         "title": {
          "text": "y"
         }
        }
       }
      }
     },
     "metadata": {},
     "output_type": "display_data"
    }
   ],
   "source": [
    "# Scale and shear in the in both directions\n",
    "\n",
    "fig7 = create_animation(unit1, unit2, [\n",
    "    np.array([[x, x1], [y1, y]]) for x, y, x1, y1 in zip(np.linspace(1, 2, 50), np.linspace(1, 2, 50), np.linspace(0, 1, 50), np.linspace(0, 1, 50))])\n",
    "fig7.show()"
   ]
  },
  {
   "cell_type": "code",
   "execution_count": null,
   "id": "dc2ff793",
   "metadata": {},
   "outputs": [
    {
     "data": {
      "text/plain": [
       "array([3., 3.])"
      ]
     },
     "execution_count": 85,
     "metadata": {},
     "output_type": "execute_result"
    }
   ],
   "source": [
    "np.ones((2, 2)) @ np.array([-2, 5])"
   ]
  },
  {
   "cell_type": "code",
   "execution_count": null,
   "id": "0bdeec18",
   "metadata": {},
   "outputs": [
    {
     "data": {
      "text/plain": [
       "array([0., 0.])"
      ]
     },
     "execution_count": 87,
     "metadata": {},
     "output_type": "execute_result"
    }
   ],
   "source": [
    "np.ones((2, 2)) @ np.array([-1, 1])"
   ]
  },
  {
   "cell_type": "code",
   "execution_count": 86,
   "id": "39965120",
   "metadata": {},
   "outputs": [
    {
     "data": {
      "text/plain": [
       "np.float64(0.0)"
      ]
     },
     "execution_count": 86,
     "metadata": {},
     "output_type": "execute_result"
    }
   ],
   "source": [
    "np.linalg.det(np.ones((2, 2)))"
   ]
  }
 ],
 "metadata": {
  "kernelspec": {
   "display_name": "Python 3",
   "language": "python",
   "name": "python3"
  },
  "language_info": {
   "codemirror_mode": {
    "name": "ipython",
    "version": 3
   },
   "file_extension": ".py",
   "mimetype": "text/x-python",
   "name": "python",
   "nbconvert_exporter": "python",
   "pygments_lexer": "ipython3",
   "version": "3.11.11"
  }
 },
 "nbformat": 4,
 "nbformat_minor": 5
}
