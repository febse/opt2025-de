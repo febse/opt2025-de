{
 "cells": [
  {
   "cell_type": "markdown",
   "id": "68d41136",
   "metadata": {},
   "source": [
    "# Buchhaltung mit Excel und Numpy (Übung)\n",
    "\n",
    "Open in Colab: [![Open in Colab](https://colab.research.google.com/assets/colab-badge.svg)](https://colab.research.google.com/github/febse/opt2025-de/blob/main/Lineare-Algebra-Ex.ipynb)\n",
    "\n",
    "\n",
    "Stellen wir uns vor, dass wir mehrere Bankkonten haben, z.B. ein Konto in BGN in Bulgarien (z.B. Unicredit), ein PayPal-Konto in USD und ein Revolut-Konto in Euro. Wir möchten wissen, wie viel Geld wir insgesamt haben. Die einzelne Kontostände sind z.B. $x = 1000$ BGN in dem BGN-Konto, $y = 500$ USD in dem PayPal-Konto und $z = 200$ Euro in dem Revolut-Konto. Wir können diese Kontostände nicht direkt addieren, weil sie in verschiedenen Währungen sind. Um unser Gesamtvermögen zu berechnen, müssen wir alle Kontostände in die gleiche Währung umrechnen. Wir können das mit den Wechselkursen machen:\n",
    "\n",
    "- 1 BGN = 0.51 Euro\n",
    "- 1 USD = 0.91 Euro\n",
    "- 1 Euro = 1 Euro\n",
    "\n",
    "\n",
    "[Excel](https://github.com/febse/data/raw/refs/heads/main/opt/Accounts.xlsx)\n",
    "\n",
    "- Der Gesamtwert in Euro\n",
    "- Der Gesamtwert in Euro des PayPal-Kontos\n",
    "- Der Gesamtwert in USD des PayPal-Kontos\n",
    "- Der Durchschnittswert in Euro\n",
    "- Der Gesamtwert vom bulgarischen Konto und dem PayPal-Konto (in Euro)\n",
    "- Die Summe des Bank-und PayPal-Kontos in Euro abzüglich des Revolut-Kontostands\n"
   ]
  },
  {
   "cell_type": "code",
   "execution_count": null,
   "id": "cfc0f145",
   "metadata": {},
   "outputs": [
    {
     "name": "stdout",
     "output_type": "stream",
     "text": [
      "Per Hand 1: 1166.2918811962186\n",
      "Per Hand: 1165.0\n"
     ]
    },
    {
     "data": {
      "text/plain": [
       "np.float64(1165.0)"
      ]
     },
     "execution_count": 1,
     "metadata": {},
     "output_type": "execute_result"
    }
   ],
   "source": [
    "import numpy as np\n",
    "\n",
    "# Die Daten\n",
    "balances = np.array([1000, 500, 200])\n",
    "\n",
    "# Die Operationen\n",
    "rates = np.array([0.51, 0.91, 1])"
   ]
  }
 ],
 "metadata": {
  "kernelspec": {
   "display_name": "opt2025-de",
   "language": "python",
   "name": "python3"
  },
  "language_info": {
   "codemirror_mode": {
    "name": "ipython",
    "version": 3
   },
   "file_extension": ".py",
   "mimetype": "text/x-python",
   "name": "python",
   "nbconvert_exporter": "python",
   "pygments_lexer": "ipython3",
   "version": "3.11.11"
  }
 },
 "nbformat": 4,
 "nbformat_minor": 5
}
