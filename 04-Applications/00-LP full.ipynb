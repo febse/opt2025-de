{
 "cells": [
  {
   "cell_type": "markdown",
   "metadata": {},
   "source": [
    "# Übungsaufgaben"
   ]
  },
  {
   "cell_type": "code",
   "execution_count": null,
   "metadata": {},
   "outputs": [],
   "source": [
    "import pandas as pd\n",
    "import gurobipy as gp\n",
    "from gurobipy import GRB"
   ]
  },
  {
   "cell_type": "markdown",
   "metadata": {},
   "source": [
    "## Planung von Wohngebäuden\n",
    "\n",
    "Wir nehmen an, dass Sofia mit einem Defizit im lokalen Haushalt konfrontiert ist und der Stadtrat darüber nachdenkt, wie die Einnahmen aus Steuern auf Gebäude durch die Umgestaltung von städtischen Grundstücken erhöht werden können. Das Projekt besteht aus zwei Teilen -- der Räumung von vernachlässigten und beschädigten Gebäuden und dem Bau neuer Wohngebäude.\n",
    "\n",
    "1. Die Gemeinde besitzt derzeit 300 vernachlässigte Gebäude, die abgerissen werden können. Jedes von ihnen befreit 1000 Quadratmeter und die Kosten für den Abriss betragen 3000 BGN pro Gebäude. 15% des freigesetzten Raums sind für Straßen und freie Flächen vorgesehen.\n",
    "\n",
    "2. Auf den freigelegten Parzellen kann die Gemeinde vier Arten von neuen Wohngebäuden errichten: Einfamilienhäuser (300 Quadratmeter), Zweifamilienhäuser (500 Quadratmeter), Dreifamilienhäuser (700 Quadratmeter) und Vierfamilienhäuser (900 Quadratmeter). Die erwarteten Steuereinnahmen betragen jeweils 1000 BGN, 1700 BGN, 2400 BGN und 2800 BGN pro Jahr.\n",
    "\n",
    "3. Mindestens 20% der neuen Gebäude müssen Einfamilienhäuser sein, Zweifamilienhäuser müssen mindestens 20% ausmachen, und Dreifamilien- und Vierfamilienhäuser müssen mindestens ein Viertel aller neuen Gebäude ausmachen.\n",
    "\n",
    "4. Die Baukosten für die neuen Häuser betragen jeweils 50 000 BGN, 70 000 BGN, 130 000 BGN und 160 000 BGN.\n",
    "\n",
    "5. Die Gemeinde plant, das Projekt durch einen Bankkredit zu finanzieren, der 15 Millionen BGN nicht überschreiten darf.\n",
    "\n",
    "Wie viele Häuser jeder Art sollte die Gemeinde planen, um die höchsten möglichen Steuereinnahmen zu erzielen?"
   ]
  },
  {
   "cell_type": "code",
   "execution_count": null,
   "metadata": {},
   "outputs": [],
   "source": []
  },
  {
   "cell_type": "markdown",
   "metadata": {},
   "source": [
    "## Produktion und Lagerung\n",
    "\n",
    "Ein Unternehmen, das Fenster herstellt, hat einen Vertrag über die Lieferung von Fenstern für die nächsten 6 Monate. Für diesen Zeitraum erwartet das Unternehmen, dass die Produktionskosten (Arbeits- und Materialkosten) variieren. Das Unternehmen kann von niedrigeren Produktionskosten in einem bestimmten Zeitraum profitieren und mehr Fenster produzieren, als benötigt werden, wobei die Kosten für die Lagerung der Produkte 8 BGN pro Monat pro Stück betragen. Zum Zeitpunkt der Planung hat das Unternehmen keine fertigen Fenster auf Lager. Am Ende des Planungszeitraums muss das Unternehmen keine Fenster auf Lager haben. Die Produktionskosten und die erwartete Nachfrage für die nächsten 6 Monate sind in der folgenden Tabelle dargestellt:\n"
   ]
  },
  {
   "cell_type": "code",
   "execution_count": 1,
   "metadata": {},
   "outputs": [
    {
     "data": {
      "text/html": [
       "<div>\n",
       "<style scoped>\n",
       "    .dataframe tbody tr th:only-of-type {\n",
       "        vertical-align: middle;\n",
       "    }\n",
       "\n",
       "    .dataframe tbody tr th {\n",
       "        vertical-align: top;\n",
       "    }\n",
       "\n",
       "    .dataframe thead th {\n",
       "        text-align: right;\n",
       "    }\n",
       "</style>\n",
       "<table border=\"1\" class=\"dataframe\">\n",
       "  <thead>\n",
       "    <tr style=\"text-align: right;\">\n",
       "      <th></th>\n",
       "      <th>Januar</th>\n",
       "      <th>Februar</th>\n",
       "      <th>März</th>\n",
       "      <th>April</th>\n",
       "      <th>Mai</th>\n",
       "      <th>Juni</th>\n",
       "    </tr>\n",
       "  </thead>\n",
       "  <tbody>\n",
       "    <tr>\n",
       "      <th>Nachfrage</th>\n",
       "      <td>100</td>\n",
       "      <td>250</td>\n",
       "      <td>190</td>\n",
       "      <td>140</td>\n",
       "      <td>220</td>\n",
       "      <td>110</td>\n",
       "    </tr>\n",
       "    <tr>\n",
       "      <th>Kosten</th>\n",
       "      <td>50</td>\n",
       "      <td>45</td>\n",
       "      <td>55</td>\n",
       "      <td>48</td>\n",
       "      <td>52</td>\n",
       "      <td>50</td>\n",
       "    </tr>\n",
       "  </tbody>\n",
       "</table>\n",
       "</div>"
      ],
      "text/plain": [
       "           Januar  Februar  März  April  Mai  Juni\n",
       "Nachfrage     100      250   190    140  220   110\n",
       "Kosten         50       45    55     48   52    50"
      ]
     },
     "execution_count": 1,
     "metadata": {},
     "output_type": "execute_result"
    }
   ],
   "source": [
    "import pandas as pd\n",
    "\n",
    "df_prod = pd.DataFrame(\n",
    "    [\n",
    "        [100, 250, 190, 140, 220, 110],\n",
    "        [50, 45, 55, 48, 52, 50]\n",
    "    ],\n",
    "    index=[\"Nachfrage\", \"Produktionskosten\"],\n",
    "    columns = [\"Januar\", \"Februar\", \"März\", \"April\", \"Mai\", \"Juni\"]\n",
    ")\n",
    "\n",
    "df_prod"
   ]
  },
  {
   "cell_type": "markdown",
   "metadata": {},
   "source": [
    "## Produktion und Lagerung\n",
    "\n",
    "Ein Unternehmen, das Fenster herstellt, hat einen Vertrag über die Lieferung von Fenstern für die nächsten 6 Monate. Für diesen Zeitraum erwartet das Unternehmen, dass die Produktionskosten (Arbeits- und Materialkosten) variieren. Das Unternehmen kann von niedrigeren Produktionskosten in einem bestimmten Zeitraum profitieren und mehr Fenster produzieren, als benötigt werden, wobei die Kosten für die Lagerung der Produkte 8 BGN pro Monat pro Stück betragen. Zum Zeitpunkt der Planung hat das Unternehmen keine fertigen Fenster auf Lager. Am Ende des Planungszeitraums muss das Unternehmen keine Fenster auf Lager haben. \n",
    "\n",
    "\n",
    "\n",
    "Wie viele Fenster sollte das Unternehmen in jedem Monat produzieren, um die Gesamtkosten zu minimieren?\n",
    "\n",
    ":::{.callout-note collapse=\"true\"}\n",
    "## Das Modell\n",
    "\n",
    "$$\n",
    "\\begin{align*}\n",
    "x_{jan} & : \\text{Produktion in Januar} \\\\\n",
    "x_{feb} & : \\text{Produktion in Februar} \\\\\n",
    "x_{mar} & : \\text{Produktion in März} \\\\\n",
    "x_{apr} & : \\text{Produktion in April} \\\\\n",
    "x_{may} & : \\text{Produktion in Mai} \\\\\n",
    "x_{jun} & : \\text{Produktion in Juni} \\\\\n",
    "\\end{align*}\n",
    "$$\n",
    "\n",
    "$$\n",
    "\\begin{align*}\n",
    "y_{jan} & : \\text{auf Lager zum Ende von Januar} \\\\\n",
    "y_{feb} & : \\text{auf Lager zum Ende von Februar} \\\\\n",
    "y_{mar} & : \\text{auf Lager zum Ende von März} \\\\\n",
    "y_{apr} & : \\text{auf Lager zum Ende von April} \\\\\n",
    "y_{may} & : \\text{auf Lager zum Ende von Mai} \\\\\n",
    "y_{jun} & : \\text{auf Lager zum Ende von Juni}\n",
    "\\end{align*}\n",
    "$$\n",
    "\n",
    "Die Gesamtkosten sind gleich der Summe der produzierten Fenster multipliziert mit dem Stückpreis:\n",
    "\n",
    "$$\n",
    "\\text{production cost} = 50x_{jan} + 45x_{feb} + 55x_{mar} + 48x_{apr} + 52x_{may} + 50x_{jun}\n",
    "$$\n",
    "\n",
    "Die Lagerkosten sind gleich der Summe der Fenster auf Lager multipliziert mit dem Preis pro Stück:\n",
    "\n",
    "$$\n",
    "\\text{storage cost} = 8y_{jan} + 8y_{feb} + 8y_{mar} + 8y_{apr} + 8y_{may} + 8y_{jun}\n",
    "$$\n",
    "\n",
    "In jedem Monat muss die Produktion plus die Fenster auf Lager gleich der Nachfrage sein:\n",
    "\n",
    "$$\n",
    "\\begin{align*}\n",
    "x_{jan} + (0  - y_{jan}) & = 100 \\\\\n",
    "x_{feb} + (y_{jan} - y_{feb}) & = 250 \\\\\n",
    "x_{mar} + (y_{feb} - y_{mar}) & = 190 \\\\\n",
    "x_{apr} + (y_{mar} - y_{apr}) & = 140 \\\\\n",
    "x_{may} + (y_{apr} - y_{may}) & = 220 \\\\\n",
    "x_{jun} + (y_{may} - 0) & = 110\n",
    "\\end{align*}\n",
    "$$\n",
    "\n",
    "Die Anzahl der Fenster auf Lager und die Anzahl der Produzierten Fenster können nicht negativ sein:\n",
    "\n",
    "$$\n",
    "\\begin{align*}\n",
    "x_{jan}, x_{feb}, x_{mar}, x_{apr}, x_{may}, x_{jun} & \\geq 0 \\\\\n",
    "y_{jan}, y_{feb}, y_{mar}, y_{apr}, y_{may}, y_{jun} & \\geq 0\n",
    "\\end{align*}\n",
    "$$\n",
    ":::\n"
   ]
  },
  {
   "cell_type": "markdown",
   "metadata": {},
   "source": [
    "## Produktionsplanung\n",
    "\n",
    "Eine Raffinerie produziert drei Arten von bleifreiem Benzin, die sich in ihrer Oktanzahl (ON) unterscheiden: Normal (ON $\\geq 87$), Premium (ON $\\geq 89$) und Super (ON $\\geq 92). Die Verarbeitung von Rohöl umfasst drei Komponenten.\n",
    "\n",
    "1. In der ersten Komponente wird das Rohöl zu Rohbenzin (feedstock) mit einer Oktanzahl von ON = 82 destilliert. Zur Herstellung eines Barrels Rohbenzin sind 5 Barrel Rohöl erforderlich. Die Kapazität der Destillationsanlagen beträgt 1.500.000 Barrel pro Tag.\n",
    "\n",
    "2. Ein Teil des Rohbenzins wird in einem thermischen Cracken weiterverarbeitet, das Benzin mit ON = 98 produziert. Aus einem Barrel Rohbenzin produziert der Cracker ein halbes Barrel Benzin. Die Kapazität des Crackers ist auf 200.000 Barrel Rohbenzin pro Tag begrenzt.\n",
    "\n",
    "3. Das letzte Element in der Raffinerie ist ein Mischer, der das Benzin aus dem Cracker und das Rohbenzin aus der Destillation kombiniert. Die Oktanzahl der Mischungen entspricht ungefähr dem gewichteten Durchschnitt der Oktanzahlen der Komponenten. Beispiel: Aus 1 Barrel mit ON=90 und 2 Barrel mit ON=100 werden drei Barrel Mischung mit einer Oktanzahl von $(1\\times 90 + 2 \\times 100) / 3 \\approx 96.6$\n",
    "\n",
    "4. Die Nachfrage nach den drei Arten von Benzin ist auf 50, 30 bzw. 40 Tausend Barrel pro Tag begrenzt.\n",
    "\n",
    "5. Die Raffinerie bewertet den Gewinn pro Barrel Benzin mit 6, 7 bzw. 8 Dollar für die drei Arten von Benzin, die sie verkauft.\n",
    "\n",
    "Stellen Sie ein mathematisches Modell auf, um einen optimalen (maximalen Gewinn) Produktionsplan für die Raffinerie zu empfehlen.\n",
    "\n",
    "@fig-refinery zeigt die Produktionsstruktur der Raffinerie.\n",
    "\n",
    "\n",
    "```{mermaid}\n",
    "%%| label: fig-refinery\n",
    "%%| fig-cap: Produktionsstruktur\n",
    "\n",
    "flowchart LR\n",
    "    A[Destillation 5:1] -->|ON=82| B[Cracker 2:1]\n",
    "    A --> |ON=82| C\n",
    "    B -->|ON=98| C[Blending 1:1]\n",
    "    C --> D(ON=87)\n",
    "    C --> E(ON=89)\n",
    "    C --> F(ON=92)\n",
    "```"
   ]
  },
  {
   "cell_type": "markdown",
   "metadata": {},
   "source": [
    "\n",
    "## Kredite\n",
    "\n",
    "Eine Bank befindet sich in der Phase der Festlegung ihrer Kreditpolitik für fünf\n",
    "verschiedene Sektoren mit den folgenden Merkmalen:\n",
    "\n",
    "| Sektor      | Zinssatz | Ausfallrate |\n",
    "|-----------------|------:|---------------------------:|\n",
    "| Konsum   |  0.15 |                       0.10 |\n",
    "| Automobile      |  0.13 |                       0.07 |\n",
    "| Immobilien |  0.12 |                       0.03 |\n",
    "| Landwirtschaft       | 0.125 |                       0.05 |\n",
    "| Handelssektor        |  0.10 |                       0.02 |\n",
    "\n",
    "Die Bank verfügt insgesamt über 12 Millionen EUR und muss bei der Festlegung\n",
    "die folgenden Vorschriften beachten:\n",
    "\n",
    "1. Mindestens 40% der Kredite müssen auf den Handelssektor ausgerichtet sein.\n",
    "2. Kredite für Immobilien müssen mindestens die Hälfte der Gesamtsumme der\n",
    "   Konsumkredite, der Kredite für Automobile und Immobilien ausmachen.\n",
    "3. Gemäß den regulatorischen Anforderungen darf der Anteil der ausfallenden \n",
    "    Kredite 4% aller Kredite nicht überschreiten. Ausgefallene Kredite bringen kein Zinseinkommen.\n",
    "\n",
    "Welcher ist der optimale Plan für diese Bank?\n",
    ":::\n"
   ]
  },
  {
   "cell_type": "code",
   "execution_count": null,
   "metadata": {},
   "outputs": [
    {
     "name": "stdout",
     "output_type": "stream",
     "text": [
      "Restricted license - for non-production use only - expires 2025-11-24\n"
     ]
    }
   ],
   "source": [
    "\n"
   ]
  }
 ],
 "metadata": {
  "kernelspec": {
   "display_name": "opt2024",
   "language": "python",
   "name": "python3"
  },
  "language_info": {
   "codemirror_mode": {
    "name": "ipython",
    "version": 3
   },
   "file_extension": ".py",
   "mimetype": "text/x-python",
   "name": "python",
   "nbconvert_exporter": "python",
   "pygments_lexer": "ipython3",
   "version": "3.11.8"
  }
 },
 "nbformat": 4,
 "nbformat_minor": 2
}
