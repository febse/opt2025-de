{
  "cells": [
    {
      "cell_type": "markdown",
      "id": "89eeb5ad",
      "metadata": {
        "id": "89eeb5ad"
      },
      "source": [
        "# Produktion und Distribution\n",
        "\n",
        "## Das Entscheidungsproblem\n",
        "\n",
        "In diesem Beispiel werden wir ein einfaches Optimierungsmodell für ein Produktions- und Distributionsproblem formulieren. Wir stellen uns vor, dass wir ein Unternehmen beraten, das Backsteine herstellt. Das Unternehmen hat Produktionsstätten in Baltimore, Cleveland, Little Rock, Birmingham und Charleston. Die Produktion aus diesen Standorten wird an Vertriebszentren in Columbia, Indianapolis, Lexington, Nashville, Richmond und St. Louis geliefert.\n",
        "\n",
        "Die Marketingabteilung des Unternehmens erstellt laufend Prognosen für die Nachfrage in jedem Vertriebszentrum und das Unternehmen versucht, seine Lieferkette so zu optimieren, dass die Nachfrage in jedem Vertriebszentrum erfüllt wird, während die Gesamtkosten für die Lieferkette minimiert werden. \n",
        "\n",
        "Die Transportkosten zwischen den Produktionsstätten und den Vertriebszentren sind bekannt und in @tbl-prod-distr-costs aufgeführt. Die prognostizierte Nachfrage in jedem Vertriebszentrum ist in @tbl-prod-distr-demand aufgeführt. \n",
        "\n",
        "Ferner sind die Produktionskapazitäten in den Produktionsstätten begrenzt, wie in @tbl-prod-distr-capacities angegeben. Ausserdem müssen aus technischen Gründen alle Produktionsstätten mindestens 70 Prozent ihrer maximalen Kapazität nutzen."
      ]
    },
    {
      "cell_type": "code",
      "execution_count": 2,
      "id": "28e16593-5c56-43d6-b2fb-d05835d38ea3",
      "metadata": {
        "id": "28e16593-5c56-43d6-b2fb-d05835d38ea3"
      },
      "outputs": [
        {
          "name": "stdout",
          "output_type": "stream",
          "text": [
            "Requirement already satisfied: gurobipy in /home/amarov/anaconda3/envs/opt2024/lib/python3.11/site-packages (11.0.0)\n",
            "Note: you may need to restart the kernel to use updated packages.\n"
          ]
        }
      ],
      "source": [
        "%pip install gurobipy\n",
        "\n",
        "# Zuerst importieren wir pandas und gurobipy\n",
        "\n",
        "import pandas as pd\n",
        "import gurobipy as gp\n",
        "from gurobipy import GRB"
      ]
    },
    {
      "cell_type": "code",
      "execution_count": 3,
      "id": "a43d2925",
      "metadata": {},
      "outputs": [
        {
          "data": {
            "text/html": [
              "<div>\n",
              "<style scoped>\n",
              "    .dataframe tbody tr th:only-of-type {\n",
              "        vertical-align: middle;\n",
              "    }\n",
              "\n",
              "    .dataframe tbody tr th {\n",
              "        vertical-align: top;\n",
              "    }\n",
              "\n",
              "    .dataframe thead th {\n",
              "        text-align: right;\n",
              "    }\n",
              "</style>\n",
              "<table border=\"1\" class=\"dataframe\">\n",
              "  <thead>\n",
              "    <tr style=\"text-align: right;\">\n",
              "      <th></th>\n",
              "      <th>production</th>\n",
              "      <th>distribution</th>\n",
              "      <th>cost</th>\n",
              "    </tr>\n",
              "  </thead>\n",
              "  <tbody>\n",
              "    <tr>\n",
              "      <th>0</th>\n",
              "      <td>Baltimore</td>\n",
              "      <td>Columbia</td>\n",
              "      <td>4.50</td>\n",
              "    </tr>\n",
              "    <tr>\n",
              "      <th>1</th>\n",
              "      <td>Baltimore</td>\n",
              "      <td>Indianapolis</td>\n",
              "      <td>5.09</td>\n",
              "    </tr>\n",
              "    <tr>\n",
              "      <th>2</th>\n",
              "      <td>Baltimore</td>\n",
              "      <td>Lexington</td>\n",
              "      <td>4.33</td>\n",
              "    </tr>\n",
              "    <tr>\n",
              "      <th>3</th>\n",
              "      <td>Baltimore</td>\n",
              "      <td>Nashville</td>\n",
              "      <td>5.96</td>\n",
              "    </tr>\n",
              "    <tr>\n",
              "      <th>4</th>\n",
              "      <td>Baltimore</td>\n",
              "      <td>Richmond</td>\n",
              "      <td>1.96</td>\n",
              "    </tr>\n",
              "  </tbody>\n",
              "</table>\n",
              "</div>"
            ],
            "text/plain": [
              "  production  distribution  cost\n",
              "0  Baltimore      Columbia  4.50\n",
              "1  Baltimore  Indianapolis  5.09\n",
              "2  Baltimore     Lexington  4.33\n",
              "3  Baltimore     Nashville  5.96\n",
              "4  Baltimore      Richmond  1.96"
            ]
          },
          "execution_count": 3,
          "metadata": {},
          "output_type": "execute_result"
        }
      ],
      "source": [
        "# Dan laden wir den Datensatz mit den Transportkosten\n",
        "transp_cost = pd.read_csv(\"https://raw.githubusercontent.com/febse/data/main/opt/tp_costs1.csv\")\n",
        "\n",
        "# Und lassen uns die ersten paar Zeilen ausdrucken\n",
        "transp_cost.head()"
      ]
    },
    {
      "cell_type": "code",
      "execution_count": 4,
      "id": "754dcbf7",
      "metadata": {},
      "outputs": [
        {
          "data": {
            "text/html": [
              "<div>\n",
              "<style scoped>\n",
              "    .dataframe tbody tr th:only-of-type {\n",
              "        vertical-align: middle;\n",
              "    }\n",
              "\n",
              "    .dataframe tbody tr th {\n",
              "        vertical-align: top;\n",
              "    }\n",
              "\n",
              "    .dataframe thead th {\n",
              "        text-align: right;\n",
              "    }\n",
              "</style>\n",
              "<table border=\"1\" class=\"dataframe\">\n",
              "  <thead>\n",
              "    <tr style=\"text-align: right;\">\n",
              "      <th>distribution</th>\n",
              "      <th>Columbia</th>\n",
              "      <th>Indianapolis</th>\n",
              "      <th>Lexington</th>\n",
              "      <th>Nashville</th>\n",
              "      <th>Richmond</th>\n",
              "      <th>St. Louis</th>\n",
              "    </tr>\n",
              "    <tr>\n",
              "      <th>production</th>\n",
              "      <th></th>\n",
              "      <th></th>\n",
              "      <th></th>\n",
              "      <th></th>\n",
              "      <th></th>\n",
              "      <th></th>\n",
              "    </tr>\n",
              "  </thead>\n",
              "  <tbody>\n",
              "    <tr>\n",
              "      <th>Baltimore</th>\n",
              "      <td>4.50</td>\n",
              "      <td>5.09</td>\n",
              "      <td>4.33</td>\n",
              "      <td>5.96</td>\n",
              "      <td>1.96</td>\n",
              "      <td>7.30</td>\n",
              "    </tr>\n",
              "    <tr>\n",
              "      <th>Birmingham</th>\n",
              "      <td>3.33</td>\n",
              "      <td>4.33</td>\n",
              "      <td>3.38</td>\n",
              "      <td>1.53</td>\n",
              "      <td>5.95</td>\n",
              "      <td>4.01</td>\n",
              "    </tr>\n",
              "    <tr>\n",
              "      <th>Charleston</th>\n",
              "      <td>3.02</td>\n",
              "      <td>2.61</td>\n",
              "      <td>1.61</td>\n",
              "      <td>4.44</td>\n",
              "      <td>2.36</td>\n",
              "      <td>4.60</td>\n",
              "    </tr>\n",
              "    <tr>\n",
              "      <th>Cleveland</th>\n",
              "      <td>2.43</td>\n",
              "      <td>2.37</td>\n",
              "      <td>2.54</td>\n",
              "      <td>4.13</td>\n",
              "      <td>3.20</td>\n",
              "      <td>4.88</td>\n",
              "    </tr>\n",
              "    <tr>\n",
              "      <th>Little Rock</th>\n",
              "      <td>6.42</td>\n",
              "      <td>4.83</td>\n",
              "      <td>3.39</td>\n",
              "      <td>4.40</td>\n",
              "      <td>7.44</td>\n",
              "      <td>2.92</td>\n",
              "    </tr>\n",
              "  </tbody>\n",
              "</table>\n",
              "</div>"
            ],
            "text/plain": [
              "distribution  Columbia  Indianapolis  Lexington  Nashville  Richmond  \\\n",
              "production                                                             \n",
              "Baltimore         4.50          5.09       4.33       5.96      1.96   \n",
              "Birmingham        3.33          4.33       3.38       1.53      5.95   \n",
              "Charleston        3.02          2.61       1.61       4.44      2.36   \n",
              "Cleveland         2.43          2.37       2.54       4.13      3.20   \n",
              "Little Rock       6.42          4.83       3.39       4.40      7.44   \n",
              "\n",
              "distribution  St. Louis  \n",
              "production               \n",
              "Baltimore          7.30  \n",
              "Birmingham         4.01  \n",
              "Charleston         4.60  \n",
              "Cleveland          4.88  \n",
              "Little Rock        2.92  "
            ]
          },
          "execution_count": 4,
          "metadata": {},
          "output_type": "execute_result"
        }
      ],
      "source": [
        "#| label: tbl-prod-distr-costs\n",
        "#| tbl-cap: \"Transportkosten in EUR pro Einheit zwischen Produktionsstätten und Vertriebszentren\"\n",
        "\n",
        "# Es ist leichter, wenn wir uns die Transportkosten in einer Tabelle ansehen, \n",
        "# in der die Zeilen die Produktionsstätten und die Spalten die Vertriebszentren sind.\n",
        "\n",
        "transp_cost.pivot(index='production', columns='distribution', values='cost')"
      ]
    },
    {
      "cell_type": "code",
      "execution_count": 5,
      "id": "0ec7c728",
      "metadata": {},
      "outputs": [],
      "source": [
        "# Es wird einfacher sein (allerdings nicht notwendig), wenn wir\n",
        "# den DataFrame mit den Kosten nach Produktionsstätten und Vertriebszentren\n",
        "# indizieren. Das machen wir mit der Methode set_index.\n",
        "\n",
        "transp_cost.set_index(['production', 'distribution'], inplace=True)"
      ]
    },
    {
      "cell_type": "code",
      "execution_count": 6,
      "id": "6e81035f",
      "metadata": {},
      "outputs": [
        {
          "data": {
            "text/html": [
              "<div>\n",
              "<style scoped>\n",
              "    .dataframe tbody tr th:only-of-type {\n",
              "        vertical-align: middle;\n",
              "    }\n",
              "\n",
              "    .dataframe tbody tr th {\n",
              "        vertical-align: top;\n",
              "    }\n",
              "\n",
              "    .dataframe thead th {\n",
              "        text-align: right;\n",
              "    }\n",
              "</style>\n",
              "<table border=\"1\" class=\"dataframe\">\n",
              "  <thead>\n",
              "    <tr style=\"text-align: right;\">\n",
              "      <th></th>\n",
              "      <th>demand</th>\n",
              "    </tr>\n",
              "    <tr>\n",
              "      <th>distribution</th>\n",
              "      <th></th>\n",
              "    </tr>\n",
              "  </thead>\n",
              "  <tbody>\n",
              "    <tr>\n",
              "      <th>Columbia</th>\n",
              "      <td>89</td>\n",
              "    </tr>\n",
              "    <tr>\n",
              "      <th>Indianapolis</th>\n",
              "      <td>95</td>\n",
              "    </tr>\n",
              "    <tr>\n",
              "      <th>Lexington</th>\n",
              "      <td>121</td>\n",
              "    </tr>\n",
              "    <tr>\n",
              "      <th>Nashville</th>\n",
              "      <td>101</td>\n",
              "    </tr>\n",
              "    <tr>\n",
              "      <th>Richmond</th>\n",
              "      <td>116</td>\n",
              "    </tr>\n",
              "    <tr>\n",
              "      <th>St. Louis</th>\n",
              "      <td>181</td>\n",
              "    </tr>\n",
              "  </tbody>\n",
              "</table>\n",
              "</div>"
            ],
            "text/plain": [
              "              demand\n",
              "distribution        \n",
              "Columbia          89\n",
              "Indianapolis      95\n",
              "Lexington        121\n",
              "Nashville        101\n",
              "Richmond         116\n",
              "St. Louis        181"
            ]
          },
          "execution_count": 6,
          "metadata": {},
          "output_type": "execute_result"
        }
      ],
      "source": [
        "#| label: tbl-prod-distr-demand\n",
        "\n",
        "# Hier werden wir die Prognose für die Nachfrage in den Vertriebszentren\n",
        "# eingeben\n",
        "\n",
        "distribution = transp_cost.index.levels[1]\n",
        "n_demand = pd.Series([89,95,121,101,116,181], index = distribution, name = \"demand\") \n",
        "\n",
        "n_demand.to_frame()"
      ]
    },
    {
      "cell_type": "code",
      "execution_count": 7,
      "id": "2f27d128",
      "metadata": {},
      "outputs": [
        {
          "data": {
            "text/html": [
              "<div>\n",
              "<style scoped>\n",
              "    .dataframe tbody tr th:only-of-type {\n",
              "        vertical-align: middle;\n",
              "    }\n",
              "\n",
              "    .dataframe tbody tr th {\n",
              "        vertical-align: top;\n",
              "    }\n",
              "\n",
              "    .dataframe thead th {\n",
              "        text-align: right;\n",
              "    }\n",
              "</style>\n",
              "<table border=\"1\" class=\"dataframe\">\n",
              "  <thead>\n",
              "    <tr style=\"text-align: right;\">\n",
              "      <th></th>\n",
              "      <th>max_production</th>\n",
              "    </tr>\n",
              "    <tr>\n",
              "      <th>production</th>\n",
              "      <th></th>\n",
              "    </tr>\n",
              "  </thead>\n",
              "  <tbody>\n",
              "    <tr>\n",
              "      <th>Baltimore</th>\n",
              "      <td>180</td>\n",
              "    </tr>\n",
              "    <tr>\n",
              "      <th>Birmingham</th>\n",
              "      <td>200</td>\n",
              "    </tr>\n",
              "    <tr>\n",
              "      <th>Charleston</th>\n",
              "      <td>140</td>\n",
              "    </tr>\n",
              "    <tr>\n",
              "      <th>Cleveland</th>\n",
              "      <td>80</td>\n",
              "    </tr>\n",
              "    <tr>\n",
              "      <th>Little Rock</th>\n",
              "      <td>180</td>\n",
              "    </tr>\n",
              "  </tbody>\n",
              "</table>\n",
              "</div>"
            ],
            "text/plain": [
              "             max_production\n",
              "production                 \n",
              "Baltimore               180\n",
              "Birmingham              200\n",
              "Charleston              140\n",
              "Cleveland                80\n",
              "Little Rock             180"
            ]
          },
          "execution_count": 7,
          "metadata": {},
          "output_type": "execute_result"
        }
      ],
      "source": [
        "#| label: tbl-prod-distr-capacities\n",
        "#| tbl-cap: \"Kapazitäten der Produktionsstätten\"\n",
        "\n",
        "production = transp_cost.index.levels[0]\n",
        "max_prod = pd.Series([180,200,140,80,180], index = production, name = \"max_production\")\n",
        "\n",
        "max_prod.to_frame()"
      ]
    },
    {
      "cell_type": "markdown",
      "id": "89cbfe06",
      "metadata": {},
      "source": [
        "\n",
        "## Das mathematische Modell\n",
        "\n",
        "Jedes Optimierungsmodell besteht aus vier Komponenten\n",
        "\n",
        "- Parameter\n",
        "- Zielfunktion\n",
        "- Entscheidungsvariablen\n",
        "- Einschränkungen\n",
        "\n",
        "In unserem Fall sind die Parameter die Transportkosten, die Nachfrage und die Produktionskapazitäten. Die Zielfunktion besteht darin, die Gesamtkosten zu minimieren. Die Entscheidungsvariablen sind die Anzahl der Einheiten, die von jedem Produktionsstandort an jedes Vertriebszentrum geliefert werden. Die Einschränkungen bestehen darin, dass die Nachfrage in jedem Vertriebszentrum erfüllt wird und dass die Produktionskapazitäten nicht überschritten werden.\n",
        "\n",
        "\n",
        "| Prod./Distr | Columbia        |   Indianapolis    |    Lexington    | Nashville       | Richmond          |    St. Louis    |\n",
        "| ----------- | --------------- | :---------------: | :-------------: | --------------- | ----------------- | :-------------: |\n",
        "| Baltimore   | $x_{balt,col}$  | $x_{balt, indi}$  | $x_{balt,lex}$  | $x_{balt,lex}$  | $x_{balt, rich}$  | $x_{balt,stl}$  |\n",
        "| Birmingham  | $x_{birm,col}$  | $x_{birm, indi}$  | $x_{birm,lex}$  | $x_{birm,lex}$  | $x_{birm, rich}$  | $x_{birm,stl}$  |\n",
        "| Charleston  | $x_{charl,col}$ | $x_{charl, indi}$ | $x_{charl,lex}$ | $x_{charl,lex}$ | $x_{charl, rich}$ | $x_{charl,stl}$ |\n",
        "| Cleveland   | $x_{clev,col}$  | $x_{clev, indi}$  | $x_{clev,lex}$  | $x_{clev,lex}$  | $x_{clev, rich}$  | $x_{clev,stl}$  |\n",
        "| Little Rock | $x_{littl,col}$ | $x_{littl, indi}$ | $x_{littl,lex}$ | $x_{littl,lex}$ | $x_{littl, rich}$ | $x_{littl,stl}$ |\n",
        "\n",
        "\n",
        "Mit diesen Variablen können wir die Gesamtkosten für den Transport von Backsteinen von den Produktionsstätten zu den Vertriebszentren ausdrücken.\n",
        "\n",
        "$$\n",
        "\\min \\text{Transportkosten} = 4.50 \\times x_{balt,col} + 5.09 \\times x_{balt,indi} + 4.33 \\times x_{balt,lex} + \\ldots + 2.92 \\times x_{littl,stl}\n",
        "$$\n",
        "\n",
        "\n",
        "Da die Funktion der Transportkosten auch in diesem kleinen Beispiel sehr lang wird (viele Variablen), ist es sinnvoll, die Schreibweise kompakter zu machen. Dazu definieren wir zwei Indexmengen:\n",
        "\n",
        "$$\n",
        "\\begin{align*}\n",
        "P & = \\{\\text{Columbia}, \\text{Indianapolis}, \\text{Lexington}, \\text{Nashville}, \\text{Richmond}, \\text{St. Louis}\\} \\\\\n",
        "D & = \\{\\text{Baltimore}, \\text{Cleveland}, \\text{Little Rock}, \\text{Birmingham}, \\text{Charleston}\\}\n",
        "\\end{align*}\n",
        "$$\n",
        "\n",
        "Mit diesen Mengen können wir die Transportkosten als\n",
        "\n",
        "$$\n",
        "\\min \\text{Transportkosten} = \\sum_{p \\in P} \\sum_{d \\in D} \\text{cost}_{pd} \\times x_{pd}\n",
        "$$\n",
        "\n",
        "schreiben, wobei $\\text{cost}_{pd}$ die Transportkosten von Produktionsstätte $d$ nach Vertriebszentrum $p$ sind und $x_{pd}$ die Anzahl der Einheiten ist, die von Produktionsstätte $d$ nach Vertriebszentrum $p$ geliefert werden.\n",
        "\n",
        "Mit dieser Schreibweise können wir auch die Einschränkungen für die Produktionskapazitäten und die Nachfrage in den Vertriebszentren kompakter formulieren. Die Produktionskapazitäten können als\n",
        "\n",
        "$$\n",
        "\\sum_{p \\in P} x_{pd} \\leq \\text{capacity}_d \\quad \\forall d \\in D\n",
        "$$\n",
        "\n",
        "und die Nachfrage in den Vertriebszentren als\n",
        "\n",
        "$$\n",
        "\\sum_{d \\in D} x_{pd} \\geq \\text{demand}_p \\quad \\forall p \\in P\n",
        "$$\n",
        "\n",
        "geschrieben werden.\n",
        "\n",
        "## Implementierung"
      ]
    },
    {
      "cell_type": "code",
      "execution_count": 8,
      "id": "d0587bb7",
      "metadata": {},
      "outputs": [
        {
          "name": "stdout",
          "output_type": "stream",
          "text": [
            "<class 'pandas.core.series.Series'>\n"
          ]
        },
        {
          "data": {
            "text/plain": [
              "production   distribution\n",
              "Baltimore    Columbia        4.50\n",
              "             Indianapolis    5.09\n",
              "             Lexington       4.33\n",
              "             Nashville       5.96\n",
              "             Richmond        1.96\n",
              "             St. Louis       7.30\n",
              "Cleveland    Columbia        2.43\n",
              "             Indianapolis    2.37\n",
              "             Lexington       2.54\n",
              "             Nashville       4.13\n",
              "             Richmond        3.20\n",
              "             St. Louis       4.88\n",
              "Little Rock  Columbia        6.42\n",
              "             Indianapolis    4.83\n",
              "             Lexington       3.39\n",
              "             Nashville       4.40\n",
              "             Richmond        7.44\n",
              "             St. Louis       2.92\n",
              "Birmingham   Columbia        3.33\n",
              "             Indianapolis    4.33\n",
              "             Lexington       3.38\n",
              "             Nashville       1.53\n",
              "             Richmond        5.95\n",
              "             St. Louis       4.01\n",
              "Charleston   Columbia        3.02\n",
              "             Indianapolis    2.61\n",
              "             Lexington       1.61\n",
              "             Nashville       4.44\n",
              "             Richmond        2.36\n",
              "             St. Louis       4.60\n",
              "Name: cost, dtype: float64"
            ]
          },
          "execution_count": 8,
          "metadata": {},
          "output_type": "execute_result"
        }
      ],
      "source": [
        "# Zuerst reduzieren wir den DataFrame mit den Transportkosten auf eine Serie\n",
        "\n",
        "transp_cost = transp_cost.squeeze()\n",
        "print(type(transp_cost))\n",
        "transp_cost"
      ]
    },
    {
      "cell_type": "markdown",
      "id": "cca98af8-c5c2-4883-8c48-f104ff798010",
      "metadata": {
        "id": "cca98af8-c5c2-4883-8c48-f104ff798010"
      },
      "source": [
        "### Entscheidungsvariablen hinzufügen\n",
        "\n",
        "Die Entscheidungsvariablen sind die Variablen, über die wir die Kontrolle haben und die der Optimierungslöser (solver) bestimmt.\n",
        "\n",
        "In der Optimierung gibt es verschiedene Arten von Variablen:\n",
        "- `Continuous`: Z.B. die Menge eines Produkts, die produziert wird\n",
        "- `Integer`: Z.B. die Anzahl von Maschinen, die in einer Fabrik installiert werden\n",
        "- `Binary`: Z.B. die Entscheidung, ob eine Maschine installiert wird oder nicht\n",
        "\n",
        "Die Entscheidungsvariablen (und Parameter) werden mit Elementen von Mengen indiziert, die wir für das Problem definieren. In diesem Beispiel beginnen wir mit einer Menge von Städten, die unser Produkt herstellen, die wir für die Formulierung als Menge $P$ bezeichnen, aber im Code als 'production' definieren können. Die zweite Indexmenge in unserem Problem sind die Verteilungsorte, die wir in dem mathematischen Modell als die Menge $D$ bezeichnen. In dem Code nennen wir sie 'distribution'. \n",
        "\n",
        "Let $x_{p,d}$ be the number of widgets that are produced at facility $p$ and shipped to location $d$. In `gurobipy` gibt es zwei Möglichkeiten, Variablen hinzuzufügen:\n",
        "\n",
        "- [addVar()](https://www.gurobi.com/documentation/10.0/refman/py_model_addvar.html) fügt eine einzelne Variable hinzu\n",
        "- [addVars()](https://www.gurobi.com/documentation/10.0/refman/py_model_addvar.html) fügt eine Liste von Variablen hinzu, die durch eine Liste von Indizes indiziert sind.\n"
      ]
    },
    {
      "cell_type": "code",
      "execution_count": 9,
      "id": "ed5c511b-6da0-4edd-a647-7cf91c67aeda",
      "metadata": {
        "id": "ed5c511b-6da0-4edd-a647-7cf91c67aeda"
      },
      "outputs": [
        {
          "name": "stdout",
          "output_type": "stream",
          "text": [
            "Restricted license - for non-production use only - expires 2025-11-24\n",
            "Adding a variable for route Baltimore -> Columbia\n",
            "Adding a variable for route Baltimore -> Indianapolis\n",
            "Adding a variable for route Baltimore -> Lexington\n",
            "Adding a variable for route Baltimore -> Nashville\n",
            "Adding a variable for route Baltimore -> Richmond\n",
            "Adding a variable for route Baltimore -> St. Louis\n",
            "Adding a variable for route Birmingham -> Columbia\n",
            "Adding a variable for route Birmingham -> Indianapolis\n",
            "Adding a variable for route Birmingham -> Lexington\n",
            "Adding a variable for route Birmingham -> Nashville\n",
            "Adding a variable for route Birmingham -> Richmond\n",
            "Adding a variable for route Birmingham -> St. Louis\n",
            "Adding a variable for route Charleston -> Columbia\n",
            "Adding a variable for route Charleston -> Indianapolis\n",
            "Adding a variable for route Charleston -> Lexington\n",
            "Adding a variable for route Charleston -> Nashville\n",
            "Adding a variable for route Charleston -> Richmond\n",
            "Adding a variable for route Charleston -> St. Louis\n",
            "Adding a variable for route Cleveland -> Columbia\n",
            "Adding a variable for route Cleveland -> Indianapolis\n",
            "Adding a variable for route Cleveland -> Lexington\n",
            "Adding a variable for route Cleveland -> Nashville\n",
            "Adding a variable for route Cleveland -> Richmond\n",
            "Adding a variable for route Cleveland -> St. Louis\n",
            "Adding a variable for route Little Rock -> Columbia\n",
            "Adding a variable for route Little Rock -> Indianapolis\n",
            "Adding a variable for route Little Rock -> Lexington\n",
            "Adding a variable for route Little Rock -> Nashville\n",
            "Adding a variable for route Little Rock -> Richmond\n",
            "Adding a variable for route Little Rock -> St. Louis\n"
          ]
        }
      ],
      "source": [
        "# Zuerst erstellen wir ein Modell\n",
        "m = gp.Model(\"Produktion und Distribution\")\n",
        "\n",
        "# Hier erstellen wir eine leere Liste, in der wir die Variablen für die Routen speichern\n",
        "routes = []\n",
        "\n",
        "# Nun iterieren über die Produktionsstätten und die Vertriebszentren\n",
        "for p in production:\n",
        "    for d in distribution:\n",
        "        print(f\"Adding a variable for route {p} -> {d}\")\n",
        "        x = m.addVar(name=f\"route_{p}_{d}\", vtype=GRB.CONTINUOUS)\n",
        "        routes.append(x)"
      ]
    },
    {
      "cell_type": "code",
      "execution_count": 10,
      "id": "b66187a6-2b42-4d9b-8a96-6969da5150fb",
      "metadata": {
        "id": "b66187a6-2b42-4d9b-8a96-6969da5150fb"
      },
      "outputs": [],
      "source": [
        "# Eine andere Möglichkeit, die Variablen hinzuzufügen, ist es, Listen als ein Indices zu verwenden\n",
        "m = gp.Model('Produktion und Distribution')\n",
        "\n",
        "routes = m.addVars(production, distribution, name=\"route\", vtype=GRB.CONTINUOUS)"
      ]
    },
    {
      "cell_type": "code",
      "execution_count": 11,
      "id": "4420b1b9-844b-4dc1-90f0-955938f5885c",
      "metadata": {
        "id": "4420b1b9-844b-4dc1-90f0-955938f5885c"
      },
      "outputs": [],
      "source": [
        "# Da wir bereits ein Index für die Produktionsstätten und die Vertriebszentren haben,\n",
        "# können den Index des DataFrames transp_cost als Index für die Variablen verwenden\n",
        "\n",
        "m = gp.Model(\"Produktion und Distribution\")\n",
        "\n",
        "routes = m.addVars(transp_cost.index, name=\"route\", vtype=GRB.CONTINUOUS)"
      ]
    },
    {
      "cell_type": "markdown",
      "id": "9dde6c86",
      "metadata": {
        "id": "9dde6c86"
      },
      "source": [
        "### Einschränkungen hinzufügen\n",
        "\n",
        "Es gibt zwei Art und Weisen, Einschränkungen zu einem Modell hinzuzufügen:\n",
        "\n",
        "- [addConstr()](https://www.gurobi.com/documentation/10.0/refman/py_model_addconstr.html) fügt eine einzelne Einschränkung hinzu\n",
        "- [addConstrs()](https://www.gurobi.com/documentation/10.0/refman/py_model_addconstrs.htmll) fügt eine Liste von Einschränkungen hinzu.\n",
        "\n",
        "This will be the first time we use [gp.quicksum()](https://www.gurobi.com/documentation/10.0/refman/py_quicksum.html). There are other ways to sum expressions in gurobipy and while this method isn't the most concise to code, it is easy to compare it to the summation in the formulation to see how it works. "
      ]
    },
    {
      "cell_type": "code",
      "execution_count": 12,
      "id": "5fee7987-ff5e-4b00-9e28-c93121c44ec3",
      "metadata": {
        "id": "5fee7987-ff5e-4b00-9e28-c93121c44ec3"
      },
      "outputs": [
        {
          "data": {
            "text/plain": [
              "{'Columbia': <gurobi.Constr *Awaiting Model Update*>,\n",
              " 'Indianapolis': <gurobi.Constr *Awaiting Model Update*>,\n",
              " 'Lexington': <gurobi.Constr *Awaiting Model Update*>,\n",
              " 'Nashville': <gurobi.Constr *Awaiting Model Update*>,\n",
              " 'Richmond': <gurobi.Constr *Awaiting Model Update*>,\n",
              " 'St. Louis': <gurobi.Constr *Awaiting Model Update*>}"
            ]
          },
          "execution_count": 12,
          "metadata": {},
          "output_type": "execute_result"
        }
      ],
      "source": [
        "# Die Einschränkungen für die Nachfrage in den Vertriebszentren\n",
        "\n",
        "meet_demand = m.addConstrs((gp.quicksum((routes[p, d] for p in production)) >= n_demand[d] for d in distribution), name=\"meet_demand\")\n",
        "meet_demand"
      ]
    },
    {
      "cell_type": "code",
      "execution_count": 13,
      "id": "d70dbb23-db8f-40fb-af49-1682071c6c62",
      "metadata": {
        "id": "d70dbb23-db8f-40fb-af49-1682071c6c62"
      },
      "outputs": [
        {
          "name": "stdout",
          "output_type": "stream",
          "text": [
            "{'Baltimore': <gurobi.Constr *Awaiting Model Update*>, 'Birmingham': <gurobi.Constr *Awaiting Model Update*>, 'Charleston': <gurobi.Constr *Awaiting Model Update*>, 'Cleveland': <gurobi.Constr *Awaiting Model Update*>, 'Little Rock': <gurobi.Constr *Awaiting Model Update*>}\n"
          ]
        },
        {
          "data": {
            "text/plain": [
              "{'Baltimore': <gurobi.Constr *Awaiting Model Update*>,\n",
              " 'Birmingham': <gurobi.Constr *Awaiting Model Update*>,\n",
              " 'Charleston': <gurobi.Constr *Awaiting Model Update*>,\n",
              " 'Cleveland': <gurobi.Constr *Awaiting Model Update*>,\n",
              " 'Little Rock': <gurobi.Constr *Awaiting Model Update*>}"
            ]
          },
          "execution_count": 13,
          "metadata": {},
          "output_type": "execute_result"
        }
      ],
      "source": [
        "can_produce = m.addConstrs(\n",
        "    (gp.quicksum(routes[p, d] for d in distribution) <= max_prod[p] for p in production),\n",
        "    name=\"can_produce\"\n",
        ")\n",
        "print(can_produce)\n",
        "\n",
        "must_produce = m.addConstrs(\n",
        "    (\n",
        "        gp.quicksum(routes[p, d] for d in distribution) >= 0.7 * max_prod[p] for p in production\n",
        "    ),\n",
        "    name=\"must_produce\"\n",
        ")\n",
        "\n",
        "must_produce"
      ]
    },
    {
      "cell_type": "markdown",
      "id": "b5be8505-9359-4004-8ac0-b54502db661e",
      "metadata": {
        "id": "b5be8505-9359-4004-8ac0-b54502db661e"
      },
      "source": [
        "### Die Zielfunktion hinzufügen\n",
        "\n",
        "In `gurobipy` können wir die Zielfunktion mit [setObjective()](https://www.gurobi.com/documentation/10.0/refman/py_model_setobjective.html) setzen. Das zweite Argument heißt `sense` und kann entweder `GRB.MINIMIZE` oder `GRB.MAXIMIZE` sein."
      ]
    },
    {
      "cell_type": "code",
      "execution_count": 14,
      "id": "2756333c-6a92-4a3a-ba4d-9ec706d900f9",
      "metadata": {
        "id": "2756333c-6a92-4a3a-ba4d-9ec706d900f9"
      },
      "outputs": [],
      "source": [
        "m.setObjective(\n",
        "    gp.quicksum(routes[p, d] * transp_cost[p,d] for p in production for d in distribution),\n",
        "    GRB.MINIMIZE\n",
        ")"
      ]
    },
    {
      "cell_type": "markdown",
      "id": "4b77c7b0-ddd1-48de-8d41-71a2e0fd77f3",
      "metadata": {
        "id": "4b77c7b0-ddd1-48de-8d41-71a2e0fd77f3"
      },
      "source": [
        "### Das Modell lösen\n",
        "\n",
        "Häufig ist es sinnvoll, das Modell vor der Optimierung als eine `.lp`-Datei auszugeben. Dies kann mit [write()](https://www.gurobi.com/documentation/10.0/refman/py_model_write.html) gemacht werden. Danach können wir uns diese Datei anschauen, um zu sehen, ob wird das Modell korrekt formuliert haben."
      ]
    },
    {
      "cell_type": "code",
      "execution_count": 15,
      "id": "f2f93cde-16ae-4e1d-a9ab-835761587e7f",
      "metadata": {
        "id": "f2f93cde-16ae-4e1d-a9ab-835761587e7f"
      },
      "outputs": [
        {
          "name": "stdout",
          "output_type": "stream",
          "text": [
            "Warning: variable name \"route[Baltimore,St. Louis]\" has a space\n",
            "Warning: constraint name \"meet_demand[St. Louis]\" has a space\n",
            "Warning: to let Gurobi read it back, use rlp format\n"
          ]
        }
      ],
      "source": [
        "m.write('produktion_distribution.lp')"
      ]
    },
    {
      "cell_type": "markdown",
      "id": "12763405-b27f-4a6d-897f-db30df211caa",
      "metadata": {
        "id": "12763405-b27f-4a6d-897f-db30df211caa"
      },
      "source": [
        "### Die Optimierung starten"
      ]
    },
    {
      "cell_type": "code",
      "execution_count": 16,
      "id": "119fc40e-d1fc-4d13-b227-90255fd806ea",
      "metadata": {
        "id": "119fc40e-d1fc-4d13-b227-90255fd806ea"
      },
      "outputs": [
        {
          "name": "stdout",
          "output_type": "stream",
          "text": [
            "Gurobi Optimizer version 11.0.0 build v11.0.0rc2 (linux64 - \"Ubuntu 22.04.4 LTS\")\n",
            "\n",
            "CPU model: Intel(R) Core(TM) i5-10400F CPU @ 2.90GHz, instruction set [SSE2|AVX|AVX2]\n",
            "Thread count: 6 physical cores, 12 logical processors, using up to 12 threads\n",
            "\n",
            "Optimize a model with 16 rows, 30 columns and 90 nonzeros\n",
            "Model fingerprint: 0xbf1ec383\n",
            "Coefficient statistics:\n",
            "  Matrix range     [1e+00, 1e+00]\n",
            "  Objective range  [2e+00, 7e+00]\n",
            "  Bounds range     [0e+00, 0e+00]\n",
            "  RHS range        [6e+01, 2e+02]\n",
            "Presolve removed 5 rows and 0 columns\n",
            "Presolve time: 0.01s\n",
            "Presolved: 11 rows, 35 columns, 65 nonzeros\n",
            "\n",
            "Iteration    Objective       Primal Inf.    Dual Inf.      Time\n",
            "       0    0.0000000e+00   1.561250e+02   0.000000e+00      0s\n",
            "      10    1.6404900e+03   0.000000e+00   0.000000e+00      0s\n",
            "\n",
            "Solved in 10 iterations and 0.01 seconds (0.00 work units)\n",
            "Optimal objective  1.640490000e+03\n"
          ]
        }
      ],
      "source": [
        "m.optimize()"
      ]
    },
    {
      "cell_type": "markdown",
      "id": "2ee05c74-fe8d-445f-9ffe-4a25d123a17b",
      "metadata": {
        "id": "2ee05c74-fe8d-445f-9ffe-4a25d123a17b"
      },
      "source": [
        "### Die Lösung ausgeben\n",
        "\n",
        "Es gibt mehrere Möglichkeiten, auf die Lösung zuzugreifen. Bevor wir die Lösung ausgeben, müssen wir **immer** überprüfen, ob das Modell überhaupt gelöst wurde. Dies kann mit [status](https://www.gurobi.com/documentation/10.0/refman/py_model_status.html) gemacht werden. Wenn das Modell nicht gelöst wurde, können wir die Lösung nicht ausgeben und der Code wird einen Fehler werfen."
      ]
    },
    {
      "cell_type": "code",
      "execution_count": 17,
      "id": "010c89cf",
      "metadata": {},
      "outputs": [
        {
          "name": "stdout",
          "output_type": "stream",
          "text": [
            "Optimale Lösung gefunden\n",
            "Optimaler Zielfunktionswert:  1640.4899999999998\n"
          ]
        }
      ],
      "source": [
        "# Überprüfen, ob eine optimale Lösung gefunden wurde\n",
        "\n",
        "if m.status == GRB.OPTIMAL:\n",
        "    print(\"Optimale Lösung gefunden\")\n",
        "    print(\"Optimaler Zielfunktionswert: \", m.objVal)\n",
        "else:\n",
        "    print(\"Keine optimale Lösung gefunden\")"
      ]
    },
    {
      "cell_type": "code",
      "execution_count": 18,
      "id": "b3eb73ab",
      "metadata": {},
      "outputs": [
        {
          "data": {
            "text/plain": [
              "[9.999999999999986,\n",
              " 0.0,\n",
              " 0.0,\n",
              " 0.0,\n",
              " 116.0,\n",
              " 0.0,\n",
              " 4.0,\n",
              " 76.0,\n",
              " 0.0,\n",
              " 0.0,\n",
              " 0.0,\n",
              " 0.0,\n",
              " 0.0,\n",
              " 0.0,\n",
              " 0.0,\n",
              " 0.0,\n",
              " 0.0,\n",
              " 180.0,\n",
              " 75.00000000000001,\n",
              " 0.0,\n",
              " 0.0,\n",
              " 101.0,\n",
              " 0.0,\n",
              " 1.0,\n",
              " 0.0,\n",
              " 19.0,\n",
              " 121.0,\n",
              " 0.0,\n",
              " 0.0,\n",
              " 0.0]"
            ]
          },
          "execution_count": 18,
          "metadata": {},
          "output_type": "execute_result"
        }
      ],
      "source": [
        "[v.x for v in m.getVars()]"
      ]
    },
    {
      "cell_type": "code",
      "execution_count": 19,
      "id": "69d92eda-0937-4aff-8e60-ff012d766fa0",
      "metadata": {
        "id": "69d92eda-0937-4aff-8e60-ff012d766fa0"
      },
      "outputs": [
        {
          "data": {
            "text/html": [
              "<div>\n",
              "<style scoped>\n",
              "    .dataframe tbody tr th:only-of-type {\n",
              "        vertical-align: middle;\n",
              "    }\n",
              "\n",
              "    .dataframe tbody tr th {\n",
              "        vertical-align: top;\n",
              "    }\n",
              "\n",
              "    .dataframe thead th {\n",
              "        text-align: right;\n",
              "    }\n",
              "</style>\n",
              "<table border=\"1\" class=\"dataframe\">\n",
              "  <thead>\n",
              "    <tr style=\"text-align: right;\">\n",
              "      <th>distribution</th>\n",
              "      <th>Columbia</th>\n",
              "      <th>Indianapolis</th>\n",
              "      <th>Lexington</th>\n",
              "      <th>Nashville</th>\n",
              "      <th>Richmond</th>\n",
              "      <th>St. Louis</th>\n",
              "    </tr>\n",
              "    <tr>\n",
              "      <th>production</th>\n",
              "      <th></th>\n",
              "      <th></th>\n",
              "      <th></th>\n",
              "      <th></th>\n",
              "      <th></th>\n",
              "      <th></th>\n",
              "    </tr>\n",
              "  </thead>\n",
              "  <tbody>\n",
              "    <tr>\n",
              "      <th>Baltimore</th>\n",
              "      <td>10.0</td>\n",
              "      <td>0.0</td>\n",
              "      <td>0.0</td>\n",
              "      <td>0.0</td>\n",
              "      <td>116.0</td>\n",
              "      <td>0.0</td>\n",
              "    </tr>\n",
              "    <tr>\n",
              "      <th>Birmingham</th>\n",
              "      <td>75.0</td>\n",
              "      <td>0.0</td>\n",
              "      <td>0.0</td>\n",
              "      <td>101.0</td>\n",
              "      <td>0.0</td>\n",
              "      <td>1.0</td>\n",
              "    </tr>\n",
              "    <tr>\n",
              "      <th>Charleston</th>\n",
              "      <td>0.0</td>\n",
              "      <td>19.0</td>\n",
              "      <td>121.0</td>\n",
              "      <td>0.0</td>\n",
              "      <td>0.0</td>\n",
              "      <td>0.0</td>\n",
              "    </tr>\n",
              "    <tr>\n",
              "      <th>Cleveland</th>\n",
              "      <td>4.0</td>\n",
              "      <td>76.0</td>\n",
              "      <td>0.0</td>\n",
              "      <td>0.0</td>\n",
              "      <td>0.0</td>\n",
              "      <td>0.0</td>\n",
              "    </tr>\n",
              "    <tr>\n",
              "      <th>Little Rock</th>\n",
              "      <td>0.0</td>\n",
              "      <td>0.0</td>\n",
              "      <td>0.0</td>\n",
              "      <td>0.0</td>\n",
              "      <td>0.0</td>\n",
              "      <td>180.0</td>\n",
              "    </tr>\n",
              "  </tbody>\n",
              "</table>\n",
              "</div>"
            ],
            "text/plain": [
              "distribution  Columbia  Indianapolis  Lexington  Nashville  Richmond  \\\n",
              "production                                                             \n",
              "Baltimore         10.0           0.0        0.0        0.0     116.0   \n",
              "Birmingham        75.0           0.0        0.0      101.0       0.0   \n",
              "Charleston         0.0          19.0      121.0        0.0       0.0   \n",
              "Cleveland          4.0          76.0        0.0        0.0       0.0   \n",
              "Little Rock        0.0           0.0        0.0        0.0       0.0   \n",
              "\n",
              "distribution  St. Louis  \n",
              "production               \n",
              "Baltimore           0.0  \n",
              "Birmingham          1.0  \n",
              "Charleston          0.0  \n",
              "Cleveland           0.0  \n",
              "Little Rock       180.0  "
            ]
          },
          "execution_count": 19,
          "metadata": {},
          "output_type": "execute_result"
        }
      ],
      "source": [
        "routes_sol = pd.DataFrame([v.x for v in m.getVars()], index=transp_cost.index, columns=['value'])\n",
        "routes_sol.pivot_table(index='production', columns='distribution', values='value')"
      ]
    },
    {
      "cell_type": "markdown",
      "id": "bde35449-0b63-4bb4-9926-d20013b1b95b",
      "metadata": {
        "id": "bde35449-0b63-4bb4-9926-d20013b1b95b"
      },
      "source": [
        "### Analyse der Lösung\n",
        "\n",
        "Nun können wir verschiedene Fragen anhand der Lösung beantworten. Die Manager des Unternehmens könnten uns z.B. fragen, wie viele Backsteine in jeder Produktionsstätte produziert werden sollen und wie viele von der maximalen Kapazität der Produktionsstätten genutzt werden."
      ]
    },
    {
      "cell_type": "code",
      "execution_count": 20,
      "id": "53a42bc7-1e45-4245-84b9-f648d7e74fa5",
      "metadata": {
        "id": "53a42bc7-1e45-4245-84b9-f648d7e74fa5"
      },
      "outputs": [
        {
          "data": {
            "text/html": [
              "<div>\n",
              "<style scoped>\n",
              "    .dataframe tbody tr th:only-of-type {\n",
              "        vertical-align: middle;\n",
              "    }\n",
              "\n",
              "    .dataframe tbody tr th {\n",
              "        vertical-align: top;\n",
              "    }\n",
              "\n",
              "    .dataframe thead th {\n",
              "        text-align: right;\n",
              "    }\n",
              "</style>\n",
              "<table border=\"1\" class=\"dataframe\">\n",
              "  <thead>\n",
              "    <tr style=\"text-align: right;\">\n",
              "      <th></th>\n",
              "      <th>Remaining</th>\n",
              "      <th>Utilization</th>\n",
              "    </tr>\n",
              "    <tr>\n",
              "      <th>production</th>\n",
              "      <th></th>\n",
              "      <th></th>\n",
              "    </tr>\n",
              "  </thead>\n",
              "  <tbody>\n",
              "    <tr>\n",
              "      <th>Baltimore</th>\n",
              "      <td>54.0</td>\n",
              "      <td>0.700</td>\n",
              "    </tr>\n",
              "    <tr>\n",
              "      <th>Birmingham</th>\n",
              "      <td>23.0</td>\n",
              "      <td>0.885</td>\n",
              "    </tr>\n",
              "    <tr>\n",
              "      <th>Charleston</th>\n",
              "      <td>0.0</td>\n",
              "      <td>1.000</td>\n",
              "    </tr>\n",
              "    <tr>\n",
              "      <th>Cleveland</th>\n",
              "      <td>0.0</td>\n",
              "      <td>1.000</td>\n",
              "    </tr>\n",
              "    <tr>\n",
              "      <th>Little Rock</th>\n",
              "      <td>0.0</td>\n",
              "      <td>1.000</td>\n",
              "    </tr>\n",
              "  </tbody>\n",
              "</table>\n",
              "</div>"
            ],
            "text/plain": [
              "             Remaining  Utilization\n",
              "production                         \n",
              "Baltimore         54.0        0.700\n",
              "Birmingham        23.0        0.885\n",
              "Charleston         0.0        1.000\n",
              "Cleveland          0.0        1.000\n",
              "Little Rock        0.0        1.000"
            ]
          },
          "execution_count": 20,
          "metadata": {},
          "output_type": "execute_result"
        }
      ],
      "source": [
        "# Sum the shipment amount by production facility\n",
        "production_by_site = routes_sol.groupby('production')['value'].sum()\n",
        "\n",
        "pd.DataFrame({'Remaining': max_prod - production_by_site, 'Utilization': production_by_site/max_prod})"
      ]
    },
    {
      "cell_type": "markdown",
      "id": "105d6054-67e4-4237-b00a-705b9d34a153",
      "metadata": {
        "id": "105d6054-67e4-4237-b00a-705b9d34a153"
      },
      "source": [
        "Eine andere Art und Weise, die Belastung der Produktionsstätten zu sehen ist bereits in dem optimierten Modell verfügbar.\n",
        "Als Teil der Optimierung werden `Slack`-Werte für die Kapazitätsbeschränkungen berechnet. Falls diese Werte positiv sind, bedeutet das, dass die Produktionsstätten nicht voll ausgelastet sind. Falls die Werte gleich Null sind, bedeutet das, dass die Einschränkungen genau erfüllt sind."
      ]
    },
    {
      "cell_type": "code",
      "execution_count": 21,
      "id": "30213e7c-bc28-4d31-be7c-b57925ee68b1",
      "metadata": {
        "id": "30213e7c-bc28-4d31-be7c-b57925ee68b1"
      },
      "outputs": [
        {
          "data": {
            "text/html": [
              "<div>\n",
              "<style scoped>\n",
              "    .dataframe tbody tr th:only-of-type {\n",
              "        vertical-align: middle;\n",
              "    }\n",
              "\n",
              "    .dataframe tbody tr th {\n",
              "        vertical-align: top;\n",
              "    }\n",
              "\n",
              "    .dataframe thead th {\n",
              "        text-align: right;\n",
              "    }\n",
              "</style>\n",
              "<table border=\"1\" class=\"dataframe\">\n",
              "  <thead>\n",
              "    <tr style=\"text-align: right;\">\n",
              "      <th></th>\n",
              "      <th>Remaining</th>\n",
              "      <th>Utilization</th>\n",
              "    </tr>\n",
              "    <tr>\n",
              "      <th>production</th>\n",
              "      <th></th>\n",
              "      <th></th>\n",
              "    </tr>\n",
              "  </thead>\n",
              "  <tbody>\n",
              "    <tr>\n",
              "      <th>Baltimore</th>\n",
              "      <td>54.0</td>\n",
              "      <td>0.700</td>\n",
              "    </tr>\n",
              "    <tr>\n",
              "      <th>Birmingham</th>\n",
              "      <td>23.0</td>\n",
              "      <td>0.885</td>\n",
              "    </tr>\n",
              "    <tr>\n",
              "      <th>Charleston</th>\n",
              "      <td>0.0</td>\n",
              "      <td>1.000</td>\n",
              "    </tr>\n",
              "    <tr>\n",
              "      <th>Cleveland</th>\n",
              "      <td>0.0</td>\n",
              "      <td>1.000</td>\n",
              "    </tr>\n",
              "    <tr>\n",
              "      <th>Little Rock</th>\n",
              "      <td>0.0</td>\n",
              "      <td>1.000</td>\n",
              "    </tr>\n",
              "  </tbody>\n",
              "</table>\n",
              "</div>"
            ],
            "text/plain": [
              "             Remaining  Utilization\n",
              "production                         \n",
              "Baltimore         54.0        0.700\n",
              "Birmingham        23.0        0.885\n",
              "Charleston         0.0        1.000\n",
              "Cleveland          0.0        1.000\n",
              "Little Rock        0.0        1.000"
            ]
          },
          "execution_count": 21,
          "metadata": {},
          "output_type": "execute_result"
        }
      ],
      "source": [
        "pd.DataFrame({'Remaining':[can_produce[p].Slack for p in production], \n",
        "              'Utilization':[1-can_produce[p].Slack/max_prod[p] for p in production]}, \n",
        "             index = production)"
      ]
    }
  ],
  "metadata": {
    "colab": {
      "provenance": []
    },
    "kernelspec": {
      "display_name": "Python 3 (ipykernel)",
      "language": "python",
      "name": "python3"
    },
    "language_info": {
      "codemirror_mode": {
        "name": "ipython",
        "version": 3
      },
      "file_extension": ".py",
      "mimetype": "text/x-python",
      "name": "python",
      "nbconvert_exporter": "python",
      "pygments_lexer": "ipython3",
      "version": "3.11.8"
    },
    "toc-autonumbering": false,
    "toc-showcode": false,
    "toc-showmarkdowntxt": false,
    "vscode": {
      "interpreter": {
        "hash": "70d79b410022258e996d14a47d5687c6c473c4d5d0c04ea47c92533eee9f501f"
      }
    }
  },
  "nbformat": 4,
  "nbformat_minor": 5
}
