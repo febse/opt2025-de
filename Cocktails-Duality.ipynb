{
 "cells": [
  {
   "cell_type": "markdown",
   "id": "68d41136",
   "metadata": {},
   "source": [
    "# Cocktails und Dualität\n",
    "\n",
    "Open in Colab: [![Open in Colab](https://colab.research.google.com/assets/colab-badge.svg)](https://colab.research.google.com/github/febse/opt2025-de/blob/main/Cocktails-Duality.ipynb)\n",
    "\n",
    "- [Cocktails (shared)](https://febunisofia-my.sharepoint.com/:x:/g/personal/amarov_feb_uni-sofia_bg/EX4kuOiIItRKv7b50LypddwBT3Nj6qwpZNkvfCgh3tXPdQ?e=yi0OX7&nav=MTVfezAwMDAwMDAwLTAwMDEtMDAwMC0wMDAwLTAwMDAwMDAwMDAwMH0)\n",
    "- [Cocktails (download)](https://github.com/febse/data/raw/refs/heads/main/opt/Cocktails_2d.xlsx)\n",
    "\n",
    "In diesem Kapitel werden wir noch eimal das Beispiel mit den Cocktails aus @sec-cocktails-duality verwenden."
   ]
  },
  {
   "cell_type": "code",
   "execution_count": null,
   "id": "1fa06850",
   "metadata": {},
   "outputs": [
    {
     "name": "stdout",
     "output_type": "stream",
     "text": [
      "Requirement already satisfied: plotly in c:\\users\\boyko\\.conda\\envs\\opt2025-de\\lib\\site-packages (5.24.1)\n",
      "Requirement already satisfied: sympy in c:\\users\\boyko\\.conda\\envs\\opt2025-de\\lib\\site-packages (1.13.3)\n",
      "Requirement already satisfied: tenacity>=6.2.0 in c:\\users\\boyko\\.conda\\envs\\opt2025-de\\lib\\site-packages (from plotly) (9.0.0)\n",
      "Requirement already satisfied: packaging in c:\\users\\boyko\\.conda\\envs\\opt2025-de\\lib\\site-packages (from plotly) (24.2)\n",
      "Requirement already satisfied: mpmath<1.4,>=1.1.0 in c:\\users\\boyko\\.conda\\envs\\opt2025-de\\lib\\site-packages (from sympy) (1.3.0)\n",
      "Note: you may need to restart the kernel to use updated packages.\n"
     ]
    }
   ],
   "source": [
    "%pip install gurobipy plotly sympy\n",
    "\n",
    "import numpy as np\n",
    "import plotly.graph_objects as go\n",
    "import pandas as pd\n",
    "import gurobipy as gp\n",
    "from gurobipy import GRB"
   ]
  },
  {
   "cell_type": "markdown",
   "id": "188c225d",
   "metadata": {},
   "source": [
    "## Barmanagement\n",
    "\n",
    "Stellen wir uns vor, dass wir eine kleine Bar managen. Wir sind so spezialisiert, dass wir nur Bloody Mary in zwei Varianten anbieten:\n",
    "\n",
    "- Bloody Mary Light (BML), der aus 20 ml Vodka und 80 ml Tomatensaft besteht\n",
    "- Bloody Mary Stark (BMS), der aus 40 ml Vodka und 60 ml Tomatensaft besteht\n",
    "\n",
    "In einer Stunde haben 2000 ml Vodka und 4000 ml Tomatensaft zur Verfügung. Wie viele von beiden Cocktails sollten wir zubereiten, um den Gewinn zu maximieren? Ein Glass Bloody Mary Light (100 ml) bring uns 3 Euro Gewinn ein, ein Glass (100 ml) Bloody Mary Stark bringt uns 4 Euro Gewinn ein.\n",
    "\n",
    "- Schreiben Sie das Modell zuerst auf Papier auf\n",
    "- Lösen Sie das Modell mit Excel Solver\n",
    "- Lösen Sie das Modell mit Gurobi in Python (einmal mit `.addVar` und einmal mit `.addMVar`)\n",
    "- Formulieren Sie die duale Optimierungsaufgabe und lösen Sie diese mit Excel Solver und Gurobi (auch mit `.addVar` und `.addMVar`)"
   ]
  },
  {
   "cell_type": "markdown",
   "id": "c618e455",
   "metadata": {},
   "source": [
    "## Das duale Problem\n",
    "\n",
    "Schauen wir uns eine einfache Optimierungsaufgabe an:\n",
    "\n",
    "$$\n",
    "\\begin{align*}\n",
    "\\text{max} & \\quad 2x_1 + 3x_2 \\\\\n",
    "\\text{s.t.} & \\quad x_1 + x_2 \\leq 8 \\\\\n",
    "& \\quad x_1 + 2 x_2 \\leq 12 \\\\\n",
    "& x_1, x_2 \\geq 0\n",
    "\\end{align*}\n",
    "$$\n",
    "\n",
    "Ihre Lösung ist $[x_1, x_2] = [4, 4]$, also erreichen wir den grösstmöglichen Gewinn von $2 \\cdot 4 + 3 \\cdot 4 = 20$ Euro. Können wir aber **beweisen**, dass es keinen grösseren Gewinn gibt?  In dieser Aufgabe können wir die zwei Ungleichungen addieren und erhalten:\n",
    "\n",
    "$$\n",
    "\\begin{align*}\n",
    "2x_1 + 3x_2 & \\leq 8 + 12 = 20\\\\\n",
    "\\end{align*}\n",
    "$$\n",
    "\n",
    " "
   ]
  },
  {
   "cell_type": "markdown",
   "id": "ee81f7bc",
   "metadata": {},
   "source": [
    "\n",
    "\n",
    "Die Optimierungsaufgabe für die kleine Bar lautet:\n",
    "\n",
    "$$\n",
    "\\begin{align*}\n",
    "\\text{max} & \\quad 3x_1 + 4x_2 \\\\\n",
    "\\text{s.t.} & \\quad 20 x_1 + 40x_2 \\leq 2000 \\\\\n",
    "& \\quad 80 x_1 + 60x_2 \\leq 4000 \\\\\n",
    "& \\quad x_1, x_2 \\geq 0\n",
    "\\end{align*}\n",
    "$$\n",
    "\n",
    "wobei $x_1$ und $x_2$ die Anzahl der Cocktails Bloody Mary Light und Bloody Mary Stark darstellen. Wir haben auch den optimalen Produktionsplan $[x_1, x_2] = [20, 40]$, also erreichen wir den grösstmöglichen Gewinn von $3 \\cdot 20 + 4 \\cdot 40 = 220$ Euro, indem wir 20 Cocktails Bloody Mary Light und 40 Cocktails Bloody Mary Stark zubereiten. Können wir aber **beweisen**, dass dies der optimale Produktionsplan ist?\n",
    "\n",
    "Lassen Sie uns die zwei Ungleichungen mit den Faktoren $0.07$ und $0.02$ multiplizieren und dann addieren:\n",
    "\n",
    "$$\n",
    "\\begin{align*}\n",
    "0.07 \\cdot (20 x_1 + 40x_2) + 0.02 \\cdot (80 x_1 + 60x_2) & \\leq 0.07 \\cdot 2000 + 0.02 \\cdot 4000 \\\\\n",
    "\\end{align*}\n",
    "$$\n",
    "\n",
    "Jetzt bringen wir diese Gleichung in die Form:\n",
    "\n",
    "$$\n",
    "\\begin{align*}\n",
    "(0.07 \\cdot 20 + 0.02 \\cdot 80) x_1 + (0.07 \\cdot 40 + 0.02 \\cdot 60) x_2 & \\leq 0.07 \\cdot 2000 + 0.02 \\cdot 4000 \n",
    "\\end{align*}\n",
    "$$\n",
    "\n",
    "Also haben wir:\n",
    "\n",
    "$$\n",
    "\\begin{align*}\n",
    "3 x_1 + 4 x_2 & \\leq 220 \\\\\n",
    "\\end{align*}\n",
    "$$\n",
    "\n",
    "Nun haben wir eine neue Ungleichung, in der auf der linken Seite eigentlich die Zielfunktion steht. Diese Ungleichung sagt uns aber, dass unter den gegebenen Bedingungen der Gewinn nicht grösser als 220 Euro sein kann, was ein Beweis für die Optimalität unseres Produktionsplans ist.\n",
    "\n",
    "Diese Ungleichung haben wir aus den ursprünglichen Ungleichungen abgeleitet, die wir mit den Faktoren $0.07$ und $0.02$ multipliziert haben. Wie haben wir diese Faktoren gefunden? Lassen Sie uns die ursprüngliche Aufgabe noch einmal aufschreiben:\n",
    "\n",
    "$$\n",
    "\\begin{align*}\n",
    "\\text{max} & \\quad 3x_1 + 4x_2 \\\\\n",
    "\\text{s.t.} & \\quad 20 x_1 + 40x_2 \\leq 2000 \\\\\n",
    "& \\quad 80 x_1 + 60x_2 \\leq 4000 \\\\\n",
    "& \\quad x_1, x_2 \\geq 0\n",
    "\\end{align*}\n",
    "$$\n",
    "\n",
    "Wir können beide Ungleichungen mit irgendwelchen Faktoren $y_1$ und $y_2$ multiplizieren. Solange $y_1$ und $y_2$ positiv sind, ändert sich die Ungleichung nicht. Wenn wir die beiden Ungleichungen addieren, erhalten wir eine neue Ungleichung:\n",
    "\n",
    "$$\n",
    "\\begin{align*}\n",
    "(20 x_1 + 40x_2)y_1 & \\leq 2000y_1 \\\\\n",
    "(80 x_1 + 60x_2)y_2 & \\leq 4000y_2 \\\\\n",
    "\\end{align*}\n",
    "$$\n",
    "\n",
    "$$\n",
    "\\begin{align*}\n",
    "20 y_1 x_1 + 40 y_1 x_2 & \\leq 2000 y_1 \\\\\n",
    "80 y_2 x_1 + 60 y_2 x_2 & \\leq 4000 y_2 \\\\\n",
    "\\end{align*}\n",
    "$$\n",
    "\n",
    "Nun addieren wir die beiden Ungleichungen:\n",
    "\n",
    "$$\n",
    "\\begin{align*}\n",
    "(20 y_1 + 80 y_2) x_1 + (40 y_1 + 60 y_2) x_2 & \\leq 2000 y_1 + 4000 y_2 \\\\\n",
    "\\end{align*}\n",
    "$$\n",
    "\n",
    "Wie linke Seite der Ungleichung hat die Form der Zielfunktion, nur dass die Variablen $x_1$ und $x_2$ mit den Faktoren $20 y_1 + 80 y_2$ und $40 y_1 + 60 y_2$ multipliziert werden und nicht mit den Faktoren $3$ und $4$. Falls wir aber fordern, dass die Faktoren $20 y_1 + 80 y_2$ und $40 y_1 + 60 y_2$ grösser oder gleich $3$ und $4$ sind, dann haben wir eine neue Ungleichung, die uns sagt, die linke Seite immer grösser oder gleich der Zielfunktion ist. \n",
    "\n",
    "Schreiben wir die Ungleichungen auf:\n",
    "\n",
    "$$\n",
    "\\begin{align*}\n",
    "\\underset{\\text{Zielfunktion}}{3 x_1 + 4 x_2} & \\leq (20 y_1 + 80 y_2) x_1 + (40 y_1 + 60 y_2) x_2 \\leq \\underset{\\text{Obere Schranke}}{2000 y_1 + 4000 y_2} \\\\\n",
    "\\end{align*}\n",
    "$$\n",
    "\n",
    "$$\n",
    "\\begin{align*}\n",
    "20 y_1 + 80 y_2 & \\geq 3 \\\\\n",
    "40 y_1 + 60 y_2 & \\geq 4 \\\\\n",
    "\\end{align*}\n",
    "$$\n",
    "\n",
    "Interessant ist hier, dass wir eine obere Schranke für die Zielfunktion hergeleitet haben. Nun stellt sich die Frage, ob wir die **kleinste** obere Schranke finden können. Die obere Schranke ist linear, die Einschränkungen sind auch linear, also haben wir nur noch eine neue lineare Optimierungsaufgabe zu lösen:\n",
    "\n",
    "$$\n",
    "\\begin{align*}\n",
    "\\text{min} & \\quad 2000 y_1 + 4000 y_2 \\\\\n",
    "\\text{s.t.} & \\quad 20 y_1 + 80 y_2 \\geq 3 \\\\\n",
    "& \\quad 40 y_1 + 60 y_2 \\geq 4 \\\\\n",
    "& \\quad y_1, y_2 \\geq 0 \\\\\n",
    "\\end{align*}\n",
    "$$\n",
    "\n",
    "Bevor wir mit der Lösung anfangen, ist es sinnvoll, sich die Messeinheiten der $y_1$ und $y_2$ Variablen anzuschauen.\n",
    "\n",
    "$$\n",
    "\\underset{\\text{Gewinn (Euro)}}{3 x_1 + 4 x_2} \\leq \\underset{\\text{Obere Schranke (Euro)}}{2000 y_1 + 4000y_2}\n",
    "$$\n",
    "\n",
    "Damit die Messeinheiten kompatibel sind, muss die rechte Seite der Ungleichung in Euro sein. Die Koeffizienten (2000 ml) und (4000 ml) sind die Mengen der Zutaten, die wir haben. Also müssen die Produkte von $2000 y_1$ und $2000 y_2$ mit in Euro gemessen sein.\n",
    "\n",
    "Also sind die Messeinheiten von $y_1$ und $y_2$ Euro pro ml.\n",
    "\n",
    "$$\n",
    "2000 [\\text{ml}] \\cdot y_1 \\left[\\frac{\\text{Euro}}{\\text{ml}}\\right] + 4000 [\\text{ml}] \\cdot y_2 \\left[\\frac{\\text{Euro}}{\\text{ml}}\\right] = [\\text{Euro}]\n",
    "$$\n",
    "\n"
   ]
  },
  {
   "cell_type": "code",
   "execution_count": null,
   "id": "e2846e46",
   "metadata": {},
   "outputs": [],
   "source": [
    "max_ressourcen = np.array([2000, 4000]) # ml Vodka, ml Tomatensaft\n",
    "\n",
    "print(\"Ressourcen:\", max_ressourcen)\n",
    "\n",
    "gewinn_pro_cocktail = np.array([3, 4])\n",
    "\n",
    "print(\"Gewinn pro Cocktail:\", gewinn_pro_cocktail)\n",
    "\n",
    "verbrauchs_koeffizienten = np.array([\n",
    "    [20, 40], # Die Koeffizienten für Vodka (B7:C7)\n",
    "    [80, 60] # Die Koeffizienten für Tomatensaft (B8:C8)\n",
    "])"
   ]
  },
  {
   "cell_type": "code",
   "execution_count": null,
   "id": "398f9c00",
   "metadata": {},
   "outputs": [
    {
     "name": "stdout",
     "output_type": "stream",
     "text": [
      "Set parameter LogToConsole to value 0\n",
      "\\ Model Cocktail dual\n",
      "\\ LP format - for model browsing. Use MPS format to capture full model detail.\n",
      "Minimize\n",
      "  2000 SP_Vodka + 4000 SP_Tomatensaft\n",
      "Subject To\n",
      " Bloody_Mary_Light: 20 SP_Vodka + 80 SP_Tomatensaft >= 3\n",
      " Bloody_Mary_Stark: 40 SP_Vodka + 60 SP_Tomatensaft >= 4\n",
      "Bounds\n",
      "End\n",
      "\n",
      "Optimale Schattenpreise:\n",
      "Vodka: 0.07 Euro /ml\n",
      "Tomatensaft: 0.02 Euro/ml\n",
      "Gewinn: 220.00 Euro\n"
     ]
    },
    {
     "data": {
      "application/vnd.microsoft.datawrangler.viewer.v0+json": {
       "columns": [
        {
         "name": "index",
         "rawType": "int64",
         "type": "integer"
        },
        {
         "name": "Name",
         "rawType": "object",
         "type": "string"
        },
        {
         "name": "Slack",
         "rawType": "float64",
         "type": "float"
        },
        {
         "name": "RHS",
         "rawType": "float64",
         "type": "float"
        },
        {
         "name": "Schattenpreis",
         "rawType": "float64",
         "type": "float"
        },
        {
         "name": "Sense",
         "rawType": "object",
         "type": "string"
        }
       ],
       "conversionMethod": "pd.DataFrame",
       "ref": "bbd0682d-d530-43f0-acb3-24114a57a9d5",
       "rows": [
        [
         "0",
         "Bloody Mary Light",
         "0.0",
         "3.0",
         "20.0",
         ">"
        ],
        [
         "1",
         "Bloody Mary Stark",
         "0.0",
         "4.0",
         "40.0",
         ">"
        ]
       ],
       "shape": {
        "columns": 5,
        "rows": 2
       }
      },
      "text/html": [
       "<div>\n",
       "<style scoped>\n",
       "    .dataframe tbody tr th:only-of-type {\n",
       "        vertical-align: middle;\n",
       "    }\n",
       "\n",
       "    .dataframe tbody tr th {\n",
       "        vertical-align: top;\n",
       "    }\n",
       "\n",
       "    .dataframe thead th {\n",
       "        text-align: right;\n",
       "    }\n",
       "</style>\n",
       "<table border=\"1\" class=\"dataframe\">\n",
       "  <thead>\n",
       "    <tr style=\"text-align: right;\">\n",
       "      <th></th>\n",
       "      <th>Name</th>\n",
       "      <th>Slack</th>\n",
       "      <th>RHS</th>\n",
       "      <th>Schattenpreis</th>\n",
       "      <th>Sense</th>\n",
       "    </tr>\n",
       "  </thead>\n",
       "  <tbody>\n",
       "    <tr>\n",
       "      <th>0</th>\n",
       "      <td>Bloody Mary Light</td>\n",
       "      <td>0.0</td>\n",
       "      <td>3.0</td>\n",
       "      <td>20.0</td>\n",
       "      <td>&gt;</td>\n",
       "    </tr>\n",
       "    <tr>\n",
       "      <th>1</th>\n",
       "      <td>Bloody Mary Stark</td>\n",
       "      <td>0.0</td>\n",
       "      <td>4.0</td>\n",
       "      <td>40.0</td>\n",
       "      <td>&gt;</td>\n",
       "    </tr>\n",
       "  </tbody>\n",
       "</table>\n",
       "</div>"
      ],
      "text/plain": [
       "                Name  Slack  RHS  Schattenpreis Sense\n",
       "0  Bloody Mary Light    0.0  3.0           20.0     >\n",
       "1  Bloody Mary Stark    0.0  4.0           40.0     >"
      ]
     },
     "execution_count": 29,
     "metadata": {},
     "output_type": "execute_result"
    }
   ],
   "source": [
    "# Das duale Problem (1)\n",
    "\n",
    "md = gp.Model(\"Cocktail dual\")\n",
    "md.Params.LogToConsole = 0 # keine Ausgabe in der Konsole\n",
    "\n",
    "y1 = md.addVar(name=\"Wert von Vodka\") # Schattenpreis Vodka\n",
    "y2 = md.addVar(name=\"Wert von Tomatensaft\") # Schattenpreis Tomatensaft\n",
    "\n",
    "# Zielfunktion definieren\n",
    "md.setObjective(max_ressourcen[0] * y1 + max_ressourcen[1] * y2, GRB.MINIMIZE)\n",
    "\n",
    "# Nebenbedingungen definieren\n",
    "\n",
    "md.addConstr(20 * y1 + 80 * y2 >= 3, \"Bloody Mary Light\")\n",
    "md.addConstr(40 * y1 + 60 * y2 >= 4, \"Bloody Mary Stark\")\n",
    "\n",
    "\n",
    "md.write(\"cocktail-dual.lp\") # Speichern des Modells in einer Datei\n",
    "\n",
    "with open(\"cocktail-dual.lp\", \"r\") as f:\n",
    "    print(f.read())\n",
    "\n",
    "md.optimize()\n",
    "\n",
    "# Ergebnisse ausgeben\n",
    "print(\"Optimale Werte der Ressourcen:\")\n",
    "\n",
    "print(f\"Wert von Vodka: {y1.X:.2f} Euro /ml\")\n",
    "print(f\"Wert von Tomatensaft: {y2.X:.2f} Euro/ml\")\n",
    "print(f\"Gewinn: {md.ObjVal:.2f} Euro\")\n",
    "\n",
    "# Die Nebenbedingungen ausgeben als pandas DataFrame\n",
    "constr_df = pd.DataFrame([\n",
    "    (c.ConstrName, c.Slack, c.RHS, c.Pi, c.Sense) for c in md.getConstrs()], \n",
    "    columns=[\"Name\", \"Slack\", \"RHS\", \"Schattenpreis\", \"Sense\"\n",
    "])\n",
    "\n",
    "constr_df\n"
   ]
  },
  {
   "cell_type": "code",
   "execution_count": null,
   "id": "6c37adda",
   "metadata": {},
   "outputs": [
    {
     "name": "stdout",
     "output_type": "stream",
     "text": [
      "Set parameter LogToConsole to value 0\n",
      "\\ Model Cocktail Dual 2\n",
      "\\ LP format - for model browsing. Use MPS format to capture full model detail.\n",
      "Minimize\n",
      "  2000 Werte[0] + 4000 Werte[1]\n",
      "Subject To\n",
      " Cocktail[0]: 20 Werte[0] + 80 Werte[1] >= 3\n",
      " Cocktail[1]: 40 Werte[0] + 60 Werte[1] >= 4\n",
      "Bounds\n",
      "End\n",
      "\n",
      "Schattenpreise:\n",
      "Wert von Vodka: 0.07 Euro/ml\n",
      "Wert von Tomatensaft: 0.02 Euro/ml\n",
      "Gewinn: 220.00 Euro\n"
     ]
    },
    {
     "data": {
      "application/vnd.microsoft.datawrangler.viewer.v0+json": {
       "columns": [
        {
         "name": "index",
         "rawType": "int64",
         "type": "integer"
        },
        {
         "name": "Name",
         "rawType": "object",
         "type": "string"
        },
        {
         "name": "Slack",
         "rawType": "float64",
         "type": "float"
        },
        {
         "name": "RHS",
         "rawType": "float64",
         "type": "float"
        },
        {
         "name": "Schattenpreis",
         "rawType": "float64",
         "type": "float"
        },
        {
         "name": "Sense",
         "rawType": "object",
         "type": "string"
        }
       ],
       "conversionMethod": "pd.DataFrame",
       "ref": "d2a1c768-53a9-41b0-b187-7d53d36861ff",
       "rows": [
        [
         "0",
         "Cocktail[0]",
         "0.0",
         "3.0",
         "20.0",
         ">"
        ],
        [
         "1",
         "Cocktail[1]",
         "0.0",
         "4.0",
         "40.0",
         ">"
        ]
       ],
       "shape": {
        "columns": 5,
        "rows": 2
       }
      },
      "text/html": [
       "<div>\n",
       "<style scoped>\n",
       "    .dataframe tbody tr th:only-of-type {\n",
       "        vertical-align: middle;\n",
       "    }\n",
       "\n",
       "    .dataframe tbody tr th {\n",
       "        vertical-align: top;\n",
       "    }\n",
       "\n",
       "    .dataframe thead th {\n",
       "        text-align: right;\n",
       "    }\n",
       "</style>\n",
       "<table border=\"1\" class=\"dataframe\">\n",
       "  <thead>\n",
       "    <tr style=\"text-align: right;\">\n",
       "      <th></th>\n",
       "      <th>Name</th>\n",
       "      <th>Slack</th>\n",
       "      <th>RHS</th>\n",
       "      <th>Schattenpreis</th>\n",
       "      <th>Sense</th>\n",
       "    </tr>\n",
       "  </thead>\n",
       "  <tbody>\n",
       "    <tr>\n",
       "      <th>0</th>\n",
       "      <td>Cocktail[0]</td>\n",
       "      <td>0.0</td>\n",
       "      <td>3.0</td>\n",
       "      <td>20.0</td>\n",
       "      <td>&gt;</td>\n",
       "    </tr>\n",
       "    <tr>\n",
       "      <th>1</th>\n",
       "      <td>Cocktail[1]</td>\n",
       "      <td>0.0</td>\n",
       "      <td>4.0</td>\n",
       "      <td>40.0</td>\n",
       "      <td>&gt;</td>\n",
       "    </tr>\n",
       "  </tbody>\n",
       "</table>\n",
       "</div>"
      ],
      "text/plain": [
       "          Name  Slack  RHS  Schattenpreis Sense\n",
       "0  Cocktail[0]    0.0  3.0           20.0     >\n",
       "1  Cocktail[1]    0.0  4.0           40.0     >"
      ]
     },
     "execution_count": 16,
     "metadata": {},
     "output_type": "execute_result"
    }
   ],
   "source": [
    "# Das Duale Problem (2)\n",
    "\n",
    "m2 = gp.Model(\"Cocktail Dual 2\")\n",
    "\n",
    "m2.Params.LogToConsole = 0 # keine Ausgabe in der Konsole\n",
    "\n",
    "# Variablen definieren\n",
    "y = m2.addMVar(2, name=\"Werte\")\n",
    "\n",
    "# Zielfunktion definieren\n",
    "m2.setObjective(max_ressourcen @ y, GRB.MINIMIZE)\n",
    "\n",
    "# Nebenbedingungen definieren\n",
    "\n",
    "m2.addConstr(verbrauchs_koeffizienten.T @ y >= gewinn_pro_cocktail, \"Cocktail\")\n",
    "\n",
    "m2.optimize()\n",
    "\n",
    "m2.write(\"cocktail-dual-2.lp\") # Speichern des Modells in einer Datei\n",
    "\n",
    "with open(\"cocktail-dual-2.lp\", \"r\") as f:\n",
    "    print(f.read())\n",
    "\n",
    "# Ergebnisse ausgeben\n",
    "print(\"Schattenpreise:\")\n",
    "\n",
    "print(f\"Wert von Vodka: {y.X[0]:.2f} Euro/ml\")\n",
    "print(f\"Wert von Tomatensaft: {y.X[1]:.2f} Euro/ml\")\n",
    "print(f\"Gewinn: {m2.ObjVal:.2f} Euro\")\n",
    "# Die Nebenbedingungen ausgeben als pandas DataFrame\n",
    "\n",
    "constr_df = pd.DataFrame([\n",
    "    (c.ConstrName, c.Slack, c.RHS, c.Pi, c.Sense) for c in m2.getConstrs()],\n",
    "    columns=[\"Name\", \"Slack\", \"RHS\", \"Schattenpreis\", \"Sense\"\n",
    "])\n",
    "\n",
    "constr_df\n"
   ]
  }
 ],
 "metadata": {
  "kernelspec": {
   "display_name": "opt2025-de",
   "language": "python",
   "name": "python3"
  },
  "language_info": {
   "codemirror_mode": {
    "name": "ipython",
    "version": 3
   },
   "file_extension": ".py",
   "mimetype": "text/x-python",
   "name": "python",
   "nbconvert_exporter": "python",
   "pygments_lexer": "ipython3",
   "version": "3.11.11"
  }
 },
 "nbformat": 4,
 "nbformat_minor": 5
}
