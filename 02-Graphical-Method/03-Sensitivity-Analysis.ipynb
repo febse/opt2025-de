{
 "cells": [
  {
   "cell_type": "markdown",
   "id": "c3dbb6b4",
   "metadata": {},
   "source": [
    "# Sensitivitätsanalyse\n",
    "\n",
    "Open in Colab: [![Open in Colab](https://colab.research.google.com/assets/colab-badge.svg)](https://colab.research.google.com/github/febse/opt2025-de/blob/main/02-Graphical-Method/03-Sensitivity-Analysis.ipynb)\n",
    "\n"
   ]
  },
  {
   "cell_type": "code",
   "execution_count": 5,
   "id": "d22008ce",
   "metadata": {},
   "outputs": [
    {
     "name": "stdout",
     "output_type": "stream",
     "text": [
      "Requirement already satisfied: gurobipy in c:\\users\\boyko\\.conda\\envs\\opt2025-de\\lib\\site-packages (12.0.1)\n",
      "Note: you may need to restart the kernel to use updated packages.\n",
      "Gurobi Optimizer version 12.0.1 build v12.0.1rc0 (win64 - Windows 11.0 (26100.2))\n",
      "\n",
      "CPU model: Intel(R) Core(TM) Ultra 5 125U, instruction set [SSE2|AVX|AVX2]\n",
      "Thread count: 12 physical cores, 14 logical processors, using up to 14 threads\n",
      "\n",
      "Optimize a model with 3 rows, 2 columns and 5 nonzeros\n",
      "Model fingerprint: 0xb45dd709\n",
      "Coefficient statistics:\n",
      "  Matrix range     [3e-01, 1e+00]\n",
      "  Objective range  [4e+01, 5e+01]\n",
      "  Bounds range     [0e+00, 0e+00]\n",
      "  RHS range        [1e+02, 2e+02]\n",
      "Presolve removed 1 rows and 0 columns\n",
      "Presolve time: 0.01s\n",
      "Presolved: 2 rows, 2 columns, 4 nonzeros\n",
      "\n",
      "Iteration    Objective       Primal Inf.    Dual Inf.      Time\n",
      "       0    2.4000000e+04   1.325000e+02   0.000000e+00      0s\n",
      "       2    1.2000000e+04   0.000000e+00   0.000000e+00      0s\n",
      "\n",
      "Solved in 2 iterations and 0.02 seconds (0.00 work units)\n",
      "Optimal objective  1.200000000e+04\n"
     ]
    }
   ],
   "source": [
    "%pip install gurobipy\n",
    "\n",
    "import pandas as pd\n",
    "import gurobipy as gp\n",
    "from gurobipy import GRB\n",
    "\n",
    "m = gp.Model(\"Coffee Blending\")\n",
    "\n",
    "x_s = m.addVar(lb=0, name=\"Super\")\n",
    "x_d = m.addVar(lb=0, name=\"Deluxe\")\n",
    "\n",
    "m.setObjective(40 * x_s + 50 * x_d, GRB.MAXIMIZE)\n",
    "\n",
    "# Einschränkungen\n",
    "\n",
    "c_arabica = m.addConstr(0.5 * x_s + 0.25 * x_d <= 120, \"Arabica\")\n",
    "c_robusta = m.addConstr(0.5 * x_s + 0.75 * x_d <= 160, \"Robusta\")\n",
    "c_demand = m.addConstr(x_d <= 150, \"Nachfrage Deluxe\")\n",
    "\n",
    "m.optimize()\n"
   ]
  },
  {
   "cell_type": "code",
   "execution_count": 4,
   "id": "55d8889f",
   "metadata": {},
   "outputs": [
    {
     "name": "stdout",
     "output_type": "stream",
     "text": [
      "Warning: constraint name \"Nachfrage Deluxe\" has a space\n",
      "\\ Model Coffee Blending\n",
      "\\ LP format - for model browsing. Use MPS format to capture full model detail.\n",
      "Maximize\n",
      "  40 Super + 50 Deluxe\n",
      "Subject To\n",
      " Arabica: 0.5 Super + 0.25 Deluxe <= 120\n",
      " Robusta: 0.5 Super + 0.75 Deluxe <= 160\n",
      " Nachfrage_Deluxe: Deluxe <= 150\n",
      "Bounds\n",
      "End\n",
      "\n"
     ]
    }
   ],
   "source": [
    "# Schreibt das Modell in eine Datei\n",
    "m.write(\"CoffeeBlending.lp\")\n",
    "\n",
    "# Hier öffnen wir die Datei und geben den Inhalt aus\n",
    "with open(\"CoffeeBlending.lp\") as f:\n",
    "    print(f.read())\n"
   ]
  },
  {
   "cell_type": "markdown",
   "id": "c5d35de0",
   "metadata": {},
   "source": [
    "## Zugriff auf die Lösung\n",
    "\n",
    "\n",
    " Nachdem `.optimize()` gelaufen ist, enthält das Modellobjekt (in unserem Fall heißt es `m`) die Lösung (falls es eine gibt). Nun möchten wir auf die Lösung zugreifen\n",
    "\n",
    "- `x_s.VarName` enthält den Namen der Variable `x_s`\n",
    "- `x_d.VarName` enthält den Namen der Variable `x_d`\n",
    "- `x_s.x` enthält den Wert der Variable `x_s` in der Lösung\n",
    "- `x_d.x` enthält den Wert der Variable `x_d` in der Lösung\n",
    "- `x_s.RC` (reduced cost) enthält die Opportunitätskosten der Variable `x_s` in der Lösung\n",
    "- `x_d.RC` (reduced cost) enthält die Opportunitätskosten der Variable `x_d` in der Lösung\n",
    "- `m.objVal` (objective value) enthält den Wert der Zielfunktion in der Lösung\n",
    "\n",
    "\n",
    "Weitere Eigeschanften und Methoden der Variablen können Sie [hier](https://docs.gurobi.com/projects/optimizer/en/current/reference/attributes/variable.html) finden.\n"
   ]
  },
  {
   "cell_type": "code",
   "execution_count": null,
   "id": "54979ad8",
   "metadata": {},
   "outputs": [
    {
     "name": "stdout",
     "output_type": "stream",
     "text": [
      "Super = 200.0, RC = 0.0\n",
      "Deluxe = 80.0, RC = 0.0\n",
      "Profit = 12000.0\n"
     ]
    }
   ],
   "source": [
    "print(f\"{x_s.VarName} = {x_s.x}, RC = {x_s.RC}\")\n",
    "print(f\"{x_d.VarName} = {x_d.x}, RC = {x_d.RC}\")\n",
    "print(f\"Profit = {m.objVal}\")\n"
   ]
  },
  {
   "cell_type": "markdown",
   "id": "ce40cfc3",
   "metadata": {},
   "source": [
    "Die Einschränkungen können auf ähnliche Art und Weise abgerufen werden. Hier werden wir drei eigenschaften von Einschränkungen verwenden:\n",
    "\n",
    "- `pi` enthält den Wert des Schattenpreises (der interne Wert) der Resourcenbeschränkung in der Lösung\n",
    "- `slack` enthält den Wert des Slacks für die Einschränkung in der Lösung\n",
    "- `SARHSLow` und `SARHSUp` enthalten den minimalen bzw. maximalen Wert der rechten Seite der Einschränkung, die die Gültigkeit der aktuellen Lösung nicht beeinträchtigen würde.\n"
   ]
  },
  {
   "cell_type": "code",
   "execution_count": 29,
   "id": "7c838c00",
   "metadata": {},
   "outputs": [
    {
     "name": "stdout",
     "output_type": "stream",
     "text": [
      "Arabica: Slack = 0.0, Dual = 19.99999999999999, Lower = 85.0, Upper = 160.0\n",
      "Robusta: Slack = 0.0, Dual = 60.00000000000001, Lower = 120.0, Upper = 160.0\n",
      "Nachfrage Deluxe: Slack = 70.0, Dual = 0.0, Lower = 80.0, Upper = inf\n"
     ]
    }
   ],
   "source": [
    "print(f\"{c_arabica.ConstrName}: Slack = {c_arabica.slack}, Dual = {c_arabica.pi}, Lower = {c_arabica.SARHSLow}, Upper = {c_arabica.SARHSUp}\")\n",
    "print(f\"{c_robusta.ConstrName}: Slack = {c_robusta.slack}, Dual = {c_robusta.pi}, Lower = {c_robusta.SARHSLow}, Upper = {c_arabica.SARHSUp}\")\n",
    "print(f\"{c_demand.ConstrName}: Slack = {c_demand.slack}, Dual = {c_demand.pi}, Lower = {c_demand.SARHSLow}, Upper = {c_demand.SARHSUp}\")\n"
   ]
  },
  {
   "cell_type": "code",
   "execution_count": 30,
   "id": "085e28b8",
   "metadata": {},
   "outputs": [
    {
     "data": {
      "text/plain": [
       "<matplotlib.legend.Legend at 0x21e6ff2d2d0>"
      ]
     },
     "execution_count": 30,
     "metadata": {},
     "output_type": "execute_result"
    },
    {
     "data": {
      "image/png": "[encoded data removed]",
      "text/plain": [
       "<Figure size 640x480 with 1 Axes>"
      ]
     },
     "metadata": {},
     "output_type": "display_data"
    }
   ],
   "source": [
    "#| label: fig-coffe-restr-var-robusta\n",
    "#| fig-cap: \"Die zulässige Menge für verschiedene Werte der Robusta Verfügbarkeit.\"\n",
    "#| fold-code: true\n",
    "\n",
    "import matplotlib.pyplot as plt\n",
    "import seaborn as sns\n",
    "\n",
    "plt.plot([0, 240], [480, 0], color='grey')\n",
    "plt.plot([0, 320], [213.33, 0], color='grey')\n",
    "plt.plot([0, 0], [0, 150], color='grey')\n",
    "plt.plot([0, 400], [150, 150], color='grey')\n",
    "plt.plot([0, 0], [0, 500], color='grey')\n",
    "\n",
    "plt.fill([0, 0, 95, 200, 240], [0, 150, 150, 80, 0], color='grey', alpha=0.3)\n",
    "\n",
    "plt.xlim(-10, 400)\n",
    "plt.ylim(-10, 400)\n",
    "\n",
    "plt.xlabel(r'$x_s$')\n",
    "plt.ylabel(r'$x_d$')\n",
    "\n",
    "palette = sns.color_palette(\"mako\", n_colors=4).as_hex()\n",
    "\n",
    "for idx, q in enumerate([120, 180, 195, 220]):\n",
    "    plt.axline([0, q / 0.75], slope=-0.5/0.75,\n",
    "               label=fr\"$0.5 x_s + 0.75 x_d = {q}$ kg Robusta\",\n",
    "               linestyle='--', \n",
    "               color=palette[idx],\n",
    "               alpha=0.5\n",
    "               )\n",
    "\n",
    "plt.text(0, 155, f\"({0}, {150})\")\n",
    "plt.text(95, 155, f\"({95}, {150})\")\n",
    "plt.text(200, 80, f\"({200}, {80})\")\n",
    "plt.text(240, 0, f\"({240}, {0})\")\n",
    "plt.text(170, 155, f\"({165}, {150})\")\n",
    "\n",
    "plt.legend(loc=0)"
   ]
  },
  {
   "cell_type": "markdown",
   "id": "056a7f0d",
   "metadata": {},
   "source": [
    "Aus der Grafik sehen wir, dass bei einer Robusta-Menge von mehr als 195 kg der Charakter des Optimums geändert wird, da die Ressourcen \"Arabica\" und \"Deluxe-Nachfrage\" ausgeschöpft werden. Der Unterschied zwischen 195 kg und den ursprünglich verfügbaren 160 kg in der Aufgabe nennen wir zulässige Erhöhung der Ressource (195 - 160 = 35 kg). Das neue Optimum ist der Schnittpunkt von \"Arabica\" und \"Deluxe-Nachfrage\". Wir können die Koordinaten dieses Punktes finden, indem wir das System der beiden Gleichungen für die Geraden \"Arabica\" und \"Deluxe-Nachfrage\" lösen:\n",
    "\n",
    "$$\n",
    "\\begin{align*}\n",
    "0.5 x_1 + 0.25 x_2 & = 120  \\\\\n",
    "x_2 & = 150\n",
    "\\end{align*}\n",
    "$$\n",
    "\n",
    "Die Lösung des Systems ist $x_1 = 165, x_2 = 150$. Im Gegensatz zu den Optima bei 160 kg und 180 kg Robusta sind diesmal \"Arabica\" und \"Deluxe-Nachfrage\" die ausgeschöpften Ressourcen. In diesem Produktionsplan erzielt das Unternehmen einen Gewinn von\n",
    "\n",
    "$$\n",
    "z(165, 160) = 40 \\cdot 165 + 50 \\cdot 150 = 14100.\n",
    "$$\n",
    "\n",
    "\n",
    "## Schattenpreise\n",
    "\n",
    "Die Analyse hat uns bisher eine obere Schranke für die Menge an Robusta gezeigt, die das Unternehmen kaufen kann, ohne den Charakter des optimalen Plans zu verändern. Das waren 195 kg Robusta.\n",
    "\n",
    "Wir können nun die Gewinne der ursprünglichen Aufgabe ($r^* = 160$ kg Robusta) und der Aufgabe mit $r^{*1} = 195$ kg Robusta vergleichen.\n",
    "\n",
    "$$\n",
    "\\begin{align*}\n",
    "z^* & = 12000 \\\\\n",
    "z^{*1} & = 14100 \\\\\n",
    "\\Delta z = z^{*1} - z^* & = 14100 - 12000 = 2100\n",
    "\\end{align*}\n",
    "$$\n",
    "\n",
    "Diesen zusätzlichen Gewinn von 2100 € haben wir durch eine zusätzliche Menge von 35 kg Robusta-Kaffee erzielt. Das Verhältnis zwischen dem zusätzlichen Gewinn und der zusätzlichen Ressourcenmenge nennen wir den *Schattenpreis* der Ressource (Robusta):\n",
    "\n",
    "$$\n",
    "\\frac{\\Delta z^*}{\\Delta r^*} = \\frac{z^{*1} - z^{*}}{r^{*1} - r^{*}} = \\frac{14100 - 12000}{195 - 160} = \\frac{2100}{35} = 60 [€/kg]\n",
    "$$\n",
    "\n",
    "- Die Lieferanten bieten an, zusätzliche 10 kg Robusta zu einem Preis von 20 €/kg zu liefern. Würden Sie dem Unternehmen empfehlen, dieses Angebot anzunehmen?\n",
    "- Das Unternehmen plant, die Nachfrage nach Deluxe-Kaffee um 20 kg zu erhöhen (z. B. durch Werbung). Würden Sie dem Unternehmen empfehlen, diese Entscheidung zu treffen?\n",
    "- Ein benachbartes Café bietet an, 10 kg Arabica-Kaffee zu einem Preis von 15 €/kg zu kaufen. Würden Sie dem Unternehmen empfehlen, dieses Angebot anzunehmen?\n",
    "- Der Manager des Cafés schlägt vor, ein neues Produkt einzuführen, das zu einem Preis von nicht weniger als 6 €/kg verkauft werden kann. Für die Herstellung eines Kilogramms dieses neuen Produkts sind 0,7 kg Arabica und 0,3 kg Robusta erforderlich. Würden Sie dem Unternehmen empfehlen, mit der Produktion zu beginnen?\n",
    "\n",
    "## Lösung mit `Excel`\n",
    "\n",
    "Ein Beispiel mit Excel können Sie [hier herunterladen](https://github.com/febse/data/raw/main/opt/Problem_2_coffee_blending.xlsx).\n"
   ]
  },
  {
   "cell_type": "markdown",
   "id": "3e319461",
   "metadata": {},
   "source": [
    "## Übungsaufgabe\n",
    "\n",
    "Ein Metallurgieunternehmen produziert Stahl- und Gusseisenabgüsse auf zwei Maschinen. Die Herstellung eines Stahlabgusses erfordert 2 Stunden auf der ersten Maschine und 1 Stunde auf der zweiten. Die Herstellung eines Gusseisenabgusses erfordert eine Stunde auf der ersten Maschine und drei auf der zweiten. Die Gesamtkapazität der Maschinen beträgt 8 Stunden pro Tag. Das Unternehmen versucht seinen Gewinn zu maximieren, wobei ein Stahlabguss 100 EUR und ein Gusseisenabguss 120 EUR zum Gewinn beiträgt. Wie viele von welcher Art von Abgüssen sollte das Unternehmen produzieren?\n",
    "\n",
    "$$\n",
    "\\begin{align*}\n",
    "x_s: & \\text{ Anzahl von Stahlabgüssen} \\\\\n",
    "x_c: & \\text{ Anzahl von Gusseisenabgüssen}\n",
    "\\end{align*}\n",
    "$$\n",
    "\n",
    "$$\n",
    "\\max 100x_s + 120x_c \\\\\n",
    "$$\n",
    "\n",
    "$$\n",
    "\\begin{align*}\n",
    "2 x_s + x_c & \\leq 8 \\\\\n",
    "x_s + 3x_c & \\leq 8 \\\\\n",
    "x_s, x_c & \\geq 0\n",
    "\\end{align*}\n",
    "$$\n",
    "\n",
    "- Benutzen Sie den Normalvektor, um den optimalen Produktionsplan graphisch zu finden.\n",
    "- In welchen Grenzen kann die Kapazität der Maschinen geändert werden, ohne den Charakter des optimalen Plans zu ändern (welche Resourcen bestimmen den optimalen Plan)?\n",
    "- Bestimmen Sie die Schattenpreise der Resourcen (beider Maschinen).\n",
    "- Falls das Unternehmen plant, die Kapazität der Maschinen zu erhöhen, welche Maschine sollte zuerst erweitert werden?\n",
    "- Das Unternehmen erwägt, ein neues Produkt einzuführen, das 2 Stunden auf der ersten Maschine und 2 Stunden auf der zweiten Maschine benötigt. Der erwartete Gewinn aus dem Verkauf einer Einheit dieses Produkts beträgt 125 €. Würden Sie dem Unternehmen empfehlen, mit der Produktion dieses Produkts zu beginnen?"
   ]
  },
  {
   "cell_type": "code",
   "execution_count": 31,
   "id": "07b07950",
   "metadata": {},
   "outputs": [
    {
     "data": {
      "image/png": "[encoded data removed]",
      "text/plain": [
       "<Figure size 640x480 with 1 Axes>"
      ]
     },
     "metadata": {},
     "output_type": "display_data"
    }
   ],
   "source": [
    "#| fold-code: true\n",
    "\n",
    "import matplotlib.pyplot as plt\n",
    "\n",
    "# Define the constraints\n",
    "x_s = [0, 8]  # Range of x_s values\n",
    "x_c1 = [0, 8]  # Range of x_c values for constraint 1\n",
    "x_c2 = [0, 8]  # Range of x_c values for constraint 2\n",
    "\n",
    "# Plot the constraints\n",
    "plt.plot(x_s, [8 - 2 * x for x in x_s], label=r\"$2x_s + x_c = 8$\")\n",
    "plt.plot(x_s, [(8 - x) / 3 for x in x_s], label=r\"$x_s + 3x_c = 8$\")\n",
    "\n",
    "plt.annotate(f\"({3.2}, {1.6})\", (3.2, 1.6), textcoords=\"offset points\", xytext=(20,5), ha='center')\n",
    "plt.annotate(f\"({8}, {0})\", (8, 0), textcoords=\"offset points\", xytext=(-15, 10), ha='center')\n",
    "plt.annotate(f\"({0}, {8})\", (0, 8), textcoords=\"offset points\", xytext=(10, 10), ha='center')\n",
    "plt.annotate(f\"({0}, {round(8 / 3, 1)})\", (0, 8 / 3), textcoords=\"offset points\", xytext=(25, 10), ha='center')\n",
    "\n",
    "# Plot the objective coefficient vector\n",
    "\n",
    "plt.arrow(0, 0, 5, 6, head_width=0.2, head_length=0.2, fc='blue', alpha=0.5)\n",
    "\n",
    "# Set the x and y axis labels\n",
    "plt.xlabel(r\"$x_s$\")\n",
    "plt.ylabel(r\"$x_c$\")\n",
    "\n",
    "# Set the x and y axis limits\n",
    "plt.xlim(0, 8)\n",
    "plt.ylim(0, 8)\n",
    "\n",
    "# Add a legend\n",
    "plt.legend(loc=0)\n",
    "\n",
    "# Show the plot\n",
    "plt.show()\n"
   ]
  },
  {
   "cell_type": "code",
   "execution_count": 32,
   "id": "5b0d0558",
   "metadata": {},
   "outputs": [
    {
     "name": "stdout",
     "output_type": "stream",
     "text": [
      "Gurobi Optimizer version 12.0.1 build v12.0.1rc0 (win64 - Windows 11.0 (26100.2))\n",
      "\n",
      "CPU model: Intel(R) Core(TM) Ultra 5 125U, instruction set [SSE2|AVX|AVX2]\n",
      "Thread count: 12 physical cores, 14 logical processors, using up to 14 threads\n",
      "\n",
      "Optimize a model with 2 rows, 2 columns and 4 nonzeros\n",
      "Model fingerprint: 0x400a48f0\n",
      "Coefficient statistics:\n",
      "  Matrix range     [1e+00, 3e+00]\n",
      "  Objective range  [1e+02, 1e+02]\n",
      "  Bounds range     [0e+00, 0e+00]\n",
      "  RHS range        [8e+00, 8e+00]\n",
      "Presolve time: 0.01s\n",
      "Presolved: 2 rows, 2 columns, 4 nonzeros\n",
      "\n",
      "Iteration    Objective       Primal Inf.    Dual Inf.      Time\n",
      "       0    2.2000000e+32   2.500000e+30   2.200000e+02      0s\n",
      "       2    5.1200000e+02   0.000000e+00   0.000000e+00      0s\n",
      "\n",
      "Solved in 2 iterations and 0.02 seconds (0.00 work units)\n",
      "Optimal objective  5.120000000e+02\n"
     ]
    }
   ],
   "source": [
    "\n",
    "m1 = gp.Model(\"Metallurgy 1\")\n",
    "\n",
    "# Hier benutzen wir die Methode addVars, um mehrere Variablen auf einmal zu erstellen\n",
    "x = m1.addVars(2, name=\"Product\")\n",
    "\n",
    "m1.setObjective(100 * x[0] + 120 * x[1], GRB.MAXIMIZE)\n",
    "\n",
    "c1 = m1.addConstr(2 * x[0] +  x[1] <= 8, \"Machine 1\")\n",
    "c2 = m1.addConstr(1 * x[0] + 3 * x[1] <= 8, \"Machine 2\")\n",
    "\n",
    "m1.optimize()"
   ]
  },
  {
   "cell_type": "code",
   "execution_count": 33,
   "id": "7741ebc2",
   "metadata": {},
   "outputs": [
    {
     "name": "stdout",
     "output_type": "stream",
     "text": [
      "Warning: constraint name \"Machine 1\" has a space\n",
      "\\ Model Metallurgy 1\n",
      "\\ LP format - for model browsing. Use MPS format to capture full model detail.\n",
      "Maximize\n",
      "  100 Product[0] + 120 Product[1]\n",
      "Subject To\n",
      " Machine_1: 2 Product[0] + Product[1] <= 8\n",
      " Machine_2: Product[0] + 3 Product[1] <= 8\n",
      "Bounds\n",
      "End\n",
      "\n"
     ]
    }
   ],
   "source": [
    "m1.write(\"Metallurgy.lp\")\n",
    "\n",
    "with open(\"Metallurgy.lp\") as f:\n",
    "    print(f.read())"
   ]
  },
  {
   "cell_type": "code",
   "execution_count": 34,
   "id": "9a6a76ca",
   "metadata": {},
   "outputs": [
    {
     "name": "stdout",
     "output_type": "stream",
     "text": [
      "0\n",
      "1\n",
      "2\n"
     ]
    }
   ],
   "source": [
    "# Die for-Schleife\n",
    "\n",
    "for i in range(3):\n",
    "    print(i)"
   ]
  },
  {
   "cell_type": "code",
   "execution_count": 35,
   "id": "4f6d6293",
   "metadata": {},
   "outputs": [
    {
     "data": {
      "text/plain": [
       "[0, 1, 2]"
      ]
     },
     "execution_count": 35,
     "metadata": {},
     "output_type": "execute_result"
    }
   ],
   "source": [
    "[i for i in range(3)]"
   ]
  },
  {
   "cell_type": "code",
   "execution_count": 36,
   "id": "af9f1fee",
   "metadata": {},
   "outputs": [
    {
     "name": "stdout",
     "output_type": "stream",
     "text": [
      "i = 0\n",
      "coefficients[0] = 100\n",
      "variable_values[0] = 10\n",
      "100 * 10 = 1000\n",
      "i = 1\n",
      "coefficients[1] = 120\n",
      "variable_values[1] = 20\n",
      "120 * 20 = 2400\n"
     ]
    }
   ],
   "source": [
    "coefficients = [100, 120]\n",
    "values = [10, 20]\n",
    "\n",
    "for i in range(len(coefficients)):\n",
    "    print(\"i =\", i)\n",
    "    print(f\"coefficients[{i}] =\", coefficients[i])\n",
    "    print(f\"variable_values[{i}] =\", values[i])\n",
    "    print(f\"{coefficients[i]} * {values[i]} = {coefficients[i] * values[i]}\")"
   ]
  },
  {
   "cell_type": "code",
   "execution_count": 37,
   "id": "108646fa",
   "metadata": {},
   "outputs": [
    {
     "data": {
      "text/plain": [
       "[1000, 2400]"
      ]
     },
     "execution_count": 37,
     "metadata": {},
     "output_type": "execute_result"
    }
   ],
   "source": [
    "[coefficients[i] * values[i] for i in range(len(coefficients))]"
   ]
  },
  {
   "cell_type": "code",
   "execution_count": 38,
   "id": "bad25b7c",
   "metadata": {},
   "outputs": [
    {
     "data": {
      "text/plain": [
       "3400"
      ]
     },
     "execution_count": 38,
     "metadata": {},
     "output_type": "execute_result"
    }
   ],
   "source": [
    "sum([coefficients[i] * values[i] for i in range(len(coefficients))])"
   ]
  },
  {
   "cell_type": "code",
   "execution_count": 39,
   "id": "66d84e83",
   "metadata": {},
   "outputs": [
    {
     "name": "stdout",
     "output_type": "stream",
     "text": [
      "Gurobi Optimizer version 12.0.1 build v12.0.1rc0 (win64 - Windows 11.0 (26100.2))\n",
      "\n",
      "CPU model: Intel(R) Core(TM) Ultra 5 125U, instruction set [SSE2|AVX|AVX2]\n",
      "Thread count: 12 physical cores, 14 logical processors, using up to 14 threads\n",
      "\n",
      "Optimize a model with 2 rows, 2 columns and 4 nonzeros\n",
      "Model fingerprint: 0x400a48f0\n",
      "Coefficient statistics:\n",
      "  Matrix range     [1e+00, 3e+00]\n",
      "  Objective range  [1e+02, 1e+02]\n",
      "  Bounds range     [0e+00, 0e+00]\n",
      "  RHS range        [8e+00, 8e+00]\n",
      "Presolve time: 0.01s\n",
      "Presolved: 2 rows, 2 columns, 4 nonzeros\n",
      "\n",
      "Iteration    Objective       Primal Inf.    Dual Inf.      Time\n",
      "       0    2.2000000e+32   2.500000e+30   2.200000e+02      0s\n",
      "       2    5.1200000e+02   0.000000e+00   0.000000e+00      0s\n",
      "\n",
      "Solved in 2 iterations and 0.01 seconds (0.00 work units)\n",
      "Optimal objective  5.120000000e+02\n",
      "Product[0] = 3.2, RC = 0.0\n",
      "Product[1] = 1.6, RC = 0.0\n",
      "Profit = 512.0\n"
     ]
    }
   ],
   "source": [
    "m2 = gp.Model(\"Metallurgy 2\")\n",
    "\n",
    "c = [100, 120]\n",
    "\n",
    "# Anstatt die Anzahl der Variable wie in \"Metallurgy 1\" zu spezifizieren, benutzen wir hier die Länge der Koeffizientenliste\n",
    "x = m2.addVars(len(c), name=\"Product\")\n",
    "\n",
    "m2.setObjective(gp.quicksum([c[i] * x[i] for i in range(len(c))]), GRB.MAXIMIZE)\n",
    "\n",
    "c1 = m2.addConstr(2 * x[0] +  x[1] <= 8, \"Machine 1\")\n",
    "c2 = m2.addConstr(1 * x[0] + 3 * x[1] <= 8, \"Machine 2\")\n",
    "\n",
    "m2.optimize()\n",
    "\n",
    "print(f\"{x[0].VarName} = {x[0].x}, RC = {x[0].RC}\")\n",
    "print(f\"{x[1].VarName} = {x[1].x}, RC = {x[1].RC}\")\n",
    "print(f\"Profit = {m2.objVal}\")"
   ]
  },
  {
   "cell_type": "code",
   "execution_count": 40,
   "id": "f07deac9",
   "metadata": {},
   "outputs": [
    {
     "name": "stdout",
     "output_type": "stream",
     "text": [
      "Warning: constraint name \"Machine 1\" has a space\n",
      "\\ Model Metallurgy 2\n",
      "\\ LP format - for model browsing. Use MPS format to capture full model detail.\n",
      "Maximize\n",
      "  100 Product[0] + 120 Product[1]\n",
      "Subject To\n",
      " Machine_1: 2 Product[0] + Product[1] <= 8\n",
      " Machine_2: Product[0] + 3 Product[1] <= 8\n",
      "Bounds\n",
      "End\n",
      "\n"
     ]
    }
   ],
   "source": [
    "m2.write(\"Metallurgy2.lp\")\n",
    "\n",
    "with open(\"Metallurgy2.lp\") as f:\n",
    "    print(f.read())"
   ]
  },
  {
   "cell_type": "code",
   "execution_count": null,
   "id": "d56ca998",
   "metadata": {},
   "outputs": [
    {
     "name": "stdout",
     "output_type": "stream",
     "text": [
      "i = 0\n",
      "constr[0] = [2, 1]\n",
      "const_rhs[0] = 8\n",
      "i = 1\n",
      "constr[1] = [1, 3]\n",
      "const_rhs[1] = 8\n"
     ]
    }
   ],
   "source": [
    "constr = [\n",
    "    [2, 1], \n",
    "    [1, 3]\n",
    "]\n",
    "const_rhs = [8, 8]\n",
    "\n",
    "for i in range(len(constr)):\n",
    "    print(\"i =\", i)\n",
    "    print(f\"constr[{i}] =\", constr[i])\n",
    "    print(f\"const_rhs[{i}] =\", const_rhs[i])\n"
   ]
  },
  {
   "cell_type": "code",
   "execution_count": 44,
   "id": "b2fca519",
   "metadata": {},
   "outputs": [
    {
     "name": "stdout",
     "output_type": "stream",
     "text": [
      "constr[0][0] = 2\n",
      "constr[0][1] = 1\n",
      "constr[1][0] = 1\n",
      "constr[1][1] = 3\n"
     ]
    }
   ],
   "source": [
    "for i in range(len(constr)):\n",
    "    for j in range(len(constr[i])):\n",
    "        print(f\"constr[{i}][{j}] =\", constr[i][j])"
   ]
  },
  {
   "cell_type": "code",
   "execution_count": 52,
   "id": "9bbefd03",
   "metadata": {},
   "outputs": [
    {
     "data": {
      "text/plain": [
       "{0: <gurobi.Var Product[0]>, 1: <gurobi.Var Product[1]>}"
      ]
     },
     "execution_count": 52,
     "metadata": {},
     "output_type": "execute_result"
    }
   ],
   "source": [
    "m3 = gp.Model(\"Metallurgy 3\")\n",
    "\n",
    "c = [100, 120]\n",
    "\n",
    "x = m3.addVars(len(c), name=\"Product\")\n",
    "\n",
    "m3.update()\n",
    "\n",
    "x"
   ]
  },
  {
   "cell_type": "code",
   "execution_count": 53,
   "id": "fd96dbb7",
   "metadata": {},
   "outputs": [
    {
     "data": {
      "text/plain": [
       "<gurobi.LinExpr: 100.0 Product[0] + 120.0 Product[1]>"
      ]
     },
     "execution_count": 53,
     "metadata": {},
     "output_type": "execute_result"
    }
   ],
   "source": [
    "gp.quicksum([c[j] * x[j] for j in range(len(c))])"
   ]
  },
  {
   "cell_type": "code",
   "execution_count": 54,
   "id": "472d5492",
   "metadata": {},
   "outputs": [
    {
     "data": {
      "text/plain": [
       "<gurobi.LinExpr: 2.0 Product[0] + Product[1]>"
      ]
     },
     "execution_count": 54,
     "metadata": {},
     "output_type": "execute_result"
    }
   ],
   "source": [
    "gp.quicksum([constr[0][j] * x[j] for j in range(len(constr[0]))])"
   ]
  },
  {
   "cell_type": "code",
   "execution_count": null,
   "id": "b2c9b95d",
   "metadata": {},
   "outputs": [],
   "source": [
    "gp.quicksum([coefficients[j] * values[j] for j in range(len(coefficients))])"
   ]
  },
  {
   "cell_type": "code",
   "execution_count": 64,
   "id": "c28470a1",
   "metadata": {},
   "outputs": [
    {
     "data": {
      "text/plain": [
       "<gurobi.LinExpr: 2.0 Product[0] + Product[1]>"
      ]
     },
     "execution_count": 64,
     "metadata": {},
     "output_type": "execute_result"
    }
   ],
   "source": [
    "gp.quicksum([constr[0][j] * x[j] for j in range(len(constr[0]))])"
   ]
  },
  {
   "cell_type": "code",
   "execution_count": 74,
   "id": "59125d33",
   "metadata": {},
   "outputs": [
    {
     "data": {
      "text/plain": [
       "<gurobi.TempConstr: 2.0 Product[0] + Product[1] <= 8>"
      ]
     },
     "execution_count": 74,
     "metadata": {},
     "output_type": "execute_result"
    }
   ],
   "source": [
    "gp.quicksum([constr[0][j] * x[j] for j in range(len(constr[1]))]) <= const_rhs[0]"
   ]
  },
  {
   "cell_type": "code",
   "execution_count": 75,
   "id": "aec75ee4",
   "metadata": {},
   "outputs": [
    {
     "data": {
      "text/plain": [
       "<gurobi.TempConstr: Product[0] + 3.0 Product[1] <= 8>"
      ]
     },
     "execution_count": 75,
     "metadata": {},
     "output_type": "execute_result"
    }
   ],
   "source": [
    "gp.quicksum([constr[1][j] * x[j] for j in range(len(constr[1]))]) <= const_rhs[1]"
   ]
  },
  {
   "cell_type": "code",
   "execution_count": null,
   "id": "f62dba4e",
   "metadata": {},
   "outputs": [
    {
     "data": {
      "text/plain": [
       "<gurobi.Constr Machine 1>"
      ]
     },
     "execution_count": 63,
     "metadata": {},
     "output_type": "execute_result"
    }
   ],
   "source": [
    "c_machine1 = m3.addConstr(\n",
    "    gp.quicksum([constr[0][j] * x[j] for j in range(len(constr[0]))]) <= const_rhs[0], \n",
    "    \"Machine 1\"\n",
    "    )\n",
    "c_machine2 = m3.addConstr(\n",
    "    gp.quicksum([constr[1][j] * x[j] for j in range(len(constr[1]))]) <= const_rhs[1], \n",
    "    \"Machine 2\"\n",
    "    )"
   ]
  },
  {
   "cell_type": "code",
   "execution_count": 77,
   "id": "f17443bb",
   "metadata": {},
   "outputs": [
    {
     "data": {
      "text/plain": [
       "{0: <gurobi.Constr Machines[0]>, 1: <gurobi.Constr Machines[1]>}"
      ]
     },
     "execution_count": 77,
     "metadata": {},
     "output_type": "execute_result"
    }
   ],
   "source": [
    "c_machines = m3.addConstrs(\n",
    "    (gp.quicksum([constr[i][j] * x[j] for j in range(len(constr[i]))]) <= const_rhs[i] for i in range(len(constr))),\n",
    "    name=\"Machines\"\n",
    ")\n",
    "m3.update()\n",
    "\n",
    "c_machines"
   ]
  },
  {
   "cell_type": "code",
   "execution_count": null,
   "id": "7b1f2f30",
   "metadata": {},
   "outputs": [
    {
     "name": "stdout",
     "output_type": "stream",
     "text": [
      "Gurobi Optimizer version 12.0.1 build v12.0.1rc0 (linux64 - \"Ubuntu 24.04.2 LTS\")\n"
     ]
    },
    {
     "name": "stdout",
     "output_type": "stream",
     "text": [
      "\n"
     ]
    },
    {
     "name": "stdout",
     "output_type": "stream",
     "text": [
      "CPU model: Intel(R) Core(TM) i9-14900K, instruction set [SSE2|AVX|AVX2]\n"
     ]
    },
    {
     "name": "stdout",
     "output_type": "stream",
     "text": [
      "Thread count: 32 physical cores, 32 logical processors, using up to 32 threads\n"
     ]
    },
    {
     "name": "stdout",
     "output_type": "stream",
     "text": [
      "\n"
     ]
    },
    {
     "name": "stdout",
     "output_type": "stream",
     "text": [
      "Optimize a model with 2 rows, 2 columns and 4 nonzeros\n"
     ]
    },
    {
     "name": "stdout",
     "output_type": "stream",
     "text": [
      "Model fingerprint: 0x400a48f0\n"
     ]
    },
    {
     "name": "stdout",
     "output_type": "stream",
     "text": [
      "Coefficient statistics:\n"
     ]
    },
    {
     "name": "stdout",
     "output_type": "stream",
     "text": [
      "  Matrix range     [1e+00, 3e+00]\n"
     ]
    },
    {
     "name": "stdout",
     "output_type": "stream",
     "text": [
      "  Objective range  [1e+02, 1e+02]\n"
     ]
    },
    {
     "name": "stdout",
     "output_type": "stream",
     "text": [
      "  Bounds range     [0e+00, 0e+00]\n"
     ]
    },
    {
     "name": "stdout",
     "output_type": "stream",
     "text": [
      "  RHS range        [8e+00, 8e+00]\n"
     ]
    },
    {
     "name": "stdout",
     "output_type": "stream",
     "text": [
      "Presolve time: 0.00s\n"
     ]
    },
    {
     "name": "stdout",
     "output_type": "stream",
     "text": [
      "Presolved: 2 rows, 2 columns, 4 nonzeros\n"
     ]
    },
    {
     "name": "stdout",
     "output_type": "stream",
     "text": [
      "\n"
     ]
    },
    {
     "name": "stdout",
     "output_type": "stream",
     "text": [
      "Iteration    Objective       Primal Inf.    Dual Inf.      Time\n"
     ]
    },
    {
     "name": "stdout",
     "output_type": "stream",
     "text": [
      "       0    2.2000000e+32   2.500000e+30   2.200000e+02      0s\n"
     ]
    },
    {
     "name": "stdout",
     "output_type": "stream",
     "text": [
      "       2    5.1200000e+02   0.000000e+00   0.000000e+00      0s\n"
     ]
    },
    {
     "name": "stdout",
     "output_type": "stream",
     "text": [
      "\n"
     ]
    },
    {
     "name": "stdout",
     "output_type": "stream",
     "text": [
      "Solved in 2 iterations and 0.00 seconds (0.00 work units)\n"
     ]
    },
    {
     "name": "stdout",
     "output_type": "stream",
     "text": [
      "Optimal objective  5.120000000e+02\n"
     ]
    }
   ],
   "source": [
    "# m3 = gp.Model(\"Metallurgy 3\")\n",
    "\n",
    "# c = [100, 120]\n",
    "\n",
    "# x = m3.addVars(len(c), name=\"Product\")\n",
    "\n",
    "# m3.setObjective(gp.quicksum([c[i] * x[i] for i in range(len(c))]), GRB.MAXIMIZE)\n",
    "\n",
    "# constr = [[2, 1], [1, 3]]\n",
    "# const_rhs = [8, 8]\n",
    "\n",
    "# for i in range(len(constr)):\n",
    "#     m3.addConstr(gp.quicksum([constr[i][j] * x[j] for j in range(len(c))]) <= const_rhs[i])\n",
    "\n",
    "# m3.optimize()\n",
    "\n",
    "# # Geben Sie die Lösung aus\n"
   ]
  },
  {
   "cell_type": "code",
   "execution_count": 17,
   "id": "66ffd95f",
   "metadata": {},
   "outputs": [
    {
     "data": {
      "text/plain": [
       "{0: <gurobi.Var Product[0] (value 3.2)>,\n",
       " 1: <gurobi.Var Product[1] (value 1.6)>}"
      ]
     },
     "execution_count": 17,
     "metadata": {},
     "output_type": "execute_result"
    }
   ],
   "source": [
    "x"
   ]
  },
  {
   "cell_type": "code",
   "execution_count": 18,
   "id": "e0e907b1",
   "metadata": {},
   "outputs": [
    {
     "name": "stdout",
     "output_type": "stream",
     "text": [
      "\\ Model Metallurgy 3\n",
      "\\ LP format - for model browsing. Use MPS format to capture full model detail.\n",
      "Maximize\n",
      "  100 Product[0] + 120 Product[1]\n",
      "Subject To\n",
      " R0: 2 Product[0] + Product[1] <= 8\n",
      " R1: Product[0] + 3 Product[1] <= 8\n",
      "Bounds\n",
      "End\n",
      "\n"
     ]
    }
   ],
   "source": [
    "m3.write(\"Metallurgy3.lp\")\n",
    "\n",
    "with open(\"Metallurgy3.lp\") as f:\n",
    "    print(f.read())"
   ]
  }
 ],
 "metadata": {
  "kernelspec": {
   "display_name": "Python 3",
   "language": "python",
   "name": "python3"
  },
  "language_info": {
   "codemirror_mode": {
    "name": "ipython",
    "version": 3
   },
   "file_extension": ".py",
   "mimetype": "text/x-python",
   "name": "python",
   "nbconvert_exporter": "python",
   "pygments_lexer": "ipython3",
   "version": "3.11.11"
  }
 },
 "nbformat": 4,
 "nbformat_minor": 5
}
