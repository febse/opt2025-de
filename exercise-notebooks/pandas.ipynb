{
 "cells": [
  {
   "cell_type": "markdown",
   "metadata": {},
   "source": [
    "# Pandas\n",
    "\n",
    "Pandas (Python Data Analysis Library) ist eine Open-Source-Bibliothek, die es ermöglicht, Daten in Python zu manipulieren und zu analysieren. Sie baut \n",
    "auf NumPy auf und bietet Datenstrukturen und Funktionen, mit denen Sie Daten in Python effizient und benutzerfreundlich verarbeiten können."
   ]
  },
  {
   "cell_type": "code",
   "execution_count": null,
   "metadata": {},
   "outputs": [],
   "source": [
    "%pip install -q otter-grader\n",
    "\n",
    "import pandas as pd\n",
    "import numpy as np\n",
    "import otter\n",
    "\n",
    "grader = otter.Notebook(\"pandas.ipynb\")\n",
    "%matplotlib inline"
   ]
  },
  {
   "cell_type": "markdown",
   "metadata": {},
   "source": [
    "## Series\n",
    "\n",
    "Eine Series ist ein eindimensionales Array-ähnliches Objekt, das eine Sequenz von Werten und eine zugehörige Sequenz von Indizes enthält. Sie können eine Series aus einer Liste oder einem NumPy-Array erstellen, für weitere Informationen siehe [hier](https://pandas.pydata.org/pandas-docs/stable/reference/api/pandas.Series.html). Zusätzlich zu den Werten in der Series können Sie auch die Indizes festlegen, die standardmäßig von 0 bis N-1 (wobei N die Anzahl der Werte ist) laufen. Diese Indices können auch als Label verwendet werden, um auf die Werte zuzugreifen."
   ]
  },
  {
   "cell_type": "markdown",
   "metadata": {
    "deletable": false,
    "editable": false
   },
   "source": [
    "**Aufgabe 1:** Erstellen eine Series `my_first_series` mit den Werten 1, 3, 5, 7, 9 und den Indizes a, b, c, d, e. Weisen Sie den Wert der Series under dem Index `c` der Variable `my_first_series_c` zu."
   ]
  },
  {
   "cell_type": "code",
   "execution_count": null,
   "metadata": {
    "tags": []
   },
   "outputs": [],
   "source": [
    "my_first_series = pd.Series(..., index=...)\n",
    "my_first_series_c = my_first_series[...]"
   ]
  },
  {
   "cell_type": "code",
   "execution_count": null,
   "metadata": {
    "deletable": false,
    "editable": false
   },
   "outputs": [],
   "source": [
    "grader.check(\"q1\")"
   ]
  },
  {
   "cell_type": "markdown",
   "metadata": {
    "deletable": false,
    "editable": false
   },
   "source": [
    "**Aufgabe 2:** Für die meisten Operationen funktionieren Series wie NumPy-Arrays. Im Folgenden werden die Series `series_a` und `series_b` definiert. Addieren Sie die beiden Series und weisen Sie das Ergebnis der Variable `series_sum_ab` zu.\n",
    "\n",
    "**Hinweis**: Die Summe der beiden Series entspricht der Summe der Werte **an den gleichen Indizes**. Falls die Series unterschiedliche Indizes haben, wird das Ergebnis `NaN` sein und die Länge der Series entspricht Summe der Längen der beiden Series.\n",
    "\n",
    "Bilden Sie die Summe der beiden Series `series_a` und `series_c` und weisen Sie das Ergebnis der Variable `series_sum_ac` zu.\n",
    "\n"
   ]
  },
  {
   "cell_type": "code",
   "execution_count": null,
   "metadata": {
    "tags": []
   },
   "outputs": [],
   "source": [
    "series_a = pd.Series([1, 2, 3, 4], index=['a', 'b', 'c', 'd'])\n",
    "series_b = pd.Series([6, 23, 11, 100], index=['a', 'b', 'c', 'd'])\n",
    "series_c = pd.Series([6, 23, 11, 100], index=['x1', 'x2', 'x3', 'x4'])\n",
    "\n",
    "series_sum_ab = ...\n",
    "series_sum_ac = ...\n",
    "\n",
    "print(series_sum_ab)\n",
    "print(series_sum_ac)"
   ]
  },
  {
   "cell_type": "code",
   "execution_count": null,
   "metadata": {
    "deletable": false,
    "editable": false
   },
   "outputs": [],
   "source": [
    "grader.check(\"q2\")"
   ]
  },
  {
   "cell_type": "markdown",
   "metadata": {
    "deletable": false,
    "editable": false
   },
   "source": [
    "**Aufgabe 2a:** Die Series haben eine Menge von Methoden, die auf sie angewendet werden können. Verwenden Sie die Methode `sum` um die Elemente der Series `series_a1` zu summieren und weisen Sie das Ergebnis der Variable `series_a1_sum` zu. Berechnen Sie den Durchschnitt der Werte in der Series `series_a1` und weisen Sie das Ergebnis der Variable `series_a1_mean` zu.\n",
    "\n",
    "**Hint**: Die Methode `sum` ist eine Funktion, die auf die Series angewendet wird. Die Methode `mean` berechnet den Durchschnitt der Werte in der Series.\n",
    "\n",
    "```python\n",
    "some_series = pd.Series([1, 2, 3, 4, 5])\n",
    "print(series_a.sum()) # Gibt 15 aus\n",
    "print(series_a.mean()) # Gibt 3 aus\n",
    "```"
   ]
  },
  {
   "cell_type": "code",
   "execution_count": null,
   "metadata": {
    "tags": []
   },
   "outputs": [],
   "source": [
    "series_a1 = pd.Series([101, 2332, 312, 40])\n",
    "\n",
    "series_a1_sum = ...\n",
    "series_a1_mean = ..."
   ]
  },
  {
   "cell_type": "code",
   "execution_count": null,
   "metadata": {
    "deletable": false,
    "editable": false
   },
   "outputs": [],
   "source": [
    "grader.check(\"q2a\")"
   ]
  },
  {
   "cell_type": "markdown",
   "metadata": {
    "deletable": false,
    "editable": false
   },
   "source": [
    "## DataFrame\n",
    "\n",
    "Der DataFrame ist eine zweidimensionale Datenstruktur, die Daten in tabellarischer Form darstellt. Sie können einen DataFrame als eine Gruppe von Series betrachten, die dieselben Indizes teilen. Ein DataFrame hat sowohl Zeilen- als auch Spaltenindizes. Sie können einen DataFrame aus einem Dictionary von gleich langen Listen oder Arrays erstellen, für weitere Informationen siehe [hier](https://pandas.pydata.org/pandas-docs/stable/reference/api/pandas.DataFrame.html)."
   ]
  },
  {
   "cell_type": "markdown",
   "metadata": {
    "deletable": false,
    "editable": false
   },
   "source": [
    "**Aufgabe 3:** Erstellen Sie einen DataFrame `customers` mit den Spalten `name`, `age` und `city` und den Werten 'Tom', 'Jane', 'Alice', 'Tom', `age` 34, 28, 56, 34 und `city` 'Seattle', 'San Francisco', 'Seattle', 'New York'."
   ]
  },
  {
   "cell_type": "code",
   "execution_count": null,
   "metadata": {
    "tags": []
   },
   "outputs": [],
   "source": [
    "customers = pd.DataFrame({\n",
    "    'name': ['Tom', 'Jane', ..., 'Tom'],\n",
    "    'age': [34, 28, ...],\n",
    "    'city': ['Seattle', 'San Francisco', ...]\n",
    "})\n",
    "customers"
   ]
  },
  {
   "cell_type": "code",
   "execution_count": null,
   "metadata": {
    "deletable": false,
    "editable": false
   },
   "outputs": [],
   "source": [
    "grader.check(\"q3\")"
   ]
  },
  {
   "cell_type": "markdown",
   "metadata": {
    "deletable": false,
    "editable": false
   },
   "source": [
    "**Aufgabe 4:** In dieser Aufgabe wird der DataFrame `sales` definiert. Er enthält die Spalten `sales_mar`, `sales_apr`, `sales_may`. Die Zeilen entsprechen den Verkäufen von Produktenklassen in den Monaten März, April und Mai.\n",
    "\n",
    "Berechnen Sie die Summe aller Verkäufe nach Monat. In diesem Beispiel heißt das die Spaltensummen zu berechnen. Weisen Sie das Ergebnis der Variable `sales_by_month` zu.\n",
    "\n",
    "Berechnen Sie die Summe aller Verkäufe nach Produktklasse. In diesem Beispiel heißt das die Zeilensummen zu berechnen. Weisen Sie das Ergebnis der Variable `sales_by_product` zu.\n",
    "\n",
    "**Hinweis:** Sie können die Methode `sum()` verwenden, um die Summe aller Werte in einem DataFrame zu berechnen. Diese Methode hat einen optionalen Parameter `axis`, der angibt, ob die Summe über die Zeilen oder Spalten berechnet werden soll. Der Wert 0 entspricht der Summe über die Zeilen, der Wert 1 entspricht der Summe über die Spalten.\n",
    "\n",
    "```python\n",
    "some_dataframe = pd.DataFrame({'a': [1, 2, 3], 'b': [4, 5, 6]})\n",
    "print(some_dataframe.sum(axis=0)) # Gibt a 6, b 15 aus\n",
    "print(some_dataframe.sum(axis=1)) # Gibt 5, 7, 9 aus\n",
    "```\n"
   ]
  },
  {
   "cell_type": "code",
   "execution_count": null,
   "metadata": {
    "tags": []
   },
   "outputs": [],
   "source": [
    "sales = pd.DataFrame({\n",
    "    'sales_mar': [5, 7, 3, 1, 8],\n",
    "    'sales_apr': [4, 3, 7, 6, 9],\n",
    "    'sales_may': [8, 7, 4, 3, 2]    \n",
    "}, index=['Beer', 'Wine', 'Whiskey', 'Vodka', 'Tequila'])\n",
    "sales_by_month = sales.sum(axis=...)\n",
    "sales_by_product = sales.sum(...)"
   ]
  },
  {
   "cell_type": "code",
   "execution_count": null,
   "metadata": {
    "deletable": false,
    "editable": false
   },
   "outputs": [],
   "source": [
    "grader.check(\"q4\")"
   ]
  },
  {
   "cell_type": "markdown",
   "metadata": {},
   "source": [
    "In den folgenden Aufgaben werden wir mit einem Datensatz arbeiten, der Information über die [Gehälter von Mitarbeitern der Stadt San Francisco enthält](https://www.kaggle.com/datasets/kaggle/sf-salaries).\n",
    "\n",
    "- `id` (numeric): Die Identifikationsnummer des Mitarbeiters\n",
    "- `EmployeeName` (string): Der Name des Mitarbeiters\n",
    "- `JobTitle` (string): Die Bezeichnung der Stelle\n",
    "- `BasePay` (numeric): Das Grundgehalt des Mitarbeiters\n",
    "- `OvertimePay` (numeric): Das Überstundengehalt des Mitarbeiters\n",
    "- `OtherPay` (numeric): Sonstige Zahlungen an den Mitarbeiter\n",
    "- `Benefits` (numeric): Die Leistungen des Mitarbeiters\n",
    "- `TotalPay` (numeric): Das Gesamtgehalt des Mitarbeiters\n",
    "- `TotalPayBenefits` (numeric): Das Gesamtgehalt einschließlich der Leistungen\n",
    "- `Year` (numeric): Das Jahr, in dem das Gehalt gezahlt wurde"
   ]
  },
  {
   "cell_type": "code",
   "execution_count": null,
   "metadata": {},
   "outputs": [],
   "source": [
    "salaries = pd.read_csv('https://github.com/febse/data/raw/main/econ/Salaries.csv')\n",
    "salaries.head()"
   ]
  },
  {
   "cell_type": "markdown",
   "metadata": {
    "deletable": false,
    "editable": false
   },
   "source": [
    "**Aufgabe 5:** Benutzen Sie den Datensatz `salaries` und berechnen Sie die folgenden Zusammenfassungen der Daten:\n",
    "\n",
    "- Wie viele Mitarbeiter umfasst der Datensatz? Speichern Sie das Ergebnis unter der Variable `number_of_employees`.\n",
    "- Wie hoch ist das durchschnittliche Grundgehalt (`BasePay`)? Speichern Sie das Ergebnis unter der Variable `average_base_pay`.\n",
    "- Wie hoch ist das größte Überstundengehalt (`OvertimePay`)? Speichern Sie das Ergebnis unter der Variable `max_overtime_pay`.\n",
    "- Was ist der Name des Mitarbeiters mit dem größten Gesamtgehalt (`TotalPay`)? Speichern Sie das Ergebnis unter der Variable `employee_with_max_total_pay`.\n",
    "\n",
    "**Hinweise**: Benutzen Sie die Eigenshaft `shape` um die Anzahl der Zeilen zu berechnen.\n",
    "\n",
    "- Die Methode `mean` berechnet den Durchschnitt der Werte in einer Series.\n",
    "- Die Methode `max` gibt den größten Wert in einer Series zurück.\n",
    "- Die Methode `idxmax` gibt den Index des größten Wertes in einer Series zurück.\n",
    "\n",
    "Sie können auf die Spalten eines DataFrame wie auf die Elemente eines Dictionarys zugreifen. Zum Beispiel:\n",
    "\n",
    "```python\n",
    "some_dataframe = pd.DataFrame({'a': [1, 2, 3], 'b': [4, 5, 6]})\n",
    "print(some_dataframe['a']) # Gibt 1, 2, 3 aus\n",
    "```\n",
    "\n",
    "Sie können auf die Indices einer Series wie auf die Elemente einer Liste zugreifen. Zum Beispiel:\n",
    "\n",
    "```python\n",
    "some_series = pd.Series([1, 2, 3], index=['a', 'b', 'c'])\n",
    "print(some_series['a']) # Gibt 1 aus\n",
    "```"
   ]
  },
  {
   "cell_type": "code",
   "execution_count": null,
   "metadata": {
    "tags": []
   },
   "outputs": [],
   "source": [
    "number_of_employees = ...\n",
    "average_base_pay = ...\n",
    "average_base_pay = ...\n",
    "max_overtime_pay = ...\n",
    "employee_with_max_total_pay = salaries[\"EmployeeName\"][...]"
   ]
  },
  {
   "cell_type": "code",
   "execution_count": null,
   "metadata": {
    "deletable": false,
    "editable": false
   },
   "outputs": [],
   "source": [
    "grader.check(\"q5\")"
   ]
  },
  {
   "cell_type": "markdown",
   "metadata": {
    "deletable": false,
    "editable": false
   },
   "source": [
    "**Aufgabe 6**: Benutzen Sie den Datensatz `salaries`, um die folgenden Fragen zu beantworten:\n",
    "\n",
    "- Wie viele verschiedene Stellenbezeichnungen (`JobTitle`) gibt es? Speichern Sie das Ergebnis unter der Variable `number_of_job_titles`.\n",
    "- Wie viele Mitarbeiter haben die Stellenbezeichnung `Transit Operator`? Speichern Sie das Ergebnis unter der Variable `number_of_transit_operators`.\n",
    "- Was für eine Stelle (`JobTitle`) hat der Mitarbeiter mit dem Namen \"JOANNE HAYES-WHITE\"? Speichern Sie das Ergebnis unter der Variable `job_title_of_joanne`.\n",
    "- Welche sind die drei häufigsten Stellenbezeichnungen? Speichern Sie das Ergebnis unter der Variable `top_3_job_titles`.\n",
    "\n",
    "**Hinweise**: Die Methode `nunique` gibt die Anzahl der eindeutigen Werte in einer Series zurück.\n",
    "\n",
    "Sie können ein Teil eines DataFrames auswählen, indem Sie einen Filter andwenden. Zum Beispiel:\n",
    "\n",
    "```python\n",
    "some_dataframe = pd.DataFrame({'a': [1, 2, 3], 'b': [4, 5, 6]})\n",
    "print(some_dataframe[some_dataframe['a'] > 1]) # Gibt 2, 3 aus\n",
    "```\n",
    "\n",
    "Sie können auf die Daten einer Series mit der Eigenschaft `values` zugreifen. Zum Beispiel:\n",
    "\n",
    "```python\n",
    "some_series = pd.Series([1, 2, 3])\n",
    "print(some_series.values) # Gibt [1, 2, 3] aus\n",
    "```\n",
    "\n",
    "Sie können die Methode `value_counts` verwenden, um die Anzahl der eindeutigen Werte in einer Series zu zählen. Zum Beispiel:\n",
    "\n",
    "```python\n",
    "some_series = pd.Series(['a', 'b', 'a', 'c', 'a', 'b'])\n",
    "print(some_series.value_counts()) # Gibt a 3, b 2, c 1 aus\n",
    "```\n",
    "\n",
    "Sie können die Methode `head` verwenden, um die ersten n Zeilen eines DataFrames/einer Series anzuzeigen. Zum Beispiel:\n",
    "\n",
    "```python\n",
    "some_series = pd.Series([1, 8, 3, 4, 5])\n",
    "print(some_series.head(2)) # Gibt 1, 8 aus\n",
    "```\n"
   ]
  },
  {
   "cell_type": "code",
   "execution_count": null,
   "metadata": {
    "tags": []
   },
   "outputs": [],
   "source": [
    "number_of_job_title = salaries[...].nunique...\n",
    "number_of_transit_operators = ...[salaries[...] == ...].shape[...]\n",
    "job_title_of_joanne = salaries[...][salaries[...] == ...].values[0]\n",
    "top_3_job_titles = salaries[...].value_counts().head(...)"
   ]
  },
  {
   "cell_type": "code",
   "execution_count": null,
   "metadata": {
    "deletable": false,
    "editable": false
   },
   "outputs": [],
   "source": [
    "grader.check(\"q6\")"
   ]
  },
  {
   "cell_type": "markdown",
   "metadata": {
    "deletable": false,
    "editable": false
   },
   "source": [
    "**Aufgabe 7**: Benutzen Sie den Datensatz `salaries`, um die folgenden Fragen zu beantworten:\n",
    "\n",
    "- Wie hoch waren die Gesamtzahlungen (`TotalPay`) im Jahr 2011? Speichern Sie das Ergebnis unter der Variable `total_pay_2011`.\n",
    "- Wie hoch waren die durchschnittlichen Gesamtleistungen (`TotalPay`) für die Stellenbezeichnung `Transit Operator` im Jahr 2013? Speichern Sie das Ergebnis unter der Variable `average_pay_transit_operator_2013`.\n",
    "- Wie hoch waren die Gesamtzahlungen (`TotalPay`) nach Jahren? Speichern Sie das Ergebnis unter der Variable `total_pay_by_year`.\n",
    "- Welche Stellenbezeichnungen (`JobTitle`) hatten die höchsten Gesamtzahlungen (`TotalPay`) im Jahr 2012? Speichern Sie das Ergebnis unter der Variable `job_title_with_max_total_pay_2012`.\n",
    "\n",
    "**Hinweise**: Sie können die Methode `groupby` verwenden, um die Daten in einem DataFrame zu gruppieren. Zum Beispiel:\n",
    "\n",
    "```python\n",
    "some_dataframe = pd.DataFrame({'a': [1, 2, 3], 'b': [4, 5, 6], 'c': [7, 8, 9]})\n",
    "print(some_dataframe.groupby('a').sum()) # Gibt \n",
    "#   b   c\n",
    "#a       \n",
    "#1  9  15\n",
    "#2  6   9\n",
    "# aus\n",
    "```\n"
   ]
  },
  {
   "cell_type": "code",
   "execution_count": null,
   "metadata": {
    "tags": []
   },
   "outputs": [],
   "source": [
    "total_pay_2011 = salaries[salaries['Year'] == ...][...].sum()\n",
    "average_pay_transit_operator_2013 = salaries[(salaries['Year'] == ...) & (... == 'Transit Operator')][...].mean()\n",
    "total_pay_by_year = salaries.groupby(...)[...].sum()\n",
    "job_title_with_max_total_pay_2012 = salaries[salaries['Year'] == ...].groupby(...)[...].sum().idxmax()"
   ]
  },
  {
   "cell_type": "code",
   "execution_count": null,
   "metadata": {
    "tags": []
   },
   "outputs": [],
   "source": [
    "total_pay_by_year"
   ]
  },
  {
   "cell_type": "code",
   "execution_count": null,
   "metadata": {
    "deletable": false,
    "editable": false
   },
   "outputs": [],
   "source": [
    "grader.check(\"q7\")"
   ]
  }
 ],
 "metadata": {
  "kernelspec": {
   "display_name": "Python 3",
   "language": "python",
   "name": "python3"
  },
  "language_info": {
   "codemirror_mode": {
    "name": "ipython",
    "version": 3
   },
   "file_extension": ".py",
   "mimetype": "text/x-python",
   "name": "python",
   "nbconvert_exporter": "python",
   "pygments_lexer": "ipython3",
   "version": "3.11.8"
  },
  "otter": {
   "OK_FORMAT": true,
   "tests": {
    "q1": {
     "name": "q1",
     "points": null,
     "suites": [
      {
       "cases": [
        {
         "code": ">>> np.alltrue(my_first_series.values == np.array([1, 3, 5, 7, 9]))\nTrue",
         "hidden": false,
         "locked": false
        },
        {
         "code": ">>> np.alltrue(my_first_series.index == np.array(['a', 'b', 'c', 'd', 'e']))\nTrue",
         "hidden": false,
         "locked": false
        },
        {
         "code": ">>> my_first_series_c == 5\nTrue",
         "hidden": false,
         "locked": false
        }
       ],
       "scored": true,
       "setup": "",
       "teardown": "",
       "type": "doctest"
      }
     ]
    },
    "q2": {
     "name": "q2",
     "points": null,
     "suites": [
      {
       "cases": [
        {
         "code": ">>> np.alltrue(series_sum_ab.values == np.array([7, 25, 14, 104]))\nTrue",
         "hidden": false,
         "locked": false
        },
        {
         "code": ">>> np.alltrue(np.isnan(series_sum_ac))\nTrue",
         "hidden": false,
         "locked": false
        }
       ],
       "scored": true,
       "setup": "",
       "teardown": "",
       "type": "doctest"
      }
     ]
    },
    "q2a": {
     "name": "q2a",
     "points": null,
     "suites": [
      {
       "cases": [
        {
         "code": ">>> series_a1_sum == 2785\nTrue",
         "hidden": false,
         "locked": false
        },
        {
         "code": ">>> np.isclose(series_a1_mean, 696.25)\nTrue",
         "hidden": false,
         "locked": false
        }
       ],
       "scored": true,
       "setup": "",
       "teardown": "",
       "type": "doctest"
      }
     ]
    },
    "q3": {
     "name": "q3",
     "points": null,
     "suites": [
      {
       "cases": [
        {
         "code": ">>> np.alltrue(customers.columns == np.array(['name', 'age', 'city']))\nTrue",
         "hidden": false,
         "locked": false
        },
        {
         "code": ">>> np.alltrue(customers['name'] == np.array(['Tom', 'Jane', 'Alice', 'Tom']))\nTrue",
         "hidden": false,
         "locked": false
        },
        {
         "code": ">>> np.alltrue(customers['age'] == np.array([34, 28, 56, 34]))\nTrue",
         "hidden": false,
         "locked": false
        },
        {
         "code": ">>> np.alltrue(customers['city'] == np.array(['Seattle', 'San Francisco', 'Seattle', 'New York']))\nTrue",
         "hidden": false,
         "locked": false
        }
       ],
       "scored": true,
       "setup": "",
       "teardown": "",
       "type": "doctest"
      }
     ]
    },
    "q4": {
     "name": "q4",
     "points": null,
     "suites": [
      {
       "cases": [
        {
         "code": ">>> np.alltrue(sales_by_month == np.array([24, 29, 24]))\nTrue",
         "hidden": false,
         "locked": false
        },
        {
         "code": ">>> np.alltrue(sales_by_product == np.array([17, 17, 14, 10, 19]))\nTrue",
         "hidden": false,
         "locked": false
        }
       ],
       "scored": true,
       "setup": "",
       "teardown": "",
       "type": "doctest"
      }
     ]
    },
    "q5": {
     "name": "q5",
     "points": null,
     "suites": [
      {
       "cases": [
        {
         "code": ">>> number_of_employees == salaries.shape[0]\nTrue",
         "hidden": false,
         "locked": false
        },
        {
         "code": ">>> np.isclose(average_base_pay, 66325.44884050643)\nTrue",
         "hidden": false,
         "locked": false
        },
        {
         "code": ">>> np.isclose(max_overtime_pay, 245131.88)\nTrue",
         "hidden": false,
         "locked": false
        },
        {
         "code": ">>> employee_with_max_total_pay == 'NATHANIEL FORD'\nTrue",
         "hidden": false,
         "locked": false
        }
       ],
       "scored": true,
       "setup": "",
       "teardown": "",
       "type": "doctest"
      }
     ]
    },
    "q6": {
     "name": "q6",
     "points": null,
     "suites": [
      {
       "cases": [
        {
         "code": ">>> number_of_job_title == 2159\nTrue",
         "hidden": false,
         "locked": false
        },
        {
         "code": ">>> number_of_transit_operators == 7036\nTrue",
         "hidden": false,
         "locked": false
        },
        {
         "code": ">>> job_title_of_joanne == 'CHIEF OF DEPARTMENT, (FIRE DEPARTMENT)'\nTrue",
         "hidden": false,
         "locked": false
        },
        {
         "code": ">>> len(top_3_job_titles) == 3\nTrue",
         "hidden": false,
         "locked": false
        },
        {
         "code": ">>> top_3_job_titles.index[0] == 'Transit Operator'\nTrue",
         "hidden": false,
         "locked": false
        },
        {
         "code": ">>> top_3_job_titles.index[1] == 'Special Nurse'\nTrue",
         "hidden": false,
         "locked": false
        },
        {
         "code": ">>> top_3_job_titles.index[2] == 'Registered Nurse'\nTrue",
         "hidden": false,
         "locked": false
        }
       ],
       "scored": true,
       "setup": "",
       "teardown": "",
       "type": "doctest"
      }
     ]
    },
    "q7": {
     "name": "q7",
     "points": null,
     "suites": [
      {
       "cases": [
        {
         "code": ">>> np.isclose(total_pay_2011, 2594195051.88)\nTrue",
         "hidden": false,
         "locked": false
        },
        {
         "code": ">>> np.isclose(average_pay_transit_operator_2013, 67574.00868409587)\nTrue",
         "hidden": false,
         "locked": false
        },
        {
         "code": ">>> len(total_pay_by_year) == 4\nTrue",
         "hidden": false,
         "locked": false
        },
        {
         "code": ">>> total_pay_by_year.index[0] == 2011\nTrue",
         "hidden": false,
         "locked": false
        },
        {
         "code": ">>> total_pay_by_year.index[-1] == 2014\nTrue",
         "hidden": false,
         "locked": false
        },
        {
         "code": ">>> np.isclose(total_pay_by_year[2011], 2594195000.0)\nTrue",
         "hidden": false,
         "locked": false
        },
        {
         "code": ">>> np.isclose(total_pay_by_year[2014], 2876911000.0)\nTrue",
         "hidden": false,
         "locked": false
        }
       ],
       "scored": true,
       "setup": "",
       "teardown": "",
       "type": "doctest"
      }
     ]
    }
   }
  },
  "varInspector": {
   "cols": {
    "lenName": 16,
    "lenType": 16,
    "lenVar": 40
   },
   "kernels_config": {
    "python": {
     "delete_cmd_postfix": "",
     "delete_cmd_prefix": "del ",
     "library": "var_list.py",
     "varRefreshCmd": "print(var_dic_list())"
    },
    "r": {
     "delete_cmd_postfix": ") ",
     "delete_cmd_prefix": "rm(",
     "library": "var_list.r",
     "varRefreshCmd": "cat(var_dic_list()) "
    }
   },
   "types_to_exclude": [
    "module",
    "function",
    "builtin_function_or_method",
    "instance",
    "_Feature"
   ],
   "window_display": false
  }
 },
 "nbformat": 4,
 "nbformat_minor": 4
}
