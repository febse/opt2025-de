{
 "cells": [
  {
   "cell_type": "markdown",
   "metadata": {},
   "source": [
    "# Numpy\n"
   ]
  },
  {
   "cell_type": "code",
   "execution_count": null,
   "metadata": {},
   "outputs": [],
   "source": [
    "%pip install -q otter-grader\n",
    "\n",
    "import numpy as np\n",
    "import otter\n",
    "\n",
    "grader = otter.Notebook()\n",
    "\n",
    "%matplotlib inline"
   ]
  },
  {
   "cell_type": "markdown",
   "metadata": {
    "deletable": false,
    "editable": false
   },
   "source": [
    "**Aufgabe 1:** Erstellen Sie ein Numpy-Array mit den Werten 1, 3, 8 und speichern Sie es in der Variable `a`. Definieren Sie ein zweites Numpy-Array, indem Sie 2 zu jedem Element von `a` addieren und speichern Sie es in der Variable `b`."
   ]
  },
  {
   "cell_type": "code",
   "execution_count": null,
   "metadata": {
    "tags": []
   },
   "outputs": [],
   "source": [
    "a = np.array([1, ..., ...])\n",
    "b = a + ..."
   ]
  },
  {
   "cell_type": "code",
   "execution_count": null,
   "metadata": {
    "deletable": false,
    "editable": false
   },
   "outputs": [],
   "source": [
    "grader.check(\"q1\")"
   ]
  },
  {
   "cell_type": "markdown",
   "metadata": {
    "deletable": false,
    "editable": false
   },
   "source": [
    "**Aufgabe 2:** Im Folgenden werden zwei Numpy `x1` und `x2` definiert. Speichen Sie das Quotient von `x1` und `x2` in der Variable `x1_div_x2` ab.\n",
    "\n",
    "```python"
   ]
  },
  {
   "cell_type": "code",
   "execution_count": null,
   "metadata": {
    "tags": []
   },
   "outputs": [],
   "source": [
    "x1 = np.array([1, 3, 8, 6])\n",
    "x2 = np.array([2, 5, 3, 7])\n",
    "x1_div_x2 = ... / ..."
   ]
  },
  {
   "cell_type": "code",
   "execution_count": null,
   "metadata": {
    "deletable": false,
    "editable": false
   },
   "outputs": [],
   "source": [
    "grader.check(\"q2\")"
   ]
  },
  {
   "cell_type": "markdown",
   "metadata": {
    "deletable": false,
    "editable": false
   },
   "source": [
    "**Aufgabe 3:** Erstellen Sie ein Numpy-Array mit den Werten \"a\", \"b\", \"c\" und \"d\" und speichern Sie es in der Variable `my_array`. Speichern Sie das dritte Element von `my_array` in der Variable `third_element`.\n",
    "\n",
    "**Hinweis:** Die Indizierung in Python beginnt bei 0. Das erste Element eines Arrays hat also den Index 0.\n",
    "\n",
    "```python\n",
    "import numpy as np\n",
    "arr = np.array([32, 3, 8])\n",
    "print(arr[0]) # Gibt 32 aus\n",
    "\n",
    "print(arr[1]) # Gibt 3 aus\n",
    "```"
   ]
  },
  {
   "cell_type": "code",
   "execution_count": null,
   "metadata": {
    "tags": []
   },
   "outputs": [],
   "source": [
    "third_element = ...[...]\n",
    "third_element"
   ]
  },
  {
   "cell_type": "code",
   "execution_count": null,
   "metadata": {
    "deletable": false,
    "editable": false
   },
   "outputs": [],
   "source": [
    "grader.check(\"q3\")"
   ]
  },
  {
   "cell_type": "markdown",
   "metadata": {
    "deletable": false,
    "editable": false
   },
   "source": [
    "**Aufgabe 4:** Die Variable `sent` enthält eine einige Sätze aus dem Buch \"Alice in Wonderland\". Estellen Sie ein Numpy-Array, das die einzelnen Zeichen des Strings `sent` enthält und speichern Sie es in der Variable `sent_arr`.\n",
    "\n",
    "In Python können Sie über die einzelnen Zeichen eines Strings iterieren, indem Sie den String in einer Schleife durchlaufen. Der folgende Code gibt die einzelnen Zeichen des Strings `sent` aus:\n",
    "\n",
    "```python\n",
    "for char in sent:\n",
    "    print(char)\n",
    "```\n",
    "\n",
    "**Hinweis:** Sie können die Funktion `np.array()` verwenden, um ein Numpy-Array zu erstellen.\n",
    "    \n",
    "```python\n",
    "sent = \"A place to be\"\n",
    "sent_arr = np.array([char for char in sent])\n",
    "```\n",
    "\n",
    "Wählen Sie jedes dritte Element des Arrays `sent_arr` und speichern Sie es in der Variable `every_third_char`. Wie viele verschiedene Zeichen enthält `every_third_char`?\n",
    "Speichern Sie das Ergebnis in der Variable `num_unique_chars`.\n",
    "\n",
    "**Hinweis**: Sie können die Funktion `np.unique()` verwenden, um die eindeutigen Elemente eines Numpy-Arrays zu finden.\n",
    "\n",
    "```python\n",
    "unique_elements = np.unique(np.array([1, 1, 2]))\n",
    "print(unique_elements) # Gibt [1, 2] aus\n",
    "```\n"
   ]
  },
  {
   "cell_type": "code",
   "execution_count": null,
   "metadata": {
    "tags": []
   },
   "outputs": [],
   "source": [
    "sent = \"\"\"\n",
    "There was nothing so very remarkable in that; nor did Alice think it so very much \n",
    "out of the way to hear the Rabbit say to itself, “Oh dear! Oh dear! I shall be late!” \n",
    "(when she thought it over afterwards, it occurred to her that she ought to have wondered at this, but at the time it all seemed quite natural); but when the Rabbit actually took a watch out of its waistcoat-pocket, and looked at it, and then hurried on, Alice started to her feet, for it flashed across her mind that she had never before seen a rabbit with either a waistcoat-pocket, or a watch to take out of it, and burning with curiosity, she ran across the field after it,\n",
    "and fortunately was just in time to see it pop down a large rabbit-hole under the hedge.\n",
    "\"\"\"\n",
    "sent_arr = np.array(...)\n",
    "every_third_char = sent_arr[...]\n",
    "num_unique_chars = every_third_char..."
   ]
  },
  {
   "cell_type": "code",
   "execution_count": null,
   "metadata": {
    "deletable": false,
    "editable": false
   },
   "outputs": [],
   "source": [
    "grader.check(\"q4\")"
   ]
  },
  {
   "cell_type": "markdown",
   "metadata": {
    "deletable": false,
    "editable": false
   },
   "source": [
    "**Aufgabe 5:** Erstellen Sie ein Numpy-Array, das 500 mal die Zahl 1 enthält und speichern Sie es in der Variable `my_ones`. Erstellen Sie ein zweites Numpy-Array, das 200 mal die Zahl 0 enthält und speichern Sie es in der Variable `my_zeroes`. Erstellen Sie ein drittes Numpy-Array, das 300 mal die Zahl 5 enthält und speichern Sie es in der Variable `my_fives`. Fügen Sie die drei Arrays zusammen und speichern Sie das Ergebnis in der Variable `my_big_array`.\n",
    "\n",
    "**Hinweis:** Sie können die Funktion `np.concatenate()` verwenden, um Numpy-Arrays zusammenzuführen.\n",
    "\n",
    "```python\n",
    "arr1 = np.array([1, 2, 3])\n",
    "arr2 = np.array([4, 5, 6])\n",
    "big_array = np.concatenate([arr1, arr2])\n",
    "print(big_array) # Gibt [1, 2, 3, 4, 5, 6] aus\n",
    "```\n",
    "\n",
    "Berechnen Sie den Mittelwert des Arrays `my_big_array` und speichern Sie das Ergebnis in der Variable `my_big_array_mean`.\n",
    "\n",
    "**Hinweis:** Sie können die Funktion `np.mean()` verwenden, um den Mittelwert eines Numpy-Arrays zu berechnen.\n",
    "\n",
    "```python\n",
    "arr = np.array([1, 2, 3])\n",
    "mean = np.mean(arr)\n",
    "print(mean) # Gibt 2.0 aus\n",
    "```\n"
   ]
  },
  {
   "cell_type": "code",
   "execution_count": null,
   "metadata": {
    "tags": []
   },
   "outputs": [],
   "source": [
    "my_ones = np.ones(...)\n",
    "my_zeroes = np.zeros(...)\n",
    "my_fives = np.full(..., ...)\n",
    "my_big_array = ...\n",
    "my_big_array_mean = ..."
   ]
  },
  {
   "cell_type": "code",
   "execution_count": null,
   "metadata": {
    "deletable": false,
    "editable": false
   },
   "outputs": [],
   "source": [
    "grader.check(\"q5\")"
   ]
  },
  {
   "cell_type": "markdown",
   "metadata": {},
   "source": [
    "## Funktionen\n",
    "\n",
    "NumPy ist eine Bibliothek für numerische Berechnungen in Python. Sie bietet eine Vielzahl von Funktionen und Methoden, die das Arbeiten mit Arrays und Matrizen erleichtern. Hier werden wir einige der grundlegenden Funktionen und Methoden von NumPy kennenlernen.\n",
    "\n",
    "- np.array(): Erstellt ein Numpy-Array aus einer Liste oder einem Tupel (has haben wir bereits gesehen)\n",
    "- np.mean(): Berechnet den Mittelwert eines Numpy-Arrays\n",
    "- np.unique(): Gibt die eindeutigen Elemente eines Numpy-Arrays zurück\n",
    "- np.concatenate(): Fügt Numpy-Arrays zusammen\n",
    "- np.arange(): Erstellt ein Numpy-Array mit einer Sequenz von Zahlen\n",
    "- np.zeros(): Erstellt ein Numpy-Array mit Nullen\n",
    "- np.ones(): Erstellt ein Numpy-Array mit Einsen\n",
    "- np.log(): Berechnet den natürlichen Logarithmus eines Numpy-Arrays\n",
    "- np.exp(): Berechnet die Exponentialfunktion eines Numpy-Arrays\n",
    "- np.sum(): Berechnet die Summe eines Numpy-Arrays\n",
    "- np.prod(): Berechnet das Produkt eines Numpy-Arrays\n",
    "- np.min(): Gibt das Minimum eines Numpy-Arrays zurück\n",
    "- np.max(): Gibt das Maximum eines Numpy-Arrays zurück\n",
    "- np.argmax(): Gibt den Index des Maximums eines Numpy-Arrays zurück\n",
    "- np.argmin(): Gibt den Index des Minimums eines Numpy-Arrays zurück\n",
    "- np.sort(): Sortiert ein Numpy-Array\n",
    "- np.quantile(): Berechnet das Quantil eines Numpy-Arrays\n",
    "- np.median(): Berechnet den Median eines Numpy-Arrays\n",
    "- np.std(): Berechnet die Standardabweichung eines Numpy-Arrays\n"
   ]
  },
  {
   "cell_type": "markdown",
   "metadata": {
    "deletable": false,
    "editable": false
   },
   "source": [
    "**Aufgabe 6:** In dieser Aufgaben möchten wir die Anzahl von infektiösen Krankheitsfällen in einem Monat in einer Stadt. Wie viele Personen binnen eines Monats infiziert werden ist ungewiss und kann nicht genau vorhergesagt werden. Wir haben jedoch unsere Erfahrung aus der Vergangenheit in der Form einer Wahrhscheinlichkeitsverteilung zusammengefasst. \n",
    "\n",
    "Die mögliche Anzahl von Krankheitsfällen ist in der Variable `cases` gespeichert und läuft von 0 bis 300. Die Log-Wahrscheinlichkeiten für die Anzahl von Krankheitsfällen sind in der Variable `log_probs` gespeichert.\n",
    "\n",
    "- Berechnen Sie die erwartete Anzahl von Krankheitsfällen und speichern Sie das Ergebnis in der Variable `expected_cases`.\n",
    "- Finden Sie die Anzahl von Krankheitsfällen, für die die Wahrscheinlichkeit am größten ist und speichern Sie das Ergebnis in der Variable `most_likely_cases`.\n",
    "- Berechnen Sie die Wahrscheinlichkeit, daß die Anzahl von Krankheitsfällen kleiner oder gleich 100 ist und speichern Sie das Ergebnis in der Variable `prob_less_than_100`.\n",
    "\n",
    "Der Erwartungswert einer Zufallsvariablen ist definiert als die Summe der Produkte der Werte der Zufallsvariablen und ihrer Wahrscheinlichkeiten. Für eine diskrete Zufallsvariable X mit den Werten $x_1, x_2, \\ldots , x_k$ und den Wahrscheinlichkeiten $p1, p2, \\ldots, p_k$ ist der Erwartungswert E(X) gegeben durch:\n",
    "\n",
    "$$\n",
    "E(X) = x_1 p_1 + x_2  p_2 + \\ldots + x_k p_k\n",
    "$$"
   ]
  },
  {
   "cell_type": "code",
   "execution_count": null,
   "metadata": {
    "tags": []
   },
   "outputs": [],
   "source": [
    "from scipy.stats import poisson\n",
    "\n",
    "cases = np.arange(0, 301)\n",
    "log_probs = poisson.logpmf(cases, 100)\n",
    "probs = ...\n",
    "expected_cases = np.sum(...)\n",
    "most_likely_cases = cases[...]\n",
    "prob_less_than_100 = np.sum(...)"
   ]
  },
  {
   "cell_type": "code",
   "execution_count": null,
   "metadata": {
    "deletable": false,
    "editable": false
   },
   "outputs": [],
   "source": [
    "grader.check(\"q6\")"
   ]
  }
 ],
 "metadata": {
  "kernelspec": {
   "display_name": "Python 3",
   "language": "python",
   "name": "python3"
  },
  "language_info": {
   "codemirror_mode": {
    "name": "ipython",
    "version": 3
   },
   "file_extension": ".py",
   "mimetype": "text/x-python",
   "name": "python",
   "nbconvert_exporter": "python",
   "pygments_lexer": "ipython3",
   "version": "3.11.7"
  },
  "otter": {
   "OK_FORMAT": true,
   "tests": {
    "q1": {
     "name": "q1",
     "points": null,
     "suites": [
      {
       "cases": [
        {
         "code": ">>> np.alltrue(a == np.array([1, 3, 8]))\nTrue",
         "hidden": false,
         "locked": false
        },
        {
         "code": ">>> np.alltrue(b == np.array([3, 5, 10]))\nTrue",
         "hidden": false,
         "locked": false
        }
       ],
       "scored": true,
       "setup": "",
       "teardown": "",
       "type": "doctest"
      }
     ]
    },
    "q2": {
     "name": "q2",
     "points": null,
     "suites": [
      {
       "cases": [
        {
         "code": ">>> np.alltrue(np.isclose(x1_div_x2, np.array([0.5, 0.6, 2.66666667, 0.85714286])))\nTrue",
         "hidden": false,
         "locked": false
        }
       ],
       "scored": true,
       "setup": "",
       "teardown": "",
       "type": "doctest"
      }
     ]
    },
    "q3": {
     "name": "q3",
     "points": null,
     "suites": [
      {
       "cases": [
        {
         "code": ">>> third_element == 'c'\nTrue",
         "hidden": false,
         "locked": false
        }
       ],
       "scored": true,
       "setup": "",
       "teardown": "",
       "type": "doctest"
      }
     ]
    },
    "q4": {
     "name": "q4",
     "points": null,
     "suites": [
      {
       "cases": [
        {
         "code": ">>> len(sent_arr) == 737\nTrue",
         "hidden": false,
         "locked": false
        },
        {
         "code": ">>> sent_arr[:10] == np.array(['T', 'h', 'e', 'r', 'e', ' ', 'w', 'a', 's', ' '])\narray([False, False, False, False, False, False, False, False, False,\n       False])",
         "hidden": false,
         "locked": false
        },
        {
         "code": ">>> num_unique_chars == 33\nTrue",
         "hidden": false,
         "locked": false
        }
       ],
       "scored": true,
       "setup": "",
       "teardown": "",
       "type": "doctest"
      }
     ]
    },
    "q5": {
     "name": "q5",
     "points": null,
     "suites": [
      {
       "cases": [
        {
         "code": ">>> len(my_ones) == 500\nTrue",
         "hidden": false,
         "locked": false
        },
        {
         "code": ">>> np.alltrue(my_ones == np.ones(500))\nTrue",
         "hidden": false,
         "locked": false
        },
        {
         "code": ">>> len(my_zeroes) == 200\nTrue",
         "hidden": false,
         "locked": false
        },
        {
         "code": ">>> np.alltrue(my_zeroes == np.zeros(200))\nTrue",
         "hidden": false,
         "locked": false
        },
        {
         "code": ">>> len(my_fives) == 100\nTrue",
         "hidden": false,
         "locked": false
        },
        {
         "code": ">>> np.alltrue(my_fives == np.full(100, 5))\nTrue",
         "hidden": false,
         "locked": false
        },
        {
         "code": ">>> len(my_big_array) == 800\nTrue",
         "hidden": false,
         "locked": false
        },
        {
         "code": ">>> np.alltrue(my_big_array == np.concatenate([np.ones(500), np.zeros(200), np.full(100, 5)]))\nTrue",
         "hidden": false,
         "locked": false
        },
        {
         "code": ">>> np.isclose(my_big_array_mean, 1.25)\nTrue",
         "hidden": false,
         "locked": false
        }
       ],
       "scored": true,
       "setup": "",
       "teardown": "",
       "type": "doctest"
      }
     ]
    },
    "q6": {
     "name": "q6",
     "points": null,
     "suites": [
      {
       "cases": [
        {
         "code": ">>> len(probs) == 301\nTrue",
         "hidden": false,
         "locked": false
        },
        {
         "code": ">>> np.isclose(np.sum(probs), 1)\nTrue",
         "hidden": false,
         "locked": false
        },
        {
         "code": ">>> np.isclose(expected_cases, 100)\nTrue",
         "hidden": false,
         "locked": false
        },
        {
         "code": ">>> np.isclose(most_likely_cases, 99)\nTrue",
         "hidden": false,
         "locked": false
        },
        {
         "code": ">>> np.isclose(prob_less_than_100, 0.5265621985300244)\nTrue",
         "hidden": false,
         "locked": false
        }
       ],
       "scored": true,
       "setup": "",
       "teardown": "",
       "type": "doctest"
      }
     ]
    }
   }
  },
  "varInspector": {
   "cols": {
    "lenName": 16,
    "lenType": 16,
    "lenVar": 40
   },
   "kernels_config": {
    "python": {
     "delete_cmd_postfix": "",
     "delete_cmd_prefix": "del ",
     "library": "var_list.py",
     "varRefreshCmd": "print(var_dic_list())"
    },
    "r": {
     "delete_cmd_postfix": ") ",
     "delete_cmd_prefix": "rm(",
     "library": "var_list.r",
     "varRefreshCmd": "cat(var_dic_list()) "
    }
   },
   "types_to_exclude": [
    "module",
    "function",
    "builtin_function_or_method",
    "instance",
    "_Feature"
   ],
   "window_display": false
  }
 },
 "nbformat": 4,
 "nbformat_minor": 4
}
