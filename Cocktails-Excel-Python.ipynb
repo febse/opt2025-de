{
 "cells": [
  {
   "cell_type": "markdown",
   "id": "68d41136",
   "metadata": {},
   "source": [
    "# Cocktails mit Excel und Python {#sec-cocktails-duality}\n",
    "\n",
    "Open in Colab: [![Open in Colab](https://colab.research.google.com/assets/colab-badge.svg)](https://colab.research.google.com/github/febse/opt2025-de/blob/main/Cocktails-Excel-Python.ipynb)\n",
    "\n",
    "- [Cocktails (shared)](https://febunisofia-my.sharepoint.com/:x:/g/personal/amarov_feb_uni-sofia_bg/EX4kuOiIItRKv7b50LypddwBT3Nj6qwpZNkvfCgh3tXPdQ?e=yi0OX7&nav=MTVfezAwMDAwMDAwLTAwMDEtMDAwMC0wMDAwLTAwMDAwMDAwMDAwMH0)\n",
    "- [Cocktails (download)](https://github.com/febse/data/raw/refs/heads/main/opt/Cocktails_2d.xlsx)\n",
    "\n",
    ":::{.callout-important}\n",
    "## Excel\n",
    "\n",
    "In der Übung haben wir den Verbrauch von Ressourcen mit der Funktionen `MMULT` und `TRANSPOSE` berechnet. Das hat an einigen\n",
    "Rechnern nicht geklappt. Ein möchlicher Grund darür ist, dass die Excel-Versionen unterschiedlich waren.\n",
    "\n",
    "Hier finden Sie eine [Anleitung](https://support.microsoft.com/en-us/office/transpose-function-ed039415-ed8a-4a81-93e9-4b6dfac76027) zur Benutzung von `TRANSPOSE`.\n",
    "\n",
    "Sie können `MMULT` mit `TRANSPOSE` auch in der online Version von Excel benutzen: [Cocktails (shared)](https://febunisofia-my.sharepoint.com/:x:/g/personal/amarov_feb_uni-sofia_bg/EX4kuOiIItRKv7b50LypddwBT3Nj6qwpZNkvfCgh3tXPdQ?e=nJ8lA9&nav=MTVfezk5RUQyQzY2LTRGMDQtNEEyMC05MkVELUIxRjc2NDA2RENEMH0).\n",
    "\n",
    "Da jeder auf diese Onlinedatei zugreifen kann, benutzen Sie bitte den Worksheet mit Ihrem Namen.\n",
    "\n",
    ":::\n"
   ]
  },
  {
   "cell_type": "code",
   "execution_count": 6,
   "id": "1fa06850",
   "metadata": {},
   "outputs": [
    {
     "name": "stdout",
     "output_type": "stream",
     "text": [
      "Requirement already satisfied: gurobipy in /home/amarov/miniconda3/envs/opt2025-de/lib/python3.11/site-packages (12.0.1)\n",
      "Requirement already satisfied: plotly in /home/amarov/miniconda3/envs/opt2025-de/lib/python3.11/site-packages (5.24.1)\n",
      "Requirement already satisfied: sympy in /home/amarov/miniconda3/envs/opt2025-de/lib/python3.11/site-packages (1.13.3)\n",
      "Requirement already satisfied: tenacity>=6.2.0 in /home/amarov/miniconda3/envs/opt2025-de/lib/python3.11/site-packages (from plotly) (9.0.0)\n",
      "Requirement already satisfied: packaging in /home/amarov/miniconda3/envs/opt2025-de/lib/python3.11/site-packages (from plotly) (24.2)\n",
      "Requirement already satisfied: mpmath<1.4,>=1.1.0 in /home/amarov/miniconda3/envs/opt2025-de/lib/python3.11/site-packages (from sympy) (1.3.0)\n",
      "Note: you may need to restart the kernel to use updated packages.\n"
     ]
    }
   ],
   "source": [
    "%pip install gurobipy plotly sympy\n",
    "\n",
    "import numpy as np\n",
    "import plotly.graph_objects as go\n",
    "import pandas as pd\n",
    "import gurobipy as gp\n",
    "from gurobipy import GRB"
   ]
  },
  {
   "cell_type": "markdown",
   "id": "188c225d",
   "metadata": {},
   "source": [
    "## Barmanagement\n",
    "\n",
    "Stellen wir uns vor, dass wir eine kleine Bar managen. Wir sind so spezialisiert, dass wir nur Bloody Mary in zwei Varianten anbieten:\n",
    "\n",
    "- _Bloody Mary Light (BML)_, der aus 20 ml Vodka und 80 ml Tomatensaft besteht\n",
    "- _Bloody Mary Stark (BMS)_, der aus 40 ml Vodka und 60 ml Tomatensaft besteht\n",
    "\n",
    "In einer Stunde haben 2000 ml Vodka und 4000 ml Tomatensaft zur Verfügung. Wie viele von beiden Cocktails sollten wir zubereiten, um den Gewinn zu maximieren? Ein Glass Bloody Mary Light (100 ml) bring uns 3 Euro Gewinn ein, ein Glass (100 ml) Bloody Mary Stark bringt uns 4 Euro Gewinn ein.\n",
    "\n",
    "- Schreiben Sie das Modell zuerst auf Papier auf\n",
    "- Lösen Sie das Modell mit Excel Solver\n",
    "- Lösen Sie das Modell mit Gurobi in Python (einmal mit `.addVar` und einmal mit `.addMVar`)\n",
    "- Formulieren Sie die duale Optimierungsaufgabe und lösen Sie diese mit Excel Solver und Gurobi (auch mit `.addVar` und `.addMVar`)\n",
    "\n",
    ":::{.callout-note}\n",
    "## Das Modell (konkret)\n",
    "\n",
    "Es seien $x_1$ die Anzahl der Cocktails BML und $x_2$ die Anzahl der Cocktails BMS. Dann ist das Modell:\n",
    "\n",
    "$$\n",
    "\\begin{align*}\n",
    "\\text{max} & \\quad 3x_1 + 4x_2  & \\text{Gewinn} \\\\\n",
    "\\text{s.t.} & \\quad 20x_1 + 40x_2 \\leq 2000 & \\text{Vodka}\\\\\n",
    "& \\quad 80x_1 + 60x_2 \\leq 4000 & \\text{Tomatensaft} \\\\\n",
    "& \\quad x_1, x_2 \\geq 0\n",
    "\\end{align*}\n",
    "$$\n",
    "\n",
    ":::\n",
    "\n",
    ":::{.callout-note}\n",
    "## Das Modell (allgemein)\n",
    "\n",
    "Das Modell hat zwei Zielvariablen: $x_1$ und $x_2$.\n",
    "\n",
    "Die Paramter des Modells sind:\n",
    "\n",
    "1. Die Anzahl der Variablen ist $n = 2$\n",
    "1. Die Koeffizienten der Variablen in der Zielfunktion: $c_1 = 3$, $c_2 = 4$\n",
    "2. Die rechten Seiten der Restriktionen: $b_1 = 2000$, $b_2 = 4000$\n",
    "3. Die Koeffizienten der Variablen in den Restriktionen: $a_{11} = 20$, $a_{12} = 40$, $a_{21} = 80$, $a_{22} = 60$\n",
    "\n",
    "Etwas allgemeiner, sieht das Modell so aus:\n",
    "\n",
    "$$\n",
    "\\begin{align*}\n",
    "\\text{max} & \\quad c_1 x_1 + c_2 x_2 \\\\\n",
    "\\text{s.t.} & \\quad a_{11} x_1 + a_{12} x_2 \\leq b_1 \\\\\n",
    "& \\quad a_{21} x_1 + a_{22} x_2 \\leq b_2 \\\\\n",
    "& \\quad x_1, x_2 \\geq 0\n",
    "\\end{align*}\n",
    "$$\n",
    "\n",
    "Oder noch kompakter mit Summation:\n",
    "\n",
    "$$\n",
    "\\begin{align*}\n",
    "\\text{max} & \\quad \\sum_{j=1}^n c_j x_j \\\\\n",
    "\\text{s.t.} & \\quad \\sum_{j=1}^n a_{ij} x_j \\leq b_i, \\quad i = 1, 2 \\\\\n",
    "& \\quad x_j \\geq 0, \\quad j = 1, 2\n",
    "\\end{align*}\n",
    "$$\n",
    "\n",
    ":::\n",
    "\n",
    ":::{.callout-note}\n",
    "## Excel\n",
    "\n",
    "In der Excelumsetzung haben wir die Variablen $x_1$ und $x_2$ in den Zellen `B2` und `C2` definiert. \n",
    "\n",
    "Die Koeffizienten der Zielfunktion sind in den Zellen `B3` und `C3` gespeichert. \n",
    "\n",
    "Der Gewinn in Abhängigkeit von den Variablen ist in der Zelle `D3` gespeichert und ist berechnet \n",
    "mit der Formel `=SUMPRODUCT($B$2:$C$2, B3:C3)`. Sie können auch die Formel `=$B$2*$B$3+C2*C3` benutzen, allerdings ist `SUMPRODUCT` kompakter.\n",
    "\n",
    "Die maximal verfügbaren Mengen $b_1 = 2000, b_2 = 4000$ sind in den Zellen `E7` und `E8` gespeichert.\n",
    "\n",
    "Die Verbrauchskoeffizienten $a_{ij}$ sind in den Zellen `B7:C8` gespeichert.\n",
    "\n",
    "In den Zellen `D7` und `D8` haben wir den Verbrauch von Vodka und Tomatensaft in Abhängigkeit von den Variablen $x_1$ und $x_2$ gespeichert. In der ersten Variante berechnen wir diese Werte mit der Formel \n",
    "`=SUMPRODUCT($B$2:$C$2, B7:C8)`.\n",
    "\n",
    "In der zweiten Variante möchten wir den Verbrauch beider Ressourcen mit *einer* Formal berechnen. Das machen wir mit \n",
    "`=MMULT(B14:C15,TRANSPOSE(B2:C2))`. Die Transponierung ist notwendig, weil die Matrixmultiplikation nur funktioniert, wenn die Dimensionen der Matrizen übereinstimmen.\n",
    "\n",
    ":::\n"
   ]
  },
  {
   "cell_type": "markdown",
   "id": "71f5f58c",
   "metadata": {},
   "source": [
    "Wir möchten nun dieselben Berechnung mit Python und insbesondere mit `numpy` durchführen. Genauso wie wir die Parameter der Aufgabe in Excel Zellen gespeichert haben, werden wir sie in Python in Variablen speichern. In Python speichern wir die Paramter in Arrays (ähnlich zu einem Range in Excel).\n",
    "\n",
    "Was wir im Folgenden machen ist:\n",
    "\n",
    "- Wir speichern die Koeffizienten der Zielfunktion in einem Array `gewinn_pro_cocktail`: äquivalent zu den Zellen `B3` und `C3` in Excel\n",
    "- Wir speichern die rechten Seiten der Restriktionen in einem Array `max_ressourcen`: äquivalent zu den Zellen `E7` und `E8` in Excel\n",
    "- Wir speichern die Verbrauchskoeffizienten in einer Matrix (Tabelle mit Zahlen) `verbrauchs_koeffizienten`: äquivalent zu den Zellen `B7:C8` in Excel"
   ]
  },
  {
   "cell_type": "code",
   "execution_count": 7,
   "id": "81511d37",
   "metadata": {},
   "outputs": [
    {
     "name": "stdout",
     "output_type": "stream",
     "text": [
      "Ressourcen: [2000 4000]\n",
      "Gewinn pro Cocktail: [3 4]\n"
     ]
    }
   ],
   "source": [
    "max_ressourcen = np.array([2000, 4000]) # ml Vodka, ml Tomatensaft\n",
    "\n",
    "print(\"Ressourcen:\", max_ressourcen)\n",
    "\n",
    "gewinn_pro_cocktail = np.array([3, 4])\n",
    "\n",
    "print(\"Gewinn pro Cocktail:\", gewinn_pro_cocktail)\n",
    "\n",
    "verbrauchs_koeffizienten = np.array([\n",
    "    [20, 40], # Die Koeffizienten für Vodka (B7:C7)\n",
    "    [80, 60] # Die Koeffizienten für Tomatensaft (B8:C8)\n",
    "])"
   ]
  },
  {
   "cell_type": "markdown",
   "id": "01d1df8f",
   "metadata": {},
   "source": [
    "Wenn wir schon die Koeffizienten eingegeben haben, können wir dieselben Berechnungen wie in Excel durchführen. In Excel haben wir ausser der Eingabe der Parameter nur drei Zellen, die von den anderen bestimmt werden:\n",
    "\n",
    "- Der Gewinn (D3)\n",
    "- Der Verbrauch von Vodka und Tomatensaft (D7 und D8)\n",
    "\n",
    "Wir werden ein Array `x` erstellen (äquivalent zu den Zellen `B2` und `C2` in Excel), das die Anzahl der Cocktails BML und BMS speichert. Zuerst setzen wir die zwei Variablen auf beliebige Werte, z.B. 2 und 3, was ein Produktionsplan mit 2 Cocktails BML und 3 Cocktails BMS bedeutet.\n",
    "\n"
   ]
  },
  {
   "cell_type": "code",
   "execution_count": 8,
   "id": "0410c3f8",
   "metadata": {},
   "outputs": [
    {
     "data": {
      "text/plain": [
       "np.int64(18)"
      ]
     },
     "execution_count": 8,
     "metadata": {},
     "output_type": "execute_result"
    }
   ],
   "source": [
    "# Produktionsplan x1, x2\n",
    "\n",
    "x = np.array([2, 3])\n",
    "\n",
    "# Gewinn bei Produktionsplan x\n",
    "\n",
    "gewinn_pro_cocktail @ x"
   ]
  },
  {
   "cell_type": "markdown",
   "id": "226046ae",
   "metadata": {},
   "source": [
    ":::{.callout-important}\n",
    "## Vergleich mit Excel\n",
    "\n",
    "Setzen Sie die Werte in den Zellen `B2` und `C2` auf 2 und 3 und vergleichen Sie den Gewinn in der Zelle `D3` mit dem Gewinn, den Sie oben in Python berechnet haben. Sie müssen den gleichen Gewinn bekommen. \n",
    "\n",
    ":::"
   ]
  },
  {
   "cell_type": "markdown",
   "id": "0b3e8322",
   "metadata": {},
   "source": [
    "Was der `@` Operator in Python macht, ist Matrixmultiplikation:\n",
    "\n",
    "$$\n",
    "\\begin{pmatrix}\n",
    "3 & 4 \n",
    "\\end{pmatrix}\n",
    "\\begin{pmatrix}\n",
    "2 \\\\\n",
    "3\n",
    "\\end{pmatrix}\n",
    "=\n",
    "3 \\cdot 2 + 4 \\cdot 3 = 6 + 12 = 18\n",
    "$$\n"
   ]
  },
  {
   "cell_type": "markdown",
   "id": "cc24ee03",
   "metadata": {},
   "source": [
    "Jetzt möchten wir sehen, wie viel Vodka und Tomatensaft wir verbrauchen, wenn wir 2 Cocktails BML und 3 Cocktails BMS produzieren. "
   ]
  },
  {
   "cell_type": "code",
   "execution_count": 9,
   "id": "d84dd250",
   "metadata": {},
   "outputs": [
    {
     "data": {
      "text/plain": [
       "np.int64(160)"
      ]
     },
     "execution_count": 9,
     "metadata": {},
     "output_type": "execute_result"
    }
   ],
   "source": [
    "# Verbrauch an Vodka bei Produktionsplan x (B7): die erste Zeile der Verbrauchskoeffizienten multipliziert mit x\n",
    "\n",
    "verbrauchs_koeffizienten[0] @ x"
   ]
  },
  {
   "cell_type": "markdown",
   "id": "09b5bbb4",
   "metadata": {},
   "source": [
    "Das funktioniert genau wie die Berechnung des Gewinns, der einzige Unterschied ist es, dass wir die Verbrauchskoeffizienten für Vodka nehmen (20 und 40)\n",
    "\n",
    "$$\n",
    "\\begin{pmatrix}\n",
    "20 & 40 \\\\\n",
    "\\end{pmatrix}\n",
    "\\begin{pmatrix}\n",
    "2 \\\\\n",
    "3\n",
    "\\end{pmatrix}\n",
    "=\n",
    "20 \\cdot 2 + 40 \\cdot 3 = 40 + 120 = 160\n",
    "$$\n"
   ]
  },
  {
   "cell_type": "code",
   "execution_count": 10,
   "id": "4d11055c",
   "metadata": {},
   "outputs": [
    {
     "data": {
      "text/plain": [
       "np.int64(340)"
      ]
     },
     "execution_count": 10,
     "metadata": {},
     "output_type": "execute_result"
    }
   ],
   "source": [
    "# Verbrauch an Tomatensaft bei Produktionsplan x (B8): die zweite Zeile der Verbrauchskoeffizienten multipliziert mit x\n",
    "verbrauchs_koeffizienten[1] @ x"
   ]
  },
  {
   "cell_type": "markdown",
   "id": "cf4b13a2",
   "metadata": {},
   "source": [
    "\n",
    "Den Verbrauch von Tomatensaft berechnen wir mit den Verbrauchskoeffizienten für Tomatensaft (80 und 60):\n",
    "\n",
    "$$\n",
    "\\begin{pmatrix}\n",
    "80 & 60 \\\\\n",
    "\\end{pmatrix}\n",
    "\\begin{pmatrix}\n",
    "2 \\\\\n",
    "3\n",
    "\\end{pmatrix}\n",
    "=\n",
    "80 \\cdot 2 + 60 \\cdot 3 = 160 + 180 = 340\n",
    "$$\n"
   ]
  },
  {
   "cell_type": "markdown",
   "id": "ef972e0c",
   "metadata": {},
   "source": [
    "Nun m;chten wir den Verbrauch von Vodka und Tomatensaft auf einmal berechnen. Das machen wir mit der Matrixmultiplikation. Dieses ist äquivalent zu der Formel `=MMULT(B14:C15,TRANSPOSE(B2:C2))` in Excel. Hier brauchen wir jedoch `x` nicht zu transponieren."
   ]
  },
  {
   "cell_type": "code",
   "execution_count": 11,
   "id": "e0b68458",
   "metadata": {},
   "outputs": [
    {
     "data": {
      "text/plain": [
       "array([160, 340])"
      ]
     },
     "execution_count": 11,
     "metadata": {},
     "output_type": "execute_result"
    }
   ],
   "source": [
    "verbrauchs_koeffizienten @ x"
   ]
  },
  {
   "cell_type": "markdown",
   "id": "2233d568",
   "metadata": {},
   "source": [
    "Was wir berechnet haben ist:\n",
    "\n",
    "$$\n",
    "\\underset{\\text{Operationen}}{\\begin{pmatrix}\n",
    "20 & 40 \\\\\n",
    "80 & 60\n",
    "\\end{pmatrix}}\n",
    "\\underset{\\text{Daten}}{\\begin{pmatrix}\n",
    "2 \\\\\n",
    "3\n",
    "\\end{pmatrix}}\n",
    "=\n",
    "\\underset{\\text{Ergebnis}}{\\begin{pmatrix}\n",
    "20 \\cdot 2 + 40 \\cdot 3 \\\\\n",
    "80 \\cdot 2 + 60 \\cdot 3\n",
    "\\end{pmatrix}}\n",
    "=\n",
    "\\begin{pmatrix}\n",
    "160 \\\\\n",
    "340\n",
    "\\end{pmatrix}\n",
    "$$\n",
    "\n",
    "Vergleichen Sie die Ergebnisse mit den Werten in den Zellen `D7` und `D8`, sowie `D13` und `D14` in Excel. Sie sollten die gleichen Werte bekommen. \n"
   ]
  },
  {
   "cell_type": "markdown",
   "id": "44bb5a71",
   "metadata": {},
   "source": [
    "Berechnen Sie den Verbrauch von Vodka und Tomatensaft für die Produktion von \n",
    "\n",
    "- 2 Cocktails BML und 3 Cocktails BMS\n",
    "- 3 Cocktails BML und 2 Cocktails BMS\n",
    "- 4 Cocktails BML und 1 Cocktails BMS\n",
    "- 1 Cocktails BML und 4 Cocktails BMS\n",
    "\n",
    "Benutzen Sie dazu Formeln in Excel und `numpy` in Python"
   ]
  },
  {
   "cell_type": "code",
   "execution_count": 7,
   "id": "a87f76dd",
   "metadata": {},
   "outputs": [
    {
     "name": "stdout",
     "output_type": "stream",
     "text": [
      "Restricted license - for non-production use only - expires 2026-11-23\n"
     ]
    },
    {
     "name": "stdout",
     "output_type": "stream",
     "text": [
      "Set parameter LogToConsole to value 0\n"
     ]
    },
    {
     "name": "stdout",
     "output_type": "stream",
     "text": [
      "\\ Model Cocktail\n",
      "\\ LP format - for model browsing. Use MPS format to capture full model detail.\n",
      "Maximize\n",
      "  3 Light + 4 Stark\n",
      "Subject To\n",
      "Bounds\n",
      "End\n",
      "\n"
     ]
    }
   ],
   "source": [
    "# Modell erstellen\n",
    "\n",
    "m = gp.Model(\"Cocktail\")\n",
    "m.Params.LogToConsole = 0 # keine Ausgabe in der Konsole\n",
    "\n",
    "# Variablen definieren\n",
    "\n",
    "x1 = m.addVar(name=\"Light\") # Anzahl von Bloody Mary Light Cocktails\n",
    "x2 = m.addVar(name=\"Stark\") # Anzahl von Bloody Mary Stark Cocktails\n",
    "\n",
    "# Zielfunktion definieren\n",
    "\n",
    "m.setObjective(3 * x1 + 4 * x2, GRB.MAXIMIZE)\n",
    "\n",
    "# Nebenbedingungen definieren\n",
    "\n",
    "\n",
    "# m.optimize()\n",
    "\n",
    "m.write(\"cocktail.lp\") # Speichern des Modells in einer Datei\n",
    "\n",
    "with open(\"cocktail.lp\", \"r\") as f:\n",
    "    print(f.read())\n",
    "\n",
    "# Ergebnisse ausgeben\n",
    "\n",
    "# print(\"Optimaler Cocktailmix:\")\n",
    "\n",
    "# print(f\"Bloody Mary Light: {x1.X:.2f} Stück\")\n",
    "# print(f\"Bloody Mary Stark: {x2.X:.2f} Stück\")\n",
    "\n",
    "# # Die Nebenbedingungen ausgeben als pandas DataFrame\n",
    "\n",
    "# # Die Nebenbedingungen ausgeben als pandas DataFrame\n",
    "# constr_df = pd.DataFrame([\n",
    "#     (c.ConstrName, c.Pi, c.Slack, c.RHS) for c in m.getConstrs()],\n",
    "#     columns=[\"Name\", \"Schattenpreis\", \"Slack\", \"RHS\"]\n",
    "# )\n",
    "# constr_df"
   ]
  },
  {
   "cell_type": "code",
   "execution_count": 8,
   "id": "954c4b8f",
   "metadata": {},
   "outputs": [
    {
     "name": "stdout",
     "output_type": "stream",
     "text": [
      "Set parameter LogToConsole to value 0\n"
     ]
    }
   ],
   "source": [
    "# Dasselbe in kürzerer Form\n",
    "\n",
    "m1 = gp.Model(\"Cocktail 2\")\n",
    "m1.Params.LogToConsole = 0 # keine Ausgabe in der Konsole\n",
    "\n",
    "x = m1.addMVar(2, name=\"Cocktails\")\n",
    "\n",
    "# Zielfunktion definieren\n",
    "\n",
    "# Nebenbedingungen definieren\n",
    "\n",
    "\n",
    "# m1.optimize()\n",
    "\n",
    "# # Ergebnisse ausgeben\n",
    "# print(\"Optimaler Cocktailmix:\")\n",
    "# print(f\"Bloody Mary Light: {x.X[0]:.2f} Stück\")\n",
    "# print(f\"Bloody Mary Stark: {x.X[1]:.2f} Stück\")\n",
    "\n",
    "# m1.write(\"cocktail-2.lp\")\n",
    "\n",
    "# with open(\"cocktail-2.lp\") as f:\n",
    "#     print(f.read())\n",
    "\n",
    "# # Die Nebenbedingungen ausgeben als pandas DataFrame\n",
    "# constr_df = pd.DataFrame([\n",
    "#     (c.ConstrName, c.Pi, c.Slack, c.RHS) for c in m1.getConstrs()],\n",
    "#     columns=[\"Name\", \"Schattenpreis\", \"Slack\", \"RHS\"]\n",
    "# )\n",
    "# constr_df"
   ]
  }
 ],
 "metadata": {
  "kernelspec": {
   "display_name": "opt2025-de",
   "language": "python",
   "name": "python3"
  },
  "language_info": {
   "codemirror_mode": {
    "name": "ipython",
    "version": 3
   },
   "file_extension": ".py",
   "mimetype": "text/x-python",
   "name": "python",
   "nbconvert_exporter": "python",
   "pygments_lexer": "ipython3",
   "version": "3.11.11"
  }
 },
 "nbformat": 4,
 "nbformat_minor": 5
}
