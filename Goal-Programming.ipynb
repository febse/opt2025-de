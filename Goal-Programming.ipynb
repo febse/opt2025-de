{
 "cells": [
  {
   "cell_type": "markdown",
   "metadata": {},
   "source": [
    "Fairville ist eine Kleinstadt mit zirka 20,000 Einwohnern. Die jährliche Steuerbemessungsgrundlage\n",
    "für Grundbesitz beträgt 550 Mio. USD. Die jährlichen Steuerbemessungsgrundlagen für Lebensmittel und Medikamente sowie für den allgemeinen Verkauf belaufen sich auf 35 Mio. USD bzw. 55 Mio. USD. Der jährliche lokale Benzinverbrauch\n",
    "wird auf 7.5 Millionen Gallonen geschätzt. Der Stadtrat möchte die Steuersätze auf der Grundlage von vier\n",
    "Hauptzielen entwickeln:\n",
    "\n",
    "1. Die Steuereinnahmen müssen mindestens 16 Millionen Dollar betragen, um die finanziellen Verpflichtungen der Stadt zu erfüllen.\n",
    "2. Die Steuern auf Lebensmittel und Arzneimittel dürfen 10 % aller eingenommenen Steuern nicht übersteigen.\n",
    "3. Die allgemeinen Verkaufssteuern dürfen 20 % aller eingenommenen Steuern nicht überschreiten.\n",
    "4. Die Benzinsteuer darf 2 Cent pro Gallone nicht überschreiten.\n"
   ]
  },
  {
   "cell_type": "code",
   "execution_count": 42,
   "metadata": {},
   "outputs": [
    {
     "name": "stdout",
     "output_type": "stream",
     "text": [
      "Note: you may need to restart the kernel to use updated packages.\n"
     ]
    }
   ],
   "source": [
    "%pip install --quiet gurobipy\n",
    "import pandas as pd\n",
    "import gurobipy as gp\n",
    "from gurobipy import GRB"
   ]
  },
  {
   "cell_type": "code",
   "execution_count": 43,
   "metadata": {},
   "outputs": [
    {
     "name": "stdout",
     "output_type": "stream",
     "text": [
      "Gurobi Optimizer version 12.0.1 build v12.0.1rc0 (win64 - Windows 11.0 (26100.2))\n",
      "\n",
      "CPU model: Intel(R) Core(TM) Ultra 5 125U, instruction set [SSE2|AVX|AVX2]\n",
      "Thread count: 12 physical cores, 14 logical processors, using up to 14 threads\n",
      "\n",
      "Optimize a model with 7 rows, 2 columns and 10 nonzeros\n",
      "Model fingerprint: 0x9a3b66b8\n",
      "Coefficient statistics:\n",
      "  Matrix range     [1e+00, 2e+00]\n",
      "  Objective range  [1e+00, 1e+00]\n",
      "  Bounds range     [0e+00, 0e+00]\n",
      "  RHS range        [5e-01, 2e+01]\n",
      "Presolve removed 5 rows and 0 columns\n",
      "Presolve time: 0.01s\n",
      "\n",
      "Solved in 0 iterations and 0.01 seconds (0.00 work units)\n",
      "Infeasible model\n",
      "No optimal solution found\n",
      "Model is infeasible\n"
     ]
    }
   ],
   "source": [
    "minf = gp.Model(\"minf\")\n",
    "\n",
    "# Create variables\n",
    "\n",
    "x = minf.addVar(vtype=GRB.CONTINUOUS, name=\"x\")\n",
    "y = minf.addVar(vtype=GRB.CONTINUOUS, name=\"y\")\n",
    "\n",
    "# Set objective function\n",
    "minf.setObjective(x + y, GRB.MINIMIZE)\n",
    "\n",
    "# Add constraints\n",
    "minf.addConstr(x + y >= 20, \"c0\")\n",
    "minf.addConstr(2 * x - y <= 1, \"c1\")\n",
    "minf.addConstr(x <= 2, \"c2\")\n",
    "minf.addConstr(y <= 5, \"c3\")\n",
    "minf.addConstr(x >= 1, \"c4\")\n",
    "minf.addConstr(y >= 0.5, \"c5\")\n",
    "minf.addConstr(-x + y <= 10, \"c6\")\n",
    "\n",
    "# Optimize model\n",
    "minf.optimize()\n",
    "\n",
    "# Print the model status\n",
    "\n",
    "if minf.status == GRB.OPTIMAL:\n",
    "    print(\"Optimal solution found\")\n",
    "    print(f\"x: {x.X}\")\n",
    "    print(f\"y: {y.X}\")\n",
    "    print(f\"Objective value: {minf.ObjVal}\")\n",
    "else:\n",
    "    print(\"No optimal solution found\")\n",
    "    if minf.status == GRB.INFEASIBLE:\n",
    "        print(\"Model is infeasible\")\n",
    "    elif minf.status == GRB.UNBOUNDED:\n",
    "        print(\"Model is unbounded\")\n",
    "    else:\n",
    "        print(f\"Model status: {minf.status}\")\n"
   ]
  },
  {
   "cell_type": "code",
   "execution_count": 44,
   "metadata": {},
   "outputs": [
    {
     "name": "stdout",
     "output_type": "stream",
     "text": [
      "Gurobi Optimizer version 12.0.1 build v12.0.1rc0 (win64 - Windows 11.0 (26100.2))\n",
      "\n",
      "CPU model: Intel(R) Core(TM) Ultra 5 125U, instruction set [SSE2|AVX|AVX2]\n",
      "Thread count: 12 physical cores, 14 logical processors, using up to 14 threads\n",
      "\n",
      "Iteration    Objective       Primal Inf.    Dual Inf.      Time\n",
      "       0    0.0000000e+00   2.150000e+01   0.000000e+00      0s\n",
      "\n",
      "IIS computed: 3 constraints and 0 bounds\n",
      "IIS runtime: 0.00 seconds (0.00 work units)\n",
      "\\ Model minf_copy\n",
      "\\ LP format - for model browsing. Use MPS format to capture full model detail.\n",
      "Minimize\n",
      "\n",
      "Subject To\n",
      "c0: x + y >= 20\n",
      "c2: x <= 2\n",
      "c3: y <= 5\n",
      "Bounds\n",
      "x free\n",
      "y free\n",
      "End\n"
     ]
    }
   ],
   "source": [
    "minf.computeIIS()\n",
    "minf.write(\"model.ilp\")\n",
    "\n",
    "with open(\"model.ilp\", \"r\") as f:\n",
    "    lines = f.readlines()\n",
    "    for line in lines:\n",
    "        print(line.strip())\n"
   ]
  },
  {
   "cell_type": "code",
   "execution_count": 45,
   "metadata": {},
   "outputs": [
    {
     "name": "stdout",
     "output_type": "stream",
     "text": [
      "Gurobi Optimizer version 12.0.1 build v12.0.1rc0 (win64 - Windows 11.0 (26100.2))\n",
      "\n",
      "CPU model: Intel(R) Core(TM) Ultra 5 125U, instruction set [SSE2|AVX|AVX2]\n",
      "Thread count: 12 physical cores, 14 logical processors, using up to 14 threads\n",
      "\n",
      "Gurobi Optimizer version 12.0.1 build v12.0.1rc0 (win64 - Windows 11.0 (26100.2))\n",
      "\n",
      "CPU model: Intel(R) Core(TM) Ultra 5 125U, instruction set [SSE2|AVX|AVX2]\n",
      "Thread count: 12 physical cores, 14 logical processors, using up to 14 threads\n",
      "\n",
      "Optimize a model with 7 rows, 9 columns and 17 nonzeros\n",
      "Coefficient statistics:\n",
      "  Matrix range     [1e+00, 2e+00]\n",
      "  Objective range  [1e+00, 1e+00]\n",
      "  Bounds range     [0e+00, 0e+00]\n",
      "  RHS range        [5e-01, 2e+01]\n",
      "LP warm-start: use basis\n",
      "\n",
      "Iteration    Objective       Primal Inf.    Dual Inf.      Time\n",
      "       0    0.0000000e+00   1.900000e+01   0.000000e+00      0s\n",
      "       2    1.3000000e+01   0.000000e+00   0.000000e+00      0s\n",
      "\n",
      "Solved in 2 iterations and 0.02 seconds (0.00 work units)\n",
      "Optimal objective  1.300000000e+01\n",
      "\\ Model minf\n",
      "\\ LP format - for model browsing. Use MPS format to capture full model detail.\n",
      "Minimize\n",
      "  ArtP_c0 + ArtN_c1 + ArtN_c2 + ArtN_c3 + ArtP_c4 + ArtP_c5 + ArtN_c6\n",
      "Subject To\n",
      " c0: x + y + ArtP_c0 >= 20\n",
      " c1: 2 x - y - ArtN_c1 <= 1\n",
      " c2: x - ArtN_c2 <= 2\n",
      " c3: y - ArtN_c3 <= 5\n",
      " c4: x + ArtP_c4 >= 1\n",
      " c5: y + ArtP_c5 >= 0.5\n",
      " c6: - x + y - ArtN_c6 <= 10\n",
      "Bounds\n",
      "End\n",
      "\n"
     ]
    }
   ],
   "source": [
    "minf.feasRelaxS(relaxobjtype=0, minrelax=False, vrelax=False, crelax=1)\n",
    "minf.optimize()\n",
    "\n",
    "minf.write(\"model_relaxed.lp\")\n",
    "\n",
    "with open(\"model_relaxed.lp\", \"r\") as f:\n",
    "    print(f.read())"
   ]
  },
  {
   "cell_type": "code",
   "execution_count": 14,
   "metadata": {},
   "outputs": [
    {
     "name": "stdout",
     "output_type": "stream",
     "text": [
      "Gurobi Optimizer version 12.0.1 build v12.0.1rc0 (win64 - Windows 11.0 (26100.2))\n",
      "\n",
      "CPU model: Intel(R) Core(TM) Ultra 5 125U, instruction set [SSE2|AVX|AVX2]\n",
      "Thread count: 12 physical cores, 14 logical processors, using up to 14 threads\n",
      "\n",
      "Optimize a model with 4 rows, 4 columns and 13 nonzeros\n",
      "Model fingerprint: 0xe141fcfe\n",
      "Coefficient statistics:\n",
      "  Matrix range     [8e-04, 6e+02]\n",
      "  Objective range  [1e+00, 1e+00]\n",
      "  Bounds range     [0e+00, 0e+00]\n",
      "  RHS range        [1e-02, 2e+01]\n",
      "Presolve removed 3 rows and 1 columns\n",
      "Presolve time: 0.01s\n",
      "\n",
      "Solved in 0 iterations and 0.01 seconds (0.00 work units)\n",
      "Infeasible or unbounded model\n"
     ]
    }
   ],
   "source": [
    "# Create a new model\n",
    "\n",
    "m = gp.Model(\"Tax planning\")\n",
    "\n",
    "# Create variables\n",
    "\n",
    "x_re = m.addVar(name=\"RE\")\n",
    "x_fad = m.addVar(name=\"FAD\")\n",
    "x_sales = m.addVar(name=\"Sales\")\n",
    "x_gas = m.addVar(name=\"Gasoline\")\n",
    "\n",
    "# Einnahmen\n",
    "\n",
    "revenue = 550 * x_re + 35 * x_fad + 55 * x_sales + 0.75 * x_gas\n",
    "\n",
    "# Add constraints\n",
    "\n",
    "m.addConstr(revenue >= 16, \"Min Revenue\")\n",
    "m.addConstr(35 * x_fad <= 0.001 * revenue, \"Food and drugs constraint\")\n",
    "m.addConstr(55 * x_sales <= 0.002 * revenue, \"Sales constraint\")\n",
    "m.addConstr(x_gas <= 0.01, \"Gasoline constraint\")\n",
    "\n",
    "# Zielfunktion\n",
    "\n",
    "m.setObjective(x_fad, GRB.MAXIMIZE)\n",
    "\n",
    "m.optimize()\n"
   ]
  },
  {
   "cell_type": "code",
   "execution_count": 8,
   "metadata": {},
   "outputs": [
    {
     "data": {
      "text/plain": [
       "3"
      ]
     },
     "execution_count": 8,
     "metadata": {},
     "output_type": "execute_result"
    }
   ],
   "source": [
    "GRB.INFEASIBLE"
   ]
  },
  {
   "cell_type": "code",
   "execution_count": 13,
   "metadata": {},
   "outputs": [
    {
     "data": {
      "text/plain": [
       "2"
      ]
     },
     "execution_count": 13,
     "metadata": {},
     "output_type": "execute_result"
    }
   ],
   "source": [
    "m.Status"
   ]
  },
  {
   "cell_type": "code",
   "execution_count": 10,
   "metadata": {},
   "outputs": [
    {
     "name": "stdout",
     "output_type": "stream",
     "text": [
      "Note: you may need to restart the kernel to use updated packages.\n",
      "Gurobi Optimizer version 12.0.1 build v12.0.1rc0 (win64 - Windows 11.0 (26100.2))\n",
      "\n",
      "CPU model: Intel(R) Core(TM) Ultra 5 125U, instruction set [SSE2|AVX|AVX2]\n",
      "Thread count: 12 physical cores, 14 logical processors, using up to 14 threads\n",
      "\n",
      "Optimize a model with 4 rows, 12 columns and 21 nonzeros\n",
      "Model fingerprint: 0x699e1766\n",
      "Coefficient statistics:\n",
      "  Matrix range     [8e-02, 6e+02]\n",
      "  Objective range  [1e+00, 1e+00]\n",
      "  Bounds range     [0e+00, 0e+00]\n",
      "  RHS range        [2e+00, 2e+01]\n",
      "Presolve removed 4 rows and 12 columns\n",
      "Presolve time: 0.00s\n",
      "Presolve: All rows and columns removed\n",
      "Iteration    Objective       Primal Inf.    Dual Inf.      Time\n",
      "       0    0.0000000e+00   0.000000e+00   0.000000e+00      0s\n",
      "\n",
      "Solved in 0 iterations and 0.00 seconds (0.00 work units)\n",
      "Optimal objective  0.000000000e+00\n"
     ]
    }
   ],
   "source": [
    "%pip install --quiet gurobipy\n",
    "import pandas as pd\n",
    "import gurobipy as gp\n",
    "from gurobipy import GRB\n",
    "\n",
    "# Create a new model\n",
    "\n",
    "m1 = gp.Model(\"Tax planning\")\n",
    "\n",
    "# Create variables\n",
    "\n",
    "x_re = m1.addVar(name=\"RE\")\n",
    "x_fad = m1.addVar(name=\"FAD\")\n",
    "x_sales = m1.addVar(name=\"Sales\")\n",
    "x_gas = m1.addVar(name=\"Gasoline\")\n",
    "\n",
    "revenue = 550 * x_re + 35 * x_fad + 55 * x_sales + 0.75 * x_gas\n",
    "\n",
    "# Add constraints\n",
    "\n",
    "rev_p = m1.addVar(name=\"revenue_plus\")\n",
    "rev_n = m1.addVar(name=\"revenue_minus\")\n",
    "\n",
    "fad_p = m1.addVar(name=\"food_plus\")\n",
    "fad_n = m1.addVar(name=\"food_minus\")\n",
    "\n",
    "\n",
    "sales_p = m1.addVar(name=\"sales_plus\")\n",
    "sales_n = m1.addVar(name=\"sales_minus\")\n",
    "\n",
    "gas_p = m1.addVar(name=\"gas_plus\")\n",
    "gas_n = m1.addVar(name=\"gas_minus\")\n",
    "\n",
    "m1.addConstr(revenue + rev_p - rev_n == 16, \"Min Revenue\")\n",
    "m1.addConstr(35 * x_fad - 0.1 * revenue + fad_p - fad_n == 0, \"Food and drugs constraint\")\n",
    "m1.addConstr(55 * x_sales - 0.2 * revenue + sales_p - sales_n == 0, \"Sales constraint\")\n",
    "m1.addConstr(x_gas + gas_p - gas_n == 2, \"Gasoline constraint\")\n",
    "\n",
    "m1.setObjective(rev_n + fad_n + sales_n + gas_n, GRB.MINIMIZE)\n",
    "\n",
    "m1.optimize()\n"
   ]
  },
  {
   "cell_type": "code",
   "execution_count": 11,
   "metadata": {},
   "outputs": [
    {
     "name": "stdout",
     "output_type": "stream",
     "text": [
      "Note: you may need to restart the kernel to use updated packages.\n",
      "\\ Model Tax planning\n",
      "\\ LP format - for model browsing. Use MPS format to capture full model detail.\n",
      "Minimize multi-objectives\n",
      "  Revenue: Priority=0 Weight=1 AbsTol=1e-06 RelTol=0\n",
      "   550 RE + 35 FAD + 55 Sales + 0.75 Gasoline - 16 Constant0\n",
      "  FAD: Priority=0 Weight=1 AbsTol=1e-06 RelTol=0\n",
      "   - 55 RE + 31.5 FAD - 5.5 Sales - 0.075 Gasoline\n",
      "  Sales: Priority=0 Weight=1 AbsTol=1e-06 RelTol=0\n",
      "   - 110 RE - 7 FAD + 44 Sales - 0.15 Gasoline\n",
      "  Gasoline: Priority=0 Weight=-1 AbsTol=1e-06 RelTol=0\n",
      "   Gasoline - 2 Constant3\n",
      "Subject To\n",
      "Bounds\n",
      " Constant0 = 1\n",
      " Constant3 = 1\n",
      "End\n",
      "\n",
      "Gurobi Optimizer version 12.0.1 build v12.0.1rc0 (win64 - Windows 11.0 (26100.2))\n",
      "\n",
      "CPU model: Intel(R) Core(TM) Ultra 5 125U, instruction set [SSE2|AVX|AVX2]\n",
      "Thread count: 12 physical cores, 14 logical processors, using up to 14 threads\n",
      "\n",
      "Optimize a model with 0 rows, 4 columns and 0 nonzeros\n",
      "Model fingerprint: 0x8c6be8c3\n",
      "Variable types: 4 continuous, 0 integer (0 binary)\n",
      "Coefficient statistics:\n",
      "  Matrix range     [0e+00, 0e+00]\n",
      "  Objective range  [8e-02, 6e+02]\n",
      "  Bounds range     [0e+00, 0e+00]\n",
      "  RHS range        [0e+00, 0e+00]\n",
      "\n",
      "---------------------------------------------------------------------------\n",
      "Multi-objectives: starting optimization with 4 objectives (1 combined)...\n",
      "---------------------------------------------------------------------------\n",
      "\n",
      "Multi-objectives: optimize objective 1 (weighted) ...\n",
      "---------------------------------------------------------------------------\n",
      "\n",
      "Optimize a model with 0 rows, 4 columns and 0 nonzeros\n",
      "Model fingerprint: 0xc8556b89\n",
      "Coefficient statistics:\n",
      "  Matrix range     [0e+00, 0e+00]\n",
      "  Objective range  [5e-01, 4e+02]\n",
      "  Bounds range     [0e+00, 0e+00]\n",
      "  RHS range        [0e+00, 0e+00]\n",
      "Presolve removed 0 rows and 3 columns\n",
      "Presolve time: 0.02s\n",
      "\n",
      "Solved in 0 iterations and 0.02 seconds (0.00 work units)\n",
      "Unbounded model\n",
      "\n",
      "---------------------------------------------------------------------------\n",
      "Multi-objectives: stopped in 0.02 seconds (0.00 work units)\n",
      "Model is unbounded for some objective\n",
      "\n"
     ]
    }
   ],
   "source": [
    "%pip install --quiet gurobipy\n",
    "import pandas as pd\n",
    "import gurobipy as gp\n",
    "from gurobipy import GRB\n",
    "\n",
    "# Create a new model\n",
    "\n",
    "m2 = gp.Model(\"Tax planning\")\n",
    "\n",
    "# Create variables\n",
    "\n",
    "x_re = m2.addVar(name=\"RE\")\n",
    "x_fad = m2.addVar(name=\"FAD\")\n",
    "x_sales = m2.addVar(name=\"Sales\")\n",
    "x_gas = m2.addVar(name=\"Gasoline\")\n",
    "\n",
    "revenue = 550 * x_re + 35 * x_fad + 55 * x_sales + 0.75 * x_gas\n",
    "\n",
    "m2.setObjectiveN(revenue - 16, index=0, weight=1, name=\"Revenue\")\n",
    "m2.setObjectiveN(35 * x_fad - 0.1 * revenue, index=1, weight=1, name=\"FAD\")\n",
    "m2.setObjectiveN(55 * x_sales - 0.2 * revenue, index=2, weight=1, name=\"Sales\")\n",
    "m2.setObjectiveN(x_gas - 2, index=3, weight=-1, name=\"Gasoline\")\n",
    "\n",
    "m2.write(\"tax_planning.lp\")\n",
    "\n",
    "with open(\"tax_planning.lp\", \"r\") as file:\n",
    "    content = file.read()\n",
    "    print(content)\n",
    "\n",
    "m2.optimize()\n"
   ]
  },
  {
   "cell_type": "code",
   "execution_count": null,
   "metadata": {},
   "outputs": [],
   "source": []
  }
 ],
 "metadata": {
  "kernelspec": {
   "display_name": "Python 3",
   "language": "python",
   "name": "python3"
  },
  "language_info": {
   "codemirror_mode": {
    "name": "ipython",
    "version": 3
   },
   "file_extension": ".py",
   "mimetype": "text/x-python",
   "name": "python",
   "nbconvert_exporter": "python",
   "pygments_lexer": "ipython3",
   "version": "3.11.11"
  }
 },
 "nbformat": 4,
 "nbformat_minor": 2
}
