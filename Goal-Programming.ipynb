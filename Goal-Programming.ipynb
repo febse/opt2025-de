{
 "cells": [
  {
   "cell_type": "markdown",
   "metadata": {},
   "source": [
    "Fairville ist eine Kleinstadt mit zirka 20,000 Einwohnern. Die jährliche Steuerbemessungsgrundlage\n",
    "für Grundbesitz beträgt 550 Mio. $. Die jährlichen Steuerbemessungsgrundlagen für Lebensmittel und Medikamente sowie für den allgemeinen Verkauf belaufen sich auf 35 Mio. $ bzw. 55 Mio. $. Der jährliche lokale Benzinverbrauch\n",
    "wird auf 7.5 Millionen Gallonen geschätzt. Der Stadtrat möchte die Steuersätze auf der Grundlage von vier\n",
    "Hauptzielen entwickeln:\n",
    "\n",
    "1. Die Steuereinnahmen müssen mindestens 16 Millionen Dollar betragen, um die finanziellen Verpflichtungen der Stadt zu erfüllen.\n",
    "2. Die Steuern auf Lebensmittel und Arzneimittel dürfen 10 % aller eingenommenen Steuern nicht übersteigen.\n",
    "3. Die allgemeinen Verkaufssteuern dürfen 20 % aller eingenommenen Steuern nicht überschreiten.\n",
    "4. Die Benzinsteuer darf 2 Cent pro Gallone nicht überschreiten.\n"
   ]
  },
  {
   "cell_type": "code",
   "execution_count": 5,
   "metadata": {},
   "outputs": [
    {
     "name": "stdout",
     "output_type": "stream",
     "text": [
      "Note: you may need to restart the kernel to use updated packages.\n",
      "Gurobi Optimizer version 12.0.1 build v12.0.1rc0 (win64 - Windows 11.0 (26100.2))\n",
      "\n",
      "CPU model: Intel(R) Core(TM) Ultra 5 125U, instruction set [SSE2|AVX|AVX2]\n",
      "Thread count: 12 physical cores, 14 logical processors, using up to 14 threads\n",
      "\n",
      "Optimize a model with 4 rows, 4 columns and 13 nonzeros\n",
      "Model fingerprint: 0xc3ec53e9\n",
      "Coefficient statistics:\n",
      "  Matrix range     [8e-02, 6e+02]\n",
      "  Objective range  [8e-01, 6e+02]\n",
      "  Bounds range     [0e+00, 0e+00]\n",
      "  RHS range        [2e+00, 2e+01]\n",
      "Presolve time: 0.00s\n",
      "\n",
      "Solved in 0 iterations and 0.00 seconds (0.00 work units)\n",
      "Infeasible or unbounded model\n"
     ]
    }
   ],
   "source": [
    "%pip install --quiet gurobipy\n",
    "import pandas as pd\n",
    "import gurobipy as gp\n",
    "from gurobipy import GRB\n",
    "\n",
    "# Create a new model\n",
    "\n",
    "m = gp.Model(\"Tax planning\")\n",
    "\n",
    "# Create variables\n",
    "\n",
    "x_re = m.addVar(name=\"RE\")\n",
    "x_fad = m.addVar(name=\"FAD\")\n",
    "x_sales = m.addVar(name=\"Sales\")\n",
    "x_gas = m.addVar(name=\"Gasoline\")\n",
    "\n",
    "# Set objective function\n",
    "\n",
    "revenue = 550 * x_re + 35 * x_fad + 55 * x_sales + 0.75 * x_gas\n",
    "\n",
    "m.setObjective(revenue, GRB.MAXIMIZE)\n",
    "\n",
    "# Add constraints\n",
    "\n",
    "m.addConstr(revenue >= 16, \"Min Revenue\")\n",
    "m.addConstr(35 * x_sales - 0.1 * revenue <= 0, \"Food and drugs constraint\")\n",
    "m.addConstr(55 * x_sales - 0.2 * revenue <= 0, \"Sales constraint\")\n",
    "m.addConstr(x_gas <= 2, \"Gasoline constraint\")\n",
    "\n",
    "m.optimize()\n"
   ]
  },
  {
   "cell_type": "code",
   "execution_count": null,
   "metadata": {},
   "outputs": [
    {
     "name": "stdout",
     "output_type": "stream",
     "text": [
      "Note: you may need to restart the kernel to use updated packages.\n",
      "Gurobi Optimizer version 12.0.1 build v12.0.1rc0 (win64 - Windows 11.0 (26100.2))\n",
      "\n",
      "CPU model: Intel(R) Core(TM) Ultra 5 125U, instruction set [SSE2|AVX|AVX2]\n",
      "Thread count: 12 physical cores, 14 logical processors, using up to 14 threads\n",
      "\n",
      "Optimize a model with 4 rows, 4 columns and 13 nonzeros\n",
      "Model fingerprint: 0xc3ec53e9\n",
      "Coefficient statistics:\n",
      "  Matrix range     [8e-02, 6e+02]\n",
      "  Objective range  [8e-01, 6e+02]\n",
      "  Bounds range     [0e+00, 0e+00]\n",
      "  RHS range        [2e+00, 2e+01]\n",
      "Presolve time: 0.01s\n",
      "\n",
      "Solved in 0 iterations and 0.01 seconds (0.00 work units)\n",
      "Infeasible or unbounded model\n"
     ]
    }
   ],
   "source": [
    "%pip install --quiet gurobipy\n",
    "import pandas as pd\n",
    "import gurobipy as gp\n",
    "from gurobipy import GRB\n",
    "\n",
    "# Create a new model\n",
    "\n",
    "m = gp.Model(\"Tax planning\")\n",
    "\n",
    "# Create variables\n",
    "\n",
    "x_re = m.addVar(name=\"RE\")\n",
    "x_fad = m.addVar(name=\"FAD\")\n",
    "x_sales = m.addVar(name=\"Sales\")\n",
    "x_gas = m.addVar(name=\"Gasoline\")\n",
    "\n",
    "# Set objective function\n",
    "\n",
    "revenue = 550 * x_re + 35 * x_fad + 55 * x_sales + 0.75 * x_gas\n",
    "\n",
    "m.setObjective(revenue, GRB.MAXIMIZE)\n",
    "\n",
    "# Add constraints\n",
    "\n",
    "m.addConstr(revenue >= 16, \"Min Revenue\")\n",
    "m.addConstr(35 * x_sales - 0.1 * revenue <= 0, \"Food and drugs constraint\")\n",
    "m.addConstr(55 * x_sales - 0.2 * revenue <= 0, \"Sales constraint\")\n",
    "m.addConstr(x_gas <= 2, \"Gasoline constraint\")\n",
    "\n",
    "m.optimize()\n"
   ]
  }
 ],
 "metadata": {
  "kernelspec": {
   "display_name": "Python 3",
   "language": "python",
   "name": "python3"
  },
  "language_info": {
   "codemirror_mode": {
    "name": "ipython",
    "version": 3
   },
   "file_extension": ".py",
   "mimetype": "text/x-python",
   "name": "python",
   "nbconvert_exporter": "python",
   "pygments_lexer": "ipython3",
   "version": "3.11.11"
  }
 },
 "nbformat": 4,
 "nbformat_minor": 2
}
